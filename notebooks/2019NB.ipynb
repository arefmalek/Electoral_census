{
 "cells": [
  {
   "cell_type": "code",
   "execution_count": 111,
   "metadata": {
    "cell_id": "00002-e651a27f-eb5d-4a3a-bd9c-7a7d76b96f59",
    "execution_millis": 387,
    "execution_start": 1605404580296,
    "output_cleared": false,
    "source_hash": "1d73f21b",
    "tags": []
   },
   "outputs": [
    {
     "data": {
      "application/vnd.deepnote.dataframe.v2+json": {
       "column_count": 209,
       "columns": [
        {
         "dtype": "object",
         "name": "Label",
         "stats": {
          "categories": [
           {
            "count": 1,
            "name": "Citizens 18 years and over"
           },
           {
            "count": 1,
            "name": "    AGE"
           },
           {
            "count": 33,
            "name": "33 others"
           }
          ],
          "nan_count": 0,
          "unique_count": 35
         }
        },
        {
         "dtype": "object",
         "name": "Alabama!!Total!!Estimate",
         "stats": {
          "categories": [
           {
            "count": 2,
            "name": "N"
           },
           {
            "count": 27,
            "name": "27 others"
           },
           {
            "count": 6,
            "name": "Missing"
           }
          ],
          "nan_count": 6,
          "unique_count": 28
         }
        },
        {
         "dtype": "object",
         "name": "Alabama!!Total!!Margin of Error",
         "stats": {
          "categories": [
           {
            "count": 2,
            "name": "N"
           },
           {
            "count": 27,
            "name": "27 others"
           },
           {
            "count": 6,
            "name": "Missing"
           }
          ],
          "nan_count": 6,
          "unique_count": 28
         }
        },
        {
         "dtype": "object",
         "name": "Alabama!!Percent!!Estimate",
         "stats": {
          "categories": [
           {
            "count": 3,
            "name": "(X)"
           },
           {
            "count": 26,
            "name": "24 others"
           },
           {
            "count": 6,
            "name": "Missing"
           }
          ],
          "nan_count": 6,
          "unique_count": 25
         }
        },
        {
         "dtype": "object",
         "name": "Alabama!!Percent!!Margin of Error",
         "stats": {
          "categories": [
           {
            "count": 10,
            "name": "±0.1"
           },
           {
            "count": 19,
            "name": "6 others"
           },
           {
            "count": 6,
            "name": "Missing"
           }
          ],
          "nan_count": 6,
          "unique_count": 7
         }
        },
        {
         "dtype": "object",
         "name": "Alaska!!Total!!Estimate",
         "stats": {
          "categories": [
           {
            "count": 1,
            "name": "533,151"
           },
           {
            "count": 28,
            "name": "28 others"
           },
           {
            "count": 6,
            "name": "Missing"
           }
          ],
          "nan_count": 6,
          "unique_count": 29
         }
        },
        {
         "dtype": "object",
         "name": "Alaska!!Total!!Margin of Error",
         "stats": {
          "categories": [
           {
            "count": 1,
            "name": "±2,609"
           },
           {
            "count": 28,
            "name": "28 others"
           },
           {
            "count": 6,
            "name": "Missing"
           }
          ],
          "nan_count": 6,
          "unique_count": 29
         }
        },
        {
         "dtype": "object",
         "name": "Alaska!!Percent!!Estimate",
         "stats": {
          "categories": [
           {
            "count": 3,
            "name": "(X)"
           },
           {
            "count": 26,
            "name": "25 others"
           },
           {
            "count": 6,
            "name": "Missing"
           }
          ],
          "nan_count": 6,
          "unique_count": 26
         }
        },
        {
         "dtype": "object",
         "name": "Alaska!!Percent!!Margin of Error",
         "stats": {
          "categories": [
           {
            "count": 4,
            "name": "±0.5"
           },
           {
            "count": 25,
            "name": "11 others"
           },
           {
            "count": 6,
            "name": "Missing"
           }
          ],
          "nan_count": 6,
          "unique_count": 12
         }
        },
        {
         "dtype": "object",
         "name": "Arizona!!Total!!Estimate",
         "stats": {
          "categories": [
           {
            "count": 1,
            "name": "5,137,474"
           },
           {
            "count": 28,
            "name": "28 others"
           },
           {
            "count": 6,
            "name": "Missing"
           }
          ],
          "nan_count": 6,
          "unique_count": 29
         }
        },
        {
         "dtype": "object",
         "name": "Arizona!!Total!!Margin of Error",
         "stats": {
          "categories": [
           {
            "count": 1,
            "name": "±16,329"
           },
           {
            "count": 28,
            "name": "28 others"
           },
           {
            "count": 6,
            "name": "Missing"
           }
          ],
          "nan_count": 6,
          "unique_count": 29
         }
        },
        {
         "dtype": "object",
         "name": "Arizona!!Percent!!Estimate",
         "stats": {
          "categories": [
           {
            "count": 3,
            "name": "(X)"
           },
           {
            "count": 26,
            "name": "26 others"
           },
           {
            "count": 6,
            "name": "Missing"
           }
          ],
          "nan_count": 6,
          "unique_count": 27
         }
        },
        {
         "dtype": "object",
         "name": "Arizona!!Percent!!Margin of Error",
         "stats": {
          "categories": [
           {
            "count": 10,
            "name": "±0.1"
           },
           {
            "count": 19,
            "name": "4 others"
           },
           {
            "count": 6,
            "name": "Missing"
           }
          ],
          "nan_count": 6,
          "unique_count": 5
         }
        },
        {
         "dtype": "object",
         "name": "Arkansas!!Total!!Estimate",
         "stats": {
          "categories": [
           {
            "count": 1,
            "name": "2,235,415"
           },
           {
            "count": 28,
            "name": "28 others"
           },
           {
            "count": 6,
            "name": "Missing"
           }
          ],
          "nan_count": 6,
          "unique_count": 29
         }
        },
        {
         "dtype": "object",
         "name": "Arkansas!!Total!!Margin of Error",
         "stats": {
          "categories": [
           {
            "count": 1,
            "name": "±5,844"
           },
           {
            "count": 28,
            "name": "28 others"
           },
           {
            "count": 6,
            "name": "Missing"
           }
          ],
          "nan_count": 6,
          "unique_count": 29
         }
        },
        {
         "dtype": "object",
         "name": "Arkansas!!Percent!!Estimate",
         "stats": {
          "categories": [
           {
            "count": 3,
            "name": "(X)"
           },
           {
            "count": 26,
            "name": "26 others"
           },
           {
            "count": 6,
            "name": "Missing"
           }
          ],
          "nan_count": 6,
          "unique_count": 27
         }
        },
        {
         "dtype": "object",
         "name": "Arkansas!!Percent!!Margin of Error",
         "stats": {
          "categories": [
           {
            "count": 12,
            "name": "±0.2"
           },
           {
            "count": 17,
            "name": "6 others"
           },
           {
            "count": 6,
            "name": "Missing"
           }
          ],
          "nan_count": 6,
          "unique_count": 7
         }
        },
        {
         "dtype": "object",
         "name": "California!!Total!!Estimate",
         "stats": {
          "categories": [
           {
            "count": 1,
            "name": "26,032,160"
           },
           {
            "count": 28,
            "name": "28 others"
           },
           {
            "count": 6,
            "name": "Missing"
           }
          ],
          "nan_count": 6,
          "unique_count": 29
         }
        },
        {
         "dtype": "object",
         "name": "California!!Total!!Margin of Error",
         "stats": {
          "categories": [
           {
            "count": 1,
            "name": "±48,109"
           },
           {
            "count": 28,
            "name": "28 others"
           },
           {
            "count": 6,
            "name": "Missing"
           }
          ],
          "nan_count": 6,
          "unique_count": 29
         }
        },
        {
         "dtype": "object",
         "name": "California!!Percent!!Estimate",
         "stats": {
          "categories": [
           {
            "count": 3,
            "name": "(X)"
           },
           {
            "count": 26,
            "name": "26 others"
           },
           {
            "count": 6,
            "name": "Missing"
           }
          ],
          "nan_count": 6,
          "unique_count": 27
         }
        },
        {
         "dtype": "object",
         "name": "California!!Percent!!Margin of Error",
         "stats": {
          "categories": [
           {
            "count": 24,
            "name": "±0.1"
           },
           {
            "count": 5,
            "name": "2 others"
           },
           {
            "count": 6,
            "name": "Missing"
           }
          ],
          "nan_count": 6,
          "unique_count": 3
         }
        },
        {
         "dtype": "object",
         "name": "Colorado!!Total!!Estimate",
         "stats": {
          "categories": [
           {
            "count": 1,
            "name": "4,244,210"
           },
           {
            "count": 28,
            "name": "28 others"
           },
           {
            "count": 6,
            "name": "Missing"
           }
          ],
          "nan_count": 6,
          "unique_count": 29
         }
        },
        {
         "dtype": "object",
         "name": "Colorado!!Total!!Margin of Error",
         "stats": {
          "categories": [
           {
            "count": 2,
            "name": "±5,628"
           },
           {
            "count": 27,
            "name": "27 others"
           },
           {
            "count": 6,
            "name": "Missing"
           }
          ],
          "nan_count": 6,
          "unique_count": 28
         }
        },
        {
         "dtype": "object",
         "name": "Colorado!!Percent!!Estimate",
         "stats": {
          "categories": [
           {
            "count": 3,
            "name": "(X)"
           },
           {
            "count": 26,
            "name": "25 others"
           },
           {
            "count": 6,
            "name": "Missing"
           }
          ],
          "nan_count": 6,
          "unique_count": 26
         }
        },
        {
         "dtype": "object",
         "name": "Colorado!!Percent!!Margin of Error",
         "stats": {
          "categories": [
           {
            "count": 11,
            "name": "±0.1"
           },
           {
            "count": 18,
            "name": "5 others"
           },
           {
            "count": 6,
            "name": "Missing"
           }
          ],
          "nan_count": 6,
          "unique_count": 6
         }
        },
        {
         "dtype": "object",
         "name": "Connecticut!!Total!!Estimate",
         "stats": {
          "categories": [
           {
            "count": 2,
            "name": "N"
           },
           {
            "count": 27,
            "name": "27 others"
           },
           {
            "count": 6,
            "name": "Missing"
           }
          ],
          "nan_count": 6,
          "unique_count": 28
         }
        },
        {
         "dtype": "object",
         "name": "Connecticut!!Total!!Margin of Error",
         "stats": {
          "categories": [
           {
            "count": 2,
            "name": "N"
           },
           {
            "count": 27,
            "name": "27 others"
           },
           {
            "count": 6,
            "name": "Missing"
           }
          ],
          "nan_count": 6,
          "unique_count": 28
         }
        },
        {
         "dtype": "object",
         "name": "Connecticut!!Percent!!Estimate",
         "stats": {
          "categories": [
           {
            "count": 3,
            "name": "(X)"
           },
           {
            "count": 26,
            "name": "25 others"
           },
           {
            "count": 6,
            "name": "Missing"
           }
          ],
          "nan_count": 6,
          "unique_count": 26
         }
        },
        {
         "dtype": "object",
         "name": "Connecticut!!Percent!!Margin of Error",
         "stats": {
          "categories": [
           {
            "count": 9,
            "name": "±0.2"
           },
           {
            "count": 20,
            "name": "6 others"
           },
           {
            "count": 6,
            "name": "Missing"
           }
          ],
          "nan_count": 6,
          "unique_count": 7
         }
        },
        {
         "dtype": "object",
         "name": "Delaware!!Total!!Estimate",
         "stats": {
          "categories": [
           {
            "count": 2,
            "name": "N"
           },
           {
            "count": 27,
            "name": "27 others"
           },
           {
            "count": 6,
            "name": "Missing"
           }
          ],
          "nan_count": 6,
          "unique_count": 28
         }
        },
        {
         "dtype": "object",
         "name": "Delaware!!Total!!Margin of Error",
         "stats": {
          "categories": [
           {
            "count": 2,
            "name": "N"
           },
           {
            "count": 27,
            "name": "27 others"
           },
           {
            "count": 6,
            "name": "Missing"
           }
          ],
          "nan_count": 6,
          "unique_count": 28
         }
        },
        {
         "dtype": "object",
         "name": "Delaware!!Percent!!Estimate",
         "stats": {
          "categories": [
           {
            "count": 3,
            "name": "(X)"
           },
           {
            "count": 26,
            "name": "25 others"
           },
           {
            "count": 6,
            "name": "Missing"
           }
          ],
          "nan_count": 6,
          "unique_count": 26
         }
        },
        {
         "dtype": "object",
         "name": "Delaware!!Percent!!Margin of Error",
         "stats": {
          "categories": [
           {
            "count": 8,
            "name": "±0.3"
           },
           {
            "count": 21,
            "name": "9 others"
           },
           {
            "count": 6,
            "name": "Missing"
           }
          ],
          "nan_count": 6,
          "unique_count": 10
         }
        },
        {
         "dtype": "object",
         "name": "District of Columbia!!Total!!Estimate",
         "stats": {
          "categories": [
           {
            "count": 2,
            "name": "N"
           },
           {
            "count": 27,
            "name": "27 others"
           },
           {
            "count": 6,
            "name": "Missing"
           }
          ],
          "nan_count": 6,
          "unique_count": 28
         }
        },
        {
         "dtype": "object",
         "name": "District of Columbia!!Total!!Margin of Error",
         "stats": {
          "categories": [
           {
            "count": 2,
            "name": "N"
           },
           {
            "count": 27,
            "name": "27 others"
           },
           {
            "count": 6,
            "name": "Missing"
           }
          ],
          "nan_count": 6,
          "unique_count": 28
         }
        },
        {
         "dtype": "object",
         "name": "District of Columbia!!Percent!!Estimate",
         "stats": {
          "categories": [
           {
            "count": 3,
            "name": "(X)"
           },
           {
            "count": 26,
            "name": "25 others"
           },
           {
            "count": 6,
            "name": "Missing"
           }
          ],
          "nan_count": 6,
          "unique_count": 26
         }
        },
        {
         "dtype": "object",
         "name": "District of Columbia!!Percent!!Margin of Error",
         "stats": {
          "categories": [
           {
            "count": 5,
            "name": "±0.4"
           },
           {
            "count": 24,
            "name": "10 others"
           },
           {
            "count": 6,
            "name": "Missing"
           }
          ],
          "nan_count": 6,
          "unique_count": 11
         }
        },
        {
         "dtype": "object",
         "name": "Florida!!Total!!Estimate",
         "stats": {
          "categories": [
           {
            "count": 1,
            "name": "15,507,315"
           },
           {
            "count": 28,
            "name": "28 others"
           },
           {
            "count": 6,
            "name": "Missing"
           }
          ],
          "nan_count": 6,
          "unique_count": 29
         }
        },
        {
         "dtype": "object",
         "name": "Florida!!Total!!Margin of Error",
         "stats": {
          "categories": [
           {
            "count": 1,
            "name": "±36,626"
           },
           {
            "count": 28,
            "name": "28 others"
           },
           {
            "count": 6,
            "name": "Missing"
           }
          ],
          "nan_count": 6,
          "unique_count": 29
         }
        },
        {
         "dtype": "object",
         "name": "Florida!!Percent!!Estimate",
         "stats": {
          "categories": [
           {
            "count": 3,
            "name": "(X)"
           },
           {
            "count": 26,
            "name": "26 others"
           },
           {
            "count": 6,
            "name": "Missing"
           }
          ],
          "nan_count": 6,
          "unique_count": 27
         }
        },
        {
         "dtype": "object",
         "name": "Florida!!Percent!!Margin of Error",
         "stats": {
          "categories": [
           {
            "count": 17,
            "name": "±0.1"
           },
           {
            "count": 12,
            "name": "3 others"
           },
           {
            "count": 6,
            "name": "Missing"
           }
          ],
          "nan_count": 6,
          "unique_count": 4
         }
        },
        {
         "dtype": "object",
         "name": "Georgia!!Total!!Estimate",
         "stats": {
          "categories": [
           {
            "count": 1,
            "name": "7,581,837"
           },
           {
            "count": 28,
            "name": "28 others"
           },
           {
            "count": 6,
            "name": "Missing"
           }
          ],
          "nan_count": 6,
          "unique_count": 29
         }
        },
        {
         "dtype": "object",
         "name": "Georgia!!Total!!Margin of Error",
         "stats": {
          "categories": [
           {
            "count": 1,
            "name": "±15,544"
           },
           {
            "count": 28,
            "name": "28 others"
           },
           {
            "count": 6,
            "name": "Missing"
           }
          ],
          "nan_count": 6,
          "unique_count": 29
         }
        },
        {
         "dtype": "object",
         "name": "Georgia!!Percent!!Estimate",
         "stats": {
          "categories": [
           {
            "count": 3,
            "name": "(X)"
           },
           {
            "count": 26,
            "name": "26 others"
           },
           {
            "count": 6,
            "name": "Missing"
           }
          ],
          "nan_count": 6,
          "unique_count": 27
         }
        },
        {
         "dtype": "object",
         "name": "Georgia!!Percent!!Margin of Error",
         "stats": {
          "categories": [
           {
            "count": 14,
            "name": "±0.1"
           },
           {
            "count": 15,
            "name": "5 others"
           },
           {
            "count": 6,
            "name": "Missing"
           }
          ],
          "nan_count": 6,
          "unique_count": 6
         }
        },
        {
         "dtype": "object",
         "name": "Hawaii!!Total!!Estimate",
         "stats": {
          "categories": [
           {
            "count": 1,
            "name": "1,014,035"
           },
           {
            "count": 28,
            "name": "28 others"
           },
           {
            "count": 6,
            "name": "Missing"
           }
          ],
          "nan_count": 6,
          "unique_count": 29
         }
        },
        {
         "dtype": "object",
         "name": "Hawaii!!Total!!Margin of Error",
         "stats": {
          "categories": [
           {
            "count": 1,
            "name": "±7,799"
           },
           {
            "count": 28,
            "name": "28 others"
           },
           {
            "count": 6,
            "name": "Missing"
           }
          ],
          "nan_count": 6,
          "unique_count": 29
         }
        },
        {
         "dtype": "object",
         "name": "Hawaii!!Percent!!Estimate",
         "stats": {
          "categories": [
           {
            "count": 3,
            "name": "(X)"
           },
           {
            "count": 26,
            "name": "26 others"
           },
           {
            "count": 6,
            "name": "Missing"
           }
          ],
          "nan_count": 6,
          "unique_count": 27
         }
        },
        {
         "dtype": "object",
         "name": "Hawaii!!Percent!!Margin of Error",
         "stats": {
          "categories": [
           {
            "count": 9,
            "name": "±0.3"
           },
           {
            "count": 20,
            "name": "9 others"
           },
           {
            "count": 6,
            "name": "Missing"
           }
          ],
          "nan_count": 6,
          "unique_count": 10
         }
        },
        {
         "dtype": "object",
         "name": "Idaho!!Total!!Estimate",
         "stats": {
          "categories": [
           {
            "count": 2,
            "name": "N"
           },
           {
            "count": 27,
            "name": "27 others"
           },
           {
            "count": 6,
            "name": "Missing"
           }
          ],
          "nan_count": 6,
          "unique_count": 28
         }
        },
        {
         "dtype": "object",
         "name": "Idaho!!Total!!Margin of Error",
         "stats": {
          "categories": [
           {
            "count": 2,
            "name": "N"
           },
           {
            "count": 27,
            "name": "27 others"
           },
           {
            "count": 6,
            "name": "Missing"
           }
          ],
          "nan_count": 6,
          "unique_count": 28
         }
        },
        {
         "dtype": "object",
         "name": "Idaho!!Percent!!Estimate",
         "stats": {
          "categories": [
           {
            "count": 3,
            "name": "(X)"
           },
           {
            "count": 26,
            "name": "25 others"
           },
           {
            "count": 6,
            "name": "Missing"
           }
          ],
          "nan_count": 6,
          "unique_count": 26
         }
        },
        {
         "dtype": "object",
         "name": "Idaho!!Percent!!Margin of Error",
         "stats": {
          "categories": [
           {
            "count": 6,
            "name": "±0.2"
           },
           {
            "count": 23,
            "name": "9 others"
           },
           {
            "count": 6,
            "name": "Missing"
           }
          ],
          "nan_count": 6,
          "unique_count": 10
         }
        },
        {
         "dtype": "object",
         "name": "Illinois!!Total!!Estimate",
         "stats": {
          "categories": [
           {
            "count": 1,
            "name": "9,088,036"
           },
           {
            "count": 28,
            "name": "28 others"
           },
           {
            "count": 6,
            "name": "Missing"
           }
          ],
          "nan_count": 6,
          "unique_count": 29
         }
        },
        {
         "dtype": "object",
         "name": "Illinois!!Total!!Margin of Error",
         "stats": {
          "categories": [
           {
            "count": 1,
            "name": "±18,556"
           },
           {
            "count": 28,
            "name": "28 others"
           },
           {
            "count": 6,
            "name": "Missing"
           }
          ],
          "nan_count": 6,
          "unique_count": 29
         }
        },
        {
         "dtype": "object",
         "name": "Illinois!!Percent!!Estimate",
         "stats": {
          "categories": [
           {
            "count": 3,
            "name": "(X)"
           },
           {
            "count": 26,
            "name": "26 others"
           },
           {
            "count": 6,
            "name": "Missing"
           }
          ],
          "nan_count": 6,
          "unique_count": 27
         }
        },
        {
         "dtype": "object",
         "name": "Illinois!!Percent!!Margin of Error",
         "stats": {
          "categories": [
           {
            "count": 15,
            "name": "±0.1"
           },
           {
            "count": 14,
            "name": "4 others"
           },
           {
            "count": 6,
            "name": "Missing"
           }
          ],
          "nan_count": 6,
          "unique_count": 5
         }
        },
        {
         "dtype": "object",
         "name": "Indiana!!Total!!Estimate",
         "stats": {
          "categories": [
           {
            "count": 1,
            "name": "4,978,356"
           },
           {
            "count": 28,
            "name": "28 others"
           },
           {
            "count": 6,
            "name": "Missing"
           }
          ],
          "nan_count": 6,
          "unique_count": 29
         }
        },
        {
         "dtype": "object",
         "name": "Indiana!!Total!!Margin of Error",
         "stats": {
          "categories": [
           {
            "count": 1,
            "name": "±9,818"
           },
           {
            "count": 28,
            "name": "28 others"
           },
           {
            "count": 6,
            "name": "Missing"
           }
          ],
          "nan_count": 6,
          "unique_count": 29
         }
        },
        {
         "dtype": "object",
         "name": "Indiana!!Percent!!Estimate",
         "stats": {
          "categories": [
           {
            "count": 3,
            "name": "(X)"
           },
           {
            "count": 26,
            "name": "25 others"
           },
           {
            "count": 6,
            "name": "Missing"
           }
          ],
          "nan_count": 6,
          "unique_count": 26
         }
        },
        {
         "dtype": "object",
         "name": "Indiana!!Percent!!Margin of Error",
         "stats": {
          "categories": [
           {
            "count": 12,
            "name": "±0.1"
           },
           {
            "count": 17,
            "name": "5 others"
           },
           {
            "count": 6,
            "name": "Missing"
           }
          ],
          "nan_count": 6,
          "unique_count": 6
         }
        },
        {
         "dtype": "object",
         "name": "Iowa!!Total!!Estimate",
         "stats": {
          "categories": [
           {
            "count": 1,
            "name": "2,348,787"
           },
           {
            "count": 28,
            "name": "28 others"
           },
           {
            "count": 6,
            "name": "Missing"
           }
          ],
          "nan_count": 6,
          "unique_count": 29
         }
        },
        {
         "dtype": "object",
         "name": "Iowa!!Total!!Margin of Error",
         "stats": {
          "categories": [
           {
            "count": 2,
            "name": "±3,847"
           },
           {
            "count": 27,
            "name": "27 others"
           },
           {
            "count": 6,
            "name": "Missing"
           }
          ],
          "nan_count": 6,
          "unique_count": 28
         }
        },
        {
         "dtype": "object",
         "name": "Iowa!!Percent!!Estimate",
         "stats": {
          "categories": [
           {
            "count": 3,
            "name": "(X)"
           },
           {
            "count": 26,
            "name": "25 others"
           },
           {
            "count": 6,
            "name": "Missing"
           }
          ],
          "nan_count": 6,
          "unique_count": 26
         }
        },
        {
         "dtype": "object",
         "name": "Iowa!!Percent!!Margin of Error",
         "stats": {
          "categories": [
           {
            "count": 9,
            "name": "±0.1"
           },
           {
            "count": 20,
            "name": "6 others"
           },
           {
            "count": 6,
            "name": "Missing"
           }
          ],
          "nan_count": 6,
          "unique_count": 7
         }
        },
        {
         "dtype": "object",
         "name": "Kansas!!Total!!Estimate",
         "stats": {
          "categories": [
           {
            "count": 2,
            "name": "N"
           },
           {
            "count": 27,
            "name": "27 others"
           },
           {
            "count": 6,
            "name": "Missing"
           }
          ],
          "nan_count": 6,
          "unique_count": 28
         }
        },
        {
         "dtype": "object",
         "name": "Kansas!!Total!!Margin of Error",
         "stats": {
          "categories": [
           {
            "count": 2,
            "name": "N"
           },
           {
            "count": 27,
            "name": "27 others"
           },
           {
            "count": 6,
            "name": "Missing"
           }
          ],
          "nan_count": 6,
          "unique_count": 28
         }
        },
        {
         "dtype": "object",
         "name": "Kansas!!Percent!!Estimate",
         "stats": {
          "categories": [
           {
            "count": 3,
            "name": "(X)"
           },
           {
            "count": 26,
            "name": "25 others"
           },
           {
            "count": 6,
            "name": "Missing"
           }
          ],
          "nan_count": 6,
          "unique_count": 26
         }
        },
        {
         "dtype": "object",
         "name": "Kansas!!Percent!!Margin of Error",
         "stats": {
          "categories": [
           {
            "count": 10,
            "name": "±0.2"
           },
           {
            "count": 19,
            "name": "7 others"
           },
           {
            "count": 6,
            "name": "Missing"
           }
          ],
          "nan_count": 6,
          "unique_count": 8
         }
        },
        {
         "dtype": "object",
         "name": "Kentucky!!Total!!Estimate",
         "stats": {
          "categories": [
           {
            "count": 2,
            "name": "N"
           },
           {
            "count": 27,
            "name": "27 others"
           },
           {
            "count": 6,
            "name": "Missing"
           }
          ],
          "nan_count": 6,
          "unique_count": 28
         }
        },
        {
         "dtype": "object",
         "name": "Kentucky!!Total!!Margin of Error",
         "stats": {
          "categories": [
           {
            "count": 2,
            "name": "±4,526"
           },
           {
            "count": 27,
            "name": "26 others"
           },
           {
            "count": 6,
            "name": "Missing"
           }
          ],
          "nan_count": 6,
          "unique_count": 27
         }
        },
        {
         "dtype": "object",
         "name": "Kentucky!!Percent!!Estimate",
         "stats": {
          "categories": [
           {
            "count": 3,
            "name": "(X)"
           },
           {
            "count": 26,
            "name": "24 others"
           },
           {
            "count": 6,
            "name": "Missing"
           }
          ],
          "nan_count": 6,
          "unique_count": 25
         }
        },
        {
         "dtype": "object",
         "name": "Kentucky!!Percent!!Margin of Error",
         "stats": {
          "categories": [
           {
            "count": 12,
            "name": "±0.1"
           },
           {
            "count": 17,
            "name": "5 others"
           },
           {
            "count": 6,
            "name": "Missing"
           }
          ],
          "nan_count": 6,
          "unique_count": 6
         }
        },
        {
         "dtype": "object",
         "name": "Louisiana!!Total!!Estimate",
         "stats": {
          "categories": [
           {
            "count": 2,
            "name": "N"
           },
           {
            "count": 27,
            "name": "27 others"
           },
           {
            "count": 6,
            "name": "Missing"
           }
          ],
          "nan_count": 6,
          "unique_count": 28
         }
        },
        {
         "dtype": "object",
         "name": "Louisiana!!Total!!Margin of Error",
         "stats": {
          "categories": [
           {
            "count": 2,
            "name": "N"
           },
           {
            "count": 27,
            "name": "27 others"
           },
           {
            "count": 6,
            "name": "Missing"
           }
          ],
          "nan_count": 6,
          "unique_count": 28
         }
        },
        {
         "dtype": "object",
         "name": "Louisiana!!Percent!!Estimate",
         "stats": {
          "categories": [
           {
            "count": 3,
            "name": "(X)"
           },
           {
            "count": 26,
            "name": "24 others"
           },
           {
            "count": 6,
            "name": "Missing"
           }
          ],
          "nan_count": 6,
          "unique_count": 25
         }
        },
        {
         "dtype": "object",
         "name": "Louisiana!!Percent!!Margin of Error",
         "stats": {
          "categories": [
           {
            "count": 8,
            "name": "±0.2"
           },
           {
            "count": 21,
            "name": "7 others"
           },
           {
            "count": 6,
            "name": "Missing"
           }
          ],
          "nan_count": 6,
          "unique_count": 8
         }
        },
        {
         "dtype": "object",
         "name": "Maine!!Total!!Estimate",
         "stats": {
          "categories": [
           {
            "count": 2,
            "name": "N"
           },
           {
            "count": 27,
            "name": "27 others"
           },
           {
            "count": 6,
            "name": "Missing"
           }
          ],
          "nan_count": 6,
          "unique_count": 28
         }
        },
        {
         "dtype": "object",
         "name": "Maine!!Total!!Margin of Error",
         "stats": {
          "categories": [
           {
            "count": 2,
            "name": "N"
           },
           {
            "count": 27,
            "name": "27 others"
           },
           {
            "count": 6,
            "name": "Missing"
           }
          ],
          "nan_count": 6,
          "unique_count": 28
         }
        },
        {
         "dtype": "object",
         "name": "Maine!!Percent!!Estimate",
         "stats": {
          "categories": [
           {
            "count": 3,
            "name": "(X)"
           },
           {
            "count": 26,
            "name": "24 others"
           },
           {
            "count": 6,
            "name": "Missing"
           }
          ],
          "nan_count": 6,
          "unique_count": 25
         }
        },
        {
         "dtype": "object",
         "name": "Maine!!Percent!!Margin of Error",
         "stats": {
          "categories": [
           {
            "count": 10,
            "name": "±0.2"
           },
           {
            "count": 19,
            "name": "8 others"
           },
           {
            "count": 6,
            "name": "Missing"
           }
          ],
          "nan_count": 6,
          "unique_count": 9
         }
        },
        {
         "dtype": "object",
         "name": "Maryland!!Total!!Estimate",
         "stats": {
          "categories": [
           {
            "count": 1,
            "name": "4,316,921"
           },
           {
            "count": 28,
            "name": "28 others"
           },
           {
            "count": 6,
            "name": "Missing"
           }
          ],
          "nan_count": 6,
          "unique_count": 29
         }
        },
        {
         "dtype": "object",
         "name": "Maryland!!Total!!Margin of Error",
         "stats": {
          "categories": [
           {
            "count": 1,
            "name": "±12,812"
           },
           {
            "count": 28,
            "name": "28 others"
           },
           {
            "count": 6,
            "name": "Missing"
           }
          ],
          "nan_count": 6,
          "unique_count": 29
         }
        },
        {
         "dtype": "object",
         "name": "Maryland!!Percent!!Estimate",
         "stats": {
          "categories": [
           {
            "count": 3,
            "name": "(X)"
           },
           {
            "count": 26,
            "name": "26 others"
           },
           {
            "count": 6,
            "name": "Missing"
           }
          ],
          "nan_count": 6,
          "unique_count": 27
         }
        },
        {
         "dtype": "object",
         "name": "Maryland!!Percent!!Margin of Error",
         "stats": {
          "categories": [
           {
            "count": 9,
            "name": "±0.2"
           },
           {
            "count": 20,
            "name": "5 others"
           },
           {
            "count": 6,
            "name": "Missing"
           }
          ],
          "nan_count": 6,
          "unique_count": 6
         }
        },
        {
         "dtype": "object",
         "name": "Massachusetts!!Total!!Estimate",
         "stats": {
          "categories": [
           {
            "count": 1,
            "name": "5,057,192"
           },
           {
            "count": 28,
            "name": "28 others"
           },
           {
            "count": 6,
            "name": "Missing"
           }
          ],
          "nan_count": 6,
          "unique_count": 29
         }
        },
        {
         "dtype": "object",
         "name": "Massachusetts!!Total!!Margin of Error",
         "stats": {
          "categories": [
           {
            "count": 1,
            "name": "±15,957"
           },
           {
            "count": 28,
            "name": "28 others"
           },
           {
            "count": 6,
            "name": "Missing"
           }
          ],
          "nan_count": 6,
          "unique_count": 29
         }
        },
        {
         "dtype": "object",
         "name": "Massachusetts!!Percent!!Estimate",
         "stats": {
          "categories": [
           {
            "count": 3,
            "name": "(X)"
           },
           {
            "count": 26,
            "name": "25 others"
           },
           {
            "count": 6,
            "name": "Missing"
           }
          ],
          "nan_count": 6,
          "unique_count": 26
         }
        },
        {
         "dtype": "object",
         "name": "Massachusetts!!Percent!!Margin of Error",
         "stats": {
          "categories": [
           {
            "count": 11,
            "name": "±0.1"
           },
           {
            "count": 18,
            "name": "5 others"
           },
           {
            "count": 6,
            "name": "Missing"
           }
          ],
          "nan_count": 6,
          "unique_count": 6
         }
        },
        {
         "dtype": "object",
         "name": "Michigan!!Total!!Estimate",
         "stats": {
          "categories": [
           {
            "count": 1,
            "name": "7,562,464"
           },
           {
            "count": 28,
            "name": "28 others"
           },
           {
            "count": 6,
            "name": "Missing"
           }
          ],
          "nan_count": 6,
          "unique_count": 29
         }
        },
        {
         "dtype": "object",
         "name": "Michigan!!Total!!Margin of Error",
         "stats": {
          "categories": [
           {
            "count": 1,
            "name": "±9,607"
           },
           {
            "count": 28,
            "name": "28 others"
           },
           {
            "count": 6,
            "name": "Missing"
           }
          ],
          "nan_count": 6,
          "unique_count": 29
         }
        },
        {
         "dtype": "object",
         "name": "Michigan!!Percent!!Estimate",
         "stats": {
          "categories": [
           {
            "count": 3,
            "name": "(X)"
           },
           {
            "count": 26,
            "name": "25 others"
           },
           {
            "count": 6,
            "name": "Missing"
           }
          ],
          "nan_count": 6,
          "unique_count": 26
         }
        },
        {
         "dtype": "object",
         "name": "Michigan!!Percent!!Margin of Error",
         "stats": {
          "categories": [
           {
            "count": 18,
            "name": "±0.1"
           },
           {
            "count": 11,
            "name": "3 others"
           },
           {
            "count": 6,
            "name": "Missing"
           }
          ],
          "nan_count": 6,
          "unique_count": 4
         }
        },
        {
         "dtype": "object",
         "name": "Minnesota!!Total!!Estimate",
         "stats": {
          "categories": [
           {
            "count": 1,
            "name": "4,157,556"
           },
           {
            "count": 28,
            "name": "28 others"
           },
           {
            "count": 6,
            "name": "Missing"
           }
          ],
          "nan_count": 6,
          "unique_count": 29
         }
        },
        {
         "dtype": "object",
         "name": "Minnesota!!Total!!Margin of Error",
         "stats": {
          "categories": [
           {
            "count": 1,
            "name": "±10,015"
           },
           {
            "count": 28,
            "name": "28 others"
           },
           {
            "count": 6,
            "name": "Missing"
           }
          ],
          "nan_count": 6,
          "unique_count": 29
         }
        },
        {
         "dtype": "object",
         "name": "Minnesota!!Percent!!Estimate",
         "stats": {
          "categories": [
           {
            "count": 3,
            "name": "(X)"
           },
           {
            "count": 26,
            "name": "26 others"
           },
           {
            "count": 6,
            "name": "Missing"
           }
          ],
          "nan_count": 6,
          "unique_count": 27
         }
        },
        {
         "dtype": "object",
         "name": "Minnesota!!Percent!!Margin of Error",
         "stats": {
          "categories": [
           {
            "count": 14,
            "name": "±0.1"
           },
           {
            "count": 15,
            "name": "5 others"
           },
           {
            "count": 6,
            "name": "Missing"
           }
          ],
          "nan_count": 6,
          "unique_count": 6
         }
        },
        {
         "dtype": "object",
         "name": "Mississippi!!Total!!Estimate",
         "stats": {
          "categories": [
           {
            "count": 2,
            "name": "N"
           },
           {
            "count": 27,
            "name": "27 others"
           },
           {
            "count": 6,
            "name": "Missing"
           }
          ],
          "nan_count": 6,
          "unique_count": 28
         }
        },
        {
         "dtype": "object",
         "name": "Mississippi!!Total!!Margin of Error",
         "stats": {
          "categories": [
           {
            "count": 2,
            "name": "N"
           },
           {
            "count": 27,
            "name": "27 others"
           },
           {
            "count": 6,
            "name": "Missing"
           }
          ],
          "nan_count": 6,
          "unique_count": 28
         }
        },
        {
         "dtype": "object",
         "name": "Mississippi!!Percent!!Estimate",
         "stats": {
          "categories": [
           {
            "count": 3,
            "name": "(X)"
           },
           {
            "count": 26,
            "name": "25 others"
           },
           {
            "count": 6,
            "name": "Missing"
           }
          ],
          "nan_count": 6,
          "unique_count": 26
         }
        },
        {
         "dtype": "object",
         "name": "Mississippi!!Percent!!Margin of Error",
         "stats": {
          "categories": [
           {
            "count": 6,
            "name": "±0.2"
           },
           {
            "count": 23,
            "name": "7 others"
           },
           {
            "count": 6,
            "name": "Missing"
           }
          ],
          "nan_count": 6,
          "unique_count": 8
         }
        },
        {
         "dtype": "object",
         "name": "Missouri!!Total!!Estimate",
         "stats": {
          "categories": [
           {
            "count": 1,
            "name": "4,650,318"
           },
           {
            "count": 28,
            "name": "28 others"
           },
           {
            "count": 6,
            "name": "Missing"
           }
          ],
          "nan_count": 6,
          "unique_count": 29
         }
        },
        {
         "dtype": "object",
         "name": "Missouri!!Total!!Margin of Error",
         "stats": {
          "categories": [
           {
            "count": 1,
            "name": "±8,536"
           },
           {
            "count": 28,
            "name": "28 others"
           },
           {
            "count": 6,
            "name": "Missing"
           }
          ],
          "nan_count": 6,
          "unique_count": 29
         }
        },
        {
         "dtype": "object",
         "name": "Missouri!!Percent!!Estimate",
         "stats": {
          "categories": [
           {
            "count": 3,
            "name": "(X)"
           },
           {
            "count": 26,
            "name": "26 others"
           },
           {
            "count": 6,
            "name": "Missing"
           }
          ],
          "nan_count": 6,
          "unique_count": 27
         }
        },
        {
         "dtype": "object",
         "name": "Missouri!!Percent!!Margin of Error",
         "stats": {
          "categories": [
           {
            "count": 16,
            "name": "±0.1"
           },
           {
            "count": 13,
            "name": "4 others"
           },
           {
            "count": 6,
            "name": "Missing"
           }
          ],
          "nan_count": 6,
          "unique_count": 5
         }
        },
        {
         "dtype": "object",
         "name": "Montana!!Total!!Estimate",
         "stats": {
          "categories": [
           {
            "count": 5,
            "name": "N"
           },
           {
            "count": 24,
            "name": "24 others"
           },
           {
            "count": 6,
            "name": "Missing"
           }
          ],
          "nan_count": 6,
          "unique_count": 25
         }
        },
        {
         "dtype": "object",
         "name": "Montana!!Total!!Margin of Error",
         "stats": {
          "categories": [
           {
            "count": 5,
            "name": "N"
           },
           {
            "count": 24,
            "name": "24 others"
           },
           {
            "count": 6,
            "name": "Missing"
           }
          ],
          "nan_count": 6,
          "unique_count": 25
         }
        },
        {
         "dtype": "object",
         "name": "Montana!!Percent!!Estimate",
         "stats": {
          "categories": [
           {
            "count": 5,
            "name": "N"
           },
           {
            "count": 24,
            "name": "22 others"
           },
           {
            "count": 6,
            "name": "Missing"
           }
          ],
          "nan_count": 6,
          "unique_count": 23
         }
        },
        {
         "dtype": "object",
         "name": "Montana!!Percent!!Margin of Error",
         "stats": {
          "categories": [
           {
            "count": 7,
            "name": "±0.2"
           },
           {
            "count": 22,
            "name": "11 others"
           },
           {
            "count": 6,
            "name": "Missing"
           }
          ],
          "nan_count": 6,
          "unique_count": 12
         }
        },
        {
         "dtype": "object",
         "name": "Nebraska!!Total!!Estimate",
         "stats": {
          "categories": [
           {
            "count": 2,
            "name": "N"
           },
           {
            "count": 27,
            "name": "27 others"
           },
           {
            "count": 6,
            "name": "Missing"
           }
          ],
          "nan_count": 6,
          "unique_count": 28
         }
        },
        {
         "dtype": "object",
         "name": "Nebraska!!Total!!Margin of Error",
         "stats": {
          "categories": [
           {
            "count": 2,
            "name": "N"
           },
           {
            "count": 27,
            "name": "27 others"
           },
           {
            "count": 6,
            "name": "Missing"
           }
          ],
          "nan_count": 6,
          "unique_count": 28
         }
        },
        {
         "dtype": "object",
         "name": "Nebraska!!Percent!!Estimate",
         "stats": {
          "categories": [
           {
            "count": 3,
            "name": "(X)"
           },
           {
            "count": 26,
            "name": "25 others"
           },
           {
            "count": 6,
            "name": "Missing"
           }
          ],
          "nan_count": 6,
          "unique_count": 26
         }
        },
        {
         "dtype": "object",
         "name": "Nebraska!!Percent!!Margin of Error",
         "stats": {
          "categories": [
           {
            "count": 9,
            "name": "±0.2"
           },
           {
            "count": 20,
            "name": "7 others"
           },
           {
            "count": 6,
            "name": "Missing"
           }
          ],
          "nan_count": 6,
          "unique_count": 8
         }
        },
        {
         "dtype": "object",
         "name": "Nevada!!Total!!Estimate",
         "stats": {
          "categories": [
           {
            "count": 1,
            "name": "2,111,932"
           },
           {
            "count": 28,
            "name": "28 others"
           },
           {
            "count": 6,
            "name": "Missing"
           }
          ],
          "nan_count": 6,
          "unique_count": 29
         }
        },
        {
         "dtype": "object",
         "name": "Nevada!!Total!!Margin of Error",
         "stats": {
          "categories": [
           {
            "count": 1,
            "name": "±11,615"
           },
           {
            "count": 28,
            "name": "28 others"
           },
           {
            "count": 6,
            "name": "Missing"
           }
          ],
          "nan_count": 6,
          "unique_count": 29
         }
        },
        {
         "dtype": "object",
         "name": "Nevada!!Percent!!Estimate",
         "stats": {
          "categories": [
           {
            "count": 3,
            "name": "(X)"
           },
           {
            "count": 26,
            "name": "25 others"
           },
           {
            "count": 6,
            "name": "Missing"
           }
          ],
          "nan_count": 6,
          "unique_count": 26
         }
        },
        {
         "dtype": "object",
         "name": "Nevada!!Percent!!Margin of Error",
         "stats": {
          "categories": [
           {
            "count": 9,
            "name": "±0.2"
           },
           {
            "count": 20,
            "name": "6 others"
           },
           {
            "count": 6,
            "name": "Missing"
           }
          ],
          "nan_count": 6,
          "unique_count": 7
         }
        },
        {
         "dtype": "object",
         "name": "New Hampshire!!Total!!Estimate",
         "stats": {
          "categories": [
           {
            "count": 2,
            "name": "N"
           },
           {
            "count": 27,
            "name": "27 others"
           },
           {
            "count": 6,
            "name": "Missing"
           }
          ],
          "nan_count": 6,
          "unique_count": 28
         }
        },
        {
         "dtype": "object",
         "name": "New Hampshire!!Total!!Margin of Error",
         "stats": {
          "categories": [
           {
            "count": 2,
            "name": "N"
           },
           {
            "count": 27,
            "name": "27 others"
           },
           {
            "count": 6,
            "name": "Missing"
           }
          ],
          "nan_count": 6,
          "unique_count": 28
         }
        },
        {
         "dtype": "object",
         "name": "New Hampshire!!Percent!!Estimate",
         "stats": {
          "categories": [
           {
            "count": 3,
            "name": "(X)"
           },
           {
            "count": 26,
            "name": "23 others"
           },
           {
            "count": 6,
            "name": "Missing"
           }
          ],
          "nan_count": 6,
          "unique_count": 24
         }
        },
        {
         "dtype": "object",
         "name": "New Hampshire!!Percent!!Margin of Error",
         "stats": {
          "categories": [
           {
            "count": 11,
            "name": "±0.2"
           },
           {
            "count": 18,
            "name": "9 others"
           },
           {
            "count": 6,
            "name": "Missing"
           }
          ],
          "nan_count": 6,
          "unique_count": 10
         }
        },
        {
         "dtype": "object",
         "name": "New Jersey!!Total!!Estimate",
         "stats": {
          "categories": [
           {
            "count": 1,
            "name": "6,170,130"
           },
           {
            "count": 28,
            "name": "28 others"
           },
           {
            "count": 6,
            "name": "Missing"
           }
          ],
          "nan_count": 6,
          "unique_count": 29
         }
        },
        {
         "dtype": "object",
         "name": "New Jersey!!Total!!Margin of Error",
         "stats": {
          "categories": [
           {
            "count": 1,
            "name": "±19,781"
           },
           {
            "count": 28,
            "name": "28 others"
           },
           {
            "count": 6,
            "name": "Missing"
           }
          ],
          "nan_count": 6,
          "unique_count": 29
         }
        },
        {
         "dtype": "object",
         "name": "New Jersey!!Percent!!Estimate",
         "stats": {
          "categories": [
           {
            "count": 3,
            "name": "(X)"
           },
           {
            "count": 26,
            "name": "25 others"
           },
           {
            "count": 6,
            "name": "Missing"
           }
          ],
          "nan_count": 6,
          "unique_count": 26
         }
        },
        {
         "dtype": "object",
         "name": "New Jersey!!Percent!!Margin of Error",
         "stats": {
          "categories": [
           {
            "count": 10,
            "name": "±0.1"
           },
           {
            "count": 19,
            "name": "5 others"
           },
           {
            "count": 6,
            "name": "Missing"
           }
          ],
          "nan_count": 6,
          "unique_count": 6
         }
        },
        {
         "dtype": "object",
         "name": "New Mexico!!Total!!Estimate",
         "stats": {
          "categories": [
           {
            "count": 1,
            "name": "1,522,171"
           },
           {
            "count": 28,
            "name": "28 others"
           },
           {
            "count": 6,
            "name": "Missing"
           }
          ],
          "nan_count": 6,
          "unique_count": 29
         }
        },
        {
         "dtype": "object",
         "name": "New Mexico!!Total!!Margin of Error",
         "stats": {
          "categories": [
           {
            "count": 1,
            "name": "±8,220"
           },
           {
            "count": 28,
            "name": "28 others"
           },
           {
            "count": 6,
            "name": "Missing"
           }
          ],
          "nan_count": 6,
          "unique_count": 29
         }
        },
        {
         "dtype": "object",
         "name": "New Mexico!!Percent!!Estimate",
         "stats": {
          "categories": [
           {
            "count": 3,
            "name": "(X)"
           },
           {
            "count": 26,
            "name": "26 others"
           },
           {
            "count": 6,
            "name": "Missing"
           }
          ],
          "nan_count": 6,
          "unique_count": 27
         }
        },
        {
         "dtype": "object",
         "name": "New Mexico!!Percent!!Margin of Error",
         "stats": {
          "categories": [
           {
            "count": 7,
            "name": "±0.2"
           },
           {
            "count": 22,
            "name": "8 others"
           },
           {
            "count": 6,
            "name": "Missing"
           }
          ],
          "nan_count": 6,
          "unique_count": 9
         }
        },
        {
         "dtype": "object",
         "name": "New York!!Total!!Estimate",
         "stats": {
          "categories": [
           {
            "count": 1,
            "name": "13,810,830"
           },
           {
            "count": 28,
            "name": "28 others"
           },
           {
            "count": 6,
            "name": "Missing"
           }
          ],
          "nan_count": 6,
          "unique_count": 29
         }
        },
        {
         "dtype": "object",
         "name": "New York!!Total!!Margin of Error",
         "stats": {
          "categories": [
           {
            "count": 1,
            "name": "±26,483"
           },
           {
            "count": 28,
            "name": "28 others"
           },
           {
            "count": 6,
            "name": "Missing"
           }
          ],
          "nan_count": 6,
          "unique_count": 29
         }
        },
        {
         "dtype": "object",
         "name": "New York!!Percent!!Estimate",
         "stats": {
          "categories": [
           {
            "count": 3,
            "name": "(X)"
           },
           {
            "count": 26,
            "name": "25 others"
           },
           {
            "count": 6,
            "name": "Missing"
           }
          ],
          "nan_count": 6,
          "unique_count": 26
         }
        },
        {
         "dtype": "object",
         "name": "New York!!Percent!!Margin of Error",
         "stats": {
          "categories": [
           {
            "count": 18,
            "name": "±0.1"
           },
           {
            "count": 11,
            "name": "2 others"
           },
           {
            "count": 6,
            "name": "Missing"
           }
          ],
          "nan_count": 6,
          "unique_count": 3
         }
        },
        {
         "dtype": "object",
         "name": "North Carolina!!Total!!Estimate",
         "stats": {
          "categories": [
           {
            "count": 1,
            "name": "7,729,644"
           },
           {
            "count": 28,
            "name": "28 others"
           },
           {
            "count": 6,
            "name": "Missing"
           }
          ],
          "nan_count": 6,
          "unique_count": 29
         }
        },
        {
         "dtype": "object",
         "name": "North Carolina!!Total!!Margin of Error",
         "stats": {
          "categories": [
           {
            "count": 1,
            "name": "±14,955"
           },
           {
            "count": 28,
            "name": "28 others"
           },
           {
            "count": 6,
            "name": "Missing"
           }
          ],
          "nan_count": 6,
          "unique_count": 29
         }
        },
        {
         "dtype": "object",
         "name": "North Carolina!!Percent!!Estimate",
         "stats": {
          "categories": [
           {
            "count": 3,
            "name": "(X)"
           },
           {
            "count": 26,
            "name": "26 others"
           },
           {
            "count": 6,
            "name": "Missing"
           }
          ],
          "nan_count": 6,
          "unique_count": 27
         }
        },
        {
         "dtype": "object",
         "name": "North Carolina!!Percent!!Margin of Error",
         "stats": {
          "categories": [
           {
            "count": 15,
            "name": "±0.1"
           },
           {
            "count": 14,
            "name": "5 others"
           },
           {
            "count": 6,
            "name": "Missing"
           }
          ],
          "nan_count": 6,
          "unique_count": 6
         }
        },
        {
         "dtype": "object",
         "name": "North Dakota!!Total!!Estimate",
         "stats": {
          "categories": [
           {
            "count": 4,
            "name": "N"
           },
           {
            "count": 25,
            "name": "25 others"
           },
           {
            "count": 6,
            "name": "Missing"
           }
          ],
          "nan_count": 6,
          "unique_count": 26
         }
        },
        {
         "dtype": "object",
         "name": "North Dakota!!Total!!Margin of Error",
         "stats": {
          "categories": [
           {
            "count": 4,
            "name": "N"
           },
           {
            "count": 25,
            "name": "24 others"
           },
           {
            "count": 6,
            "name": "Missing"
           }
          ],
          "nan_count": 6,
          "unique_count": 25
         }
        },
        {
         "dtype": "object",
         "name": "North Dakota!!Percent!!Estimate",
         "stats": {
          "categories": [
           {
            "count": 4,
            "name": "N"
           },
           {
            "count": 25,
            "name": "23 others"
           },
           {
            "count": 6,
            "name": "Missing"
           }
          ],
          "nan_count": 6,
          "unique_count": 24
         }
        },
        {
         "dtype": "object",
         "name": "North Dakota!!Percent!!Margin of Error",
         "stats": {
          "categories": [
           {
            "count": 6,
            "name": "±0.3"
           },
           {
            "count": 23,
            "name": "10 others"
           },
           {
            "count": 6,
            "name": "Missing"
           }
          ],
          "nan_count": 6,
          "unique_count": 11
         }
        },
        {
         "dtype": "object",
         "name": "Ohio!!Total!!Estimate",
         "stats": {
          "categories": [
           {
            "count": 2,
            "name": "N"
           },
           {
            "count": 27,
            "name": "27 others"
           },
           {
            "count": 6,
            "name": "Missing"
           }
          ],
          "nan_count": 6,
          "unique_count": 28
         }
        },
        {
         "dtype": "object",
         "name": "Ohio!!Total!!Margin of Error",
         "stats": {
          "categories": [
           {
            "count": 2,
            "name": "N"
           },
           {
            "count": 27,
            "name": "27 others"
           },
           {
            "count": 6,
            "name": "Missing"
           }
          ],
          "nan_count": 6,
          "unique_count": 28
         }
        },
        {
         "dtype": "object",
         "name": "Ohio!!Percent!!Estimate",
         "stats": {
          "categories": [
           {
            "count": 3,
            "name": "(X)"
           },
           {
            "count": 26,
            "name": "25 others"
           },
           {
            "count": 6,
            "name": "Missing"
           }
          ],
          "nan_count": 6,
          "unique_count": 26
         }
        },
        {
         "dtype": "object",
         "name": "Ohio!!Percent!!Margin of Error",
         "stats": {
          "categories": [
           {
            "count": 16,
            "name": "±0.1"
           },
           {
            "count": 13,
            "name": "4 others"
           },
           {
            "count": 6,
            "name": "Missing"
           }
          ],
          "nan_count": 6,
          "unique_count": 5
         }
        },
        {
         "dtype": "object",
         "name": "Oklahoma!!Total!!Estimate",
         "stats": {
          "categories": [
           {
            "count": 1,
            "name": "2,875,059"
           },
           {
            "count": 28,
            "name": "28 others"
           },
           {
            "count": 6,
            "name": "Missing"
           }
          ],
          "nan_count": 6,
          "unique_count": 29
         }
        },
        {
         "dtype": "object",
         "name": "Oklahoma!!Total!!Margin of Error",
         "stats": {
          "categories": [
           {
            "count": 1,
            "name": "±6,555"
           },
           {
            "count": 28,
            "name": "28 others"
           },
           {
            "count": 6,
            "name": "Missing"
           }
          ],
          "nan_count": 6,
          "unique_count": 29
         }
        },
        {
         "dtype": "object",
         "name": "Oklahoma!!Percent!!Estimate",
         "stats": {
          "categories": [
           {
            "count": 3,
            "name": "(X)"
           },
           {
            "count": 26,
            "name": "24 others"
           },
           {
            "count": 6,
            "name": "Missing"
           }
          ],
          "nan_count": 6,
          "unique_count": 25
         }
        },
        {
         "dtype": "object",
         "name": "Oklahoma!!Percent!!Margin of Error",
         "stats": {
          "categories": [
           {
            "count": 10,
            "name": "±0.1"
           },
           {
            "count": 19,
            "name": "5 others"
           },
           {
            "count": 6,
            "name": "Missing"
           }
          ],
          "nan_count": 6,
          "unique_count": 6
         }
        },
        {
         "dtype": "object",
         "name": "Oregon!!Total!!Estimate",
         "stats": {
          "categories": [
           {
            "count": 1,
            "name": "3,162,204"
           },
           {
            "count": 28,
            "name": "28 others"
           },
           {
            "count": 6,
            "name": "Missing"
           }
          ],
          "nan_count": 6,
          "unique_count": 29
         }
        },
        {
         "dtype": "object",
         "name": "Oregon!!Total!!Margin of Error",
         "stats": {
          "categories": [
           {
            "count": 1,
            "name": "±8,902"
           },
           {
            "count": 28,
            "name": "28 others"
           },
           {
            "count": 6,
            "name": "Missing"
           }
          ],
          "nan_count": 6,
          "unique_count": 29
         }
        },
        {
         "dtype": "object",
         "name": "Oregon!!Percent!!Estimate",
         "stats": {
          "categories": [
           {
            "count": 3,
            "name": "(X)"
           },
           {
            "count": 26,
            "name": "26 others"
           },
           {
            "count": 6,
            "name": "Missing"
           }
          ],
          "nan_count": 6,
          "unique_count": 27
         }
        },
        {
         "dtype": "object",
         "name": "Oregon!!Percent!!Margin of Error",
         "stats": {
          "categories": [
           {
            "count": 10,
            "name": "±0.2"
           },
           {
            "count": 19,
            "name": "5 others"
           },
           {
            "count": 6,
            "name": "Missing"
           }
          ],
          "nan_count": 6,
          "unique_count": 6
         }
        },
        {
         "dtype": "object",
         "name": "Pennsylvania!!Total!!Estimate",
         "stats": {
          "categories": [
           {
            "count": 1,
            "name": "9,810,201"
           },
           {
            "count": 28,
            "name": "28 others"
           },
           {
            "count": 6,
            "name": "Missing"
           }
          ],
          "nan_count": 6,
          "unique_count": 29
         }
        },
        {
         "dtype": "object",
         "name": "Pennsylvania!!Total!!Margin of Error",
         "stats": {
          "categories": [
           {
            "count": 1,
            "name": "±11,994"
           },
           {
            "count": 28,
            "name": "28 others"
           },
           {
            "count": 6,
            "name": "Missing"
           }
          ],
          "nan_count": 6,
          "unique_count": 29
         }
        },
        {
         "dtype": "object",
         "name": "Pennsylvania!!Percent!!Estimate",
         "stats": {
          "categories": [
           {
            "count": 3,
            "name": "(X)"
           },
           {
            "count": 26,
            "name": "26 others"
           },
           {
            "count": 6,
            "name": "Missing"
           }
          ],
          "nan_count": 6,
          "unique_count": 27
         }
        },
        {
         "dtype": "object",
         "name": "Pennsylvania!!Percent!!Margin of Error",
         "stats": {
          "categories": [
           {
            "count": 17,
            "name": "±0.1"
           },
           {
            "count": 12,
            "name": "4 others"
           },
           {
            "count": 6,
            "name": "Missing"
           }
          ],
          "nan_count": 6,
          "unique_count": 5
         }
        },
        {
         "dtype": "object",
         "name": "Rhode Island!!Total!!Estimate",
         "stats": {
          "categories": [
           {
            "count": 2,
            "name": "N"
           },
           {
            "count": 27,
            "name": "27 others"
           },
           {
            "count": 6,
            "name": "Missing"
           }
          ],
          "nan_count": 6,
          "unique_count": 28
         }
        },
        {
         "dtype": "object",
         "name": "Rhode Island!!Total!!Margin of Error",
         "stats": {
          "categories": [
           {
            "count": 2,
            "name": "N"
           },
           {
            "count": 27,
            "name": "27 others"
           },
           {
            "count": 6,
            "name": "Missing"
           }
          ],
          "nan_count": 6,
          "unique_count": 28
         }
        },
        {
         "dtype": "object",
         "name": "Rhode Island!!Percent!!Estimate",
         "stats": {
          "categories": [
           {
            "count": 3,
            "name": "(X)"
           },
           {
            "count": 26,
            "name": "25 others"
           },
           {
            "count": 6,
            "name": "Missing"
           }
          ],
          "nan_count": 6,
          "unique_count": 26
         }
        },
        {
         "dtype": "object",
         "name": "Rhode Island!!Percent!!Margin of Error",
         "stats": {
          "categories": [
           {
            "count": 5,
            "name": "±0.4"
           },
           {
            "count": 24,
            "name": "10 others"
           },
           {
            "count": 6,
            "name": "Missing"
           }
          ],
          "nan_count": 6,
          "unique_count": 11
         }
        },
        {
         "dtype": "object",
         "name": "South Carolina!!Total!!Estimate",
         "stats": {
          "categories": [
           {
            "count": 2,
            "name": "N"
           },
           {
            "count": 27,
            "name": "27 others"
           },
           {
            "count": 6,
            "name": "Missing"
           }
          ],
          "nan_count": 6,
          "unique_count": 28
         }
        },
        {
         "dtype": "object",
         "name": "South Carolina!!Total!!Margin of Error",
         "stats": {
          "categories": [
           {
            "count": 2,
            "name": "N"
           },
           {
            "count": 27,
            "name": "27 others"
           },
           {
            "count": 6,
            "name": "Missing"
           }
          ],
          "nan_count": 6,
          "unique_count": 28
         }
        },
        {
         "dtype": "object",
         "name": "South Carolina!!Percent!!Estimate",
         "stats": {
          "categories": [
           {
            "count": 3,
            "name": "(X)"
           },
           {
            "count": 26,
            "name": "25 others"
           },
           {
            "count": 6,
            "name": "Missing"
           }
          ],
          "nan_count": 6,
          "unique_count": 26
         }
        },
        {
         "dtype": "object",
         "name": "South Carolina!!Percent!!Margin of Error",
         "stats": {
          "categories": [
           {
            "count": 10,
            "name": "±0.1"
           },
           {
            "count": 19,
            "name": "5 others"
           },
           {
            "count": 6,
            "name": "Missing"
           }
          ],
          "nan_count": 6,
          "unique_count": 6
         }
        },
        {
         "dtype": "object",
         "name": "South Dakota!!Total!!Estimate",
         "stats": {
          "categories": [
           {
            "count": 3,
            "name": "N"
           },
           {
            "count": 26,
            "name": "26 others"
           },
           {
            "count": 6,
            "name": "Missing"
           }
          ],
          "nan_count": 6,
          "unique_count": 27
         }
        },
        {
         "dtype": "object",
         "name": "South Dakota!!Total!!Margin of Error",
         "stats": {
          "categories": [
           {
            "count": 3,
            "name": "N"
           },
           {
            "count": 26,
            "name": "26 others"
           },
           {
            "count": 6,
            "name": "Missing"
           }
          ],
          "nan_count": 6,
          "unique_count": 27
         }
        },
        {
         "dtype": "object",
         "name": "South Dakota!!Percent!!Estimate",
         "stats": {
          "categories": [
           {
            "count": 3,
            "name": "(X)"
           },
           {
            "count": 26,
            "name": "24 others"
           },
           {
            "count": 6,
            "name": "Missing"
           }
          ],
          "nan_count": 6,
          "unique_count": 25
         }
        },
        {
         "dtype": "object",
         "name": "South Dakota!!Percent!!Margin of Error",
         "stats": {
          "categories": [
           {
            "count": 6,
            "name": "±0.3"
           },
           {
            "count": 23,
            "name": "11 others"
           },
           {
            "count": 6,
            "name": "Missing"
           }
          ],
          "nan_count": 6,
          "unique_count": 12
         }
        },
        {
         "dtype": "object",
         "name": "Tennessee!!Total!!Estimate",
         "stats": {
          "categories": [
           {
            "count": 2,
            "name": "N"
           },
           {
            "count": 27,
            "name": "27 others"
           },
           {
            "count": 6,
            "name": "Missing"
           }
          ],
          "nan_count": 6,
          "unique_count": 28
         }
        },
        {
         "dtype": "object",
         "name": "Tennessee!!Total!!Margin of Error",
         "stats": {
          "categories": [
           {
            "count": 2,
            "name": "N"
           },
           {
            "count": 27,
            "name": "27 others"
           },
           {
            "count": 6,
            "name": "Missing"
           }
          ],
          "nan_count": 6,
          "unique_count": 28
         }
        },
        {
         "dtype": "object",
         "name": "Tennessee!!Percent!!Estimate",
         "stats": {
          "categories": [
           {
            "count": 3,
            "name": "(X)"
           },
           {
            "count": 26,
            "name": "25 others"
           },
           {
            "count": 6,
            "name": "Missing"
           }
          ],
          "nan_count": 6,
          "unique_count": 26
         }
        },
        {
         "dtype": "object",
         "name": "Tennessee!!Percent!!Margin of Error",
         "stats": {
          "categories": [
           {
            "count": 13,
            "name": "±0.1"
           },
           {
            "count": 16,
            "name": "5 others"
           },
           {
            "count": 6,
            "name": "Missing"
           }
          ],
          "nan_count": 6,
          "unique_count": 6
         }
        },
        {
         "dtype": "object",
         "name": "Texas!!Total!!Estimate",
         "stats": {
          "categories": [
           {
            "count": 1,
            "name": "18,875,542"
           },
           {
            "count": 28,
            "name": "28 others"
           },
           {
            "count": 6,
            "name": "Missing"
           }
          ],
          "nan_count": 6,
          "unique_count": 29
         }
        },
        {
         "dtype": "object",
         "name": "Texas!!Total!!Margin of Error",
         "stats": {
          "categories": [
           {
            "count": 1,
            "name": "±40,970"
           },
           {
            "count": 28,
            "name": "28 others"
           },
           {
            "count": 6,
            "name": "Missing"
           }
          ],
          "nan_count": 6,
          "unique_count": 29
         }
        },
        {
         "dtype": "object",
         "name": "Texas!!Percent!!Estimate",
         "stats": {
          "categories": [
           {
            "count": 3,
            "name": "(X)"
           },
           {
            "count": 26,
            "name": "25 others"
           },
           {
            "count": 6,
            "name": "Missing"
           }
          ],
          "nan_count": 6,
          "unique_count": 26
         }
        },
        {
         "dtype": "object",
         "name": "Texas!!Percent!!Margin of Error",
         "stats": {
          "categories": [
           {
            "count": 20,
            "name": "±0.1"
           },
           {
            "count": 9,
            "name": "2 others"
           },
           {
            "count": 6,
            "name": "Missing"
           }
          ],
          "nan_count": 6,
          "unique_count": 3
         }
        },
        {
         "dtype": "object",
         "name": "Utah!!Total!!Estimate",
         "stats": {
          "categories": [
           {
            "count": 1,
            "name": "2,134,249"
           },
           {
            "count": 28,
            "name": "28 others"
           },
           {
            "count": 6,
            "name": "Missing"
           }
          ],
          "nan_count": 6,
          "unique_count": 29
         }
        },
        {
         "dtype": "object",
         "name": "Utah!!Total!!Margin of Error",
         "stats": {
          "categories": [
           {
            "count": 1,
            "name": "±6,329"
           },
           {
            "count": 28,
            "name": "28 others"
           },
           {
            "count": 6,
            "name": "Missing"
           }
          ],
          "nan_count": 6,
          "unique_count": 29
         }
        },
        {
         "dtype": "object",
         "name": "Utah!!Percent!!Estimate",
         "stats": {
          "categories": [
           {
            "count": 3,
            "name": "(X)"
           },
           {
            "count": 26,
            "name": "24 others"
           },
           {
            "count": 6,
            "name": "Missing"
           }
          ],
          "nan_count": 6,
          "unique_count": 25
         }
        },
        {
         "dtype": "object",
         "name": "Utah!!Percent!!Margin of Error",
         "stats": {
          "categories": [
           {
            "count": 8,
            "name": "±0.3"
           },
           {
            "count": 21,
            "name": "7 others"
           },
           {
            "count": 6,
            "name": "Missing"
           }
          ],
          "nan_count": 6,
          "unique_count": 8
         }
        },
        {
         "dtype": "object",
         "name": "Vermont!!Total!!Estimate",
         "stats": {
          "categories": [
           {
            "count": 4,
            "name": "N"
           },
           {
            "count": 25,
            "name": "25 others"
           },
           {
            "count": 6,
            "name": "Missing"
           }
          ],
          "nan_count": 6,
          "unique_count": 26
         }
        },
        {
         "dtype": "object",
         "name": "Vermont!!Total!!Margin of Error",
         "stats": {
          "categories": [
           {
            "count": 4,
            "name": "N"
           },
           {
            "count": 25,
            "name": "24 others"
           },
           {
            "count": 6,
            "name": "Missing"
           }
          ],
          "nan_count": 6,
          "unique_count": 25
         }
        },
        {
         "dtype": "object",
         "name": "Vermont!!Percent!!Estimate",
         "stats": {
          "categories": [
           {
            "count": 4,
            "name": "N"
           },
           {
            "count": 25,
            "name": "22 others"
           },
           {
            "count": 6,
            "name": "Missing"
           }
          ],
          "nan_count": 6,
          "unique_count": 23
         }
        },
        {
         "dtype": "object",
         "name": "Vermont!!Percent!!Margin of Error",
         "stats": {
          "categories": [
           {
            "count": 6,
            "name": "±0.2"
           },
           {
            "count": 23,
            "name": "9 others"
           },
           {
            "count": 6,
            "name": "Missing"
           }
          ],
          "nan_count": 6,
          "unique_count": 10
         }
        },
        {
         "dtype": "object",
         "name": "Virginia!!Total!!Estimate",
         "stats": {
          "categories": [
           {
            "count": 1,
            "name": "6,226,623"
           },
           {
            "count": 28,
            "name": "28 others"
           },
           {
            "count": 6,
            "name": "Missing"
           }
          ],
          "nan_count": 6,
          "unique_count": 29
         }
        },
        {
         "dtype": "object",
         "name": "Virginia!!Total!!Margin of Error",
         "stats": {
          "categories": [
           {
            "count": 1,
            "name": "±14,924"
           },
           {
            "count": 28,
            "name": "28 others"
           },
           {
            "count": 6,
            "name": "Missing"
           }
          ],
          "nan_count": 6,
          "unique_count": 29
         }
        },
        {
         "dtype": "object",
         "name": "Virginia!!Percent!!Estimate",
         "stats": {
          "categories": [
           {
            "count": 3,
            "name": "(X)"
           },
           {
            "count": 26,
            "name": "24 others"
           },
           {
            "count": 6,
            "name": "Missing"
           }
          ],
          "nan_count": 6,
          "unique_count": 25
         }
        },
        {
         "dtype": "object",
         "name": "Virginia!!Percent!!Margin of Error",
         "stats": {
          "categories": [
           {
            "count": 13,
            "name": "±0.1"
           },
           {
            "count": 16,
            "name": "5 others"
           },
           {
            "count": 6,
            "name": "Missing"
           }
          ],
          "nan_count": 6,
          "unique_count": 6
         }
        },
        {
         "dtype": "object",
         "name": "Washington!!Total!!Estimate",
         "stats": {
          "categories": [
           {
            "count": 1,
            "name": "5,409,035"
           },
           {
            "count": 28,
            "name": "28 others"
           },
           {
            "count": 6,
            "name": "Missing"
           }
          ],
          "nan_count": 6,
          "unique_count": 29
         }
        },
        {
         "dtype": "object",
         "name": "Washington!!Total!!Margin of Error",
         "stats": {
          "categories": [
           {
            "count": 1,
            "name": "±14,907"
           },
           {
            "count": 28,
            "name": "28 others"
           },
           {
            "count": 6,
            "name": "Missing"
           }
          ],
          "nan_count": 6,
          "unique_count": 29
         }
        },
        {
         "dtype": "object",
         "name": "Washington!!Percent!!Estimate",
         "stats": {
          "categories": [
           {
            "count": 3,
            "name": "(X)"
           },
           {
            "count": 26,
            "name": "26 others"
           },
           {
            "count": 6,
            "name": "Missing"
           }
          ],
          "nan_count": 6,
          "unique_count": 27
         }
        },
        {
         "dtype": "object",
         "name": "Washington!!Percent!!Margin of Error",
         "stats": {
          "categories": [
           {
            "count": 10,
            "name": "±0.1"
           },
           {
            "count": 19,
            "name": "4 others"
           },
           {
            "count": 6,
            "name": "Missing"
           }
          ],
          "nan_count": 6,
          "unique_count": 5
         }
        },
        {
         "dtype": "object",
         "name": "West Virginia!!Total!!Estimate",
         "stats": {
          "categories": [
           {
            "count": 2,
            "name": "N"
           },
           {
            "count": 27,
            "name": "27 others"
           },
           {
            "count": 6,
            "name": "Missing"
           }
          ],
          "nan_count": 6,
          "unique_count": 28
         }
        },
        {
         "dtype": "object",
         "name": "West Virginia!!Total!!Margin of Error",
         "stats": {
          "categories": [
           {
            "count": 2,
            "name": "N"
           },
           {
            "count": 27,
            "name": "27 others"
           },
           {
            "count": 6,
            "name": "Missing"
           }
          ],
          "nan_count": 6,
          "unique_count": 28
         }
        },
        {
         "dtype": "object",
         "name": "West Virginia!!Percent!!Estimate",
         "stats": {
          "categories": [
           {
            "count": 3,
            "name": "(X)"
           },
           {
            "count": 26,
            "name": "24 others"
           },
           {
            "count": 6,
            "name": "Missing"
           }
          ],
          "nan_count": 6,
          "unique_count": 25
         }
        },
        {
         "dtype": "object",
         "name": "West Virginia!!Percent!!Margin of Error",
         "stats": {
          "categories": [
           {
            "count": 7,
            "name": "±0.1"
           },
           {
            "count": 22,
            "name": "8 others"
           },
           {
            "count": 6,
            "name": "Missing"
           }
          ],
          "nan_count": 6,
          "unique_count": 9
         }
        },
        {
         "dtype": "object",
         "name": "Wisconsin!!Total!!Estimate",
         "stats": {
          "categories": [
           {
            "count": 2,
            "name": "N"
           },
           {
            "count": 27,
            "name": "27 others"
           },
           {
            "count": 6,
            "name": "Missing"
           }
          ],
          "nan_count": 6,
          "unique_count": 28
         }
        },
        {
         "dtype": "object",
         "name": "Wisconsin!!Total!!Margin of Error",
         "stats": {
          "categories": [
           {
            "count": 2,
            "name": "N"
           },
           {
            "count": 27,
            "name": "27 others"
           },
           {
            "count": 6,
            "name": "Missing"
           }
          ],
          "nan_count": 6,
          "unique_count": 28
         }
        },
        {
         "dtype": "object",
         "name": "Wisconsin!!Percent!!Estimate",
         "stats": {
          "categories": [
           {
            "count": 3,
            "name": "(X)"
           },
           {
            "count": 26,
            "name": "24 others"
           },
           {
            "count": 6,
            "name": "Missing"
           }
          ],
          "nan_count": 6,
          "unique_count": 25
         }
        },
        {
         "dtype": "object",
         "name": "Wisconsin!!Percent!!Margin of Error",
         "stats": {
          "categories": [
           {
            "count": 13,
            "name": "±0.1"
           },
           {
            "count": 16,
            "name": "5 others"
           },
           {
            "count": 6,
            "name": "Missing"
           }
          ],
          "nan_count": 6,
          "unique_count": 6
         }
        },
        {
         "dtype": "object",
         "name": "Wyoming!!Total!!Estimate",
         "stats": {
          "categories": [
           {
            "count": 5,
            "name": "N"
           },
           {
            "count": 24,
            "name": "24 others"
           },
           {
            "count": 6,
            "name": "Missing"
           }
          ],
          "nan_count": 6,
          "unique_count": 25
         }
        },
        {
         "dtype": "object",
         "name": "Wyoming!!Total!!Margin of Error",
         "stats": {
          "categories": [
           {
            "count": 5,
            "name": "N"
           },
           {
            "count": 24,
            "name": "24 others"
           },
           {
            "count": 6,
            "name": "Missing"
           }
          ],
          "nan_count": 6,
          "unique_count": 25
         }
        },
        {
         "dtype": "object",
         "name": "Wyoming!!Percent!!Estimate",
         "stats": {
          "categories": [
           {
            "count": 5,
            "name": "N"
           },
           {
            "count": 24,
            "name": "21 others"
           },
           {
            "count": 6,
            "name": "Missing"
           }
          ],
          "nan_count": 6,
          "unique_count": 22
         }
        },
        {
         "dtype": "object",
         "name": "Wyoming!!Percent!!Margin of Error",
         "stats": {
          "categories": [
           {
            "count": 5,
            "name": "±0.5"
           },
           {
            "count": 24,
            "name": "10 others"
           },
           {
            "count": 6,
            "name": "Missing"
           }
          ],
          "nan_count": 6,
          "unique_count": 11
         }
        },
        {
         "dtype": "object",
         "name": "Puerto Rico!!Total!!Estimate",
         "stats": {
          "categories": [
           {
            "count": 2,
            "name": "N"
           },
           {
            "count": 27,
            "name": "27 others"
           },
           {
            "count": 6,
            "name": "Missing"
           }
          ],
          "nan_count": 6,
          "unique_count": 28
         }
        },
        {
         "dtype": "object",
         "name": "Puerto Rico!!Total!!Margin of Error",
         "stats": {
          "categories": [
           {
            "count": 2,
            "name": "N"
           },
           {
            "count": 27,
            "name": "27 others"
           },
           {
            "count": 6,
            "name": "Missing"
           }
          ],
          "nan_count": 6,
          "unique_count": 28
         }
        },
        {
         "dtype": "object",
         "name": "Puerto Rico!!Percent!!Estimate",
         "stats": {
          "categories": [
           {
            "count": 3,
            "name": "(X)"
           },
           {
            "count": 26,
            "name": "23 others"
           },
           {
            "count": 6,
            "name": "Missing"
           }
          ],
          "nan_count": 6,
          "unique_count": 24
         }
        },
        {
         "dtype": "object",
         "name": "Puerto Rico!!Percent!!Margin of Error",
         "stats": {
          "categories": [
           {
            "count": 7,
            "name": "±0.1"
           },
           {
            "count": 22,
            "name": "8 others"
           },
           {
            "count": 6,
            "name": "Missing"
           }
          ],
          "nan_count": 6,
          "unique_count": 9
         }
        },
        {
         "dtype": "int64",
         "name": "_deepnote_index_column"
        }
       ],
       "row_count": 35,
       "rows_bottom": [
        {
         "Alabama!!Percent!!Estimate": "nan",
         "Alabama!!Percent!!Margin of Error": "nan",
         "Alabama!!Total!!Estimate": "nan",
         "Alabama!!Total!!Margin of Error": "nan",
         "Alaska!!Percent!!Estimate": "nan",
         "Alaska!!Percent!!Margin of Error": "nan",
         "Alaska!!Total!!Estimate": "nan",
         "Alaska!!Total!!Margin of Error": "nan",
         "Arizona!!Percent!!Estimate": "nan",
         "Arizona!!Percent!!Margin of Error": "nan",
         "Arizona!!Total!!Estimate": "nan",
         "Arizona!!Total!!Margin of Error": "nan",
         "Arkansas!!Percent!!Estimate": "nan",
         "Arkansas!!Percent!!Margin of Error": "nan",
         "Arkansas!!Total!!Estimate": "nan",
         "Arkansas!!Total!!Margin of Error": "nan",
         "California!!Percent!!Estimate": "nan",
         "California!!Percent!!Margin of Error": "nan",
         "California!!Total!!Estimate": "nan",
         "California!!Total!!Margin of Error": "nan",
         "Colorado!!Percent!!Estimate": "nan",
         "Colorado!!Percent!!Margin of Error": "nan",
         "Colorado!!Total!!Estimate": "nan",
         "Colorado!!Total!!Margin of Error": "nan",
         "Connecticut!!Percent!!Estimate": "nan",
         "Connecticut!!Percent!!Margin of Error": "nan",
         "Connecticut!!Total!!Estimate": "nan",
         "Connecticut!!Total!!Margin of Error": "nan",
         "Delaware!!Percent!!Estimate": "nan",
         "Delaware!!Percent!!Margin of Error": "nan",
         "Delaware!!Total!!Estimate": "nan",
         "Delaware!!Total!!Margin of Error": "nan",
         "District of Columbia!!Percent!!Estimate": "nan",
         "District of Columbia!!Percent!!Margin of Error": "nan",
         "District of Columbia!!Total!!Estimate": "nan",
         "District of Columbia!!Total!!Margin of Error": "nan",
         "Florida!!Percent!!Estimate": "nan",
         "Florida!!Percent!!Margin of Error": "nan",
         "Florida!!Total!!Estimate": "nan",
         "Florida!!Total!!Margin of Error": "nan",
         "Georgia!!Percent!!Estimate": "nan",
         "Georgia!!Percent!!Margin of Error": "nan",
         "Georgia!!Total!!Estimate": "nan",
         "Georgia!!Total!!Margin of Error": "nan",
         "Hawaii!!Percent!!Estimate": "nan",
         "Hawaii!!Percent!!Margin of Error": "nan",
         "Hawaii!!Total!!Estimate": "nan",
         "Hawaii!!Total!!Margin of Error": "nan",
         "Idaho!!Percent!!Estimate": "nan",
         "Idaho!!Percent!!Margin of Error": "nan",
         "Idaho!!Total!!Estimate": "nan",
         "Idaho!!Total!!Margin of Error": "nan",
         "Illinois!!Percent!!Estimate": "nan",
         "Illinois!!Percent!!Margin of Error": "nan",
         "Illinois!!Total!!Estimate": "nan",
         "Illinois!!Total!!Margin of Error": "nan",
         "Indiana!!Percent!!Estimate": "nan",
         "Indiana!!Percent!!Margin of Error": "nan",
         "Indiana!!Total!!Estimate": "nan",
         "Indiana!!Total!!Margin of Error": "nan",
         "Iowa!!Percent!!Estimate": "nan",
         "Iowa!!Percent!!Margin of Error": "nan",
         "Iowa!!Total!!Estimate": "nan",
         "Iowa!!Total!!Margin of Error": "nan",
         "Kansas!!Percent!!Estimate": "nan",
         "Kansas!!Percent!!Margin of Error": "nan",
         "Kansas!!Total!!Estimate": "nan",
         "Kansas!!Total!!Margin of Error": "nan",
         "Kentucky!!Percent!!Estimate": "nan",
         "Kentucky!!Percent!!Margin of Error": "nan",
         "Kentucky!!Total!!Estimate": "nan",
         "Kentucky!!Total!!Margin of Error": "nan",
         "Label": "    HOUSEHOLD INCOME (IN 2019 INFLATION-ADJUSTED DOLLARS)",
         "Louisiana!!Percent!!Estimate": "nan",
         "Louisiana!!Percent!!Margin of Error": "nan",
         "Louisiana!!Total!!Estimate": "nan",
         "Louisiana!!Total!!Margin of Error": "nan",
         "Maine!!Percent!!Estimate": "nan",
         "Maine!!Percent!!Margin of Error": "nan",
         "Maine!!Total!!Estimate": "nan",
         "Maine!!Total!!Margin of Error": "nan",
         "Maryland!!Percent!!Estimate": "nan",
         "Maryland!!Percent!!Margin of Error": "nan",
         "Maryland!!Total!!Estimate": "nan",
         "Maryland!!Total!!Margin of Error": "nan",
         "Massachusetts!!Percent!!Estimate": "nan",
         "Massachusetts!!Percent!!Margin of Error": "nan",
         "Massachusetts!!Total!!Estimate": "nan",
         "Massachusetts!!Total!!Margin of Error": "nan",
         "Michigan!!Percent!!Estimate": "nan",
         "Michigan!!Percent!!Margin of Error": "nan",
         "Michigan!!Total!!Estimate": "nan",
         "Michigan!!Total!!Margin of Error": "nan",
         "Minnesota!!Percent!!Estimate": "nan",
         "Minnesota!!Percent!!Margin of Error": "nan",
         "Minnesota!!Total!!Estimate": "nan",
         "Minnesota!!Total!!Margin of Error": "nan",
         "Mississippi!!Percent!!Estimate": "nan",
         "Mississippi!!Percent!!Margin of Error": "nan",
         "Mississippi!!Total!!Estimate": "nan",
         "Mississippi!!Total!!Margin of Error": "nan",
         "Missouri!!Percent!!Estimate": "nan",
         "Missouri!!Percent!!Margin of Error": "nan",
         "Missouri!!Total!!Estimate": "nan",
         "Missouri!!Total!!Margin of Error": "nan",
         "Montana!!Percent!!Estimate": "nan",
         "Montana!!Percent!!Margin of Error": "nan",
         "Montana!!Total!!Estimate": "nan",
         "Montana!!Total!!Margin of Error": "nan",
         "Nebraska!!Percent!!Estimate": "nan",
         "Nebraska!!Percent!!Margin of Error": "nan",
         "Nebraska!!Total!!Estimate": "nan",
         "Nebraska!!Total!!Margin of Error": "nan",
         "Nevada!!Percent!!Estimate": "nan",
         "Nevada!!Percent!!Margin of Error": "nan",
         "Nevada!!Total!!Estimate": "nan",
         "Nevada!!Total!!Margin of Error": "nan",
         "New Hampshire!!Percent!!Estimate": "nan",
         "New Hampshire!!Percent!!Margin of Error": "nan",
         "New Hampshire!!Total!!Estimate": "nan",
         "New Hampshire!!Total!!Margin of Error": "nan",
         "New Jersey!!Percent!!Estimate": "nan",
         "New Jersey!!Percent!!Margin of Error": "nan",
         "New Jersey!!Total!!Estimate": "nan",
         "New Jersey!!Total!!Margin of Error": "nan",
         "New Mexico!!Percent!!Estimate": "nan",
         "New Mexico!!Percent!!Margin of Error": "nan",
         "New Mexico!!Total!!Estimate": "nan",
         "New Mexico!!Total!!Margin of Error": "nan",
         "New York!!Percent!!Estimate": "nan",
         "New York!!Percent!!Margin of Error": "nan",
         "New York!!Total!!Estimate": "nan",
         "New York!!Total!!Margin of Error": "nan",
         "North Carolina!!Percent!!Estimate": "nan",
         "North Carolina!!Percent!!Margin of Error": "nan",
         "North Carolina!!Total!!Estimate": "nan",
         "North Carolina!!Total!!Margin of Error": "nan",
         "North Dakota!!Percent!!Estimate": "nan",
         "North Dakota!!Percent!!Margin of Error": "nan",
         "North Dakota!!Total!!Estimate": "nan",
         "North Dakota!!Total!!Margin of Error": "nan",
         "Ohio!!Percent!!Estimate": "nan",
         "Ohio!!Percent!!Margin of Error": "nan",
         "Ohio!!Total!!Estimate": "nan",
         "Ohio!!Total!!Margin of Error": "nan",
         "Oklahoma!!Percent!!Estimate": "nan",
         "Oklahoma!!Percent!!Margin of Error": "nan",
         "Oklahoma!!Total!!Estimate": "nan",
         "Oklahoma!!Total!!Margin of Error": "nan",
         "Oregon!!Percent!!Estimate": "nan",
         "Oregon!!Percent!!Margin of Error": "nan",
         "Oregon!!Total!!Estimate": "nan",
         "Oregon!!Total!!Margin of Error": "nan",
         "Pennsylvania!!Percent!!Estimate": "nan",
         "Pennsylvania!!Percent!!Margin of Error": "nan",
         "Pennsylvania!!Total!!Estimate": "nan",
         "Pennsylvania!!Total!!Margin of Error": "nan",
         "Puerto Rico!!Percent!!Estimate": "nan",
         "Puerto Rico!!Percent!!Margin of Error": "nan",
         "Puerto Rico!!Total!!Estimate": "nan",
         "Puerto Rico!!Total!!Margin of Error": "nan",
         "Rhode Island!!Percent!!Estimate": "nan",
         "Rhode Island!!Percent!!Margin of Error": "nan",
         "Rhode Island!!Total!!Estimate": "nan",
         "Rhode Island!!Total!!Margin of Error": "nan",
         "South Carolina!!Percent!!Estimate": "nan",
         "South Carolina!!Percent!!Margin of Error": "nan",
         "South Carolina!!Total!!Estimate": "nan",
         "South Carolina!!Total!!Margin of Error": "nan",
         "South Dakota!!Percent!!Estimate": "nan",
         "South Dakota!!Percent!!Margin of Error": "nan",
         "South Dakota!!Total!!Estimate": "nan",
         "South Dakota!!Total!!Margin of Error": "nan",
         "Tennessee!!Percent!!Estimate": "nan",
         "Tennessee!!Percent!!Margin of Error": "nan",
         "Tennessee!!Total!!Estimate": "nan",
         "Tennessee!!Total!!Margin of Error": "nan",
         "Texas!!Percent!!Estimate": "nan",
         "Texas!!Percent!!Margin of Error": "nan",
         "Texas!!Total!!Estimate": "nan",
         "Texas!!Total!!Margin of Error": "nan",
         "Utah!!Percent!!Estimate": "nan",
         "Utah!!Percent!!Margin of Error": "nan",
         "Utah!!Total!!Estimate": "nan",
         "Utah!!Total!!Margin of Error": "nan",
         "Vermont!!Percent!!Estimate": "nan",
         "Vermont!!Percent!!Margin of Error": "nan",
         "Vermont!!Total!!Estimate": "nan",
         "Vermont!!Total!!Margin of Error": "nan",
         "Virginia!!Percent!!Estimate": "nan",
         "Virginia!!Percent!!Margin of Error": "nan",
         "Virginia!!Total!!Estimate": "nan",
         "Virginia!!Total!!Margin of Error": "nan",
         "Washington!!Percent!!Estimate": "nan",
         "Washington!!Percent!!Margin of Error": "nan",
         "Washington!!Total!!Estimate": "nan",
         "Washington!!Total!!Margin of Error": "nan",
         "West Virginia!!Percent!!Estimate": "nan",
         "West Virginia!!Percent!!Margin of Error": "nan",
         "West Virginia!!Total!!Estimate": "nan",
         "West Virginia!!Total!!Margin of Error": "nan",
         "Wisconsin!!Percent!!Estimate": "nan",
         "Wisconsin!!Percent!!Margin of Error": "nan",
         "Wisconsin!!Total!!Estimate": "nan",
         "Wisconsin!!Total!!Margin of Error": "nan",
         "Wyoming!!Percent!!Estimate": "nan",
         "Wyoming!!Percent!!Margin of Error": "nan",
         "Wyoming!!Total!!Estimate": "nan",
         "Wyoming!!Total!!Margin of Error": "nan",
         "_deepnote_index_column": 33
        },
        {
         "Alabama!!Percent!!Estimate": "(X)",
         "Alabama!!Percent!!Margin of Error": "(X)",
         "Alabama!!Total!!Estimate": "52,081",
         "Alabama!!Total!!Margin of Error": "±589",
         "Alaska!!Percent!!Estimate": "(X)",
         "Alaska!!Percent!!Margin of Error": "(X)",
         "Alaska!!Total!!Estimate": "75,770",
         "Alaska!!Total!!Margin of Error": "±2,685",
         "Arizona!!Percent!!Estimate": "(X)",
         "Arizona!!Percent!!Margin of Error": "(X)",
         "Arizona!!Total!!Estimate": "63,622",
         "Arizona!!Total!!Margin of Error": "±734",
         "Arkansas!!Percent!!Estimate": "(X)",
         "Arkansas!!Percent!!Margin of Error": "(X)",
         "Arkansas!!Total!!Estimate": "49,182",
         "Arkansas!!Total!!Margin of Error": "±833",
         "California!!Percent!!Estimate": "(X)",
         "California!!Percent!!Margin of Error": "(X)",
         "California!!Total!!Estimate": "83,915",
         "California!!Total!!Margin of Error": "±552",
         "Colorado!!Percent!!Estimate": "(X)",
         "Colorado!!Percent!!Margin of Error": "(X)",
         "Colorado!!Total!!Estimate": "78,721",
         "Colorado!!Total!!Margin of Error": "±1,014",
         "Connecticut!!Percent!!Estimate": "(X)",
         "Connecticut!!Percent!!Margin of Error": "(X)",
         "Connecticut!!Total!!Estimate": "80,237",
         "Connecticut!!Total!!Margin of Error": "±1,018",
         "Delaware!!Percent!!Estimate": "(X)",
         "Delaware!!Percent!!Margin of Error": "(X)",
         "Delaware!!Total!!Estimate": "70,866",
         "Delaware!!Total!!Margin of Error": "±1,740",
         "District of Columbia!!Percent!!Estimate": "(X)",
         "District of Columbia!!Percent!!Margin of Error": "(X)",
         "District of Columbia!!Total!!Estimate": "93,535",
         "District of Columbia!!Total!!Margin of Error": "±3,014",
         "Florida!!Percent!!Estimate": "(X)",
         "Florida!!Percent!!Margin of Error": "(X)",
         "Florida!!Total!!Estimate": "60,682",
         "Florida!!Total!!Margin of Error": "±310",
         "Georgia!!Percent!!Estimate": "(X)",
         "Georgia!!Percent!!Margin of Error": "(X)",
         "Georgia!!Total!!Estimate": "62,310",
         "Georgia!!Total!!Margin of Error": "±513",
         "Hawaii!!Percent!!Estimate": "(X)",
         "Hawaii!!Percent!!Margin of Error": "(X)",
         "Hawaii!!Total!!Estimate": "84,755",
         "Hawaii!!Total!!Margin of Error": "±2,227",
         "Idaho!!Percent!!Estimate": "(X)",
         "Idaho!!Percent!!Margin of Error": "(X)",
         "Idaho!!Total!!Estimate": "61,489",
         "Idaho!!Total!!Margin of Error": "±1,119",
         "Illinois!!Percent!!Estimate": "(X)",
         "Illinois!!Percent!!Margin of Error": "(X)",
         "Illinois!!Total!!Estimate": "70,270",
         "Illinois!!Total!!Margin of Error": "±420",
         "Indiana!!Percent!!Estimate": "(X)",
         "Indiana!!Percent!!Margin of Error": "(X)",
         "Indiana!!Total!!Estimate": "58,224",
         "Indiana!!Total!!Margin of Error": "±748",
         "Iowa!!Percent!!Estimate": "(X)",
         "Iowa!!Percent!!Margin of Error": "(X)",
         "Iowa!!Total!!Estimate": "62,173",
         "Iowa!!Total!!Margin of Error": "±800",
         "Kansas!!Percent!!Estimate": "(X)",
         "Kansas!!Percent!!Margin of Error": "(X)",
         "Kansas!!Total!!Estimate": "62,781",
         "Kansas!!Total!!Margin of Error": "±1,072",
         "Kentucky!!Percent!!Estimate": "(X)",
         "Kentucky!!Percent!!Margin of Error": "(X)",
         "Kentucky!!Total!!Estimate": "52,425",
         "Kentucky!!Total!!Margin of Error": "±738",
         "Label": "        Median Household Income for Households with a Citizen, Voting-Age Householder",
         "Louisiana!!Percent!!Estimate": "(X)",
         "Louisiana!!Percent!!Margin of Error": "(X)",
         "Louisiana!!Total!!Estimate": "51,370",
         "Louisiana!!Total!!Margin of Error": "±589",
         "Maine!!Percent!!Estimate": "(X)",
         "Maine!!Percent!!Margin of Error": "(X)",
         "Maine!!Total!!Estimate": "59,087",
         "Maine!!Total!!Margin of Error": "±1,770",
         "Maryland!!Percent!!Estimate": "(X)",
         "Maryland!!Percent!!Margin of Error": "(X)",
         "Maryland!!Total!!Estimate": "88,196",
         "Maryland!!Total!!Margin of Error": "±1,158",
         "Massachusetts!!Percent!!Estimate": "(X)",
         "Massachusetts!!Percent!!Margin of Error": "(X)",
         "Massachusetts!!Total!!Estimate": "87,510",
         "Massachusetts!!Total!!Margin of Error": "±1,189",
         "Michigan!!Percent!!Estimate": "(X)",
         "Michigan!!Percent!!Margin of Error": "(X)",
         "Michigan!!Total!!Estimate": "59,395",
         "Michigan!!Total!!Margin of Error": "±582",
         "Minnesota!!Percent!!Estimate": "(X)",
         "Minnesota!!Percent!!Margin of Error": "(X)",
         "Minnesota!!Total!!Estimate": "75,166",
         "Minnesota!!Total!!Margin of Error": "±671",
         "Mississippi!!Percent!!Estimate": "(X)",
         "Mississippi!!Percent!!Margin of Error": "(X)",
         "Mississippi!!Total!!Estimate": "45,823",
         "Mississippi!!Total!!Margin of Error": "±1,183",
         "Missouri!!Percent!!Estimate": "(X)",
         "Missouri!!Percent!!Margin of Error": "(X)",
         "Missouri!!Total!!Estimate": "57,553",
         "Missouri!!Total!!Margin of Error": "±685",
         "Montana!!Percent!!Estimate": "(X)",
         "Montana!!Percent!!Margin of Error": "(X)",
         "Montana!!Total!!Estimate": "57,299",
         "Montana!!Total!!Margin of Error": "±1,250",
         "Nebraska!!Percent!!Estimate": "(X)",
         "Nebraska!!Percent!!Margin of Error": "(X)",
         "Nebraska!!Total!!Estimate": "64,426",
         "Nebraska!!Total!!Margin of Error": "±918",
         "Nevada!!Percent!!Estimate": "(X)",
         "Nevada!!Percent!!Margin of Error": "(X)",
         "Nevada!!Total!!Estimate": "64,790",
         "Nevada!!Total!!Margin of Error": "±950",
         "New Hampshire!!Percent!!Estimate": "(X)",
         "New Hampshire!!Percent!!Margin of Error": "(X)",
         "New Hampshire!!Total!!Estimate": "78,128",
         "New Hampshire!!Total!!Margin of Error": "±2,088",
         "New Jersey!!Percent!!Estimate": "(X)",
         "New Jersey!!Percent!!Margin of Error": "(X)",
         "New Jersey!!Total!!Estimate": "87,340",
         "New Jersey!!Total!!Margin of Error": "±924",
         "New Mexico!!Percent!!Estimate": "(X)",
         "New Mexico!!Percent!!Margin of Error": "(X)",
         "New Mexico!!Total!!Estimate": "52,697",
         "New Mexico!!Total!!Margin of Error": "±1,294",
         "New York!!Percent!!Estimate": "(X)",
         "New York!!Percent!!Margin of Error": "(X)",
         "New York!!Total!!Estimate": "73,694",
         "New York!!Total!!Margin of Error": "±677",
         "North Carolina!!Percent!!Estimate": "(X)",
         "North Carolina!!Percent!!Margin of Error": "(X)",
         "North Carolina!!Total!!Estimate": "58,019",
         "North Carolina!!Total!!Margin of Error": "±691",
         "North Dakota!!Percent!!Estimate": "(X)",
         "North Dakota!!Percent!!Margin of Error": "(X)",
         "North Dakota!!Total!!Estimate": "65,531",
         "North Dakota!!Total!!Margin of Error": "±2,605",
         "Ohio!!Percent!!Estimate": "(X)",
         "Ohio!!Percent!!Margin of Error": "(X)",
         "Ohio!!Total!!Estimate": "58,908",
         "Ohio!!Total!!Margin of Error": "±562",
         "Oklahoma!!Percent!!Estimate": "(X)",
         "Oklahoma!!Percent!!Margin of Error": "(X)",
         "Oklahoma!!Total!!Estimate": "55,141",
         "Oklahoma!!Total!!Margin of Error": "±531",
         "Oregon!!Percent!!Estimate": "(X)",
         "Oregon!!Percent!!Margin of Error": "(X)",
         "Oregon!!Total!!Estimate": "67,429",
         "Oregon!!Total!!Margin of Error": "±912",
         "Pennsylvania!!Percent!!Estimate": "(X)",
         "Pennsylvania!!Percent!!Margin of Error": "(X)",
         "Pennsylvania!!Total!!Estimate": "63,798",
         "Pennsylvania!!Total!!Margin of Error": "±430",
         "Puerto Rico!!Percent!!Estimate": "(X)",
         "Puerto Rico!!Percent!!Margin of Error": "(X)",
         "Puerto Rico!!Total!!Estimate": "20,499",
         "Puerto Rico!!Total!!Margin of Error": "±373",
         "Rhode Island!!Percent!!Estimate": "(X)",
         "Rhode Island!!Percent!!Margin of Error": "(X)",
         "Rhode Island!!Total!!Estimate": "72,251",
         "Rhode Island!!Total!!Margin of Error": "±1,676",
         "South Carolina!!Percent!!Estimate": "(X)",
         "South Carolina!!Percent!!Margin of Error": "(X)",
         "South Carolina!!Total!!Estimate": "56,514",
         "South Carolina!!Total!!Margin of Error": "±865",
         "South Dakota!!Percent!!Estimate": "(X)",
         "South Dakota!!Percent!!Margin of Error": "(X)",
         "South Dakota!!Total!!Estimate": "60,242",
         "South Dakota!!Total!!Margin of Error": "±1,591",
         "Tennessee!!Percent!!Estimate": "(X)",
         "Tennessee!!Percent!!Margin of Error": "(X)",
         "Tennessee!!Total!!Estimate": "56,412",
         "Tennessee!!Total!!Margin of Error": "±664",
         "Texas!!Percent!!Estimate": "(X)",
         "Texas!!Percent!!Margin of Error": "(X)",
         "Texas!!Total!!Estimate": "66,974",
         "Texas!!Total!!Margin of Error": "±383",
         "Utah!!Percent!!Estimate": "(X)",
         "Utah!!Percent!!Margin of Error": "(X)",
         "Utah!!Total!!Estimate": "76,807",
         "Utah!!Total!!Margin of Error": "±996",
         "Vermont!!Percent!!Estimate": "(X)",
         "Vermont!!Percent!!Margin of Error": "(X)",
         "Vermont!!Total!!Estimate": "63,097",
         "Vermont!!Total!!Margin of Error": "±1,747",
         "Virginia!!Percent!!Estimate": "(X)",
         "Virginia!!Percent!!Margin of Error": "(X)",
         "Virginia!!Total!!Estimate": "77,322",
         "Virginia!!Total!!Margin of Error": "±836",
         "Washington!!Percent!!Estimate": "(X)",
         "Washington!!Percent!!Margin of Error": "(X)",
         "Washington!!Total!!Estimate": "78,896",
         "Washington!!Total!!Margin of Error": "±932",
         "West Virginia!!Percent!!Estimate": "(X)",
         "West Virginia!!Percent!!Margin of Error": "(X)",
         "West Virginia!!Total!!Estimate": "48,982",
         "West Virginia!!Total!!Margin of Error": "±1,141",
         "Wisconsin!!Percent!!Estimate": "(X)",
         "Wisconsin!!Percent!!Margin of Error": "(X)",
         "Wisconsin!!Total!!Estimate": "64,639",
         "Wisconsin!!Total!!Margin of Error": "±601",
         "Wyoming!!Percent!!Estimate": "(X)",
         "Wyoming!!Percent!!Margin of Error": "(X)",
         "Wyoming!!Total!!Estimate": "65,052",
         "Wyoming!!Total!!Margin of Error": "±2,178",
         "_deepnote_index_column": 34
        }
       ],
       "rows_top": [
        {
         "Alabama!!Percent!!Estimate": "(X)",
         "Alabama!!Percent!!Margin of Error": "(X)",
         "Alabama!!Total!!Estimate": "3,731,336",
         "Alabama!!Total!!Margin of Error": "±6,395",
         "Alaska!!Percent!!Estimate": "(X)",
         "Alaska!!Percent!!Margin of Error": "(X)",
         "Alaska!!Total!!Estimate": "533,151",
         "Alaska!!Total!!Margin of Error": "±2,609",
         "Arizona!!Percent!!Estimate": "(X)",
         "Arizona!!Percent!!Margin of Error": "(X)",
         "Arizona!!Total!!Estimate": "5,137,474",
         "Arizona!!Total!!Margin of Error": "±16,329",
         "Arkansas!!Percent!!Estimate": "(X)",
         "Arkansas!!Percent!!Margin of Error": "(X)",
         "Arkansas!!Total!!Estimate": "2,235,415",
         "Arkansas!!Total!!Margin of Error": "±5,844",
         "California!!Percent!!Estimate": "(X)",
         "California!!Percent!!Margin of Error": "(X)",
         "California!!Total!!Estimate": "26,032,160",
         "California!!Total!!Margin of Error": "±48,109",
         "Colorado!!Percent!!Estimate": "(X)",
         "Colorado!!Percent!!Margin of Error": "(X)",
         "Colorado!!Total!!Estimate": "4,244,210",
         "Colorado!!Total!!Margin of Error": "±11,339",
         "Connecticut!!Percent!!Estimate": "(X)",
         "Connecticut!!Percent!!Margin of Error": "(X)",
         "Connecticut!!Total!!Estimate": "2,619,474",
         "Connecticut!!Total!!Margin of Error": "±10,027",
         "Delaware!!Percent!!Estimate": "(X)",
         "Delaware!!Percent!!Margin of Error": "(X)",
         "Delaware!!Total!!Estimate": "725,178",
         "Delaware!!Total!!Margin of Error": "±3,702",
         "District of Columbia!!Percent!!Estimate": "(X)",
         "District of Columbia!!Percent!!Margin of Error": "(X)",
         "District of Columbia!!Total!!Estimate": "536,768",
         "District of Columbia!!Total!!Margin of Error": "±3,759",
         "Florida!!Percent!!Estimate": "(X)",
         "Florida!!Percent!!Margin of Error": "(X)",
         "Florida!!Total!!Estimate": "15,507,315",
         "Florida!!Total!!Margin of Error": "±36,626",
         "Georgia!!Percent!!Estimate": "(X)",
         "Georgia!!Percent!!Margin of Error": "(X)",
         "Georgia!!Total!!Estimate": "7,581,837",
         "Georgia!!Total!!Margin of Error": "±15,544",
         "Hawaii!!Percent!!Estimate": "(X)",
         "Hawaii!!Percent!!Margin of Error": "(X)",
         "Hawaii!!Total!!Estimate": "1,014,035",
         "Hawaii!!Total!!Margin of Error": "±7,799",
         "Idaho!!Percent!!Estimate": "(X)",
         "Idaho!!Percent!!Margin of Error": "(X)",
         "Idaho!!Total!!Estimate": "1,282,630",
         "Idaho!!Total!!Margin of Error": "±4,858",
         "Illinois!!Percent!!Estimate": "(X)",
         "Illinois!!Percent!!Margin of Error": "(X)",
         "Illinois!!Total!!Estimate": "9,088,036",
         "Illinois!!Total!!Margin of Error": "±18,556",
         "Indiana!!Percent!!Estimate": "(X)",
         "Indiana!!Percent!!Margin of Error": "(X)",
         "Indiana!!Total!!Estimate": "4,978,356",
         "Indiana!!Total!!Margin of Error": "±9,818",
         "Iowa!!Percent!!Estimate": "(X)",
         "Iowa!!Percent!!Margin of Error": "(X)",
         "Iowa!!Total!!Estimate": "2,348,787",
         "Iowa!!Total!!Margin of Error": "±7,007",
         "Kansas!!Percent!!Estimate": "(X)",
         "Kansas!!Percent!!Margin of Error": "(X)",
         "Kansas!!Total!!Estimate": "2,103,748",
         "Kansas!!Total!!Margin of Error": "±7,581",
         "Kentucky!!Percent!!Estimate": "(X)",
         "Kentucky!!Percent!!Margin of Error": "(X)",
         "Kentucky!!Total!!Estimate": "3,367,502",
         "Kentucky!!Total!!Margin of Error": "±6,355",
         "Label": "Citizens 18 years and over",
         "Louisiana!!Percent!!Estimate": "(X)",
         "Louisiana!!Percent!!Margin of Error": "(X)",
         "Louisiana!!Total!!Estimate": "3,463,372",
         "Louisiana!!Total!!Margin of Error": "±7,950",
         "Maine!!Percent!!Estimate": "(X)",
         "Maine!!Percent!!Margin of Error": "(X)",
         "Maine!!Total!!Estimate": "1,078,770",
         "Maine!!Total!!Margin of Error": "±2,292",
         "Maryland!!Percent!!Estimate": "(X)",
         "Maryland!!Percent!!Margin of Error": "(X)",
         "Maryland!!Total!!Estimate": "4,316,921",
         "Maryland!!Total!!Margin of Error": "±12,812",
         "Massachusetts!!Percent!!Estimate": "(X)",
         "Massachusetts!!Percent!!Margin of Error": "(X)",
         "Massachusetts!!Total!!Estimate": "5,057,192",
         "Massachusetts!!Total!!Margin of Error": "±15,957",
         "Michigan!!Percent!!Estimate": "(X)",
         "Michigan!!Percent!!Margin of Error": "(X)",
         "Michigan!!Total!!Estimate": "7,562,464",
         "Michigan!!Total!!Margin of Error": "±9,607",
         "Minnesota!!Percent!!Estimate": "(X)",
         "Minnesota!!Percent!!Margin of Error": "(X)",
         "Minnesota!!Total!!Estimate": "4,157,556",
         "Minnesota!!Total!!Margin of Error": "±10,015",
         "Mississippi!!Percent!!Estimate": "(X)",
         "Mississippi!!Percent!!Margin of Error": "(X)",
         "Mississippi!!Total!!Estimate": "2,246,323",
         "Mississippi!!Total!!Margin of Error": "±3,740",
         "Missouri!!Percent!!Estimate": "(X)",
         "Missouri!!Percent!!Margin of Error": "(X)",
         "Missouri!!Total!!Estimate": "4,650,318",
         "Missouri!!Total!!Margin of Error": "±8,536",
         "Montana!!Percent!!Estimate": "(X)",
         "Montana!!Percent!!Margin of Error": "(X)",
         "Montana!!Total!!Estimate": "831,760",
         "Montana!!Total!!Margin of Error": "±2,687",
         "Nebraska!!Percent!!Estimate": "(X)",
         "Nebraska!!Percent!!Margin of Error": "(X)",
         "Nebraska!!Total!!Estimate": "1,388,950",
         "Nebraska!!Total!!Margin of Error": "±4,650",
         "Nevada!!Percent!!Estimate": "(X)",
         "Nevada!!Percent!!Margin of Error": "(X)",
         "Nevada!!Total!!Estimate": "2,111,932",
         "Nevada!!Total!!Margin of Error": "±11,615",
         "New Hampshire!!Percent!!Estimate": "(X)",
         "New Hampshire!!Percent!!Margin of Error": "(X)",
         "New Hampshire!!Total!!Estimate": "1,070,215",
         "New Hampshire!!Total!!Margin of Error": "±3,043",
         "New Jersey!!Percent!!Estimate": "(X)",
         "New Jersey!!Percent!!Margin of Error": "(X)",
         "New Jersey!!Total!!Estimate": "6,170,130",
         "New Jersey!!Total!!Margin of Error": "±19,781",
         "New Mexico!!Percent!!Estimate": "(X)",
         "New Mexico!!Percent!!Margin of Error": "(X)",
         "New Mexico!!Total!!Estimate": "1,522,171",
         "New Mexico!!Total!!Margin of Error": "±8,220",
         "New York!!Percent!!Estimate": "(X)",
         "New York!!Percent!!Margin of Error": "(X)",
         "New York!!Total!!Estimate": "13,810,830",
         "New York!!Total!!Margin of Error": "±26,483",
         "North Carolina!!Percent!!Estimate": "(X)",
         "North Carolina!!Percent!!Margin of Error": "(X)",
         "North Carolina!!Total!!Estimate": "7,729,644",
         "North Carolina!!Total!!Margin of Error": "±14,955",
         "North Dakota!!Percent!!Estimate": "(X)",
         "North Dakota!!Percent!!Margin of Error": "(X)",
         "North Dakota!!Total!!Estimate": "567,545",
         "North Dakota!!Total!!Margin of Error": "±3,405",
         "Ohio!!Percent!!Estimate": "(X)",
         "Ohio!!Percent!!Margin of Error": "(X)",
         "Ohio!!Total!!Estimate": "8,879,469",
         "Ohio!!Total!!Margin of Error": "±11,311",
         "Oklahoma!!Percent!!Estimate": "(X)",
         "Oklahoma!!Percent!!Margin of Error": "(X)",
         "Oklahoma!!Total!!Estimate": "2,875,059",
         "Oklahoma!!Total!!Margin of Error": "±6,555",
         "Oregon!!Percent!!Estimate": "(X)",
         "Oregon!!Percent!!Margin of Error": "(X)",
         "Oregon!!Total!!Estimate": "3,162,204",
         "Oregon!!Total!!Margin of Error": "±8,902",
         "Pennsylvania!!Percent!!Estimate": "(X)",
         "Pennsylvania!!Percent!!Margin of Error": "(X)",
         "Pennsylvania!!Total!!Estimate": "9,810,201",
         "Pennsylvania!!Total!!Margin of Error": "±11,994",
         "Puerto Rico!!Percent!!Estimate": "(X)",
         "Puerto Rico!!Percent!!Margin of Error": "(X)",
         "Puerto Rico!!Total!!Estimate": "2,579,596",
         "Puerto Rico!!Total!!Margin of Error": "±4,489",
         "Rhode Island!!Percent!!Estimate": "(X)",
         "Rhode Island!!Percent!!Margin of Error": "(X)",
         "Rhode Island!!Total!!Estimate": "800,798",
         "Rhode Island!!Total!!Margin of Error": "±6,226",
         "South Carolina!!Percent!!Estimate": "(X)",
         "South Carolina!!Percent!!Margin of Error": "(X)",
         "South Carolina!!Total!!Estimate": "3,892,341",
         "South Carolina!!Total!!Margin of Error": "±8,830",
         "South Dakota!!Percent!!Estimate": "(X)",
         "South Dakota!!Percent!!Margin of Error": "(X)",
         "South Dakota!!Total!!Estimate": "653,394",
         "South Dakota!!Total!!Margin of Error": "±3,086",
         "Tennessee!!Percent!!Estimate": "(X)",
         "Tennessee!!Percent!!Margin of Error": "(X)",
         "Tennessee!!Total!!Estimate": "5,129,580",
         "Tennessee!!Total!!Margin of Error": "±9,861",
         "Texas!!Percent!!Estimate": "(X)",
         "Texas!!Percent!!Margin of Error": "(X)",
         "Texas!!Total!!Estimate": "18,875,542",
         "Texas!!Total!!Margin of Error": "±40,970",
         "Utah!!Percent!!Estimate": "(X)",
         "Utah!!Percent!!Margin of Error": "(X)",
         "Utah!!Total!!Estimate": "2,134,249",
         "Utah!!Total!!Margin of Error": "±6,329",
         "Vermont!!Percent!!Estimate": "(X)",
         "Vermont!!Percent!!Margin of Error": "(X)",
         "Vermont!!Total!!Estimate": "498,705",
         "Vermont!!Total!!Margin of Error": "±2,756",
         "Virginia!!Percent!!Estimate": "(X)",
         "Virginia!!Percent!!Margin of Error": "(X)",
         "Virginia!!Total!!Estimate": "6,226,623",
         "Virginia!!Total!!Margin of Error": "±14,924",
         "Washington!!Percent!!Estimate": "(X)",
         "Washington!!Percent!!Margin of Error": "(X)",
         "Washington!!Total!!Estimate": "5,409,035",
         "Washington!!Total!!Margin of Error": "±14,907",
         "West Virginia!!Percent!!Estimate": "(X)",
         "West Virginia!!Percent!!Margin of Error": "(X)",
         "West Virginia!!Total!!Estimate": "1,420,289",
         "West Virginia!!Total!!Margin of Error": "±2,281",
         "Wisconsin!!Percent!!Estimate": "(X)",
         "Wisconsin!!Percent!!Margin of Error": "(X)",
         "Wisconsin!!Total!!Estimate": "4,412,888",
         "Wisconsin!!Total!!Margin of Error": "±7,908",
         "Wyoming!!Percent!!Estimate": "(X)",
         "Wyoming!!Percent!!Margin of Error": "(X)",
         "Wyoming!!Total!!Estimate": "434,852",
         "Wyoming!!Total!!Margin of Error": "±2,587",
         "_deepnote_index_column": 0
        },
        {
         "Alabama!!Percent!!Estimate": "nan",
         "Alabama!!Percent!!Margin of Error": "nan",
         "Alabama!!Total!!Estimate": "nan",
         "Alabama!!Total!!Margin of Error": "nan",
         "Alaska!!Percent!!Estimate": "nan",
         "Alaska!!Percent!!Margin of Error": "nan",
         "Alaska!!Total!!Estimate": "nan",
         "Alaska!!Total!!Margin of Error": "nan",
         "Arizona!!Percent!!Estimate": "nan",
         "Arizona!!Percent!!Margin of Error": "nan",
         "Arizona!!Total!!Estimate": "nan",
         "Arizona!!Total!!Margin of Error": "nan",
         "Arkansas!!Percent!!Estimate": "nan",
         "Arkansas!!Percent!!Margin of Error": "nan",
         "Arkansas!!Total!!Estimate": "nan",
         "Arkansas!!Total!!Margin of Error": "nan",
         "California!!Percent!!Estimate": "nan",
         "California!!Percent!!Margin of Error": "nan",
         "California!!Total!!Estimate": "nan",
         "California!!Total!!Margin of Error": "nan",
         "Colorado!!Percent!!Estimate": "nan",
         "Colorado!!Percent!!Margin of Error": "nan",
         "Colorado!!Total!!Estimate": "nan",
         "Colorado!!Total!!Margin of Error": "nan",
         "Connecticut!!Percent!!Estimate": "nan",
         "Connecticut!!Percent!!Margin of Error": "nan",
         "Connecticut!!Total!!Estimate": "nan",
         "Connecticut!!Total!!Margin of Error": "nan",
         "Delaware!!Percent!!Estimate": "nan",
         "Delaware!!Percent!!Margin of Error": "nan",
         "Delaware!!Total!!Estimate": "nan",
         "Delaware!!Total!!Margin of Error": "nan",
         "District of Columbia!!Percent!!Estimate": "nan",
         "District of Columbia!!Percent!!Margin of Error": "nan",
         "District of Columbia!!Total!!Estimate": "nan",
         "District of Columbia!!Total!!Margin of Error": "nan",
         "Florida!!Percent!!Estimate": "nan",
         "Florida!!Percent!!Margin of Error": "nan",
         "Florida!!Total!!Estimate": "nan",
         "Florida!!Total!!Margin of Error": "nan",
         "Georgia!!Percent!!Estimate": "nan",
         "Georgia!!Percent!!Margin of Error": "nan",
         "Georgia!!Total!!Estimate": "nan",
         "Georgia!!Total!!Margin of Error": "nan",
         "Hawaii!!Percent!!Estimate": "nan",
         "Hawaii!!Percent!!Margin of Error": "nan",
         "Hawaii!!Total!!Estimate": "nan",
         "Hawaii!!Total!!Margin of Error": "nan",
         "Idaho!!Percent!!Estimate": "nan",
         "Idaho!!Percent!!Margin of Error": "nan",
         "Idaho!!Total!!Estimate": "nan",
         "Idaho!!Total!!Margin of Error": "nan",
         "Illinois!!Percent!!Estimate": "nan",
         "Illinois!!Percent!!Margin of Error": "nan",
         "Illinois!!Total!!Estimate": "nan",
         "Illinois!!Total!!Margin of Error": "nan",
         "Indiana!!Percent!!Estimate": "nan",
         "Indiana!!Percent!!Margin of Error": "nan",
         "Indiana!!Total!!Estimate": "nan",
         "Indiana!!Total!!Margin of Error": "nan",
         "Iowa!!Percent!!Estimate": "nan",
         "Iowa!!Percent!!Margin of Error": "nan",
         "Iowa!!Total!!Estimate": "nan",
         "Iowa!!Total!!Margin of Error": "nan",
         "Kansas!!Percent!!Estimate": "nan",
         "Kansas!!Percent!!Margin of Error": "nan",
         "Kansas!!Total!!Estimate": "nan",
         "Kansas!!Total!!Margin of Error": "nan",
         "Kentucky!!Percent!!Estimate": "nan",
         "Kentucky!!Percent!!Margin of Error": "nan",
         "Kentucky!!Total!!Estimate": "nan",
         "Kentucky!!Total!!Margin of Error": "nan",
         "Label": "    AGE",
         "Louisiana!!Percent!!Estimate": "nan",
         "Louisiana!!Percent!!Margin of Error": "nan",
         "Louisiana!!Total!!Estimate": "nan",
         "Louisiana!!Total!!Margin of Error": "nan",
         "Maine!!Percent!!Estimate": "nan",
         "Maine!!Percent!!Margin of Error": "nan",
         "Maine!!Total!!Estimate": "nan",
         "Maine!!Total!!Margin of Error": "nan",
         "Maryland!!Percent!!Estimate": "nan",
         "Maryland!!Percent!!Margin of Error": "nan",
         "Maryland!!Total!!Estimate": "nan",
         "Maryland!!Total!!Margin of Error": "nan",
         "Massachusetts!!Percent!!Estimate": "nan",
         "Massachusetts!!Percent!!Margin of Error": "nan",
         "Massachusetts!!Total!!Estimate": "nan",
         "Massachusetts!!Total!!Margin of Error": "nan",
         "Michigan!!Percent!!Estimate": "nan",
         "Michigan!!Percent!!Margin of Error": "nan",
         "Michigan!!Total!!Estimate": "nan",
         "Michigan!!Total!!Margin of Error": "nan",
         "Minnesota!!Percent!!Estimate": "nan",
         "Minnesota!!Percent!!Margin of Error": "nan",
         "Minnesota!!Total!!Estimate": "nan",
         "Minnesota!!Total!!Margin of Error": "nan",
         "Mississippi!!Percent!!Estimate": "nan",
         "Mississippi!!Percent!!Margin of Error": "nan",
         "Mississippi!!Total!!Estimate": "nan",
         "Mississippi!!Total!!Margin of Error": "nan",
         "Missouri!!Percent!!Estimate": "nan",
         "Missouri!!Percent!!Margin of Error": "nan",
         "Missouri!!Total!!Estimate": "nan",
         "Missouri!!Total!!Margin of Error": "nan",
         "Montana!!Percent!!Estimate": "nan",
         "Montana!!Percent!!Margin of Error": "nan",
         "Montana!!Total!!Estimate": "nan",
         "Montana!!Total!!Margin of Error": "nan",
         "Nebraska!!Percent!!Estimate": "nan",
         "Nebraska!!Percent!!Margin of Error": "nan",
         "Nebraska!!Total!!Estimate": "nan",
         "Nebraska!!Total!!Margin of Error": "nan",
         "Nevada!!Percent!!Estimate": "nan",
         "Nevada!!Percent!!Margin of Error": "nan",
         "Nevada!!Total!!Estimate": "nan",
         "Nevada!!Total!!Margin of Error": "nan",
         "New Hampshire!!Percent!!Estimate": "nan",
         "New Hampshire!!Percent!!Margin of Error": "nan",
         "New Hampshire!!Total!!Estimate": "nan",
         "New Hampshire!!Total!!Margin of Error": "nan",
         "New Jersey!!Percent!!Estimate": "nan",
         "New Jersey!!Percent!!Margin of Error": "nan",
         "New Jersey!!Total!!Estimate": "nan",
         "New Jersey!!Total!!Margin of Error": "nan",
         "New Mexico!!Percent!!Estimate": "nan",
         "New Mexico!!Percent!!Margin of Error": "nan",
         "New Mexico!!Total!!Estimate": "nan",
         "New Mexico!!Total!!Margin of Error": "nan",
         "New York!!Percent!!Estimate": "nan",
         "New York!!Percent!!Margin of Error": "nan",
         "New York!!Total!!Estimate": "nan",
         "New York!!Total!!Margin of Error": "nan",
         "North Carolina!!Percent!!Estimate": "nan",
         "North Carolina!!Percent!!Margin of Error": "nan",
         "North Carolina!!Total!!Estimate": "nan",
         "North Carolina!!Total!!Margin of Error": "nan",
         "North Dakota!!Percent!!Estimate": "nan",
         "North Dakota!!Percent!!Margin of Error": "nan",
         "North Dakota!!Total!!Estimate": "nan",
         "North Dakota!!Total!!Margin of Error": "nan",
         "Ohio!!Percent!!Estimate": "nan",
         "Ohio!!Percent!!Margin of Error": "nan",
         "Ohio!!Total!!Estimate": "nan",
         "Ohio!!Total!!Margin of Error": "nan",
         "Oklahoma!!Percent!!Estimate": "nan",
         "Oklahoma!!Percent!!Margin of Error": "nan",
         "Oklahoma!!Total!!Estimate": "nan",
         "Oklahoma!!Total!!Margin of Error": "nan",
         "Oregon!!Percent!!Estimate": "nan",
         "Oregon!!Percent!!Margin of Error": "nan",
         "Oregon!!Total!!Estimate": "nan",
         "Oregon!!Total!!Margin of Error": "nan",
         "Pennsylvania!!Percent!!Estimate": "nan",
         "Pennsylvania!!Percent!!Margin of Error": "nan",
         "Pennsylvania!!Total!!Estimate": "nan",
         "Pennsylvania!!Total!!Margin of Error": "nan",
         "Puerto Rico!!Percent!!Estimate": "nan",
         "Puerto Rico!!Percent!!Margin of Error": "nan",
         "Puerto Rico!!Total!!Estimate": "nan",
         "Puerto Rico!!Total!!Margin of Error": "nan",
         "Rhode Island!!Percent!!Estimate": "nan",
         "Rhode Island!!Percent!!Margin of Error": "nan",
         "Rhode Island!!Total!!Estimate": "nan",
         "Rhode Island!!Total!!Margin of Error": "nan",
         "South Carolina!!Percent!!Estimate": "nan",
         "South Carolina!!Percent!!Margin of Error": "nan",
         "South Carolina!!Total!!Estimate": "nan",
         "South Carolina!!Total!!Margin of Error": "nan",
         "South Dakota!!Percent!!Estimate": "nan",
         "South Dakota!!Percent!!Margin of Error": "nan",
         "South Dakota!!Total!!Estimate": "nan",
         "South Dakota!!Total!!Margin of Error": "nan",
         "Tennessee!!Percent!!Estimate": "nan",
         "Tennessee!!Percent!!Margin of Error": "nan",
         "Tennessee!!Total!!Estimate": "nan",
         "Tennessee!!Total!!Margin of Error": "nan",
         "Texas!!Percent!!Estimate": "nan",
         "Texas!!Percent!!Margin of Error": "nan",
         "Texas!!Total!!Estimate": "nan",
         "Texas!!Total!!Margin of Error": "nan",
         "Utah!!Percent!!Estimate": "nan",
         "Utah!!Percent!!Margin of Error": "nan",
         "Utah!!Total!!Estimate": "nan",
         "Utah!!Total!!Margin of Error": "nan",
         "Vermont!!Percent!!Estimate": "nan",
         "Vermont!!Percent!!Margin of Error": "nan",
         "Vermont!!Total!!Estimate": "nan",
         "Vermont!!Total!!Margin of Error": "nan",
         "Virginia!!Percent!!Estimate": "nan",
         "Virginia!!Percent!!Margin of Error": "nan",
         "Virginia!!Total!!Estimate": "nan",
         "Virginia!!Total!!Margin of Error": "nan",
         "Washington!!Percent!!Estimate": "nan",
         "Washington!!Percent!!Margin of Error": "nan",
         "Washington!!Total!!Estimate": "nan",
         "Washington!!Total!!Margin of Error": "nan",
         "West Virginia!!Percent!!Estimate": "nan",
         "West Virginia!!Percent!!Margin of Error": "nan",
         "West Virginia!!Total!!Estimate": "nan",
         "West Virginia!!Total!!Margin of Error": "nan",
         "Wisconsin!!Percent!!Estimate": "nan",
         "Wisconsin!!Percent!!Margin of Error": "nan",
         "Wisconsin!!Total!!Estimate": "nan",
         "Wisconsin!!Total!!Margin of Error": "nan",
         "Wyoming!!Percent!!Estimate": "nan",
         "Wyoming!!Percent!!Margin of Error": "nan",
         "Wyoming!!Total!!Estimate": "nan",
         "Wyoming!!Total!!Margin of Error": "nan",
         "_deepnote_index_column": 1
        }
       ]
      },
      "text/html": [
       "<div>\n",
       "<style scoped>\n",
       "    .dataframe tbody tr th:only-of-type {\n",
       "        vertical-align: middle;\n",
       "    }\n",
       "\n",
       "    .dataframe tbody tr th {\n",
       "        vertical-align: top;\n",
       "    }\n",
       "\n",
       "    .dataframe thead th {\n",
       "        text-align: right;\n",
       "    }\n",
       "</style>\n",
       "<table border=\"1\" class=\"dataframe\">\n",
       "  <thead>\n",
       "    <tr style=\"text-align: right;\">\n",
       "      <th></th>\n",
       "      <th>Label</th>\n",
       "      <th>Alabama!!Total!!Estimate</th>\n",
       "      <th>Alabama!!Total!!Margin of Error</th>\n",
       "      <th>Alabama!!Percent!!Estimate</th>\n",
       "      <th>Alabama!!Percent!!Margin of Error</th>\n",
       "      <th>Alaska!!Total!!Estimate</th>\n",
       "      <th>Alaska!!Total!!Margin of Error</th>\n",
       "      <th>Alaska!!Percent!!Estimate</th>\n",
       "      <th>Alaska!!Percent!!Margin of Error</th>\n",
       "      <th>Arizona!!Total!!Estimate</th>\n",
       "      <th>...</th>\n",
       "      <th>Wisconsin!!Percent!!Estimate</th>\n",
       "      <th>Wisconsin!!Percent!!Margin of Error</th>\n",
       "      <th>Wyoming!!Total!!Estimate</th>\n",
       "      <th>Wyoming!!Total!!Margin of Error</th>\n",
       "      <th>Wyoming!!Percent!!Estimate</th>\n",
       "      <th>Wyoming!!Percent!!Margin of Error</th>\n",
       "      <th>Puerto Rico!!Total!!Estimate</th>\n",
       "      <th>Puerto Rico!!Total!!Margin of Error</th>\n",
       "      <th>Puerto Rico!!Percent!!Estimate</th>\n",
       "      <th>Puerto Rico!!Percent!!Margin of Error</th>\n",
       "    </tr>\n",
       "  </thead>\n",
       "  <tbody>\n",
       "    <tr>\n",
       "      <th>0</th>\n",
       "      <td>Citizens 18 years and over</td>\n",
       "      <td>3,731,336</td>\n",
       "      <td>±6,395</td>\n",
       "      <td>(X)</td>\n",
       "      <td>(X)</td>\n",
       "      <td>533,151</td>\n",
       "      <td>±2,609</td>\n",
       "      <td>(X)</td>\n",
       "      <td>(X)</td>\n",
       "      <td>5,137,474</td>\n",
       "      <td>...</td>\n",
       "      <td>(X)</td>\n",
       "      <td>(X)</td>\n",
       "      <td>434,852</td>\n",
       "      <td>±2,587</td>\n",
       "      <td>(X)</td>\n",
       "      <td>(X)</td>\n",
       "      <td>2,579,596</td>\n",
       "      <td>±4,489</td>\n",
       "      <td>(X)</td>\n",
       "      <td>(X)</td>\n",
       "    </tr>\n",
       "    <tr>\n",
       "      <th>1</th>\n",
       "      <td>AGE</td>\n",
       "      <td>NaN</td>\n",
       "      <td>NaN</td>\n",
       "      <td>NaN</td>\n",
       "      <td>NaN</td>\n",
       "      <td>NaN</td>\n",
       "      <td>NaN</td>\n",
       "      <td>NaN</td>\n",
       "      <td>NaN</td>\n",
       "      <td>NaN</td>\n",
       "      <td>...</td>\n",
       "      <td>NaN</td>\n",
       "      <td>NaN</td>\n",
       "      <td>NaN</td>\n",
       "      <td>NaN</td>\n",
       "      <td>NaN</td>\n",
       "      <td>NaN</td>\n",
       "      <td>NaN</td>\n",
       "      <td>NaN</td>\n",
       "      <td>NaN</td>\n",
       "      <td>NaN</td>\n",
       "    </tr>\n",
       "    <tr>\n",
       "      <th>2</th>\n",
       "      <td>18 to 29 years</td>\n",
       "      <td>763,649</td>\n",
       "      <td>±5,131</td>\n",
       "      <td>20.50%</td>\n",
       "      <td>±0.1</td>\n",
       "      <td>123,692</td>\n",
       "      <td>±3,120</td>\n",
       "      <td>23.20%</td>\n",
       "      <td>±0.5</td>\n",
       "      <td>1,118,272</td>\n",
       "      <td>...</td>\n",
       "      <td>20.00%</td>\n",
       "      <td>±0.1</td>\n",
       "      <td>90,057</td>\n",
       "      <td>±2,459</td>\n",
       "      <td>20.70%</td>\n",
       "      <td>±0.5</td>\n",
       "      <td>516,634</td>\n",
       "      <td>±1,457</td>\n",
       "      <td>20.00%</td>\n",
       "      <td>±0.1</td>\n",
       "    </tr>\n",
       "    <tr>\n",
       "      <th>3</th>\n",
       "      <td>30 to 44 years</td>\n",
       "      <td>875,096</td>\n",
       "      <td>±6,488</td>\n",
       "      <td>23.50%</td>\n",
       "      <td>±0.2</td>\n",
       "      <td>144,125</td>\n",
       "      <td>±3,535</td>\n",
       "      <td>27.00%</td>\n",
       "      <td>±0.7</td>\n",
       "      <td>1,186,802</td>\n",
       "      <td>...</td>\n",
       "      <td>23.10%</td>\n",
       "      <td>±0.1</td>\n",
       "      <td>106,773</td>\n",
       "      <td>±2,208</td>\n",
       "      <td>24.60%</td>\n",
       "      <td>±0.5</td>\n",
       "      <td>563,268</td>\n",
       "      <td>±2,573</td>\n",
       "      <td>21.80%</td>\n",
       "      <td>±0.1</td>\n",
       "    </tr>\n",
       "    <tr>\n",
       "      <th>4</th>\n",
       "      <td>45 to 64 years</td>\n",
       "      <td>1,243,536</td>\n",
       "      <td>±6,120</td>\n",
       "      <td>33.30%</td>\n",
       "      <td>±0.2</td>\n",
       "      <td>176,561</td>\n",
       "      <td>±3,579</td>\n",
       "      <td>33.10%</td>\n",
       "      <td>±0.6</td>\n",
       "      <td>1,573,498</td>\n",
       "      <td>...</td>\n",
       "      <td>34.10%</td>\n",
       "      <td>±0.1</td>\n",
       "      <td>139,611</td>\n",
       "      <td>±2,260</td>\n",
       "      <td>32.10%</td>\n",
       "      <td>±0.5</td>\n",
       "      <td>825,956</td>\n",
       "      <td>±2,893</td>\n",
       "      <td>32.00%</td>\n",
       "      <td>±0.1</td>\n",
       "    </tr>\n",
       "    <tr>\n",
       "      <th>5</th>\n",
       "      <td>65 years and over</td>\n",
       "      <td>849,055</td>\n",
       "      <td>±4,126</td>\n",
       "      <td>22.80%</td>\n",
       "      <td>±0.1</td>\n",
       "      <td>88,773</td>\n",
       "      <td>±1,912</td>\n",
       "      <td>16.70%</td>\n",
       "      <td>±0.4</td>\n",
       "      <td>1,258,902</td>\n",
       "      <td>...</td>\n",
       "      <td>22.90%</td>\n",
       "      <td>±0.1</td>\n",
       "      <td>98,411</td>\n",
       "      <td>±1,489</td>\n",
       "      <td>22.60%</td>\n",
       "      <td>±0.4</td>\n",
       "      <td>673,738</td>\n",
       "      <td>±1,370</td>\n",
       "      <td>26.10%</td>\n",
       "      <td>±0.1</td>\n",
       "    </tr>\n",
       "    <tr>\n",
       "      <th>6</th>\n",
       "      <td>SEX</td>\n",
       "      <td>NaN</td>\n",
       "      <td>NaN</td>\n",
       "      <td>NaN</td>\n",
       "      <td>NaN</td>\n",
       "      <td>NaN</td>\n",
       "      <td>NaN</td>\n",
       "      <td>NaN</td>\n",
       "      <td>NaN</td>\n",
       "      <td>NaN</td>\n",
       "      <td>...</td>\n",
       "      <td>NaN</td>\n",
       "      <td>NaN</td>\n",
       "      <td>NaN</td>\n",
       "      <td>NaN</td>\n",
       "      <td>NaN</td>\n",
       "      <td>NaN</td>\n",
       "      <td>NaN</td>\n",
       "      <td>NaN</td>\n",
       "      <td>NaN</td>\n",
       "      <td>NaN</td>\n",
       "    </tr>\n",
       "    <tr>\n",
       "      <th>7</th>\n",
       "      <td>Male</td>\n",
       "      <td>1,768,386</td>\n",
       "      <td>±4,711</td>\n",
       "      <td>47.40%</td>\n",
       "      <td>±0.1</td>\n",
       "      <td>278,479</td>\n",
       "      <td>±2,343</td>\n",
       "      <td>52.20%</td>\n",
       "      <td>±0.3</td>\n",
       "      <td>2,533,931</td>\n",
       "      <td>...</td>\n",
       "      <td>49.20%</td>\n",
       "      <td>±0.1</td>\n",
       "      <td>220,281</td>\n",
       "      <td>±2,326</td>\n",
       "      <td>50.70%</td>\n",
       "      <td>±0.4</td>\n",
       "      <td>1,206,627</td>\n",
       "      <td>±2,330</td>\n",
       "      <td>46.80%</td>\n",
       "      <td>±0.1</td>\n",
       "    </tr>\n",
       "    <tr>\n",
       "      <th>8</th>\n",
       "      <td>Female</td>\n",
       "      <td>1,962,950</td>\n",
       "      <td>±4,023</td>\n",
       "      <td>52.60%</td>\n",
       "      <td>±0.1</td>\n",
       "      <td>254,672</td>\n",
       "      <td>±2,031</td>\n",
       "      <td>47.80%</td>\n",
       "      <td>±0.3</td>\n",
       "      <td>2,603,543</td>\n",
       "      <td>...</td>\n",
       "      <td>50.80%</td>\n",
       "      <td>±0.1</td>\n",
       "      <td>214,571</td>\n",
       "      <td>±2,194</td>\n",
       "      <td>49.30%</td>\n",
       "      <td>±0.4</td>\n",
       "      <td>1,372,969</td>\n",
       "      <td>±3,089</td>\n",
       "      <td>53.20%</td>\n",
       "      <td>±0.1</td>\n",
       "    </tr>\n",
       "    <tr>\n",
       "      <th>9</th>\n",
       "      <td>RACE AND HISPANIC ORIGIN</td>\n",
       "      <td>NaN</td>\n",
       "      <td>NaN</td>\n",
       "      <td>NaN</td>\n",
       "      <td>NaN</td>\n",
       "      <td>NaN</td>\n",
       "      <td>NaN</td>\n",
       "      <td>NaN</td>\n",
       "      <td>NaN</td>\n",
       "      <td>NaN</td>\n",
       "      <td>...</td>\n",
       "      <td>NaN</td>\n",
       "      <td>NaN</td>\n",
       "      <td>NaN</td>\n",
       "      <td>NaN</td>\n",
       "      <td>NaN</td>\n",
       "      <td>NaN</td>\n",
       "      <td>NaN</td>\n",
       "      <td>NaN</td>\n",
       "      <td>NaN</td>\n",
       "      <td>NaN</td>\n",
       "    </tr>\n",
       "    <tr>\n",
       "      <th>10</th>\n",
       "      <td>White alone</td>\n",
       "      <td>2,609,612</td>\n",
       "      <td>±5,498</td>\n",
       "      <td>69.90%</td>\n",
       "      <td>±0.1</td>\n",
       "      <td>365,703</td>\n",
       "      <td>±3,158</td>\n",
       "      <td>68.60%</td>\n",
       "      <td>±0.5</td>\n",
       "      <td>4,166,945</td>\n",
       "      <td>...</td>\n",
       "      <td>88.70%</td>\n",
       "      <td>±0.2</td>\n",
       "      <td>404,270</td>\n",
       "      <td>±2,051</td>\n",
       "      <td>93.00%</td>\n",
       "      <td>±0.5</td>\n",
       "      <td>1,683,468</td>\n",
       "      <td>±12,768</td>\n",
       "      <td>65.30%</td>\n",
       "      <td>±0.5</td>\n",
       "    </tr>\n",
       "    <tr>\n",
       "      <th>11</th>\n",
       "      <td>Black or African American alone</td>\n",
       "      <td>996,812</td>\n",
       "      <td>±5,976</td>\n",
       "      <td>26.70%</td>\n",
       "      <td>±0.2</td>\n",
       "      <td>17,746</td>\n",
       "      <td>±1,323</td>\n",
       "      <td>3.30%</td>\n",
       "      <td>±0.2</td>\n",
       "      <td>240,721</td>\n",
       "      <td>...</td>\n",
       "      <td>5.90%</td>\n",
       "      <td>±0.1</td>\n",
       "      <td>N</td>\n",
       "      <td>N</td>\n",
       "      <td>N</td>\n",
       "      <td>N</td>\n",
       "      <td>319,052</td>\n",
       "      <td>±8,326</td>\n",
       "      <td>12.40%</td>\n",
       "      <td>±0.3</td>\n",
       "    </tr>\n",
       "    <tr>\n",
       "      <th>12</th>\n",
       "      <td>Asian alone</td>\n",
       "      <td>34,017</td>\n",
       "      <td>±2,204</td>\n",
       "      <td>0.90%</td>\n",
       "      <td>±0.1</td>\n",
       "      <td>26,683</td>\n",
       "      <td>±2,402</td>\n",
       "      <td>5.00%</td>\n",
       "      <td>±0.4</td>\n",
       "      <td>127,073</td>\n",
       "      <td>...</td>\n",
       "      <td>1.90%</td>\n",
       "      <td>±0.1</td>\n",
       "      <td>N</td>\n",
       "      <td>N</td>\n",
       "      <td>N</td>\n",
       "      <td>N</td>\n",
       "      <td>3,130</td>\n",
       "      <td>±1,176</td>\n",
       "      <td>0.10%</td>\n",
       "      <td>±0.1</td>\n",
       "    </tr>\n",
       "    <tr>\n",
       "      <th>13</th>\n",
       "      <td>American Indian and Alaska Native alone</td>\n",
       "      <td>N</td>\n",
       "      <td>N</td>\n",
       "      <td>N</td>\n",
       "      <td>N</td>\n",
       "      <td>N</td>\n",
       "      <td>N</td>\n",
       "      <td>N</td>\n",
       "      <td>N</td>\n",
       "      <td>234,229</td>\n",
       "      <td>...</td>\n",
       "      <td>N</td>\n",
       "      <td>N</td>\n",
       "      <td>N</td>\n",
       "      <td>N</td>\n",
       "      <td>N</td>\n",
       "      <td>N</td>\n",
       "      <td>N</td>\n",
       "      <td>N</td>\n",
       "      <td>N</td>\n",
       "      <td>N</td>\n",
       "    </tr>\n",
       "    <tr>\n",
       "      <th>14</th>\n",
       "      <td>Native Hawaiian and Other Pacific Isla...</td>\n",
       "      <td>N</td>\n",
       "      <td>N</td>\n",
       "      <td>N</td>\n",
       "      <td>N</td>\n",
       "      <td>6,247</td>\n",
       "      <td>±659</td>\n",
       "      <td>1.20%</td>\n",
       "      <td>±0.1</td>\n",
       "      <td>8,195</td>\n",
       "      <td>...</td>\n",
       "      <td>N</td>\n",
       "      <td>N</td>\n",
       "      <td>N</td>\n",
       "      <td>N</td>\n",
       "      <td>N</td>\n",
       "      <td>N</td>\n",
       "      <td>N</td>\n",
       "      <td>N</td>\n",
       "      <td>N</td>\n",
       "      <td>N</td>\n",
       "    </tr>\n",
       "    <tr>\n",
       "      <th>15</th>\n",
       "      <td>Some Other Race alone</td>\n",
       "      <td>23,467</td>\n",
       "      <td>±3,571</td>\n",
       "      <td>0.60%</td>\n",
       "      <td>±0.1</td>\n",
       "      <td>8,042</td>\n",
       "      <td>±2,390</td>\n",
       "      <td>1.50%</td>\n",
       "      <td>±0.4</td>\n",
       "      <td>213,705</td>\n",
       "      <td>...</td>\n",
       "      <td>1.20%</td>\n",
       "      <td>±0.1</td>\n",
       "      <td>5,738</td>\n",
       "      <td>±1,557</td>\n",
       "      <td>1.30%</td>\n",
       "      <td>±0.4</td>\n",
       "      <td>394,015</td>\n",
       "      <td>±12,050</td>\n",
       "      <td>15.30%</td>\n",
       "      <td>±0.5</td>\n",
       "    </tr>\n",
       "    <tr>\n",
       "      <th>16</th>\n",
       "      <td>Two or More Races</td>\n",
       "      <td>49,526</td>\n",
       "      <td>±4,572</td>\n",
       "      <td>1.30%</td>\n",
       "      <td>±0.1</td>\n",
       "      <td>30,744</td>\n",
       "      <td>±3,330</td>\n",
       "      <td>5.80%</td>\n",
       "      <td>±0.6</td>\n",
       "      <td>146,606</td>\n",
       "      <td>...</td>\n",
       "      <td>1.40%</td>\n",
       "      <td>±0.1</td>\n",
       "      <td>N</td>\n",
       "      <td>N</td>\n",
       "      <td>N</td>\n",
       "      <td>N</td>\n",
       "      <td>177,395</td>\n",
       "      <td>±9,797</td>\n",
       "      <td>6.90%</td>\n",
       "      <td>±0.4</td>\n",
       "    </tr>\n",
       "    <tr>\n",
       "      <th>17</th>\n",
       "      <td>Hispanic or Latino</td>\n",
       "      <td>80,762</td>\n",
       "      <td>±5,002</td>\n",
       "      <td>2.20%</td>\n",
       "      <td>±0.1</td>\n",
       "      <td>31,764</td>\n",
       "      <td>±1,315</td>\n",
       "      <td>6.00%</td>\n",
       "      <td>±0.2</td>\n",
       "      <td>1,231,576</td>\n",
       "      <td>...</td>\n",
       "      <td>4.30%</td>\n",
       "      <td>±0.1</td>\n",
       "      <td>33,380</td>\n",
       "      <td>±2,034</td>\n",
       "      <td>7.70%</td>\n",
       "      <td>±0.4</td>\n",
       "      <td>2,535,771</td>\n",
       "      <td>±5,859</td>\n",
       "      <td>98.30%</td>\n",
       "      <td>±0.2</td>\n",
       "    </tr>\n",
       "    <tr>\n",
       "      <th>18</th>\n",
       "      <td>White alone, Not Hispanic or Latino</td>\n",
       "      <td>2,556,191</td>\n",
       "      <td>±3,186</td>\n",
       "      <td>68.50%</td>\n",
       "      <td>±0.1</td>\n",
       "      <td>345,404</td>\n",
       "      <td>±2,490</td>\n",
       "      <td>64.80%</td>\n",
       "      <td>±0.4</td>\n",
       "      <td>3,235,378</td>\n",
       "      <td>...</td>\n",
       "      <td>85.90%</td>\n",
       "      <td>±0.1</td>\n",
       "      <td>379,616</td>\n",
       "      <td>±863</td>\n",
       "      <td>87.30%</td>\n",
       "      <td>±0.5</td>\n",
       "      <td>32,866</td>\n",
       "      <td>±4,432</td>\n",
       "      <td>1.30%</td>\n",
       "      <td>±0.2</td>\n",
       "    </tr>\n",
       "    <tr>\n",
       "      <th>19</th>\n",
       "      <td>EDUCATIONAL ATTAINMENT</td>\n",
       "      <td>NaN</td>\n",
       "      <td>NaN</td>\n",
       "      <td>NaN</td>\n",
       "      <td>NaN</td>\n",
       "      <td>NaN</td>\n",
       "      <td>NaN</td>\n",
       "      <td>NaN</td>\n",
       "      <td>NaN</td>\n",
       "      <td>NaN</td>\n",
       "      <td>...</td>\n",
       "      <td>NaN</td>\n",
       "      <td>NaN</td>\n",
       "      <td>NaN</td>\n",
       "      <td>NaN</td>\n",
       "      <td>NaN</td>\n",
       "      <td>NaN</td>\n",
       "      <td>NaN</td>\n",
       "      <td>NaN</td>\n",
       "      <td>NaN</td>\n",
       "      <td>NaN</td>\n",
       "    </tr>\n",
       "    <tr>\n",
       "      <th>20</th>\n",
       "      <td>Less than 9th grade</td>\n",
       "      <td>114,239</td>\n",
       "      <td>±6,471</td>\n",
       "      <td>3.10%</td>\n",
       "      <td>±0.2</td>\n",
       "      <td>9,142</td>\n",
       "      <td>±1,512</td>\n",
       "      <td>1.70%</td>\n",
       "      <td>±0.3</td>\n",
       "      <td>155,754</td>\n",
       "      <td>...</td>\n",
       "      <td>1.90%</td>\n",
       "      <td>±0.1</td>\n",
       "      <td>5,796</td>\n",
       "      <td>±1,190</td>\n",
       "      <td>1.30%</td>\n",
       "      <td>±0.3</td>\n",
       "      <td>319,033</td>\n",
       "      <td>±9,179</td>\n",
       "      <td>12.40%</td>\n",
       "      <td>±0.4</td>\n",
       "    </tr>\n",
       "    <tr>\n",
       "      <th>21</th>\n",
       "      <td>9th to 12th grade, no diploma</td>\n",
       "      <td>343,166</td>\n",
       "      <td>±12,075</td>\n",
       "      <td>9.20%</td>\n",
       "      <td>±0.3</td>\n",
       "      <td>28,018</td>\n",
       "      <td>±2,457</td>\n",
       "      <td>5.30%</td>\n",
       "      <td>±0.5</td>\n",
       "      <td>362,896</td>\n",
       "      <td>...</td>\n",
       "      <td>5.10%</td>\n",
       "      <td>±0.2</td>\n",
       "      <td>19,686</td>\n",
       "      <td>±2,745</td>\n",
       "      <td>4.50%</td>\n",
       "      <td>±0.6</td>\n",
       "      <td>183,512</td>\n",
       "      <td>±6,957</td>\n",
       "      <td>7.10%</td>\n",
       "      <td>±0.3</td>\n",
       "    </tr>\n",
       "    <tr>\n",
       "      <th>22</th>\n",
       "      <td>High school graduate (includes equival...</td>\n",
       "      <td>1,179,671</td>\n",
       "      <td>±16,769</td>\n",
       "      <td>31.60%</td>\n",
       "      <td>±0.4</td>\n",
       "      <td>160,911</td>\n",
       "      <td>±6,429</td>\n",
       "      <td>30.20%</td>\n",
       "      <td>±1.2</td>\n",
       "      <td>1,293,831</td>\n",
       "      <td>...</td>\n",
       "      <td>31.00%</td>\n",
       "      <td>±0.4</td>\n",
       "      <td>132,555</td>\n",
       "      <td>±7,000</td>\n",
       "      <td>30.50%</td>\n",
       "      <td>±1.6</td>\n",
       "      <td>721,499</td>\n",
       "      <td>±12,468</td>\n",
       "      <td>28.00%</td>\n",
       "      <td>±0.5</td>\n",
       "    </tr>\n",
       "    <tr>\n",
       "      <th>23</th>\n",
       "      <td>Some college, no degree</td>\n",
       "      <td>875,367</td>\n",
       "      <td>±14,742</td>\n",
       "      <td>23.50%</td>\n",
       "      <td>±0.4</td>\n",
       "      <td>146,027</td>\n",
       "      <td>±6,192</td>\n",
       "      <td>27.40%</td>\n",
       "      <td>±1.2</td>\n",
       "      <td>1,408,079</td>\n",
       "      <td>...</td>\n",
       "      <td>22.60%</td>\n",
       "      <td>±0.3</td>\n",
       "      <td>112,207</td>\n",
       "      <td>±5,112</td>\n",
       "      <td>25.80%</td>\n",
       "      <td>±1.2</td>\n",
       "      <td>420,365</td>\n",
       "      <td>±11,839</td>\n",
       "      <td>16.30%</td>\n",
       "      <td>±0.5</td>\n",
       "    </tr>\n",
       "    <tr>\n",
       "      <th>24</th>\n",
       "      <td>Associate's degree</td>\n",
       "      <td>320,135</td>\n",
       "      <td>±9,740</td>\n",
       "      <td>8.60%</td>\n",
       "      <td>±0.3</td>\n",
       "      <td>44,961</td>\n",
       "      <td>±3,276</td>\n",
       "      <td>8.40%</td>\n",
       "      <td>±0.6</td>\n",
       "      <td>446,537</td>\n",
       "      <td>...</td>\n",
       "      <td>10.40%</td>\n",
       "      <td>±0.2</td>\n",
       "      <td>48,662</td>\n",
       "      <td>±3,839</td>\n",
       "      <td>11.20%</td>\n",
       "      <td>±0.9</td>\n",
       "      <td>281,766</td>\n",
       "      <td>±10,973</td>\n",
       "      <td>10.90%</td>\n",
       "      <td>±0.4</td>\n",
       "    </tr>\n",
       "    <tr>\n",
       "      <th>25</th>\n",
       "      <td>Bachelor's degree</td>\n",
       "      <td>568,086</td>\n",
       "      <td>±14,398</td>\n",
       "      <td>15.20%</td>\n",
       "      <td>±0.4</td>\n",
       "      <td>89,372</td>\n",
       "      <td>±4,982</td>\n",
       "      <td>16.80%</td>\n",
       "      <td>±0.9</td>\n",
       "      <td>941,950</td>\n",
       "      <td>...</td>\n",
       "      <td>19.70%</td>\n",
       "      <td>±0.3</td>\n",
       "      <td>75,775</td>\n",
       "      <td>±4,684</td>\n",
       "      <td>17.40%</td>\n",
       "      <td>±1.1</td>\n",
       "      <td>471,277</td>\n",
       "      <td>±12,634</td>\n",
       "      <td>18.30%</td>\n",
       "      <td>±0.5</td>\n",
       "    </tr>\n",
       "    <tr>\n",
       "      <th>26</th>\n",
       "      <td>Graduate or professional degree</td>\n",
       "      <td>330,672</td>\n",
       "      <td>±10,291</td>\n",
       "      <td>8.90%</td>\n",
       "      <td>±0.3</td>\n",
       "      <td>54,720</td>\n",
       "      <td>±3,733</td>\n",
       "      <td>10.30%</td>\n",
       "      <td>±0.7</td>\n",
       "      <td>528,427</td>\n",
       "      <td>...</td>\n",
       "      <td>9.40%</td>\n",
       "      <td>±0.2</td>\n",
       "      <td>40,171</td>\n",
       "      <td>±3,112</td>\n",
       "      <td>9.20%</td>\n",
       "      <td>±0.7</td>\n",
       "      <td>182,144</td>\n",
       "      <td>±8,063</td>\n",
       "      <td>7.10%</td>\n",
       "      <td>±0.3</td>\n",
       "    </tr>\n",
       "    <tr>\n",
       "      <th>27</th>\n",
       "      <td>High school degree or higher</td>\n",
       "      <td>3,273,931</td>\n",
       "      <td>±14,649</td>\n",
       "      <td>87.70%</td>\n",
       "      <td>±0.4</td>\n",
       "      <td>495,991</td>\n",
       "      <td>±3,828</td>\n",
       "      <td>93.00%</td>\n",
       "      <td>±0.5</td>\n",
       "      <td>4,618,824</td>\n",
       "      <td>...</td>\n",
       "      <td>93.10%</td>\n",
       "      <td>±0.2</td>\n",
       "      <td>409,370</td>\n",
       "      <td>±3,682</td>\n",
       "      <td>94.10%</td>\n",
       "      <td>±0.7</td>\n",
       "      <td>2,077,051</td>\n",
       "      <td>±11,267</td>\n",
       "      <td>80.50%</td>\n",
       "      <td>±0.4</td>\n",
       "    </tr>\n",
       "    <tr>\n",
       "      <th>28</th>\n",
       "      <td>Bachelor's degree or higher</td>\n",
       "      <td>898,758</td>\n",
       "      <td>±18,373</td>\n",
       "      <td>24.10%</td>\n",
       "      <td>±0.5</td>\n",
       "      <td>144,092</td>\n",
       "      <td>±5,857</td>\n",
       "      <td>27.00%</td>\n",
       "      <td>±1.1</td>\n",
       "      <td>1,470,377</td>\n",
       "      <td>...</td>\n",
       "      <td>29.10%</td>\n",
       "      <td>±0.4</td>\n",
       "      <td>115,946</td>\n",
       "      <td>±5,443</td>\n",
       "      <td>26.70%</td>\n",
       "      <td>±1.2</td>\n",
       "      <td>653,421</td>\n",
       "      <td>±14,287</td>\n",
       "      <td>25.30%</td>\n",
       "      <td>±0.6</td>\n",
       "    </tr>\n",
       "    <tr>\n",
       "      <th>29</th>\n",
       "      <td>POVERTY STATUS</td>\n",
       "      <td>NaN</td>\n",
       "      <td>NaN</td>\n",
       "      <td>NaN</td>\n",
       "      <td>NaN</td>\n",
       "      <td>NaN</td>\n",
       "      <td>NaN</td>\n",
       "      <td>NaN</td>\n",
       "      <td>NaN</td>\n",
       "      <td>NaN</td>\n",
       "      <td>...</td>\n",
       "      <td>NaN</td>\n",
       "      <td>NaN</td>\n",
       "      <td>NaN</td>\n",
       "      <td>NaN</td>\n",
       "      <td>NaN</td>\n",
       "      <td>NaN</td>\n",
       "      <td>NaN</td>\n",
       "      <td>NaN</td>\n",
       "      <td>NaN</td>\n",
       "      <td>NaN</td>\n",
       "    </tr>\n",
       "    <tr>\n",
       "      <th>30</th>\n",
       "      <td>Total Citizens, 18 years and older, fo...</td>\n",
       "      <td>3,628,834</td>\n",
       "      <td>±6,358</td>\n",
       "      <td>(X)</td>\n",
       "      <td>(X)</td>\n",
       "      <td>519,473</td>\n",
       "      <td>±2,621</td>\n",
       "      <td>(X)</td>\n",
       "      <td>(X)</td>\n",
       "      <td>5,010,979</td>\n",
       "      <td>...</td>\n",
       "      <td>(X)</td>\n",
       "      <td>(X)</td>\n",
       "      <td>423,590</td>\n",
       "      <td>±2,588</td>\n",
       "      <td>(X)</td>\n",
       "      <td>(X)</td>\n",
       "      <td>2,556,211</td>\n",
       "      <td>±4,472</td>\n",
       "      <td>(X)</td>\n",
       "      <td>(X)</td>\n",
       "    </tr>\n",
       "    <tr>\n",
       "      <th>31</th>\n",
       "      <td>Income in the past 12 months below pov...</td>\n",
       "      <td>490,267</td>\n",
       "      <td>±15,512</td>\n",
       "      <td>13.50%</td>\n",
       "      <td>±0.4</td>\n",
       "      <td>45,598</td>\n",
       "      <td>±4,376</td>\n",
       "      <td>8.80%</td>\n",
       "      <td>±0.9</td>\n",
       "      <td>547,663</td>\n",
       "      <td>...</td>\n",
       "      <td>9.30%</td>\n",
       "      <td>±0.3</td>\n",
       "      <td>40,467</td>\n",
       "      <td>±3,951</td>\n",
       "      <td>9.60%</td>\n",
       "      <td>±0.9</td>\n",
       "      <td>1,035,683</td>\n",
       "      <td>±18,161</td>\n",
       "      <td>40.50%</td>\n",
       "      <td>±0.7</td>\n",
       "    </tr>\n",
       "    <tr>\n",
       "      <th>32</th>\n",
       "      <td>Income in the past 12 months at or abo...</td>\n",
       "      <td>3,138,567</td>\n",
       "      <td>±17,624</td>\n",
       "      <td>86.50%</td>\n",
       "      <td>±0.4</td>\n",
       "      <td>473,875</td>\n",
       "      <td>±5,457</td>\n",
       "      <td>91.20%</td>\n",
       "      <td>±0.9</td>\n",
       "      <td>4,463,316</td>\n",
       "      <td>...</td>\n",
       "      <td>90.70%</td>\n",
       "      <td>±0.3</td>\n",
       "      <td>383,123</td>\n",
       "      <td>±4,343</td>\n",
       "      <td>90.40%</td>\n",
       "      <td>±0.9</td>\n",
       "      <td>1,520,528</td>\n",
       "      <td>±18,154</td>\n",
       "      <td>59.50%</td>\n",
       "      <td>±0.7</td>\n",
       "    </tr>\n",
       "    <tr>\n",
       "      <th>33</th>\n",
       "      <td>HOUSEHOLD INCOME (IN 2019 INFLATION-ADJUST...</td>\n",
       "      <td>NaN</td>\n",
       "      <td>NaN</td>\n",
       "      <td>NaN</td>\n",
       "      <td>NaN</td>\n",
       "      <td>NaN</td>\n",
       "      <td>NaN</td>\n",
       "      <td>NaN</td>\n",
       "      <td>NaN</td>\n",
       "      <td>NaN</td>\n",
       "      <td>...</td>\n",
       "      <td>NaN</td>\n",
       "      <td>NaN</td>\n",
       "      <td>NaN</td>\n",
       "      <td>NaN</td>\n",
       "      <td>NaN</td>\n",
       "      <td>NaN</td>\n",
       "      <td>NaN</td>\n",
       "      <td>NaN</td>\n",
       "      <td>NaN</td>\n",
       "      <td>NaN</td>\n",
       "    </tr>\n",
       "    <tr>\n",
       "      <th>34</th>\n",
       "      <td>Median Household Income for Households...</td>\n",
       "      <td>52,081</td>\n",
       "      <td>±589</td>\n",
       "      <td>(X)</td>\n",
       "      <td>(X)</td>\n",
       "      <td>75,770</td>\n",
       "      <td>±2,685</td>\n",
       "      <td>(X)</td>\n",
       "      <td>(X)</td>\n",
       "      <td>63,622</td>\n",
       "      <td>...</td>\n",
       "      <td>(X)</td>\n",
       "      <td>(X)</td>\n",
       "      <td>65,052</td>\n",
       "      <td>±2,178</td>\n",
       "      <td>(X)</td>\n",
       "      <td>(X)</td>\n",
       "      <td>20,499</td>\n",
       "      <td>±373</td>\n",
       "      <td>(X)</td>\n",
       "      <td>(X)</td>\n",
       "    </tr>\n",
       "  </tbody>\n",
       "</table>\n",
       "<p>35 rows × 209 columns</p>\n",
       "</div>"
      ],
      "text/plain": [
       "                                                Label  \\\n",
       "0                          Citizens 18 years and over   \n",
       "1                                                 AGE   \n",
       "2                                      18 to 29 years   \n",
       "3                                      30 to 44 years   \n",
       "4                                      45 to 64 years   \n",
       "5                                   65 years and over   \n",
       "6                                                 SEX   \n",
       "7                                                Male   \n",
       "8                                              Female   \n",
       "9                            RACE AND HISPANIC ORIGIN   \n",
       "10                                        White alone   \n",
       "11                    Black or African American alone   \n",
       "12                                        Asian alone   \n",
       "13            American Indian and Alaska Native alone   \n",
       "14          Native Hawaiian and Other Pacific Isla...   \n",
       "15                              Some Other Race alone   \n",
       "16                                  Two or More Races   \n",
       "17                                 Hispanic or Latino   \n",
       "18                White alone, Not Hispanic or Latino   \n",
       "19                             EDUCATIONAL ATTAINMENT   \n",
       "20                                Less than 9th grade   \n",
       "21                      9th to 12th grade, no diploma   \n",
       "22          High school graduate (includes equival...   \n",
       "23                            Some college, no degree   \n",
       "24                                 Associate's degree   \n",
       "25                                  Bachelor's degree   \n",
       "26                    Graduate or professional degree   \n",
       "27                       High school degree or higher   \n",
       "28                        Bachelor's degree or higher   \n",
       "29                                     POVERTY STATUS   \n",
       "30          Total Citizens, 18 years and older, fo...   \n",
       "31          Income in the past 12 months below pov...   \n",
       "32          Income in the past 12 months at or abo...   \n",
       "33      HOUSEHOLD INCOME (IN 2019 INFLATION-ADJUST...   \n",
       "34          Median Household Income for Households...   \n",
       "\n",
       "   Alabama!!Total!!Estimate Alabama!!Total!!Margin of Error  \\\n",
       "0                 3,731,336                          ±6,395   \n",
       "1                       NaN                             NaN   \n",
       "2                   763,649                          ±5,131   \n",
       "3                   875,096                          ±6,488   \n",
       "4                 1,243,536                          ±6,120   \n",
       "5                   849,055                          ±4,126   \n",
       "6                       NaN                             NaN   \n",
       "7                 1,768,386                          ±4,711   \n",
       "8                 1,962,950                          ±4,023   \n",
       "9                       NaN                             NaN   \n",
       "10                2,609,612                          ±5,498   \n",
       "11                  996,812                          ±5,976   \n",
       "12                   34,017                          ±2,204   \n",
       "13                        N                               N   \n",
       "14                        N                               N   \n",
       "15                   23,467                          ±3,571   \n",
       "16                   49,526                          ±4,572   \n",
       "17                   80,762                          ±5,002   \n",
       "18                2,556,191                          ±3,186   \n",
       "19                      NaN                             NaN   \n",
       "20                  114,239                          ±6,471   \n",
       "21                  343,166                         ±12,075   \n",
       "22                1,179,671                         ±16,769   \n",
       "23                  875,367                         ±14,742   \n",
       "24                  320,135                          ±9,740   \n",
       "25                  568,086                         ±14,398   \n",
       "26                  330,672                         ±10,291   \n",
       "27                3,273,931                         ±14,649   \n",
       "28                  898,758                         ±18,373   \n",
       "29                      NaN                             NaN   \n",
       "30                3,628,834                          ±6,358   \n",
       "31                  490,267                         ±15,512   \n",
       "32                3,138,567                         ±17,624   \n",
       "33                      NaN                             NaN   \n",
       "34                   52,081                            ±589   \n",
       "\n",
       "   Alabama!!Percent!!Estimate Alabama!!Percent!!Margin of Error  \\\n",
       "0                         (X)                               (X)   \n",
       "1                         NaN                               NaN   \n",
       "2                      20.50%                              ±0.1   \n",
       "3                      23.50%                              ±0.2   \n",
       "4                      33.30%                              ±0.2   \n",
       "5                      22.80%                              ±0.1   \n",
       "6                         NaN                               NaN   \n",
       "7                      47.40%                              ±0.1   \n",
       "8                      52.60%                              ±0.1   \n",
       "9                         NaN                               NaN   \n",
       "10                     69.90%                              ±0.1   \n",
       "11                     26.70%                              ±0.2   \n",
       "12                      0.90%                              ±0.1   \n",
       "13                          N                                 N   \n",
       "14                          N                                 N   \n",
       "15                      0.60%                              ±0.1   \n",
       "16                      1.30%                              ±0.1   \n",
       "17                      2.20%                              ±0.1   \n",
       "18                     68.50%                              ±0.1   \n",
       "19                        NaN                               NaN   \n",
       "20                      3.10%                              ±0.2   \n",
       "21                      9.20%                              ±0.3   \n",
       "22                     31.60%                              ±0.4   \n",
       "23                     23.50%                              ±0.4   \n",
       "24                      8.60%                              ±0.3   \n",
       "25                     15.20%                              ±0.4   \n",
       "26                      8.90%                              ±0.3   \n",
       "27                     87.70%                              ±0.4   \n",
       "28                     24.10%                              ±0.5   \n",
       "29                        NaN                               NaN   \n",
       "30                        (X)                               (X)   \n",
       "31                     13.50%                              ±0.4   \n",
       "32                     86.50%                              ±0.4   \n",
       "33                        NaN                               NaN   \n",
       "34                        (X)                               (X)   \n",
       "\n",
       "   Alaska!!Total!!Estimate Alaska!!Total!!Margin of Error  \\\n",
       "0                  533,151                         ±2,609   \n",
       "1                      NaN                            NaN   \n",
       "2                  123,692                         ±3,120   \n",
       "3                  144,125                         ±3,535   \n",
       "4                  176,561                         ±3,579   \n",
       "5                   88,773                         ±1,912   \n",
       "6                      NaN                            NaN   \n",
       "7                  278,479                         ±2,343   \n",
       "8                  254,672                         ±2,031   \n",
       "9                      NaN                            NaN   \n",
       "10                 365,703                         ±3,158   \n",
       "11                  17,746                         ±1,323   \n",
       "12                  26,683                         ±2,402   \n",
       "13                       N                              N   \n",
       "14                   6,247                           ±659   \n",
       "15                   8,042                         ±2,390   \n",
       "16                  30,744                         ±3,330   \n",
       "17                  31,764                         ±1,315   \n",
       "18                 345,404                         ±2,490   \n",
       "19                     NaN                            NaN   \n",
       "20                   9,142                         ±1,512   \n",
       "21                  28,018                         ±2,457   \n",
       "22                 160,911                         ±6,429   \n",
       "23                 146,027                         ±6,192   \n",
       "24                  44,961                         ±3,276   \n",
       "25                  89,372                         ±4,982   \n",
       "26                  54,720                         ±3,733   \n",
       "27                 495,991                         ±3,828   \n",
       "28                 144,092                         ±5,857   \n",
       "29                     NaN                            NaN   \n",
       "30                 519,473                         ±2,621   \n",
       "31                  45,598                         ±4,376   \n",
       "32                 473,875                         ±5,457   \n",
       "33                     NaN                            NaN   \n",
       "34                  75,770                         ±2,685   \n",
       "\n",
       "   Alaska!!Percent!!Estimate Alaska!!Percent!!Margin of Error  \\\n",
       "0                        (X)                              (X)   \n",
       "1                        NaN                              NaN   \n",
       "2                     23.20%                             ±0.5   \n",
       "3                     27.00%                             ±0.7   \n",
       "4                     33.10%                             ±0.6   \n",
       "5                     16.70%                             ±0.4   \n",
       "6                        NaN                              NaN   \n",
       "7                     52.20%                             ±0.3   \n",
       "8                     47.80%                             ±0.3   \n",
       "9                        NaN                              NaN   \n",
       "10                    68.60%                             ±0.5   \n",
       "11                     3.30%                             ±0.2   \n",
       "12                     5.00%                             ±0.4   \n",
       "13                         N                                N   \n",
       "14                     1.20%                             ±0.1   \n",
       "15                     1.50%                             ±0.4   \n",
       "16                     5.80%                             ±0.6   \n",
       "17                     6.00%                             ±0.2   \n",
       "18                    64.80%                             ±0.4   \n",
       "19                       NaN                              NaN   \n",
       "20                     1.70%                             ±0.3   \n",
       "21                     5.30%                             ±0.5   \n",
       "22                    30.20%                             ±1.2   \n",
       "23                    27.40%                             ±1.2   \n",
       "24                     8.40%                             ±0.6   \n",
       "25                    16.80%                             ±0.9   \n",
       "26                    10.30%                             ±0.7   \n",
       "27                    93.00%                             ±0.5   \n",
       "28                    27.00%                             ±1.1   \n",
       "29                       NaN                              NaN   \n",
       "30                       (X)                              (X)   \n",
       "31                     8.80%                             ±0.9   \n",
       "32                    91.20%                             ±0.9   \n",
       "33                       NaN                              NaN   \n",
       "34                       (X)                              (X)   \n",
       "\n",
       "   Arizona!!Total!!Estimate  ... Wisconsin!!Percent!!Estimate  \\\n",
       "0                 5,137,474  ...                          (X)   \n",
       "1                       NaN  ...                          NaN   \n",
       "2                 1,118,272  ...                       20.00%   \n",
       "3                 1,186,802  ...                       23.10%   \n",
       "4                 1,573,498  ...                       34.10%   \n",
       "5                 1,258,902  ...                       22.90%   \n",
       "6                       NaN  ...                          NaN   \n",
       "7                 2,533,931  ...                       49.20%   \n",
       "8                 2,603,543  ...                       50.80%   \n",
       "9                       NaN  ...                          NaN   \n",
       "10                4,166,945  ...                       88.70%   \n",
       "11                  240,721  ...                        5.90%   \n",
       "12                  127,073  ...                        1.90%   \n",
       "13                  234,229  ...                            N   \n",
       "14                    8,195  ...                            N   \n",
       "15                  213,705  ...                        1.20%   \n",
       "16                  146,606  ...                        1.40%   \n",
       "17                1,231,576  ...                        4.30%   \n",
       "18                3,235,378  ...                       85.90%   \n",
       "19                      NaN  ...                          NaN   \n",
       "20                  155,754  ...                        1.90%   \n",
       "21                  362,896  ...                        5.10%   \n",
       "22                1,293,831  ...                       31.00%   \n",
       "23                1,408,079  ...                       22.60%   \n",
       "24                  446,537  ...                       10.40%   \n",
       "25                  941,950  ...                       19.70%   \n",
       "26                  528,427  ...                        9.40%   \n",
       "27                4,618,824  ...                       93.10%   \n",
       "28                1,470,377  ...                       29.10%   \n",
       "29                      NaN  ...                          NaN   \n",
       "30                5,010,979  ...                          (X)   \n",
       "31                  547,663  ...                        9.30%   \n",
       "32                4,463,316  ...                       90.70%   \n",
       "33                      NaN  ...                          NaN   \n",
       "34                   63,622  ...                          (X)   \n",
       "\n",
       "   Wisconsin!!Percent!!Margin of Error Wyoming!!Total!!Estimate  \\\n",
       "0                                  (X)                  434,852   \n",
       "1                                  NaN                      NaN   \n",
       "2                                 ±0.1                   90,057   \n",
       "3                                 ±0.1                  106,773   \n",
       "4                                 ±0.1                  139,611   \n",
       "5                                 ±0.1                   98,411   \n",
       "6                                  NaN                      NaN   \n",
       "7                                 ±0.1                  220,281   \n",
       "8                                 ±0.1                  214,571   \n",
       "9                                  NaN                      NaN   \n",
       "10                                ±0.2                  404,270   \n",
       "11                                ±0.1                        N   \n",
       "12                                ±0.1                        N   \n",
       "13                                   N                        N   \n",
       "14                                   N                        N   \n",
       "15                                ±0.1                    5,738   \n",
       "16                                ±0.1                        N   \n",
       "17                                ±0.1                   33,380   \n",
       "18                                ±0.1                  379,616   \n",
       "19                                 NaN                      NaN   \n",
       "20                                ±0.1                    5,796   \n",
       "21                                ±0.2                   19,686   \n",
       "22                                ±0.4                  132,555   \n",
       "23                                ±0.3                  112,207   \n",
       "24                                ±0.2                   48,662   \n",
       "25                                ±0.3                   75,775   \n",
       "26                                ±0.2                   40,171   \n",
       "27                                ±0.2                  409,370   \n",
       "28                                ±0.4                  115,946   \n",
       "29                                 NaN                      NaN   \n",
       "30                                 (X)                  423,590   \n",
       "31                                ±0.3                   40,467   \n",
       "32                                ±0.3                  383,123   \n",
       "33                                 NaN                      NaN   \n",
       "34                                 (X)                   65,052   \n",
       "\n",
       "   Wyoming!!Total!!Margin of Error Wyoming!!Percent!!Estimate  \\\n",
       "0                           ±2,587                        (X)   \n",
       "1                              NaN                        NaN   \n",
       "2                           ±2,459                     20.70%   \n",
       "3                           ±2,208                     24.60%   \n",
       "4                           ±2,260                     32.10%   \n",
       "5                           ±1,489                     22.60%   \n",
       "6                              NaN                        NaN   \n",
       "7                           ±2,326                     50.70%   \n",
       "8                           ±2,194                     49.30%   \n",
       "9                              NaN                        NaN   \n",
       "10                          ±2,051                     93.00%   \n",
       "11                               N                          N   \n",
       "12                               N                          N   \n",
       "13                               N                          N   \n",
       "14                               N                          N   \n",
       "15                          ±1,557                      1.30%   \n",
       "16                               N                          N   \n",
       "17                          ±2,034                      7.70%   \n",
       "18                            ±863                     87.30%   \n",
       "19                             NaN                        NaN   \n",
       "20                          ±1,190                      1.30%   \n",
       "21                          ±2,745                      4.50%   \n",
       "22                          ±7,000                     30.50%   \n",
       "23                          ±5,112                     25.80%   \n",
       "24                          ±3,839                     11.20%   \n",
       "25                          ±4,684                     17.40%   \n",
       "26                          ±3,112                      9.20%   \n",
       "27                          ±3,682                     94.10%   \n",
       "28                          ±5,443                     26.70%   \n",
       "29                             NaN                        NaN   \n",
       "30                          ±2,588                        (X)   \n",
       "31                          ±3,951                      9.60%   \n",
       "32                          ±4,343                     90.40%   \n",
       "33                             NaN                        NaN   \n",
       "34                          ±2,178                        (X)   \n",
       "\n",
       "   Wyoming!!Percent!!Margin of Error Puerto Rico!!Total!!Estimate  \\\n",
       "0                                (X)                    2,579,596   \n",
       "1                                NaN                          NaN   \n",
       "2                               ±0.5                      516,634   \n",
       "3                               ±0.5                      563,268   \n",
       "4                               ±0.5                      825,956   \n",
       "5                               ±0.4                      673,738   \n",
       "6                                NaN                          NaN   \n",
       "7                               ±0.4                    1,206,627   \n",
       "8                               ±0.4                    1,372,969   \n",
       "9                                NaN                          NaN   \n",
       "10                              ±0.5                    1,683,468   \n",
       "11                                 N                      319,052   \n",
       "12                                 N                        3,130   \n",
       "13                                 N                            N   \n",
       "14                                 N                            N   \n",
       "15                              ±0.4                      394,015   \n",
       "16                                 N                      177,395   \n",
       "17                              ±0.4                    2,535,771   \n",
       "18                              ±0.5                       32,866   \n",
       "19                               NaN                          NaN   \n",
       "20                              ±0.3                      319,033   \n",
       "21                              ±0.6                      183,512   \n",
       "22                              ±1.6                      721,499   \n",
       "23                              ±1.2                      420,365   \n",
       "24                              ±0.9                      281,766   \n",
       "25                              ±1.1                      471,277   \n",
       "26                              ±0.7                      182,144   \n",
       "27                              ±0.7                    2,077,051   \n",
       "28                              ±1.2                      653,421   \n",
       "29                               NaN                          NaN   \n",
       "30                               (X)                    2,556,211   \n",
       "31                              ±0.9                    1,035,683   \n",
       "32                              ±0.9                    1,520,528   \n",
       "33                               NaN                          NaN   \n",
       "34                               (X)                       20,499   \n",
       "\n",
       "   Puerto Rico!!Total!!Margin of Error Puerto Rico!!Percent!!Estimate  \\\n",
       "0                               ±4,489                            (X)   \n",
       "1                                  NaN                            NaN   \n",
       "2                               ±1,457                         20.00%   \n",
       "3                               ±2,573                         21.80%   \n",
       "4                               ±2,893                         32.00%   \n",
       "5                               ±1,370                         26.10%   \n",
       "6                                  NaN                            NaN   \n",
       "7                               ±2,330                         46.80%   \n",
       "8                               ±3,089                         53.20%   \n",
       "9                                  NaN                            NaN   \n",
       "10                             ±12,768                         65.30%   \n",
       "11                              ±8,326                         12.40%   \n",
       "12                              ±1,176                          0.10%   \n",
       "13                                   N                              N   \n",
       "14                                   N                              N   \n",
       "15                             ±12,050                         15.30%   \n",
       "16                              ±9,797                          6.90%   \n",
       "17                              ±5,859                         98.30%   \n",
       "18                              ±4,432                          1.30%   \n",
       "19                                 NaN                            NaN   \n",
       "20                              ±9,179                         12.40%   \n",
       "21                              ±6,957                          7.10%   \n",
       "22                             ±12,468                         28.00%   \n",
       "23                             ±11,839                         16.30%   \n",
       "24                             ±10,973                         10.90%   \n",
       "25                             ±12,634                         18.30%   \n",
       "26                              ±8,063                          7.10%   \n",
       "27                             ±11,267                         80.50%   \n",
       "28                             ±14,287                         25.30%   \n",
       "29                                 NaN                            NaN   \n",
       "30                              ±4,472                            (X)   \n",
       "31                             ±18,161                         40.50%   \n",
       "32                             ±18,154                         59.50%   \n",
       "33                                 NaN                            NaN   \n",
       "34                                ±373                            (X)   \n",
       "\n",
       "   Puerto Rico!!Percent!!Margin of Error  \n",
       "0                                    (X)  \n",
       "1                                    NaN  \n",
       "2                                   ±0.1  \n",
       "3                                   ±0.1  \n",
       "4                                   ±0.1  \n",
       "5                                   ±0.1  \n",
       "6                                    NaN  \n",
       "7                                   ±0.1  \n",
       "8                                   ±0.1  \n",
       "9                                    NaN  \n",
       "10                                  ±0.5  \n",
       "11                                  ±0.3  \n",
       "12                                  ±0.1  \n",
       "13                                     N  \n",
       "14                                     N  \n",
       "15                                  ±0.5  \n",
       "16                                  ±0.4  \n",
       "17                                  ±0.2  \n",
       "18                                  ±0.2  \n",
       "19                                   NaN  \n",
       "20                                  ±0.4  \n",
       "21                                  ±0.3  \n",
       "22                                  ±0.5  \n",
       "23                                  ±0.5  \n",
       "24                                  ±0.4  \n",
       "25                                  ±0.5  \n",
       "26                                  ±0.3  \n",
       "27                                  ±0.4  \n",
       "28                                  ±0.6  \n",
       "29                                   NaN  \n",
       "30                                   (X)  \n",
       "31                                  ±0.7  \n",
       "32                                  ±0.7  \n",
       "33                                   NaN  \n",
       "34                                   (X)  \n",
       "\n",
       "[35 rows x 209 columns]"
      ]
     },
     "execution_count": 111,
     "metadata": {},
     "output_type": "execute_result"
    }
   ],
   "source": [
    "import pandas as pd\n",
    "import numpy as np\n",
    "import matplotlib\n",
    "import seaborn as sns\n",
    "\n",
    "data = pd.read_csv(\"Data/2019_full.csv\")\n",
    "data\n"
   ]
  },
  {
   "cell_type": "code",
   "execution_count": 112,
   "metadata": {
    "cell_id": "00003-a1fd8f82-35eb-4e9d-8dc8-d88f7be8e15f",
    "execution_millis": 0,
    "execution_start": 1605404580687,
    "output_cleared": false,
    "source_hash": "4b981cd7",
    "tags": []
   },
   "outputs": [],
   "source": [
    "def p2f(s):\n",
    "    if s == '':\n",
    "        return 0\n",
    "    return float(s)"
   ]
  },
  {
   "cell_type": "code",
   "execution_count": 113,
   "metadata": {
    "cell_id": "00003-7e923d2f-4c90-4d2b-92fe-9b342cf1e7f2",
    "execution_millis": 2,
    "execution_start": 1605404580692,
    "output_cleared": false,
    "source_hash": "45791926",
    "tags": []
   },
   "outputs": [],
   "source": [
    "def normify(s):\n",
    "    return s.split(\"!!\")[0]"
   ]
  },
  {
   "cell_type": "code",
   "execution_count": 114,
   "metadata": {
    "cell_id": "00004-9403140f-40dc-4db3-9e4b-acdcc97304d6",
    "execution_millis": 213,
    "execution_start": 1605404580696,
    "output_cleared": false,
    "source_hash": "3df5e286",
    "tags": []
   },
   "outputs": [
    {
     "data": {
      "application/vnd.deepnote.dataframe.v2+json": {
       "column_count": 53,
       "columns": [
        {
         "dtype": "object",
         "name": "Label",
         "stats": {
          "categories": [
           {
            "count": 1,
            "name": "Citizens 18 years and over"
           },
           {
            "count": 1,
            "name": "        18 to 29 years"
           },
           {
            "count": 25,
            "name": "25 others"
           }
          ],
          "nan_count": 0,
          "unique_count": 27
         }
        },
        {
         "dtype": "float64",
         "name": "Alabama",
         "stats": {
          "histogram": [
           {
            "bin_end": 394253.9,
            "bin_start": 23467,
            "count": 9
           },
           {
            "bin_end": 765040.8,
            "bin_start": 394253.9,
            "count": 3
           },
           {
            "bin_end": 1135827.7000000002,
            "bin_start": 765040.8,
            "count": 5
           },
           {
            "bin_end": 1506614.6,
            "bin_start": 1135827.7000000002,
            "count": 2
           },
           {
            "bin_end": 1877401.5,
            "bin_start": 1506614.6,
            "count": 1
           },
           {
            "bin_end": 2248188.4000000004,
            "bin_start": 1877401.5,
            "count": 1
           },
           {
            "bin_end": 2618975.3000000003,
            "bin_start": 2248188.4000000004,
            "count": 2
           },
           {
            "bin_end": 2989762.2,
            "bin_start": 2618975.3000000003,
            "count": 0
           },
           {
            "bin_end": 3360549.1,
            "bin_start": 2989762.2,
            "count": 2
           },
           {
            "bin_end": 3731336,
            "bin_start": 3360549.1,
            "count": 2
           }
          ],
          "max": 3731336,
          "min": 23467,
          "nan_count": 0,
          "unique_count": 27
         }
        },
        {
         "dtype": "float64",
         "name": "Alaska",
         "stats": {
          "histogram": [
           {
            "bin_end": 60552.9,
            "bin_start": 8042,
            "count": 10
           },
           {
            "bin_end": 113063.8,
            "bin_start": 60552.9,
            "count": 3
           },
           {
            "bin_end": 165574.7,
            "bin_start": 113063.8,
            "count": 5
           },
           {
            "bin_end": 218085.6,
            "bin_start": 165574.7,
            "count": 1
           },
           {
            "bin_end": 270596.5,
            "bin_start": 218085.6,
            "count": 1
           },
           {
            "bin_end": 323107.4,
            "bin_start": 270596.5,
            "count": 1
           },
           {
            "bin_end": 375618.3,
            "bin_start": 323107.4,
            "count": 2
           },
           {
            "bin_end": 428129.2,
            "bin_start": 375618.3,
            "count": 0
           },
           {
            "bin_end": 480640.10000000003,
            "bin_start": 428129.2,
            "count": 1
           },
           {
            "bin_end": 533151,
            "bin_start": 480640.10000000003,
            "count": 3
           }
          ],
          "max": 533151,
          "min": 8042,
          "nan_count": 0,
          "unique_count": 27
         }
        },
        {
         "dtype": "float64",
         "name": "Arizona",
         "stats": {
          "histogram": [
           {
            "bin_end": 571007.2,
            "bin_start": 63622,
            "count": 10
           },
           {
            "bin_end": 1078392.4,
            "bin_start": 571007.2,
            "count": 1
           },
           {
            "bin_end": 1585777.6,
            "bin_start": 1078392.4,
            "count": 8
           },
           {
            "bin_end": 2093162.8,
            "bin_start": 1585777.6,
            "count": 0
           },
           {
            "bin_end": 2600548,
            "bin_start": 2093162.8,
            "count": 1
           },
           {
            "bin_end": 3107933.2,
            "bin_start": 2600548,
            "count": 1
           },
           {
            "bin_end": 3615318.4,
            "bin_start": 3107933.2,
            "count": 1
           },
           {
            "bin_end": 4122703.6,
            "bin_start": 3615318.4,
            "count": 0
           },
           {
            "bin_end": 4630088.8,
            "bin_start": 4122703.6,
            "count": 3
           },
           {
            "bin_end": 5137474,
            "bin_start": 4630088.8,
            "count": 2
           }
          ],
          "max": 5137474,
          "min": 63622,
          "nan_count": 0,
          "unique_count": 27
         }
        },
        {
         "dtype": "float64",
         "name": "Arkansas",
         "stats": {
          "histogram": [
           {
            "bin_end": 245191,
            "bin_start": 24055,
            "count": 9
           },
           {
            "bin_end": 466327,
            "bin_start": 245191,
            "count": 4
           },
           {
            "bin_end": 687463,
            "bin_start": 466327,
            "count": 4
           },
           {
            "bin_end": 908599,
            "bin_start": 687463,
            "count": 2
           },
           {
            "bin_end": 1129735,
            "bin_start": 908599,
            "count": 1
           },
           {
            "bin_end": 1350871,
            "bin_start": 1129735,
            "count": 1
           },
           {
            "bin_end": 1572007,
            "bin_start": 1350871,
            "count": 0
           },
           {
            "bin_end": 1793143,
            "bin_start": 1572007,
            "count": 2
           },
           {
            "bin_end": 2014279,
            "bin_start": 1793143,
            "count": 2
           },
           {
            "bin_end": 2235415,
            "bin_start": 2014279,
            "count": 2
           }
          ],
          "max": 2235415,
          "min": 24055,
          "nan_count": 0,
          "unique_count": 27
         }
        },
        {
         "dtype": "float64",
         "name": "California",
         "stats": {
          "histogram": [
           {
            "bin_end": 2678739.5,
            "bin_start": 83915,
            "count": 8
           },
           {
            "bin_end": 5273564,
            "bin_start": 2678739.5,
            "count": 2
           },
           {
            "bin_end": 7868388.5,
            "bin_start": 5273564,
            "count": 6
           },
           {
            "bin_end": 10463213,
            "bin_start": 7868388.5,
            "count": 3
           },
           {
            "bin_end": 13058037.5,
            "bin_start": 10463213,
            "count": 2
           },
           {
            "bin_end": 15652862,
            "bin_start": 13058037.5,
            "count": 1
           },
           {
            "bin_end": 18247686.5,
            "bin_start": 15652862,
            "count": 1
           },
           {
            "bin_end": 20842511,
            "bin_start": 18247686.5,
            "count": 0
           },
           {
            "bin_end": 23437335.5,
            "bin_start": 20842511,
            "count": 2
           },
           {
            "bin_end": 26032160,
            "bin_start": 23437335.5,
            "count": 2
           }
          ],
          "max": 26032160,
          "min": 83915,
          "nan_count": 0,
          "unique_count": 27
         }
        },
        {
         "dtype": "float64",
         "name": "Colorado",
         "stats": {
          "histogram": [
           {
            "bin_end": 495269.9,
            "bin_start": 78721,
            "count": 9
           },
           {
            "bin_end": 911818.8,
            "bin_start": 495269.9,
            "count": 3
           },
           {
            "bin_end": 1328367.7000000002,
            "bin_start": 911818.8,
            "count": 5
           },
           {
            "bin_end": 1744916.6,
            "bin_start": 1328367.7000000002,
            "count": 2
           },
           {
            "bin_end": 2161465.5,
            "bin_start": 1744916.6,
            "count": 2
           },
           {
            "bin_end": 2578014.4000000004,
            "bin_start": 2161465.5,
            "count": 0
           },
           {
            "bin_end": 2994563.3000000003,
            "bin_start": 2578014.4000000004,
            "count": 0
           },
           {
            "bin_end": 3411112.2,
            "bin_start": 2994563.3000000003,
            "count": 1
           },
           {
            "bin_end": 3827661.1,
            "bin_start": 3411112.2,
            "count": 2
           },
           {
            "bin_end": 4244210,
            "bin_start": 3827661.1,
            "count": 3
           }
          ],
          "max": 4244210,
          "min": 78721,
          "nan_count": 0,
          "unique_count": 27
         }
        },
        {
         "dtype": "float64",
         "name": "Connecticut",
         "stats": {
          "histogram": [
           {
            "bin_end": 319261.2,
            "bin_start": 63682,
            "count": 9
           },
           {
            "bin_end": 574840.4,
            "bin_start": 319261.2,
            "count": 6
           },
           {
            "bin_end": 830419.6000000001,
            "bin_start": 574840.4,
            "count": 2
           },
           {
            "bin_end": 1085998.8,
            "bin_start": 830419.6000000001,
            "count": 2
           },
           {
            "bin_end": 1341578,
            "bin_start": 1085998.8,
            "count": 1
           },
           {
            "bin_end": 1597157.2000000002,
            "bin_start": 1341578,
            "count": 1
           },
           {
            "bin_end": 1852736.4000000001,
            "bin_start": 1597157.2000000002,
            "count": 0
           },
           {
            "bin_end": 2108315.6,
            "bin_start": 1852736.4000000001,
            "count": 2
           },
           {
            "bin_end": 2363894.8000000003,
            "bin_start": 2108315.6,
            "count": 1
           },
           {
            "bin_end": 2619474,
            "bin_start": 2363894.8000000003,
            "count": 3
           }
          ],
          "max": 2619474,
          "min": 63682,
          "nan_count": 0,
          "unique_count": 27
         }
        },
        {
         "dtype": "float64",
         "name": "Delaware",
         "stats": {
          "histogram": [
           {
            "bin_end": 79552.2,
            "bin_start": 7816,
            "count": 9
           },
           {
            "bin_end": 151288.4,
            "bin_start": 79552.2,
            "count": 3
           },
           {
            "bin_end": 223024.59999999998,
            "bin_start": 151288.4,
            "count": 5
           },
           {
            "bin_end": 294760.8,
            "bin_start": 223024.59999999998,
            "count": 2
           },
           {
            "bin_end": 366497,
            "bin_start": 294760.8,
            "count": 1
           },
           {
            "bin_end": 438233.19999999995,
            "bin_start": 366497,
            "count": 1
           },
           {
            "bin_end": 509969.39999999997,
            "bin_start": 438233.19999999995,
            "count": 1
           },
           {
            "bin_end": 581705.6,
            "bin_start": 509969.39999999997,
            "count": 1
           },
           {
            "bin_end": 653441.7999999999,
            "bin_start": 581705.6,
            "count": 1
           },
           {
            "bin_end": 725178,
            "bin_start": 653441.7999999999,
            "count": 3
           }
          ],
          "max": 725178,
          "min": 7816,
          "nan_count": 0,
          "unique_count": 27
         }
        },
        {
         "dtype": "float64",
         "name": "District of Columbia",
         "stats": {
          "histogram": [
           {
            "bin_end": 64343.6,
            "bin_start": 11852,
            "count": 8
           },
           {
            "bin_end": 116835.2,
            "bin_start": 64343.6,
            "count": 4
           },
           {
            "bin_end": 169326.8,
            "bin_start": 116835.2,
            "count": 4
           },
           {
            "bin_end": 221818.4,
            "bin_start": 169326.8,
            "count": 2
           },
           {
            "bin_end": 274310,
            "bin_start": 221818.4,
            "count": 3
           },
           {
            "bin_end": 326801.6,
            "bin_start": 274310,
            "count": 2
           },
           {
            "bin_end": 379293.2,
            "bin_start": 326801.6,
            "count": 0
           },
           {
            "bin_end": 431784.8,
            "bin_start": 379293.2,
            "count": 0
           },
           {
            "bin_end": 484276.39999999997,
            "bin_start": 431784.8,
            "count": 1
           },
           {
            "bin_end": 536768,
            "bin_start": 484276.39999999997,
            "count": 3
           }
          ],
          "max": 536768,
          "min": 11852,
          "nan_count": 0,
          "unique_count": 27
         }
        },
        {
         "dtype": "float64",
         "name": "Florida",
         "stats": {
          "histogram": [
           {
            "bin_end": 1605345.3,
            "bin_start": 60682,
            "count": 7
           },
           {
            "bin_end": 3150008.6,
            "bin_start": 1605345.3,
            "count": 5
           },
           {
            "bin_end": 4694671.9,
            "bin_start": 3150008.6,
            "count": 6
           },
           {
            "bin_end": 6239335.2,
            "bin_start": 4694671.9,
            "count": 1
           },
           {
            "bin_end": 7783998.5,
            "bin_start": 6239335.2,
            "count": 1
           },
           {
            "bin_end": 9328661.8,
            "bin_start": 7783998.5,
            "count": 1
           },
           {
            "bin_end": 10873325.1,
            "bin_start": 9328661.8,
            "count": 1
           },
           {
            "bin_end": 12417988.4,
            "bin_start": 10873325.1,
            "count": 1
           },
           {
            "bin_end": 13962651.700000001,
            "bin_start": 12417988.4,
            "count": 2
           },
           {
            "bin_end": 15507315,
            "bin_start": 13962651.700000001,
            "count": 2
           }
          ],
          "max": 15507315,
          "min": 60682,
          "nan_count": 0,
          "unique_count": 27
         }
        },
        {
         "dtype": "float64",
         "name": "Georgia",
         "stats": {
          "histogram": [
           {
            "bin_end": 814262.7,
            "bin_start": 62310,
            "count": 8
           },
           {
            "bin_end": 1566215.4,
            "bin_start": 814262.7,
            "count": 4
           },
           {
            "bin_end": 2318168.0999999996,
            "bin_start": 1566215.4,
            "count": 5
           },
           {
            "bin_end": 3070120.8,
            "bin_start": 2318168.0999999996,
            "count": 2
           },
           {
            "bin_end": 3822073.5,
            "bin_start": 3070120.8,
            "count": 1
           },
           {
            "bin_end": 4574026.199999999,
            "bin_start": 3822073.5,
            "count": 2
           },
           {
            "bin_end": 5325978.899999999,
            "bin_start": 4574026.199999999,
            "count": 1
           },
           {
            "bin_end": 6077931.6,
            "bin_start": 5325978.899999999,
            "count": 0
           },
           {
            "bin_end": 6829884.3,
            "bin_start": 6077931.6,
            "count": 2
           },
           {
            "bin_end": 7581837,
            "bin_start": 6829884.3,
            "count": 2
           }
          ],
          "max": 7581837,
          "min": 62310,
          "nan_count": 0,
          "unique_count": 27
         }
        },
        {
         "dtype": "float64",
         "name": "Hawaii",
         "stats": {
          "histogram": [
           {
            "bin_end": 116357.9,
            "bin_start": 16616,
            "count": 9
           },
           {
            "bin_end": 216099.8,
            "bin_start": 116357.9,
            "count": 3
           },
           {
            "bin_end": 315841.69999999995,
            "bin_start": 216099.8,
            "count": 7
           },
           {
            "bin_end": 415583.6,
            "bin_start": 315841.69999999995,
            "count": 2
           },
           {
            "bin_end": 515325.5,
            "bin_start": 415583.6,
            "count": 2
           },
           {
            "bin_end": 615067.3999999999,
            "bin_start": 515325.5,
            "count": 0
           },
           {
            "bin_end": 714809.2999999999,
            "bin_start": 615067.3999999999,
            "count": 0
           },
           {
            "bin_end": 814551.2,
            "bin_start": 714809.2999999999,
            "count": 0
           },
           {
            "bin_end": 914293.1,
            "bin_start": 814551.2,
            "count": 1
           },
           {
            "bin_end": 1014035,
            "bin_start": 914293.1,
            "count": 3
           }
          ],
          "max": 1014035,
          "min": 16616,
          "nan_count": 0,
          "unique_count": 27
         }
        },
        {
         "dtype": "float64",
         "name": "Idaho",
         "stats": {
          "histogram": [
           {
            "bin_end": 134160.7,
            "bin_start": 6553,
            "count": 11
           },
           {
            "bin_end": 261768.4,
            "bin_start": 134160.7,
            "count": 1
           },
           {
            "bin_end": 389376.1,
            "bin_start": 261768.4,
            "count": 6
           },
           {
            "bin_end": 516983.8,
            "bin_start": 389376.1,
            "count": 1
           },
           {
            "bin_end": 644591.5,
            "bin_start": 516983.8,
            "count": 1
           },
           {
            "bin_end": 772199.2,
            "bin_start": 644591.5,
            "count": 1
           },
           {
            "bin_end": 899806.9,
            "bin_start": 772199.2,
            "count": 0
           },
           {
            "bin_end": 1027414.6,
            "bin_start": 899806.9,
            "count": 0
           },
           {
            "bin_end": 1155022.3,
            "bin_start": 1027414.6,
            "count": 2
           },
           {
            "bin_end": 1282630,
            "bin_start": 1155022.3,
            "count": 4
           }
          ],
          "max": 1282630,
          "min": 6553,
          "nan_count": 0,
          "unique_count": 27
         }
        },
        {
         "dtype": "float64",
         "name": "Illinois",
         "stats": {
          "histogram": [
           {
            "bin_end": 972046.6,
            "bin_start": 70270,
            "count": 8
           },
           {
            "bin_end": 1873823.2,
            "bin_start": 972046.6,
            "count": 3
           },
           {
            "bin_end": 2775599.8,
            "bin_start": 1873823.2,
            "count": 6
           },
           {
            "bin_end": 3677376.4,
            "bin_start": 2775599.8,
            "count": 2
           },
           {
            "bin_end": 4579153,
            "bin_start": 3677376.4,
            "count": 1
           },
           {
            "bin_end": 5480929.6,
            "bin_start": 4579153,
            "count": 1
           },
           {
            "bin_end": 6382706.2,
            "bin_start": 5480929.6,
            "count": 1
           },
           {
            "bin_end": 7284482.8,
            "bin_start": 6382706.2,
            "count": 1
           },
           {
            "bin_end": 8186259.399999999,
            "bin_start": 7284482.8,
            "count": 1
           },
           {
            "bin_end": 9088036,
            "bin_start": 8186259.399999999,
            "count": 3
           }
          ],
          "max": 9088036,
          "min": 70270,
          "nan_count": 0,
          "unique_count": 27
         }
        },
        {
         "dtype": "float64",
         "name": "Indiana",
         "stats": {
          "histogram": [
           {
            "bin_end": 550237.2,
            "bin_start": 58224,
            "count": 11
           },
           {
            "bin_end": 1042250.4,
            "bin_start": 550237.2,
            "count": 1
           },
           {
            "bin_end": 1534263.6,
            "bin_start": 1042250.4,
            "count": 5
           },
           {
            "bin_end": 2026276.8,
            "bin_start": 1534263.6,
            "count": 2
           },
           {
            "bin_end": 2518290,
            "bin_start": 2026276.8,
            "count": 1
           },
           {
            "bin_end": 3010303.2,
            "bin_start": 2518290,
            "count": 1
           },
           {
            "bin_end": 3502316.4,
            "bin_start": 3010303.2,
            "count": 0
           },
           {
            "bin_end": 3994329.6,
            "bin_start": 3502316.4,
            "count": 0
           },
           {
            "bin_end": 4486342.8,
            "bin_start": 3994329.6,
            "count": 4
           },
           {
            "bin_end": 4978356,
            "bin_start": 4486342.8,
            "count": 2
           }
          ],
          "max": 4978356,
          "min": 58224,
          "nan_count": 0,
          "unique_count": 27
         }
        },
        {
         "dtype": "float64",
         "name": "Iowa",
         "stats": {
          "histogram": [
           {
            "bin_end": 246820.8,
            "bin_start": 13269,
            "count": 10
           },
           {
            "bin_end": 480372.6,
            "bin_start": 246820.8,
            "count": 2
           },
           {
            "bin_end": 713924.3999999999,
            "bin_start": 480372.6,
            "count": 5
           },
           {
            "bin_end": 947476.2,
            "bin_start": 713924.3999999999,
            "count": 2
           },
           {
            "bin_end": 1181028,
            "bin_start": 947476.2,
            "count": 1
           },
           {
            "bin_end": 1414579.7999999998,
            "bin_start": 1181028,
            "count": 1
           },
           {
            "bin_end": 1648131.5999999999,
            "bin_start": 1414579.7999999998,
            "count": 0
           },
           {
            "bin_end": 1881683.4,
            "bin_start": 1648131.5999999999,
            "count": 0
           },
           {
            "bin_end": 2115235.1999999997,
            "bin_start": 1881683.4,
            "count": 2
           },
           {
            "bin_end": 2348787,
            "bin_start": 2115235.1999999997,
            "count": 4
           }
          ],
          "max": 2348787,
          "min": 13269,
          "nan_count": 0,
          "unique_count": 27
         }
        },
        {
         "dtype": "float64",
         "name": "Kansas",
         "stats": {
          "histogram": [
           {
            "bin_end": 238867,
            "bin_start": 31658,
            "count": 11
           },
           {
            "bin_end": 446076,
            "bin_start": 238867,
            "count": 1
           },
           {
            "bin_end": 653285,
            "bin_start": 446076,
            "count": 5
           },
           {
            "bin_end": 860494,
            "bin_start": 653285,
            "count": 2
           },
           {
            "bin_end": 1067703,
            "bin_start": 860494,
            "count": 1
           },
           {
            "bin_end": 1274912,
            "bin_start": 1067703,
            "count": 1
           },
           {
            "bin_end": 1482121,
            "bin_start": 1274912,
            "count": 0
           },
           {
            "bin_end": 1689330,
            "bin_start": 1482121,
            "count": 0
           },
           {
            "bin_end": 1896539,
            "bin_start": 1689330,
            "count": 3
           },
           {
            "bin_end": 2103748,
            "bin_start": 1896539,
            "count": 3
           }
          ],
          "max": 2103748,
          "min": 31658,
          "nan_count": 0,
          "unique_count": 27
         }
        },
        {
         "dtype": "float64",
         "name": "Kentucky",
         "stats": {
          "histogram": [
           {
            "bin_end": 347121.8,
            "bin_start": 11524,
            "count": 10
           },
           {
            "bin_end": 682719.6,
            "bin_start": 347121.8,
            "count": 2
           },
           {
            "bin_end": 1018317.3999999999,
            "bin_start": 682719.6,
            "count": 5
           },
           {
            "bin_end": 1353915.2,
            "bin_start": 1018317.3999999999,
            "count": 2
           },
           {
            "bin_end": 1689513,
            "bin_start": 1353915.2,
            "count": 1
           },
           {
            "bin_end": 2025110.7999999998,
            "bin_start": 1689513,
            "count": 1
           },
           {
            "bin_end": 2360708.6,
            "bin_start": 2025110.7999999998,
            "count": 0
           },
           {
            "bin_end": 2696306.4,
            "bin_start": 2360708.6,
            "count": 0
           },
           {
            "bin_end": 3031904.1999999997,
            "bin_start": 2696306.4,
            "count": 4
           },
           {
            "bin_end": 3367502,
            "bin_start": 3031904.1999999997,
            "count": 2
           }
          ],
          "max": 3367502,
          "min": 11524,
          "nan_count": 0,
          "unique_count": 27
         }
        },
        {
         "dtype": "float64",
         "name": "Louisiana",
         "stats": {
          "histogram": [
           {
            "bin_end": 370459.9,
            "bin_start": 26803,
            "count": 9
           },
           {
            "bin_end": 714116.8,
            "bin_start": 370459.9,
            "count": 2
           },
           {
            "bin_end": 1057773.7000000002,
            "bin_start": 714116.8,
            "count": 5
           },
           {
            "bin_end": 1401430.6,
            "bin_start": 1057773.7000000002,
            "count": 3
           },
           {
            "bin_end": 1745087.5,
            "bin_start": 1401430.6,
            "count": 1
           },
           {
            "bin_end": 2088744.4000000001,
            "bin_start": 1745087.5,
            "count": 1
           },
           {
            "bin_end": 2432401.3000000003,
            "bin_start": 2088744.4000000001,
            "count": 2
           },
           {
            "bin_end": 2776058.2,
            "bin_start": 2432401.3000000003,
            "count": 0
           },
           {
            "bin_end": 3119715.1,
            "bin_start": 2776058.2,
            "count": 2
           },
           {
            "bin_end": 3463372,
            "bin_start": 3119715.1,
            "count": 2
           }
          ],
          "max": 3463372,
          "min": 26803,
          "nan_count": 0,
          "unique_count": 27
         }
        },
        {
         "dtype": "float64",
         "name": "Maine",
         "stats": {
          "histogram": [
           {
            "bin_end": 110467.2,
            "bin_start": 2878,
            "count": 10
           },
           {
            "bin_end": 218056.4,
            "bin_start": 110467.2,
            "count": 3
           },
           {
            "bin_end": 325645.6,
            "bin_start": 218056.4,
            "count": 3
           },
           {
            "bin_end": 433234.8,
            "bin_start": 325645.6,
            "count": 3
           },
           {
            "bin_end": 540824,
            "bin_start": 433234.8,
            "count": 1
           },
           {
            "bin_end": 648413.2,
            "bin_start": 540824,
            "count": 1
           },
           {
            "bin_end": 756002.4,
            "bin_start": 648413.2,
            "count": 0
           },
           {
            "bin_end": 863591.6,
            "bin_start": 756002.4,
            "count": 0
           },
           {
            "bin_end": 971180.7999999999,
            "bin_start": 863591.6,
            "count": 1
           },
           {
            "bin_end": 1078770,
            "bin_start": 971180.7999999999,
            "count": 5
           }
          ],
          "max": 1078770,
          "min": 2878,
          "nan_count": 0,
          "unique_count": 27
         }
        },
        {
         "dtype": "float64",
         "name": "Maryland",
         "stats": {
          "histogram": [
           {
            "bin_end": 510550.1,
            "bin_start": 87620,
            "count": 9
           },
           {
            "bin_end": 933480.2,
            "bin_start": 510550.1,
            "count": 5
           },
           {
            "bin_end": 1356410.2999999998,
            "bin_start": 933480.2,
            "count": 3
           },
           {
            "bin_end": 1779340.4,
            "bin_start": 1356410.2999999998,
            "count": 2
           },
           {
            "bin_end": 2202270.5,
            "bin_start": 1779340.4,
            "count": 1
           },
           {
            "bin_end": 2625200.5999999996,
            "bin_start": 2202270.5,
            "count": 3
           },
           {
            "bin_end": 3048130.6999999997,
            "bin_start": 2625200.5999999996,
            "count": 0
           },
           {
            "bin_end": 3471060.8,
            "bin_start": 3048130.6999999997,
            "count": 0
           },
           {
            "bin_end": 3893990.9,
            "bin_start": 3471060.8,
            "count": 1
           },
           {
            "bin_end": 4316921,
            "bin_start": 3893990.9,
            "count": 3
           }
          ],
          "max": 4316921,
          "min": 87620,
          "nan_count": 0,
          "unique_count": 27
         }
        },
        {
         "dtype": "float64",
         "name": "Massachusetts",
         "stats": {
          "histogram": [
           {
            "bin_end": 584478.2,
            "bin_start": 87510,
            "count": 10
           },
           {
            "bin_end": 1081446.4,
            "bin_start": 584478.2,
            "count": 3
           },
           {
            "bin_end": 1578414.6,
            "bin_start": 1081446.4,
            "count": 4
           },
           {
            "bin_end": 2075382.8,
            "bin_start": 1578414.6,
            "count": 1
           },
           {
            "bin_end": 2572351,
            "bin_start": 2075382.8,
            "count": 2
           },
           {
            "bin_end": 3069319.2,
            "bin_start": 2572351,
            "count": 1
           },
           {
            "bin_end": 3566287.4,
            "bin_start": 3069319.2,
            "count": 0
           },
           {
            "bin_end": 4063255.6,
            "bin_start": 3566287.4,
            "count": 1
           },
           {
            "bin_end": 4560223.8,
            "bin_start": 4063255.6,
            "count": 2
           },
           {
            "bin_end": 5057192,
            "bin_start": 4560223.8,
            "count": 3
           }
          ],
          "max": 5057192,
          "min": 87510,
          "nan_count": 0,
          "unique_count": 27
         }
        },
        {
         "dtype": "float64",
         "name": "Michigan",
         "stats": {
          "histogram": [
           {
            "bin_end": 804093.1,
            "bin_start": 53163,
            "count": 9
           },
           {
            "bin_end": 1555023.2,
            "bin_start": 804093.1,
            "count": 3
           },
           {
            "bin_end": 2305953.3,
            "bin_start": 1555023.2,
            "count": 6
           },
           {
            "bin_end": 3056883.4,
            "bin_start": 2305953.3,
            "count": 1
           },
           {
            "bin_end": 3807813.5,
            "bin_start": 3056883.4,
            "count": 1
           },
           {
            "bin_end": 4558743.6,
            "bin_start": 3807813.5,
            "count": 1
           },
           {
            "bin_end": 5309673.7,
            "bin_start": 4558743.6,
            "count": 0
           },
           {
            "bin_end": 6060603.8,
            "bin_start": 5309673.7,
            "count": 1
           },
           {
            "bin_end": 6811533.899999999,
            "bin_start": 6060603.8,
            "count": 2
           },
           {
            "bin_end": 7562464,
            "bin_start": 6811533.899999999,
            "count": 3
           }
          ],
          "max": 7562464,
          "min": 53163,
          "nan_count": 0,
          "unique_count": 27
         }
        },
        {
         "dtype": "float64",
         "name": "Minnesota",
         "stats": {
          "histogram": [
           {
            "bin_end": 457422.9,
            "bin_start": 46297,
            "count": 9
           },
           {
            "bin_end": 868548.8,
            "bin_start": 457422.9,
            "count": 3
           },
           {
            "bin_end": 1279674.7000000002,
            "bin_start": 868548.8,
            "count": 5
           },
           {
            "bin_end": 1690800.6,
            "bin_start": 1279674.7000000002,
            "count": 2
           },
           {
            "bin_end": 2101926.5,
            "bin_start": 1690800.6,
            "count": 1
           },
           {
            "bin_end": 2513052.4000000004,
            "bin_start": 2101926.5,
            "count": 1
           },
           {
            "bin_end": 2924178.3000000003,
            "bin_start": 2513052.4000000004,
            "count": 0
           },
           {
            "bin_end": 3335304.2,
            "bin_start": 2924178.3000000003,
            "count": 0
           },
           {
            "bin_end": 3746430.1,
            "bin_start": 3335304.2,
            "count": 3
           },
           {
            "bin_end": 4157556,
            "bin_start": 3746430.1,
            "count": 3
           }
          ],
          "max": 4157556,
          "min": 46297,
          "nan_count": 0,
          "unique_count": 27
         }
        },
        {
         "dtype": "float64",
         "name": "Mississippi",
         "stats": {
          "histogram": [
           {
            "bin_end": 233923,
            "bin_start": 10323,
            "count": 8
           },
           {
            "bin_end": 457523,
            "bin_start": 233923,
            "count": 4
           },
           {
            "bin_end": 681123,
            "bin_start": 457523,
            "count": 5
           },
           {
            "bin_end": 904723,
            "bin_start": 681123,
            "count": 2
           },
           {
            "bin_end": 1128323,
            "bin_start": 904723,
            "count": 1
           },
           {
            "bin_end": 1351923,
            "bin_start": 1128323,
            "count": 2
           },
           {
            "bin_end": 1575523,
            "bin_start": 1351923,
            "count": 1
           },
           {
            "bin_end": 1799123,
            "bin_start": 1575523,
            "count": 1
           },
           {
            "bin_end": 2022723,
            "bin_start": 1799123,
            "count": 1
           },
           {
            "bin_end": 2246323,
            "bin_start": 2022723,
            "count": 2
           }
          ],
          "max": 2246323,
          "min": 10323,
          "nan_count": 0,
          "unique_count": 27
         }
        },
        {
         "dtype": "float64",
         "name": "Missouri",
         "stats": {
          "histogram": [
           {
            "bin_end": 496558.8,
            "bin_start": 35030,
            "count": 9
           },
           {
            "bin_end": 958087.6,
            "bin_start": 496558.8,
            "count": 4
           },
           {
            "bin_end": 1419616.4,
            "bin_start": 958087.6,
            "count": 4
           },
           {
            "bin_end": 1881145.2,
            "bin_start": 1419616.4,
            "count": 2
           },
           {
            "bin_end": 2342674,
            "bin_start": 1881145.2,
            "count": 1
           },
           {
            "bin_end": 2804202.8,
            "bin_start": 2342674,
            "count": 1
           },
           {
            "bin_end": 3265731.6,
            "bin_start": 2804202.8,
            "count": 0
           },
           {
            "bin_end": 3727260.4,
            "bin_start": 3265731.6,
            "count": 0
           },
           {
            "bin_end": 4188789.1999999997,
            "bin_start": 3727260.4,
            "count": 3
           },
           {
            "bin_end": 4650318,
            "bin_start": 4188789.1999999997,
            "count": 3
           }
          ],
          "max": 4650318,
          "min": 35030,
          "nan_count": 0,
          "unique_count": 27
         }
        },
        {
         "dtype": "float64",
         "name": "Montana",
         "stats": {
          "histogram": [
           {
            "bin_end": 83176,
            "bin_start": 0,
            "count": 10
           },
           {
            "bin_end": 166352,
            "bin_start": 83176,
            "count": 2
           },
           {
            "bin_end": 249528,
            "bin_start": 166352,
            "count": 5
           },
           {
            "bin_end": 332704,
            "bin_start": 249528,
            "count": 2
           },
           {
            "bin_end": 415880,
            "bin_start": 332704,
            "count": 1
           },
           {
            "bin_end": 499056,
            "bin_start": 415880,
            "count": 1
           },
           {
            "bin_end": 582232,
            "bin_start": 499056,
            "count": 0
           },
           {
            "bin_end": 665408,
            "bin_start": 582232,
            "count": 0
           },
           {
            "bin_end": 748584,
            "bin_start": 665408,
            "count": 2
           },
           {
            "bin_end": 831760,
            "bin_start": 748584,
            "count": 4
           }
          ],
          "max": 831760,
          "min": 0,
          "nan_count": 0,
          "unique_count": 25
         }
        },
        {
         "dtype": "float64",
         "name": "Nebraska",
         "stats": {
          "histogram": [
           {
            "bin_end": 159478.9,
            "bin_start": 22871,
            "count": 11
           },
           {
            "bin_end": 296086.8,
            "bin_start": 159478.9,
            "count": 1
           },
           {
            "bin_end": 432694.69999999995,
            "bin_start": 296086.8,
            "count": 5
           },
           {
            "bin_end": 569302.6,
            "bin_start": 432694.69999999995,
            "count": 2
           },
           {
            "bin_end": 705910.5,
            "bin_start": 569302.6,
            "count": 2
           },
           {
            "bin_end": 842518.3999999999,
            "bin_start": 705910.5,
            "count": 0
           },
           {
            "bin_end": 979126.2999999999,
            "bin_start": 842518.3999999999,
            "count": 0
           },
           {
            "bin_end": 1115734.2,
            "bin_start": 979126.2999999999,
            "count": 0
           },
           {
            "bin_end": 1252342.0999999999,
            "bin_start": 1115734.2,
            "count": 3
           },
           {
            "bin_end": 1388950,
            "bin_start": 1252342.0999999999,
            "count": 3
           }
          ],
          "max": 1388950,
          "min": 22871,
          "nan_count": 0,
          "unique_count": 27
         }
        },
        {
         "dtype": "float64",
         "name": "Nevada",
         "stats": {
          "histogram": [
           {
            "bin_end": 261933.4,
            "bin_start": 56378,
            "count": 10
           },
           {
            "bin_end": 467488.8,
            "bin_start": 261933.4,
            "count": 3
           },
           {
            "bin_end": 673044.2,
            "bin_start": 467488.8,
            "count": 5
           },
           {
            "bin_end": 878599.6,
            "bin_start": 673044.2,
            "count": 1
           },
           {
            "bin_end": 1084155,
            "bin_start": 878599.6,
            "count": 2
           },
           {
            "bin_end": 1289710.4,
            "bin_start": 1084155,
            "count": 1
           },
           {
            "bin_end": 1495265.8,
            "bin_start": 1289710.4,
            "count": 1
           },
           {
            "bin_end": 1700821.2,
            "bin_start": 1495265.8,
            "count": 0
           },
           {
            "bin_end": 1906376.5999999999,
            "bin_start": 1700821.2,
            "count": 2
           },
           {
            "bin_end": 2111932,
            "bin_start": 1906376.5999999999,
            "count": 2
           }
          ],
          "max": 2111932,
          "min": 56378,
          "nan_count": 0,
          "unique_count": 27
         }
        },
        {
         "dtype": "float64",
         "name": "New Hampshire",
         "stats": {
          "histogram": [
           {
            "bin_end": 111992.2,
            "bin_start": 5523,
            "count": 10
           },
           {
            "bin_end": 218461.4,
            "bin_start": 111992.2,
            "count": 3
           },
           {
            "bin_end": 324930.6,
            "bin_start": 218461.4,
            "count": 4
           },
           {
            "bin_end": 431399.8,
            "bin_start": 324930.6,
            "count": 2
           },
           {
            "bin_end": 537869,
            "bin_start": 431399.8,
            "count": 1
           },
           {
            "bin_end": 644338.2,
            "bin_start": 537869,
            "count": 1
           },
           {
            "bin_end": 750807.4,
            "bin_start": 644338.2,
            "count": 0
           },
           {
            "bin_end": 857276.6,
            "bin_start": 750807.4,
            "count": 0
           },
           {
            "bin_end": 963745.7999999999,
            "bin_start": 857276.6,
            "count": 1
           },
           {
            "bin_end": 1070215,
            "bin_start": 963745.7999999999,
            "count": 5
           }
          ],
          "max": 1070215,
          "min": 5523,
          "nan_count": 0,
          "unique_count": 27
         }
        },
        {
         "dtype": "float64",
         "name": "New Jersey",
         "stats": {
          "histogram": [
           {
            "bin_end": 695619,
            "bin_start": 87340,
            "count": 8
           },
           {
            "bin_end": 1303898,
            "bin_start": 695619,
            "count": 5
           },
           {
            "bin_end": 1912177,
            "bin_start": 1303898,
            "count": 4
           },
           {
            "bin_end": 2520456,
            "bin_start": 1912177,
            "count": 2
           },
           {
            "bin_end": 3128735,
            "bin_start": 2520456,
            "count": 1
           },
           {
            "bin_end": 3737014,
            "bin_start": 3128735,
            "count": 1
           },
           {
            "bin_end": 4345293,
            "bin_start": 3737014,
            "count": 1
           },
           {
            "bin_end": 4953572,
            "bin_start": 4345293,
            "count": 1
           },
           {
            "bin_end": 5561851,
            "bin_start": 4953572,
            "count": 0
           },
           {
            "bin_end": 6170130,
            "bin_start": 5561851,
            "count": 4
           }
          ],
          "max": 6170130,
          "min": 87340,
          "nan_count": 0,
          "unique_count": 27
         }
        },
        {
         "dtype": "float64",
         "name": "New Mexico",
         "stats": {
          "histogram": [
           {
            "bin_end": 170456.5,
            "bin_start": 20266,
            "count": 9
           },
           {
            "bin_end": 320647,
            "bin_start": 170456.5,
            "count": 3
           },
           {
            "bin_end": 470837.5,
            "bin_start": 320647,
            "count": 5
           },
           {
            "bin_end": 621028,
            "bin_start": 470837.5,
            "count": 1
           },
           {
            "bin_end": 771218.5,
            "bin_start": 621028,
            "count": 3
           },
           {
            "bin_end": 921409,
            "bin_start": 771218.5,
            "count": 1
           },
           {
            "bin_end": 1071599.5,
            "bin_start": 921409,
            "count": 0
           },
           {
            "bin_end": 1221790,
            "bin_start": 1071599.5,
            "count": 1
           },
           {
            "bin_end": 1371980.5,
            "bin_start": 1221790,
            "count": 2
           },
           {
            "bin_end": 1522171,
            "bin_start": 1371980.5,
            "count": 2
           }
          ],
          "max": 1522171,
          "min": 20266,
          "nan_count": 0,
          "unique_count": 27
         }
        },
        {
         "dtype": "float64",
         "name": "New York",
         "stats": {
          "histogram": [
           {
            "bin_end": 1447407.6,
            "bin_start": 73694,
            "count": 7
           },
           {
            "bin_end": 2821121.2,
            "bin_start": 1447407.6,
            "count": 5
           },
           {
            "bin_end": 4194834.800000001,
            "bin_start": 2821121.2,
            "count": 5
           },
           {
            "bin_end": 5568548.4,
            "bin_start": 4194834.800000001,
            "count": 2
           },
           {
            "bin_end": 6942262,
            "bin_start": 5568548.4,
            "count": 1
           },
           {
            "bin_end": 8315975.600000001,
            "bin_start": 6942262,
            "count": 1
           },
           {
            "bin_end": 9689689.200000001,
            "bin_start": 8315975.600000001,
            "count": 2
           },
           {
            "bin_end": 11063402.8,
            "bin_start": 9689689.200000001,
            "count": 0
           },
           {
            "bin_end": 12437116.4,
            "bin_start": 11063402.8,
            "count": 2
           },
           {
            "bin_end": 13810830,
            "bin_start": 12437116.4,
            "count": 2
           }
          ],
          "max": 13810830,
          "min": 73694,
          "nan_count": 0,
          "unique_count": 27
         }
        },
        {
         "dtype": "float64",
         "name": "North Carolina",
         "stats": {
          "histogram": [
           {
            "bin_end": 825181.5,
            "bin_start": 58019,
            "count": 9
           },
           {
            "bin_end": 1592344,
            "bin_start": 825181.5,
            "count": 2
           },
           {
            "bin_end": 2359506.5,
            "bin_start": 1592344,
            "count": 7
           },
           {
            "bin_end": 3126669,
            "bin_start": 2359506.5,
            "count": 1
           },
           {
            "bin_end": 3893831.5,
            "bin_start": 3126669,
            "count": 1
           },
           {
            "bin_end": 4660994,
            "bin_start": 3893831.5,
            "count": 1
           },
           {
            "bin_end": 5428156.5,
            "bin_start": 4660994,
            "count": 1
           },
           {
            "bin_end": 6195319,
            "bin_start": 5428156.5,
            "count": 1
           },
           {
            "bin_end": 6962481.5,
            "bin_start": 6195319,
            "count": 1
           },
           {
            "bin_end": 7729644,
            "bin_start": 6962481.5,
            "count": 3
           }
          ],
          "max": 7729644,
          "min": 58019,
          "nan_count": 0,
          "unique_count": 27
         }
        },
        {
         "dtype": "float64",
         "name": "North Dakota",
         "stats": {
          "histogram": [
           {
            "bin_end": 56754.5,
            "bin_start": 0,
            "count": 9
           },
           {
            "bin_end": 113509,
            "bin_start": 56754.5,
            "count": 2
           },
           {
            "bin_end": 170263.5,
            "bin_start": 113509,
            "count": 8
           },
           {
            "bin_end": 227018,
            "bin_start": 170263.5,
            "count": 0
           },
           {
            "bin_end": 283772.5,
            "bin_start": 227018,
            "count": 1
           },
           {
            "bin_end": 340527,
            "bin_start": 283772.5,
            "count": 1
           },
           {
            "bin_end": 397281.5,
            "bin_start": 340527,
            "count": 0
           },
           {
            "bin_end": 454036,
            "bin_start": 397281.5,
            "count": 0
           },
           {
            "bin_end": 510790.5,
            "bin_start": 454036,
            "count": 3
           },
           {
            "bin_end": 567545,
            "bin_start": 510790.5,
            "count": 3
           }
          ],
          "max": 567545,
          "min": 0,
          "nan_count": 0,
          "unique_count": 26
         }
        },
        {
         "dtype": "float64",
         "name": "Ohio",
         "stats": {
          "histogram": [
           {
            "bin_end": 938506.2,
            "bin_start": 56177,
            "count": 9
           },
           {
            "bin_end": 1820835.4,
            "bin_start": 938506.2,
            "count": 4
           },
           {
            "bin_end": 2703164.5999999996,
            "bin_start": 1820835.4,
            "count": 4
           },
           {
            "bin_end": 3585493.8,
            "bin_start": 2703164.5999999996,
            "count": 2
           },
           {
            "bin_end": 4467823,
            "bin_start": 3585493.8,
            "count": 1
           },
           {
            "bin_end": 5350152.199999999,
            "bin_start": 4467823,
            "count": 1
           },
           {
            "bin_end": 6232481.399999999,
            "bin_start": 5350152.199999999,
            "count": 0
           },
           {
            "bin_end": 7114810.6,
            "bin_start": 6232481.399999999,
            "count": 0
           },
           {
            "bin_end": 7997139.8,
            "bin_start": 7114810.6,
            "count": 3
           },
           {
            "bin_end": 8879469,
            "bin_start": 7997139.8,
            "count": 3
           }
          ],
          "max": 8879469,
          "min": 56177,
          "nan_count": 0,
          "unique_count": 27
         }
        },
        {
         "dtype": "float64",
         "name": "Oklahoma",
         "stats": {
          "histogram": [
           {
            "bin_end": 321075.9,
            "bin_start": 37300,
            "count": 10
           },
           {
            "bin_end": 604851.8,
            "bin_start": 321075.9,
            "count": 2
           },
           {
            "bin_end": 888627.7000000001,
            "bin_start": 604851.8,
            "count": 5
           },
           {
            "bin_end": 1172403.6,
            "bin_start": 888627.7000000001,
            "count": 2
           },
           {
            "bin_end": 1456179.5,
            "bin_start": 1172403.6,
            "count": 1
           },
           {
            "bin_end": 1739955.4000000001,
            "bin_start": 1456179.5,
            "count": 1
           },
           {
            "bin_end": 2023731.3000000003,
            "bin_start": 1739955.4000000001,
            "count": 0
           },
           {
            "bin_end": 2307507.2,
            "bin_start": 2023731.3000000003,
            "count": 2
           },
           {
            "bin_end": 2591283.1,
            "bin_start": 2307507.2,
            "count": 2
           },
           {
            "bin_end": 2875059,
            "bin_start": 2591283.1,
            "count": 2
           }
          ],
          "max": 2875059,
          "min": 37300,
          "nan_count": 0,
          "unique_count": 27
         }
        },
        {
         "dtype": "float64",
         "name": "Oregon",
         "stats": {
          "histogram": [
           {
            "bin_end": 366643.8,
            "bin_start": 56026,
            "count": 10
           },
           {
            "bin_end": 677261.6,
            "bin_start": 366643.8,
            "count": 3
           },
           {
            "bin_end": 987879.3999999999,
            "bin_start": 677261.6,
            "count": 4
           },
           {
            "bin_end": 1298497.2,
            "bin_start": 987879.3999999999,
            "count": 2
           },
           {
            "bin_end": 1609115,
            "bin_start": 1298497.2,
            "count": 1
           },
           {
            "bin_end": 1919732.7999999998,
            "bin_start": 1609115,
            "count": 1
           },
           {
            "bin_end": 2230350.6,
            "bin_start": 1919732.7999999998,
            "count": 0
           },
           {
            "bin_end": 2540968.4,
            "bin_start": 2230350.6,
            "count": 0
           },
           {
            "bin_end": 2851586.1999999997,
            "bin_start": 2540968.4,
            "count": 3
           },
           {
            "bin_end": 3162204,
            "bin_start": 2851586.1999999997,
            "count": 3
           }
          ],
          "max": 3162204,
          "min": 56026,
          "nan_count": 0,
          "unique_count": 27
         }
        },
        {
         "dtype": "float64",
         "name": "Pennsylvania",
         "stats": {
          "histogram": [
           {
            "bin_end": 1038438.3,
            "bin_start": 63798,
            "count": 9
           },
           {
            "bin_end": 2013078.6,
            "bin_start": 1038438.3,
            "count": 5
           },
           {
            "bin_end": 2987718.9000000004,
            "bin_start": 2013078.6,
            "count": 3
           },
           {
            "bin_end": 3962359.2,
            "bin_start": 2987718.9000000004,
            "count": 2
           },
           {
            "bin_end": 4936999.5,
            "bin_start": 3962359.2,
            "count": 1
           },
           {
            "bin_end": 5911639.800000001,
            "bin_start": 4936999.5,
            "count": 1
           },
           {
            "bin_end": 6886280.100000001,
            "bin_start": 5911639.800000001,
            "count": 0
           },
           {
            "bin_end": 7860920.4,
            "bin_start": 6886280.100000001,
            "count": 0
           },
           {
            "bin_end": 8835560.700000001,
            "bin_start": 7860920.4,
            "count": 3
           },
           {
            "bin_end": 9810201,
            "bin_start": 8835560.700000001,
            "count": 3
           }
          ],
          "max": 9810201,
          "min": 63798,
          "nan_count": 0,
          "unique_count": 27
         }
        },
        {
         "dtype": "float64",
         "name": "Rhode Island",
         "stats": {
          "histogram": [
           {
            "bin_end": 99163.4,
            "bin_start": 21204,
            "count": 10
           },
           {
            "bin_end": 177122.8,
            "bin_start": 99163.4,
            "count": 5
           },
           {
            "bin_end": 255082.19999999998,
            "bin_start": 177122.8,
            "count": 2
           },
           {
            "bin_end": 333041.6,
            "bin_start": 255082.19999999998,
            "count": 2
           },
           {
            "bin_end": 411001,
            "bin_start": 333041.6,
            "count": 1
           },
           {
            "bin_end": 488960.39999999997,
            "bin_start": 411001,
            "count": 1
           },
           {
            "bin_end": 566919.7999999999,
            "bin_start": 488960.39999999997,
            "count": 0
           },
           {
            "bin_end": 644879.2,
            "bin_start": 566919.7999999999,
            "count": 1
           },
           {
            "bin_end": 722838.6,
            "bin_start": 644879.2,
            "count": 2
           },
           {
            "bin_end": 800798,
            "bin_start": 722838.6,
            "count": 3
           }
          ],
          "max": 800798,
          "min": 21204,
          "nan_count": 0,
          "unique_count": 27
         }
        },
        {
         "dtype": "float64",
         "name": "South Carolina",
         "stats": {
          "histogram": [
           {
            "bin_end": 414816.6,
            "bin_start": 28425,
            "count": 9
           },
           {
            "bin_end": 801208.2,
            "bin_start": 414816.6,
            "count": 3
           },
           {
            "bin_end": 1187599.7999999998,
            "bin_start": 801208.2,
            "count": 6
           },
           {
            "bin_end": 1573991.4,
            "bin_start": 1187599.7999999998,
            "count": 1
           },
           {
            "bin_end": 1960383,
            "bin_start": 1573991.4,
            "count": 1
           },
           {
            "bin_end": 2346774.5999999996,
            "bin_start": 1960383,
            "count": 1
           },
           {
            "bin_end": 2733166.1999999997,
            "bin_start": 2346774.5999999996,
            "count": 2
           },
           {
            "bin_end": 3119557.8,
            "bin_start": 2733166.1999999997,
            "count": 0
           },
           {
            "bin_end": 3505949.4,
            "bin_start": 3119557.8,
            "count": 2
           },
           {
            "bin_end": 3892341,
            "bin_start": 3505949.4,
            "count": 2
           }
          ],
          "max": 3892341,
          "min": 28425,
          "nan_count": 0,
          "unique_count": 27
         }
        },
        {
         "dtype": "float64",
         "name": "South Dakota",
         "stats": {
          "histogram": [
           {
            "bin_end": 65339.4,
            "bin_start": 0,
            "count": 9
           },
           {
            "bin_end": 130678.8,
            "bin_start": 65339.4,
            "count": 3
           },
           {
            "bin_end": 196018.2,
            "bin_start": 130678.8,
            "count": 5
           },
           {
            "bin_end": 261357.6,
            "bin_start": 196018.2,
            "count": 2
           },
           {
            "bin_end": 326697,
            "bin_start": 261357.6,
            "count": 1
           },
           {
            "bin_end": 392036.4,
            "bin_start": 326697,
            "count": 1
           },
           {
            "bin_end": 457375.8,
            "bin_start": 392036.4,
            "count": 0
           },
           {
            "bin_end": 522715.2,
            "bin_start": 457375.8,
            "count": 0
           },
           {
            "bin_end": 588054.6,
            "bin_start": 522715.2,
            "count": 3
           },
           {
            "bin_end": 653394,
            "bin_start": 588054.6,
            "count": 3
           }
          ],
          "max": 653394,
          "min": 0,
          "nan_count": 0,
          "unique_count": 27
         }
        },
        {
         "dtype": "float64",
         "name": "Tennessee",
         "stats": {
          "histogram": [
           {
            "bin_end": 537816,
            "bin_start": 27620,
            "count": 9
           },
           {
            "bin_end": 1048012,
            "bin_start": 537816,
            "count": 3
           },
           {
            "bin_end": 1558208,
            "bin_start": 1048012,
            "count": 5
           },
           {
            "bin_end": 2068404,
            "bin_start": 1558208,
            "count": 2
           },
           {
            "bin_end": 2578600,
            "bin_start": 2068404,
            "count": 1
           },
           {
            "bin_end": 3088796,
            "bin_start": 2578600,
            "count": 1
           },
           {
            "bin_end": 3598992,
            "bin_start": 3088796,
            "count": 0
           },
           {
            "bin_end": 4109188,
            "bin_start": 3598992,
            "count": 2
           },
           {
            "bin_end": 4619384,
            "bin_start": 4109188,
            "count": 2
           },
           {
            "bin_end": 5129580,
            "bin_start": 4619384,
            "count": 2
           }
          ],
          "max": 5129580,
          "min": 27620,
          "nan_count": 0,
          "unique_count": 27
         }
        },
        {
         "dtype": "float64",
         "name": "Texas",
         "stats": {
          "histogram": [
           {
            "bin_end": 1947830.8,
            "bin_start": 66974,
            "count": 9
           },
           {
            "bin_end": 3828687.6,
            "bin_start": 1947830.8,
            "count": 3
           },
           {
            "bin_end": 5709544.4,
            "bin_start": 3828687.6,
            "count": 5
           },
           {
            "bin_end": 7590401.2,
            "bin_start": 5709544.4,
            "count": 2
           },
           {
            "bin_end": 9471258,
            "bin_start": 7590401.2,
            "count": 2
           },
           {
            "bin_end": 11352114.8,
            "bin_start": 9471258,
            "count": 1
           },
           {
            "bin_end": 13232971.6,
            "bin_start": 11352114.8,
            "count": 0
           },
           {
            "bin_end": 15113828.4,
            "bin_start": 13232971.6,
            "count": 1
           },
           {
            "bin_end": 16994685.2,
            "bin_start": 15113828.4,
            "count": 2
           },
           {
            "bin_end": 18875542,
            "bin_start": 16994685.2,
            "count": 2
           }
          ],
          "max": 18875542,
          "min": 66974,
          "nan_count": 0,
          "unique_count": 27
         }
        },
        {
         "dtype": "float64",
         "name": "Utah",
         "stats": {
          "histogram": [
           {
            "bin_end": 231482.5,
            "bin_start": 20064,
            "count": 11
           },
           {
            "bin_end": 442901,
            "bin_start": 231482.5,
            "count": 1
           },
           {
            "bin_end": 654319.5,
            "bin_start": 442901,
            "count": 6
           },
           {
            "bin_end": 865738,
            "bin_start": 654319.5,
            "count": 1
           },
           {
            "bin_end": 1077156.5,
            "bin_start": 865738,
            "count": 2
           },
           {
            "bin_end": 1288575,
            "bin_start": 1077156.5,
            "count": 0
           },
           {
            "bin_end": 1499993.5,
            "bin_start": 1288575,
            "count": 0
           },
           {
            "bin_end": 1711412,
            "bin_start": 1499993.5,
            "count": 0
           },
           {
            "bin_end": 1922830.5,
            "bin_start": 1711412,
            "count": 1
           },
           {
            "bin_end": 2134249,
            "bin_start": 1922830.5,
            "count": 5
           }
          ],
          "max": 2134249,
          "min": 20064,
          "nan_count": 0,
          "unique_count": 27
         }
        },
        {
         "dtype": "float64",
         "name": "Vermont",
         "stats": {
          "histogram": [
           {
            "bin_end": 49870.5,
            "bin_start": 0,
            "count": 9
           },
           {
            "bin_end": 99741,
            "bin_start": 49870.5,
            "count": 2
           },
           {
            "bin_end": 149611.5,
            "bin_start": 99741,
            "count": 6
           },
           {
            "bin_end": 199482,
            "bin_start": 149611.5,
            "count": 2
           },
           {
            "bin_end": 249352.5,
            "bin_start": 199482,
            "count": 1
           },
           {
            "bin_end": 299223,
            "bin_start": 249352.5,
            "count": 1
           },
           {
            "bin_end": 349093.5,
            "bin_start": 299223,
            "count": 0
           },
           {
            "bin_end": 398964,
            "bin_start": 349093.5,
            "count": 0
           },
           {
            "bin_end": 448834.5,
            "bin_start": 398964,
            "count": 1
           },
           {
            "bin_end": 498705,
            "bin_start": 448834.5,
            "count": 5
           }
          ],
          "max": 498705,
          "min": 0,
          "nan_count": 0,
          "unique_count": 26
         }
        },
        {
         "dtype": "float64",
         "name": "Virginia",
         "stats": {
          "histogram": [
           {
            "bin_end": 692252.1,
            "bin_start": 77322,
            "count": 9
           },
           {
            "bin_end": 1307182.2,
            "bin_start": 692252.1,
            "count": 3
           },
           {
            "bin_end": 1922112.2999999998,
            "bin_start": 1307182.2,
            "count": 5
           },
           {
            "bin_end": 2537042.4,
            "bin_start": 1922112.2999999998,
            "count": 2
           },
           {
            "bin_end": 3151972.5,
            "bin_start": 2537042.4,
            "count": 1
           },
           {
            "bin_end": 3766902.5999999996,
            "bin_start": 3151972.5,
            "count": 1
           },
           {
            "bin_end": 4381832.7,
            "bin_start": 3766902.5999999996,
            "count": 1
           },
           {
            "bin_end": 4996762.8,
            "bin_start": 4381832.7,
            "count": 1
           },
           {
            "bin_end": 5611692.899999999,
            "bin_start": 4996762.8,
            "count": 1
           },
           {
            "bin_end": 6226623,
            "bin_start": 5611692.899999999,
            "count": 3
           }
          ],
          "max": 6226623,
          "min": 77322,
          "nan_count": 0,
          "unique_count": 27
         }
        },
        {
         "dtype": "float64",
         "name": "Washington",
         "stats": {
          "histogram": [
           {
            "bin_end": 611909.9,
            "bin_start": 78896,
            "count": 10
           },
           {
            "bin_end": 1144923.8,
            "bin_start": 611909.9,
            "count": 2
           },
           {
            "bin_end": 1677937.7000000002,
            "bin_start": 1144923.8,
            "count": 5
           },
           {
            "bin_end": 2210951.6,
            "bin_start": 1677937.7000000002,
            "count": 2
           },
           {
            "bin_end": 2743965.5,
            "bin_start": 2210951.6,
            "count": 2
           },
           {
            "bin_end": 3276979.4000000004,
            "bin_start": 2743965.5,
            "count": 0
           },
           {
            "bin_end": 3809993.3000000003,
            "bin_start": 3276979.4000000004,
            "count": 0
           },
           {
            "bin_end": 4343007.2,
            "bin_start": 3809993.3000000003,
            "count": 1
           },
           {
            "bin_end": 4876021.100000001,
            "bin_start": 4343007.2,
            "count": 2
           },
           {
            "bin_end": 5409035,
            "bin_start": 4876021.100000001,
            "count": 3
           }
          ],
          "max": 5409035,
          "min": 78896,
          "nan_count": 0,
          "unique_count": 27
         }
        },
        {
         "dtype": "float64",
         "name": "West Virginia",
         "stats": {
          "histogram": [
           {
            "bin_end": 145160.9,
            "bin_start": 3480,
            "count": 10
           },
           {
            "bin_end": 286841.8,
            "bin_start": 145160.9,
            "count": 5
           },
           {
            "bin_end": 428522.69999999995,
            "bin_start": 286841.8,
            "count": 2
           },
           {
            "bin_end": 570203.6,
            "bin_start": 428522.69999999995,
            "count": 1
           },
           {
            "bin_end": 711884.5,
            "bin_start": 570203.6,
            "count": 2
           },
           {
            "bin_end": 853565.3999999999,
            "bin_start": 711884.5,
            "count": 1
           },
           {
            "bin_end": 995246.2999999999,
            "bin_start": 853565.3999999999,
            "count": 0
           },
           {
            "bin_end": 1136927.2,
            "bin_start": 995246.2999999999,
            "count": 0
           },
           {
            "bin_end": 1278608.0999999999,
            "bin_start": 1136927.2,
            "count": 2
           },
           {
            "bin_end": 1420289,
            "bin_start": 1278608.0999999999,
            "count": 4
           }
          ],
          "max": 1420289,
          "min": 3480,
          "nan_count": 0,
          "unique_count": 27
         }
        },
        {
         "dtype": "float64",
         "name": "Wisconsin",
         "stats": {
          "histogram": [
           {
            "bin_end": 490766.3,
            "bin_start": 54975,
            "count": 11
           },
           {
            "bin_end": 926557.6,
            "bin_start": 490766.3,
            "count": 2
           },
           {
            "bin_end": 1362348.9,
            "bin_start": 926557.6,
            "count": 4
           },
           {
            "bin_end": 1798140.2,
            "bin_start": 1362348.9,
            "count": 2
           },
           {
            "bin_end": 2233931.5,
            "bin_start": 1798140.2,
            "count": 1
           },
           {
            "bin_end": 2669722.8,
            "bin_start": 2233931.5,
            "count": 1
           },
           {
            "bin_end": 3105514.1,
            "bin_start": 2669722.8,
            "count": 0
           },
           {
            "bin_end": 3541305.4,
            "bin_start": 3105514.1,
            "count": 0
           },
           {
            "bin_end": 3977096.6999999997,
            "bin_start": 3541305.4,
            "count": 3
           },
           {
            "bin_end": 4412888,
            "bin_start": 3977096.6999999997,
            "count": 3
           }
          ],
          "max": 4412888,
          "min": 54975,
          "nan_count": 0,
          "unique_count": 27
         }
        },
        {
         "dtype": "float64",
         "name": "Wyoming",
         "stats": {
          "histogram": [
           {
            "bin_end": 43485.2,
            "bin_start": 0,
            "count": 9
           },
           {
            "bin_end": 86970.4,
            "bin_start": 43485.2,
            "count": 3
           },
           {
            "bin_end": 130455.59999999999,
            "bin_start": 86970.4,
            "count": 5
           },
           {
            "bin_end": 173940.8,
            "bin_start": 130455.59999999999,
            "count": 2
           },
           {
            "bin_end": 217426,
            "bin_start": 173940.8,
            "count": 1
           },
           {
            "bin_end": 260911.19999999998,
            "bin_start": 217426,
            "count": 1
           },
           {
            "bin_end": 304396.39999999997,
            "bin_start": 260911.19999999998,
            "count": 0
           },
           {
            "bin_end": 347881.6,
            "bin_start": 304396.39999999997,
            "count": 0
           },
           {
            "bin_end": 391366.8,
            "bin_start": 347881.6,
            "count": 2
           },
           {
            "bin_end": 434852,
            "bin_start": 391366.8,
            "count": 4
           }
          ],
          "max": 434852,
          "min": 0,
          "nan_count": 0,
          "unique_count": 25
         }
        },
        {
         "dtype": "float64",
         "name": "Puerto Rico",
         "stats": {
          "histogram": [
           {
            "bin_end": 260776.6,
            "bin_start": 3130,
            "count": 6
           },
           {
            "bin_end": 518423.2,
            "bin_start": 260776.6,
            "count": 7
           },
           {
            "bin_end": 776069.8,
            "bin_start": 518423.2,
            "count": 4
           },
           {
            "bin_end": 1033716.4,
            "bin_start": 776069.8,
            "count": 1
           },
           {
            "bin_end": 1291363,
            "bin_start": 1033716.4,
            "count": 2
           },
           {
            "bin_end": 1549009.6,
            "bin_start": 1291363,
            "count": 2
           },
           {
            "bin_end": 1806656.2,
            "bin_start": 1549009.6,
            "count": 1
           },
           {
            "bin_end": 2064302.8,
            "bin_start": 1806656.2,
            "count": 0
           },
           {
            "bin_end": 2321949.4,
            "bin_start": 2064302.8,
            "count": 1
           },
           {
            "bin_end": 2579596,
            "bin_start": 2321949.4,
            "count": 3
           }
          ],
          "max": 2579596,
          "min": 3130,
          "nan_count": 0,
          "unique_count": 27
         }
        },
        {
         "dtype": "int64",
         "name": "_deepnote_index_column"
        }
       ],
       "row_count": 27,
       "rows_bottom": [
        {
         "Alabama": 320135,
         "Alaska": 44961,
         "Arizona": 446537,
         "Arkansas": 165537,
         "California": 2141961,
         "Colorado": 346707,
         "Connecticut": 195842,
         "Delaware": 57123,
         "District of Columbia": 16577,
         "Florida": 1594454,
         "Georgia": 585225,
         "Hawaii": 103114,
         "Idaho": 132451,
         "Illinois": 755504,
         "Indiana": 413721,
         "Iowa": 270466,
         "Kansas": 194072,
         "Kentucky": 277218,
         "Label": "        Associate's degree",
         "Louisiana": 209174,
         "Maine": 102719,
         "Maryland": 293152,
         "Massachusetts": 364864,
         "Michigan": 686228,
         "Minnesota": 468946,
         "Mississippi": 229572,
         "Missouri": 359600,
         "Montana": 72970,
         "Nebraska": 150967,
         "Nevada": 189556,
         "New Hampshire": 102355,
         "New Jersey": 414239,
         "New Mexico": 138614,
         "New York": 1232351,
         "North Carolina": 771355,
         "North Dakota": 77801,
         "Ohio": 733993,
         "Oklahoma": 226162,
         "Oregon": 283734,
         "Pennsylvania": 808415,
         "Puerto Rico": 281766,
         "Rhode Island": 65507,
         "South Carolina": 363534,
         "South Dakota": 73980,
         "Tennessee": 377624,
         "Texas": 1471953,
         "Utah": 205700,
         "Vermont": 40718,
         "Virginia": 489852,
         "Washington": 554436,
         "West Virginia": 106020,
         "Wisconsin": 459902,
         "Wyoming": 48662,
         "_deepnote_index_column": 18
        },
        {
         "Alabama": 568086,
         "Alaska": 89372,
         "Arizona": 941950,
         "Arkansas": 324482,
         "California": 5677969,
         "Colorado": 1088922,
         "Connecticut": 565281,
         "Delaware": 133974,
         "District of Columbia": 138796,
         "Florida": 2872257,
         "Georgia": 1425151,
         "Hawaii": 212655,
         "Idaho": 228096,
         "Illinois": 1924280,
         "Indiana": 813266,
         "Iowa": 440597,
         "Kansas": 431443,
         "Kentucky": 475197,
         "Label": "        Bachelor's degree",
         "Louisiana": 525168,
         "Maine": 214033,
         "Maryland": 929633,
         "Massachusetts": 1234605,
         "Michigan": 1298320,
         "Minnesota": 979578,
         "Mississippi": 286263,
         "Missouri": 813861,
         "Montana": 178221,
         "Nebraska": 294188,
         "Nevada": 341197,
         "New Hampshire": 231504,
         "New Jersey": 1543904,
         "New Mexico": 228095,
         "New York": 2947282,
         "North Carolina": 1503185,
         "North Dakota": 116017,
         "Ohio": 1519868,
         "Oklahoma": 468088,
         "Oregon": 638939,
         "Pennsylvania": 1839363,
         "Puerto Rico": 471277,
         "Rhode Island": 159742,
         "South Carolina": 676306,
         "South Dakota": 125635,
         "Tennessee": 884595,
         "Texas": 3680158,
         "Utah": 450818,
         "Vermont": 106339,
         "Virginia": 1327704,
         "Washington": 1183019,
         "West Virginia": 174132,
         "Wisconsin": 869630,
         "Wyoming": 75775,
         "_deepnote_index_column": 19
        },
        {
         "Alabama": 330672,
         "Alaska": 54720,
         "Arizona": 528427,
         "Arkansas": 162889,
         "California": 3138732,
         "Colorado": 614413,
         "Connecticut": 413146,
         "Delaware": 88153,
         "District of Columbia": 158518,
         "Florida": 1629342,
         "Georgia": 835134,
         "Hawaii": 109817,
         "Idaho": 112655,
         "Illinois": 1138258,
         "Indiana": 413487,
         "Iowa": 192232,
         "Kansas": 227118,
         "Kentucky": 303718,
         "Label": "        Graduate or professional degree",
         "Louisiana": 272630,
         "Maine": 120780,
         "Maryland": 748186,
         "Massachusetts": 896117,
         "Michigan": 765400,
         "Minnesota": 467398,
         "Mississippi": 168410,
         "Missouri": 475796,
         "Montana": 76804,
         "Nebraska": 140218,
         "Nevada": 179224,
         "New Hampshire": 137308,
         "New Jersey": 884278,
         "New Mexico": 167460,
         "New York": 2103325,
         "North Carolina": 805600,
         "North Dakota": 42450,
         "Ohio": 855620,
         "Oklahoma": 230691,
         "Oregon": 383032,
         "Pennsylvania": 1104008,
         "Puerto Rico": 182144,
         "Rhode Island": 99962,
         "South Carolina": 390708,
         "South Dakota": 52842,
         "Tennessee": 486351,
         "Texas": 1815934,
         "Utah": 206490,
         "Vermont": 69815,
         "Virginia": 952849,
         "Washington": 659053,
         "West Virginia": 106346,
         "Wisconsin": 412642,
         "Wyoming": 40171,
         "_deepnote_index_column": 20
        },
        {
         "Alabama": 3273931,
         "Alaska": 495991,
         "Arizona": 4618824,
         "Arkansas": 1983543,
         "California": 23204896,
         "Colorado": 3960712,
         "Connecticut": 2406486,
         "Delaware": 664919,
         "District of Columbia": 500108,
         "Florida": 13900670,
         "Georgia": 6756698,
         "Hawaii": 949932,
         "Idaho": 1183640,
         "Illinois": 8295940,
         "Indiana": 4473610,
         "Iowa": 2186538,
         "Kansas": 1952895,
         "Kentucky": 2953776,
         "Label": "        High school degree or higher",
         "Louisiana": 2986654,
         "Maine": 1002324,
         "Maryland": 3978947,
         "Massachusetts": 4680027,
         "Michigan": 6911090,
         "Minnesota": 3898118,
         "Mississippi": 1922429,
         "Missouri": 4220170,
         "Montana": 776738,
         "Nebraska": 1297783,
         "Nevada": 1901640,
         "New Hampshire": 996568,
         "New Jersey": 5687172,
         "New Mexico": 1336449,
         "New York": 12399876,
         "North Carolina": 6965441,
         "North Dakota": 530894,
         "Ohio": 8053868,
         "Oklahoma": 2571769,
         "Oregon": 2925650,
         "Pennsylvania": 8942303,
         "Puerto Rico": 2077051,
         "Rhode Island": 725740,
         "South Carolina": 3464276,
         "South Dakota": 602123,
         "Tennessee": 4567718,
         "Texas": 16770068,
         "Utah": 1996004,
         "Vermont": 465967,
         "Virginia": 5692944,
         "Washington": 5021140,
         "West Virginia": 1239524,
         "Wisconsin": 4106775,
         "Wyoming": 409370,
         "_deepnote_index_column": 21
        },
        {
         "Alabama": 898758,
         "Alaska": 144092,
         "Arizona": 1470377,
         "Arkansas": 487371,
         "California": 8816701,
         "Colorado": 1703335,
         "Connecticut": 978427,
         "Delaware": 222127,
         "District of Columbia": 297314,
         "Florida": 4501599,
         "Georgia": 2260285,
         "Hawaii": 322472,
         "Idaho": 340751,
         "Illinois": 3062538,
         "Indiana": 1226753,
         "Iowa": 632829,
         "Kansas": 658561,
         "Kentucky": 778915,
         "Label": "        Bachelor's degree or higher",
         "Louisiana": 797798,
         "Maine": 334813,
         "Maryland": 1677819,
         "Massachusetts": 2130722,
         "Michigan": 2063720,
         "Minnesota": 1446976,
         "Mississippi": 454673,
         "Missouri": 1289657,
         "Montana": 255025,
         "Nebraska": 434406,
         "Nevada": 520421,
         "New Hampshire": 368812,
         "New Jersey": 2428182,
         "New Mexico": 395555,
         "New York": 5050607,
         "North Carolina": 2308785,
         "North Dakota": 158467,
         "Ohio": 2375488,
         "Oklahoma": 698779,
         "Oregon": 1021971,
         "Pennsylvania": 2943371,
         "Puerto Rico": 653421,
         "Rhode Island": 259704,
         "South Carolina": 1067014,
         "South Dakota": 178477,
         "Tennessee": 1370946,
         "Texas": 5496092,
         "Utah": 657308,
         "Vermont": 176154,
         "Virginia": 2280553,
         "Washington": 1842072,
         "West Virginia": 280478,
         "Wisconsin": 1282272,
         "Wyoming": 115946,
         "_deepnote_index_column": 22
        },
        {
         "Alabama": 3628834,
         "Alaska": 519473,
         "Arizona": 5010979,
         "Arkansas": 2161785,
         "California": 25468156,
         "Colorado": 4144655,
         "Connecticut": 2530404,
         "Delaware": 703505,
         "District of Columbia": 508741,
         "Florida": 15173968,
         "Georgia": 7349746,
         "Hawaii": 985155,
         "Idaho": 1257965,
         "Illinois": 8842663,
         "Indiana": 4816110,
         "Iowa": 2267012,
         "Kansas": 2032470,
         "Kentucky": 3253739,
         "Label": "        Total Citizens, 18 years and older, for whom poverty status is determined",
         "Louisiana": 3353474,
         "Maine": 1049814,
         "Maryland": 4200354,
         "Massachusetts": 4862521,
         "Michigan": 7392512,
         "Minnesota": 4062212,
         "Mississippi": 2162794,
         "Missouri": 4502373,
         "Montana": 812042,
         "Nebraska": 1346037,
         "Nevada": 2082867,
         "New Hampshire": 1034619,
         "New Jersey": 6035012,
         "New Mexico": 1490923,
         "New York": 13418095,
         "North Carolina": 7489514,
         "North Dakota": 547770,
         "Ohio": 8607739,
         "Oklahoma": 2782171,
         "Oregon": 3104064,
         "Pennsylvania": 9459852,
         "Puerto Rico": 2556211,
         "Rhode Island": 765195,
         "South Carolina": 3775094,
         "South Dakota": 629200,
         "Tennessee": 4992881,
         "Texas": 18380838,
         "Utah": 2098305,
         "Vermont": 476653,
         "Virginia": 6009518,
         "Washington": 5303298,
         "West Virginia": 1379381,
         "Wisconsin": 4292455,
         "Wyoming": 423590,
         "_deepnote_index_column": 23
        },
        {
         "Alabama": 490267,
         "Alaska": 45598,
         "Arizona": 547663,
         "Arkansas": 309694,
         "California": 2437713,
         "Colorado": 357383,
         "Connecticut": 216409,
         "Delaware": 67395,
         "District of Columbia": 61968,
         "Florida": 1623687,
         "Georgia": 824169,
         "Hawaii": 78645,
         "Idaho": 128502,
         "Illinois": 877572,
         "Indiana": 512399,
         "Iowa": 235140,
         "Kansas": 204739,
         "Kentucky": 470519,
         "Label": "        Income in the past 12 months below poverty level",
         "Louisiana": 543785,
         "Maine": 106056,
         "Maryland": 325115,
         "Massachusetts": 399818,
         "Michigan": 850871,
         "Minnesota": 324454,
         "Mississippi": 364952,
         "Missouri": 517217,
         "Montana": 96565,
         "Nebraska": 124213,
         "Nevada": 219232,
         "New Hampshire": 73933,
         "New Jersey": 456444,
         "New Mexico": 229809,
         "New York": 1490606,
         "North Carolina": 860308,
         "North Dakota": 55579,
         "Ohio": 971906,
         "Oklahoma": 368255,
         "Oregon": 327002,
         "Pennsylvania": 991364,
         "Puerto Rico": 1035683,
         "Rhode Island": 73876,
         "South Carolina": 454545,
         "South Dakota": 67163,
         "Tennessee": 595441,
         "Texas": 1946292,
         "Utah": 166327,
         "Vermont": 47099,
         "Virginia": 517050,
         "Washington": 465287,
         "West Virginia": 204002,
         "Wisconsin": 398198,
         "Wyoming": 40467,
         "_deepnote_index_column": 24
        },
        {
         "Alabama": 3138567,
         "Alaska": 473875,
         "Arizona": 4463316,
         "Arkansas": 1852091,
         "California": 23030443,
         "Colorado": 3787272,
         "Connecticut": 2313995,
         "Delaware": 636110,
         "District of Columbia": 446773,
         "Florida": 13550281,
         "Georgia": 6525577,
         "Hawaii": 906510,
         "Idaho": 1129463,
         "Illinois": 7965091,
         "Indiana": 4303711,
         "Iowa": 2031872,
         "Kansas": 1827731,
         "Kentucky": 2783220,
         "Label": "        Income in the past 12 months at or above the poverty level",
         "Louisiana": 2809689,
         "Maine": 943758,
         "Maryland": 3875239,
         "Massachusetts": 4462703,
         "Michigan": 6541641,
         "Minnesota": 3737758,
         "Mississippi": 1797842,
         "Missouri": 3985156,
         "Montana": 715477,
         "Nebraska": 1221824,
         "Nevada": 1863635,
         "New Hampshire": 960686,
         "New Jersey": 5578568,
         "New Mexico": 1261114,
         "New York": 11927489,
         "North Carolina": 6629206,
         "North Dakota": 492191,
         "Ohio": 7635833,
         "Oklahoma": 2413916,
         "Oregon": 2777062,
         "Pennsylvania": 8468488,
         "Puerto Rico": 1520528,
         "Rhode Island": 691319,
         "South Carolina": 3320549,
         "South Dakota": 562037,
         "Tennessee": 4397440,
         "Texas": 16434546,
         "Utah": 1931978,
         "Vermont": 429554,
         "Virginia": 5492468,
         "Washington": 4838011,
         "West Virginia": 1175379,
         "Wisconsin": 3894257,
         "Wyoming": 383123,
         "_deepnote_index_column": 25
        },
        {
         "Alabama": 52081,
         "Alaska": 75770,
         "Arizona": 63622,
         "Arkansas": 49182,
         "California": 83915,
         "Colorado": 78721,
         "Connecticut": 80237,
         "Delaware": 70866,
         "District of Columbia": 93535,
         "Florida": 60682,
         "Georgia": 62310,
         "Hawaii": 84755,
         "Idaho": 61489,
         "Illinois": 70270,
         "Indiana": 58224,
         "Iowa": 62173,
         "Kansas": 62781,
         "Kentucky": 52425,
         "Label": "        Median Household Income for Households with a Citizen, Voting-Age Householder",
         "Louisiana": 51370,
         "Maine": 59087,
         "Maryland": 88196,
         "Massachusetts": 87510,
         "Michigan": 59395,
         "Minnesota": 75166,
         "Mississippi": 45823,
         "Missouri": 57553,
         "Montana": 57299,
         "Nebraska": 64426,
         "Nevada": 64790,
         "New Hampshire": 78128,
         "New Jersey": 87340,
         "New Mexico": 52697,
         "New York": 73694,
         "North Carolina": 58019,
         "North Dakota": 65531,
         "Ohio": 58908,
         "Oklahoma": 55141,
         "Oregon": 67429,
         "Pennsylvania": 63798,
         "Puerto Rico": 20499,
         "Rhode Island": 72251,
         "South Carolina": 56514,
         "South Dakota": 60242,
         "Tennessee": 56412,
         "Texas": 66974,
         "Utah": 76807,
         "Vermont": 63097,
         "Virginia": 77322,
         "Washington": 78896,
         "West Virginia": 48982,
         "Wisconsin": 64639,
         "Wyoming": 65052,
         "_deepnote_index_column": 26
        }
       ],
       "rows_top": [
        {
         "Alabama": 3731336,
         "Alaska": 533151,
         "Arizona": 5137474,
         "Arkansas": 2235415,
         "California": 26032160,
         "Colorado": 4244210,
         "Connecticut": 2619474,
         "Delaware": 725178,
         "District of Columbia": 536768,
         "Florida": 15507315,
         "Georgia": 7581837,
         "Hawaii": 1014035,
         "Idaho": 1282630,
         "Illinois": 9088036,
         "Indiana": 4978356,
         "Iowa": 2348787,
         "Kansas": 2103748,
         "Kentucky": 3367502,
         "Label": "Citizens 18 years and over",
         "Louisiana": 3463372,
         "Maine": 1078770,
         "Maryland": 4316921,
         "Massachusetts": 5057192,
         "Michigan": 7562464,
         "Minnesota": 4157556,
         "Mississippi": 2246323,
         "Missouri": 4650318,
         "Montana": 831760,
         "Nebraska": 1388950,
         "Nevada": 2111932,
         "New Hampshire": 1070215,
         "New Jersey": 6170130,
         "New Mexico": 1522171,
         "New York": 13810830,
         "North Carolina": 7729644,
         "North Dakota": 567545,
         "Ohio": 8879469,
         "Oklahoma": 2875059,
         "Oregon": 3162204,
         "Pennsylvania": 9810201,
         "Puerto Rico": 2579596,
         "Rhode Island": 800798,
         "South Carolina": 3892341,
         "South Dakota": 653394,
         "Tennessee": 5129580,
         "Texas": 18875542,
         "Utah": 2134249,
         "Vermont": 498705,
         "Virginia": 6226623,
         "Washington": 5409035,
         "West Virginia": 1420289,
         "Wisconsin": 4412888,
         "Wyoming": 434852,
         "_deepnote_index_column": 0
        },
        {
         "Alabama": 763649,
         "Alaska": 123692,
         "Arizona": 1118272,
         "Arkansas": 462574,
         "California": 5972852,
         "Colorado": 930674,
         "Connecticut": 519013,
         "Delaware": 138340,
         "District of Columbia": 145373,
         "Florida": 2842961,
         "Georgia": 1671898,
         "Hawaii": 200251,
         "Idaho": 272468,
         "Illinois": 1903070,
         "Indiana": 1066726,
         "Iowa": 490255,
         "Kansas": 459852,
         "Kentucky": 694518,
         "Label": "        18 to 29 years",
         "Louisiana": 725942,
         "Maine": 184073,
         "Maryland": 855268,
         "Massachusetts": 1064328,
         "Michigan": 1565440,
         "Minnesota": 825684,
         "Mississippi": 479850,
         "Missouri": 947001,
         "Montana": 164858,
         "Nebraska": 298888,
         "Nevada": 431639,
         "New Hampshire": 203672,
         "New Jersey": 1178577,
         "New Mexico": 319475,
         "New York": 2905856,
         "North Carolina": 1625824,
         "North Dakota": 138826,
         "Ohio": 1786146,
         "Oklahoma": 626445,
         "Oregon": 622701,
         "Pennsylvania": 1911117,
         "Puerto Rico": 516634,
         "Rhode Island": 170897,
         "South Carolina": 780150,
         "South Dakota": 134495,
         "Tennessee": 1064681,
         "Texas": 4434869,
         "Utah": 577652,
         "Vermont": 101619,
         "Virginia": 1300940,
         "Washington": 1119528,
         "West Virginia": 260574,
         "Wisconsin": 880737,
         "Wyoming": 90057,
         "_deepnote_index_column": 1
        },
        {
         "Alabama": 875096,
         "Alaska": 144125,
         "Arizona": 1186802,
         "Arkansas": 527303,
         "California": 6498394,
         "Colorado": 1139013,
         "Connecticut": 558494,
         "Delaware": 153789,
         "District of Columbia": 173776,
         "Florida": 3349562,
         "Georgia": 1874492,
         "Hawaii": 247897,
         "Idaho": 319440,
         "Illinois": 2194821,
         "Indiana": 1172787,
         "Iowa": 549754,
         "Kansas": 502202,
         "Kentucky": 785460,
         "Label": "        30 to 44 years",
         "Louisiana": 878183,
         "Maine": 228950,
         "Maryland": 1032027,
         "Massachusetts": 1144772,
         "Michigan": 1672945,
         "Minnesota": 1031607,
         "Mississippi": 544491,
         "Missouri": 1114992,
         "Montana": 194179,
         "Nebraska": 340309,
         "Nevada": 523962,
         "New Hampshire": 229662,
         "New Jersey": 1378193,
         "New Mexico": 361292,
         "New York": 3224211,
         "North Carolina": 1784807,
         "North Dakota": 142031,
         "Ohio": 2053574,
         "Oklahoma": 711620,
         "Oregon": 795817,
         "Pennsylvania": 2221630,
         "Puerto Rico": 563268,
         "Rhode Island": 174988,
         "South Carolina": 893137,
         "South Dakota": 156508,
         "Tennessee": 1213196,
         "Texas": 4965420,
         "Utah": 612709,
         "Vermont": 103070,
         "Virginia": 1512208,
         "Washington": 1373286,
         "West Virginia": 313826,
         "Wisconsin": 1018138,
         "Wyoming": 106773,
         "_deepnote_index_column": 2
        },
        {
         "Alabama": 1243536,
         "Alaska": 176561,
         "Arizona": 1573498,
         "Arkansas": 725261,
         "California": 8179712,
         "Colorado": 1344239,
         "Connecticut": 932851,
         "Delaware": 246241,
         "District of Columbia": 134136,
         "Florida": 5034612,
         "Georgia": 2542704,
         "Hawaii": 313964,
         "Idaho": 405790,
         "Illinois": 3021815,
         "Indiana": 1662916,
         "Iowa": 758963,
         "Kansas": 671285,
         "Kentucky": 1137899,
         "Label": "        45 to 64 years",
         "Louisiana": 1123706,
         "Maine": 382787,
         "Maryland": 1504483,
         "Massachusetts": 1718530,
         "Michigan": 2581484,
         "Minnesota": 1386604,
         "Mississippi": 736921,
         "Missouri": 1537684,
         "Montana": 266138,
         "Nebraska": 439917,
         "Nevada": 683068,
         "New Hampshire": 387483,
         "New Jersey": 2203134,
         "New Mexico": 473593,
         "New York": 4554178,
         "North Carolina": 2596312,
         "North Dakota": 167109,
         "Ohio": 3010829,
         "Oklahoma": 910287,
         "Oregon": 989048,
         "Pennsylvania": 3318012,
         "Puerto Rico": 825956,
         "Rhode Island": 272691,
         "South Carolina": 1292332,
         "South Dakota": 208953,
         "Tennessee": 1722862,
         "Texas": 5961275,
         "Utah": 585098,
         "Vermont": 169970,
         "Virginia": 2088765,
         "Washington": 1744732,
         "West Virginia": 479807,
         "Wisconsin": 1503592,
         "Wyoming": 139611,
         "_deepnote_index_column": 3
        },
        {
         "Alabama": 849055,
         "Alaska": 88773,
         "Arizona": 1258902,
         "Arkansas": 520277,
         "California": 5381202,
         "Colorado": 830284,
         "Connecticut": 609116,
         "Delaware": 186808,
         "District of Columbia": 83483,
         "Florida": 4280180,
         "Georgia": 1492743,
         "Hawaii": 251923,
         "Idaho": 284932,
         "Illinois": 1968330,
         "Indiana": 1075927,
         "Iowa": 549815,
         "Kansas": 470409,
         "Kentucky": 749625,
         "Label": "        65 years and over",
         "Louisiana": 735541,
         "Maine": 282960,
         "Maryland": 925143,
         "Massachusetts": 1129562,
         "Michigan": 1742595,
         "Minnesota": 913661,
         "Mississippi": 485061,
         "Missouri": 1050641,
         "Montana": 206585,
         "Nebraska": 309836,
         "Nevada": 473263,
         "New Hampshire": 249398,
         "New Jersey": 1410226,
         "New Mexico": 367811,
         "New York": 3126585,
         "North Carolina": 1722701,
         "North Dakota": 119579,
         "Ohio": 2028920,
         "Oklahoma": 626707,
         "Oregon": 754638,
         "Pennsylvania": 2359442,
         "Puerto Rico": 673738,
         "Rhode Island": 182222,
         "South Carolina": 926722,
         "South Dakota": 153438,
         "Tennessee": 1128841,
         "Texas": 3513978,
         "Utah": 358790,
         "Vermont": 124046,
         "Virginia": 1324710,
         "Washington": 1171489,
         "West Virginia": 366082,
         "Wisconsin": 1010421,
         "Wyoming": 98411,
         "_deepnote_index_column": 4
        },
        {
         "Alabama": 1768386,
         "Alaska": 278479,
         "Arizona": 2533931,
         "Arkansas": 1075762,
         "California": 12786049,
         "Colorado": 2128648,
         "Connecticut": 1253707,
         "Delaware": 344221,
         "District of Columbia": 249106,
         "Florida": 7459575,
         "Georgia": 3596624,
         "Hawaii": 512571,
         "Idaho": 636414,
         "Illinois": 4390707,
         "Indiana": 2411501,
         "Iowa": 1154307,
         "Kansas": 1035098,
         "Kentucky": 1631725,
         "Label": "        Male",
         "Louisiana": 1655152,
         "Maine": 522044,
         "Maryland": 2050021,
         "Massachusetts": 2407924,
         "Michigan": 3676586,
         "Minnesota": 2045864,
         "Mississippi": 1067205,
         "Missouri": 2248899,
         "Montana": 415318,
         "Nebraska": 683539,
         "Nevada": 1055523,
         "New Hampshire": 525283,
         "New Jersey": 2960049,
         "New Mexico": 743883,
         "New York": 6590849,
         "North Carolina": 3681272,
         "North Dakota": 289374,
         "Ohio": 4288268,
         "Oklahoma": 1404052,
         "Oregon": 1545421,
         "Pennsylvania": 4743600,
         "Puerto Rico": 1206627,
         "Rhode Island": 382238,
         "South Carolina": 1847097,
         "South Dakota": 327804,
         "Tennessee": 2456302,
         "Texas": 9232534,
         "Utah": 1065672,
         "Vermont": 244340,
         "Virginia": 3030164,
         "Washington": 2684022,
         "West Virginia": 696420,
         "Wisconsin": 2172383,
         "Wyoming": 220281,
         "_deepnote_index_column": 5
        },
        {
         "Alabama": 1962950,
         "Alaska": 254672,
         "Arizona": 2603543,
         "Arkansas": 1159653,
         "California": 13246111,
         "Colorado": 2115562,
         "Connecticut": 1365767,
         "Delaware": 380957,
         "District of Columbia": 287662,
         "Florida": 8047740,
         "Georgia": 3985213,
         "Hawaii": 501464,
         "Idaho": 646216,
         "Illinois": 4697329,
         "Indiana": 2566855,
         "Iowa": 1194480,
         "Kansas": 1068650,
         "Kentucky": 1735777,
         "Label": "        Female",
         "Louisiana": 1808220,
         "Maine": 556726,
         "Maryland": 2266900,
         "Massachusetts": 2649268,
         "Michigan": 3885878,
         "Minnesota": 2111692,
         "Mississippi": 1179118,
         "Missouri": 2401419,
         "Montana": 416442,
         "Nebraska": 705411,
         "Nevada": 1056409,
         "New Hampshire": 544932,
         "New Jersey": 3210081,
         "New Mexico": 778288,
         "New York": 7219981,
         "North Carolina": 4048372,
         "North Dakota": 278171,
         "Ohio": 4591201,
         "Oklahoma": 1471007,
         "Oregon": 1616783,
         "Pennsylvania": 5066601,
         "Puerto Rico": 1372969,
         "Rhode Island": 418560,
         "South Carolina": 2045244,
         "South Dakota": 325590,
         "Tennessee": 2673278,
         "Texas": 9643008,
         "Utah": 1068577,
         "Vermont": 254365,
         "Virginia": 3196459,
         "Washington": 2725013,
         "West Virginia": 723869,
         "Wisconsin": 2240505,
         "Wyoming": 214571,
         "_deepnote_index_column": 6
        },
        {
         "Alabama": 2609612,
         "Alaska": 365703,
         "Arizona": 4166945,
         "Arkansas": 1782057,
         "California": 16517379,
         "Colorado": 3679680,
         "Connecticut": 2084522,
         "Delaware": 525325,
         "District of Columbia": 244643,
         "Florida": 12068096,
         "Georgia": 4614610,
         "Hawaii": 279227,
         "Idaho": 1179206,
         "Illinois": 6815463,
         "Indiana": 4293251,
         "Iowa": 2181523,
         "Kansas": 1830552,
         "Kentucky": 3004987,
         "Label": "        White alone",
         "Louisiana": 2217274,
         "Maine": 1031737,
         "Maryland": 2551302,
         "Massachusetts": 4179483,
         "Michigan": 6132502,
         "Minnesota": 3619184,
         "Mississippi": 1354587,
         "Missouri": 3931970,
         "Montana": 751393,
         "Nebraska": 1247723,
         "Nevada": 1472166,
         "New Hampshire": 1015920,
         "New Jersey": 4452328,
         "New Mexico": 1154001,
         "New York": 9463280,
         "North Carolina": 5532516,
         "North Dakota": 507891,
         "Ohio": 7451074,
         "Oklahoma": 2175841,
         "Oregon": 2756993,
         "Pennsylvania": 8172337,
         "Puerto Rico": 1683468,
         "Rhode Island": 672350,
         "South Carolina": 2713298,
         "South Dakota": 575570,
         "Tennessee": 4094840,
         "Texas": 14273222,
         "Utah": 1937546,
         "Vermont": 476833,
         "Virginia": 4396643,
         "Washington": 4356305,
         "West Virginia": 1337522,
         "Wisconsin": 3914318,
         "Wyoming": 404270,
         "_deepnote_index_column": 7
        },
        {
         "Alabama": 996812,
         "Alaska": 17746,
         "Arizona": 240721,
         "Arkansas": 345456,
         "California": 1744654,
         "Colorado": 169652,
         "Connecticut": 276252,
         "Delaware": 157024,
         "District of Columbia": 243233,
         "Florida": 2330705,
         "Georgia": 2493514,
         "Hawaii": 21419,
         "Idaho": 6553,
         "Illinois": 1335520,
         "Indiana": 449253,
         "Iowa": 75310,
         "Kansas": 119277,
         "Kentucky": 263543,
         "Label": "        Black or African American alone",
         "Louisiana": 1104855,
         "Maine": 9600,
         "Maryland": 1332694,
         "Massachusetts": 348589,
         "Michigan": 1020180,
         "Minnesota": 205733,
         "Mississippi": 834483,
         "Missouri": 507299,
         "Montana": 0,
         "Nebraska": 57141,
         "Nevada": 209465,
         "New Hampshire": 13302,
         "New Jersey": 856874,
         "New Mexico": 34879,
         "New York": 2152967,
         "North Carolina": 1692009,
         "North Dakota": 11452,
         "Ohio": 1052562,
         "Oklahoma": 207763,
         "Oregon": 56026,
         "Pennsylvania": 1038791,
         "Puerto Rico": 319052,
         "Rhode Island": 49321,
         "South Carolina": 1032337,
         "South Dakota": 9704,
         "Tennessee": 850333,
         "Texas": 2524172,
         "Utah": 20064,
         "Vermont": 5062,
         "Virginia": 1238107,
         "Washington": 196882,
         "West Virginia": 52815,
         "Wisconsin": 258513,
         "Wyoming": 0,
         "_deepnote_index_column": 8
        }
       ]
      },
      "text/html": [
       "<div>\n",
       "<style scoped>\n",
       "    .dataframe tbody tr th:only-of-type {\n",
       "        vertical-align: middle;\n",
       "    }\n",
       "\n",
       "    .dataframe tbody tr th {\n",
       "        vertical-align: top;\n",
       "    }\n",
       "\n",
       "    .dataframe thead th {\n",
       "        text-align: right;\n",
       "    }\n",
       "</style>\n",
       "<table border=\"1\" class=\"dataframe\">\n",
       "  <thead>\n",
       "    <tr style=\"text-align: right;\">\n",
       "      <th></th>\n",
       "      <th>Label</th>\n",
       "      <th>Alabama</th>\n",
       "      <th>Alaska</th>\n",
       "      <th>Arizona</th>\n",
       "      <th>Arkansas</th>\n",
       "      <th>California</th>\n",
       "      <th>Colorado</th>\n",
       "      <th>Connecticut</th>\n",
       "      <th>Delaware</th>\n",
       "      <th>District of Columbia</th>\n",
       "      <th>...</th>\n",
       "      <th>Tennessee</th>\n",
       "      <th>Texas</th>\n",
       "      <th>Utah</th>\n",
       "      <th>Vermont</th>\n",
       "      <th>Virginia</th>\n",
       "      <th>Washington</th>\n",
       "      <th>West Virginia</th>\n",
       "      <th>Wisconsin</th>\n",
       "      <th>Wyoming</th>\n",
       "      <th>Puerto Rico</th>\n",
       "    </tr>\n",
       "  </thead>\n",
       "  <tbody>\n",
       "    <tr>\n",
       "      <th>0</th>\n",
       "      <td>Citizens 18 years and over</td>\n",
       "      <td>3731336.0</td>\n",
       "      <td>533151.0</td>\n",
       "      <td>5137474.0</td>\n",
       "      <td>2235415.0</td>\n",
       "      <td>26032160.0</td>\n",
       "      <td>4244210.0</td>\n",
       "      <td>2619474.0</td>\n",
       "      <td>725178.0</td>\n",
       "      <td>536768.0</td>\n",
       "      <td>...</td>\n",
       "      <td>5129580.0</td>\n",
       "      <td>18875542.0</td>\n",
       "      <td>2134249.0</td>\n",
       "      <td>498705.0</td>\n",
       "      <td>6226623.0</td>\n",
       "      <td>5409035.0</td>\n",
       "      <td>1420289.0</td>\n",
       "      <td>4412888.0</td>\n",
       "      <td>434852.0</td>\n",
       "      <td>2579596.0</td>\n",
       "    </tr>\n",
       "    <tr>\n",
       "      <th>1</th>\n",
       "      <td>18 to 29 years</td>\n",
       "      <td>763649.0</td>\n",
       "      <td>123692.0</td>\n",
       "      <td>1118272.0</td>\n",
       "      <td>462574.0</td>\n",
       "      <td>5972852.0</td>\n",
       "      <td>930674.0</td>\n",
       "      <td>519013.0</td>\n",
       "      <td>138340.0</td>\n",
       "      <td>145373.0</td>\n",
       "      <td>...</td>\n",
       "      <td>1064681.0</td>\n",
       "      <td>4434869.0</td>\n",
       "      <td>577652.0</td>\n",
       "      <td>101619.0</td>\n",
       "      <td>1300940.0</td>\n",
       "      <td>1119528.0</td>\n",
       "      <td>260574.0</td>\n",
       "      <td>880737.0</td>\n",
       "      <td>90057.0</td>\n",
       "      <td>516634.0</td>\n",
       "    </tr>\n",
       "    <tr>\n",
       "      <th>2</th>\n",
       "      <td>30 to 44 years</td>\n",
       "      <td>875096.0</td>\n",
       "      <td>144125.0</td>\n",
       "      <td>1186802.0</td>\n",
       "      <td>527303.0</td>\n",
       "      <td>6498394.0</td>\n",
       "      <td>1139013.0</td>\n",
       "      <td>558494.0</td>\n",
       "      <td>153789.0</td>\n",
       "      <td>173776.0</td>\n",
       "      <td>...</td>\n",
       "      <td>1213196.0</td>\n",
       "      <td>4965420.0</td>\n",
       "      <td>612709.0</td>\n",
       "      <td>103070.0</td>\n",
       "      <td>1512208.0</td>\n",
       "      <td>1373286.0</td>\n",
       "      <td>313826.0</td>\n",
       "      <td>1018138.0</td>\n",
       "      <td>106773.0</td>\n",
       "      <td>563268.0</td>\n",
       "    </tr>\n",
       "    <tr>\n",
       "      <th>3</th>\n",
       "      <td>45 to 64 years</td>\n",
       "      <td>1243536.0</td>\n",
       "      <td>176561.0</td>\n",
       "      <td>1573498.0</td>\n",
       "      <td>725261.0</td>\n",
       "      <td>8179712.0</td>\n",
       "      <td>1344239.0</td>\n",
       "      <td>932851.0</td>\n",
       "      <td>246241.0</td>\n",
       "      <td>134136.0</td>\n",
       "      <td>...</td>\n",
       "      <td>1722862.0</td>\n",
       "      <td>5961275.0</td>\n",
       "      <td>585098.0</td>\n",
       "      <td>169970.0</td>\n",
       "      <td>2088765.0</td>\n",
       "      <td>1744732.0</td>\n",
       "      <td>479807.0</td>\n",
       "      <td>1503592.0</td>\n",
       "      <td>139611.0</td>\n",
       "      <td>825956.0</td>\n",
       "    </tr>\n",
       "    <tr>\n",
       "      <th>4</th>\n",
       "      <td>65 years and over</td>\n",
       "      <td>849055.0</td>\n",
       "      <td>88773.0</td>\n",
       "      <td>1258902.0</td>\n",
       "      <td>520277.0</td>\n",
       "      <td>5381202.0</td>\n",
       "      <td>830284.0</td>\n",
       "      <td>609116.0</td>\n",
       "      <td>186808.0</td>\n",
       "      <td>83483.0</td>\n",
       "      <td>...</td>\n",
       "      <td>1128841.0</td>\n",
       "      <td>3513978.0</td>\n",
       "      <td>358790.0</td>\n",
       "      <td>124046.0</td>\n",
       "      <td>1324710.0</td>\n",
       "      <td>1171489.0</td>\n",
       "      <td>366082.0</td>\n",
       "      <td>1010421.0</td>\n",
       "      <td>98411.0</td>\n",
       "      <td>673738.0</td>\n",
       "    </tr>\n",
       "    <tr>\n",
       "      <th>5</th>\n",
       "      <td>Male</td>\n",
       "      <td>1768386.0</td>\n",
       "      <td>278479.0</td>\n",
       "      <td>2533931.0</td>\n",
       "      <td>1075762.0</td>\n",
       "      <td>12786049.0</td>\n",
       "      <td>2128648.0</td>\n",
       "      <td>1253707.0</td>\n",
       "      <td>344221.0</td>\n",
       "      <td>249106.0</td>\n",
       "      <td>...</td>\n",
       "      <td>2456302.0</td>\n",
       "      <td>9232534.0</td>\n",
       "      <td>1065672.0</td>\n",
       "      <td>244340.0</td>\n",
       "      <td>3030164.0</td>\n",
       "      <td>2684022.0</td>\n",
       "      <td>696420.0</td>\n",
       "      <td>2172383.0</td>\n",
       "      <td>220281.0</td>\n",
       "      <td>1206627.0</td>\n",
       "    </tr>\n",
       "    <tr>\n",
       "      <th>6</th>\n",
       "      <td>Female</td>\n",
       "      <td>1962950.0</td>\n",
       "      <td>254672.0</td>\n",
       "      <td>2603543.0</td>\n",
       "      <td>1159653.0</td>\n",
       "      <td>13246111.0</td>\n",
       "      <td>2115562.0</td>\n",
       "      <td>1365767.0</td>\n",
       "      <td>380957.0</td>\n",
       "      <td>287662.0</td>\n",
       "      <td>...</td>\n",
       "      <td>2673278.0</td>\n",
       "      <td>9643008.0</td>\n",
       "      <td>1068577.0</td>\n",
       "      <td>254365.0</td>\n",
       "      <td>3196459.0</td>\n",
       "      <td>2725013.0</td>\n",
       "      <td>723869.0</td>\n",
       "      <td>2240505.0</td>\n",
       "      <td>214571.0</td>\n",
       "      <td>1372969.0</td>\n",
       "    </tr>\n",
       "    <tr>\n",
       "      <th>7</th>\n",
       "      <td>White alone</td>\n",
       "      <td>2609612.0</td>\n",
       "      <td>365703.0</td>\n",
       "      <td>4166945.0</td>\n",
       "      <td>1782057.0</td>\n",
       "      <td>16517379.0</td>\n",
       "      <td>3679680.0</td>\n",
       "      <td>2084522.0</td>\n",
       "      <td>525325.0</td>\n",
       "      <td>244643.0</td>\n",
       "      <td>...</td>\n",
       "      <td>4094840.0</td>\n",
       "      <td>14273222.0</td>\n",
       "      <td>1937546.0</td>\n",
       "      <td>476833.0</td>\n",
       "      <td>4396643.0</td>\n",
       "      <td>4356305.0</td>\n",
       "      <td>1337522.0</td>\n",
       "      <td>3914318.0</td>\n",
       "      <td>404270.0</td>\n",
       "      <td>1683468.0</td>\n",
       "    </tr>\n",
       "    <tr>\n",
       "      <th>8</th>\n",
       "      <td>Black or African American alone</td>\n",
       "      <td>996812.0</td>\n",
       "      <td>17746.0</td>\n",
       "      <td>240721.0</td>\n",
       "      <td>345456.0</td>\n",
       "      <td>1744654.0</td>\n",
       "      <td>169652.0</td>\n",
       "      <td>276252.0</td>\n",
       "      <td>157024.0</td>\n",
       "      <td>243233.0</td>\n",
       "      <td>...</td>\n",
       "      <td>850333.0</td>\n",
       "      <td>2524172.0</td>\n",
       "      <td>20064.0</td>\n",
       "      <td>5062.0</td>\n",
       "      <td>1238107.0</td>\n",
       "      <td>196882.0</td>\n",
       "      <td>52815.0</td>\n",
       "      <td>258513.0</td>\n",
       "      <td>0.0</td>\n",
       "      <td>319052.0</td>\n",
       "    </tr>\n",
       "    <tr>\n",
       "      <th>9</th>\n",
       "      <td>Asian alone</td>\n",
       "      <td>34017.0</td>\n",
       "      <td>26683.0</td>\n",
       "      <td>127073.0</td>\n",
       "      <td>24055.0</td>\n",
       "      <td>3714094.0</td>\n",
       "      <td>109532.0</td>\n",
       "      <td>86316.0</td>\n",
       "      <td>18037.0</td>\n",
       "      <td>20690.0</td>\n",
       "      <td>...</td>\n",
       "      <td>64607.0</td>\n",
       "      <td>739788.0</td>\n",
       "      <td>40075.0</td>\n",
       "      <td>4956.0</td>\n",
       "      <td>326275.0</td>\n",
       "      <td>372706.0</td>\n",
       "      <td>7883.0</td>\n",
       "      <td>82163.0</td>\n",
       "      <td>0.0</td>\n",
       "      <td>3130.0</td>\n",
       "    </tr>\n",
       "    <tr>\n",
       "      <th>10</th>\n",
       "      <td>Some Other Race alone</td>\n",
       "      <td>23467.0</td>\n",
       "      <td>8042.0</td>\n",
       "      <td>213705.0</td>\n",
       "      <td>26066.0</td>\n",
       "      <td>2657633.0</td>\n",
       "      <td>109338.0</td>\n",
       "      <td>102293.0</td>\n",
       "      <td>7816.0</td>\n",
       "      <td>11852.0</td>\n",
       "      <td>...</td>\n",
       "      <td>27620.0</td>\n",
       "      <td>791877.0</td>\n",
       "      <td>44219.0</td>\n",
       "      <td>0.0</td>\n",
       "      <td>83647.0</td>\n",
       "      <td>135003.0</td>\n",
       "      <td>3480.0</td>\n",
       "      <td>54975.0</td>\n",
       "      <td>5738.0</td>\n",
       "      <td>394015.0</td>\n",
       "    </tr>\n",
       "    <tr>\n",
       "      <th>11</th>\n",
       "      <td>Two or More Races</td>\n",
       "      <td>49526.0</td>\n",
       "      <td>30744.0</td>\n",
       "      <td>146606.0</td>\n",
       "      <td>41170.0</td>\n",
       "      <td>1071116.0</td>\n",
       "      <td>126536.0</td>\n",
       "      <td>63682.0</td>\n",
       "      <td>13317.0</td>\n",
       "      <td>14616.0</td>\n",
       "      <td>...</td>\n",
       "      <td>74875.0</td>\n",
       "      <td>424430.0</td>\n",
       "      <td>49367.0</td>\n",
       "      <td>0.0</td>\n",
       "      <td>160036.0</td>\n",
       "      <td>245054.0</td>\n",
       "      <td>15271.0</td>\n",
       "      <td>61340.0</td>\n",
       "      <td>0.0</td>\n",
       "      <td>177395.0</td>\n",
       "    </tr>\n",
       "    <tr>\n",
       "      <th>12</th>\n",
       "      <td>Hispanic or Latino</td>\n",
       "      <td>80762.0</td>\n",
       "      <td>31764.0</td>\n",
       "      <td>1231576.0</td>\n",
       "      <td>86066.0</td>\n",
       "      <td>8052745.0</td>\n",
       "      <td>701813.0</td>\n",
       "      <td>329594.0</td>\n",
       "      <td>42220.0</td>\n",
       "      <td>41218.0</td>\n",
       "      <td>...</td>\n",
       "      <td>128372.0</td>\n",
       "      <td>5837138.0</td>\n",
       "      <td>205178.0</td>\n",
       "      <td>8000.0</td>\n",
       "      <td>358027.0</td>\n",
       "      <td>422059.0</td>\n",
       "      <td>14900.0</td>\n",
       "      <td>191155.0</td>\n",
       "      <td>33380.0</td>\n",
       "      <td>2535771.0</td>\n",
       "    </tr>\n",
       "    <tr>\n",
       "      <th>13</th>\n",
       "      <td>White alone, Not Hispanic or Latino</td>\n",
       "      <td>2556191.0</td>\n",
       "      <td>345404.0</td>\n",
       "      <td>3235378.0</td>\n",
       "      <td>1727484.0</td>\n",
       "      <td>11659989.0</td>\n",
       "      <td>3149154.0</td>\n",
       "      <td>1897088.0</td>\n",
       "      <td>495549.0</td>\n",
       "      <td>221801.0</td>\n",
       "      <td>...</td>\n",
       "      <td>4001008.0</td>\n",
       "      <td>9457742.0</td>\n",
       "      <td>1791543.0</td>\n",
       "      <td>471236.0</td>\n",
       "      <td>4166730.0</td>\n",
       "      <td>4116877.0</td>\n",
       "      <td>1326824.0</td>\n",
       "      <td>3792071.0</td>\n",
       "      <td>379616.0</td>\n",
       "      <td>32866.0</td>\n",
       "    </tr>\n",
       "    <tr>\n",
       "      <th>14</th>\n",
       "      <td>Less than 9th grade</td>\n",
       "      <td>114239.0</td>\n",
       "      <td>9142.0</td>\n",
       "      <td>155754.0</td>\n",
       "      <td>75086.0</td>\n",
       "      <td>1190847.0</td>\n",
       "      <td>84166.0</td>\n",
       "      <td>70215.0</td>\n",
       "      <td>14176.0</td>\n",
       "      <td>12142.0</td>\n",
       "      <td>...</td>\n",
       "      <td>167764.0</td>\n",
       "      <td>741957.0</td>\n",
       "      <td>31069.0</td>\n",
       "      <td>8276.0</td>\n",
       "      <td>152099.0</td>\n",
       "      <td>104703.0</td>\n",
       "      <td>55030.0</td>\n",
       "      <td>81894.0</td>\n",
       "      <td>5796.0</td>\n",
       "      <td>319033.0</td>\n",
       "    </tr>\n",
       "    <tr>\n",
       "      <th>15</th>\n",
       "      <td>9th to 12th grade, no diploma</td>\n",
       "      <td>343166.0</td>\n",
       "      <td>28018.0</td>\n",
       "      <td>362896.0</td>\n",
       "      <td>176786.0</td>\n",
       "      <td>1636417.0</td>\n",
       "      <td>199332.0</td>\n",
       "      <td>142773.0</td>\n",
       "      <td>46083.0</td>\n",
       "      <td>24518.0</td>\n",
       "      <td>...</td>\n",
       "      <td>394098.0</td>\n",
       "      <td>1363517.0</td>\n",
       "      <td>107176.0</td>\n",
       "      <td>24462.0</td>\n",
       "      <td>381580.0</td>\n",
       "      <td>283192.0</td>\n",
       "      <td>125735.0</td>\n",
       "      <td>224219.0</td>\n",
       "      <td>19686.0</td>\n",
       "      <td>183512.0</td>\n",
       "    </tr>\n",
       "    <tr>\n",
       "      <th>16</th>\n",
       "      <td>High school graduate (includes equival...</td>\n",
       "      <td>1179671.0</td>\n",
       "      <td>160911.0</td>\n",
       "      <td>1293831.0</td>\n",
       "      <td>783907.0</td>\n",
       "      <td>5708023.0</td>\n",
       "      <td>940499.0</td>\n",
       "      <td>716665.0</td>\n",
       "      <td>225659.0</td>\n",
       "      <td>93821.0</td>\n",
       "      <td>...</td>\n",
       "      <td>1652030.0</td>\n",
       "      <td>5073321.0</td>\n",
       "      <td>521613.0</td>\n",
       "      <td>148152.0</td>\n",
       "      <td>1565174.0</td>\n",
       "      <td>1276192.0</td>\n",
       "      <td>572183.0</td>\n",
       "      <td>1366217.0</td>\n",
       "      <td>132555.0</td>\n",
       "      <td>721499.0</td>\n",
       "    </tr>\n",
       "    <tr>\n",
       "      <th>17</th>\n",
       "      <td>Some college, no degree</td>\n",
       "      <td>875367.0</td>\n",
       "      <td>146027.0</td>\n",
       "      <td>1408079.0</td>\n",
       "      <td>546728.0</td>\n",
       "      <td>6538211.0</td>\n",
       "      <td>970171.0</td>\n",
       "      <td>515552.0</td>\n",
       "      <td>160010.0</td>\n",
       "      <td>92396.0</td>\n",
       "      <td>...</td>\n",
       "      <td>1167118.0</td>\n",
       "      <td>4728702.0</td>\n",
       "      <td>611383.0</td>\n",
       "      <td>100943.0</td>\n",
       "      <td>1357365.0</td>\n",
       "      <td>1348440.0</td>\n",
       "      <td>280843.0</td>\n",
       "      <td>998384.0</td>\n",
       "      <td>112207.0</td>\n",
       "      <td>420365.0</td>\n",
       "    </tr>\n",
       "    <tr>\n",
       "      <th>18</th>\n",
       "      <td>Associate's degree</td>\n",
       "      <td>320135.0</td>\n",
       "      <td>44961.0</td>\n",
       "      <td>446537.0</td>\n",
       "      <td>165537.0</td>\n",
       "      <td>2141961.0</td>\n",
       "      <td>346707.0</td>\n",
       "      <td>195842.0</td>\n",
       "      <td>57123.0</td>\n",
       "      <td>16577.0</td>\n",
       "      <td>...</td>\n",
       "      <td>377624.0</td>\n",
       "      <td>1471953.0</td>\n",
       "      <td>205700.0</td>\n",
       "      <td>40718.0</td>\n",
       "      <td>489852.0</td>\n",
       "      <td>554436.0</td>\n",
       "      <td>106020.0</td>\n",
       "      <td>459902.0</td>\n",
       "      <td>48662.0</td>\n",
       "      <td>281766.0</td>\n",
       "    </tr>\n",
       "    <tr>\n",
       "      <th>19</th>\n",
       "      <td>Bachelor's degree</td>\n",
       "      <td>568086.0</td>\n",
       "      <td>89372.0</td>\n",
       "      <td>941950.0</td>\n",
       "      <td>324482.0</td>\n",
       "      <td>5677969.0</td>\n",
       "      <td>1088922.0</td>\n",
       "      <td>565281.0</td>\n",
       "      <td>133974.0</td>\n",
       "      <td>138796.0</td>\n",
       "      <td>...</td>\n",
       "      <td>884595.0</td>\n",
       "      <td>3680158.0</td>\n",
       "      <td>450818.0</td>\n",
       "      <td>106339.0</td>\n",
       "      <td>1327704.0</td>\n",
       "      <td>1183019.0</td>\n",
       "      <td>174132.0</td>\n",
       "      <td>869630.0</td>\n",
       "      <td>75775.0</td>\n",
       "      <td>471277.0</td>\n",
       "    </tr>\n",
       "    <tr>\n",
       "      <th>20</th>\n",
       "      <td>Graduate or professional degree</td>\n",
       "      <td>330672.0</td>\n",
       "      <td>54720.0</td>\n",
       "      <td>528427.0</td>\n",
       "      <td>162889.0</td>\n",
       "      <td>3138732.0</td>\n",
       "      <td>614413.0</td>\n",
       "      <td>413146.0</td>\n",
       "      <td>88153.0</td>\n",
       "      <td>158518.0</td>\n",
       "      <td>...</td>\n",
       "      <td>486351.0</td>\n",
       "      <td>1815934.0</td>\n",
       "      <td>206490.0</td>\n",
       "      <td>69815.0</td>\n",
       "      <td>952849.0</td>\n",
       "      <td>659053.0</td>\n",
       "      <td>106346.0</td>\n",
       "      <td>412642.0</td>\n",
       "      <td>40171.0</td>\n",
       "      <td>182144.0</td>\n",
       "    </tr>\n",
       "    <tr>\n",
       "      <th>21</th>\n",
       "      <td>High school degree or higher</td>\n",
       "      <td>3273931.0</td>\n",
       "      <td>495991.0</td>\n",
       "      <td>4618824.0</td>\n",
       "      <td>1983543.0</td>\n",
       "      <td>23204896.0</td>\n",
       "      <td>3960712.0</td>\n",
       "      <td>2406486.0</td>\n",
       "      <td>664919.0</td>\n",
       "      <td>500108.0</td>\n",
       "      <td>...</td>\n",
       "      <td>4567718.0</td>\n",
       "      <td>16770068.0</td>\n",
       "      <td>1996004.0</td>\n",
       "      <td>465967.0</td>\n",
       "      <td>5692944.0</td>\n",
       "      <td>5021140.0</td>\n",
       "      <td>1239524.0</td>\n",
       "      <td>4106775.0</td>\n",
       "      <td>409370.0</td>\n",
       "      <td>2077051.0</td>\n",
       "    </tr>\n",
       "    <tr>\n",
       "      <th>22</th>\n",
       "      <td>Bachelor's degree or higher</td>\n",
       "      <td>898758.0</td>\n",
       "      <td>144092.0</td>\n",
       "      <td>1470377.0</td>\n",
       "      <td>487371.0</td>\n",
       "      <td>8816701.0</td>\n",
       "      <td>1703335.0</td>\n",
       "      <td>978427.0</td>\n",
       "      <td>222127.0</td>\n",
       "      <td>297314.0</td>\n",
       "      <td>...</td>\n",
       "      <td>1370946.0</td>\n",
       "      <td>5496092.0</td>\n",
       "      <td>657308.0</td>\n",
       "      <td>176154.0</td>\n",
       "      <td>2280553.0</td>\n",
       "      <td>1842072.0</td>\n",
       "      <td>280478.0</td>\n",
       "      <td>1282272.0</td>\n",
       "      <td>115946.0</td>\n",
       "      <td>653421.0</td>\n",
       "    </tr>\n",
       "    <tr>\n",
       "      <th>23</th>\n",
       "      <td>Total Citizens, 18 years and older, fo...</td>\n",
       "      <td>3628834.0</td>\n",
       "      <td>519473.0</td>\n",
       "      <td>5010979.0</td>\n",
       "      <td>2161785.0</td>\n",
       "      <td>25468156.0</td>\n",
       "      <td>4144655.0</td>\n",
       "      <td>2530404.0</td>\n",
       "      <td>703505.0</td>\n",
       "      <td>508741.0</td>\n",
       "      <td>...</td>\n",
       "      <td>4992881.0</td>\n",
       "      <td>18380838.0</td>\n",
       "      <td>2098305.0</td>\n",
       "      <td>476653.0</td>\n",
       "      <td>6009518.0</td>\n",
       "      <td>5303298.0</td>\n",
       "      <td>1379381.0</td>\n",
       "      <td>4292455.0</td>\n",
       "      <td>423590.0</td>\n",
       "      <td>2556211.0</td>\n",
       "    </tr>\n",
       "    <tr>\n",
       "      <th>24</th>\n",
       "      <td>Income in the past 12 months below pov...</td>\n",
       "      <td>490267.0</td>\n",
       "      <td>45598.0</td>\n",
       "      <td>547663.0</td>\n",
       "      <td>309694.0</td>\n",
       "      <td>2437713.0</td>\n",
       "      <td>357383.0</td>\n",
       "      <td>216409.0</td>\n",
       "      <td>67395.0</td>\n",
       "      <td>61968.0</td>\n",
       "      <td>...</td>\n",
       "      <td>595441.0</td>\n",
       "      <td>1946292.0</td>\n",
       "      <td>166327.0</td>\n",
       "      <td>47099.0</td>\n",
       "      <td>517050.0</td>\n",
       "      <td>465287.0</td>\n",
       "      <td>204002.0</td>\n",
       "      <td>398198.0</td>\n",
       "      <td>40467.0</td>\n",
       "      <td>1035683.0</td>\n",
       "    </tr>\n",
       "    <tr>\n",
       "      <th>25</th>\n",
       "      <td>Income in the past 12 months at or abo...</td>\n",
       "      <td>3138567.0</td>\n",
       "      <td>473875.0</td>\n",
       "      <td>4463316.0</td>\n",
       "      <td>1852091.0</td>\n",
       "      <td>23030443.0</td>\n",
       "      <td>3787272.0</td>\n",
       "      <td>2313995.0</td>\n",
       "      <td>636110.0</td>\n",
       "      <td>446773.0</td>\n",
       "      <td>...</td>\n",
       "      <td>4397440.0</td>\n",
       "      <td>16434546.0</td>\n",
       "      <td>1931978.0</td>\n",
       "      <td>429554.0</td>\n",
       "      <td>5492468.0</td>\n",
       "      <td>4838011.0</td>\n",
       "      <td>1175379.0</td>\n",
       "      <td>3894257.0</td>\n",
       "      <td>383123.0</td>\n",
       "      <td>1520528.0</td>\n",
       "    </tr>\n",
       "    <tr>\n",
       "      <th>26</th>\n",
       "      <td>Median Household Income for Households...</td>\n",
       "      <td>52081.0</td>\n",
       "      <td>75770.0</td>\n",
       "      <td>63622.0</td>\n",
       "      <td>49182.0</td>\n",
       "      <td>83915.0</td>\n",
       "      <td>78721.0</td>\n",
       "      <td>80237.0</td>\n",
       "      <td>70866.0</td>\n",
       "      <td>93535.0</td>\n",
       "      <td>...</td>\n",
       "      <td>56412.0</td>\n",
       "      <td>66974.0</td>\n",
       "      <td>76807.0</td>\n",
       "      <td>63097.0</td>\n",
       "      <td>77322.0</td>\n",
       "      <td>78896.0</td>\n",
       "      <td>48982.0</td>\n",
       "      <td>64639.0</td>\n",
       "      <td>65052.0</td>\n",
       "      <td>20499.0</td>\n",
       "    </tr>\n",
       "  </tbody>\n",
       "</table>\n",
       "<p>27 rows × 53 columns</p>\n",
       "</div>"
      ],
      "text/plain": [
       "                                                Label    Alabama    Alaska  \\\n",
       "0                          Citizens 18 years and over  3731336.0  533151.0   \n",
       "1                                      18 to 29 years   763649.0  123692.0   \n",
       "2                                      30 to 44 years   875096.0  144125.0   \n",
       "3                                      45 to 64 years  1243536.0  176561.0   \n",
       "4                                   65 years and over   849055.0   88773.0   \n",
       "5                                                Male  1768386.0  278479.0   \n",
       "6                                              Female  1962950.0  254672.0   \n",
       "7                                         White alone  2609612.0  365703.0   \n",
       "8                     Black or African American alone   996812.0   17746.0   \n",
       "9                                         Asian alone    34017.0   26683.0   \n",
       "10                              Some Other Race alone    23467.0    8042.0   \n",
       "11                                  Two or More Races    49526.0   30744.0   \n",
       "12                                 Hispanic or Latino    80762.0   31764.0   \n",
       "13                White alone, Not Hispanic or Latino  2556191.0  345404.0   \n",
       "14                                Less than 9th grade   114239.0    9142.0   \n",
       "15                      9th to 12th grade, no diploma   343166.0   28018.0   \n",
       "16          High school graduate (includes equival...  1179671.0  160911.0   \n",
       "17                            Some college, no degree   875367.0  146027.0   \n",
       "18                                 Associate's degree   320135.0   44961.0   \n",
       "19                                  Bachelor's degree   568086.0   89372.0   \n",
       "20                    Graduate or professional degree   330672.0   54720.0   \n",
       "21                       High school degree or higher  3273931.0  495991.0   \n",
       "22                        Bachelor's degree or higher   898758.0  144092.0   \n",
       "23          Total Citizens, 18 years and older, fo...  3628834.0  519473.0   \n",
       "24          Income in the past 12 months below pov...   490267.0   45598.0   \n",
       "25          Income in the past 12 months at or abo...  3138567.0  473875.0   \n",
       "26          Median Household Income for Households...    52081.0   75770.0   \n",
       "\n",
       "      Arizona   Arkansas  California   Colorado  Connecticut  Delaware  \\\n",
       "0   5137474.0  2235415.0  26032160.0  4244210.0    2619474.0  725178.0   \n",
       "1   1118272.0   462574.0   5972852.0   930674.0     519013.0  138340.0   \n",
       "2   1186802.0   527303.0   6498394.0  1139013.0     558494.0  153789.0   \n",
       "3   1573498.0   725261.0   8179712.0  1344239.0     932851.0  246241.0   \n",
       "4   1258902.0   520277.0   5381202.0   830284.0     609116.0  186808.0   \n",
       "5   2533931.0  1075762.0  12786049.0  2128648.0    1253707.0  344221.0   \n",
       "6   2603543.0  1159653.0  13246111.0  2115562.0    1365767.0  380957.0   \n",
       "7   4166945.0  1782057.0  16517379.0  3679680.0    2084522.0  525325.0   \n",
       "8    240721.0   345456.0   1744654.0   169652.0     276252.0  157024.0   \n",
       "9    127073.0    24055.0   3714094.0   109532.0      86316.0   18037.0   \n",
       "10   213705.0    26066.0   2657633.0   109338.0     102293.0    7816.0   \n",
       "11   146606.0    41170.0   1071116.0   126536.0      63682.0   13317.0   \n",
       "12  1231576.0    86066.0   8052745.0   701813.0     329594.0   42220.0   \n",
       "13  3235378.0  1727484.0  11659989.0  3149154.0    1897088.0  495549.0   \n",
       "14   155754.0    75086.0   1190847.0    84166.0      70215.0   14176.0   \n",
       "15   362896.0   176786.0   1636417.0   199332.0     142773.0   46083.0   \n",
       "16  1293831.0   783907.0   5708023.0   940499.0     716665.0  225659.0   \n",
       "17  1408079.0   546728.0   6538211.0   970171.0     515552.0  160010.0   \n",
       "18   446537.0   165537.0   2141961.0   346707.0     195842.0   57123.0   \n",
       "19   941950.0   324482.0   5677969.0  1088922.0     565281.0  133974.0   \n",
       "20   528427.0   162889.0   3138732.0   614413.0     413146.0   88153.0   \n",
       "21  4618824.0  1983543.0  23204896.0  3960712.0    2406486.0  664919.0   \n",
       "22  1470377.0   487371.0   8816701.0  1703335.0     978427.0  222127.0   \n",
       "23  5010979.0  2161785.0  25468156.0  4144655.0    2530404.0  703505.0   \n",
       "24   547663.0   309694.0   2437713.0   357383.0     216409.0   67395.0   \n",
       "25  4463316.0  1852091.0  23030443.0  3787272.0    2313995.0  636110.0   \n",
       "26    63622.0    49182.0     83915.0    78721.0      80237.0   70866.0   \n",
       "\n",
       "    District of Columbia  ...  Tennessee       Texas       Utah   Vermont  \\\n",
       "0               536768.0  ...  5129580.0  18875542.0  2134249.0  498705.0   \n",
       "1               145373.0  ...  1064681.0   4434869.0   577652.0  101619.0   \n",
       "2               173776.0  ...  1213196.0   4965420.0   612709.0  103070.0   \n",
       "3               134136.0  ...  1722862.0   5961275.0   585098.0  169970.0   \n",
       "4                83483.0  ...  1128841.0   3513978.0   358790.0  124046.0   \n",
       "5               249106.0  ...  2456302.0   9232534.0  1065672.0  244340.0   \n",
       "6               287662.0  ...  2673278.0   9643008.0  1068577.0  254365.0   \n",
       "7               244643.0  ...  4094840.0  14273222.0  1937546.0  476833.0   \n",
       "8               243233.0  ...   850333.0   2524172.0    20064.0    5062.0   \n",
       "9                20690.0  ...    64607.0    739788.0    40075.0    4956.0   \n",
       "10               11852.0  ...    27620.0    791877.0    44219.0       0.0   \n",
       "11               14616.0  ...    74875.0    424430.0    49367.0       0.0   \n",
       "12               41218.0  ...   128372.0   5837138.0   205178.0    8000.0   \n",
       "13              221801.0  ...  4001008.0   9457742.0  1791543.0  471236.0   \n",
       "14               12142.0  ...   167764.0    741957.0    31069.0    8276.0   \n",
       "15               24518.0  ...   394098.0   1363517.0   107176.0   24462.0   \n",
       "16               93821.0  ...  1652030.0   5073321.0   521613.0  148152.0   \n",
       "17               92396.0  ...  1167118.0   4728702.0   611383.0  100943.0   \n",
       "18               16577.0  ...   377624.0   1471953.0   205700.0   40718.0   \n",
       "19              138796.0  ...   884595.0   3680158.0   450818.0  106339.0   \n",
       "20              158518.0  ...   486351.0   1815934.0   206490.0   69815.0   \n",
       "21              500108.0  ...  4567718.0  16770068.0  1996004.0  465967.0   \n",
       "22              297314.0  ...  1370946.0   5496092.0   657308.0  176154.0   \n",
       "23              508741.0  ...  4992881.0  18380838.0  2098305.0  476653.0   \n",
       "24               61968.0  ...   595441.0   1946292.0   166327.0   47099.0   \n",
       "25              446773.0  ...  4397440.0  16434546.0  1931978.0  429554.0   \n",
       "26               93535.0  ...    56412.0     66974.0    76807.0   63097.0   \n",
       "\n",
       "     Virginia  Washington  West Virginia  Wisconsin   Wyoming  Puerto Rico  \n",
       "0   6226623.0   5409035.0      1420289.0  4412888.0  434852.0    2579596.0  \n",
       "1   1300940.0   1119528.0       260574.0   880737.0   90057.0     516634.0  \n",
       "2   1512208.0   1373286.0       313826.0  1018138.0  106773.0     563268.0  \n",
       "3   2088765.0   1744732.0       479807.0  1503592.0  139611.0     825956.0  \n",
       "4   1324710.0   1171489.0       366082.0  1010421.0   98411.0     673738.0  \n",
       "5   3030164.0   2684022.0       696420.0  2172383.0  220281.0    1206627.0  \n",
       "6   3196459.0   2725013.0       723869.0  2240505.0  214571.0    1372969.0  \n",
       "7   4396643.0   4356305.0      1337522.0  3914318.0  404270.0    1683468.0  \n",
       "8   1238107.0    196882.0        52815.0   258513.0       0.0     319052.0  \n",
       "9    326275.0    372706.0         7883.0    82163.0       0.0       3130.0  \n",
       "10    83647.0    135003.0         3480.0    54975.0    5738.0     394015.0  \n",
       "11   160036.0    245054.0        15271.0    61340.0       0.0     177395.0  \n",
       "12   358027.0    422059.0        14900.0   191155.0   33380.0    2535771.0  \n",
       "13  4166730.0   4116877.0      1326824.0  3792071.0  379616.0      32866.0  \n",
       "14   152099.0    104703.0        55030.0    81894.0    5796.0     319033.0  \n",
       "15   381580.0    283192.0       125735.0   224219.0   19686.0     183512.0  \n",
       "16  1565174.0   1276192.0       572183.0  1366217.0  132555.0     721499.0  \n",
       "17  1357365.0   1348440.0       280843.0   998384.0  112207.0     420365.0  \n",
       "18   489852.0    554436.0       106020.0   459902.0   48662.0     281766.0  \n",
       "19  1327704.0   1183019.0       174132.0   869630.0   75775.0     471277.0  \n",
       "20   952849.0    659053.0       106346.0   412642.0   40171.0     182144.0  \n",
       "21  5692944.0   5021140.0      1239524.0  4106775.0  409370.0    2077051.0  \n",
       "22  2280553.0   1842072.0       280478.0  1282272.0  115946.0     653421.0  \n",
       "23  6009518.0   5303298.0      1379381.0  4292455.0  423590.0    2556211.0  \n",
       "24   517050.0    465287.0       204002.0   398198.0   40467.0    1035683.0  \n",
       "25  5492468.0   4838011.0      1175379.0  3894257.0  383123.0    1520528.0  \n",
       "26    77322.0     78896.0        48982.0    64639.0   65052.0      20499.0  \n",
       "\n",
       "[27 rows x 53 columns]"
      ]
     },
     "execution_count": 114,
     "metadata": {},
     "output_type": "execute_result"
    }
   ],
   "source": [
    "condensed = pd.DataFrame()\n",
    "condensed[data.columns[0]] = data.iloc[:, 0]\n",
    "for i in np.arange(1, len(data.axes[1]), 4):\n",
    "    col = data.iloc[:, i].astype(str).str.replace('\\D+', '').apply(p2f)\n",
    "    condensed[data.columns[i]] = col\n",
    "condensed = condensed[condensed[\"Alabama!!Total!!Estimate\"] > 0]\n",
    "new_col = condensed.columns.to_list()\n",
    "normal_names = [normify(item) for item in new_col]\n",
    "condensed.columns = normal_names\n",
    "condensed.index = np.arange(27)\n",
    "condensed"
   ]
  },
  {
   "cell_type": "code",
   "execution_count": 115,
   "metadata": {
    "cell_id": "00005-b1c48d3c-c92e-42ca-a119-b87a972b2a8d",
    "execution_millis": 30,
    "execution_start": 1605404580918,
    "output_cleared": false,
    "source_hash": "2cc36d38",
    "tags": []
   },
   "outputs": [
    {
     "data": {
      "application/vnd.deepnote.dataframe.v2+json": {
       "column_count": 2,
       "columns": [
        {
         "dtype": "object",
         "name": "Label",
         "stats": {
          "categories": [
           {
            "count": 1,
            "name": "Alabama"
           },
           {
            "count": 1,
            "name": "Alaska"
           },
           {
            "count": 50,
            "name": "50 others"
           }
          ],
          "nan_count": 0,
          "unique_count": 52
         }
        },
        {
         "dtype": "float64",
         "name": "Voting Population",
         "stats": {
          "histogram": [
           {
            "bin_end": 2994582.8,
            "bin_start": 434852,
            "count": 25
           },
           {
            "bin_end": 5554313.6,
            "bin_start": 2994582.8,
            "count": 15
           },
           {
            "bin_end": 8114044.399999999,
            "bin_start": 5554313.6,
            "count": 5
           },
           {
            "bin_end": 10673775.2,
            "bin_start": 8114044.399999999,
            "count": 3
           },
           {
            "bin_end": 13233506,
            "bin_start": 10673775.2,
            "count": 0
           },
           {
            "bin_end": 15793236.799999999,
            "bin_start": 13233506,
            "count": 2
           },
           {
            "bin_end": 18352967.599999998,
            "bin_start": 15793236.799999999,
            "count": 0
           },
           {
            "bin_end": 20912698.4,
            "bin_start": 18352967.599999998,
            "count": 1
           },
           {
            "bin_end": 23472429.2,
            "bin_start": 20912698.4,
            "count": 0
           },
           {
            "bin_end": 26032160,
            "bin_start": 23472429.2,
            "count": 1
           }
          ],
          "max": 26032160,
          "min": 434852,
          "nan_count": 0,
          "unique_count": 52
         }
        },
        {
         "dtype": "int64",
         "name": "_deepnote_index_column"
        }
       ],
       "row_count": 52,
       "rows_bottom": null,
       "rows_top": [
        {
         "Label": "Alabama",
         "Voting Population": 3731336,
         "_deepnote_index_column": 0
        },
        {
         "Label": "Alaska",
         "Voting Population": 533151,
         "_deepnote_index_column": 1
        },
        {
         "Label": "Arizona",
         "Voting Population": 5137474,
         "_deepnote_index_column": 2
        },
        {
         "Label": "Arkansas",
         "Voting Population": 2235415,
         "_deepnote_index_column": 3
        },
        {
         "Label": "California",
         "Voting Population": 26032160,
         "_deepnote_index_column": 4
        },
        {
         "Label": "Colorado",
         "Voting Population": 4244210,
         "_deepnote_index_column": 5
        },
        {
         "Label": "Connecticut",
         "Voting Population": 2619474,
         "_deepnote_index_column": 6
        },
        {
         "Label": "Delaware",
         "Voting Population": 725178,
         "_deepnote_index_column": 7
        },
        {
         "Label": "District of Columbia",
         "Voting Population": 536768,
         "_deepnote_index_column": 8
        },
        {
         "Label": "Florida",
         "Voting Population": 15507315,
         "_deepnote_index_column": 9
        },
        {
         "Label": "Georgia",
         "Voting Population": 7581837,
         "_deepnote_index_column": 10
        },
        {
         "Label": "Hawaii",
         "Voting Population": 1014035,
         "_deepnote_index_column": 11
        },
        {
         "Label": "Idaho",
         "Voting Population": 1282630,
         "_deepnote_index_column": 12
        },
        {
         "Label": "Illinois",
         "Voting Population": 9088036,
         "_deepnote_index_column": 13
        },
        {
         "Label": "Indiana",
         "Voting Population": 4978356,
         "_deepnote_index_column": 14
        },
        {
         "Label": "Iowa",
         "Voting Population": 2348787,
         "_deepnote_index_column": 15
        },
        {
         "Label": "Kansas",
         "Voting Population": 2103748,
         "_deepnote_index_column": 16
        },
        {
         "Label": "Kentucky",
         "Voting Population": 3367502,
         "_deepnote_index_column": 17
        },
        {
         "Label": "Louisiana",
         "Voting Population": 3463372,
         "_deepnote_index_column": 18
        },
        {
         "Label": "Maine",
         "Voting Population": 1078770,
         "_deepnote_index_column": 19
        },
        {
         "Label": "Maryland",
         "Voting Population": 4316921,
         "_deepnote_index_column": 20
        },
        {
         "Label": "Massachusetts",
         "Voting Population": 5057192,
         "_deepnote_index_column": 21
        },
        {
         "Label": "Michigan",
         "Voting Population": 7562464,
         "_deepnote_index_column": 22
        },
        {
         "Label": "Minnesota",
         "Voting Population": 4157556,
         "_deepnote_index_column": 23
        },
        {
         "Label": "Mississippi",
         "Voting Population": 2246323,
         "_deepnote_index_column": 24
        },
        {
         "Label": "Missouri",
         "Voting Population": 4650318,
         "_deepnote_index_column": 25
        },
        {
         "Label": "Montana",
         "Voting Population": 831760,
         "_deepnote_index_column": 26
        },
        {
         "Label": "Nebraska",
         "Voting Population": 1388950,
         "_deepnote_index_column": 27
        },
        {
         "Label": "Nevada",
         "Voting Population": 2111932,
         "_deepnote_index_column": 28
        },
        {
         "Label": "New Hampshire",
         "Voting Population": 1070215,
         "_deepnote_index_column": 29
        },
        {
         "Label": "New Jersey",
         "Voting Population": 6170130,
         "_deepnote_index_column": 30
        },
        {
         "Label": "New Mexico",
         "Voting Population": 1522171,
         "_deepnote_index_column": 31
        },
        {
         "Label": "New York",
         "Voting Population": 13810830,
         "_deepnote_index_column": 32
        },
        {
         "Label": "North Carolina",
         "Voting Population": 7729644,
         "_deepnote_index_column": 33
        },
        {
         "Label": "North Dakota",
         "Voting Population": 567545,
         "_deepnote_index_column": 34
        },
        {
         "Label": "Ohio",
         "Voting Population": 8879469,
         "_deepnote_index_column": 35
        },
        {
         "Label": "Oklahoma",
         "Voting Population": 2875059,
         "_deepnote_index_column": 36
        },
        {
         "Label": "Oregon",
         "Voting Population": 3162204,
         "_deepnote_index_column": 37
        },
        {
         "Label": "Pennsylvania",
         "Voting Population": 9810201,
         "_deepnote_index_column": 38
        },
        {
         "Label": "Rhode Island",
         "Voting Population": 800798,
         "_deepnote_index_column": 39
        },
        {
         "Label": "South Carolina",
         "Voting Population": 3892341,
         "_deepnote_index_column": 40
        },
        {
         "Label": "South Dakota",
         "Voting Population": 653394,
         "_deepnote_index_column": 41
        },
        {
         "Label": "Tennessee",
         "Voting Population": 5129580,
         "_deepnote_index_column": 42
        },
        {
         "Label": "Texas",
         "Voting Population": 18875542,
         "_deepnote_index_column": 43
        },
        {
         "Label": "Utah",
         "Voting Population": 2134249,
         "_deepnote_index_column": 44
        },
        {
         "Label": "Vermont",
         "Voting Population": 498705,
         "_deepnote_index_column": 45
        },
        {
         "Label": "Virginia",
         "Voting Population": 6226623,
         "_deepnote_index_column": 46
        },
        {
         "Label": "Washington",
         "Voting Population": 5409035,
         "_deepnote_index_column": 47
        },
        {
         "Label": "West Virginia",
         "Voting Population": 1420289,
         "_deepnote_index_column": 48
        },
        {
         "Label": "Wisconsin",
         "Voting Population": 4412888,
         "_deepnote_index_column": 49
        },
        {
         "Label": "Wyoming",
         "Voting Population": 434852,
         "_deepnote_index_column": 50
        },
        {
         "Label": "Puerto Rico",
         "Voting Population": 2579596,
         "_deepnote_index_column": 51
        }
       ]
      },
      "text/html": [
       "<div>\n",
       "<style scoped>\n",
       "    .dataframe tbody tr th:only-of-type {\n",
       "        vertical-align: middle;\n",
       "    }\n",
       "\n",
       "    .dataframe tbody tr th {\n",
       "        vertical-align: top;\n",
       "    }\n",
       "\n",
       "    .dataframe thead th {\n",
       "        text-align: right;\n",
       "    }\n",
       "</style>\n",
       "<table border=\"1\" class=\"dataframe\">\n",
       "  <thead>\n",
       "    <tr style=\"text-align: right;\">\n",
       "      <th></th>\n",
       "      <th>Label</th>\n",
       "      <th>Voting Population</th>\n",
       "    </tr>\n",
       "  </thead>\n",
       "  <tbody>\n",
       "    <tr>\n",
       "      <th>0</th>\n",
       "      <td>Alabama</td>\n",
       "      <td>3731336.0</td>\n",
       "    </tr>\n",
       "    <tr>\n",
       "      <th>1</th>\n",
       "      <td>Alaska</td>\n",
       "      <td>533151.0</td>\n",
       "    </tr>\n",
       "    <tr>\n",
       "      <th>2</th>\n",
       "      <td>Arizona</td>\n",
       "      <td>5137474.0</td>\n",
       "    </tr>\n",
       "    <tr>\n",
       "      <th>3</th>\n",
       "      <td>Arkansas</td>\n",
       "      <td>2235415.0</td>\n",
       "    </tr>\n",
       "    <tr>\n",
       "      <th>4</th>\n",
       "      <td>California</td>\n",
       "      <td>26032160.0</td>\n",
       "    </tr>\n",
       "    <tr>\n",
       "      <th>5</th>\n",
       "      <td>Colorado</td>\n",
       "      <td>4244210.0</td>\n",
       "    </tr>\n",
       "    <tr>\n",
       "      <th>6</th>\n",
       "      <td>Connecticut</td>\n",
       "      <td>2619474.0</td>\n",
       "    </tr>\n",
       "    <tr>\n",
       "      <th>7</th>\n",
       "      <td>Delaware</td>\n",
       "      <td>725178.0</td>\n",
       "    </tr>\n",
       "    <tr>\n",
       "      <th>8</th>\n",
       "      <td>District of Columbia</td>\n",
       "      <td>536768.0</td>\n",
       "    </tr>\n",
       "    <tr>\n",
       "      <th>9</th>\n",
       "      <td>Florida</td>\n",
       "      <td>15507315.0</td>\n",
       "    </tr>\n",
       "    <tr>\n",
       "      <th>10</th>\n",
       "      <td>Georgia</td>\n",
       "      <td>7581837.0</td>\n",
       "    </tr>\n",
       "    <tr>\n",
       "      <th>11</th>\n",
       "      <td>Hawaii</td>\n",
       "      <td>1014035.0</td>\n",
       "    </tr>\n",
       "    <tr>\n",
       "      <th>12</th>\n",
       "      <td>Idaho</td>\n",
       "      <td>1282630.0</td>\n",
       "    </tr>\n",
       "    <tr>\n",
       "      <th>13</th>\n",
       "      <td>Illinois</td>\n",
       "      <td>9088036.0</td>\n",
       "    </tr>\n",
       "    <tr>\n",
       "      <th>14</th>\n",
       "      <td>Indiana</td>\n",
       "      <td>4978356.0</td>\n",
       "    </tr>\n",
       "    <tr>\n",
       "      <th>15</th>\n",
       "      <td>Iowa</td>\n",
       "      <td>2348787.0</td>\n",
       "    </tr>\n",
       "    <tr>\n",
       "      <th>16</th>\n",
       "      <td>Kansas</td>\n",
       "      <td>2103748.0</td>\n",
       "    </tr>\n",
       "    <tr>\n",
       "      <th>17</th>\n",
       "      <td>Kentucky</td>\n",
       "      <td>3367502.0</td>\n",
       "    </tr>\n",
       "    <tr>\n",
       "      <th>18</th>\n",
       "      <td>Louisiana</td>\n",
       "      <td>3463372.0</td>\n",
       "    </tr>\n",
       "    <tr>\n",
       "      <th>19</th>\n",
       "      <td>Maine</td>\n",
       "      <td>1078770.0</td>\n",
       "    </tr>\n",
       "    <tr>\n",
       "      <th>20</th>\n",
       "      <td>Maryland</td>\n",
       "      <td>4316921.0</td>\n",
       "    </tr>\n",
       "    <tr>\n",
       "      <th>21</th>\n",
       "      <td>Massachusetts</td>\n",
       "      <td>5057192.0</td>\n",
       "    </tr>\n",
       "    <tr>\n",
       "      <th>22</th>\n",
       "      <td>Michigan</td>\n",
       "      <td>7562464.0</td>\n",
       "    </tr>\n",
       "    <tr>\n",
       "      <th>23</th>\n",
       "      <td>Minnesota</td>\n",
       "      <td>4157556.0</td>\n",
       "    </tr>\n",
       "    <tr>\n",
       "      <th>24</th>\n",
       "      <td>Mississippi</td>\n",
       "      <td>2246323.0</td>\n",
       "    </tr>\n",
       "    <tr>\n",
       "      <th>25</th>\n",
       "      <td>Missouri</td>\n",
       "      <td>4650318.0</td>\n",
       "    </tr>\n",
       "    <tr>\n",
       "      <th>26</th>\n",
       "      <td>Montana</td>\n",
       "      <td>831760.0</td>\n",
       "    </tr>\n",
       "    <tr>\n",
       "      <th>27</th>\n",
       "      <td>Nebraska</td>\n",
       "      <td>1388950.0</td>\n",
       "    </tr>\n",
       "    <tr>\n",
       "      <th>28</th>\n",
       "      <td>Nevada</td>\n",
       "      <td>2111932.0</td>\n",
       "    </tr>\n",
       "    <tr>\n",
       "      <th>29</th>\n",
       "      <td>New Hampshire</td>\n",
       "      <td>1070215.0</td>\n",
       "    </tr>\n",
       "    <tr>\n",
       "      <th>30</th>\n",
       "      <td>New Jersey</td>\n",
       "      <td>6170130.0</td>\n",
       "    </tr>\n",
       "    <tr>\n",
       "      <th>31</th>\n",
       "      <td>New Mexico</td>\n",
       "      <td>1522171.0</td>\n",
       "    </tr>\n",
       "    <tr>\n",
       "      <th>32</th>\n",
       "      <td>New York</td>\n",
       "      <td>13810830.0</td>\n",
       "    </tr>\n",
       "    <tr>\n",
       "      <th>33</th>\n",
       "      <td>North Carolina</td>\n",
       "      <td>7729644.0</td>\n",
       "    </tr>\n",
       "    <tr>\n",
       "      <th>34</th>\n",
       "      <td>North Dakota</td>\n",
       "      <td>567545.0</td>\n",
       "    </tr>\n",
       "    <tr>\n",
       "      <th>35</th>\n",
       "      <td>Ohio</td>\n",
       "      <td>8879469.0</td>\n",
       "    </tr>\n",
       "    <tr>\n",
       "      <th>36</th>\n",
       "      <td>Oklahoma</td>\n",
       "      <td>2875059.0</td>\n",
       "    </tr>\n",
       "    <tr>\n",
       "      <th>37</th>\n",
       "      <td>Oregon</td>\n",
       "      <td>3162204.0</td>\n",
       "    </tr>\n",
       "    <tr>\n",
       "      <th>38</th>\n",
       "      <td>Pennsylvania</td>\n",
       "      <td>9810201.0</td>\n",
       "    </tr>\n",
       "    <tr>\n",
       "      <th>39</th>\n",
       "      <td>Rhode Island</td>\n",
       "      <td>800798.0</td>\n",
       "    </tr>\n",
       "    <tr>\n",
       "      <th>40</th>\n",
       "      <td>South Carolina</td>\n",
       "      <td>3892341.0</td>\n",
       "    </tr>\n",
       "    <tr>\n",
       "      <th>41</th>\n",
       "      <td>South Dakota</td>\n",
       "      <td>653394.0</td>\n",
       "    </tr>\n",
       "    <tr>\n",
       "      <th>42</th>\n",
       "      <td>Tennessee</td>\n",
       "      <td>5129580.0</td>\n",
       "    </tr>\n",
       "    <tr>\n",
       "      <th>43</th>\n",
       "      <td>Texas</td>\n",
       "      <td>18875542.0</td>\n",
       "    </tr>\n",
       "    <tr>\n",
       "      <th>44</th>\n",
       "      <td>Utah</td>\n",
       "      <td>2134249.0</td>\n",
       "    </tr>\n",
       "    <tr>\n",
       "      <th>45</th>\n",
       "      <td>Vermont</td>\n",
       "      <td>498705.0</td>\n",
       "    </tr>\n",
       "    <tr>\n",
       "      <th>46</th>\n",
       "      <td>Virginia</td>\n",
       "      <td>6226623.0</td>\n",
       "    </tr>\n",
       "    <tr>\n",
       "      <th>47</th>\n",
       "      <td>Washington</td>\n",
       "      <td>5409035.0</td>\n",
       "    </tr>\n",
       "    <tr>\n",
       "      <th>48</th>\n",
       "      <td>West Virginia</td>\n",
       "      <td>1420289.0</td>\n",
       "    </tr>\n",
       "    <tr>\n",
       "      <th>49</th>\n",
       "      <td>Wisconsin</td>\n",
       "      <td>4412888.0</td>\n",
       "    </tr>\n",
       "    <tr>\n",
       "      <th>50</th>\n",
       "      <td>Wyoming</td>\n",
       "      <td>434852.0</td>\n",
       "    </tr>\n",
       "    <tr>\n",
       "      <th>51</th>\n",
       "      <td>Puerto Rico</td>\n",
       "      <td>2579596.0</td>\n",
       "    </tr>\n",
       "  </tbody>\n",
       "</table>\n",
       "</div>"
      ],
      "text/plain": [
       "                   Label  Voting Population\n",
       "0                Alabama          3731336.0\n",
       "1                 Alaska           533151.0\n",
       "2                Arizona          5137474.0\n",
       "3               Arkansas          2235415.0\n",
       "4             California         26032160.0\n",
       "5               Colorado          4244210.0\n",
       "6            Connecticut          2619474.0\n",
       "7               Delaware           725178.0\n",
       "8   District of Columbia           536768.0\n",
       "9                Florida         15507315.0\n",
       "10               Georgia          7581837.0\n",
       "11                Hawaii          1014035.0\n",
       "12                 Idaho          1282630.0\n",
       "13              Illinois          9088036.0\n",
       "14               Indiana          4978356.0\n",
       "15                  Iowa          2348787.0\n",
       "16                Kansas          2103748.0\n",
       "17              Kentucky          3367502.0\n",
       "18             Louisiana          3463372.0\n",
       "19                 Maine          1078770.0\n",
       "20              Maryland          4316921.0\n",
       "21         Massachusetts          5057192.0\n",
       "22              Michigan          7562464.0\n",
       "23             Minnesota          4157556.0\n",
       "24           Mississippi          2246323.0\n",
       "25              Missouri          4650318.0\n",
       "26               Montana           831760.0\n",
       "27              Nebraska          1388950.0\n",
       "28                Nevada          2111932.0\n",
       "29         New Hampshire          1070215.0\n",
       "30            New Jersey          6170130.0\n",
       "31            New Mexico          1522171.0\n",
       "32              New York         13810830.0\n",
       "33        North Carolina          7729644.0\n",
       "34          North Dakota           567545.0\n",
       "35                  Ohio          8879469.0\n",
       "36              Oklahoma          2875059.0\n",
       "37                Oregon          3162204.0\n",
       "38          Pennsylvania          9810201.0\n",
       "39          Rhode Island           800798.0\n",
       "40        South Carolina          3892341.0\n",
       "41          South Dakota           653394.0\n",
       "42             Tennessee          5129580.0\n",
       "43                 Texas         18875542.0\n",
       "44                  Utah          2134249.0\n",
       "45               Vermont           498705.0\n",
       "46              Virginia          6226623.0\n",
       "47            Washington          5409035.0\n",
       "48         West Virginia          1420289.0\n",
       "49             Wisconsin          4412888.0\n",
       "50               Wyoming           434852.0\n",
       "51           Puerto Rico          2579596.0"
      ]
     },
     "execution_count": 115,
     "metadata": {},
     "output_type": "execute_result"
    }
   ],
   "source": [
    "total_pop = pd.read_csv(\"/home/jovyan/work/Electoral_census/Sanjay/Data/2019_pop.csv\").iloc[0].astype(str).str.replace('\\D+', '').apply(p2f)\n",
    "total_pop = pd.DataFrame({\"Label\":total_pop.index, \"Voting Population\": total_pop.values})\n",
    "total_pop = total_pop.iloc[1:]\n",
    "total_pop[\"Label\"] = normal_names[1:]\n",
    "total_pop.index -= 1\n",
    "total_pop"
   ]
  },
  {
   "cell_type": "code",
   "execution_count": 116,
   "metadata": {
    "cell_id": "00007-6c994027-fde0-4e22-8a51-ee9a5f3b1fc4",
    "execution_millis": 4,
    "execution_start": 1605404580970,
    "output_cleared": false,
    "source_hash": "4461aed6",
    "tags": []
   },
   "outputs": [
    {
     "data": {
      "application/vnd.deepnote.dataframe.v2+json": {
       "column_count": 2,
       "columns": [
        {
         "dtype": "object",
         "name": "State",
         "stats": {
          "categories": [
           {
            "count": 1,
            "name": "Alabama"
           },
           {
            "count": 1,
            "name": "Alaska"
           },
           {
            "count": 50,
            "name": "50 others"
           }
          ],
          "nan_count": 0,
          "unique_count": 52
         }
        },
        {
         "dtype": "int64",
         "name": "Votes",
         "stats": {
          "histogram": [
           {
            "bin_end": 5.5,
            "bin_start": 0,
            "count": 17
           },
           {
            "bin_end": 11,
            "bin_start": 5.5,
            "count": 18
           },
           {
            "bin_end": 16.5,
            "bin_start": 11,
            "count": 10
           },
           {
            "bin_end": 22,
            "bin_start": 16.5,
            "count": 3
           },
           {
            "bin_end": 27.5,
            "bin_start": 22,
            "count": 0
           },
           {
            "bin_end": 33,
            "bin_start": 27.5,
            "count": 2
           },
           {
            "bin_end": 38.5,
            "bin_start": 33,
            "count": 1
           },
           {
            "bin_end": 44,
            "bin_start": 38.5,
            "count": 0
           },
           {
            "bin_end": 49.5,
            "bin_start": 44,
            "count": 0
           },
           {
            "bin_end": 55,
            "bin_start": 49.5,
            "count": 1
           }
          ],
          "max": 55,
          "min": 0,
          "nan_count": 0,
          "unique_count": 20
         }
        },
        {
         "dtype": "int64",
         "name": "_deepnote_index_column"
        }
       ],
       "row_count": 52,
       "rows_bottom": null,
       "rows_top": [
        {
         "State": "Alabama",
         "Votes": 9,
         "_deepnote_index_column": 0
        },
        {
         "State": "Alaska",
         "Votes": 3,
         "_deepnote_index_column": 1
        },
        {
         "State": "Arizona",
         "Votes": 11,
         "_deepnote_index_column": 2
        },
        {
         "State": "Arkansas",
         "Votes": 6,
         "_deepnote_index_column": 3
        },
        {
         "State": "California",
         "Votes": 55,
         "_deepnote_index_column": 4
        },
        {
         "State": "Colorado",
         "Votes": 9,
         "_deepnote_index_column": 5
        },
        {
         "State": "Connecticut",
         "Votes": 7,
         "_deepnote_index_column": 6
        },
        {
         "State": "Delaware",
         "Votes": 3,
         "_deepnote_index_column": 7
        },
        {
         "State": "District of Columbia",
         "Votes": 3,
         "_deepnote_index_column": 8
        },
        {
         "State": "Florida",
         "Votes": 29,
         "_deepnote_index_column": 9
        },
        {
         "State": "Georgia",
         "Votes": 16,
         "_deepnote_index_column": 10
        },
        {
         "State": "Hawaii",
         "Votes": 4,
         "_deepnote_index_column": 11
        },
        {
         "State": "Idaho",
         "Votes": 4,
         "_deepnote_index_column": 12
        },
        {
         "State": "Illinois",
         "Votes": 20,
         "_deepnote_index_column": 13
        },
        {
         "State": "Indiana",
         "Votes": 11,
         "_deepnote_index_column": 14
        },
        {
         "State": "Iowa",
         "Votes": 6,
         "_deepnote_index_column": 15
        },
        {
         "State": "Kansas",
         "Votes": 6,
         "_deepnote_index_column": 16
        },
        {
         "State": "Kentucky",
         "Votes": 8,
         "_deepnote_index_column": 17
        },
        {
         "State": "Louisiana",
         "Votes": 8,
         "_deepnote_index_column": 18
        },
        {
         "State": "Maine",
         "Votes": 4,
         "_deepnote_index_column": 19
        },
        {
         "State": "Maryland",
         "Votes": 10,
         "_deepnote_index_column": 20
        },
        {
         "State": "Massachusetts",
         "Votes": 11,
         "_deepnote_index_column": 21
        },
        {
         "State": "Michigan",
         "Votes": 16,
         "_deepnote_index_column": 22
        },
        {
         "State": "Minnesota",
         "Votes": 10,
         "_deepnote_index_column": 23
        },
        {
         "State": "Mississippi",
         "Votes": 6,
         "_deepnote_index_column": 24
        },
        {
         "State": "Missouri",
         "Votes": 10,
         "_deepnote_index_column": 25
        },
        {
         "State": "Montana",
         "Votes": 3,
         "_deepnote_index_column": 26
        },
        {
         "State": "Nebraska",
         "Votes": 5,
         "_deepnote_index_column": 27
        },
        {
         "State": "Nevada",
         "Votes": 6,
         "_deepnote_index_column": 28
        },
        {
         "State": "New Hampshire",
         "Votes": 4,
         "_deepnote_index_column": 29
        },
        {
         "State": "New Jersey",
         "Votes": 14,
         "_deepnote_index_column": 30
        },
        {
         "State": "New Mexico",
         "Votes": 5,
         "_deepnote_index_column": 31
        },
        {
         "State": "New York",
         "Votes": 29,
         "_deepnote_index_column": 32
        },
        {
         "State": "North Carolina",
         "Votes": 15,
         "_deepnote_index_column": 33
        },
        {
         "State": "North Dakota",
         "Votes": 3,
         "_deepnote_index_column": 34
        },
        {
         "State": "Ohio",
         "Votes": 18,
         "_deepnote_index_column": 35
        },
        {
         "State": "Oklahoma",
         "Votes": 7,
         "_deepnote_index_column": 36
        },
        {
         "State": "Oregon",
         "Votes": 7,
         "_deepnote_index_column": 37
        },
        {
         "State": "Pennsylvania",
         "Votes": 20,
         "_deepnote_index_column": 38
        },
        {
         "State": "Rhode Island",
         "Votes": 4,
         "_deepnote_index_column": 39
        },
        {
         "State": "South Carolina",
         "Votes": 9,
         "_deepnote_index_column": 40
        },
        {
         "State": "South Dakota",
         "Votes": 3,
         "_deepnote_index_column": 41
        },
        {
         "State": "Tennessee",
         "Votes": 11,
         "_deepnote_index_column": 42
        },
        {
         "State": "Texas",
         "Votes": 38,
         "_deepnote_index_column": 43
        },
        {
         "State": "Utah",
         "Votes": 6,
         "_deepnote_index_column": 44
        },
        {
         "State": "Vermont",
         "Votes": 3,
         "_deepnote_index_column": 45
        },
        {
         "State": "Virginia",
         "Votes": 13,
         "_deepnote_index_column": 46
        },
        {
         "State": "Washington",
         "Votes": 12,
         "_deepnote_index_column": 47
        },
        {
         "State": "West Virginia",
         "Votes": 5,
         "_deepnote_index_column": 48
        },
        {
         "State": "Wisconsin",
         "Votes": 10,
         "_deepnote_index_column": 49
        },
        {
         "State": "Wyoming",
         "Votes": 3,
         "_deepnote_index_column": 50
        },
        {
         "State": "Puerto Rico",
         "Votes": 0,
         "_deepnote_index_column": 51
        }
       ]
      },
      "text/html": [
       "<div>\n",
       "<style scoped>\n",
       "    .dataframe tbody tr th:only-of-type {\n",
       "        vertical-align: middle;\n",
       "    }\n",
       "\n",
       "    .dataframe tbody tr th {\n",
       "        vertical-align: top;\n",
       "    }\n",
       "\n",
       "    .dataframe thead th {\n",
       "        text-align: right;\n",
       "    }\n",
       "</style>\n",
       "<table border=\"1\" class=\"dataframe\">\n",
       "  <thead>\n",
       "    <tr style=\"text-align: right;\">\n",
       "      <th></th>\n",
       "      <th>State</th>\n",
       "      <th>Votes</th>\n",
       "    </tr>\n",
       "  </thead>\n",
       "  <tbody>\n",
       "    <tr>\n",
       "      <th>0</th>\n",
       "      <td>Alabama</td>\n",
       "      <td>9</td>\n",
       "    </tr>\n",
       "    <tr>\n",
       "      <th>1</th>\n",
       "      <td>Alaska</td>\n",
       "      <td>3</td>\n",
       "    </tr>\n",
       "    <tr>\n",
       "      <th>2</th>\n",
       "      <td>Arizona</td>\n",
       "      <td>11</td>\n",
       "    </tr>\n",
       "    <tr>\n",
       "      <th>3</th>\n",
       "      <td>Arkansas</td>\n",
       "      <td>6</td>\n",
       "    </tr>\n",
       "    <tr>\n",
       "      <th>4</th>\n",
       "      <td>California</td>\n",
       "      <td>55</td>\n",
       "    </tr>\n",
       "    <tr>\n",
       "      <th>5</th>\n",
       "      <td>Colorado</td>\n",
       "      <td>9</td>\n",
       "    </tr>\n",
       "    <tr>\n",
       "      <th>6</th>\n",
       "      <td>Connecticut</td>\n",
       "      <td>7</td>\n",
       "    </tr>\n",
       "    <tr>\n",
       "      <th>7</th>\n",
       "      <td>Delaware</td>\n",
       "      <td>3</td>\n",
       "    </tr>\n",
       "    <tr>\n",
       "      <th>8</th>\n",
       "      <td>District of Columbia</td>\n",
       "      <td>3</td>\n",
       "    </tr>\n",
       "    <tr>\n",
       "      <th>9</th>\n",
       "      <td>Florida</td>\n",
       "      <td>29</td>\n",
       "    </tr>\n",
       "    <tr>\n",
       "      <th>10</th>\n",
       "      <td>Georgia</td>\n",
       "      <td>16</td>\n",
       "    </tr>\n",
       "    <tr>\n",
       "      <th>11</th>\n",
       "      <td>Hawaii</td>\n",
       "      <td>4</td>\n",
       "    </tr>\n",
       "    <tr>\n",
       "      <th>12</th>\n",
       "      <td>Idaho</td>\n",
       "      <td>4</td>\n",
       "    </tr>\n",
       "    <tr>\n",
       "      <th>13</th>\n",
       "      <td>Illinois</td>\n",
       "      <td>20</td>\n",
       "    </tr>\n",
       "    <tr>\n",
       "      <th>14</th>\n",
       "      <td>Indiana</td>\n",
       "      <td>11</td>\n",
       "    </tr>\n",
       "    <tr>\n",
       "      <th>15</th>\n",
       "      <td>Iowa</td>\n",
       "      <td>6</td>\n",
       "    </tr>\n",
       "    <tr>\n",
       "      <th>16</th>\n",
       "      <td>Kansas</td>\n",
       "      <td>6</td>\n",
       "    </tr>\n",
       "    <tr>\n",
       "      <th>17</th>\n",
       "      <td>Kentucky</td>\n",
       "      <td>8</td>\n",
       "    </tr>\n",
       "    <tr>\n",
       "      <th>18</th>\n",
       "      <td>Louisiana</td>\n",
       "      <td>8</td>\n",
       "    </tr>\n",
       "    <tr>\n",
       "      <th>19</th>\n",
       "      <td>Maine</td>\n",
       "      <td>4</td>\n",
       "    </tr>\n",
       "    <tr>\n",
       "      <th>20</th>\n",
       "      <td>Maryland</td>\n",
       "      <td>10</td>\n",
       "    </tr>\n",
       "    <tr>\n",
       "      <th>21</th>\n",
       "      <td>Massachusetts</td>\n",
       "      <td>11</td>\n",
       "    </tr>\n",
       "    <tr>\n",
       "      <th>22</th>\n",
       "      <td>Michigan</td>\n",
       "      <td>16</td>\n",
       "    </tr>\n",
       "    <tr>\n",
       "      <th>23</th>\n",
       "      <td>Minnesota</td>\n",
       "      <td>10</td>\n",
       "    </tr>\n",
       "    <tr>\n",
       "      <th>24</th>\n",
       "      <td>Mississippi</td>\n",
       "      <td>6</td>\n",
       "    </tr>\n",
       "    <tr>\n",
       "      <th>25</th>\n",
       "      <td>Missouri</td>\n",
       "      <td>10</td>\n",
       "    </tr>\n",
       "    <tr>\n",
       "      <th>26</th>\n",
       "      <td>Montana</td>\n",
       "      <td>3</td>\n",
       "    </tr>\n",
       "    <tr>\n",
       "      <th>27</th>\n",
       "      <td>Nebraska</td>\n",
       "      <td>5</td>\n",
       "    </tr>\n",
       "    <tr>\n",
       "      <th>28</th>\n",
       "      <td>Nevada</td>\n",
       "      <td>6</td>\n",
       "    </tr>\n",
       "    <tr>\n",
       "      <th>29</th>\n",
       "      <td>New Hampshire</td>\n",
       "      <td>4</td>\n",
       "    </tr>\n",
       "    <tr>\n",
       "      <th>30</th>\n",
       "      <td>New Jersey</td>\n",
       "      <td>14</td>\n",
       "    </tr>\n",
       "    <tr>\n",
       "      <th>31</th>\n",
       "      <td>New Mexico</td>\n",
       "      <td>5</td>\n",
       "    </tr>\n",
       "    <tr>\n",
       "      <th>32</th>\n",
       "      <td>New York</td>\n",
       "      <td>29</td>\n",
       "    </tr>\n",
       "    <tr>\n",
       "      <th>33</th>\n",
       "      <td>North Carolina</td>\n",
       "      <td>15</td>\n",
       "    </tr>\n",
       "    <tr>\n",
       "      <th>34</th>\n",
       "      <td>North Dakota</td>\n",
       "      <td>3</td>\n",
       "    </tr>\n",
       "    <tr>\n",
       "      <th>35</th>\n",
       "      <td>Ohio</td>\n",
       "      <td>18</td>\n",
       "    </tr>\n",
       "    <tr>\n",
       "      <th>36</th>\n",
       "      <td>Oklahoma</td>\n",
       "      <td>7</td>\n",
       "    </tr>\n",
       "    <tr>\n",
       "      <th>37</th>\n",
       "      <td>Oregon</td>\n",
       "      <td>7</td>\n",
       "    </tr>\n",
       "    <tr>\n",
       "      <th>38</th>\n",
       "      <td>Pennsylvania</td>\n",
       "      <td>20</td>\n",
       "    </tr>\n",
       "    <tr>\n",
       "      <th>39</th>\n",
       "      <td>Rhode Island</td>\n",
       "      <td>4</td>\n",
       "    </tr>\n",
       "    <tr>\n",
       "      <th>40</th>\n",
       "      <td>South Carolina</td>\n",
       "      <td>9</td>\n",
       "    </tr>\n",
       "    <tr>\n",
       "      <th>41</th>\n",
       "      <td>South Dakota</td>\n",
       "      <td>3</td>\n",
       "    </tr>\n",
       "    <tr>\n",
       "      <th>42</th>\n",
       "      <td>Tennessee</td>\n",
       "      <td>11</td>\n",
       "    </tr>\n",
       "    <tr>\n",
       "      <th>43</th>\n",
       "      <td>Texas</td>\n",
       "      <td>38</td>\n",
       "    </tr>\n",
       "    <tr>\n",
       "      <th>44</th>\n",
       "      <td>Utah</td>\n",
       "      <td>6</td>\n",
       "    </tr>\n",
       "    <tr>\n",
       "      <th>45</th>\n",
       "      <td>Vermont</td>\n",
       "      <td>3</td>\n",
       "    </tr>\n",
       "    <tr>\n",
       "      <th>46</th>\n",
       "      <td>Virginia</td>\n",
       "      <td>13</td>\n",
       "    </tr>\n",
       "    <tr>\n",
       "      <th>47</th>\n",
       "      <td>Washington</td>\n",
       "      <td>12</td>\n",
       "    </tr>\n",
       "    <tr>\n",
       "      <th>48</th>\n",
       "      <td>West Virginia</td>\n",
       "      <td>5</td>\n",
       "    </tr>\n",
       "    <tr>\n",
       "      <th>49</th>\n",
       "      <td>Wisconsin</td>\n",
       "      <td>10</td>\n",
       "    </tr>\n",
       "    <tr>\n",
       "      <th>50</th>\n",
       "      <td>Wyoming</td>\n",
       "      <td>3</td>\n",
       "    </tr>\n",
       "    <tr>\n",
       "      <th>51</th>\n",
       "      <td>Puerto Rico</td>\n",
       "      <td>0</td>\n",
       "    </tr>\n",
       "  </tbody>\n",
       "</table>\n",
       "</div>"
      ],
      "text/plain": [
       "                   State  Votes\n",
       "0                Alabama      9\n",
       "1                 Alaska      3\n",
       "2                Arizona     11\n",
       "3               Arkansas      6\n",
       "4             California     55\n",
       "5               Colorado      9\n",
       "6            Connecticut      7\n",
       "7               Delaware      3\n",
       "8   District of Columbia      3\n",
       "9                Florida     29\n",
       "10               Georgia     16\n",
       "11                Hawaii      4\n",
       "12                 Idaho      4\n",
       "13              Illinois     20\n",
       "14               Indiana     11\n",
       "15                  Iowa      6\n",
       "16                Kansas      6\n",
       "17              Kentucky      8\n",
       "18             Louisiana      8\n",
       "19                 Maine      4\n",
       "20              Maryland     10\n",
       "21         Massachusetts     11\n",
       "22              Michigan     16\n",
       "23             Minnesota     10\n",
       "24           Mississippi      6\n",
       "25              Missouri     10\n",
       "26               Montana      3\n",
       "27              Nebraska      5\n",
       "28                Nevada      6\n",
       "29         New Hampshire      4\n",
       "30            New Jersey     14\n",
       "31            New Mexico      5\n",
       "32              New York     29\n",
       "33        North Carolina     15\n",
       "34          North Dakota      3\n",
       "35                  Ohio     18\n",
       "36              Oklahoma      7\n",
       "37                Oregon      7\n",
       "38          Pennsylvania     20\n",
       "39          Rhode Island      4\n",
       "40        South Carolina      9\n",
       "41          South Dakota      3\n",
       "42             Tennessee     11\n",
       "43                 Texas     38\n",
       "44                  Utah      6\n",
       "45               Vermont      3\n",
       "46              Virginia     13\n",
       "47            Washington     12\n",
       "48         West Virginia      5\n",
       "49             Wisconsin     10\n",
       "50               Wyoming      3\n",
       "51           Puerto Rico      0"
      ]
     },
     "execution_count": 116,
     "metadata": {},
     "output_type": "execute_result"
    }
   ],
   "source": [
    "vote_per_state = pd.read_csv(\"/home/jovyan/work/Electoral_census/Sanjay/Data/electoral-college-votes-by-state.csv\")\n",
    "vote_per_state[\"State\"] = normal_names[1:]\n",
    "vote_per_state"
   ]
  },
  {
   "cell_type": "code",
   "execution_count": 117,
   "metadata": {
    "cell_id": "00007-062dbf38-1637-4b7b-8f65-b248ba2b199d",
    "execution_millis": 4,
    "execution_start": 1605404580992,
    "output_cleared": false,
    "source_hash": "d6cbf369",
    "tags": []
   },
   "outputs": [
    {
     "data": {
      "application/vnd.deepnote.dataframe.v2+json": {
       "column_count": 2,
       "columns": [
        {
         "dtype": "object",
         "name": "State",
         "stats": {
          "categories": [
           {
            "count": 1,
            "name": "Alabama"
           },
           {
            "count": 1,
            "name": "Alaska"
           },
           {
            "count": 50,
            "name": "50 others"
           }
          ],
          "nan_count": 0,
          "unique_count": 52
         }
        },
        {
         "dtype": "float64",
         "name": "Vote",
         "stats": {
          "histogram": [
           {
            "bin_end": 6.898898935729857e-07,
            "bin_start": 0,
            "count": 1
           },
           {
            "bin_end": 1.3797797871459715e-06,
            "bin_start": 6.898898935729857e-07,
            "count": 0
           },
           {
            "bin_end": 2.0696696807189573e-06,
            "bin_start": 1.3797797871459715e-06,
            "count": 5
           },
           {
            "bin_end": 2.759559574291943e-06,
            "bin_start": 2.0696696807189573e-06,
            "count": 27
           },
           {
            "bin_end": 3.4494494678649286e-06,
            "bin_start": 2.759559574291943e-06,
            "count": 5
           },
           {
            "bin_end": 4.139339361437915e-06,
            "bin_start": 3.4494494678649286e-06,
            "count": 7
           },
           {
            "bin_end": 4.8292292550109e-06,
            "bin_start": 4.139339361437915e-06,
            "count": 1
           },
           {
            "bin_end": 5.519119148583886e-06,
            "bin_start": 4.8292292550109e-06,
            "count": 2
           },
           {
            "bin_end": 6.209009042156872e-06,
            "bin_start": 5.519119148583886e-06,
            "count": 3
           },
           {
            "bin_end": 6.898898935729857e-06,
            "bin_start": 6.209009042156872e-06,
            "count": 1
           }
          ],
          "max": 6.898898935729857e-06,
          "min": 0,
          "nan_count": 0,
          "unique_count": 52
         }
        },
        {
         "dtype": "int64",
         "name": "_deepnote_index_column"
        }
       ],
       "row_count": 52,
       "rows_bottom": null,
       "rows_top": [
        {
         "State": "Alabama",
         "Vote": 2.4120047082331904e-06,
         "_deepnote_index_column": 0
        },
        {
         "State": "Alaska",
         "Vote": 5.62692370454149e-06,
         "_deepnote_index_column": 1
        },
        {
         "State": "Arizona",
         "Vote": 2.1411300573005334e-06,
         "_deepnote_index_column": 2
        },
        {
         "State": "Arkansas",
         "Vote": 2.6840653748856477e-06,
         "_deepnote_index_column": 3
        },
        {
         "State": "California",
         "Vote": 2.1127712798323306e-06,
         "_deepnote_index_column": 4
        },
        {
         "State": "Colorado",
         "Vote": 2.120535977249005e-06,
         "_deepnote_index_column": 5
        },
        {
         "State": "Connecticut",
         "Vote": 2.672292223553278e-06,
         "_deepnote_index_column": 6
        },
        {
         "State": "Delaware",
         "Vote": 4.136915350438099e-06,
         "_deepnote_index_column": 7
        },
        {
         "State": "District of Columbia",
         "Vote": 5.589006796232264e-06,
         "_deepnote_index_column": 8
        },
        {
         "State": "Florida",
         "Vote": 1.8700851823800575e-06,
         "_deepnote_index_column": 9
        },
        {
         "State": "Georgia",
         "Vote": 2.1103065127883914e-06,
         "_deepnote_index_column": 10
        },
        {
         "State": "Hawaii",
         "Vote": 3.944637019432268e-06,
         "_deepnote_index_column": 11
        },
        {
         "State": "Idaho",
         "Vote": 3.118592267450473e-06,
         "_deepnote_index_column": 12
        },
        {
         "State": "Illinois",
         "Vote": 2.200695507808288e-06,
         "_deepnote_index_column": 13
        },
        {
         "State": "Indiana",
         "Vote": 2.2095647639501878e-06,
         "_deepnote_index_column": 14
        },
        {
         "State": "Iowa",
         "Vote": 2.5545100513584245e-06,
         "_deepnote_index_column": 15
        },
        {
         "State": "Kansas",
         "Vote": 2.852052622272249e-06,
         "_deepnote_index_column": 16
        },
        {
         "State": "Kentucky",
         "Vote": 2.375648180758319e-06,
         "_deepnote_index_column": 17
        },
        {
         "State": "Louisiana",
         "Vote": 2.309887589320466e-06,
         "_deepnote_index_column": 18
        },
        {
         "State": "Maine",
         "Vote": 3.7079266201321876e-06,
         "_deepnote_index_column": 19
        },
        {
         "State": "Maryland",
         "Vote": 2.316465832939727e-06,
         "_deepnote_index_column": 20
        },
        {
         "State": "Massachusetts",
         "Vote": 2.175120106177499e-06,
         "_deepnote_index_column": 21
        },
        {
         "State": "Michigan",
         "Vote": 2.115712550829994e-06,
         "_deepnote_index_column": 22
        },
        {
         "State": "Minnesota",
         "Vote": 2.405259243651799e-06,
         "_deepnote_index_column": 23
        },
        {
         "State": "Mississippi",
         "Vote": 2.67103172606967e-06,
         "_deepnote_index_column": 24
        },
        {
         "State": "Missouri",
         "Vote": 2.1503905754402174e-06,
         "_deepnote_index_column": 25
        },
        {
         "State": "Montana",
         "Vote": 3.6068096566317208e-06,
         "_deepnote_index_column": 26
        },
        {
         "State": "Nebraska",
         "Vote": 3.5998416069692934e-06,
         "_deepnote_index_column": 27
        },
        {
         "State": "Nevada",
         "Vote": 2.8410005625181115e-06,
         "_deepnote_index_column": 28
        },
        {
         "State": "New Hampshire",
         "Vote": 3.7375667506061866e-06,
         "_deepnote_index_column": 29
        },
        {
         "State": "New Jersey",
         "Vote": 2.2689959530836464e-06,
         "_deepnote_index_column": 30
        },
        {
         "State": "New Mexico",
         "Vote": 3.2847820645643624e-06,
         "_deepnote_index_column": 31
        },
        {
         "State": "New York",
         "Vote": 2.0998013877514964e-06,
         "_deepnote_index_column": 32
        },
        {
         "State": "North Carolina",
         "Vote": 1.940580963366489e-06,
         "_deepnote_index_column": 33
        },
        {
         "State": "North Dakota",
         "Vote": 5.2859244641394075e-06,
         "_deepnote_index_column": 34
        },
        {
         "State": "Ohio",
         "Vote": 2.0271482450132997e-06,
         "_deepnote_index_column": 35
        },
        {
         "State": "Oklahoma",
         "Vote": 2.4347326437474847e-06,
         "_deepnote_index_column": 36
        },
        {
         "State": "Oregon",
         "Vote": 2.2136459254368156e-06,
         "_deepnote_index_column": 37
        },
        {
         "State": "Pennsylvania",
         "Vote": 2.0386942122796465e-06,
         "_deepnote_index_column": 38
        },
        {
         "State": "Rhode Island",
         "Vote": 4.995017470073602e-06,
         "_deepnote_index_column": 39
        },
        {
         "State": "South Carolina",
         "Vote": 2.3122331779255724e-06,
         "_deepnote_index_column": 40
        },
        {
         "State": "South Dakota",
         "Vote": 4.5914103894434295e-06,
         "_deepnote_index_column": 41
        },
        {
         "State": "Tennessee",
         "Vote": 2.1444250796361495e-06,
         "_deepnote_index_column": 42
        },
        {
         "State": "Texas",
         "Vote": 2.0131872239748133e-06,
         "_deepnote_index_column": 43
        },
        {
         "State": "Utah",
         "Vote": 2.8112933401866417e-06,
         "_deepnote_index_column": 44
        },
        {
         "State": "Vermont",
         "Vote": 6.015580353114567e-06,
         "_deepnote_index_column": 45
        },
        {
         "State": "Virginia",
         "Vote": 2.0878090740357976e-06,
         "_deepnote_index_column": 46
        },
        {
         "State": "Washington",
         "Vote": 2.2185103257789977e-06,
         "_deepnote_index_column": 47
        },
        {
         "State": "West Virginia",
         "Vote": 3.5204102826959867e-06,
         "_deepnote_index_column": 48
        },
        {
         "State": "Wisconsin",
         "Vote": 2.266089690017059e-06,
         "_deepnote_index_column": 49
        },
        {
         "State": "Wyoming",
         "Vote": 6.898898935729857e-06,
         "_deepnote_index_column": 50
        },
        {
         "State": "Puerto Rico",
         "Vote": 0,
         "_deepnote_index_column": 51
        }
       ]
      },
      "text/html": [
       "<div>\n",
       "<style scoped>\n",
       "    .dataframe tbody tr th:only-of-type {\n",
       "        vertical-align: middle;\n",
       "    }\n",
       "\n",
       "    .dataframe tbody tr th {\n",
       "        vertical-align: top;\n",
       "    }\n",
       "\n",
       "    .dataframe thead th {\n",
       "        text-align: right;\n",
       "    }\n",
       "</style>\n",
       "<table border=\"1\" class=\"dataframe\">\n",
       "  <thead>\n",
       "    <tr style=\"text-align: right;\">\n",
       "      <th></th>\n",
       "      <th>State</th>\n",
       "      <th>Vote</th>\n",
       "    </tr>\n",
       "  </thead>\n",
       "  <tbody>\n",
       "    <tr>\n",
       "      <th>0</th>\n",
       "      <td>Alabama</td>\n",
       "      <td>0.000002</td>\n",
       "    </tr>\n",
       "    <tr>\n",
       "      <th>1</th>\n",
       "      <td>Alaska</td>\n",
       "      <td>0.000006</td>\n",
       "    </tr>\n",
       "    <tr>\n",
       "      <th>2</th>\n",
       "      <td>Arizona</td>\n",
       "      <td>0.000002</td>\n",
       "    </tr>\n",
       "    <tr>\n",
       "      <th>3</th>\n",
       "      <td>Arkansas</td>\n",
       "      <td>0.000003</td>\n",
       "    </tr>\n",
       "    <tr>\n",
       "      <th>4</th>\n",
       "      <td>California</td>\n",
       "      <td>0.000002</td>\n",
       "    </tr>\n",
       "    <tr>\n",
       "      <th>5</th>\n",
       "      <td>Colorado</td>\n",
       "      <td>0.000002</td>\n",
       "    </tr>\n",
       "    <tr>\n",
       "      <th>6</th>\n",
       "      <td>Connecticut</td>\n",
       "      <td>0.000003</td>\n",
       "    </tr>\n",
       "    <tr>\n",
       "      <th>7</th>\n",
       "      <td>Delaware</td>\n",
       "      <td>0.000004</td>\n",
       "    </tr>\n",
       "    <tr>\n",
       "      <th>8</th>\n",
       "      <td>District of Columbia</td>\n",
       "      <td>0.000006</td>\n",
       "    </tr>\n",
       "    <tr>\n",
       "      <th>9</th>\n",
       "      <td>Florida</td>\n",
       "      <td>0.000002</td>\n",
       "    </tr>\n",
       "    <tr>\n",
       "      <th>10</th>\n",
       "      <td>Georgia</td>\n",
       "      <td>0.000002</td>\n",
       "    </tr>\n",
       "    <tr>\n",
       "      <th>11</th>\n",
       "      <td>Hawaii</td>\n",
       "      <td>0.000004</td>\n",
       "    </tr>\n",
       "    <tr>\n",
       "      <th>12</th>\n",
       "      <td>Idaho</td>\n",
       "      <td>0.000003</td>\n",
       "    </tr>\n",
       "    <tr>\n",
       "      <th>13</th>\n",
       "      <td>Illinois</td>\n",
       "      <td>0.000002</td>\n",
       "    </tr>\n",
       "    <tr>\n",
       "      <th>14</th>\n",
       "      <td>Indiana</td>\n",
       "      <td>0.000002</td>\n",
       "    </tr>\n",
       "    <tr>\n",
       "      <th>15</th>\n",
       "      <td>Iowa</td>\n",
       "      <td>0.000003</td>\n",
       "    </tr>\n",
       "    <tr>\n",
       "      <th>16</th>\n",
       "      <td>Kansas</td>\n",
       "      <td>0.000003</td>\n",
       "    </tr>\n",
       "    <tr>\n",
       "      <th>17</th>\n",
       "      <td>Kentucky</td>\n",
       "      <td>0.000002</td>\n",
       "    </tr>\n",
       "    <tr>\n",
       "      <th>18</th>\n",
       "      <td>Louisiana</td>\n",
       "      <td>0.000002</td>\n",
       "    </tr>\n",
       "    <tr>\n",
       "      <th>19</th>\n",
       "      <td>Maine</td>\n",
       "      <td>0.000004</td>\n",
       "    </tr>\n",
       "    <tr>\n",
       "      <th>20</th>\n",
       "      <td>Maryland</td>\n",
       "      <td>0.000002</td>\n",
       "    </tr>\n",
       "    <tr>\n",
       "      <th>21</th>\n",
       "      <td>Massachusetts</td>\n",
       "      <td>0.000002</td>\n",
       "    </tr>\n",
       "    <tr>\n",
       "      <th>22</th>\n",
       "      <td>Michigan</td>\n",
       "      <td>0.000002</td>\n",
       "    </tr>\n",
       "    <tr>\n",
       "      <th>23</th>\n",
       "      <td>Minnesota</td>\n",
       "      <td>0.000002</td>\n",
       "    </tr>\n",
       "    <tr>\n",
       "      <th>24</th>\n",
       "      <td>Mississippi</td>\n",
       "      <td>0.000003</td>\n",
       "    </tr>\n",
       "    <tr>\n",
       "      <th>25</th>\n",
       "      <td>Missouri</td>\n",
       "      <td>0.000002</td>\n",
       "    </tr>\n",
       "    <tr>\n",
       "      <th>26</th>\n",
       "      <td>Montana</td>\n",
       "      <td>0.000004</td>\n",
       "    </tr>\n",
       "    <tr>\n",
       "      <th>27</th>\n",
       "      <td>Nebraska</td>\n",
       "      <td>0.000004</td>\n",
       "    </tr>\n",
       "    <tr>\n",
       "      <th>28</th>\n",
       "      <td>Nevada</td>\n",
       "      <td>0.000003</td>\n",
       "    </tr>\n",
       "    <tr>\n",
       "      <th>29</th>\n",
       "      <td>New Hampshire</td>\n",
       "      <td>0.000004</td>\n",
       "    </tr>\n",
       "    <tr>\n",
       "      <th>30</th>\n",
       "      <td>New Jersey</td>\n",
       "      <td>0.000002</td>\n",
       "    </tr>\n",
       "    <tr>\n",
       "      <th>31</th>\n",
       "      <td>New Mexico</td>\n",
       "      <td>0.000003</td>\n",
       "    </tr>\n",
       "    <tr>\n",
       "      <th>32</th>\n",
       "      <td>New York</td>\n",
       "      <td>0.000002</td>\n",
       "    </tr>\n",
       "    <tr>\n",
       "      <th>33</th>\n",
       "      <td>North Carolina</td>\n",
       "      <td>0.000002</td>\n",
       "    </tr>\n",
       "    <tr>\n",
       "      <th>34</th>\n",
       "      <td>North Dakota</td>\n",
       "      <td>0.000005</td>\n",
       "    </tr>\n",
       "    <tr>\n",
       "      <th>35</th>\n",
       "      <td>Ohio</td>\n",
       "      <td>0.000002</td>\n",
       "    </tr>\n",
       "    <tr>\n",
       "      <th>36</th>\n",
       "      <td>Oklahoma</td>\n",
       "      <td>0.000002</td>\n",
       "    </tr>\n",
       "    <tr>\n",
       "      <th>37</th>\n",
       "      <td>Oregon</td>\n",
       "      <td>0.000002</td>\n",
       "    </tr>\n",
       "    <tr>\n",
       "      <th>38</th>\n",
       "      <td>Pennsylvania</td>\n",
       "      <td>0.000002</td>\n",
       "    </tr>\n",
       "    <tr>\n",
       "      <th>39</th>\n",
       "      <td>Rhode Island</td>\n",
       "      <td>0.000005</td>\n",
       "    </tr>\n",
       "    <tr>\n",
       "      <th>40</th>\n",
       "      <td>South Carolina</td>\n",
       "      <td>0.000002</td>\n",
       "    </tr>\n",
       "    <tr>\n",
       "      <th>41</th>\n",
       "      <td>South Dakota</td>\n",
       "      <td>0.000005</td>\n",
       "    </tr>\n",
       "    <tr>\n",
       "      <th>42</th>\n",
       "      <td>Tennessee</td>\n",
       "      <td>0.000002</td>\n",
       "    </tr>\n",
       "    <tr>\n",
       "      <th>43</th>\n",
       "      <td>Texas</td>\n",
       "      <td>0.000002</td>\n",
       "    </tr>\n",
       "    <tr>\n",
       "      <th>44</th>\n",
       "      <td>Utah</td>\n",
       "      <td>0.000003</td>\n",
       "    </tr>\n",
       "    <tr>\n",
       "      <th>45</th>\n",
       "      <td>Vermont</td>\n",
       "      <td>0.000006</td>\n",
       "    </tr>\n",
       "    <tr>\n",
       "      <th>46</th>\n",
       "      <td>Virginia</td>\n",
       "      <td>0.000002</td>\n",
       "    </tr>\n",
       "    <tr>\n",
       "      <th>47</th>\n",
       "      <td>Washington</td>\n",
       "      <td>0.000002</td>\n",
       "    </tr>\n",
       "    <tr>\n",
       "      <th>48</th>\n",
       "      <td>West Virginia</td>\n",
       "      <td>0.000004</td>\n",
       "    </tr>\n",
       "    <tr>\n",
       "      <th>49</th>\n",
       "      <td>Wisconsin</td>\n",
       "      <td>0.000002</td>\n",
       "    </tr>\n",
       "    <tr>\n",
       "      <th>50</th>\n",
       "      <td>Wyoming</td>\n",
       "      <td>0.000007</td>\n",
       "    </tr>\n",
       "    <tr>\n",
       "      <th>51</th>\n",
       "      <td>Puerto Rico</td>\n",
       "      <td>0.000000</td>\n",
       "    </tr>\n",
       "  </tbody>\n",
       "</table>\n",
       "</div>"
      ],
      "text/plain": [
       "                   State      Vote\n",
       "0                Alabama  0.000002\n",
       "1                 Alaska  0.000006\n",
       "2                Arizona  0.000002\n",
       "3               Arkansas  0.000003\n",
       "4             California  0.000002\n",
       "5               Colorado  0.000002\n",
       "6            Connecticut  0.000003\n",
       "7               Delaware  0.000004\n",
       "8   District of Columbia  0.000006\n",
       "9                Florida  0.000002\n",
       "10               Georgia  0.000002\n",
       "11                Hawaii  0.000004\n",
       "12                 Idaho  0.000003\n",
       "13              Illinois  0.000002\n",
       "14               Indiana  0.000002\n",
       "15                  Iowa  0.000003\n",
       "16                Kansas  0.000003\n",
       "17              Kentucky  0.000002\n",
       "18             Louisiana  0.000002\n",
       "19                 Maine  0.000004\n",
       "20              Maryland  0.000002\n",
       "21         Massachusetts  0.000002\n",
       "22              Michigan  0.000002\n",
       "23             Minnesota  0.000002\n",
       "24           Mississippi  0.000003\n",
       "25              Missouri  0.000002\n",
       "26               Montana  0.000004\n",
       "27              Nebraska  0.000004\n",
       "28                Nevada  0.000003\n",
       "29         New Hampshire  0.000004\n",
       "30            New Jersey  0.000002\n",
       "31            New Mexico  0.000003\n",
       "32              New York  0.000002\n",
       "33        North Carolina  0.000002\n",
       "34          North Dakota  0.000005\n",
       "35                  Ohio  0.000002\n",
       "36              Oklahoma  0.000002\n",
       "37                Oregon  0.000002\n",
       "38          Pennsylvania  0.000002\n",
       "39          Rhode Island  0.000005\n",
       "40        South Carolina  0.000002\n",
       "41          South Dakota  0.000005\n",
       "42             Tennessee  0.000002\n",
       "43                 Texas  0.000002\n",
       "44                  Utah  0.000003\n",
       "45               Vermont  0.000006\n",
       "46              Virginia  0.000002\n",
       "47            Washington  0.000002\n",
       "48         West Virginia  0.000004\n",
       "49             Wisconsin  0.000002\n",
       "50               Wyoming  0.000007\n",
       "51           Puerto Rico  0.000000"
      ]
     },
     "execution_count": 117,
     "metadata": {},
     "output_type": "execute_result"
    }
   ],
   "source": [
    "pop_per_vote = (vote_per_state[\"Votes\"] / total_pop[\"Voting Population\"])\n",
    "pop_per_vote = pd.DataFrame({\"State\": normal_names[1:], \"Vote\": pop_per_vote.values})\n",
    "pop_per_vote"
   ]
  },
  {
   "cell_type": "code",
   "execution_count": 118,
   "metadata": {
    "cell_id": "00008-6a67e000-f157-4c82-a838-f9fc6cd2bd92",
    "execution_millis": 130,
    "execution_start": 1605404581041,
    "output_cleared": false,
    "source_hash": "1eb45364",
    "tags": []
   },
   "outputs": [
    {
     "data": {
      "application/vnd.deepnote.dataframe.v2+json": {
       "column_count": 53,
       "columns": [
        {
         "dtype": "object",
         "name": "Label",
         "stats": {
          "categories": [
           {
            "count": 1,
            "name": "Citizens 18 years and over"
           },
           {
            "count": 1,
            "name": "        18 to 29 years"
           },
           {
            "count": 25,
            "name": "25 others"
           }
          ],
          "nan_count": 0,
          "unique_count": 27
         }
        },
        {
         "dtype": "float64",
         "name": "Alabama",
         "stats": {
          "histogram": [
           {
            "bin_end": 0.9509422630392974,
            "bin_start": 0.056602514488108276,
            "count": 9
           },
           {
            "bin_end": 1.8452820115904867,
            "bin_start": 0.9509422630392974,
            "count": 3
           },
           {
            "bin_end": 2.739621760141676,
            "bin_start": 1.8452820115904867,
            "count": 5
           },
           {
            "bin_end": 3.633961508692865,
            "bin_start": 2.739621760141676,
            "count": 2
           },
           {
            "bin_end": 4.5283012572440535,
            "bin_start": 3.633961508692865,
            "count": 1
           },
           {
            "bin_end": 5.422641005795243,
            "bin_start": 4.5283012572440535,
            "count": 1
           },
           {
            "bin_end": 6.316980754346432,
            "bin_start": 5.422641005795243,
            "count": 2
           },
           {
            "bin_end": 7.211320502897621,
            "bin_start": 6.316980754346432,
            "count": 0
           },
           {
            "bin_end": 8.10566025144881,
            "bin_start": 7.211320502897621,
            "count": 2
           },
           {
            "bin_end": 9,
            "bin_start": 8.10566025144881,
            "count": 2
           }
          ],
          "max": 9,
          "min": 0.056602514488108276,
          "nan_count": 0,
          "unique_count": 27
         }
        },
        {
         "dtype": "float64",
         "name": "Alaska",
         "stats": {
          "histogram": [
           {
            "bin_end": 0.3407265483887304,
            "bin_start": 0.045251720431922667,
            "count": 10
           },
           {
            "bin_end": 0.6362013763455382,
            "bin_start": 0.3407265483887304,
            "count": 3
           },
           {
            "bin_end": 0.9316762043023459,
            "bin_start": 0.6362013763455382,
            "count": 5
           },
           {
            "bin_end": 1.2271510322591537,
            "bin_start": 0.9316762043023459,
            "count": 1
           },
           {
            "bin_end": 1.5226258602159615,
            "bin_start": 1.2271510322591537,
            "count": 1
           },
           {
            "bin_end": 1.818100688172769,
            "bin_start": 1.5226258602159615,
            "count": 1
           },
           {
            "bin_end": 2.113575516129577,
            "bin_start": 1.818100688172769,
            "count": 2
           },
           {
            "bin_end": 2.4090503440863844,
            "bin_start": 2.113575516129577,
            "count": 0
           },
           {
            "bin_end": 2.704525172043192,
            "bin_start": 2.4090503440863844,
            "count": 1
           },
           {
            "bin_end": 3,
            "bin_start": 2.704525172043192,
            "count": 3
           }
          ],
          "max": 3,
          "min": 0.045251720431922667,
          "nan_count": 0,
          "unique_count": 27
         }
        },
        {
         "dtype": "float64",
         "name": "Arizona",
         "stats": {
          "histogram": [
           {
            "bin_end": 1.222600678855017,
            "bin_start": 0.13622297650557455,
            "count": 10
           },
           {
            "bin_end": 2.3089783812044598,
            "bin_start": 1.222600678855017,
            "count": 1
           },
           {
            "bin_end": 3.3953560835539025,
            "bin_start": 2.3089783812044598,
            "count": 8
           },
           {
            "bin_end": 4.481733785903344,
            "bin_start": 3.3953560835539025,
            "count": 0
           },
           {
            "bin_end": 5.568111488252787,
            "bin_start": 4.481733785903344,
            "count": 1
           },
           {
            "bin_end": 6.65448919060223,
            "bin_start": 5.568111488252787,
            "count": 1
           },
           {
            "bin_end": 7.740866892951672,
            "bin_start": 6.65448919060223,
            "count": 1
           },
           {
            "bin_end": 8.827244595301115,
            "bin_start": 7.740866892951672,
            "count": 0
           },
           {
            "bin_end": 9.913622297650559,
            "bin_start": 8.827244595301115,
            "count": 3
           },
           {
            "bin_end": 11,
            "bin_start": 9.913622297650559,
            "count": 2
           }
          ],
          "max": 11,
          "min": 0.13622297650557455,
          "nan_count": 0,
          "unique_count": 27
         }
        },
        {
         "dtype": "float64",
         "name": "Arkansas",
         "stats": {
          "histogram": [
           {
            "bin_end": 0.6581086733335869,
            "bin_start": 0.06456519259287426,
            "count": 9
           },
           {
            "bin_end": 1.2516521540742995,
            "bin_start": 0.6581086733335869,
            "count": 4
           },
           {
            "bin_end": 1.8451956348150123,
            "bin_start": 1.2516521540742995,
            "count": 4
           },
           {
            "bin_end": 2.4387391155557245,
            "bin_start": 1.8451956348150123,
            "count": 2
           },
           {
            "bin_end": 3.032282596296437,
            "bin_start": 2.4387391155557245,
            "count": 1
           },
           {
            "bin_end": 3.62582607703715,
            "bin_start": 3.032282596296437,
            "count": 1
           },
           {
            "bin_end": 4.2193695577778625,
            "bin_start": 3.62582607703715,
            "count": 0
           },
           {
            "bin_end": 4.812913038518575,
            "bin_start": 4.2193695577778625,
            "count": 2
           },
           {
            "bin_end": 5.4064565192592875,
            "bin_start": 4.812913038518575,
            "count": 2
           },
           {
            "bin_end": 6,
            "bin_start": 5.4064565192592875,
            "count": 2
           }
          ],
          "max": 6,
          "min": 0.06456519259287426,
          "nan_count": 0,
          "unique_count": 27
         }
        },
        {
         "dtype": "float64",
         "name": "California",
         "stats": {
          "histogram": [
           {
            "bin_end": 5.659563881752417,
            "bin_start": 0.17729320194713002,
            "count": 8
           },
           {
            "bin_end": 11.141834561557705,
            "bin_start": 5.659563881752417,
            "count": 2
           },
           {
            "bin_end": 16.62410524136299,
            "bin_start": 11.141834561557705,
            "count": 6
           },
           {
            "bin_end": 22.10637592116828,
            "bin_start": 16.62410524136299,
            "count": 3
           },
           {
            "bin_end": 27.58864660097357,
            "bin_start": 22.10637592116828,
            "count": 2
           },
           {
            "bin_end": 33.07091728077885,
            "bin_start": 27.58864660097357,
            "count": 1
           },
           {
            "bin_end": 38.55318796058414,
            "bin_start": 33.07091728077885,
            "count": 1
           },
           {
            "bin_end": 44.03545864038943,
            "bin_start": 38.55318796058414,
            "count": 0
           },
           {
            "bin_end": 49.51772932019472,
            "bin_start": 44.03545864038943,
            "count": 2
           },
           {
            "bin_end": 55,
            "bin_start": 49.51772932019472,
            "count": 2
           }
          ],
          "max": 55,
          "min": 0.17729320194713002,
          "nan_count": 0,
          "unique_count": 27
         }
        },
        {
         "dtype": "float64",
         "name": "Colorado",
         "stats": {
          "histogram": [
           {
            "bin_end": 1.050237641398517,
            "bin_start": 0.16693071266501894,
            "count": 9
           },
           {
            "bin_end": 1.933544570132015,
            "bin_start": 1.050237641398517,
            "count": 3
           },
           {
            "bin_end": 2.8168514988655127,
            "bin_start": 1.933544570132015,
            "count": 5
           },
           {
            "bin_end": 3.700158427599011,
            "bin_start": 2.8168514988655127,
            "count": 2
           },
           {
            "bin_end": 4.58346535633251,
            "bin_start": 3.700158427599011,
            "count": 2
           },
           {
            "bin_end": 5.466772285066007,
            "bin_start": 4.58346535633251,
            "count": 0
           },
           {
            "bin_end": 6.350079213799505,
            "bin_start": 5.466772285066007,
            "count": 0
           },
           {
            "bin_end": 7.2333861425330035,
            "bin_start": 6.350079213799505,
            "count": 1
           },
           {
            "bin_end": 8.116693071266502,
            "bin_start": 7.2333861425330035,
            "count": 2
           },
           {
            "bin_end": 9,
            "bin_start": 8.116693071266502,
            "count": 3
           }
          ],
          "max": 9,
          "min": 0.16693071266501894,
          "nan_count": 0,
          "unique_count": 27
         }
        },
        {
         "dtype": "float64",
         "name": "Connecticut",
         "stats": {
          "histogram": [
           {
            "bin_end": 0.8531592220422879,
            "bin_start": 0.17017691338031987,
            "count": 9
           },
           {
            "bin_end": 1.536141530704256,
            "bin_start": 0.8531592220422879,
            "count": 6
           },
           {
            "bin_end": 2.2191238393662243,
            "bin_start": 1.536141530704256,
            "count": 2
           },
           {
            "bin_end": 2.9021061480281922,
            "bin_start": 2.2191238393662243,
            "count": 2
           },
           {
            "bin_end": 3.58508845669016,
            "bin_start": 2.9021061480281922,
            "count": 1
           },
           {
            "bin_end": 4.268070765352128,
            "bin_start": 3.58508845669016,
            "count": 1
           },
           {
            "bin_end": 4.951053074014096,
            "bin_start": 4.268070765352128,
            "count": 0
           },
           {
            "bin_end": 5.634035382676064,
            "bin_start": 4.951053074014096,
            "count": 2
           },
           {
            "bin_end": 6.317017691338032,
            "bin_start": 5.634035382676064,
            "count": 1
           },
           {
            "bin_end": 7,
            "bin_start": 6.317017691338032,
            "count": 3
           }
          ],
          "max": 7,
          "min": 0.17017691338031987,
          "nan_count": 0,
          "unique_count": 27
         }
        },
        {
         "dtype": "float64",
         "name": "Delaware",
         "stats": {
          "histogram": [
           {
            "bin_end": 0.32910071734112173,
            "bin_start": 0.03233413037902418,
            "count": 9
           },
           {
            "bin_end": 0.6258673043032194,
            "bin_start": 0.32910071734112173,
            "count": 3
           },
           {
            "bin_end": 0.9226338912653169,
            "bin_start": 0.6258673043032194,
            "count": 5
           },
           {
            "bin_end": 1.2194004782274144,
            "bin_start": 0.9226338912653169,
            "count": 2
           },
           {
            "bin_end": 1.5161670651895118,
            "bin_start": 1.2194004782274144,
            "count": 1
           },
           {
            "bin_end": 1.8129336521516095,
            "bin_start": 1.5161670651895118,
            "count": 1
           },
           {
            "bin_end": 2.109700239113707,
            "bin_start": 1.8129336521516095,
            "count": 1
           },
           {
            "bin_end": 2.4064668260758046,
            "bin_start": 2.109700239113707,
            "count": 1
           },
           {
            "bin_end": 2.703233413037902,
            "bin_start": 2.4064668260758046,
            "count": 1
           },
           {
            "bin_end": 3,
            "bin_start": 2.703233413037902,
            "count": 3
           }
          ],
          "max": 3,
          "min": 0.03233413037902418,
          "nan_count": 0,
          "unique_count": 27
         }
        },
        {
         "dtype": "float64",
         "name": "District of Columbia",
         "stats": {
          "histogram": [
           {
            "bin_end": 0.3596168176940503,
            "bin_start": 0.0662409085489448,
            "count": 8
           },
           {
            "bin_end": 0.6529927268391559,
            "bin_start": 0.3596168176940503,
            "count": 4
           },
           {
            "bin_end": 0.9463686359842614,
            "bin_start": 0.6529927268391559,
            "count": 4
           },
           {
            "bin_end": 1.239744545129367,
            "bin_start": 0.9463686359842614,
            "count": 2
           },
           {
            "bin_end": 1.5331204542744725,
            "bin_start": 1.239744545129367,
            "count": 3
           },
           {
            "bin_end": 1.8264963634195779,
            "bin_start": 1.5331204542744725,
            "count": 2
           },
           {
            "bin_end": 2.1198722725646832,
            "bin_start": 1.8264963634195779,
            "count": 0
           },
           {
            "bin_end": 2.413248181709789,
            "bin_start": 2.1198722725646832,
            "count": 0
           },
           {
            "bin_end": 2.7066240908548944,
            "bin_start": 2.413248181709789,
            "count": 1
           },
           {
            "bin_end": 3,
            "bin_start": 2.7066240908548944,
            "count": 3
           }
          ],
          "max": 3,
          "min": 0.0662409085489448,
          "nan_count": 0,
          "unique_count": 27
         }
        },
        {
         "dtype": "float64",
         "name": "Florida",
         "stats": {
          "histogram": [
           {
            "bin_end": 3.0021324581334676,
            "bin_start": 0.11348050903718665,
            "count": 7
           },
           {
            "bin_end": 5.890784407229749,
            "bin_start": 3.0021324581334676,
            "count": 5
           },
           {
            "bin_end": 8.779436356326029,
            "bin_start": 5.890784407229749,
            "count": 6
           },
           {
            "bin_end": 11.66808830542231,
            "bin_start": 8.779436356326029,
            "count": 1
           },
           {
            "bin_end": 14.556740254518592,
            "bin_start": 11.66808830542231,
            "count": 1
           },
           {
            "bin_end": 17.445392203614873,
            "bin_start": 14.556740254518592,
            "count": 1
           },
           {
            "bin_end": 20.33404415271115,
            "bin_start": 17.445392203614873,
            "count": 1
           },
           {
            "bin_end": 23.222696101807436,
            "bin_start": 20.33404415271115,
            "count": 1
           },
           {
            "bin_end": 26.111348050903715,
            "bin_start": 23.222696101807436,
            "count": 2
           },
           {
            "bin_end": 29,
            "bin_start": 26.111348050903715,
            "count": 2
           }
          ],
          "max": 29,
          "min": 0.11348050903718665,
          "nan_count": 0,
          "unique_count": 27
         }
        },
        {
         "dtype": "float64",
         "name": "Georgia",
         "stats": {
          "histogram": [
           {
            "bin_end": 1.7183438789306602,
            "bin_start": 0.13149319881184468,
            "count": 8
           },
           {
            "bin_end": 3.305194559049476,
            "bin_start": 1.7183438789306602,
            "count": 4
           },
           {
            "bin_end": 4.892045239168292,
            "bin_start": 3.305194559049476,
            "count": 5
           },
           {
            "bin_end": 6.478895919287107,
            "bin_start": 4.892045239168292,
            "count": 2
           },
           {
            "bin_end": 8.065746599405923,
            "bin_start": 6.478895919287107,
            "count": 1
           },
           {
            "bin_end": 9.652597279524738,
            "bin_start": 8.065746599405923,
            "count": 2
           },
           {
            "bin_end": 11.239447959643554,
            "bin_start": 9.652597279524738,
            "count": 1
           },
           {
            "bin_end": 12.826298639762369,
            "bin_start": 11.239447959643554,
            "count": 0
           },
           {
            "bin_end": 14.413149319881184,
            "bin_start": 12.826298639762369,
            "count": 2
           },
           {
            "bin_end": 16,
            "bin_start": 14.413149319881184,
            "count": 2
           }
          ],
          "max": 16,
          "min": 0.13149319881184468,
          "nan_count": 0,
          "unique_count": 27
         }
        },
        {
         "dtype": "float64",
         "name": "Hawaii",
         "stats": {
          "histogram": [
           {
            "bin_end": 0.4589896798433979,
            "bin_start": 0.06554408871488657,
            "count": 9
           },
           {
            "bin_end": 0.8524352709719093,
            "bin_start": 0.4589896798433979,
            "count": 3
           },
           {
            "bin_end": 1.2458808621004207,
            "bin_start": 0.8524352709719093,
            "count": 7
           },
           {
            "bin_end": 1.639326453228932,
            "bin_start": 1.2458808621004207,
            "count": 2
           },
           {
            "bin_end": 2.032772044357443,
            "bin_start": 1.639326453228932,
            "count": 2
           },
           {
            "bin_end": 2.426217635485955,
            "bin_start": 2.032772044357443,
            "count": 0
           },
           {
            "bin_end": 2.819663226614466,
            "bin_start": 2.426217635485955,
            "count": 0
           },
           {
            "bin_end": 3.2131088177429774,
            "bin_start": 2.819663226614466,
            "count": 0
           },
           {
            "bin_end": 3.6065544088714887,
            "bin_start": 3.2131088177429774,
            "count": 1
           },
           {
            "bin_end": 4,
            "bin_start": 3.6065544088714887,
            "count": 3
           }
          ],
          "max": 4,
          "min": 0.06554408871488657,
          "nan_count": 0,
          "unique_count": 27
         }
        },
        {
         "dtype": "float64",
         "name": "Idaho",
         "stats": {
          "histogram": [
           {
            "bin_end": 0.41839252161574264,
            "bin_start": 0.02043613512860295,
            "count": 11
           },
           {
            "bin_end": 0.8163489081028824,
            "bin_start": 0.41839252161574264,
            "count": 1
           },
           {
            "bin_end": 1.214305294590022,
            "bin_start": 0.8163489081028824,
            "count": 6
           },
           {
            "bin_end": 1.6122616810771617,
            "bin_start": 1.214305294590022,
            "count": 1
           },
           {
            "bin_end": 2.0102180675643018,
            "bin_start": 1.6122616810771617,
            "count": 1
           },
           {
            "bin_end": 2.408174454051441,
            "bin_start": 2.0102180675643018,
            "count": 1
           },
           {
            "bin_end": 2.806130840538581,
            "bin_start": 2.408174454051441,
            "count": 0
           },
           {
            "bin_end": 3.204087227025721,
            "bin_start": 2.806130840538581,
            "count": 0
           },
           {
            "bin_end": 3.6020436135128606,
            "bin_start": 3.204087227025721,
            "count": 2
           },
           {
            "bin_end": 4,
            "bin_start": 3.6020436135128606,
            "count": 4
           }
          ],
          "max": 4,
          "min": 0.02043613512860295,
          "nan_count": 0,
          "unique_count": 27
         }
        },
        {
         "dtype": "float64",
         "name": "Illinois",
         "stats": {
          "histogram": [
           {
            "bin_end": 2.1391785860003196,
            "bin_start": 0.1546428733336884,
            "count": 8
           },
           {
            "bin_end": 4.12371429866695,
            "bin_start": 2.1391785860003196,
            "count": 3
           },
           {
            "bin_end": 6.108250011333582,
            "bin_start": 4.12371429866695,
            "count": 6
           },
           {
            "bin_end": 8.092785724000214,
            "bin_start": 6.108250011333582,
            "count": 2
           },
           {
            "bin_end": 10.077321436666844,
            "bin_start": 8.092785724000214,
            "count": 1
           },
           {
            "bin_end": 12.061857149333477,
            "bin_start": 10.077321436666844,
            "count": 1
           },
           {
            "bin_end": 14.046392862000108,
            "bin_start": 12.061857149333477,
            "count": 1
           },
           {
            "bin_end": 16.03092857466674,
            "bin_start": 14.046392862000108,
            "count": 1
           },
           {
            "bin_end": 18.01546428733337,
            "bin_start": 16.03092857466674,
            "count": 1
           },
           {
            "bin_end": 20,
            "bin_start": 18.01546428733337,
            "count": 3
           }
          ],
          "max": 20,
          "min": 0.1546428733336884,
          "nan_count": 0,
          "unique_count": 27
         }
        },
        {
         "dtype": "float64",
         "name": "Indiana",
         "stats": {
          "histogram": [
           {
            "bin_end": 1.2157847289346124,
            "bin_start": 0.12864969881623572,
            "count": 11
           },
           {
            "bin_end": 2.302919759052989,
            "bin_start": 1.2157847289346124,
            "count": 1
           },
           {
            "bin_end": 3.3900547891713657,
            "bin_start": 2.302919759052989,
            "count": 5
           },
           {
            "bin_end": 4.477189819289742,
            "bin_start": 3.3900547891713657,
            "count": 2
           },
           {
            "bin_end": 5.564324849408119,
            "bin_start": 4.477189819289742,
            "count": 1
           },
           {
            "bin_end": 6.651459879526495,
            "bin_start": 5.564324849408119,
            "count": 1
           },
           {
            "bin_end": 7.738594909644871,
            "bin_start": 6.651459879526495,
            "count": 0
           },
           {
            "bin_end": 8.82572993976325,
            "bin_start": 7.738594909644871,
            "count": 0
           },
           {
            "bin_end": 9.912864969881626,
            "bin_start": 8.82572993976325,
            "count": 4
           },
           {
            "bin_end": 11.000000000000002,
            "bin_start": 9.912864969881626,
            "count": 2
           }
          ],
          "max": 11.000000000000002,
          "min": 0.12864969881623572,
          "nan_count": 0,
          "unique_count": 27
         }
        },
        {
         "dtype": "float64",
         "name": "Iowa",
         "stats": {
          "histogram": [
           {
            "bin_end": 0.6305062144843274,
            "bin_start": 0.033895793871474934,
            "count": 10
           },
           {
            "bin_end": 1.22711663509718,
            "bin_start": 0.6305062144843274,
            "count": 2
           },
           {
            "bin_end": 1.8237270557100325,
            "bin_start": 1.22711663509718,
            "count": 5
           },
           {
            "bin_end": 2.420337476322885,
            "bin_start": 1.8237270557100325,
            "count": 2
           },
           {
            "bin_end": 3.0169478969357377,
            "bin_start": 2.420337476322885,
            "count": 1
           },
           {
            "bin_end": 3.61355831754859,
            "bin_start": 3.0169478969357377,
            "count": 1
           },
           {
            "bin_end": 4.2101687381614425,
            "bin_start": 3.61355831754859,
            "count": 0
           },
           {
            "bin_end": 4.806779158774295,
            "bin_start": 4.2101687381614425,
            "count": 0
           },
           {
            "bin_end": 5.403389579387147,
            "bin_start": 4.806779158774295,
            "count": 2
           },
           {
            "bin_end": 6,
            "bin_start": 5.403389579387147,
            "count": 4
           }
          ],
          "max": 6,
          "min": 0.033895793871474934,
          "nan_count": 0,
          "unique_count": 27
         }
        },
        {
         "dtype": "float64",
         "name": "Kansas",
         "stats": {
          "histogram": [
           {
            "bin_end": 0.6812612537243053,
            "bin_start": 0.09029028191589486,
            "count": 11
           },
           {
            "bin_end": 1.2722322255327159,
            "bin_start": 0.6812612537243053,
            "count": 1
           },
           {
            "bin_end": 1.8632031973411263,
            "bin_start": 1.2722322255327159,
            "count": 5
           },
           {
            "bin_end": 2.454174169149537,
            "bin_start": 1.8632031973411263,
            "count": 2
           },
           {
            "bin_end": 3.0451451409579477,
            "bin_start": 2.454174169149537,
            "count": 1
           },
           {
            "bin_end": 3.636116112766358,
            "bin_start": 3.0451451409579477,
            "count": 1
           },
           {
            "bin_end": 4.227087084574769,
            "bin_start": 3.636116112766358,
            "count": 0
           },
           {
            "bin_end": 4.818058056383179,
            "bin_start": 4.227087084574769,
            "count": 0
           },
           {
            "bin_end": 5.409029028191589,
            "bin_start": 4.818058056383179,
            "count": 3
           },
           {
            "bin_end": 6,
            "bin_start": 5.409029028191589,
            "count": 3
           }
          ],
          "max": 6,
          "min": 0.09029028191589486,
          "nan_count": 0,
          "unique_count": 27
         }
        },
        {
         "dtype": "float64",
         "name": "Kentucky",
         "stats": {
          "histogram": [
           {
            "bin_end": 0.824639272671553,
            "bin_start": 0.027376969635058868,
            "count": 10
           },
           {
            "bin_end": 1.6219015757080473,
            "bin_start": 0.824639272671553,
            "count": 2
           },
           {
            "bin_end": 2.4191638787445413,
            "bin_start": 1.6219015757080473,
            "count": 5
           },
           {
            "bin_end": 3.2164261817810353,
            "bin_start": 2.4191638787445413,
            "count": 2
           },
           {
            "bin_end": 4.013688484817529,
            "bin_start": 3.2164261817810353,
            "count": 1
           },
           {
            "bin_end": 4.810950787854024,
            "bin_start": 4.013688484817529,
            "count": 1
           },
           {
            "bin_end": 5.6082130908905174,
            "bin_start": 4.810950787854024,
            "count": 0
           },
           {
            "bin_end": 6.405475393927012,
            "bin_start": 5.6082130908905174,
            "count": 0
           },
           {
            "bin_end": 7.202737696963506,
            "bin_start": 6.405475393927012,
            "count": 4
           },
           {
            "bin_end": 8,
            "bin_start": 7.202737696963506,
            "count": 2
           }
          ],
          "max": 8,
          "min": 0.027376969635058868,
          "nan_count": 0,
          "unique_count": 27
         }
        },
        {
         "dtype": "float64",
         "name": "Louisiana",
         "stats": {
          "histogram": [
           {
            "bin_end": 0.8557207253509008,
            "bin_start": 0.06191191705655645,
            "count": 9
           },
           {
            "bin_end": 1.6495295336452453,
            "bin_start": 0.8557207253509008,
            "count": 2
           },
           {
            "bin_end": 2.4433383419395893,
            "bin_start": 1.6495295336452453,
            "count": 5
           },
           {
            "bin_end": 3.237147150233934,
            "bin_start": 2.4433383419395893,
            "count": 3
           },
           {
            "bin_end": 4.030955958528279,
            "bin_start": 3.237147150233934,
            "count": 1
           },
           {
            "bin_end": 4.824764766822622,
            "bin_start": 4.030955958528279,
            "count": 1
           },
           {
            "bin_end": 5.618573575116967,
            "bin_start": 4.824764766822622,
            "count": 2
           },
           {
            "bin_end": 6.412382383411312,
            "bin_start": 5.618573575116967,
            "count": 0
           },
           {
            "bin_end": 7.206191191705656,
            "bin_start": 6.412382383411312,
            "count": 2
           },
           {
            "bin_end": 8,
            "bin_start": 7.206191191705656,
            "count": 2
           }
          ],
          "max": 8,
          "min": 0.06191191705655645,
          "nan_count": 0,
          "unique_count": 27
         }
        },
        {
         "dtype": "float64",
         "name": "Maine",
         "stats": {
          "histogram": [
           {
            "bin_end": 0.4096042715314664,
            "bin_start": 0.010671412812740436,
            "count": 10
           },
           {
            "bin_end": 0.8085371302501924,
            "bin_start": 0.4096042715314664,
            "count": 3
           },
           {
            "bin_end": 1.2074699889689184,
            "bin_start": 0.8085371302501924,
            "count": 3
           },
           {
            "bin_end": 1.6064028476876444,
            "bin_start": 1.2074699889689184,
            "count": 3
           },
           {
            "bin_end": 2.0053357064063704,
            "bin_start": 1.6064028476876444,
            "count": 1
           },
           {
            "bin_end": 2.404268565125096,
            "bin_start": 2.0053357064063704,
            "count": 1
           },
           {
            "bin_end": 2.8032014238438223,
            "bin_start": 2.404268565125096,
            "count": 0
           },
           {
            "bin_end": 3.202134282562548,
            "bin_start": 2.8032014238438223,
            "count": 0
           },
           {
            "bin_end": 3.601067141281274,
            "bin_start": 3.202134282562548,
            "count": 1
           },
           {
            "bin_end": 4,
            "bin_start": 3.601067141281274,
            "count": 5
           }
          ],
          "max": 4,
          "min": 0.010671412812740436,
          "nan_count": 0,
          "unique_count": 27
         }
        },
        {
         "dtype": "float64",
         "name": "Maryland",
         "stats": {
          "histogram": [
           {
            "bin_end": 1.182671862653961,
            "bin_start": 0.20296873628217887,
            "count": 9
           },
           {
            "bin_end": 2.1623749890257433,
            "bin_start": 1.182671862653961,
            "count": 5
           },
           {
            "bin_end": 3.1420781153975255,
            "bin_start": 2.1623749890257433,
            "count": 3
           },
           {
            "bin_end": 4.121781241769307,
            "bin_start": 3.1420781153975255,
            "count": 2
           },
           {
            "bin_end": 5.101484368141089,
            "bin_start": 4.121781241769307,
            "count": 1
           },
           {
            "bin_end": 6.081187494512871,
            "bin_start": 5.101484368141089,
            "count": 3
           },
           {
            "bin_end": 7.060890620884654,
            "bin_start": 6.081187494512871,
            "count": 0
           },
           {
            "bin_end": 8.040593747256436,
            "bin_start": 7.060890620884654,
            "count": 0
           },
           {
            "bin_end": 9.020296873628217,
            "bin_start": 8.040593747256436,
            "count": 1
           },
           {
            "bin_end": 10,
            "bin_start": 9.020296873628217,
            "count": 3
           }
          ],
          "max": 10,
          "min": 0.20296873628217887,
          "nan_count": 0,
          "unique_count": 27
         }
        },
        {
         "dtype": "float64",
         "name": "Massachusetts",
         "stats": {
          "histogram": [
           {
            "bin_end": 1.2713102844424335,
            "bin_start": 0.19034476049159296,
            "count": 10
           },
           {
            "bin_end": 2.352275808393274,
            "bin_start": 1.2713102844424335,
            "count": 3
           },
           {
            "bin_end": 3.4332413323441147,
            "bin_start": 2.352275808393274,
            "count": 4
           },
           {
            "bin_end": 4.5142068562949555,
            "bin_start": 3.4332413323441147,
            "count": 1
           },
           {
            "bin_end": 5.595172380245796,
            "bin_start": 4.5142068562949555,
            "count": 2
           },
           {
            "bin_end": 6.676137904196636,
            "bin_start": 5.595172380245796,
            "count": 1
           },
           {
            "bin_end": 7.757103428147477,
            "bin_start": 6.676137904196636,
            "count": 0
           },
           {
            "bin_end": 8.838068952098318,
            "bin_start": 7.757103428147477,
            "count": 1
           },
           {
            "bin_end": 9.919034476049159,
            "bin_start": 8.838068952098318,
            "count": 2
           },
           {
            "bin_end": 11,
            "bin_start": 9.919034476049159,
            "count": 3
           }
          ],
          "max": 11,
          "min": 0.19034476049159296,
          "nan_count": 0,
          "unique_count": 27
         }
        },
        {
         "dtype": "float64",
         "name": "Michigan",
         "stats": {
          "histogram": [
           {
            "bin_end": 1.7012298637057974,
            "bin_start": 0.11247762633977497,
            "count": 9
           },
           {
            "bin_end": 3.28998210107182,
            "bin_start": 1.7012298637057974,
            "count": 3
           },
           {
            "bin_end": 4.878734338437843,
            "bin_start": 3.28998210107182,
            "count": 6
           },
           {
            "bin_end": 6.467486575803865,
            "bin_start": 4.878734338437843,
            "count": 1
           },
           {
            "bin_end": 8.056238813169887,
            "bin_start": 6.467486575803865,
            "count": 1
           },
           {
            "bin_end": 9.64499105053591,
            "bin_start": 8.056238813169887,
            "count": 1
           },
           {
            "bin_end": 11.233743287901932,
            "bin_start": 9.64499105053591,
            "count": 0
           },
           {
            "bin_end": 12.822495525267955,
            "bin_start": 11.233743287901932,
            "count": 1
           },
           {
            "bin_end": 14.411247762633979,
            "bin_start": 12.822495525267955,
            "count": 2
           },
           {
            "bin_end": 16,
            "bin_start": 14.411247762633979,
            "count": 3
           }
          ],
          "max": 16,
          "min": 0.11247762633977497,
          "nan_count": 0,
          "unique_count": 27
         }
        },
        {
         "dtype": "float64",
         "name": "Minnesota",
         "stats": {
          "histogram": [
           {
            "bin_end": 1.1002206584830125,
            "bin_start": 0.11135628720334735,
            "count": 9
           },
           {
            "bin_end": 2.089085029762678,
            "bin_start": 1.1002206584830125,
            "count": 3
           },
           {
            "bin_end": 3.077949401042343,
            "bin_start": 2.089085029762678,
            "count": 5
           },
           {
            "bin_end": 4.066813772322008,
            "bin_start": 3.077949401042343,
            "count": 2
           },
           {
            "bin_end": 5.055678143601673,
            "bin_start": 4.066813772322008,
            "count": 1
           },
           {
            "bin_end": 6.044542514881338,
            "bin_start": 5.055678143601673,
            "count": 1
           },
           {
            "bin_end": 7.0334068861610035,
            "bin_start": 6.044542514881338,
            "count": 0
           },
           {
            "bin_end": 8.02227125744067,
            "bin_start": 7.0334068861610035,
            "count": 0
           },
           {
            "bin_end": 9.011135628720334,
            "bin_start": 8.02227125744067,
            "count": 3
           },
           {
            "bin_end": 10,
            "bin_start": 9.011135628720334,
            "count": 3
           }
          ],
          "max": 10,
          "min": 0.11135628720334735,
          "nan_count": 0,
          "unique_count": 27
         }
        },
        {
         "dtype": "float64",
         "name": "Mississippi",
         "stats": {
          "histogram": [
           {
            "bin_end": 0.6248157544573955,
            "bin_start": 0.027573060508217204,
            "count": 8
           },
           {
            "bin_end": 1.2220584484065737,
            "bin_start": 0.6248157544573955,
            "count": 4
           },
           {
            "bin_end": 1.8193011423557521,
            "bin_start": 1.2220584484065737,
            "count": 5
           },
           {
            "bin_end": 2.4165438363049305,
            "bin_start": 1.8193011423557521,
            "count": 2
           },
           {
            "bin_end": 3.0137865302541087,
            "bin_start": 2.4165438363049305,
            "count": 1
           },
           {
            "bin_end": 3.6110292242032873,
            "bin_start": 3.0137865302541087,
            "count": 2
           },
           {
            "bin_end": 4.208271918152465,
            "bin_start": 3.6110292242032873,
            "count": 1
           },
           {
            "bin_end": 4.805514612101644,
            "bin_start": 4.208271918152465,
            "count": 1
           },
           {
            "bin_end": 5.402757306050822,
            "bin_start": 4.805514612101644,
            "count": 1
           },
           {
            "bin_end": 6,
            "bin_start": 5.402757306050822,
            "count": 2
           }
          ],
          "max": 6,
          "min": 0.027573060508217204,
          "nan_count": 0,
          "unique_count": 27
         }
        },
        {
         "dtype": "float64",
         "name": "Missouri",
         "stats": {
          "histogram": [
           {
            "bin_end": 1.067795363671904,
            "bin_start": 0.07532818185767082,
            "count": 9
           },
           {
            "bin_end": 2.060262545486137,
            "bin_start": 1.067795363671904,
            "count": 4
           },
           {
            "bin_end": 3.0527297273003704,
            "bin_start": 2.060262545486137,
            "count": 4
           },
           {
            "bin_end": 4.045196909114603,
            "bin_start": 3.0527297273003704,
            "count": 2
           },
           {
            "bin_end": 5.037664090928836,
            "bin_start": 4.045196909114603,
            "count": 1
           },
           {
            "bin_end": 6.03013127274307,
            "bin_start": 5.037664090928836,
            "count": 1
           },
           {
            "bin_end": 7.022598454557302,
            "bin_start": 6.03013127274307,
            "count": 0
           },
           {
            "bin_end": 8.015065636371535,
            "bin_start": 7.022598454557302,
            "count": 0
           },
           {
            "bin_end": 9.00753281818577,
            "bin_start": 8.015065636371535,
            "count": 3
           },
           {
            "bin_end": 10.000000000000002,
            "bin_start": 9.00753281818577,
            "count": 3
           }
          ],
          "max": 10.000000000000002,
          "min": 0.07532818185767082,
          "nan_count": 0,
          "unique_count": 27
         }
        },
        {
         "dtype": "float64",
         "name": "Montana",
         "stats": {
          "histogram": [
           {
            "bin_end": 0.3,
            "bin_start": 0,
            "count": 10
           },
           {
            "bin_end": 0.6,
            "bin_start": 0.3,
            "count": 2
           },
           {
            "bin_end": 0.8999999999999999,
            "bin_start": 0.6,
            "count": 5
           },
           {
            "bin_end": 1.2,
            "bin_start": 0.8999999999999999,
            "count": 2
           },
           {
            "bin_end": 1.5,
            "bin_start": 1.2,
            "count": 1
           },
           {
            "bin_end": 1.7999999999999998,
            "bin_start": 1.5,
            "count": 1
           },
           {
            "bin_end": 2.1,
            "bin_start": 1.7999999999999998,
            "count": 0
           },
           {
            "bin_end": 2.4,
            "bin_start": 2.1,
            "count": 0
           },
           {
            "bin_end": 2.6999999999999997,
            "bin_start": 2.4,
            "count": 2
           },
           {
            "bin_end": 3,
            "bin_start": 2.6999999999999997,
            "count": 4
           }
          ],
          "max": 3,
          "min": 0,
          "nan_count": 0,
          "unique_count": 25
         }
        },
        {
         "dtype": "float64",
         "name": "Nebraska",
         "stats": {
          "histogram": [
           {
            "bin_end": 0.5740987796536953,
            "bin_start": 0.0823319773929947,
            "count": 11
           },
           {
            "bin_end": 1.0658655819143958,
            "bin_start": 0.5740987796536953,
            "count": 1
           },
           {
            "bin_end": 1.5576323841750963,
            "bin_start": 1.0658655819143958,
            "count": 5
           },
           {
            "bin_end": 2.0493991864357968,
            "bin_start": 1.5576323841750963,
            "count": 2
           },
           {
            "bin_end": 2.5411659886964975,
            "bin_start": 2.0493991864357968,
            "count": 2
           },
           {
            "bin_end": 3.032932790957198,
            "bin_start": 2.5411659886964975,
            "count": 0
           },
           {
            "bin_end": 3.5246995932178984,
            "bin_start": 3.032932790957198,
            "count": 0
           },
           {
            "bin_end": 4.016466395478599,
            "bin_start": 3.5246995932178984,
            "count": 0
           },
           {
            "bin_end": 4.508233197739299,
            "bin_start": 4.016466395478599,
            "count": 3
           },
           {
            "bin_end": 5,
            "bin_start": 4.508233197739299,
            "count": 3
           }
          ],
          "max": 5,
          "min": 0.0823319773929947,
          "nan_count": 0,
          "unique_count": 27
         }
        },
        {
         "dtype": "float64",
         "name": "Nevada",
         "stats": {
          "histogram": [
           {
            "bin_end": 0.7441529367422814,
            "bin_start": 0.1601699297136461,
            "count": 10
           },
           {
            "bin_end": 1.3281359437709168,
            "bin_start": 0.7441529367422814,
            "count": 3
           },
           {
            "bin_end": 1.9121189507995522,
            "bin_start": 1.3281359437709168,
            "count": 5
           },
           {
            "bin_end": 2.496101957828188,
            "bin_start": 1.9121189507995522,
            "count": 1
           },
           {
            "bin_end": 3.080084964856823,
            "bin_start": 2.496101957828188,
            "count": 2
           },
           {
            "bin_end": 3.6640679718854585,
            "bin_start": 3.080084964856823,
            "count": 1
           },
           {
            "bin_end": 4.248050978914094,
            "bin_start": 3.6640679718854585,
            "count": 1
           },
           {
            "bin_end": 4.832033985942729,
            "bin_start": 4.248050978914094,
            "count": 0
           },
           {
            "bin_end": 5.416016992971365,
            "bin_start": 4.832033985942729,
            "count": 2
           },
           {
            "bin_end": 6,
            "bin_start": 5.416016992971365,
            "count": 2
           }
          ],
          "max": 6,
          "min": 0.1601699297136461,
          "nan_count": 0,
          "unique_count": 27
         }
        },
        {
         "dtype": "float64",
         "name": "New Hampshire",
         "stats": {
          "histogram": [
           {
            "bin_end": 0.41857832304723813,
            "bin_start": 0.02064258116359797,
            "count": 10
           },
           {
            "bin_end": 0.8165140649308783,
            "bin_start": 0.41857832304723813,
            "count": 3
           },
           {
            "bin_end": 1.2144498068145184,
            "bin_start": 0.8165140649308783,
            "count": 4
           },
           {
            "bin_end": 1.6123855486981586,
            "bin_start": 1.2144498068145184,
            "count": 2
           },
           {
            "bin_end": 2.010321290581799,
            "bin_start": 1.6123855486981586,
            "count": 1
           },
           {
            "bin_end": 2.408257032465439,
            "bin_start": 2.010321290581799,
            "count": 1
           },
           {
            "bin_end": 2.8061927743490793,
            "bin_start": 2.408257032465439,
            "count": 0
           },
           {
            "bin_end": 3.2041285162327195,
            "bin_start": 2.8061927743490793,
            "count": 0
           },
           {
            "bin_end": 3.6020642581163598,
            "bin_start": 3.2041285162327195,
            "count": 1
           },
           {
            "bin_end": 4,
            "bin_start": 3.6020642581163598,
            "count": 5
           }
          ],
          "max": 4,
          "min": 0.02064258116359797,
          "nan_count": 0,
          "unique_count": 27
         }
        },
        {
         "dtype": "float64",
         "name": "New Jersey",
         "stats": {
          "histogram": [
           {
            "bin_end": 1.5783566958880932,
            "bin_start": 0.19817410654232567,
            "count": 8
           },
           {
            "bin_end": 2.9585392852338606,
            "bin_start": 1.5783566958880932,
            "count": 5
           },
           {
            "bin_end": 4.338721874579629,
            "bin_start": 2.9585392852338606,
            "count": 4
           },
           {
            "bin_end": 5.718904463925396,
            "bin_start": 4.338721874579629,
            "count": 2
           },
           {
            "bin_end": 7.099087053271163,
            "bin_start": 5.718904463925396,
            "count": 1
           },
           {
            "bin_end": 8.47926964261693,
            "bin_start": 7.099087053271163,
            "count": 1
           },
           {
            "bin_end": 9.859452231962697,
            "bin_start": 8.47926964261693,
            "count": 1
           },
           {
            "bin_end": 11.239634821308465,
            "bin_start": 9.859452231962697,
            "count": 1
           },
           {
            "bin_end": 12.619817410654234,
            "bin_start": 11.239634821308465,
            "count": 0
           },
           {
            "bin_end": 14,
            "bin_start": 12.619817410654234,
            "count": 4
           }
          ],
          "max": 14,
          "min": 0.19817410654232567,
          "nan_count": 0,
          "unique_count": 27
         }
        },
        {
         "dtype": "float64",
         "name": "New Mexico",
         "stats": {
          "histogram": [
           {
            "bin_end": 0.5599124539884153,
            "bin_start": 0.06656939332046137,
            "count": 9
           },
           {
            "bin_end": 1.0532555146563691,
            "bin_start": 0.5599124539884153,
            "count": 3
           },
           {
            "bin_end": 1.5465985753243232,
            "bin_start": 1.0532555146563691,
            "count": 5
           },
           {
            "bin_end": 2.039941635992277,
            "bin_start": 1.5465985753243232,
            "count": 1
           },
           {
            "bin_end": 2.533284696660231,
            "bin_start": 2.039941635992277,
            "count": 3
           },
           {
            "bin_end": 3.026627757328185,
            "bin_start": 2.533284696660231,
            "count": 1
           },
           {
            "bin_end": 3.5199708179961386,
            "bin_start": 3.026627757328185,
            "count": 0
           },
           {
            "bin_end": 4.013313878664093,
            "bin_start": 3.5199708179961386,
            "count": 1
           },
           {
            "bin_end": 4.506656939332046,
            "bin_start": 4.013313878664093,
            "count": 2
           },
           {
            "bin_end": 5,
            "bin_start": 4.506656939332046,
            "count": 2
           }
          ],
          "max": 5,
          "min": 0.06656939332046137,
          "nan_count": 0,
          "unique_count": 27
         }
        },
        {
         "dtype": "float64",
         "name": "New York",
         "stats": {
          "histogram": [
           {
            "bin_end": 3.039268487122063,
            "bin_start": 0.15474276346895877,
            "count": 7
           },
           {
            "bin_end": 5.923794210775167,
            "bin_start": 3.039268487122063,
            "count": 5
           },
           {
            "bin_end": 8.80831993442827,
            "bin_start": 5.923794210775167,
            "count": 5
           },
           {
            "bin_end": 11.692845658081374,
            "bin_start": 8.80831993442827,
            "count": 2
           },
           {
            "bin_end": 14.577371381734478,
            "bin_start": 11.692845658081374,
            "count": 1
           },
           {
            "bin_end": 17.461897105387585,
            "bin_start": 14.577371381734478,
            "count": 1
           },
           {
            "bin_end": 20.346422829040687,
            "bin_start": 17.461897105387585,
            "count": 2
           },
           {
            "bin_end": 23.230948552693793,
            "bin_start": 20.346422829040687,
            "count": 0
           },
           {
            "bin_end": 26.115474276346898,
            "bin_start": 23.230948552693793,
            "count": 2
           },
           {
            "bin_end": 29,
            "bin_start": 26.115474276346898,
            "count": 2
           }
          ],
          "max": 29,
          "min": 0.15474276346895877,
          "nan_count": 0,
          "unique_count": 27
         }
        },
        {
         "dtype": "float64",
         "name": "North Carolina",
         "stats": {
          "histogram": [
           {
            "bin_end": 1.6013315102222043,
            "bin_start": 0.11259056691356031,
            "count": 9
           },
           {
            "bin_end": 3.0900724535308486,
            "bin_start": 1.6013315102222043,
            "count": 2
           },
           {
            "bin_end": 4.578813396839493,
            "bin_start": 3.0900724535308486,
            "count": 7
           },
           {
            "bin_end": 6.067554340148137,
            "bin_start": 4.578813396839493,
            "count": 1
           },
           {
            "bin_end": 7.55629528345678,
            "bin_start": 6.067554340148137,
            "count": 1
           },
           {
            "bin_end": 9.045036226765426,
            "bin_start": 7.55629528345678,
            "count": 1
           },
           {
            "bin_end": 10.53377717007407,
            "bin_start": 9.045036226765426,
            "count": 1
           },
           {
            "bin_end": 12.022518113382713,
            "bin_start": 10.53377717007407,
            "count": 1
           },
           {
            "bin_end": 13.511259056691356,
            "bin_start": 12.022518113382713,
            "count": 1
           },
           {
            "bin_end": 15,
            "bin_start": 13.511259056691356,
            "count": 3
           }
          ],
          "max": 15,
          "min": 0.11259056691356031,
          "nan_count": 0,
          "unique_count": 27
         }
        },
        {
         "dtype": "float64",
         "name": "North Dakota",
         "stats": {
          "histogram": [
           {
            "bin_end": 0.3,
            "bin_start": 0,
            "count": 9
           },
           {
            "bin_end": 0.6,
            "bin_start": 0.3,
            "count": 2
           },
           {
            "bin_end": 0.8999999999999999,
            "bin_start": 0.6,
            "count": 8
           },
           {
            "bin_end": 1.2,
            "bin_start": 0.8999999999999999,
            "count": 0
           },
           {
            "bin_end": 1.5,
            "bin_start": 1.2,
            "count": 1
           },
           {
            "bin_end": 1.7999999999999998,
            "bin_start": 1.5,
            "count": 1
           },
           {
            "bin_end": 2.1,
            "bin_start": 1.7999999999999998,
            "count": 0
           },
           {
            "bin_end": 2.4,
            "bin_start": 2.1,
            "count": 0
           },
           {
            "bin_end": 2.6999999999999997,
            "bin_start": 2.4,
            "count": 3
           },
           {
            "bin_end": 3,
            "bin_start": 2.6999999999999997,
            "count": 3
           }
          ],
          "max": 3,
          "min": 0,
          "nan_count": 0,
          "unique_count": 26
         }
        },
        {
         "dtype": "float64",
         "name": "Ohio",
         "stats": {
          "histogram": [
           {
            "bin_end": 1.902491196264101,
            "bin_start": 0.11387910696011214,
            "count": 9
           },
           {
            "bin_end": 3.6911032855680896,
            "bin_start": 1.902491196264101,
            "count": 4
           },
           {
            "bin_end": 5.479715374872078,
            "bin_start": 3.6911032855680896,
            "count": 4
           },
           {
            "bin_end": 7.268327464176067,
            "bin_start": 5.479715374872078,
            "count": 2
           },
           {
            "bin_end": 9.056939553480056,
            "bin_start": 7.268327464176067,
            "count": 1
           },
           {
            "bin_end": 10.845551642784045,
            "bin_start": 9.056939553480056,
            "count": 1
           },
           {
            "bin_end": 12.634163732088034,
            "bin_start": 10.845551642784045,
            "count": 0
           },
           {
            "bin_end": 14.422775821392023,
            "bin_start": 12.634163732088034,
            "count": 0
           },
           {
            "bin_end": 16.21138791069601,
            "bin_start": 14.422775821392023,
            "count": 3
           },
           {
            "bin_end": 18,
            "bin_start": 16.21138791069601,
            "count": 3
           }
          ],
          "max": 18,
          "min": 0.11387910696011214,
          "nan_count": 0,
          "unique_count": 27
         }
        },
        {
         "dtype": "float64",
         "name": "Oklahoma",
         "stats": {
          "histogram": [
           {
            "bin_end": 0.7817339748506029,
            "bin_start": 0.09081552761178117,
            "count": 10
           },
           {
            "bin_end": 1.4726524220894248,
            "bin_start": 0.7817339748506029,
            "count": 2
           },
           {
            "bin_end": 2.1635708693282463,
            "bin_start": 1.4726524220894248,
            "count": 5
           },
           {
            "bin_end": 2.854489316567068,
            "bin_start": 2.1635708693282463,
            "count": 2
           },
           {
            "bin_end": 3.54540776380589,
            "bin_start": 2.854489316567068,
            "count": 1
           },
           {
            "bin_end": 4.2363262110447115,
            "bin_start": 3.54540776380589,
            "count": 1
           },
           {
            "bin_end": 4.927244658283533,
            "bin_start": 4.2363262110447115,
            "count": 0
           },
           {
            "bin_end": 5.618163105522355,
            "bin_start": 4.927244658283533,
            "count": 2
           },
           {
            "bin_end": 6.309081552761177,
            "bin_start": 5.618163105522355,
            "count": 2
           },
           {
            "bin_end": 6.999999999999999,
            "bin_start": 6.309081552761177,
            "count": 2
           }
          ],
          "max": 6.999999999999999,
          "min": 0.09081552761178117,
          "nan_count": 0,
          "unique_count": 27
         }
        },
        {
         "dtype": "float64",
         "name": "Oregon",
         "stats": {
          "histogram": [
           {
            "bin_end": 0.8116195539566708,
            "bin_start": 0.12402172661852304,
            "count": 10
           },
           {
            "bin_end": 1.4992173812948186,
            "bin_start": 0.8116195539566708,
            "count": 3
           },
           {
            "bin_end": 2.1868152086329666,
            "bin_start": 1.4992173812948186,
            "count": 4
           },
           {
            "bin_end": 2.874413035971114,
            "bin_start": 2.1868152086329666,
            "count": 2
           },
           {
            "bin_end": 3.5620108633092618,
            "bin_start": 2.874413035971114,
            "count": 1
           },
           {
            "bin_end": 4.24960869064741,
            "bin_start": 3.5620108633092618,
            "count": 1
           },
           {
            "bin_end": 4.937206517985557,
            "bin_start": 4.24960869064741,
            "count": 0
           },
           {
            "bin_end": 5.624804345323705,
            "bin_start": 4.937206517985557,
            "count": 0
           },
           {
            "bin_end": 6.312402172661852,
            "bin_start": 5.624804345323705,
            "count": 3
           },
           {
            "bin_end": 7,
            "bin_start": 6.312402172661852,
            "count": 3
           }
          ],
          "max": 7,
          "min": 0.12402172661852304,
          "nan_count": 0,
          "unique_count": 27
         }
        },
        {
         "dtype": "float64",
         "name": "Pennsylvania",
         "stats": {
          "histogram": [
           {
            "bin_end": 2.1170581520195153,
            "bin_start": 0.13006461335501687,
            "count": 9
           },
           {
            "bin_end": 4.104051690684013,
            "bin_start": 2.1170581520195153,
            "count": 5
           },
           {
            "bin_end": 6.091045229348512,
            "bin_start": 4.104051690684013,
            "count": 3
           },
           {
            "bin_end": 8.07803876801301,
            "bin_start": 6.091045229348512,
            "count": 2
           },
           {
            "bin_end": 10.065032306677509,
            "bin_start": 8.07803876801301,
            "count": 1
           },
           {
            "bin_end": 12.052025845342008,
            "bin_start": 10.065032306677509,
            "count": 1
           },
           {
            "bin_end": 14.039019384006506,
            "bin_start": 12.052025845342008,
            "count": 0
           },
           {
            "bin_end": 16.026012922671004,
            "bin_start": 14.039019384006506,
            "count": 0
           },
           {
            "bin_end": 18.013006461335504,
            "bin_start": 16.026012922671004,
            "count": 3
           },
           {
            "bin_end": 20,
            "bin_start": 18.013006461335504,
            "count": 3
           }
          ],
          "max": 20,
          "min": 0.13006461335501687,
          "nan_count": 0,
          "unique_count": 27
         }
        },
        {
         "dtype": "float64",
         "name": "Rhode Island",
         "stats": {
          "histogram": [
           {
            "bin_end": 0.49532291539189655,
            "bin_start": 0.10591435043544065,
            "count": 10
           },
           {
            "bin_end": 0.8847314803483525,
            "bin_start": 0.49532291539189655,
            "count": 5
           },
           {
            "bin_end": 1.2741400453048086,
            "bin_start": 0.8847314803483525,
            "count": 2
           },
           {
            "bin_end": 1.6635486102612644,
            "bin_start": 1.2741400453048086,
            "count": 2
           },
           {
            "bin_end": 2.05295717521772,
            "bin_start": 1.6635486102612644,
            "count": 1
           },
           {
            "bin_end": 2.4423657401741763,
            "bin_start": 2.05295717521772,
            "count": 1
           },
           {
            "bin_end": 2.831774305130632,
            "bin_start": 2.4423657401741763,
            "count": 0
           },
           {
            "bin_end": 3.221182870087088,
            "bin_start": 2.831774305130632,
            "count": 1
           },
           {
            "bin_end": 3.6105914350435437,
            "bin_start": 3.221182870087088,
            "count": 2
           },
           {
            "bin_end": 4,
            "bin_start": 3.6105914350435437,
            "count": 3
           }
          ],
          "max": 4,
          "min": 0.10591435043544065,
          "nan_count": 0,
          "unique_count": 27
         }
        },
        {
         "dtype": "float64",
         "name": "South Carolina",
         "stats": {
          "histogram": [
           {
            "bin_end": 0.959152705274281,
            "bin_start": 0.06572522808253439,
            "count": 9
           },
           {
            "bin_end": 1.8525801824660275,
            "bin_start": 0.959152705274281,
            "count": 3
           },
           {
            "bin_end": 2.746007659657774,
            "bin_start": 1.8525801824660275,
            "count": 6
           },
           {
            "bin_end": 3.6394351368495204,
            "bin_start": 2.746007659657774,
            "count": 1
           },
           {
            "bin_end": 4.532862614041267,
            "bin_start": 3.6394351368495204,
            "count": 1
           },
           {
            "bin_end": 5.426290091233014,
            "bin_start": 4.532862614041267,
            "count": 1
           },
           {
            "bin_end": 6.31971756842476,
            "bin_start": 5.426290091233014,
            "count": 2
           },
           {
            "bin_end": 7.213145045616507,
            "bin_start": 6.31971756842476,
            "count": 0
           },
           {
            "bin_end": 8.106572522808253,
            "bin_start": 7.213145045616507,
            "count": 2
           },
           {
            "bin_end": 9,
            "bin_start": 8.106572522808253,
            "count": 2
           }
          ],
          "max": 9,
          "min": 0.06572522808253439,
          "nan_count": 0,
          "unique_count": 27
         }
        },
        {
         "dtype": "float64",
         "name": "South Dakota",
         "stats": {
          "histogram": [
           {
            "bin_end": 0.3,
            "bin_start": 0,
            "count": 9
           },
           {
            "bin_end": 0.6,
            "bin_start": 0.3,
            "count": 3
           },
           {
            "bin_end": 0.8999999999999999,
            "bin_start": 0.6,
            "count": 5
           },
           {
            "bin_end": 1.2,
            "bin_start": 0.8999999999999999,
            "count": 2
           },
           {
            "bin_end": 1.5,
            "bin_start": 1.2,
            "count": 1
           },
           {
            "bin_end": 1.7999999999999998,
            "bin_start": 1.5,
            "count": 1
           },
           {
            "bin_end": 2.1,
            "bin_start": 1.7999999999999998,
            "count": 0
           },
           {
            "bin_end": 2.4,
            "bin_start": 2.1,
            "count": 0
           },
           {
            "bin_end": 2.6999999999999997,
            "bin_start": 2.4,
            "count": 3
           },
           {
            "bin_end": 3,
            "bin_start": 2.6999999999999997,
            "count": 3
           }
          ],
          "max": 3,
          "min": 0,
          "nan_count": 0,
          "unique_count": 27
         }
        },
        {
         "dtype": "float64",
         "name": "Tennessee",
         "stats": {
          "histogram": [
           {
            "bin_end": 1.1533061186295954,
            "bin_start": 0.059229020699550446,
            "count": 9
           },
           {
            "bin_end": 2.24738321655964,
            "bin_start": 1.1533061186295954,
            "count": 3
           },
           {
            "bin_end": 3.341460314489685,
            "bin_start": 2.24738321655964,
            "count": 5
           },
           {
            "bin_end": 4.43553741241973,
            "bin_start": 3.341460314489685,
            "count": 2
           },
           {
            "bin_end": 5.529614510349775,
            "bin_start": 4.43553741241973,
            "count": 1
           },
           {
            "bin_end": 6.62369160827982,
            "bin_start": 5.529614510349775,
            "count": 1
           },
           {
            "bin_end": 7.717768706209865,
            "bin_start": 6.62369160827982,
            "count": 0
           },
           {
            "bin_end": 8.81184580413991,
            "bin_start": 7.717768706209865,
            "count": 2
           },
           {
            "bin_end": 9.905922902069955,
            "bin_start": 8.81184580413991,
            "count": 2
           },
           {
            "bin_end": 11,
            "bin_start": 9.905922902069955,
            "count": 2
           }
          ],
          "max": 11,
          "min": 0.059229020699550446,
          "nan_count": 0,
          "unique_count": 27
         }
        },
        {
         "dtype": "float64",
         "name": "Texas",
         "stats": {
          "histogram": [
           {
            "bin_end": 3.9213480810246395,
            "bin_start": 0.13483120113848915,
            "count": 9
           },
           {
            "bin_end": 7.70786496091079,
            "bin_start": 3.9213480810246395,
            "count": 3
           },
           {
            "bin_end": 11.49438184079694,
            "bin_start": 7.70786496091079,
            "count": 5
           },
           {
            "bin_end": 15.28089872068309,
            "bin_start": 11.49438184079694,
            "count": 2
           },
           {
            "bin_end": 19.06741560056924,
            "bin_start": 15.28089872068309,
            "count": 2
           },
           {
            "bin_end": 22.85393248045539,
            "bin_start": 19.06741560056924,
            "count": 1
           },
           {
            "bin_end": 26.64044936034154,
            "bin_start": 22.85393248045539,
            "count": 0
           },
           {
            "bin_end": 30.426966240227692,
            "bin_start": 26.64044936034154,
            "count": 1
           },
           {
            "bin_end": 34.21348312011384,
            "bin_start": 30.426966240227692,
            "count": 2
           },
           {
            "bin_end": 37.99999999999999,
            "bin_start": 34.21348312011384,
            "count": 2
           }
          ],
          "max": 37.99999999999999,
          "min": 0.13483120113848915,
          "nan_count": 0,
          "unique_count": 27
         }
        },
        {
         "dtype": "float64",
         "name": "Utah",
         "stats": {
          "histogram": [
           {
            "bin_end": 0.6507652106197543,
            "bin_start": 0.05640578957750478,
            "count": 11
           },
           {
            "bin_end": 1.245124631662004,
            "bin_start": 0.6507652106197543,
            "count": 1
           },
           {
            "bin_end": 1.8394840527042535,
            "bin_start": 1.245124631662004,
            "count": 6
           },
           {
            "bin_end": 2.4338434737465033,
            "bin_start": 1.8394840527042535,
            "count": 1
           },
           {
            "bin_end": 3.028202894788753,
            "bin_start": 2.4338434737465033,
            "count": 2
           },
           {
            "bin_end": 3.6225623158310025,
            "bin_start": 3.028202894788753,
            "count": 0
           },
           {
            "bin_end": 4.2169217368732514,
            "bin_start": 3.6225623158310025,
            "count": 0
           },
           {
            "bin_end": 4.811281157915501,
            "bin_start": 4.2169217368732514,
            "count": 0
           },
           {
            "bin_end": 5.405640578957751,
            "bin_start": 4.811281157915501,
            "count": 1
           },
           {
            "bin_end": 6,
            "bin_start": 5.405640578957751,
            "count": 5
           }
          ],
          "max": 6,
          "min": 0.05640578957750478,
          "nan_count": 0,
          "unique_count": 27
         }
        },
        {
         "dtype": "float64",
         "name": "Vermont",
         "stats": {
          "histogram": [
           {
            "bin_end": 0.3,
            "bin_start": 0,
            "count": 9
           },
           {
            "bin_end": 0.6,
            "bin_start": 0.3,
            "count": 2
           },
           {
            "bin_end": 0.8999999999999999,
            "bin_start": 0.6,
            "count": 6
           },
           {
            "bin_end": 1.2,
            "bin_start": 0.8999999999999999,
            "count": 2
           },
           {
            "bin_end": 1.5,
            "bin_start": 1.2,
            "count": 1
           },
           {
            "bin_end": 1.7999999999999998,
            "bin_start": 1.5,
            "count": 1
           },
           {
            "bin_end": 2.1,
            "bin_start": 1.7999999999999998,
            "count": 0
           },
           {
            "bin_end": 2.4,
            "bin_start": 2.1,
            "count": 0
           },
           {
            "bin_end": 2.6999999999999997,
            "bin_start": 2.4,
            "count": 1
           },
           {
            "bin_end": 3,
            "bin_start": 2.6999999999999997,
            "count": 5
           }
          ],
          "max": 3,
          "min": 0,
          "nan_count": 0,
          "unique_count": 26
         }
        },
        {
         "dtype": "float64",
         "name": "Virginia",
         "stats": {
          "histogram": [
           {
            "bin_end": 1.4452902159003365,
            "bin_start": 0.16143357322259594,
            "count": 9
           },
           {
            "bin_end": 2.7291468585780767,
            "bin_start": 1.4452902159003365,
            "count": 3
           },
           {
            "bin_end": 4.013003501255818,
            "bin_start": 2.7291468585780767,
            "count": 5
           },
           {
            "bin_end": 5.296860143933558,
            "bin_start": 4.013003501255818,
            "count": 2
           },
           {
            "bin_end": 6.5807167866112986,
            "bin_start": 5.296860143933558,
            "count": 1
           },
           {
            "bin_end": 7.864573429289039,
            "bin_start": 6.5807167866112986,
            "count": 1
           },
           {
            "bin_end": 9.148430071966779,
            "bin_start": 7.864573429289039,
            "count": 1
           },
           {
            "bin_end": 10.432286714644519,
            "bin_start": 9.148430071966779,
            "count": 1
           },
           {
            "bin_end": 11.71614335732226,
            "bin_start": 10.432286714644519,
            "count": 1
           },
           {
            "bin_end": 13,
            "bin_start": 11.71614335732226,
            "count": 3
           }
          ],
          "max": 13,
          "min": 0.16143357322259594,
          "nan_count": 0,
          "unique_count": 27
         }
        },
        {
         "dtype": "float64",
         "name": "Washington",
         "stats": {
          "histogram": [
           {
            "bin_end": 1.357528431596394,
            "bin_start": 0.1750315906626598,
            "count": 10
           },
           {
            "bin_end": 2.540025272530128,
            "bin_start": 1.357528431596394,
            "count": 2
           },
           {
            "bin_end": 3.7225221134638624,
            "bin_start": 2.540025272530128,
            "count": 5
           },
           {
            "bin_end": 4.905018954397597,
            "bin_start": 3.7225221134638624,
            "count": 2
           },
           {
            "bin_end": 6.08751579533133,
            "bin_start": 4.905018954397597,
            "count": 2
           },
           {
            "bin_end": 7.270012636265065,
            "bin_start": 6.08751579533133,
            "count": 0
           },
           {
            "bin_end": 8.452509477198799,
            "bin_start": 7.270012636265065,
            "count": 0
           },
           {
            "bin_end": 9.635006318132532,
            "bin_start": 8.452509477198799,
            "count": 1
           },
           {
            "bin_end": 10.817503159066266,
            "bin_start": 9.635006318132532,
            "count": 2
           },
           {
            "bin_end": 12,
            "bin_start": 10.817503159066266,
            "count": 3
           }
          ],
          "max": 12,
          "min": 0.1750315906626598,
          "nan_count": 0,
          "unique_count": 27
         }
        },
        {
         "dtype": "float64",
         "name": "West Virginia",
         "stats": {
          "histogram": [
           {
            "bin_end": 0.5110259250054038,
            "bin_start": 0.012251027783782033,
            "count": 10
           },
           {
            "bin_end": 1.0098008222270256,
            "bin_start": 0.5110259250054038,
            "count": 5
           },
           {
            "bin_end": 1.5085757194486473,
            "bin_start": 1.0098008222270256,
            "count": 2
           },
           {
            "bin_end": 2.0073506166702693,
            "bin_start": 1.5085757194486473,
            "count": 1
           },
           {
            "bin_end": 2.5061255138918908,
            "bin_start": 2.0073506166702693,
            "count": 2
           },
           {
            "bin_end": 3.0049004111135127,
            "bin_start": 2.5061255138918908,
            "count": 1
           },
           {
            "bin_end": 3.503675308335134,
            "bin_start": 3.0049004111135127,
            "count": 0
           },
           {
            "bin_end": 4.002450205556756,
            "bin_start": 3.503675308335134,
            "count": 0
           },
           {
            "bin_end": 4.5012251027783785,
            "bin_start": 4.002450205556756,
            "count": 2
           },
           {
            "bin_end": 5,
            "bin_start": 4.5012251027783785,
            "count": 4
           }
          ],
          "max": 5,
          "min": 0.012251027783782033,
          "nan_count": 0,
          "unique_count": 27
         }
        },
        {
         "dtype": "float64",
         "name": "Wisconsin",
         "stats": {
          "histogram": [
           {
            "bin_end": 1.112120452637819,
            "bin_start": 0.12457828070868783,
            "count": 11
           },
           {
            "bin_end": 2.09966262456695,
            "bin_start": 1.112120452637819,
            "count": 2
           },
           {
            "bin_end": 3.0872047964960814,
            "bin_start": 2.09966262456695,
            "count": 4
           },
           {
            "bin_end": 4.074746968425212,
            "bin_start": 3.0872047964960814,
            "count": 2
           },
           {
            "bin_end": 5.062289140354344,
            "bin_start": 4.074746968425212,
            "count": 1
           },
           {
            "bin_end": 6.049831312283475,
            "bin_start": 5.062289140354344,
            "count": 1
           },
           {
            "bin_end": 7.0373734842126066,
            "bin_start": 6.049831312283475,
            "count": 0
           },
           {
            "bin_end": 8.024915656141737,
            "bin_start": 7.0373734842126066,
            "count": 0
           },
           {
            "bin_end": 9.012457828070868,
            "bin_start": 8.024915656141737,
            "count": 3
           },
           {
            "bin_end": 10,
            "bin_start": 9.012457828070868,
            "count": 3
           }
          ],
          "max": 10,
          "min": 0.12457828070868783,
          "nan_count": 0,
          "unique_count": 27
         }
        },
        {
         "dtype": "float64",
         "name": "Wyoming",
         "stats": {
          "histogram": [
           {
            "bin_end": 0.3,
            "bin_start": 0,
            "count": 9
           },
           {
            "bin_end": 0.6,
            "bin_start": 0.3,
            "count": 3
           },
           {
            "bin_end": 0.8999999999999999,
            "bin_start": 0.6,
            "count": 5
           },
           {
            "bin_end": 1.2,
            "bin_start": 0.8999999999999999,
            "count": 2
           },
           {
            "bin_end": 1.5,
            "bin_start": 1.2,
            "count": 1
           },
           {
            "bin_end": 1.7999999999999998,
            "bin_start": 1.5,
            "count": 1
           },
           {
            "bin_end": 2.1,
            "bin_start": 1.7999999999999998,
            "count": 0
           },
           {
            "bin_end": 2.4,
            "bin_start": 2.1,
            "count": 0
           },
           {
            "bin_end": 2.6999999999999997,
            "bin_start": 2.4,
            "count": 2
           },
           {
            "bin_end": 3,
            "bin_start": 2.6999999999999997,
            "count": 4
           }
          ],
          "max": 3,
          "min": 0,
          "nan_count": 0,
          "unique_count": 25
         }
        },
        {
         "dtype": "float64",
         "name": "Puerto Rico",
         "stats": {
          "histogram": [
           {
            "bin_end": -0.4,
            "bin_start": -0.5,
            "count": 0
           },
           {
            "bin_end": -0.3,
            "bin_start": -0.4,
            "count": 0
           },
           {
            "bin_end": -0.19999999999999996,
            "bin_start": -0.3,
            "count": 0
           },
           {
            "bin_end": -0.09999999999999998,
            "bin_start": -0.19999999999999996,
            "count": 0
           },
           {
            "bin_end": 0,
            "bin_start": -0.09999999999999998,
            "count": 0
           },
           {
            "bin_end": 0.10000000000000009,
            "bin_start": 0,
            "count": 27
           },
           {
            "bin_end": 0.20000000000000007,
            "bin_start": 0.10000000000000009,
            "count": 0
           },
           {
            "bin_end": 0.30000000000000004,
            "bin_start": 0.20000000000000007,
            "count": 0
           },
           {
            "bin_end": 0.4,
            "bin_start": 0.30000000000000004,
            "count": 0
           },
           {
            "bin_end": 0.5,
            "bin_start": 0.4,
            "count": 0
           }
          ],
          "max": 0,
          "min": 0,
          "nan_count": 0,
          "unique_count": 1
         }
        },
        {
         "dtype": "int64",
         "name": "_deepnote_index_column"
        }
       ],
       "row_count": 27,
       "rows_bottom": [
        {
         "Alabama": 0.7721671272702324,
         "Alaska": 0.25299211667988997,
         "Arizona": 0.9560937923968083,
         "Arkansas": 0.44431212996244546,
         "California": 4.525473683320938,
         "Colorado": 0.7352046670640708,
         "Connecticut": 0.5233470536451211,
         "Delaware": 0.23631301556307555,
         "District of Columbia": 0.09264896566114224,
         "Florida": 2.981764799386612,
         "Georgia": 1.2350041289465863,
         "Hawaii": 0.4067473016217389,
         "Idaho": 0.4130606644160826,
         "Illinois": 1.6626342589311927,
         "Indiana": 0.9141433437062356,
         "Iowa": 0.6909081155507076,
         "Kansas": 0.5535035565096199,
         "Kentucky": 0.6585724373734597,
         "Label": "        Associate's degree",
         "Louisiana": 0.4831684266085191,
         "Maine": 0.3808745144933582,
         "Maryland": 0.6790765918579469,
         "Massachusetts": 0.7936230224203471,
         "Michigan": 1.451861192330965,
         "Minnesota": 1.1279367012735366,
         "Mississippi": 0.6131940954172663,
         "Missouri": 0.7732804509283022,
         "Montana": 0.2631889006444167,
         "Nebraska": 0.5434572878793333,
         "Nevada": 0.5385287026286831,
         "New Hampshire": 0.3825586447582962,
         "New Jersey": 0.9399066146094166,
         "New Mexico": 0.45531678109752455,
         "New York": 2.5876923399969445,
         "North Carolina": 1.496876828997558,
         "North Dakota": 0.41125020923451006,
         "Ohio": 1.4879126218020469,
         "Oklahoma": 0.5506440041752186,
         "Oregon": 0.6280866130078895,
         "Pennsylvania": 1.6481109816200503,
         "Puerto Rico": 0,
         "Rhode Island": 0.32720860941211144,
         "South Carolina": 0.840575376103995,
         "South Dakota": 0.3396725406110249,
         "Tennessee": 0.8097863762725213,
         "Texas": 2.9633169738913985,
         "Utah": 0.5782830400763922,
         "Vermont": 0.24494240081811894,
         "Virginia": 1.0227174505345835,
         "Washington": 1.2300219909836043,
         "West Virginia": 0.3732338981714285,
         "Wisconsin": 1.0421791806182255,
         "Wyoming": 0.3357142200104863,
         "_deepnote_index_column": 18
        },
        {
         "Alabama": 1.3702261066813601,
         "Alaska": 0.5028894253222821,
         "Arizona": 2.0168374574742374,
         "Arkansas": 0.8709309009736448,
         "California": 11.996249830978298,
         "Colorado": 2.309098277417941,
         "Connecticut": 1.5105960204224207,
         "Delaware": 0.5542390971595939,
         "District of Columbia": 0.7757317872898533,
         "Florida": 5.3713652556873965,
         "Georgia": 3.007505437006889,
         "Hawaii": 0.838846785367369,
         "Idaho": 0.7113384218363831,
         "Illinois": 4.234754351765332,
         "Indiana": 1.7969638973187134,
         "Iowa": 1.1255094650983677,
         "Kansas": 1.230498139511006,
         "Kentucky": 1.1289008885518108,
         "Label": "        Bachelor's degree",
         "Louisiana": 1.2130790455082505,
         "Maine": 0.7936186582867525,
         "Maryland": 2.1534630816732574,
         "Massachusetts": 2.6854141586872715,
         "Michigan": 2.7468719189935977,
         "Minnesota": 2.356139039377942,
         "Mississippi": 0.764617554999882,
         "Missouri": 1.7501190241183509,
         "Montana": 0.642809223814562,
         "Nebraska": 1.0590302026710825,
         "Nevada": 0.9693408689294921,
         "New Hampshire": 0.8652616530323346,
         "New Jersey": 3.503111927949654,
         "New Mexico": 0.7492423650168083,
         "New York": 6.188706833695005,
         "North Carolina": 2.9170521954180555,
         "North Dakota": 0.6132570985560617,
         "Ohio": 3.080997748851874,
         "Oklahoma": 1.1396691337464726,
         "Oregon": 1.4143847139526735,
         "Pennsylvania": 3.7498987023813273,
         "Puerto Rico": 0,
         "Rhode Island": 0.7979140807044973,
         "South Carolina": 1.563777171630132,
         "South Dakota": 0.5768418442777252,
         "Tennessee": 1.8969477033207396,
         "Texas": 7.4088470678087015,
         "Utah": 1.2673816410362615,
         "Vermont": 0.6396907991698499,
         "Virginia": 2.7719924588336244,
         "Washington": 2.6245398670927442,
         "West Virginia": 0.6130160833464176,
         "Wisconsin": 1.9706595771295352,
         "Wyoming": 0.5227640668549299,
         "_deepnote_index_column": 19
        },
        {
         "Alabama": 0.7975824208808855,
         "Alaska": 0.3079052651125104,
         "Arizona": 1.131430932789149,
         "Arkansas": 0.43720472484974826,
         "California": 6.6314228246906906,
         "Colorado": 1.302884871389493,
         "Connecticut": 1.1040468429921426,
         "Delaware": 0.3646814988871698,
         "District of Columbia": 0.885958179325146,
         "Florida": 3.0470083312294878,
         "Georgia": 1.7623887192510206,
         "Hawaii": 0.43318820356299337,
         "Idaho": 0.35132501188963305,
         "Illinois": 2.504959267326846,
         "Indiana": 0.9136263055514713,
         "Iowa": 0.4910585761927327,
         "Kansas": 0.6477524874652287,
         "Kentucky": 0.7215271141635551,
         "Label": "        Graduate or professional degree",
         "Louisiana": 0.6297446534764386,
         "Maine": 0.4478433771795656,
         "Maryland": 1.7331473056838427,
         "Massachusetts": 1.949162104187462,
         "Michigan": 1.6193663864052774,
         "Minnesota": 1.1242133599643636,
         "Mississippi": 0.44982845298739316,
         "Missouri": 1.0231472342321537,
         "Montana": 0.2770174088679427,
         "Nebraska": 0.5047625904460203,
         "Nevada": 0.509175484816746,
         "New Hampshire": 0.5131978153922343,
         "New Jersey": 2.006423203400901,
         "New Mexico": 0.5500696045319481,
         "New York": 4.416564753892416,
         "North Carolina": 1.5633320240880435,
         "North Dakota": 0.22438749350271786,
         "Ohio": 1.7344685813982794,
         "Oklahoma": 0.561670908318751,
         "Oregon": 0.8478972261119144,
         "Pennsylvania": 2.2507347199104277,
         "Puerto Rico": 0,
         "Rhode Island": 0.49931193634349735,
         "South Carolina": 0.9034080004809445,
         "South Dakota": 0.2426193077989697,
         "Tennessee": 1.0429432819061208,
         "Texas": 3.655815128381479,
         "Utah": 0.5805039618151396,
         "Vermont": 0.4199777423526935,
         "Virginia": 1.9893667883859356,
         "Washington": 1.4621158857356258,
         "West Virginia": 0.3743815519235874,
         "Wisconsin": 0.9350837818680193,
         "Wyoming": 0.2771356691472041,
         "_deepnote_index_column": 20
        },
        {
         "Alabama": 7.896736986430597,
         "Alaska": 2.7909035151392385,
         "Arizona": 9.88950289578108,
         "Arkansas": 5.323959085896802,
         "California": 49.02663782029613,
         "Colorado": 8.398832291521861,
         "Connecticut": 6.430833823889834,
         "Delaware": 2.7507136178979503,
         "District of Columbia": 2.795107010850125,
         "Florida": 25.995436992154993,
         "Georgia": 14.2587037943443,
         "Hawaii": 3.747136933143333,
         "Idaho": 3.691290551445078,
         "Illinois": 18.256837891047088,
         "Indiana": 9.884731023655199,
         "Iowa": 5.585533298677147,
         "Kansas": 5.569759305772364,
         "Kentucky": 7.017132580767584,
         "Label": "        High school degree or higher",
         "Louisiana": 6.898835008194327,
         "Maine": 3.716543841597375,
         "Maryland": 9.217094776578028,
         "Massachusetts": 10.179620825153563,
         "Michigan": 14.621879852915663,
         "Minnesota": 9.375984352345464,
         "Mississippi": 5.13486885011639,
         "Missouri": 9.075013794755542,
         "Montana": 2.8015461190728095,
         "Nebraska": 4.67181324021743,
         "Nevada": 5.402560309706941,
         "New Hampshire": 3.724739421518106,
         "New Jersey": 12.904170252490628,
         "New Mexico": 4.389943705404978,
         "New York": 26.037276832746475,
         "North Carolina": 13.51700220605244,
         "North Dakota": 2.806265582464827,
         "Ohio": 16.326384381768776,
         "Oklahoma": 6.261569936477825,
         "Oregon": 6.47635320175422,
         "Pennsylvania": 18.23062137055092,
         "Puerto Rico": 0,
         "Rhode Island": 3.6250839787312157,
         "South Carolina": 8.010213904691291,
         "South Dakota": 2.764593797922846,
         "Tennessee": 9.795129035905473,
         "Texas": 33.76128664278885,
         "Utah": 5.611352752185898,
         "Vermont": 2.8030619303997355,
         "Virginia": 11.88578014117765,
         "Washington": 11.139450937181957,
         "West Virginia": 4.36363303524846,
         "Wisconsin": 9.306320486719807,
         "Wyoming": 2.8242022573197314,
         "_deepnote_index_column": 21
        },
        {
         "Alabama": 2.167808527562246,
         "Alaska": 0.8107946904347925,
         "Arizona": 3.1482683902633863,
         "Arkansas": 1.308135625823393,
         "California": 18.627672655668988,
         "Colorado": 3.611983148807434,
         "Connecticut": 2.6146428634145633,
         "Delaware": 0.9189205960467637,
         "District of Columbia": 1.6616899666149993,
         "Florida": 8.418373586916884,
         "Georgia": 4.76989415625791,
         "Hawaii": 1.2720349889303624,
         "Idaho": 1.0626634337260161,
         "Illinois": 6.7397136190921785,
         "Indiana": 2.7105902028701845,
         "Iowa": 1.6165680412911005,
         "Kansas": 1.8782506269762347,
         "Kentucky": 1.8504280027153661,
         "Label": "        Bachelor's degree or higher",
         "Louisiana": 1.8428236989846891,
         "Maine": 1.2414620354663182,
         "Maryland": 3.8866103873571,
         "Massachusetts": 4.634576262874734,
         "Michigan": 4.366238305398875,
         "Minnesota": 3.480352399342306,
         "Mississippi": 1.2144460079872752,
         "Missouri": 2.7732662583505046,
         "Montana": 0.9198266326825046,
         "Nebraska": 1.563792793117103,
         "Nevada": 1.478516353746238,
         "New Hampshire": 1.378459468424569,
         "New Jersey": 5.509535131350555,
         "New Mexico": 1.2993119695487563,
         "New York": 10.605271587587422,
         "North Carolina": 4.480384219506099,
         "North Dakota": 0.8376445920587795,
         "Ohio": 4.815466330250153,
         "Oklahoma": 1.7013400420652236,
         "Oregon": 2.2622819400645877,
         "Pennsylvania": 6.000633422291755,
         "Puerto Rico": 0,
         "Rhode Island": 1.2972260170479946,
         "South Carolina": 2.4671851721110767,
         "South Dakota": 0.819461152076695,
         "Tennessee": 2.9398909852268607,
         "Texas": 11.064662196190179,
         "Utah": 1.847885602851401,
         "Vermont": 1.0596685415225435,
         "Virginia": 4.76135924721956,
         "Washington": 4.08665575282837,
         "West Virginia": 0.9873976352700049,
         "Wisconsin": 2.9057433589975545,
         "Wyoming": 0.799899736002134,
         "_deepnote_index_column": 22
        },
        {
         "Alabama": 8.752764693396681,
         "Alaska": 2.9230349375692817,
         "Arizona": 10.72915775340177,
         "Arkansas": 5.80237226644717,
         "California": 53.80838854708945,
         "Colorado": 8.788890040784976,
         "Connecticut": 6.761978931648109,
         "Delaware": 2.910340633609955,
         "District of Columbia": 2.8433569065219984,
         "Florida": 28.376612714709157,
         "Georgia": 15.510216851140429,
         "Hawaii": 3.886078882878796,
         "Idaho": 3.923079921723334,
         "Illinois": 19.460008741162557,
         "Indiana": 10.641506955308138,
         "Iowa": 5.791104940550165,
         "Kansas": 5.796711393189678,
         "Kentucky": 7.729739136012392,
         "Label": "        Total Citizens, 18 years and older, for whom poverty status is determined",
         "Louisiana": 7.74614797370886,
         "Maine": 3.8926332767874525,
         "Maryland": 9.729976527251715,
         "Massachusetts": 10.57656719381032,
         "Michigan": 15.64043042056134,
         "Minnesota": 9.770672962673263,
         "Mississippi": 5.776891390953126,
         "Missouri": 9.681860466316499,
         "Montana": 2.928880927190536,
         "Nebraska": 4.845519997120127,
         "Nevada": 5.917426318650412,
         "New Hampshire": 3.866957573945422,
         "New Jersey": 13.693417804811244,
         "New Mexico": 4.897357130046493,
         "New York": 28.175334501981414,
         "North Carolina": 14.534008293266806,
         "North Dakota": 2.895470843721643,
         "Ohio": 17.449163007382534,
         "Oklahoma": 6.773842554187583,
         "Oregon": 6.871298625895104,
         "Pennsylvania": 19.285745521422037,
         "Puerto Rico": 0,
         "Rhode Island": 3.82216239301297,
         "South Carolina": 8.72889759658776,
         "South Dakota": 2.888915417037806,
         "Tennessee": 10.706859236038818,
         "Texas": 37.00406822755076,
         "Utah": 5.898950872180331,
         "Vermont": 2.867344422053118,
         "Virginia": 12.546726210981458,
         "Washington": 11.765421373683107,
         "West Virginia": 4.855987056155473,
         "Wisconsin": 9.727088020362176,
         "Wyoming": 2.9223046001858104,
         "_deepnote_index_column": 23
        },
        {
         "Alabama": 1.1825263122913616,
         "Alaska": 0.25657646707968285,
         "Arizona": 1.172617710571382,
         "Arkansas": 0.8312389422098357,
         "California": 5.15033001487391,
         "Colorado": 0.7578435091571811,
         "Connecticut": 0.5783080878069414,
         "Delaware": 0.2788074100427757,
         "District of Columbia": 0.34633957314892094,
         "Florida": 3.0364329995231283,
         "Georgia": 1.7392492083382958,
         "Hawaii": 0.3102259783932507,
         "Idaho": 0.40074534355192065,
         "Illinois": 1.9312687581783348,
         "Indiana": 1.1321787754833124,
         "Iowa": 0.6006674934764199,
         "Kansas": 0.583926401831398,
         "Kentucky": 1.1177876063622234,
         "Label": "        Income in the past 12 months below poverty level",
         "Louisiana": 1.2560822227586295,
         "Maine": 0.3932478656247393,
         "Maryland": 0.7531177892761993,
         "Massachusetts": 0.8696521706116753,
         "Michigan": 1.8001984538372677,
         "Minnesota": 0.7803959826398008,
         "Mississippi": 0.9747983704925782,
         "Missouri": 1.112218562257463,
         "Montana": 0.34829157449264214,
         "Nebraska": 0.44714712552647684,
         "Nevada": 0.6228382353219706,
         "New Hampshire": 0.2763295225725672,
         "New Jersey": 1.035669588809312,
         "New Mexico": 0.7548724814754716,
         "New York": 3.129976547390707,
         "North Carolina": 1.6694973274318974,
         "North Dakota": 0.2937863957924041,
         "Ohio": 1.9701975422178961,
         "Oklahoma": 0.89660246972323,
         "Oregon": 0.7238666449096895,
         "Pennsylvania": 2.0210880490623993,
         "Puerto Rico": 0,
         "Rhode Island": 0.3690119106191574,
         "South Carolina": 1.0510140298601793,
         "South Dakota": 0.30837289598618906,
         "Tennessee": 1.2768786138436286,
         "Texas": 3.9182501885243872,
         "Utah": 0.46759398739322355,
         "Vermont": 0.28332781905134297,
         "Virginia": 1.0795016817302092,
         "Washington": 1.0322440139507325,
         "West Virginia": 0.7181707384905467,
         "Wisconsin": 0.9023523823854129,
         "Wyoming": 0.27917774323218014,
         "_deepnote_index_column": 24
        },
        {
         "Alabama": 7.5702383811053195,
         "Alaska": 2.666458470489599,
         "Arizona": 9.556540042830388,
         "Arkansas": 4.971133324237334,
         "California": 48.65805853221554,
         "Colorado": 8.031046531627794,
         "Connecticut": 6.183670843841168,
         "Delaware": 2.631533223567179,
         "District of Columbia": 2.497017333373077,
         "Florida": 25.34017971518603,
         "Georgia": 13.770967642802132,
         "Hawaii": 3.5758529044855454,
         "Idaho": 3.5223345781714137,
         "Illinois": 17.528739982984224,
         "Indiana": 9.509328179824827,
         "Iowa": 5.190437447073744,
         "Kansas": 5.21278499135828,
         "Kentucky": 6.6119515296501685,
         "Label": "        Income in the past 12 months at or above the poverty level",
         "Louisiana": 6.49006575095023,
         "Maine": 3.499385411162713,
         "Maryland": 8.976858737975515,
         "Massachusetts": 9.706915023198643,
         "Michigan": 13.840231966724073,
         "Minnesota": 8.990276980033462,
         "Mississippi": 4.802093020460548,
         "Missouri": 8.569641904059035,
         "Montana": 2.580589352697894,
         "Nebraska": 4.39837287159365,
         "Nevada": 5.294588083328441,
         "New Hampshire": 3.590628051372855,
         "New Jersey": 12.65774821600193,
         "New Mexico": 4.142484648571021,
         "New York": 25.045357954590706,
         "North Carolina": 12.864510965834908,
         "North Dakota": 2.601684447929239,
         "Ohio": 15.47896546516464,
         "Oklahoma": 5.877240084464353,
         "Oregon": 6.147431980985414,
         "Pennsylvania": 17.264657472359637,
         "Puerto Rico": 0,
         "Rhode Island": 3.4531504823938124,
         "South Carolina": 7.677883566727582,
         "South Dakota": 2.580542521051617,
         "Tennessee": 9.429980622195188,
         "Texas": 33.08581803902637,
         "Utah": 5.431356884787108,
         "Vermont": 2.584016603001775,
         "Virginia": 11.467224529251249,
         "Washington": 10.733177359732375,
         "West Virginia": 4.137816317664926,
         "Wisconsin": 8.824735637976763,
         "Wyoming": 2.64312685695363,
         "_deepnote_index_column": 25
        },
        {
         "Alabama": 0.1256196172094928,
         "Alaska": 0.4263520090931087,
         "Arizona": 0.13622297650557455,
         "Arkansas": 0.13200770326762593,
         "California": 0.17729320194713002,
         "Colorado": 0.16693071266501894,
         "Connecticut": 0.2144167111412444,
         "Delaware": 0.2931666432241463,
         "District of Columbia": 0.5227677506855848,
         "Florida": 0.11348050903718665,
         "Georgia": 0.13149319881184468,
         "Hawaii": 0.33432771058198185,
         "Idaho": 0.19175911993326214,
         "Illinois": 0.1546428733336884,
         "Indiana": 0.12864969881623572,
         "Iowa": 0.15882155342310733,
         "Kansas": 0.17905471567887407,
         "Kentucky": 0.12454335587625487,
         "Label": "        Median Household Income for Households with a Citizen, Voting-Age Householder",
         "Louisiana": 0.11865892546339234,
         "Maine": 0.21909026020375058,
         "Maryland": 0.20430302060195216,
         "Massachusetts": 0.19034476049159296,
         "Michigan": 0.1256627469565475,
         "Minnesota": 0.18079371630833113,
         "Mississippi": 0.12239468678369049,
         "Missouri": 0.12376142878831084,
         "Montana": 0.20666658651534098,
         "Nebraska": 0.2319233953706037,
         "Nevada": 0.18406842644554844,
         "New Hampshire": 0.29200861509136017,
         "New Jersey": 0.19817410654232567,
         "New Mexico": 0.1730981604563482,
         "New York": 0.15474276346895877,
         "North Carolina": 0.11259056691356031,
         "North Dakota": 0.3463919160595195,
         "Ohio": 0.11941524881724346,
         "Oklahoma": 0.13425359270888004,
         "Oregon": 0.14926393110627903,
         "Pennsylvania": 0.13006461335501687,
         "Puerto Rico": 0,
         "Rhode Island": 0.3608950072302878,
         "South Carolina": 0.1306735458172858,
         "South Dakota": 0.2765957446808511,
         "Tennessee": 0.12097130759243446,
         "Texas": 0.13483120113848915,
         "Utah": 0.2159270075797154,
         "Vermont": 0.3795650735404698,
         "Virginia": 0.16143357322259594,
         "Washington": 0.1750315906626598,
         "West Virginia": 0.17243673646701482,
         "Wisconsin": 0.1464777714730127,
         "Wyoming": 0.4487871735670987,
         "_deepnote_index_column": 26
        }
       ],
       "rows_top": [
        {
         "Alabama": 9,
         "Alaska": 3,
         "Arizona": 11,
         "Arkansas": 6,
         "California": 55,
         "Colorado": 9,
         "Connecticut": 7,
         "Delaware": 3,
         "District of Columbia": 3,
         "Florida": 29,
         "Georgia": 16,
         "Hawaii": 4,
         "Idaho": 4,
         "Illinois": 20,
         "Indiana": 11.000000000000002,
         "Iowa": 6,
         "Kansas": 6,
         "Kentucky": 8,
         "Label": "Citizens 18 years and over",
         "Louisiana": 8,
         "Maine": 4,
         "Maryland": 10,
         "Massachusetts": 11,
         "Michigan": 16,
         "Minnesota": 10,
         "Mississippi": 6,
         "Missouri": 10.000000000000002,
         "Montana": 3,
         "Nebraska": 5,
         "Nevada": 6,
         "New Hampshire": 4,
         "New Jersey": 14,
         "New Mexico": 5,
         "New York": 29,
         "North Carolina": 15,
         "North Dakota": 3,
         "Ohio": 18,
         "Oklahoma": 6.999999999999999,
         "Oregon": 7,
         "Pennsylvania": 20,
         "Puerto Rico": 0,
         "Rhode Island": 4,
         "South Carolina": 9,
         "South Dakota": 3,
         "Tennessee": 11,
         "Texas": 37.99999999999999,
         "Utah": 6,
         "Vermont": 3,
         "Virginia": 13,
         "Washington": 12,
         "West Virginia": 5,
         "Wisconsin": 10,
         "Wyoming": 3,
         "_deepnote_index_column": 0
        },
        {
         "Alabama": 1.8419249834375675,
         "Alaska": 0.696005446862146,
         "Arizona": 2.394365791437582,
         "Arkansas": 1.2415788567223536,
         "California": 12.619270164289096,
         "Colorado": 1.9735277000902405,
         "Connecticut": 1.3869544038230577,
         "Delaware": 0.5723008695796067,
         "District of Columbia": 0.8124906849886729,
         "Florida": 5.3165792401843905,
         "Georgia": 3.528217238117886,
         "Hawaii": 0.7899175077783311,
         "Idaho": 0.8497165979276955,
         "Illinois": 4.188077600044719,
         "Indiana": 2.357000182389528,
         "Iowa": 1.2523613252287245,
         "Kansas": 1.3115221024571384,
         "Kentucky": 1.6499304232039063,
         "Label": "        18 to 29 years",
         "Louisiana": 1.6768444163664777,
         "Maine": 0.6825291767475922,
         "Maryland": 1.9811991000066944,
         "Massachusetts": 2.3150412323676854,
         "Michigan": 3.312021055571306,
         "Minnesota": 1.9859840733353922,
         "Mississippi": 1.2816945737545313,
         "Missouri": 2.0364220253324614,
         "Montana": 0.5946114263729922,
         "Nebraska": 1.0759494582238383,
         "Nevada": 1.226286641804755,
         "New Hampshire": 0.7612376952294633,
         "New Jersey": 2.6741864433974647,
         "New Mexico": 1.0494057500766998,
         "New York": 6.101720461406012,
         "North Carolina": 3.1550431041843585,
         "North Dakota": 0.7338237496586174,
         "Ohio": 3.620782729237525,
         "Oklahoma": 1.525226091012393,
         "Oregon": 1.3784395314154305,
         "Pennsylvania": 3.8961831668892413,
         "Puerto Rico": 0,
         "Rhode Island": 0.8536335005831683,
         "South Carolina": 1.8038887137586352,
         "South Dakota": 0.6175217403281941,
         "Tennessee": 2.283128638212095,
         "Texas": 8.928221610801957,
         "Utah": 1.623949220545494,
         "Vermont": 0.6112972599031492,
         "Virginia": 2.7161143367761307,
         "Washington": 2.4836844279987096,
         "West Virginia": 0.9173273890032241,
         "Wisconsin": 1.9958290353165546,
         "Wyoming": 0.6212941414550237,
         "_deepnote_index_column": 1
        },
        {
         "Alabama": 2.1107356721560318,
         "Alaska": 0.8109803789170423,
         "Arizona": 2.5410974342643877,
         "Arkansas": 1.4153157243733268,
         "California": 13.729620208234738,
         "Colorado": 2.415318045054321,
         "Connecticut": 1.4924591731011645,
         "Delaware": 0.6362120748285248,
         "District of Columbia": 0.9712352450220579,
         "Florida": 6.26396626366331,
         "Georgia": 3.9557526757697374,
         "Hawaii": 0.977863683206201,
         "Idaho": 0.9962031139143791,
         "Illinois": 4.830132715143294,
         "Indiana": 2.591348830818849,
         "Iowa": 1.4043521187744994,
         "Kansas": 1.432306531010368,
         "Kentucky": 1.8659766200584291,
         "Label": "        30 to 44 years",
         "Louisiana": 2.0285040128522147,
         "Maine": 0.8489297996792644,
         "Maryland": 2.3906552841712876,
         "Massachusetts": 2.490016594189028,
         "Michigan": 3.5394707333482844,
         "Minnesota": 2.4812822725659016,
         "Mississippi": 1.4543527355594008,
         "Missouri": 2.397668288491239,
         "Montana": 0.7003666923150909,
         "Nebraska": 1.2250584974261134,
         "Nevada": 1.4885763367381148,
         "New Hampshire": 0.858377055077718,
         "New Jersey": 3.12711433956821,
         "New Mexico": 1.1867654816705877,
         "New York": 6.77020273220364,
         "North Carolina": 3.463562487483253,
         "North Dakota": 0.7507651375661842,
         "Ohio": 4.162898930104942,
         "Oklahoma": 1.732604443943585,
         "Oregon": 1.7616570594433503,
         "Pennsylvania": 4.529224222826831,
         "Puerto Rico": 0,
         "Rhode Island": 0.8740681170532394,
         "South Carolina": 2.065141003832912,
         "South Dakota": 0.7185924572310123,
         "Tennessee": 2.601607928914258,
         "Texas": 9.996320105669017,
         "Utah": 1.722504731172417,
         "Vermont": 0.6200258669955184,
         "Virginia": 3.1572015842295253,
         "Washington": 3.0466491712477364,
         "West Virginia": 1.1047962773773508,
         "Wisconsin": 2.3071920248145887,
         "Wyoming": 0.736616136064684,
         "_deepnote_index_column": 2
        },
        {
         "Alabama": 2.9994146868574685,
         "Alaska": 0.9934952761975501,
         "Arizona": 3.3690638629022747,
         "Arkansas": 1.9466479378549397,
         "California": 17.28186059089987,
         "Colorado": 2.850507161521225,
         "Connecticut": 2.492850473033899,
         "Delaware": 1.018678172807228,
         "District of Columbia": 0.749687015619411,
         "Florida": 9.415153300232825,
         "Georgia": 5.365884811293094,
         "Hawaii": 1.2384740171690327,
         "Idaho": 1.2654935562087275,
         "Illinois": 6.650094695927701,
         "Indiana": 3.67432059900899,
         "Iowa": 1.938778612109144,
         "Kansas": 1.9145401445420267,
         "Kentucky": 2.7032476892367105,
         "Label": "        45 to 64 years",
         "Louisiana": 2.5956345434449433,
         "Maine": 1.4193461071405398,
         "Maryland": 3.4850834657386596,
         "Massachusetts": 3.7380091560692175,
         "Michigan": 5.461678098566816,
         "Minnesota": 3.3351420882845595,
         "Mississippi": 1.9683393706069874,
         "Missouri": 3.306621181605215,
         "Montana": 0.9599091083966529,
         "Nebraska": 1.5836315202131106,
         "Nevada": 1.9405965722381213,
         "New Hampshire": 1.448243577225137,
         "New Jersey": 4.998902130100986,
         "New Mexico": 1.5556497923032302,
         "New York": 9.562869284467334,
         "North Carolina": 5.038353642159976,
         "North Dakota": 0.8833255512778723,
         "Ohio": 6.103396723385148,
         "Oklahoma": 2.2163054740789665,
         "Oregon": 2.1894020752614316,
         "Pennsylvania": 6.764411860674414,
         "Puerto Rico": 0,
         "Rhode Island": 1.3620963089318405,
         "South Carolina": 2.9881729272949107,
         "South Dakota": 0.9593889751053729,
         "Tennessee": 3.6945484815520957,
         "Texas": 12.001162668600456,
         "Utah": 1.6448821107565237,
         "Vermont": 1.022468192618883,
         "Virginia": 4.360942520528383,
         "Washington": 3.870705957717042,
         "West Virginia": 1.6891174965095133,
         "Wisconsin": 3.40727432919213,
         "Wyoming": 0.9631621793161811,
         "_deepnote_index_column": 3
        },
        {
         "Alabama": 2.0479246575489314,
         "Alaska": 0.4995188980232617,
         "Arizona": 2.6954729113957563,
         "Arkansas": 1.3964574810493802,
         "California": 11.369249036576297,
         "Colorado": 1.7606470933342129,
         "Connecticut": 1.6277359500418787,
         "Delaware": 0.7728088827846404,
         "District of Columbia": 0.4665870543698581,
         "Florida": 8.004301195919474,
         "Georgia": 3.1501452748192817,
         "Hawaii": 0.9937447918464353,
         "Idaho": 0.8885867319491981,
         "Illinois": 4.331694988884287,
         "Indiana": 2.3773303877826337,
         "Iowa": 1.4045079438876322,
         "Kansas": 1.3416312219904665,
         "Kentucky": 1.780845267500955,
         "Label": "        65 years and over",
         "Louisiana": 1.6990170273363647,
         "Maine": 1.0491949164326038,
         "Maryland": 2.1430621500833578,
         "Massachusetts": 2.456933017374068,
         "Michigan": 3.686830112513593,
         "Minnesota": 2.1975915658141467,
         "Mississippi": 1.2956133200790803,
         "Missouri": 2.2592885045710855,
         "Montana": 0.745112772915264,
         "Nebraska": 1.115360524136938,
         "Nevada": 1.344540449219009,
         "New Hampshire": 0.9321416724676818,
         "New Jersey": 3.1997970869333385,
         "New Mexico": 1.2081789759494828,
         "New York": 6.565207521923012,
         "North Carolina": 3.3430407661724137,
         "North Dakota": 0.6320855614973262,
         "Ohio": 4.112921617272384,
         "Oklahoma": 1.5258639909650549,
         "Oregon": 1.6705013338797876,
         "Pennsylvania": 4.810180749609514,
         "Puerto Rico": 0,
         "Rhode Island": 0.9102020734317519,
         "South Carolina": 2.1427973551135424,
         "South Dakota": 0.704496827335421,
         "Tennessee": 2.4207149513215507,
         "Texas": 7.074295614928567,
         "Utah": 1.0086639375255653,
         "Vermont": 0.7462086804824496,
         "Virginia": 2.7657415584659613,
         "Washington": 2.5989604430365123,
         "West Virginia": 1.2887588371099121,
         "Wisconsin": 2.289704610676727,
         "Wyoming": 0.678927543164111,
         "_deepnote_index_column": 4
        },
        {
         "Alabama": 4.265355357973658,
         "Alaska": 1.5669800863170096,
         "Arizona": 5.425475827225598,
         "Arkansas": 2.887415535817734,
         "California": 27.01399710972889,
         "Colorado": 4.51387466689914,
         "Connecticut": 3.3502714667143096,
         "Delaware": 1.424013138843153,
         "District of Columbia": 1.3922551269822343,
         "Florida": 13.950040674352717,
         "Georgia": 7.589979051251036,
         "Hawaii": 2.021906541687417,
         "Idaho": 1.9847157792972252,
         "Illinois": 9.662609171002403,
         "Indiana": 5.328367637830642,
         "Iowa": 2.9486888338533888,
         "Kansas": 2.9521539652087605,
         "Kentucky": 3.876404527747868,
         "Label": "        Male",
         "Louisiana": 3.8232150632389477,
         "Maine": 1.9357008444802877,
         "Maryland": 4.748803603308932,
         "Massachusetts": 5.237523906547349,
         "Michigan": 7.778599144405844,
         "Minnesota": 4.920833297254444,
         "Mississippi": 2.8505384132201823,
         "Missouri": 4.83601121471693,
         "Montana": 1.497972972972973,
         "Nebraska": 2.4606321321861837,
         "Nevada": 2.9987414367508047,
         "New Hampshire": 1.9632802754586696,
         "New Jersey": 6.716339201929294,
         "New Mexico": 2.4434935365343318,
         "New York": 13.839473876660563,
         "North Carolina": 7.143806364174082,
         "North Dakota": 1.529609105885877,
         "Ohio": 8.692954950346692,
         "Oklahoma": 3.418491237918943,
         "Oregon": 3.421014899734489,
         "Pennsylvania": 9.67074986536973,
         "Puerto Rico": 0,
         "Rhode Island": 1.9092854877259935,
         "South Carolina": 4.270918966246791,
         "South Dakota": 1.505082691301114,
         "Tennessee": 5.267355611960433,
         "Texas": 18.58681949371308,
         "Utah": 2.995916596423379,
         "Vermont": 1.4698469034800132,
         "Virginia": 6.326403895016608,
         "Washington": 5.954530521617997,
         "West Virginia": 2.451684129075139,
         "Wisconsin": 4.922814719068329,
         "Wyoming": 1.5196963564615087,
         "_deepnote_index_column": 5
        },
        {
         "Alabama": 4.734644642026341,
         "Alaska": 1.4330199136829904,
         "Arizona": 5.574524172774403,
         "Arkansas": 3.112584464182266,
         "California": 27.986002890271113,
         "Colorado": 4.486125333100859,
         "Connecticut": 3.64972853328569,
         "Delaware": 1.5759868611568468,
         "District of Columbia": 1.6077448730177655,
         "Florida": 15.049959325647285,
         "Georgia": 8.410020948748963,
         "Hawaii": 1.9780934583125829,
         "Idaho": 2.015284220702775,
         "Illinois": 10.337390828997597,
         "Indiana": 5.671632362169359,
         "Iowa": 3.051311166146611,
         "Kansas": 3.047846034791239,
         "Kentucky": 4.123595472252132,
         "Label": "        Female",
         "Louisiana": 4.176784936761053,
         "Maine": 2.0642991555197123,
         "Maryland": 5.251196396691067,
         "Massachusetts": 5.76247609345265,
         "Michigan": 8.221400855594155,
         "Minnesota": 5.079166702745555,
         "Mississippi": 3.1494615867798172,
         "Missouri": 5.163988785283071,
         "Montana": 1.502027027027027,
         "Nebraska": 2.5393678678138163,
         "Nevada": 3.0012585632491957,
         "New Hampshire": 2.0367197245413307,
         "New Jersey": 7.283660798070705,
         "New Mexico": 2.5565064634656687,
         "New York": 15.160526123339437,
         "North Carolina": 7.856193635825919,
         "North Dakota": 1.470390894114123,
         "Ohio": 9.307045049653306,
         "Oklahoma": 3.581508762081056,
         "Oregon": 3.5789851002655113,
         "Pennsylvania": 10.32925013463027,
         "Puerto Rico": 0,
         "Rhode Island": 2.090714512274007,
         "South Carolina": 4.72908103375321,
         "South Dakota": 1.4949173086988863,
         "Tennessee": 5.732644388039566,
         "Texas": 19.413180506286917,
         "Utah": 3.004083403576621,
         "Vermont": 1.5301530965199868,
         "Virginia": 6.673596104983392,
         "Washington": 6.045469478382004,
         "West Virginia": 2.5483158709248612,
         "Wisconsin": 5.077185280931671,
         "Wyoming": 1.480303643538491,
         "_deepnote_index_column": 6
        },
        {
         "Alabama": 6.294396430661832,
         "Alaska": 2.0577828795219366,
         "Arizona": 8.92197118661817,
         "Arkansas": 4.783157489772592,
         "California": 34.89744396930566,
         "Colorado": 7.802893824763619,
         "Connecticut": 5.570451930425727,
         "Delaware": 2.1732250564688944,
         "District of Columbia": 1.3673113896506497,
         "Florida": 22.568367509140042,
         "Georgia": 9.738241536978439,
         "Hawaii": 1.101449161025014,
         "Idaho": 3.6774627133312023,
         "Illinois": 14.998758807733596,
         "Indiana": 9.486216132393908,
         "Iowa": 5.572722430769584,
         "Kansas": 5.22083063180571,
         "Kentucky": 7.138791899752399,
         "Label": "        White alone",
         "Louisiana": 5.121653694722947,
         "Maine": 3.825605087275323,
         "Maryland": 5.910003912510792,
         "Massachusetts": 9.090877506727052,
         "Michigan": 12.97461144939004,
         "Minnesota": 8.705075770476693,
         "Mississippi": 3.6181448527215365,
         "Missouri": 8.455271230913672,
         "Montana": 2.7101315283254785,
         "Nebraska": 4.491605169372548,
         "Nevada": 4.182424434120038,
         "New Hampshire": 3.7970688132758372,
         "New Jersey": 10.102314213801005,
         "New Mexico": 3.790641787289339,
         "New York": 19.87100847668098,
         "North Carolina": 10.736295229120513,
         "North Dakota": 2.684673462016228,
         "Ohio": 15.104431582564228,
         "Oklahoma": 5.297591110304171,
         "Oregon": 6.103006320907823,
         "Pennsylvania": 16.66089614269881,
         "Puerto Rico": 0,
         "Rhode Island": 3.3583999960039863,
         "South Carolina": 6.2737776571990995,
         "South Dakota": 2.6426780778519547,
         "Tennessee": 8.78107759309729,
         "Texas": 28.734668175356234,
         "Utah": 5.447010166105267,
         "Vermont": 2.8684272265166784,
         "Virginia": 9.179351150695972,
         "Washington": 9.664507624742676,
         "West Virginia": 4.708626202132102,
         "Wisconsin": 8.870195663248195,
         "Wyoming": 2.7890178727475092,
         "_deepnote_index_column": 7
        },
        {
         "Alabama": 2.404315237223343,
         "Alaska": 0.09985538806079329,
         "Arizona": 0.5154149685234417,
         "Arkansas": 0.9272264881464963,
         "California": 3.686054864444595,
         "Colorado": 0.3597531696122482,
         "Connecticut": 0.7382260713410402,
         "Delaware": 0.6495949959871921,
         "District of Columbia": 1.3594308900679621,
         "Florida": 4.358616884999112,
         "Georgia": 5.262078833929033,
         "Hawaii": 0.08449018031921975,
         "Idaho": 0.02043613512860295,
         "Illinois": 2.9390728645881246,
         "Indiana": 0.9926535988989137,
         "Iowa": 0.19238015196780295,
         "Kansas": 0.3401842806267671,
         "Kentucky": 0.6260854485015896,
         "Label": "        Black or African American alone",
         "Louisiana": 2.5520908524986634,
         "Maine": 0.035596095553269,
         "Maryland": 3.0871401167637766,
         "Massachusetts": 0.7582229426923083,
         "Michigan": 2.158407630105743,
         "Minnesota": 0.4948411999742156,
         "Mississippi": 2.2289305678657967,
         "Missouri": 1.090890988530247,
         "Montana": 0,
         "Nebraska": 0.2056985492638324,
         "Nevada": 0.5950901828278562,
         "New Hampshire": 0.04971711291656349,
         "New Jersey": 1.9442436383025965,
         "New Mexico": 0.1145699136299404,
         "New York": 4.520803094383176,
         "North Carolina": 3.2834804552447694,
         "North Dakota": 0.060534406963324495,
         "Ohio": 2.1336992110676887,
         "Oklahoma": 0.5058473582629086,
         "Oregon": 0.12402172661852304,
         "Pennsylvania": 2.117777199468186,
         "Puerto Rico": 0,
         "Rhode Island": 0.2463592566415001,
         "South Carolina": 2.3870038622001517,
         "South Dakota": 0.04455504641915904,
         "Tennessee": 1.823475411242246,
         "Texas": 5.081630821514953,
         "Utah": 0.05640578957750478,
         "Vermont": 0.03045086774746594,
         "Virginia": 2.5849310292272394,
         "Washington": 0.4367847499600206,
         "West Virginia": 0.18593046908058852,
         "Wisconsin": 0.58581364403538,
         "Wyoming": 0,
         "_deepnote_index_column": 8
        }
       ]
      },
      "text/html": [
       "<div>\n",
       "<style scoped>\n",
       "    .dataframe tbody tr th:only-of-type {\n",
       "        vertical-align: middle;\n",
       "    }\n",
       "\n",
       "    .dataframe tbody tr th {\n",
       "        vertical-align: top;\n",
       "    }\n",
       "\n",
       "    .dataframe thead th {\n",
       "        text-align: right;\n",
       "    }\n",
       "</style>\n",
       "<table border=\"1\" class=\"dataframe\">\n",
       "  <thead>\n",
       "    <tr style=\"text-align: right;\">\n",
       "      <th></th>\n",
       "      <th>Label</th>\n",
       "      <th>Alabama</th>\n",
       "      <th>Alaska</th>\n",
       "      <th>Arizona</th>\n",
       "      <th>Arkansas</th>\n",
       "      <th>California</th>\n",
       "      <th>Colorado</th>\n",
       "      <th>Connecticut</th>\n",
       "      <th>Delaware</th>\n",
       "      <th>District of Columbia</th>\n",
       "      <th>...</th>\n",
       "      <th>Tennessee</th>\n",
       "      <th>Texas</th>\n",
       "      <th>Utah</th>\n",
       "      <th>Vermont</th>\n",
       "      <th>Virginia</th>\n",
       "      <th>Washington</th>\n",
       "      <th>West Virginia</th>\n",
       "      <th>Wisconsin</th>\n",
       "      <th>Wyoming</th>\n",
       "      <th>Puerto Rico</th>\n",
       "    </tr>\n",
       "  </thead>\n",
       "  <tbody>\n",
       "    <tr>\n",
       "      <th>0</th>\n",
       "      <td>Citizens 18 years and over</td>\n",
       "      <td>9.000000</td>\n",
       "      <td>3.000000</td>\n",
       "      <td>11.000000</td>\n",
       "      <td>6.000000</td>\n",
       "      <td>55.000000</td>\n",
       "      <td>9.000000</td>\n",
       "      <td>7.000000</td>\n",
       "      <td>3.000000</td>\n",
       "      <td>3.000000</td>\n",
       "      <td>...</td>\n",
       "      <td>11.000000</td>\n",
       "      <td>38.000000</td>\n",
       "      <td>6.000000</td>\n",
       "      <td>3.000000</td>\n",
       "      <td>13.000000</td>\n",
       "      <td>12.000000</td>\n",
       "      <td>5.000000</td>\n",
       "      <td>10.000000</td>\n",
       "      <td>3.000000</td>\n",
       "      <td>0.0</td>\n",
       "    </tr>\n",
       "    <tr>\n",
       "      <th>1</th>\n",
       "      <td>18 to 29 years</td>\n",
       "      <td>1.841925</td>\n",
       "      <td>0.696005</td>\n",
       "      <td>2.394366</td>\n",
       "      <td>1.241579</td>\n",
       "      <td>12.619270</td>\n",
       "      <td>1.973528</td>\n",
       "      <td>1.386954</td>\n",
       "      <td>0.572301</td>\n",
       "      <td>0.812491</td>\n",
       "      <td>...</td>\n",
       "      <td>2.283129</td>\n",
       "      <td>8.928222</td>\n",
       "      <td>1.623949</td>\n",
       "      <td>0.611297</td>\n",
       "      <td>2.716114</td>\n",
       "      <td>2.483684</td>\n",
       "      <td>0.917327</td>\n",
       "      <td>1.995829</td>\n",
       "      <td>0.621294</td>\n",
       "      <td>0.0</td>\n",
       "    </tr>\n",
       "    <tr>\n",
       "      <th>2</th>\n",
       "      <td>30 to 44 years</td>\n",
       "      <td>2.110736</td>\n",
       "      <td>0.810980</td>\n",
       "      <td>2.541097</td>\n",
       "      <td>1.415316</td>\n",
       "      <td>13.729620</td>\n",
       "      <td>2.415318</td>\n",
       "      <td>1.492459</td>\n",
       "      <td>0.636212</td>\n",
       "      <td>0.971235</td>\n",
       "      <td>...</td>\n",
       "      <td>2.601608</td>\n",
       "      <td>9.996320</td>\n",
       "      <td>1.722505</td>\n",
       "      <td>0.620026</td>\n",
       "      <td>3.157202</td>\n",
       "      <td>3.046649</td>\n",
       "      <td>1.104796</td>\n",
       "      <td>2.307192</td>\n",
       "      <td>0.736616</td>\n",
       "      <td>0.0</td>\n",
       "    </tr>\n",
       "    <tr>\n",
       "      <th>3</th>\n",
       "      <td>45 to 64 years</td>\n",
       "      <td>2.999415</td>\n",
       "      <td>0.993495</td>\n",
       "      <td>3.369064</td>\n",
       "      <td>1.946648</td>\n",
       "      <td>17.281861</td>\n",
       "      <td>2.850507</td>\n",
       "      <td>2.492850</td>\n",
       "      <td>1.018678</td>\n",
       "      <td>0.749687</td>\n",
       "      <td>...</td>\n",
       "      <td>3.694548</td>\n",
       "      <td>12.001163</td>\n",
       "      <td>1.644882</td>\n",
       "      <td>1.022468</td>\n",
       "      <td>4.360943</td>\n",
       "      <td>3.870706</td>\n",
       "      <td>1.689117</td>\n",
       "      <td>3.407274</td>\n",
       "      <td>0.963162</td>\n",
       "      <td>0.0</td>\n",
       "    </tr>\n",
       "    <tr>\n",
       "      <th>4</th>\n",
       "      <td>65 years and over</td>\n",
       "      <td>2.047925</td>\n",
       "      <td>0.499519</td>\n",
       "      <td>2.695473</td>\n",
       "      <td>1.396457</td>\n",
       "      <td>11.369249</td>\n",
       "      <td>1.760647</td>\n",
       "      <td>1.627736</td>\n",
       "      <td>0.772809</td>\n",
       "      <td>0.466587</td>\n",
       "      <td>...</td>\n",
       "      <td>2.420715</td>\n",
       "      <td>7.074296</td>\n",
       "      <td>1.008664</td>\n",
       "      <td>0.746209</td>\n",
       "      <td>2.765742</td>\n",
       "      <td>2.598960</td>\n",
       "      <td>1.288759</td>\n",
       "      <td>2.289705</td>\n",
       "      <td>0.678928</td>\n",
       "      <td>0.0</td>\n",
       "    </tr>\n",
       "    <tr>\n",
       "      <th>5</th>\n",
       "      <td>Male</td>\n",
       "      <td>4.265355</td>\n",
       "      <td>1.566980</td>\n",
       "      <td>5.425476</td>\n",
       "      <td>2.887416</td>\n",
       "      <td>27.013997</td>\n",
       "      <td>4.513875</td>\n",
       "      <td>3.350271</td>\n",
       "      <td>1.424013</td>\n",
       "      <td>1.392255</td>\n",
       "      <td>...</td>\n",
       "      <td>5.267356</td>\n",
       "      <td>18.586819</td>\n",
       "      <td>2.995917</td>\n",
       "      <td>1.469847</td>\n",
       "      <td>6.326404</td>\n",
       "      <td>5.954531</td>\n",
       "      <td>2.451684</td>\n",
       "      <td>4.922815</td>\n",
       "      <td>1.519696</td>\n",
       "      <td>0.0</td>\n",
       "    </tr>\n",
       "    <tr>\n",
       "      <th>6</th>\n",
       "      <td>Female</td>\n",
       "      <td>4.734645</td>\n",
       "      <td>1.433020</td>\n",
       "      <td>5.574524</td>\n",
       "      <td>3.112584</td>\n",
       "      <td>27.986003</td>\n",
       "      <td>4.486125</td>\n",
       "      <td>3.649729</td>\n",
       "      <td>1.575987</td>\n",
       "      <td>1.607745</td>\n",
       "      <td>...</td>\n",
       "      <td>5.732644</td>\n",
       "      <td>19.413181</td>\n",
       "      <td>3.004083</td>\n",
       "      <td>1.530153</td>\n",
       "      <td>6.673596</td>\n",
       "      <td>6.045469</td>\n",
       "      <td>2.548316</td>\n",
       "      <td>5.077185</td>\n",
       "      <td>1.480304</td>\n",
       "      <td>0.0</td>\n",
       "    </tr>\n",
       "    <tr>\n",
       "      <th>7</th>\n",
       "      <td>White alone</td>\n",
       "      <td>6.294396</td>\n",
       "      <td>2.057783</td>\n",
       "      <td>8.921971</td>\n",
       "      <td>4.783157</td>\n",
       "      <td>34.897444</td>\n",
       "      <td>7.802894</td>\n",
       "      <td>5.570452</td>\n",
       "      <td>2.173225</td>\n",
       "      <td>1.367311</td>\n",
       "      <td>...</td>\n",
       "      <td>8.781078</td>\n",
       "      <td>28.734668</td>\n",
       "      <td>5.447010</td>\n",
       "      <td>2.868427</td>\n",
       "      <td>9.179351</td>\n",
       "      <td>9.664508</td>\n",
       "      <td>4.708626</td>\n",
       "      <td>8.870196</td>\n",
       "      <td>2.789018</td>\n",
       "      <td>0.0</td>\n",
       "    </tr>\n",
       "    <tr>\n",
       "      <th>8</th>\n",
       "      <td>Black or African American alone</td>\n",
       "      <td>2.404315</td>\n",
       "      <td>0.099855</td>\n",
       "      <td>0.515415</td>\n",
       "      <td>0.927226</td>\n",
       "      <td>3.686055</td>\n",
       "      <td>0.359753</td>\n",
       "      <td>0.738226</td>\n",
       "      <td>0.649595</td>\n",
       "      <td>1.359431</td>\n",
       "      <td>...</td>\n",
       "      <td>1.823475</td>\n",
       "      <td>5.081631</td>\n",
       "      <td>0.056406</td>\n",
       "      <td>0.030451</td>\n",
       "      <td>2.584931</td>\n",
       "      <td>0.436785</td>\n",
       "      <td>0.185930</td>\n",
       "      <td>0.585814</td>\n",
       "      <td>0.000000</td>\n",
       "      <td>0.0</td>\n",
       "    </tr>\n",
       "    <tr>\n",
       "      <th>9</th>\n",
       "      <td>Asian alone</td>\n",
       "      <td>0.082049</td>\n",
       "      <td>0.150143</td>\n",
       "      <td>0.272080</td>\n",
       "      <td>0.064565</td>\n",
       "      <td>7.847031</td>\n",
       "      <td>0.232267</td>\n",
       "      <td>0.230662</td>\n",
       "      <td>0.074618</td>\n",
       "      <td>0.115637</td>\n",
       "      <td>...</td>\n",
       "      <td>0.138545</td>\n",
       "      <td>1.489332</td>\n",
       "      <td>0.112663</td>\n",
       "      <td>0.029813</td>\n",
       "      <td>0.681200</td>\n",
       "      <td>0.826852</td>\n",
       "      <td>0.027751</td>\n",
       "      <td>0.186189</td>\n",
       "      <td>0.000000</td>\n",
       "      <td>0.0</td>\n",
       "    </tr>\n",
       "    <tr>\n",
       "      <th>10</th>\n",
       "      <td>Some Other Race alone</td>\n",
       "      <td>0.056603</td>\n",
       "      <td>0.045252</td>\n",
       "      <td>0.457570</td>\n",
       "      <td>0.069963</td>\n",
       "      <td>5.614971</td>\n",
       "      <td>0.231855</td>\n",
       "      <td>0.273357</td>\n",
       "      <td>0.032334</td>\n",
       "      <td>0.066241</td>\n",
       "      <td>...</td>\n",
       "      <td>0.059229</td>\n",
       "      <td>1.594197</td>\n",
       "      <td>0.124313</td>\n",
       "      <td>0.000000</td>\n",
       "      <td>0.174639</td>\n",
       "      <td>0.299506</td>\n",
       "      <td>0.012251</td>\n",
       "      <td>0.124578</td>\n",
       "      <td>0.039586</td>\n",
       "      <td>0.0</td>\n",
       "    </tr>\n",
       "    <tr>\n",
       "      <th>11</th>\n",
       "      <td>Two or More Races</td>\n",
       "      <td>0.119457</td>\n",
       "      <td>0.172994</td>\n",
       "      <td>0.313903</td>\n",
       "      <td>0.110503</td>\n",
       "      <td>2.263023</td>\n",
       "      <td>0.268324</td>\n",
       "      <td>0.170177</td>\n",
       "      <td>0.055091</td>\n",
       "      <td>0.081689</td>\n",
       "      <td>...</td>\n",
       "      <td>0.160564</td>\n",
       "      <td>0.854457</td>\n",
       "      <td>0.138785</td>\n",
       "      <td>0.000000</td>\n",
       "      <td>0.334125</td>\n",
       "      <td>0.543655</td>\n",
       "      <td>0.053760</td>\n",
       "      <td>0.139002</td>\n",
       "      <td>0.000000</td>\n",
       "      <td>0.0</td>\n",
       "    </tr>\n",
       "    <tr>\n",
       "      <th>12</th>\n",
       "      <td>Hispanic or Latino</td>\n",
       "      <td>0.194798</td>\n",
       "      <td>0.178734</td>\n",
       "      <td>2.636964</td>\n",
       "      <td>0.231007</td>\n",
       "      <td>17.013608</td>\n",
       "      <td>1.488220</td>\n",
       "      <td>0.880771</td>\n",
       "      <td>0.174661</td>\n",
       "      <td>0.230368</td>\n",
       "      <td>...</td>\n",
       "      <td>0.275284</td>\n",
       "      <td>11.751252</td>\n",
       "      <td>0.576816</td>\n",
       "      <td>0.048125</td>\n",
       "      <td>0.747492</td>\n",
       "      <td>0.936342</td>\n",
       "      <td>0.052454</td>\n",
       "      <td>0.433174</td>\n",
       "      <td>0.230285</td>\n",
       "      <td>0.0</td>\n",
       "    </tr>\n",
       "    <tr>\n",
       "      <th>13</th>\n",
       "      <td>White alone, Not Hispanic or Latino</td>\n",
       "      <td>6.165545</td>\n",
       "      <td>1.943562</td>\n",
       "      <td>6.927365</td>\n",
       "      <td>4.636680</td>\n",
       "      <td>24.634890</td>\n",
       "      <td>6.677894</td>\n",
       "      <td>5.069574</td>\n",
       "      <td>2.050044</td>\n",
       "      <td>1.239647</td>\n",
       "      <td>...</td>\n",
       "      <td>8.579862</td>\n",
       "      <td>19.040205</td>\n",
       "      <td>5.036553</td>\n",
       "      <td>2.834758</td>\n",
       "      <td>8.699337</td>\n",
       "      <td>9.133334</td>\n",
       "      <td>4.670965</td>\n",
       "      <td>8.593173</td>\n",
       "      <td>2.618932</td>\n",
       "      <td>0.0</td>\n",
       "    </tr>\n",
       "    <tr>\n",
       "      <th>14</th>\n",
       "      <td>Less than 9th grade</td>\n",
       "      <td>0.275545</td>\n",
       "      <td>0.051441</td>\n",
       "      <td>0.333490</td>\n",
       "      <td>0.201536</td>\n",
       "      <td>2.515987</td>\n",
       "      <td>0.178477</td>\n",
       "      <td>0.187635</td>\n",
       "      <td>0.058645</td>\n",
       "      <td>0.067862</td>\n",
       "      <td>...</td>\n",
       "      <td>0.359757</td>\n",
       "      <td>1.493698</td>\n",
       "      <td>0.087344</td>\n",
       "      <td>0.049785</td>\n",
       "      <td>0.317554</td>\n",
       "      <td>0.232285</td>\n",
       "      <td>0.193728</td>\n",
       "      <td>0.185579</td>\n",
       "      <td>0.039986</td>\n",
       "      <td>0.0</td>\n",
       "    </tr>\n",
       "    <tr>\n",
       "      <th>15</th>\n",
       "      <td>9th to 12th grade, no diploma</td>\n",
       "      <td>0.827718</td>\n",
       "      <td>0.157655</td>\n",
       "      <td>0.777008</td>\n",
       "      <td>0.474505</td>\n",
       "      <td>3.457375</td>\n",
       "      <td>0.422691</td>\n",
       "      <td>0.381531</td>\n",
       "      <td>0.190641</td>\n",
       "      <td>0.137031</td>\n",
       "      <td>...</td>\n",
       "      <td>0.845114</td>\n",
       "      <td>2.745015</td>\n",
       "      <td>0.301303</td>\n",
       "      <td>0.147153</td>\n",
       "      <td>0.796666</td>\n",
       "      <td>0.628264</td>\n",
       "      <td>0.442639</td>\n",
       "      <td>0.508100</td>\n",
       "      <td>0.135812</td>\n",
       "      <td>0.0</td>\n",
       "    </tr>\n",
       "    <tr>\n",
       "      <th>16</th>\n",
       "      <td>High school graduate (includes equival...</td>\n",
       "      <td>2.845372</td>\n",
       "      <td>0.905434</td>\n",
       "      <td>2.770260</td>\n",
       "      <td>2.104058</td>\n",
       "      <td>12.059747</td>\n",
       "      <td>1.994362</td>\n",
       "      <td>1.915138</td>\n",
       "      <td>0.933532</td>\n",
       "      <td>0.524366</td>\n",
       "      <td>...</td>\n",
       "      <td>3.542655</td>\n",
       "      <td>10.213545</td>\n",
       "      <td>1.466407</td>\n",
       "      <td>0.891220</td>\n",
       "      <td>3.267784</td>\n",
       "      <td>2.831245</td>\n",
       "      <td>2.014319</td>\n",
       "      <td>3.095970</td>\n",
       "      <td>0.914484</td>\n",
       "      <td>0.0</td>\n",
       "    </tr>\n",
       "    <tr>\n",
       "      <th>17</th>\n",
       "      <td>Some college, no degree</td>\n",
       "      <td>2.111389</td>\n",
       "      <td>0.821683</td>\n",
       "      <td>3.014880</td>\n",
       "      <td>1.467454</td>\n",
       "      <td>13.813744</td>\n",
       "      <td>2.057283</td>\n",
       "      <td>1.377706</td>\n",
       "      <td>0.661948</td>\n",
       "      <td>0.516402</td>\n",
       "      <td>...</td>\n",
       "      <td>2.502797</td>\n",
       "      <td>9.519762</td>\n",
       "      <td>1.718777</td>\n",
       "      <td>0.607231</td>\n",
       "      <td>2.833919</td>\n",
       "      <td>2.991528</td>\n",
       "      <td>0.988683</td>\n",
       "      <td>2.262428</td>\n",
       "      <td>0.774105</td>\n",
       "      <td>0.0</td>\n",
       "    </tr>\n",
       "    <tr>\n",
       "      <th>18</th>\n",
       "      <td>Associate's degree</td>\n",
       "      <td>0.772167</td>\n",
       "      <td>0.252992</td>\n",
       "      <td>0.956094</td>\n",
       "      <td>0.444312</td>\n",
       "      <td>4.525474</td>\n",
       "      <td>0.735205</td>\n",
       "      <td>0.523347</td>\n",
       "      <td>0.236313</td>\n",
       "      <td>0.092649</td>\n",
       "      <td>...</td>\n",
       "      <td>0.809786</td>\n",
       "      <td>2.963317</td>\n",
       "      <td>0.578283</td>\n",
       "      <td>0.244942</td>\n",
       "      <td>1.022717</td>\n",
       "      <td>1.230022</td>\n",
       "      <td>0.373234</td>\n",
       "      <td>1.042179</td>\n",
       "      <td>0.335714</td>\n",
       "      <td>0.0</td>\n",
       "    </tr>\n",
       "    <tr>\n",
       "      <th>19</th>\n",
       "      <td>Bachelor's degree</td>\n",
       "      <td>1.370226</td>\n",
       "      <td>0.502889</td>\n",
       "      <td>2.016837</td>\n",
       "      <td>0.870931</td>\n",
       "      <td>11.996250</td>\n",
       "      <td>2.309098</td>\n",
       "      <td>1.510596</td>\n",
       "      <td>0.554239</td>\n",
       "      <td>0.775732</td>\n",
       "      <td>...</td>\n",
       "      <td>1.896948</td>\n",
       "      <td>7.408847</td>\n",
       "      <td>1.267382</td>\n",
       "      <td>0.639691</td>\n",
       "      <td>2.771992</td>\n",
       "      <td>2.624540</td>\n",
       "      <td>0.613016</td>\n",
       "      <td>1.970660</td>\n",
       "      <td>0.522764</td>\n",
       "      <td>0.0</td>\n",
       "    </tr>\n",
       "    <tr>\n",
       "      <th>20</th>\n",
       "      <td>Graduate or professional degree</td>\n",
       "      <td>0.797582</td>\n",
       "      <td>0.307905</td>\n",
       "      <td>1.131431</td>\n",
       "      <td>0.437205</td>\n",
       "      <td>6.631423</td>\n",
       "      <td>1.302885</td>\n",
       "      <td>1.104047</td>\n",
       "      <td>0.364681</td>\n",
       "      <td>0.885958</td>\n",
       "      <td>...</td>\n",
       "      <td>1.042943</td>\n",
       "      <td>3.655815</td>\n",
       "      <td>0.580504</td>\n",
       "      <td>0.419978</td>\n",
       "      <td>1.989367</td>\n",
       "      <td>1.462116</td>\n",
       "      <td>0.374382</td>\n",
       "      <td>0.935084</td>\n",
       "      <td>0.277136</td>\n",
       "      <td>0.0</td>\n",
       "    </tr>\n",
       "    <tr>\n",
       "      <th>21</th>\n",
       "      <td>High school degree or higher</td>\n",
       "      <td>7.896737</td>\n",
       "      <td>2.790904</td>\n",
       "      <td>9.889503</td>\n",
       "      <td>5.323959</td>\n",
       "      <td>49.026638</td>\n",
       "      <td>8.398832</td>\n",
       "      <td>6.430834</td>\n",
       "      <td>2.750714</td>\n",
       "      <td>2.795107</td>\n",
       "      <td>...</td>\n",
       "      <td>9.795129</td>\n",
       "      <td>33.761287</td>\n",
       "      <td>5.611353</td>\n",
       "      <td>2.803062</td>\n",
       "      <td>11.885780</td>\n",
       "      <td>11.139451</td>\n",
       "      <td>4.363633</td>\n",
       "      <td>9.306320</td>\n",
       "      <td>2.824202</td>\n",
       "      <td>0.0</td>\n",
       "    </tr>\n",
       "    <tr>\n",
       "      <th>22</th>\n",
       "      <td>Bachelor's degree or higher</td>\n",
       "      <td>2.167809</td>\n",
       "      <td>0.810795</td>\n",
       "      <td>3.148268</td>\n",
       "      <td>1.308136</td>\n",
       "      <td>18.627673</td>\n",
       "      <td>3.611983</td>\n",
       "      <td>2.614643</td>\n",
       "      <td>0.918921</td>\n",
       "      <td>1.661690</td>\n",
       "      <td>...</td>\n",
       "      <td>2.939891</td>\n",
       "      <td>11.064662</td>\n",
       "      <td>1.847886</td>\n",
       "      <td>1.059669</td>\n",
       "      <td>4.761359</td>\n",
       "      <td>4.086656</td>\n",
       "      <td>0.987398</td>\n",
       "      <td>2.905743</td>\n",
       "      <td>0.799900</td>\n",
       "      <td>0.0</td>\n",
       "    </tr>\n",
       "    <tr>\n",
       "      <th>23</th>\n",
       "      <td>Total Citizens, 18 years and older, fo...</td>\n",
       "      <td>8.752765</td>\n",
       "      <td>2.923035</td>\n",
       "      <td>10.729158</td>\n",
       "      <td>5.802372</td>\n",
       "      <td>53.808389</td>\n",
       "      <td>8.788890</td>\n",
       "      <td>6.761979</td>\n",
       "      <td>2.910341</td>\n",
       "      <td>2.843357</td>\n",
       "      <td>...</td>\n",
       "      <td>10.706859</td>\n",
       "      <td>37.004068</td>\n",
       "      <td>5.898951</td>\n",
       "      <td>2.867344</td>\n",
       "      <td>12.546726</td>\n",
       "      <td>11.765421</td>\n",
       "      <td>4.855987</td>\n",
       "      <td>9.727088</td>\n",
       "      <td>2.922305</td>\n",
       "      <td>0.0</td>\n",
       "    </tr>\n",
       "    <tr>\n",
       "      <th>24</th>\n",
       "      <td>Income in the past 12 months below pov...</td>\n",
       "      <td>1.182526</td>\n",
       "      <td>0.256576</td>\n",
       "      <td>1.172618</td>\n",
       "      <td>0.831239</td>\n",
       "      <td>5.150330</td>\n",
       "      <td>0.757844</td>\n",
       "      <td>0.578308</td>\n",
       "      <td>0.278807</td>\n",
       "      <td>0.346340</td>\n",
       "      <td>...</td>\n",
       "      <td>1.276879</td>\n",
       "      <td>3.918250</td>\n",
       "      <td>0.467594</td>\n",
       "      <td>0.283328</td>\n",
       "      <td>1.079502</td>\n",
       "      <td>1.032244</td>\n",
       "      <td>0.718171</td>\n",
       "      <td>0.902352</td>\n",
       "      <td>0.279178</td>\n",
       "      <td>0.0</td>\n",
       "    </tr>\n",
       "    <tr>\n",
       "      <th>25</th>\n",
       "      <td>Income in the past 12 months at or abo...</td>\n",
       "      <td>7.570238</td>\n",
       "      <td>2.666458</td>\n",
       "      <td>9.556540</td>\n",
       "      <td>4.971133</td>\n",
       "      <td>48.658059</td>\n",
       "      <td>8.031047</td>\n",
       "      <td>6.183671</td>\n",
       "      <td>2.631533</td>\n",
       "      <td>2.497017</td>\n",
       "      <td>...</td>\n",
       "      <td>9.429981</td>\n",
       "      <td>33.085818</td>\n",
       "      <td>5.431357</td>\n",
       "      <td>2.584017</td>\n",
       "      <td>11.467225</td>\n",
       "      <td>10.733177</td>\n",
       "      <td>4.137816</td>\n",
       "      <td>8.824736</td>\n",
       "      <td>2.643127</td>\n",
       "      <td>0.0</td>\n",
       "    </tr>\n",
       "    <tr>\n",
       "      <th>26</th>\n",
       "      <td>Median Household Income for Households...</td>\n",
       "      <td>0.125620</td>\n",
       "      <td>0.426352</td>\n",
       "      <td>0.136223</td>\n",
       "      <td>0.132008</td>\n",
       "      <td>0.177293</td>\n",
       "      <td>0.166931</td>\n",
       "      <td>0.214417</td>\n",
       "      <td>0.293167</td>\n",
       "      <td>0.522768</td>\n",
       "      <td>...</td>\n",
       "      <td>0.120971</td>\n",
       "      <td>0.134831</td>\n",
       "      <td>0.215927</td>\n",
       "      <td>0.379565</td>\n",
       "      <td>0.161434</td>\n",
       "      <td>0.175032</td>\n",
       "      <td>0.172437</td>\n",
       "      <td>0.146478</td>\n",
       "      <td>0.448787</td>\n",
       "      <td>0.0</td>\n",
       "    </tr>\n",
       "  </tbody>\n",
       "</table>\n",
       "<p>27 rows × 53 columns</p>\n",
       "</div>"
      ],
      "text/plain": [
       "                                                Label   Alabama    Alaska  \\\n",
       "0                          Citizens 18 years and over  9.000000  3.000000   \n",
       "1                                      18 to 29 years  1.841925  0.696005   \n",
       "2                                      30 to 44 years  2.110736  0.810980   \n",
       "3                                      45 to 64 years  2.999415  0.993495   \n",
       "4                                   65 years and over  2.047925  0.499519   \n",
       "5                                                Male  4.265355  1.566980   \n",
       "6                                              Female  4.734645  1.433020   \n",
       "7                                         White alone  6.294396  2.057783   \n",
       "8                     Black or African American alone  2.404315  0.099855   \n",
       "9                                         Asian alone  0.082049  0.150143   \n",
       "10                              Some Other Race alone  0.056603  0.045252   \n",
       "11                                  Two or More Races  0.119457  0.172994   \n",
       "12                                 Hispanic or Latino  0.194798  0.178734   \n",
       "13                White alone, Not Hispanic or Latino  6.165545  1.943562   \n",
       "14                                Less than 9th grade  0.275545  0.051441   \n",
       "15                      9th to 12th grade, no diploma  0.827718  0.157655   \n",
       "16          High school graduate (includes equival...  2.845372  0.905434   \n",
       "17                            Some college, no degree  2.111389  0.821683   \n",
       "18                                 Associate's degree  0.772167  0.252992   \n",
       "19                                  Bachelor's degree  1.370226  0.502889   \n",
       "20                    Graduate or professional degree  0.797582  0.307905   \n",
       "21                       High school degree or higher  7.896737  2.790904   \n",
       "22                        Bachelor's degree or higher  2.167809  0.810795   \n",
       "23          Total Citizens, 18 years and older, fo...  8.752765  2.923035   \n",
       "24          Income in the past 12 months below pov...  1.182526  0.256576   \n",
       "25          Income in the past 12 months at or abo...  7.570238  2.666458   \n",
       "26          Median Household Income for Households...  0.125620  0.426352   \n",
       "\n",
       "      Arizona  Arkansas  California  Colorado  Connecticut  Delaware  \\\n",
       "0   11.000000  6.000000   55.000000  9.000000     7.000000  3.000000   \n",
       "1    2.394366  1.241579   12.619270  1.973528     1.386954  0.572301   \n",
       "2    2.541097  1.415316   13.729620  2.415318     1.492459  0.636212   \n",
       "3    3.369064  1.946648   17.281861  2.850507     2.492850  1.018678   \n",
       "4    2.695473  1.396457   11.369249  1.760647     1.627736  0.772809   \n",
       "5    5.425476  2.887416   27.013997  4.513875     3.350271  1.424013   \n",
       "6    5.574524  3.112584   27.986003  4.486125     3.649729  1.575987   \n",
       "7    8.921971  4.783157   34.897444  7.802894     5.570452  2.173225   \n",
       "8    0.515415  0.927226    3.686055  0.359753     0.738226  0.649595   \n",
       "9    0.272080  0.064565    7.847031  0.232267     0.230662  0.074618   \n",
       "10   0.457570  0.069963    5.614971  0.231855     0.273357  0.032334   \n",
       "11   0.313903  0.110503    2.263023  0.268324     0.170177  0.055091   \n",
       "12   2.636964  0.231007   17.013608  1.488220     0.880771  0.174661   \n",
       "13   6.927365  4.636680   24.634890  6.677894     5.069574  2.050044   \n",
       "14   0.333490  0.201536    2.515987  0.178477     0.187635  0.058645   \n",
       "15   0.777008  0.474505    3.457375  0.422691     0.381531  0.190641   \n",
       "16   2.770260  2.104058   12.059747  1.994362     1.915138  0.933532   \n",
       "17   3.014880  1.467454   13.813744  2.057283     1.377706  0.661948   \n",
       "18   0.956094  0.444312    4.525474  0.735205     0.523347  0.236313   \n",
       "19   2.016837  0.870931   11.996250  2.309098     1.510596  0.554239   \n",
       "20   1.131431  0.437205    6.631423  1.302885     1.104047  0.364681   \n",
       "21   9.889503  5.323959   49.026638  8.398832     6.430834  2.750714   \n",
       "22   3.148268  1.308136   18.627673  3.611983     2.614643  0.918921   \n",
       "23  10.729158  5.802372   53.808389  8.788890     6.761979  2.910341   \n",
       "24   1.172618  0.831239    5.150330  0.757844     0.578308  0.278807   \n",
       "25   9.556540  4.971133   48.658059  8.031047     6.183671  2.631533   \n",
       "26   0.136223  0.132008    0.177293  0.166931     0.214417  0.293167   \n",
       "\n",
       "    District of Columbia  ...  Tennessee      Texas      Utah   Vermont  \\\n",
       "0               3.000000  ...  11.000000  38.000000  6.000000  3.000000   \n",
       "1               0.812491  ...   2.283129   8.928222  1.623949  0.611297   \n",
       "2               0.971235  ...   2.601608   9.996320  1.722505  0.620026   \n",
       "3               0.749687  ...   3.694548  12.001163  1.644882  1.022468   \n",
       "4               0.466587  ...   2.420715   7.074296  1.008664  0.746209   \n",
       "5               1.392255  ...   5.267356  18.586819  2.995917  1.469847   \n",
       "6               1.607745  ...   5.732644  19.413181  3.004083  1.530153   \n",
       "7               1.367311  ...   8.781078  28.734668  5.447010  2.868427   \n",
       "8               1.359431  ...   1.823475   5.081631  0.056406  0.030451   \n",
       "9               0.115637  ...   0.138545   1.489332  0.112663  0.029813   \n",
       "10              0.066241  ...   0.059229   1.594197  0.124313  0.000000   \n",
       "11              0.081689  ...   0.160564   0.854457  0.138785  0.000000   \n",
       "12              0.230368  ...   0.275284  11.751252  0.576816  0.048125   \n",
       "13              1.239647  ...   8.579862  19.040205  5.036553  2.834758   \n",
       "14              0.067862  ...   0.359757   1.493698  0.087344  0.049785   \n",
       "15              0.137031  ...   0.845114   2.745015  0.301303  0.147153   \n",
       "16              0.524366  ...   3.542655  10.213545  1.466407  0.891220   \n",
       "17              0.516402  ...   2.502797   9.519762  1.718777  0.607231   \n",
       "18              0.092649  ...   0.809786   2.963317  0.578283  0.244942   \n",
       "19              0.775732  ...   1.896948   7.408847  1.267382  0.639691   \n",
       "20              0.885958  ...   1.042943   3.655815  0.580504  0.419978   \n",
       "21              2.795107  ...   9.795129  33.761287  5.611353  2.803062   \n",
       "22              1.661690  ...   2.939891  11.064662  1.847886  1.059669   \n",
       "23              2.843357  ...  10.706859  37.004068  5.898951  2.867344   \n",
       "24              0.346340  ...   1.276879   3.918250  0.467594  0.283328   \n",
       "25              2.497017  ...   9.429981  33.085818  5.431357  2.584017   \n",
       "26              0.522768  ...   0.120971   0.134831  0.215927  0.379565   \n",
       "\n",
       "     Virginia  Washington  West Virginia  Wisconsin   Wyoming  Puerto Rico  \n",
       "0   13.000000   12.000000       5.000000  10.000000  3.000000          0.0  \n",
       "1    2.716114    2.483684       0.917327   1.995829  0.621294          0.0  \n",
       "2    3.157202    3.046649       1.104796   2.307192  0.736616          0.0  \n",
       "3    4.360943    3.870706       1.689117   3.407274  0.963162          0.0  \n",
       "4    2.765742    2.598960       1.288759   2.289705  0.678928          0.0  \n",
       "5    6.326404    5.954531       2.451684   4.922815  1.519696          0.0  \n",
       "6    6.673596    6.045469       2.548316   5.077185  1.480304          0.0  \n",
       "7    9.179351    9.664508       4.708626   8.870196  2.789018          0.0  \n",
       "8    2.584931    0.436785       0.185930   0.585814  0.000000          0.0  \n",
       "9    0.681200    0.826852       0.027751   0.186189  0.000000          0.0  \n",
       "10   0.174639    0.299506       0.012251   0.124578  0.039586          0.0  \n",
       "11   0.334125    0.543655       0.053760   0.139002  0.000000          0.0  \n",
       "12   0.747492    0.936342       0.052454   0.433174  0.230285          0.0  \n",
       "13   8.699337    9.133334       4.670965   8.593173  2.618932          0.0  \n",
       "14   0.317554    0.232285       0.193728   0.185579  0.039986          0.0  \n",
       "15   0.796666    0.628264       0.442639   0.508100  0.135812          0.0  \n",
       "16   3.267784    2.831245       2.014319   3.095970  0.914484          0.0  \n",
       "17   2.833919    2.991528       0.988683   2.262428  0.774105          0.0  \n",
       "18   1.022717    1.230022       0.373234   1.042179  0.335714          0.0  \n",
       "19   2.771992    2.624540       0.613016   1.970660  0.522764          0.0  \n",
       "20   1.989367    1.462116       0.374382   0.935084  0.277136          0.0  \n",
       "21  11.885780   11.139451       4.363633   9.306320  2.824202          0.0  \n",
       "22   4.761359    4.086656       0.987398   2.905743  0.799900          0.0  \n",
       "23  12.546726   11.765421       4.855987   9.727088  2.922305          0.0  \n",
       "24   1.079502    1.032244       0.718171   0.902352  0.279178          0.0  \n",
       "25  11.467225   10.733177       4.137816   8.824736  2.643127          0.0  \n",
       "26   0.161434    0.175032       0.172437   0.146478  0.448787          0.0  \n",
       "\n",
       "[27 rows x 53 columns]"
      ]
     },
     "execution_count": 118,
     "metadata": {},
     "output_type": "execute_result"
    }
   ],
   "source": [
    "votes_demographically = condensed.copy()\n",
    "for i in np.arange(1,len(normal_names)):\n",
    "    elector_concentration = pop_per_vote.iat[i-1, 1]\n",
    "    state = normal_names[i]\n",
    "    votes_demographically[state] = votes_demographically.iloc[:,i].values * elector_concentration\n",
    "votes_demographically"
   ]
  },
  {
   "cell_type": "code",
   "execution_count": 119,
   "metadata": {
    "cell_id": "00009-fde00cce-6b27-4147-b932-3bf9811f68d1",
    "execution_millis": 0,
    "execution_start": 1605404581195,
    "output_cleared": false,
    "source_hash": "a7182a27",
    "tags": []
   },
   "outputs": [
    {
     "data": {
      "text/plain": [
       "Label\n",
       "Citizens 18 years and over                                                               538.000000\n",
       "        18 to 29 years                                                                   113.302263\n",
       "        30 to 44 years                                                                   128.779645\n",
       "        45 to 64 years                                                                   176.386966\n",
       "        65 years and over                                                                119.531126\n",
       "        Male                                                                             261.262645\n",
       "        Female                                                                           276.737355\n",
       "        White alone                                                                      409.922544\n",
       "        Black or African American alone                                                   67.080815\n",
       "        Asian alone                                                                       24.111491\n",
       "        Some Other Race alone                                                             16.829122\n",
       "        Two or More Races                                                                 13.324502\n",
       "        Hispanic or Latino                                                                67.264161\n",
       "        White alone, Not Hispanic or Latino                                              364.672577\n",
       "        Less than 9th grade                                                               15.946058\n",
       "        9th to 12th grade, no diploma                                                     35.083956\n",
       "        High school graduate (includes equivalency)                                      150.437657\n",
       "        Some college, no degree                                                          123.615533\n",
       "        Associate's degree                                                                46.399089\n",
       "        Bachelor's degree                                                                105.362939\n",
       "        Graduate or professional degree                                                   61.154769\n",
       "        High school degree or higher                                                     486.969986\n",
       "        Bachelor's degree or higher                                                      166.517708\n",
       "        Total Citizens, 18 years and older, for whom poverty status is determined        523.119673\n",
       "        Income in the past 12 months below poverty level                                  55.222842\n",
       "        Income in the past 12 months at or above the poverty level                       467.896831\n",
       "        Median Household Income for Households with a Citizen, Voting-Age Householder     10.152847\n",
       "dtype: float64"
      ]
     },
     "execution_count": 119,
     "metadata": {},
     "output_type": "execute_result"
    }
   ],
   "source": [
    "sum_vote = votes_demographically.sum(axis = 1)\n",
    "sum_vote.index = votes_demographically[\"Label\"]\n",
    "sum_vote"
   ]
  },
  {
   "cell_type": "code",
   "execution_count": 120,
   "metadata": {
    "cell_id": "00010-9b970449-cb42-49c8-af0e-412eb1f97639",
    "execution_millis": 2,
    "execution_start": 1605404581195,
    "output_cleared": false,
    "source_hash": "da2be96a",
    "tags": []
   },
   "outputs": [
    {
     "data": {
      "text/plain": [
       "Label\n",
       "Citizens 18 years and over                                                               538.000000\n",
       "        18 to 29 years                                                                   113.186231\n",
       "        30 to 44 years                                                                   128.553488\n",
       "        45 to 64 years                                                                   176.485434\n",
       "        65 years and over                                                                119.774847\n",
       "        Male                                                                             260.892997\n",
       "        Female                                                                           277.107003\n",
       "        White alone                                                                      407.459799\n",
       "        Black or African American alone                                                   69.148563\n",
       "        Asian alone                                                                       24.126736\n",
       "        Some Other Race alone                                                             18.168042\n",
       "        Two or More Races                                                                 13.480885\n",
       "        Hispanic or Latino                                                                75.306543\n",
       "        White alone, Not Hispanic or Latino                                              356.598968\n",
       "        Less than 9th grade                                                               16.792847\n",
       "        9th to 12th grade, no diploma                                                     35.449152\n",
       "        High school graduate (includes equivalency)                                      149.905979\n",
       "        Some college, no degree                                                          123.051828\n",
       "        Associate's degree                                                                46.381409\n",
       "        Bachelor's degree                                                                105.494439\n",
       "        Graduate or professional degree                                                   60.924345\n",
       "        High school degree or higher                                                     485.758000\n",
       "        Bachelor's degree or higher                                                      166.418784\n",
       "        Total Citizens, 18 years and older, for whom poverty status is determined        523.388921\n",
       "        Income in the past 12 months below poverty level                                  56.961435\n",
       "        Income in the past 12 months at or above the poverty level                       466.427486\n",
       "        Median Household Income for Households with a Citizen, Voting-Age Householder      7.690346\n",
       "dtype: float64"
      ]
     },
     "execution_count": 120,
     "metadata": {},
     "output_type": "execute_result"
    }
   ],
   "source": [
    "sum_pop = condensed.sum(axis = 1)\n",
    "sum_pop.index = votes_demographically[\"Label\"]\n",
    "us_voting_pop = sum_pop.values[0]\n",
    "sum_pop = sum_pop.divide(us_voting_pop / 538)\n",
    "sum_pop"
   ]
  },
  {
   "cell_type": "code",
   "execution_count": 121,
   "metadata": {
    "cell_id": "00013-e9b217aa-ee07-4a38-b700-83c1be6194f4",
    "execution_millis": 5,
    "execution_start": 1605404581224,
    "output_cleared": false,
    "source_hash": "67c83278",
    "tags": []
   },
   "outputs": [
    {
     "data": {
      "application/vnd.deepnote.dataframe.v2+json": {
       "column_count": 3,
       "columns": [
        {
         "dtype": "object",
         "name": "Demographic",
         "stats": {
          "categories": [
           {
            "count": 1,
            "name": "Citizens 18 years and over"
           },
           {
            "count": 1,
            "name": "        18 to 29 years"
           },
           {
            "count": 25,
            "name": "25 others"
           }
          ],
          "nan_count": 0,
          "unique_count": 27
         }
        },
        {
         "dtype": "float64",
         "name": "Expected",
         "stats": {
          "histogram": [
           {
            "bin_end": 60.72131119155331,
            "bin_start": 7.690345768392576,
            "count": 8
           },
           {
            "bin_end": 113.75227661471405,
            "bin_start": 60.72131119155331,
            "count": 5
           },
           {
            "bin_end": 166.78324203787477,
            "bin_start": 113.75227661471405,
            "count": 5
           },
           {
            "bin_end": 219.81420746103552,
            "bin_start": 166.78324203787477,
            "count": 1
           },
           {
            "bin_end": 272.8451728841963,
            "bin_start": 219.81420746103552,
            "count": 1
           },
           {
            "bin_end": 325.876138307357,
            "bin_start": 272.8451728841963,
            "count": 1
           },
           {
            "bin_end": 378.90710373051775,
            "bin_start": 325.876138307357,
            "count": 1
           },
           {
            "bin_end": 431.9380691536785,
            "bin_start": 378.90710373051775,
            "count": 1
           },
           {
            "bin_end": 484.96903457683925,
            "bin_start": 431.9380691536785,
            "count": 1
           },
           {
            "bin_end": 538,
            "bin_start": 484.96903457683925,
            "count": 3
           }
          ],
          "max": 538,
          "min": 7.690345768392576,
          "nan_count": 0,
          "unique_count": 27
         }
        },
        {
         "dtype": "float64",
         "name": "Actual",
         "stats": {
          "histogram": [
           {
            "bin_end": 62.93756253638665,
            "bin_start": 10.15284726265183,
            "count": 9
           },
           {
            "bin_end": 115.72227781012147,
            "bin_start": 62.93756253638665,
            "count": 4
           },
           {
            "bin_end": 168.50699308385626,
            "bin_start": 115.72227781012147,
            "count": 5
           },
           {
            "bin_end": 221.2917083575911,
            "bin_start": 168.50699308385626,
            "count": 1
           },
           {
            "bin_end": 274.07642363132595,
            "bin_start": 221.2917083575911,
            "count": 1
           },
           {
            "bin_end": 326.8611389050607,
            "bin_start": 274.07642363132595,
            "count": 1
           },
           {
            "bin_end": 379.64585417879556,
            "bin_start": 326.8611389050607,
            "count": 1
           },
           {
            "bin_end": 432.4305694525304,
            "bin_start": 379.64585417879556,
            "count": 1
           },
           {
            "bin_end": 485.2152847262652,
            "bin_start": 432.4305694525304,
            "count": 1
           },
           {
            "bin_end": 538,
            "bin_start": 485.2152847262652,
            "count": 3
           }
          ],
          "max": 538,
          "min": 10.15284726265183,
          "nan_count": 0,
          "unique_count": 27
         }
        },
        {
         "dtype": "int64",
         "name": "_deepnote_index_column"
        }
       ],
       "row_count": 27,
       "rows_bottom": null,
       "rows_top": [
        {
         "Actual": 538,
         "Demographic": "Citizens 18 years and over",
         "Expected": 538,
         "_deepnote_index_column": 0
        },
        {
         "Actual": 113.3022630356359,
         "Demographic": "        18 to 29 years",
         "Expected": 113.18623108826016,
         "_deepnote_index_column": 1
        },
        {
         "Actual": 128.77964505013716,
         "Demographic": "        30 to 44 years",
         "Expected": 128.55348835430902,
         "_deepnote_index_column": 2
        },
        {
         "Actual": 176.38696607478477,
         "Demographic": "        45 to 64 years",
         "Expected": 176.4854337087155,
         "_deepnote_index_column": 3
        },
        {
         "Actual": 119.53112583944215,
         "Demographic": "        65 years and over",
         "Expected": 119.77484684871528,
         "_deepnote_index_column": 4
        },
        {
         "Actual": 261.26264521391914,
         "Demographic": "        Male",
         "Expected": 260.89299743405763,
         "_deepnote_index_column": 5
        },
        {
         "Actual": 276.73735478608086,
         "Demographic": "        Female",
         "Expected": 277.10700256594237,
         "_deepnote_index_column": 6
        },
        {
         "Actual": 409.92254416103106,
         "Demographic": "        White alone",
         "Expected": 407.45979933556674,
         "_deepnote_index_column": 7
        },
        {
         "Actual": 67.08081464294587,
         "Demographic": "        Black or African American alone",
         "Expected": 69.14856276512528,
         "_deepnote_index_column": 8
        },
        {
         "Actual": 24.111490859667317,
         "Demographic": "        Asian alone",
         "Expected": 24.126736343065936,
         "_deepnote_index_column": 9
        },
        {
         "Actual": 16.829122063141106,
         "Demographic": "        Some Other Race alone",
         "Expected": 18.16804162449375,
         "_deepnote_index_column": 10
        },
        {
         "Actual": 13.324501576939623,
         "Demographic": "        Two or More Races",
         "Expected": 13.48088492049503,
         "_deepnote_index_column": 11
        },
        {
         "Actual": 67.2641608459337,
         "Demographic": "        Hispanic or Latino",
         "Expected": 75.30654267195908,
         "_deepnote_index_column": 12
        },
        {
         "Actual": 364.6725773305844,
         "Demographic": "        White alone, Not Hispanic or Latino",
         "Expected": 356.5989682112475,
         "_deepnote_index_column": 13
        },
        {
         "Actual": 15.94605817046459,
         "Demographic": "        Less than 9th grade",
         "Expected": 16.79284746241707,
         "_deepnote_index_column": 14
        },
        {
         "Actual": 35.083955648669075,
         "Demographic": "        9th to 12th grade, no diploma",
         "Expected": 35.449152378506184,
         "_deepnote_index_column": 15
        },
        {
         "Actual": 150.43765650979634,
         "Demographic": "        High school graduate (includes equivalency)",
         "Expected": 149.9059788444734,
         "_deepnote_index_column": 16
        },
        {
         "Actual": 123.61553257056526,
         "Demographic": "        Some college, no degree",
         "Expected": 123.05182784265754,
         "_deepnote_index_column": 17
        },
        {
         "Actual": 46.39908874129199,
         "Demographic": "        Associate's degree",
         "Expected": 46.38140943257879,
         "_deepnote_index_column": 18
        },
        {
         "Actual": 105.36293905672878,
         "Demographic": "        Bachelor's degree",
         "Expected": 105.49443858702706,
         "_deepnote_index_column": 19
        },
        {
         "Actual": 61.154769302483956,
         "Demographic": "        Graduate or professional degree",
         "Expected": 60.924345452339935,
         "_deepnote_index_column": 20
        },
        {
         "Actual": 486.9699861808664,
         "Demographic": "        High school degree or higher",
         "Expected": 485.75800015907674,
         "_deepnote_index_column": 21
        },
        {
         "Actual": 166.51770835921275,
         "Demographic": "        Bachelor's degree or higher",
         "Expected": 166.41878403936698,
         "_deepnote_index_column": 22
        },
        {
         "Actual": 523.1196729846575,
         "Demographic": "        Total Citizens, 18 years and older, for whom poverty status is determined",
         "Expected": 523.3889206029303,
         "_deepnote_index_column": 23
        },
        {
         "Actual": 55.222841519612494,
         "Demographic": "        Income in the past 12 months below poverty level",
         "Expected": 56.96143451090602,
         "_deepnote_index_column": 24
        },
        {
         "Actual": 467.89683146504507,
         "Demographic": "        Income in the past 12 months at or above the poverty level",
         "Expected": 466.42748609202425,
         "_deepnote_index_column": 25
        },
        {
         "Actual": 10.15284726265183,
         "Demographic": "        Median Household Income for Households with a Citizen, Voting-Age Householder",
         "Expected": 7.690345768392576,
         "_deepnote_index_column": 26
        }
       ]
      },
      "text/html": [
       "<div>\n",
       "<style scoped>\n",
       "    .dataframe tbody tr th:only-of-type {\n",
       "        vertical-align: middle;\n",
       "    }\n",
       "\n",
       "    .dataframe tbody tr th {\n",
       "        vertical-align: top;\n",
       "    }\n",
       "\n",
       "    .dataframe thead th {\n",
       "        text-align: right;\n",
       "    }\n",
       "</style>\n",
       "<table border=\"1\" class=\"dataframe\">\n",
       "  <thead>\n",
       "    <tr style=\"text-align: right;\">\n",
       "      <th></th>\n",
       "      <th>Demographic</th>\n",
       "      <th>Expected</th>\n",
       "      <th>Actual</th>\n",
       "    </tr>\n",
       "  </thead>\n",
       "  <tbody>\n",
       "    <tr>\n",
       "      <th>0</th>\n",
       "      <td>Citizens 18 years and over</td>\n",
       "      <td>538.000000</td>\n",
       "      <td>538.000000</td>\n",
       "    </tr>\n",
       "    <tr>\n",
       "      <th>1</th>\n",
       "      <td>18 to 29 years</td>\n",
       "      <td>113.186231</td>\n",
       "      <td>113.302263</td>\n",
       "    </tr>\n",
       "    <tr>\n",
       "      <th>2</th>\n",
       "      <td>30 to 44 years</td>\n",
       "      <td>128.553488</td>\n",
       "      <td>128.779645</td>\n",
       "    </tr>\n",
       "    <tr>\n",
       "      <th>3</th>\n",
       "      <td>45 to 64 years</td>\n",
       "      <td>176.485434</td>\n",
       "      <td>176.386966</td>\n",
       "    </tr>\n",
       "    <tr>\n",
       "      <th>4</th>\n",
       "      <td>65 years and over</td>\n",
       "      <td>119.774847</td>\n",
       "      <td>119.531126</td>\n",
       "    </tr>\n",
       "    <tr>\n",
       "      <th>5</th>\n",
       "      <td>Male</td>\n",
       "      <td>260.892997</td>\n",
       "      <td>261.262645</td>\n",
       "    </tr>\n",
       "    <tr>\n",
       "      <th>6</th>\n",
       "      <td>Female</td>\n",
       "      <td>277.107003</td>\n",
       "      <td>276.737355</td>\n",
       "    </tr>\n",
       "    <tr>\n",
       "      <th>7</th>\n",
       "      <td>White alone</td>\n",
       "      <td>407.459799</td>\n",
       "      <td>409.922544</td>\n",
       "    </tr>\n",
       "    <tr>\n",
       "      <th>8</th>\n",
       "      <td>Black or African American alone</td>\n",
       "      <td>69.148563</td>\n",
       "      <td>67.080815</td>\n",
       "    </tr>\n",
       "    <tr>\n",
       "      <th>9</th>\n",
       "      <td>Asian alone</td>\n",
       "      <td>24.126736</td>\n",
       "      <td>24.111491</td>\n",
       "    </tr>\n",
       "    <tr>\n",
       "      <th>10</th>\n",
       "      <td>Some Other Race alone</td>\n",
       "      <td>18.168042</td>\n",
       "      <td>16.829122</td>\n",
       "    </tr>\n",
       "    <tr>\n",
       "      <th>11</th>\n",
       "      <td>Two or More Races</td>\n",
       "      <td>13.480885</td>\n",
       "      <td>13.324502</td>\n",
       "    </tr>\n",
       "    <tr>\n",
       "      <th>12</th>\n",
       "      <td>Hispanic or Latino</td>\n",
       "      <td>75.306543</td>\n",
       "      <td>67.264161</td>\n",
       "    </tr>\n",
       "    <tr>\n",
       "      <th>13</th>\n",
       "      <td>White alone, Not Hispanic or Latino</td>\n",
       "      <td>356.598968</td>\n",
       "      <td>364.672577</td>\n",
       "    </tr>\n",
       "    <tr>\n",
       "      <th>14</th>\n",
       "      <td>Less than 9th grade</td>\n",
       "      <td>16.792847</td>\n",
       "      <td>15.946058</td>\n",
       "    </tr>\n",
       "    <tr>\n",
       "      <th>15</th>\n",
       "      <td>9th to 12th grade, no diploma</td>\n",
       "      <td>35.449152</td>\n",
       "      <td>35.083956</td>\n",
       "    </tr>\n",
       "    <tr>\n",
       "      <th>16</th>\n",
       "      <td>High school graduate (includes equival...</td>\n",
       "      <td>149.905979</td>\n",
       "      <td>150.437657</td>\n",
       "    </tr>\n",
       "    <tr>\n",
       "      <th>17</th>\n",
       "      <td>Some college, no degree</td>\n",
       "      <td>123.051828</td>\n",
       "      <td>123.615533</td>\n",
       "    </tr>\n",
       "    <tr>\n",
       "      <th>18</th>\n",
       "      <td>Associate's degree</td>\n",
       "      <td>46.381409</td>\n",
       "      <td>46.399089</td>\n",
       "    </tr>\n",
       "    <tr>\n",
       "      <th>19</th>\n",
       "      <td>Bachelor's degree</td>\n",
       "      <td>105.494439</td>\n",
       "      <td>105.362939</td>\n",
       "    </tr>\n",
       "    <tr>\n",
       "      <th>20</th>\n",
       "      <td>Graduate or professional degree</td>\n",
       "      <td>60.924345</td>\n",
       "      <td>61.154769</td>\n",
       "    </tr>\n",
       "    <tr>\n",
       "      <th>21</th>\n",
       "      <td>High school degree or higher</td>\n",
       "      <td>485.758000</td>\n",
       "      <td>486.969986</td>\n",
       "    </tr>\n",
       "    <tr>\n",
       "      <th>22</th>\n",
       "      <td>Bachelor's degree or higher</td>\n",
       "      <td>166.418784</td>\n",
       "      <td>166.517708</td>\n",
       "    </tr>\n",
       "    <tr>\n",
       "      <th>23</th>\n",
       "      <td>Total Citizens, 18 years and older, fo...</td>\n",
       "      <td>523.388921</td>\n",
       "      <td>523.119673</td>\n",
       "    </tr>\n",
       "    <tr>\n",
       "      <th>24</th>\n",
       "      <td>Income in the past 12 months below pov...</td>\n",
       "      <td>56.961435</td>\n",
       "      <td>55.222842</td>\n",
       "    </tr>\n",
       "    <tr>\n",
       "      <th>25</th>\n",
       "      <td>Income in the past 12 months at or abo...</td>\n",
       "      <td>466.427486</td>\n",
       "      <td>467.896831</td>\n",
       "    </tr>\n",
       "    <tr>\n",
       "      <th>26</th>\n",
       "      <td>Median Household Income for Households...</td>\n",
       "      <td>7.690346</td>\n",
       "      <td>10.152847</td>\n",
       "    </tr>\n",
       "  </tbody>\n",
       "</table>\n",
       "</div>"
      ],
      "text/plain": [
       "                                          Demographic    Expected      Actual\n",
       "0                          Citizens 18 years and over  538.000000  538.000000\n",
       "1                                      18 to 29 years  113.186231  113.302263\n",
       "2                                      30 to 44 years  128.553488  128.779645\n",
       "3                                      45 to 64 years  176.485434  176.386966\n",
       "4                                   65 years and over  119.774847  119.531126\n",
       "5                                                Male  260.892997  261.262645\n",
       "6                                              Female  277.107003  276.737355\n",
       "7                                         White alone  407.459799  409.922544\n",
       "8                     Black or African American alone   69.148563   67.080815\n",
       "9                                         Asian alone   24.126736   24.111491\n",
       "10                              Some Other Race alone   18.168042   16.829122\n",
       "11                                  Two or More Races   13.480885   13.324502\n",
       "12                                 Hispanic or Latino   75.306543   67.264161\n",
       "13                White alone, Not Hispanic or Latino  356.598968  364.672577\n",
       "14                                Less than 9th grade   16.792847   15.946058\n",
       "15                      9th to 12th grade, no diploma   35.449152   35.083956\n",
       "16          High school graduate (includes equival...  149.905979  150.437657\n",
       "17                            Some college, no degree  123.051828  123.615533\n",
       "18                                 Associate's degree   46.381409   46.399089\n",
       "19                                  Bachelor's degree  105.494439  105.362939\n",
       "20                    Graduate or professional degree   60.924345   61.154769\n",
       "21                       High school degree or higher  485.758000  486.969986\n",
       "22                        Bachelor's degree or higher  166.418784  166.517708\n",
       "23          Total Citizens, 18 years and older, fo...  523.388921  523.119673\n",
       "24          Income in the past 12 months below pov...   56.961435   55.222842\n",
       "25          Income in the past 12 months at or abo...  466.427486  467.896831\n",
       "26          Median Household Income for Households...    7.690346   10.152847"
      ]
     },
     "execution_count": 121,
     "metadata": {},
     "output_type": "execute_result"
    }
   ],
   "source": [
    "expected_v_actual = pd.DataFrame({\"Demographic\":sum_pop.index, \"Expected\": sum_pop.values, \"Actual\":sum_vote.values})\n",
    "expected_v_actual"
   ]
  },
  {
   "cell_type": "code",
   "execution_count": 122,
   "metadata": {
    "cell_id": "00011-f9e6a38f-b749-439a-a876-893a5e117d7c",
    "execution_millis": 0,
    "execution_start": 1605404581277,
    "output_cleared": false,
    "source_hash": "916b62",
    "tags": []
   },
   "outputs": [],
   "source": [
    "white_addition = expected_v_actual.iloc[13]\n",
    "expected_v_actual.iloc[7,:] += white_addition.values\n",
    "expected_v_actual.iat[7,0] = \"White\"\n",
    "expected_v_actual = expected_v_actual.drop([13])\n",
    "expected_v_actual.index = np.arange(26)"
   ]
  },
  {
   "cell_type": "code",
   "execution_count": 123,
   "metadata": {
    "cell_id": "00012-0d7aef31-634f-422b-9149-22633f681690",
    "execution_millis": 75,
    "execution_start": 1605404581277,
    "output_cleared": false,
    "source_hash": "85282771",
    "tags": []
   },
   "outputs": [],
   "source": [
    "expected_v_actual.to_csv(\"/home/jovyan/work/Electoral_census/Sanjay/Data/2019EvA.csv\", index = False)"
   ]
  },
  {
   "cell_type": "code",
   "execution_count": 124,
   "metadata": {
    "cell_id": "00012-9aff18d8-1239-479c-9937-0b123a38d6a2",
    "execution_millis": 0,
    "execution_start": 1605404581401,
    "output_cleared": false,
    "source_hash": "f5be5506",
    "tags": []
   },
   "outputs": [],
   "source": [
    "def exp_v_act(start_i, end_i):\n",
    "    table = expected_v_actual.iloc[start_i:end_i]\n",
    "    table['Actual'] = table['Actual'] - table['Expected']\n",
    "    g = sns.barplot(data=table, x='Demographic', y='Actual')\n",
    "    g.set_xticklabels(g.get_xticklabels(), rotation=90)\n",
    "    return g"
   ]
  },
  {
   "cell_type": "code",
   "execution_count": 125,
   "metadata": {
    "cell_id": "00013-12291f87-f39b-46bf-84dd-a26d1bc0a62b",
    "execution_millis": 136,
    "execution_start": 1605404581401,
    "output_cleared": false,
    "source_hash": "65a0eb4f",
    "tags": []
   },
   "outputs": [
    {
     "name": "stderr",
     "output_type": "stream",
     "text": [
      "/opt/venv/lib/python3.7/site-packages/ipykernel_launcher.py:3: SettingWithCopyWarning: \n",
      "A value is trying to be set on a copy of a slice from a DataFrame.\n",
      "Try using .loc[row_indexer,col_indexer] = value instead\n",
      "\n",
      "See the caveats in the documentation: https://pandas.pydata.org/pandas-docs/stable/user_guide/indexing.html#returning-a-view-versus-a-copy\n",
      "  This is separate from the ipykernel package so we can avoid doing imports until\n"
     ]
    },
    {
     "data": {
      "text/plain": [
       "<AxesSubplot:xlabel='Demographic', ylabel='Actual'>"
      ]
     },
     "execution_count": 125,
     "metadata": {},
     "output_type": "execute_result"
    },
    {
     "data": {
      "image/png": "[encoded data removed]",
      "text/plain": [
       "<Figure size 432x288 with 1 Axes>"
      ]
     },
     "metadata": {
      "needs_background": "light"
     },
     "output_type": "display_data"
    }
   ],
   "source": [
    "male_female = exp_v_act(5,7)\n",
    "male_female"
   ]
  },
  {
   "cell_type": "code",
   "execution_count": 126,
   "metadata": {
    "cell_id": "00013-3cf6cd75-e28f-4440-8a8d-f0df7dc2e269",
    "execution_millis": 128,
    "execution_start": 1605404581537,
    "output_cleared": false,
    "source_hash": "ae68b75",
    "tags": []
   },
   "outputs": [
    {
     "name": "stderr",
     "output_type": "stream",
     "text": [
      "/opt/venv/lib/python3.7/site-packages/ipykernel_launcher.py:3: SettingWithCopyWarning: \n",
      "A value is trying to be set on a copy of a slice from a DataFrame.\n",
      "Try using .loc[row_indexer,col_indexer] = value instead\n",
      "\n",
      "See the caveats in the documentation: https://pandas.pydata.org/pandas-docs/stable/user_guide/indexing.html#returning-a-view-versus-a-copy\n",
      "  This is separate from the ipykernel package so we can avoid doing imports until\n"
     ]
    },
    {
     "data": {
      "text/plain": [
       "<AxesSubplot:xlabel='Demographic', ylabel='Actual'>"
      ]
     },
     "execution_count": 126,
     "metadata": {},
     "output_type": "execute_result"
    },
    {
     "data": {
      "image/png": "[encoded data removed]",
      "text/plain": [
       "<Figure size 432x288 with 1 Axes>"
      ]
     },
     "metadata": {
      "needs_background": "light"
     },
     "output_type": "display_data"
    }
   ],
   "source": [
    "race_diff = exp_v_act(7,13)\n",
    "race_diff"
   ]
  },
  {
   "cell_type": "code",
   "execution_count": 126,
   "metadata": {
    "cell_id": "00014-849014bf-010a-4317-b174-93894cc33592",
    "execution_millis": 0,
    "execution_start": 1605404581709,
    "output_cleared": false,
    "source_hash": "b623e53d",
    "tags": []
   },
   "outputs": [],
   "source": []
  }
 ],
 "metadata": {
  "deepnote_execution_queue": [],
  "deepnote_notebook_id": "54239438-b01a-4e0b-bc13-59f0f7c1f30f",
  "kernelspec": {
   "display_name": "Python 3",
   "language": "python",
   "name": "python3"
  },
  "language_info": {
   "codemirror_mode": {
    "name": "ipython",
    "version": 3
   },
   "file_extension": ".py",
   "mimetype": "text/x-python",
   "name": "python",
   "nbconvert_exporter": "python",
   "pygments_lexer": "ipython3",
   "version": "3.7.6"
  }
 },
 "nbformat": 4,
 "nbformat_minor": 2
}
