{
 "cells": [
  {
   "cell_type": "code",
   "execution_count": 227,
   "metadata": {
    "cell_id": "00000-4752f9b1-d8a3-47ff-9375-a866ae06ceca",
    "execution_millis": 0,
    "execution_start": 1605410373669,
    "output_cleared": false,
    "source_hash": "24b26b86",
    "tags": []
   },
   "outputs": [],
   "source": [
    "import pandas as pd\n",
    "import numpy as np\n",
    "import matplotlib.pyplot as plt\n",
    "import seaborn as sns"
   ]
  },
  {
   "cell_type": "code",
   "execution_count": 228,
   "metadata": {
    "cell_id": "00000-30f5ad69-6351-474f-87b5-7dc3f742212e",
    "execution_millis": 1,
    "execution_start": 1605410373669,
    "output_cleared": false,
    "source_hash": "d8053951",
    "tags": []
   },
   "outputs": [],
   "source": [
    "data17 = pd.read_csv(\"/home/jovyan/work/Electoral_census/Sanjay/Data/2017EvA.csv\")\n",
    "data18 = pd.read_csv(\"/home/jovyan/work/Electoral_census/Sanjay/Data/2018EvA.csv\")\n",
    "data19 = pd.read_csv(\"/home/jovyan/work/Electoral_census/Sanjay/Data/2019EvA.csv\")"
   ]
  },
  {
   "cell_type": "code",
   "execution_count": 229,
   "metadata": {
    "cell_id": "00004-27d91d3c-ef99-4443-b477-e2901b9b8a8d",
    "execution_millis": 36,
    "execution_start": 1605410373670,
    "output_cleared": false,
    "source_hash": "9087b677",
    "tags": []
   },
   "outputs": [
    {
     "data": {
      "application/vnd.deepnote.dataframe.v2+json": {
       "column_count": 3,
       "columns": [
        {
         "dtype": "object",
         "name": "Demographic",
         "stats": {
          "categories": [
           {
            "count": 1,
            "name": "Citizens 18 years and over"
           },
           {
            "count": 1,
            "name": "        18 to 29 years"
           },
           {
            "count": 24,
            "name": "24 others"
           }
          ],
          "nan_count": 0,
          "unique_count": 26
         }
        },
        {
         "dtype": "float64",
         "name": "Expected",
         "stats": {
          "histogram": [
           {
            "bin_end": 83.3827936052418,
            "bin_start": 7.346473183834622,
            "count": 11
           },
           {
            "bin_end": 159.419114026649,
            "bin_start": 83.3827936052418,
            "count": 6
           },
           {
            "bin_end": 235.45543444805617,
            "bin_start": 159.419114026649,
            "count": 2
           },
           {
            "bin_end": 311.49175486946336,
            "bin_start": 235.45543444805617,
            "count": 2
           },
           {
            "bin_end": 387.52807529087056,
            "bin_start": 311.49175486946336,
            "count": 0
           },
           {
            "bin_end": 463.5643957122777,
            "bin_start": 387.52807529087056,
            "count": 1
           },
           {
            "bin_end": 539.600716133685,
            "bin_start": 463.5643957122777,
            "count": 3
           },
           {
            "bin_end": 615.6370365550921,
            "bin_start": 539.600716133685,
            "count": 0
           },
           {
            "bin_end": 691.6733569764992,
            "bin_start": 615.6370365550921,
            "count": 0
           },
           {
            "bin_end": 767.7096773979065,
            "bin_start": 691.6733569764992,
            "count": 1
           }
          ],
          "max": 767.7096773979065,
          "min": 7.346473183834622,
          "nan_count": 0,
          "unique_count": 26
         }
        },
        {
         "dtype": "float64",
         "name": "Actual",
         "stats": {
          "histogram": [
           {
            "bin_end": 91.67685288614193,
            "bin_start": 15.54450547694724,
            "count": 11
           },
           {
            "bin_end": 167.80920029533664,
            "bin_start": 91.67685288614193,
            "count": 7
           },
           {
            "bin_end": 243.94154770453133,
            "bin_start": 167.80920029533664,
            "count": 1
           },
           {
            "bin_end": 320.073895113726,
            "bin_start": 243.94154770453133,
            "count": 2
           },
           {
            "bin_end": 396.2062425229207,
            "bin_start": 320.073895113726,
            "count": 0
           },
           {
            "bin_end": 472.3385899321154,
            "bin_start": 396.2062425229207,
            "count": 1
           },
           {
            "bin_end": 548.4709373413101,
            "bin_start": 472.3385899321154,
            "count": 3
           },
           {
            "bin_end": 624.6032847505048,
            "bin_start": 548.4709373413101,
            "count": 0
           },
           {
            "bin_end": 700.7356321596995,
            "bin_start": 624.6032847505048,
            "count": 0
           },
           {
            "bin_end": 776.8679795688942,
            "bin_start": 700.7356321596995,
            "count": 1
           }
          ],
          "max": 776.8679795688942,
          "min": 15.54450547694724,
          "nan_count": 0,
          "unique_count": 26
         }
        },
        {
         "dtype": "int64",
         "name": "_deepnote_index_column"
        }
       ],
       "row_count": 26,
       "rows_bottom": null,
       "rows_top": [
        {
         "Actual": 538,
         "Demographic": "Citizens 18 years and over",
         "Expected": 538,
         "_deepnote_index_column": 0
        },
        {
         "Actual": 112.8325321381604,
         "Demographic": "        18 to 29 years",
         "Expected": 114.48979746596342,
         "_deepnote_index_column": 1
        },
        {
         "Actual": 126.54106612378608,
         "Demographic": "        30 to 44 years",
         "Expected": 127.4474482866675,
         "_deepnote_index_column": 2
        },
        {
         "Actual": 178.919463695523,
         "Demographic": "        45 to 64 years",
         "Expected": 179.16713032687218,
         "_deepnote_index_column": 3
        },
        {
         "Actual": 119.70693804253052,
         "Demographic": "        65 years and over",
         "Expected": 116.89562392049692,
         "_deepnote_index_column": 4
        },
        {
         "Actual": 261.8682905529434,
         "Demographic": "        Male",
         "Expected": 260.8819596732995,
         "_deepnote_index_column": 5
        },
        {
         "Actual": 276.1317094470566,
         "Demographic": "        Female",
         "Expected": 277.1180403267005,
         "_deepnote_index_column": 6
        },
        {
         "Actual": 776.8679795688942,
         "Demographic": "White",
         "Expected": 767.7096773979065,
         "_deepnote_index_column": 7
        },
        {
         "Actual": 65.35016960383868,
         "Demographic": "        Black or African American alone",
         "Expected": 68.75612360849689,
         "_deepnote_index_column": 8
        },
        {
         "Actual": 26.14822937028193,
         "Demographic": "        Asian alone",
         "Expected": 23.650995864366532,
         "_deepnote_index_column": 9
        },
        {
         "Actual": 15.54450547694724,
         "Demographic": "Some Other Race alone",
         "Expected": 18.88454490530615,
         "_deepnote_index_column": 10
        },
        {
         "Actual": 17.105040530822226,
         "Demographic": "        Two or More Races",
         "Expected": 13.20602117043298,
         "_deepnote_index_column": 11
        },
        {
         "Actual": 54.082259275080204,
         "Demographic": "        Hispanic or Latino",
         "Expected": 73.72085799420559,
         "_deepnote_index_column": 12
        },
        {
         "Actual": 15.902472144155636,
         "Demographic": "        Less than 9th grade",
         "Expected": 16.997398238723505,
         "_deepnote_index_column": 13
        },
        {
         "Actual": 35.19373529477443,
         "Demographic": "        9th to 12th grade, no diploma",
         "Expected": 36.48839979190314,
         "_deepnote_index_column": 14
        },
        {
         "Actual": 158.6111464068993,
         "Demographic": "        High school graduate (includes equivalency)",
         "Expected": 149.6691452313101,
         "_deepnote_index_column": 15
        },
        {
         "Actual": 123.04608890662772,
         "Demographic": "        Some college, no degree",
         "Expected": 125.16311958827607,
         "_deepnote_index_column": 16
        },
        {
         "Actual": 46.758655863008975,
         "Demographic": "        Associate's degree",
         "Expected": 46.11676830134793,
         "_deepnote_index_column": 17
        },
        {
         "Actual": 100.00563664643155,
         "Demographic": "        Bachelor's degree",
         "Expected": 103.55652141038269,
         "_deepnote_index_column": 18
        },
        {
         "Actual": 58.48226473810246,
         "Demographic": "        Graduate or professional degree",
         "Expected": 60.00864743805656,
         "_deepnote_index_column": 19
        },
        {
         "Actual": 486.90379256107,
         "Demographic": "        High school degree or higher",
         "Expected": 484.5142019693734,
         "_deepnote_index_column": 20
        },
        {
         "Actual": 158.48790138453398,
         "Demographic": "        Bachelor's degree or higher",
         "Expected": 163.56516884843919,
         "_deepnote_index_column": 21
        },
        {
         "Actual": 522.075528896243,
         "Demographic": "        Total Citizens, 18 years and older, for whom poverty status is determined",
         "Expected": 523.2579259320413,
         "_deepnote_index_column": 22
        },
        {
         "Actual": 61.22025161739261,
         "Demographic": "        Income in the past 12 months below poverty level",
         "Expected": 59.7198051775475,
         "_deepnote_index_column": 23
        },
        {
         "Actual": 460.8552772788504,
         "Demographic": "        Income in the past 12 months at or above the poverty level",
         "Expected": 463.5381207544938,
         "_deepnote_index_column": 24
        },
        {
         "Actual": 18.908317560089284,
         "Demographic": "        Median Household Income for Households with a Citizen, Voting-Age Householder",
         "Expected": 7.346473183834622,
         "_deepnote_index_column": 25
        }
       ]
      },
      "text/html": [
       "<div>\n",
       "<style scoped>\n",
       "    .dataframe tbody tr th:only-of-type {\n",
       "        vertical-align: middle;\n",
       "    }\n",
       "\n",
       "    .dataframe tbody tr th {\n",
       "        vertical-align: top;\n",
       "    }\n",
       "\n",
       "    .dataframe thead th {\n",
       "        text-align: right;\n",
       "    }\n",
       "</style>\n",
       "<table border=\"1\" class=\"dataframe\">\n",
       "  <thead>\n",
       "    <tr style=\"text-align: right;\">\n",
       "      <th></th>\n",
       "      <th>Demographic</th>\n",
       "      <th>Expected</th>\n",
       "      <th>Actual</th>\n",
       "    </tr>\n",
       "  </thead>\n",
       "  <tbody>\n",
       "    <tr>\n",
       "      <th>0</th>\n",
       "      <td>Citizens 18 years and over</td>\n",
       "      <td>538.000000</td>\n",
       "      <td>538.000000</td>\n",
       "    </tr>\n",
       "    <tr>\n",
       "      <th>1</th>\n",
       "      <td>18 to 29 years</td>\n",
       "      <td>114.489797</td>\n",
       "      <td>112.832532</td>\n",
       "    </tr>\n",
       "    <tr>\n",
       "      <th>2</th>\n",
       "      <td>30 to 44 years</td>\n",
       "      <td>127.447448</td>\n",
       "      <td>126.541066</td>\n",
       "    </tr>\n",
       "    <tr>\n",
       "      <th>3</th>\n",
       "      <td>45 to 64 years</td>\n",
       "      <td>179.167130</td>\n",
       "      <td>178.919464</td>\n",
       "    </tr>\n",
       "    <tr>\n",
       "      <th>4</th>\n",
       "      <td>65 years and over</td>\n",
       "      <td>116.895624</td>\n",
       "      <td>119.706938</td>\n",
       "    </tr>\n",
       "    <tr>\n",
       "      <th>5</th>\n",
       "      <td>Male</td>\n",
       "      <td>260.881960</td>\n",
       "      <td>261.868291</td>\n",
       "    </tr>\n",
       "    <tr>\n",
       "      <th>6</th>\n",
       "      <td>Female</td>\n",
       "      <td>277.118040</td>\n",
       "      <td>276.131709</td>\n",
       "    </tr>\n",
       "    <tr>\n",
       "      <th>7</th>\n",
       "      <td>White</td>\n",
       "      <td>767.709677</td>\n",
       "      <td>776.867980</td>\n",
       "    </tr>\n",
       "    <tr>\n",
       "      <th>8</th>\n",
       "      <td>Black or African American alone</td>\n",
       "      <td>68.756124</td>\n",
       "      <td>65.350170</td>\n",
       "    </tr>\n",
       "    <tr>\n",
       "      <th>9</th>\n",
       "      <td>Asian alone</td>\n",
       "      <td>23.650996</td>\n",
       "      <td>26.148229</td>\n",
       "    </tr>\n",
       "    <tr>\n",
       "      <th>10</th>\n",
       "      <td>Some Other Race alone</td>\n",
       "      <td>18.884545</td>\n",
       "      <td>15.544505</td>\n",
       "    </tr>\n",
       "    <tr>\n",
       "      <th>11</th>\n",
       "      <td>Two or More Races</td>\n",
       "      <td>13.206021</td>\n",
       "      <td>17.105041</td>\n",
       "    </tr>\n",
       "    <tr>\n",
       "      <th>12</th>\n",
       "      <td>Hispanic or Latino</td>\n",
       "      <td>73.720858</td>\n",
       "      <td>54.082259</td>\n",
       "    </tr>\n",
       "    <tr>\n",
       "      <th>13</th>\n",
       "      <td>Less than 9th grade</td>\n",
       "      <td>16.997398</td>\n",
       "      <td>15.902472</td>\n",
       "    </tr>\n",
       "    <tr>\n",
       "      <th>14</th>\n",
       "      <td>9th to 12th grade, no diploma</td>\n",
       "      <td>36.488400</td>\n",
       "      <td>35.193735</td>\n",
       "    </tr>\n",
       "    <tr>\n",
       "      <th>15</th>\n",
       "      <td>High school graduate (includes equival...</td>\n",
       "      <td>149.669145</td>\n",
       "      <td>158.611146</td>\n",
       "    </tr>\n",
       "    <tr>\n",
       "      <th>16</th>\n",
       "      <td>Some college, no degree</td>\n",
       "      <td>125.163120</td>\n",
       "      <td>123.046089</td>\n",
       "    </tr>\n",
       "    <tr>\n",
       "      <th>17</th>\n",
       "      <td>Associate's degree</td>\n",
       "      <td>46.116768</td>\n",
       "      <td>46.758656</td>\n",
       "    </tr>\n",
       "    <tr>\n",
       "      <th>18</th>\n",
       "      <td>Bachelor's degree</td>\n",
       "      <td>103.556521</td>\n",
       "      <td>100.005637</td>\n",
       "    </tr>\n",
       "    <tr>\n",
       "      <th>19</th>\n",
       "      <td>Graduate or professional degree</td>\n",
       "      <td>60.008647</td>\n",
       "      <td>58.482265</td>\n",
       "    </tr>\n",
       "    <tr>\n",
       "      <th>20</th>\n",
       "      <td>High school degree or higher</td>\n",
       "      <td>484.514202</td>\n",
       "      <td>486.903793</td>\n",
       "    </tr>\n",
       "    <tr>\n",
       "      <th>21</th>\n",
       "      <td>Bachelor's degree or higher</td>\n",
       "      <td>163.565169</td>\n",
       "      <td>158.487901</td>\n",
       "    </tr>\n",
       "    <tr>\n",
       "      <th>22</th>\n",
       "      <td>Total Citizens, 18 years and older, fo...</td>\n",
       "      <td>523.257926</td>\n",
       "      <td>522.075529</td>\n",
       "    </tr>\n",
       "    <tr>\n",
       "      <th>23</th>\n",
       "      <td>Income in the past 12 months below pov...</td>\n",
       "      <td>59.719805</td>\n",
       "      <td>61.220252</td>\n",
       "    </tr>\n",
       "    <tr>\n",
       "      <th>24</th>\n",
       "      <td>Income in the past 12 months at or abo...</td>\n",
       "      <td>463.538121</td>\n",
       "      <td>460.855277</td>\n",
       "    </tr>\n",
       "    <tr>\n",
       "      <th>25</th>\n",
       "      <td>Median Household Income for Households...</td>\n",
       "      <td>7.346473</td>\n",
       "      <td>18.908318</td>\n",
       "    </tr>\n",
       "  </tbody>\n",
       "</table>\n",
       "</div>"
      ],
      "text/plain": [
       "                                          Demographic    Expected      Actual\n",
       "0                          Citizens 18 years and over  538.000000  538.000000\n",
       "1                                      18 to 29 years  114.489797  112.832532\n",
       "2                                      30 to 44 years  127.447448  126.541066\n",
       "3                                      45 to 64 years  179.167130  178.919464\n",
       "4                                   65 years and over  116.895624  119.706938\n",
       "5                                                Male  260.881960  261.868291\n",
       "6                                              Female  277.118040  276.131709\n",
       "7                                               White  767.709677  776.867980\n",
       "8                     Black or African American alone   68.756124   65.350170\n",
       "9                                         Asian alone   23.650996   26.148229\n",
       "10                              Some Other Race alone   18.884545   15.544505\n",
       "11                                  Two or More Races   13.206021   17.105041\n",
       "12                                 Hispanic or Latino   73.720858   54.082259\n",
       "13                                Less than 9th grade   16.997398   15.902472\n",
       "14                      9th to 12th grade, no diploma   36.488400   35.193735\n",
       "15          High school graduate (includes equival...  149.669145  158.611146\n",
       "16                            Some college, no degree  125.163120  123.046089\n",
       "17                                 Associate's degree   46.116768   46.758656\n",
       "18                                  Bachelor's degree  103.556521  100.005637\n",
       "19                    Graduate or professional degree   60.008647   58.482265\n",
       "20                       High school degree or higher  484.514202  486.903793\n",
       "21                        Bachelor's degree or higher  163.565169  158.487901\n",
       "22          Total Citizens, 18 years and older, fo...  523.257926  522.075529\n",
       "23          Income in the past 12 months below pov...   59.719805   61.220252\n",
       "24          Income in the past 12 months at or abo...  463.538121  460.855277\n",
       "25          Median Household Income for Households...    7.346473   18.908318"
      ]
     },
     "execution_count": 229,
     "metadata": {},
     "output_type": "execute_result"
    }
   ],
   "source": [
    "data18"
   ]
  },
  {
   "cell_type": "code",
   "execution_count": 230,
   "metadata": {
    "cell_id": "00005-9ccdbc83-3565-4b8a-9ad2-f429ce8b6fef",
    "execution_millis": 42,
    "execution_start": 1605410373707,
    "output_cleared": false,
    "source_hash": "49bc804b",
    "tags": []
   },
   "outputs": [
    {
     "data": {
      "application/vnd.deepnote.dataframe.v2+json": {
       "column_count": 2,
       "columns": [
        {
         "dtype": "object",
         "name": "Demographic",
         "stats": {
          "categories": [
           {
            "count": 1,
            "name": "Citizens 18 years and over"
           },
           {
            "count": 1,
            "name": "        18 to 29 years"
           },
           {
            "count": 24,
            "name": "24 others"
           }
          ],
          "nan_count": 0,
          "unique_count": 26
         }
        },
        {
         "dtype": "float64",
         "name": "Deltas",
         "stats": {
          "histogram": [
           {
            "bin_end": -6.184508248942715,
            "bin_start": -8.042381826025377,
            "count": 1
           },
           {
            "bin_end": -4.3266346718600515,
            "bin_start": -6.184508248942715,
            "count": 0
           },
           {
            "bin_end": -2.4687610947773884,
            "bin_start": -4.3266346718600515,
            "count": 0
           },
           {
            "bin_end": -0.6108875176947262,
            "bin_start": -2.4687610947773884,
            "count": 4
           },
           {
            "bin_end": 1.246986059387936,
            "bin_start": -0.6108875176947262,
            "count": 18
           },
           {
            "bin_end": 3.1048596364706,
            "bin_start": 1.246986059387936,
            "count": 2
           },
           {
            "bin_end": 4.962733213553262,
            "bin_start": 3.1048596364706,
            "count": 0
           },
           {
            "bin_end": 6.8206067906359245,
            "bin_start": 4.962733213553262,
            "count": 0
           },
           {
            "bin_end": 8.678480367718588,
            "bin_start": 6.8206067906359245,
            "count": 0
           },
           {
            "bin_end": 10.536353944801249,
            "bin_start": 8.678480367718588,
            "count": 1
           }
          ],
          "max": 10.536353944801249,
          "min": -8.042381826025377,
          "nan_count": 0,
          "unique_count": 26
         }
        },
        {
         "dtype": "int64",
         "name": "_deepnote_index_column"
        }
       ],
       "row_count": 26,
       "rows_bottom": null,
       "rows_top": [
        {
         "Deltas": 0,
         "Demographic": "Citizens 18 years and over",
         "_deepnote_index_column": 0
        },
        {
         "Deltas": 0.1160319473757454,
         "Demographic": "        18 to 29 years",
         "_deepnote_index_column": 1
        },
        {
         "Deltas": 0.2261566958281378,
         "Demographic": "        30 to 44 years",
         "_deepnote_index_column": 2
        },
        {
         "Deltas": -0.09846763393076685,
         "Demographic": "        45 to 64 years",
         "_deepnote_index_column": 3
        },
        {
         "Deltas": -0.24372100927313056,
         "Demographic": "        65 years and over",
         "_deepnote_index_column": 4
        },
        {
         "Deltas": 0.3696477798615092,
         "Demographic": "        Male",
         "_deepnote_index_column": 5
        },
        {
         "Deltas": -0.36964777986156605,
         "Demographic": "        Female",
         "_deepnote_index_column": 6
        },
        {
         "Deltas": 10.536353944801249,
         "Demographic": "White",
         "_deepnote_index_column": 7
        },
        {
         "Deltas": -2.067748122179424,
         "Demographic": "        Black or African American alone",
         "_deepnote_index_column": 8
        },
        {
         "Deltas": -0.015245483398615534,
         "Demographic": "        Asian alone",
         "_deepnote_index_column": 9
        },
        {
         "Deltas": -1.3389195613526432,
         "Demographic": "        Some Other Race alone",
         "_deepnote_index_column": 10
        },
        {
         "Deltas": -0.15638334355540273,
         "Demographic": "        Two or More Races",
         "_deepnote_index_column": 11
        },
        {
         "Deltas": -8.042381826025377,
         "Demographic": "        Hispanic or Latino",
         "_deepnote_index_column": 12
        },
        {
         "Deltas": -0.8467892919524829,
         "Demographic": "        Less than 9th grade",
         "_deepnote_index_column": 13
        },
        {
         "Deltas": -0.36519672983711615,
         "Demographic": "        9th to 12th grade, no diploma",
         "_deepnote_index_column": 14
        },
        {
         "Deltas": 0.5316776653229454,
         "Demographic": "        High school graduate (includes equivalency)",
         "_deepnote_index_column": 15
        },
        {
         "Deltas": 0.5637047279077194,
         "Demographic": "        Some college, no degree",
         "_deepnote_index_column": 16
        },
        {
         "Deltas": 0.01767930871319834,
         "Demographic": "        Associate's degree",
         "_deepnote_index_column": 17
        },
        {
         "Deltas": -0.13149953029827088,
         "Demographic": "        Bachelor's degree",
         "_deepnote_index_column": 18
        },
        {
         "Deltas": 0.230423850144021,
         "Demographic": "        Graduate or professional degree",
         "_deepnote_index_column": 19
        },
        {
         "Deltas": 1.211986021789528,
         "Demographic": "        High school degree or higher",
         "_deepnote_index_column": 20
        },
        {
         "Deltas": 0.09892431984576433,
         "Demographic": "        Bachelor's degree or higher",
         "_deepnote_index_column": 21
        },
        {
         "Deltas": -0.26924761827274324,
         "Demographic": "        Total Citizens, 18 years and older, for whom poverty status is determined",
         "_deepnote_index_column": 22
        },
        {
         "Deltas": -1.7385929912935154,
         "Demographic": "        Income in the past 12 months below poverty level",
         "_deepnote_index_column": 23
        },
        {
         "Deltas": 1.4693453730208148,
         "Demographic": "        Income in the past 12 months at or above the poverty level",
         "_deepnote_index_column": 24
        },
        {
         "Deltas": 2.4625014942592545,
         "Demographic": "        Median Household Income for Households with a Citizen, Voting-Age Householder",
         "_deepnote_index_column": 25
        }
       ]
      },
      "text/html": [
       "<div>\n",
       "<style scoped>\n",
       "    .dataframe tbody tr th:only-of-type {\n",
       "        vertical-align: middle;\n",
       "    }\n",
       "\n",
       "    .dataframe tbody tr th {\n",
       "        vertical-align: top;\n",
       "    }\n",
       "\n",
       "    .dataframe thead th {\n",
       "        text-align: right;\n",
       "    }\n",
       "</style>\n",
       "<table border=\"1\" class=\"dataframe\">\n",
       "  <thead>\n",
       "    <tr style=\"text-align: right;\">\n",
       "      <th></th>\n",
       "      <th>Demographic</th>\n",
       "      <th>Deltas</th>\n",
       "    </tr>\n",
       "  </thead>\n",
       "  <tbody>\n",
       "    <tr>\n",
       "      <th>0</th>\n",
       "      <td>Citizens 18 years and over</td>\n",
       "      <td>0.000000</td>\n",
       "    </tr>\n",
       "    <tr>\n",
       "      <th>1</th>\n",
       "      <td>18 to 29 years</td>\n",
       "      <td>0.116032</td>\n",
       "    </tr>\n",
       "    <tr>\n",
       "      <th>2</th>\n",
       "      <td>30 to 44 years</td>\n",
       "      <td>0.226157</td>\n",
       "    </tr>\n",
       "    <tr>\n",
       "      <th>3</th>\n",
       "      <td>45 to 64 years</td>\n",
       "      <td>-0.098468</td>\n",
       "    </tr>\n",
       "    <tr>\n",
       "      <th>4</th>\n",
       "      <td>65 years and over</td>\n",
       "      <td>-0.243721</td>\n",
       "    </tr>\n",
       "    <tr>\n",
       "      <th>5</th>\n",
       "      <td>Male</td>\n",
       "      <td>0.369648</td>\n",
       "    </tr>\n",
       "    <tr>\n",
       "      <th>6</th>\n",
       "      <td>Female</td>\n",
       "      <td>-0.369648</td>\n",
       "    </tr>\n",
       "    <tr>\n",
       "      <th>7</th>\n",
       "      <td>White</td>\n",
       "      <td>10.536354</td>\n",
       "    </tr>\n",
       "    <tr>\n",
       "      <th>8</th>\n",
       "      <td>Black or African American alone</td>\n",
       "      <td>-2.067748</td>\n",
       "    </tr>\n",
       "    <tr>\n",
       "      <th>9</th>\n",
       "      <td>Asian alone</td>\n",
       "      <td>-0.015245</td>\n",
       "    </tr>\n",
       "    <tr>\n",
       "      <th>10</th>\n",
       "      <td>Some Other Race alone</td>\n",
       "      <td>-1.338920</td>\n",
       "    </tr>\n",
       "    <tr>\n",
       "      <th>11</th>\n",
       "      <td>Two or More Races</td>\n",
       "      <td>-0.156383</td>\n",
       "    </tr>\n",
       "    <tr>\n",
       "      <th>12</th>\n",
       "      <td>Hispanic or Latino</td>\n",
       "      <td>-8.042382</td>\n",
       "    </tr>\n",
       "    <tr>\n",
       "      <th>13</th>\n",
       "      <td>Less than 9th grade</td>\n",
       "      <td>-0.846789</td>\n",
       "    </tr>\n",
       "    <tr>\n",
       "      <th>14</th>\n",
       "      <td>9th to 12th grade, no diploma</td>\n",
       "      <td>-0.365197</td>\n",
       "    </tr>\n",
       "    <tr>\n",
       "      <th>15</th>\n",
       "      <td>High school graduate (includes equival...</td>\n",
       "      <td>0.531678</td>\n",
       "    </tr>\n",
       "    <tr>\n",
       "      <th>16</th>\n",
       "      <td>Some college, no degree</td>\n",
       "      <td>0.563705</td>\n",
       "    </tr>\n",
       "    <tr>\n",
       "      <th>17</th>\n",
       "      <td>Associate's degree</td>\n",
       "      <td>0.017679</td>\n",
       "    </tr>\n",
       "    <tr>\n",
       "      <th>18</th>\n",
       "      <td>Bachelor's degree</td>\n",
       "      <td>-0.131500</td>\n",
       "    </tr>\n",
       "    <tr>\n",
       "      <th>19</th>\n",
       "      <td>Graduate or professional degree</td>\n",
       "      <td>0.230424</td>\n",
       "    </tr>\n",
       "    <tr>\n",
       "      <th>20</th>\n",
       "      <td>High school degree or higher</td>\n",
       "      <td>1.211986</td>\n",
       "    </tr>\n",
       "    <tr>\n",
       "      <th>21</th>\n",
       "      <td>Bachelor's degree or higher</td>\n",
       "      <td>0.098924</td>\n",
       "    </tr>\n",
       "    <tr>\n",
       "      <th>22</th>\n",
       "      <td>Total Citizens, 18 years and older, fo...</td>\n",
       "      <td>-0.269248</td>\n",
       "    </tr>\n",
       "    <tr>\n",
       "      <th>23</th>\n",
       "      <td>Income in the past 12 months below pov...</td>\n",
       "      <td>-1.738593</td>\n",
       "    </tr>\n",
       "    <tr>\n",
       "      <th>24</th>\n",
       "      <td>Income in the past 12 months at or abo...</td>\n",
       "      <td>1.469345</td>\n",
       "    </tr>\n",
       "    <tr>\n",
       "      <th>25</th>\n",
       "      <td>Median Household Income for Households...</td>\n",
       "      <td>2.462501</td>\n",
       "    </tr>\n",
       "  </tbody>\n",
       "</table>\n",
       "</div>"
      ],
      "text/plain": [
       "                                          Demographic     Deltas\n",
       "0                          Citizens 18 years and over   0.000000\n",
       "1                                      18 to 29 years   0.116032\n",
       "2                                      30 to 44 years   0.226157\n",
       "3                                      45 to 64 years  -0.098468\n",
       "4                                   65 years and over  -0.243721\n",
       "5                                                Male   0.369648\n",
       "6                                              Female  -0.369648\n",
       "7                                               White  10.536354\n",
       "8                     Black or African American alone  -2.067748\n",
       "9                                         Asian alone  -0.015245\n",
       "10                              Some Other Race alone  -1.338920\n",
       "11                                  Two or More Races  -0.156383\n",
       "12                                 Hispanic or Latino  -8.042382\n",
       "13                                Less than 9th grade  -0.846789\n",
       "14                      9th to 12th grade, no diploma  -0.365197\n",
       "15          High school graduate (includes equival...   0.531678\n",
       "16                            Some college, no degree   0.563705\n",
       "17                                 Associate's degree   0.017679\n",
       "18                                  Bachelor's degree  -0.131500\n",
       "19                    Graduate or professional degree   0.230424\n",
       "20                       High school degree or higher   1.211986\n",
       "21                        Bachelor's degree or higher   0.098924\n",
       "22          Total Citizens, 18 years and older, fo...  -0.269248\n",
       "23          Income in the past 12 months below pov...  -1.738593\n",
       "24          Income in the past 12 months at or abo...   1.469345\n",
       "25          Median Household Income for Households...   2.462501"
      ]
     },
     "execution_count": 230,
     "metadata": {},
     "output_type": "execute_result"
    }
   ],
   "source": [
    "diff19 = data19.iloc[:, 2] - data19.iloc[:, 1]\n",
    "delta19 = data19.copy().drop([\"Expected\", \"Actual\"], axis = 1)\n",
    "delta19[\"Deltas\"] = diff19\n",
    "delta19"
   ]
  },
  {
   "cell_type": "code",
   "execution_count": 231,
   "metadata": {
    "cell_id": "00004-d68bd34e-582e-4231-8912-288371091c55",
    "execution_millis": 7,
    "execution_start": 1605410373749,
    "output_cleared": false,
    "source_hash": "d36071ce",
    "tags": []
   },
   "outputs": [
    {
     "data": {
      "application/vnd.deepnote.dataframe.v2+json": {
       "column_count": 2,
       "columns": [
        {
         "dtype": "object",
         "name": "Demographic",
         "stats": {
          "categories": [
           {
            "count": 1,
            "name": "Citizens 18 years and over"
           },
           {
            "count": 1,
            "name": "        18 to 29 years"
           },
           {
            "count": 24,
            "name": "24 others"
           }
          ],
          "nan_count": 0,
          "unique_count": 26
         }
        },
        {
         "dtype": "float64",
         "name": "Deltas",
         "stats": {
          "histogram": [
           {
            "bin_end": -16.518554409587377,
            "bin_start": -19.638598719125383,
            "count": 1
           },
           {
            "bin_end": -13.398510100049375,
            "bin_start": -16.518554409587377,
            "count": 0
           },
           {
            "bin_end": -10.278465790511369,
            "bin_start": -13.398510100049375,
            "count": 0
           },
           {
            "bin_end": -7.158421480973365,
            "bin_start": -10.278465790511369,
            "count": 0
           },
           {
            "bin_end": -4.038377171435361,
            "bin_start": -7.158421480973365,
            "count": 1
           },
           {
            "bin_end": -0.9183328618973547,
            "bin_start": -4.038377171435361,
            "count": 11
           },
           {
            "bin_end": 2.2017114476406476,
            "bin_start": -0.9183328618973547,
            "count": 6
           },
           {
            "bin_end": 5.321755757178654,
            "bin_start": 2.2017114476406476,
            "count": 4
           },
           {
            "bin_end": 8.44180006671666,
            "bin_start": 5.321755757178654,
            "count": 0
           },
           {
            "bin_end": 11.561844376254662,
            "bin_start": 8.44180006671666,
            "count": 3
           }
          ],
          "max": 11.561844376254662,
          "min": -19.638598719125383,
          "nan_count": 0,
          "unique_count": 26
         }
        },
        {
         "dtype": "int64",
         "name": "_deepnote_index_column"
        }
       ],
       "row_count": 26,
       "rows_bottom": null,
       "rows_top": [
        {
         "Deltas": 0,
         "Demographic": "Citizens 18 years and over",
         "_deepnote_index_column": 0
        },
        {
         "Deltas": -1.6572653278030174,
         "Demographic": "        18 to 29 years",
         "_deepnote_index_column": 1
        },
        {
         "Deltas": -0.9063821628814139,
         "Demographic": "        30 to 44 years",
         "_deepnote_index_column": 2
        },
        {
         "Deltas": -0.24766663134917621,
         "Demographic": "        45 to 64 years",
         "_deepnote_index_column": 3
        },
        {
         "Deltas": 2.8113141220336075,
         "Demographic": "        65 years and over",
         "_deepnote_index_column": 4
        },
        {
         "Deltas": 0.9863308796439014,
         "Demographic": "        Male",
         "_deepnote_index_column": 5
        },
        {
         "Deltas": -0.9863308796439014,
         "Demographic": "        Female",
         "_deepnote_index_column": 6
        },
        {
         "Deltas": 9.158302170987668,
         "Demographic": "White",
         "_deepnote_index_column": 7
        },
        {
         "Deltas": -3.405954004658213,
         "Demographic": "        Black or African American alone",
         "_deepnote_index_column": 8
        },
        {
         "Deltas": 2.4972335059153963,
         "Demographic": "        Asian alone",
         "_deepnote_index_column": 9
        },
        {
         "Deltas": -3.34003942835891,
         "Demographic": "Some Other Race alone",
         "_deepnote_index_column": 10
        },
        {
         "Deltas": 3.8990193603892465,
         "Demographic": "        Two or More Races",
         "_deepnote_index_column": 11
        },
        {
         "Deltas": -19.638598719125383,
         "Demographic": "        Hispanic or Latino",
         "_deepnote_index_column": 12
        },
        {
         "Deltas": -1.0949260945678692,
         "Demographic": "        Less than 9th grade",
         "_deepnote_index_column": 13
        },
        {
         "Deltas": -1.2946644971287142,
         "Demographic": "        9th to 12th grade, no diploma",
         "_deepnote_index_column": 14
        },
        {
         "Deltas": 8.942001175589212,
         "Demographic": "        High school graduate (includes equivalency)",
         "_deepnote_index_column": 15
        },
        {
         "Deltas": -2.117030681648359,
         "Demographic": "        Some college, no degree",
         "_deepnote_index_column": 16
        },
        {
         "Deltas": 0.6418875616610435,
         "Demographic": "        Associate's degree",
         "_deepnote_index_column": 17
        },
        {
         "Deltas": -3.5508847639511316,
         "Demographic": "        Bachelor's degree",
         "_deepnote_index_column": 18
        },
        {
         "Deltas": -1.5263826999541052,
         "Demographic": "        Graduate or professional degree",
         "_deepnote_index_column": 19
        },
        {
         "Deltas": 2.389590591696617,
         "Demographic": "        High school degree or higher",
         "_deepnote_index_column": 20
        },
        {
         "Deltas": -5.077267463905201,
         "Demographic": "        Bachelor's degree or higher",
         "_deepnote_index_column": 21
        },
        {
         "Deltas": -1.1823970357983171,
         "Demographic": "        Total Citizens, 18 years and older, for whom poverty status is determined",
         "_deepnote_index_column": 22
        },
        {
         "Deltas": 1.5004464398451134,
         "Demographic": "        Income in the past 12 months below poverty level",
         "_deepnote_index_column": 23
        },
        {
         "Deltas": -2.6828434756433808,
         "Demographic": "        Income in the past 12 months at or above the poverty level",
         "_deepnote_index_column": 24
        },
        {
         "Deltas": 11.561844376254662,
         "Demographic": "        Median Household Income for Households with a Citizen, Voting-Age Householder",
         "_deepnote_index_column": 25
        }
       ]
      },
      "text/html": [
       "<div>\n",
       "<style scoped>\n",
       "    .dataframe tbody tr th:only-of-type {\n",
       "        vertical-align: middle;\n",
       "    }\n",
       "\n",
       "    .dataframe tbody tr th {\n",
       "        vertical-align: top;\n",
       "    }\n",
       "\n",
       "    .dataframe thead th {\n",
       "        text-align: right;\n",
       "    }\n",
       "</style>\n",
       "<table border=\"1\" class=\"dataframe\">\n",
       "  <thead>\n",
       "    <tr style=\"text-align: right;\">\n",
       "      <th></th>\n",
       "      <th>Demographic</th>\n",
       "      <th>Deltas</th>\n",
       "    </tr>\n",
       "  </thead>\n",
       "  <tbody>\n",
       "    <tr>\n",
       "      <th>0</th>\n",
       "      <td>Citizens 18 years and over</td>\n",
       "      <td>0.000000</td>\n",
       "    </tr>\n",
       "    <tr>\n",
       "      <th>1</th>\n",
       "      <td>18 to 29 years</td>\n",
       "      <td>-1.657265</td>\n",
       "    </tr>\n",
       "    <tr>\n",
       "      <th>2</th>\n",
       "      <td>30 to 44 years</td>\n",
       "      <td>-0.906382</td>\n",
       "    </tr>\n",
       "    <tr>\n",
       "      <th>3</th>\n",
       "      <td>45 to 64 years</td>\n",
       "      <td>-0.247667</td>\n",
       "    </tr>\n",
       "    <tr>\n",
       "      <th>4</th>\n",
       "      <td>65 years and over</td>\n",
       "      <td>2.811314</td>\n",
       "    </tr>\n",
       "    <tr>\n",
       "      <th>5</th>\n",
       "      <td>Male</td>\n",
       "      <td>0.986331</td>\n",
       "    </tr>\n",
       "    <tr>\n",
       "      <th>6</th>\n",
       "      <td>Female</td>\n",
       "      <td>-0.986331</td>\n",
       "    </tr>\n",
       "    <tr>\n",
       "      <th>7</th>\n",
       "      <td>White</td>\n",
       "      <td>9.158302</td>\n",
       "    </tr>\n",
       "    <tr>\n",
       "      <th>8</th>\n",
       "      <td>Black or African American alone</td>\n",
       "      <td>-3.405954</td>\n",
       "    </tr>\n",
       "    <tr>\n",
       "      <th>9</th>\n",
       "      <td>Asian alone</td>\n",
       "      <td>2.497234</td>\n",
       "    </tr>\n",
       "    <tr>\n",
       "      <th>10</th>\n",
       "      <td>Some Other Race alone</td>\n",
       "      <td>-3.340039</td>\n",
       "    </tr>\n",
       "    <tr>\n",
       "      <th>11</th>\n",
       "      <td>Two or More Races</td>\n",
       "      <td>3.899019</td>\n",
       "    </tr>\n",
       "    <tr>\n",
       "      <th>12</th>\n",
       "      <td>Hispanic or Latino</td>\n",
       "      <td>-19.638599</td>\n",
       "    </tr>\n",
       "    <tr>\n",
       "      <th>13</th>\n",
       "      <td>Less than 9th grade</td>\n",
       "      <td>-1.094926</td>\n",
       "    </tr>\n",
       "    <tr>\n",
       "      <th>14</th>\n",
       "      <td>9th to 12th grade, no diploma</td>\n",
       "      <td>-1.294664</td>\n",
       "    </tr>\n",
       "    <tr>\n",
       "      <th>15</th>\n",
       "      <td>High school graduate (includes equival...</td>\n",
       "      <td>8.942001</td>\n",
       "    </tr>\n",
       "    <tr>\n",
       "      <th>16</th>\n",
       "      <td>Some college, no degree</td>\n",
       "      <td>-2.117031</td>\n",
       "    </tr>\n",
       "    <tr>\n",
       "      <th>17</th>\n",
       "      <td>Associate's degree</td>\n",
       "      <td>0.641888</td>\n",
       "    </tr>\n",
       "    <tr>\n",
       "      <th>18</th>\n",
       "      <td>Bachelor's degree</td>\n",
       "      <td>-3.550885</td>\n",
       "    </tr>\n",
       "    <tr>\n",
       "      <th>19</th>\n",
       "      <td>Graduate or professional degree</td>\n",
       "      <td>-1.526383</td>\n",
       "    </tr>\n",
       "    <tr>\n",
       "      <th>20</th>\n",
       "      <td>High school degree or higher</td>\n",
       "      <td>2.389591</td>\n",
       "    </tr>\n",
       "    <tr>\n",
       "      <th>21</th>\n",
       "      <td>Bachelor's degree or higher</td>\n",
       "      <td>-5.077267</td>\n",
       "    </tr>\n",
       "    <tr>\n",
       "      <th>22</th>\n",
       "      <td>Total Citizens, 18 years and older, fo...</td>\n",
       "      <td>-1.182397</td>\n",
       "    </tr>\n",
       "    <tr>\n",
       "      <th>23</th>\n",
       "      <td>Income in the past 12 months below pov...</td>\n",
       "      <td>1.500446</td>\n",
       "    </tr>\n",
       "    <tr>\n",
       "      <th>24</th>\n",
       "      <td>Income in the past 12 months at or abo...</td>\n",
       "      <td>-2.682843</td>\n",
       "    </tr>\n",
       "    <tr>\n",
       "      <th>25</th>\n",
       "      <td>Median Household Income for Households...</td>\n",
       "      <td>11.561844</td>\n",
       "    </tr>\n",
       "  </tbody>\n",
       "</table>\n",
       "</div>"
      ],
      "text/plain": [
       "                                          Demographic     Deltas\n",
       "0                          Citizens 18 years and over   0.000000\n",
       "1                                      18 to 29 years  -1.657265\n",
       "2                                      30 to 44 years  -0.906382\n",
       "3                                      45 to 64 years  -0.247667\n",
       "4                                   65 years and over   2.811314\n",
       "5                                                Male   0.986331\n",
       "6                                              Female  -0.986331\n",
       "7                                               White   9.158302\n",
       "8                     Black or African American alone  -3.405954\n",
       "9                                         Asian alone   2.497234\n",
       "10                              Some Other Race alone  -3.340039\n",
       "11                                  Two or More Races   3.899019\n",
       "12                                 Hispanic or Latino -19.638599\n",
       "13                                Less than 9th grade  -1.094926\n",
       "14                      9th to 12th grade, no diploma  -1.294664\n",
       "15          High school graduate (includes equival...   8.942001\n",
       "16                            Some college, no degree  -2.117031\n",
       "17                                 Associate's degree   0.641888\n",
       "18                                  Bachelor's degree  -3.550885\n",
       "19                    Graduate or professional degree  -1.526383\n",
       "20                       High school degree or higher   2.389591\n",
       "21                        Bachelor's degree or higher  -5.077267\n",
       "22          Total Citizens, 18 years and older, fo...  -1.182397\n",
       "23          Income in the past 12 months below pov...   1.500446\n",
       "24          Income in the past 12 months at or abo...  -2.682843\n",
       "25          Median Household Income for Households...  11.561844"
      ]
     },
     "execution_count": 231,
     "metadata": {},
     "output_type": "execute_result"
    }
   ],
   "source": [
    "diff18 = data18.iloc[:, 2] - data18.iloc[:, 1]\n",
    "delta18 = data18.copy().drop([\"Expected\", \"Actual\"], axis = 1)\n",
    "delta18[\"Deltas\"] = diff18\n",
    "delta18"
   ]
  },
  {
   "cell_type": "code",
   "execution_count": 232,
   "metadata": {
    "cell_id": "00005-8af2a778-b672-492e-9d4d-acc9267c9770",
    "execution_millis": 5,
    "execution_start": 1605410373788,
    "output_cleared": false,
    "source_hash": "d8862aa4",
    "tags": []
   },
   "outputs": [
    {
     "data": {
      "application/vnd.deepnote.dataframe.v2+json": {
       "column_count": 2,
       "columns": [
        {
         "dtype": "object",
         "name": "Demographic",
         "stats": {
          "categories": [
           {
            "count": 1,
            "name": "Citizens 18 years and over"
           },
           {
            "count": 1,
            "name": "    18 to 29 years"
           },
           {
            "count": 25,
            "name": "25 others"
           }
          ],
          "nan_count": 0,
          "unique_count": 27
         }
        },
        {
         "dtype": "float64",
         "name": "Deltas",
         "stats": {
          "histogram": [
           {
            "bin_end": -6.393356445866514,
            "bin_start": -8.004984303400974,
            "count": 1
           },
           {
            "bin_end": -4.781728588332055,
            "bin_start": -6.393356445866514,
            "count": 0
           },
           {
            "bin_end": -3.1701007307975964,
            "bin_start": -4.781728588332055,
            "count": 0
           },
           {
            "bin_end": -1.5584728732631365,
            "bin_start": -3.1701007307975964,
            "count": 2
           },
           {
            "bin_end": 0.05315498427132326,
            "bin_start": -1.5584728732631365,
            "count": 12
           },
           {
            "bin_end": 1.6647828418057813,
            "bin_start": 0.05315498427132326,
            "count": 9
           },
           {
            "bin_end": 3.276410699340241,
            "bin_start": 1.6647828418057813,
            "count": 2
           },
           {
            "bin_end": 4.888038556874701,
            "bin_start": 3.276410699340241,
            "count": 0
           },
           {
            "bin_end": 6.499666414409161,
            "bin_start": 4.888038556874701,
            "count": 0
           },
           {
            "bin_end": 8.11129427194362,
            "bin_start": 6.499666414409161,
            "count": 1
           }
          ],
          "max": 8.11129427194362,
          "min": -8.004984303400974,
          "nan_count": 0,
          "unique_count": 27
         }
        },
        {
         "dtype": "int64",
         "name": "_deepnote_index_column"
        }
       ],
       "row_count": 27,
       "rows_bottom": null,
       "rows_top": [
        {
         "Deltas": 0,
         "Demographic": "Citizens 18 years and over",
         "_deepnote_index_column": 0
        },
        {
         "Deltas": 0.1835351501232907,
         "Demographic": "    18 to 29 years",
         "_deepnote_index_column": 1
        },
        {
         "Deltas": 0.1632361423116464,
         "Demographic": "    30 to 44 years",
         "_deepnote_index_column": 2
        },
        {
         "Deltas": -0.03268104874399569,
         "Demographic": "    45 to 64 years",
         "_deepnote_index_column": 3
        },
        {
         "Deltas": -0.31409024369098404,
         "Demographic": "    65 years and over",
         "_deepnote_index_column": 4
        },
        {
         "Deltas": 0.4424386575277026,
         "Demographic": "    Male",
         "_deepnote_index_column": 5
        },
        {
         "Deltas": -0.44243865752775946,
         "Demographic": "    Female",
         "_deepnote_index_column": 6
        },
        {
         "Deltas": 2.5732538774264526,
         "Demographic": "    White alone",
         "_deepnote_index_column": 7
        },
        {
         "Deltas": -2.1253405963274474,
         "Demographic": "    Black or African American alone",
         "_deepnote_index_column": 8
        },
        {
         "Deltas": -0.06166354496014392,
         "Demographic": "    Asian alone",
         "_deepnote_index_column": 9
        },
        {
         "Deltas": -1.4050753895992472,
         "Demographic": "    Some Other Race alone",
         "_deepnote_index_column": 10
        },
        {
         "Deltas": -0.17993887036780798,
         "Demographic": "    Two or More Races",
         "_deepnote_index_column": 11
        },
        {
         "Deltas": -8.004984303400974,
         "Demographic": "Hispanic or Latino",
         "_deepnote_index_column": 12
        },
        {
         "Deltas": 8.11129427194362,
         "Demographic": "White alone, Not Hispanic or Latino",
         "_deepnote_index_column": 13
        },
        {
         "Deltas": -0.9553514619419268,
         "Demographic": "    Less than 9th grade",
         "_deepnote_index_column": 14
        },
        {
         "Deltas": -0.34658791300926595,
         "Demographic": "    9th to 12th grade, no diploma",
         "_deepnote_index_column": 15
        },
        {
         "Deltas": 0.5068219288960449,
         "Demographic": "    High school graduate (includes equivalency)",
         "_deepnote_index_column": 16
        },
        {
         "Deltas": 0.7062371985899318,
         "Demographic": "    Some college, no degree",
         "_deepnote_index_column": 17
        },
        {
         "Deltas": -0.04136417707780993,
         "Demographic": "    Associate's degree",
         "_deepnote_index_column": 18
        },
        {
         "Deltas": -0.10817099177816658,
         "Demographic": "    Bachelor's degree",
         "_deepnote_index_column": 19
        },
        {
         "Deltas": 0.2384154163211747,
         "Demographic": "    Graduate or professional degree",
         "_deepnote_index_column": 20
        },
        {
         "Deltas": 1.3019393749510186,
         "Demographic": "High school degree or higher",
         "_deepnote_index_column": 21
        },
        {
         "Deltas": 0.13024442454295126,
         "Demographic": "Bachelor's degree or higher",
         "_deepnote_index_column": 22
        },
        {
         "Deltas": -0.2690983737834358,
         "Demographic": "    Total Citizens, 18 years and older, for whom poverty status is determined",
         "_deepnote_index_column": 23
        },
        {
         "Deltas": -1.828923025529896,
         "Demographic": "    Income in the past 12 months below poverty level",
         "_deepnote_index_column": 24
        },
        {
         "Deltas": 1.5598246517463963,
         "Demographic": "    Income in the past 12 months at or above the poverty level",
         "_deepnote_index_column": 25
        },
        {
         "Deltas": 2.3211961294457035,
         "Demographic": "    Median Household Income for Households with a Citizen, Voting-Age Householder",
         "_deepnote_index_column": 26
        }
       ]
      },
      "text/html": [
       "<div>\n",
       "<style scoped>\n",
       "    .dataframe tbody tr th:only-of-type {\n",
       "        vertical-align: middle;\n",
       "    }\n",
       "\n",
       "    .dataframe tbody tr th {\n",
       "        vertical-align: top;\n",
       "    }\n",
       "\n",
       "    .dataframe thead th {\n",
       "        text-align: right;\n",
       "    }\n",
       "</style>\n",
       "<table border=\"1\" class=\"dataframe\">\n",
       "  <thead>\n",
       "    <tr style=\"text-align: right;\">\n",
       "      <th></th>\n",
       "      <th>Demographic</th>\n",
       "      <th>Deltas</th>\n",
       "    </tr>\n",
       "  </thead>\n",
       "  <tbody>\n",
       "    <tr>\n",
       "      <th>0</th>\n",
       "      <td>Citizens 18 years and over</td>\n",
       "      <td>0.000000</td>\n",
       "    </tr>\n",
       "    <tr>\n",
       "      <th>1</th>\n",
       "      <td>18 to 29 years</td>\n",
       "      <td>0.183535</td>\n",
       "    </tr>\n",
       "    <tr>\n",
       "      <th>2</th>\n",
       "      <td>30 to 44 years</td>\n",
       "      <td>0.163236</td>\n",
       "    </tr>\n",
       "    <tr>\n",
       "      <th>3</th>\n",
       "      <td>45 to 64 years</td>\n",
       "      <td>-0.032681</td>\n",
       "    </tr>\n",
       "    <tr>\n",
       "      <th>4</th>\n",
       "      <td>65 years and over</td>\n",
       "      <td>-0.314090</td>\n",
       "    </tr>\n",
       "    <tr>\n",
       "      <th>5</th>\n",
       "      <td>Male</td>\n",
       "      <td>0.442439</td>\n",
       "    </tr>\n",
       "    <tr>\n",
       "      <th>6</th>\n",
       "      <td>Female</td>\n",
       "      <td>-0.442439</td>\n",
       "    </tr>\n",
       "    <tr>\n",
       "      <th>7</th>\n",
       "      <td>White alone</td>\n",
       "      <td>2.573254</td>\n",
       "    </tr>\n",
       "    <tr>\n",
       "      <th>8</th>\n",
       "      <td>Black or African American alone</td>\n",
       "      <td>-2.125341</td>\n",
       "    </tr>\n",
       "    <tr>\n",
       "      <th>9</th>\n",
       "      <td>Asian alone</td>\n",
       "      <td>-0.061664</td>\n",
       "    </tr>\n",
       "    <tr>\n",
       "      <th>10</th>\n",
       "      <td>Some Other Race alone</td>\n",
       "      <td>-1.405075</td>\n",
       "    </tr>\n",
       "    <tr>\n",
       "      <th>11</th>\n",
       "      <td>Two or More Races</td>\n",
       "      <td>-0.179939</td>\n",
       "    </tr>\n",
       "    <tr>\n",
       "      <th>12</th>\n",
       "      <td>Hispanic or Latino</td>\n",
       "      <td>-8.004984</td>\n",
       "    </tr>\n",
       "    <tr>\n",
       "      <th>13</th>\n",
       "      <td>White alone, Not Hispanic or Latino</td>\n",
       "      <td>8.111294</td>\n",
       "    </tr>\n",
       "    <tr>\n",
       "      <th>14</th>\n",
       "      <td>Less than 9th grade</td>\n",
       "      <td>-0.955351</td>\n",
       "    </tr>\n",
       "    <tr>\n",
       "      <th>15</th>\n",
       "      <td>9th to 12th grade, no diploma</td>\n",
       "      <td>-0.346588</td>\n",
       "    </tr>\n",
       "    <tr>\n",
       "      <th>16</th>\n",
       "      <td>High school graduate (includes equivalency)</td>\n",
       "      <td>0.506822</td>\n",
       "    </tr>\n",
       "    <tr>\n",
       "      <th>17</th>\n",
       "      <td>Some college, no degree</td>\n",
       "      <td>0.706237</td>\n",
       "    </tr>\n",
       "    <tr>\n",
       "      <th>18</th>\n",
       "      <td>Associate's degree</td>\n",
       "      <td>-0.041364</td>\n",
       "    </tr>\n",
       "    <tr>\n",
       "      <th>19</th>\n",
       "      <td>Bachelor's degree</td>\n",
       "      <td>-0.108171</td>\n",
       "    </tr>\n",
       "    <tr>\n",
       "      <th>20</th>\n",
       "      <td>Graduate or professional degree</td>\n",
       "      <td>0.238415</td>\n",
       "    </tr>\n",
       "    <tr>\n",
       "      <th>21</th>\n",
       "      <td>High school degree or higher</td>\n",
       "      <td>1.301939</td>\n",
       "    </tr>\n",
       "    <tr>\n",
       "      <th>22</th>\n",
       "      <td>Bachelor's degree or higher</td>\n",
       "      <td>0.130244</td>\n",
       "    </tr>\n",
       "    <tr>\n",
       "      <th>23</th>\n",
       "      <td>Total Citizens, 18 years and older, for wh...</td>\n",
       "      <td>-0.269098</td>\n",
       "    </tr>\n",
       "    <tr>\n",
       "      <th>24</th>\n",
       "      <td>Income in the past 12 months below poverty...</td>\n",
       "      <td>-1.828923</td>\n",
       "    </tr>\n",
       "    <tr>\n",
       "      <th>25</th>\n",
       "      <td>Income in the past 12 months at or above t...</td>\n",
       "      <td>1.559825</td>\n",
       "    </tr>\n",
       "    <tr>\n",
       "      <th>26</th>\n",
       "      <td>Median Household Income for Households wit...</td>\n",
       "      <td>2.321196</td>\n",
       "    </tr>\n",
       "  </tbody>\n",
       "</table>\n",
       "</div>"
      ],
      "text/plain": [
       "                                          Demographic    Deltas\n",
       "0                          Citizens 18 years and over  0.000000\n",
       "1                                      18 to 29 years  0.183535\n",
       "2                                      30 to 44 years  0.163236\n",
       "3                                      45 to 64 years -0.032681\n",
       "4                                   65 years and over -0.314090\n",
       "5                                                Male  0.442439\n",
       "6                                              Female -0.442439\n",
       "7                                         White alone  2.573254\n",
       "8                     Black or African American alone -2.125341\n",
       "9                                         Asian alone -0.061664\n",
       "10                              Some Other Race alone -1.405075\n",
       "11                                  Two or More Races -0.179939\n",
       "12                                 Hispanic or Latino -8.004984\n",
       "13                White alone, Not Hispanic or Latino  8.111294\n",
       "14                                Less than 9th grade -0.955351\n",
       "15                      9th to 12th grade, no diploma -0.346588\n",
       "16        High school graduate (includes equivalency)  0.506822\n",
       "17                            Some college, no degree  0.706237\n",
       "18                                 Associate's degree -0.041364\n",
       "19                                  Bachelor's degree -0.108171\n",
       "20                    Graduate or professional degree  0.238415\n",
       "21                       High school degree or higher  1.301939\n",
       "22                        Bachelor's degree or higher  0.130244\n",
       "23      Total Citizens, 18 years and older, for wh... -0.269098\n",
       "24      Income in the past 12 months below poverty... -1.828923\n",
       "25      Income in the past 12 months at or above t...  1.559825\n",
       "26      Median Household Income for Households wit...  2.321196"
      ]
     },
     "execution_count": 232,
     "metadata": {},
     "output_type": "execute_result"
    }
   ],
   "source": [
    "diff17 = data17.iloc[:, 2] - data17.iloc[:, 1]\n",
    "delta17 = data17.copy().drop([\"Expected\", \"Actual\"], axis = 1)\n",
    "delta17[\"Deltas\"] = diff17\n",
    "delta17"
   ]
  },
  {
   "cell_type": "code",
   "execution_count": 233,
   "metadata": {
    "cell_id": "00006-bdaaf0e4-21d5-41b2-92c5-9c7e10c86eaa",
    "execution_millis": 38,
    "execution_start": 1605410373802,
    "output_cleared": false,
    "source_hash": "9967d180",
    "tags": []
   },
   "outputs": [
    {
     "data": {
      "application/vnd.deepnote.dataframe.v2+json": {
       "column_count": 4,
       "columns": [
        {
         "dtype": "object",
         "name": "Label",
         "stats": {
          "categories": [
           {
            "count": 1,
            "name": "Citizens 18 years and over"
           },
           {
            "count": 1,
            "name": "        18 to 29 years"
           },
           {
            "count": 24,
            "name": "24 others"
           }
          ],
          "nan_count": 0,
          "unique_count": 26
         }
        },
        {
         "dtype": "float64",
         "name": "2017",
         "stats": {
          "histogram": [
           {
            "bin_end": -6.393356445866514,
            "bin_start": -8.004984303400974,
            "count": 1
           },
           {
            "bin_end": -4.781728588332055,
            "bin_start": -6.393356445866514,
            "count": 0
           },
           {
            "bin_end": -3.1701007307975964,
            "bin_start": -4.781728588332055,
            "count": 0
           },
           {
            "bin_end": -1.5584728732631365,
            "bin_start": -3.1701007307975964,
            "count": 2
           },
           {
            "bin_end": 0.05315498427132326,
            "bin_start": -1.5584728732631365,
            "count": 12
           },
           {
            "bin_end": 1.6647828418057813,
            "bin_start": 0.05315498427132326,
            "count": 9
           },
           {
            "bin_end": 3.276410699340241,
            "bin_start": 1.6647828418057813,
            "count": 1
           },
           {
            "bin_end": 4.888038556874701,
            "bin_start": 3.276410699340241,
            "count": 0
           },
           {
            "bin_end": 6.499666414409161,
            "bin_start": 4.888038556874701,
            "count": 0
           },
           {
            "bin_end": 8.11129427194362,
            "bin_start": 6.499666414409161,
            "count": 1
           }
          ],
          "max": 8.11129427194362,
          "min": -8.004984303400974,
          "nan_count": 0,
          "unique_count": 26
         }
        },
        {
         "dtype": "float64",
         "name": "2018",
         "stats": {
          "histogram": [
           {
            "bin_end": -16.518554409587377,
            "bin_start": -19.638598719125383,
            "count": 1
           },
           {
            "bin_end": -13.398510100049375,
            "bin_start": -16.518554409587377,
            "count": 0
           },
           {
            "bin_end": -10.278465790511369,
            "bin_start": -13.398510100049375,
            "count": 0
           },
           {
            "bin_end": -7.158421480973365,
            "bin_start": -10.278465790511369,
            "count": 0
           },
           {
            "bin_end": -4.038377171435361,
            "bin_start": -7.158421480973365,
            "count": 1
           },
           {
            "bin_end": -0.9183328618973547,
            "bin_start": -4.038377171435361,
            "count": 11
           },
           {
            "bin_end": 2.2017114476406476,
            "bin_start": -0.9183328618973547,
            "count": 6
           },
           {
            "bin_end": 5.321755757178654,
            "bin_start": 2.2017114476406476,
            "count": 4
           },
           {
            "bin_end": 8.44180006671666,
            "bin_start": 5.321755757178654,
            "count": 0
           },
           {
            "bin_end": 11.561844376254662,
            "bin_start": 8.44180006671666,
            "count": 3
           }
          ],
          "max": 11.561844376254662,
          "min": -19.638598719125383,
          "nan_count": 0,
          "unique_count": 26
         }
        },
        {
         "dtype": "float64",
         "name": "2019",
         "stats": {
          "histogram": [
           {
            "bin_end": -6.184508248942715,
            "bin_start": -8.042381826025377,
            "count": 1
           },
           {
            "bin_end": -4.3266346718600515,
            "bin_start": -6.184508248942715,
            "count": 0
           },
           {
            "bin_end": -2.4687610947773884,
            "bin_start": -4.3266346718600515,
            "count": 0
           },
           {
            "bin_end": -0.6108875176947262,
            "bin_start": -2.4687610947773884,
            "count": 4
           },
           {
            "bin_end": 1.246986059387936,
            "bin_start": -0.6108875176947262,
            "count": 18
           },
           {
            "bin_end": 3.1048596364706,
            "bin_start": 1.246986059387936,
            "count": 2
           },
           {
            "bin_end": 4.962733213553262,
            "bin_start": 3.1048596364706,
            "count": 0
           },
           {
            "bin_end": 6.8206067906359245,
            "bin_start": 4.962733213553262,
            "count": 0
           },
           {
            "bin_end": 8.678480367718588,
            "bin_start": 6.8206067906359245,
            "count": 0
           },
           {
            "bin_end": 10.536353944801249,
            "bin_start": 8.678480367718588,
            "count": 1
           }
          ],
          "max": 10.536353944801249,
          "min": -8.042381826025377,
          "nan_count": 0,
          "unique_count": 26
         }
        },
        {
         "dtype": "int64",
         "name": "_deepnote_index_column"
        }
       ],
       "row_count": 26,
       "rows_bottom": null,
       "rows_top": [
        {
         "2017": 0,
         "2018": 0,
         "2019": 0,
         "Label": "Citizens 18 years and over",
         "_deepnote_index_column": 0
        },
        {
         "2017": 0.1835351501232907,
         "2018": -1.6572653278030174,
         "2019": 0.1160319473757454,
         "Label": "        18 to 29 years",
         "_deepnote_index_column": 1
        },
        {
         "2017": 0.1632361423116464,
         "2018": -0.9063821628814139,
         "2019": 0.2261566958281378,
         "Label": "        30 to 44 years",
         "_deepnote_index_column": 2
        },
        {
         "2017": -0.03268104874399569,
         "2018": -0.24766663134917621,
         "2019": -0.09846763393076685,
         "Label": "        45 to 64 years",
         "_deepnote_index_column": 3
        },
        {
         "2017": -0.31409024369098404,
         "2018": 2.8113141220336075,
         "2019": -0.24372100927313056,
         "Label": "        65 years and over",
         "_deepnote_index_column": 4
        },
        {
         "2017": 0.4424386575277026,
         "2018": 0.9863308796439014,
         "2019": 0.3696477798615092,
         "Label": "        Male",
         "_deepnote_index_column": 5
        },
        {
         "2017": -0.44243865752775946,
         "2018": -0.9863308796439014,
         "2019": -0.36964777986156605,
         "Label": "        Female",
         "_deepnote_index_column": 6
        },
        {
         "2017": 2.5732538774264526,
         "2018": 9.158302170987668,
         "2019": 10.536353944801249,
         "Label": "White",
         "_deepnote_index_column": 7
        },
        {
         "2017": -2.1253405963274474,
         "2018": -3.405954004658213,
         "2019": -2.067748122179424,
         "Label": "        Black or African American alone",
         "_deepnote_index_column": 8
        },
        {
         "2017": -0.06166354496014392,
         "2018": 2.4972335059153963,
         "2019": -0.015245483398615534,
         "Label": "        Asian alone",
         "_deepnote_index_column": 9
        },
        {
         "2017": -1.4050753895992472,
         "2018": -3.34003942835891,
         "2019": -1.3389195613526432,
         "Label": "        Some Other Race alone",
         "_deepnote_index_column": 10
        },
        {
         "2017": -0.17993887036780798,
         "2018": 3.8990193603892465,
         "2019": -0.15638334355540273,
         "Label": "        Two or More Races",
         "_deepnote_index_column": 11
        },
        {
         "2017": -8.004984303400974,
         "2018": -19.638598719125383,
         "2019": -8.042381826025377,
         "Label": "        Hispanic or Latino",
         "_deepnote_index_column": 12
        },
        {
         "2017": 8.11129427194362,
         "2018": -1.0949260945678692,
         "2019": -0.8467892919524829,
         "Label": "        Less than 9th grade",
         "_deepnote_index_column": 13
        },
        {
         "2017": -0.9553514619419268,
         "2018": -1.2946644971287142,
         "2019": -0.36519672983711615,
         "Label": "        9th to 12th grade, no diploma",
         "_deepnote_index_column": 14
        },
        {
         "2017": -0.34658791300926595,
         "2018": 8.942001175589212,
         "2019": 0.5316776653229454,
         "Label": "        High school graduate (includes equivalency)",
         "_deepnote_index_column": 15
        },
        {
         "2017": 0.5068219288960449,
         "2018": -2.117030681648359,
         "2019": 0.5637047279077194,
         "Label": "        Some college, no degree",
         "_deepnote_index_column": 16
        },
        {
         "2017": 0.7062371985899318,
         "2018": 0.6418875616610435,
         "2019": 0.01767930871319834,
         "Label": "        Associate's degree",
         "_deepnote_index_column": 17
        },
        {
         "2017": -0.04136417707780993,
         "2018": -3.5508847639511316,
         "2019": -0.13149953029827088,
         "Label": "        Bachelor's degree",
         "_deepnote_index_column": 18
        },
        {
         "2017": -0.10817099177816658,
         "2018": -1.5263826999541052,
         "2019": 0.230423850144021,
         "Label": "        Graduate or professional degree",
         "_deepnote_index_column": 19
        },
        {
         "2017": 0.2384154163211747,
         "2018": 2.389590591696617,
         "2019": 1.211986021789528,
         "Label": "        High school degree or higher",
         "_deepnote_index_column": 20
        },
        {
         "2017": 1.3019393749510186,
         "2018": -5.077267463905201,
         "2019": 0.09892431984576433,
         "Label": "        Bachelor's degree or higher",
         "_deepnote_index_column": 21
        },
        {
         "2017": 0.13024442454295126,
         "2018": -1.1823970357983171,
         "2019": -0.26924761827274324,
         "Label": "        Total Citizens, 18 years and older, for whom poverty status is determined",
         "_deepnote_index_column": 22
        },
        {
         "2017": -0.2690983737834358,
         "2018": 1.5004464398451134,
         "2019": -1.7385929912935154,
         "Label": "        Income in the past 12 months below poverty level",
         "_deepnote_index_column": 23
        },
        {
         "2017": -1.828923025529896,
         "2018": -2.6828434756433808,
         "2019": 1.4693453730208148,
         "Label": "        Income in the past 12 months at or above the poverty level",
         "_deepnote_index_column": 24
        },
        {
         "2017": 1.5598246517463963,
         "2018": 11.561844376254662,
         "2019": 2.4625014942592545,
         "Label": "        Median Household Income for Households with a Citizen, Voting-Age Householder",
         "_deepnote_index_column": 25
        }
       ]
      },
      "text/html": [
       "<div>\n",
       "<style scoped>\n",
       "    .dataframe tbody tr th:only-of-type {\n",
       "        vertical-align: middle;\n",
       "    }\n",
       "\n",
       "    .dataframe tbody tr th {\n",
       "        vertical-align: top;\n",
       "    }\n",
       "\n",
       "    .dataframe thead th {\n",
       "        text-align: right;\n",
       "    }\n",
       "</style>\n",
       "<table border=\"1\" class=\"dataframe\">\n",
       "  <thead>\n",
       "    <tr style=\"text-align: right;\">\n",
       "      <th></th>\n",
       "      <th>Label</th>\n",
       "      <th>2017</th>\n",
       "      <th>2018</th>\n",
       "      <th>2019</th>\n",
       "    </tr>\n",
       "  </thead>\n",
       "  <tbody>\n",
       "    <tr>\n",
       "      <th>0</th>\n",
       "      <td>Citizens 18 years and over</td>\n",
       "      <td>0.000000</td>\n",
       "      <td>0.000000</td>\n",
       "      <td>0.000000</td>\n",
       "    </tr>\n",
       "    <tr>\n",
       "      <th>1</th>\n",
       "      <td>18 to 29 years</td>\n",
       "      <td>0.183535</td>\n",
       "      <td>-1.657265</td>\n",
       "      <td>0.116032</td>\n",
       "    </tr>\n",
       "    <tr>\n",
       "      <th>2</th>\n",
       "      <td>30 to 44 years</td>\n",
       "      <td>0.163236</td>\n",
       "      <td>-0.906382</td>\n",
       "      <td>0.226157</td>\n",
       "    </tr>\n",
       "    <tr>\n",
       "      <th>3</th>\n",
       "      <td>45 to 64 years</td>\n",
       "      <td>-0.032681</td>\n",
       "      <td>-0.247667</td>\n",
       "      <td>-0.098468</td>\n",
       "    </tr>\n",
       "    <tr>\n",
       "      <th>4</th>\n",
       "      <td>65 years and over</td>\n",
       "      <td>-0.314090</td>\n",
       "      <td>2.811314</td>\n",
       "      <td>-0.243721</td>\n",
       "    </tr>\n",
       "    <tr>\n",
       "      <th>5</th>\n",
       "      <td>Male</td>\n",
       "      <td>0.442439</td>\n",
       "      <td>0.986331</td>\n",
       "      <td>0.369648</td>\n",
       "    </tr>\n",
       "    <tr>\n",
       "      <th>6</th>\n",
       "      <td>Female</td>\n",
       "      <td>-0.442439</td>\n",
       "      <td>-0.986331</td>\n",
       "      <td>-0.369648</td>\n",
       "    </tr>\n",
       "    <tr>\n",
       "      <th>7</th>\n",
       "      <td>White</td>\n",
       "      <td>2.573254</td>\n",
       "      <td>9.158302</td>\n",
       "      <td>10.536354</td>\n",
       "    </tr>\n",
       "    <tr>\n",
       "      <th>8</th>\n",
       "      <td>Black or African American alone</td>\n",
       "      <td>-2.125341</td>\n",
       "      <td>-3.405954</td>\n",
       "      <td>-2.067748</td>\n",
       "    </tr>\n",
       "    <tr>\n",
       "      <th>9</th>\n",
       "      <td>Asian alone</td>\n",
       "      <td>-0.061664</td>\n",
       "      <td>2.497234</td>\n",
       "      <td>-0.015245</td>\n",
       "    </tr>\n",
       "    <tr>\n",
       "      <th>10</th>\n",
       "      <td>Some Other Race alone</td>\n",
       "      <td>-1.405075</td>\n",
       "      <td>-3.340039</td>\n",
       "      <td>-1.338920</td>\n",
       "    </tr>\n",
       "    <tr>\n",
       "      <th>11</th>\n",
       "      <td>Two or More Races</td>\n",
       "      <td>-0.179939</td>\n",
       "      <td>3.899019</td>\n",
       "      <td>-0.156383</td>\n",
       "    </tr>\n",
       "    <tr>\n",
       "      <th>12</th>\n",
       "      <td>Hispanic or Latino</td>\n",
       "      <td>-8.004984</td>\n",
       "      <td>-19.638599</td>\n",
       "      <td>-8.042382</td>\n",
       "    </tr>\n",
       "    <tr>\n",
       "      <th>13</th>\n",
       "      <td>Less than 9th grade</td>\n",
       "      <td>8.111294</td>\n",
       "      <td>-1.094926</td>\n",
       "      <td>-0.846789</td>\n",
       "    </tr>\n",
       "    <tr>\n",
       "      <th>14</th>\n",
       "      <td>9th to 12th grade, no diploma</td>\n",
       "      <td>-0.955351</td>\n",
       "      <td>-1.294664</td>\n",
       "      <td>-0.365197</td>\n",
       "    </tr>\n",
       "    <tr>\n",
       "      <th>15</th>\n",
       "      <td>High school graduate (includes equival...</td>\n",
       "      <td>-0.346588</td>\n",
       "      <td>8.942001</td>\n",
       "      <td>0.531678</td>\n",
       "    </tr>\n",
       "    <tr>\n",
       "      <th>16</th>\n",
       "      <td>Some college, no degree</td>\n",
       "      <td>0.506822</td>\n",
       "      <td>-2.117031</td>\n",
       "      <td>0.563705</td>\n",
       "    </tr>\n",
       "    <tr>\n",
       "      <th>17</th>\n",
       "      <td>Associate's degree</td>\n",
       "      <td>0.706237</td>\n",
       "      <td>0.641888</td>\n",
       "      <td>0.017679</td>\n",
       "    </tr>\n",
       "    <tr>\n",
       "      <th>18</th>\n",
       "      <td>Bachelor's degree</td>\n",
       "      <td>-0.041364</td>\n",
       "      <td>-3.550885</td>\n",
       "      <td>-0.131500</td>\n",
       "    </tr>\n",
       "    <tr>\n",
       "      <th>19</th>\n",
       "      <td>Graduate or professional degree</td>\n",
       "      <td>-0.108171</td>\n",
       "      <td>-1.526383</td>\n",
       "      <td>0.230424</td>\n",
       "    </tr>\n",
       "    <tr>\n",
       "      <th>20</th>\n",
       "      <td>High school degree or higher</td>\n",
       "      <td>0.238415</td>\n",
       "      <td>2.389591</td>\n",
       "      <td>1.211986</td>\n",
       "    </tr>\n",
       "    <tr>\n",
       "      <th>21</th>\n",
       "      <td>Bachelor's degree or higher</td>\n",
       "      <td>1.301939</td>\n",
       "      <td>-5.077267</td>\n",
       "      <td>0.098924</td>\n",
       "    </tr>\n",
       "    <tr>\n",
       "      <th>22</th>\n",
       "      <td>Total Citizens, 18 years and older, fo...</td>\n",
       "      <td>0.130244</td>\n",
       "      <td>-1.182397</td>\n",
       "      <td>-0.269248</td>\n",
       "    </tr>\n",
       "    <tr>\n",
       "      <th>23</th>\n",
       "      <td>Income in the past 12 months below pov...</td>\n",
       "      <td>-0.269098</td>\n",
       "      <td>1.500446</td>\n",
       "      <td>-1.738593</td>\n",
       "    </tr>\n",
       "    <tr>\n",
       "      <th>24</th>\n",
       "      <td>Income in the past 12 months at or abo...</td>\n",
       "      <td>-1.828923</td>\n",
       "      <td>-2.682843</td>\n",
       "      <td>1.469345</td>\n",
       "    </tr>\n",
       "    <tr>\n",
       "      <th>25</th>\n",
       "      <td>Median Household Income for Households...</td>\n",
       "      <td>1.559825</td>\n",
       "      <td>11.561844</td>\n",
       "      <td>2.462501</td>\n",
       "    </tr>\n",
       "  </tbody>\n",
       "</table>\n",
       "</div>"
      ],
      "text/plain": [
       "                                                Label      2017       2018  \\\n",
       "0                          Citizens 18 years and over  0.000000   0.000000   \n",
       "1                                      18 to 29 years  0.183535  -1.657265   \n",
       "2                                      30 to 44 years  0.163236  -0.906382   \n",
       "3                                      45 to 64 years -0.032681  -0.247667   \n",
       "4                                   65 years and over -0.314090   2.811314   \n",
       "5                                                Male  0.442439   0.986331   \n",
       "6                                              Female -0.442439  -0.986331   \n",
       "7                                               White  2.573254   9.158302   \n",
       "8                     Black or African American alone -2.125341  -3.405954   \n",
       "9                                         Asian alone -0.061664   2.497234   \n",
       "10                              Some Other Race alone -1.405075  -3.340039   \n",
       "11                                  Two or More Races -0.179939   3.899019   \n",
       "12                                 Hispanic or Latino -8.004984 -19.638599   \n",
       "13                                Less than 9th grade  8.111294  -1.094926   \n",
       "14                      9th to 12th grade, no diploma -0.955351  -1.294664   \n",
       "15          High school graduate (includes equival... -0.346588   8.942001   \n",
       "16                            Some college, no degree  0.506822  -2.117031   \n",
       "17                                 Associate's degree  0.706237   0.641888   \n",
       "18                                  Bachelor's degree -0.041364  -3.550885   \n",
       "19                    Graduate or professional degree -0.108171  -1.526383   \n",
       "20                       High school degree or higher  0.238415   2.389591   \n",
       "21                        Bachelor's degree or higher  1.301939  -5.077267   \n",
       "22          Total Citizens, 18 years and older, fo...  0.130244  -1.182397   \n",
       "23          Income in the past 12 months below pov... -0.269098   1.500446   \n",
       "24          Income in the past 12 months at or abo... -1.828923  -2.682843   \n",
       "25          Median Household Income for Households...  1.559825  11.561844   \n",
       "\n",
       "         2019  \n",
       "0    0.000000  \n",
       "1    0.116032  \n",
       "2    0.226157  \n",
       "3   -0.098468  \n",
       "4   -0.243721  \n",
       "5    0.369648  \n",
       "6   -0.369648  \n",
       "7   10.536354  \n",
       "8   -2.067748  \n",
       "9   -0.015245  \n",
       "10  -1.338920  \n",
       "11  -0.156383  \n",
       "12  -8.042382  \n",
       "13  -0.846789  \n",
       "14  -0.365197  \n",
       "15   0.531678  \n",
       "16   0.563705  \n",
       "17   0.017679  \n",
       "18  -0.131500  \n",
       "19   0.230424  \n",
       "20   1.211986  \n",
       "21   0.098924  \n",
       "22  -0.269248  \n",
       "23  -1.738593  \n",
       "24   1.469345  \n",
       "25   2.462501  "
      ]
     },
     "execution_count": 233,
     "metadata": {},
     "output_type": "execute_result"
    }
   ],
   "source": [
    "composite_deltas = pd.DataFrame()\n",
    "composite_deltas[\"Label\"] = delta19.iloc[:, 0]\n",
    "composite_deltas[\"2017\"] = delta17.iloc[:, 1]\n",
    "composite_deltas[\"2018\"] = delta18.iloc[:, 1]\n",
    "composite_deltas[\"2019\"] = delta19.iloc[:,1]\n",
    "composite_deltas"
   ]
  },
  {
   "cell_type": "code",
   "execution_count": 234,
   "metadata": {
    "cell_id": "00008-d928a885-c782-4ee8-ad06-184ed7dc6666",
    "execution_millis": 1,
    "execution_start": 1605410373880,
    "output_cleared": false,
    "source_hash": "41c9284e",
    "tags": []
   },
   "outputs": [],
   "source": [
    "def variable_table(start, end): \n",
    "    deltas_var = composite_deltas.iloc[start:end]\n",
    "    deltas_var = deltas_var.groupby('Label').mean()\n",
    "    deltas_var = deltas_var.swapaxes('index', 'columns')\n",
    "    return deltas_var"
   ]
  },
  {
   "cell_type": "code",
   "execution_count": 262,
   "metadata": {
    "cell_id": "00008-92077dc5-622e-4076-ba2c-e6d8827075dc",
    "execution_millis": 454,
    "execution_start": 1605411281553,
    "output_cleared": false,
    "source_hash": "fd66a70c",
    "tags": []
   },
   "outputs": [
    {
     "data": {
      "text/plain": [
       "[Text(0.5, 0, 'Year'), Text(0, 0.5, 'Electoral Votes Difference')]"
      ]
     },
     "execution_count": 262,
     "metadata": {},
     "output_type": "execute_result"
    },
    {
     "data": {
      "image/png": "[encoded data removed]",
      "text/plain": [
       "<Figure size 864x576 with 1 Axes>"
      ]
     },
     "metadata": {},
     "output_type": "display_data"
    }
   ],
   "source": [
    "deltas_race = variable_table(7,13)\n",
    "\n",
    "sns.set(rc={'figure.figsize':(12,8)})\n",
    "\n",
    "# sns.set(style=\"whitegrid\") #White background \n",
    "sns.set_style(\"darkgrid\", {\"axes.facecolor\": \".9\"}) #grey background\n",
    "\n",
    "g = sns.lineplot(data = deltas_race,linestyle = '-', linewidth = 3)\n",
    "plt.legend(bbox_to_anchor=(1.05, 1), loc=2, borderaxespad=0.)\n",
    "\n",
    "#axis line at y=0\n",
    "g.axhline(0, color = 'black', linewidth = 3)\n",
    "\n",
    "#labels + title\n",
    "g.set_title(\"Electoral College Votes Disparity by Race\", size=24)\n",
    "g.set(xlabel='Year', ylabel='Electoral Votes Difference')"
   ]
  },
  {
   "cell_type": "code",
   "execution_count": 235,
   "metadata": {
    "cell_id": "00012-490edec1-5853-4200-9a99-3ce58adbd7b2",
    "execution_millis": 0,
    "execution_start": 1605410374197,
    "output_cleared": false,
    "source_hash": "b623e53d",
    "tags": []
   },
   "outputs": [],
   "source": []
  }
 ],
 "metadata": {
  "deepnote_execution_queue": [],
  "deepnote_notebook_id": "dccbb52d-ab6e-43e1-981b-86bfab1968d8",
  "kernelspec": {
   "display_name": "Python 3",
   "language": "python",
   "name": "python3"
  },
  "language_info": {
   "codemirror_mode": {
    "name": "ipython",
    "version": 3
   },
   "file_extension": ".py",
   "mimetype": "text/x-python",
   "name": "python",
   "nbconvert_exporter": "python",
   "pygments_lexer": "ipython3",
   "version": "3.7.6"
  }
 },
 "nbformat": 4,
 "nbformat_minor": 2
}
