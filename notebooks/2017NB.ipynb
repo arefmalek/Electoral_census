{
 "cells": [
  {
   "cell_type": "code",
   "execution_count": 287,
   "metadata": {
    "cell_id": "00000-80604e60-24a8-44f0-81fb-d7fb84daf745",
    "execution_millis": 423,
    "execution_start": 1605404658897,
    "output_cleared": false,
    "source_hash": "83d2eb92",
    "tags": []
   },
   "outputs": [
    {
     "data": {
      "application/vnd.deepnote.dataframe.v2+json": {
       "column_count": 209,
       "columns": [
        {
         "dtype": "object",
         "name": "Label",
         "stats": {
          "categories": [
           {
            "count": 1,
            "name": "Citizens 18 years and over"
           },
           {
            "count": 1,
            "name": "AGE"
           },
           {
            "count": 33,
            "name": "33 others"
           }
          ],
          "nan_count": 0,
          "unique_count": 35
         }
        },
        {
         "dtype": "object",
         "name": "Alabama!!Total!!Estimate",
         "stats": {
          "categories": [
           {
            "count": 2,
            "name": "N"
           },
           {
            "count": 27,
            "name": "27 others"
           },
           {
            "count": 6,
            "name": "Missing"
           }
          ],
          "nan_count": 6,
          "unique_count": 28
         }
        },
        {
         "dtype": "object",
         "name": "Alabama!!Total!!Margin of Error",
         "stats": {
          "categories": [
           {
            "count": 2,
            "name": "N"
           },
           {
            "count": 27,
            "name": "27 others"
           },
           {
            "count": 6,
            "name": "Missing"
           }
          ],
          "nan_count": 6,
          "unique_count": 28
         }
        },
        {
         "dtype": "object",
         "name": "Alabama!!Percent!!Estimate",
         "stats": {
          "categories": [
           {
            "count": 3,
            "name": "(X)"
           },
           {
            "count": 26,
            "name": "25 others"
           },
           {
            "count": 6,
            "name": "Missing"
           }
          ],
          "nan_count": 6,
          "unique_count": 26
         }
        },
        {
         "dtype": "object",
         "name": "Alabama!!Percent!!Margin of Error",
         "stats": {
          "categories": [
           {
            "count": 13,
            "name": "±0.1"
           },
           {
            "count": 16,
            "name": "6 others"
           },
           {
            "count": 6,
            "name": "Missing"
           }
          ],
          "nan_count": 6,
          "unique_count": 7
         }
        },
        {
         "dtype": "object",
         "name": "Alaska!!Total!!Estimate",
         "stats": {
          "categories": [
           {
            "count": 2,
            "name": "N"
           },
           {
            "count": 27,
            "name": "27 others"
           },
           {
            "count": 6,
            "name": "Missing"
           }
          ],
          "nan_count": 6,
          "unique_count": 28
         }
        },
        {
         "dtype": "object",
         "name": "Alaska!!Total!!Margin of Error",
         "stats": {
          "categories": [
           {
            "count": 2,
            "name": "N"
           },
           {
            "count": 27,
            "name": "27 others"
           },
           {
            "count": 6,
            "name": "Missing"
           }
          ],
          "nan_count": 6,
          "unique_count": 28
         }
        },
        {
         "dtype": "object",
         "name": "Alaska!!Percent!!Estimate",
         "stats": {
          "categories": [
           {
            "count": 3,
            "name": "(X)"
           },
           {
            "count": 26,
            "name": "24 others"
           },
           {
            "count": 6,
            "name": "Missing"
           }
          ],
          "nan_count": 6,
          "unique_count": 25
         }
        },
        {
         "dtype": "object",
         "name": "Alaska!!Percent!!Margin of Error",
         "stats": {
          "categories": [
           {
            "count": 6,
            "name": "±0.2"
           },
           {
            "count": 23,
            "name": "11 others"
           },
           {
            "count": 6,
            "name": "Missing"
           }
          ],
          "nan_count": 6,
          "unique_count": 12
         }
        },
        {
         "dtype": "object",
         "name": "Arizona!!Total!!Estimate",
         "stats": {
          "categories": [
           {
            "count": 1,
            "name": "4,895,706"
           },
           {
            "count": 28,
            "name": "28 others"
           },
           {
            "count": 6,
            "name": "Missing"
           }
          ],
          "nan_count": 6,
          "unique_count": 29
         }
        },
        {
         "dtype": "object",
         "name": "Arizona!!Total!!Margin of Error",
         "stats": {
          "categories": [
           {
            "count": 1,
            "name": "±14,005"
           },
           {
            "count": 28,
            "name": "28 others"
           },
           {
            "count": 6,
            "name": "Missing"
           }
          ],
          "nan_count": 6,
          "unique_count": 29
         }
        },
        {
         "dtype": "object",
         "name": "Arizona!!Percent!!Estimate",
         "stats": {
          "categories": [
           {
            "count": 3,
            "name": "(X)"
           },
           {
            "count": 26,
            "name": "26 others"
           },
           {
            "count": 6,
            "name": "Missing"
           }
          ],
          "nan_count": 6,
          "unique_count": 27
         }
        },
        {
         "dtype": "object",
         "name": "Arizona!!Percent!!Margin of Error",
         "stats": {
          "categories": [
           {
            "count": 10,
            "name": "±0.1"
           },
           {
            "count": 19,
            "name": "4 others"
           },
           {
            "count": 6,
            "name": "Missing"
           }
          ],
          "nan_count": 6,
          "unique_count": 5
         }
        },
        {
         "dtype": "object",
         "name": "Arkansas!!Total!!Estimate",
         "stats": {
          "categories": [
           {
            "count": 1,
            "name": "2,207,894"
           },
           {
            "count": 28,
            "name": "28 others"
           },
           {
            "count": 6,
            "name": "Missing"
           }
          ],
          "nan_count": 6,
          "unique_count": 29
         }
        },
        {
         "dtype": "object",
         "name": "Arkansas!!Total!!Margin of Error",
         "stats": {
          "categories": [
           {
            "count": 1,
            "name": "±4,945"
           },
           {
            "count": 28,
            "name": "28 others"
           },
           {
            "count": 6,
            "name": "Missing"
           }
          ],
          "nan_count": 6,
          "unique_count": 29
         }
        },
        {
         "dtype": "object",
         "name": "Arkansas!!Percent!!Estimate",
         "stats": {
          "categories": [
           {
            "count": 3,
            "name": "(X)"
           },
           {
            "count": 26,
            "name": "26 others"
           },
           {
            "count": 6,
            "name": "Missing"
           }
          ],
          "nan_count": 6,
          "unique_count": 27
         }
        },
        {
         "dtype": "object",
         "name": "Arkansas!!Percent!!Margin of Error",
         "stats": {
          "categories": [
           {
            "count": 10,
            "name": "±0.2"
           },
           {
            "count": 19,
            "name": "7 others"
           },
           {
            "count": 6,
            "name": "Missing"
           }
          ],
          "nan_count": 6,
          "unique_count": 8
         }
        },
        {
         "dtype": "object",
         "name": "California!!Total!!Estimate",
         "stats": {
          "categories": [
           {
            "count": 1,
            "name": "25,650,455"
           },
           {
            "count": 28,
            "name": "28 others"
           },
           {
            "count": 6,
            "name": "Missing"
           }
          ],
          "nan_count": 6,
          "unique_count": 29
         }
        },
        {
         "dtype": "object",
         "name": "California!!Total!!Margin of Error",
         "stats": {
          "categories": [
           {
            "count": 1,
            "name": "±39,934"
           },
           {
            "count": 28,
            "name": "28 others"
           },
           {
            "count": 6,
            "name": "Missing"
           }
          ],
          "nan_count": 6,
          "unique_count": 29
         }
        },
        {
         "dtype": "object",
         "name": "California!!Percent!!Estimate",
         "stats": {
          "categories": [
           {
            "count": 3,
            "name": "(X)"
           },
           {
            "count": 26,
            "name": "26 others"
           },
           {
            "count": 6,
            "name": "Missing"
           }
          ],
          "nan_count": 6,
          "unique_count": 27
         }
        },
        {
         "dtype": "object",
         "name": "California!!Percent!!Margin of Error",
         "stats": {
          "categories": [
           {
            "count": 23,
            "name": "±0.1"
           },
           {
            "count": 6,
            "name": "2 others"
           },
           {
            "count": 6,
            "name": "Missing"
           }
          ],
          "nan_count": 6,
          "unique_count": 3
         }
        },
        {
         "dtype": "object",
         "name": "Colorado!!Total!!Estimate",
         "stats": {
          "categories": [
           {
            "count": 1,
            "name": "4,057,437"
           },
           {
            "count": 28,
            "name": "28 others"
           },
           {
            "count": 6,
            "name": "Missing"
           }
          ],
          "nan_count": 6,
          "unique_count": 29
         }
        },
        {
         "dtype": "object",
         "name": "Colorado!!Total!!Margin of Error",
         "stats": {
          "categories": [
           {
            "count": 1,
            "name": "±9,372"
           },
           {
            "count": 28,
            "name": "28 others"
           },
           {
            "count": 6,
            "name": "Missing"
           }
          ],
          "nan_count": 6,
          "unique_count": 29
         }
        },
        {
         "dtype": "object",
         "name": "Colorado!!Percent!!Estimate",
         "stats": {
          "categories": [
           {
            "count": 3,
            "name": "(X)"
           },
           {
            "count": 26,
            "name": "26 others"
           },
           {
            "count": 6,
            "name": "Missing"
           }
          ],
          "nan_count": 6,
          "unique_count": 27
         }
        },
        {
         "dtype": "object",
         "name": "Colorado!!Percent!!Margin of Error",
         "stats": {
          "categories": [
           {
            "count": 11,
            "name": "±0.1"
           },
           {
            "count": 18,
            "name": "4 others"
           },
           {
            "count": 6,
            "name": "Missing"
           }
          ],
          "nan_count": 6,
          "unique_count": 5
         }
        },
        {
         "dtype": "object",
         "name": "Connecticut!!Total!!Estimate",
         "stats": {
          "categories": [
           {
            "count": 1,
            "name": "2,611,667"
           },
           {
            "count": 28,
            "name": "28 others"
           },
           {
            "count": 6,
            "name": "Missing"
           }
          ],
          "nan_count": 6,
          "unique_count": 29
         }
        },
        {
         "dtype": "object",
         "name": "Connecticut!!Total!!Margin of Error",
         "stats": {
          "categories": [
           {
            "count": 1,
            "name": "±9,339"
           },
           {
            "count": 28,
            "name": "28 others"
           },
           {
            "count": 6,
            "name": "Missing"
           }
          ],
          "nan_count": 6,
          "unique_count": 29
         }
        },
        {
         "dtype": "object",
         "name": "Connecticut!!Percent!!Estimate",
         "stats": {
          "categories": [
           {
            "count": 3,
            "name": "(X)"
           },
           {
            "count": 26,
            "name": "25 others"
           },
           {
            "count": 6,
            "name": "Missing"
           }
          ],
          "nan_count": 6,
          "unique_count": 26
         }
        },
        {
         "dtype": "object",
         "name": "Connecticut!!Percent!!Margin of Error",
         "stats": {
          "categories": [
           {
            "count": 8,
            "name": "±0.2"
           },
           {
            "count": 21,
            "name": "7 others"
           },
           {
            "count": 6,
            "name": "Missing"
           }
          ],
          "nan_count": 6,
          "unique_count": 8
         }
        },
        {
         "dtype": "object",
         "name": "Delaware!!Total!!Estimate",
         "stats": {
          "categories": [
           {
            "count": 2,
            "name": "N"
           },
           {
            "count": 27,
            "name": "27 others"
           },
           {
            "count": 6,
            "name": "Missing"
           }
          ],
          "nan_count": 6,
          "unique_count": 28
         }
        },
        {
         "dtype": "object",
         "name": "Delaware!!Total!!Margin of Error",
         "stats": {
          "categories": [
           {
            "count": 2,
            "name": "N"
           },
           {
            "count": 27,
            "name": "27 others"
           },
           {
            "count": 6,
            "name": "Missing"
           }
          ],
          "nan_count": 6,
          "unique_count": 28
         }
        },
        {
         "dtype": "object",
         "name": "Delaware!!Percent!!Estimate",
         "stats": {
          "categories": [
           {
            "count": 3,
            "name": "(X)"
           },
           {
            "count": 26,
            "name": "25 others"
           },
           {
            "count": 6,
            "name": "Missing"
           }
          ],
          "nan_count": 6,
          "unique_count": 26
         }
        },
        {
         "dtype": "object",
         "name": "Delaware!!Percent!!Margin of Error",
         "stats": {
          "categories": [
           {
            "count": 6,
            "name": "±0.3"
           },
           {
            "count": 23,
            "name": "9 others"
           },
           {
            "count": 6,
            "name": "Missing"
           }
          ],
          "nan_count": 6,
          "unique_count": 10
         }
        },
        {
         "dtype": "object",
         "name": "District of Columbia!!Total!!Estimate",
         "stats": {
          "categories": [
           {
            "count": 2,
            "name": "N"
           },
           {
            "count": 27,
            "name": "27 others"
           },
           {
            "count": 6,
            "name": "Missing"
           }
          ],
          "nan_count": 6,
          "unique_count": 28
         }
        },
        {
         "dtype": "object",
         "name": "District of Columbia!!Total!!Margin of Error",
         "stats": {
          "categories": [
           {
            "count": 2,
            "name": "N"
           },
           {
            "count": 27,
            "name": "27 others"
           },
           {
            "count": 6,
            "name": "Missing"
           }
          ],
          "nan_count": 6,
          "unique_count": 28
         }
        },
        {
         "dtype": "object",
         "name": "District of Columbia!!Percent!!Estimate",
         "stats": {
          "categories": [
           {
            "count": 3,
            "name": "(X)"
           },
           {
            "count": 26,
            "name": "24 others"
           },
           {
            "count": 6,
            "name": "Missing"
           }
          ],
          "nan_count": 6,
          "unique_count": 25
         }
        },
        {
         "dtype": "object",
         "name": "District of Columbia!!Percent!!Margin of Error",
         "stats": {
          "categories": [
           {
            "count": 6,
            "name": "±0.4"
           },
           {
            "count": 23,
            "name": "10 others"
           },
           {
            "count": 6,
            "name": "Missing"
           }
          ],
          "nan_count": 6,
          "unique_count": 11
         }
        },
        {
         "dtype": "object",
         "name": "Florida!!Total!!Estimate",
         "stats": {
          "categories": [
           {
            "count": 1,
            "name": "15,014,950"
           },
           {
            "count": 28,
            "name": "28 others"
           },
           {
            "count": 6,
            "name": "Missing"
           }
          ],
          "nan_count": 6,
          "unique_count": 29
         }
        },
        {
         "dtype": "object",
         "name": "Florida!!Total!!Margin of Error",
         "stats": {
          "categories": [
           {
            "count": 1,
            "name": "±31,938"
           },
           {
            "count": 28,
            "name": "28 others"
           },
           {
            "count": 6,
            "name": "Missing"
           }
          ],
          "nan_count": 6,
          "unique_count": 29
         }
        },
        {
         "dtype": "object",
         "name": "Florida!!Percent!!Estimate",
         "stats": {
          "categories": [
           {
            "count": 3,
            "name": "(X)"
           },
           {
            "count": 26,
            "name": "26 others"
           },
           {
            "count": 6,
            "name": "Missing"
           }
          ],
          "nan_count": 6,
          "unique_count": 27
         }
        },
        {
         "dtype": "object",
         "name": "Florida!!Percent!!Margin of Error",
         "stats": {
          "categories": [
           {
            "count": 17,
            "name": "±0.1"
           },
           {
            "count": 12,
            "name": "2 others"
           },
           {
            "count": 6,
            "name": "Missing"
           }
          ],
          "nan_count": 6,
          "unique_count": 3
         }
        },
        {
         "dtype": "object",
         "name": "Georgia!!Total!!Estimate",
         "stats": {
          "categories": [
           {
            "count": 1,
            "name": "7,362,615"
           },
           {
            "count": 28,
            "name": "28 others"
           },
           {
            "count": 6,
            "name": "Missing"
           }
          ],
          "nan_count": 6,
          "unique_count": 29
         }
        },
        {
         "dtype": "object",
         "name": "Georgia!!Total!!Margin of Error",
         "stats": {
          "categories": [
           {
            "count": 1,
            "name": "±15,328"
           },
           {
            "count": 28,
            "name": "28 others"
           },
           {
            "count": 6,
            "name": "Missing"
           }
          ],
          "nan_count": 6,
          "unique_count": 29
         }
        },
        {
         "dtype": "object",
         "name": "Georgia!!Percent!!Estimate",
         "stats": {
          "categories": [
           {
            "count": 3,
            "name": "(X)"
           },
           {
            "count": 26,
            "name": "26 others"
           },
           {
            "count": 6,
            "name": "Missing"
           }
          ],
          "nan_count": 6,
          "unique_count": 27
         }
        },
        {
         "dtype": "object",
         "name": "Georgia!!Percent!!Margin of Error",
         "stats": {
          "categories": [
           {
            "count": 14,
            "name": "±0.1"
           },
           {
            "count": 15,
            "name": "5 others"
           },
           {
            "count": 6,
            "name": "Missing"
           }
          ],
          "nan_count": 6,
          "unique_count": 6
         }
        },
        {
         "dtype": "object",
         "name": "Hawaii!!Total!!Estimate",
         "stats": {
          "categories": [
           {
            "count": 1,
            "name": "1,025,548"
           },
           {
            "count": 28,
            "name": "28 others"
           },
           {
            "count": 6,
            "name": "Missing"
           }
          ],
          "nan_count": 6,
          "unique_count": 29
         }
        },
        {
         "dtype": "object",
         "name": "Hawaii!!Total!!Margin of Error",
         "stats": {
          "categories": [
           {
            "count": 1,
            "name": "±7,912"
           },
           {
            "count": 28,
            "name": "28 others"
           },
           {
            "count": 6,
            "name": "Missing"
           }
          ],
          "nan_count": 6,
          "unique_count": 29
         }
        },
        {
         "dtype": "object",
         "name": "Hawaii!!Percent!!Estimate",
         "stats": {
          "categories": [
           {
            "count": 3,
            "name": "(X)"
           },
           {
            "count": 26,
            "name": "25 others"
           },
           {
            "count": 6,
            "name": "Missing"
           }
          ],
          "nan_count": 6,
          "unique_count": 26
         }
        },
        {
         "dtype": "object",
         "name": "Hawaii!!Percent!!Margin of Error",
         "stats": {
          "categories": [
           {
            "count": 7,
            "name": "±0.2"
           },
           {
            "count": 22,
            "name": "9 others"
           },
           {
            "count": 6,
            "name": "Missing"
           }
          ],
          "nan_count": 6,
          "unique_count": 10
         }
        },
        {
         "dtype": "object",
         "name": "Idaho!!Total!!Estimate",
         "stats": {
          "categories": [
           {
            "count": 2,
            "name": "N"
           },
           {
            "count": 27,
            "name": "27 others"
           },
           {
            "count": 6,
            "name": "Missing"
           }
          ],
          "nan_count": 6,
          "unique_count": 28
         }
        },
        {
         "dtype": "object",
         "name": "Idaho!!Total!!Margin of Error",
         "stats": {
          "categories": [
           {
            "count": 2,
            "name": "N"
           },
           {
            "count": 27,
            "name": "27 others"
           },
           {
            "count": 6,
            "name": "Missing"
           }
          ],
          "nan_count": 6,
          "unique_count": 28
         }
        },
        {
         "dtype": "object",
         "name": "Idaho!!Percent!!Estimate",
         "stats": {
          "categories": [
           {
            "count": 3,
            "name": "(X)"
           },
           {
            "count": 26,
            "name": "24 others"
           },
           {
            "count": 6,
            "name": "Missing"
           }
          ],
          "nan_count": 6,
          "unique_count": 25
         }
        },
        {
         "dtype": "object",
         "name": "Idaho!!Percent!!Margin of Error",
         "stats": {
          "categories": [
           {
            "count": 8,
            "name": "±0.2"
           },
           {
            "count": 21,
            "name": "9 others"
           },
           {
            "count": 6,
            "name": "Missing"
           }
          ],
          "nan_count": 6,
          "unique_count": 10
         }
        },
        {
         "dtype": "object",
         "name": "Illinois!!Total!!Estimate",
         "stats": {
          "categories": [
           {
            "count": 1,
            "name": "9,055,927"
           },
           {
            "count": 28,
            "name": "28 others"
           },
           {
            "count": 6,
            "name": "Missing"
           }
          ],
          "nan_count": 6,
          "unique_count": 29
         }
        },
        {
         "dtype": "object",
         "name": "Illinois!!Total!!Margin of Error",
         "stats": {
          "categories": [
           {
            "count": 1,
            "name": "±16,897"
           },
           {
            "count": 28,
            "name": "28 others"
           },
           {
            "count": 6,
            "name": "Missing"
           }
          ],
          "nan_count": 6,
          "unique_count": 29
         }
        },
        {
         "dtype": "object",
         "name": "Illinois!!Percent!!Estimate",
         "stats": {
          "categories": [
           {
            "count": 3,
            "name": "(X)"
           },
           {
            "count": 26,
            "name": "26 others"
           },
           {
            "count": 6,
            "name": "Missing"
           }
          ],
          "nan_count": 6,
          "unique_count": 27
         }
        },
        {
         "dtype": "object",
         "name": "Illinois!!Percent!!Margin of Error",
         "stats": {
          "categories": [
           {
            "count": 16,
            "name": "±0.1"
           },
           {
            "count": 13,
            "name": "3 others"
           },
           {
            "count": 6,
            "name": "Missing"
           }
          ],
          "nan_count": 6,
          "unique_count": 4
         }
        },
        {
         "dtype": "object",
         "name": "Indiana!!Total!!Estimate",
         "stats": {
          "categories": [
           {
            "count": 2,
            "name": "N"
           },
           {
            "count": 27,
            "name": "27 others"
           },
           {
            "count": 6,
            "name": "Missing"
           }
          ],
          "nan_count": 6,
          "unique_count": 28
         }
        },
        {
         "dtype": "object",
         "name": "Indiana!!Total!!Margin of Error",
         "stats": {
          "categories": [
           {
            "count": 2,
            "name": "N"
           },
           {
            "count": 27,
            "name": "27 others"
           },
           {
            "count": 6,
            "name": "Missing"
           }
          ],
          "nan_count": 6,
          "unique_count": 28
         }
        },
        {
         "dtype": "object",
         "name": "Indiana!!Percent!!Estimate",
         "stats": {
          "categories": [
           {
            "count": 3,
            "name": "(X)"
           },
           {
            "count": 26,
            "name": "23 others"
           },
           {
            "count": 6,
            "name": "Missing"
           }
          ],
          "nan_count": 6,
          "unique_count": 24
         }
        },
        {
         "dtype": "object",
         "name": "Indiana!!Percent!!Margin of Error",
         "stats": {
          "categories": [
           {
            "count": 14,
            "name": "±0.1"
           },
           {
            "count": 15,
            "name": "5 others"
           },
           {
            "count": 6,
            "name": "Missing"
           }
          ],
          "nan_count": 6,
          "unique_count": 6
         }
        },
        {
         "dtype": "object",
         "name": "Iowa!!Total!!Estimate",
         "stats": {
          "categories": [
           {
            "count": 1,
            "name": "2,325,355"
           },
           {
            "count": 28,
            "name": "28 others"
           },
           {
            "count": 6,
            "name": "Missing"
           }
          ],
          "nan_count": 6,
          "unique_count": 29
         }
        },
        {
         "dtype": "object",
         "name": "Iowa!!Total!!Margin of Error",
         "stats": {
          "categories": [
           {
            "count": 1,
            "name": "±5,220"
           },
           {
            "count": 28,
            "name": "28 others"
           },
           {
            "count": 6,
            "name": "Missing"
           }
          ],
          "nan_count": 6,
          "unique_count": 29
         }
        },
        {
         "dtype": "object",
         "name": "Iowa!!Percent!!Estimate",
         "stats": {
          "categories": [
           {
            "count": 3,
            "name": "(X)"
           },
           {
            "count": 26,
            "name": "26 others"
           },
           {
            "count": 6,
            "name": "Missing"
           }
          ],
          "nan_count": 6,
          "unique_count": 27
         }
        },
        {
         "dtype": "object",
         "name": "Iowa!!Percent!!Margin of Error",
         "stats": {
          "categories": [
           {
            "count": 11,
            "name": "±0.1"
           },
           {
            "count": 18,
            "name": "5 others"
           },
           {
            "count": 6,
            "name": "Missing"
           }
          ],
          "nan_count": 6,
          "unique_count": 6
         }
        },
        {
         "dtype": "object",
         "name": "Kansas!!Total!!Estimate",
         "stats": {
          "categories": [
           {
            "count": 2,
            "name": "N"
           },
           {
            "count": 27,
            "name": "27 others"
           },
           {
            "count": 6,
            "name": "Missing"
           }
          ],
          "nan_count": 6,
          "unique_count": 28
         }
        },
        {
         "dtype": "object",
         "name": "Kansas!!Total!!Margin of Error",
         "stats": {
          "categories": [
           {
            "count": 2,
            "name": "N"
           },
           {
            "count": 27,
            "name": "27 others"
           },
           {
            "count": 6,
            "name": "Missing"
           }
          ],
          "nan_count": 6,
          "unique_count": 28
         }
        },
        {
         "dtype": "object",
         "name": "Kansas!!Percent!!Estimate",
         "stats": {
          "categories": [
           {
            "count": 3,
            "name": "(X)"
           },
           {
            "count": 26,
            "name": "25 others"
           },
           {
            "count": 6,
            "name": "Missing"
           }
          ],
          "nan_count": 6,
          "unique_count": 26
         }
        },
        {
         "dtype": "object",
         "name": "Kansas!!Percent!!Margin of Error",
         "stats": {
          "categories": [
           {
            "count": 10,
            "name": "±0.2"
           },
           {
            "count": 19,
            "name": "6 others"
           },
           {
            "count": 6,
            "name": "Missing"
           }
          ],
          "nan_count": 6,
          "unique_count": 7
         }
        },
        {
         "dtype": "object",
         "name": "Kentucky!!Total!!Estimate",
         "stats": {
          "categories": [
           {
            "count": 2,
            "name": "N"
           },
           {
            "count": 27,
            "name": "27 others"
           },
           {
            "count": 6,
            "name": "Missing"
           }
          ],
          "nan_count": 6,
          "unique_count": 28
         }
        },
        {
         "dtype": "object",
         "name": "Kentucky!!Total!!Margin of Error",
         "stats": {
          "categories": [
           {
            "count": 2,
            "name": "N"
           },
           {
            "count": 27,
            "name": "27 others"
           },
           {
            "count": 6,
            "name": "Missing"
           }
          ],
          "nan_count": 6,
          "unique_count": 28
         }
        },
        {
         "dtype": "object",
         "name": "Kentucky!!Percent!!Estimate",
         "stats": {
          "categories": [
           {
            "count": 3,
            "name": "(X)"
           },
           {
            "count": 26,
            "name": "24 others"
           },
           {
            "count": 6,
            "name": "Missing"
           }
          ],
          "nan_count": 6,
          "unique_count": 25
         }
        },
        {
         "dtype": "object",
         "name": "Kentucky!!Percent!!Margin of Error",
         "stats": {
          "categories": [
           {
            "count": 11,
            "name": "±0.1"
           },
           {
            "count": 18,
            "name": "5 others"
           },
           {
            "count": 6,
            "name": "Missing"
           }
          ],
          "nan_count": 6,
          "unique_count": 6
         }
        },
        {
         "dtype": "object",
         "name": "Louisiana!!Total!!Estimate",
         "stats": {
          "categories": [
           {
            "count": 2,
            "name": "N"
           },
           {
            "count": 27,
            "name": "27 others"
           },
           {
            "count": 6,
            "name": "Missing"
           }
          ],
          "nan_count": 6,
          "unique_count": 28
         }
        },
        {
         "dtype": "object",
         "name": "Louisiana!!Total!!Margin of Error",
         "stats": {
          "categories": [
           {
            "count": 2,
            "name": "N"
           },
           {
            "count": 27,
            "name": "27 others"
           },
           {
            "count": 6,
            "name": "Missing"
           }
          ],
          "nan_count": 6,
          "unique_count": 28
         }
        },
        {
         "dtype": "object",
         "name": "Louisiana!!Percent!!Estimate",
         "stats": {
          "categories": [
           {
            "count": 3,
            "name": "(X)"
           },
           {
            "count": 26,
            "name": "24 others"
           },
           {
            "count": 6,
            "name": "Missing"
           }
          ],
          "nan_count": 6,
          "unique_count": 25
         }
        },
        {
         "dtype": "object",
         "name": "Louisiana!!Percent!!Margin of Error",
         "stats": {
          "categories": [
           {
            "count": 10,
            "name": "±0.1"
           },
           {
            "count": 19,
            "name": "6 others"
           },
           {
            "count": 6,
            "name": "Missing"
           }
          ],
          "nan_count": 6,
          "unique_count": 7
         }
        },
        {
         "dtype": "object",
         "name": "Maine!!Total!!Estimate",
         "stats": {
          "categories": [
           {
            "count": 4,
            "name": "N"
           },
           {
            "count": 25,
            "name": "25 others"
           },
           {
            "count": 6,
            "name": "Missing"
           }
          ],
          "nan_count": 6,
          "unique_count": 26
         }
        },
        {
         "dtype": "object",
         "name": "Maine!!Total!!Margin of Error",
         "stats": {
          "categories": [
           {
            "count": 4,
            "name": "N"
           },
           {
            "count": 25,
            "name": "25 others"
           },
           {
            "count": 6,
            "name": "Missing"
           }
          ],
          "nan_count": 6,
          "unique_count": 26
         }
        },
        {
         "dtype": "object",
         "name": "Maine!!Percent!!Estimate",
         "stats": {
          "categories": [
           {
            "count": 4,
            "name": "N"
           },
           {
            "count": 25,
            "name": "23 others"
           },
           {
            "count": 6,
            "name": "Missing"
           }
          ],
          "nan_count": 6,
          "unique_count": 24
         }
        },
        {
         "dtype": "object",
         "name": "Maine!!Percent!!Margin of Error",
         "stats": {
          "categories": [
           {
            "count": 7,
            "name": "±0.1"
           },
           {
            "count": 22,
            "name": "8 others"
           },
           {
            "count": 6,
            "name": "Missing"
           }
          ],
          "nan_count": 6,
          "unique_count": 9
         }
        },
        {
         "dtype": "object",
         "name": "Maryland!!Total!!Estimate",
         "stats": {
          "categories": [
           {
            "count": 1,
            "name": "4,310,864"
           },
           {
            "count": 28,
            "name": "28 others"
           },
           {
            "count": 6,
            "name": "Missing"
           }
          ],
          "nan_count": 6,
          "unique_count": 29
         }
        },
        {
         "dtype": "object",
         "name": "Maryland!!Total!!Margin of Error",
         "stats": {
          "categories": [
           {
            "count": 1,
            "name": "±13,483"
           },
           {
            "count": 28,
            "name": "28 others"
           },
           {
            "count": 6,
            "name": "Missing"
           }
          ],
          "nan_count": 6,
          "unique_count": 29
         }
        },
        {
         "dtype": "object",
         "name": "Maryland!!Percent!!Estimate",
         "stats": {
          "categories": [
           {
            "count": 3,
            "name": "(X)"
           },
           {
            "count": 26,
            "name": "25 others"
           },
           {
            "count": 6,
            "name": "Missing"
           }
          ],
          "nan_count": 6,
          "unique_count": 26
         }
        },
        {
         "dtype": "object",
         "name": "Maryland!!Percent!!Margin of Error",
         "stats": {
          "categories": [
           {
            "count": 10,
            "name": "±0.1"
           },
           {
            "count": 19,
            "name": "5 others"
           },
           {
            "count": 6,
            "name": "Missing"
           }
          ],
          "nan_count": 6,
          "unique_count": 6
         }
        },
        {
         "dtype": "object",
         "name": "Massachusetts!!Total!!Estimate",
         "stats": {
          "categories": [
           {
            "count": 1,
            "name": "4,993,001"
           },
           {
            "count": 28,
            "name": "28 others"
           },
           {
            "count": 6,
            "name": "Missing"
           }
          ],
          "nan_count": 6,
          "unique_count": 29
         }
        },
        {
         "dtype": "object",
         "name": "Massachusetts!!Total!!Margin of Error",
         "stats": {
          "categories": [
           {
            "count": 1,
            "name": "±15,115"
           },
           {
            "count": 28,
            "name": "28 others"
           },
           {
            "count": 6,
            "name": "Missing"
           }
          ],
          "nan_count": 6,
          "unique_count": 29
         }
        },
        {
         "dtype": "object",
         "name": "Massachusetts!!Percent!!Estimate",
         "stats": {
          "categories": [
           {
            "count": 3,
            "name": "(X)"
           },
           {
            "count": 26,
            "name": "25 others"
           },
           {
            "count": 6,
            "name": "Missing"
           }
          ],
          "nan_count": 6,
          "unique_count": 26
         }
        },
        {
         "dtype": "object",
         "name": "Massachusetts!!Percent!!Margin of Error",
         "stats": {
          "categories": [
           {
            "count": 10,
            "name": "±0.2"
           },
           {
            "count": 19,
            "name": "5 others"
           },
           {
            "count": 6,
            "name": "Missing"
           }
          ],
          "nan_count": 6,
          "unique_count": 6
         }
        },
        {
         "dtype": "object",
         "name": "Michigan!!Total!!Estimate",
         "stats": {
          "categories": [
           {
            "count": 1,
            "name": "7,481,928"
           },
           {
            "count": 28,
            "name": "28 others"
           },
           {
            "count": 6,
            "name": "Missing"
           }
          ],
          "nan_count": 6,
          "unique_count": 29
         }
        },
        {
         "dtype": "object",
         "name": "Michigan!!Total!!Margin of Error",
         "stats": {
          "categories": [
           {
            "count": 1,
            "name": "±10,585"
           },
           {
            "count": 28,
            "name": "28 others"
           },
           {
            "count": 6,
            "name": "Missing"
           }
          ],
          "nan_count": 6,
          "unique_count": 29
         }
        },
        {
         "dtype": "object",
         "name": "Michigan!!Percent!!Estimate",
         "stats": {
          "categories": [
           {
            "count": 3,
            "name": "(X)"
           },
           {
            "count": 26,
            "name": "25 others"
           },
           {
            "count": 6,
            "name": "Missing"
           }
          ],
          "nan_count": 6,
          "unique_count": 26
         }
        },
        {
         "dtype": "object",
         "name": "Michigan!!Percent!!Margin of Error",
         "stats": {
          "categories": [
           {
            "count": 16,
            "name": "±0.1"
           },
           {
            "count": 13,
            "name": "4 others"
           },
           {
            "count": 6,
            "name": "Missing"
           }
          ],
          "nan_count": 6,
          "unique_count": 5
         }
        },
        {
         "dtype": "object",
         "name": "Minnesota!!Total!!Estimate",
         "stats": {
          "categories": [
           {
            "count": 1,
            "name": "4,079,652"
           },
           {
            "count": 28,
            "name": "28 others"
           },
           {
            "count": 6,
            "name": "Missing"
           }
          ],
          "nan_count": 6,
          "unique_count": 29
         }
        },
        {
         "dtype": "object",
         "name": "Minnesota!!Total!!Margin of Error",
         "stats": {
          "categories": [
           {
            "count": 2,
            "name": "±4,508"
           },
           {
            "count": 27,
            "name": "27 others"
           },
           {
            "count": 6,
            "name": "Missing"
           }
          ],
          "nan_count": 6,
          "unique_count": 28
         }
        },
        {
         "dtype": "object",
         "name": "Minnesota!!Percent!!Estimate",
         "stats": {
          "categories": [
           {
            "count": 3,
            "name": "(X)"
           },
           {
            "count": 26,
            "name": "26 others"
           },
           {
            "count": 6,
            "name": "Missing"
           }
          ],
          "nan_count": 6,
          "unique_count": 27
         }
        },
        {
         "dtype": "object",
         "name": "Minnesota!!Percent!!Margin of Error",
         "stats": {
          "categories": [
           {
            "count": 13,
            "name": "±0.1"
           },
           {
            "count": 16,
            "name": "5 others"
           },
           {
            "count": 6,
            "name": "Missing"
           }
          ],
          "nan_count": 6,
          "unique_count": 6
         }
        },
        {
         "dtype": "object",
         "name": "Mississippi!!Total!!Estimate",
         "stats": {
          "categories": [
           {
            "count": 2,
            "name": "N"
           },
           {
            "count": 27,
            "name": "27 others"
           },
           {
            "count": 6,
            "name": "Missing"
           }
          ],
          "nan_count": 6,
          "unique_count": 28
         }
        },
        {
         "dtype": "object",
         "name": "Mississippi!!Total!!Margin of Error",
         "stats": {
          "categories": [
           {
            "count": 2,
            "name": "N"
           },
           {
            "count": 27,
            "name": "27 others"
           },
           {
            "count": 6,
            "name": "Missing"
           }
          ],
          "nan_count": 6,
          "unique_count": 28
         }
        },
        {
         "dtype": "object",
         "name": "Mississippi!!Percent!!Estimate",
         "stats": {
          "categories": [
           {
            "count": 3,
            "name": "(X)"
           },
           {
            "count": 26,
            "name": "25 others"
           },
           {
            "count": 6,
            "name": "Missing"
           }
          ],
          "nan_count": 6,
          "unique_count": 26
         }
        },
        {
         "dtype": "object",
         "name": "Mississippi!!Percent!!Margin of Error",
         "stats": {
          "categories": [
           {
            "count": 9,
            "name": "±0.1"
           },
           {
            "count": 20,
            "name": "8 others"
           },
           {
            "count": 6,
            "name": "Missing"
           }
          ],
          "nan_count": 6,
          "unique_count": 9
         }
        },
        {
         "dtype": "object",
         "name": "Missouri!!Total!!Estimate",
         "stats": {
          "categories": [
           {
            "count": 2,
            "name": "N"
           },
           {
            "count": 27,
            "name": "27 others"
           },
           {
            "count": 6,
            "name": "Missing"
           }
          ],
          "nan_count": 6,
          "unique_count": 28
         }
        },
        {
         "dtype": "object",
         "name": "Missouri!!Total!!Margin of Error",
         "stats": {
          "categories": [
           {
            "count": 2,
            "name": "N"
           },
           {
            "count": 27,
            "name": "27 others"
           },
           {
            "count": 6,
            "name": "Missing"
           }
          ],
          "nan_count": 6,
          "unique_count": 28
         }
        },
        {
         "dtype": "object",
         "name": "Missouri!!Percent!!Estimate",
         "stats": {
          "categories": [
           {
            "count": 3,
            "name": "(X)"
           },
           {
            "count": 26,
            "name": "24 others"
           },
           {
            "count": 6,
            "name": "Missing"
           }
          ],
          "nan_count": 6,
          "unique_count": 25
         }
        },
        {
         "dtype": "object",
         "name": "Missouri!!Percent!!Margin of Error",
         "stats": {
          "categories": [
           {
            "count": 13,
            "name": "±0.1"
           },
           {
            "count": 16,
            "name": "6 others"
           },
           {
            "count": 6,
            "name": "Missing"
           }
          ],
          "nan_count": 6,
          "unique_count": 7
         }
        },
        {
         "dtype": "object",
         "name": "Montana!!Total!!Estimate",
         "stats": {
          "categories": [
           {
            "count": 4,
            "name": "N"
           },
           {
            "count": 25,
            "name": "25 others"
           },
           {
            "count": 6,
            "name": "Missing"
           }
          ],
          "nan_count": 6,
          "unique_count": 26
         }
        },
        {
         "dtype": "object",
         "name": "Montana!!Total!!Margin of Error",
         "stats": {
          "categories": [
           {
            "count": 4,
            "name": "N"
           },
           {
            "count": 25,
            "name": "25 others"
           },
           {
            "count": 6,
            "name": "Missing"
           }
          ],
          "nan_count": 6,
          "unique_count": 26
         }
        },
        {
         "dtype": "object",
         "name": "Montana!!Percent!!Estimate",
         "stats": {
          "categories": [
           {
            "count": 4,
            "name": "N"
           },
           {
            "count": 25,
            "name": "23 others"
           },
           {
            "count": 6,
            "name": "Missing"
           }
          ],
          "nan_count": 6,
          "unique_count": 24
         }
        },
        {
         "dtype": "object",
         "name": "Montana!!Percent!!Margin of Error",
         "stats": {
          "categories": [
           {
            "count": 8,
            "name": "±0.2"
           },
           {
            "count": 21,
            "name": "9 others"
           },
           {
            "count": 6,
            "name": "Missing"
           }
          ],
          "nan_count": 6,
          "unique_count": 10
         }
        },
        {
         "dtype": "object",
         "name": "Nebraska!!Total!!Estimate",
         "stats": {
          "categories": [
           {
            "count": 2,
            "name": "N"
           },
           {
            "count": 27,
            "name": "27 others"
           },
           {
            "count": 6,
            "name": "Missing"
           }
          ],
          "nan_count": 6,
          "unique_count": 28
         }
        },
        {
         "dtype": "object",
         "name": "Nebraska!!Total!!Margin of Error",
         "stats": {
          "categories": [
           {
            "count": 2,
            "name": "N"
           },
           {
            "count": 27,
            "name": "27 others"
           },
           {
            "count": 6,
            "name": "Missing"
           }
          ],
          "nan_count": 6,
          "unique_count": 28
         }
        },
        {
         "dtype": "object",
         "name": "Nebraska!!Percent!!Estimate",
         "stats": {
          "categories": [
           {
            "count": 3,
            "name": "(X)"
           },
           {
            "count": 26,
            "name": "25 others"
           },
           {
            "count": 6,
            "name": "Missing"
           }
          ],
          "nan_count": 6,
          "unique_count": 26
         }
        },
        {
         "dtype": "object",
         "name": "Nebraska!!Percent!!Margin of Error",
         "stats": {
          "categories": [
           {
            "count": 11,
            "name": "±0.2"
           },
           {
            "count": 18,
            "name": "7 others"
           },
           {
            "count": 6,
            "name": "Missing"
           }
          ],
          "nan_count": 6,
          "unique_count": 8
         }
        },
        {
         "dtype": "object",
         "name": "Nevada!!Total!!Estimate",
         "stats": {
          "categories": [
           {
            "count": 1,
            "name": "2,031,213"
           },
           {
            "count": 28,
            "name": "28 others"
           },
           {
            "count": 6,
            "name": "Missing"
           }
          ],
          "nan_count": 6,
          "unique_count": 29
         }
        },
        {
         "dtype": "object",
         "name": "Nevada!!Total!!Margin of Error",
         "stats": {
          "categories": [
           {
            "count": 1,
            "name": "±9,801"
           },
           {
            "count": 28,
            "name": "28 others"
           },
           {
            "count": 6,
            "name": "Missing"
           }
          ],
          "nan_count": 6,
          "unique_count": 29
         }
        },
        {
         "dtype": "object",
         "name": "Nevada!!Percent!!Estimate",
         "stats": {
          "categories": [
           {
            "count": 3,
            "name": "(X)"
           },
           {
            "count": 26,
            "name": "25 others"
           },
           {
            "count": 6,
            "name": "Missing"
           }
          ],
          "nan_count": 6,
          "unique_count": 26
         }
        },
        {
         "dtype": "object",
         "name": "Nevada!!Percent!!Margin of Error",
         "stats": {
          "categories": [
           {
            "count": 9,
            "name": "±0.2"
           },
           {
            "count": 20,
            "name": "6 others"
           },
           {
            "count": 6,
            "name": "Missing"
           }
          ],
          "nan_count": 6,
          "unique_count": 7
         }
        },
        {
         "dtype": "object",
         "name": "New Hampshire!!Total!!Estimate",
         "stats": {
          "categories": [
           {
            "count": 2,
            "name": "N"
           },
           {
            "count": 27,
            "name": "27 others"
           },
           {
            "count": 6,
            "name": "Missing"
           }
          ],
          "nan_count": 6,
          "unique_count": 28
         }
        },
        {
         "dtype": "object",
         "name": "New Hampshire!!Total!!Margin of Error",
         "stats": {
          "categories": [
           {
            "count": 2,
            "name": "N"
           },
           {
            "count": 27,
            "name": "27 others"
           },
           {
            "count": 6,
            "name": "Missing"
           }
          ],
          "nan_count": 6,
          "unique_count": 28
         }
        },
        {
         "dtype": "object",
         "name": "New Hampshire!!Percent!!Estimate",
         "stats": {
          "categories": [
           {
            "count": 3,
            "name": "(X)"
           },
           {
            "count": 26,
            "name": "25 others"
           },
           {
            "count": 6,
            "name": "Missing"
           }
          ],
          "nan_count": 6,
          "unique_count": 26
         }
        },
        {
         "dtype": "object",
         "name": "New Hampshire!!Percent!!Margin of Error",
         "stats": {
          "categories": [
           {
            "count": 9,
            "name": "±0.2"
           },
           {
            "count": 20,
            "name": "8 others"
           },
           {
            "count": 6,
            "name": "Missing"
           }
          ],
          "nan_count": 6,
          "unique_count": 9
         }
        },
        {
         "dtype": "object",
         "name": "New Jersey!!Total!!Estimate",
         "stats": {
          "categories": [
           {
            "count": 1,
            "name": "6,199,409"
           },
           {
            "count": 28,
            "name": "28 others"
           },
           {
            "count": 6,
            "name": "Missing"
           }
          ],
          "nan_count": 6,
          "unique_count": 29
         }
        },
        {
         "dtype": "object",
         "name": "New Jersey!!Total!!Margin of Error",
         "stats": {
          "categories": [
           {
            "count": 1,
            "name": "±19,163"
           },
           {
            "count": 28,
            "name": "28 others"
           },
           {
            "count": 6,
            "name": "Missing"
           }
          ],
          "nan_count": 6,
          "unique_count": 29
         }
        },
        {
         "dtype": "object",
         "name": "New Jersey!!Percent!!Estimate",
         "stats": {
          "categories": [
           {
            "count": 3,
            "name": "(X)"
           },
           {
            "count": 26,
            "name": "25 others"
           },
           {
            "count": 6,
            "name": "Missing"
           }
          ],
          "nan_count": 6,
          "unique_count": 26
         }
        },
        {
         "dtype": "object",
         "name": "New Jersey!!Percent!!Margin of Error",
         "stats": {
          "categories": [
           {
            "count": 11,
            "name": "±0.1"
           },
           {
            "count": 18,
            "name": "5 others"
           },
           {
            "count": 6,
            "name": "Missing"
           }
          ],
          "nan_count": 6,
          "unique_count": 6
         }
        },
        {
         "dtype": "object",
         "name": "New Mexico!!Total!!Estimate",
         "stats": {
          "categories": [
           {
            "count": 2,
            "name": "N"
           },
           {
            "count": 27,
            "name": "27 others"
           },
           {
            "count": 6,
            "name": "Missing"
           }
          ],
          "nan_count": 6,
          "unique_count": 28
         }
        },
        {
         "dtype": "object",
         "name": "New Mexico!!Total!!Margin of Error",
         "stats": {
          "categories": [
           {
            "count": 2,
            "name": "N"
           },
           {
            "count": 27,
            "name": "27 others"
           },
           {
            "count": 6,
            "name": "Missing"
           }
          ],
          "nan_count": 6,
          "unique_count": 28
         }
        },
        {
         "dtype": "object",
         "name": "New Mexico!!Percent!!Estimate",
         "stats": {
          "categories": [
           {
            "count": 3,
            "name": "(X)"
           },
           {
            "count": 26,
            "name": "25 others"
           },
           {
            "count": 6,
            "name": "Missing"
           }
          ],
          "nan_count": 6,
          "unique_count": 26
         }
        },
        {
         "dtype": "object",
         "name": "New Mexico!!Percent!!Margin of Error",
         "stats": {
          "categories": [
           {
            "count": 5,
            "name": "±0.4"
           },
           {
            "count": 24,
            "name": "9 others"
           },
           {
            "count": 6,
            "name": "Missing"
           }
          ],
          "nan_count": 6,
          "unique_count": 10
         }
        },
        {
         "dtype": "object",
         "name": "New York!!Total!!Estimate",
         "stats": {
          "categories": [
           {
            "count": 1,
            "name": "13,866,648"
           },
           {
            "count": 28,
            "name": "28 others"
           },
           {
            "count": 6,
            "name": "Missing"
           }
          ],
          "nan_count": 6,
          "unique_count": 29
         }
        },
        {
         "dtype": "object",
         "name": "New York!!Total!!Margin of Error",
         "stats": {
          "categories": [
           {
            "count": 1,
            "name": "±25,883"
           },
           {
            "count": 28,
            "name": "28 others"
           },
           {
            "count": 6,
            "name": "Missing"
           }
          ],
          "nan_count": 6,
          "unique_count": 29
         }
        },
        {
         "dtype": "object",
         "name": "New York!!Percent!!Estimate",
         "stats": {
          "categories": [
           {
            "count": 3,
            "name": "(X)"
           },
           {
            "count": 26,
            "name": "26 others"
           },
           {
            "count": 6,
            "name": "Missing"
           }
          ],
          "nan_count": 6,
          "unique_count": 27
         }
        },
        {
         "dtype": "object",
         "name": "New York!!Percent!!Margin of Error",
         "stats": {
          "categories": [
           {
            "count": 16,
            "name": "±0.1"
           },
           {
            "count": 13,
            "name": "2 others"
           },
           {
            "count": 6,
            "name": "Missing"
           }
          ],
          "nan_count": 6,
          "unique_count": 3
         }
        },
        {
         "dtype": "object",
         "name": "North Carolina!!Total!!Estimate",
         "stats": {
          "categories": [
           {
            "count": 1,
            "name": "7,509,879"
           },
           {
            "count": 28,
            "name": "28 others"
           },
           {
            "count": 6,
            "name": "Missing"
           }
          ],
          "nan_count": 6,
          "unique_count": 29
         }
        },
        {
         "dtype": "object",
         "name": "North Carolina!!Total!!Margin of Error",
         "stats": {
          "categories": [
           {
            "count": 1,
            "name": "±14,198"
           },
           {
            "count": 28,
            "name": "28 others"
           },
           {
            "count": 6,
            "name": "Missing"
           }
          ],
          "nan_count": 6,
          "unique_count": 29
         }
        },
        {
         "dtype": "object",
         "name": "North Carolina!!Percent!!Estimate",
         "stats": {
          "categories": [
           {
            "count": 3,
            "name": "(X)"
           },
           {
            "count": 26,
            "name": "24 others"
           },
           {
            "count": 6,
            "name": "Missing"
           }
          ],
          "nan_count": 6,
          "unique_count": 25
         }
        },
        {
         "dtype": "object",
         "name": "North Carolina!!Percent!!Margin of Error",
         "stats": {
          "categories": [
           {
            "count": 16,
            "name": "±0.1"
           },
           {
            "count": 13,
            "name": "3 others"
           },
           {
            "count": 6,
            "name": "Missing"
           }
          ],
          "nan_count": 6,
          "unique_count": 4
         }
        },
        {
         "dtype": "object",
         "name": "North Dakota!!Total!!Estimate",
         "stats": {
          "categories": [
           {
            "count": 3,
            "name": "N"
           },
           {
            "count": 26,
            "name": "26 others"
           },
           {
            "count": 6,
            "name": "Missing"
           }
          ],
          "nan_count": 6,
          "unique_count": 27
         }
        },
        {
         "dtype": "object",
         "name": "North Dakota!!Total!!Margin of Error",
         "stats": {
          "categories": [
           {
            "count": 3,
            "name": "N"
           },
           {
            "count": 26,
            "name": "26 others"
           },
           {
            "count": 6,
            "name": "Missing"
           }
          ],
          "nan_count": 6,
          "unique_count": 27
         }
        },
        {
         "dtype": "object",
         "name": "North Dakota!!Percent!!Estimate",
         "stats": {
          "categories": [
           {
            "count": 3,
            "name": "(X)"
           },
           {
            "count": 26,
            "name": "23 others"
           },
           {
            "count": 6,
            "name": "Missing"
           }
          ],
          "nan_count": 6,
          "unique_count": 24
         }
        },
        {
         "dtype": "object",
         "name": "North Dakota!!Percent!!Margin of Error",
         "stats": {
          "categories": [
           {
            "count": 6,
            "name": "±0.3"
           },
           {
            "count": 23,
            "name": "10 others"
           },
           {
            "count": 6,
            "name": "Missing"
           }
          ],
          "nan_count": 6,
          "unique_count": 11
         }
        },
        {
         "dtype": "object",
         "name": "Ohio!!Total!!Estimate",
         "stats": {
          "categories": [
           {
            "count": 1,
            "name": "8,830,185"
           },
           {
            "count": 28,
            "name": "28 others"
           },
           {
            "count": 6,
            "name": "Missing"
           }
          ],
          "nan_count": 6,
          "unique_count": 29
         }
        },
        {
         "dtype": "object",
         "name": "Ohio!!Total!!Margin of Error",
         "stats": {
          "categories": [
           {
            "count": 1,
            "name": "±11,095"
           },
           {
            "count": 28,
            "name": "28 others"
           },
           {
            "count": 6,
            "name": "Missing"
           }
          ],
          "nan_count": 6,
          "unique_count": 29
         }
        },
        {
         "dtype": "object",
         "name": "Ohio!!Percent!!Estimate",
         "stats": {
          "categories": [
           {
            "count": 3,
            "name": "(X)"
           },
           {
            "count": 26,
            "name": "26 others"
           },
           {
            "count": 6,
            "name": "Missing"
           }
          ],
          "nan_count": 6,
          "unique_count": 27
         }
        },
        {
         "dtype": "object",
         "name": "Ohio!!Percent!!Margin of Error",
         "stats": {
          "categories": [
           {
            "count": 16,
            "name": "±0.1"
           },
           {
            "count": 13,
            "name": "4 others"
           },
           {
            "count": 6,
            "name": "Missing"
           }
          ],
          "nan_count": 6,
          "unique_count": 5
         }
        },
        {
         "dtype": "object",
         "name": "Oklahoma!!Total!!Estimate",
         "stats": {
          "categories": [
           {
            "count": 1,
            "name": "2,835,451"
           },
           {
            "count": 28,
            "name": "28 others"
           },
           {
            "count": 6,
            "name": "Missing"
           }
          ],
          "nan_count": 6,
          "unique_count": 29
         }
        },
        {
         "dtype": "object",
         "name": "Oklahoma!!Total!!Margin of Error",
         "stats": {
          "categories": [
           {
            "count": 1,
            "name": "±6,224"
           },
           {
            "count": 28,
            "name": "28 others"
           },
           {
            "count": 6,
            "name": "Missing"
           }
          ],
          "nan_count": 6,
          "unique_count": 29
         }
        },
        {
         "dtype": "object",
         "name": "Oklahoma!!Percent!!Estimate",
         "stats": {
          "categories": [
           {
            "count": 3,
            "name": "(X)"
           },
           {
            "count": 26,
            "name": "25 others"
           },
           {
            "count": 6,
            "name": "Missing"
           }
          ],
          "nan_count": 6,
          "unique_count": 26
         }
        },
        {
         "dtype": "object",
         "name": "Oklahoma!!Percent!!Margin of Error",
         "stats": {
          "categories": [
           {
            "count": 12,
            "name": "±0.1"
           },
           {
            "count": 17,
            "name": "5 others"
           },
           {
            "count": 6,
            "name": "Missing"
           }
          ],
          "nan_count": 6,
          "unique_count": 6
         }
        },
        {
         "dtype": "object",
         "name": "Oregon!!Total!!Estimate",
         "stats": {
          "categories": [
           {
            "count": 1,
            "name": "3,060,328"
           },
           {
            "count": 28,
            "name": "28 others"
           },
           {
            "count": 6,
            "name": "Missing"
           }
          ],
          "nan_count": 6,
          "unique_count": 29
         }
        },
        {
         "dtype": "object",
         "name": "Oregon!!Total!!Margin of Error",
         "stats": {
          "categories": [
           {
            "count": 1,
            "name": "±9,788"
           },
           {
            "count": 28,
            "name": "28 others"
           },
           {
            "count": 6,
            "name": "Missing"
           }
          ],
          "nan_count": 6,
          "unique_count": 29
         }
        },
        {
         "dtype": "object",
         "name": "Oregon!!Percent!!Estimate",
         "stats": {
          "categories": [
           {
            "count": 3,
            "name": "(X)"
           },
           {
            "count": 26,
            "name": "25 others"
           },
           {
            "count": 6,
            "name": "Missing"
           }
          ],
          "nan_count": 6,
          "unique_count": 26
         }
        },
        {
         "dtype": "object",
         "name": "Oregon!!Percent!!Margin of Error",
         "stats": {
          "categories": [
           {
            "count": 7,
            "name": "±0.1"
           },
           {
            "count": 22,
            "name": "5 others"
           },
           {
            "count": 6,
            "name": "Missing"
           }
          ],
          "nan_count": 6,
          "unique_count": 6
         }
        },
        {
         "dtype": "object",
         "name": "Pennsylvania!!Total!!Estimate",
         "stats": {
          "categories": [
           {
            "count": 1,
            "name": "9,764,119"
           },
           {
            "count": 28,
            "name": "28 others"
           },
           {
            "count": 6,
            "name": "Missing"
           }
          ],
          "nan_count": 6,
          "unique_count": 29
         }
        },
        {
         "dtype": "object",
         "name": "Pennsylvania!!Total!!Margin of Error",
         "stats": {
          "categories": [
           {
            "count": 1,
            "name": "±12,718"
           },
           {
            "count": 28,
            "name": "28 others"
           },
           {
            "count": 6,
            "name": "Missing"
           }
          ],
          "nan_count": 6,
          "unique_count": 29
         }
        },
        {
         "dtype": "object",
         "name": "Pennsylvania!!Percent!!Estimate",
         "stats": {
          "categories": [
           {
            "count": 3,
            "name": "(X)"
           },
           {
            "count": 26,
            "name": "26 others"
           },
           {
            "count": 6,
            "name": "Missing"
           }
          ],
          "nan_count": 6,
          "unique_count": 27
         }
        },
        {
         "dtype": "object",
         "name": "Pennsylvania!!Percent!!Margin of Error",
         "stats": {
          "categories": [
           {
            "count": 17,
            "name": "±0.1"
           },
           {
            "count": 12,
            "name": "4 others"
           },
           {
            "count": 6,
            "name": "Missing"
           }
          ],
          "nan_count": 6,
          "unique_count": 5
         }
        },
        {
         "dtype": "object",
         "name": "Rhode Island!!Total!!Estimate",
         "stats": {
          "categories": [
           {
            "count": 2,
            "name": "N"
           },
           {
            "count": 27,
            "name": "27 others"
           },
           {
            "count": 6,
            "name": "Missing"
           }
          ],
          "nan_count": 6,
          "unique_count": 28
         }
        },
        {
         "dtype": "object",
         "name": "Rhode Island!!Total!!Margin of Error",
         "stats": {
          "categories": [
           {
            "count": 2,
            "name": "N"
           },
           {
            "count": 27,
            "name": "27 others"
           },
           {
            "count": 6,
            "name": "Missing"
           }
          ],
          "nan_count": 6,
          "unique_count": 28
         }
        },
        {
         "dtype": "object",
         "name": "Rhode Island!!Percent!!Estimate",
         "stats": {
          "categories": [
           {
            "count": 3,
            "name": "(X)"
           },
           {
            "count": 26,
            "name": "25 others"
           },
           {
            "count": 6,
            "name": "Missing"
           }
          ],
          "nan_count": 6,
          "unique_count": 26
         }
        },
        {
         "dtype": "object",
         "name": "Rhode Island!!Percent!!Margin of Error",
         "stats": {
          "categories": [
           {
            "count": 5,
            "name": "±0.4"
           },
           {
            "count": 24,
            "name": "10 others"
           },
           {
            "count": 6,
            "name": "Missing"
           }
          ],
          "nan_count": 6,
          "unique_count": 11
         }
        },
        {
         "dtype": "object",
         "name": "South Carolina!!Total!!Estimate",
         "stats": {
          "categories": [
           {
            "count": 2,
            "name": "N"
           },
           {
            "count": 27,
            "name": "27 others"
           },
           {
            "count": 6,
            "name": "Missing"
           }
          ],
          "nan_count": 6,
          "unique_count": 28
         }
        },
        {
         "dtype": "object",
         "name": "South Carolina!!Total!!Margin of Error",
         "stats": {
          "categories": [
           {
            "count": 2,
            "name": "N"
           },
           {
            "count": 27,
            "name": "27 others"
           },
           {
            "count": 6,
            "name": "Missing"
           }
          ],
          "nan_count": 6,
          "unique_count": 28
         }
        },
        {
         "dtype": "object",
         "name": "South Carolina!!Percent!!Estimate",
         "stats": {
          "categories": [
           {
            "count": 3,
            "name": "(X)"
           },
           {
            "count": 26,
            "name": "25 others"
           },
           {
            "count": 6,
            "name": "Missing"
           }
          ],
          "nan_count": 6,
          "unique_count": 26
         }
        },
        {
         "dtype": "object",
         "name": "South Carolina!!Percent!!Margin of Error",
         "stats": {
          "categories": [
           {
            "count": 12,
            "name": "±0.1"
           },
           {
            "count": 17,
            "name": "6 others"
           },
           {
            "count": 6,
            "name": "Missing"
           }
          ],
          "nan_count": 6,
          "unique_count": 7
         }
        },
        {
         "dtype": "object",
         "name": "South Dakota!!Total!!Estimate",
         "stats": {
          "categories": [
           {
            "count": 3,
            "name": "N"
           },
           {
            "count": 26,
            "name": "26 others"
           },
           {
            "count": 6,
            "name": "Missing"
           }
          ],
          "nan_count": 6,
          "unique_count": 27
         }
        },
        {
         "dtype": "object",
         "name": "South Dakota!!Total!!Margin of Error",
         "stats": {
          "categories": [
           {
            "count": 3,
            "name": "N"
           },
           {
            "count": 26,
            "name": "25 others"
           },
           {
            "count": 6,
            "name": "Missing"
           }
          ],
          "nan_count": 6,
          "unique_count": 26
         }
        },
        {
         "dtype": "object",
         "name": "South Dakota!!Percent!!Estimate",
         "stats": {
          "categories": [
           {
            "count": 3,
            "name": "(X)"
           },
           {
            "count": 26,
            "name": "23 others"
           },
           {
            "count": 6,
            "name": "Missing"
           }
          ],
          "nan_count": 6,
          "unique_count": 24
         }
        },
        {
         "dtype": "object",
         "name": "South Dakota!!Percent!!Margin of Error",
         "stats": {
          "categories": [
           {
            "count": 8,
            "name": "±0.3"
           },
           {
            "count": 21,
            "name": "10 others"
           },
           {
            "count": 6,
            "name": "Missing"
           }
          ],
          "nan_count": 6,
          "unique_count": 11
         }
        },
        {
         "dtype": "object",
         "name": "Tennessee!!Total!!Estimate",
         "stats": {
          "categories": [
           {
            "count": 2,
            "name": "N"
           },
           {
            "count": 27,
            "name": "27 others"
           },
           {
            "count": 6,
            "name": "Missing"
           }
          ],
          "nan_count": 6,
          "unique_count": 28
         }
        },
        {
         "dtype": "object",
         "name": "Tennessee!!Total!!Margin of Error",
         "stats": {
          "categories": [
           {
            "count": 2,
            "name": "N"
           },
           {
            "count": 27,
            "name": "27 others"
           },
           {
            "count": 6,
            "name": "Missing"
           }
          ],
          "nan_count": 6,
          "unique_count": 28
         }
        },
        {
         "dtype": "object",
         "name": "Tennessee!!Percent!!Estimate",
         "stats": {
          "categories": [
           {
            "count": 3,
            "name": "(X)"
           },
           {
            "count": 26,
            "name": "24 others"
           },
           {
            "count": 6,
            "name": "Missing"
           }
          ],
          "nan_count": 6,
          "unique_count": 25
         }
        },
        {
         "dtype": "object",
         "name": "Tennessee!!Percent!!Margin of Error",
         "stats": {
          "categories": [
           {
            "count": 14,
            "name": "±0.1"
           },
           {
            "count": 15,
            "name": "5 others"
           },
           {
            "count": 6,
            "name": "Missing"
           }
          ],
          "nan_count": 6,
          "unique_count": 6
         }
        },
        {
         "dtype": "object",
         "name": "Texas!!Total!!Estimate",
         "stats": {
          "categories": [
           {
            "count": 1,
            "name": "18,174,345"
           },
           {
            "count": 28,
            "name": "28 others"
           },
           {
            "count": 6,
            "name": "Missing"
           }
          ],
          "nan_count": 6,
          "unique_count": 29
         }
        },
        {
         "dtype": "object",
         "name": "Texas!!Total!!Margin of Error",
         "stats": {
          "categories": [
           {
            "count": 1,
            "name": "±36,778"
           },
           {
            "count": 28,
            "name": "28 others"
           },
           {
            "count": 6,
            "name": "Missing"
           }
          ],
          "nan_count": 6,
          "unique_count": 29
         }
        },
        {
         "dtype": "object",
         "name": "Texas!!Percent!!Estimate",
         "stats": {
          "categories": [
           {
            "count": 3,
            "name": "(X)"
           },
           {
            "count": 26,
            "name": "25 others"
           },
           {
            "count": 6,
            "name": "Missing"
           }
          ],
          "nan_count": 6,
          "unique_count": 26
         }
        },
        {
         "dtype": "object",
         "name": "Texas!!Percent!!Margin of Error",
         "stats": {
          "categories": [
           {
            "count": 19,
            "name": "±0.1"
           },
           {
            "count": 10,
            "name": "2 others"
           },
           {
            "count": 6,
            "name": "Missing"
           }
          ],
          "nan_count": 6,
          "unique_count": 3
         }
        },
        {
         "dtype": "object",
         "name": "Utah!!Total!!Estimate",
         "stats": {
          "categories": [
           {
            "count": 1,
            "name": "2,028,176"
           },
           {
            "count": 28,
            "name": "28 others"
           },
           {
            "count": 6,
            "name": "Missing"
           }
          ],
          "nan_count": 6,
          "unique_count": 29
         }
        },
        {
         "dtype": "object",
         "name": "Utah!!Total!!Margin of Error",
         "stats": {
          "categories": [
           {
            "count": 1,
            "name": "±6,796"
           },
           {
            "count": 28,
            "name": "28 others"
           },
           {
            "count": 6,
            "name": "Missing"
           }
          ],
          "nan_count": 6,
          "unique_count": 29
         }
        },
        {
         "dtype": "object",
         "name": "Utah!!Percent!!Estimate",
         "stats": {
          "categories": [
           {
            "count": 3,
            "name": "(X)"
           },
           {
            "count": 26,
            "name": "26 others"
           },
           {
            "count": 6,
            "name": "Missing"
           }
          ],
          "nan_count": 6,
          "unique_count": 27
         }
        },
        {
         "dtype": "object",
         "name": "Utah!!Percent!!Margin of Error",
         "stats": {
          "categories": [
           {
            "count": 8,
            "name": "±0.2"
           },
           {
            "count": 21,
            "name": "5 others"
           },
           {
            "count": 6,
            "name": "Missing"
           }
          ],
          "nan_count": 6,
          "unique_count": 6
         }
        },
        {
         "dtype": "object",
         "name": "Vermont!!Total!!Estimate",
         "stats": {
          "categories": [
           {
            "count": 5,
            "name": "N"
           },
           {
            "count": 24,
            "name": "24 others"
           },
           {
            "count": 6,
            "name": "Missing"
           }
          ],
          "nan_count": 6,
          "unique_count": 25
         }
        },
        {
         "dtype": "object",
         "name": "Vermont!!Total!!Margin of Error",
         "stats": {
          "categories": [
           {
            "count": 5,
            "name": "N"
           },
           {
            "count": 24,
            "name": "24 others"
           },
           {
            "count": 6,
            "name": "Missing"
           }
          ],
          "nan_count": 6,
          "unique_count": 25
         }
        },
        {
         "dtype": "object",
         "name": "Vermont!!Percent!!Estimate",
         "stats": {
          "categories": [
           {
            "count": 5,
            "name": "N"
           },
           {
            "count": 24,
            "name": "22 others"
           },
           {
            "count": 6,
            "name": "Missing"
           }
          ],
          "nan_count": 6,
          "unique_count": 23
         }
        },
        {
         "dtype": "object",
         "name": "Vermont!!Percent!!Margin of Error",
         "stats": {
          "categories": [
           {
            "count": 6,
            "name": "±0.2"
           },
           {
            "count": 23,
            "name": "9 others"
           },
           {
            "count": 6,
            "name": "Missing"
           }
          ],
          "nan_count": 6,
          "unique_count": 10
         }
        },
        {
         "dtype": "object",
         "name": "Virginia!!Total!!Estimate",
         "stats": {
          "categories": [
           {
            "count": 1,
            "name": "6,145,893"
           },
           {
            "count": 28,
            "name": "28 others"
           },
           {
            "count": 6,
            "name": "Missing"
           }
          ],
          "nan_count": 6,
          "unique_count": 29
         }
        },
        {
         "dtype": "object",
         "name": "Virginia!!Total!!Margin of Error",
         "stats": {
          "categories": [
           {
            "count": 1,
            "name": "±15,649"
           },
           {
            "count": 28,
            "name": "28 others"
           },
           {
            "count": 6,
            "name": "Missing"
           }
          ],
          "nan_count": 6,
          "unique_count": 29
         }
        },
        {
         "dtype": "object",
         "name": "Virginia!!Percent!!Estimate",
         "stats": {
          "categories": [
           {
            "count": 3,
            "name": "(X)"
           },
           {
            "count": 26,
            "name": "26 others"
           },
           {
            "count": 6,
            "name": "Missing"
           }
          ],
          "nan_count": 6,
          "unique_count": 27
         }
        },
        {
         "dtype": "object",
         "name": "Virginia!!Percent!!Margin of Error",
         "stats": {
          "categories": [
           {
            "count": 13,
            "name": "±0.1"
           },
           {
            "count": 16,
            "name": "4 others"
           },
           {
            "count": 6,
            "name": "Missing"
           }
          ],
          "nan_count": 6,
          "unique_count": 5
         }
        },
        {
         "dtype": "object",
         "name": "Washington!!Total!!Estimate",
         "stats": {
          "categories": [
           {
            "count": 1,
            "name": "5,259,892"
           },
           {
            "count": 28,
            "name": "28 others"
           },
           {
            "count": 6,
            "name": "Missing"
           }
          ],
          "nan_count": 6,
          "unique_count": 29
         }
        },
        {
         "dtype": "object",
         "name": "Washington!!Total!!Margin of Error",
         "stats": {
          "categories": [
           {
            "count": 1,
            "name": "±14,007"
           },
           {
            "count": 28,
            "name": "28 others"
           },
           {
            "count": 6,
            "name": "Missing"
           }
          ],
          "nan_count": 6,
          "unique_count": 29
         }
        },
        {
         "dtype": "object",
         "name": "Washington!!Percent!!Estimate",
         "stats": {
          "categories": [
           {
            "count": 3,
            "name": "(X)"
           },
           {
            "count": 26,
            "name": "26 others"
           },
           {
            "count": 6,
            "name": "Missing"
           }
          ],
          "nan_count": 6,
          "unique_count": 27
         }
        },
        {
         "dtype": "object",
         "name": "Washington!!Percent!!Margin of Error",
         "stats": {
          "categories": [
           {
            "count": 13,
            "name": "±0.1"
           },
           {
            "count": 16,
            "name": "4 others"
           },
           {
            "count": 6,
            "name": "Missing"
           }
          ],
          "nan_count": 6,
          "unique_count": 5
         }
        },
        {
         "dtype": "object",
         "name": "West Virginia!!Total!!Estimate",
         "stats": {
          "categories": [
           {
            "count": 3,
            "name": "N"
           },
           {
            "count": 26,
            "name": "26 others"
           },
           {
            "count": 6,
            "name": "Missing"
           }
          ],
          "nan_count": 6,
          "unique_count": 27
         }
        },
        {
         "dtype": "object",
         "name": "West Virginia!!Total!!Margin of Error",
         "stats": {
          "categories": [
           {
            "count": 3,
            "name": "N"
           },
           {
            "count": 26,
            "name": "26 others"
           },
           {
            "count": 6,
            "name": "Missing"
           }
          ],
          "nan_count": 6,
          "unique_count": 27
         }
        },
        {
         "dtype": "object",
         "name": "West Virginia!!Percent!!Estimate",
         "stats": {
          "categories": [
           {
            "count": 3,
            "name": "(X)"
           },
           {
            "count": 26,
            "name": "24 others"
           },
           {
            "count": 6,
            "name": "Missing"
           }
          ],
          "nan_count": 6,
          "unique_count": 25
         }
        },
        {
         "dtype": "object",
         "name": "West Virginia!!Percent!!Margin of Error",
         "stats": {
          "categories": [
           {
            "count": 7,
            "name": "±0.1"
           },
           {
            "count": 22,
            "name": "8 others"
           },
           {
            "count": 6,
            "name": "Missing"
           }
          ],
          "nan_count": 6,
          "unique_count": 9
         }
        },
        {
         "dtype": "object",
         "name": "Wisconsin!!Total!!Estimate",
         "stats": {
          "categories": [
           {
            "count": 1,
            "name": "4,375,063"
           },
           {
            "count": 28,
            "name": "28 others"
           },
           {
            "count": 6,
            "name": "Missing"
           }
          ],
          "nan_count": 6,
          "unique_count": 29
         }
        },
        {
         "dtype": "object",
         "name": "Wisconsin!!Total!!Margin of Error",
         "stats": {
          "categories": [
           {
            "count": 1,
            "name": "±7,956"
           },
           {
            "count": 28,
            "name": "28 others"
           },
           {
            "count": 6,
            "name": "Missing"
           }
          ],
          "nan_count": 6,
          "unique_count": 29
         }
        },
        {
         "dtype": "object",
         "name": "Wisconsin!!Percent!!Estimate",
         "stats": {
          "categories": [
           {
            "count": 3,
            "name": "(X)"
           },
           {
            "count": 26,
            "name": "26 others"
           },
           {
            "count": 6,
            "name": "Missing"
           }
          ],
          "nan_count": 6,
          "unique_count": 27
         }
        },
        {
         "dtype": "object",
         "name": "Wisconsin!!Percent!!Margin of Error",
         "stats": {
          "categories": [
           {
            "count": 14,
            "name": "±0.1"
           },
           {
            "count": 15,
            "name": "4 others"
           },
           {
            "count": 6,
            "name": "Missing"
           }
          ],
          "nan_count": 6,
          "unique_count": 5
         }
        },
        {
         "dtype": "object",
         "name": "Wyoming!!Total!!Estimate",
         "stats": {
          "categories": [
           {
            "count": 4,
            "name": "N"
           },
           {
            "count": 25,
            "name": "25 others"
           },
           {
            "count": 6,
            "name": "Missing"
           }
          ],
          "nan_count": 6,
          "unique_count": 26
         }
        },
        {
         "dtype": "object",
         "name": "Wyoming!!Total!!Margin of Error",
         "stats": {
          "categories": [
           {
            "count": 4,
            "name": "N"
           },
           {
            "count": 25,
            "name": "25 others"
           },
           {
            "count": 6,
            "name": "Missing"
           }
          ],
          "nan_count": 6,
          "unique_count": 26
         }
        },
        {
         "dtype": "object",
         "name": "Wyoming!!Percent!!Estimate",
         "stats": {
          "categories": [
           {
            "count": 4,
            "name": "N"
           },
           {
            "count": 25,
            "name": "23 others"
           },
           {
            "count": 6,
            "name": "Missing"
           }
          ],
          "nan_count": 6,
          "unique_count": 24
         }
        },
        {
         "dtype": "object",
         "name": "Wyoming!!Percent!!Margin of Error",
         "stats": {
          "categories": [
           {
            "count": 4,
            "name": "±0.3"
           },
           {
            "count": 25,
            "name": "11 others"
           },
           {
            "count": 6,
            "name": "Missing"
           }
          ],
          "nan_count": 6,
          "unique_count": 12
         }
        },
        {
         "dtype": "object",
         "name": "Puerto Rico!!Total!!Estimate",
         "stats": {
          "categories": [
           {
            "count": 3,
            "name": "N"
           },
           {
            "count": 26,
            "name": "26 others"
           },
           {
            "count": 6,
            "name": "Missing"
           }
          ],
          "nan_count": 6,
          "unique_count": 27
         }
        },
        {
         "dtype": "object",
         "name": "Puerto Rico!!Total!!Margin of Error",
         "stats": {
          "categories": [
           {
            "count": 3,
            "name": "N"
           },
           {
            "count": 26,
            "name": "26 others"
           },
           {
            "count": 6,
            "name": "Missing"
           }
          ],
          "nan_count": 6,
          "unique_count": 27
         }
        },
        {
         "dtype": "object",
         "name": "Puerto Rico!!Percent!!Estimate",
         "stats": {
          "categories": [
           {
            "count": 3,
            "name": "(X)"
           },
           {
            "count": 26,
            "name": "24 others"
           },
           {
            "count": 6,
            "name": "Missing"
           }
          ],
          "nan_count": 6,
          "unique_count": 25
         }
        },
        {
         "dtype": "object",
         "name": "Puerto Rico!!Percent!!Margin of Error",
         "stats": {
          "categories": [
           {
            "count": 6,
            "name": "±0.1"
           },
           {
            "count": 23,
            "name": "9 others"
           },
           {
            "count": 6,
            "name": "Missing"
           }
          ],
          "nan_count": 6,
          "unique_count": 10
         }
        },
        {
         "dtype": "int64",
         "name": "_deepnote_index_column"
        }
       ],
       "row_count": 35,
       "rows_bottom": [
        {
         "Alabama!!Percent!!Estimate": "nan",
         "Alabama!!Percent!!Margin of Error": "nan",
         "Alabama!!Total!!Estimate": "nan",
         "Alabama!!Total!!Margin of Error": "nan",
         "Alaska!!Percent!!Estimate": "nan",
         "Alaska!!Percent!!Margin of Error": "nan",
         "Alaska!!Total!!Estimate": "nan",
         "Alaska!!Total!!Margin of Error": "nan",
         "Arizona!!Percent!!Estimate": "nan",
         "Arizona!!Percent!!Margin of Error": "nan",
         "Arizona!!Total!!Estimate": "nan",
         "Arizona!!Total!!Margin of Error": "nan",
         "Arkansas!!Percent!!Estimate": "nan",
         "Arkansas!!Percent!!Margin of Error": "nan",
         "Arkansas!!Total!!Estimate": "nan",
         "Arkansas!!Total!!Margin of Error": "nan",
         "California!!Percent!!Estimate": "nan",
         "California!!Percent!!Margin of Error": "nan",
         "California!!Total!!Estimate": "nan",
         "California!!Total!!Margin of Error": "nan",
         "Colorado!!Percent!!Estimate": "nan",
         "Colorado!!Percent!!Margin of Error": "nan",
         "Colorado!!Total!!Estimate": "nan",
         "Colorado!!Total!!Margin of Error": "nan",
         "Connecticut!!Percent!!Estimate": "nan",
         "Connecticut!!Percent!!Margin of Error": "nan",
         "Connecticut!!Total!!Estimate": "nan",
         "Connecticut!!Total!!Margin of Error": "nan",
         "Delaware!!Percent!!Estimate": "nan",
         "Delaware!!Percent!!Margin of Error": "nan",
         "Delaware!!Total!!Estimate": "nan",
         "Delaware!!Total!!Margin of Error": "nan",
         "District of Columbia!!Percent!!Estimate": "nan",
         "District of Columbia!!Percent!!Margin of Error": "nan",
         "District of Columbia!!Total!!Estimate": "nan",
         "District of Columbia!!Total!!Margin of Error": "nan",
         "Florida!!Percent!!Estimate": "nan",
         "Florida!!Percent!!Margin of Error": "nan",
         "Florida!!Total!!Estimate": "nan",
         "Florida!!Total!!Margin of Error": "nan",
         "Georgia!!Percent!!Estimate": "nan",
         "Georgia!!Percent!!Margin of Error": "nan",
         "Georgia!!Total!!Estimate": "nan",
         "Georgia!!Total!!Margin of Error": "nan",
         "Hawaii!!Percent!!Estimate": "nan",
         "Hawaii!!Percent!!Margin of Error": "nan",
         "Hawaii!!Total!!Estimate": "nan",
         "Hawaii!!Total!!Margin of Error": "nan",
         "Idaho!!Percent!!Estimate": "nan",
         "Idaho!!Percent!!Margin of Error": "nan",
         "Idaho!!Total!!Estimate": "nan",
         "Idaho!!Total!!Margin of Error": "nan",
         "Illinois!!Percent!!Estimate": "nan",
         "Illinois!!Percent!!Margin of Error": "nan",
         "Illinois!!Total!!Estimate": "nan",
         "Illinois!!Total!!Margin of Error": "nan",
         "Indiana!!Percent!!Estimate": "nan",
         "Indiana!!Percent!!Margin of Error": "nan",
         "Indiana!!Total!!Estimate": "nan",
         "Indiana!!Total!!Margin of Error": "nan",
         "Iowa!!Percent!!Estimate": "nan",
         "Iowa!!Percent!!Margin of Error": "nan",
         "Iowa!!Total!!Estimate": "nan",
         "Iowa!!Total!!Margin of Error": "nan",
         "Kansas!!Percent!!Estimate": "nan",
         "Kansas!!Percent!!Margin of Error": "nan",
         "Kansas!!Total!!Estimate": "nan",
         "Kansas!!Total!!Margin of Error": "nan",
         "Kentucky!!Percent!!Estimate": "nan",
         "Kentucky!!Percent!!Margin of Error": "nan",
         "Kentucky!!Total!!Estimate": "nan",
         "Kentucky!!Total!!Margin of Error": "nan",
         "Label": "HOUSEHOLD INCOME (IN 2017 INFLATION-ADJUSTED DOLLARS)",
         "Louisiana!!Percent!!Estimate": "nan",
         "Louisiana!!Percent!!Margin of Error": "nan",
         "Louisiana!!Total!!Estimate": "nan",
         "Louisiana!!Total!!Margin of Error": "nan",
         "Maine!!Percent!!Estimate": "nan",
         "Maine!!Percent!!Margin of Error": "nan",
         "Maine!!Total!!Estimate": "nan",
         "Maine!!Total!!Margin of Error": "nan",
         "Maryland!!Percent!!Estimate": "nan",
         "Maryland!!Percent!!Margin of Error": "nan",
         "Maryland!!Total!!Estimate": "nan",
         "Maryland!!Total!!Margin of Error": "nan",
         "Massachusetts!!Percent!!Estimate": "nan",
         "Massachusetts!!Percent!!Margin of Error": "nan",
         "Massachusetts!!Total!!Estimate": "nan",
         "Massachusetts!!Total!!Margin of Error": "nan",
         "Michigan!!Percent!!Estimate": "nan",
         "Michigan!!Percent!!Margin of Error": "nan",
         "Michigan!!Total!!Estimate": "nan",
         "Michigan!!Total!!Margin of Error": "nan",
         "Minnesota!!Percent!!Estimate": "nan",
         "Minnesota!!Percent!!Margin of Error": "nan",
         "Minnesota!!Total!!Estimate": "nan",
         "Minnesota!!Total!!Margin of Error": "nan",
         "Mississippi!!Percent!!Estimate": "nan",
         "Mississippi!!Percent!!Margin of Error": "nan",
         "Mississippi!!Total!!Estimate": "nan",
         "Mississippi!!Total!!Margin of Error": "nan",
         "Missouri!!Percent!!Estimate": "nan",
         "Missouri!!Percent!!Margin of Error": "nan",
         "Missouri!!Total!!Estimate": "nan",
         "Missouri!!Total!!Margin of Error": "nan",
         "Montana!!Percent!!Estimate": "nan",
         "Montana!!Percent!!Margin of Error": "nan",
         "Montana!!Total!!Estimate": "nan",
         "Montana!!Total!!Margin of Error": "nan",
         "Nebraska!!Percent!!Estimate": "nan",
         "Nebraska!!Percent!!Margin of Error": "nan",
         "Nebraska!!Total!!Estimate": "nan",
         "Nebraska!!Total!!Margin of Error": "nan",
         "Nevada!!Percent!!Estimate": "nan",
         "Nevada!!Percent!!Margin of Error": "nan",
         "Nevada!!Total!!Estimate": "nan",
         "Nevada!!Total!!Margin of Error": "nan",
         "New Hampshire!!Percent!!Estimate": "nan",
         "New Hampshire!!Percent!!Margin of Error": "nan",
         "New Hampshire!!Total!!Estimate": "nan",
         "New Hampshire!!Total!!Margin of Error": "nan",
         "New Jersey!!Percent!!Estimate": "nan",
         "New Jersey!!Percent!!Margin of Error": "nan",
         "New Jersey!!Total!!Estimate": "nan",
         "New Jersey!!Total!!Margin of Error": "nan",
         "New Mexico!!Percent!!Estimate": "nan",
         "New Mexico!!Percent!!Margin of Error": "nan",
         "New Mexico!!Total!!Estimate": "nan",
         "New Mexico!!Total!!Margin of Error": "nan",
         "New York!!Percent!!Estimate": "nan",
         "New York!!Percent!!Margin of Error": "nan",
         "New York!!Total!!Estimate": "nan",
         "New York!!Total!!Margin of Error": "nan",
         "North Carolina!!Percent!!Estimate": "nan",
         "North Carolina!!Percent!!Margin of Error": "nan",
         "North Carolina!!Total!!Estimate": "nan",
         "North Carolina!!Total!!Margin of Error": "nan",
         "North Dakota!!Percent!!Estimate": "nan",
         "North Dakota!!Percent!!Margin of Error": "nan",
         "North Dakota!!Total!!Estimate": "nan",
         "North Dakota!!Total!!Margin of Error": "nan",
         "Ohio!!Percent!!Estimate": "nan",
         "Ohio!!Percent!!Margin of Error": "nan",
         "Ohio!!Total!!Estimate": "nan",
         "Ohio!!Total!!Margin of Error": "nan",
         "Oklahoma!!Percent!!Estimate": "nan",
         "Oklahoma!!Percent!!Margin of Error": "nan",
         "Oklahoma!!Total!!Estimate": "nan",
         "Oklahoma!!Total!!Margin of Error": "nan",
         "Oregon!!Percent!!Estimate": "nan",
         "Oregon!!Percent!!Margin of Error": "nan",
         "Oregon!!Total!!Estimate": "nan",
         "Oregon!!Total!!Margin of Error": "nan",
         "Pennsylvania!!Percent!!Estimate": "nan",
         "Pennsylvania!!Percent!!Margin of Error": "nan",
         "Pennsylvania!!Total!!Estimate": "nan",
         "Pennsylvania!!Total!!Margin of Error": "nan",
         "Puerto Rico!!Percent!!Estimate": "nan",
         "Puerto Rico!!Percent!!Margin of Error": "nan",
         "Puerto Rico!!Total!!Estimate": "nan",
         "Puerto Rico!!Total!!Margin of Error": "nan",
         "Rhode Island!!Percent!!Estimate": "nan",
         "Rhode Island!!Percent!!Margin of Error": "nan",
         "Rhode Island!!Total!!Estimate": "nan",
         "Rhode Island!!Total!!Margin of Error": "nan",
         "South Carolina!!Percent!!Estimate": "nan",
         "South Carolina!!Percent!!Margin of Error": "nan",
         "South Carolina!!Total!!Estimate": "nan",
         "South Carolina!!Total!!Margin of Error": "nan",
         "South Dakota!!Percent!!Estimate": "nan",
         "South Dakota!!Percent!!Margin of Error": "nan",
         "South Dakota!!Total!!Estimate": "nan",
         "South Dakota!!Total!!Margin of Error": "nan",
         "Tennessee!!Percent!!Estimate": "nan",
         "Tennessee!!Percent!!Margin of Error": "nan",
         "Tennessee!!Total!!Estimate": "nan",
         "Tennessee!!Total!!Margin of Error": "nan",
         "Texas!!Percent!!Estimate": "nan",
         "Texas!!Percent!!Margin of Error": "nan",
         "Texas!!Total!!Estimate": "nan",
         "Texas!!Total!!Margin of Error": "nan",
         "Utah!!Percent!!Estimate": "nan",
         "Utah!!Percent!!Margin of Error": "nan",
         "Utah!!Total!!Estimate": "nan",
         "Utah!!Total!!Margin of Error": "nan",
         "Vermont!!Percent!!Estimate": "nan",
         "Vermont!!Percent!!Margin of Error": "nan",
         "Vermont!!Total!!Estimate": "nan",
         "Vermont!!Total!!Margin of Error": "nan",
         "Virginia!!Percent!!Estimate": "nan",
         "Virginia!!Percent!!Margin of Error": "nan",
         "Virginia!!Total!!Estimate": "nan",
         "Virginia!!Total!!Margin of Error": "nan",
         "Washington!!Percent!!Estimate": "nan",
         "Washington!!Percent!!Margin of Error": "nan",
         "Washington!!Total!!Estimate": "nan",
         "Washington!!Total!!Margin of Error": "nan",
         "West Virginia!!Percent!!Estimate": "nan",
         "West Virginia!!Percent!!Margin of Error": "nan",
         "West Virginia!!Total!!Estimate": "nan",
         "West Virginia!!Total!!Margin of Error": "nan",
         "Wisconsin!!Percent!!Estimate": "nan",
         "Wisconsin!!Percent!!Margin of Error": "nan",
         "Wisconsin!!Total!!Estimate": "nan",
         "Wisconsin!!Total!!Margin of Error": "nan",
         "Wyoming!!Percent!!Estimate": "nan",
         "Wyoming!!Percent!!Margin of Error": "nan",
         "Wyoming!!Total!!Estimate": "nan",
         "Wyoming!!Total!!Margin of Error": "nan",
         "_deepnote_index_column": 33
        },
        {
         "Alabama!!Percent!!Estimate": "(X)",
         "Alabama!!Percent!!Margin of Error": "(X)",
         "Alabama!!Total!!Estimate": "48,452",
         "Alabama!!Total!!Margin of Error": "±772",
         "Alaska!!Percent!!Estimate": "(X)",
         "Alaska!!Percent!!Margin of Error": "(X)",
         "Alaska!!Total!!Estimate": "74,048",
         "Alaska!!Total!!Margin of Error": "±2,864",
         "Arizona!!Percent!!Estimate": "(X)",
         "Arizona!!Percent!!Margin of Error": "(X)",
         "Arizona!!Total!!Estimate": "58,252",
         "Arizona!!Total!!Margin of Error": "±656",
         "Arkansas!!Percent!!Estimate": "(X)",
         "Arkansas!!Percent!!Margin of Error": "(X)",
         "Arkansas!!Total!!Estimate": "45,947",
         "Arkansas!!Total!!Margin of Error": "±794",
         "California!!Percent!!Estimate": "(X)",
         "California!!Percent!!Margin of Error": "(X)",
         "California!!Total!!Estimate": "76,088",
         "California!!Total!!Margin of Error": "±331",
         "Colorado!!Percent!!Estimate": "(X)",
         "Colorado!!Percent!!Margin of Error": "(X)",
         "Colorado!!Total!!Estimate": "70,478",
         "Colorado!!Total!!Margin of Error": "±687",
         "Connecticut!!Percent!!Estimate": "(X)",
         "Connecticut!!Percent!!Margin of Error": "(X)",
         "Connecticut!!Total!!Estimate": "75,751",
         "Connecticut!!Total!!Margin of Error": "±1,121",
         "Delaware!!Percent!!Estimate": "(X)",
         "Delaware!!Percent!!Margin of Error": "(X)",
         "Delaware!!Total!!Estimate": "63,626",
         "Delaware!!Total!!Margin of Error": "±2,672",
         "District of Columbia!!Percent!!Estimate": "(X)",
         "District of Columbia!!Percent!!Margin of Error": "(X)",
         "District of Columbia!!Total!!Estimate": "82,468",
         "District of Columbia!!Total!!Margin of Error": "±2,884",
         "Florida!!Percent!!Estimate": "(X)",
         "Florida!!Percent!!Margin of Error": "(X)",
         "Florida!!Total!!Estimate": "54,216",
         "Florida!!Total!!Margin of Error": "±392",
         "Georgia!!Percent!!Estimate": "(X)",
         "Georgia!!Percent!!Margin of Error": "(X)",
         "Georgia!!Total!!Estimate": "56,809",
         "Georgia!!Total!!Margin of Error": "±583",
         "Hawaii!!Percent!!Estimate": "(X)",
         "Hawaii!!Percent!!Margin of Error": "(X)",
         "Hawaii!!Total!!Estimate": "79,615",
         "Hawaii!!Total!!Margin of Error": "±1,783",
         "Idaho!!Percent!!Estimate": "(X)",
         "Idaho!!Percent!!Margin of Error": "(X)",
         "Idaho!!Total!!Estimate": "52,667",
         "Idaho!!Total!!Margin of Error": "±1,226",
         "Illinois!!Percent!!Estimate": "(X)",
         "Illinois!!Percent!!Margin of Error": "(X)",
         "Illinois!!Total!!Estimate": "64,635",
         "Illinois!!Total!!Margin of Error": "±583",
         "Indiana!!Percent!!Estimate": "(X)",
         "Indiana!!Percent!!Margin of Error": "(X)",
         "Indiana!!Total!!Estimate": "54,749",
         "Indiana!!Total!!Margin of Error": "±684",
         "Iowa!!Percent!!Estimate": "(X)",
         "Iowa!!Percent!!Margin of Error": "(X)",
         "Iowa!!Total!!Estimate": "59,109",
         "Iowa!!Total!!Margin of Error": "±833",
         "Kansas!!Percent!!Estimate": "(X)",
         "Kansas!!Percent!!Margin of Error": "(X)",
         "Kansas!!Total!!Estimate": "57,133",
         "Kansas!!Total!!Margin of Error": "±741",
         "Kentucky!!Percent!!Estimate": "(X)",
         "Kentucky!!Percent!!Margin of Error": "(X)",
         "Kentucky!!Total!!Estimate": "48,525",
         "Kentucky!!Total!!Margin of Error": "±670",
         "Label": "    Median Household Income for Households with a Citizen, Voting-Age Householder",
         "Louisiana!!Percent!!Estimate": "(X)",
         "Louisiana!!Percent!!Margin of Error": "(X)",
         "Louisiana!!Total!!Estimate": "46,492",
         "Louisiana!!Total!!Margin of Error": "±671",
         "Maine!!Percent!!Estimate": "(X)",
         "Maine!!Percent!!Margin of Error": "(X)",
         "Maine!!Total!!Estimate": "56,463",
         "Maine!!Total!!Margin of Error": "±1,177",
         "Maryland!!Percent!!Estimate": "(X)",
         "Maryland!!Percent!!Margin of Error": "(X)",
         "Maryland!!Total!!Estimate": "81,860",
         "Maryland!!Total!!Margin of Error": "±754",
         "Massachusetts!!Percent!!Estimate": "(X)",
         "Massachusetts!!Percent!!Margin of Error": "(X)",
         "Massachusetts!!Total!!Estimate": "79,512",
         "Massachusetts!!Total!!Margin of Error": "±1,068",
         "Michigan!!Percent!!Estimate": "(X)",
         "Michigan!!Percent!!Margin of Error": "(X)",
         "Michigan!!Total!!Estimate": "54,952",
         "Michigan!!Total!!Margin of Error": "±428",
         "Minnesota!!Percent!!Estimate": "(X)",
         "Minnesota!!Percent!!Margin of Error": "(X)",
         "Minnesota!!Total!!Estimate": "69,159",
         "Minnesota!!Total!!Margin of Error": "±661",
         "Mississippi!!Percent!!Estimate": "(X)",
         "Mississippi!!Percent!!Margin of Error": "(X)",
         "Mississippi!!Total!!Estimate": "43,608",
         "Mississippi!!Total!!Margin of Error": "±884",
         "Missouri!!Percent!!Estimate": "(X)",
         "Missouri!!Percent!!Margin of Error": "(X)",
         "Missouri!!Total!!Estimate": "53,819",
         "Missouri!!Total!!Margin of Error": "±620",
         "Montana!!Percent!!Estimate": "(X)",
         "Montana!!Percent!!Margin of Error": "(X)",
         "Montana!!Total!!Estimate": "53,550",
         "Montana!!Total!!Margin of Error": "±1,417",
         "Nebraska!!Percent!!Estimate": "(X)",
         "Nebraska!!Percent!!Margin of Error": "(X)",
         "Nebraska!!Total!!Estimate": "60,769",
         "Nebraska!!Total!!Margin of Error": "±760",
         "Nevada!!Percent!!Estimate": "(X)",
         "Nevada!!Percent!!Margin of Error": "(X)",
         "Nevada!!Total!!Estimate": "59,639",
         "Nevada!!Total!!Margin of Error": "±941",
         "New Hampshire!!Percent!!Estimate": "(X)",
         "New Hampshire!!Percent!!Margin of Error": "(X)",
         "New Hampshire!!Total!!Estimate": "73,871",
         "New Hampshire!!Total!!Margin of Error": "±1,787",
         "New Jersey!!Percent!!Estimate": "(X)",
         "New Jersey!!Percent!!Margin of Error": "(X)",
         "New Jersey!!Total!!Estimate": "81,994",
         "New Jersey!!Total!!Margin of Error": "±639",
         "New Mexico!!Percent!!Estimate": "(X)",
         "New Mexico!!Percent!!Margin of Error": "(X)",
         "New Mexico!!Total!!Estimate": "48,122",
         "New Mexico!!Total!!Margin of Error": "±1,263",
         "New York!!Percent!!Estimate": "(X)",
         "New York!!Percent!!Margin of Error": "(X)",
         "New York!!Total!!Estimate": "66,515",
         "New York!!Total!!Margin of Error": "±490",
         "North Carolina!!Percent!!Estimate": "(X)",
         "North Carolina!!Percent!!Margin of Error": "(X)",
         "North Carolina!!Total!!Estimate": "53,617",
         "North Carolina!!Total!!Margin of Error": "±510",
         "North Dakota!!Percent!!Estimate": "(X)",
         "North Dakota!!Percent!!Margin of Error": "(X)",
         "North Dakota!!Total!!Estimate": "62,222",
         "North Dakota!!Total!!Margin of Error": "±1,319",
         "Ohio!!Percent!!Estimate": "(X)",
         "Ohio!!Percent!!Margin of Error": "(X)",
         "Ohio!!Total!!Estimate": "54,185",
         "Ohio!!Total!!Margin of Error": "±416",
         "Oklahoma!!Percent!!Estimate": "(X)",
         "Oklahoma!!Percent!!Margin of Error": "(X)",
         "Oklahoma!!Total!!Estimate": "50,384",
         "Oklahoma!!Total!!Margin of Error": "±501",
         "Oregon!!Percent!!Estimate": "(X)",
         "Oregon!!Percent!!Margin of Error": "(X)",
         "Oregon!!Total!!Estimate": "60,883",
         "Oregon!!Total!!Margin of Error": "±765",
         "Pennsylvania!!Percent!!Estimate": "(X)",
         "Pennsylvania!!Percent!!Margin of Error": "(X)",
         "Pennsylvania!!Total!!Estimate": "59,536",
         "Pennsylvania!!Total!!Margin of Error": "±452",
         "Puerto Rico!!Percent!!Estimate": "(X)",
         "Puerto Rico!!Percent!!Margin of Error": "(X)",
         "Puerto Rico!!Total!!Estimate": "19,382",
         "Puerto Rico!!Total!!Margin of Error": "±413",
         "Rhode Island!!Percent!!Estimate": "(X)",
         "Rhode Island!!Percent!!Margin of Error": "(X)",
         "Rhode Island!!Total!!Estimate": "65,645",
         "Rhode Island!!Total!!Margin of Error": "±1,921",
         "South Carolina!!Percent!!Estimate": "(X)",
         "South Carolina!!Percent!!Margin of Error": "(X)",
         "South Carolina!!Total!!Estimate": "50,847",
         "South Carolina!!Total!!Margin of Error": "±537",
         "South Dakota!!Percent!!Estimate": "(X)",
         "South Dakota!!Percent!!Margin of Error": "(X)",
         "South Dakota!!Total!!Estimate": "56,950",
         "South Dakota!!Total!!Margin of Error": "±1,378",
         "Tennessee!!Percent!!Estimate": "(X)",
         "Tennessee!!Percent!!Margin of Error": "(X)",
         "Tennessee!!Total!!Estimate": "51,658",
         "Tennessee!!Total!!Margin of Error": "±416",
         "Texas!!Percent!!Estimate": "(X)",
         "Texas!!Percent!!Margin of Error": "(X)",
         "Texas!!Total!!Estimate": "61,765",
         "Texas!!Total!!Margin of Error": "±346",
         "Utah!!Percent!!Estimate": "(X)",
         "Utah!!Percent!!Margin of Error": "(X)",
         "Utah!!Total!!Estimate": "70,213",
         "Utah!!Total!!Margin of Error": "±880",
         "Vermont!!Percent!!Estimate": "(X)",
         "Vermont!!Percent!!Margin of Error": "(X)",
         "Vermont!!Total!!Estimate": "57,645",
         "Vermont!!Total!!Margin of Error": "±2,136",
         "Virginia!!Percent!!Estimate": "(X)",
         "Virginia!!Percent!!Margin of Error": "(X)",
         "Virginia!!Total!!Estimate": "71,912",
         "Virginia!!Total!!Margin of Error": "±576",
         "Washington!!Percent!!Estimate": "(X)",
         "Washington!!Percent!!Margin of Error": "(X)",
         "Washington!!Total!!Estimate": "71,580",
         "Washington!!Total!!Margin of Error": "±612",
         "West Virginia!!Percent!!Estimate": "(X)",
         "West Virginia!!Percent!!Margin of Error": "(X)",
         "West Virginia!!Total!!Estimate": "43,524",
         "West Virginia!!Total!!Margin of Error": "±1,377",
         "Wisconsin!!Percent!!Estimate": "(X)",
         "Wisconsin!!Percent!!Margin of Error": "(X)",
         "Wisconsin!!Total!!Estimate": "59,717",
         "Wisconsin!!Total!!Margin of Error": "±563",
         "Wyoming!!Percent!!Estimate": "(X)",
         "Wyoming!!Percent!!Margin of Error": "(X)",
         "Wyoming!!Total!!Estimate": "60,867",
         "Wyoming!!Total!!Margin of Error": "±1,685",
         "_deepnote_index_column": 34
        }
       ],
       "rows_top": [
        {
         "Alabama!!Percent!!Estimate": "(X)",
         "Alabama!!Percent!!Margin of Error": "(X)",
         "Alabama!!Total!!Estimate": "3,688,249",
         "Alabama!!Total!!Margin of Error": "±5,643",
         "Alaska!!Percent!!Estimate": "(X)",
         "Alaska!!Percent!!Margin of Error": "(X)",
         "Alaska!!Total!!Estimate": "531,653",
         "Alaska!!Total!!Margin of Error": "±3,005",
         "Arizona!!Percent!!Estimate": "(X)",
         "Arizona!!Percent!!Margin of Error": "(X)",
         "Arizona!!Total!!Estimate": "4,895,706",
         "Arizona!!Total!!Margin of Error": "±14,005",
         "Arkansas!!Percent!!Estimate": "(X)",
         "Arkansas!!Percent!!Margin of Error": "(X)",
         "Arkansas!!Total!!Estimate": "2,207,894",
         "Arkansas!!Total!!Margin of Error": "±4,945",
         "California!!Percent!!Estimate": "(X)",
         "California!!Percent!!Margin of Error": "(X)",
         "California!!Total!!Estimate": "25,650,455",
         "California!!Total!!Margin of Error": "±39,934",
         "Colorado!!Percent!!Estimate": "(X)",
         "Colorado!!Percent!!Margin of Error": "(X)",
         "Colorado!!Total!!Estimate": "4,057,437",
         "Colorado!!Total!!Margin of Error": "±9,372",
         "Connecticut!!Percent!!Estimate": "(X)",
         "Connecticut!!Percent!!Margin of Error": "(X)",
         "Connecticut!!Total!!Estimate": "2,611,667",
         "Connecticut!!Total!!Margin of Error": "±9,339",
         "Delaware!!Percent!!Estimate": "(X)",
         "Delaware!!Percent!!Margin of Error": "(X)",
         "Delaware!!Total!!Estimate": "709,999",
         "Delaware!!Total!!Margin of Error": "±4,015",
         "District of Columbia!!Percent!!Estimate": "(X)",
         "District of Columbia!!Percent!!Margin of Error": "(X)",
         "District of Columbia!!Total!!Estimate": "510,514",
         "District of Columbia!!Total!!Margin of Error": "±4,960",
         "Florida!!Percent!!Estimate": "(X)",
         "Florida!!Percent!!Margin of Error": "(X)",
         "Florida!!Total!!Estimate": "15,014,950",
         "Florida!!Total!!Margin of Error": "±31,938",
         "Georgia!!Percent!!Estimate": "(X)",
         "Georgia!!Percent!!Margin of Error": "(X)",
         "Georgia!!Total!!Estimate": "7,362,615",
         "Georgia!!Total!!Margin of Error": "±15,328",
         "Hawaii!!Percent!!Estimate": "(X)",
         "Hawaii!!Percent!!Margin of Error": "(X)",
         "Hawaii!!Total!!Estimate": "1,025,548",
         "Hawaii!!Total!!Margin of Error": "±7,912",
         "Idaho!!Percent!!Estimate": "(X)",
         "Idaho!!Percent!!Margin of Error": "(X)",
         "Idaho!!Total!!Estimate": "1,219,481",
         "Idaho!!Total!!Margin of Error": "±4,819",
         "Illinois!!Percent!!Estimate": "(X)",
         "Illinois!!Percent!!Margin of Error": "(X)",
         "Illinois!!Total!!Estimate": "9,055,927",
         "Illinois!!Total!!Margin of Error": "±16,897",
         "Indiana!!Percent!!Estimate": "(X)",
         "Indiana!!Percent!!Margin of Error": "(X)",
         "Indiana!!Total!!Estimate": "4,899,251",
         "Indiana!!Total!!Margin of Error": "±8,820",
         "Iowa!!Percent!!Estimate": "(X)",
         "Iowa!!Percent!!Margin of Error": "(X)",
         "Iowa!!Total!!Estimate": "2,325,355",
         "Iowa!!Total!!Margin of Error": "±5,220",
         "Kansas!!Percent!!Estimate": "(X)",
         "Kansas!!Percent!!Margin of Error": "(X)",
         "Kansas!!Total!!Estimate": "2,091,261",
         "Kansas!!Total!!Margin of Error": "±5,682",
         "Kentucky!!Percent!!Estimate": "(X)",
         "Kentucky!!Percent!!Margin of Error": "(X)",
         "Kentucky!!Total!!Estimate": "3,350,956",
         "Kentucky!!Total!!Margin of Error": "±6,339",
         "Label": "Citizens 18 years and over",
         "Louisiana!!Percent!!Estimate": "(X)",
         "Louisiana!!Percent!!Margin of Error": "(X)",
         "Louisiana!!Total!!Estimate": "3,469,016",
         "Louisiana!!Total!!Margin of Error": "±7,138",
         "Maine!!Percent!!Estimate": "(X)",
         "Maine!!Percent!!Margin of Error": "(X)",
         "Maine!!Total!!Estimate": "1,064,497",
         "Maine!!Total!!Margin of Error": "±2,550",
         "Maryland!!Percent!!Estimate": "(X)",
         "Maryland!!Percent!!Margin of Error": "(X)",
         "Maryland!!Total!!Estimate": "4,310,864",
         "Maryland!!Total!!Margin of Error": "±13,483",
         "Massachusetts!!Percent!!Estimate": "(X)",
         "Massachusetts!!Percent!!Margin of Error": "(X)",
         "Massachusetts!!Total!!Estimate": "4,993,001",
         "Massachusetts!!Total!!Margin of Error": "±15,115",
         "Michigan!!Percent!!Estimate": "(X)",
         "Michigan!!Percent!!Margin of Error": "(X)",
         "Michigan!!Total!!Estimate": "7,481,928",
         "Michigan!!Total!!Margin of Error": "±10,585",
         "Minnesota!!Percent!!Estimate": "(X)",
         "Minnesota!!Percent!!Margin of Error": "(X)",
         "Minnesota!!Total!!Estimate": "4,079,652",
         "Minnesota!!Total!!Margin of Error": "±8,062",
         "Mississippi!!Percent!!Estimate": "(X)",
         "Mississippi!!Percent!!Margin of Error": "(X)",
         "Mississippi!!Total!!Estimate": "2,234,722",
         "Mississippi!!Total!!Margin of Error": "±4,641",
         "Missouri!!Percent!!Estimate": "(X)",
         "Missouri!!Percent!!Margin of Error": "(X)",
         "Missouri!!Total!!Estimate": "4,606,843",
         "Missouri!!Total!!Margin of Error": "±7,507",
         "Montana!!Percent!!Estimate": "(X)",
         "Montana!!Percent!!Margin of Error": "(X)",
         "Montana!!Total!!Estimate": "810,760",
         "Montana!!Total!!Margin of Error": "±1,990",
         "Nebraska!!Percent!!Estimate": "(X)",
         "Nebraska!!Percent!!Margin of Error": "(X)",
         "Nebraska!!Total!!Estimate": "1,368,000",
         "Nebraska!!Total!!Margin of Error": "±4,623",
         "Nevada!!Percent!!Estimate": "(X)",
         "Nevada!!Percent!!Margin of Error": "(X)",
         "Nevada!!Total!!Estimate": "2,031,213",
         "Nevada!!Total!!Margin of Error": "±9,801",
         "New Hampshire!!Percent!!Estimate": "(X)",
         "New Hampshire!!Percent!!Margin of Error": "(X)",
         "New Hampshire!!Total!!Estimate": "1,048,883",
         "New Hampshire!!Total!!Margin of Error": "±3,621",
         "New Jersey!!Percent!!Estimate": "(X)",
         "New Jersey!!Percent!!Margin of Error": "(X)",
         "New Jersey!!Total!!Estimate": "6,199,409",
         "New Jersey!!Total!!Margin of Error": "±19,163",
         "New Mexico!!Percent!!Estimate": "(X)",
         "New Mexico!!Percent!!Margin of Error": "(X)",
         "New Mexico!!Total!!Estimate": "1,493,318",
         "New Mexico!!Total!!Margin of Error": "±7,504",
         "New York!!Percent!!Estimate": "(X)",
         "New York!!Percent!!Margin of Error": "(X)",
         "New York!!Total!!Estimate": "13,866,648",
         "New York!!Total!!Margin of Error": "±25,883",
         "North Carolina!!Percent!!Estimate": "(X)",
         "North Carolina!!Percent!!Margin of Error": "(X)",
         "North Carolina!!Total!!Estimate": "7,509,879",
         "North Carolina!!Total!!Margin of Error": "±14,198",
         "North Dakota!!Percent!!Estimate": "(X)",
         "North Dakota!!Percent!!Margin of Error": "(X)",
         "North Dakota!!Total!!Estimate": "564,475",
         "North Dakota!!Total!!Margin of Error": "±2,695",
         "Ohio!!Percent!!Estimate": "(X)",
         "Ohio!!Percent!!Margin of Error": "(X)",
         "Ohio!!Total!!Estimate": "8,830,185",
         "Ohio!!Total!!Margin of Error": "±11,095",
         "Oklahoma!!Percent!!Estimate": "(X)",
         "Oklahoma!!Percent!!Margin of Error": "(X)",
         "Oklahoma!!Total!!Estimate": "2,835,451",
         "Oklahoma!!Total!!Margin of Error": "±6,224",
         "Oregon!!Percent!!Estimate": "(X)",
         "Oregon!!Percent!!Margin of Error": "(X)",
         "Oregon!!Total!!Estimate": "3,060,328",
         "Oregon!!Total!!Margin of Error": "±9,788",
         "Pennsylvania!!Percent!!Estimate": "(X)",
         "Pennsylvania!!Percent!!Margin of Error": "(X)",
         "Pennsylvania!!Total!!Estimate": "9,764,119",
         "Pennsylvania!!Total!!Margin of Error": "±12,718",
         "Puerto Rico!!Percent!!Estimate": "(X)",
         "Puerto Rico!!Percent!!Margin of Error": "(X)",
         "Puerto Rico!!Total!!Estimate": "2,636,949",
         "Puerto Rico!!Total!!Margin of Error": "±4,608",
         "Rhode Island!!Percent!!Estimate": "(X)",
         "Rhode Island!!Percent!!Margin of Error": "(X)",
         "Rhode Island!!Total!!Estimate": "792,337",
         "Rhode Island!!Total!!Margin of Error": "±5,553",
         "South Carolina!!Percent!!Estimate": "(X)",
         "South Carolina!!Percent!!Margin of Error": "(X)",
         "South Carolina!!Total!!Estimate": "3,799,298",
         "South Carolina!!Total!!Margin of Error": "±6,431",
         "South Dakota!!Percent!!Estimate": "(X)",
         "South Dakota!!Percent!!Margin of Error": "(X)",
         "South Dakota!!Total!!Estimate": "641,666",
         "South Dakota!!Total!!Margin of Error": "±2,362",
         "Tennessee!!Percent!!Estimate": "(X)",
         "Tennessee!!Percent!!Margin of Error": "(X)",
         "Tennessee!!Total!!Estimate": "5,016,103",
         "Tennessee!!Total!!Margin of Error": "±9,364",
         "Texas!!Percent!!Estimate": "(X)",
         "Texas!!Percent!!Margin of Error": "(X)",
         "Texas!!Total!!Estimate": "18,174,345",
         "Texas!!Total!!Margin of Error": "±36,778",
         "Utah!!Percent!!Estimate": "(X)",
         "Utah!!Percent!!Margin of Error": "(X)",
         "Utah!!Total!!Estimate": "2,028,176",
         "Utah!!Total!!Margin of Error": "±6,796",
         "Vermont!!Percent!!Estimate": "(X)",
         "Vermont!!Percent!!Margin of Error": "(X)",
         "Vermont!!Total!!Estimate": "494,550",
         "Vermont!!Total!!Margin of Error": "±1,901",
         "Virginia!!Percent!!Estimate": "(X)",
         "Virginia!!Percent!!Margin of Error": "(X)",
         "Virginia!!Total!!Estimate": "6,145,893",
         "Virginia!!Total!!Margin of Error": "±15,649",
         "Washington!!Percent!!Estimate": "(X)",
         "Washington!!Percent!!Margin of Error": "(X)",
         "Washington!!Total!!Estimate": "5,259,892",
         "Washington!!Total!!Margin of Error": "±14,007",
         "West Virginia!!Percent!!Estimate": "(X)",
         "West Virginia!!Percent!!Margin of Error": "(X)",
         "West Virginia!!Total!!Estimate": "1,428,859",
         "West Virginia!!Total!!Margin of Error": "±2,924",
         "Wisconsin!!Percent!!Estimate": "(X)",
         "Wisconsin!!Percent!!Margin of Error": "(X)",
         "Wisconsin!!Total!!Estimate": "4,375,063",
         "Wisconsin!!Total!!Margin of Error": "±7,956",
         "Wyoming!!Percent!!Estimate": "(X)",
         "Wyoming!!Percent!!Margin of Error": "(X)",
         "Wyoming!!Total!!Estimate": "428,379",
         "Wyoming!!Total!!Margin of Error": "±2,729",
         "_deepnote_index_column": 0
        },
        {
         "Alabama!!Percent!!Estimate": "nan",
         "Alabama!!Percent!!Margin of Error": "nan",
         "Alabama!!Total!!Estimate": "nan",
         "Alabama!!Total!!Margin of Error": "nan",
         "Alaska!!Percent!!Estimate": "nan",
         "Alaska!!Percent!!Margin of Error": "nan",
         "Alaska!!Total!!Estimate": "nan",
         "Alaska!!Total!!Margin of Error": "nan",
         "Arizona!!Percent!!Estimate": "nan",
         "Arizona!!Percent!!Margin of Error": "nan",
         "Arizona!!Total!!Estimate": "nan",
         "Arizona!!Total!!Margin of Error": "nan",
         "Arkansas!!Percent!!Estimate": "nan",
         "Arkansas!!Percent!!Margin of Error": "nan",
         "Arkansas!!Total!!Estimate": "nan",
         "Arkansas!!Total!!Margin of Error": "nan",
         "California!!Percent!!Estimate": "nan",
         "California!!Percent!!Margin of Error": "nan",
         "California!!Total!!Estimate": "nan",
         "California!!Total!!Margin of Error": "nan",
         "Colorado!!Percent!!Estimate": "nan",
         "Colorado!!Percent!!Margin of Error": "nan",
         "Colorado!!Total!!Estimate": "nan",
         "Colorado!!Total!!Margin of Error": "nan",
         "Connecticut!!Percent!!Estimate": "nan",
         "Connecticut!!Percent!!Margin of Error": "nan",
         "Connecticut!!Total!!Estimate": "nan",
         "Connecticut!!Total!!Margin of Error": "nan",
         "Delaware!!Percent!!Estimate": "nan",
         "Delaware!!Percent!!Margin of Error": "nan",
         "Delaware!!Total!!Estimate": "nan",
         "Delaware!!Total!!Margin of Error": "nan",
         "District of Columbia!!Percent!!Estimate": "nan",
         "District of Columbia!!Percent!!Margin of Error": "nan",
         "District of Columbia!!Total!!Estimate": "nan",
         "District of Columbia!!Total!!Margin of Error": "nan",
         "Florida!!Percent!!Estimate": "nan",
         "Florida!!Percent!!Margin of Error": "nan",
         "Florida!!Total!!Estimate": "nan",
         "Florida!!Total!!Margin of Error": "nan",
         "Georgia!!Percent!!Estimate": "nan",
         "Georgia!!Percent!!Margin of Error": "nan",
         "Georgia!!Total!!Estimate": "nan",
         "Georgia!!Total!!Margin of Error": "nan",
         "Hawaii!!Percent!!Estimate": "nan",
         "Hawaii!!Percent!!Margin of Error": "nan",
         "Hawaii!!Total!!Estimate": "nan",
         "Hawaii!!Total!!Margin of Error": "nan",
         "Idaho!!Percent!!Estimate": "nan",
         "Idaho!!Percent!!Margin of Error": "nan",
         "Idaho!!Total!!Estimate": "nan",
         "Idaho!!Total!!Margin of Error": "nan",
         "Illinois!!Percent!!Estimate": "nan",
         "Illinois!!Percent!!Margin of Error": "nan",
         "Illinois!!Total!!Estimate": "nan",
         "Illinois!!Total!!Margin of Error": "nan",
         "Indiana!!Percent!!Estimate": "nan",
         "Indiana!!Percent!!Margin of Error": "nan",
         "Indiana!!Total!!Estimate": "nan",
         "Indiana!!Total!!Margin of Error": "nan",
         "Iowa!!Percent!!Estimate": "nan",
         "Iowa!!Percent!!Margin of Error": "nan",
         "Iowa!!Total!!Estimate": "nan",
         "Iowa!!Total!!Margin of Error": "nan",
         "Kansas!!Percent!!Estimate": "nan",
         "Kansas!!Percent!!Margin of Error": "nan",
         "Kansas!!Total!!Estimate": "nan",
         "Kansas!!Total!!Margin of Error": "nan",
         "Kentucky!!Percent!!Estimate": "nan",
         "Kentucky!!Percent!!Margin of Error": "nan",
         "Kentucky!!Total!!Estimate": "nan",
         "Kentucky!!Total!!Margin of Error": "nan",
         "Label": "AGE",
         "Louisiana!!Percent!!Estimate": "nan",
         "Louisiana!!Percent!!Margin of Error": "nan",
         "Louisiana!!Total!!Estimate": "nan",
         "Louisiana!!Total!!Margin of Error": "nan",
         "Maine!!Percent!!Estimate": "nan",
         "Maine!!Percent!!Margin of Error": "nan",
         "Maine!!Total!!Estimate": "nan",
         "Maine!!Total!!Margin of Error": "nan",
         "Maryland!!Percent!!Estimate": "nan",
         "Maryland!!Percent!!Margin of Error": "nan",
         "Maryland!!Total!!Estimate": "nan",
         "Maryland!!Total!!Margin of Error": "nan",
         "Massachusetts!!Percent!!Estimate": "nan",
         "Massachusetts!!Percent!!Margin of Error": "nan",
         "Massachusetts!!Total!!Estimate": "nan",
         "Massachusetts!!Total!!Margin of Error": "nan",
         "Michigan!!Percent!!Estimate": "nan",
         "Michigan!!Percent!!Margin of Error": "nan",
         "Michigan!!Total!!Estimate": "nan",
         "Michigan!!Total!!Margin of Error": "nan",
         "Minnesota!!Percent!!Estimate": "nan",
         "Minnesota!!Percent!!Margin of Error": "nan",
         "Minnesota!!Total!!Estimate": "nan",
         "Minnesota!!Total!!Margin of Error": "nan",
         "Mississippi!!Percent!!Estimate": "nan",
         "Mississippi!!Percent!!Margin of Error": "nan",
         "Mississippi!!Total!!Estimate": "nan",
         "Mississippi!!Total!!Margin of Error": "nan",
         "Missouri!!Percent!!Estimate": "nan",
         "Missouri!!Percent!!Margin of Error": "nan",
         "Missouri!!Total!!Estimate": "nan",
         "Missouri!!Total!!Margin of Error": "nan",
         "Montana!!Percent!!Estimate": "nan",
         "Montana!!Percent!!Margin of Error": "nan",
         "Montana!!Total!!Estimate": "nan",
         "Montana!!Total!!Margin of Error": "nan",
         "Nebraska!!Percent!!Estimate": "nan",
         "Nebraska!!Percent!!Margin of Error": "nan",
         "Nebraska!!Total!!Estimate": "nan",
         "Nebraska!!Total!!Margin of Error": "nan",
         "Nevada!!Percent!!Estimate": "nan",
         "Nevada!!Percent!!Margin of Error": "nan",
         "Nevada!!Total!!Estimate": "nan",
         "Nevada!!Total!!Margin of Error": "nan",
         "New Hampshire!!Percent!!Estimate": "nan",
         "New Hampshire!!Percent!!Margin of Error": "nan",
         "New Hampshire!!Total!!Estimate": "nan",
         "New Hampshire!!Total!!Margin of Error": "nan",
         "New Jersey!!Percent!!Estimate": "nan",
         "New Jersey!!Percent!!Margin of Error": "nan",
         "New Jersey!!Total!!Estimate": "nan",
         "New Jersey!!Total!!Margin of Error": "nan",
         "New Mexico!!Percent!!Estimate": "nan",
         "New Mexico!!Percent!!Margin of Error": "nan",
         "New Mexico!!Total!!Estimate": "nan",
         "New Mexico!!Total!!Margin of Error": "nan",
         "New York!!Percent!!Estimate": "nan",
         "New York!!Percent!!Margin of Error": "nan",
         "New York!!Total!!Estimate": "nan",
         "New York!!Total!!Margin of Error": "nan",
         "North Carolina!!Percent!!Estimate": "nan",
         "North Carolina!!Percent!!Margin of Error": "nan",
         "North Carolina!!Total!!Estimate": "nan",
         "North Carolina!!Total!!Margin of Error": "nan",
         "North Dakota!!Percent!!Estimate": "nan",
         "North Dakota!!Percent!!Margin of Error": "nan",
         "North Dakota!!Total!!Estimate": "nan",
         "North Dakota!!Total!!Margin of Error": "nan",
         "Ohio!!Percent!!Estimate": "nan",
         "Ohio!!Percent!!Margin of Error": "nan",
         "Ohio!!Total!!Estimate": "nan",
         "Ohio!!Total!!Margin of Error": "nan",
         "Oklahoma!!Percent!!Estimate": "nan",
         "Oklahoma!!Percent!!Margin of Error": "nan",
         "Oklahoma!!Total!!Estimate": "nan",
         "Oklahoma!!Total!!Margin of Error": "nan",
         "Oregon!!Percent!!Estimate": "nan",
         "Oregon!!Percent!!Margin of Error": "nan",
         "Oregon!!Total!!Estimate": "nan",
         "Oregon!!Total!!Margin of Error": "nan",
         "Pennsylvania!!Percent!!Estimate": "nan",
         "Pennsylvania!!Percent!!Margin of Error": "nan",
         "Pennsylvania!!Total!!Estimate": "nan",
         "Pennsylvania!!Total!!Margin of Error": "nan",
         "Puerto Rico!!Percent!!Estimate": "nan",
         "Puerto Rico!!Percent!!Margin of Error": "nan",
         "Puerto Rico!!Total!!Estimate": "nan",
         "Puerto Rico!!Total!!Margin of Error": "nan",
         "Rhode Island!!Percent!!Estimate": "nan",
         "Rhode Island!!Percent!!Margin of Error": "nan",
         "Rhode Island!!Total!!Estimate": "nan",
         "Rhode Island!!Total!!Margin of Error": "nan",
         "South Carolina!!Percent!!Estimate": "nan",
         "South Carolina!!Percent!!Margin of Error": "nan",
         "South Carolina!!Total!!Estimate": "nan",
         "South Carolina!!Total!!Margin of Error": "nan",
         "South Dakota!!Percent!!Estimate": "nan",
         "South Dakota!!Percent!!Margin of Error": "nan",
         "South Dakota!!Total!!Estimate": "nan",
         "South Dakota!!Total!!Margin of Error": "nan",
         "Tennessee!!Percent!!Estimate": "nan",
         "Tennessee!!Percent!!Margin of Error": "nan",
         "Tennessee!!Total!!Estimate": "nan",
         "Tennessee!!Total!!Margin of Error": "nan",
         "Texas!!Percent!!Estimate": "nan",
         "Texas!!Percent!!Margin of Error": "nan",
         "Texas!!Total!!Estimate": "nan",
         "Texas!!Total!!Margin of Error": "nan",
         "Utah!!Percent!!Estimate": "nan",
         "Utah!!Percent!!Margin of Error": "nan",
         "Utah!!Total!!Estimate": "nan",
         "Utah!!Total!!Margin of Error": "nan",
         "Vermont!!Percent!!Estimate": "nan",
         "Vermont!!Percent!!Margin of Error": "nan",
         "Vermont!!Total!!Estimate": "nan",
         "Vermont!!Total!!Margin of Error": "nan",
         "Virginia!!Percent!!Estimate": "nan",
         "Virginia!!Percent!!Margin of Error": "nan",
         "Virginia!!Total!!Estimate": "nan",
         "Virginia!!Total!!Margin of Error": "nan",
         "Washington!!Percent!!Estimate": "nan",
         "Washington!!Percent!!Margin of Error": "nan",
         "Washington!!Total!!Estimate": "nan",
         "Washington!!Total!!Margin of Error": "nan",
         "West Virginia!!Percent!!Estimate": "nan",
         "West Virginia!!Percent!!Margin of Error": "nan",
         "West Virginia!!Total!!Estimate": "nan",
         "West Virginia!!Total!!Margin of Error": "nan",
         "Wisconsin!!Percent!!Estimate": "nan",
         "Wisconsin!!Percent!!Margin of Error": "nan",
         "Wisconsin!!Total!!Estimate": "nan",
         "Wisconsin!!Total!!Margin of Error": "nan",
         "Wyoming!!Percent!!Estimate": "nan",
         "Wyoming!!Percent!!Margin of Error": "nan",
         "Wyoming!!Total!!Estimate": "nan",
         "Wyoming!!Total!!Margin of Error": "nan",
         "_deepnote_index_column": 1
        }
       ]
      },
      "text/html": [
       "<div>\n",
       "<style scoped>\n",
       "    .dataframe tbody tr th:only-of-type {\n",
       "        vertical-align: middle;\n",
       "    }\n",
       "\n",
       "    .dataframe tbody tr th {\n",
       "        vertical-align: top;\n",
       "    }\n",
       "\n",
       "    .dataframe thead th {\n",
       "        text-align: right;\n",
       "    }\n",
       "</style>\n",
       "<table border=\"1\" class=\"dataframe\">\n",
       "  <thead>\n",
       "    <tr style=\"text-align: right;\">\n",
       "      <th></th>\n",
       "      <th>Label</th>\n",
       "      <th>Alabama!!Total!!Estimate</th>\n",
       "      <th>Alabama!!Total!!Margin of Error</th>\n",
       "      <th>Alabama!!Percent!!Estimate</th>\n",
       "      <th>Alabama!!Percent!!Margin of Error</th>\n",
       "      <th>Alaska!!Total!!Estimate</th>\n",
       "      <th>Alaska!!Total!!Margin of Error</th>\n",
       "      <th>Alaska!!Percent!!Estimate</th>\n",
       "      <th>Alaska!!Percent!!Margin of Error</th>\n",
       "      <th>Arizona!!Total!!Estimate</th>\n",
       "      <th>...</th>\n",
       "      <th>Wisconsin!!Percent!!Estimate</th>\n",
       "      <th>Wisconsin!!Percent!!Margin of Error</th>\n",
       "      <th>Wyoming!!Total!!Estimate</th>\n",
       "      <th>Wyoming!!Total!!Margin of Error</th>\n",
       "      <th>Wyoming!!Percent!!Estimate</th>\n",
       "      <th>Wyoming!!Percent!!Margin of Error</th>\n",
       "      <th>Puerto Rico!!Total!!Estimate</th>\n",
       "      <th>Puerto Rico!!Total!!Margin of Error</th>\n",
       "      <th>Puerto Rico!!Percent!!Estimate</th>\n",
       "      <th>Puerto Rico!!Percent!!Margin of Error</th>\n",
       "    </tr>\n",
       "  </thead>\n",
       "  <tbody>\n",
       "    <tr>\n",
       "      <th>0</th>\n",
       "      <td>Citizens 18 years and over</td>\n",
       "      <td>3,688,249</td>\n",
       "      <td>±5,643</td>\n",
       "      <td>(X)</td>\n",
       "      <td>(X)</td>\n",
       "      <td>531,653</td>\n",
       "      <td>±3,005</td>\n",
       "      <td>(X)</td>\n",
       "      <td>(X)</td>\n",
       "      <td>4,895,706</td>\n",
       "      <td>...</td>\n",
       "      <td>(X)</td>\n",
       "      <td>(X)</td>\n",
       "      <td>428,379</td>\n",
       "      <td>±2,729</td>\n",
       "      <td>(X)</td>\n",
       "      <td>(X)</td>\n",
       "      <td>2,636,949</td>\n",
       "      <td>±4,608</td>\n",
       "      <td>(X)</td>\n",
       "      <td>(X)</td>\n",
       "    </tr>\n",
       "    <tr>\n",
       "      <th>1</th>\n",
       "      <td>AGE</td>\n",
       "      <td>NaN</td>\n",
       "      <td>NaN</td>\n",
       "      <td>NaN</td>\n",
       "      <td>NaN</td>\n",
       "      <td>NaN</td>\n",
       "      <td>NaN</td>\n",
       "      <td>NaN</td>\n",
       "      <td>NaN</td>\n",
       "      <td>NaN</td>\n",
       "      <td>...</td>\n",
       "      <td>NaN</td>\n",
       "      <td>NaN</td>\n",
       "      <td>NaN</td>\n",
       "      <td>NaN</td>\n",
       "      <td>NaN</td>\n",
       "      <td>NaN</td>\n",
       "      <td>NaN</td>\n",
       "      <td>NaN</td>\n",
       "      <td>NaN</td>\n",
       "      <td>NaN</td>\n",
       "    </tr>\n",
       "    <tr>\n",
       "      <th>2</th>\n",
       "      <td>18 to 29 years</td>\n",
       "      <td>771,482</td>\n",
       "      <td>±5,452</td>\n",
       "      <td>20.9%</td>\n",
       "      <td>±0.1</td>\n",
       "      <td>130,346</td>\n",
       "      <td>±2,366</td>\n",
       "      <td>24.5%</td>\n",
       "      <td>±0.4</td>\n",
       "      <td>1,067,740</td>\n",
       "      <td>...</td>\n",
       "      <td>20.2%</td>\n",
       "      <td>±0.1</td>\n",
       "      <td>88,687</td>\n",
       "      <td>±1,723</td>\n",
       "      <td>20.7%</td>\n",
       "      <td>±0.4</td>\n",
       "      <td>537,294</td>\n",
       "      <td>±2,203</td>\n",
       "      <td>20.4%</td>\n",
       "      <td>±0.1</td>\n",
       "    </tr>\n",
       "    <tr>\n",
       "      <th>3</th>\n",
       "      <td>30 to 44 years</td>\n",
       "      <td>859,001</td>\n",
       "      <td>±5,624</td>\n",
       "      <td>23.3%</td>\n",
       "      <td>±0.1</td>\n",
       "      <td>143,427</td>\n",
       "      <td>±2,549</td>\n",
       "      <td>27.0%</td>\n",
       "      <td>±0.5</td>\n",
       "      <td>1,133,448</td>\n",
       "      <td>...</td>\n",
       "      <td>22.9%</td>\n",
       "      <td>±0.1</td>\n",
       "      <td>105,718</td>\n",
       "      <td>±2,104</td>\n",
       "      <td>24.7%</td>\n",
       "      <td>±0.5</td>\n",
       "      <td>604,955</td>\n",
       "      <td>±4,596</td>\n",
       "      <td>22.9%</td>\n",
       "      <td>±0.2</td>\n",
       "    </tr>\n",
       "    <tr>\n",
       "      <th>4</th>\n",
       "      <td>45 to 64 years</td>\n",
       "      <td>1,260,686</td>\n",
       "      <td>±5,748</td>\n",
       "      <td>34.2%</td>\n",
       "      <td>±0.1</td>\n",
       "      <td>177,019</td>\n",
       "      <td>±2,684</td>\n",
       "      <td>33.3%</td>\n",
       "      <td>±0.5</td>\n",
       "      <td>1,544,874</td>\n",
       "      <td>...</td>\n",
       "      <td>35.3%</td>\n",
       "      <td>±0.1</td>\n",
       "      <td>144,273</td>\n",
       "      <td>±1,728</td>\n",
       "      <td>33.7%</td>\n",
       "      <td>±0.4</td>\n",
       "      <td>841,834</td>\n",
       "      <td>±4,554</td>\n",
       "      <td>31.9%</td>\n",
       "      <td>±0.2</td>\n",
       "    </tr>\n",
       "    <tr>\n",
       "      <th>5</th>\n",
       "      <td>65 years and over</td>\n",
       "      <td>797,080</td>\n",
       "      <td>±2,899</td>\n",
       "      <td>21.6%</td>\n",
       "      <td>±0.1</td>\n",
       "      <td>80,861</td>\n",
       "      <td>±1,212</td>\n",
       "      <td>15.2%</td>\n",
       "      <td>±0.2</td>\n",
       "      <td>1,149,644</td>\n",
       "      <td>...</td>\n",
       "      <td>21.6%</td>\n",
       "      <td>±0.1</td>\n",
       "      <td>89,701</td>\n",
       "      <td>±1,140</td>\n",
       "      <td>20.9%</td>\n",
       "      <td>±0.2</td>\n",
       "      <td>652,866</td>\n",
       "      <td>±1,222</td>\n",
       "      <td>24.8%</td>\n",
       "      <td>±0.1</td>\n",
       "    </tr>\n",
       "    <tr>\n",
       "      <th>6</th>\n",
       "      <td>SEX</td>\n",
       "      <td>NaN</td>\n",
       "      <td>NaN</td>\n",
       "      <td>NaN</td>\n",
       "      <td>NaN</td>\n",
       "      <td>NaN</td>\n",
       "      <td>NaN</td>\n",
       "      <td>NaN</td>\n",
       "      <td>NaN</td>\n",
       "      <td>NaN</td>\n",
       "      <td>...</td>\n",
       "      <td>NaN</td>\n",
       "      <td>NaN</td>\n",
       "      <td>NaN</td>\n",
       "      <td>NaN</td>\n",
       "      <td>NaN</td>\n",
       "      <td>NaN</td>\n",
       "      <td>NaN</td>\n",
       "      <td>NaN</td>\n",
       "      <td>NaN</td>\n",
       "      <td>NaN</td>\n",
       "    </tr>\n",
       "    <tr>\n",
       "      <th>7</th>\n",
       "      <td>Male</td>\n",
       "      <td>1,750,050</td>\n",
       "      <td>±4,591</td>\n",
       "      <td>47.4%</td>\n",
       "      <td>±0.1</td>\n",
       "      <td>281,264</td>\n",
       "      <td>±1,631</td>\n",
       "      <td>52.9%</td>\n",
       "      <td>±0.2</td>\n",
       "      <td>2,412,036</td>\n",
       "      <td>...</td>\n",
       "      <td>49.2%</td>\n",
       "      <td>±0.1</td>\n",
       "      <td>217,735</td>\n",
       "      <td>±2,119</td>\n",
       "      <td>50.8%</td>\n",
       "      <td>±0.3</td>\n",
       "      <td>1,226,539</td>\n",
       "      <td>±3,110</td>\n",
       "      <td>46.5%</td>\n",
       "      <td>±0.1</td>\n",
       "    </tr>\n",
       "    <tr>\n",
       "      <th>8</th>\n",
       "      <td>Female</td>\n",
       "      <td>1,938,199</td>\n",
       "      <td>±3,826</td>\n",
       "      <td>52.6%</td>\n",
       "      <td>±0.1</td>\n",
       "      <td>250,389</td>\n",
       "      <td>±2,104</td>\n",
       "      <td>47.1%</td>\n",
       "      <td>±0.2</td>\n",
       "      <td>2,483,670</td>\n",
       "      <td>...</td>\n",
       "      <td>50.8%</td>\n",
       "      <td>±0.1</td>\n",
       "      <td>210,644</td>\n",
       "      <td>±1,896</td>\n",
       "      <td>49.2%</td>\n",
       "      <td>±0.3</td>\n",
       "      <td>1,410,410</td>\n",
       "      <td>±3,278</td>\n",
       "      <td>53.5%</td>\n",
       "      <td>±0.1</td>\n",
       "    </tr>\n",
       "    <tr>\n",
       "      <th>9</th>\n",
       "      <td>RACE AND HISPANIC ORIGIN</td>\n",
       "      <td>NaN</td>\n",
       "      <td>NaN</td>\n",
       "      <td>NaN</td>\n",
       "      <td>NaN</td>\n",
       "      <td>NaN</td>\n",
       "      <td>NaN</td>\n",
       "      <td>NaN</td>\n",
       "      <td>NaN</td>\n",
       "      <td>NaN</td>\n",
       "      <td>...</td>\n",
       "      <td>NaN</td>\n",
       "      <td>NaN</td>\n",
       "      <td>NaN</td>\n",
       "      <td>NaN</td>\n",
       "      <td>NaN</td>\n",
       "      <td>NaN</td>\n",
       "      <td>NaN</td>\n",
       "      <td>NaN</td>\n",
       "      <td>NaN</td>\n",
       "      <td>NaN</td>\n",
       "    </tr>\n",
       "    <tr>\n",
       "      <th>10</th>\n",
       "      <td>White alone</td>\n",
       "      <td>2,594,550</td>\n",
       "      <td>±5,043</td>\n",
       "      <td>70.3%</td>\n",
       "      <td>±0.1</td>\n",
       "      <td>370,547</td>\n",
       "      <td>±2,411</td>\n",
       "      <td>69.7%</td>\n",
       "      <td>±0.5</td>\n",
       "      <td>3,970,171</td>\n",
       "      <td>...</td>\n",
       "      <td>89.0%</td>\n",
       "      <td>±0.1</td>\n",
       "      <td>399,806</td>\n",
       "      <td>±2,423</td>\n",
       "      <td>93.3%</td>\n",
       "      <td>±0.4</td>\n",
       "      <td>1,769,053</td>\n",
       "      <td>±19,982</td>\n",
       "      <td>67.1%</td>\n",
       "      <td>±0.7</td>\n",
       "    </tr>\n",
       "    <tr>\n",
       "      <th>11</th>\n",
       "      <td>Black or African American alone</td>\n",
       "      <td>977,499</td>\n",
       "      <td>±4,925</td>\n",
       "      <td>26.5%</td>\n",
       "      <td>±0.1</td>\n",
       "      <td>15,789</td>\n",
       "      <td>±1,236</td>\n",
       "      <td>3.0%</td>\n",
       "      <td>±0.2</td>\n",
       "      <td>213,036</td>\n",
       "      <td>...</td>\n",
       "      <td>5.7%</td>\n",
       "      <td>±0.1</td>\n",
       "      <td>N</td>\n",
       "      <td>N</td>\n",
       "      <td>N</td>\n",
       "      <td>N</td>\n",
       "      <td>315,764</td>\n",
       "      <td>±14,146</td>\n",
       "      <td>12.0%</td>\n",
       "      <td>±0.5</td>\n",
       "    </tr>\n",
       "    <tr>\n",
       "      <th>12</th>\n",
       "      <td>Asian alone</td>\n",
       "      <td>28,616</td>\n",
       "      <td>±2,689</td>\n",
       "      <td>0.8%</td>\n",
       "      <td>±0.1</td>\n",
       "      <td>23,909</td>\n",
       "      <td>±2,098</td>\n",
       "      <td>4.5%</td>\n",
       "      <td>±0.4</td>\n",
       "      <td>120,530</td>\n",
       "      <td>...</td>\n",
       "      <td>1.7%</td>\n",
       "      <td>±0.1</td>\n",
       "      <td>2,286</td>\n",
       "      <td>±620</td>\n",
       "      <td>0.5%</td>\n",
       "      <td>±0.1</td>\n",
       "      <td>N</td>\n",
       "      <td>N</td>\n",
       "      <td>N</td>\n",
       "      <td>N</td>\n",
       "    </tr>\n",
       "    <tr>\n",
       "      <th>13</th>\n",
       "      <td>American Indian and Alaska Native alone</td>\n",
       "      <td>N</td>\n",
       "      <td>N</td>\n",
       "      <td>N</td>\n",
       "      <td>N</td>\n",
       "      <td>N</td>\n",
       "      <td>N</td>\n",
       "      <td>N</td>\n",
       "      <td>N</td>\n",
       "      <td>222,140</td>\n",
       "      <td>...</td>\n",
       "      <td>0.8%</td>\n",
       "      <td>±0.1</td>\n",
       "      <td>N</td>\n",
       "      <td>N</td>\n",
       "      <td>N</td>\n",
       "      <td>N</td>\n",
       "      <td>N</td>\n",
       "      <td>N</td>\n",
       "      <td>N</td>\n",
       "      <td>N</td>\n",
       "    </tr>\n",
       "    <tr>\n",
       "      <th>14</th>\n",
       "      <td>Native Hawaiian and Other Pacific Islander...</td>\n",
       "      <td>N</td>\n",
       "      <td>N</td>\n",
       "      <td>N</td>\n",
       "      <td>N</td>\n",
       "      <td>4,933</td>\n",
       "      <td>±792</td>\n",
       "      <td>0.9%</td>\n",
       "      <td>±0.1</td>\n",
       "      <td>9,484</td>\n",
       "      <td>...</td>\n",
       "      <td>N</td>\n",
       "      <td>N</td>\n",
       "      <td>N</td>\n",
       "      <td>N</td>\n",
       "      <td>N</td>\n",
       "      <td>N</td>\n",
       "      <td>N</td>\n",
       "      <td>N</td>\n",
       "      <td>N</td>\n",
       "      <td>N</td>\n",
       "    </tr>\n",
       "    <tr>\n",
       "      <th>15</th>\n",
       "      <td>Some Other Race alone</td>\n",
       "      <td>16,650</td>\n",
       "      <td>±2,671</td>\n",
       "      <td>0.5%</td>\n",
       "      <td>±0.1</td>\n",
       "      <td>8,258</td>\n",
       "      <td>±1,537</td>\n",
       "      <td>1.6%</td>\n",
       "      <td>±0.3</td>\n",
       "      <td>228,065</td>\n",
       "      <td>...</td>\n",
       "      <td>1.1%</td>\n",
       "      <td>±0.1</td>\n",
       "      <td>5,418</td>\n",
       "      <td>±1,384</td>\n",
       "      <td>1.3%</td>\n",
       "      <td>±0.3</td>\n",
       "      <td>406,548</td>\n",
       "      <td>±16,333</td>\n",
       "      <td>15.4%</td>\n",
       "      <td>±0.6</td>\n",
       "    </tr>\n",
       "    <tr>\n",
       "      <th>16</th>\n",
       "      <td>Two or More Races</td>\n",
       "      <td>49,143</td>\n",
       "      <td>±4,527</td>\n",
       "      <td>1.3%</td>\n",
       "      <td>±0.1</td>\n",
       "      <td>N</td>\n",
       "      <td>N</td>\n",
       "      <td>N</td>\n",
       "      <td>N</td>\n",
       "      <td>132,280</td>\n",
       "      <td>...</td>\n",
       "      <td>1.6%</td>\n",
       "      <td>±0.1</td>\n",
       "      <td>N</td>\n",
       "      <td>N</td>\n",
       "      <td>N</td>\n",
       "      <td>N</td>\n",
       "      <td>135,314</td>\n",
       "      <td>±9,112</td>\n",
       "      <td>5.1%</td>\n",
       "      <td>±0.3</td>\n",
       "    </tr>\n",
       "    <tr>\n",
       "      <th>17</th>\n",
       "      <td>Hispanic or Latino</td>\n",
       "      <td>68,370</td>\n",
       "      <td>±4,308</td>\n",
       "      <td>1.9%</td>\n",
       "      <td>±0.1</td>\n",
       "      <td>31,763</td>\n",
       "      <td>±854</td>\n",
       "      <td>6.0%</td>\n",
       "      <td>±0.2</td>\n",
       "      <td>1,144,543</td>\n",
       "      <td>...</td>\n",
       "      <td>4.1%</td>\n",
       "      <td>±0.1</td>\n",
       "      <td>30,257</td>\n",
       "      <td>±2,203</td>\n",
       "      <td>7.1%</td>\n",
       "      <td>±0.5</td>\n",
       "      <td>2,614,220</td>\n",
       "      <td>±5,666</td>\n",
       "      <td>99.1%</td>\n",
       "      <td>±0.1</td>\n",
       "    </tr>\n",
       "    <tr>\n",
       "      <th>18</th>\n",
       "      <td>White alone, Not Hispanic or Latino</td>\n",
       "      <td>2,546,071</td>\n",
       "      <td>±2,681</td>\n",
       "      <td>69.0%</td>\n",
       "      <td>±0.1</td>\n",
       "      <td>354,117</td>\n",
       "      <td>±1,255</td>\n",
       "      <td>66.6%</td>\n",
       "      <td>±0.4</td>\n",
       "      <td>3,134,110</td>\n",
       "      <td>...</td>\n",
       "      <td>86.3%</td>\n",
       "      <td>±0.2</td>\n",
       "      <td>378,834</td>\n",
       "      <td>±954</td>\n",
       "      <td>88.4%</td>\n",
       "      <td>±0.5</td>\n",
       "      <td>17,055</td>\n",
       "      <td>±3,038</td>\n",
       "      <td>0.6%</td>\n",
       "      <td>±0.1</td>\n",
       "    </tr>\n",
       "    <tr>\n",
       "      <th>19</th>\n",
       "      <td>EDUCATIONAL ATTAINMENT</td>\n",
       "      <td>NaN</td>\n",
       "      <td>NaN</td>\n",
       "      <td>NaN</td>\n",
       "      <td>NaN</td>\n",
       "      <td>NaN</td>\n",
       "      <td>NaN</td>\n",
       "      <td>NaN</td>\n",
       "      <td>NaN</td>\n",
       "      <td>NaN</td>\n",
       "      <td>...</td>\n",
       "      <td>NaN</td>\n",
       "      <td>NaN</td>\n",
       "      <td>NaN</td>\n",
       "      <td>NaN</td>\n",
       "      <td>NaN</td>\n",
       "      <td>NaN</td>\n",
       "      <td>NaN</td>\n",
       "      <td>NaN</td>\n",
       "      <td>NaN</td>\n",
       "      <td>NaN</td>\n",
       "    </tr>\n",
       "    <tr>\n",
       "      <th>20</th>\n",
       "      <td>Less than 9th grade</td>\n",
       "      <td>124,759</td>\n",
       "      <td>±6,633</td>\n",
       "      <td>3.4%</td>\n",
       "      <td>±0.2</td>\n",
       "      <td>11,299</td>\n",
       "      <td>±1,331</td>\n",
       "      <td>2.1%</td>\n",
       "      <td>±0.2</td>\n",
       "      <td>149,657</td>\n",
       "      <td>...</td>\n",
       "      <td>1.9%</td>\n",
       "      <td>±0.1</td>\n",
       "      <td>5,795</td>\n",
       "      <td>±1,161</td>\n",
       "      <td>1.4%</td>\n",
       "      <td>±0.3</td>\n",
       "      <td>367,178</td>\n",
       "      <td>±10,171</td>\n",
       "      <td>13.9%</td>\n",
       "      <td>±0.4</td>\n",
       "    </tr>\n",
       "    <tr>\n",
       "      <th>21</th>\n",
       "      <td>9th to 12th grade, no diploma</td>\n",
       "      <td>353,270</td>\n",
       "      <td>±11,108</td>\n",
       "      <td>9.6%</td>\n",
       "      <td>±0.3</td>\n",
       "      <td>33,748</td>\n",
       "      <td>±2,746</td>\n",
       "      <td>6.3%</td>\n",
       "      <td>±0.5</td>\n",
       "      <td>366,504</td>\n",
       "      <td>...</td>\n",
       "      <td>5.4%</td>\n",
       "      <td>±0.2</td>\n",
       "      <td>25,099</td>\n",
       "      <td>±3,159</td>\n",
       "      <td>5.9%</td>\n",
       "      <td>±0.7</td>\n",
       "      <td>209,280</td>\n",
       "      <td>±8,433</td>\n",
       "      <td>7.9%</td>\n",
       "      <td>±0.3</td>\n",
       "    </tr>\n",
       "    <tr>\n",
       "      <th>22</th>\n",
       "      <td>High school graduate (includes equivalency)</td>\n",
       "      <td>1,166,142</td>\n",
       "      <td>±17,339</td>\n",
       "      <td>31.6%</td>\n",
       "      <td>±0.5</td>\n",
       "      <td>155,726</td>\n",
       "      <td>±5,486</td>\n",
       "      <td>29.3%</td>\n",
       "      <td>±1.0</td>\n",
       "      <td>1,240,537</td>\n",
       "      <td>...</td>\n",
       "      <td>31.2%</td>\n",
       "      <td>±0.3</td>\n",
       "      <td>130,748</td>\n",
       "      <td>±5,867</td>\n",
       "      <td>30.5%</td>\n",
       "      <td>±1.4</td>\n",
       "      <td>737,094</td>\n",
       "      <td>±15,191</td>\n",
       "      <td>28.0%</td>\n",
       "      <td>±0.6</td>\n",
       "    </tr>\n",
       "    <tr>\n",
       "      <th>23</th>\n",
       "      <td>Some college, no degree</td>\n",
       "      <td>890,675</td>\n",
       "      <td>±14,401</td>\n",
       "      <td>24.1%</td>\n",
       "      <td>±0.4</td>\n",
       "      <td>149,024</td>\n",
       "      <td>±5,128</td>\n",
       "      <td>28.0%</td>\n",
       "      <td>±1.0</td>\n",
       "      <td>1,367,296</td>\n",
       "      <td>...</td>\n",
       "      <td>23.1%</td>\n",
       "      <td>±0.3</td>\n",
       "      <td>114,923</td>\n",
       "      <td>±5,101</td>\n",
       "      <td>26.8%</td>\n",
       "      <td>±1.1</td>\n",
       "      <td>428,539</td>\n",
       "      <td>±11,592</td>\n",
       "      <td>16.3%</td>\n",
       "      <td>±0.4</td>\n",
       "    </tr>\n",
       "    <tr>\n",
       "      <th>24</th>\n",
       "      <td>Associate's degree</td>\n",
       "      <td>297,465</td>\n",
       "      <td>±9,587</td>\n",
       "      <td>8.1%</td>\n",
       "      <td>±0.3</td>\n",
       "      <td>44,460</td>\n",
       "      <td>±2,978</td>\n",
       "      <td>8.4%</td>\n",
       "      <td>±0.6</td>\n",
       "      <td>423,686</td>\n",
       "      <td>...</td>\n",
       "      <td>10.5%</td>\n",
       "      <td>±0.2</td>\n",
       "      <td>43,431</td>\n",
       "      <td>±3,612</td>\n",
       "      <td>10.1%</td>\n",
       "      <td>±0.9</td>\n",
       "      <td>271,284</td>\n",
       "      <td>±10,070</td>\n",
       "      <td>10.3%</td>\n",
       "      <td>±0.4</td>\n",
       "    </tr>\n",
       "    <tr>\n",
       "      <th>25</th>\n",
       "      <td>Bachelor's degree</td>\n",
       "      <td>547,228</td>\n",
       "      <td>±11,132</td>\n",
       "      <td>14.8%</td>\n",
       "      <td>±0.3</td>\n",
       "      <td>86,875</td>\n",
       "      <td>±4,736</td>\n",
       "      <td>16.3%</td>\n",
       "      <td>±0.9</td>\n",
       "      <td>859,330</td>\n",
       "      <td>...</td>\n",
       "      <td>18.7%</td>\n",
       "      <td>±0.3</td>\n",
       "      <td>68,950</td>\n",
       "      <td>±4,441</td>\n",
       "      <td>16.1%</td>\n",
       "      <td>±1.0</td>\n",
       "      <td>450,155</td>\n",
       "      <td>±12,683</td>\n",
       "      <td>17.1%</td>\n",
       "      <td>±0.5</td>\n",
       "    </tr>\n",
       "    <tr>\n",
       "      <th>26</th>\n",
       "      <td>Graduate or professional degree</td>\n",
       "      <td>308,710</td>\n",
       "      <td>±8,418</td>\n",
       "      <td>8.4%</td>\n",
       "      <td>±0.2</td>\n",
       "      <td>50,521</td>\n",
       "      <td>±3,295</td>\n",
       "      <td>9.5%</td>\n",
       "      <td>±0.6</td>\n",
       "      <td>488,696</td>\n",
       "      <td>...</td>\n",
       "      <td>9.3%</td>\n",
       "      <td>±0.2</td>\n",
       "      <td>39,433</td>\n",
       "      <td>±2,969</td>\n",
       "      <td>9.2%</td>\n",
       "      <td>±0.7</td>\n",
       "      <td>173,419</td>\n",
       "      <td>±7,435</td>\n",
       "      <td>6.6%</td>\n",
       "      <td>±0.3</td>\n",
       "    </tr>\n",
       "    <tr>\n",
       "      <th>27</th>\n",
       "      <td>High school degree or higher</td>\n",
       "      <td>3,210,220</td>\n",
       "      <td>±12,351</td>\n",
       "      <td>87.0%</td>\n",
       "      <td>±0.3</td>\n",
       "      <td>486,606</td>\n",
       "      <td>±3,445</td>\n",
       "      <td>91.5%</td>\n",
       "      <td>±0.6</td>\n",
       "      <td>4,379,545</td>\n",
       "      <td>...</td>\n",
       "      <td>92.7%</td>\n",
       "      <td>±0.2</td>\n",
       "      <td>397,485</td>\n",
       "      <td>±3,611</td>\n",
       "      <td>92.8%</td>\n",
       "      <td>±0.7</td>\n",
       "      <td>2,060,491</td>\n",
       "      <td>±12,068</td>\n",
       "      <td>78.1%</td>\n",
       "      <td>±0.4</td>\n",
       "    </tr>\n",
       "    <tr>\n",
       "      <th>28</th>\n",
       "      <td>Bachelor's degree or higher</td>\n",
       "      <td>855,938</td>\n",
       "      <td>±13,572</td>\n",
       "      <td>23.2%</td>\n",
       "      <td>±0.4</td>\n",
       "      <td>137,396</td>\n",
       "      <td>±5,559</td>\n",
       "      <td>25.8%</td>\n",
       "      <td>±1.1</td>\n",
       "      <td>1,348,026</td>\n",
       "      <td>...</td>\n",
       "      <td>27.9%</td>\n",
       "      <td>±0.3</td>\n",
       "      <td>108,383</td>\n",
       "      <td>±4,750</td>\n",
       "      <td>25.3%</td>\n",
       "      <td>±1.1</td>\n",
       "      <td>623,574</td>\n",
       "      <td>±15,190</td>\n",
       "      <td>23.6%</td>\n",
       "      <td>±0.6</td>\n",
       "    </tr>\n",
       "    <tr>\n",
       "      <th>29</th>\n",
       "      <td>POVERTY STATUS</td>\n",
       "      <td>NaN</td>\n",
       "      <td>NaN</td>\n",
       "      <td>NaN</td>\n",
       "      <td>NaN</td>\n",
       "      <td>NaN</td>\n",
       "      <td>NaN</td>\n",
       "      <td>NaN</td>\n",
       "      <td>NaN</td>\n",
       "      <td>NaN</td>\n",
       "      <td>...</td>\n",
       "      <td>NaN</td>\n",
       "      <td>NaN</td>\n",
       "      <td>NaN</td>\n",
       "      <td>NaN</td>\n",
       "      <td>NaN</td>\n",
       "      <td>NaN</td>\n",
       "      <td>NaN</td>\n",
       "      <td>NaN</td>\n",
       "      <td>NaN</td>\n",
       "      <td>NaN</td>\n",
       "    </tr>\n",
       "    <tr>\n",
       "      <th>30</th>\n",
       "      <td>Total Citizens, 18 years and older, for wh...</td>\n",
       "      <td>3,583,677</td>\n",
       "      <td>±5,676</td>\n",
       "      <td>(X)</td>\n",
       "      <td>(X)</td>\n",
       "      <td>517,757</td>\n",
       "      <td>±3,007</td>\n",
       "      <td>(X)</td>\n",
       "      <td>(X)</td>\n",
       "      <td>4,777,975</td>\n",
       "      <td>...</td>\n",
       "      <td>(X)</td>\n",
       "      <td>(X)</td>\n",
       "      <td>417,563</td>\n",
       "      <td>±2,727</td>\n",
       "      <td>(X)</td>\n",
       "      <td>(X)</td>\n",
       "      <td>2,610,444</td>\n",
       "      <td>±4,614</td>\n",
       "      <td>(X)</td>\n",
       "      <td>(X)</td>\n",
       "    </tr>\n",
       "    <tr>\n",
       "      <th>31</th>\n",
       "      <td>Income in the past 12 months below poverty...</td>\n",
       "      <td>511,054</td>\n",
       "      <td>±16,300</td>\n",
       "      <td>14.3%</td>\n",
       "      <td>±0.5</td>\n",
       "      <td>49,159</td>\n",
       "      <td>±3,817</td>\n",
       "      <td>9.5%</td>\n",
       "      <td>±0.7</td>\n",
       "      <td>576,042</td>\n",
       "      <td>...</td>\n",
       "      <td>10.2%</td>\n",
       "      <td>±0.2</td>\n",
       "      <td>42,831</td>\n",
       "      <td>±3,690</td>\n",
       "      <td>10.3%</td>\n",
       "      <td>±0.9</td>\n",
       "      <td>1,070,775</td>\n",
       "      <td>±24,231</td>\n",
       "      <td>41.0%</td>\n",
       "      <td>±0.9</td>\n",
       "    </tr>\n",
       "    <tr>\n",
       "      <th>32</th>\n",
       "      <td>Income in the past 12 months at or above t...</td>\n",
       "      <td>3,072,623</td>\n",
       "      <td>±16,958</td>\n",
       "      <td>85.7%</td>\n",
       "      <td>±0.5</td>\n",
       "      <td>468,598</td>\n",
       "      <td>±4,449</td>\n",
       "      <td>90.5%</td>\n",
       "      <td>±0.7</td>\n",
       "      <td>4,201,933</td>\n",
       "      <td>...</td>\n",
       "      <td>89.8%</td>\n",
       "      <td>±0.2</td>\n",
       "      <td>374,732</td>\n",
       "      <td>±4,588</td>\n",
       "      <td>89.7%</td>\n",
       "      <td>±0.9</td>\n",
       "      <td>1,539,669</td>\n",
       "      <td>±24,410</td>\n",
       "      <td>59.0%</td>\n",
       "      <td>±0.9</td>\n",
       "    </tr>\n",
       "    <tr>\n",
       "      <th>33</th>\n",
       "      <td>HOUSEHOLD INCOME (IN 2017 INFLATION-ADJUSTED D...</td>\n",
       "      <td>NaN</td>\n",
       "      <td>NaN</td>\n",
       "      <td>NaN</td>\n",
       "      <td>NaN</td>\n",
       "      <td>NaN</td>\n",
       "      <td>NaN</td>\n",
       "      <td>NaN</td>\n",
       "      <td>NaN</td>\n",
       "      <td>NaN</td>\n",
       "      <td>...</td>\n",
       "      <td>NaN</td>\n",
       "      <td>NaN</td>\n",
       "      <td>NaN</td>\n",
       "      <td>NaN</td>\n",
       "      <td>NaN</td>\n",
       "      <td>NaN</td>\n",
       "      <td>NaN</td>\n",
       "      <td>NaN</td>\n",
       "      <td>NaN</td>\n",
       "      <td>NaN</td>\n",
       "    </tr>\n",
       "    <tr>\n",
       "      <th>34</th>\n",
       "      <td>Median Household Income for Households wit...</td>\n",
       "      <td>48,452</td>\n",
       "      <td>±772</td>\n",
       "      <td>(X)</td>\n",
       "      <td>(X)</td>\n",
       "      <td>74,048</td>\n",
       "      <td>±2,864</td>\n",
       "      <td>(X)</td>\n",
       "      <td>(X)</td>\n",
       "      <td>58,252</td>\n",
       "      <td>...</td>\n",
       "      <td>(X)</td>\n",
       "      <td>(X)</td>\n",
       "      <td>60,867</td>\n",
       "      <td>±1,685</td>\n",
       "      <td>(X)</td>\n",
       "      <td>(X)</td>\n",
       "      <td>19,382</td>\n",
       "      <td>±413</td>\n",
       "      <td>(X)</td>\n",
       "      <td>(X)</td>\n",
       "    </tr>\n",
       "  </tbody>\n",
       "</table>\n",
       "<p>35 rows × 209 columns</p>\n",
       "</div>"
      ],
      "text/plain": [
       "                                                Label  \\\n",
       "0                          Citizens 18 years and over   \n",
       "1                                                 AGE   \n",
       "2                                      18 to 29 years   \n",
       "3                                      30 to 44 years   \n",
       "4                                      45 to 64 years   \n",
       "5                                   65 years and over   \n",
       "6                                                 SEX   \n",
       "7                                                Male   \n",
       "8                                              Female   \n",
       "9                            RACE AND HISPANIC ORIGIN   \n",
       "10                                        White alone   \n",
       "11                    Black or African American alone   \n",
       "12                                        Asian alone   \n",
       "13            American Indian and Alaska Native alone   \n",
       "14      Native Hawaiian and Other Pacific Islander...   \n",
       "15                              Some Other Race alone   \n",
       "16                                  Two or More Races   \n",
       "17                                 Hispanic or Latino   \n",
       "18                White alone, Not Hispanic or Latino   \n",
       "19                             EDUCATIONAL ATTAINMENT   \n",
       "20                                Less than 9th grade   \n",
       "21                      9th to 12th grade, no diploma   \n",
       "22        High school graduate (includes equivalency)   \n",
       "23                            Some college, no degree   \n",
       "24                                 Associate's degree   \n",
       "25                                  Bachelor's degree   \n",
       "26                    Graduate or professional degree   \n",
       "27                       High school degree or higher   \n",
       "28                        Bachelor's degree or higher   \n",
       "29                                     POVERTY STATUS   \n",
       "30      Total Citizens, 18 years and older, for wh...   \n",
       "31      Income in the past 12 months below poverty...   \n",
       "32      Income in the past 12 months at or above t...   \n",
       "33  HOUSEHOLD INCOME (IN 2017 INFLATION-ADJUSTED D...   \n",
       "34      Median Household Income for Households wit...   \n",
       "\n",
       "   Alabama!!Total!!Estimate Alabama!!Total!!Margin of Error  \\\n",
       "0                 3,688,249                          ±5,643   \n",
       "1                       NaN                             NaN   \n",
       "2                   771,482                          ±5,452   \n",
       "3                   859,001                          ±5,624   \n",
       "4                 1,260,686                          ±5,748   \n",
       "5                   797,080                          ±2,899   \n",
       "6                       NaN                             NaN   \n",
       "7                 1,750,050                          ±4,591   \n",
       "8                 1,938,199                          ±3,826   \n",
       "9                       NaN                             NaN   \n",
       "10                2,594,550                          ±5,043   \n",
       "11                  977,499                          ±4,925   \n",
       "12                   28,616                          ±2,689   \n",
       "13                        N                               N   \n",
       "14                        N                               N   \n",
       "15                   16,650                          ±2,671   \n",
       "16                   49,143                          ±4,527   \n",
       "17                   68,370                          ±4,308   \n",
       "18                2,546,071                          ±2,681   \n",
       "19                      NaN                             NaN   \n",
       "20                  124,759                          ±6,633   \n",
       "21                  353,270                         ±11,108   \n",
       "22                1,166,142                         ±17,339   \n",
       "23                  890,675                         ±14,401   \n",
       "24                  297,465                          ±9,587   \n",
       "25                  547,228                         ±11,132   \n",
       "26                  308,710                          ±8,418   \n",
       "27                3,210,220                         ±12,351   \n",
       "28                  855,938                         ±13,572   \n",
       "29                      NaN                             NaN   \n",
       "30                3,583,677                          ±5,676   \n",
       "31                  511,054                         ±16,300   \n",
       "32                3,072,623                         ±16,958   \n",
       "33                      NaN                             NaN   \n",
       "34                   48,452                            ±772   \n",
       "\n",
       "   Alabama!!Percent!!Estimate Alabama!!Percent!!Margin of Error  \\\n",
       "0                         (X)                               (X)   \n",
       "1                         NaN                               NaN   \n",
       "2                       20.9%                              ±0.1   \n",
       "3                       23.3%                              ±0.1   \n",
       "4                       34.2%                              ±0.1   \n",
       "5                       21.6%                              ±0.1   \n",
       "6                         NaN                               NaN   \n",
       "7                       47.4%                              ±0.1   \n",
       "8                       52.6%                              ±0.1   \n",
       "9                         NaN                               NaN   \n",
       "10                      70.3%                              ±0.1   \n",
       "11                      26.5%                              ±0.1   \n",
       "12                       0.8%                              ±0.1   \n",
       "13                          N                                 N   \n",
       "14                          N                                 N   \n",
       "15                       0.5%                              ±0.1   \n",
       "16                       1.3%                              ±0.1   \n",
       "17                       1.9%                              ±0.1   \n",
       "18                      69.0%                              ±0.1   \n",
       "19                        NaN                               NaN   \n",
       "20                       3.4%                              ±0.2   \n",
       "21                       9.6%                              ±0.3   \n",
       "22                      31.6%                              ±0.5   \n",
       "23                      24.1%                              ±0.4   \n",
       "24                       8.1%                              ±0.3   \n",
       "25                      14.8%                              ±0.3   \n",
       "26                       8.4%                              ±0.2   \n",
       "27                      87.0%                              ±0.3   \n",
       "28                      23.2%                              ±0.4   \n",
       "29                        NaN                               NaN   \n",
       "30                        (X)                               (X)   \n",
       "31                      14.3%                              ±0.5   \n",
       "32                      85.7%                              ±0.5   \n",
       "33                        NaN                               NaN   \n",
       "34                        (X)                               (X)   \n",
       "\n",
       "   Alaska!!Total!!Estimate Alaska!!Total!!Margin of Error  \\\n",
       "0                  531,653                         ±3,005   \n",
       "1                      NaN                            NaN   \n",
       "2                  130,346                         ±2,366   \n",
       "3                  143,427                         ±2,549   \n",
       "4                  177,019                         ±2,684   \n",
       "5                   80,861                         ±1,212   \n",
       "6                      NaN                            NaN   \n",
       "7                  281,264                         ±1,631   \n",
       "8                  250,389                         ±2,104   \n",
       "9                      NaN                            NaN   \n",
       "10                 370,547                         ±2,411   \n",
       "11                  15,789                         ±1,236   \n",
       "12                  23,909                         ±2,098   \n",
       "13                       N                              N   \n",
       "14                   4,933                           ±792   \n",
       "15                   8,258                         ±1,537   \n",
       "16                       N                              N   \n",
       "17                  31,763                           ±854   \n",
       "18                 354,117                         ±1,255   \n",
       "19                     NaN                            NaN   \n",
       "20                  11,299                         ±1,331   \n",
       "21                  33,748                         ±2,746   \n",
       "22                 155,726                         ±5,486   \n",
       "23                 149,024                         ±5,128   \n",
       "24                  44,460                         ±2,978   \n",
       "25                  86,875                         ±4,736   \n",
       "26                  50,521                         ±3,295   \n",
       "27                 486,606                         ±3,445   \n",
       "28                 137,396                         ±5,559   \n",
       "29                     NaN                            NaN   \n",
       "30                 517,757                         ±3,007   \n",
       "31                  49,159                         ±3,817   \n",
       "32                 468,598                         ±4,449   \n",
       "33                     NaN                            NaN   \n",
       "34                  74,048                         ±2,864   \n",
       "\n",
       "   Alaska!!Percent!!Estimate Alaska!!Percent!!Margin of Error  \\\n",
       "0                        (X)                              (X)   \n",
       "1                        NaN                              NaN   \n",
       "2                      24.5%                             ±0.4   \n",
       "3                      27.0%                             ±0.5   \n",
       "4                      33.3%                             ±0.5   \n",
       "5                      15.2%                             ±0.2   \n",
       "6                        NaN                              NaN   \n",
       "7                      52.9%                             ±0.2   \n",
       "8                      47.1%                             ±0.2   \n",
       "9                        NaN                              NaN   \n",
       "10                     69.7%                             ±0.5   \n",
       "11                      3.0%                             ±0.2   \n",
       "12                      4.5%                             ±0.4   \n",
       "13                         N                                N   \n",
       "14                      0.9%                             ±0.1   \n",
       "15                      1.6%                             ±0.3   \n",
       "16                         N                                N   \n",
       "17                      6.0%                             ±0.2   \n",
       "18                     66.6%                             ±0.4   \n",
       "19                       NaN                              NaN   \n",
       "20                      2.1%                             ±0.2   \n",
       "21                      6.3%                             ±0.5   \n",
       "22                     29.3%                             ±1.0   \n",
       "23                     28.0%                             ±1.0   \n",
       "24                      8.4%                             ±0.6   \n",
       "25                     16.3%                             ±0.9   \n",
       "26                      9.5%                             ±0.6   \n",
       "27                     91.5%                             ±0.6   \n",
       "28                     25.8%                             ±1.1   \n",
       "29                       NaN                              NaN   \n",
       "30                       (X)                              (X)   \n",
       "31                      9.5%                             ±0.7   \n",
       "32                     90.5%                             ±0.7   \n",
       "33                       NaN                              NaN   \n",
       "34                       (X)                              (X)   \n",
       "\n",
       "   Arizona!!Total!!Estimate  ... Wisconsin!!Percent!!Estimate  \\\n",
       "0                 4,895,706  ...                          (X)   \n",
       "1                       NaN  ...                          NaN   \n",
       "2                 1,067,740  ...                        20.2%   \n",
       "3                 1,133,448  ...                        22.9%   \n",
       "4                 1,544,874  ...                        35.3%   \n",
       "5                 1,149,644  ...                        21.6%   \n",
       "6                       NaN  ...                          NaN   \n",
       "7                 2,412,036  ...                        49.2%   \n",
       "8                 2,483,670  ...                        50.8%   \n",
       "9                       NaN  ...                          NaN   \n",
       "10                3,970,171  ...                        89.0%   \n",
       "11                  213,036  ...                         5.7%   \n",
       "12                  120,530  ...                         1.7%   \n",
       "13                  222,140  ...                         0.8%   \n",
       "14                    9,484  ...                            N   \n",
       "15                  228,065  ...                         1.1%   \n",
       "16                  132,280  ...                         1.6%   \n",
       "17                1,144,543  ...                         4.1%   \n",
       "18                3,134,110  ...                        86.3%   \n",
       "19                      NaN  ...                          NaN   \n",
       "20                  149,657  ...                         1.9%   \n",
       "21                  366,504  ...                         5.4%   \n",
       "22                1,240,537  ...                        31.2%   \n",
       "23                1,367,296  ...                        23.1%   \n",
       "24                  423,686  ...                        10.5%   \n",
       "25                  859,330  ...                        18.7%   \n",
       "26                  488,696  ...                         9.3%   \n",
       "27                4,379,545  ...                        92.7%   \n",
       "28                1,348,026  ...                        27.9%   \n",
       "29                      NaN  ...                          NaN   \n",
       "30                4,777,975  ...                          (X)   \n",
       "31                  576,042  ...                        10.2%   \n",
       "32                4,201,933  ...                        89.8%   \n",
       "33                      NaN  ...                          NaN   \n",
       "34                   58,252  ...                          (X)   \n",
       "\n",
       "   Wisconsin!!Percent!!Margin of Error Wyoming!!Total!!Estimate  \\\n",
       "0                                  (X)                  428,379   \n",
       "1                                  NaN                      NaN   \n",
       "2                                 ±0.1                   88,687   \n",
       "3                                 ±0.1                  105,718   \n",
       "4                                 ±0.1                  144,273   \n",
       "5                                 ±0.1                   89,701   \n",
       "6                                  NaN                      NaN   \n",
       "7                                 ±0.1                  217,735   \n",
       "8                                 ±0.1                  210,644   \n",
       "9                                  NaN                      NaN   \n",
       "10                                ±0.1                  399,806   \n",
       "11                                ±0.1                        N   \n",
       "12                                ±0.1                    2,286   \n",
       "13                                ±0.1                        N   \n",
       "14                                   N                        N   \n",
       "15                                ±0.1                    5,418   \n",
       "16                                ±0.1                        N   \n",
       "17                                ±0.1                   30,257   \n",
       "18                                ±0.2                  378,834   \n",
       "19                                 NaN                      NaN   \n",
       "20                                ±0.1                    5,795   \n",
       "21                                ±0.2                   25,099   \n",
       "22                                ±0.3                  130,748   \n",
       "23                                ±0.3                  114,923   \n",
       "24                                ±0.2                   43,431   \n",
       "25                                ±0.3                   68,950   \n",
       "26                                ±0.2                   39,433   \n",
       "27                                ±0.2                  397,485   \n",
       "28                                ±0.3                  108,383   \n",
       "29                                 NaN                      NaN   \n",
       "30                                 (X)                  417,563   \n",
       "31                                ±0.2                   42,831   \n",
       "32                                ±0.2                  374,732   \n",
       "33                                 NaN                      NaN   \n",
       "34                                 (X)                   60,867   \n",
       "\n",
       "   Wyoming!!Total!!Margin of Error Wyoming!!Percent!!Estimate  \\\n",
       "0                           ±2,729                        (X)   \n",
       "1                              NaN                        NaN   \n",
       "2                           ±1,723                      20.7%   \n",
       "3                           ±2,104                      24.7%   \n",
       "4                           ±1,728                      33.7%   \n",
       "5                           ±1,140                      20.9%   \n",
       "6                              NaN                        NaN   \n",
       "7                           ±2,119                      50.8%   \n",
       "8                           ±1,896                      49.2%   \n",
       "9                              NaN                        NaN   \n",
       "10                          ±2,423                      93.3%   \n",
       "11                               N                          N   \n",
       "12                            ±620                       0.5%   \n",
       "13                               N                          N   \n",
       "14                               N                          N   \n",
       "15                          ±1,384                       1.3%   \n",
       "16                               N                          N   \n",
       "17                          ±2,203                       7.1%   \n",
       "18                            ±954                      88.4%   \n",
       "19                             NaN                        NaN   \n",
       "20                          ±1,161                       1.4%   \n",
       "21                          ±3,159                       5.9%   \n",
       "22                          ±5,867                      30.5%   \n",
       "23                          ±5,101                      26.8%   \n",
       "24                          ±3,612                      10.1%   \n",
       "25                          ±4,441                      16.1%   \n",
       "26                          ±2,969                       9.2%   \n",
       "27                          ±3,611                      92.8%   \n",
       "28                          ±4,750                      25.3%   \n",
       "29                             NaN                        NaN   \n",
       "30                          ±2,727                        (X)   \n",
       "31                          ±3,690                      10.3%   \n",
       "32                          ±4,588                      89.7%   \n",
       "33                             NaN                        NaN   \n",
       "34                          ±1,685                        (X)   \n",
       "\n",
       "   Wyoming!!Percent!!Margin of Error Puerto Rico!!Total!!Estimate  \\\n",
       "0                                (X)                    2,636,949   \n",
       "1                                NaN                          NaN   \n",
       "2                               ±0.4                      537,294   \n",
       "3                               ±0.5                      604,955   \n",
       "4                               ±0.4                      841,834   \n",
       "5                               ±0.2                      652,866   \n",
       "6                                NaN                          NaN   \n",
       "7                               ±0.3                    1,226,539   \n",
       "8                               ±0.3                    1,410,410   \n",
       "9                                NaN                          NaN   \n",
       "10                              ±0.4                    1,769,053   \n",
       "11                                 N                      315,764   \n",
       "12                              ±0.1                            N   \n",
       "13                                 N                            N   \n",
       "14                                 N                            N   \n",
       "15                              ±0.3                      406,548   \n",
       "16                                 N                      135,314   \n",
       "17                              ±0.5                    2,614,220   \n",
       "18                              ±0.5                       17,055   \n",
       "19                               NaN                          NaN   \n",
       "20                              ±0.3                      367,178   \n",
       "21                              ±0.7                      209,280   \n",
       "22                              ±1.4                      737,094   \n",
       "23                              ±1.1                      428,539   \n",
       "24                              ±0.9                      271,284   \n",
       "25                              ±1.0                      450,155   \n",
       "26                              ±0.7                      173,419   \n",
       "27                              ±0.7                    2,060,491   \n",
       "28                              ±1.1                      623,574   \n",
       "29                               NaN                          NaN   \n",
       "30                               (X)                    2,610,444   \n",
       "31                              ±0.9                    1,070,775   \n",
       "32                              ±0.9                    1,539,669   \n",
       "33                               NaN                          NaN   \n",
       "34                               (X)                       19,382   \n",
       "\n",
       "   Puerto Rico!!Total!!Margin of Error Puerto Rico!!Percent!!Estimate  \\\n",
       "0                               ±4,608                            (X)   \n",
       "1                                  NaN                            NaN   \n",
       "2                               ±2,203                          20.4%   \n",
       "3                               ±4,596                          22.9%   \n",
       "4                               ±4,554                          31.9%   \n",
       "5                               ±1,222                          24.8%   \n",
       "6                                  NaN                            NaN   \n",
       "7                               ±3,110                          46.5%   \n",
       "8                               ±3,278                          53.5%   \n",
       "9                                  NaN                            NaN   \n",
       "10                             ±19,982                          67.1%   \n",
       "11                             ±14,146                          12.0%   \n",
       "12                                   N                              N   \n",
       "13                                   N                              N   \n",
       "14                                   N                              N   \n",
       "15                             ±16,333                          15.4%   \n",
       "16                              ±9,112                           5.1%   \n",
       "17                              ±5,666                          99.1%   \n",
       "18                              ±3,038                           0.6%   \n",
       "19                                 NaN                            NaN   \n",
       "20                             ±10,171                          13.9%   \n",
       "21                              ±8,433                           7.9%   \n",
       "22                             ±15,191                          28.0%   \n",
       "23                             ±11,592                          16.3%   \n",
       "24                             ±10,070                          10.3%   \n",
       "25                             ±12,683                          17.1%   \n",
       "26                              ±7,435                           6.6%   \n",
       "27                             ±12,068                          78.1%   \n",
       "28                             ±15,190                          23.6%   \n",
       "29                                 NaN                            NaN   \n",
       "30                              ±4,614                            (X)   \n",
       "31                             ±24,231                          41.0%   \n",
       "32                             ±24,410                          59.0%   \n",
       "33                                 NaN                            NaN   \n",
       "34                                ±413                            (X)   \n",
       "\n",
       "   Puerto Rico!!Percent!!Margin of Error  \n",
       "0                                    (X)  \n",
       "1                                    NaN  \n",
       "2                                   ±0.1  \n",
       "3                                   ±0.2  \n",
       "4                                   ±0.2  \n",
       "5                                   ±0.1  \n",
       "6                                    NaN  \n",
       "7                                   ±0.1  \n",
       "8                                   ±0.1  \n",
       "9                                    NaN  \n",
       "10                                  ±0.7  \n",
       "11                                  ±0.5  \n",
       "12                                     N  \n",
       "13                                     N  \n",
       "14                                     N  \n",
       "15                                  ±0.6  \n",
       "16                                  ±0.3  \n",
       "17                                  ±0.1  \n",
       "18                                  ±0.1  \n",
       "19                                   NaN  \n",
       "20                                  ±0.4  \n",
       "21                                  ±0.3  \n",
       "22                                  ±0.6  \n",
       "23                                  ±0.4  \n",
       "24                                  ±0.4  \n",
       "25                                  ±0.5  \n",
       "26                                  ±0.3  \n",
       "27                                  ±0.4  \n",
       "28                                  ±0.6  \n",
       "29                                   NaN  \n",
       "30                                   (X)  \n",
       "31                                  ±0.9  \n",
       "32                                  ±0.9  \n",
       "33                                   NaN  \n",
       "34                                   (X)  \n",
       "\n",
       "[35 rows x 209 columns]"
      ]
     },
     "execution_count": 287,
     "metadata": {},
     "output_type": "execute_result"
    }
   ],
   "source": [
    "import pandas as pd\n",
    "import numpy as np\n",
    "import matplotlib\n",
    "import seaborn as sns\n",
    "\n",
    "data = pd.read_csv(\"Data/2017_full.csv\")\n",
    "data"
   ]
  },
  {
   "cell_type": "code",
   "execution_count": 288,
   "metadata": {
    "cell_id": "00001-d6c4e3a6-10ad-4ff5-b35c-a2128ae577c0",
    "execution_millis": 2,
    "execution_start": 1605404659323,
    "output_cleared": false,
    "source_hash": "4b981cd7",
    "tags": []
   },
   "outputs": [],
   "source": [
    "def p2f(s):\n",
    "    if s == '':\n",
    "        return 0\n",
    "    return float(s)"
   ]
  },
  {
   "cell_type": "code",
   "execution_count": 289,
   "metadata": {
    "cell_id": "00002-04dce115-1666-44b0-b972-1b605c15cdc2",
    "execution_millis": 9,
    "execution_start": 1605404659328,
    "output_cleared": false,
    "source_hash": "45791926",
    "tags": []
   },
   "outputs": [],
   "source": [
    "def normify(s):\n",
    "    return s.split(\"!!\")[0]"
   ]
  },
  {
   "cell_type": "code",
   "execution_count": 290,
   "metadata": {
    "cell_id": "00003-b9c29278-d339-48f4-b336-29c22ad42ae8",
    "execution_millis": 169,
    "execution_start": 1605404659373,
    "output_cleared": false,
    "source_hash": "3df5e286",
    "tags": []
   },
   "outputs": [
    {
     "data": {
      "application/vnd.deepnote.dataframe.v2+json": {
       "column_count": 53,
       "columns": [
        {
         "dtype": "object",
         "name": "Label",
         "stats": {
          "categories": [
           {
            "count": 1,
            "name": "Citizens 18 years and over"
           },
           {
            "count": 1,
            "name": "    18 to 29 years"
           },
           {
            "count": 25,
            "name": "25 others"
           }
          ],
          "nan_count": 0,
          "unique_count": 27
         }
        },
        {
         "dtype": "float64",
         "name": "Alabama",
         "stats": {
          "histogram": [
           {
            "bin_end": 383809.9,
            "bin_start": 16650,
            "count": 9
           },
           {
            "bin_end": 750969.8,
            "bin_start": 383809.9,
            "count": 2
           },
           {
            "bin_end": 1118129.7000000002,
            "bin_start": 750969.8,
            "count": 6
           },
           {
            "bin_end": 1485289.6,
            "bin_start": 1118129.7000000002,
            "count": 2
           },
           {
            "bin_end": 1852449.5,
            "bin_start": 1485289.6,
            "count": 1
           },
           {
            "bin_end": 2219609.4000000004,
            "bin_start": 1852449.5,
            "count": 1
           },
           {
            "bin_end": 2586769.3000000003,
            "bin_start": 2219609.4000000004,
            "count": 1
           },
           {
            "bin_end": 2953929.2,
            "bin_start": 2586769.3000000003,
            "count": 1
           },
           {
            "bin_end": 3321089.1,
            "bin_start": 2953929.2,
            "count": 2
           },
           {
            "bin_end": 3688249,
            "bin_start": 3321089.1,
            "count": 2
           }
          ],
          "max": 3688249,
          "min": 16650,
          "nan_count": 0,
          "unique_count": 27
         }
        },
        {
         "dtype": "float64",
         "name": "Alaska",
         "stats": {
          "histogram": [
           {
            "bin_end": 53165.3,
            "bin_start": 0,
            "count": 10
           },
           {
            "bin_end": 106330.6,
            "bin_start": 53165.3,
            "count": 3
           },
           {
            "bin_end": 159495.90000000002,
            "bin_start": 106330.6,
            "count": 5
           },
           {
            "bin_end": 212661.2,
            "bin_start": 159495.90000000002,
            "count": 1
           },
           {
            "bin_end": 265826.5,
            "bin_start": 212661.2,
            "count": 1
           },
           {
            "bin_end": 318991.80000000005,
            "bin_start": 265826.5,
            "count": 1
           },
           {
            "bin_end": 372157.10000000003,
            "bin_start": 318991.80000000005,
            "count": 2
           },
           {
            "bin_end": 425322.4,
            "bin_start": 372157.10000000003,
            "count": 0
           },
           {
            "bin_end": 478487.7,
            "bin_start": 425322.4,
            "count": 1
           },
           {
            "bin_end": 531653,
            "bin_start": 478487.7,
            "count": 3
           }
          ],
          "max": 531653,
          "min": 0,
          "nan_count": 0,
          "unique_count": 27
         }
        },
        {
         "dtype": "float64",
         "name": "Arizona",
         "stats": {
          "histogram": [
           {
            "bin_end": 541997.4,
            "bin_start": 58252,
            "count": 9
           },
           {
            "bin_end": 1025742.8,
            "bin_start": 541997.4,
            "count": 2
           },
           {
            "bin_end": 1509488.2000000002,
            "bin_start": 1025742.8,
            "count": 7
           },
           {
            "bin_end": 1993233.6,
            "bin_start": 1509488.2000000002,
            "count": 1
           },
           {
            "bin_end": 2476979,
            "bin_start": 1993233.6,
            "count": 1
           },
           {
            "bin_end": 2960724.4000000004,
            "bin_start": 2476979,
            "count": 1
           },
           {
            "bin_end": 3444469.8000000003,
            "bin_start": 2960724.4000000004,
            "count": 1
           },
           {
            "bin_end": 3928215.2,
            "bin_start": 3444469.8000000003,
            "count": 0
           },
           {
            "bin_end": 4411960.600000001,
            "bin_start": 3928215.2,
            "count": 3
           },
           {
            "bin_end": 4895706,
            "bin_start": 4411960.600000001,
            "count": 2
           }
          ],
          "max": 4895706,
          "min": 58252,
          "nan_count": 0,
          "unique_count": 27
         }
        },
        {
         "dtype": "float64",
         "name": "Arkansas",
         "stats": {
          "histogram": [
           {
            "bin_end": 237246.8,
            "bin_start": 18286,
            "count": 9
           },
           {
            "bin_end": 456207.6,
            "bin_start": 237246.8,
            "count": 3
           },
           {
            "bin_end": 675168.3999999999,
            "bin_start": 456207.6,
            "count": 5
           },
           {
            "bin_end": 894129.2,
            "bin_start": 675168.3999999999,
            "count": 2
           },
           {
            "bin_end": 1113090,
            "bin_start": 894129.2,
            "count": 1
           },
           {
            "bin_end": 1332050.7999999998,
            "bin_start": 1113090,
            "count": 1
           },
           {
            "bin_end": 1551011.5999999999,
            "bin_start": 1332050.7999999998,
            "count": 0
           },
           {
            "bin_end": 1769972.4,
            "bin_start": 1551011.5999999999,
            "count": 2
           },
           {
            "bin_end": 1988933.2,
            "bin_start": 1769972.4,
            "count": 2
           },
           {
            "bin_end": 2207894,
            "bin_start": 1988933.2,
            "count": 2
           }
          ],
          "max": 2207894,
          "min": 18286,
          "nan_count": 0,
          "unique_count": 27
         }
        },
        {
         "dtype": "float64",
         "name": "California",
         "stats": {
          "histogram": [
           {
            "bin_end": 2633524.7,
            "bin_start": 76088,
            "count": 6
           },
           {
            "bin_end": 5190961.4,
            "bin_start": 2633524.7,
            "count": 5
           },
           {
            "bin_end": 7748398.100000001,
            "bin_start": 5190961.4,
            "count": 6
           },
           {
            "bin_end": 10305834.8,
            "bin_start": 7748398.100000001,
            "count": 2
           },
           {
            "bin_end": 12863271.5,
            "bin_start": 10305834.8,
            "count": 2
           },
           {
            "bin_end": 15420708.200000001,
            "bin_start": 12863271.5,
            "count": 1
           },
           {
            "bin_end": 17978144.900000002,
            "bin_start": 15420708.200000001,
            "count": 1
           },
           {
            "bin_end": 20535581.6,
            "bin_start": 17978144.900000002,
            "count": 0
           },
           {
            "bin_end": 23093018.3,
            "bin_start": 20535581.6,
            "count": 2
           },
           {
            "bin_end": 25650455,
            "bin_start": 23093018.3,
            "count": 2
           }
          ],
          "max": 25650455,
          "min": 76088,
          "nan_count": 0,
          "unique_count": 27
         }
        },
        {
         "dtype": "float64",
         "name": "Colorado",
         "stats": {
          "histogram": [
           {
            "bin_end": 469173.9,
            "bin_start": 70478,
            "count": 9
           },
           {
            "bin_end": 867869.8,
            "bin_start": 469173.9,
            "count": 3
           },
           {
            "bin_end": 1266565.7000000002,
            "bin_start": 867869.8,
            "count": 5
           },
           {
            "bin_end": 1665261.6,
            "bin_start": 1266565.7000000002,
            "count": 2
           },
           {
            "bin_end": 2063957.5,
            "bin_start": 1665261.6,
            "count": 2
           },
           {
            "bin_end": 2462653.4000000004,
            "bin_start": 2063957.5,
            "count": 0
           },
           {
            "bin_end": 2861349.3000000003,
            "bin_start": 2462653.4000000004,
            "count": 0
           },
           {
            "bin_end": 3260045.2,
            "bin_start": 2861349.3000000003,
            "count": 1
           },
           {
            "bin_end": 3658741.1,
            "bin_start": 3260045.2,
            "count": 2
           },
           {
            "bin_end": 4057437,
            "bin_start": 3658741.1,
            "count": 3
           }
          ],
          "max": 4057437,
          "min": 70478,
          "nan_count": 0,
          "unique_count": 27
         }
        },
        {
         "dtype": "float64",
         "name": "Connecticut",
         "stats": {
          "histogram": [
           {
            "bin_end": 314127.2,
            "bin_start": 58845,
            "count": 10
           },
           {
            "bin_end": 569409.4,
            "bin_start": 314127.2,
            "count": 5
           },
           {
            "bin_end": 824691.6000000001,
            "bin_start": 569409.4,
            "count": 2
           },
           {
            "bin_end": 1079973.8,
            "bin_start": 824691.6000000001,
            "count": 2
           },
           {
            "bin_end": 1335256,
            "bin_start": 1079973.8,
            "count": 1
           },
           {
            "bin_end": 1590538.2000000002,
            "bin_start": 1335256,
            "count": 1
           },
           {
            "bin_end": 1845820.4000000001,
            "bin_start": 1590538.2000000002,
            "count": 0
           },
           {
            "bin_end": 2101102.6,
            "bin_start": 1845820.4000000001,
            "count": 1
           },
           {
            "bin_end": 2356384.8000000003,
            "bin_start": 2101102.6,
            "count": 2
           },
           {
            "bin_end": 2611667,
            "bin_start": 2356384.8000000003,
            "count": 3
           }
          ],
          "max": 2611667,
          "min": 58845,
          "nan_count": 0,
          "unique_count": 27
         }
        },
        {
         "dtype": "float64",
         "name": "Delaware",
         "stats": {
          "histogram": [
           {
            "bin_end": 77130.7,
            "bin_start": 6812,
            "count": 8
           },
           {
            "bin_end": 147449.4,
            "bin_start": 77130.7,
            "count": 4
           },
           {
            "bin_end": 217768.09999999998,
            "bin_start": 147449.4,
            "count": 5
           },
           {
            "bin_end": 288086.8,
            "bin_start": 217768.09999999998,
            "count": 2
           },
           {
            "bin_end": 358405.5,
            "bin_start": 288086.8,
            "count": 1
           },
           {
            "bin_end": 428724.19999999995,
            "bin_start": 358405.5,
            "count": 1
           },
           {
            "bin_end": 499042.89999999997,
            "bin_start": 428724.19999999995,
            "count": 1
           },
           {
            "bin_end": 569361.6,
            "bin_start": 499042.89999999997,
            "count": 1
           },
           {
            "bin_end": 639680.2999999999,
            "bin_start": 569361.6,
            "count": 1
           },
           {
            "bin_end": 709999,
            "bin_start": 639680.2999999999,
            "count": 3
           }
          ],
          "max": 709999,
          "min": 6812,
          "nan_count": 0,
          "unique_count": 27
         }
        },
        {
         "dtype": "float64",
         "name": "District of Columbia",
         "stats": {
          "histogram": [
           {
            "bin_end": 59861.5,
            "bin_start": 9789,
            "count": 7
           },
           {
            "bin_end": 109934,
            "bin_start": 59861.5,
            "count": 5
           },
           {
            "bin_end": 160006.5,
            "bin_start": 109934,
            "count": 5
           },
           {
            "bin_end": 210079,
            "bin_start": 160006.5,
            "count": 0
           },
           {
            "bin_end": 260151.5,
            "bin_start": 210079,
            "count": 4
           },
           {
            "bin_end": 310224,
            "bin_start": 260151.5,
            "count": 2
           },
           {
            "bin_end": 360296.5,
            "bin_start": 310224,
            "count": 0
           },
           {
            "bin_end": 410369,
            "bin_start": 360296.5,
            "count": 1
           },
           {
            "bin_end": 460441.5,
            "bin_start": 410369,
            "count": 0
           },
           {
            "bin_end": 510514,
            "bin_start": 460441.5,
            "count": 3
           }
          ],
          "max": 510514,
          "min": 9789,
          "nan_count": 0,
          "unique_count": 27
         }
        },
        {
         "dtype": "float64",
         "name": "Florida",
         "stats": {
          "histogram": [
           {
            "bin_end": 1550289.4,
            "bin_start": 54216,
            "count": 7
           },
           {
            "bin_end": 3046362.8,
            "bin_start": 1550289.4,
            "count": 6
           },
           {
            "bin_end": 4542436.199999999,
            "bin_start": 3046362.8,
            "count": 5
           },
           {
            "bin_end": 6038509.6,
            "bin_start": 4542436.199999999,
            "count": 1
           },
           {
            "bin_end": 7534583,
            "bin_start": 6038509.6,
            "count": 1
           },
           {
            "bin_end": 9030656.399999999,
            "bin_start": 7534583,
            "count": 1
           },
           {
            "bin_end": 10526729.799999999,
            "bin_start": 9030656.399999999,
            "count": 1
           },
           {
            "bin_end": 12022803.2,
            "bin_start": 10526729.799999999,
            "count": 1
           },
           {
            "bin_end": 13518876.6,
            "bin_start": 12022803.2,
            "count": 2
           },
           {
            "bin_end": 15014950,
            "bin_start": 13518876.6,
            "count": 2
           }
          ],
          "max": 15014950,
          "min": 54216,
          "nan_count": 0,
          "unique_count": 27
         }
        },
        {
         "dtype": "float64",
         "name": "Georgia",
         "stats": {
          "histogram": [
           {
            "bin_end": 787389.6,
            "bin_start": 56809,
            "count": 9
           },
           {
            "bin_end": 1517970.2,
            "bin_start": 787389.6,
            "count": 3
           },
           {
            "bin_end": 2248550.8,
            "bin_start": 1517970.2,
            "count": 5
           },
           {
            "bin_end": 2979131.4,
            "bin_start": 2248550.8,
            "count": 2
           },
           {
            "bin_end": 3709712,
            "bin_start": 2979131.4,
            "count": 1
           },
           {
            "bin_end": 4440292.6,
            "bin_start": 3709712,
            "count": 2
           },
           {
            "bin_end": 5170873.2,
            "bin_start": 4440292.6,
            "count": 1
           },
           {
            "bin_end": 5901453.8,
            "bin_start": 5170873.2,
            "count": 0
           },
           {
            "bin_end": 6632034.399999999,
            "bin_start": 5901453.8,
            "count": 2
           },
           {
            "bin_end": 7362615,
            "bin_start": 6632034.399999999,
            "count": 2
           }
          ],
          "max": 7362615,
          "min": 56809,
          "nan_count": 0,
          "unique_count": 27
         }
        },
        {
         "dtype": "float64",
         "name": "Hawaii",
         "stats": {
          "histogram": [
           {
            "bin_end": 115359.1,
            "bin_start": 14227,
            "count": 9
           },
           {
            "bin_end": 216491.2,
            "bin_start": 115359.1,
            "count": 3
           },
           {
            "bin_end": 317623.30000000005,
            "bin_start": 216491.2,
            "count": 7
           },
           {
            "bin_end": 418755.4,
            "bin_start": 317623.30000000005,
            "count": 2
           },
           {
            "bin_end": 519887.5,
            "bin_start": 418755.4,
            "count": 1
           },
           {
            "bin_end": 621019.6000000001,
            "bin_start": 519887.5,
            "count": 1
           },
           {
            "bin_end": 722151.7000000001,
            "bin_start": 621019.6000000001,
            "count": 0
           },
           {
            "bin_end": 823283.8,
            "bin_start": 722151.7000000001,
            "count": 0
           },
           {
            "bin_end": 924415.9,
            "bin_start": 823283.8,
            "count": 1
           },
           {
            "bin_end": 1025548,
            "bin_start": 924415.9,
            "count": 3
           }
          ],
          "max": 1025548,
          "min": 14227,
          "nan_count": 0,
          "unique_count": 27
         }
        },
        {
         "dtype": "float64",
         "name": "Idaho",
         "stats": {
          "histogram": [
           {
            "bin_end": 128012.3,
            "bin_start": 6738,
            "count": 10
           },
           {
            "bin_end": 249286.6,
            "bin_start": 128012.3,
            "count": 2
           },
           {
            "bin_end": 370560.9,
            "bin_start": 249286.6,
            "count": 6
           },
           {
            "bin_end": 491835.2,
            "bin_start": 370560.9,
            "count": 1
           },
           {
            "bin_end": 613109.5,
            "bin_start": 491835.2,
            "count": 2
           },
           {
            "bin_end": 734383.8,
            "bin_start": 613109.5,
            "count": 0
           },
           {
            "bin_end": 855658.1,
            "bin_start": 734383.8,
            "count": 0
           },
           {
            "bin_end": 976932.4,
            "bin_start": 855658.1,
            "count": 0
           },
           {
            "bin_end": 1098206.7,
            "bin_start": 976932.4,
            "count": 2
           },
           {
            "bin_end": 1219481,
            "bin_start": 1098206.7,
            "count": 4
           }
          ],
          "max": 1219481,
          "min": 6738,
          "nan_count": 0,
          "unique_count": 27
         }
        },
        {
         "dtype": "float64",
         "name": "Illinois",
         "stats": {
          "histogram": [
           {
            "bin_end": 963764.2,
            "bin_start": 64635,
            "count": 8
           },
           {
            "bin_end": 1862893.4,
            "bin_start": 963764.2,
            "count": 4
           },
           {
            "bin_end": 2762022.5999999996,
            "bin_start": 1862893.4,
            "count": 5
           },
           {
            "bin_end": 3661151.8,
            "bin_start": 2762022.5999999996,
            "count": 2
           },
           {
            "bin_end": 4560281,
            "bin_start": 3661151.8,
            "count": 1
           },
           {
            "bin_end": 5459410.199999999,
            "bin_start": 4560281,
            "count": 1
           },
           {
            "bin_end": 6358539.399999999,
            "bin_start": 5459410.199999999,
            "count": 1
           },
           {
            "bin_end": 7257668.6,
            "bin_start": 6358539.399999999,
            "count": 1
           },
           {
            "bin_end": 8156797.8,
            "bin_start": 7257668.6,
            "count": 1
           },
           {
            "bin_end": 9055927,
            "bin_start": 8156797.8,
            "count": 3
           }
          ],
          "max": 9055927,
          "min": 64635,
          "nan_count": 0,
          "unique_count": 27
         }
        },
        {
         "dtype": "float64",
         "name": "Indiana",
         "stats": {
          "histogram": [
           {
            "bin_end": 539199.2,
            "bin_start": 54749,
            "count": 10
           },
           {
            "bin_end": 1023649.4,
            "bin_start": 539199.2,
            "count": 3
           },
           {
            "bin_end": 1508099.6,
            "bin_start": 1023649.4,
            "count": 4
           },
           {
            "bin_end": 1992549.8,
            "bin_start": 1508099.6,
            "count": 2
           },
           {
            "bin_end": 2477000,
            "bin_start": 1992549.8,
            "count": 1
           },
           {
            "bin_end": 2961450.2,
            "bin_start": 2477000,
            "count": 1
           },
           {
            "bin_end": 3445900.4,
            "bin_start": 2961450.2,
            "count": 0
           },
           {
            "bin_end": 3930350.6,
            "bin_start": 3445900.4,
            "count": 0
           },
           {
            "bin_end": 4414800.8,
            "bin_start": 3930350.6,
            "count": 4
           },
           {
            "bin_end": 4899251,
            "bin_start": 4414800.8,
            "count": 2
           }
          ],
          "max": 4899251,
          "min": 54749,
          "nan_count": 0,
          "unique_count": 27
         }
        },
        {
         "dtype": "float64",
         "name": "Iowa",
         "stats": {
          "histogram": [
           {
            "bin_end": 248099.2,
            "bin_start": 17293,
            "count": 10
           },
           {
            "bin_end": 478905.4,
            "bin_start": 248099.2,
            "count": 2
           },
           {
            "bin_end": 709711.6000000001,
            "bin_start": 478905.4,
            "count": 5
           },
           {
            "bin_end": 940517.8,
            "bin_start": 709711.6000000001,
            "count": 2
           },
           {
            "bin_end": 1171324,
            "bin_start": 940517.8,
            "count": 1
           },
           {
            "bin_end": 1402130.2000000002,
            "bin_start": 1171324,
            "count": 1
           },
           {
            "bin_end": 1632936.4000000001,
            "bin_start": 1402130.2000000002,
            "count": 0
           },
           {
            "bin_end": 1863742.6,
            "bin_start": 1632936.4000000001,
            "count": 0
           },
           {
            "bin_end": 2094548.8,
            "bin_start": 1863742.6,
            "count": 1
           },
           {
            "bin_end": 2325355,
            "bin_start": 2094548.8,
            "count": 5
           }
          ],
          "max": 2325355,
          "min": 17293,
          "nan_count": 0,
          "unique_count": 27
         }
        },
        {
         "dtype": "float64",
         "name": "Kansas",
         "stats": {
          "histogram": [
           {
            "bin_end": 234030.9,
            "bin_start": 27672,
            "count": 11
           },
           {
            "bin_end": 440389.8,
            "bin_start": 234030.9,
            "count": 1
           },
           {
            "bin_end": 646748.7,
            "bin_start": 440389.8,
            "count": 5
           },
           {
            "bin_end": 853107.6,
            "bin_start": 646748.7,
            "count": 2
           },
           {
            "bin_end": 1059466.5,
            "bin_start": 853107.6,
            "count": 1
           },
           {
            "bin_end": 1265825.4,
            "bin_start": 1059466.5,
            "count": 1
           },
           {
            "bin_end": 1472184.3,
            "bin_start": 1265825.4,
            "count": 0
           },
           {
            "bin_end": 1678543.2,
            "bin_start": 1472184.3,
            "count": 0
           },
           {
            "bin_end": 1884902.0999999999,
            "bin_start": 1678543.2,
            "count": 3
           },
           {
            "bin_end": 2091261,
            "bin_start": 1884902.0999999999,
            "count": 3
           }
          ],
          "max": 2091261,
          "min": 27672,
          "nan_count": 0,
          "unique_count": 27
         }
        },
        {
         "dtype": "float64",
         "name": "Kentucky",
         "stats": {
          "histogram": [
           {
            "bin_end": 346324,
            "bin_start": 12476,
            "count": 10
           },
           {
            "bin_end": 680172,
            "bin_start": 346324,
            "count": 2
           },
           {
            "bin_end": 1014020,
            "bin_start": 680172,
            "count": 5
           },
           {
            "bin_end": 1347868,
            "bin_start": 1014020,
            "count": 2
           },
           {
            "bin_end": 1681716,
            "bin_start": 1347868,
            "count": 1
           },
           {
            "bin_end": 2015564,
            "bin_start": 1681716,
            "count": 1
           },
           {
            "bin_end": 2349412,
            "bin_start": 2015564,
            "count": 0
           },
           {
            "bin_end": 2683260,
            "bin_start": 2349412,
            "count": 0
           },
           {
            "bin_end": 3017108,
            "bin_start": 2683260,
            "count": 4
           },
           {
            "bin_end": 3350956,
            "bin_start": 3017108,
            "count": 2
           }
          ],
          "max": 3350956,
          "min": 12476,
          "nan_count": 0,
          "unique_count": 27
         }
        },
        {
         "dtype": "float64",
         "name": "Louisiana",
         "stats": {
          "histogram": [
           {
            "bin_end": 367574.6,
            "bin_start": 22970,
            "count": 8
           },
           {
            "bin_end": 712179.2,
            "bin_start": 367574.6,
            "count": 4
           },
           {
            "bin_end": 1056783.7999999998,
            "bin_start": 712179.2,
            "count": 4
           },
           {
            "bin_end": 1401388.4,
            "bin_start": 1056783.7999999998,
            "count": 3
           },
           {
            "bin_end": 1745993,
            "bin_start": 1401388.4,
            "count": 1
           },
           {
            "bin_end": 2090597.5999999999,
            "bin_start": 1745993,
            "count": 1
           },
           {
            "bin_end": 2435202.1999999997,
            "bin_start": 2090597.5999999999,
            "count": 2
           },
           {
            "bin_end": 2779806.8,
            "bin_start": 2435202.1999999997,
            "count": 0
           },
           {
            "bin_end": 3124411.4,
            "bin_start": 2779806.8,
            "count": 2
           },
           {
            "bin_end": 3469016,
            "bin_start": 3124411.4,
            "count": 2
           }
          ],
          "max": 3469016,
          "min": 22970,
          "nan_count": 0,
          "unique_count": 27
         }
        },
        {
         "dtype": "float64",
         "name": "Maine",
         "stats": {
          "histogram": [
           {
            "bin_end": 106449.7,
            "bin_start": 0,
            "count": 9
           },
           {
            "bin_end": 212899.4,
            "bin_start": 106449.7,
            "count": 4
           },
           {
            "bin_end": 319349.1,
            "bin_start": 212899.4,
            "count": 4
           },
           {
            "bin_end": 425798.8,
            "bin_start": 319349.1,
            "count": 2
           },
           {
            "bin_end": 532248.5,
            "bin_start": 425798.8,
            "count": 1
           },
           {
            "bin_end": 638698.2,
            "bin_start": 532248.5,
            "count": 1
           },
           {
            "bin_end": 745147.9,
            "bin_start": 638698.2,
            "count": 0
           },
           {
            "bin_end": 851597.6,
            "bin_start": 745147.9,
            "count": 0
           },
           {
            "bin_end": 958047.2999999999,
            "bin_start": 851597.6,
            "count": 1
           },
           {
            "bin_end": 1064497,
            "bin_start": 958047.2999999999,
            "count": 5
           }
          ],
          "max": 1064497,
          "min": 0,
          "nan_count": 0,
          "unique_count": 26
         }
        },
        {
         "dtype": "float64",
         "name": "Maryland",
         "stats": {
          "histogram": [
           {
            "bin_end": 504760.4,
            "bin_start": 81860,
            "count": 9
           },
           {
            "bin_end": 927660.8,
            "bin_start": 504760.4,
            "count": 4
           },
           {
            "bin_end": 1350561.2000000002,
            "bin_start": 927660.8,
            "count": 4
           },
           {
            "bin_end": 1773461.6,
            "bin_start": 1350561.2000000002,
            "count": 2
           },
           {
            "bin_end": 2196362,
            "bin_start": 1773461.6,
            "count": 1
           },
           {
            "bin_end": 2619262.4000000004,
            "bin_start": 2196362,
            "count": 3
           },
           {
            "bin_end": 3042162.8000000003,
            "bin_start": 2619262.4000000004,
            "count": 0
           },
           {
            "bin_end": 3465063.2,
            "bin_start": 3042162.8000000003,
            "count": 0
           },
           {
            "bin_end": 3887963.6,
            "bin_start": 3465063.2,
            "count": 1
           },
           {
            "bin_end": 4310864,
            "bin_start": 3887963.6,
            "count": 3
           }
          ],
          "max": 4310864,
          "min": 81860,
          "nan_count": 0,
          "unique_count": 27
         }
        },
        {
         "dtype": "float64",
         "name": "Massachusetts",
         "stats": {
          "histogram": [
           {
            "bin_end": 570860.9,
            "bin_start": 79512,
            "count": 10
           },
           {
            "bin_end": 1062209.8,
            "bin_start": 570860.9,
            "count": 2
           },
           {
            "bin_end": 1553558.7000000002,
            "bin_start": 1062209.8,
            "count": 5
           },
           {
            "bin_end": 2044907.6,
            "bin_start": 1553558.7000000002,
            "count": 2
           },
           {
            "bin_end": 2536256.5,
            "bin_start": 2044907.6,
            "count": 1
           },
           {
            "bin_end": 3027605.4000000004,
            "bin_start": 2536256.5,
            "count": 1
           },
           {
            "bin_end": 3518954.3000000003,
            "bin_start": 3027605.4000000004,
            "count": 0
           },
           {
            "bin_end": 4010303.2,
            "bin_start": 3518954.3000000003,
            "count": 1
           },
           {
            "bin_end": 4501652.100000001,
            "bin_start": 4010303.2,
            "count": 2
           },
           {
            "bin_end": 4993001,
            "bin_start": 4501652.100000001,
            "count": 3
           }
          ],
          "max": 4993001,
          "min": 79512,
          "nan_count": 0,
          "unique_count": 27
         }
        },
        {
         "dtype": "float64",
         "name": "Michigan",
         "stats": {
          "histogram": [
           {
            "bin_end": 796702.8,
            "bin_start": 53900,
            "count": 9
           },
           {
            "bin_end": 1539505.6,
            "bin_start": 796702.8,
            "count": 3
           },
           {
            "bin_end": 2282308.4000000004,
            "bin_start": 1539505.6,
            "count": 6
           },
           {
            "bin_end": 3025111.2,
            "bin_start": 2282308.4000000004,
            "count": 1
           },
           {
            "bin_end": 3767914,
            "bin_start": 3025111.2,
            "count": 1
           },
           {
            "bin_end": 4510716.800000001,
            "bin_start": 3767914,
            "count": 1
           },
           {
            "bin_end": 5253519.600000001,
            "bin_start": 4510716.800000001,
            "count": 0
           },
           {
            "bin_end": 5996322.4,
            "bin_start": 5253519.600000001,
            "count": 1
           },
           {
            "bin_end": 6739125.2,
            "bin_start": 5996322.4,
            "count": 2
           },
           {
            "bin_end": 7481928,
            "bin_start": 6739125.2,
            "count": 3
           }
          ],
          "max": 7481928,
          "min": 53900,
          "nan_count": 0,
          "unique_count": 27
         }
        },
        {
         "dtype": "float64",
         "name": "Minnesota",
         "stats": {
          "histogram": [
           {
            "bin_end": 440921.4,
            "bin_start": 36618,
            "count": 9
           },
           {
            "bin_end": 845224.8,
            "bin_start": 440921.4,
            "count": 3
           },
           {
            "bin_end": 1249528.2000000002,
            "bin_start": 845224.8,
            "count": 5
           },
           {
            "bin_end": 1653831.6,
            "bin_start": 1249528.2000000002,
            "count": 2
           },
           {
            "bin_end": 2058135,
            "bin_start": 1653831.6,
            "count": 1
           },
           {
            "bin_end": 2462438.4000000004,
            "bin_start": 2058135,
            "count": 1
           },
           {
            "bin_end": 2866741.8000000003,
            "bin_start": 2462438.4000000004,
            "count": 0
           },
           {
            "bin_end": 3271045.2,
            "bin_start": 2866741.8000000003,
            "count": 0
           },
           {
            "bin_end": 3675348.6,
            "bin_start": 3271045.2,
            "count": 3
           },
           {
            "bin_end": 4079652,
            "bin_start": 3675348.6,
            "count": 3
           }
          ],
          "max": 4079652,
          "min": 36618,
          "nan_count": 0,
          "unique_count": 27
         }
        },
        {
         "dtype": "float64",
         "name": "Mississippi",
         "stats": {
          "histogram": [
           {
            "bin_end": 232492,
            "bin_start": 10022,
            "count": 8
           },
           {
            "bin_end": 454962,
            "bin_start": 232492,
            "count": 4
           },
           {
            "bin_end": 677432,
            "bin_start": 454962,
            "count": 4
           },
           {
            "bin_end": 899902,
            "bin_start": 677432,
            "count": 3
           },
           {
            "bin_end": 1122372,
            "bin_start": 899902,
            "count": 1
           },
           {
            "bin_end": 1344842,
            "bin_start": 1122372,
            "count": 2
           },
           {
            "bin_end": 1567312,
            "bin_start": 1344842,
            "count": 1
           },
           {
            "bin_end": 1789782,
            "bin_start": 1567312,
            "count": 1
           },
           {
            "bin_end": 2012252,
            "bin_start": 1789782,
            "count": 1
           },
           {
            "bin_end": 2234722,
            "bin_start": 2012252,
            "count": 2
           }
          ],
          "max": 2234722,
          "min": 10022,
          "nan_count": 0,
          "unique_count": 27
         }
        },
        {
         "dtype": "float64",
         "name": "Missouri",
         "stats": {
          "histogram": [
           {
            "bin_end": 488708.5,
            "bin_start": 31138,
            "count": 9
           },
           {
            "bin_end": 946279,
            "bin_start": 488708.5,
            "count": 3
           },
           {
            "bin_end": 1403849.5,
            "bin_start": 946279,
            "count": 5
           },
           {
            "bin_end": 1861420,
            "bin_start": 1403849.5,
            "count": 2
           },
           {
            "bin_end": 2318990.5,
            "bin_start": 1861420,
            "count": 1
           },
           {
            "bin_end": 2776561,
            "bin_start": 2318990.5,
            "count": 1
           },
           {
            "bin_end": 3234131.5,
            "bin_start": 2776561,
            "count": 0
           },
           {
            "bin_end": 3691702,
            "bin_start": 3234131.5,
            "count": 0
           },
           {
            "bin_end": 4149272.5,
            "bin_start": 3691702,
            "count": 4
           },
           {
            "bin_end": 4606843,
            "bin_start": 4149272.5,
            "count": 2
           }
          ],
          "max": 4606843,
          "min": 31138,
          "nan_count": 0,
          "unique_count": 27
         }
        },
        {
         "dtype": "float64",
         "name": "Montana",
         "stats": {
          "histogram": [
           {
            "bin_end": 81076,
            "bin_start": 0,
            "count": 10
           },
           {
            "bin_end": 162152,
            "bin_start": 81076,
            "count": 2
           },
           {
            "bin_end": 243228,
            "bin_start": 162152,
            "count": 6
           },
           {
            "bin_end": 324304,
            "bin_start": 243228,
            "count": 1
           },
           {
            "bin_end": 405380,
            "bin_start": 324304,
            "count": 1
           },
           {
            "bin_end": 486456,
            "bin_start": 405380,
            "count": 1
           },
           {
            "bin_end": 567532,
            "bin_start": 486456,
            "count": 0
           },
           {
            "bin_end": 648608,
            "bin_start": 567532,
            "count": 0
           },
           {
            "bin_end": 729684,
            "bin_start": 648608,
            "count": 2
           },
           {
            "bin_end": 810760,
            "bin_start": 729684,
            "count": 4
           }
          ],
          "max": 810760,
          "min": 0,
          "nan_count": 0,
          "unique_count": 26
         }
        },
        {
         "dtype": "float64",
         "name": "Nebraska",
         "stats": {
          "histogram": [
           {
            "bin_end": 150005.7,
            "bin_start": 14673,
            "count": 11
           },
           {
            "bin_end": 285338.4,
            "bin_start": 150005.7,
            "count": 1
           },
           {
            "bin_end": 420671.10000000003,
            "bin_start": 285338.4,
            "count": 6
           },
           {
            "bin_end": 556003.8,
            "bin_start": 420671.10000000003,
            "count": 1
           },
           {
            "bin_end": 691336.5,
            "bin_start": 556003.8,
            "count": 1
           },
           {
            "bin_end": 826669.2000000001,
            "bin_start": 691336.5,
            "count": 1
           },
           {
            "bin_end": 962001.9000000001,
            "bin_start": 826669.2000000001,
            "count": 0
           },
           {
            "bin_end": 1097334.6,
            "bin_start": 962001.9000000001,
            "count": 0
           },
           {
            "bin_end": 1232667.3,
            "bin_start": 1097334.6,
            "count": 2
           },
           {
            "bin_end": 1368000,
            "bin_start": 1232667.3,
            "count": 4
           }
          ],
          "max": 1368000,
          "min": 14673,
          "nan_count": 0,
          "unique_count": 27
         }
        },
        {
         "dtype": "float64",
         "name": "Nevada",
         "stats": {
          "histogram": [
           {
            "bin_end": 247154.7,
            "bin_start": 48926,
            "count": 10
           },
           {
            "bin_end": 445383.4,
            "bin_start": 247154.7,
            "count": 4
           },
           {
            "bin_end": 643612.1000000001,
            "bin_start": 445383.4,
            "count": 4
           },
           {
            "bin_end": 841840.8,
            "bin_start": 643612.1000000001,
            "count": 1
           },
           {
            "bin_end": 1040069.5,
            "bin_start": 841840.8,
            "count": 2
           },
           {
            "bin_end": 1238298.2000000002,
            "bin_start": 1040069.5,
            "count": 1
           },
           {
            "bin_end": 1436526.9000000001,
            "bin_start": 1238298.2000000002,
            "count": 1
           },
           {
            "bin_end": 1634755.6,
            "bin_start": 1436526.9000000001,
            "count": 0
           },
           {
            "bin_end": 1832984.3,
            "bin_start": 1634755.6,
            "count": 2
           },
           {
            "bin_end": 2031213,
            "bin_start": 1832984.3,
            "count": 2
           }
          ],
          "max": 2031213,
          "min": 48926,
          "nan_count": 0,
          "unique_count": 27
         }
        },
        {
         "dtype": "float64",
         "name": "New Hampshire",
         "stats": {
          "histogram": [
           {
            "bin_end": 107830.4,
            "bin_start": 3269,
            "count": 10
           },
           {
            "bin_end": 212391.8,
            "bin_start": 107830.4,
            "count": 2
           },
           {
            "bin_end": 316953.19999999995,
            "bin_start": 212391.8,
            "count": 5
           },
           {
            "bin_end": 421514.6,
            "bin_start": 316953.19999999995,
            "count": 2
           },
           {
            "bin_end": 526076,
            "bin_start": 421514.6,
            "count": 1
           },
           {
            "bin_end": 630637.3999999999,
            "bin_start": 526076,
            "count": 1
           },
           {
            "bin_end": 735198.7999999999,
            "bin_start": 630637.3999999999,
            "count": 0
           },
           {
            "bin_end": 839760.2,
            "bin_start": 735198.7999999999,
            "count": 0
           },
           {
            "bin_end": 944321.6,
            "bin_start": 839760.2,
            "count": 1
           },
           {
            "bin_end": 1048883,
            "bin_start": 944321.6,
            "count": 5
           }
          ],
          "max": 1048883,
          "min": 3269,
          "nan_count": 0,
          "unique_count": 27
         }
        },
        {
         "dtype": "float64",
         "name": "New Jersey",
         "stats": {
          "histogram": [
           {
            "bin_end": 693735.5,
            "bin_start": 81994,
            "count": 8
           },
           {
            "bin_end": 1305477,
            "bin_start": 693735.5,
            "count": 5
           },
           {
            "bin_end": 1917218.5,
            "bin_start": 1305477,
            "count": 4
           },
           {
            "bin_end": 2528960,
            "bin_start": 1917218.5,
            "count": 2
           },
           {
            "bin_end": 3140701.5,
            "bin_start": 2528960,
            "count": 1
           },
           {
            "bin_end": 3752443,
            "bin_start": 3140701.5,
            "count": 1
           },
           {
            "bin_end": 4364184.5,
            "bin_start": 3752443,
            "count": 1
           },
           {
            "bin_end": 4975926,
            "bin_start": 4364184.5,
            "count": 1
           },
           {
            "bin_end": 5587667.5,
            "bin_start": 4975926,
            "count": 1
           },
           {
            "bin_end": 6199409,
            "bin_start": 5587667.5,
            "count": 3
           }
          ],
          "max": 6199409,
          "min": 81994,
          "nan_count": 0,
          "unique_count": 27
         }
        },
        {
         "dtype": "float64",
         "name": "New Mexico",
         "stats": {
          "histogram": [
           {
            "bin_end": 165829.7,
            "bin_start": 18331,
            "count": 9
           },
           {
            "bin_end": 313328.4,
            "bin_start": 165829.7,
            "count": 2
           },
           {
            "bin_end": 460827.10000000003,
            "bin_start": 313328.4,
            "count": 6
           },
           {
            "bin_end": 608325.8,
            "bin_start": 460827.10000000003,
            "count": 1
           },
           {
            "bin_end": 755824.5,
            "bin_start": 608325.8,
            "count": 3
           },
           {
            "bin_end": 903323.2000000001,
            "bin_start": 755824.5,
            "count": 1
           },
           {
            "bin_end": 1050821.9000000001,
            "bin_start": 903323.2000000001,
            "count": 0
           },
           {
            "bin_end": 1198320.6,
            "bin_start": 1050821.9000000001,
            "count": 1
           },
           {
            "bin_end": 1345819.3,
            "bin_start": 1198320.6,
            "count": 2
           },
           {
            "bin_end": 1493318,
            "bin_start": 1345819.3,
            "count": 2
           }
          ],
          "max": 1493318,
          "min": 18331,
          "nan_count": 0,
          "unique_count": 27
         }
        },
        {
         "dtype": "float64",
         "name": "New York",
         "stats": {
          "histogram": [
           {
            "bin_end": 1446528.3,
            "bin_start": 66515,
            "count": 7
           },
           {
            "bin_end": 2826541.6,
            "bin_start": 1446528.3,
            "count": 5
           },
           {
            "bin_end": 4206554.9,
            "bin_start": 2826541.6,
            "count": 5
           },
           {
            "bin_end": 5586568.2,
            "bin_start": 4206554.9,
            "count": 2
           },
           {
            "bin_end": 6966581.5,
            "bin_start": 5586568.2,
            "count": 1
           },
           {
            "bin_end": 8346594.800000001,
            "bin_start": 6966581.5,
            "count": 1
           },
           {
            "bin_end": 9726608.1,
            "bin_start": 8346594.800000001,
            "count": 2
           },
           {
            "bin_end": 11106621.4,
            "bin_start": 9726608.1,
            "count": 0
           },
           {
            "bin_end": 12486634.700000001,
            "bin_start": 11106621.4,
            "count": 2
           },
           {
            "bin_end": 13866648,
            "bin_start": 12486634.700000001,
            "count": 2
           }
          ],
          "max": 13866648,
          "min": 66515,
          "nan_count": 0,
          "unique_count": 27
         }
        },
        {
         "dtype": "float64",
         "name": "North Carolina",
         "stats": {
          "histogram": [
           {
            "bin_end": 799243.2,
            "bin_start": 53617,
            "count": 9
           },
           {
            "bin_end": 1544869.4,
            "bin_start": 799243.2,
            "count": 2
           },
           {
            "bin_end": 2290495.5999999996,
            "bin_start": 1544869.4,
            "count": 7
           },
           {
            "bin_end": 3036121.8,
            "bin_start": 2290495.5999999996,
            "count": 1
           },
           {
            "bin_end": 3781748,
            "bin_start": 3036121.8,
            "count": 1
           },
           {
            "bin_end": 4527374.199999999,
            "bin_start": 3781748,
            "count": 1
           },
           {
            "bin_end": 5273000.399999999,
            "bin_start": 4527374.199999999,
            "count": 1
           },
           {
            "bin_end": 6018626.6,
            "bin_start": 5273000.399999999,
            "count": 1
           },
           {
            "bin_end": 6764252.8,
            "bin_start": 6018626.6,
            "count": 2
           },
           {
            "bin_end": 7509879,
            "bin_start": 6764252.8,
            "count": 2
           }
          ],
          "max": 7509879,
          "min": 53617,
          "nan_count": 0,
          "unique_count": 27
         }
        },
        {
         "dtype": "float64",
         "name": "North Dakota",
         "stats": {
          "histogram": [
           {
            "bin_end": 56447.5,
            "bin_start": 0,
            "count": 9
           },
           {
            "bin_end": 112895,
            "bin_start": 56447.5,
            "count": 3
           },
           {
            "bin_end": 169342.5,
            "bin_start": 112895,
            "count": 6
           },
           {
            "bin_end": 225790,
            "bin_start": 169342.5,
            "count": 1
           },
           {
            "bin_end": 282237.5,
            "bin_start": 225790,
            "count": 1
           },
           {
            "bin_end": 338685,
            "bin_start": 282237.5,
            "count": 1
           },
           {
            "bin_end": 395132.5,
            "bin_start": 338685,
            "count": 0
           },
           {
            "bin_end": 451580,
            "bin_start": 395132.5,
            "count": 0
           },
           {
            "bin_end": 508027.5,
            "bin_start": 451580,
            "count": 2
           },
           {
            "bin_end": 564475,
            "bin_start": 508027.5,
            "count": 4
           }
          ],
          "max": 564475,
          "min": 0,
          "nan_count": 0,
          "unique_count": 27
         }
        },
        {
         "dtype": "float64",
         "name": "Ohio",
         "stats": {
          "histogram": [
           {
            "bin_end": 931785,
            "bin_start": 54185,
            "count": 9
           },
           {
            "bin_end": 1809385,
            "bin_start": 931785,
            "count": 4
           },
           {
            "bin_end": 2686985,
            "bin_start": 1809385,
            "count": 4
           },
           {
            "bin_end": 3564585,
            "bin_start": 2686985,
            "count": 2
           },
           {
            "bin_end": 4442185,
            "bin_start": 3564585,
            "count": 1
           },
           {
            "bin_end": 5319785,
            "bin_start": 4442185,
            "count": 1
           },
           {
            "bin_end": 6197385,
            "bin_start": 5319785,
            "count": 0
           },
           {
            "bin_end": 7074985,
            "bin_start": 6197385,
            "count": 0
           },
           {
            "bin_end": 7952585,
            "bin_start": 7074985,
            "count": 3
           },
           {
            "bin_end": 8830185,
            "bin_start": 7952585,
            "count": 3
           }
          ],
          "max": 8830185,
          "min": 54185,
          "nan_count": 0,
          "unique_count": 27
         }
        },
        {
         "dtype": "float64",
         "name": "Oklahoma",
         "stats": {
          "histogram": [
           {
            "bin_end": 322686.1,
            "bin_start": 43490,
            "count": 10
           },
           {
            "bin_end": 601882.2,
            "bin_start": 322686.1,
            "count": 3
           },
           {
            "bin_end": 881078.2999999999,
            "bin_start": 601882.2,
            "count": 4
           },
           {
            "bin_end": 1160274.4,
            "bin_start": 881078.2999999999,
            "count": 2
           },
           {
            "bin_end": 1439470.5,
            "bin_start": 1160274.4,
            "count": 1
           },
           {
            "bin_end": 1718666.5999999999,
            "bin_start": 1439470.5,
            "count": 1
           },
           {
            "bin_end": 1997862.6999999997,
            "bin_start": 1718666.5999999999,
            "count": 0
           },
           {
            "bin_end": 2277058.8,
            "bin_start": 1997862.6999999997,
            "count": 2
           },
           {
            "bin_end": 2556254.9,
            "bin_start": 2277058.8,
            "count": 2
           },
           {
            "bin_end": 2835451,
            "bin_start": 2556254.9,
            "count": 2
           }
          ],
          "max": 2835451,
          "min": 43490,
          "nan_count": 0,
          "unique_count": 27
         }
        },
        {
         "dtype": "float64",
         "name": "Oregon",
         "stats": {
          "histogram": [
           {
            "bin_end": 352524.1,
            "bin_start": 51657,
            "count": 10
           },
           {
            "bin_end": 653391.2,
            "bin_start": 352524.1,
            "count": 3
           },
           {
            "bin_end": 954258.2999999999,
            "bin_start": 653391.2,
            "count": 4
           },
           {
            "bin_end": 1255125.4,
            "bin_start": 954258.2999999999,
            "count": 2
           },
           {
            "bin_end": 1555992.5,
            "bin_start": 1255125.4,
            "count": 1
           },
           {
            "bin_end": 1856859.5999999999,
            "bin_start": 1555992.5,
            "count": 1
           },
           {
            "bin_end": 2157726.6999999997,
            "bin_start": 1856859.5999999999,
            "count": 0
           },
           {
            "bin_end": 2458593.8,
            "bin_start": 2157726.6999999997,
            "count": 0
           },
           {
            "bin_end": 2759460.9,
            "bin_start": 2458593.8,
            "count": 3
           },
           {
            "bin_end": 3060328,
            "bin_start": 2759460.9,
            "count": 3
           }
          ],
          "max": 3060328,
          "min": 51657,
          "nan_count": 0,
          "unique_count": 27
         }
        },
        {
         "dtype": "float64",
         "name": "Pennsylvania",
         "stats": {
          "histogram": [
           {
            "bin_end": 1029994.3,
            "bin_start": 59536,
            "count": 9
           },
           {
            "bin_end": 2000452.6,
            "bin_start": 1029994.3,
            "count": 5
           },
           {
            "bin_end": 2970910.9000000004,
            "bin_start": 2000452.6,
            "count": 3
           },
           {
            "bin_end": 3941369.2,
            "bin_start": 2970910.9000000004,
            "count": 2
           },
           {
            "bin_end": 4911827.5,
            "bin_start": 3941369.2,
            "count": 1
           },
           {
            "bin_end": 5882285.800000001,
            "bin_start": 4911827.5,
            "count": 1
           },
           {
            "bin_end": 6852744.100000001,
            "bin_start": 5882285.800000001,
            "count": 0
           },
           {
            "bin_end": 7823202.4,
            "bin_start": 6852744.100000001,
            "count": 0
           },
           {
            "bin_end": 8793660.700000001,
            "bin_start": 7823202.4,
            "count": 3
           },
           {
            "bin_end": 9764119,
            "bin_start": 8793660.700000001,
            "count": 3
           }
          ],
          "max": 9764119,
          "min": 59536,
          "nan_count": 0,
          "unique_count": 27
         }
        },
        {
         "dtype": "float64",
         "name": "Rhode Island",
         "stats": {
          "histogram": [
           {
            "bin_end": 95870.2,
            "bin_start": 18485,
            "count": 11
           },
           {
            "bin_end": 173255.4,
            "bin_start": 95870.2,
            "count": 4
           },
           {
            "bin_end": 250640.59999999998,
            "bin_start": 173255.4,
            "count": 3
           },
           {
            "bin_end": 328025.8,
            "bin_start": 250640.59999999998,
            "count": 1
           },
           {
            "bin_end": 405411,
            "bin_start": 328025.8,
            "count": 1
           },
           {
            "bin_end": 482796.19999999995,
            "bin_start": 405411,
            "count": 1
           },
           {
            "bin_end": 560181.4,
            "bin_start": 482796.19999999995,
            "count": 0
           },
           {
            "bin_end": 637566.6,
            "bin_start": 560181.4,
            "count": 1
           },
           {
            "bin_end": 714951.7999999999,
            "bin_start": 637566.6,
            "count": 3
           },
           {
            "bin_end": 792337,
            "bin_start": 714951.7999999999,
            "count": 2
           }
          ],
          "max": 792337,
          "min": 18485,
          "nan_count": 0,
          "unique_count": 27
         }
        },
        {
         "dtype": "float64",
         "name": "South Carolina",
         "stats": {
          "histogram": [
           {
            "bin_end": 403030.1,
            "bin_start": 25667,
            "count": 9
           },
           {
            "bin_end": 780393.2,
            "bin_start": 403030.1,
            "count": 2
           },
           {
            "bin_end": 1157756.2999999998,
            "bin_start": 780393.2,
            "count": 7
           },
           {
            "bin_end": 1535119.4,
            "bin_start": 1157756.2999999998,
            "count": 1
           },
           {
            "bin_end": 1912482.5,
            "bin_start": 1535119.4,
            "count": 1
           },
           {
            "bin_end": 2289845.5999999996,
            "bin_start": 1912482.5,
            "count": 1
           },
           {
            "bin_end": 2667208.6999999997,
            "bin_start": 2289845.5999999996,
            "count": 2
           },
           {
            "bin_end": 3044571.8,
            "bin_start": 2667208.6999999997,
            "count": 0
           },
           {
            "bin_end": 3421934.9,
            "bin_start": 3044571.8,
            "count": 2
           },
           {
            "bin_end": 3799298,
            "bin_start": 3421934.9,
            "count": 2
           }
          ],
          "max": 3799298,
          "min": 25667,
          "nan_count": 0,
          "unique_count": 27
         }
        },
        {
         "dtype": "float64",
         "name": "South Dakota",
         "stats": {
          "histogram": [
           {
            "bin_end": 64166.6,
            "bin_start": 0,
            "count": 9
           },
           {
            "bin_end": 128333.2,
            "bin_start": 64166.6,
            "count": 3
           },
           {
            "bin_end": 192499.8,
            "bin_start": 128333.2,
            "count": 5
           },
           {
            "bin_end": 256666.4,
            "bin_start": 192499.8,
            "count": 2
           },
           {
            "bin_end": 320833,
            "bin_start": 256666.4,
            "count": 1
           },
           {
            "bin_end": 384999.6,
            "bin_start": 320833,
            "count": 1
           },
           {
            "bin_end": 449166.2,
            "bin_start": 384999.6,
            "count": 0
           },
           {
            "bin_end": 513332.8,
            "bin_start": 449166.2,
            "count": 0
           },
           {
            "bin_end": 577499.4,
            "bin_start": 513332.8,
            "count": 3
           },
           {
            "bin_end": 641666,
            "bin_start": 577499.4,
            "count": 3
           }
          ],
          "max": 641666,
          "min": 0,
          "nan_count": 0,
          "unique_count": 27
         }
        },
        {
         "dtype": "float64",
         "name": "Tennessee",
         "stats": {
          "histogram": [
           {
            "bin_end": 522270.7,
            "bin_start": 22956,
            "count": 9
           },
           {
            "bin_end": 1021585.4,
            "bin_start": 522270.7,
            "count": 3
           },
           {
            "bin_end": 1520900.1,
            "bin_start": 1021585.4,
            "count": 5
           },
           {
            "bin_end": 2020214.8,
            "bin_start": 1520900.1,
            "count": 2
           },
           {
            "bin_end": 2519529.5,
            "bin_start": 2020214.8,
            "count": 1
           },
           {
            "bin_end": 3018844.2,
            "bin_start": 2519529.5,
            "count": 1
           },
           {
            "bin_end": 3518158.9,
            "bin_start": 3018844.2,
            "count": 0
           },
           {
            "bin_end": 4017473.6,
            "bin_start": 3518158.9,
            "count": 1
           },
           {
            "bin_end": 4516788.3,
            "bin_start": 4017473.6,
            "count": 3
           },
           {
            "bin_end": 5016103,
            "bin_start": 4516788.3,
            "count": 2
           }
          ],
          "max": 5016103,
          "min": 22956,
          "nan_count": 0,
          "unique_count": 27
         }
        },
        {
         "dtype": "float64",
         "name": "Texas",
         "stats": {
          "histogram": [
           {
            "bin_end": 1873023,
            "bin_start": 61765,
            "count": 8
           },
           {
            "bin_end": 3684281,
            "bin_start": 1873023,
            "count": 4
           },
           {
            "bin_end": 5495539,
            "bin_start": 3684281,
            "count": 6
           },
           {
            "bin_end": 7306797,
            "bin_start": 5495539,
            "count": 1
           },
           {
            "bin_end": 9118055,
            "bin_start": 7306797,
            "count": 1
           },
           {
            "bin_end": 10929313,
            "bin_start": 9118055,
            "count": 2
           },
           {
            "bin_end": 12740571,
            "bin_start": 10929313,
            "count": 0
           },
           {
            "bin_end": 14551829,
            "bin_start": 12740571,
            "count": 1
           },
           {
            "bin_end": 16363087,
            "bin_start": 14551829,
            "count": 2
           },
           {
            "bin_end": 18174345,
            "bin_start": 16363087,
            "count": 2
           }
          ],
          "max": 18174345,
          "min": 61765,
          "nan_count": 0,
          "unique_count": 27
         }
        },
        {
         "dtype": "float64",
         "name": "Utah",
         "stats": {
          "histogram": [
           {
            "bin_end": 220425.2,
            "bin_start": 19564,
            "count": 11
           },
           {
            "bin_end": 421286.4,
            "bin_start": 220425.2,
            "count": 2
           },
           {
            "bin_end": 622147.6000000001,
            "bin_start": 421286.4,
            "count": 5
           },
           {
            "bin_end": 823008.8,
            "bin_start": 622147.6000000001,
            "count": 1
           },
           {
            "bin_end": 1023870,
            "bin_start": 823008.8,
            "count": 2
           },
           {
            "bin_end": 1224731.2000000002,
            "bin_start": 1023870,
            "count": 0
           },
           {
            "bin_end": 1425592.4000000001,
            "bin_start": 1224731.2000000002,
            "count": 0
           },
           {
            "bin_end": 1626453.6,
            "bin_start": 1425592.4000000001,
            "count": 0
           },
           {
            "bin_end": 1827314.8,
            "bin_start": 1626453.6,
            "count": 2
           },
           {
            "bin_end": 2028176,
            "bin_start": 1827314.8,
            "count": 4
           }
          ],
          "max": 2028176,
          "min": 19564,
          "nan_count": 0,
          "unique_count": 27
         }
        },
        {
         "dtype": "float64",
         "name": "Vermont",
         "stats": {
          "histogram": [
           {
            "bin_end": 49455,
            "bin_start": 0,
            "count": 8
           },
           {
            "bin_end": 98910,
            "bin_start": 49455,
            "count": 3
           },
           {
            "bin_end": 148365,
            "bin_start": 98910,
            "count": 6
           },
           {
            "bin_end": 197820,
            "bin_start": 148365,
            "count": 2
           },
           {
            "bin_end": 247275,
            "bin_start": 197820,
            "count": 1
           },
           {
            "bin_end": 296730,
            "bin_start": 247275,
            "count": 1
           },
           {
            "bin_end": 346185,
            "bin_start": 296730,
            "count": 0
           },
           {
            "bin_end": 395640,
            "bin_start": 346185,
            "count": 0
           },
           {
            "bin_end": 445095,
            "bin_start": 395640,
            "count": 1
           },
           {
            "bin_end": 494550,
            "bin_start": 445095,
            "count": 5
           }
          ],
          "max": 494550,
          "min": 0,
          "nan_count": 0,
          "unique_count": 25
         }
        },
        {
         "dtype": "float64",
         "name": "Virginia",
         "stats": {
          "histogram": [
           {
            "bin_end": 679310.1,
            "bin_start": 71912,
            "count": 9
           },
           {
            "bin_end": 1286708.2,
            "bin_start": 679310.1,
            "count": 3
           },
           {
            "bin_end": 1894106.2999999998,
            "bin_start": 1286708.2,
            "count": 5
           },
           {
            "bin_end": 2501504.4,
            "bin_start": 1894106.2999999998,
            "count": 2
           },
           {
            "bin_end": 3108902.5,
            "bin_start": 2501504.4,
            "count": 1
           },
           {
            "bin_end": 3716300.5999999996,
            "bin_start": 3108902.5,
            "count": 1
           },
           {
            "bin_end": 4323698.7,
            "bin_start": 3716300.5999999996,
            "count": 1
           },
           {
            "bin_end": 4931096.8,
            "bin_start": 4323698.7,
            "count": 1
           },
           {
            "bin_end": 5538494.899999999,
            "bin_start": 4931096.8,
            "count": 1
           },
           {
            "bin_end": 6145893,
            "bin_start": 5538494.899999999,
            "count": 3
           }
          ],
          "max": 6145893,
          "min": 71912,
          "nan_count": 0,
          "unique_count": 27
         }
        },
        {
         "dtype": "float64",
         "name": "Washington",
         "stats": {
          "histogram": [
           {
            "bin_end": 590411.2,
            "bin_start": 71580,
            "count": 10
           },
           {
            "bin_end": 1109242.4,
            "bin_start": 590411.2,
            "count": 3
           },
           {
            "bin_end": 1628073.6,
            "bin_start": 1109242.4,
            "count": 4
           },
           {
            "bin_end": 2146904.8,
            "bin_start": 1628073.6,
            "count": 2
           },
           {
            "bin_end": 2665736,
            "bin_start": 2146904.8,
            "count": 2
           },
           {
            "bin_end": 3184567.2,
            "bin_start": 2665736,
            "count": 0
           },
           {
            "bin_end": 3703398.4,
            "bin_start": 3184567.2,
            "count": 0
           },
           {
            "bin_end": 4222229.6,
            "bin_start": 3703398.4,
            "count": 1
           },
           {
            "bin_end": 4741060.8,
            "bin_start": 4222229.6,
            "count": 2
           },
           {
            "bin_end": 5259892,
            "bin_start": 4741060.8,
            "count": 3
           }
          ],
          "max": 5259892,
          "min": 71580,
          "nan_count": 0,
          "unique_count": 27
         }
        },
        {
         "dtype": "float64",
         "name": "West Virginia",
         "stats": {
          "histogram": [
           {
            "bin_end": 142885.9,
            "bin_start": 0,
            "count": 10
           },
           {
            "bin_end": 285771.8,
            "bin_start": 142885.9,
            "count": 4
           },
           {
            "bin_end": 428657.69999999995,
            "bin_start": 285771.8,
            "count": 3
           },
           {
            "bin_end": 571543.6,
            "bin_start": 428657.69999999995,
            "count": 1
           },
           {
            "bin_end": 714429.5,
            "bin_start": 571543.6,
            "count": 2
           },
           {
            "bin_end": 857315.3999999999,
            "bin_start": 714429.5,
            "count": 1
           },
           {
            "bin_end": 1000201.2999999999,
            "bin_start": 857315.3999999999,
            "count": 0
           },
           {
            "bin_end": 1143087.2,
            "bin_start": 1000201.2999999999,
            "count": 0
           },
           {
            "bin_end": 1285973.0999999999,
            "bin_start": 1143087.2,
            "count": 2
           },
           {
            "bin_end": 1428859,
            "bin_start": 1285973.0999999999,
            "count": 4
           }
          ],
          "max": 1428859,
          "min": 0,
          "nan_count": 0,
          "unique_count": 27
         }
        },
        {
         "dtype": "float64",
         "name": "Wisconsin",
         "stats": {
          "histogram": [
           {
            "bin_end": 481853.8,
            "bin_start": 49275,
            "count": 11
           },
           {
            "bin_end": 914432.6,
            "bin_start": 481853.8,
            "count": 2
           },
           {
            "bin_end": 1347011.4,
            "bin_start": 914432.6,
            "count": 4
           },
           {
            "bin_end": 1779590.2,
            "bin_start": 1347011.4,
            "count": 2
           },
           {
            "bin_end": 2212169,
            "bin_start": 1779590.2,
            "count": 1
           },
           {
            "bin_end": 2644747.8,
            "bin_start": 2212169,
            "count": 1
           },
           {
            "bin_end": 3077326.6,
            "bin_start": 2644747.8,
            "count": 0
           },
           {
            "bin_end": 3509905.4,
            "bin_start": 3077326.6,
            "count": 0
           },
           {
            "bin_end": 3942484.1999999997,
            "bin_start": 3509905.4,
            "count": 3
           },
           {
            "bin_end": 4375063,
            "bin_start": 3942484.1999999997,
            "count": 3
           }
          ],
          "max": 4375063,
          "min": 49275,
          "nan_count": 0,
          "unique_count": 27
         }
        },
        {
         "dtype": "float64",
         "name": "Wyoming",
         "stats": {
          "histogram": [
           {
            "bin_end": 42837.9,
            "bin_start": 0,
            "count": 9
           },
           {
            "bin_end": 85675.8,
            "bin_start": 42837.9,
            "count": 3
           },
           {
            "bin_end": 128513.70000000001,
            "bin_start": 85675.8,
            "count": 5
           },
           {
            "bin_end": 171351.6,
            "bin_start": 128513.70000000001,
            "count": 2
           },
           {
            "bin_end": 214189.5,
            "bin_start": 171351.6,
            "count": 1
           },
           {
            "bin_end": 257027.40000000002,
            "bin_start": 214189.5,
            "count": 1
           },
           {
            "bin_end": 299865.3,
            "bin_start": 257027.40000000002,
            "count": 0
           },
           {
            "bin_end": 342703.2,
            "bin_start": 299865.3,
            "count": 0
           },
           {
            "bin_end": 385541.10000000003,
            "bin_start": 342703.2,
            "count": 2
           },
           {
            "bin_end": 428379,
            "bin_start": 385541.10000000003,
            "count": 4
           }
          ],
          "max": 428379,
          "min": 0,
          "nan_count": 0,
          "unique_count": 26
         }
        },
        {
         "dtype": "float64",
         "name": "Puerto Rico",
         "stats": {
          "histogram": [
           {
            "bin_end": 263694.9,
            "bin_start": 0,
            "count": 6
           },
           {
            "bin_end": 527389.8,
            "bin_start": 263694.9,
            "count": 6
           },
           {
            "bin_end": 791084.7000000001,
            "bin_start": 527389.8,
            "count": 5
           },
           {
            "bin_end": 1054779.6,
            "bin_start": 791084.7000000001,
            "count": 1
           },
           {
            "bin_end": 1318474.5,
            "bin_start": 1054779.6,
            "count": 2
           },
           {
            "bin_end": 1582169.4000000001,
            "bin_start": 1318474.5,
            "count": 2
           },
           {
            "bin_end": 1845864.3000000003,
            "bin_start": 1582169.4000000001,
            "count": 1
           },
           {
            "bin_end": 2109559.2,
            "bin_start": 1845864.3000000003,
            "count": 1
           },
           {
            "bin_end": 2373254.1,
            "bin_start": 2109559.2,
            "count": 0
           },
           {
            "bin_end": 2636949,
            "bin_start": 2373254.1,
            "count": 3
           }
          ],
          "max": 2636949,
          "min": 0,
          "nan_count": 0,
          "unique_count": 27
         }
        },
        {
         "dtype": "int64",
         "name": "_deepnote_index_column"
        }
       ],
       "row_count": 27,
       "rows_bottom": [
        {
         "Alabama": 297465,
         "Alaska": 44460,
         "Arizona": 423686,
         "Arkansas": 154087,
         "California": 2090277,
         "Colorado": 323740,
         "Connecticut": 204650,
         "Delaware": 54620,
         "District of Columbia": 16621,
         "Florida": 1561652,
         "Georgia": 564343,
         "Hawaii": 107298,
         "Idaho": 114494,
         "Illinois": 730896,
         "Indiana": 412356,
         "Iowa": 263040,
         "Kansas": 183780,
         "Kentucky": 255392,
         "Label": "    Associate's degree",
         "Louisiana": 193176,
         "Maine": 103918,
         "Maryland": 294465,
         "Massachusetts": 363871,
         "Michigan": 687704,
         "Minnesota": 451229,
         "Mississippi": 219754,
         "Missouri": 354096,
         "Montana": 67876,
         "Nebraska": 136514,
         "Nevada": 164745,
         "New Hampshire": 101421,
         "New Jersey": 430211,
         "New Mexico": 124202,
         "New York": 1244858,
         "North Carolina": 693271,
         "North Dakota": 70551,
         "Ohio": 733004,
         "Oklahoma": 226849,
         "Oregon": 264989,
         "Pennsylvania": 781499,
         "Puerto Rico": 271284,
         "Rhode Island": 61347,
         "South Carolina": 345171,
         "South Dakota": 67726,
         "Tennessee": 351505,
         "Texas": 1365597,
         "Utah": 194774,
         "Vermont": 39415,
         "Virginia": 477831,
         "Washington": 542424,
         "West Virginia": 97224,
         "Wisconsin": 460659,
         "Wyoming": 43431,
         "_deepnote_index_column": 18
        },
        {
         "Alabama": 547228,
         "Alaska": 86875,
         "Arizona": 859330,
         "Arkansas": 312213,
         "California": 5384750,
         "Colorado": 1023500,
         "Connecticut": 553737,
         "Delaware": 122665,
         "District of Columbia": 123216,
         "Florida": 2719313,
         "Georgia": 1315098,
         "Hawaii": 209924,
         "Idaho": 208737,
         "Illinois": 1850998,
         "Indiana": 789076,
         "Iowa": 429454,
         "Kansas": 420798,
         "Kentucky": 447480,
         "Label": "    Bachelor's degree",
         "Louisiana": 501783,
         "Maine": 201297,
         "Maryland": 894543,
         "Massachusetts": 1177098,
         "Michigan": 1237975,
         "Minnesota": 926706,
         "Mississippi": 282970,
         "Missouri": 782113,
         "Montana": 164756,
         "Nebraska": 276067,
         "Nevada": 325226,
         "New Hampshire": 222767,
         "New Jersey": 1465142,
         "New Mexico": 214660,
         "New York": 2827759,
         "North Carolina": 1435868,
         "North Dakota": 115754,
         "Ohio": 1439795,
         "Oklahoma": 450434,
         "Oregon": 613399,
         "Pennsylvania": 1776570,
         "Puerto Rico": 450155,
         "Rhode Island": 153517,
         "South Carolina": 631518,
         "South Dakota": 117036,
         "Tennessee": 820830,
         "Texas": 3432877,
         "Utah": 419868,
         "Vermont": 103924,
         "Virginia": 1291327,
         "Washington": 1115632,
         "West Virginia": 164758,
         "Wisconsin": 817388,
         "Wyoming": 68950,
         "_deepnote_index_column": 19
        },
        {
         "Alabama": 308710,
         "Alaska": 50521,
         "Arizona": 488696,
         "Arkansas": 162912,
         "California": 2973303,
         "Colorado": 557314,
         "Connecticut": 400270,
         "Delaware": 83567,
         "District of Columbia": 148350,
         "Florida": 1491395,
         "Georgia": 769026,
         "Hawaii": 105463,
         "Idaho": 92969,
         "Illinois": 1087819,
         "Indiana": 413413,
         "Iowa": 188884,
         "Kansas": 228717,
         "Kentucky": 290771,
         "Label": "    Graduate or professional degree",
         "Louisiana": 253936,
         "Maine": 115124,
         "Maryland": 710913,
         "Massachusetts": 847726,
         "Michigan": 730361,
         "Minnesota": 448304,
         "Mississippi": 161162,
         "Missouri": 443741,
         "Montana": 75452,
         "Nebraska": 129392,
         "Nevada": 163441,
         "New Hampshire": 131919,
         "New Jersey": 859220,
         "New Mexico": 159956,
         "New York": 2009370,
         "North Carolina": 738862,
         "North Dakota": 39941,
         "Ohio": 807154,
         "Oklahoma": 217520,
         "Oregon": 347141,
         "Pennsylvania": 1064485,
         "Puerto Rico": 173419,
         "Rhode Island": 90686,
         "South Carolina": 348421,
         "South Dakota": 51213,
         "Tennessee": 447119,
         "Texas": 1666532,
         "Utah": 205562,
         "Vermont": 67073,
         "Virginia": 902832,
         "Washington": 604612,
         "West Virginia": 100309,
         "Wisconsin": 405349,
         "Wyoming": 39433,
         "_deepnote_index_column": 20
        },
        {
         "Alabama": 3210220,
         "Alaska": 486606,
         "Arizona": 4379545,
         "Arkansas": 1939060,
         "California": 22810158,
         "Colorado": 3785782,
         "Connecticut": 2393903,
         "Delaware": 652605,
         "District of Columbia": 470220,
         "Florida": 13448237,
         "Georgia": 6511300,
         "Hawaii": 961009,
         "Idaho": 1118812,
         "Illinois": 8240452,
         "Indiana": 4360970,
         "Iowa": 2154006,
         "Kansas": 1927446,
         "Kentucky": 2915582,
         "Label": "High school degree or higher",
         "Louisiana": 2961140,
         "Maine": 980104,
         "Maryland": 3956395,
         "Massachusetts": 4578775,
         "Michigan": 6814118,
         "Minnesota": 3818977,
         "Mississippi": 1893527,
         "Missouri": 4137598,
         "Montana": 750818,
         "Nebraska": 1275064,
         "Nevada": 1829196,
         "New Hampshire": 976116,
         "New Jersey": 5680237,
         "New Mexico": 1313105,
         "New York": 12359029,
         "North Carolina": 6701623,
         "North Dakota": 524126,
         "Ohio": 7954890,
         "Oklahoma": 2522443,
         "Oregon": 2815205,
         "Pennsylvania": 8870917,
         "Puerto Rico": 2060491,
         "Rhode Island": 713647,
         "South Carolina": 3345779,
         "South Dakota": 585296,
         "Tennessee": 4448882,
         "Texas": 16026618,
         "Utah": 1893613,
         "Vermont": 457891,
         "Virginia": 5597429,
         "Washington": 4873695,
         "West Virginia": 1244728,
         "Wisconsin": 4056224,
         "Wyoming": 397485,
         "_deepnote_index_column": 21
        },
        {
         "Alabama": 855938,
         "Alaska": 137396,
         "Arizona": 1348026,
         "Arkansas": 475125,
         "California": 8358053,
         "Colorado": 1580814,
         "Connecticut": 954007,
         "Delaware": 206232,
         "District of Columbia": 271566,
         "Florida": 4210708,
         "Georgia": 2084124,
         "Hawaii": 315387,
         "Idaho": 301706,
         "Illinois": 2938817,
         "Indiana": 1202489,
         "Iowa": 618338,
         "Kansas": 649515,
         "Kentucky": 738251,
         "Label": "Bachelor's degree or higher",
         "Louisiana": 755719,
         "Maine": 316421,
         "Maryland": 1605456,
         "Massachusetts": 2024824,
         "Michigan": 1968336,
         "Minnesota": 1375010,
         "Mississippi": 444132,
         "Missouri": 1225854,
         "Montana": 240208,
         "Nebraska": 405459,
         "Nevada": 488667,
         "New Hampshire": 354686,
         "New Jersey": 2324362,
         "New Mexico": 374616,
         "New York": 4837129,
         "North Carolina": 2174730,
         "North Dakota": 155695,
         "Ohio": 2246949,
         "Oklahoma": 667954,
         "Oregon": 960540,
         "Pennsylvania": 2841055,
         "Puerto Rico": 623574,
         "Rhode Island": 244203,
         "South Carolina": 979939,
         "South Dakota": 168249,
         "Tennessee": 1267949,
         "Texas": 5099409,
         "Utah": 625430,
         "Vermont": 170997,
         "Virginia": 2194159,
         "Washington": 1720244,
         "West Virginia": 265067,
         "Wisconsin": 1222737,
         "Wyoming": 108383,
         "_deepnote_index_column": 22
        },
        {
         "Alabama": 3583677,
         "Alaska": 517757,
         "Arizona": 4777975,
         "Arkansas": 2133163,
         "California": 25094781,
         "Colorado": 3957876,
         "Connecticut": 2517770,
         "Delaware": 688470,
         "District of Columbia": 480375,
         "Florida": 14681906,
         "Georgia": 7140232,
         "Hawaii": 995557,
         "Idaho": 1194878,
         "Illinois": 8806652,
         "Indiana": 4740347,
         "Iowa": 2241148,
         "Kansas": 2020972,
         "Kentucky": 3237198,
         "Label": "    Total Citizens, 18 years and older, for whom poverty status is determined",
         "Louisiana": 3356655,
         "Maine": 1036631,
         "Maryland": 4192489,
         "Massachusetts": 4798871,
         "Michigan": 7305352,
         "Minnesota": 3983690,
         "Mississippi": 2156308,
         "Missouri": 4459667,
         "Montana": 791491,
         "Nebraska": 1323857,
         "Nevada": 2002365,
         "New Hampshire": 1012257,
         "New Jersey": 6057850,
         "New Mexico": 1462326,
         "New York": 13468107,
         "North Carolina": 7281726,
         "North Dakota": 542722,
         "Ohio": 8556382,
         "Oklahoma": 2743507,
         "Oregon": 3003752,
         "Pennsylvania": 9415581,
         "Puerto Rico": 2610444,
         "Rhode Island": 755896,
         "South Carolina": 3678813,
         "South Dakota": 618199,
         "Tennessee": 4882231,
         "Texas": 17666370,
         "Utah": 1992183,
         "Vermont": 473424,
         "Virginia": 5931547,
         "Washington": 5157278,
         "West Virginia": 1388251,
         "Wisconsin": 4252681,
         "Wyoming": 417563,
         "_deepnote_index_column": 23
        },
        {
         "Alabama": 511054,
         "Alaska": 49159,
         "Arizona": 576042,
         "Arkansas": 307498,
         "California": 2633646,
         "Colorado": 369997,
         "Connecticut": 206126,
         "Delaware": 80203,
         "District of Columbia": 70289,
         "Florida": 1679621,
         "Georgia": 892940,
         "Hawaii": 86205,
         "Idaho": 137842,
         "Illinois": 939914,
         "Indiana": 546858,
         "Iowa": 219528,
         "Kansas": 211409,
         "Kentucky": 499043,
         "Label": "    Income in the past 12 months below poverty level",
         "Louisiana": 563618,
         "Maine": 108827,
         "Maryland": 340224,
         "Massachusetts": 425232,
         "Michigan": 902521,
         "Minnesota": 330683,
         "Mississippi": 374266,
         "Missouri": 517827,
         "Montana": 93051,
         "Nebraska": 119261,
         "Nevada": 214467,
         "New Hampshire": 68718,
         "New Jersey": 478384,
         "New Mexico": 242696,
         "New York": 1561408,
         "North Carolina": 887601,
         "North Dakota": 52568,
         "Ohio": 1021720,
         "Oklahoma": 374955,
         "Oregon": 358297,
         "Pennsylvania": 1035118,
         "Puerto Rico": 1070775,
         "Rhode Island": 73950,
         "South Carolina": 478366,
         "South Dakota": 70712,
         "Tennessee": 628440,
         "Texas": 1973866,
         "Utah": 173726,
         "Vermont": 49485,
         "Virginia": 551383,
         "Washington": 491067,
         "West Virginia": 238755,
         "Wisconsin": 433037,
         "Wyoming": 42831,
         "_deepnote_index_column": 24
        },
        {
         "Alabama": 3072623,
         "Alaska": 468598,
         "Arizona": 4201933,
         "Arkansas": 1825665,
         "California": 22461135,
         "Colorado": 3587879,
         "Connecticut": 2311644,
         "Delaware": 608267,
         "District of Columbia": 410086,
         "Florida": 13002285,
         "Georgia": 6247292,
         "Hawaii": 909352,
         "Idaho": 1057036,
         "Illinois": 7866738,
         "Indiana": 4193489,
         "Iowa": 2021620,
         "Kansas": 1809563,
         "Kentucky": 2738155,
         "Label": "    Income in the past 12 months at or above the poverty level",
         "Louisiana": 2793037,
         "Maine": 927804,
         "Maryland": 3852265,
         "Massachusetts": 4373639,
         "Michigan": 6402831,
         "Minnesota": 3653007,
         "Mississippi": 1782042,
         "Missouri": 3941840,
         "Montana": 698440,
         "Nebraska": 1204596,
         "Nevada": 1787898,
         "New Hampshire": 943539,
         "New Jersey": 5579466,
         "New Mexico": 1219630,
         "New York": 11906699,
         "North Carolina": 6394125,
         "North Dakota": 490154,
         "Ohio": 7534662,
         "Oklahoma": 2368552,
         "Oregon": 2645455,
         "Pennsylvania": 8380463,
         "Puerto Rico": 1539669,
         "Rhode Island": 681946,
         "South Carolina": 3200447,
         "South Dakota": 547487,
         "Tennessee": 4253791,
         "Texas": 15692504,
         "Utah": 1818457,
         "Vermont": 423939,
         "Virginia": 5380164,
         "Washington": 4666211,
         "West Virginia": 1149496,
         "Wisconsin": 3819644,
         "Wyoming": 374732,
         "_deepnote_index_column": 25
        },
        {
         "Alabama": 48452,
         "Alaska": 74048,
         "Arizona": 58252,
         "Arkansas": 45947,
         "California": 76088,
         "Colorado": 70478,
         "Connecticut": 75751,
         "Delaware": 63626,
         "District of Columbia": 82468,
         "Florida": 54216,
         "Georgia": 56809,
         "Hawaii": 79615,
         "Idaho": 52667,
         "Illinois": 64635,
         "Indiana": 54749,
         "Iowa": 59109,
         "Kansas": 57133,
         "Kentucky": 48525,
         "Label": "    Median Household Income for Households with a Citizen, Voting-Age Householder",
         "Louisiana": 46492,
         "Maine": 56463,
         "Maryland": 81860,
         "Massachusetts": 79512,
         "Michigan": 54952,
         "Minnesota": 69159,
         "Mississippi": 43608,
         "Missouri": 53819,
         "Montana": 53550,
         "Nebraska": 60769,
         "Nevada": 59639,
         "New Hampshire": 73871,
         "New Jersey": 81994,
         "New Mexico": 48122,
         "New York": 66515,
         "North Carolina": 53617,
         "North Dakota": 62222,
         "Ohio": 54185,
         "Oklahoma": 50384,
         "Oregon": 60883,
         "Pennsylvania": 59536,
         "Puerto Rico": 19382,
         "Rhode Island": 65645,
         "South Carolina": 50847,
         "South Dakota": 56950,
         "Tennessee": 51658,
         "Texas": 61765,
         "Utah": 70213,
         "Vermont": 57645,
         "Virginia": 71912,
         "Washington": 71580,
         "West Virginia": 43524,
         "Wisconsin": 59717,
         "Wyoming": 60867,
         "_deepnote_index_column": 26
        }
       ],
       "rows_top": [
        {
         "Alabama": 3688249,
         "Alaska": 531653,
         "Arizona": 4895706,
         "Arkansas": 2207894,
         "California": 25650455,
         "Colorado": 4057437,
         "Connecticut": 2611667,
         "Delaware": 709999,
         "District of Columbia": 510514,
         "Florida": 15014950,
         "Georgia": 7362615,
         "Hawaii": 1025548,
         "Idaho": 1219481,
         "Illinois": 9055927,
         "Indiana": 4899251,
         "Iowa": 2325355,
         "Kansas": 2091261,
         "Kentucky": 3350956,
         "Label": "Citizens 18 years and over",
         "Louisiana": 3469016,
         "Maine": 1064497,
         "Maryland": 4310864,
         "Massachusetts": 4993001,
         "Michigan": 7481928,
         "Minnesota": 4079652,
         "Mississippi": 2234722,
         "Missouri": 4606843,
         "Montana": 810760,
         "Nebraska": 1368000,
         "Nevada": 2031213,
         "New Hampshire": 1048883,
         "New Jersey": 6199409,
         "New Mexico": 1493318,
         "New York": 13866648,
         "North Carolina": 7509879,
         "North Dakota": 564475,
         "Ohio": 8830185,
         "Oklahoma": 2835451,
         "Oregon": 3060328,
         "Pennsylvania": 9764119,
         "Puerto Rico": 2636949,
         "Rhode Island": 792337,
         "South Carolina": 3799298,
         "South Dakota": 641666,
         "Tennessee": 5016103,
         "Texas": 18174345,
         "Utah": 2028176,
         "Vermont": 494550,
         "Virginia": 6145893,
         "Washington": 5259892,
         "West Virginia": 1428859,
         "Wisconsin": 4375063,
         "Wyoming": 428379,
         "_deepnote_index_column": 0
        },
        {
         "Alabama": 771482,
         "Alaska": 130346,
         "Arizona": 1067740,
         "Arkansas": 463969,
         "California": 6059901,
         "Colorado": 893000,
         "Connecticut": 521117,
         "Delaware": 141024,
         "District of Columbia": 142877,
         "Florida": 2834898,
         "Georgia": 1626370,
         "Hawaii": 212732,
         "Idaho": 262705,
         "Illinois": 1929120,
         "Indiana": 1043652,
         "Iowa": 490390,
         "Kansas": 464390,
         "Kentucky": 694326,
         "Label": "    18 to 29 years",
         "Louisiana": 756656,
         "Maine": 185480,
         "Maryland": 871222,
         "Massachusetts": 1067164,
         "Michigan": 1556537,
         "Minnesota": 821292,
         "Mississippi": 489327,
         "Missouri": 958226,
         "Montana": 161862,
         "Nebraska": 296847,
         "Nevada": 421348,
         "New Hampshire": 200800,
         "New Jersey": 1204348,
         "New Mexico": 324209,
         "New York": 3012070,
         "North Carolina": 1576345,
         "North Dakota": 139846,
         "Ohio": 1801486,
         "Oklahoma": 618434,
         "Oregon": 609579,
         "Pennsylvania": 1944387,
         "Puerto Rico": 537294,
         "Rhode Island": 175395,
         "South Carolina": 792807,
         "South Dakota": 135536,
         "Tennessee": 1045612,
         "Texas": 4292119,
         "Utah": 549078,
         "Vermont": 100951,
         "Virginia": 1297922,
         "Washington": 1103542,
         "West Virginia": 266495,
         "Wisconsin": 884238,
         "Wyoming": 88687,
         "_deepnote_index_column": 1
        },
        {
         "Alabama": 859001,
         "Alaska": 143427,
         "Arizona": 1133448,
         "Arkansas": 515699,
         "California": 6253003,
         "Colorado": 1069980,
         "Connecticut": 552179,
         "Delaware": 149325,
         "District of Columbia": 153101,
         "Florida": 3230159,
         "Georgia": 1822299,
         "Hawaii": 250088,
         "Idaho": 302786,
         "Illinois": 2158404,
         "Indiana": 1160228,
         "Iowa": 531754,
         "Kansas": 492678,
         "Kentucky": 792195,
         "Label": "    30 to 44 years",
         "Louisiana": 865139,
         "Maine": 223843,
         "Maryland": 1015979,
         "Massachusetts": 1113103,
         "Michigan": 1632889,
         "Minnesota": 993587,
         "Mississippi": 537540,
         "Missouri": 1079299,
         "Montana": 187346,
         "Nebraska": 330487,
         "Nevada": 494724,
         "New Hampshire": 219542,
         "New Jersey": 1374208,
         "New Mexico": 348711,
         "New York": 3181438,
         "North Carolina": 1734880,
         "North Dakota": 136826,
         "Ohio": 2018484,
         "Oklahoma": 696776,
         "Oregon": 746253,
         "Pennsylvania": 2156514,
         "Puerto Rico": 604955,
         "Rhode Island": 170789,
         "South Carolina": 866585,
         "South Dakota": 151061,
         "Tennessee": 1181407,
         "Texas": 4746164,
         "Utah": 576154,
         "Vermont": 101703,
         "Virginia": 1489845,
         "Washington": 1300519,
         "West Virginia": 316766,
         "Wisconsin": 1000545,
         "Wyoming": 105718,
         "_deepnote_index_column": 2
        },
        {
         "Alabama": 1260686,
         "Alaska": 177019,
         "Arizona": 1544874,
         "Arkansas": 736006,
         "California": 8296127,
         "Colorado": 1339310,
         "Connecticut": 956672,
         "Delaware": 248770,
         "District of Columbia": 133231,
         "Florida": 4960653,
         "Georgia": 2542345,
         "Hawaii": 323234,
         "Idaho": 395120,
         "Illinois": 3094624,
         "Indiana": 1679759,
         "Iowa": 782193,
         "Kansas": 691272,
         "Kentucky": 1159000,
         "Label": "    45 to 64 years",
         "Louisiana": 1155734,
         "Maine": 390899,
         "Maryland": 1549478,
         "Massachusetts": 1746639,
         "Michigan": 2653213,
         "Minnesota": 1418159,
         "Mississippi": 744143,
         "Missouri": 1567395,
         "Montana": 272370,
         "Nebraska": 449990,
         "Nevada": 678710,
         "New Hampshire": 395691,
         "New Jersey": 2273444,
         "New Mexico": 480328,
         "New York": 4701756,
         "North Carolina": 2590609,
         "North Dakota": 175498,
         "Ohio": 3084651,
         "Oklahoma": 926782,
         "Oregon": 1010146,
         "Pennsylvania": 3418193,
         "Puerto Rico": 841834,
         "Rhode Island": 274360,
         "South Carolina": 1281172,
         "South Dakota": 213580,
         "Tennessee": 1726133,
         "Texas": 5889232,
         "Utah": 574857,
         "Vermont": 175626,
         "Virginia": 2118564,
         "Washington": 1777254,
         "West Virginia": 496450,
         "Wisconsin": 1543713,
         "Wyoming": 144273,
         "_deepnote_index_column": 3
        },
        {
         "Alabama": 797080,
         "Alaska": 80861,
         "Arizona": 1149644,
         "Arkansas": 492220,
         "California": 5041424,
         "Colorado": 755147,
         "Connecticut": 581699,
         "Delaware": 170880,
         "District of Columbia": 81305,
         "Florida": 3989240,
         "Georgia": 1371601,
         "Hawaii": 239494,
         "Idaho": 258870,
         "Illinois": 1873779,
         "Indiana": 1015612,
         "Iowa": 521018,
         "Kansas": 442921,
         "Kentucky": 705435,
         "Label": "    65 years and over",
         "Louisiana": 691487,
         "Maine": 264275,
         "Maryland": 874185,
         "Massachusetts": 1066095,
         "Michigan": 1639289,
         "Minnesota": 846614,
         "Mississippi": 463712,
         "Missouri": 1001923,
         "Montana": 189182,
         "Nebraska": 290676,
         "Nevada": 436431,
         "New Hampshire": 232850,
         "New Jersey": 1347409,
         "New Mexico": 340070,
         "New York": 2971384,
         "North Carolina": 1608045,
         "North Dakota": 112305,
         "Ohio": 1925564,
         "Oklahoma": 593459,
         "Oregon": 694350,
         "Pennsylvania": 2245025,
         "Puerto Rico": 652866,
         "Rhode Island": 171793,
         "South Carolina": 858734,
         "South Dakota": 141489,
         "Tennessee": 1062951,
         "Texas": 3246830,
         "Utah": 328087,
         "Vermont": 116270,
         "Virginia": 1239562,
         "Washington": 1078577,
         "West Virginia": 349148,
         "Wisconsin": 946567,
         "Wyoming": 89701,
         "_deepnote_index_column": 4
        },
        {
         "Alabama": 1750050,
         "Alaska": 281264,
         "Arizona": 2412036,
         "Arkansas": 1065667,
         "California": 12596031,
         "Colorado": 2020660,
         "Connecticut": 1252709,
         "Delaware": 337892,
         "District of Columbia": 236100,
         "Florida": 7226269,
         "Georgia": 3500441,
         "Hawaii": 519972,
         "Idaho": 607218,
         "Illinois": 4382552,
         "Indiana": 2376335,
         "Iowa": 1140812,
         "Kansas": 1029480,
         "Kentucky": 1623917,
         "Label": "    Male",
         "Louisiana": 1660343,
         "Maine": 516252,
         "Maryland": 2047724,
         "Massachusetts": 2381937,
         "Michigan": 3636222,
         "Minnesota": 2012201,
         "Mississippi": 1059143,
         "Missouri": 2230438,
         "Montana": 406075,
         "Nebraska": 674445,
         "Nevada": 1012511,
         "New Hampshire": 514562,
         "New Jersey": 2974541,
         "New Mexico": 734610,
         "New York": 6598149,
         "North Carolina": 3581883,
         "North Dakota": 290593,
         "Ohio": 4259645,
         "Oklahoma": 1379695,
         "Oregon": 1498352,
         "Pennsylvania": 4711435,
         "Puerto Rico": 1226539,
         "Rhode Island": 376988,
         "South Carolina": 1807984,
         "South Dakota": 321542,
         "Tennessee": 2404125,
         "Texas": 8883274,
         "Utah": 1011388,
         "Vermont": 242302,
         "Virginia": 2991551,
         "Washington": 2602905,
         "West Virginia": 698909,
         "Wisconsin": 2154024,
         "Wyoming": 217735,
         "_deepnote_index_column": 5
        },
        {
         "Alabama": 1938199,
         "Alaska": 250389,
         "Arizona": 2483670,
         "Arkansas": 1142227,
         "California": 13054424,
         "Colorado": 2036777,
         "Connecticut": 1358958,
         "Delaware": 372107,
         "District of Columbia": 274414,
         "Florida": 7788681,
         "Georgia": 3862174,
         "Hawaii": 505576,
         "Idaho": 612263,
         "Illinois": 4673375,
         "Indiana": 2522916,
         "Iowa": 1184543,
         "Kansas": 1061781,
         "Kentucky": 1727039,
         "Label": "    Female",
         "Louisiana": 1808673,
         "Maine": 548245,
         "Maryland": 2263140,
         "Massachusetts": 2611064,
         "Michigan": 3845706,
         "Minnesota": 2067451,
         "Mississippi": 1175579,
         "Missouri": 2376405,
         "Montana": 404685,
         "Nebraska": 693555,
         "Nevada": 1018702,
         "New Hampshire": 534321,
         "New Jersey": 3224868,
         "New Mexico": 758708,
         "New York": 7268499,
         "North Carolina": 3927996,
         "North Dakota": 273882,
         "Ohio": 4570540,
         "Oklahoma": 1455756,
         "Oregon": 1561976,
         "Pennsylvania": 5052684,
         "Puerto Rico": 1410410,
         "Rhode Island": 415349,
         "South Carolina": 1991314,
         "South Dakota": 320124,
         "Tennessee": 2611978,
         "Texas": 9291071,
         "Utah": 1016788,
         "Vermont": 252248,
         "Virginia": 3154342,
         "Washington": 2656987,
         "West Virginia": 729950,
         "Wisconsin": 2221039,
         "Wyoming": 210644,
         "_deepnote_index_column": 6
        },
        {
         "Alabama": 2594550,
         "Alaska": 370547,
         "Arizona": 3970171,
         "Arkansas": 1767277,
         "California": 16248203,
         "Colorado": 3545964,
         "Connecticut": 2113264,
         "Delaware": 516740,
         "District of Columbia": 228792,
         "Florida": 11764013,
         "Georgia": 4548297,
         "Hawaii": 291754,
         "Idaho": 1130214,
         "Illinois": 6824401,
         "Indiana": 4259529,
         "Iowa": 2175640,
         "Kansas": 1836860,
         "Kentucky": 3000478,
         "Label": "    White alone",
         "Louisiana": 2239824,
         "Maine": 1024749,
         "Maryland": 2579484,
         "Massachusetts": 4204400,
         "Michigan": 6086448,
         "Minnesota": 3597864,
         "Mississippi": 1355236,
         "Missouri": 3910738,
         "Montana": 737173,
         "Nebraska": 1243234,
         "Nevada": 1420193,
         "New Hampshire": 999372,
         "New Jersey": 4508722,
         "New Mexico": 1156585,
         "New York": 9562259,
         "North Carolina": 5425243,
         "North Dakota": 509530,
         "Ohio": 7444964,
         "Oklahoma": 2152767,
         "Oregon": 2699526,
         "Pennsylvania": 8228591,
         "Puerto Rico": 1769053,
         "Rhode Island": 683726,
         "South Carolina": 2651463,
         "South Dakota": 568749,
         "Tennessee": 4035198,
         "Texas": 13862112,
         "Utah": 1832306,
         "Vermont": 475019,
         "Virginia": 4375044,
         "Washington": 4291509,
         "West Virginia": 1348070,
         "Wisconsin": 3893651,
         "Wyoming": 399806,
         "_deepnote_index_column": 7
        },
        {
         "Alabama": 977499,
         "Alaska": 15789,
         "Arizona": 213036,
         "Arkansas": 331784,
         "California": 1726398,
         "Colorado": 151670,
         "Connecticut": 258520,
         "Delaware": 153093,
         "District of Columbia": 240731,
         "Florida": 2263285,
         "Georgia": 2379072,
         "Hawaii": 19243,
         "Idaho": 6738,
         "Illinois": 1343504,
         "Indiana": 431452,
         "Iowa": 64671,
         "Kansas": 117724,
         "Kentucky": 256393,
         "Label": "    Black or African American alone",
         "Louisiana": 1100450,
         "Maine": 8249,
         "Maryland": 1310893,
         "Massachusetts": 328213,
         "Michigan": 1012292,
         "Minnesota": 193904,
         "Mississippi": 826757,
         "Missouri": 504446,
         "Montana": 0,
         "Nebraska": 57062,
         "Nevada": 195702,
         "New Hampshire": 13583,
         "New Jersey": 858691,
         "New Mexico": 32585,
         "New York": 2157160,
         "North Carolina": 1650467,
         "North Dakota": 11407,
         "Ohio": 1037355,
         "Oklahoma": 205987,
         "Oregon": 51657,
         "Pennsylvania": 1016974,
         "Puerto Rico": 315764,
         "Rhode Island": 42427,
         "South Carolina": 1014684,
         "South Dakota": 8111,
         "Tennessee": 822470,
         "Texas": 2415224,
         "Utah": 19564,
         "Vermont": 0,
         "Virginia": 1205957,
         "Washington": 182412,
         "West Virginia": 53859,
         "Wisconsin": 251384,
         "Wyoming": 0,
         "_deepnote_index_column": 8
        }
       ]
      },
      "text/html": [
       "<div>\n",
       "<style scoped>\n",
       "    .dataframe tbody tr th:only-of-type {\n",
       "        vertical-align: middle;\n",
       "    }\n",
       "\n",
       "    .dataframe tbody tr th {\n",
       "        vertical-align: top;\n",
       "    }\n",
       "\n",
       "    .dataframe thead th {\n",
       "        text-align: right;\n",
       "    }\n",
       "</style>\n",
       "<table border=\"1\" class=\"dataframe\">\n",
       "  <thead>\n",
       "    <tr style=\"text-align: right;\">\n",
       "      <th></th>\n",
       "      <th>Label</th>\n",
       "      <th>Alabama</th>\n",
       "      <th>Alaska</th>\n",
       "      <th>Arizona</th>\n",
       "      <th>Arkansas</th>\n",
       "      <th>California</th>\n",
       "      <th>Colorado</th>\n",
       "      <th>Connecticut</th>\n",
       "      <th>Delaware</th>\n",
       "      <th>District of Columbia</th>\n",
       "      <th>...</th>\n",
       "      <th>Tennessee</th>\n",
       "      <th>Texas</th>\n",
       "      <th>Utah</th>\n",
       "      <th>Vermont</th>\n",
       "      <th>Virginia</th>\n",
       "      <th>Washington</th>\n",
       "      <th>West Virginia</th>\n",
       "      <th>Wisconsin</th>\n",
       "      <th>Wyoming</th>\n",
       "      <th>Puerto Rico</th>\n",
       "    </tr>\n",
       "  </thead>\n",
       "  <tbody>\n",
       "    <tr>\n",
       "      <th>0</th>\n",
       "      <td>Citizens 18 years and over</td>\n",
       "      <td>3688249.0</td>\n",
       "      <td>531653.0</td>\n",
       "      <td>4895706.0</td>\n",
       "      <td>2207894.0</td>\n",
       "      <td>25650455.0</td>\n",
       "      <td>4057437.0</td>\n",
       "      <td>2611667.0</td>\n",
       "      <td>709999.0</td>\n",
       "      <td>510514.0</td>\n",
       "      <td>...</td>\n",
       "      <td>5016103.0</td>\n",
       "      <td>18174345.0</td>\n",
       "      <td>2028176.0</td>\n",
       "      <td>494550.0</td>\n",
       "      <td>6145893.0</td>\n",
       "      <td>5259892.0</td>\n",
       "      <td>1428859.0</td>\n",
       "      <td>4375063.0</td>\n",
       "      <td>428379.0</td>\n",
       "      <td>2636949.0</td>\n",
       "    </tr>\n",
       "    <tr>\n",
       "      <th>1</th>\n",
       "      <td>18 to 29 years</td>\n",
       "      <td>771482.0</td>\n",
       "      <td>130346.0</td>\n",
       "      <td>1067740.0</td>\n",
       "      <td>463969.0</td>\n",
       "      <td>6059901.0</td>\n",
       "      <td>893000.0</td>\n",
       "      <td>521117.0</td>\n",
       "      <td>141024.0</td>\n",
       "      <td>142877.0</td>\n",
       "      <td>...</td>\n",
       "      <td>1045612.0</td>\n",
       "      <td>4292119.0</td>\n",
       "      <td>549078.0</td>\n",
       "      <td>100951.0</td>\n",
       "      <td>1297922.0</td>\n",
       "      <td>1103542.0</td>\n",
       "      <td>266495.0</td>\n",
       "      <td>884238.0</td>\n",
       "      <td>88687.0</td>\n",
       "      <td>537294.0</td>\n",
       "    </tr>\n",
       "    <tr>\n",
       "      <th>2</th>\n",
       "      <td>30 to 44 years</td>\n",
       "      <td>859001.0</td>\n",
       "      <td>143427.0</td>\n",
       "      <td>1133448.0</td>\n",
       "      <td>515699.0</td>\n",
       "      <td>6253003.0</td>\n",
       "      <td>1069980.0</td>\n",
       "      <td>552179.0</td>\n",
       "      <td>149325.0</td>\n",
       "      <td>153101.0</td>\n",
       "      <td>...</td>\n",
       "      <td>1181407.0</td>\n",
       "      <td>4746164.0</td>\n",
       "      <td>576154.0</td>\n",
       "      <td>101703.0</td>\n",
       "      <td>1489845.0</td>\n",
       "      <td>1300519.0</td>\n",
       "      <td>316766.0</td>\n",
       "      <td>1000545.0</td>\n",
       "      <td>105718.0</td>\n",
       "      <td>604955.0</td>\n",
       "    </tr>\n",
       "    <tr>\n",
       "      <th>3</th>\n",
       "      <td>45 to 64 years</td>\n",
       "      <td>1260686.0</td>\n",
       "      <td>177019.0</td>\n",
       "      <td>1544874.0</td>\n",
       "      <td>736006.0</td>\n",
       "      <td>8296127.0</td>\n",
       "      <td>1339310.0</td>\n",
       "      <td>956672.0</td>\n",
       "      <td>248770.0</td>\n",
       "      <td>133231.0</td>\n",
       "      <td>...</td>\n",
       "      <td>1726133.0</td>\n",
       "      <td>5889232.0</td>\n",
       "      <td>574857.0</td>\n",
       "      <td>175626.0</td>\n",
       "      <td>2118564.0</td>\n",
       "      <td>1777254.0</td>\n",
       "      <td>496450.0</td>\n",
       "      <td>1543713.0</td>\n",
       "      <td>144273.0</td>\n",
       "      <td>841834.0</td>\n",
       "    </tr>\n",
       "    <tr>\n",
       "      <th>4</th>\n",
       "      <td>65 years and over</td>\n",
       "      <td>797080.0</td>\n",
       "      <td>80861.0</td>\n",
       "      <td>1149644.0</td>\n",
       "      <td>492220.0</td>\n",
       "      <td>5041424.0</td>\n",
       "      <td>755147.0</td>\n",
       "      <td>581699.0</td>\n",
       "      <td>170880.0</td>\n",
       "      <td>81305.0</td>\n",
       "      <td>...</td>\n",
       "      <td>1062951.0</td>\n",
       "      <td>3246830.0</td>\n",
       "      <td>328087.0</td>\n",
       "      <td>116270.0</td>\n",
       "      <td>1239562.0</td>\n",
       "      <td>1078577.0</td>\n",
       "      <td>349148.0</td>\n",
       "      <td>946567.0</td>\n",
       "      <td>89701.0</td>\n",
       "      <td>652866.0</td>\n",
       "    </tr>\n",
       "    <tr>\n",
       "      <th>5</th>\n",
       "      <td>Male</td>\n",
       "      <td>1750050.0</td>\n",
       "      <td>281264.0</td>\n",
       "      <td>2412036.0</td>\n",
       "      <td>1065667.0</td>\n",
       "      <td>12596031.0</td>\n",
       "      <td>2020660.0</td>\n",
       "      <td>1252709.0</td>\n",
       "      <td>337892.0</td>\n",
       "      <td>236100.0</td>\n",
       "      <td>...</td>\n",
       "      <td>2404125.0</td>\n",
       "      <td>8883274.0</td>\n",
       "      <td>1011388.0</td>\n",
       "      <td>242302.0</td>\n",
       "      <td>2991551.0</td>\n",
       "      <td>2602905.0</td>\n",
       "      <td>698909.0</td>\n",
       "      <td>2154024.0</td>\n",
       "      <td>217735.0</td>\n",
       "      <td>1226539.0</td>\n",
       "    </tr>\n",
       "    <tr>\n",
       "      <th>6</th>\n",
       "      <td>Female</td>\n",
       "      <td>1938199.0</td>\n",
       "      <td>250389.0</td>\n",
       "      <td>2483670.0</td>\n",
       "      <td>1142227.0</td>\n",
       "      <td>13054424.0</td>\n",
       "      <td>2036777.0</td>\n",
       "      <td>1358958.0</td>\n",
       "      <td>372107.0</td>\n",
       "      <td>274414.0</td>\n",
       "      <td>...</td>\n",
       "      <td>2611978.0</td>\n",
       "      <td>9291071.0</td>\n",
       "      <td>1016788.0</td>\n",
       "      <td>252248.0</td>\n",
       "      <td>3154342.0</td>\n",
       "      <td>2656987.0</td>\n",
       "      <td>729950.0</td>\n",
       "      <td>2221039.0</td>\n",
       "      <td>210644.0</td>\n",
       "      <td>1410410.0</td>\n",
       "    </tr>\n",
       "    <tr>\n",
       "      <th>7</th>\n",
       "      <td>White alone</td>\n",
       "      <td>2594550.0</td>\n",
       "      <td>370547.0</td>\n",
       "      <td>3970171.0</td>\n",
       "      <td>1767277.0</td>\n",
       "      <td>16248203.0</td>\n",
       "      <td>3545964.0</td>\n",
       "      <td>2113264.0</td>\n",
       "      <td>516740.0</td>\n",
       "      <td>228792.0</td>\n",
       "      <td>...</td>\n",
       "      <td>4035198.0</td>\n",
       "      <td>13862112.0</td>\n",
       "      <td>1832306.0</td>\n",
       "      <td>475019.0</td>\n",
       "      <td>4375044.0</td>\n",
       "      <td>4291509.0</td>\n",
       "      <td>1348070.0</td>\n",
       "      <td>3893651.0</td>\n",
       "      <td>399806.0</td>\n",
       "      <td>1769053.0</td>\n",
       "    </tr>\n",
       "    <tr>\n",
       "      <th>8</th>\n",
       "      <td>Black or African American alone</td>\n",
       "      <td>977499.0</td>\n",
       "      <td>15789.0</td>\n",
       "      <td>213036.0</td>\n",
       "      <td>331784.0</td>\n",
       "      <td>1726398.0</td>\n",
       "      <td>151670.0</td>\n",
       "      <td>258520.0</td>\n",
       "      <td>153093.0</td>\n",
       "      <td>240731.0</td>\n",
       "      <td>...</td>\n",
       "      <td>822470.0</td>\n",
       "      <td>2415224.0</td>\n",
       "      <td>19564.0</td>\n",
       "      <td>0.0</td>\n",
       "      <td>1205957.0</td>\n",
       "      <td>182412.0</td>\n",
       "      <td>53859.0</td>\n",
       "      <td>251384.0</td>\n",
       "      <td>0.0</td>\n",
       "      <td>315764.0</td>\n",
       "    </tr>\n",
       "    <tr>\n",
       "      <th>9</th>\n",
       "      <td>Asian alone</td>\n",
       "      <td>28616.0</td>\n",
       "      <td>23909.0</td>\n",
       "      <td>120530.0</td>\n",
       "      <td>18286.0</td>\n",
       "      <td>3539847.0</td>\n",
       "      <td>92829.0</td>\n",
       "      <td>80707.0</td>\n",
       "      <td>16924.0</td>\n",
       "      <td>16977.0</td>\n",
       "      <td>...</td>\n",
       "      <td>50095.0</td>\n",
       "      <td>680448.0</td>\n",
       "      <td>37511.0</td>\n",
       "      <td>3899.0</td>\n",
       "      <td>303091.0</td>\n",
       "      <td>346034.0</td>\n",
       "      <td>6454.0</td>\n",
       "      <td>74238.0</td>\n",
       "      <td>2286.0</td>\n",
       "      <td>0.0</td>\n",
       "    </tr>\n",
       "    <tr>\n",
       "      <th>10</th>\n",
       "      <td>Some Other Race alone</td>\n",
       "      <td>16650.0</td>\n",
       "      <td>8258.0</td>\n",
       "      <td>228065.0</td>\n",
       "      <td>29177.0</td>\n",
       "      <td>2782368.0</td>\n",
       "      <td>111264.0</td>\n",
       "      <td>92774.0</td>\n",
       "      <td>6812.0</td>\n",
       "      <td>9789.0</td>\n",
       "      <td>...</td>\n",
       "      <td>22956.0</td>\n",
       "      <td>739438.0</td>\n",
       "      <td>58071.0</td>\n",
       "      <td>0.0</td>\n",
       "      <td>79409.0</td>\n",
       "      <td>115127.0</td>\n",
       "      <td>5143.0</td>\n",
       "      <td>49275.0</td>\n",
       "      <td>5418.0</td>\n",
       "      <td>406548.0</td>\n",
       "    </tr>\n",
       "    <tr>\n",
       "      <th>11</th>\n",
       "      <td>Two or More Races</td>\n",
       "      <td>49143.0</td>\n",
       "      <td>0.0</td>\n",
       "      <td>132280.0</td>\n",
       "      <td>45202.0</td>\n",
       "      <td>1030586.0</td>\n",
       "      <td>106707.0</td>\n",
       "      <td>58845.0</td>\n",
       "      <td>13947.0</td>\n",
       "      <td>12528.0</td>\n",
       "      <td>...</td>\n",
       "      <td>68003.0</td>\n",
       "      <td>373015.0</td>\n",
       "      <td>42417.0</td>\n",
       "      <td>0.0</td>\n",
       "      <td>158698.0</td>\n",
       "      <td>229120.0</td>\n",
       "      <td>0.0</td>\n",
       "      <td>67873.0</td>\n",
       "      <td>0.0</td>\n",
       "      <td>135314.0</td>\n",
       "    </tr>\n",
       "    <tr>\n",
       "      <th>12</th>\n",
       "      <td>Hispanic or Latino</td>\n",
       "      <td>68370.0</td>\n",
       "      <td>31763.0</td>\n",
       "      <td>1144543.0</td>\n",
       "      <td>77412.0</td>\n",
       "      <td>7697731.0</td>\n",
       "      <td>636748.0</td>\n",
       "      <td>306204.0</td>\n",
       "      <td>35463.0</td>\n",
       "      <td>30518.0</td>\n",
       "      <td>...</td>\n",
       "      <td>115686.0</td>\n",
       "      <td>5424880.0</td>\n",
       "      <td>173279.0</td>\n",
       "      <td>7481.0</td>\n",
       "      <td>329257.0</td>\n",
       "      <td>386841.0</td>\n",
       "      <td>13029.0</td>\n",
       "      <td>181025.0</td>\n",
       "      <td>30257.0</td>\n",
       "      <td>2614220.0</td>\n",
       "    </tr>\n",
       "    <tr>\n",
       "      <th>13</th>\n",
       "      <td>White alone, Not Hispanic or Latino</td>\n",
       "      <td>2546071.0</td>\n",
       "      <td>354117.0</td>\n",
       "      <td>3134110.0</td>\n",
       "      <td>1722655.0</td>\n",
       "      <td>11844297.0</td>\n",
       "      <td>3071544.0</td>\n",
       "      <td>1929266.0</td>\n",
       "      <td>492429.0</td>\n",
       "      <td>212092.0</td>\n",
       "      <td>...</td>\n",
       "      <td>3947581.0</td>\n",
       "      <td>9359397.0</td>\n",
       "      <td>1727382.0</td>\n",
       "      <td>469318.0</td>\n",
       "      <td>4162850.0</td>\n",
       "      <td>4059595.0</td>\n",
       "      <td>1339279.0</td>\n",
       "      <td>3777795.0</td>\n",
       "      <td>378834.0</td>\n",
       "      <td>17055.0</td>\n",
       "    </tr>\n",
       "    <tr>\n",
       "      <th>14</th>\n",
       "      <td>Less than 9th grade</td>\n",
       "      <td>124759.0</td>\n",
       "      <td>11299.0</td>\n",
       "      <td>149657.0</td>\n",
       "      <td>74507.0</td>\n",
       "      <td>1161284.0</td>\n",
       "      <td>72590.0</td>\n",
       "      <td>70248.0</td>\n",
       "      <td>14710.0</td>\n",
       "      <td>10564.0</td>\n",
       "      <td>...</td>\n",
       "      <td>164816.0</td>\n",
       "      <td>739958.0</td>\n",
       "      <td>29537.0</td>\n",
       "      <td>8693.0</td>\n",
       "      <td>173381.0</td>\n",
       "      <td>98707.0</td>\n",
       "      <td>58626.0</td>\n",
       "      <td>84021.0</td>\n",
       "      <td>5795.0</td>\n",
       "      <td>367178.0</td>\n",
       "    </tr>\n",
       "    <tr>\n",
       "      <th>15</th>\n",
       "      <td>9th to 12th grade, no diploma</td>\n",
       "      <td>353270.0</td>\n",
       "      <td>33748.0</td>\n",
       "      <td>366504.0</td>\n",
       "      <td>194327.0</td>\n",
       "      <td>1679013.0</td>\n",
       "      <td>199065.0</td>\n",
       "      <td>147516.0</td>\n",
       "      <td>42684.0</td>\n",
       "      <td>29730.0</td>\n",
       "      <td>...</td>\n",
       "      <td>402405.0</td>\n",
       "      <td>1407769.0</td>\n",
       "      <td>105026.0</td>\n",
       "      <td>27966.0</td>\n",
       "      <td>375083.0</td>\n",
       "      <td>287490.0</td>\n",
       "      <td>125505.0</td>\n",
       "      <td>234818.0</td>\n",
       "      <td>25099.0</td>\n",
       "      <td>209280.0</td>\n",
       "    </tr>\n",
       "    <tr>\n",
       "      <th>16</th>\n",
       "      <td>High school graduate (includes equivalency)</td>\n",
       "      <td>1166142.0</td>\n",
       "      <td>155726.0</td>\n",
       "      <td>1240537.0</td>\n",
       "      <td>759329.0</td>\n",
       "      <td>5670820.0</td>\n",
       "      <td>909022.0</td>\n",
       "      <td>712306.0</td>\n",
       "      <td>235210.0</td>\n",
       "      <td>94071.0</td>\n",
       "      <td>...</td>\n",
       "      <td>1658467.0</td>\n",
       "      <td>4857035.0</td>\n",
       "      <td>476834.0</td>\n",
       "      <td>148019.0</td>\n",
       "      <td>1551973.0</td>\n",
       "      <td>1239383.0</td>\n",
       "      <td>587422.0</td>\n",
       "      <td>1364216.0</td>\n",
       "      <td>130748.0</td>\n",
       "      <td>737094.0</td>\n",
       "    </tr>\n",
       "    <tr>\n",
       "      <th>17</th>\n",
       "      <td>Some college, no degree</td>\n",
       "      <td>890675.0</td>\n",
       "      <td>149024.0</td>\n",
       "      <td>1367296.0</td>\n",
       "      <td>550519.0</td>\n",
       "      <td>6691008.0</td>\n",
       "      <td>972206.0</td>\n",
       "      <td>522940.0</td>\n",
       "      <td>156543.0</td>\n",
       "      <td>87962.0</td>\n",
       "      <td>...</td>\n",
       "      <td>1170961.0</td>\n",
       "      <td>4704577.0</td>\n",
       "      <td>596575.0</td>\n",
       "      <td>99460.0</td>\n",
       "      <td>1373466.0</td>\n",
       "      <td>1371644.0</td>\n",
       "      <td>295015.0</td>\n",
       "      <td>1008612.0</td>\n",
       "      <td>114923.0</td>\n",
       "      <td>428539.0</td>\n",
       "    </tr>\n",
       "    <tr>\n",
       "      <th>18</th>\n",
       "      <td>Associate's degree</td>\n",
       "      <td>297465.0</td>\n",
       "      <td>44460.0</td>\n",
       "      <td>423686.0</td>\n",
       "      <td>154087.0</td>\n",
       "      <td>2090277.0</td>\n",
       "      <td>323740.0</td>\n",
       "      <td>204650.0</td>\n",
       "      <td>54620.0</td>\n",
       "      <td>16621.0</td>\n",
       "      <td>...</td>\n",
       "      <td>351505.0</td>\n",
       "      <td>1365597.0</td>\n",
       "      <td>194774.0</td>\n",
       "      <td>39415.0</td>\n",
       "      <td>477831.0</td>\n",
       "      <td>542424.0</td>\n",
       "      <td>97224.0</td>\n",
       "      <td>460659.0</td>\n",
       "      <td>43431.0</td>\n",
       "      <td>271284.0</td>\n",
       "    </tr>\n",
       "    <tr>\n",
       "      <th>19</th>\n",
       "      <td>Bachelor's degree</td>\n",
       "      <td>547228.0</td>\n",
       "      <td>86875.0</td>\n",
       "      <td>859330.0</td>\n",
       "      <td>312213.0</td>\n",
       "      <td>5384750.0</td>\n",
       "      <td>1023500.0</td>\n",
       "      <td>553737.0</td>\n",
       "      <td>122665.0</td>\n",
       "      <td>123216.0</td>\n",
       "      <td>...</td>\n",
       "      <td>820830.0</td>\n",
       "      <td>3432877.0</td>\n",
       "      <td>419868.0</td>\n",
       "      <td>103924.0</td>\n",
       "      <td>1291327.0</td>\n",
       "      <td>1115632.0</td>\n",
       "      <td>164758.0</td>\n",
       "      <td>817388.0</td>\n",
       "      <td>68950.0</td>\n",
       "      <td>450155.0</td>\n",
       "    </tr>\n",
       "    <tr>\n",
       "      <th>20</th>\n",
       "      <td>Graduate or professional degree</td>\n",
       "      <td>308710.0</td>\n",
       "      <td>50521.0</td>\n",
       "      <td>488696.0</td>\n",
       "      <td>162912.0</td>\n",
       "      <td>2973303.0</td>\n",
       "      <td>557314.0</td>\n",
       "      <td>400270.0</td>\n",
       "      <td>83567.0</td>\n",
       "      <td>148350.0</td>\n",
       "      <td>...</td>\n",
       "      <td>447119.0</td>\n",
       "      <td>1666532.0</td>\n",
       "      <td>205562.0</td>\n",
       "      <td>67073.0</td>\n",
       "      <td>902832.0</td>\n",
       "      <td>604612.0</td>\n",
       "      <td>100309.0</td>\n",
       "      <td>405349.0</td>\n",
       "      <td>39433.0</td>\n",
       "      <td>173419.0</td>\n",
       "    </tr>\n",
       "    <tr>\n",
       "      <th>21</th>\n",
       "      <td>High school degree or higher</td>\n",
       "      <td>3210220.0</td>\n",
       "      <td>486606.0</td>\n",
       "      <td>4379545.0</td>\n",
       "      <td>1939060.0</td>\n",
       "      <td>22810158.0</td>\n",
       "      <td>3785782.0</td>\n",
       "      <td>2393903.0</td>\n",
       "      <td>652605.0</td>\n",
       "      <td>470220.0</td>\n",
       "      <td>...</td>\n",
       "      <td>4448882.0</td>\n",
       "      <td>16026618.0</td>\n",
       "      <td>1893613.0</td>\n",
       "      <td>457891.0</td>\n",
       "      <td>5597429.0</td>\n",
       "      <td>4873695.0</td>\n",
       "      <td>1244728.0</td>\n",
       "      <td>4056224.0</td>\n",
       "      <td>397485.0</td>\n",
       "      <td>2060491.0</td>\n",
       "    </tr>\n",
       "    <tr>\n",
       "      <th>22</th>\n",
       "      <td>Bachelor's degree or higher</td>\n",
       "      <td>855938.0</td>\n",
       "      <td>137396.0</td>\n",
       "      <td>1348026.0</td>\n",
       "      <td>475125.0</td>\n",
       "      <td>8358053.0</td>\n",
       "      <td>1580814.0</td>\n",
       "      <td>954007.0</td>\n",
       "      <td>206232.0</td>\n",
       "      <td>271566.0</td>\n",
       "      <td>...</td>\n",
       "      <td>1267949.0</td>\n",
       "      <td>5099409.0</td>\n",
       "      <td>625430.0</td>\n",
       "      <td>170997.0</td>\n",
       "      <td>2194159.0</td>\n",
       "      <td>1720244.0</td>\n",
       "      <td>265067.0</td>\n",
       "      <td>1222737.0</td>\n",
       "      <td>108383.0</td>\n",
       "      <td>623574.0</td>\n",
       "    </tr>\n",
       "    <tr>\n",
       "      <th>23</th>\n",
       "      <td>Total Citizens, 18 years and older, for wh...</td>\n",
       "      <td>3583677.0</td>\n",
       "      <td>517757.0</td>\n",
       "      <td>4777975.0</td>\n",
       "      <td>2133163.0</td>\n",
       "      <td>25094781.0</td>\n",
       "      <td>3957876.0</td>\n",
       "      <td>2517770.0</td>\n",
       "      <td>688470.0</td>\n",
       "      <td>480375.0</td>\n",
       "      <td>...</td>\n",
       "      <td>4882231.0</td>\n",
       "      <td>17666370.0</td>\n",
       "      <td>1992183.0</td>\n",
       "      <td>473424.0</td>\n",
       "      <td>5931547.0</td>\n",
       "      <td>5157278.0</td>\n",
       "      <td>1388251.0</td>\n",
       "      <td>4252681.0</td>\n",
       "      <td>417563.0</td>\n",
       "      <td>2610444.0</td>\n",
       "    </tr>\n",
       "    <tr>\n",
       "      <th>24</th>\n",
       "      <td>Income in the past 12 months below poverty...</td>\n",
       "      <td>511054.0</td>\n",
       "      <td>49159.0</td>\n",
       "      <td>576042.0</td>\n",
       "      <td>307498.0</td>\n",
       "      <td>2633646.0</td>\n",
       "      <td>369997.0</td>\n",
       "      <td>206126.0</td>\n",
       "      <td>80203.0</td>\n",
       "      <td>70289.0</td>\n",
       "      <td>...</td>\n",
       "      <td>628440.0</td>\n",
       "      <td>1973866.0</td>\n",
       "      <td>173726.0</td>\n",
       "      <td>49485.0</td>\n",
       "      <td>551383.0</td>\n",
       "      <td>491067.0</td>\n",
       "      <td>238755.0</td>\n",
       "      <td>433037.0</td>\n",
       "      <td>42831.0</td>\n",
       "      <td>1070775.0</td>\n",
       "    </tr>\n",
       "    <tr>\n",
       "      <th>25</th>\n",
       "      <td>Income in the past 12 months at or above t...</td>\n",
       "      <td>3072623.0</td>\n",
       "      <td>468598.0</td>\n",
       "      <td>4201933.0</td>\n",
       "      <td>1825665.0</td>\n",
       "      <td>22461135.0</td>\n",
       "      <td>3587879.0</td>\n",
       "      <td>2311644.0</td>\n",
       "      <td>608267.0</td>\n",
       "      <td>410086.0</td>\n",
       "      <td>...</td>\n",
       "      <td>4253791.0</td>\n",
       "      <td>15692504.0</td>\n",
       "      <td>1818457.0</td>\n",
       "      <td>423939.0</td>\n",
       "      <td>5380164.0</td>\n",
       "      <td>4666211.0</td>\n",
       "      <td>1149496.0</td>\n",
       "      <td>3819644.0</td>\n",
       "      <td>374732.0</td>\n",
       "      <td>1539669.0</td>\n",
       "    </tr>\n",
       "    <tr>\n",
       "      <th>26</th>\n",
       "      <td>Median Household Income for Households wit...</td>\n",
       "      <td>48452.0</td>\n",
       "      <td>74048.0</td>\n",
       "      <td>58252.0</td>\n",
       "      <td>45947.0</td>\n",
       "      <td>76088.0</td>\n",
       "      <td>70478.0</td>\n",
       "      <td>75751.0</td>\n",
       "      <td>63626.0</td>\n",
       "      <td>82468.0</td>\n",
       "      <td>...</td>\n",
       "      <td>51658.0</td>\n",
       "      <td>61765.0</td>\n",
       "      <td>70213.0</td>\n",
       "      <td>57645.0</td>\n",
       "      <td>71912.0</td>\n",
       "      <td>71580.0</td>\n",
       "      <td>43524.0</td>\n",
       "      <td>59717.0</td>\n",
       "      <td>60867.0</td>\n",
       "      <td>19382.0</td>\n",
       "    </tr>\n",
       "  </tbody>\n",
       "</table>\n",
       "<p>27 rows × 53 columns</p>\n",
       "</div>"
      ],
      "text/plain": [
       "                                                Label    Alabama    Alaska  \\\n",
       "0                          Citizens 18 years and over  3688249.0  531653.0   \n",
       "1                                      18 to 29 years   771482.0  130346.0   \n",
       "2                                      30 to 44 years   859001.0  143427.0   \n",
       "3                                      45 to 64 years  1260686.0  177019.0   \n",
       "4                                   65 years and over   797080.0   80861.0   \n",
       "5                                                Male  1750050.0  281264.0   \n",
       "6                                              Female  1938199.0  250389.0   \n",
       "7                                         White alone  2594550.0  370547.0   \n",
       "8                     Black or African American alone   977499.0   15789.0   \n",
       "9                                         Asian alone    28616.0   23909.0   \n",
       "10                              Some Other Race alone    16650.0    8258.0   \n",
       "11                                  Two or More Races    49143.0       0.0   \n",
       "12                                 Hispanic or Latino    68370.0   31763.0   \n",
       "13                White alone, Not Hispanic or Latino  2546071.0  354117.0   \n",
       "14                                Less than 9th grade   124759.0   11299.0   \n",
       "15                      9th to 12th grade, no diploma   353270.0   33748.0   \n",
       "16        High school graduate (includes equivalency)  1166142.0  155726.0   \n",
       "17                            Some college, no degree   890675.0  149024.0   \n",
       "18                                 Associate's degree   297465.0   44460.0   \n",
       "19                                  Bachelor's degree   547228.0   86875.0   \n",
       "20                    Graduate or professional degree   308710.0   50521.0   \n",
       "21                       High school degree or higher  3210220.0  486606.0   \n",
       "22                        Bachelor's degree or higher   855938.0  137396.0   \n",
       "23      Total Citizens, 18 years and older, for wh...  3583677.0  517757.0   \n",
       "24      Income in the past 12 months below poverty...   511054.0   49159.0   \n",
       "25      Income in the past 12 months at or above t...  3072623.0  468598.0   \n",
       "26      Median Household Income for Households wit...    48452.0   74048.0   \n",
       "\n",
       "      Arizona   Arkansas  California   Colorado  Connecticut  Delaware  \\\n",
       "0   4895706.0  2207894.0  25650455.0  4057437.0    2611667.0  709999.0   \n",
       "1   1067740.0   463969.0   6059901.0   893000.0     521117.0  141024.0   \n",
       "2   1133448.0   515699.0   6253003.0  1069980.0     552179.0  149325.0   \n",
       "3   1544874.0   736006.0   8296127.0  1339310.0     956672.0  248770.0   \n",
       "4   1149644.0   492220.0   5041424.0   755147.0     581699.0  170880.0   \n",
       "5   2412036.0  1065667.0  12596031.0  2020660.0    1252709.0  337892.0   \n",
       "6   2483670.0  1142227.0  13054424.0  2036777.0    1358958.0  372107.0   \n",
       "7   3970171.0  1767277.0  16248203.0  3545964.0    2113264.0  516740.0   \n",
       "8    213036.0   331784.0   1726398.0   151670.0     258520.0  153093.0   \n",
       "9    120530.0    18286.0   3539847.0    92829.0      80707.0   16924.0   \n",
       "10   228065.0    29177.0   2782368.0   111264.0      92774.0    6812.0   \n",
       "11   132280.0    45202.0   1030586.0   106707.0      58845.0   13947.0   \n",
       "12  1144543.0    77412.0   7697731.0   636748.0     306204.0   35463.0   \n",
       "13  3134110.0  1722655.0  11844297.0  3071544.0    1929266.0  492429.0   \n",
       "14   149657.0    74507.0   1161284.0    72590.0      70248.0   14710.0   \n",
       "15   366504.0   194327.0   1679013.0   199065.0     147516.0   42684.0   \n",
       "16  1240537.0   759329.0   5670820.0   909022.0     712306.0  235210.0   \n",
       "17  1367296.0   550519.0   6691008.0   972206.0     522940.0  156543.0   \n",
       "18   423686.0   154087.0   2090277.0   323740.0     204650.0   54620.0   \n",
       "19   859330.0   312213.0   5384750.0  1023500.0     553737.0  122665.0   \n",
       "20   488696.0   162912.0   2973303.0   557314.0     400270.0   83567.0   \n",
       "21  4379545.0  1939060.0  22810158.0  3785782.0    2393903.0  652605.0   \n",
       "22  1348026.0   475125.0   8358053.0  1580814.0     954007.0  206232.0   \n",
       "23  4777975.0  2133163.0  25094781.0  3957876.0    2517770.0  688470.0   \n",
       "24   576042.0   307498.0   2633646.0   369997.0     206126.0   80203.0   \n",
       "25  4201933.0  1825665.0  22461135.0  3587879.0    2311644.0  608267.0   \n",
       "26    58252.0    45947.0     76088.0    70478.0      75751.0   63626.0   \n",
       "\n",
       "    District of Columbia  ...  Tennessee       Texas       Utah   Vermont  \\\n",
       "0               510514.0  ...  5016103.0  18174345.0  2028176.0  494550.0   \n",
       "1               142877.0  ...  1045612.0   4292119.0   549078.0  100951.0   \n",
       "2               153101.0  ...  1181407.0   4746164.0   576154.0  101703.0   \n",
       "3               133231.0  ...  1726133.0   5889232.0   574857.0  175626.0   \n",
       "4                81305.0  ...  1062951.0   3246830.0   328087.0  116270.0   \n",
       "5               236100.0  ...  2404125.0   8883274.0  1011388.0  242302.0   \n",
       "6               274414.0  ...  2611978.0   9291071.0  1016788.0  252248.0   \n",
       "7               228792.0  ...  4035198.0  13862112.0  1832306.0  475019.0   \n",
       "8               240731.0  ...   822470.0   2415224.0    19564.0       0.0   \n",
       "9                16977.0  ...    50095.0    680448.0    37511.0    3899.0   \n",
       "10                9789.0  ...    22956.0    739438.0    58071.0       0.0   \n",
       "11               12528.0  ...    68003.0    373015.0    42417.0       0.0   \n",
       "12               30518.0  ...   115686.0   5424880.0   173279.0    7481.0   \n",
       "13              212092.0  ...  3947581.0   9359397.0  1727382.0  469318.0   \n",
       "14               10564.0  ...   164816.0    739958.0    29537.0    8693.0   \n",
       "15               29730.0  ...   402405.0   1407769.0   105026.0   27966.0   \n",
       "16               94071.0  ...  1658467.0   4857035.0   476834.0  148019.0   \n",
       "17               87962.0  ...  1170961.0   4704577.0   596575.0   99460.0   \n",
       "18               16621.0  ...   351505.0   1365597.0   194774.0   39415.0   \n",
       "19              123216.0  ...   820830.0   3432877.0   419868.0  103924.0   \n",
       "20              148350.0  ...   447119.0   1666532.0   205562.0   67073.0   \n",
       "21              470220.0  ...  4448882.0  16026618.0  1893613.0  457891.0   \n",
       "22              271566.0  ...  1267949.0   5099409.0   625430.0  170997.0   \n",
       "23              480375.0  ...  4882231.0  17666370.0  1992183.0  473424.0   \n",
       "24               70289.0  ...   628440.0   1973866.0   173726.0   49485.0   \n",
       "25              410086.0  ...  4253791.0  15692504.0  1818457.0  423939.0   \n",
       "26               82468.0  ...    51658.0     61765.0    70213.0   57645.0   \n",
       "\n",
       "     Virginia  Washington  West Virginia  Wisconsin   Wyoming  Puerto Rico  \n",
       "0   6145893.0   5259892.0      1428859.0  4375063.0  428379.0    2636949.0  \n",
       "1   1297922.0   1103542.0       266495.0   884238.0   88687.0     537294.0  \n",
       "2   1489845.0   1300519.0       316766.0  1000545.0  105718.0     604955.0  \n",
       "3   2118564.0   1777254.0       496450.0  1543713.0  144273.0     841834.0  \n",
       "4   1239562.0   1078577.0       349148.0   946567.0   89701.0     652866.0  \n",
       "5   2991551.0   2602905.0       698909.0  2154024.0  217735.0    1226539.0  \n",
       "6   3154342.0   2656987.0       729950.0  2221039.0  210644.0    1410410.0  \n",
       "7   4375044.0   4291509.0      1348070.0  3893651.0  399806.0    1769053.0  \n",
       "8   1205957.0    182412.0        53859.0   251384.0       0.0     315764.0  \n",
       "9    303091.0    346034.0         6454.0    74238.0    2286.0          0.0  \n",
       "10    79409.0    115127.0         5143.0    49275.0    5418.0     406548.0  \n",
       "11   158698.0    229120.0            0.0    67873.0       0.0     135314.0  \n",
       "12   329257.0    386841.0        13029.0   181025.0   30257.0    2614220.0  \n",
       "13  4162850.0   4059595.0      1339279.0  3777795.0  378834.0      17055.0  \n",
       "14   173381.0     98707.0        58626.0    84021.0    5795.0     367178.0  \n",
       "15   375083.0    287490.0       125505.0   234818.0   25099.0     209280.0  \n",
       "16  1551973.0   1239383.0       587422.0  1364216.0  130748.0     737094.0  \n",
       "17  1373466.0   1371644.0       295015.0  1008612.0  114923.0     428539.0  \n",
       "18   477831.0    542424.0        97224.0   460659.0   43431.0     271284.0  \n",
       "19  1291327.0   1115632.0       164758.0   817388.0   68950.0     450155.0  \n",
       "20   902832.0    604612.0       100309.0   405349.0   39433.0     173419.0  \n",
       "21  5597429.0   4873695.0      1244728.0  4056224.0  397485.0    2060491.0  \n",
       "22  2194159.0   1720244.0       265067.0  1222737.0  108383.0     623574.0  \n",
       "23  5931547.0   5157278.0      1388251.0  4252681.0  417563.0    2610444.0  \n",
       "24   551383.0    491067.0       238755.0   433037.0   42831.0    1070775.0  \n",
       "25  5380164.0   4666211.0      1149496.0  3819644.0  374732.0    1539669.0  \n",
       "26    71912.0     71580.0        43524.0    59717.0   60867.0      19382.0  \n",
       "\n",
       "[27 rows x 53 columns]"
      ]
     },
     "execution_count": 290,
     "metadata": {},
     "output_type": "execute_result"
    }
   ],
   "source": [
    "condensed = pd.DataFrame()\n",
    "condensed[data.columns[0]] = data.iloc[:, 0]\n",
    "for i in np.arange(1, len(data.axes[1]), 4):\n",
    "    col = data.iloc[:, i].astype(str).str.replace('\\D+', '').apply(p2f)\n",
    "    condensed[data.columns[i]] = col\n",
    "condensed = condensed[condensed[\"Alabama!!Total!!Estimate\"] > 0]\n",
    "new_col = condensed.columns.to_list()\n",
    "normal_names = [normify(item) for item in new_col]\n",
    "condensed.columns = normal_names\n",
    "condensed.index = np.arange(27)\n",
    "condensed"
   ]
  },
  {
   "cell_type": "code",
   "execution_count": 291,
   "metadata": {
    "cell_id": "00004-ac40d7b2-5f81-48dc-b94e-717442888500",
    "execution_millis": 27,
    "execution_start": 1605404659549,
    "output_cleared": false,
    "source_hash": "d12ed9e0",
    "tags": []
   },
   "outputs": [
    {
     "data": {
      "application/vnd.deepnote.dataframe.v2+json": {
       "column_count": 2,
       "columns": [
        {
         "dtype": "object",
         "name": "Label",
         "stats": {
          "categories": [
           {
            "count": 1,
            "name": "Alabama"
           },
           {
            "count": 1,
            "name": "Alaska"
           },
           {
            "count": 50,
            "name": "50 others"
           }
          ],
          "nan_count": 0,
          "unique_count": 52
         }
        },
        {
         "dtype": "float64",
         "name": "Voting Population",
         "stats": {
          "histogram": [
           {
            "bin_end": 2950586.6,
            "bin_start": 428379,
            "count": 25
           },
           {
            "bin_end": 5472794.2,
            "bin_start": 2950586.6,
            "count": 15
           },
           {
            "bin_end": 7995001.800000001,
            "bin_start": 5472794.2,
            "count": 5
           },
           {
            "bin_end": 10517209.4,
            "bin_start": 7995001.800000001,
            "count": 3
           },
           {
            "bin_end": 13039417,
            "bin_start": 10517209.4,
            "count": 0
           },
           {
            "bin_end": 15561624.600000001,
            "bin_start": 13039417,
            "count": 2
           },
           {
            "bin_end": 18083832.2,
            "bin_start": 15561624.600000001,
            "count": 0
           },
           {
            "bin_end": 20606039.8,
            "bin_start": 18083832.2,
            "count": 1
           },
           {
            "bin_end": 23128247.400000002,
            "bin_start": 20606039.8,
            "count": 0
           },
           {
            "bin_end": 25650455,
            "bin_start": 23128247.400000002,
            "count": 1
           }
          ],
          "max": 25650455,
          "min": 428379,
          "nan_count": 0,
          "unique_count": 52
         }
        },
        {
         "dtype": "int64",
         "name": "_deepnote_index_column"
        }
       ],
       "row_count": 52,
       "rows_bottom": null,
       "rows_top": [
        {
         "Label": "Alabama",
         "Voting Population": 3688249,
         "_deepnote_index_column": 0
        },
        {
         "Label": "Alaska",
         "Voting Population": 531653,
         "_deepnote_index_column": 1
        },
        {
         "Label": "Arizona",
         "Voting Population": 4895706,
         "_deepnote_index_column": 2
        },
        {
         "Label": "Arkansas",
         "Voting Population": 2207894,
         "_deepnote_index_column": 3
        },
        {
         "Label": "California",
         "Voting Population": 25650455,
         "_deepnote_index_column": 4
        },
        {
         "Label": "Colorado",
         "Voting Population": 4057437,
         "_deepnote_index_column": 5
        },
        {
         "Label": "Connecticut",
         "Voting Population": 2611667,
         "_deepnote_index_column": 6
        },
        {
         "Label": "Delaware",
         "Voting Population": 709999,
         "_deepnote_index_column": 7
        },
        {
         "Label": "District of Columbia",
         "Voting Population": 510514,
         "_deepnote_index_column": 8
        },
        {
         "Label": "Florida",
         "Voting Population": 15014950,
         "_deepnote_index_column": 9
        },
        {
         "Label": "Georgia",
         "Voting Population": 7362615,
         "_deepnote_index_column": 10
        },
        {
         "Label": "Hawaii",
         "Voting Population": 1025548,
         "_deepnote_index_column": 11
        },
        {
         "Label": "Idaho",
         "Voting Population": 1219481,
         "_deepnote_index_column": 12
        },
        {
         "Label": "Illinois",
         "Voting Population": 9055927,
         "_deepnote_index_column": 13
        },
        {
         "Label": "Indiana",
         "Voting Population": 4899251,
         "_deepnote_index_column": 14
        },
        {
         "Label": "Iowa",
         "Voting Population": 2325355,
         "_deepnote_index_column": 15
        },
        {
         "Label": "Kansas",
         "Voting Population": 2091261,
         "_deepnote_index_column": 16
        },
        {
         "Label": "Kentucky",
         "Voting Population": 3350956,
         "_deepnote_index_column": 17
        },
        {
         "Label": "Louisiana",
         "Voting Population": 3469016,
         "_deepnote_index_column": 18
        },
        {
         "Label": "Maine",
         "Voting Population": 1064497,
         "_deepnote_index_column": 19
        },
        {
         "Label": "Maryland",
         "Voting Population": 4310864,
         "_deepnote_index_column": 20
        },
        {
         "Label": "Massachusetts",
         "Voting Population": 4993001,
         "_deepnote_index_column": 21
        },
        {
         "Label": "Michigan",
         "Voting Population": 7481928,
         "_deepnote_index_column": 22
        },
        {
         "Label": "Minnesota",
         "Voting Population": 4079652,
         "_deepnote_index_column": 23
        },
        {
         "Label": "Mississippi",
         "Voting Population": 2234722,
         "_deepnote_index_column": 24
        },
        {
         "Label": "Missouri",
         "Voting Population": 4606843,
         "_deepnote_index_column": 25
        },
        {
         "Label": "Montana",
         "Voting Population": 810760,
         "_deepnote_index_column": 26
        },
        {
         "Label": "Nebraska",
         "Voting Population": 1368000,
         "_deepnote_index_column": 27
        },
        {
         "Label": "Nevada",
         "Voting Population": 2031213,
         "_deepnote_index_column": 28
        },
        {
         "Label": "New Hampshire",
         "Voting Population": 1048883,
         "_deepnote_index_column": 29
        },
        {
         "Label": "New Jersey",
         "Voting Population": 6199409,
         "_deepnote_index_column": 30
        },
        {
         "Label": "New Mexico",
         "Voting Population": 1493318,
         "_deepnote_index_column": 31
        },
        {
         "Label": "New York",
         "Voting Population": 13866648,
         "_deepnote_index_column": 32
        },
        {
         "Label": "North Carolina",
         "Voting Population": 7509879,
         "_deepnote_index_column": 33
        },
        {
         "Label": "North Dakota",
         "Voting Population": 564475,
         "_deepnote_index_column": 34
        },
        {
         "Label": "Ohio",
         "Voting Population": 8830185,
         "_deepnote_index_column": 35
        },
        {
         "Label": "Oklahoma",
         "Voting Population": 2835451,
         "_deepnote_index_column": 36
        },
        {
         "Label": "Oregon",
         "Voting Population": 3060328,
         "_deepnote_index_column": 37
        },
        {
         "Label": "Pennsylvania",
         "Voting Population": 9764119,
         "_deepnote_index_column": 38
        },
        {
         "Label": "Rhode Island",
         "Voting Population": 792337,
         "_deepnote_index_column": 39
        },
        {
         "Label": "South Carolina",
         "Voting Population": 3799298,
         "_deepnote_index_column": 40
        },
        {
         "Label": "South Dakota",
         "Voting Population": 641666,
         "_deepnote_index_column": 41
        },
        {
         "Label": "Tennessee",
         "Voting Population": 5016103,
         "_deepnote_index_column": 42
        },
        {
         "Label": "Texas",
         "Voting Population": 18174345,
         "_deepnote_index_column": 43
        },
        {
         "Label": "Utah",
         "Voting Population": 2028176,
         "_deepnote_index_column": 44
        },
        {
         "Label": "Vermont",
         "Voting Population": 494550,
         "_deepnote_index_column": 45
        },
        {
         "Label": "Virginia",
         "Voting Population": 6145893,
         "_deepnote_index_column": 46
        },
        {
         "Label": "Washington",
         "Voting Population": 5259892,
         "_deepnote_index_column": 47
        },
        {
         "Label": "West Virginia",
         "Voting Population": 1428859,
         "_deepnote_index_column": 48
        },
        {
         "Label": "Wisconsin",
         "Voting Population": 4375063,
         "_deepnote_index_column": 49
        },
        {
         "Label": "Wyoming",
         "Voting Population": 428379,
         "_deepnote_index_column": 50
        },
        {
         "Label": "Puerto Rico",
         "Voting Population": 2636949,
         "_deepnote_index_column": 51
        }
       ]
      },
      "text/html": [
       "<div>\n",
       "<style scoped>\n",
       "    .dataframe tbody tr th:only-of-type {\n",
       "        vertical-align: middle;\n",
       "    }\n",
       "\n",
       "    .dataframe tbody tr th {\n",
       "        vertical-align: top;\n",
       "    }\n",
       "\n",
       "    .dataframe thead th {\n",
       "        text-align: right;\n",
       "    }\n",
       "</style>\n",
       "<table border=\"1\" class=\"dataframe\">\n",
       "  <thead>\n",
       "    <tr style=\"text-align: right;\">\n",
       "      <th></th>\n",
       "      <th>Label</th>\n",
       "      <th>Voting Population</th>\n",
       "    </tr>\n",
       "  </thead>\n",
       "  <tbody>\n",
       "    <tr>\n",
       "      <th>0</th>\n",
       "      <td>Alabama</td>\n",
       "      <td>3688249.0</td>\n",
       "    </tr>\n",
       "    <tr>\n",
       "      <th>1</th>\n",
       "      <td>Alaska</td>\n",
       "      <td>531653.0</td>\n",
       "    </tr>\n",
       "    <tr>\n",
       "      <th>2</th>\n",
       "      <td>Arizona</td>\n",
       "      <td>4895706.0</td>\n",
       "    </tr>\n",
       "    <tr>\n",
       "      <th>3</th>\n",
       "      <td>Arkansas</td>\n",
       "      <td>2207894.0</td>\n",
       "    </tr>\n",
       "    <tr>\n",
       "      <th>4</th>\n",
       "      <td>California</td>\n",
       "      <td>25650455.0</td>\n",
       "    </tr>\n",
       "    <tr>\n",
       "      <th>5</th>\n",
       "      <td>Colorado</td>\n",
       "      <td>4057437.0</td>\n",
       "    </tr>\n",
       "    <tr>\n",
       "      <th>6</th>\n",
       "      <td>Connecticut</td>\n",
       "      <td>2611667.0</td>\n",
       "    </tr>\n",
       "    <tr>\n",
       "      <th>7</th>\n",
       "      <td>Delaware</td>\n",
       "      <td>709999.0</td>\n",
       "    </tr>\n",
       "    <tr>\n",
       "      <th>8</th>\n",
       "      <td>District of Columbia</td>\n",
       "      <td>510514.0</td>\n",
       "    </tr>\n",
       "    <tr>\n",
       "      <th>9</th>\n",
       "      <td>Florida</td>\n",
       "      <td>15014950.0</td>\n",
       "    </tr>\n",
       "    <tr>\n",
       "      <th>10</th>\n",
       "      <td>Georgia</td>\n",
       "      <td>7362615.0</td>\n",
       "    </tr>\n",
       "    <tr>\n",
       "      <th>11</th>\n",
       "      <td>Hawaii</td>\n",
       "      <td>1025548.0</td>\n",
       "    </tr>\n",
       "    <tr>\n",
       "      <th>12</th>\n",
       "      <td>Idaho</td>\n",
       "      <td>1219481.0</td>\n",
       "    </tr>\n",
       "    <tr>\n",
       "      <th>13</th>\n",
       "      <td>Illinois</td>\n",
       "      <td>9055927.0</td>\n",
       "    </tr>\n",
       "    <tr>\n",
       "      <th>14</th>\n",
       "      <td>Indiana</td>\n",
       "      <td>4899251.0</td>\n",
       "    </tr>\n",
       "    <tr>\n",
       "      <th>15</th>\n",
       "      <td>Iowa</td>\n",
       "      <td>2325355.0</td>\n",
       "    </tr>\n",
       "    <tr>\n",
       "      <th>16</th>\n",
       "      <td>Kansas</td>\n",
       "      <td>2091261.0</td>\n",
       "    </tr>\n",
       "    <tr>\n",
       "      <th>17</th>\n",
       "      <td>Kentucky</td>\n",
       "      <td>3350956.0</td>\n",
       "    </tr>\n",
       "    <tr>\n",
       "      <th>18</th>\n",
       "      <td>Louisiana</td>\n",
       "      <td>3469016.0</td>\n",
       "    </tr>\n",
       "    <tr>\n",
       "      <th>19</th>\n",
       "      <td>Maine</td>\n",
       "      <td>1064497.0</td>\n",
       "    </tr>\n",
       "    <tr>\n",
       "      <th>20</th>\n",
       "      <td>Maryland</td>\n",
       "      <td>4310864.0</td>\n",
       "    </tr>\n",
       "    <tr>\n",
       "      <th>21</th>\n",
       "      <td>Massachusetts</td>\n",
       "      <td>4993001.0</td>\n",
       "    </tr>\n",
       "    <tr>\n",
       "      <th>22</th>\n",
       "      <td>Michigan</td>\n",
       "      <td>7481928.0</td>\n",
       "    </tr>\n",
       "    <tr>\n",
       "      <th>23</th>\n",
       "      <td>Minnesota</td>\n",
       "      <td>4079652.0</td>\n",
       "    </tr>\n",
       "    <tr>\n",
       "      <th>24</th>\n",
       "      <td>Mississippi</td>\n",
       "      <td>2234722.0</td>\n",
       "    </tr>\n",
       "    <tr>\n",
       "      <th>25</th>\n",
       "      <td>Missouri</td>\n",
       "      <td>4606843.0</td>\n",
       "    </tr>\n",
       "    <tr>\n",
       "      <th>26</th>\n",
       "      <td>Montana</td>\n",
       "      <td>810760.0</td>\n",
       "    </tr>\n",
       "    <tr>\n",
       "      <th>27</th>\n",
       "      <td>Nebraska</td>\n",
       "      <td>1368000.0</td>\n",
       "    </tr>\n",
       "    <tr>\n",
       "      <th>28</th>\n",
       "      <td>Nevada</td>\n",
       "      <td>2031213.0</td>\n",
       "    </tr>\n",
       "    <tr>\n",
       "      <th>29</th>\n",
       "      <td>New Hampshire</td>\n",
       "      <td>1048883.0</td>\n",
       "    </tr>\n",
       "    <tr>\n",
       "      <th>30</th>\n",
       "      <td>New Jersey</td>\n",
       "      <td>6199409.0</td>\n",
       "    </tr>\n",
       "    <tr>\n",
       "      <th>31</th>\n",
       "      <td>New Mexico</td>\n",
       "      <td>1493318.0</td>\n",
       "    </tr>\n",
       "    <tr>\n",
       "      <th>32</th>\n",
       "      <td>New York</td>\n",
       "      <td>13866648.0</td>\n",
       "    </tr>\n",
       "    <tr>\n",
       "      <th>33</th>\n",
       "      <td>North Carolina</td>\n",
       "      <td>7509879.0</td>\n",
       "    </tr>\n",
       "    <tr>\n",
       "      <th>34</th>\n",
       "      <td>North Dakota</td>\n",
       "      <td>564475.0</td>\n",
       "    </tr>\n",
       "    <tr>\n",
       "      <th>35</th>\n",
       "      <td>Ohio</td>\n",
       "      <td>8830185.0</td>\n",
       "    </tr>\n",
       "    <tr>\n",
       "      <th>36</th>\n",
       "      <td>Oklahoma</td>\n",
       "      <td>2835451.0</td>\n",
       "    </tr>\n",
       "    <tr>\n",
       "      <th>37</th>\n",
       "      <td>Oregon</td>\n",
       "      <td>3060328.0</td>\n",
       "    </tr>\n",
       "    <tr>\n",
       "      <th>38</th>\n",
       "      <td>Pennsylvania</td>\n",
       "      <td>9764119.0</td>\n",
       "    </tr>\n",
       "    <tr>\n",
       "      <th>39</th>\n",
       "      <td>Rhode Island</td>\n",
       "      <td>792337.0</td>\n",
       "    </tr>\n",
       "    <tr>\n",
       "      <th>40</th>\n",
       "      <td>South Carolina</td>\n",
       "      <td>3799298.0</td>\n",
       "    </tr>\n",
       "    <tr>\n",
       "      <th>41</th>\n",
       "      <td>South Dakota</td>\n",
       "      <td>641666.0</td>\n",
       "    </tr>\n",
       "    <tr>\n",
       "      <th>42</th>\n",
       "      <td>Tennessee</td>\n",
       "      <td>5016103.0</td>\n",
       "    </tr>\n",
       "    <tr>\n",
       "      <th>43</th>\n",
       "      <td>Texas</td>\n",
       "      <td>18174345.0</td>\n",
       "    </tr>\n",
       "    <tr>\n",
       "      <th>44</th>\n",
       "      <td>Utah</td>\n",
       "      <td>2028176.0</td>\n",
       "    </tr>\n",
       "    <tr>\n",
       "      <th>45</th>\n",
       "      <td>Vermont</td>\n",
       "      <td>494550.0</td>\n",
       "    </tr>\n",
       "    <tr>\n",
       "      <th>46</th>\n",
       "      <td>Virginia</td>\n",
       "      <td>6145893.0</td>\n",
       "    </tr>\n",
       "    <tr>\n",
       "      <th>47</th>\n",
       "      <td>Washington</td>\n",
       "      <td>5259892.0</td>\n",
       "    </tr>\n",
       "    <tr>\n",
       "      <th>48</th>\n",
       "      <td>West Virginia</td>\n",
       "      <td>1428859.0</td>\n",
       "    </tr>\n",
       "    <tr>\n",
       "      <th>49</th>\n",
       "      <td>Wisconsin</td>\n",
       "      <td>4375063.0</td>\n",
       "    </tr>\n",
       "    <tr>\n",
       "      <th>50</th>\n",
       "      <td>Wyoming</td>\n",
       "      <td>428379.0</td>\n",
       "    </tr>\n",
       "    <tr>\n",
       "      <th>51</th>\n",
       "      <td>Puerto Rico</td>\n",
       "      <td>2636949.0</td>\n",
       "    </tr>\n",
       "  </tbody>\n",
       "</table>\n",
       "</div>"
      ],
      "text/plain": [
       "                   Label  Voting Population\n",
       "0                Alabama          3688249.0\n",
       "1                 Alaska           531653.0\n",
       "2                Arizona          4895706.0\n",
       "3               Arkansas          2207894.0\n",
       "4             California         25650455.0\n",
       "5               Colorado          4057437.0\n",
       "6            Connecticut          2611667.0\n",
       "7               Delaware           709999.0\n",
       "8   District of Columbia           510514.0\n",
       "9                Florida         15014950.0\n",
       "10               Georgia          7362615.0\n",
       "11                Hawaii          1025548.0\n",
       "12                 Idaho          1219481.0\n",
       "13              Illinois          9055927.0\n",
       "14               Indiana          4899251.0\n",
       "15                  Iowa          2325355.0\n",
       "16                Kansas          2091261.0\n",
       "17              Kentucky          3350956.0\n",
       "18             Louisiana          3469016.0\n",
       "19                 Maine          1064497.0\n",
       "20              Maryland          4310864.0\n",
       "21         Massachusetts          4993001.0\n",
       "22              Michigan          7481928.0\n",
       "23             Minnesota          4079652.0\n",
       "24           Mississippi          2234722.0\n",
       "25              Missouri          4606843.0\n",
       "26               Montana           810760.0\n",
       "27              Nebraska          1368000.0\n",
       "28                Nevada          2031213.0\n",
       "29         New Hampshire          1048883.0\n",
       "30            New Jersey          6199409.0\n",
       "31            New Mexico          1493318.0\n",
       "32              New York         13866648.0\n",
       "33        North Carolina          7509879.0\n",
       "34          North Dakota           564475.0\n",
       "35                  Ohio          8830185.0\n",
       "36              Oklahoma          2835451.0\n",
       "37                Oregon          3060328.0\n",
       "38          Pennsylvania          9764119.0\n",
       "39          Rhode Island           792337.0\n",
       "40        South Carolina          3799298.0\n",
       "41          South Dakota           641666.0\n",
       "42             Tennessee          5016103.0\n",
       "43                 Texas         18174345.0\n",
       "44                  Utah          2028176.0\n",
       "45               Vermont           494550.0\n",
       "46              Virginia          6145893.0\n",
       "47            Washington          5259892.0\n",
       "48         West Virginia          1428859.0\n",
       "49             Wisconsin          4375063.0\n",
       "50               Wyoming           428379.0\n",
       "51           Puerto Rico          2636949.0"
      ]
     },
     "execution_count": 291,
     "metadata": {},
     "output_type": "execute_result"
    }
   ],
   "source": [
    "total_pop = pd.read_csv(\"/home/jovyan/work/Electoral_census/Sanjay/Data/2017_pop.csv\").iloc[0].astype(str).str.replace('\\D+', '').apply(p2f)\n",
    "total_pop = pd.DataFrame({\"Label\":total_pop.index, \"Voting Population\": total_pop.values})\n",
    "total_pop = total_pop.iloc[1:]\n",
    "total_pop[\"Label\"] = normal_names[1:]\n",
    "total_pop.index -= 1\n",
    "total_pop"
   ]
  },
  {
   "cell_type": "code",
   "execution_count": 292,
   "metadata": {
    "cell_id": "00005-e42e6c8c-9f98-43e4-9aac-6d5f5d137cf3",
    "execution_millis": 18,
    "execution_start": 1605404659584,
    "output_cleared": false,
    "source_hash": "4461aed6",
    "tags": []
   },
   "outputs": [
    {
     "data": {
      "application/vnd.deepnote.dataframe.v2+json": {
       "column_count": 2,
       "columns": [
        {
         "dtype": "object",
         "name": "State",
         "stats": {
          "categories": [
           {
            "count": 1,
            "name": "Alabama"
           },
           {
            "count": 1,
            "name": "Alaska"
           },
           {
            "count": 50,
            "name": "50 others"
           }
          ],
          "nan_count": 0,
          "unique_count": 52
         }
        },
        {
         "dtype": "int64",
         "name": "Votes",
         "stats": {
          "histogram": [
           {
            "bin_end": 5.5,
            "bin_start": 0,
            "count": 17
           },
           {
            "bin_end": 11,
            "bin_start": 5.5,
            "count": 18
           },
           {
            "bin_end": 16.5,
            "bin_start": 11,
            "count": 10
           },
           {
            "bin_end": 22,
            "bin_start": 16.5,
            "count": 3
           },
           {
            "bin_end": 27.5,
            "bin_start": 22,
            "count": 0
           },
           {
            "bin_end": 33,
            "bin_start": 27.5,
            "count": 2
           },
           {
            "bin_end": 38.5,
            "bin_start": 33,
            "count": 1
           },
           {
            "bin_end": 44,
            "bin_start": 38.5,
            "count": 0
           },
           {
            "bin_end": 49.5,
            "bin_start": 44,
            "count": 0
           },
           {
            "bin_end": 55,
            "bin_start": 49.5,
            "count": 1
           }
          ],
          "max": 55,
          "min": 0,
          "nan_count": 0,
          "unique_count": 20
         }
        },
        {
         "dtype": "int64",
         "name": "_deepnote_index_column"
        }
       ],
       "row_count": 52,
       "rows_bottom": null,
       "rows_top": [
        {
         "State": "Alabama",
         "Votes": 9,
         "_deepnote_index_column": 0
        },
        {
         "State": "Alaska",
         "Votes": 3,
         "_deepnote_index_column": 1
        },
        {
         "State": "Arizona",
         "Votes": 11,
         "_deepnote_index_column": 2
        },
        {
         "State": "Arkansas",
         "Votes": 6,
         "_deepnote_index_column": 3
        },
        {
         "State": "California",
         "Votes": 55,
         "_deepnote_index_column": 4
        },
        {
         "State": "Colorado",
         "Votes": 9,
         "_deepnote_index_column": 5
        },
        {
         "State": "Connecticut",
         "Votes": 7,
         "_deepnote_index_column": 6
        },
        {
         "State": "Delaware",
         "Votes": 3,
         "_deepnote_index_column": 7
        },
        {
         "State": "District of Columbia",
         "Votes": 3,
         "_deepnote_index_column": 8
        },
        {
         "State": "Florida",
         "Votes": 29,
         "_deepnote_index_column": 9
        },
        {
         "State": "Georgia",
         "Votes": 16,
         "_deepnote_index_column": 10
        },
        {
         "State": "Hawaii",
         "Votes": 4,
         "_deepnote_index_column": 11
        },
        {
         "State": "Idaho",
         "Votes": 4,
         "_deepnote_index_column": 12
        },
        {
         "State": "Illinois",
         "Votes": 20,
         "_deepnote_index_column": 13
        },
        {
         "State": "Indiana",
         "Votes": 11,
         "_deepnote_index_column": 14
        },
        {
         "State": "Iowa",
         "Votes": 6,
         "_deepnote_index_column": 15
        },
        {
         "State": "Kansas",
         "Votes": 6,
         "_deepnote_index_column": 16
        },
        {
         "State": "Kentucky",
         "Votes": 8,
         "_deepnote_index_column": 17
        },
        {
         "State": "Louisiana",
         "Votes": 8,
         "_deepnote_index_column": 18
        },
        {
         "State": "Maine",
         "Votes": 4,
         "_deepnote_index_column": 19
        },
        {
         "State": "Maryland",
         "Votes": 10,
         "_deepnote_index_column": 20
        },
        {
         "State": "Massachusetts",
         "Votes": 11,
         "_deepnote_index_column": 21
        },
        {
         "State": "Michigan",
         "Votes": 16,
         "_deepnote_index_column": 22
        },
        {
         "State": "Minnesota",
         "Votes": 10,
         "_deepnote_index_column": 23
        },
        {
         "State": "Mississippi",
         "Votes": 6,
         "_deepnote_index_column": 24
        },
        {
         "State": "Missouri",
         "Votes": 10,
         "_deepnote_index_column": 25
        },
        {
         "State": "Montana",
         "Votes": 3,
         "_deepnote_index_column": 26
        },
        {
         "State": "Nebraska",
         "Votes": 5,
         "_deepnote_index_column": 27
        },
        {
         "State": "Nevada",
         "Votes": 6,
         "_deepnote_index_column": 28
        },
        {
         "State": "New Hampshire",
         "Votes": 4,
         "_deepnote_index_column": 29
        },
        {
         "State": "New Jersey",
         "Votes": 14,
         "_deepnote_index_column": 30
        },
        {
         "State": "New Mexico",
         "Votes": 5,
         "_deepnote_index_column": 31
        },
        {
         "State": "New York",
         "Votes": 29,
         "_deepnote_index_column": 32
        },
        {
         "State": "North Carolina",
         "Votes": 15,
         "_deepnote_index_column": 33
        },
        {
         "State": "North Dakota",
         "Votes": 3,
         "_deepnote_index_column": 34
        },
        {
         "State": "Ohio",
         "Votes": 18,
         "_deepnote_index_column": 35
        },
        {
         "State": "Oklahoma",
         "Votes": 7,
         "_deepnote_index_column": 36
        },
        {
         "State": "Oregon",
         "Votes": 7,
         "_deepnote_index_column": 37
        },
        {
         "State": "Pennsylvania",
         "Votes": 20,
         "_deepnote_index_column": 38
        },
        {
         "State": "Rhode Island",
         "Votes": 4,
         "_deepnote_index_column": 39
        },
        {
         "State": "South Carolina",
         "Votes": 9,
         "_deepnote_index_column": 40
        },
        {
         "State": "South Dakota",
         "Votes": 3,
         "_deepnote_index_column": 41
        },
        {
         "State": "Tennessee",
         "Votes": 11,
         "_deepnote_index_column": 42
        },
        {
         "State": "Texas",
         "Votes": 38,
         "_deepnote_index_column": 43
        },
        {
         "State": "Utah",
         "Votes": 6,
         "_deepnote_index_column": 44
        },
        {
         "State": "Vermont",
         "Votes": 3,
         "_deepnote_index_column": 45
        },
        {
         "State": "Virginia",
         "Votes": 13,
         "_deepnote_index_column": 46
        },
        {
         "State": "Washington",
         "Votes": 12,
         "_deepnote_index_column": 47
        },
        {
         "State": "West Virginia",
         "Votes": 5,
         "_deepnote_index_column": 48
        },
        {
         "State": "Wisconsin",
         "Votes": 10,
         "_deepnote_index_column": 49
        },
        {
         "State": "Wyoming",
         "Votes": 3,
         "_deepnote_index_column": 50
        },
        {
         "State": "Puerto Rico",
         "Votes": 0,
         "_deepnote_index_column": 51
        }
       ]
      },
      "text/html": [
       "<div>\n",
       "<style scoped>\n",
       "    .dataframe tbody tr th:only-of-type {\n",
       "        vertical-align: middle;\n",
       "    }\n",
       "\n",
       "    .dataframe tbody tr th {\n",
       "        vertical-align: top;\n",
       "    }\n",
       "\n",
       "    .dataframe thead th {\n",
       "        text-align: right;\n",
       "    }\n",
       "</style>\n",
       "<table border=\"1\" class=\"dataframe\">\n",
       "  <thead>\n",
       "    <tr style=\"text-align: right;\">\n",
       "      <th></th>\n",
       "      <th>State</th>\n",
       "      <th>Votes</th>\n",
       "    </tr>\n",
       "  </thead>\n",
       "  <tbody>\n",
       "    <tr>\n",
       "      <th>0</th>\n",
       "      <td>Alabama</td>\n",
       "      <td>9</td>\n",
       "    </tr>\n",
       "    <tr>\n",
       "      <th>1</th>\n",
       "      <td>Alaska</td>\n",
       "      <td>3</td>\n",
       "    </tr>\n",
       "    <tr>\n",
       "      <th>2</th>\n",
       "      <td>Arizona</td>\n",
       "      <td>11</td>\n",
       "    </tr>\n",
       "    <tr>\n",
       "      <th>3</th>\n",
       "      <td>Arkansas</td>\n",
       "      <td>6</td>\n",
       "    </tr>\n",
       "    <tr>\n",
       "      <th>4</th>\n",
       "      <td>California</td>\n",
       "      <td>55</td>\n",
       "    </tr>\n",
       "    <tr>\n",
       "      <th>5</th>\n",
       "      <td>Colorado</td>\n",
       "      <td>9</td>\n",
       "    </tr>\n",
       "    <tr>\n",
       "      <th>6</th>\n",
       "      <td>Connecticut</td>\n",
       "      <td>7</td>\n",
       "    </tr>\n",
       "    <tr>\n",
       "      <th>7</th>\n",
       "      <td>Delaware</td>\n",
       "      <td>3</td>\n",
       "    </tr>\n",
       "    <tr>\n",
       "      <th>8</th>\n",
       "      <td>District of Columbia</td>\n",
       "      <td>3</td>\n",
       "    </tr>\n",
       "    <tr>\n",
       "      <th>9</th>\n",
       "      <td>Florida</td>\n",
       "      <td>29</td>\n",
       "    </tr>\n",
       "    <tr>\n",
       "      <th>10</th>\n",
       "      <td>Georgia</td>\n",
       "      <td>16</td>\n",
       "    </tr>\n",
       "    <tr>\n",
       "      <th>11</th>\n",
       "      <td>Hawaii</td>\n",
       "      <td>4</td>\n",
       "    </tr>\n",
       "    <tr>\n",
       "      <th>12</th>\n",
       "      <td>Idaho</td>\n",
       "      <td>4</td>\n",
       "    </tr>\n",
       "    <tr>\n",
       "      <th>13</th>\n",
       "      <td>Illinois</td>\n",
       "      <td>20</td>\n",
       "    </tr>\n",
       "    <tr>\n",
       "      <th>14</th>\n",
       "      <td>Indiana</td>\n",
       "      <td>11</td>\n",
       "    </tr>\n",
       "    <tr>\n",
       "      <th>15</th>\n",
       "      <td>Iowa</td>\n",
       "      <td>6</td>\n",
       "    </tr>\n",
       "    <tr>\n",
       "      <th>16</th>\n",
       "      <td>Kansas</td>\n",
       "      <td>6</td>\n",
       "    </tr>\n",
       "    <tr>\n",
       "      <th>17</th>\n",
       "      <td>Kentucky</td>\n",
       "      <td>8</td>\n",
       "    </tr>\n",
       "    <tr>\n",
       "      <th>18</th>\n",
       "      <td>Louisiana</td>\n",
       "      <td>8</td>\n",
       "    </tr>\n",
       "    <tr>\n",
       "      <th>19</th>\n",
       "      <td>Maine</td>\n",
       "      <td>4</td>\n",
       "    </tr>\n",
       "    <tr>\n",
       "      <th>20</th>\n",
       "      <td>Maryland</td>\n",
       "      <td>10</td>\n",
       "    </tr>\n",
       "    <tr>\n",
       "      <th>21</th>\n",
       "      <td>Massachusetts</td>\n",
       "      <td>11</td>\n",
       "    </tr>\n",
       "    <tr>\n",
       "      <th>22</th>\n",
       "      <td>Michigan</td>\n",
       "      <td>16</td>\n",
       "    </tr>\n",
       "    <tr>\n",
       "      <th>23</th>\n",
       "      <td>Minnesota</td>\n",
       "      <td>10</td>\n",
       "    </tr>\n",
       "    <tr>\n",
       "      <th>24</th>\n",
       "      <td>Mississippi</td>\n",
       "      <td>6</td>\n",
       "    </tr>\n",
       "    <tr>\n",
       "      <th>25</th>\n",
       "      <td>Missouri</td>\n",
       "      <td>10</td>\n",
       "    </tr>\n",
       "    <tr>\n",
       "      <th>26</th>\n",
       "      <td>Montana</td>\n",
       "      <td>3</td>\n",
       "    </tr>\n",
       "    <tr>\n",
       "      <th>27</th>\n",
       "      <td>Nebraska</td>\n",
       "      <td>5</td>\n",
       "    </tr>\n",
       "    <tr>\n",
       "      <th>28</th>\n",
       "      <td>Nevada</td>\n",
       "      <td>6</td>\n",
       "    </tr>\n",
       "    <tr>\n",
       "      <th>29</th>\n",
       "      <td>New Hampshire</td>\n",
       "      <td>4</td>\n",
       "    </tr>\n",
       "    <tr>\n",
       "      <th>30</th>\n",
       "      <td>New Jersey</td>\n",
       "      <td>14</td>\n",
       "    </tr>\n",
       "    <tr>\n",
       "      <th>31</th>\n",
       "      <td>New Mexico</td>\n",
       "      <td>5</td>\n",
       "    </tr>\n",
       "    <tr>\n",
       "      <th>32</th>\n",
       "      <td>New York</td>\n",
       "      <td>29</td>\n",
       "    </tr>\n",
       "    <tr>\n",
       "      <th>33</th>\n",
       "      <td>North Carolina</td>\n",
       "      <td>15</td>\n",
       "    </tr>\n",
       "    <tr>\n",
       "      <th>34</th>\n",
       "      <td>North Dakota</td>\n",
       "      <td>3</td>\n",
       "    </tr>\n",
       "    <tr>\n",
       "      <th>35</th>\n",
       "      <td>Ohio</td>\n",
       "      <td>18</td>\n",
       "    </tr>\n",
       "    <tr>\n",
       "      <th>36</th>\n",
       "      <td>Oklahoma</td>\n",
       "      <td>7</td>\n",
       "    </tr>\n",
       "    <tr>\n",
       "      <th>37</th>\n",
       "      <td>Oregon</td>\n",
       "      <td>7</td>\n",
       "    </tr>\n",
       "    <tr>\n",
       "      <th>38</th>\n",
       "      <td>Pennsylvania</td>\n",
       "      <td>20</td>\n",
       "    </tr>\n",
       "    <tr>\n",
       "      <th>39</th>\n",
       "      <td>Rhode Island</td>\n",
       "      <td>4</td>\n",
       "    </tr>\n",
       "    <tr>\n",
       "      <th>40</th>\n",
       "      <td>South Carolina</td>\n",
       "      <td>9</td>\n",
       "    </tr>\n",
       "    <tr>\n",
       "      <th>41</th>\n",
       "      <td>South Dakota</td>\n",
       "      <td>3</td>\n",
       "    </tr>\n",
       "    <tr>\n",
       "      <th>42</th>\n",
       "      <td>Tennessee</td>\n",
       "      <td>11</td>\n",
       "    </tr>\n",
       "    <tr>\n",
       "      <th>43</th>\n",
       "      <td>Texas</td>\n",
       "      <td>38</td>\n",
       "    </tr>\n",
       "    <tr>\n",
       "      <th>44</th>\n",
       "      <td>Utah</td>\n",
       "      <td>6</td>\n",
       "    </tr>\n",
       "    <tr>\n",
       "      <th>45</th>\n",
       "      <td>Vermont</td>\n",
       "      <td>3</td>\n",
       "    </tr>\n",
       "    <tr>\n",
       "      <th>46</th>\n",
       "      <td>Virginia</td>\n",
       "      <td>13</td>\n",
       "    </tr>\n",
       "    <tr>\n",
       "      <th>47</th>\n",
       "      <td>Washington</td>\n",
       "      <td>12</td>\n",
       "    </tr>\n",
       "    <tr>\n",
       "      <th>48</th>\n",
       "      <td>West Virginia</td>\n",
       "      <td>5</td>\n",
       "    </tr>\n",
       "    <tr>\n",
       "      <th>49</th>\n",
       "      <td>Wisconsin</td>\n",
       "      <td>10</td>\n",
       "    </tr>\n",
       "    <tr>\n",
       "      <th>50</th>\n",
       "      <td>Wyoming</td>\n",
       "      <td>3</td>\n",
       "    </tr>\n",
       "    <tr>\n",
       "      <th>51</th>\n",
       "      <td>Puerto Rico</td>\n",
       "      <td>0</td>\n",
       "    </tr>\n",
       "  </tbody>\n",
       "</table>\n",
       "</div>"
      ],
      "text/plain": [
       "                   State  Votes\n",
       "0                Alabama      9\n",
       "1                 Alaska      3\n",
       "2                Arizona     11\n",
       "3               Arkansas      6\n",
       "4             California     55\n",
       "5               Colorado      9\n",
       "6            Connecticut      7\n",
       "7               Delaware      3\n",
       "8   District of Columbia      3\n",
       "9                Florida     29\n",
       "10               Georgia     16\n",
       "11                Hawaii      4\n",
       "12                 Idaho      4\n",
       "13              Illinois     20\n",
       "14               Indiana     11\n",
       "15                  Iowa      6\n",
       "16                Kansas      6\n",
       "17              Kentucky      8\n",
       "18             Louisiana      8\n",
       "19                 Maine      4\n",
       "20              Maryland     10\n",
       "21         Massachusetts     11\n",
       "22              Michigan     16\n",
       "23             Minnesota     10\n",
       "24           Mississippi      6\n",
       "25              Missouri     10\n",
       "26               Montana      3\n",
       "27              Nebraska      5\n",
       "28                Nevada      6\n",
       "29         New Hampshire      4\n",
       "30            New Jersey     14\n",
       "31            New Mexico      5\n",
       "32              New York     29\n",
       "33        North Carolina     15\n",
       "34          North Dakota      3\n",
       "35                  Ohio     18\n",
       "36              Oklahoma      7\n",
       "37                Oregon      7\n",
       "38          Pennsylvania     20\n",
       "39          Rhode Island      4\n",
       "40        South Carolina      9\n",
       "41          South Dakota      3\n",
       "42             Tennessee     11\n",
       "43                 Texas     38\n",
       "44                  Utah      6\n",
       "45               Vermont      3\n",
       "46              Virginia     13\n",
       "47            Washington     12\n",
       "48         West Virginia      5\n",
       "49             Wisconsin     10\n",
       "50               Wyoming      3\n",
       "51           Puerto Rico      0"
      ]
     },
     "execution_count": 292,
     "metadata": {},
     "output_type": "execute_result"
    }
   ],
   "source": [
    "vote_per_state = pd.read_csv(\"/home/jovyan/work/Electoral_census/Sanjay/Data/electoral-college-votes-by-state.csv\")\n",
    "vote_per_state[\"State\"] = normal_names[1:]\n",
    "vote_per_state"
   ]
  },
  {
   "cell_type": "code",
   "execution_count": 293,
   "metadata": {
    "cell_id": "00006-3634caab-9ba7-476c-ac4b-bcc32c28b243",
    "execution_millis": 4,
    "execution_start": 1605404659624,
    "output_cleared": false,
    "source_hash": "d6cbf369",
    "tags": []
   },
   "outputs": [
    {
     "data": {
      "application/vnd.deepnote.dataframe.v2+json": {
       "column_count": 2,
       "columns": [
        {
         "dtype": "object",
         "name": "State",
         "stats": {
          "categories": [
           {
            "count": 1,
            "name": "Alabama"
           },
           {
            "count": 1,
            "name": "Alaska"
           },
           {
            "count": 50,
            "name": "50 others"
           }
          ],
          "nan_count": 0,
          "unique_count": 52
         }
        },
        {
         "dtype": "float64",
         "name": "Vote",
         "stats": {
          "histogram": [
           {
            "bin_end": 7.003144411840917e-07,
            "bin_start": 0,
            "count": 1
           },
           {
            "bin_end": 1.4006288823681833e-06,
            "bin_start": 7.003144411840917e-07,
            "count": 0
           },
           {
            "bin_end": 2.100943323552275e-06,
            "bin_start": 1.4006288823681833e-06,
            "count": 6
           },
           {
            "bin_end": 2.8012577647363667e-06,
            "bin_start": 2.100943323552275e-06,
            "count": 26
           },
           {
            "bin_end": 3.5015722059204584e-06,
            "bin_start": 2.8012577647363667e-06,
            "count": 6
           },
           {
            "bin_end": 4.20188664710455e-06,
            "bin_start": 3.5015722059204584e-06,
            "count": 5
           },
           {
            "bin_end": 4.902201088288642e-06,
            "bin_start": 4.20188664710455e-06,
            "count": 2
           },
           {
            "bin_end": 5.602515529472733e-06,
            "bin_start": 4.902201088288642e-06,
            "count": 2
           },
           {
            "bin_end": 6.302829970656825e-06,
            "bin_start": 5.602515529472733e-06,
            "count": 3
           },
           {
            "bin_end": 7.003144411840917e-06,
            "bin_start": 6.302829970656825e-06,
            "count": 1
           }
          ],
          "max": 7.003144411840917e-06,
          "min": 0,
          "nan_count": 0,
          "unique_count": 52
         }
        },
        {
         "dtype": "int64",
         "name": "_deepnote_index_column"
        }
       ],
       "row_count": 52,
       "rows_bottom": null,
       "rows_top": [
        {
         "State": "Alabama",
         "Vote": 2.440182319577664e-06,
         "_deepnote_index_column": 0
        },
        {
         "State": "Alaska",
         "Vote": 5.6427782783131106e-06,
         "_deepnote_index_column": 1
        },
        {
         "State": "Arizona",
         "Vote": 2.2468669483012257e-06,
         "_deepnote_index_column": 2
        },
        {
         "State": "Arkansas",
         "Vote": 2.717521765084737e-06,
         "_deepnote_index_column": 3
        },
        {
         "State": "California",
         "Vote": 2.144211476950409e-06,
         "_deepnote_index_column": 4
        },
        {
         "State": "Colorado",
         "Vote": 2.218149043349287e-06,
         "_deepnote_index_column": 5
        },
        {
         "State": "Connecticut",
         "Vote": 2.6802804492303194e-06,
         "_deepnote_index_column": 6
        },
        {
         "State": "Delaware",
         "Vote": 4.225358063884597e-06,
         "_deepnote_index_column": 7
        },
        {
         "State": "District of Columbia",
         "Vote": 5.876430421105004e-06,
         "_deepnote_index_column": 8
        },
        {
         "State": "Florida",
         "Vote": 1.9314083629982117e-06,
         "_deepnote_index_column": 9
        },
        {
         "State": "Georgia",
         "Vote": 2.1731409288683437e-06,
         "_deepnote_index_column": 10
        },
        {
         "State": "Hawaii",
         "Vote": 3.900353762086221e-06,
         "_deepnote_index_column": 11
        },
        {
         "State": "Idaho",
         "Vote": 3.2800839045462784e-06,
         "_deepnote_index_column": 12
        },
        {
         "State": "Illinois",
         "Vote": 2.2084983679749186e-06,
         "_deepnote_index_column": 13
        },
        {
         "State": "Indiana",
         "Vote": 2.245241160332467e-06,
         "_deepnote_index_column": 14
        },
        {
         "State": "Iowa",
         "Vote": 2.5802511874530984e-06,
         "_deepnote_index_column": 15
        },
        {
         "State": "Kansas",
         "Vote": 2.8690823383594874e-06,
         "_deepnote_index_column": 16
        },
        {
         "State": "Kentucky",
         "Vote": 2.387378407833466e-06,
         "_deepnote_index_column": 17
        },
        {
         "State": "Louisiana",
         "Vote": 2.3061294614957094e-06,
         "_deepnote_index_column": 18
        },
        {
         "State": "Maine",
         "Vote": 3.7576432812868426e-06,
         "_deepnote_index_column": 19
        },
        {
         "State": "Maryland",
         "Vote": 2.3197205942938586e-06,
         "_deepnote_index_column": 20
        },
        {
         "State": "Massachusetts",
         "Vote": 2.2030838768107597e-06,
         "_deepnote_index_column": 21
        },
        {
         "State": "Michigan",
         "Vote": 2.138486229752545e-06,
         "_deepnote_index_column": 22
        },
        {
         "State": "Minnesota",
         "Vote": 2.4511894641993973e-06,
         "_deepnote_index_column": 23
        },
        {
         "State": "Mississippi",
         "Vote": 2.6848977188214016e-06,
         "_deepnote_index_column": 24
        },
        {
         "State": "Missouri",
         "Vote": 2.1706839152104814e-06,
         "_deepnote_index_column": 25
        },
        {
         "State": "Montana",
         "Vote": 3.7002318811978886e-06,
         "_deepnote_index_column": 26
        },
        {
         "State": "Nebraska",
         "Vote": 3.6549707602339183e-06,
         "_deepnote_index_column": 27
        },
        {
         "State": "Nevada",
         "Vote": 2.9538999602700456e-06,
         "_deepnote_index_column": 28
        },
        {
         "State": "New Hampshire",
         "Vote": 3.8135807330274207e-06,
         "_deepnote_index_column": 29
        },
        {
         "State": "New Jersey",
         "Vote": 2.2582797811855937e-06,
         "_deepnote_index_column": 30
        },
        {
         "State": "New Mexico",
         "Vote": 3.3482486650532574e-06,
         "_deepnote_index_column": 31
        },
        {
         "State": "New York",
         "Vote": 2.0913489691236125e-06,
         "_deepnote_index_column": 32
        },
        {
         "State": "North Carolina",
         "Vote": 1.9973690654669668e-06,
         "_deepnote_index_column": 33
        },
        {
         "State": "North Dakota",
         "Vote": 5.314672926170335e-06,
         "_deepnote_index_column": 34
        },
        {
         "State": "Ohio",
         "Vote": 2.038462387820867e-06,
         "_deepnote_index_column": 35
        },
        {
         "State": "Oklahoma",
         "Vote": 2.4687430676812964e-06,
         "_deepnote_index_column": 36
        },
        {
         "State": "Oregon",
         "Vote": 2.2873365207912355e-06,
         "_deepnote_index_column": 37
        },
        {
         "State": "Pennsylvania",
         "Vote": 2.0483158798044145e-06,
         "_deepnote_index_column": 38
        },
        {
         "State": "Rhode Island",
         "Vote": 5.048356949126445e-06,
         "_deepnote_index_column": 39
        },
        {
         "State": "South Carolina",
         "Vote": 2.3688586681013177e-06,
         "_deepnote_index_column": 40
        },
        {
         "State": "South Dakota",
         "Vote": 4.675329532809904e-06,
         "_deepnote_index_column": 41
        },
        {
         "State": "Tennessee",
         "Vote": 2.1929374257267046e-06,
         "_deepnote_index_column": 42
        },
        {
         "State": "Texas",
         "Vote": 2.0908593954830285e-06,
         "_deepnote_index_column": 43
        },
        {
         "State": "Utah",
         "Vote": 2.958323143553617e-06,
         "_deepnote_index_column": 44
        },
        {
         "State": "Vermont",
         "Vote": 6.0661207158022445e-06,
         "_deepnote_index_column": 45
        },
        {
         "State": "Virginia",
         "Vote": 2.1152337015955208e-06,
         "_deepnote_index_column": 46
        },
        {
         "State": "Washington",
         "Vote": 2.2814156640478548e-06,
         "_deepnote_index_column": 47
        },
        {
         "State": "West Virginia",
         "Vote": 3.4992955917973713e-06,
         "_deepnote_index_column": 48
        },
        {
         "State": "Wisconsin",
         "Vote": 2.2856813719025304e-06,
         "_deepnote_index_column": 49
        },
        {
         "State": "Wyoming",
         "Vote": 7.003144411840917e-06,
         "_deepnote_index_column": 50
        },
        {
         "State": "Puerto Rico",
         "Vote": 0,
         "_deepnote_index_column": 51
        }
       ]
      },
      "text/html": [
       "<div>\n",
       "<style scoped>\n",
       "    .dataframe tbody tr th:only-of-type {\n",
       "        vertical-align: middle;\n",
       "    }\n",
       "\n",
       "    .dataframe tbody tr th {\n",
       "        vertical-align: top;\n",
       "    }\n",
       "\n",
       "    .dataframe thead th {\n",
       "        text-align: right;\n",
       "    }\n",
       "</style>\n",
       "<table border=\"1\" class=\"dataframe\">\n",
       "  <thead>\n",
       "    <tr style=\"text-align: right;\">\n",
       "      <th></th>\n",
       "      <th>State</th>\n",
       "      <th>Vote</th>\n",
       "    </tr>\n",
       "  </thead>\n",
       "  <tbody>\n",
       "    <tr>\n",
       "      <th>0</th>\n",
       "      <td>Alabama</td>\n",
       "      <td>0.000002</td>\n",
       "    </tr>\n",
       "    <tr>\n",
       "      <th>1</th>\n",
       "      <td>Alaska</td>\n",
       "      <td>0.000006</td>\n",
       "    </tr>\n",
       "    <tr>\n",
       "      <th>2</th>\n",
       "      <td>Arizona</td>\n",
       "      <td>0.000002</td>\n",
       "    </tr>\n",
       "    <tr>\n",
       "      <th>3</th>\n",
       "      <td>Arkansas</td>\n",
       "      <td>0.000003</td>\n",
       "    </tr>\n",
       "    <tr>\n",
       "      <th>4</th>\n",
       "      <td>California</td>\n",
       "      <td>0.000002</td>\n",
       "    </tr>\n",
       "    <tr>\n",
       "      <th>5</th>\n",
       "      <td>Colorado</td>\n",
       "      <td>0.000002</td>\n",
       "    </tr>\n",
       "    <tr>\n",
       "      <th>6</th>\n",
       "      <td>Connecticut</td>\n",
       "      <td>0.000003</td>\n",
       "    </tr>\n",
       "    <tr>\n",
       "      <th>7</th>\n",
       "      <td>Delaware</td>\n",
       "      <td>0.000004</td>\n",
       "    </tr>\n",
       "    <tr>\n",
       "      <th>8</th>\n",
       "      <td>District of Columbia</td>\n",
       "      <td>0.000006</td>\n",
       "    </tr>\n",
       "    <tr>\n",
       "      <th>9</th>\n",
       "      <td>Florida</td>\n",
       "      <td>0.000002</td>\n",
       "    </tr>\n",
       "    <tr>\n",
       "      <th>10</th>\n",
       "      <td>Georgia</td>\n",
       "      <td>0.000002</td>\n",
       "    </tr>\n",
       "    <tr>\n",
       "      <th>11</th>\n",
       "      <td>Hawaii</td>\n",
       "      <td>0.000004</td>\n",
       "    </tr>\n",
       "    <tr>\n",
       "      <th>12</th>\n",
       "      <td>Idaho</td>\n",
       "      <td>0.000003</td>\n",
       "    </tr>\n",
       "    <tr>\n",
       "      <th>13</th>\n",
       "      <td>Illinois</td>\n",
       "      <td>0.000002</td>\n",
       "    </tr>\n",
       "    <tr>\n",
       "      <th>14</th>\n",
       "      <td>Indiana</td>\n",
       "      <td>0.000002</td>\n",
       "    </tr>\n",
       "    <tr>\n",
       "      <th>15</th>\n",
       "      <td>Iowa</td>\n",
       "      <td>0.000003</td>\n",
       "    </tr>\n",
       "    <tr>\n",
       "      <th>16</th>\n",
       "      <td>Kansas</td>\n",
       "      <td>0.000003</td>\n",
       "    </tr>\n",
       "    <tr>\n",
       "      <th>17</th>\n",
       "      <td>Kentucky</td>\n",
       "      <td>0.000002</td>\n",
       "    </tr>\n",
       "    <tr>\n",
       "      <th>18</th>\n",
       "      <td>Louisiana</td>\n",
       "      <td>0.000002</td>\n",
       "    </tr>\n",
       "    <tr>\n",
       "      <th>19</th>\n",
       "      <td>Maine</td>\n",
       "      <td>0.000004</td>\n",
       "    </tr>\n",
       "    <tr>\n",
       "      <th>20</th>\n",
       "      <td>Maryland</td>\n",
       "      <td>0.000002</td>\n",
       "    </tr>\n",
       "    <tr>\n",
       "      <th>21</th>\n",
       "      <td>Massachusetts</td>\n",
       "      <td>0.000002</td>\n",
       "    </tr>\n",
       "    <tr>\n",
       "      <th>22</th>\n",
       "      <td>Michigan</td>\n",
       "      <td>0.000002</td>\n",
       "    </tr>\n",
       "    <tr>\n",
       "      <th>23</th>\n",
       "      <td>Minnesota</td>\n",
       "      <td>0.000002</td>\n",
       "    </tr>\n",
       "    <tr>\n",
       "      <th>24</th>\n",
       "      <td>Mississippi</td>\n",
       "      <td>0.000003</td>\n",
       "    </tr>\n",
       "    <tr>\n",
       "      <th>25</th>\n",
       "      <td>Missouri</td>\n",
       "      <td>0.000002</td>\n",
       "    </tr>\n",
       "    <tr>\n",
       "      <th>26</th>\n",
       "      <td>Montana</td>\n",
       "      <td>0.000004</td>\n",
       "    </tr>\n",
       "    <tr>\n",
       "      <th>27</th>\n",
       "      <td>Nebraska</td>\n",
       "      <td>0.000004</td>\n",
       "    </tr>\n",
       "    <tr>\n",
       "      <th>28</th>\n",
       "      <td>Nevada</td>\n",
       "      <td>0.000003</td>\n",
       "    </tr>\n",
       "    <tr>\n",
       "      <th>29</th>\n",
       "      <td>New Hampshire</td>\n",
       "      <td>0.000004</td>\n",
       "    </tr>\n",
       "    <tr>\n",
       "      <th>30</th>\n",
       "      <td>New Jersey</td>\n",
       "      <td>0.000002</td>\n",
       "    </tr>\n",
       "    <tr>\n",
       "      <th>31</th>\n",
       "      <td>New Mexico</td>\n",
       "      <td>0.000003</td>\n",
       "    </tr>\n",
       "    <tr>\n",
       "      <th>32</th>\n",
       "      <td>New York</td>\n",
       "      <td>0.000002</td>\n",
       "    </tr>\n",
       "    <tr>\n",
       "      <th>33</th>\n",
       "      <td>North Carolina</td>\n",
       "      <td>0.000002</td>\n",
       "    </tr>\n",
       "    <tr>\n",
       "      <th>34</th>\n",
       "      <td>North Dakota</td>\n",
       "      <td>0.000005</td>\n",
       "    </tr>\n",
       "    <tr>\n",
       "      <th>35</th>\n",
       "      <td>Ohio</td>\n",
       "      <td>0.000002</td>\n",
       "    </tr>\n",
       "    <tr>\n",
       "      <th>36</th>\n",
       "      <td>Oklahoma</td>\n",
       "      <td>0.000002</td>\n",
       "    </tr>\n",
       "    <tr>\n",
       "      <th>37</th>\n",
       "      <td>Oregon</td>\n",
       "      <td>0.000002</td>\n",
       "    </tr>\n",
       "    <tr>\n",
       "      <th>38</th>\n",
       "      <td>Pennsylvania</td>\n",
       "      <td>0.000002</td>\n",
       "    </tr>\n",
       "    <tr>\n",
       "      <th>39</th>\n",
       "      <td>Rhode Island</td>\n",
       "      <td>0.000005</td>\n",
       "    </tr>\n",
       "    <tr>\n",
       "      <th>40</th>\n",
       "      <td>South Carolina</td>\n",
       "      <td>0.000002</td>\n",
       "    </tr>\n",
       "    <tr>\n",
       "      <th>41</th>\n",
       "      <td>South Dakota</td>\n",
       "      <td>0.000005</td>\n",
       "    </tr>\n",
       "    <tr>\n",
       "      <th>42</th>\n",
       "      <td>Tennessee</td>\n",
       "      <td>0.000002</td>\n",
       "    </tr>\n",
       "    <tr>\n",
       "      <th>43</th>\n",
       "      <td>Texas</td>\n",
       "      <td>0.000002</td>\n",
       "    </tr>\n",
       "    <tr>\n",
       "      <th>44</th>\n",
       "      <td>Utah</td>\n",
       "      <td>0.000003</td>\n",
       "    </tr>\n",
       "    <tr>\n",
       "      <th>45</th>\n",
       "      <td>Vermont</td>\n",
       "      <td>0.000006</td>\n",
       "    </tr>\n",
       "    <tr>\n",
       "      <th>46</th>\n",
       "      <td>Virginia</td>\n",
       "      <td>0.000002</td>\n",
       "    </tr>\n",
       "    <tr>\n",
       "      <th>47</th>\n",
       "      <td>Washington</td>\n",
       "      <td>0.000002</td>\n",
       "    </tr>\n",
       "    <tr>\n",
       "      <th>48</th>\n",
       "      <td>West Virginia</td>\n",
       "      <td>0.000003</td>\n",
       "    </tr>\n",
       "    <tr>\n",
       "      <th>49</th>\n",
       "      <td>Wisconsin</td>\n",
       "      <td>0.000002</td>\n",
       "    </tr>\n",
       "    <tr>\n",
       "      <th>50</th>\n",
       "      <td>Wyoming</td>\n",
       "      <td>0.000007</td>\n",
       "    </tr>\n",
       "    <tr>\n",
       "      <th>51</th>\n",
       "      <td>Puerto Rico</td>\n",
       "      <td>0.000000</td>\n",
       "    </tr>\n",
       "  </tbody>\n",
       "</table>\n",
       "</div>"
      ],
      "text/plain": [
       "                   State      Vote\n",
       "0                Alabama  0.000002\n",
       "1                 Alaska  0.000006\n",
       "2                Arizona  0.000002\n",
       "3               Arkansas  0.000003\n",
       "4             California  0.000002\n",
       "5               Colorado  0.000002\n",
       "6            Connecticut  0.000003\n",
       "7               Delaware  0.000004\n",
       "8   District of Columbia  0.000006\n",
       "9                Florida  0.000002\n",
       "10               Georgia  0.000002\n",
       "11                Hawaii  0.000004\n",
       "12                 Idaho  0.000003\n",
       "13              Illinois  0.000002\n",
       "14               Indiana  0.000002\n",
       "15                  Iowa  0.000003\n",
       "16                Kansas  0.000003\n",
       "17              Kentucky  0.000002\n",
       "18             Louisiana  0.000002\n",
       "19                 Maine  0.000004\n",
       "20              Maryland  0.000002\n",
       "21         Massachusetts  0.000002\n",
       "22              Michigan  0.000002\n",
       "23             Minnesota  0.000002\n",
       "24           Mississippi  0.000003\n",
       "25              Missouri  0.000002\n",
       "26               Montana  0.000004\n",
       "27              Nebraska  0.000004\n",
       "28                Nevada  0.000003\n",
       "29         New Hampshire  0.000004\n",
       "30            New Jersey  0.000002\n",
       "31            New Mexico  0.000003\n",
       "32              New York  0.000002\n",
       "33        North Carolina  0.000002\n",
       "34          North Dakota  0.000005\n",
       "35                  Ohio  0.000002\n",
       "36              Oklahoma  0.000002\n",
       "37                Oregon  0.000002\n",
       "38          Pennsylvania  0.000002\n",
       "39          Rhode Island  0.000005\n",
       "40        South Carolina  0.000002\n",
       "41          South Dakota  0.000005\n",
       "42             Tennessee  0.000002\n",
       "43                 Texas  0.000002\n",
       "44                  Utah  0.000003\n",
       "45               Vermont  0.000006\n",
       "46              Virginia  0.000002\n",
       "47            Washington  0.000002\n",
       "48         West Virginia  0.000003\n",
       "49             Wisconsin  0.000002\n",
       "50               Wyoming  0.000007\n",
       "51           Puerto Rico  0.000000"
      ]
     },
     "execution_count": 293,
     "metadata": {},
     "output_type": "execute_result"
    }
   ],
   "source": [
    "pop_per_vote = (vote_per_state[\"Votes\"] / total_pop[\"Voting Population\"])\n",
    "pop_per_vote = pd.DataFrame({\"State\": normal_names[1:], \"Vote\": pop_per_vote.values})\n",
    "pop_per_vote"
   ]
  },
  {
   "cell_type": "code",
   "execution_count": 294,
   "metadata": {
    "cell_id": "00007-05c0bc8f-77cf-47c0-91ce-ac62d38581b4",
    "execution_millis": 161,
    "execution_start": 1605404659634,
    "output_cleared": false,
    "source_hash": "1eb45364",
    "tags": []
   },
   "outputs": [
    {
     "data": {
      "application/vnd.deepnote.dataframe.v2+json": {
       "column_count": 53,
       "columns": [
        {
         "dtype": "object",
         "name": "Label",
         "stats": {
          "categories": [
           {
            "count": 1,
            "name": "Citizens 18 years and over"
           },
           {
            "count": 1,
            "name": "    18 to 29 years"
           },
           {
            "count": 25,
            "name": "25 others"
           }
          ],
          "nan_count": 0,
          "unique_count": 27
         }
        },
        {
         "dtype": "float64",
         "name": "Alabama",
         "stats": {
          "histogram": [
           {
            "bin_end": 0.9365661320588713,
            "bin_start": 0.040629035620968104,
            "count": 9
           },
           {
            "bin_end": 1.8325032284967746,
            "bin_start": 0.9365661320588713,
            "count": 2
           },
           {
            "bin_end": 2.728440324934678,
            "bin_start": 1.8325032284967746,
            "count": 6
           },
           {
            "bin_end": 3.624377421372581,
            "bin_start": 2.728440324934678,
            "count": 2
           },
           {
            "bin_end": 4.520314517810484,
            "bin_start": 3.624377421372581,
            "count": 1
           },
           {
            "bin_end": 5.416251614248388,
            "bin_start": 4.520314517810484,
            "count": 1
           },
           {
            "bin_end": 6.312188710686291,
            "bin_start": 5.416251614248388,
            "count": 1
           },
           {
            "bin_end": 7.208125807124194,
            "bin_start": 6.312188710686291,
            "count": 1
           },
           {
            "bin_end": 8.104062903562097,
            "bin_start": 7.208125807124194,
            "count": 2
           },
           {
            "bin_end": 9,
            "bin_start": 8.104062903562097,
            "count": 2
           }
          ],
          "max": 9,
          "min": 0.040629035620968104,
          "nan_count": 0,
          "unique_count": 27
         }
        },
        {
         "dtype": "float64",
         "name": "Alaska",
         "stats": {
          "histogram": [
           {
            "bin_end": 0.3,
            "bin_start": 0,
            "count": 10
           },
           {
            "bin_end": 0.6,
            "bin_start": 0.3,
            "count": 3
           },
           {
            "bin_end": 0.8999999999999999,
            "bin_start": 0.6,
            "count": 5
           },
           {
            "bin_end": 1.2,
            "bin_start": 0.8999999999999999,
            "count": 1
           },
           {
            "bin_end": 1.5,
            "bin_start": 1.2,
            "count": 1
           },
           {
            "bin_end": 1.7999999999999998,
            "bin_start": 1.5,
            "count": 1
           },
           {
            "bin_end": 2.1,
            "bin_start": 1.7999999999999998,
            "count": 2
           },
           {
            "bin_end": 2.4,
            "bin_start": 2.1,
            "count": 0
           },
           {
            "bin_end": 2.6999999999999997,
            "bin_start": 2.4,
            "count": 1
           },
           {
            "bin_end": 3,
            "bin_start": 2.6999999999999997,
            "count": 3
           }
          ],
          "max": 3,
          "min": 0,
          "nan_count": 0,
          "unique_count": 27
         }
        },
        {
         "dtype": "float64",
         "name": "Arizona",
         "stats": {
          "histogram": [
           {
            "bin_end": 1.2177960441251985,
            "bin_start": 0.130884493472443,
            "count": 9
           },
           {
            "bin_end": 2.304707594777954,
            "bin_start": 1.2177960441251985,
            "count": 2
           },
           {
            "bin_end": 3.3916191454307096,
            "bin_start": 2.304707594777954,
            "count": 7
           },
           {
            "bin_end": 4.478530696083466,
            "bin_start": 3.3916191454307096,
            "count": 1
           },
           {
            "bin_end": 5.565442246736222,
            "bin_start": 4.478530696083466,
            "count": 1
           },
           {
            "bin_end": 6.652353797388977,
            "bin_start": 5.565442246736222,
            "count": 1
           },
           {
            "bin_end": 7.739265348041732,
            "bin_start": 6.652353797388977,
            "count": 1
           },
           {
            "bin_end": 8.826176898694488,
            "bin_start": 7.739265348041732,
            "count": 0
           },
           {
            "bin_end": 9.913088449347244,
            "bin_start": 8.826176898694488,
            "count": 3
           },
           {
            "bin_end": 11,
            "bin_start": 9.913088449347244,
            "count": 2
           }
          ],
          "max": 11,
          "min": 0.130884493472443,
          "nan_count": 0,
          "unique_count": 27
         }
        },
        {
         "dtype": "float64",
         "name": "Arkansas",
         "stats": {
          "histogram": [
           {
            "bin_end": 0.6447233426967056,
            "bin_start": 0.0496926029963395,
            "count": 9
           },
           {
            "bin_end": 1.2397540823970719,
            "bin_start": 0.6447233426967056,
            "count": 3
           },
           {
            "bin_end": 1.8347848220974379,
            "bin_start": 1.2397540823970719,
            "count": 5
           },
           {
            "bin_end": 2.429815561797804,
            "bin_start": 1.8347848220974379,
            "count": 2
           },
           {
            "bin_end": 3.02484630149817,
            "bin_start": 2.429815561797804,
            "count": 1
           },
           {
            "bin_end": 3.619877041198536,
            "bin_start": 3.02484630149817,
            "count": 1
           },
           {
            "bin_end": 4.214907780898902,
            "bin_start": 3.619877041198536,
            "count": 0
           },
           {
            "bin_end": 4.809938520599268,
            "bin_start": 4.214907780898902,
            "count": 2
           },
           {
            "bin_end": 5.404969260299635,
            "bin_start": 4.809938520599268,
            "count": 2
           },
           {
            "bin_end": 6.000000000000001,
            "bin_start": 5.404969260299635,
            "count": 2
           }
          ],
          "max": 6.000000000000001,
          "min": 0.0496926029963395,
          "nan_count": 0,
          "unique_count": 27
         }
        },
        {
         "dtype": "float64",
         "name": "California",
         "stats": {
          "histogram": [
           {
            "bin_end": 5.646833886572383,
            "bin_start": 0.1631487628582027,
            "count": 6
           },
           {
            "bin_end": 11.130519010286562,
            "bin_start": 5.646833886572383,
            "count": 5
           },
           {
            "bin_end": 16.61420413400074,
            "bin_start": 11.130519010286562,
            "count": 6
           },
           {
            "bin_end": 22.09788925771492,
            "bin_start": 16.61420413400074,
            "count": 2
           },
           {
            "bin_end": 27.581574381429103,
            "bin_start": 22.09788925771492,
            "count": 2
           },
           {
            "bin_end": 33.065259505143274,
            "bin_start": 27.581574381429103,
            "count": 1
           },
           {
            "bin_end": 38.548944628857456,
            "bin_start": 33.065259505143274,
            "count": 1
           },
           {
            "bin_end": 44.03262975257164,
            "bin_start": 38.548944628857456,
            "count": 0
           },
           {
            "bin_end": 49.51631487628582,
            "bin_start": 44.03262975257164,
            "count": 2
           },
           {
            "bin_end": 55,
            "bin_start": 49.51631487628582,
            "count": 2
           }
          ],
          "max": 55,
          "min": 0.1631487628582027,
          "nan_count": 0,
          "unique_count": 27
         }
        },
        {
         "dtype": "float64",
         "name": "Colorado",
         "stats": {
          "histogram": [
           {
            "bin_end": 1.0406976374494539,
            "bin_start": 0.15633070827717105,
            "count": 9
           },
           {
            "bin_end": 1.9250645666217368,
            "bin_start": 1.0406976374494539,
            "count": 3
           },
           {
            "bin_end": 2.8094314957940196,
            "bin_start": 1.9250645666217368,
            "count": 5
           },
           {
            "bin_end": 3.6937984249663027,
            "bin_start": 2.8094314957940196,
            "count": 2
           },
           {
            "bin_end": 4.578165354138585,
            "bin_start": 3.6937984249663027,
            "count": 2
           },
           {
            "bin_end": 5.462532283310868,
            "bin_start": 4.578165354138585,
            "count": 0
           },
           {
            "bin_end": 6.346899212483151,
            "bin_start": 5.462532283310868,
            "count": 0
           },
           {
            "bin_end": 7.231266141655434,
            "bin_start": 6.346899212483151,
            "count": 1
           },
           {
            "bin_end": 8.115633070827718,
            "bin_start": 7.231266141655434,
            "count": 2
           },
           {
            "bin_end": 9,
            "bin_start": 8.115633070827718,
            "count": 3
           }
          ],
          "max": 9,
          "min": 0.15633070827717105,
          "nan_count": 0,
          "unique_count": 27
         }
        },
        {
         "dtype": "float64",
         "name": "Connecticut",
         "stats": {
          "histogram": [
           {
            "bin_end": 0.8419489927314624,
            "bin_start": 0.15772110303495815,
            "count": 10
           },
           {
            "bin_end": 1.5261768824279667,
            "bin_start": 0.8419489927314624,
            "count": 5
           },
           {
            "bin_end": 2.210404772124471,
            "bin_start": 1.5261768824279667,
            "count": 2
           },
           {
            "bin_end": 2.8946326618209754,
            "bin_start": 2.210404772124471,
            "count": 2
           },
           {
            "bin_end": 3.57886055151748,
            "bin_start": 2.8946326618209754,
            "count": 1
           },
           {
            "bin_end": 4.263088441213983,
            "bin_start": 3.57886055151748,
            "count": 1
           },
           {
            "bin_end": 4.947316330910488,
            "bin_start": 4.263088441213983,
            "count": 0
           },
           {
            "bin_end": 5.631544220606992,
            "bin_start": 4.947316330910488,
            "count": 1
           },
           {
            "bin_end": 6.315772110303496,
            "bin_start": 5.631544220606992,
            "count": 2
           },
           {
            "bin_end": 7.000000000000001,
            "bin_start": 6.315772110303496,
            "count": 3
           }
          ],
          "max": 7.000000000000001,
          "min": 0.15772110303495815,
          "nan_count": 0,
          "unique_count": 27
         }
        },
        {
         "dtype": "float64",
         "name": "Delaware",
         "stats": {
          "histogram": [
           {
            "bin_end": 0.3259048252180637,
            "bin_start": 0.028783139131181877,
            "count": 8
           },
           {
            "bin_end": 0.6230265113049456,
            "bin_start": 0.3259048252180637,
            "count": 4
           },
           {
            "bin_end": 0.9201481973918274,
            "bin_start": 0.6230265113049456,
            "count": 5
           },
           {
            "bin_end": 1.2172698834787092,
            "bin_start": 0.9201481973918274,
            "count": 2
           },
           {
            "bin_end": 1.514391569565591,
            "bin_start": 1.2172698834787092,
            "count": 1
           },
           {
            "bin_end": 1.811513255652473,
            "bin_start": 1.514391569565591,
            "count": 1
           },
           {
            "bin_end": 2.108634941739355,
            "bin_start": 1.811513255652473,
            "count": 1
           },
           {
            "bin_end": 2.4057566278262366,
            "bin_start": 2.108634941739355,
            "count": 1
           },
           {
            "bin_end": 2.7028783139131183,
            "bin_start": 2.4057566278262366,
            "count": 1
           },
           {
            "bin_end": 3.0000000000000004,
            "bin_start": 2.7028783139131183,
            "count": 3
           }
          ],
          "max": 3.0000000000000004,
          "min": 0.028783139131181877,
          "nan_count": 0,
          "unique_count": 27
         }
        },
        {
         "dtype": "float64",
         "name": "District of Columbia",
         "stats": {
          "histogram": [
           {
            "bin_end": 0.3517719396529772,
            "bin_start": 0.05752437739219688,
            "count": 7
           },
           {
            "bin_end": 0.6460195019137575,
            "bin_start": 0.3517719396529772,
            "count": 5
           },
           {
            "bin_end": 0.9402670641745378,
            "bin_start": 0.6460195019137575,
            "count": 5
           },
           {
            "bin_end": 1.2345146264353182,
            "bin_start": 0.9402670641745378,
            "count": 0
           },
           {
            "bin_end": 1.5287621886960985,
            "bin_start": 1.2345146264353182,
            "count": 4
           },
           {
            "bin_end": 1.8230097509568788,
            "bin_start": 1.5287621886960985,
            "count": 2
           },
           {
            "bin_end": 2.117257313217659,
            "bin_start": 1.8230097509568788,
            "count": 0
           },
           {
            "bin_end": 2.4115048754784394,
            "bin_start": 2.117257313217659,
            "count": 1
           },
           {
            "bin_end": 2.70575243773922,
            "bin_start": 2.4115048754784394,
            "count": 0
           },
           {
            "bin_end": 3,
            "bin_start": 2.70575243773922,
            "count": 3
           }
          ],
          "max": 3,
          "min": 0.05752437739219688,
          "nan_count": 0,
          "unique_count": 27
         }
        },
        {
         "dtype": "float64",
         "name": "Florida",
         "stats": {
          "histogram": [
           {
            "bin_end": 2.99424191222748,
            "bin_start": 0.10471323580831104,
            "count": 7
           },
           {
            "bin_end": 5.883770588646649,
            "bin_start": 2.99424191222748,
            "count": 6
           },
           {
            "bin_end": 8.77329926506582,
            "bin_start": 5.883770588646649,
            "count": 5
           },
           {
            "bin_end": 11.662827941484988,
            "bin_start": 8.77329926506582,
            "count": 1
           },
           {
            "bin_end": 14.552356617904156,
            "bin_start": 11.662827941484988,
            "count": 1
           },
           {
            "bin_end": 17.441885294323328,
            "bin_start": 14.552356617904156,
            "count": 1
           },
           {
            "bin_end": 20.331413970742496,
            "bin_start": 17.441885294323328,
            "count": 1
           },
           {
            "bin_end": 23.220942647161664,
            "bin_start": 20.331413970742496,
            "count": 1
           },
           {
            "bin_end": 26.110471323580832,
            "bin_start": 23.220942647161664,
            "count": 2
           },
           {
            "bin_end": 29,
            "bin_start": 26.110471323580832,
            "count": 2
           }
          ],
          "max": 29,
          "min": 0.10471323580831104,
          "nan_count": 0,
          "unique_count": 27
         }
        },
        {
         "dtype": "float64",
         "name": "Georgia",
         "stats": {
          "histogram": [
           {
            "bin_end": 1.7111085667252737,
            "bin_start": 0.12345396302808173,
            "count": 9
           },
           {
            "bin_end": 3.2987631704224656,
            "bin_start": 1.7111085667252737,
            "count": 3
           },
           {
            "bin_end": 4.886417774119657,
            "bin_start": 3.2987631704224656,
            "count": 5
           },
           {
            "bin_end": 6.474072377816849,
            "bin_start": 4.886417774119657,
            "count": 2
           },
           {
            "bin_end": 8.061726981514042,
            "bin_start": 6.474072377816849,
            "count": 1
           },
           {
            "bin_end": 9.649381585211232,
            "bin_start": 8.061726981514042,
            "count": 2
           },
           {
            "bin_end": 11.237036188908425,
            "bin_start": 9.649381585211232,
            "count": 1
           },
           {
            "bin_end": 12.824690792605617,
            "bin_start": 11.237036188908425,
            "count": 0
           },
           {
            "bin_end": 14.41234539630281,
            "bin_start": 12.824690792605617,
            "count": 2
           },
           {
            "bin_end": 16,
            "bin_start": 14.41234539630281,
            "count": 2
           }
          ],
          "max": 16,
          "min": 0.12345396302808173,
          "nan_count": 0,
          "unique_count": 27
         }
        },
        {
         "dtype": "float64",
         "name": "Hawaii",
         "stats": {
          "histogram": [
           {
            "bin_end": 0.44994129967588053,
            "bin_start": 0.05549033297320066,
            "count": 9
           },
           {
            "bin_end": 0.8443922663785604,
            "bin_start": 0.44994129967588053,
            "count": 3
           },
           {
            "bin_end": 1.2388432330812402,
            "bin_start": 0.8443922663785604,
            "count": 7
           },
           {
            "bin_end": 1.63329419978392,
            "bin_start": 1.2388432330812402,
            "count": 2
           },
           {
            "bin_end": 2.0277451664866,
            "bin_start": 1.63329419978392,
            "count": 1
           },
           {
            "bin_end": 2.42219613318928,
            "bin_start": 2.0277451664866,
            "count": 1
           },
           {
            "bin_end": 2.81664709989196,
            "bin_start": 2.42219613318928,
            "count": 0
           },
           {
            "bin_end": 3.21109806659464,
            "bin_start": 2.81664709989196,
            "count": 0
           },
           {
            "bin_end": 3.6055490332973195,
            "bin_start": 3.21109806659464,
            "count": 1
           },
           {
            "bin_end": 3.9999999999999996,
            "bin_start": 3.6055490332973195,
            "count": 3
           }
          ],
          "max": 3.9999999999999996,
          "min": 0.05549033297320066,
          "nan_count": 0,
          "unique_count": 27
         }
        },
        {
         "dtype": "float64",
         "name": "Idaho",
         "stats": {
          "histogram": [
           {
            "bin_end": 0.41989108481394954,
            "bin_start": 0.022101205348832823,
            "count": 10
           },
           {
            "bin_end": 0.8176809642790663,
            "bin_start": 0.41989108481394954,
            "count": 2
           },
           {
            "bin_end": 1.215470843744183,
            "bin_start": 0.8176809642790663,
            "count": 6
           },
           {
            "bin_end": 1.6132607232092997,
            "bin_start": 1.215470843744183,
            "count": 1
           },
           {
            "bin_end": 2.0110506026744166,
            "bin_start": 1.6132607232092997,
            "count": 2
           },
           {
            "bin_end": 2.4088404821395333,
            "bin_start": 2.0110506026744166,
            "count": 0
           },
           {
            "bin_end": 2.80663036160465,
            "bin_start": 2.4088404821395333,
            "count": 0
           },
           {
            "bin_end": 3.2044202410697666,
            "bin_start": 2.80663036160465,
            "count": 0
           },
           {
            "bin_end": 3.6022101205348833,
            "bin_start": 3.2044202410697666,
            "count": 2
           },
           {
            "bin_end": 4,
            "bin_start": 3.6022101205348833,
            "count": 4
           }
          ],
          "max": 4,
          "min": 0.022101205348832823,
          "nan_count": 0,
          "unique_count": 27
         }
        },
        {
         "dtype": "float64",
         "name": "Illinois",
         "stats": {
          "histogram": [
           {
            "bin_end": 2.128471662812653,
            "bin_start": 0.14274629201405886,
            "count": 8
           },
           {
            "bin_end": 4.114197033611247,
            "bin_start": 2.128471662812653,
            "count": 4
           },
           {
            "bin_end": 6.099922404409841,
            "bin_start": 4.114197033611247,
            "count": 5
           },
           {
            "bin_end": 8.085647775208434,
            "bin_start": 6.099922404409841,
            "count": 2
           },
           {
            "bin_end": 10.071373146007028,
            "bin_start": 8.085647775208434,
            "count": 1
           },
           {
            "bin_end": 12.057098516805622,
            "bin_start": 10.071373146007028,
            "count": 1
           },
           {
            "bin_end": 14.042823887604216,
            "bin_start": 12.057098516805622,
            "count": 1
           },
           {
            "bin_end": 16.028549258402812,
            "bin_start": 14.042823887604216,
            "count": 1
           },
           {
            "bin_end": 18.014274629201406,
            "bin_start": 16.028549258402812,
            "count": 1
           },
           {
            "bin_end": 20,
            "bin_start": 18.014274629201406,
            "count": 3
           }
          ],
          "max": 20,
          "min": 0.14274629201405886,
          "nan_count": 0,
          "unique_count": 27
         }
        },
        {
         "dtype": "float64",
         "name": "Indiana",
         "stats": {
          "histogram": [
           {
            "bin_end": 1.2106322374583378,
            "bin_start": 0.12292470828704224,
            "count": 10
           },
           {
            "bin_end": 2.2983397666296335,
            "bin_start": 1.2106322374583378,
            "count": 3
           },
           {
            "bin_end": 3.386047295800929,
            "bin_start": 2.2983397666296335,
            "count": 4
           },
           {
            "bin_end": 4.473754824972225,
            "bin_start": 3.386047295800929,
            "count": 2
           },
           {
            "bin_end": 5.56146235414352,
            "bin_start": 4.473754824972225,
            "count": 1
           },
           {
            "bin_end": 6.6491698833148165,
            "bin_start": 5.56146235414352,
            "count": 1
           },
           {
            "bin_end": 7.736877412486113,
            "bin_start": 6.6491698833148165,
            "count": 0
           },
           {
            "bin_end": 8.824584941657408,
            "bin_start": 7.736877412486113,
            "count": 0
           },
           {
            "bin_end": 9.912292470828703,
            "bin_start": 8.824584941657408,
            "count": 4
           },
           {
            "bin_end": 11,
            "bin_start": 9.912292470828703,
            "count": 2
           }
          ],
          "max": 11,
          "min": 0.12292470828704224,
          "nan_count": 0,
          "unique_count": 27
         }
        },
        {
         "dtype": "float64",
         "name": "Iowa",
         "stats": {
          "histogram": [
           {
            "bin_end": 0.6401582554061639,
            "bin_start": 0.04462028378462643,
            "count": 10
           },
           {
            "bin_end": 1.2356962270277012,
            "bin_start": 0.6401582554061639,
            "count": 2
           },
           {
            "bin_end": 1.8312341986492386,
            "bin_start": 1.2356962270277012,
            "count": 5
           },
           {
            "bin_end": 2.4267721702707763,
            "bin_start": 1.8312341986492386,
            "count": 2
           },
           {
            "bin_end": 3.0223101418923135,
            "bin_start": 2.4267721702707763,
            "count": 1
           },
           {
            "bin_end": 3.617848113513851,
            "bin_start": 3.0223101418923135,
            "count": 1
           },
           {
            "bin_end": 4.213386085135388,
            "bin_start": 3.617848113513851,
            "count": 0
           },
           {
            "bin_end": 4.808924056756926,
            "bin_start": 4.213386085135388,
            "count": 0
           },
           {
            "bin_end": 5.404462028378463,
            "bin_start": 4.808924056756926,
            "count": 1
           },
           {
            "bin_end": 6,
            "bin_start": 5.404462028378463,
            "count": 5
           }
          ],
          "max": 6,
          "min": 0.04462028378462643,
          "nan_count": 0,
          "unique_count": 27
         }
        },
        {
         "dtype": "float64",
         "name": "Kansas",
         "stats": {
          "histogram": [
           {
            "bin_end": 0.6714539218203754,
            "bin_start": 0.07939324646708373,
            "count": 11
           },
           {
            "bin_end": 1.263514597173667,
            "bin_start": 0.6714539218203754,
            "count": 1
           },
           {
            "bin_end": 1.8555752725269588,
            "bin_start": 1.263514597173667,
            "count": 5
           },
           {
            "bin_end": 2.4476359478802503,
            "bin_start": 1.8555752725269588,
            "count": 2
           },
           {
            "bin_end": 3.039696623233542,
            "bin_start": 2.4476359478802503,
            "count": 1
           },
           {
            "bin_end": 3.631757298586834,
            "bin_start": 3.039696623233542,
            "count": 1
           },
           {
            "bin_end": 4.223817973940125,
            "bin_start": 3.631757298586834,
            "count": 0
           },
           {
            "bin_end": 4.815878649293417,
            "bin_start": 4.223817973940125,
            "count": 0
           },
           {
            "bin_end": 5.4079393246467085,
            "bin_start": 4.815878649293417,
            "count": 3
           },
           {
            "bin_end": 6,
            "bin_start": 5.4079393246467085,
            "count": 3
           }
          ],
          "max": 6,
          "min": 0.07939324646708373,
          "nan_count": 0,
          "unique_count": 27
         }
        },
        {
         "dtype": "float64",
         "name": "Kentucky",
         "stats": {
          "histogram": [
           {
            "bin_end": 0.8268064397145173,
            "bin_start": 0.029784933016130322,
            "count": 10
           },
           {
            "bin_end": 1.6238279464129044,
            "bin_start": 0.8268064397145173,
            "count": 2
           },
           {
            "bin_end": 2.420849453111291,
            "bin_start": 1.6238279464129044,
            "count": 5
           },
           {
            "bin_end": 3.2178709598096784,
            "bin_start": 2.420849453111291,
            "count": 2
           },
           {
            "bin_end": 4.014892466508066,
            "bin_start": 3.2178709598096784,
            "count": 1
           },
           {
            "bin_end": 4.811913973206452,
            "bin_start": 4.014892466508066,
            "count": 1
           },
           {
            "bin_end": 5.608935479904839,
            "bin_start": 4.811913973206452,
            "count": 0
           },
           {
            "bin_end": 6.405956986603226,
            "bin_start": 5.608935479904839,
            "count": 0
           },
           {
            "bin_end": 7.202978493301614,
            "bin_start": 6.405956986603226,
            "count": 4
           },
           {
            "bin_end": 8,
            "bin_start": 7.202978493301614,
            "count": 2
           }
          ],
          "max": 8,
          "min": 0.029784933016130322,
          "nan_count": 0,
          "unique_count": 27
         }
        },
        {
         "dtype": "float64",
         "name": "Louisiana",
         "stats": {
          "histogram": [
           {
            "bin_end": 0.8476746143575009,
            "bin_start": 0.052971793730556445,
            "count": 8
           },
           {
            "bin_end": 1.6423774349844453,
            "bin_start": 0.8476746143575009,
            "count": 4
           },
           {
            "bin_end": 2.4370802556113897,
            "bin_start": 1.6423774349844453,
            "count": 4
           },
           {
            "bin_end": 3.231783076238334,
            "bin_start": 2.4370802556113897,
            "count": 3
           },
           {
            "bin_end": 4.026485896865278,
            "bin_start": 3.231783076238334,
            "count": 1
           },
           {
            "bin_end": 4.821188717492223,
            "bin_start": 4.026485896865278,
            "count": 1
           },
           {
            "bin_end": 5.615891538119167,
            "bin_start": 4.821188717492223,
            "count": 2
           },
           {
            "bin_end": 6.410594358746112,
            "bin_start": 5.615891538119167,
            "count": 0
           },
           {
            "bin_end": 7.205297179373056,
            "bin_start": 6.410594358746112,
            "count": 2
           },
           {
            "bin_end": 8,
            "bin_start": 7.205297179373056,
            "count": 2
           }
          ],
          "max": 8,
          "min": 0.052971793730556445,
          "nan_count": 0,
          "unique_count": 27
         }
        },
        {
         "dtype": "float64",
         "name": "Maine",
         "stats": {
          "histogram": [
           {
            "bin_end": 0.4,
            "bin_start": 0,
            "count": 9
           },
           {
            "bin_end": 0.8,
            "bin_start": 0.4,
            "count": 4
           },
           {
            "bin_end": 1.2000000000000002,
            "bin_start": 0.8,
            "count": 4
           },
           {
            "bin_end": 1.6,
            "bin_start": 1.2000000000000002,
            "count": 2
           },
           {
            "bin_end": 2,
            "bin_start": 1.6,
            "count": 1
           },
           {
            "bin_end": 2.4000000000000004,
            "bin_start": 2,
            "count": 1
           },
           {
            "bin_end": 2.8000000000000003,
            "bin_start": 2.4000000000000004,
            "count": 0
           },
           {
            "bin_end": 3.2,
            "bin_start": 2.8000000000000003,
            "count": 0
           },
           {
            "bin_end": 3.6,
            "bin_start": 3.2,
            "count": 1
           },
           {
            "bin_end": 4,
            "bin_start": 3.6,
            "count": 5
           }
          ],
          "max": 4,
          "min": 0,
          "nan_count": 0,
          "unique_count": 26
         }
        },
        {
         "dtype": "float64",
         "name": "Maryland",
         "stats": {
          "histogram": [
           {
            "bin_end": 1.1709030950640058,
            "bin_start": 0.18989232784889526,
            "count": 9
           },
           {
            "bin_end": 2.151913862279116,
            "bin_start": 1.1709030950640058,
            "count": 4
           },
           {
            "bin_end": 3.1329246294942266,
            "bin_start": 2.151913862279116,
            "count": 4
           },
           {
            "bin_end": 4.113935396709337,
            "bin_start": 3.1329246294942266,
            "count": 2
           },
           {
            "bin_end": 5.0949461639244475,
            "bin_start": 4.113935396709337,
            "count": 1
           },
           {
            "bin_end": 6.075956931139558,
            "bin_start": 5.0949461639244475,
            "count": 3
           },
           {
            "bin_end": 7.0569676983546685,
            "bin_start": 6.075956931139558,
            "count": 0
           },
           {
            "bin_end": 8.037978465569779,
            "bin_start": 7.0569676983546685,
            "count": 0
           },
           {
            "bin_end": 9.01898923278489,
            "bin_start": 8.037978465569779,
            "count": 1
           },
           {
            "bin_end": 10,
            "bin_start": 9.01898923278489,
            "count": 3
           }
          ],
          "max": 10,
          "min": 0.18989232784889526,
          "nan_count": 0,
          "unique_count": 27
         }
        },
        {
         "dtype": "float64",
         "name": "Massachusetts",
         "stats": {
          "histogram": [
           {
            "bin_end": 1.2576544446916793,
            "bin_start": 0.17517160521297712,
            "count": 10
           },
           {
            "bin_end": 2.340137284170382,
            "bin_start": 1.2576544446916793,
            "count": 2
           },
           {
            "bin_end": 3.422620123649084,
            "bin_start": 2.340137284170382,
            "count": 5
           },
           {
            "bin_end": 4.505102963127786,
            "bin_start": 3.422620123649084,
            "count": 2
           },
           {
            "bin_end": 5.587585802606489,
            "bin_start": 4.505102963127786,
            "count": 1
           },
           {
            "bin_end": 6.670068642085191,
            "bin_start": 5.587585802606489,
            "count": 1
           },
           {
            "bin_end": 7.752551481563893,
            "bin_start": 6.670068642085191,
            "count": 0
           },
           {
            "bin_end": 8.835034321042595,
            "bin_start": 7.752551481563893,
            "count": 1
           },
           {
            "bin_end": 9.917517160521298,
            "bin_start": 8.835034321042595,
            "count": 2
           },
           {
            "bin_end": 11,
            "bin_start": 9.917517160521298,
            "count": 3
           }
          ],
          "max": 11,
          "min": 0.17517160521297712,
          "nan_count": 0,
          "unique_count": 27
         }
        },
        {
         "dtype": "float64",
         "name": "Michigan",
         "stats": {
          "histogram": [
           {
            "bin_end": 1.703737967005296,
            "bin_start": 0.11526440778366218,
            "count": 9
           },
           {
            "bin_end": 3.2922115262269296,
            "bin_start": 1.703737967005296,
            "count": 3
           },
           {
            "bin_end": 4.880685085448563,
            "bin_start": 3.2922115262269296,
            "count": 6
           },
           {
            "bin_end": 6.4691586446701965,
            "bin_start": 4.880685085448563,
            "count": 1
           },
           {
            "bin_end": 8.057632203891831,
            "bin_start": 6.4691586446701965,
            "count": 1
           },
           {
            "bin_end": 9.646105763113464,
            "bin_start": 8.057632203891831,
            "count": 1
           },
           {
            "bin_end": 11.2345793223351,
            "bin_start": 9.646105763113464,
            "count": 0
           },
           {
            "bin_end": 12.823052881556732,
            "bin_start": 11.2345793223351,
            "count": 1
           },
           {
            "bin_end": 14.411526440778365,
            "bin_start": 12.823052881556732,
            "count": 2
           },
           {
            "bin_end": 16,
            "bin_start": 14.411526440778365,
            "count": 3
           }
          ],
          "max": 16,
          "min": 0.11526440778366218,
          "nan_count": 0,
          "unique_count": 27
         }
        },
        {
         "dtype": "float64",
         "name": "Minnesota",
         "stats": {
          "histogram": [
           {
            "bin_end": 1.0807818902200481,
            "bin_start": 0.08975765580005353,
            "count": 9
           },
           {
            "bin_end": 2.0718061246400428,
            "bin_start": 1.0807818902200481,
            "count": 3
           },
           {
            "bin_end": 3.062830359060037,
            "bin_start": 2.0718061246400428,
            "count": 5
           },
           {
            "bin_end": 4.0538545934800325,
            "bin_start": 3.062830359060037,
            "count": 2
           },
           {
            "bin_end": 5.044878827900027,
            "bin_start": 4.0538545934800325,
            "count": 1
           },
           {
            "bin_end": 6.035903062320021,
            "bin_start": 5.044878827900027,
            "count": 1
           },
           {
            "bin_end": 7.026927296740016,
            "bin_start": 6.035903062320021,
            "count": 0
           },
           {
            "bin_end": 8.01795153116001,
            "bin_start": 7.026927296740016,
            "count": 0
           },
           {
            "bin_end": 9.008975765580004,
            "bin_start": 8.01795153116001,
            "count": 3
           },
           {
            "bin_end": 10,
            "bin_start": 9.008975765580004,
            "count": 3
           }
          ],
          "max": 10,
          "min": 0.08975765580005353,
          "nan_count": 0,
          "unique_count": 27
         }
        },
        {
         "dtype": "float64",
         "name": "Mississippi",
         "stats": {
          "histogram": [
           {
            "bin_end": 0.6242172404442253,
            "bin_start": 0.026908044938028088,
            "count": 8
           },
           {
            "bin_end": 1.2215264359504225,
            "bin_start": 0.6242172404442253,
            "count": 4
           },
           {
            "bin_end": 1.8188356314566199,
            "bin_start": 1.2215264359504225,
            "count": 4
           },
           {
            "bin_end": 2.416144826962817,
            "bin_start": 1.8188356314566199,
            "count": 3
           },
           {
            "bin_end": 3.013454022469014,
            "bin_start": 2.416144826962817,
            "count": 1
           },
           {
            "bin_end": 3.6107632179752116,
            "bin_start": 3.013454022469014,
            "count": 2
           },
           {
            "bin_end": 4.208072413481409,
            "bin_start": 3.6107632179752116,
            "count": 1
           },
           {
            "bin_end": 4.805381608987606,
            "bin_start": 4.208072413481409,
            "count": 1
           },
           {
            "bin_end": 5.402690804493803,
            "bin_start": 4.805381608987606,
            "count": 1
           },
           {
            "bin_end": 6,
            "bin_start": 5.402690804493803,
            "count": 2
           }
          ],
          "max": 6,
          "min": 0.026908044938028088,
          "nan_count": 0,
          "unique_count": 27
         }
        },
        {
         "dtype": "float64",
         "name": "Missouri",
         "stats": {
          "histogram": [
           {
            "bin_end": 1.0608316801766415,
            "bin_start": 0.06759075575182397,
            "count": 9
           },
           {
            "bin_end": 2.054072604601459,
            "bin_start": 1.0608316801766415,
            "count": 3
           },
           {
            "bin_end": 3.047313529026276,
            "bin_start": 2.054072604601459,
            "count": 5
           },
           {
            "bin_end": 4.040554453451094,
            "bin_start": 3.047313529026276,
            "count": 2
           },
           {
            "bin_end": 5.0337953778759115,
            "bin_start": 4.040554453451094,
            "count": 1
           },
           {
            "bin_end": 6.027036302300728,
            "bin_start": 5.0337953778759115,
            "count": 1
           },
           {
            "bin_end": 7.020277226725546,
            "bin_start": 6.027036302300728,
            "count": 0
           },
           {
            "bin_end": 8.013518151150365,
            "bin_start": 7.020277226725546,
            "count": 0
           },
           {
            "bin_end": 9.006759075575182,
            "bin_start": 8.013518151150365,
            "count": 4
           },
           {
            "bin_end": 10,
            "bin_start": 9.006759075575182,
            "count": 2
           }
          ],
          "max": 10,
          "min": 0.06759075575182397,
          "nan_count": 0,
          "unique_count": 27
         }
        },
        {
         "dtype": "float64",
         "name": "Montana",
         "stats": {
          "histogram": [
           {
            "bin_end": 0.3,
            "bin_start": 0,
            "count": 10
           },
           {
            "bin_end": 0.6,
            "bin_start": 0.3,
            "count": 2
           },
           {
            "bin_end": 0.8999999999999999,
            "bin_start": 0.6,
            "count": 6
           },
           {
            "bin_end": 1.2,
            "bin_start": 0.8999999999999999,
            "count": 1
           },
           {
            "bin_end": 1.5,
            "bin_start": 1.2,
            "count": 1
           },
           {
            "bin_end": 1.7999999999999998,
            "bin_start": 1.5,
            "count": 1
           },
           {
            "bin_end": 2.1,
            "bin_start": 1.7999999999999998,
            "count": 0
           },
           {
            "bin_end": 2.4,
            "bin_start": 2.1,
            "count": 0
           },
           {
            "bin_end": 2.6999999999999997,
            "bin_start": 2.4,
            "count": 2
           },
           {
            "bin_end": 3,
            "bin_start": 2.6999999999999997,
            "count": 4
           }
          ],
          "max": 3,
          "min": 0,
          "nan_count": 0,
          "unique_count": 26
         }
        },
        {
         "dtype": "float64",
         "name": "Nebraska",
         "stats": {
          "histogram": [
           {
            "bin_end": 0.548266447368421,
            "bin_start": 0.053629385964912284,
            "count": 11
           },
           {
            "bin_end": 1.0429035087719298,
            "bin_start": 0.548266447368421,
            "count": 1
           },
           {
            "bin_end": 1.5375405701754385,
            "bin_start": 1.0429035087719298,
            "count": 6
           },
           {
            "bin_end": 2.0321776315789473,
            "bin_start": 1.5375405701754385,
            "count": 1
           },
           {
            "bin_end": 2.526814692982456,
            "bin_start": 2.0321776315789473,
            "count": 1
           },
           {
            "bin_end": 3.021451754385965,
            "bin_start": 2.526814692982456,
            "count": 1
           },
           {
            "bin_end": 3.5160888157894736,
            "bin_start": 3.021451754385965,
            "count": 0
           },
           {
            "bin_end": 4.010725877192982,
            "bin_start": 3.5160888157894736,
            "count": 0
           },
           {
            "bin_end": 4.505362938596491,
            "bin_start": 4.010725877192982,
            "count": 2
           },
           {
            "bin_end": 5,
            "bin_start": 4.505362938596491,
            "count": 4
           }
          ],
          "max": 5,
          "min": 0.053629385964912284,
          "nan_count": 0,
          "unique_count": 27
         }
        },
        {
         "dtype": "float64",
         "name": "Nevada",
         "stats": {
          "histogram": [
           {
            "bin_end": 0.7300702585105551,
            "bin_start": 0.14452250945617226,
            "count": 10
           },
           {
            "bin_end": 1.3156180075649377,
            "bin_start": 0.7300702585105551,
            "count": 4
           },
           {
            "bin_end": 1.9011657566193205,
            "bin_start": 1.3156180075649377,
            "count": 4
           },
           {
            "bin_end": 2.4867135056737033,
            "bin_start": 1.9011657566193205,
            "count": 1
           },
           {
            "bin_end": 3.0722612547280863,
            "bin_start": 2.4867135056737033,
            "count": 2
           },
           {
            "bin_end": 3.657809003782469,
            "bin_start": 3.0722612547280863,
            "count": 1
           },
           {
            "bin_end": 4.243356752836852,
            "bin_start": 3.657809003782469,
            "count": 1
           },
           {
            "bin_end": 4.828904501891235,
            "bin_start": 4.243356752836852,
            "count": 0
           },
           {
            "bin_end": 5.414452250945618,
            "bin_start": 4.828904501891235,
            "count": 2
           },
           {
            "bin_end": 6,
            "bin_start": 5.414452250945618,
            "count": 2
           }
          ],
          "max": 6,
          "min": 0.14452250945617226,
          "nan_count": 0,
          "unique_count": 27
         }
        },
        {
         "dtype": "float64",
         "name": "New Hampshire",
         "stats": {
          "histogram": [
           {
            "bin_end": 0.41121993587463995,
            "bin_start": 0.012466595416266638,
            "count": 10
           },
           {
            "bin_end": 0.8099732763330132,
            "bin_start": 0.41121993587463995,
            "count": 2
           },
           {
            "bin_end": 1.2087266167913866,
            "bin_start": 0.8099732763330132,
            "count": 5
           },
           {
            "bin_end": 1.6074799572497598,
            "bin_start": 1.2087266167913866,
            "count": 2
           },
           {
            "bin_end": 2.006233297708133,
            "bin_start": 1.6074799572497598,
            "count": 1
           },
           {
            "bin_end": 2.404986638166507,
            "bin_start": 2.006233297708133,
            "count": 1
           },
           {
            "bin_end": 2.80373997862488,
            "bin_start": 2.404986638166507,
            "count": 0
           },
           {
            "bin_end": 3.202493319083253,
            "bin_start": 2.80373997862488,
            "count": 0
           },
           {
            "bin_end": 3.6012466595416264,
            "bin_start": 3.202493319083253,
            "count": 1
           },
           {
            "bin_end": 4,
            "bin_start": 3.6012466595416264,
            "count": 5
           }
          ],
          "max": 4,
          "min": 0.012466595416266638,
          "nan_count": 0,
          "unique_count": 27
         }
        },
        {
         "dtype": "float64",
         "name": "New Jersey",
         "stats": {
          "histogram": [
           {
            "bin_end": 1.5666488531406784,
            "bin_start": 0.18516539237853158,
            "count": 8
           },
           {
            "bin_end": 2.9481323139028253,
            "bin_start": 1.5666488531406784,
            "count": 5
           },
           {
            "bin_end": 4.329615774664973,
            "bin_start": 2.9481323139028253,
            "count": 4
           },
           {
            "bin_end": 5.7110992354271195,
            "bin_start": 4.329615774664973,
            "count": 2
           },
           {
            "bin_end": 7.092582696189266,
            "bin_start": 5.7110992354271195,
            "count": 1
           },
           {
            "bin_end": 8.474066156951412,
            "bin_start": 7.092582696189266,
            "count": 1
           },
           {
            "bin_end": 9.855549617713558,
            "bin_start": 8.474066156951412,
            "count": 1
           },
           {
            "bin_end": 11.237033078475706,
            "bin_start": 9.855549617713558,
            "count": 1
           },
           {
            "bin_end": 12.618516539237854,
            "bin_start": 11.237033078475706,
            "count": 1
           },
           {
            "bin_end": 14,
            "bin_start": 12.618516539237854,
            "count": 3
           }
          ],
          "max": 14,
          "min": 0.18516539237853158,
          "nan_count": 0,
          "unique_count": 27
         }
        },
        {
         "dtype": "float64",
         "name": "New Mexico",
         "stats": {
          "histogram": [
           {
            "bin_end": 0.5552390716511821,
            "bin_start": 0.06137674627909126,
            "count": 9
           },
           {
            "bin_end": 1.049101397023273,
            "bin_start": 0.5552390716511821,
            "count": 2
           },
           {
            "bin_end": 1.542963722395364,
            "bin_start": 1.049101397023273,
            "count": 6
           },
           {
            "bin_end": 2.036826047767455,
            "bin_start": 1.542963722395364,
            "count": 1
           },
           {
            "bin_end": 2.5306883731395455,
            "bin_start": 2.036826047767455,
            "count": 3
           },
           {
            "bin_end": 3.0245506985116366,
            "bin_start": 2.5306883731395455,
            "count": 1
           },
           {
            "bin_end": 3.5184130238837272,
            "bin_start": 3.0245506985116366,
            "count": 0
           },
           {
            "bin_end": 4.012275349255819,
            "bin_start": 3.5184130238837272,
            "count": 1
           },
           {
            "bin_end": 4.506137674627909,
            "bin_start": 4.012275349255819,
            "count": 2
           },
           {
            "bin_end": 5,
            "bin_start": 4.506137674627909,
            "count": 2
           }
          ],
          "max": 5,
          "min": 0.06137674627909126,
          "nan_count": 0,
          "unique_count": 27
         }
        },
        {
         "dtype": "float64",
         "name": "New York",
         "stats": {
          "histogram": [
           {
            "bin_end": 3.0251954690131315,
            "bin_start": 0.13910607668125707,
            "count": 7
           },
           {
            "bin_end": 5.911284861345006,
            "bin_start": 3.0251954690131315,
            "count": 5
           },
           {
            "bin_end": 8.79737425367688,
            "bin_start": 5.911284861345006,
            "count": 5
           },
           {
            "bin_end": 11.683463646008756,
            "bin_start": 8.79737425367688,
            "count": 2
           },
           {
            "bin_end": 14.569553038340631,
            "bin_start": 11.683463646008756,
            "count": 1
           },
           {
            "bin_end": 17.455642430672505,
            "bin_start": 14.569553038340631,
            "count": 1
           },
           {
            "bin_end": 20.34173182300438,
            "bin_start": 17.455642430672505,
            "count": 2
           },
           {
            "bin_end": 23.227821215336256,
            "bin_start": 20.34173182300438,
            "count": 0
           },
           {
            "bin_end": 26.11391060766813,
            "bin_start": 23.227821215336256,
            "count": 2
           },
           {
            "bin_end": 29.000000000000004,
            "bin_start": 26.11391060766813,
            "count": 2
           }
          ],
          "max": 29.000000000000004,
          "min": 0.13910607668125707,
          "nan_count": 0,
          "unique_count": 27
         }
        },
        {
         "dtype": "float64",
         "name": "North Carolina",
         "stats": {
          "histogram": [
           {
            "bin_end": 1.596383643464828,
            "bin_start": 0.10709293718314236,
            "count": 9
           },
           {
            "bin_end": 3.0856743497465136,
            "bin_start": 1.596383643464828,
            "count": 2
           },
           {
            "bin_end": 4.574965056028199,
            "bin_start": 3.0856743497465136,
            "count": 7
           },
           {
            "bin_end": 6.064255762309885,
            "bin_start": 4.574965056028199,
            "count": 1
           },
           {
            "bin_end": 7.553546468591571,
            "bin_start": 6.064255762309885,
            "count": 1
           },
           {
            "bin_end": 9.042837174873254,
            "bin_start": 7.553546468591571,
            "count": 1
           },
           {
            "bin_end": 10.53212788115494,
            "bin_start": 9.042837174873254,
            "count": 1
           },
           {
            "bin_end": 12.021418587436626,
            "bin_start": 10.53212788115494,
            "count": 1
           },
           {
            "bin_end": 13.510709293718312,
            "bin_start": 12.021418587436626,
            "count": 2
           },
           {
            "bin_end": 14.999999999999998,
            "bin_start": 13.510709293718312,
            "count": 2
           }
          ],
          "max": 14.999999999999998,
          "min": 0.10709293718314236,
          "nan_count": 0,
          "unique_count": 27
         }
        },
        {
         "dtype": "float64",
         "name": "North Dakota",
         "stats": {
          "histogram": [
           {
            "bin_end": 0.3,
            "bin_start": 0,
            "count": 9
           },
           {
            "bin_end": 0.6,
            "bin_start": 0.3,
            "count": 3
           },
           {
            "bin_end": 0.8999999999999999,
            "bin_start": 0.6,
            "count": 6
           },
           {
            "bin_end": 1.2,
            "bin_start": 0.8999999999999999,
            "count": 1
           },
           {
            "bin_end": 1.5,
            "bin_start": 1.2,
            "count": 1
           },
           {
            "bin_end": 1.7999999999999998,
            "bin_start": 1.5,
            "count": 1
           },
           {
            "bin_end": 2.1,
            "bin_start": 1.7999999999999998,
            "count": 0
           },
           {
            "bin_end": 2.4,
            "bin_start": 2.1,
            "count": 0
           },
           {
            "bin_end": 2.6999999999999997,
            "bin_start": 2.4,
            "count": 2
           },
           {
            "bin_end": 3,
            "bin_start": 2.6999999999999997,
            "count": 4
           }
          ],
          "max": 3,
          "min": 0,
          "nan_count": 0,
          "unique_count": 27
         }
        },
        {
         "dtype": "float64",
         "name": "Ohio",
         "stats": {
          "histogram": [
           {
            "bin_end": 1.8994086760356663,
            "bin_start": 0.11045408448407368,
            "count": 9
           },
           {
            "bin_end": 3.6883632675872593,
            "bin_start": 1.8994086760356663,
            "count": 4
           },
           {
            "bin_end": 5.477317859138852,
            "bin_start": 3.6883632675872593,
            "count": 4
           },
           {
            "bin_end": 7.266272450690445,
            "bin_start": 5.477317859138852,
            "count": 2
           },
           {
            "bin_end": 9.055227042242038,
            "bin_start": 7.266272450690445,
            "count": 1
           },
           {
            "bin_end": 10.84418163379363,
            "bin_start": 9.055227042242038,
            "count": 1
           },
           {
            "bin_end": 12.633136225345224,
            "bin_start": 10.84418163379363,
            "count": 0
           },
           {
            "bin_end": 14.422090816896816,
            "bin_start": 12.633136225345224,
            "count": 0
           },
           {
            "bin_end": 16.211045408448406,
            "bin_start": 14.422090816896816,
            "count": 3
           },
           {
            "bin_end": 18,
            "bin_start": 16.211045408448406,
            "count": 3
           }
          ],
          "max": 18,
          "min": 0.11045408448407368,
          "nan_count": 0,
          "unique_count": 27
         }
        },
        {
         "dtype": "float64",
         "name": "Oklahoma",
         "stats": {
          "histogram": [
           {
            "bin_end": 0.7966290724121136,
            "bin_start": 0.10736563601345958,
            "count": 10
           },
           {
            "bin_end": 1.4858925088107675,
            "bin_start": 0.7966290724121136,
            "count": 3
           },
           {
            "bin_end": 2.175155945209421,
            "bin_start": 1.4858925088107675,
            "count": 4
           },
           {
            "bin_end": 2.864419381608075,
            "bin_start": 2.175155945209421,
            "count": 2
           },
           {
            "bin_end": 3.5536828180067292,
            "bin_start": 2.864419381608075,
            "count": 1
           },
           {
            "bin_end": 4.242946254405383,
            "bin_start": 3.5536828180067292,
            "count": 1
           },
           {
            "bin_end": 4.932209690804037,
            "bin_start": 4.242946254405383,
            "count": 0
           },
           {
            "bin_end": 5.621473127202691,
            "bin_start": 4.932209690804037,
            "count": 2
           },
           {
            "bin_end": 6.310736563601345,
            "bin_start": 5.621473127202691,
            "count": 2
           },
           {
            "bin_end": 6.999999999999999,
            "bin_start": 6.310736563601345,
            "count": 2
           }
          ],
          "max": 6.999999999999999,
          "min": 0.10736563601345958,
          "nan_count": 0,
          "unique_count": 27
         }
        },
        {
         "dtype": "float64",
         "name": "Oregon",
         "stats": {
          "histogram": [
           {
            "bin_end": 0.8063412483890615,
            "bin_start": 0.11815694265451285,
            "count": 10
           },
           {
            "bin_end": 1.4945255541236102,
            "bin_start": 0.8063412483890615,
            "count": 3
           },
           {
            "bin_end": 2.1827098598581594,
            "bin_start": 1.4945255541236102,
            "count": 4
           },
           {
            "bin_end": 2.870894165592708,
            "bin_start": 2.1827098598581594,
            "count": 2
           },
           {
            "bin_end": 3.5590784713272563,
            "bin_start": 2.870894165592708,
            "count": 1
           },
           {
            "bin_end": 4.247262777061805,
            "bin_start": 3.5590784713272563,
            "count": 1
           },
           {
            "bin_end": 4.935447082796354,
            "bin_start": 4.247262777061805,
            "count": 0
           },
           {
            "bin_end": 5.623631388530902,
            "bin_start": 4.935447082796354,
            "count": 0
           },
           {
            "bin_end": 6.311815694265451,
            "bin_start": 5.623631388530902,
            "count": 3
           },
           {
            "bin_end": 7,
            "bin_start": 6.311815694265451,
            "count": 3
           }
          ],
          "max": 7,
          "min": 0.11815694265451285,
          "nan_count": 0,
          "unique_count": 27
         }
        },
        {
         "dtype": "float64",
         "name": "Pennsylvania",
         "stats": {
          "histogram": [
           {
            "bin_end": 2.109753680798032,
            "bin_start": 0.12194853422003563,
            "count": 9
           },
           {
            "bin_end": 4.097558827376028,
            "bin_start": 2.109753680798032,
            "count": 5
           },
           {
            "bin_end": 6.085363973954025,
            "bin_start": 4.097558827376028,
            "count": 3
           },
           {
            "bin_end": 8.073169120532022,
            "bin_start": 6.085363973954025,
            "count": 2
           },
           {
            "bin_end": 10.060974267110018,
            "bin_start": 8.073169120532022,
            "count": 1
           },
           {
            "bin_end": 12.048779413688013,
            "bin_start": 10.060974267110018,
            "count": 1
           },
           {
            "bin_end": 14.03658456026601,
            "bin_start": 12.048779413688013,
            "count": 0
           },
           {
            "bin_end": 16.02438970684401,
            "bin_start": 14.03658456026601,
            "count": 0
           },
           {
            "bin_end": 18.012194853422002,
            "bin_start": 16.02438970684401,
            "count": 3
           },
           {
            "bin_end": 20,
            "bin_start": 18.012194853422002,
            "count": 3
           }
          ],
          "max": 20,
          "min": 0.12194853422003563,
          "nan_count": 0,
          "unique_count": 27
         }
        },
        {
         "dtype": "float64",
         "name": "Rhode Island",
         "stats": {
          "histogram": [
           {
            "bin_end": 0.4839869903841421,
            "bin_start": 0.09331887820460234,
            "count": 11
           },
           {
            "bin_end": 0.874655102563682,
            "bin_start": 0.4839869903841421,
            "count": 4
           },
           {
            "bin_end": 1.2653232147432218,
            "bin_start": 0.874655102563682,
            "count": 3
           },
           {
            "bin_end": 1.6559913269227615,
            "bin_start": 1.2653232147432218,
            "count": 1
           },
           {
            "bin_end": 2.046659439102301,
            "bin_start": 1.6559913269227615,
            "count": 1
           },
           {
            "bin_end": 2.4373275512818413,
            "bin_start": 2.046659439102301,
            "count": 1
           },
           {
            "bin_end": 2.827995663461381,
            "bin_start": 2.4373275512818413,
            "count": 0
           },
           {
            "bin_end": 3.2186637756409207,
            "bin_start": 2.827995663461381,
            "count": 1
           },
           {
            "bin_end": 3.6093318878204603,
            "bin_start": 3.2186637756409207,
            "count": 3
           },
           {
            "bin_end": 4,
            "bin_start": 3.6093318878204603,
            "count": 2
           }
          ],
          "max": 4,
          "min": 0.09331887820460234,
          "nan_count": 0,
          "unique_count": 27
         }
        },
        {
         "dtype": "float64",
         "name": "South Carolina",
         "stats": {
          "histogram": [
           {
            "bin_end": 0.9547213458907408,
            "bin_start": 0.06080149543415652,
            "count": 9
           },
           {
            "bin_end": 1.848641196347325,
            "bin_start": 0.9547213458907408,
            "count": 2
           },
           {
            "bin_end": 2.7425610468039094,
            "bin_start": 1.848641196347325,
            "count": 7
           },
           {
            "bin_end": 3.6364808972604936,
            "bin_start": 2.7425610468039094,
            "count": 1
           },
           {
            "bin_end": 4.530400747717078,
            "bin_start": 3.6364808972604936,
            "count": 1
           },
           {
            "bin_end": 5.424320598173662,
            "bin_start": 4.530400747717078,
            "count": 1
           },
           {
            "bin_end": 6.318240448630246,
            "bin_start": 5.424320598173662,
            "count": 2
           },
           {
            "bin_end": 7.212160299086831,
            "bin_start": 6.318240448630246,
            "count": 0
           },
           {
            "bin_end": 8.106080149543416,
            "bin_start": 7.212160299086831,
            "count": 2
           },
           {
            "bin_end": 9,
            "bin_start": 8.106080149543416,
            "count": 2
           }
          ],
          "max": 9,
          "min": 0.06080149543415652,
          "nan_count": 0,
          "unique_count": 27
         }
        },
        {
         "dtype": "float64",
         "name": "South Dakota",
         "stats": {
          "histogram": [
           {
            "bin_end": 0.3,
            "bin_start": 0,
            "count": 9
           },
           {
            "bin_end": 0.6,
            "bin_start": 0.3,
            "count": 3
           },
           {
            "bin_end": 0.8999999999999999,
            "bin_start": 0.6,
            "count": 5
           },
           {
            "bin_end": 1.2,
            "bin_start": 0.8999999999999999,
            "count": 2
           },
           {
            "bin_end": 1.5,
            "bin_start": 1.2,
            "count": 1
           },
           {
            "bin_end": 1.7999999999999998,
            "bin_start": 1.5,
            "count": 1
           },
           {
            "bin_end": 2.1,
            "bin_start": 1.7999999999999998,
            "count": 0
           },
           {
            "bin_end": 2.4,
            "bin_start": 2.1,
            "count": 0
           },
           {
            "bin_end": 2.6999999999999997,
            "bin_start": 2.4,
            "count": 3
           },
           {
            "bin_end": 3,
            "bin_start": 2.6999999999999997,
            "count": 3
           }
          ],
          "max": 3,
          "min": 0,
          "nan_count": 0,
          "unique_count": 27
         }
        },
        {
         "dtype": "float64",
         "name": "Tennessee",
         "stats": {
          "histogram": [
           {
            "bin_end": 1.1453069643904839,
            "bin_start": 0.050341071544982234,
            "count": 9
           },
           {
            "bin_end": 2.240272857235986,
            "bin_start": 1.1453069643904839,
            "count": 3
           },
           {
            "bin_end": 3.3352387500814875,
            "bin_start": 2.240272857235986,
            "count": 5
           },
           {
            "bin_end": 4.430204642926989,
            "bin_start": 3.3352387500814875,
            "count": 2
           },
           {
            "bin_end": 5.5251705357724905,
            "bin_start": 4.430204642926989,
            "count": 1
           },
           {
            "bin_end": 6.620136428617992,
            "bin_start": 5.5251705357724905,
            "count": 1
           },
           {
            "bin_end": 7.715102321463494,
            "bin_start": 6.620136428617992,
            "count": 0
           },
           {
            "bin_end": 8.810068214308997,
            "bin_start": 7.715102321463494,
            "count": 1
           },
           {
            "bin_end": 9.905034107154497,
            "bin_start": 8.810068214308997,
            "count": 3
           },
           {
            "bin_end": 11,
            "bin_start": 9.905034107154497,
            "count": 2
           }
          ],
          "max": 11,
          "min": 0.050341071544982234,
          "nan_count": 0,
          "unique_count": 27
         }
        },
        {
         "dtype": "float64",
         "name": "Texas",
         "stats": {
          "histogram": [
           {
            "bin_end": 3.9162277375058085,
            "bin_start": 0.12914193056200926,
            "count": 8
           },
           {
            "bin_end": 7.703313544449608,
            "bin_start": 3.9162277375058085,
            "count": 4
           },
           {
            "bin_end": 11.490399351393405,
            "bin_start": 7.703313544449608,
            "count": 6
           },
           {
            "bin_end": 15.277485158337205,
            "bin_start": 11.490399351393405,
            "count": 1
           },
           {
            "bin_end": 19.064570965281007,
            "bin_start": 15.277485158337205,
            "count": 1
           },
           {
            "bin_end": 22.851656772224803,
            "bin_start": 19.064570965281007,
            "count": 2
           },
           {
            "bin_end": 26.638742579168603,
            "bin_start": 22.851656772224803,
            "count": 0
           },
           {
            "bin_end": 30.425828386112403,
            "bin_start": 26.638742579168603,
            "count": 1
           },
           {
            "bin_end": 34.2129141930562,
            "bin_start": 30.425828386112403,
            "count": 2
           },
           {
            "bin_end": 38,
            "bin_start": 34.2129141930562,
            "count": 2
           }
          ],
          "max": 38,
          "min": 0.12914193056200926,
          "nan_count": 0,
          "unique_count": 27
         }
        },
        {
         "dtype": "float64",
         "name": "Utah",
         "stats": {
          "histogram": [
           {
            "bin_end": 0.6520889705824346,
            "bin_start": 0.05787663398048296,
            "count": 11
           },
           {
            "bin_end": 1.2463013071843865,
            "bin_start": 0.6520889705824346,
            "count": 2
           },
           {
            "bin_end": 1.840513643786338,
            "bin_start": 1.2463013071843865,
            "count": 5
           },
           {
            "bin_end": 2.43472598038829,
            "bin_start": 1.840513643786338,
            "count": 1
           },
           {
            "bin_end": 3.0289383169902417,
            "bin_start": 2.43472598038829,
            "count": 2
           },
           {
            "bin_end": 3.623150653592193,
            "bin_start": 3.0289383169902417,
            "count": 0
           },
           {
            "bin_end": 4.217362990194145,
            "bin_start": 3.623150653592193,
            "count": 0
           },
           {
            "bin_end": 4.811575326796096,
            "bin_start": 4.217362990194145,
            "count": 0
           },
           {
            "bin_end": 5.405787663398048,
            "bin_start": 4.811575326796096,
            "count": 2
           },
           {
            "bin_end": 6,
            "bin_start": 5.405787663398048,
            "count": 4
           }
          ],
          "max": 6,
          "min": 0.05787663398048296,
          "nan_count": 0,
          "unique_count": 27
         }
        },
        {
         "dtype": "float64",
         "name": "Vermont",
         "stats": {
          "histogram": [
           {
            "bin_end": 0.3,
            "bin_start": 0,
            "count": 8
           },
           {
            "bin_end": 0.6,
            "bin_start": 0.3,
            "count": 3
           },
           {
            "bin_end": 0.8999999999999999,
            "bin_start": 0.6,
            "count": 6
           },
           {
            "bin_end": 1.2,
            "bin_start": 0.8999999999999999,
            "count": 2
           },
           {
            "bin_end": 1.5,
            "bin_start": 1.2,
            "count": 1
           },
           {
            "bin_end": 1.7999999999999998,
            "bin_start": 1.5,
            "count": 1
           },
           {
            "bin_end": 2.1,
            "bin_start": 1.7999999999999998,
            "count": 0
           },
           {
            "bin_end": 2.4,
            "bin_start": 2.1,
            "count": 0
           },
           {
            "bin_end": 2.6999999999999997,
            "bin_start": 2.4,
            "count": 1
           },
           {
            "bin_end": 3,
            "bin_start": 2.6999999999999997,
            "count": 5
           }
          ],
          "max": 3,
          "min": 0,
          "nan_count": 0,
          "unique_count": 25
         }
        },
        {
         "dtype": "float64",
         "name": "Virginia",
         "stats": {
          "histogram": [
           {
            "bin_end": 1.4368996173542232,
            "bin_start": 0.1521106859491371,
            "count": 9
           },
           {
            "bin_end": 2.7216885487593094,
            "bin_start": 1.4368996173542232,
            "count": 3
           },
           {
            "bin_end": 4.006477480164396,
            "bin_start": 2.7216885487593094,
            "count": 5
           },
           {
            "bin_end": 5.291266411569482,
            "bin_start": 4.006477480164396,
            "count": 2
           },
           {
            "bin_end": 6.576055342974568,
            "bin_start": 5.291266411569482,
            "count": 1
           },
           {
            "bin_end": 7.860844274379654,
            "bin_start": 6.576055342974568,
            "count": 1
           },
           {
            "bin_end": 9.145633205784742,
            "bin_start": 7.860844274379654,
            "count": 1
           },
           {
            "bin_end": 10.430422137189828,
            "bin_start": 9.145633205784742,
            "count": 1
           },
           {
            "bin_end": 11.715211068594913,
            "bin_start": 10.430422137189828,
            "count": 1
           },
           {
            "bin_end": 13,
            "bin_start": 11.715211068594913,
            "count": 3
           }
          ],
          "max": 13,
          "min": 0.1521106859491371,
          "nan_count": 0,
          "unique_count": 27
         }
        },
        {
         "dtype": "float64",
         "name": "Washington",
         "stats": {
          "histogram": [
           {
            "bin_end": 1.3469733599092906,
            "bin_start": 0.16330373323254543,
            "count": 10
           },
           {
            "bin_end": 2.530642986586036,
            "bin_start": 1.3469733599092906,
            "count": 3
           },
           {
            "bin_end": 3.714312613262781,
            "bin_start": 2.530642986586036,
            "count": 4
           },
           {
            "bin_end": 4.897982239939527,
            "bin_start": 3.714312613262781,
            "count": 2
           },
           {
            "bin_end": 6.081651866616272,
            "bin_start": 4.897982239939527,
            "count": 2
           },
           {
            "bin_end": 7.265321493293017,
            "bin_start": 6.081651866616272,
            "count": 0
           },
           {
            "bin_end": 8.448991119969762,
            "bin_start": 7.265321493293017,
            "count": 0
           },
           {
            "bin_end": 9.632660746646508,
            "bin_start": 8.448991119969762,
            "count": 1
           },
           {
            "bin_end": 10.816330373323254,
            "bin_start": 9.632660746646508,
            "count": 2
           },
           {
            "bin_end": 11.999999999999998,
            "bin_start": 10.816330373323254,
            "count": 3
           }
          ],
          "max": 11.999999999999998,
          "min": 0.16330373323254543,
          "nan_count": 0,
          "unique_count": 27
         }
        },
        {
         "dtype": "float64",
         "name": "West Virginia",
         "stats": {
          "histogram": [
           {
            "bin_end": 0.5,
            "bin_start": 0,
            "count": 10
           },
           {
            "bin_end": 1,
            "bin_start": 0.5,
            "count": 4
           },
           {
            "bin_end": 1.5,
            "bin_start": 1,
            "count": 3
           },
           {
            "bin_end": 2,
            "bin_start": 1.5,
            "count": 1
           },
           {
            "bin_end": 2.5,
            "bin_start": 2,
            "count": 2
           },
           {
            "bin_end": 3,
            "bin_start": 2.5,
            "count": 1
           },
           {
            "bin_end": 3.5,
            "bin_start": 3,
            "count": 0
           },
           {
            "bin_end": 4,
            "bin_start": 3.5,
            "count": 0
           },
           {
            "bin_end": 4.5,
            "bin_start": 4,
            "count": 2
           },
           {
            "bin_end": 5,
            "bin_start": 4.5,
            "count": 4
           }
          ],
          "max": 5,
          "min": 0,
          "nan_count": 0,
          "unique_count": 27
         }
        },
        {
         "dtype": "float64",
         "name": "Wisconsin",
         "stats": {
          "histogram": [
           {
            "bin_end": 1.1013642546404476,
            "bin_start": 0.11262694960049718,
            "count": 11
           },
           {
            "bin_end": 2.090101559680398,
            "bin_start": 1.1013642546404476,
            "count": 2
           },
           {
            "bin_end": 3.0788388647203484,
            "bin_start": 2.090101559680398,
            "count": 4
           },
           {
            "bin_end": 4.067576169760299,
            "bin_start": 3.0788388647203484,
            "count": 2
           },
           {
            "bin_end": 5.056313474800249,
            "bin_start": 4.067576169760299,
            "count": 1
           },
           {
            "bin_end": 6.0450507798402,
            "bin_start": 5.056313474800249,
            "count": 1
           },
           {
            "bin_end": 7.03378808488015,
            "bin_start": 6.0450507798402,
            "count": 0
           },
           {
            "bin_end": 8.0225253899201,
            "bin_start": 7.03378808488015,
            "count": 0
           },
           {
            "bin_end": 9.01126269496005,
            "bin_start": 8.0225253899201,
            "count": 3
           },
           {
            "bin_end": 10,
            "bin_start": 9.01126269496005,
            "count": 3
           }
          ],
          "max": 10,
          "min": 0.11262694960049718,
          "nan_count": 0,
          "unique_count": 27
         }
        },
        {
         "dtype": "float64",
         "name": "Wyoming",
         "stats": {
          "histogram": [
           {
            "bin_end": 0.3,
            "bin_start": 0,
            "count": 9
           },
           {
            "bin_end": 0.6,
            "bin_start": 0.3,
            "count": 3
           },
           {
            "bin_end": 0.8999999999999999,
            "bin_start": 0.6,
            "count": 5
           },
           {
            "bin_end": 1.2,
            "bin_start": 0.8999999999999999,
            "count": 2
           },
           {
            "bin_end": 1.5,
            "bin_start": 1.2,
            "count": 1
           },
           {
            "bin_end": 1.7999999999999998,
            "bin_start": 1.5,
            "count": 1
           },
           {
            "bin_end": 2.1,
            "bin_start": 1.7999999999999998,
            "count": 0
           },
           {
            "bin_end": 2.4,
            "bin_start": 2.1,
            "count": 0
           },
           {
            "bin_end": 2.6999999999999997,
            "bin_start": 2.4,
            "count": 2
           },
           {
            "bin_end": 3,
            "bin_start": 2.6999999999999997,
            "count": 4
           }
          ],
          "max": 3,
          "min": 0,
          "nan_count": 0,
          "unique_count": 26
         }
        },
        {
         "dtype": "float64",
         "name": "Puerto Rico",
         "stats": {
          "histogram": [
           {
            "bin_end": -0.4,
            "bin_start": -0.5,
            "count": 0
           },
           {
            "bin_end": -0.3,
            "bin_start": -0.4,
            "count": 0
           },
           {
            "bin_end": -0.19999999999999996,
            "bin_start": -0.3,
            "count": 0
           },
           {
            "bin_end": -0.09999999999999998,
            "bin_start": -0.19999999999999996,
            "count": 0
           },
           {
            "bin_end": 0,
            "bin_start": -0.09999999999999998,
            "count": 0
           },
           {
            "bin_end": 0.10000000000000009,
            "bin_start": 0,
            "count": 27
           },
           {
            "bin_end": 0.20000000000000007,
            "bin_start": 0.10000000000000009,
            "count": 0
           },
           {
            "bin_end": 0.30000000000000004,
            "bin_start": 0.20000000000000007,
            "count": 0
           },
           {
            "bin_end": 0.4,
            "bin_start": 0.30000000000000004,
            "count": 0
           },
           {
            "bin_end": 0.5,
            "bin_start": 0.4,
            "count": 0
           }
          ],
          "max": 0,
          "min": 0,
          "nan_count": 0,
          "unique_count": 1
         }
        },
        {
         "dtype": "int64",
         "name": "_deepnote_index_column"
        }
       ],
       "row_count": 27,
       "rows_bottom": [
        {
         "Alabama": 0.7258688336931698,
         "Alaska": 0.2508779222538009,
         "Arizona": 0.9519660698579531,
         "Arkansas": 0.41873477621661187,
         "California": 4.48199593340547,
         "Colorado": 0.7181035712938981,
         "Connecticut": 0.5485193939349848,
         "Delaware": 0.23078905744937672,
         "District of Columbia": 0.09767215002918626,
         "Florida": 3.016187732892883,
         "Georgia": 1.2263968712203477,
         "Hawaii": 0.4185001579643273,
         "Idaho": 0.3755499265671216,
         "Illinois": 1.614182623159396,
         "Indiana": 0.9258386639100549,
         "Iowa": 0.678709272347663,
         "Kansas": 0.5272799521437066,
         "Kentucky": 0.6097173463334046,
         "Label": "    Associate's degree",
         "Louisiana": 0.44548886485389516,
         "Maine": 0.3904867745047661,
         "Maryland": 0.683076524798741,
         "Massachusetts": 0.8016383333390079,
         "Michigan": 1.4706455341457443,
         "Minnesota": 1.10604777074123,
         "Mississippi": 0.5900170133018783,
         "Missouri": 0.7686304916403706,
         "Montana": 0.2511569391681879,
         "Nebraska": 0.4989546783625731,
         "Nevada": 0.48664024895468866,
         "New Hampshire": 0.386777171524374,
         "New Jersey": 0.9715368029436354,
         "New Mexico": 0.41585918069694466,
         "New York": 2.603432495005282,
         "North Carolina": 1.3847180493853495,
         "North Dakota": 0.37495548961424335,
         "Ohio": 1.4942010841222468,
         "Oklahoma": 0.5600318961604344,
         "Oregon": 0.6061190173079487,
         "Pennsylvania": 1.60075681175127,
         "Puerto Rico": 0,
         "Rhode Island": 0.30970155375806,
         "South Carolina": 0.8176613153272,
         "South Dakota": 0.31664136793908354,
         "Tennessee": 0.7708284698300654,
         "Texas": 2.8552713178934375,
         "Utah": 0.5762044319625121,
         "Vermont": 0.23909614801334547,
         "Virginia": 1.0107242348670893,
         "Washington": 1.2374946101554936,
         "West Virginia": 0.34021551461690763,
         "Wisconsin": 1.0529196950992477,
         "Wyoming": 0.30415356495066287,
         "_deepnote_index_column": 18
        },
        {
         "Alabama": 1.335336090377846,
         "Alaska": 0.4902163629284515,
         "Arizona": 1.9308001746836922,
         "Arkansas": 0.848445622842401,
         "California": 11.546042750508715,
         "Colorado": 2.270275545867995,
         "Connecticut": 1.4841704551154493,
         "Delaware": 0.5183035469064041,
         "District of Columbia": 0.7240702507668741,
         "Florida": 5.252103869809756,
         "Georgia": 2.857893289272901,
         "Hawaii": 0.8187778631521878,
         "Idaho": 0.6846748739832765,
         "Illinois": 4.087926062124838,
         "Indiana": 1.7716659138305018,
         "Iowa": 1.108099193456483,
         "Kansas": 1.2073041098169957,
         "Kentucky": 1.0683040899373193,
         "Label": "    Bachelor's degree",
         "Louisiana": 1.1571765595777015,
         "Maine": 0.7564023195931976,
         "Maryland": 2.075089819581411,
         "Massachusetts": 2.5932456252261917,
         "Michigan": 2.6473924902779067,
         "Minnesota": 2.271531983610367,
         "Mississippi": 0.759745507494892,
         "Missouri": 1.6977201089770153,
         "Montana": 0.6096354038186393,
         "Nebraska": 1.009016812865497,
         "Nevada": 0.9606850684787859,
         "New Hampshire": 0.8495399391543195,
         "New Jersey": 3.308700555165823,
         "New Mexico": 0.7187350584403323,
         "New York": 5.913830869580017,
         "North Carolina": 2.8679583252939227,
         "North Dakota": 0.615194649895921,
         "Ohio": 2.9349679536725453,
         "Oklahoma": 1.112005814947957,
         "Oregon": 1.403049934516823,
         "Pennsylvania": 3.6389765425841287,
         "Puerto Rico": 0,
         "Rhode Island": 0.7750086137590445,
         "South Carolina": 1.495976888362008,
         "South Dakota": 0.54718186720194,
         "Tennessee": 1.800028827159251,
         "Texas": 7.177663128987593,
         "Utah": 1.24210522163757,
         "Vermont": 0.6304155292690324,
         "Virginia": 2.731458390180239,
         "Washington": 2.545220320113036,
         "West Virginia": 0.5765369431133514,
         "Wisconsin": 1.8682885252166654,
         "Wyoming": 0.4828668071964312,
         "_deepnote_index_column": 19
        },
        {
         "Alabama": 0.7533086838768207,
         "Alaska": 0.28507880139865666,
         "Arizona": 1.0980348901670158,
         "Arkansas": 0.44271690579348466,
         "California": 6.375390417051082,
         "Colorado": 1.2362055159451644,
         "Connecticut": 1.0728358554134199,
         "Delaware": 0.35310049732464416,
         "District of Columbia": 0.8717684529709273,
         "Florida": 2.880492775533718,
         "Georgia": 1.671201875963907,
         "Hawaii": 0.41134300881089914,
         "Idaho": 0.30494612052176295,
         "Illinois": 2.402446486152108,
         "Indiana": 0.9282118838165262,
         "Iowa": 0.48736816529089105,
         "Kansas": 0.6562079051825669,
         "Kentucky": 0.6941804070241447,
         "Label": "    Graduate or professional degree",
         "Louisiana": 0.5856092909343744,
         "Maine": 0.43259492511486647,
         "Maryland": 1.6491195268512298,
         "Massachusetts": 1.8676114825532781,
         "Michigan": 1.5618669412482986,
         "Minnesota": 1.0988780415584467,
         "Mississippi": 0.4327034861606947,
         "Missouri": 0.9632214512194142,
         "Montana": 0.2791898959001431,
         "Nebraska": 0.47292397660818714,
         "Nevada": 0.4827883634064965,
         "New Hampshire": 0.5030837567202443,
         "New Jersey": 1.9403591535902858,
         "New Mexico": 0.5355724634672588,
         "New York": 4.2022938780879135,
         "North Carolina": 1.475780102449054,
         "North Dakota": 0.21227335134416936,
         "Ohio": 1.645353070179164,
         "Oklahoma": 0.5370009920820356,
         "Oregon": 0.7940282871639903,
         "Pennsylvania": 2.180401529313602,
         "Puerto Rico": 0,
         "Rhode Island": 0.45781529828848083,
         "South Carolina": 0.8253601059985293,
         "South Dakota": 0.2394376513637936,
         "Tennessee": 0.9805039888534984,
         "Texas": 3.4844840900731224,
         "Utah": 0.6081188220351685,
         "Vermont": 0.40687291477100396,
         "Virginia": 1.9097006732788873,
         "Washington": 1.3793712874713016,
         "West Virginia": 0.35101084151760253,
         "Wisconsin": 0.9264986584193188,
         "Wyoming": 0.27615499359212287,
         "_deepnote_index_column": 20
        },
        {
         "Alabama": 7.833522085954609,
         "Alaska": 2.7458097668968295,
         "Arizona": 9.840254909097892,
         "Arkansas": 5.26943775380521,
         "California": 48.90980257465218,
         "Colorado": 8.39742872162895,
         "Connecticut": 6.416331408253809,
         "Delaware": 2.757489799281408,
         "District of Columbia": 2.7632151126119946,
         "Florida": 25.97403740938198,
         "Georgia": 14.149972530140447,
         "Hawaii": 3.748275068548717,
         "Idaho": 3.669797233413231,
         "Illinois": 18.199024793375653,
         "Indiana": 9.791429342975078,
         "Iowa": 5.557876539281099,
         "Kansas": 5.530001276741641,
         "Kentucky": 6.9605975130679125,
         "Label": "High school degree or higher",
         "Louisiana": 6.828772193613405,
         "Maine": 3.6828812105623596,
         "Maryland": 9.17773096066125,
         "Massachusetts": 10.087425378044186,
         "Michigan": 14.571897510908952,
         "Minnesota": 9.361036186419822,
         "Mississippi": 5.083926322826732,
         "Missouri": 8.981417426207058,
         "Montana": 2.7782007005772362,
         "Nebraska": 4.660321637426901,
         "Nevada": 5.403261991726127,
         "New Hampshire": 3.7224971707997936,
         "New Jersey": 12.827564369442314,
         "New Mexico": 4.396602063324758,
         "New York": 25.84704255851883,
         "North Carolina": 13.385614468621931,
         "North Dakota": 2.785558262101953,
         "Ohio": 16.215744064252338,
         "Oklahoma": 6.2272636698712125,
         "Oregon": 6.43932121001409,
         "Pennsylvania": 18.170440159526937,
         "Puerto Rico": 0,
         "Rhode Island": 3.6027447916732402,
         "South Carolina": 7.925677585701359,
         "South Dakota": 2.7364516742355054,
         "Tennessee": 9.756119840441873,
         "Texas": 33.50940482311742,
         "Utah": 5.601919162833995,
         "Vermont": 2.7776220806794054,
         "Virginia": 11.839870463088115,
         "Washington": 11.11892411479171,
         "West Virginia": 4.355671203386758,
         "Wisconsin": 9.27123563706397,
         "Wyoming": 2.7836448565405867,
         "_deepnote_index_column": 21
        },
        {
         "Alabama": 2.0886447742546665,
         "Alaska": 0.7752951643271081,
         "Arizona": 3.028835064850708,
         "Arkansas": 1.2911625286358857,
         "California": 17.921433167559798,
         "Colorado": 3.5064810618131594,
         "Connecticut": 2.557006310528869,
         "Delaware": 0.8714040442310483,
         "District of Columbia": 1.5958387037378015,
         "Florida": 8.132596645343474,
         "Georgia": 4.529095165236808,
         "Hawaii": 1.230120871963087,
         "Idaho": 0.9896209945050395,
         "Illinois": 6.490372548276946,
         "Indiana": 2.6998777976470283,
         "Iowa": 1.595467358747374,
         "Kansas": 1.8635120149995625,
         "Kentucky": 1.7624844969614641,
         "Label": "Bachelor's degree or higher",
         "Louisiana": 1.742785850512076,
         "Maine": 1.1889972447080641,
         "Maryland": 3.724209346432641,
         "Massachusetts": 4.46085710777947,
         "Michigan": 4.209259431526205,
         "Minnesota": 3.3704100251688134,
         "Mississippi": 1.1924489936555867,
         "Missouri": 2.6609415601964295,
         "Montana": 0.8888252997187824,
         "Nebraska": 1.4819407894736842,
         "Nevada": 1.4434734318852824,
         "New Hampshire": 1.3526236958745637,
         "New Jersey": 5.249059708756109,
         "New Mexico": 1.254307521907591,
         "New York": 10.11612474766793,
         "North Carolina": 4.343738427742976,
         "North Dakota": 0.8274680012400903,
         "Ohio": 4.580321023851709,
         "Oklahoma": 1.6490068070299926,
         "Oregon": 2.1970782216808136,
         "Pennsylvania": 5.819378071897731,
         "Puerto Rico": 0,
         "Rhode Island": 1.2328239120475253,
         "South Carolina": 2.321336994360537,
         "South Dakota": 0.7866195185657335,
         "Tennessee": 2.7805328160127494,
         "Texas": 10.662147219060715,
         "Utah": 1.8502240436727386,
         "Vermont": 1.0372884440400365,
         "Virginia": 4.641159063459126,
         "Washington": 3.924591607584338,
         "West Virginia": 0.9275477846309538,
         "Wisconsin": 2.794787183635984,
         "Wyoming": 0.7590218007885541,
         "_deepnote_index_column": 22
        },
        {
         "Alabama": 8.744825254477124,
         "Alaska": 2.921587953044561,
         "Arizona": 10.735474107309548,
         "Arkansas": 5.796916880973453,
         "California": 53.80851743175706,
         "Colorado": 8.779158863095102,
         "Connecticut": 6.748329706658621,
         "Delaware": 2.9090322662426287,
         "District of Columbia": 2.822890263538316,
         "Florida": 28.356756033153623,
         "Georgia": 15.51673040081547,
         "Hawaii": 3.883024490321272,
         "Idaho": 3.919300095696448,
         "Illinois": 19.449476569323053,
         "Indiana": 10.64322219865853,
         "Iowa": 5.782724788258137,
         "Kansas": 5.79833507151905,
         "Kentucky": 7.72841660708168,
         "Label": "    Total Citizens, 18 years and older, for whom poverty status is determined",
         "Louisiana": 7.7408809875768805,
         "Maine": 3.895289512323661,
         "Maryland": 9.725403074650465,
         "Massachusetts": 10.572315326994728,
         "Michigan": 15.622394655495214,
         "Minnesota": 9.764778956636498,
         "Mississippi": 5.789466430276339,
         "Missouri": 9.680527424094981,
         "Montana": 2.928700231881198,
         "Nebraska": 4.838658625730995,
         "Nevada": 5.91478589394613,
         "New Hampshire": 3.860323792072138,
         "New Jersey": 13.680320172455149,
         "New Mexico": 4.896231077372669,
         "New York": 28.16651169049651,
         "North Carolina": 14.544294255606514,
         "North Dakota": 2.884389919837017,
         "Ohio": 17.441862882827486,
         "Oklahoma": 6.77301388738511,
         "Oregon": 6.870591648999715,
         "Pennsylvania": 19.28608407988473,
         "Puerto Rico": 0,
         "Rhode Island": 3.8160328244168835,
         "South Carolina": 8.714588063373814,
         "South Dakota": 2.89028404185355,
         "Tennessee": 10.706427080943115,
         "Texas": 36.93789569857951,
         "Utah": 5.893521075094075,
         "Vermont": 2.871847133757962,
         "Virginia": 12.546608116997806,
         "Washington": 11.765894813049393,
         "West Virginia": 4.857900604608292,
         "Wisconsin": 9.720273742343824,
         "Wyoming": 2.9242539900415285,
         "_deepnote_index_column": 23
        },
        {
         "Alabama": 1.2470649351494436,
         "Alaska": 0.27739333738359423,
         "Arizona": 1.2942897306333345,
         "Arkansas": 0.8356325077200265,
         "California": 5.647093979424537,
         "Colorado": 0.8207084915921061,
         "Connecticut": 0.5524754878780488,
         "Delaware": 0.33888639279773636,
         "District of Columbia": 0.4130484178690496,
         "Florida": 3.2440340460674193,
         "Georgia": 1.9404844610236989,
         "Hawaii": 0.3362299960606427,
         "Idaho": 0.4521333255704681,
         "Illinois": 2.075798535036778,
         "Indiana": 1.2278280904570924,
         "Iowa": 0.5664373826792037,
         "Kansas": 0.6065498280702408,
         "Kentucky": 1.1914044827804364,
         "Label": "    Income in the past 12 months below poverty level",
         "Louisiana": 1.2997760748292888,
         "Maine": 0.4089330453726032,
         "Maryland": 0.7892246194730337,
         "Massachusetts": 0.936821763103993,
         "Michigan": 1.9300287305624966,
         "Minnesota": 0.8105666855898493,
         "Mississippi": 1.0048659296324107,
         "Missouri": 1.124038739761698,
         "Montana": 0.3443102767773447,
         "Nebraska": 0.4358954678362573,
         "Nevada": 0.6335140627792358,
         "New Hampshire": 0.2620616408121783,
         "New Jersey": 1.080324914842689,
         "New Mexico": 0.8126065580137654,
         "New York": 3.2654490111813614,
         "North Carolina": 1.7728667798775453,
         "North Dakota": 0.2793817263829222,
         "Ohio": 2.082737790884336,
         "Oklahoma": 0.9256675569424405,
         "Oregon": 0.8195458133899373,
         "Pennsylvania": 2.120248636871386,
         "Puerto Rico": 0,
         "Rhode Island": 0.37332599638790065,
         "South Carolina": 1.133181445624955,
         "South Dakota": 0.3306019019240539,
         "Tennessee": 1.3781295958236903,
         "Texas": 4.127076271524504,
         "Utah": 0.5139376464369957,
         "Vermont": 0.3001819836214741,
         "Virginia": 1.166303904086843,
         "Washington": 1.120327945896988,
         "West Virginia": 0.8354743190195814,
         "Wisconsin": 0.989784604244556,
         "Wyoming": 0.2999516783035583,
         "_deepnote_index_column": 24
        },
        {
         "Alabama": 7.497760319327681,
         "Alaska": 2.644194615660967,
         "Arizona": 9.441184376676214,
         "Arkansas": 4.961284373253426,
         "California": 48.16142345233252,
         "Colorado": 7.958450371502996,
         "Connecticut": 6.195854218780572,
         "Delaware": 2.5701458734448925,
         "District of Columbia": 2.4098418456692663,
         "Florida": 25.112721987086204,
         "Georgia": 13.576245939791773,
         "Hawaii": 3.546794494260629,
         "Idaho": 3.46716677012598,
         "Illinois": 17.373678034286275,
         "Indiana": 9.415394108201438,
         "Iowa": 5.216287405578933,
         "Kansas": 5.191785243448809,
         "Kentucky": 6.537012124301244,
         "Label": "    Income in the past 12 months at or above the poverty level",
         "Louisiana": 6.4411049127475914,
         "Maine": 3.4863564669510576,
         "Maryland": 8.936178455177432,
         "Massachusetts": 9.635493563890734,
         "Michigan": 13.692365924932718,
         "Minnesota": 8.954212271046648,
         "Mississippi": 4.784600500643928,
         "Missouri": 8.556488684333283,
         "Montana": 2.584389955103853,
         "Nebraska": 4.402763157894737,
         "Nevada": 5.281271831166894,
         "New Hampshire": 3.5982621512599593,
         "New Jersey": 12.59999525761246,
         "New Mexico": 4.083624519358905,
         "New York": 24.901062679315146,
         "North Carolina": 12.771427475728968,
         "North Dakota": 2.6050081934540947,
         "Ohio": 15.359125091943149,
         "Oklahoma": 5.84734633044267,
         "Oregon": 6.051045835609778,
         "Pennsylvania": 17.165835443013343,
         "Puerto Rico": 0,
         "Rhode Island": 3.442706828028983,
         "South Carolina": 7.581406617748858,
         "South Dakota": 2.559682139929496,
         "Tennessee": 9.328297485119425,
         "Texas": 32.81081942705501,
         "Utah": 5.379583428657079,
         "Vermont": 2.5716651501364876,
         "Virginia": 11.380304212910964,
         "Washington": 10.645566867152404,
         "West Virginia": 4.022426285588711,
         "Wisconsin": 8.73048913809927,
         "Wyoming": 2.6243023117379702,
         "_deepnote_index_column": 25
        },
        {
         "Alabama": 0.11823171374817698,
         "Alaska": 0.4178364459525292,
         "Arizona": 0.130884493472443,
         "Arkansas": 0.12486197254034842,
         "California": 0.1631487628582027,
         "Colorado": 0.15633070827717105,
         "Connecticut": 0.20303392430964592,
         "Delaware": 0.2688426321727214,
         "District of Columbia": 0.48461746396768746,
         "Florida": 0.10471323580831104,
         "Georgia": 0.12345396302808173,
         "Hawaii": 0.3105266647684945,
         "Idaho": 0.17275217900073886,
         "Illinois": 0.14274629201405886,
         "Indiana": 0.12292470828704224,
         "Iowa": 0.15251606743916518,
         "Kansas": 0.16391928123749258,
         "Kentucky": 0.11584753724011894,
         "Label": "    Median Household Income for Households with a Citizen, Voting-Age Householder",
         "Louisiana": 0.10721657092385851,
         "Maine": 0.212167812591299,
         "Maryland": 0.18989232784889526,
         "Massachusetts": 0.17517160521297712,
         "Michigan": 0.11751409529736186,
         "Minnesota": 0.16952181215456613,
         "Mississippi": 0.11708301972236368,
         "Missouri": 0.1168240376327129,
         "Montana": 0.19814741723814694,
         "Nebraska": 0.222108918128655,
         "Nevada": 0.17616763973054525,
         "New Hampshire": 0.2817130223294686,
         "New Jersey": 0.18516539237853158,
         "New Mexico": 0.16112442225969284,
         "New York": 0.13910607668125707,
         "North Carolina": 0.10709293718314236,
         "North Dakota": 0.3306895788121706,
         "Ohio": 0.11045408448407368,
         "Oklahoma": 0.12438515072205443,
         "Oregon": 0.13925990939533278,
         "Pennsylvania": 0.12194853422003563,
         "Puerto Rico": 0,
         "Rhode Island": 0.3313993919254055,
         "South Carolina": 0.1204493566969477,
         "South Dakota": 0.266260016893524,
         "Tennessee": 0.11328276153819011,
         "Texas": 0.12914193056200926,
         "Utah": 0.2077127428783301,
         "Vermont": 0.34968152866242036,
         "Virginia": 0.1521106859491371,
         "Washington": 0.16330373323254543,
         "West Virginia": 0.1523033413373888,
         "Wisconsin": 0.13649403448590341,
         "Wyoming": 0.4262603909155211,
         "_deepnote_index_column": 26
        }
       ],
       "rows_top": [
        {
         "Alabama": 9,
         "Alaska": 3,
         "Arizona": 11,
         "Arkansas": 6.000000000000001,
         "California": 55,
         "Colorado": 9,
         "Connecticut": 7.000000000000001,
         "Delaware": 3.0000000000000004,
         "District of Columbia": 3,
         "Florida": 29,
         "Georgia": 16,
         "Hawaii": 3.9999999999999996,
         "Idaho": 4,
         "Illinois": 20,
         "Indiana": 11,
         "Iowa": 6,
         "Kansas": 6,
         "Kentucky": 8,
         "Label": "Citizens 18 years and over",
         "Louisiana": 8,
         "Maine": 4,
         "Maryland": 10,
         "Massachusetts": 11,
         "Michigan": 16,
         "Minnesota": 10,
         "Mississippi": 6,
         "Missouri": 10,
         "Montana": 3,
         "Nebraska": 5,
         "Nevada": 6,
         "New Hampshire": 4,
         "New Jersey": 14,
         "New Mexico": 5,
         "New York": 29.000000000000004,
         "North Carolina": 14.999999999999998,
         "North Dakota": 3,
         "Ohio": 18,
         "Oklahoma": 6.999999999999999,
         "Oregon": 7,
         "Pennsylvania": 20,
         "Puerto Rico": 0,
         "Rhode Island": 4,
         "South Carolina": 9,
         "South Dakota": 3,
         "Tennessee": 11,
         "Texas": 38,
         "Utah": 6,
         "Vermont": 3,
         "Virginia": 13,
         "Washington": 11.999999999999998,
         "West Virginia": 5,
         "Wisconsin": 10,
         "Wyoming": 3,
         "_deepnote_index_column": 0
        },
        {
         "Alabama": 1.8825567362724154,
         "Alaska": 0.7355135774650007,
         "Arizona": 2.3990697153791505,
         "Arkansas": 1.2608458558246003,
         "California": 12.99370927338326,
         "Colorado": 1.9808070957109132,
         "Connecticut": 1.3967397068615564,
         "Delaware": 0.5958768956012614,
         "District of Columbia": 0.8396067492762196,
         "Florida": 5.475345705446904,
         "Georgia": 3.534331212483608,
         "Hawaii": 0.829730056516126,
         "Idaho": 0.8616944421438301,
         "Illinois": 4.260458371627775,
         "Indiana": 2.3432504274633,
         "Iowa": 1.2653293798151248,
         "Kansas": 1.3323731471107623,
         "Kentucky": 1.6576189003973791,
         "Label": "    18 to 29 years",
         "Louisiana": 1.7449466938174976,
         "Maine": 0.6969676758130836,
         "Maryland": 2.020991615601884,
         "Massachusetts": 2.3510518023128775,
         "Michigan": 3.328632940600337,
         "Minnesota": 2.0131422974312514,
         "Mississippi": 1.31379294605772,
         "Missouri": 2.0800057653364785,
         "Montana": 0.5989269327544526,
         "Nebraska": 1.084967105263158,
         "Nevada": 1.2446198404598632,
         "New Hampshire": 0.765767011191906,
         "New Jersey": 2.719754737911307,
         "New Mexico": 1.0855323514482516,
         "New York": 6.299289489428159,
         "North Carolina": 3.148542739503526,
         "North Dakota": 0.7432357500332167,
         "Ohio": 3.6722614531858624,
         "Oklahoma": 1.5267546503184148,
         "Oregon": 1.3943123090074006,
         "Pennsylvania": 3.9827187685852663,
         "Puerto Rico": 0,
         "Rhode Island": 0.8854565670920329,
         "South Carolina": 1.8780477340814015,
         "South Dakota": 0.6336754635589231,
         "Tennessee": 2.292961687588951,
         "Texas": 8.974217337681221,
         "Utah": 1.6243501550161328,
         "Vermont": 0.6123809523809524,
         "Virginia": 2.7454083564422613,
         "Washington": 2.517638004734698,
         "West Virginia": 0.9325447787360405,
         "Wisconsin": 2.0210863249283495,
         "Wyoming": 0.6210878684529354,
         "_deepnote_index_column": 1
        },
        {
         "Alabama": 2.096119052699533,
         "Alaska": 0.8093267601236145,
         "Arizona": 2.5467068488181277,
         "Arkansas": 1.4014232567324338,
         "California": 13.407760798005338,
         "Colorado": 2.37337511340287,
         "Connecticut": 1.4799945781755486,
         "Delaware": 0.6309515928895675,
         "District of Columbia": 0.8996873739015971,
         "Florida": 6.23875610641394,
         "Georgia": 3.960112541535854,
         "Hawaii": 0.9754316716526188,
         "Idaho": 0.9931634851219495,
         "Illinois": 4.7668317114305365,
         "Indiana": 2.6049916609702177,
         "Iowa": 1.372058889932935,
         "Kansas": 1.4135337482982755,
         "Kentucky": 1.8912692377936327,
         "Label": "    30 to 44 years",
         "Louisiana": 1.9951225361889364,
         "Maine": 0.8411221450130907,
         "Maryland": 2.3567874096700803,
         "Massachusetts": 2.452259272529687,
         "Michigan": 3.4919106412144036,
         "Minnesota": 2.4354699861654865,
         "Mississippi": 1.4432399197752561,
         "Missouri": 2.342816979002757,
         "Montana": 0.6932236420148996,
         "Nebraska": 1.207920321637427,
         "Nevada": 1.461365203944638,
         "New Hampshire": 0.837241141290306,
         "New Jersey": 3.103346141543492,
         "New Mexico": 1.1675711402393865,
         "New York": 6.653497081630688,
         "North Carolina": 3.4651956442973315,
         "North Dakota": 0.7271854377961823,
         "Ohio": 4.114603714418215,
         "Oklahoma": 1.720160919726703,
         "Oregon": 1.706931740650022,
         "Pennsylvania": 4.417221871220537,
         "Puerto Rico": 0,
         "Rhode Island": 0.8622038349843565,
         "South Carolina": 2.0528173888965804,
         "South Dakota": 0.7062599545557969,
         "Tennessee": 2.5907516253155087,
         "Texas": 9.923561591903313,
         "Utah": 1.7044497124509905,
         "Vermont": 0.6169426751592356,
         "Virginia": 3.1513703541535785,
         "Washington": 2.967024417991852,
         "West Virginia": 1.1084578674312862,
         "Wisconsin": 2.2869270682502174,
         "Wyoming": 0.740358420930998,
         "_deepnote_index_column": 2
        },
        {
         "Alabama": 3.076303687739087,
         "Alaska": 0.9988789680487086,
         "Arizona": 3.4711263298899078,
         "Arkansas": 2.000112324232957,
         "California": 17.788650727638164,
         "Colorado": 2.9707891952481336,
         "Connecticut": 2.564149257926068,
         "Delaware": 1.0511423255525714,
         "District of Columbia": 0.7829227014342407,
         "Florida": 9.581046690132167,
         "Georgia": 5.524873974803789,
         "Hawaii": 1.2607269479341776,
         "Idaho": 1.2960267523643256,
         "Illinois": 6.834472053496015,
         "Indiana": 3.7714640462389046,
         "Iowa": 2.018254417067501,
         "Kansas": 1.9833162862024396,
         "Kentucky": 2.766971574678987,
         "Label": "    45 to 64 years",
         "Louisiana": 2.665272227052282,
         "Maine": 1.4688590010117455,
         "Maryland": 3.5943560270052592,
         "Massachusetts": 3.8479922195088685,
         "Michigan": 5.673859465100439,
         "Minnesota": 3.476176399359553,
         "Mississippi": 1.9979478431769142,
         "Missouri": 3.4023191152813324,
         "Montana": 1.007832157481869,
         "Nebraska": 1.6447002923976608,
         "Nevada": 2.004841442034883,
         "New Hampshire": 1.5089995738323532,
         "New Jersey": 5.134072618857701,
         "New Mexico": 1.608257584787701,
         "New York": 9.83301256367076,
         "North Carolina": 5.174402277320313,
         "North Dakota": 0.9327144691970415,
         "Ohio": 6.287945043054025,
         "Oklahoma": 2.287986637751807,
         "Oregon": 2.3105438371311835,
         "Pennsylvania": 7.001539002136291,
         "Puerto Rico": 0,
         "Rhode Island": 1.3850672125623316,
         "South Carolina": 3.0349153975287013,
         "South Dakota": 0.9985568816175393,
         "Tennessee": 3.785301657481914,
         "Texas": 12.313556059379307,
         "Utah": 1.7006127673338014,
         "Vermont": 1.065368516833485,
         "Virginia": 4.481257971787013,
         "Washington": 4.054655114591706,
         "West Virginia": 1.737225296547805,
         "Wisconsin": 3.528436047663771,
         "Wyoming": 1.0103646537295246,
         "_deepnote_index_column": 3
        },
        {
         "Alabama": 1.9450205232889644,
         "Alaska": 0.45628069436267643,
         "Arizona": 2.5830971059128145,
         "Arkansas": 1.3376185632100093,
         "California": 10.809879200973239,
         "Colorado": 1.675028595638084,
         "Connecticut": 1.5591164570368277,
         "Delaware": 0.7220291859566,
         "District of Columbia": 0.4777831753879423,
         "Florida": 7.704851498006986,
         "Georgia": 2.980682271176749,
         "Hawaii": 0.9341113238970774,
         "Idaho": 0.8491153203698951,
         "Illinois": 4.138237863445675,
         "Indiana": 2.2802938653275775,
         "Iowa": 1.3443573131844384,
         "Kansas": 1.2707768183885226,
         "Kentucky": 1.684140287130001,
         "Label": "    65 years and over",
         "Louisiana": 1.5946585429412836,
         "Maine": 0.9930511781620803,
         "Maryland": 2.027864947722777,
         "Massachusetts": 2.348696705648567,
         "Michigan": 3.5055969530848197,
         "Minnesota": 2.0752113170437085,
         "Mississippi": 1.2450192909901099,
         "Missouri": 2.174858140379431,
         "Montana": 0.7000172677487789,
         "Nebraska": 1.0624122807017544,
         "Nevada": 1.2891735135606164,
         "New Hampshire": 0.8879922736854349,
         "New Jersey": 3.0428265016875,
         "New Mexico": 1.1386389235246612,
         "New York": 6.214200865270396,
         "North Carolina": 3.2118593388788286,
         "North Dakota": 0.5968643429735595,
         "Ohio": 3.9251897893419,
         "Oklahoma": 1.4650977922030746,
         "Oregon": 1.5882121132113944,
         "Pennsylvania": 4.598520358057906,
         "Puerto Rico": 0,
         "Rhode Island": 0.8672723853612794,
         "South Carolina": 2.034219479493317,
         "South Dakota": 0.6615077002677405,
         "Tennessee": 2.3309850296136263,
         "Texas": 6.788665011036161,
         "Utah": 0.9705873651990755,
         "Vermont": 0.7053078556263269,
         "Virginia": 2.621963317617147,
         "Washington": 2.460682462681743,
         "West Virginia": 1.2217720572848685,
         "Wisconsin": 2.1635505591576627,
         "Wyoming": 0.628189056886542,
         "_deepnote_index_column": 4
        },
        {
         "Alabama": 4.270441068376891,
         "Alaska": 1.5871103896714587,
         "Arizona": 5.4195239665126955,
         "Arkansas": 2.8959732668325566,
         "California": 27.008554234223137,
         "Colorado": 4.48212504593417,
         "Connecticut": 3.357611441274864,
         "Delaware": 1.4277146869220945,
         "District of Columbia": 1.3874252224228913,
         "Florida": 13.956876379874725,
         "Georgia": 7.606951606188834,
         "Hawaii": 2.0280747463794966,
         "Idaho": 1.991725988350782,
         "Illinois": 9.678858939565215,
         "Indiana": 5.335445152738654,
         "Iowa": 2.943581517660744,
         "Kansas": 2.953662885694325,
         "Kentucky": 3.8769043819136986,
         "Label": "    Male",
         "Louisiana": 3.8289659084881706,
         "Maine": 1.939890859250895,
         "Maryland": 4.750147534229797,
         "Massachusetts": 5.2476070002789905,
         "Michigan": 7.776010675323259,
         "Minnesota": 4.9322858910514915,
         "Mississippi": 2.8436906246056557,
         "Missouri": 4.841575890474235,
         "Montana": 1.5025716611574327,
         "Nebraska": 2.465076754385965,
         "Nevada": 2.990856202672984,
         "New Hampshire": 1.9623237291480555,
         "New Jersey": 6.717345798607577,
         "New Mexico": 2.4596569518347735,
         "New York": 13.799032109273995,
         "North Carolina": 7.154342300322015,
         "North Dakota": 1.5444067496346163,
         "Ohio": 8.683126117969216,
         "Oklahoma": 3.4061124667645464,
         "Oregon": 3.427235250600589,
         "Pennsylvania": 9.650507127166312,
         "Puerto Rico": 0,
         "Rhode Island": 1.9031699895372804,
         "South Carolina": 4.282858570188493,
         "South Dakota": 1.5033148086387622,
         "Tennessee": 5.272095688625214,
         "Texas": 18.573676905550105,
         "Utah": 2.992012527512405,
         "Vermont": 1.4698331816803154,
         "Virginia": 6.327829495241781,
         "Washington": 5.938308239028482,
         "West Virginia": 2.445689182767509,
         "Wisconsin": 4.9234125314309765,
         "Wyoming": 1.524829648512182,
         "_deepnote_index_column": 5
        },
        {
         "Alabama": 4.729558931623109,
         "Alaska": 1.4128896103285415,
         "Arizona": 5.580476033487305,
         "Arkansas": 3.104026733167444,
         "California": 27.991445765776866,
         "Colorado": 4.517874954065831,
         "Connecticut": 3.6423885587251363,
         "Delaware": 1.572285313077906,
         "District of Columbia": 1.6125747775771084,
         "Florida": 15.043123620125275,
         "Georgia": 8.393048393811167,
         "Hawaii": 1.9719252536205032,
         "Idaho": 2.008274011649218,
         "Illinois": 10.321141060434785,
         "Indiana": 5.664554847261346,
         "Iowa": 3.0564184823392555,
         "Kansas": 3.046337114305675,
         "Kentucky": 4.123095618086301,
         "Label": "    Female",
         "Louisiana": 4.171034091511829,
         "Maine": 2.060109140749105,
         "Maryland": 5.2498524657702035,
         "Massachusetts": 5.7523929997210095,
         "Michigan": 8.22398932467674,
         "Minnesota": 5.0677141089485085,
         "Mississippi": 3.1563093753943443,
         "Missouri": 5.158424109525764,
         "Montana": 1.4974283388425675,
         "Nebraska": 2.5349232456140354,
         "Nevada": 3.009143797327016,
         "New Hampshire": 2.0376762708519442,
         "New Jersey": 7.282654201392423,
         "New Mexico": 2.540343048165227,
         "New York": 15.200967890726009,
         "North Carolina": 7.845657699677983,
         "North Dakota": 1.4555932503653837,
         "Ohio": 9.316873882030785,
         "Oklahoma": 3.593887533235453,
         "Oregon": 3.572764749399411,
         "Pennsylvania": 10.349492872833688,
         "Puerto Rico": 0,
         "Rhode Island": 2.0968300104627198,
         "South Carolina": 4.717141429811507,
         "South Dakota": 1.4966851913612378,
         "Tennessee": 5.727904311374787,
         "Texas": 19.4263230944499,
         "Utah": 3.007987472487595,
         "Vermont": 1.5301668183196846,
         "Virginia": 6.672170504758218,
         "Washington": 6.0616917609715175,
         "West Virginia": 2.554310817232491,
         "Wisconsin": 5.076587468569024,
         "Wyoming": 1.475170351487818,
         "_deepnote_index_column": 6
        },
        {
         "Alabama": 6.331175037260229,
         "Alaska": 2.0909145626940884,
         "Arizona": 8.920445999004025,
         "Arkansas": 4.802613712433659,
         "California": 34.839583352420064,
         "Colorado": 7.865476654351011,
         "Connecticut": 5.664140183262262,
         "Delaware": 2.183411525931727,
         "District of Columbia": 1.344480268905456,
         "Florida": 22.72111309061968,
         "Georgia": 9.884090367349101,
         "Hawaii": 1.1379438115037033,
         "Idaho": 3.7071967500928675,
         "Illinois": 15.071678470906402,
         "Indiana": 9.563669834429794,
         "Iowa": 5.613697693470459,
         "Kansas": 5.270102584039008,
         "Kentucky": 7.163276390379342,
         "Label": "    White alone",
         "Louisiana": 5.165324114965165,
         "Maine": 3.850641194855411,
         "Maryland": 5.9836821574515,
         "Massachusetts": 9.262645851663159,
         "Michigan": 13.015785236104918,
         "Minnesota": 8.819046330422301,
         "Mississippi": 3.638670044864641,
         "Missouri": 8.488976073202407,
         "Montana": 2.7277110365582913,
         "Nebraska": 4.543983918128655,
         "Nevada": 4.195108046275797,
         "New Hampshire": 3.8111858043270797,
         "New Jersey": 10.181955731586672,
         "New Mexico": 3.8725341822706216,
         "New York": 19.998020502142985,
         "North Carolina": 10.836212540841203,
         "North Dakota": 2.707985296071571,
         "Ohio": 15.176279092680392,
         "Oklahoma": 5.314628607583061,
         "Oregon": 6.17472440862548,
         "Pennsylvania": 16.854753613715687,
         "Puerto Rico": 0,
         "Rhode Island": 3.451692903398428,
         "South Carolina": 6.280941110699924,
         "South Dakota": 2.6590889964561,
         "Tennessee": 8.848936714417547,
         "Texas": 28.983727116438036,
         "Utah": 5.420553245872154,
         "Vermont": 2.8815225962996664,
         "Virginia": 9.254240514763273,
         "Washington": 9.790715855002345,
         "West Virginia": 4.717295408434282,
         "Wisconsin": 8.89964555938966,
         "Wyoming": 2.7998991547204697,
         "_deepnote_index_column": 7
        },
        {
         "Alabama": 2.385275777204847,
         "Alaska": 0.0890938262362857,
         "Arizona": 0.4786635471982999,
         "Arkansas": 0.9016302413068744,
         "California": 3.701762405384232,
         "Colorado": 0.33642666540478633,
         "Connecticut": 0.6929061017350222,
         "Delaware": 0.6468727420742847,
         "District of Columbia": 1.4146389717030285,
         "Florida": 4.371327576848407,
         "Georgia": 5.170058735924668,
         "Hawaii": 0.07505450744382515,
         "Idaho": 0.022101205348832823,
         "Illinois": 2.967126391367775,
         "Indiana": 0.9687137891077636,
         "Iowa": 0.16686742454377934,
         "Kansas": 0.3377598492010323,
         "Kentucky": 0.6121071121196459,
         "Label": "    Black or African American alone",
         "Louisiana": 2.5377801659029533,
         "Maine": 0.030996799427335166,
         "Maryland": 3.040905489015659,
         "Massachusetts": 0.7230807684596898,
         "Michigan": 2.1647725024886633,
         "Minnesota": 0.47529544186611994,
         "Mississippi": 2.2197579833196257,
         "Missouri": 1.0949928182922666,
         "Montana": 0,
         "Nebraska": 0.20855994152046783,
         "Nevada": 0.5780841300247684,
         "New Hampshire": 0.05179986709671146,
         "New Jersey": 1.9391645235860386,
         "New Mexico": 0.10910268275076039,
         "New York": 4.511374342234692,
         "North Carolina": 3.296591729374068,
         "North Dakota": 0.06062447406882501,
         "Ohio": 2.114609150317915,
         "Oklahoma": 0.5085289782824672,
         "Oregon": 0.11815694265451285,
         "Pennsylvania": 2.0830839935482146,
         "Puerto Rico": 0,
         "Rhode Island": 0.2141866402805877,
         "South Carolina": 2.4036429887837176,
         "South Dakota": 0.03792159784062113,
         "Tennessee": 1.8036252445374428,
         "Texas": 5.0498937925961025,
         "Utah": 0.05787663398048296,
         "Vermont": 0,
         "Virginia": 2.5508808890750294,
         "Washington": 0.4161575941102973,
         "West Virginia": 0.1884685612786146,
         "Wisconsin": 0.5745837259943457,
         "Wyoming": 0,
         "_deepnote_index_column": 8
        }
       ]
      },
      "text/html": [
       "<div>\n",
       "<style scoped>\n",
       "    .dataframe tbody tr th:only-of-type {\n",
       "        vertical-align: middle;\n",
       "    }\n",
       "\n",
       "    .dataframe tbody tr th {\n",
       "        vertical-align: top;\n",
       "    }\n",
       "\n",
       "    .dataframe thead th {\n",
       "        text-align: right;\n",
       "    }\n",
       "</style>\n",
       "<table border=\"1\" class=\"dataframe\">\n",
       "  <thead>\n",
       "    <tr style=\"text-align: right;\">\n",
       "      <th></th>\n",
       "      <th>Label</th>\n",
       "      <th>Alabama</th>\n",
       "      <th>Alaska</th>\n",
       "      <th>Arizona</th>\n",
       "      <th>Arkansas</th>\n",
       "      <th>California</th>\n",
       "      <th>Colorado</th>\n",
       "      <th>Connecticut</th>\n",
       "      <th>Delaware</th>\n",
       "      <th>District of Columbia</th>\n",
       "      <th>...</th>\n",
       "      <th>Tennessee</th>\n",
       "      <th>Texas</th>\n",
       "      <th>Utah</th>\n",
       "      <th>Vermont</th>\n",
       "      <th>Virginia</th>\n",
       "      <th>Washington</th>\n",
       "      <th>West Virginia</th>\n",
       "      <th>Wisconsin</th>\n",
       "      <th>Wyoming</th>\n",
       "      <th>Puerto Rico</th>\n",
       "    </tr>\n",
       "  </thead>\n",
       "  <tbody>\n",
       "    <tr>\n",
       "      <th>0</th>\n",
       "      <td>Citizens 18 years and over</td>\n",
       "      <td>9.000000</td>\n",
       "      <td>3.000000</td>\n",
       "      <td>11.000000</td>\n",
       "      <td>6.000000</td>\n",
       "      <td>55.000000</td>\n",
       "      <td>9.000000</td>\n",
       "      <td>7.000000</td>\n",
       "      <td>3.000000</td>\n",
       "      <td>3.000000</td>\n",
       "      <td>...</td>\n",
       "      <td>11.000000</td>\n",
       "      <td>38.000000</td>\n",
       "      <td>6.000000</td>\n",
       "      <td>3.000000</td>\n",
       "      <td>13.000000</td>\n",
       "      <td>12.000000</td>\n",
       "      <td>5.000000</td>\n",
       "      <td>10.000000</td>\n",
       "      <td>3.000000</td>\n",
       "      <td>0.0</td>\n",
       "    </tr>\n",
       "    <tr>\n",
       "      <th>1</th>\n",
       "      <td>18 to 29 years</td>\n",
       "      <td>1.882557</td>\n",
       "      <td>0.735514</td>\n",
       "      <td>2.399070</td>\n",
       "      <td>1.260846</td>\n",
       "      <td>12.993709</td>\n",
       "      <td>1.980807</td>\n",
       "      <td>1.396740</td>\n",
       "      <td>0.595877</td>\n",
       "      <td>0.839607</td>\n",
       "      <td>...</td>\n",
       "      <td>2.292962</td>\n",
       "      <td>8.974217</td>\n",
       "      <td>1.624350</td>\n",
       "      <td>0.612381</td>\n",
       "      <td>2.745408</td>\n",
       "      <td>2.517638</td>\n",
       "      <td>0.932545</td>\n",
       "      <td>2.021086</td>\n",
       "      <td>0.621088</td>\n",
       "      <td>0.0</td>\n",
       "    </tr>\n",
       "    <tr>\n",
       "      <th>2</th>\n",
       "      <td>30 to 44 years</td>\n",
       "      <td>2.096119</td>\n",
       "      <td>0.809327</td>\n",
       "      <td>2.546707</td>\n",
       "      <td>1.401423</td>\n",
       "      <td>13.407761</td>\n",
       "      <td>2.373375</td>\n",
       "      <td>1.479995</td>\n",
       "      <td>0.630952</td>\n",
       "      <td>0.899687</td>\n",
       "      <td>...</td>\n",
       "      <td>2.590752</td>\n",
       "      <td>9.923562</td>\n",
       "      <td>1.704450</td>\n",
       "      <td>0.616943</td>\n",
       "      <td>3.151370</td>\n",
       "      <td>2.967024</td>\n",
       "      <td>1.108458</td>\n",
       "      <td>2.286927</td>\n",
       "      <td>0.740358</td>\n",
       "      <td>0.0</td>\n",
       "    </tr>\n",
       "    <tr>\n",
       "      <th>3</th>\n",
       "      <td>45 to 64 years</td>\n",
       "      <td>3.076304</td>\n",
       "      <td>0.998879</td>\n",
       "      <td>3.471126</td>\n",
       "      <td>2.000112</td>\n",
       "      <td>17.788651</td>\n",
       "      <td>2.970789</td>\n",
       "      <td>2.564149</td>\n",
       "      <td>1.051142</td>\n",
       "      <td>0.782923</td>\n",
       "      <td>...</td>\n",
       "      <td>3.785302</td>\n",
       "      <td>12.313556</td>\n",
       "      <td>1.700613</td>\n",
       "      <td>1.065369</td>\n",
       "      <td>4.481258</td>\n",
       "      <td>4.054655</td>\n",
       "      <td>1.737225</td>\n",
       "      <td>3.528436</td>\n",
       "      <td>1.010365</td>\n",
       "      <td>0.0</td>\n",
       "    </tr>\n",
       "    <tr>\n",
       "      <th>4</th>\n",
       "      <td>65 years and over</td>\n",
       "      <td>1.945021</td>\n",
       "      <td>0.456281</td>\n",
       "      <td>2.583097</td>\n",
       "      <td>1.337619</td>\n",
       "      <td>10.809879</td>\n",
       "      <td>1.675029</td>\n",
       "      <td>1.559116</td>\n",
       "      <td>0.722029</td>\n",
       "      <td>0.477783</td>\n",
       "      <td>...</td>\n",
       "      <td>2.330985</td>\n",
       "      <td>6.788665</td>\n",
       "      <td>0.970587</td>\n",
       "      <td>0.705308</td>\n",
       "      <td>2.621963</td>\n",
       "      <td>2.460682</td>\n",
       "      <td>1.221772</td>\n",
       "      <td>2.163551</td>\n",
       "      <td>0.628189</td>\n",
       "      <td>0.0</td>\n",
       "    </tr>\n",
       "    <tr>\n",
       "      <th>5</th>\n",
       "      <td>Male</td>\n",
       "      <td>4.270441</td>\n",
       "      <td>1.587110</td>\n",
       "      <td>5.419524</td>\n",
       "      <td>2.895973</td>\n",
       "      <td>27.008554</td>\n",
       "      <td>4.482125</td>\n",
       "      <td>3.357611</td>\n",
       "      <td>1.427715</td>\n",
       "      <td>1.387425</td>\n",
       "      <td>...</td>\n",
       "      <td>5.272096</td>\n",
       "      <td>18.573677</td>\n",
       "      <td>2.992013</td>\n",
       "      <td>1.469833</td>\n",
       "      <td>6.327829</td>\n",
       "      <td>5.938308</td>\n",
       "      <td>2.445689</td>\n",
       "      <td>4.923413</td>\n",
       "      <td>1.524830</td>\n",
       "      <td>0.0</td>\n",
       "    </tr>\n",
       "    <tr>\n",
       "      <th>6</th>\n",
       "      <td>Female</td>\n",
       "      <td>4.729559</td>\n",
       "      <td>1.412890</td>\n",
       "      <td>5.580476</td>\n",
       "      <td>3.104027</td>\n",
       "      <td>27.991446</td>\n",
       "      <td>4.517875</td>\n",
       "      <td>3.642389</td>\n",
       "      <td>1.572285</td>\n",
       "      <td>1.612575</td>\n",
       "      <td>...</td>\n",
       "      <td>5.727904</td>\n",
       "      <td>19.426323</td>\n",
       "      <td>3.007987</td>\n",
       "      <td>1.530167</td>\n",
       "      <td>6.672171</td>\n",
       "      <td>6.061692</td>\n",
       "      <td>2.554311</td>\n",
       "      <td>5.076587</td>\n",
       "      <td>1.475170</td>\n",
       "      <td>0.0</td>\n",
       "    </tr>\n",
       "    <tr>\n",
       "      <th>7</th>\n",
       "      <td>White alone</td>\n",
       "      <td>6.331175</td>\n",
       "      <td>2.090915</td>\n",
       "      <td>8.920446</td>\n",
       "      <td>4.802614</td>\n",
       "      <td>34.839583</td>\n",
       "      <td>7.865477</td>\n",
       "      <td>5.664140</td>\n",
       "      <td>2.183412</td>\n",
       "      <td>1.344480</td>\n",
       "      <td>...</td>\n",
       "      <td>8.848937</td>\n",
       "      <td>28.983727</td>\n",
       "      <td>5.420553</td>\n",
       "      <td>2.881523</td>\n",
       "      <td>9.254241</td>\n",
       "      <td>9.790716</td>\n",
       "      <td>4.717295</td>\n",
       "      <td>8.899646</td>\n",
       "      <td>2.799899</td>\n",
       "      <td>0.0</td>\n",
       "    </tr>\n",
       "    <tr>\n",
       "      <th>8</th>\n",
       "      <td>Black or African American alone</td>\n",
       "      <td>2.385276</td>\n",
       "      <td>0.089094</td>\n",
       "      <td>0.478664</td>\n",
       "      <td>0.901630</td>\n",
       "      <td>3.701762</td>\n",
       "      <td>0.336427</td>\n",
       "      <td>0.692906</td>\n",
       "      <td>0.646873</td>\n",
       "      <td>1.414639</td>\n",
       "      <td>...</td>\n",
       "      <td>1.803625</td>\n",
       "      <td>5.049894</td>\n",
       "      <td>0.057877</td>\n",
       "      <td>0.000000</td>\n",
       "      <td>2.550881</td>\n",
       "      <td>0.416158</td>\n",
       "      <td>0.188469</td>\n",
       "      <td>0.574584</td>\n",
       "      <td>0.000000</td>\n",
       "      <td>0.0</td>\n",
       "    </tr>\n",
       "    <tr>\n",
       "      <th>9</th>\n",
       "      <td>Asian alone</td>\n",
       "      <td>0.069828</td>\n",
       "      <td>0.134913</td>\n",
       "      <td>0.270815</td>\n",
       "      <td>0.049693</td>\n",
       "      <td>7.590181</td>\n",
       "      <td>0.205909</td>\n",
       "      <td>0.216317</td>\n",
       "      <td>0.071510</td>\n",
       "      <td>0.099764</td>\n",
       "      <td>...</td>\n",
       "      <td>0.109855</td>\n",
       "      <td>1.422721</td>\n",
       "      <td>0.110970</td>\n",
       "      <td>0.023652</td>\n",
       "      <td>0.641108</td>\n",
       "      <td>0.789447</td>\n",
       "      <td>0.022584</td>\n",
       "      <td>0.169684</td>\n",
       "      <td>0.016009</td>\n",
       "      <td>0.0</td>\n",
       "    </tr>\n",
       "    <tr>\n",
       "      <th>10</th>\n",
       "      <td>Some Other Race alone</td>\n",
       "      <td>0.040629</td>\n",
       "      <td>0.046598</td>\n",
       "      <td>0.512432</td>\n",
       "      <td>0.079289</td>\n",
       "      <td>5.965985</td>\n",
       "      <td>0.246800</td>\n",
       "      <td>0.248660</td>\n",
       "      <td>0.028783</td>\n",
       "      <td>0.057524</td>\n",
       "      <td>...</td>\n",
       "      <td>0.050341</td>\n",
       "      <td>1.546061</td>\n",
       "      <td>0.171793</td>\n",
       "      <td>0.000000</td>\n",
       "      <td>0.167969</td>\n",
       "      <td>0.262653</td>\n",
       "      <td>0.017997</td>\n",
       "      <td>0.112627</td>\n",
       "      <td>0.037943</td>\n",
       "      <td>0.0</td>\n",
       "    </tr>\n",
       "    <tr>\n",
       "      <th>11</th>\n",
       "      <td>Two or More Races</td>\n",
       "      <td>0.119918</td>\n",
       "      <td>0.000000</td>\n",
       "      <td>0.297216</td>\n",
       "      <td>0.122837</td>\n",
       "      <td>2.209794</td>\n",
       "      <td>0.236692</td>\n",
       "      <td>0.157721</td>\n",
       "      <td>0.058931</td>\n",
       "      <td>0.073620</td>\n",
       "      <td>...</td>\n",
       "      <td>0.149126</td>\n",
       "      <td>0.779922</td>\n",
       "      <td>0.125483</td>\n",
       "      <td>0.000000</td>\n",
       "      <td>0.335683</td>\n",
       "      <td>0.522718</td>\n",
       "      <td>0.000000</td>\n",
       "      <td>0.155136</td>\n",
       "      <td>0.000000</td>\n",
       "      <td>0.0</td>\n",
       "    </tr>\n",
       "    <tr>\n",
       "      <th>12</th>\n",
       "      <td>Hispanic or Latino</td>\n",
       "      <td>0.166835</td>\n",
       "      <td>0.179232</td>\n",
       "      <td>2.571636</td>\n",
       "      <td>0.210369</td>\n",
       "      <td>16.505563</td>\n",
       "      <td>1.412402</td>\n",
       "      <td>0.820713</td>\n",
       "      <td>0.149844</td>\n",
       "      <td>0.179337</td>\n",
       "      <td>...</td>\n",
       "      <td>0.253692</td>\n",
       "      <td>11.342661</td>\n",
       "      <td>0.512615</td>\n",
       "      <td>0.045381</td>\n",
       "      <td>0.696456</td>\n",
       "      <td>0.882545</td>\n",
       "      <td>0.045592</td>\n",
       "      <td>0.413765</td>\n",
       "      <td>0.211894</td>\n",
       "      <td>0.0</td>\n",
       "    </tr>\n",
       "    <tr>\n",
       "      <th>13</th>\n",
       "      <td>White alone, Not Hispanic or Latino</td>\n",
       "      <td>6.212877</td>\n",
       "      <td>1.998204</td>\n",
       "      <td>7.041928</td>\n",
       "      <td>4.681352</td>\n",
       "      <td>25.396678</td>\n",
       "      <td>6.813142</td>\n",
       "      <td>5.170974</td>\n",
       "      <td>2.080689</td>\n",
       "      <td>1.246344</td>\n",
       "      <td>...</td>\n",
       "      <td>8.656798</td>\n",
       "      <td>19.569183</td>\n",
       "      <td>5.110154</td>\n",
       "      <td>2.846940</td>\n",
       "      <td>8.805401</td>\n",
       "      <td>9.261624</td>\n",
       "      <td>4.686533</td>\n",
       "      <td>8.634836</td>\n",
       "      <td>2.653029</td>\n",
       "      <td>0.0</td>\n",
       "    </tr>\n",
       "    <tr>\n",
       "      <th>14</th>\n",
       "      <td>Less than 9th grade</td>\n",
       "      <td>0.304435</td>\n",
       "      <td>0.063758</td>\n",
       "      <td>0.336259</td>\n",
       "      <td>0.202474</td>\n",
       "      <td>2.490038</td>\n",
       "      <td>0.161015</td>\n",
       "      <td>0.188284</td>\n",
       "      <td>0.062155</td>\n",
       "      <td>0.062079</td>\n",
       "      <td>...</td>\n",
       "      <td>0.361431</td>\n",
       "      <td>1.547148</td>\n",
       "      <td>0.087380</td>\n",
       "      <td>0.052733</td>\n",
       "      <td>0.366741</td>\n",
       "      <td>0.225192</td>\n",
       "      <td>0.205150</td>\n",
       "      <td>0.192045</td>\n",
       "      <td>0.040583</td>\n",
       "      <td>0.0</td>\n",
       "    </tr>\n",
       "    <tr>\n",
       "      <th>15</th>\n",
       "      <td>9th to 12th grade, no diploma</td>\n",
       "      <td>0.862043</td>\n",
       "      <td>0.190432</td>\n",
       "      <td>0.823486</td>\n",
       "      <td>0.528088</td>\n",
       "      <td>3.600159</td>\n",
       "      <td>0.441556</td>\n",
       "      <td>0.395384</td>\n",
       "      <td>0.180355</td>\n",
       "      <td>0.174706</td>\n",
       "      <td>...</td>\n",
       "      <td>0.882449</td>\n",
       "      <td>2.943447</td>\n",
       "      <td>0.310701</td>\n",
       "      <td>0.169645</td>\n",
       "      <td>0.793388</td>\n",
       "      <td>0.655884</td>\n",
       "      <td>0.439179</td>\n",
       "      <td>0.536719</td>\n",
       "      <td>0.175772</td>\n",
       "      <td>0.0</td>\n",
       "    </tr>\n",
       "    <tr>\n",
       "      <th>16</th>\n",
       "      <td>High school graduate (includes equivalency)</td>\n",
       "      <td>2.845599</td>\n",
       "      <td>0.878727</td>\n",
       "      <td>2.787322</td>\n",
       "      <td>2.063493</td>\n",
       "      <td>12.159437</td>\n",
       "      <td>2.016346</td>\n",
       "      <td>1.909180</td>\n",
       "      <td>0.993846</td>\n",
       "      <td>0.552802</td>\n",
       "      <td>...</td>\n",
       "      <td>3.636914</td>\n",
       "      <td>10.155377</td>\n",
       "      <td>1.410629</td>\n",
       "      <td>0.897901</td>\n",
       "      <td>3.282786</td>\n",
       "      <td>2.827548</td>\n",
       "      <td>2.055563</td>\n",
       "      <td>3.118163</td>\n",
       "      <td>0.915647</td>\n",
       "      <td>0.0</td>\n",
       "    </tr>\n",
       "    <tr>\n",
       "      <th>17</th>\n",
       "      <td>Some college, no degree</td>\n",
       "      <td>2.173409</td>\n",
       "      <td>0.840909</td>\n",
       "      <td>3.072132</td>\n",
       "      <td>1.496047</td>\n",
       "      <td>14.346936</td>\n",
       "      <td>2.156498</td>\n",
       "      <td>1.401626</td>\n",
       "      <td>0.661450</td>\n",
       "      <td>0.516903</td>\n",
       "      <td>...</td>\n",
       "      <td>2.567844</td>\n",
       "      <td>9.836609</td>\n",
       "      <td>1.764862</td>\n",
       "      <td>0.603336</td>\n",
       "      <td>2.905202</td>\n",
       "      <td>3.129290</td>\n",
       "      <td>1.032345</td>\n",
       "      <td>2.305366</td>\n",
       "      <td>0.804822</td>\n",
       "      <td>0.0</td>\n",
       "    </tr>\n",
       "    <tr>\n",
       "      <th>18</th>\n",
       "      <td>Associate's degree</td>\n",
       "      <td>0.725869</td>\n",
       "      <td>0.250878</td>\n",
       "      <td>0.951966</td>\n",
       "      <td>0.418735</td>\n",
       "      <td>4.481996</td>\n",
       "      <td>0.718104</td>\n",
       "      <td>0.548519</td>\n",
       "      <td>0.230789</td>\n",
       "      <td>0.097672</td>\n",
       "      <td>...</td>\n",
       "      <td>0.770828</td>\n",
       "      <td>2.855271</td>\n",
       "      <td>0.576204</td>\n",
       "      <td>0.239096</td>\n",
       "      <td>1.010724</td>\n",
       "      <td>1.237495</td>\n",
       "      <td>0.340216</td>\n",
       "      <td>1.052920</td>\n",
       "      <td>0.304154</td>\n",
       "      <td>0.0</td>\n",
       "    </tr>\n",
       "    <tr>\n",
       "      <th>19</th>\n",
       "      <td>Bachelor's degree</td>\n",
       "      <td>1.335336</td>\n",
       "      <td>0.490216</td>\n",
       "      <td>1.930800</td>\n",
       "      <td>0.848446</td>\n",
       "      <td>11.546043</td>\n",
       "      <td>2.270276</td>\n",
       "      <td>1.484170</td>\n",
       "      <td>0.518304</td>\n",
       "      <td>0.724070</td>\n",
       "      <td>...</td>\n",
       "      <td>1.800029</td>\n",
       "      <td>7.177663</td>\n",
       "      <td>1.242105</td>\n",
       "      <td>0.630416</td>\n",
       "      <td>2.731458</td>\n",
       "      <td>2.545220</td>\n",
       "      <td>0.576537</td>\n",
       "      <td>1.868289</td>\n",
       "      <td>0.482867</td>\n",
       "      <td>0.0</td>\n",
       "    </tr>\n",
       "    <tr>\n",
       "      <th>20</th>\n",
       "      <td>Graduate or professional degree</td>\n",
       "      <td>0.753309</td>\n",
       "      <td>0.285079</td>\n",
       "      <td>1.098035</td>\n",
       "      <td>0.442717</td>\n",
       "      <td>6.375390</td>\n",
       "      <td>1.236206</td>\n",
       "      <td>1.072836</td>\n",
       "      <td>0.353100</td>\n",
       "      <td>0.871768</td>\n",
       "      <td>...</td>\n",
       "      <td>0.980504</td>\n",
       "      <td>3.484484</td>\n",
       "      <td>0.608119</td>\n",
       "      <td>0.406873</td>\n",
       "      <td>1.909701</td>\n",
       "      <td>1.379371</td>\n",
       "      <td>0.351011</td>\n",
       "      <td>0.926499</td>\n",
       "      <td>0.276155</td>\n",
       "      <td>0.0</td>\n",
       "    </tr>\n",
       "    <tr>\n",
       "      <th>21</th>\n",
       "      <td>High school degree or higher</td>\n",
       "      <td>7.833522</td>\n",
       "      <td>2.745810</td>\n",
       "      <td>9.840255</td>\n",
       "      <td>5.269438</td>\n",
       "      <td>48.909803</td>\n",
       "      <td>8.397429</td>\n",
       "      <td>6.416331</td>\n",
       "      <td>2.757490</td>\n",
       "      <td>2.763215</td>\n",
       "      <td>...</td>\n",
       "      <td>9.756120</td>\n",
       "      <td>33.509405</td>\n",
       "      <td>5.601919</td>\n",
       "      <td>2.777622</td>\n",
       "      <td>11.839870</td>\n",
       "      <td>11.118924</td>\n",
       "      <td>4.355671</td>\n",
       "      <td>9.271236</td>\n",
       "      <td>2.783645</td>\n",
       "      <td>0.0</td>\n",
       "    </tr>\n",
       "    <tr>\n",
       "      <th>22</th>\n",
       "      <td>Bachelor's degree or higher</td>\n",
       "      <td>2.088645</td>\n",
       "      <td>0.775295</td>\n",
       "      <td>3.028835</td>\n",
       "      <td>1.291163</td>\n",
       "      <td>17.921433</td>\n",
       "      <td>3.506481</td>\n",
       "      <td>2.557006</td>\n",
       "      <td>0.871404</td>\n",
       "      <td>1.595839</td>\n",
       "      <td>...</td>\n",
       "      <td>2.780533</td>\n",
       "      <td>10.662147</td>\n",
       "      <td>1.850224</td>\n",
       "      <td>1.037288</td>\n",
       "      <td>4.641159</td>\n",
       "      <td>3.924592</td>\n",
       "      <td>0.927548</td>\n",
       "      <td>2.794787</td>\n",
       "      <td>0.759022</td>\n",
       "      <td>0.0</td>\n",
       "    </tr>\n",
       "    <tr>\n",
       "      <th>23</th>\n",
       "      <td>Total Citizens, 18 years and older, for wh...</td>\n",
       "      <td>8.744825</td>\n",
       "      <td>2.921588</td>\n",
       "      <td>10.735474</td>\n",
       "      <td>5.796917</td>\n",
       "      <td>53.808517</td>\n",
       "      <td>8.779159</td>\n",
       "      <td>6.748330</td>\n",
       "      <td>2.909032</td>\n",
       "      <td>2.822890</td>\n",
       "      <td>...</td>\n",
       "      <td>10.706427</td>\n",
       "      <td>36.937896</td>\n",
       "      <td>5.893521</td>\n",
       "      <td>2.871847</td>\n",
       "      <td>12.546608</td>\n",
       "      <td>11.765895</td>\n",
       "      <td>4.857901</td>\n",
       "      <td>9.720274</td>\n",
       "      <td>2.924254</td>\n",
       "      <td>0.0</td>\n",
       "    </tr>\n",
       "    <tr>\n",
       "      <th>24</th>\n",
       "      <td>Income in the past 12 months below poverty...</td>\n",
       "      <td>1.247065</td>\n",
       "      <td>0.277393</td>\n",
       "      <td>1.294290</td>\n",
       "      <td>0.835633</td>\n",
       "      <td>5.647094</td>\n",
       "      <td>0.820708</td>\n",
       "      <td>0.552475</td>\n",
       "      <td>0.338886</td>\n",
       "      <td>0.413048</td>\n",
       "      <td>...</td>\n",
       "      <td>1.378130</td>\n",
       "      <td>4.127076</td>\n",
       "      <td>0.513938</td>\n",
       "      <td>0.300182</td>\n",
       "      <td>1.166304</td>\n",
       "      <td>1.120328</td>\n",
       "      <td>0.835474</td>\n",
       "      <td>0.989785</td>\n",
       "      <td>0.299952</td>\n",
       "      <td>0.0</td>\n",
       "    </tr>\n",
       "    <tr>\n",
       "      <th>25</th>\n",
       "      <td>Income in the past 12 months at or above t...</td>\n",
       "      <td>7.497760</td>\n",
       "      <td>2.644195</td>\n",
       "      <td>9.441184</td>\n",
       "      <td>4.961284</td>\n",
       "      <td>48.161423</td>\n",
       "      <td>7.958450</td>\n",
       "      <td>6.195854</td>\n",
       "      <td>2.570146</td>\n",
       "      <td>2.409842</td>\n",
       "      <td>...</td>\n",
       "      <td>9.328297</td>\n",
       "      <td>32.810819</td>\n",
       "      <td>5.379583</td>\n",
       "      <td>2.571665</td>\n",
       "      <td>11.380304</td>\n",
       "      <td>10.645567</td>\n",
       "      <td>4.022426</td>\n",
       "      <td>8.730489</td>\n",
       "      <td>2.624302</td>\n",
       "      <td>0.0</td>\n",
       "    </tr>\n",
       "    <tr>\n",
       "      <th>26</th>\n",
       "      <td>Median Household Income for Households wit...</td>\n",
       "      <td>0.118232</td>\n",
       "      <td>0.417836</td>\n",
       "      <td>0.130884</td>\n",
       "      <td>0.124862</td>\n",
       "      <td>0.163149</td>\n",
       "      <td>0.156331</td>\n",
       "      <td>0.203034</td>\n",
       "      <td>0.268843</td>\n",
       "      <td>0.484617</td>\n",
       "      <td>...</td>\n",
       "      <td>0.113283</td>\n",
       "      <td>0.129142</td>\n",
       "      <td>0.207713</td>\n",
       "      <td>0.349682</td>\n",
       "      <td>0.152111</td>\n",
       "      <td>0.163304</td>\n",
       "      <td>0.152303</td>\n",
       "      <td>0.136494</td>\n",
       "      <td>0.426260</td>\n",
       "      <td>0.0</td>\n",
       "    </tr>\n",
       "  </tbody>\n",
       "</table>\n",
       "<p>27 rows × 53 columns</p>\n",
       "</div>"
      ],
      "text/plain": [
       "                                                Label   Alabama    Alaska  \\\n",
       "0                          Citizens 18 years and over  9.000000  3.000000   \n",
       "1                                      18 to 29 years  1.882557  0.735514   \n",
       "2                                      30 to 44 years  2.096119  0.809327   \n",
       "3                                      45 to 64 years  3.076304  0.998879   \n",
       "4                                   65 years and over  1.945021  0.456281   \n",
       "5                                                Male  4.270441  1.587110   \n",
       "6                                              Female  4.729559  1.412890   \n",
       "7                                         White alone  6.331175  2.090915   \n",
       "8                     Black or African American alone  2.385276  0.089094   \n",
       "9                                         Asian alone  0.069828  0.134913   \n",
       "10                              Some Other Race alone  0.040629  0.046598   \n",
       "11                                  Two or More Races  0.119918  0.000000   \n",
       "12                                 Hispanic or Latino  0.166835  0.179232   \n",
       "13                White alone, Not Hispanic or Latino  6.212877  1.998204   \n",
       "14                                Less than 9th grade  0.304435  0.063758   \n",
       "15                      9th to 12th grade, no diploma  0.862043  0.190432   \n",
       "16        High school graduate (includes equivalency)  2.845599  0.878727   \n",
       "17                            Some college, no degree  2.173409  0.840909   \n",
       "18                                 Associate's degree  0.725869  0.250878   \n",
       "19                                  Bachelor's degree  1.335336  0.490216   \n",
       "20                    Graduate or professional degree  0.753309  0.285079   \n",
       "21                       High school degree or higher  7.833522  2.745810   \n",
       "22                        Bachelor's degree or higher  2.088645  0.775295   \n",
       "23      Total Citizens, 18 years and older, for wh...  8.744825  2.921588   \n",
       "24      Income in the past 12 months below poverty...  1.247065  0.277393   \n",
       "25      Income in the past 12 months at or above t...  7.497760  2.644195   \n",
       "26      Median Household Income for Households wit...  0.118232  0.417836   \n",
       "\n",
       "      Arizona  Arkansas  California  Colorado  Connecticut  Delaware  \\\n",
       "0   11.000000  6.000000   55.000000  9.000000     7.000000  3.000000   \n",
       "1    2.399070  1.260846   12.993709  1.980807     1.396740  0.595877   \n",
       "2    2.546707  1.401423   13.407761  2.373375     1.479995  0.630952   \n",
       "3    3.471126  2.000112   17.788651  2.970789     2.564149  1.051142   \n",
       "4    2.583097  1.337619   10.809879  1.675029     1.559116  0.722029   \n",
       "5    5.419524  2.895973   27.008554  4.482125     3.357611  1.427715   \n",
       "6    5.580476  3.104027   27.991446  4.517875     3.642389  1.572285   \n",
       "7    8.920446  4.802614   34.839583  7.865477     5.664140  2.183412   \n",
       "8    0.478664  0.901630    3.701762  0.336427     0.692906  0.646873   \n",
       "9    0.270815  0.049693    7.590181  0.205909     0.216317  0.071510   \n",
       "10   0.512432  0.079289    5.965985  0.246800     0.248660  0.028783   \n",
       "11   0.297216  0.122837    2.209794  0.236692     0.157721  0.058931   \n",
       "12   2.571636  0.210369   16.505563  1.412402     0.820713  0.149844   \n",
       "13   7.041928  4.681352   25.396678  6.813142     5.170974  2.080689   \n",
       "14   0.336259  0.202474    2.490038  0.161015     0.188284  0.062155   \n",
       "15   0.823486  0.528088    3.600159  0.441556     0.395384  0.180355   \n",
       "16   2.787322  2.063493   12.159437  2.016346     1.909180  0.993846   \n",
       "17   3.072132  1.496047   14.346936  2.156498     1.401626  0.661450   \n",
       "18   0.951966  0.418735    4.481996  0.718104     0.548519  0.230789   \n",
       "19   1.930800  0.848446   11.546043  2.270276     1.484170  0.518304   \n",
       "20   1.098035  0.442717    6.375390  1.236206     1.072836  0.353100   \n",
       "21   9.840255  5.269438   48.909803  8.397429     6.416331  2.757490   \n",
       "22   3.028835  1.291163   17.921433  3.506481     2.557006  0.871404   \n",
       "23  10.735474  5.796917   53.808517  8.779159     6.748330  2.909032   \n",
       "24   1.294290  0.835633    5.647094  0.820708     0.552475  0.338886   \n",
       "25   9.441184  4.961284   48.161423  7.958450     6.195854  2.570146   \n",
       "26   0.130884  0.124862    0.163149  0.156331     0.203034  0.268843   \n",
       "\n",
       "    District of Columbia  ...  Tennessee      Texas      Utah   Vermont  \\\n",
       "0               3.000000  ...  11.000000  38.000000  6.000000  3.000000   \n",
       "1               0.839607  ...   2.292962   8.974217  1.624350  0.612381   \n",
       "2               0.899687  ...   2.590752   9.923562  1.704450  0.616943   \n",
       "3               0.782923  ...   3.785302  12.313556  1.700613  1.065369   \n",
       "4               0.477783  ...   2.330985   6.788665  0.970587  0.705308   \n",
       "5               1.387425  ...   5.272096  18.573677  2.992013  1.469833   \n",
       "6               1.612575  ...   5.727904  19.426323  3.007987  1.530167   \n",
       "7               1.344480  ...   8.848937  28.983727  5.420553  2.881523   \n",
       "8               1.414639  ...   1.803625   5.049894  0.057877  0.000000   \n",
       "9               0.099764  ...   0.109855   1.422721  0.110970  0.023652   \n",
       "10              0.057524  ...   0.050341   1.546061  0.171793  0.000000   \n",
       "11              0.073620  ...   0.149126   0.779922  0.125483  0.000000   \n",
       "12              0.179337  ...   0.253692  11.342661  0.512615  0.045381   \n",
       "13              1.246344  ...   8.656798  19.569183  5.110154  2.846940   \n",
       "14              0.062079  ...   0.361431   1.547148  0.087380  0.052733   \n",
       "15              0.174706  ...   0.882449   2.943447  0.310701  0.169645   \n",
       "16              0.552802  ...   3.636914  10.155377  1.410629  0.897901   \n",
       "17              0.516903  ...   2.567844   9.836609  1.764862  0.603336   \n",
       "18              0.097672  ...   0.770828   2.855271  0.576204  0.239096   \n",
       "19              0.724070  ...   1.800029   7.177663  1.242105  0.630416   \n",
       "20              0.871768  ...   0.980504   3.484484  0.608119  0.406873   \n",
       "21              2.763215  ...   9.756120  33.509405  5.601919  2.777622   \n",
       "22              1.595839  ...   2.780533  10.662147  1.850224  1.037288   \n",
       "23              2.822890  ...  10.706427  36.937896  5.893521  2.871847   \n",
       "24              0.413048  ...   1.378130   4.127076  0.513938  0.300182   \n",
       "25              2.409842  ...   9.328297  32.810819  5.379583  2.571665   \n",
       "26              0.484617  ...   0.113283   0.129142  0.207713  0.349682   \n",
       "\n",
       "     Virginia  Washington  West Virginia  Wisconsin   Wyoming  Puerto Rico  \n",
       "0   13.000000   12.000000       5.000000  10.000000  3.000000          0.0  \n",
       "1    2.745408    2.517638       0.932545   2.021086  0.621088          0.0  \n",
       "2    3.151370    2.967024       1.108458   2.286927  0.740358          0.0  \n",
       "3    4.481258    4.054655       1.737225   3.528436  1.010365          0.0  \n",
       "4    2.621963    2.460682       1.221772   2.163551  0.628189          0.0  \n",
       "5    6.327829    5.938308       2.445689   4.923413  1.524830          0.0  \n",
       "6    6.672171    6.061692       2.554311   5.076587  1.475170          0.0  \n",
       "7    9.254241    9.790716       4.717295   8.899646  2.799899          0.0  \n",
       "8    2.550881    0.416158       0.188469   0.574584  0.000000          0.0  \n",
       "9    0.641108    0.789447       0.022584   0.169684  0.016009          0.0  \n",
       "10   0.167969    0.262653       0.017997   0.112627  0.037943          0.0  \n",
       "11   0.335683    0.522718       0.000000   0.155136  0.000000          0.0  \n",
       "12   0.696456    0.882545       0.045592   0.413765  0.211894          0.0  \n",
       "13   8.805401    9.261624       4.686533   8.634836  2.653029          0.0  \n",
       "14   0.366741    0.225192       0.205150   0.192045  0.040583          0.0  \n",
       "15   0.793388    0.655884       0.439179   0.536719  0.175772          0.0  \n",
       "16   3.282786    2.827548       2.055563   3.118163  0.915647          0.0  \n",
       "17   2.905202    3.129290       1.032345   2.305366  0.804822          0.0  \n",
       "18   1.010724    1.237495       0.340216   1.052920  0.304154          0.0  \n",
       "19   2.731458    2.545220       0.576537   1.868289  0.482867          0.0  \n",
       "20   1.909701    1.379371       0.351011   0.926499  0.276155          0.0  \n",
       "21  11.839870   11.118924       4.355671   9.271236  2.783645          0.0  \n",
       "22   4.641159    3.924592       0.927548   2.794787  0.759022          0.0  \n",
       "23  12.546608   11.765895       4.857901   9.720274  2.924254          0.0  \n",
       "24   1.166304    1.120328       0.835474   0.989785  0.299952          0.0  \n",
       "25  11.380304   10.645567       4.022426   8.730489  2.624302          0.0  \n",
       "26   0.152111    0.163304       0.152303   0.136494  0.426260          0.0  \n",
       "\n",
       "[27 rows x 53 columns]"
      ]
     },
     "execution_count": 294,
     "metadata": {},
     "output_type": "execute_result"
    }
   ],
   "source": [
    "votes_demographically = condensed.copy()\n",
    "for i in np.arange(1,len(normal_names)):\n",
    "    elector_concentration = pop_per_vote.iat[i-1, 1]\n",
    "    state = normal_names[i]\n",
    "    votes_demographically[state] = votes_demographically.iloc[:,i].values * elector_concentration\n",
    "votes_demographically"
   ]
  },
  {
   "cell_type": "code",
   "execution_count": 295,
   "metadata": {
    "cell_id": "00008-a9d61697-aa11-40a8-a002-aa78baa74dc4",
    "execution_millis": 1,
    "execution_start": 1605404659797,
    "output_cleared": false,
    "source_hash": "a7182a27",
    "tags": []
   },
   "outputs": [
    {
     "data": {
      "text/plain": [
       "Label\n",
       "Citizens 18 years and over                                                           538.000000\n",
       "    18 to 29 years                                                                   115.199927\n",
       "    30 to 44 years                                                                   127.206812\n",
       "    45 to 64 years                                                                   181.700176\n",
       "    65 years and over                                                                113.893085\n",
       "    Male                                                                             261.288359\n",
       "    Female                                                                           276.711641\n",
       "    White alone                                                                      412.783123\n",
       "    Black or African American alone                                                   66.502887\n",
       "    Asian alone                                                                       22.987174\n",
       "    Some Other Race alone                                                             16.622662\n",
       "    Two or More Races                                                                 12.334060\n",
       "Hispanic or Latino                                                                    64.152959\n",
       "White alone, Not Hispanic or Latino                                                  369.806844\n",
       "    Less than 9th grade                                                               16.323935\n",
       "    9th to 12th grade, no diploma                                                     37.247956\n",
       "    High school graduate (includes equivalency)                                      151.128954\n",
       "    Some college, no degree                                                          127.359597\n",
       "    Associate's degree                                                                45.538974\n",
       "    Bachelor's degree                                                                101.777762\n",
       "    Graduate or professional degree                                                   58.622822\n",
       "High school degree or higher                                                         484.428110\n",
       "Bachelor's degree or higher                                                          160.400584\n",
       "    Total Citizens, 18 years and older, for whom poverty status is determined        522.867071\n",
       "    Income in the past 12 months below poverty level                                  58.774637\n",
       "    Income in the past 12 months at or above the poverty level                       464.092434\n",
       "    Median Household Income for Households with a Citizen, Voting-Age Householder      9.528342\n",
       "dtype: float64"
      ]
     },
     "execution_count": 295,
     "metadata": {},
     "output_type": "execute_result"
    }
   ],
   "source": [
    "sum_vote = votes_demographically.sum(axis = 1)\n",
    "sum_vote.index = votes_demographically[\"Label\"]\n",
    "sum_vote"
   ]
  },
  {
   "cell_type": "code",
   "execution_count": 296,
   "metadata": {
    "cell_id": "00009-661f5689-a123-467f-ac41-7f3b8f67b85f",
    "execution_millis": 0,
    "execution_start": 1605404659836,
    "output_cleared": false,
    "source_hash": "da2be96a",
    "tags": []
   },
   "outputs": [
    {
     "data": {
      "text/plain": [
       "Label\n",
       "Citizens 18 years and over                                                           538.000000\n",
       "    18 to 29 years                                                                   115.016392\n",
       "    30 to 44 years                                                                   127.043576\n",
       "    45 to 64 years                                                                   181.732857\n",
       "    65 years and over                                                                114.207175\n",
       "    Male                                                                             260.845921\n",
       "    Female                                                                           277.154079\n",
       "    White alone                                                                      410.209869\n",
       "    Black or African American alone                                                   68.628228\n",
       "    Asian alone                                                                       23.048837\n",
       "    Some Other Race alone                                                             18.027737\n",
       "    Two or More Races                                                                 12.513999\n",
       "Hispanic or Latino                                                                    72.157943\n",
       "White alone, Not Hispanic or Latino                                                  361.695549\n",
       "    Less than 9th grade                                                               17.279286\n",
       "    9th to 12th grade, no diploma                                                     37.594544\n",
       "    High school graduate (includes equivalency)                                      150.622132\n",
       "    Some college, no degree                                                          126.653360\n",
       "    Associate's degree                                                                45.580338\n",
       "    Bachelor's degree                                                                101.885933\n",
       "    Graduate or professional degree                                                   58.384407\n",
       "High school degree or higher                                                         483.126170\n",
       "Bachelor's degree or higher                                                          160.270340\n",
       "    Total Citizens, 18 years and older, for whom poverty status is determined        523.136169\n",
       "    Income in the past 12 months below poverty level                                  60.603560\n",
       "    Income in the past 12 months at or above the poverty level                       462.532609\n",
       "    Median Household Income for Households with a Citizen, Voting-Age Householder      7.207146\n",
       "dtype: float64"
      ]
     },
     "execution_count": 296,
     "metadata": {},
     "output_type": "execute_result"
    }
   ],
   "source": [
    "sum_pop = condensed.sum(axis = 1)\n",
    "sum_pop.index = votes_demographically[\"Label\"]\n",
    "us_voting_pop = sum_pop.values[0]\n",
    "sum_pop = sum_pop.divide(us_voting_pop / 538)\n",
    "sum_pop"
   ]
  },
  {
   "cell_type": "code",
   "execution_count": 297,
   "metadata": {
    "cell_id": "00010-a98cad9d-eb10-4850-bee7-628d5afa5248",
    "execution_millis": 1,
    "execution_start": 1605404659837,
    "output_cleared": false,
    "source_hash": "67c83278",
    "tags": []
   },
   "outputs": [
    {
     "data": {
      "application/vnd.deepnote.dataframe.v2+json": {
       "column_count": 3,
       "columns": [
        {
         "dtype": "object",
         "name": "Demographic",
         "stats": {
          "categories": [
           {
            "count": 1,
            "name": "Citizens 18 years and over"
           },
           {
            "count": 1,
            "name": "    18 to 29 years"
           },
           {
            "count": 25,
            "name": "25 others"
           }
          ],
          "nan_count": 0,
          "unique_count": 27
         }
        },
        {
         "dtype": "float64",
         "name": "Expected",
         "stats": {
          "histogram": [
           {
            "bin_end": 60.28643157703108,
            "bin_start": 7.207146196701193,
            "count": 8
           },
           {
            "bin_end": 113.36571695736096,
            "bin_start": 60.28643157703108,
            "count": 4
           },
           {
            "bin_end": 166.44500233769085,
            "bin_start": 113.36571695736096,
            "count": 6
           },
           {
            "bin_end": 219.52428771802073,
            "bin_start": 166.44500233769085,
            "count": 1
           },
           {
            "bin_end": 272.60357309835064,
            "bin_start": 219.52428771802073,
            "count": 1
           },
           {
            "bin_end": 325.68285847868054,
            "bin_start": 272.60357309835064,
            "count": 1
           },
           {
            "bin_end": 378.7621438590104,
            "bin_start": 325.68285847868054,
            "count": 1
           },
           {
            "bin_end": 431.8414292393403,
            "bin_start": 378.7621438590104,
            "count": 1
           },
           {
            "bin_end": 484.9207146196702,
            "bin_start": 431.8414292393403,
            "count": 2
           },
           {
            "bin_end": 538,
            "bin_start": 484.9207146196702,
            "count": 2
           }
          ],
          "max": 538,
          "min": 7.207146196701193,
          "nan_count": 0,
          "unique_count": 27
         }
        },
        {
         "dtype": "float64",
         "name": "Actual",
         "stats": {
          "histogram": [
           {
            "bin_end": 62.375508093532204,
            "bin_start": 9.528342326146895,
            "count": 9
           },
           {
            "bin_end": 115.22267386091751,
            "bin_start": 62.375508093532204,
            "count": 5
           },
           {
            "bin_end": 168.0698396283028,
            "bin_start": 115.22267386091751,
            "count": 4
           },
           {
            "bin_end": 220.9170053956881,
            "bin_start": 168.0698396283028,
            "count": 1
           },
           {
            "bin_end": 273.76417116307346,
            "bin_start": 220.9170053956881,
            "count": 1
           },
           {
            "bin_end": 326.6113369304587,
            "bin_start": 273.76417116307346,
            "count": 1
           },
           {
            "bin_end": 379.45850269784404,
            "bin_start": 326.6113369304587,
            "count": 1
           },
           {
            "bin_end": 432.30566846522936,
            "bin_start": 379.45850269784404,
            "count": 1
           },
           {
            "bin_end": 485.1528342326147,
            "bin_start": 432.30566846522936,
            "count": 2
           },
           {
            "bin_end": 538,
            "bin_start": 485.1528342326147,
            "count": 2
           }
          ],
          "max": 538,
          "min": 9.528342326146895,
          "nan_count": 0,
          "unique_count": 27
         }
        },
        {
         "dtype": "int64",
         "name": "_deepnote_index_column"
        }
       ],
       "row_count": 27,
       "rows_bottom": null,
       "rows_top": [
        {
         "Actual": 538,
         "Demographic": "Citizens 18 years and over",
         "Expected": 538,
         "_deepnote_index_column": 0
        },
        {
         "Actual": 115.19992735553501,
         "Demographic": "    18 to 29 years",
         "Expected": 115.0163922054117,
         "_deepnote_index_column": 1
        },
        {
         "Actual": 127.20681222989184,
         "Demographic": "    30 to 44 years",
         "Expected": 127.04357608758018,
         "_deepnote_index_column": 2
        },
        {
         "Actual": 181.70017563483498,
         "Demographic": "    45 to 64 years",
         "Expected": 181.732856683579,
         "_deepnote_index_column": 3
        },
        {
         "Actual": 113.89308477973815,
         "Demographic": "    65 years and over",
         "Expected": 114.20717502342914,
         "_deepnote_index_column": 4
        },
        {
         "Actual": 261.2883592924913,
         "Demographic": "    Male",
         "Expected": 260.8459206349636,
         "_deepnote_index_column": 5
        },
        {
         "Actual": 276.7116407075087,
         "Demographic": "    Female",
         "Expected": 277.15407936503647,
         "_deepnote_index_column": 6
        },
        {
         "Actual": 412.7831232492818,
         "Demographic": "    White alone",
         "Expected": 410.20986937185535,
         "_deepnote_index_column": 7
        },
        {
         "Actual": 66.50288726286237,
         "Demographic": "    Black or African American alone",
         "Expected": 68.62822785918982,
         "_deepnote_index_column": 8
        },
        {
         "Actual": 22.987173516602233,
         "Demographic": "    Asian alone",
         "Expected": 23.048837061562377,
         "_deepnote_index_column": 9
        },
        {
         "Actual": 16.622661519694176,
         "Demographic": "    Some Other Race alone",
         "Expected": 18.027736909293424,
         "_deepnote_index_column": 10
        },
        {
         "Actual": 12.33406024878275,
         "Demographic": "    Two or More Races",
         "Expected": 12.513999119150558,
         "_deepnote_index_column": 11
        },
        {
         "Actual": 64.15295859087233,
         "Demographic": "Hispanic or Latino",
         "Expected": 72.1579428942733,
         "_deepnote_index_column": 12
        },
        {
         "Actual": 369.8068437605418,
         "Demographic": "White alone, Not Hispanic or Latino",
         "Expected": 361.6955494885982,
         "_deepnote_index_column": 13
        },
        {
         "Actual": 16.32393454644917,
         "Demographic": "    Less than 9th grade",
         "Expected": 17.279286008391097,
         "_deepnote_index_column": 14
        },
        {
         "Actual": 37.24795586544007,
         "Demographic": "    9th to 12th grade, no diploma",
         "Expected": 37.594543778449335,
         "_deepnote_index_column": 15
        },
        {
         "Actual": 151.12895403102775,
         "Demographic": "    High school graduate (includes equivalency)",
         "Expected": 150.6221321021317,
         "_deepnote_index_column": 16
        },
        {
         "Actual": 127.3595974954884,
         "Demographic": "    Some college, no degree",
         "Expected": 126.65336029689847,
         "_deepnote_index_column": 17
        },
        {
         "Actual": 45.53897365140927,
         "Demographic": "    Associate's degree",
         "Expected": 45.580337828487075,
         "_deepnote_index_column": 18
        },
        {
         "Actual": 101.77776247033165,
         "Demographic": "    Bachelor's degree",
         "Expected": 101.88593346210982,
         "_deepnote_index_column": 19
        },
        {
         "Actual": 58.62282193985372,
         "Demographic": "    Graduate or professional degree",
         "Expected": 58.38440652353255,
         "_deepnote_index_column": 20
        },
        {
         "Actual": 484.4281095881107,
         "Demographic": "High school degree or higher",
         "Expected": 483.1261702131596,
         "_deepnote_index_column": 21
        },
        {
         "Actual": 160.40058441018533,
         "Demographic": "Bachelor's degree or higher",
         "Expected": 160.27033998564235,
         "_deepnote_index_column": 22
        },
        {
         "Actual": 522.8670706935276,
         "Demographic": "    Total Citizens, 18 years and older, for whom poverty status is determined",
         "Expected": 523.136169067311,
         "_deepnote_index_column": 23
        },
        {
         "Actual": 58.77463654600573,
         "Demographic": "    Income in the past 12 months below poverty level",
         "Expected": 60.60355957153562,
         "_deepnote_index_column": 24
        },
        {
         "Actual": 464.09243414752183,
         "Demographic": "    Income in the past 12 months at or above the poverty level",
         "Expected": 462.53260949577543,
         "_deepnote_index_column": 25
        },
        {
         "Actual": 9.528342326146895,
         "Demographic": "    Median Household Income for Households with a Citizen, Voting-Age Householder",
         "Expected": 7.207146196701193,
         "_deepnote_index_column": 26
        }
       ]
      },
      "text/html": [
       "<div>\n",
       "<style scoped>\n",
       "    .dataframe tbody tr th:only-of-type {\n",
       "        vertical-align: middle;\n",
       "    }\n",
       "\n",
       "    .dataframe tbody tr th {\n",
       "        vertical-align: top;\n",
       "    }\n",
       "\n",
       "    .dataframe thead th {\n",
       "        text-align: right;\n",
       "    }\n",
       "</style>\n",
       "<table border=\"1\" class=\"dataframe\">\n",
       "  <thead>\n",
       "    <tr style=\"text-align: right;\">\n",
       "      <th></th>\n",
       "      <th>Demographic</th>\n",
       "      <th>Expected</th>\n",
       "      <th>Actual</th>\n",
       "    </tr>\n",
       "  </thead>\n",
       "  <tbody>\n",
       "    <tr>\n",
       "      <th>0</th>\n",
       "      <td>Citizens 18 years and over</td>\n",
       "      <td>538.000000</td>\n",
       "      <td>538.000000</td>\n",
       "    </tr>\n",
       "    <tr>\n",
       "      <th>1</th>\n",
       "      <td>18 to 29 years</td>\n",
       "      <td>115.016392</td>\n",
       "      <td>115.199927</td>\n",
       "    </tr>\n",
       "    <tr>\n",
       "      <th>2</th>\n",
       "      <td>30 to 44 years</td>\n",
       "      <td>127.043576</td>\n",
       "      <td>127.206812</td>\n",
       "    </tr>\n",
       "    <tr>\n",
       "      <th>3</th>\n",
       "      <td>45 to 64 years</td>\n",
       "      <td>181.732857</td>\n",
       "      <td>181.700176</td>\n",
       "    </tr>\n",
       "    <tr>\n",
       "      <th>4</th>\n",
       "      <td>65 years and over</td>\n",
       "      <td>114.207175</td>\n",
       "      <td>113.893085</td>\n",
       "    </tr>\n",
       "    <tr>\n",
       "      <th>5</th>\n",
       "      <td>Male</td>\n",
       "      <td>260.845921</td>\n",
       "      <td>261.288359</td>\n",
       "    </tr>\n",
       "    <tr>\n",
       "      <th>6</th>\n",
       "      <td>Female</td>\n",
       "      <td>277.154079</td>\n",
       "      <td>276.711641</td>\n",
       "    </tr>\n",
       "    <tr>\n",
       "      <th>7</th>\n",
       "      <td>White alone</td>\n",
       "      <td>410.209869</td>\n",
       "      <td>412.783123</td>\n",
       "    </tr>\n",
       "    <tr>\n",
       "      <th>8</th>\n",
       "      <td>Black or African American alone</td>\n",
       "      <td>68.628228</td>\n",
       "      <td>66.502887</td>\n",
       "    </tr>\n",
       "    <tr>\n",
       "      <th>9</th>\n",
       "      <td>Asian alone</td>\n",
       "      <td>23.048837</td>\n",
       "      <td>22.987174</td>\n",
       "    </tr>\n",
       "    <tr>\n",
       "      <th>10</th>\n",
       "      <td>Some Other Race alone</td>\n",
       "      <td>18.027737</td>\n",
       "      <td>16.622662</td>\n",
       "    </tr>\n",
       "    <tr>\n",
       "      <th>11</th>\n",
       "      <td>Two or More Races</td>\n",
       "      <td>12.513999</td>\n",
       "      <td>12.334060</td>\n",
       "    </tr>\n",
       "    <tr>\n",
       "      <th>12</th>\n",
       "      <td>Hispanic or Latino</td>\n",
       "      <td>72.157943</td>\n",
       "      <td>64.152959</td>\n",
       "    </tr>\n",
       "    <tr>\n",
       "      <th>13</th>\n",
       "      <td>White alone, Not Hispanic or Latino</td>\n",
       "      <td>361.695549</td>\n",
       "      <td>369.806844</td>\n",
       "    </tr>\n",
       "    <tr>\n",
       "      <th>14</th>\n",
       "      <td>Less than 9th grade</td>\n",
       "      <td>17.279286</td>\n",
       "      <td>16.323935</td>\n",
       "    </tr>\n",
       "    <tr>\n",
       "      <th>15</th>\n",
       "      <td>9th to 12th grade, no diploma</td>\n",
       "      <td>37.594544</td>\n",
       "      <td>37.247956</td>\n",
       "    </tr>\n",
       "    <tr>\n",
       "      <th>16</th>\n",
       "      <td>High school graduate (includes equivalency)</td>\n",
       "      <td>150.622132</td>\n",
       "      <td>151.128954</td>\n",
       "    </tr>\n",
       "    <tr>\n",
       "      <th>17</th>\n",
       "      <td>Some college, no degree</td>\n",
       "      <td>126.653360</td>\n",
       "      <td>127.359597</td>\n",
       "    </tr>\n",
       "    <tr>\n",
       "      <th>18</th>\n",
       "      <td>Associate's degree</td>\n",
       "      <td>45.580338</td>\n",
       "      <td>45.538974</td>\n",
       "    </tr>\n",
       "    <tr>\n",
       "      <th>19</th>\n",
       "      <td>Bachelor's degree</td>\n",
       "      <td>101.885933</td>\n",
       "      <td>101.777762</td>\n",
       "    </tr>\n",
       "    <tr>\n",
       "      <th>20</th>\n",
       "      <td>Graduate or professional degree</td>\n",
       "      <td>58.384407</td>\n",
       "      <td>58.622822</td>\n",
       "    </tr>\n",
       "    <tr>\n",
       "      <th>21</th>\n",
       "      <td>High school degree or higher</td>\n",
       "      <td>483.126170</td>\n",
       "      <td>484.428110</td>\n",
       "    </tr>\n",
       "    <tr>\n",
       "      <th>22</th>\n",
       "      <td>Bachelor's degree or higher</td>\n",
       "      <td>160.270340</td>\n",
       "      <td>160.400584</td>\n",
       "    </tr>\n",
       "    <tr>\n",
       "      <th>23</th>\n",
       "      <td>Total Citizens, 18 years and older, for wh...</td>\n",
       "      <td>523.136169</td>\n",
       "      <td>522.867071</td>\n",
       "    </tr>\n",
       "    <tr>\n",
       "      <th>24</th>\n",
       "      <td>Income in the past 12 months below poverty...</td>\n",
       "      <td>60.603560</td>\n",
       "      <td>58.774637</td>\n",
       "    </tr>\n",
       "    <tr>\n",
       "      <th>25</th>\n",
       "      <td>Income in the past 12 months at or above t...</td>\n",
       "      <td>462.532609</td>\n",
       "      <td>464.092434</td>\n",
       "    </tr>\n",
       "    <tr>\n",
       "      <th>26</th>\n",
       "      <td>Median Household Income for Households wit...</td>\n",
       "      <td>7.207146</td>\n",
       "      <td>9.528342</td>\n",
       "    </tr>\n",
       "  </tbody>\n",
       "</table>\n",
       "</div>"
      ],
      "text/plain": [
       "                                          Demographic    Expected      Actual\n",
       "0                          Citizens 18 years and over  538.000000  538.000000\n",
       "1                                      18 to 29 years  115.016392  115.199927\n",
       "2                                      30 to 44 years  127.043576  127.206812\n",
       "3                                      45 to 64 years  181.732857  181.700176\n",
       "4                                   65 years and over  114.207175  113.893085\n",
       "5                                                Male  260.845921  261.288359\n",
       "6                                              Female  277.154079  276.711641\n",
       "7                                         White alone  410.209869  412.783123\n",
       "8                     Black or African American alone   68.628228   66.502887\n",
       "9                                         Asian alone   23.048837   22.987174\n",
       "10                              Some Other Race alone   18.027737   16.622662\n",
       "11                                  Two or More Races   12.513999   12.334060\n",
       "12                                 Hispanic or Latino   72.157943   64.152959\n",
       "13                White alone, Not Hispanic or Latino  361.695549  369.806844\n",
       "14                                Less than 9th grade   17.279286   16.323935\n",
       "15                      9th to 12th grade, no diploma   37.594544   37.247956\n",
       "16        High school graduate (includes equivalency)  150.622132  151.128954\n",
       "17                            Some college, no degree  126.653360  127.359597\n",
       "18                                 Associate's degree   45.580338   45.538974\n",
       "19                                  Bachelor's degree  101.885933  101.777762\n",
       "20                    Graduate or professional degree   58.384407   58.622822\n",
       "21                       High school degree or higher  483.126170  484.428110\n",
       "22                        Bachelor's degree or higher  160.270340  160.400584\n",
       "23      Total Citizens, 18 years and older, for wh...  523.136169  522.867071\n",
       "24      Income in the past 12 months below poverty...   60.603560   58.774637\n",
       "25      Income in the past 12 months at or above t...  462.532609  464.092434\n",
       "26      Median Household Income for Households wit...    7.207146    9.528342"
      ]
     },
     "execution_count": 297,
     "metadata": {},
     "output_type": "execute_result"
    }
   ],
   "source": [
    "expected_v_actual = pd.DataFrame({\"Demographic\":sum_pop.index, \"Expected\": sum_pop.values, \"Actual\":sum_vote.values})\n",
    "expected_v_actual"
   ]
  },
  {
   "cell_type": "code",
   "execution_count": 298,
   "metadata": {
    "cell_id": "00011-36d956bf-5f51-45b2-8534-4a5158d34fff",
    "execution_millis": 11,
    "execution_start": 1605404659840,
    "output_cleared": false,
    "source_hash": "a1a40dff",
    "tags": []
   },
   "outputs": [],
   "source": [
    "expected_v_actual.to_csv(\"/home/jovyan/work/Electoral_census/Sanjay/Data/2017EvA.csv\", index = False)"
   ]
  },
  {
   "cell_type": "code",
   "execution_count": 299,
   "metadata": {
    "cell_id": "00011-96a982fd-d4ed-45e1-ac81-e615cfacd4a9",
    "execution_millis": 14,
    "execution_start": 1605404659880,
    "output_cleared": false,
    "source_hash": "de8927e",
    "tags": []
   },
   "outputs": [
    {
     "data": {
      "application/vnd.deepnote.dataframe.v2+json": {
       "column_count": 3,
       "columns": [
        {
         "dtype": "object",
         "name": "Demographic",
         "stats": {
          "categories": [
           {
            "count": 1,
            "name": "Citizens 18 years and over"
           },
           {
            "count": 1,
            "name": "    18 to 29 years"
           },
           {
            "count": 24,
            "name": "24 others"
           }
          ],
          "nan_count": 0,
          "unique_count": 26
         }
        },
        {
         "dtype": "float64",
         "name": "Expected",
         "stats": {
          "histogram": [
           {
            "bin_end": 83.67697346307642,
            "bin_start": 7.207146196701193,
            "count": 11
           },
           {
            "bin_end": 160.14680072945166,
            "bin_start": 83.67697346307642,
            "count": 6
           },
           {
            "bin_end": 236.6166279958269,
            "bin_start": 160.14680072945166,
            "count": 2
           },
           {
            "bin_end": 313.08645526220215,
            "bin_start": 236.6166279958269,
            "count": 2
           },
           {
            "bin_end": 389.55628252857736,
            "bin_start": 313.08645526220215,
            "count": 0
           },
           {
            "bin_end": 466.0261097949526,
            "bin_start": 389.55628252857736,
            "count": 1
           },
           {
            "bin_end": 542.4959370613278,
            "bin_start": 466.0261097949526,
            "count": 3
           },
           {
            "bin_end": 618.965764327703,
            "bin_start": 542.4959370613278,
            "count": 0
           },
           {
            "bin_end": 695.4355915940782,
            "bin_start": 618.965764327703,
            "count": 0
           },
           {
            "bin_end": 771.9054188604536,
            "bin_start": 695.4355915940782,
            "count": 1
           }
          ],
          "max": 771.9054188604536,
          "min": 7.207146196701193,
          "nan_count": 0,
          "unique_count": 26
         }
        },
        {
         "dtype": "float64",
         "name": "Actual",
         "stats": {
          "histogram": [
           {
            "bin_end": 86.83450479451456,
            "bin_start": 9.528342326146895,
            "count": 11
           },
           {
            "bin_end": 164.1406672628822,
            "bin_start": 86.83450479451456,
            "count": 7
           },
           {
            "bin_end": 241.44682973124986,
            "bin_start": 164.1406672628822,
            "count": 1
           },
           {
            "bin_end": 318.75299219961755,
            "bin_start": 241.44682973124986,
            "count": 2
           },
           {
            "bin_end": 396.05915466798524,
            "bin_start": 318.75299219961755,
            "count": 0
           },
           {
            "bin_end": 473.36531713635287,
            "bin_start": 396.05915466798524,
            "count": 1
           },
           {
            "bin_end": 550.6714796047205,
            "bin_start": 473.36531713635287,
            "count": 3
           },
           {
            "bin_end": 627.9776420730882,
            "bin_start": 550.6714796047205,
            "count": 0
           },
           {
            "bin_end": 705.2838045414559,
            "bin_start": 627.9776420730882,
            "count": 0
           },
           {
            "bin_end": 782.5899670098236,
            "bin_start": 705.2838045414559,
            "count": 1
           }
          ],
          "max": 782.5899670098236,
          "min": 9.528342326146895,
          "nan_count": 0,
          "unique_count": 26
         }
        },
        {
         "dtype": "int64",
         "name": "_deepnote_index_column"
        }
       ],
       "row_count": 26,
       "rows_bottom": null,
       "rows_top": [
        {
         "Actual": 538,
         "Demographic": "Citizens 18 years and over",
         "Expected": 538,
         "_deepnote_index_column": 0
        },
        {
         "Actual": 115.19992735553501,
         "Demographic": "    18 to 29 years",
         "Expected": 115.0163922054117,
         "_deepnote_index_column": 1
        },
        {
         "Actual": 127.20681222989184,
         "Demographic": "    30 to 44 years",
         "Expected": 127.04357608758018,
         "_deepnote_index_column": 2
        },
        {
         "Actual": 181.70017563483498,
         "Demographic": "    45 to 64 years",
         "Expected": 181.732856683579,
         "_deepnote_index_column": 3
        },
        {
         "Actual": 113.89308477973815,
         "Demographic": "    65 years and over",
         "Expected": 114.20717502342914,
         "_deepnote_index_column": 4
        },
        {
         "Actual": 261.2883592924913,
         "Demographic": "    Male",
         "Expected": 260.8459206349636,
         "_deepnote_index_column": 5
        },
        {
         "Actual": 276.7116407075087,
         "Demographic": "    Female",
         "Expected": 277.15407936503647,
         "_deepnote_index_column": 6
        },
        {
         "Actual": 782.5899670098236,
         "Demographic": "White alone",
         "Expected": 771.9054188604536,
         "_deepnote_index_column": 7
        },
        {
         "Actual": 66.50288726286237,
         "Demographic": "    Black or African American alone",
         "Expected": 68.62822785918982,
         "_deepnote_index_column": 8
        },
        {
         "Actual": 22.987173516602233,
         "Demographic": "    Asian alone",
         "Expected": 23.048837061562377,
         "_deepnote_index_column": 9
        },
        {
         "Actual": 16.622661519694176,
         "Demographic": "    Some Other Race alone",
         "Expected": 18.027736909293424,
         "_deepnote_index_column": 10
        },
        {
         "Actual": 12.33406024878275,
         "Demographic": "    Two or More Races",
         "Expected": 12.513999119150558,
         "_deepnote_index_column": 11
        },
        {
         "Actual": 64.15295859087233,
         "Demographic": "Hispanic or Latino",
         "Expected": 72.1579428942733,
         "_deepnote_index_column": 12
        },
        {
         "Actual": 16.32393454644917,
         "Demographic": "    Less than 9th grade",
         "Expected": 17.279286008391097,
         "_deepnote_index_column": 13
        },
        {
         "Actual": 37.24795586544007,
         "Demographic": "    9th to 12th grade, no diploma",
         "Expected": 37.594543778449335,
         "_deepnote_index_column": 14
        },
        {
         "Actual": 151.12895403102775,
         "Demographic": "    High school graduate (includes equivalency)",
         "Expected": 150.6221321021317,
         "_deepnote_index_column": 15
        },
        {
         "Actual": 127.3595974954884,
         "Demographic": "    Some college, no degree",
         "Expected": 126.65336029689847,
         "_deepnote_index_column": 16
        },
        {
         "Actual": 45.53897365140927,
         "Demographic": "    Associate's degree",
         "Expected": 45.580337828487075,
         "_deepnote_index_column": 17
        },
        {
         "Actual": 101.77776247033165,
         "Demographic": "    Bachelor's degree",
         "Expected": 101.88593346210982,
         "_deepnote_index_column": 18
        },
        {
         "Actual": 58.62282193985372,
         "Demographic": "    Graduate or professional degree",
         "Expected": 58.38440652353255,
         "_deepnote_index_column": 19
        },
        {
         "Actual": 484.4281095881107,
         "Demographic": "High school degree or higher",
         "Expected": 483.1261702131596,
         "_deepnote_index_column": 20
        },
        {
         "Actual": 160.40058441018533,
         "Demographic": "Bachelor's degree or higher",
         "Expected": 160.27033998564235,
         "_deepnote_index_column": 21
        },
        {
         "Actual": 522.8670706935276,
         "Demographic": "    Total Citizens, 18 years and older, for whom poverty status is determined",
         "Expected": 523.136169067311,
         "_deepnote_index_column": 22
        },
        {
         "Actual": 58.77463654600573,
         "Demographic": "    Income in the past 12 months below poverty level",
         "Expected": 60.60355957153562,
         "_deepnote_index_column": 23
        },
        {
         "Actual": 464.09243414752183,
         "Demographic": "    Income in the past 12 months at or above the poverty level",
         "Expected": 462.53260949577543,
         "_deepnote_index_column": 24
        },
        {
         "Actual": 9.528342326146895,
         "Demographic": "    Median Household Income for Households with a Citizen, Voting-Age Householder",
         "Expected": 7.207146196701193,
         "_deepnote_index_column": 25
        }
       ]
      },
      "text/html": [
       "<div>\n",
       "<style scoped>\n",
       "    .dataframe tbody tr th:only-of-type {\n",
       "        vertical-align: middle;\n",
       "    }\n",
       "\n",
       "    .dataframe tbody tr th {\n",
       "        vertical-align: top;\n",
       "    }\n",
       "\n",
       "    .dataframe thead th {\n",
       "        text-align: right;\n",
       "    }\n",
       "</style>\n",
       "<table border=\"1\" class=\"dataframe\">\n",
       "  <thead>\n",
       "    <tr style=\"text-align: right;\">\n",
       "      <th></th>\n",
       "      <th>Demographic</th>\n",
       "      <th>Expected</th>\n",
       "      <th>Actual</th>\n",
       "    </tr>\n",
       "  </thead>\n",
       "  <tbody>\n",
       "    <tr>\n",
       "      <th>0</th>\n",
       "      <td>Citizens 18 years and over</td>\n",
       "      <td>538.000000</td>\n",
       "      <td>538.000000</td>\n",
       "    </tr>\n",
       "    <tr>\n",
       "      <th>1</th>\n",
       "      <td>18 to 29 years</td>\n",
       "      <td>115.016392</td>\n",
       "      <td>115.199927</td>\n",
       "    </tr>\n",
       "    <tr>\n",
       "      <th>2</th>\n",
       "      <td>30 to 44 years</td>\n",
       "      <td>127.043576</td>\n",
       "      <td>127.206812</td>\n",
       "    </tr>\n",
       "    <tr>\n",
       "      <th>3</th>\n",
       "      <td>45 to 64 years</td>\n",
       "      <td>181.732857</td>\n",
       "      <td>181.700176</td>\n",
       "    </tr>\n",
       "    <tr>\n",
       "      <th>4</th>\n",
       "      <td>65 years and over</td>\n",
       "      <td>114.207175</td>\n",
       "      <td>113.893085</td>\n",
       "    </tr>\n",
       "    <tr>\n",
       "      <th>5</th>\n",
       "      <td>Male</td>\n",
       "      <td>260.845921</td>\n",
       "      <td>261.288359</td>\n",
       "    </tr>\n",
       "    <tr>\n",
       "      <th>6</th>\n",
       "      <td>Female</td>\n",
       "      <td>277.154079</td>\n",
       "      <td>276.711641</td>\n",
       "    </tr>\n",
       "    <tr>\n",
       "      <th>7</th>\n",
       "      <td>White alone</td>\n",
       "      <td>771.905419</td>\n",
       "      <td>782.589967</td>\n",
       "    </tr>\n",
       "    <tr>\n",
       "      <th>8</th>\n",
       "      <td>Black or African American alone</td>\n",
       "      <td>68.628228</td>\n",
       "      <td>66.502887</td>\n",
       "    </tr>\n",
       "    <tr>\n",
       "      <th>9</th>\n",
       "      <td>Asian alone</td>\n",
       "      <td>23.048837</td>\n",
       "      <td>22.987174</td>\n",
       "    </tr>\n",
       "    <tr>\n",
       "      <th>10</th>\n",
       "      <td>Some Other Race alone</td>\n",
       "      <td>18.027737</td>\n",
       "      <td>16.622662</td>\n",
       "    </tr>\n",
       "    <tr>\n",
       "      <th>11</th>\n",
       "      <td>Two or More Races</td>\n",
       "      <td>12.513999</td>\n",
       "      <td>12.334060</td>\n",
       "    </tr>\n",
       "    <tr>\n",
       "      <th>12</th>\n",
       "      <td>Hispanic or Latino</td>\n",
       "      <td>72.157943</td>\n",
       "      <td>64.152959</td>\n",
       "    </tr>\n",
       "    <tr>\n",
       "      <th>13</th>\n",
       "      <td>Less than 9th grade</td>\n",
       "      <td>17.279286</td>\n",
       "      <td>16.323935</td>\n",
       "    </tr>\n",
       "    <tr>\n",
       "      <th>14</th>\n",
       "      <td>9th to 12th grade, no diploma</td>\n",
       "      <td>37.594544</td>\n",
       "      <td>37.247956</td>\n",
       "    </tr>\n",
       "    <tr>\n",
       "      <th>15</th>\n",
       "      <td>High school graduate (includes equivalency)</td>\n",
       "      <td>150.622132</td>\n",
       "      <td>151.128954</td>\n",
       "    </tr>\n",
       "    <tr>\n",
       "      <th>16</th>\n",
       "      <td>Some college, no degree</td>\n",
       "      <td>126.653360</td>\n",
       "      <td>127.359597</td>\n",
       "    </tr>\n",
       "    <tr>\n",
       "      <th>17</th>\n",
       "      <td>Associate's degree</td>\n",
       "      <td>45.580338</td>\n",
       "      <td>45.538974</td>\n",
       "    </tr>\n",
       "    <tr>\n",
       "      <th>18</th>\n",
       "      <td>Bachelor's degree</td>\n",
       "      <td>101.885933</td>\n",
       "      <td>101.777762</td>\n",
       "    </tr>\n",
       "    <tr>\n",
       "      <th>19</th>\n",
       "      <td>Graduate or professional degree</td>\n",
       "      <td>58.384407</td>\n",
       "      <td>58.622822</td>\n",
       "    </tr>\n",
       "    <tr>\n",
       "      <th>20</th>\n",
       "      <td>High school degree or higher</td>\n",
       "      <td>483.126170</td>\n",
       "      <td>484.428110</td>\n",
       "    </tr>\n",
       "    <tr>\n",
       "      <th>21</th>\n",
       "      <td>Bachelor's degree or higher</td>\n",
       "      <td>160.270340</td>\n",
       "      <td>160.400584</td>\n",
       "    </tr>\n",
       "    <tr>\n",
       "      <th>22</th>\n",
       "      <td>Total Citizens, 18 years and older, for wh...</td>\n",
       "      <td>523.136169</td>\n",
       "      <td>522.867071</td>\n",
       "    </tr>\n",
       "    <tr>\n",
       "      <th>23</th>\n",
       "      <td>Income in the past 12 months below poverty...</td>\n",
       "      <td>60.603560</td>\n",
       "      <td>58.774637</td>\n",
       "    </tr>\n",
       "    <tr>\n",
       "      <th>24</th>\n",
       "      <td>Income in the past 12 months at or above t...</td>\n",
       "      <td>462.532609</td>\n",
       "      <td>464.092434</td>\n",
       "    </tr>\n",
       "    <tr>\n",
       "      <th>25</th>\n",
       "      <td>Median Household Income for Households wit...</td>\n",
       "      <td>7.207146</td>\n",
       "      <td>9.528342</td>\n",
       "    </tr>\n",
       "  </tbody>\n",
       "</table>\n",
       "</div>"
      ],
      "text/plain": [
       "                                          Demographic    Expected      Actual\n",
       "0                          Citizens 18 years and over  538.000000  538.000000\n",
       "1                                      18 to 29 years  115.016392  115.199927\n",
       "2                                      30 to 44 years  127.043576  127.206812\n",
       "3                                      45 to 64 years  181.732857  181.700176\n",
       "4                                   65 years and over  114.207175  113.893085\n",
       "5                                                Male  260.845921  261.288359\n",
       "6                                              Female  277.154079  276.711641\n",
       "7                                         White alone  771.905419  782.589967\n",
       "8                     Black or African American alone   68.628228   66.502887\n",
       "9                                         Asian alone   23.048837   22.987174\n",
       "10                              Some Other Race alone   18.027737   16.622662\n",
       "11                                  Two or More Races   12.513999   12.334060\n",
       "12                                 Hispanic or Latino   72.157943   64.152959\n",
       "13                                Less than 9th grade   17.279286   16.323935\n",
       "14                      9th to 12th grade, no diploma   37.594544   37.247956\n",
       "15        High school graduate (includes equivalency)  150.622132  151.128954\n",
       "16                            Some college, no degree  126.653360  127.359597\n",
       "17                                 Associate's degree   45.580338   45.538974\n",
       "18                                  Bachelor's degree  101.885933  101.777762\n",
       "19                    Graduate or professional degree   58.384407   58.622822\n",
       "20                       High school degree or higher  483.126170  484.428110\n",
       "21                        Bachelor's degree or higher  160.270340  160.400584\n",
       "22      Total Citizens, 18 years and older, for wh...  523.136169  522.867071\n",
       "23      Income in the past 12 months below poverty...   60.603560   58.774637\n",
       "24      Income in the past 12 months at or above t...  462.532609  464.092434\n",
       "25      Median Household Income for Households wit...    7.207146    9.528342"
      ]
     },
     "execution_count": 299,
     "metadata": {},
     "output_type": "execute_result"
    }
   ],
   "source": [
    "white_addition = expected_v_actual.iloc[13]\n",
    "expected_v_actual.iloc[7,:] += white_addition.values\n",
    "expected_v_actual.iat[7,0] = \"White alone\"\n",
    "expected_v_actual = expected_v_actual.drop([13])\n",
    "expected_v_actual.index = np.arange(26)\n",
    "expected_v_actual"
   ]
  },
  {
   "cell_type": "code",
   "execution_count": 300,
   "metadata": {
    "cell_id": "00011-7873608b-5f5e-48c8-81be-445f7f7372c6",
    "execution_millis": 0,
    "execution_start": 1605404659937,
    "output_cleared": false,
    "source_hash": "f5be5506",
    "tags": []
   },
   "outputs": [],
   "source": [
    "def exp_v_act(start_i, end_i):\n",
    "    table = expected_v_actual.iloc[start_i:end_i]\n",
    "    table['Actual'] = table['Actual'] - table['Expected']\n",
    "    g = sns.barplot(data=table, x='Demographic', y='Actual')\n",
    "    g.set_xticklabels(g.get_xticklabels(), rotation=90)\n",
    "    return g"
   ]
  },
  {
   "cell_type": "code",
   "execution_count": 301,
   "metadata": {
    "cell_id": "00011-eb272fd0-e0d2-4b68-8739-07591cb94e5a",
    "execution_millis": 127,
    "execution_start": 1605404659938,
    "output_cleared": false,
    "source_hash": "65a0eb4f",
    "tags": []
   },
   "outputs": [
    {
     "name": "stderr",
     "output_type": "stream",
     "text": [
      "/opt/venv/lib/python3.7/site-packages/ipykernel_launcher.py:3: SettingWithCopyWarning: \n",
      "A value is trying to be set on a copy of a slice from a DataFrame.\n",
      "Try using .loc[row_indexer,col_indexer] = value instead\n",
      "\n",
      "See the caveats in the documentation: https://pandas.pydata.org/pandas-docs/stable/user_guide/indexing.html#returning-a-view-versus-a-copy\n",
      "  This is separate from the ipykernel package so we can avoid doing imports until\n"
     ]
    },
    {
     "data": {
      "text/plain": [
       "<AxesSubplot:xlabel='Demographic', ylabel='Actual'>"
      ]
     },
     "execution_count": 301,
     "metadata": {},
     "output_type": "execute_result"
    },
    {
     "data": {
      "image/png": "[encoded data removed]",
      "text/plain": [
       "<Figure size 432x288 with 1 Axes>"
      ]
     },
     "metadata": {
      "needs_background": "light"
     },
     "output_type": "display_data"
    }
   ],
   "source": [
    "male_female = exp_v_act(5,7)\n",
    "male_female"
   ]
  },
  {
   "cell_type": "code",
   "execution_count": 302,
   "metadata": {
    "cell_id": "00012-8376c6c0-35e7-45bd-866b-abd399225a86",
    "execution_millis": 132,
    "execution_start": 1605404660065,
    "output_cleared": false,
    "source_hash": "ae68b75",
    "tags": []
   },
   "outputs": [
    {
     "name": "stderr",
     "output_type": "stream",
     "text": [
      "/opt/venv/lib/python3.7/site-packages/ipykernel_launcher.py:3: SettingWithCopyWarning: \n",
      "A value is trying to be set on a copy of a slice from a DataFrame.\n",
      "Try using .loc[row_indexer,col_indexer] = value instead\n",
      "\n",
      "See the caveats in the documentation: https://pandas.pydata.org/pandas-docs/stable/user_guide/indexing.html#returning-a-view-versus-a-copy\n",
      "  This is separate from the ipykernel package so we can avoid doing imports until\n"
     ]
    },
    {
     "data": {
      "text/plain": [
       "<AxesSubplot:xlabel='Demographic', ylabel='Actual'>"
      ]
     },
     "execution_count": 302,
     "metadata": {},
     "output_type": "execute_result"
    },
    {
     "data": {
      "image/png": "[encoded data removed]",
      "text/plain": [
       "<Figure size 432x288 with 1 Axes>"
      ]
     },
     "metadata": {
      "needs_background": "light"
     },
     "output_type": "display_data"
    }
   ],
   "source": [
    "race_diff = exp_v_act(7,13)\n",
    "race_diff"
   ]
  }
 ],
 "metadata": {
  "deepnote_execution_queue": [],
  "deepnote_notebook_id": "5f6f209f-0ada-4755-979e-9650b5ce4f99",
  "kernelspec": {
   "display_name": "Python 3",
   "language": "python",
   "name": "python3"
  },
  "language_info": {
   "codemirror_mode": {
    "name": "ipython",
    "version": 3
   },
   "file_extension": ".py",
   "mimetype": "text/x-python",
   "name": "python",
   "nbconvert_exporter": "python",
   "pygments_lexer": "ipython3",
   "version": "3.7.6"
  }
 },
 "nbformat": 4,
 "nbformat_minor": 2
}
