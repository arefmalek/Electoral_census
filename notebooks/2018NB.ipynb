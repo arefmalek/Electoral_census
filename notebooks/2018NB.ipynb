{
 "cells": [
  {
   "cell_type": "code",
   "execution_count": 1,
   "metadata": {
    "cell_id": "00000-e8a914d5-431c-4b10-81d0-74ee4c3b0248",
    "execution_millis": 402,
    "execution_start": 1605404691336,
    "output_cleared": false,
    "source_hash": "90ef58f2",
    "tags": []
   },
   "outputs": [
    {
     "data": {
      "text/html": [
       "<div>\n",
       "<style scoped>\n",
       "    .dataframe tbody tr th:only-of-type {\n",
       "        vertical-align: middle;\n",
       "    }\n",
       "\n",
       "    .dataframe tbody tr th {\n",
       "        vertical-align: top;\n",
       "    }\n",
       "\n",
       "    .dataframe thead th {\n",
       "        text-align: right;\n",
       "    }\n",
       "</style>\n",
       "<table border=\"1\" class=\"dataframe\">\n",
       "  <thead>\n",
       "    <tr style=\"text-align: right;\">\n",
       "      <th></th>\n",
       "      <th>Label</th>\n",
       "      <th>Alaska!!Total!!Estimate</th>\n",
       "      <th>Alaska!!Total!!Margin of Error</th>\n",
       "      <th>Alaska!!Percent!!Estimate</th>\n",
       "      <th>Alaska!!Percent!!Margin of Error</th>\n",
       "      <th>Maine!!Total!!Estimate</th>\n",
       "      <th>Maine!!Total!!Margin of Error</th>\n",
       "      <th>Maine!!Percent!!Estimate</th>\n",
       "      <th>Maine!!Percent!!Margin of Error</th>\n",
       "      <th>North Carolina!!Total!!Estimate</th>\n",
       "      <th>...</th>\n",
       "      <th>District of Columbia!!Percent!!Estimate</th>\n",
       "      <th>District of Columbia!!Percent!!Margin of Error</th>\n",
       "      <th>Utah!!Total!!Estimate</th>\n",
       "      <th>Utah!!Total!!Margin of Error</th>\n",
       "      <th>Utah!!Percent!!Estimate</th>\n",
       "      <th>Utah!!Percent!!Margin of Error</th>\n",
       "      <th>New York!!Total!!Estimate</th>\n",
       "      <th>New York!!Total!!Margin of Error</th>\n",
       "      <th>New York!!Percent!!Estimate</th>\n",
       "      <th>New York!!Percent!!Margin of Error</th>\n",
       "    </tr>\n",
       "  </thead>\n",
       "  <tbody>\n",
       "    <tr>\n",
       "      <th>0</th>\n",
       "      <td>Citizens 18 years and over</td>\n",
       "      <td>532,244</td>\n",
       "      <td>±2,539</td>\n",
       "      <td>(X)</td>\n",
       "      <td>(X)</td>\n",
       "      <td>1,070,661</td>\n",
       "      <td>±2,844</td>\n",
       "      <td>(X)</td>\n",
       "      <td>(X)</td>\n",
       "      <td>7,629,700</td>\n",
       "      <td>...</td>\n",
       "      <td>(X)</td>\n",
       "      <td>(X)</td>\n",
       "      <td>2,087,341</td>\n",
       "      <td>±6,918</td>\n",
       "      <td>(X)</td>\n",
       "      <td>(X)</td>\n",
       "      <td>13,770,029</td>\n",
       "      <td>±25,984</td>\n",
       "      <td>(X)</td>\n",
       "      <td>(X)</td>\n",
       "    </tr>\n",
       "    <tr>\n",
       "      <th>1</th>\n",
       "      <td>AGE</td>\n",
       "      <td>NaN</td>\n",
       "      <td>NaN</td>\n",
       "      <td>NaN</td>\n",
       "      <td>NaN</td>\n",
       "      <td>NaN</td>\n",
       "      <td>NaN</td>\n",
       "      <td>NaN</td>\n",
       "      <td>NaN</td>\n",
       "      <td>NaN</td>\n",
       "      <td>...</td>\n",
       "      <td>NaN</td>\n",
       "      <td>NaN</td>\n",
       "      <td>NaN</td>\n",
       "      <td>NaN</td>\n",
       "      <td>NaN</td>\n",
       "      <td>NaN</td>\n",
       "      <td>NaN</td>\n",
       "      <td>NaN</td>\n",
       "      <td>NaN</td>\n",
       "      <td>NaN</td>\n",
       "    </tr>\n",
       "    <tr>\n",
       "      <th>2</th>\n",
       "      <td>18 to 29 years</td>\n",
       "      <td>127,476</td>\n",
       "      <td>±1,829</td>\n",
       "      <td>24.0%</td>\n",
       "      <td>±0.3</td>\n",
       "      <td>181,628</td>\n",
       "      <td>±1,434</td>\n",
       "      <td>17.0%</td>\n",
       "      <td>±0.1</td>\n",
       "      <td>1,605,709</td>\n",
       "      <td>...</td>\n",
       "      <td>27.6%</td>\n",
       "      <td>±0.3</td>\n",
       "      <td>567,726</td>\n",
       "      <td>±3,742</td>\n",
       "      <td>27.2%</td>\n",
       "      <td>±0.2</td>\n",
       "      <td>2,924,030</td>\n",
       "      <td>±11,192</td>\n",
       "      <td>21.2%</td>\n",
       "      <td>±0.1</td>\n",
       "    </tr>\n",
       "    <tr>\n",
       "      <th>3</th>\n",
       "      <td>30 to 44 years</td>\n",
       "      <td>144,647</td>\n",
       "      <td>±2,629</td>\n",
       "      <td>27.2%</td>\n",
       "      <td>±0.5</td>\n",
       "      <td>227,304</td>\n",
       "      <td>±2,280</td>\n",
       "      <td>21.2%</td>\n",
       "      <td>±0.2</td>\n",
       "      <td>1,755,720</td>\n",
       "      <td>...</td>\n",
       "      <td>31.5%</td>\n",
       "      <td>±0.5</td>\n",
       "      <td>596,259</td>\n",
       "      <td>±5,266</td>\n",
       "      <td>28.6%</td>\n",
       "      <td>±0.2</td>\n",
       "      <td>3,189,035</td>\n",
       "      <td>±14,820</td>\n",
       "      <td>23.2%</td>\n",
       "      <td>±0.1</td>\n",
       "    </tr>\n",
       "    <tr>\n",
       "      <th>4</th>\n",
       "      <td>45 to 64 years</td>\n",
       "      <td>174,789</td>\n",
       "      <td>±3,032</td>\n",
       "      <td>32.8%</td>\n",
       "      <td>±0.5</td>\n",
       "      <td>388,346</td>\n",
       "      <td>±2,124</td>\n",
       "      <td>36.3%</td>\n",
       "      <td>±0.2</td>\n",
       "      <td>2,604,091</td>\n",
       "      <td>...</td>\n",
       "      <td>25.0%</td>\n",
       "      <td>±0.3</td>\n",
       "      <td>578,946</td>\n",
       "      <td>±3,748</td>\n",
       "      <td>27.7%</td>\n",
       "      <td>±0.2</td>\n",
       "      <td>4,615,032</td>\n",
       "      <td>±13,503</td>\n",
       "      <td>33.5%</td>\n",
       "      <td>±0.1</td>\n",
       "    </tr>\n",
       "    <tr>\n",
       "      <th>5</th>\n",
       "      <td>65 years and over</td>\n",
       "      <td>85,332</td>\n",
       "      <td>±1,468</td>\n",
       "      <td>16.0%</td>\n",
       "      <td>±0.3</td>\n",
       "      <td>273,383</td>\n",
       "      <td>±1,126</td>\n",
       "      <td>25.5%</td>\n",
       "      <td>±0.1</td>\n",
       "      <td>1,664,180</td>\n",
       "      <td>...</td>\n",
       "      <td>15.8%</td>\n",
       "      <td>±0.2</td>\n",
       "      <td>344,410</td>\n",
       "      <td>±2,279</td>\n",
       "      <td>16.5%</td>\n",
       "      <td>±0.1</td>\n",
       "      <td>3,041,932</td>\n",
       "      <td>±7,702</td>\n",
       "      <td>22.1%</td>\n",
       "      <td>±0.1</td>\n",
       "    </tr>\n",
       "    <tr>\n",
       "      <th>6</th>\n",
       "      <td>SEX</td>\n",
       "      <td>NaN</td>\n",
       "      <td>NaN</td>\n",
       "      <td>NaN</td>\n",
       "      <td>NaN</td>\n",
       "      <td>NaN</td>\n",
       "      <td>NaN</td>\n",
       "      <td>NaN</td>\n",
       "      <td>NaN</td>\n",
       "      <td>NaN</td>\n",
       "      <td>...</td>\n",
       "      <td>NaN</td>\n",
       "      <td>NaN</td>\n",
       "      <td>NaN</td>\n",
       "      <td>NaN</td>\n",
       "      <td>NaN</td>\n",
       "      <td>NaN</td>\n",
       "      <td>NaN</td>\n",
       "      <td>NaN</td>\n",
       "      <td>NaN</td>\n",
       "      <td>NaN</td>\n",
       "    </tr>\n",
       "    <tr>\n",
       "      <th>7</th>\n",
       "      <td>Male</td>\n",
       "      <td>279,792</td>\n",
       "      <td>±1,890</td>\n",
       "      <td>52.6%</td>\n",
       "      <td>±0.3</td>\n",
       "      <td>518,367</td>\n",
       "      <td>±1,899</td>\n",
       "      <td>48.4%</td>\n",
       "      <td>±0.2</td>\n",
       "      <td>3,634,888</td>\n",
       "      <td>...</td>\n",
       "      <td>46.7%</td>\n",
       "      <td>±0.3</td>\n",
       "      <td>1,041,497</td>\n",
       "      <td>±4,863</td>\n",
       "      <td>49.9%</td>\n",
       "      <td>±0.1</td>\n",
       "      <td>6,565,089</td>\n",
       "      <td>±16,713</td>\n",
       "      <td>47.7%</td>\n",
       "      <td>±0.1</td>\n",
       "    </tr>\n",
       "    <tr>\n",
       "      <th>8</th>\n",
       "      <td>Female</td>\n",
       "      <td>252,452</td>\n",
       "      <td>±2,008</td>\n",
       "      <td>47.4%</td>\n",
       "      <td>±0.3</td>\n",
       "      <td>552,294</td>\n",
       "      <td>±2,632</td>\n",
       "      <td>51.6%</td>\n",
       "      <td>±0.2</td>\n",
       "      <td>3,994,812</td>\n",
       "      <td>...</td>\n",
       "      <td>53.3%</td>\n",
       "      <td>±0.3</td>\n",
       "      <td>1,045,844</td>\n",
       "      <td>±4,348</td>\n",
       "      <td>50.1%</td>\n",
       "      <td>±0.1</td>\n",
       "      <td>7,204,940</td>\n",
       "      <td>±15,539</td>\n",
       "      <td>52.3%</td>\n",
       "      <td>±0.1</td>\n",
       "    </tr>\n",
       "    <tr>\n",
       "      <th>9</th>\n",
       "      <td>RACE AND HISPANIC ORIGIN</td>\n",
       "      <td>NaN</td>\n",
       "      <td>NaN</td>\n",
       "      <td>NaN</td>\n",
       "      <td>NaN</td>\n",
       "      <td>NaN</td>\n",
       "      <td>NaN</td>\n",
       "      <td>NaN</td>\n",
       "      <td>NaN</td>\n",
       "      <td>NaN</td>\n",
       "      <td>...</td>\n",
       "      <td>NaN</td>\n",
       "      <td>NaN</td>\n",
       "      <td>NaN</td>\n",
       "      <td>NaN</td>\n",
       "      <td>NaN</td>\n",
       "      <td>NaN</td>\n",
       "      <td>NaN</td>\n",
       "      <td>NaN</td>\n",
       "      <td>NaN</td>\n",
       "      <td>NaN</td>\n",
       "    </tr>\n",
       "    <tr>\n",
       "      <th>10</th>\n",
       "      <td>White alone</td>\n",
       "      <td>368,438</td>\n",
       "      <td>±2,822</td>\n",
       "      <td>69.2%</td>\n",
       "      <td>±0.5</td>\n",
       "      <td>1,027,268</td>\n",
       "      <td>±1,780</td>\n",
       "      <td>95.9%</td>\n",
       "      <td>±0.2</td>\n",
       "      <td>5,476,286</td>\n",
       "      <td>...</td>\n",
       "      <td>45.6%</td>\n",
       "      <td>±0.5</td>\n",
       "      <td>1,878,243</td>\n",
       "      <td>±6,805</td>\n",
       "      <td>90.0%</td>\n",
       "      <td>±0.3</td>\n",
       "      <td>9,479,819</td>\n",
       "      <td>±24,931</td>\n",
       "      <td>68.8%</td>\n",
       "      <td>±0.2</td>\n",
       "    </tr>\n",
       "    <tr>\n",
       "      <th>11</th>\n",
       "      <td>Black or African American alone</td>\n",
       "      <td>17,519</td>\n",
       "      <td>±1,558</td>\n",
       "      <td>3.3%</td>\n",
       "      <td>±0.3</td>\n",
       "      <td>8,276</td>\n",
       "      <td>±1,369</td>\n",
       "      <td>0.8%</td>\n",
       "      <td>±0.1</td>\n",
       "      <td>1,673,716</td>\n",
       "      <td>...</td>\n",
       "      <td>45.8%</td>\n",
       "      <td>±0.6</td>\n",
       "      <td>22,236</td>\n",
       "      <td>±1,528</td>\n",
       "      <td>1.1%</td>\n",
       "      <td>±0.1</td>\n",
       "      <td>2,139,909</td>\n",
       "      <td>±15,967</td>\n",
       "      <td>15.5%</td>\n",
       "      <td>±0.1</td>\n",
       "    </tr>\n",
       "    <tr>\n",
       "      <th>12</th>\n",
       "      <td>Asian alone</td>\n",
       "      <td>26,468</td>\n",
       "      <td>±2,068</td>\n",
       "      <td>5.0%</td>\n",
       "      <td>±0.4</td>\n",
       "      <td>8,429</td>\n",
       "      <td>±998</td>\n",
       "      <td>0.8%</td>\n",
       "      <td>±0.1</td>\n",
       "      <td>142,490</td>\n",
       "      <td>...</td>\n",
       "      <td>3.6%</td>\n",
       "      <td>±0.4</td>\n",
       "      <td>41,022</td>\n",
       "      <td>±3,133</td>\n",
       "      <td>2.0%</td>\n",
       "      <td>±0.1</td>\n",
       "      <td>922,184</td>\n",
       "      <td>±12,412</td>\n",
       "      <td>6.7%</td>\n",
       "      <td>±0.1</td>\n",
       "    </tr>\n",
       "    <tr>\n",
       "      <th>13</th>\n",
       "      <td>American Indian and Alaska Native alone</td>\n",
       "      <td>N</td>\n",
       "      <td>N</td>\n",
       "      <td>N</td>\n",
       "      <td>N</td>\n",
       "      <td>N</td>\n",
       "      <td>N</td>\n",
       "      <td>N</td>\n",
       "      <td>N</td>\n",
       "      <td>89,491</td>\n",
       "      <td>...</td>\n",
       "      <td>N</td>\n",
       "      <td>N</td>\n",
       "      <td>N</td>\n",
       "      <td>N</td>\n",
       "      <td>N</td>\n",
       "      <td>N</td>\n",
       "      <td>56,168</td>\n",
       "      <td>±4,696</td>\n",
       "      <td>0.4%</td>\n",
       "      <td>±0.1</td>\n",
       "    </tr>\n",
       "    <tr>\n",
       "      <th>14</th>\n",
       "      <td>Native Hawaiian and Other Pacific Isla...</td>\n",
       "      <td>4,320</td>\n",
       "      <td>±1,128</td>\n",
       "      <td>0.8%</td>\n",
       "      <td>±0.2</td>\n",
       "      <td>N</td>\n",
       "      <td>N</td>\n",
       "      <td>N</td>\n",
       "      <td>N</td>\n",
       "      <td>5,707</td>\n",
       "      <td>...</td>\n",
       "      <td>N</td>\n",
       "      <td>N</td>\n",
       "      <td>17,875</td>\n",
       "      <td>±1,551</td>\n",
       "      <td>0.9%</td>\n",
       "      <td>±0.1</td>\n",
       "      <td>7,021</td>\n",
       "      <td>±2,370</td>\n",
       "      <td>0.1%</td>\n",
       "      <td>±0.1</td>\n",
       "    </tr>\n",
       "    <tr>\n",
       "      <th>15</th>\n",
       "      <td>Some Other Race alone</td>\n",
       "      <td>6,980</td>\n",
       "      <td>±1,974</td>\n",
       "      <td>1.3%</td>\n",
       "      <td>±0.4</td>\n",
       "      <td>2,024</td>\n",
       "      <td>±682</td>\n",
       "      <td>0.2%</td>\n",
       "      <td>±0.1</td>\n",
       "      <td>95,928</td>\n",
       "      <td>...</td>\n",
       "      <td>1.7%</td>\n",
       "      <td>±0.4</td>\n",
       "      <td>59,280</td>\n",
       "      <td>±5,373</td>\n",
       "      <td>2.8%</td>\n",
       "      <td>±0.3</td>\n",
       "      <td>834,466</td>\n",
       "      <td>±23,524</td>\n",
       "      <td>6.1%</td>\n",
       "      <td>±0.2</td>\n",
       "    </tr>\n",
       "    <tr>\n",
       "      <th>16</th>\n",
       "      <td>Two or More Races</td>\n",
       "      <td>33,181</td>\n",
       "      <td>±3,446</td>\n",
       "      <td>6.2%</td>\n",
       "      <td>±0.6</td>\n",
       "      <td>N</td>\n",
       "      <td>N</td>\n",
       "      <td>N</td>\n",
       "      <td>N</td>\n",
       "      <td>146,082</td>\n",
       "      <td>...</td>\n",
       "      <td>2.8%</td>\n",
       "      <td>±0.4</td>\n",
       "      <td>46,359</td>\n",
       "      <td>±3,436</td>\n",
       "      <td>2.2%</td>\n",
       "      <td>±0.2</td>\n",
       "      <td>330,462</td>\n",
       "      <td>±12,716</td>\n",
       "      <td>2.4%</td>\n",
       "      <td>±0.1</td>\n",
       "    </tr>\n",
       "    <tr>\n",
       "      <th>17</th>\n",
       "      <td>Hispanic or Latino</td>\n",
       "      <td>31,790</td>\n",
       "      <td>±1,004</td>\n",
       "      <td>6.0%</td>\n",
       "      <td>±0.2</td>\n",
       "      <td>15,070</td>\n",
       "      <td>±911</td>\n",
       "      <td>1.4%</td>\n",
       "      <td>±0.1</td>\n",
       "      <td>337,941</td>\n",
       "      <td>...</td>\n",
       "      <td>7.0%</td>\n",
       "      <td>±0.5</td>\n",
       "      <td>190,248</td>\n",
       "      <td>±5,817</td>\n",
       "      <td>9.1%</td>\n",
       "      <td>±0.3</td>\n",
       "      <td>2,033,344</td>\n",
       "      <td>±20,241</td>\n",
       "      <td>14.8%</td>\n",
       "      <td>±0.1</td>\n",
       "    </tr>\n",
       "    <tr>\n",
       "      <th>18</th>\n",
       "      <td>White alone, Not Hispanic or Latino</td>\n",
       "      <td>349,058</td>\n",
       "      <td>±1,415</td>\n",
       "      <td>65.6%</td>\n",
       "      <td>±0.3</td>\n",
       "      <td>1,016,354</td>\n",
       "      <td>±1,589</td>\n",
       "      <td>94.9%</td>\n",
       "      <td>±0.2</td>\n",
       "      <td>5,266,352</td>\n",
       "      <td>...</td>\n",
       "      <td>41.6%</td>\n",
       "      <td>±0.4</td>\n",
       "      <td>1,760,735</td>\n",
       "      <td>±3,045</td>\n",
       "      <td>84.4%</td>\n",
       "      <td>±0.3</td>\n",
       "      <td>8,553,329</td>\n",
       "      <td>±11,764</td>\n",
       "      <td>62.1%</td>\n",
       "      <td>±0.1</td>\n",
       "    </tr>\n",
       "    <tr>\n",
       "      <th>19</th>\n",
       "      <td>EDUCATIONAL ATTAINMENT</td>\n",
       "      <td>NaN</td>\n",
       "      <td>NaN</td>\n",
       "      <td>NaN</td>\n",
       "      <td>NaN</td>\n",
       "      <td>NaN</td>\n",
       "      <td>NaN</td>\n",
       "      <td>NaN</td>\n",
       "      <td>NaN</td>\n",
       "      <td>NaN</td>\n",
       "      <td>...</td>\n",
       "      <td>NaN</td>\n",
       "      <td>NaN</td>\n",
       "      <td>NaN</td>\n",
       "      <td>NaN</td>\n",
       "      <td>NaN</td>\n",
       "      <td>NaN</td>\n",
       "      <td>NaN</td>\n",
       "      <td>NaN</td>\n",
       "      <td>NaN</td>\n",
       "      <td>NaN</td>\n",
       "    </tr>\n",
       "    <tr>\n",
       "      <th>20</th>\n",
       "      <td>Less than 9th grade</td>\n",
       "      <td>10,640</td>\n",
       "      <td>±1,693</td>\n",
       "      <td>2.0%</td>\n",
       "      <td>±0.3</td>\n",
       "      <td>24,600</td>\n",
       "      <td>±2,742</td>\n",
       "      <td>2.3%</td>\n",
       "      <td>±0.3</td>\n",
       "      <td>200,778</td>\n",
       "      <td>...</td>\n",
       "      <td>2.2%</td>\n",
       "      <td>±0.4</td>\n",
       "      <td>28,144</td>\n",
       "      <td>±2,870</td>\n",
       "      <td>1.3%</td>\n",
       "      <td>±0.1</td>\n",
       "      <td>541,093</td>\n",
       "      <td>±12,970</td>\n",
       "      <td>3.9%</td>\n",
       "      <td>±0.1</td>\n",
       "    </tr>\n",
       "    <tr>\n",
       "      <th>21</th>\n",
       "      <td>9th to 12th grade, no diploma</td>\n",
       "      <td>26,444</td>\n",
       "      <td>±2,293</td>\n",
       "      <td>5.0%</td>\n",
       "      <td>±0.4</td>\n",
       "      <td>52,524</td>\n",
       "      <td>±3,608</td>\n",
       "      <td>4.9%</td>\n",
       "      <td>±0.3</td>\n",
       "      <td>584,883</td>\n",
       "      <td>...</td>\n",
       "      <td>4.7%</td>\n",
       "      <td>±0.6</td>\n",
       "      <td>112,538</td>\n",
       "      <td>±6,979</td>\n",
       "      <td>5.4%</td>\n",
       "      <td>±0.3</td>\n",
       "      <td>907,828</td>\n",
       "      <td>±16,535</td>\n",
       "      <td>6.6%</td>\n",
       "      <td>±0.1</td>\n",
       "    </tr>\n",
       "    <tr>\n",
       "      <th>22</th>\n",
       "      <td>High school graduate (includes equival...</td>\n",
       "      <td>160,451</td>\n",
       "      <td>±4,824</td>\n",
       "      <td>30.1%</td>\n",
       "      <td>±0.9</td>\n",
       "      <td>342,506</td>\n",
       "      <td>±7,878</td>\n",
       "      <td>32.0%</td>\n",
       "      <td>±0.7</td>\n",
       "      <td>2,006,153</td>\n",
       "      <td>...</td>\n",
       "      <td>18.9%</td>\n",
       "      <td>±1.0</td>\n",
       "      <td>495,871</td>\n",
       "      <td>±11,071</td>\n",
       "      <td>23.8%</td>\n",
       "      <td>±0.5</td>\n",
       "      <td>3,584,694</td>\n",
       "      <td>±31,965</td>\n",
       "      <td>26.0%</td>\n",
       "      <td>±0.2</td>\n",
       "    </tr>\n",
       "    <tr>\n",
       "      <th>23</th>\n",
       "      <td>Some college, no degree</td>\n",
       "      <td>148,709</td>\n",
       "      <td>±5,567</td>\n",
       "      <td>27.9%</td>\n",
       "      <td>±1.0</td>\n",
       "      <td>236,725</td>\n",
       "      <td>±6,601</td>\n",
       "      <td>22.1%</td>\n",
       "      <td>±0.6</td>\n",
       "      <td>1,837,548</td>\n",
       "      <td>...</td>\n",
       "      <td>15.4%</td>\n",
       "      <td>±1.1</td>\n",
       "      <td>589,770</td>\n",
       "      <td>±10,736</td>\n",
       "      <td>28.3%</td>\n",
       "      <td>±0.5</td>\n",
       "      <td>2,578,936</td>\n",
       "      <td>±25,114</td>\n",
       "      <td>18.7%</td>\n",
       "      <td>±0.2</td>\n",
       "    </tr>\n",
       "    <tr>\n",
       "      <th>24</th>\n",
       "      <td>Associate's degree</td>\n",
       "      <td>41,699</td>\n",
       "      <td>±2,807</td>\n",
       "      <td>7.8%</td>\n",
       "      <td>±0.5</td>\n",
       "      <td>99,301</td>\n",
       "      <td>±4,584</td>\n",
       "      <td>9.3%</td>\n",
       "      <td>±0.4</td>\n",
       "      <td>734,078</td>\n",
       "      <td>...</td>\n",
       "      <td>2.6%</td>\n",
       "      <td>±0.5</td>\n",
       "      <td>214,821</td>\n",
       "      <td>±7,523</td>\n",
       "      <td>10.3%</td>\n",
       "      <td>±0.4</td>\n",
       "      <td>1,223,564</td>\n",
       "      <td>±18,026</td>\n",
       "      <td>8.9%</td>\n",
       "      <td>±0.1</td>\n",
       "    </tr>\n",
       "    <tr>\n",
       "      <th>25</th>\n",
       "      <td>Bachelor's degree</td>\n",
       "      <td>89,107</td>\n",
       "      <td>±4,177</td>\n",
       "      <td>16.7%</td>\n",
       "      <td>±0.8</td>\n",
       "      <td>205,198</td>\n",
       "      <td>±5,909</td>\n",
       "      <td>19.2%</td>\n",
       "      <td>±0.5</td>\n",
       "      <td>1,496,734</td>\n",
       "      <td>...</td>\n",
       "      <td>26.0%</td>\n",
       "      <td>±1.1</td>\n",
       "      <td>432,248</td>\n",
       "      <td>±9,138</td>\n",
       "      <td>20.7%</td>\n",
       "      <td>±0.4</td>\n",
       "      <td>2,851,606</td>\n",
       "      <td>±28,761</td>\n",
       "      <td>20.7%</td>\n",
       "      <td>±0.2</td>\n",
       "    </tr>\n",
       "    <tr>\n",
       "      <th>26</th>\n",
       "      <td>Graduate or professional degree</td>\n",
       "      <td>55,194</td>\n",
       "      <td>±3,489</td>\n",
       "      <td>10.4%</td>\n",
       "      <td>±0.6</td>\n",
       "      <td>109,807</td>\n",
       "      <td>±4,842</td>\n",
       "      <td>10.3%</td>\n",
       "      <td>±0.5</td>\n",
       "      <td>769,526</td>\n",
       "      <td>...</td>\n",
       "      <td>30.2%</td>\n",
       "      <td>±0.9</td>\n",
       "      <td>213,949</td>\n",
       "      <td>±6,588</td>\n",
       "      <td>10.2%</td>\n",
       "      <td>±0.3</td>\n",
       "      <td>2,082,308</td>\n",
       "      <td>±22,011</td>\n",
       "      <td>15.1%</td>\n",
       "      <td>±0.2</td>\n",
       "    </tr>\n",
       "    <tr>\n",
       "      <th>27</th>\n",
       "      <td>High school degree or higher</td>\n",
       "      <td>495,160</td>\n",
       "      <td>±3,690</td>\n",
       "      <td>93.0%</td>\n",
       "      <td>±0.5</td>\n",
       "      <td>993,537</td>\n",
       "      <td>±5,405</td>\n",
       "      <td>92.8%</td>\n",
       "      <td>±0.4</td>\n",
       "      <td>6,844,039</td>\n",
       "      <td>...</td>\n",
       "      <td>93.1%</td>\n",
       "      <td>±0.6</td>\n",
       "      <td>1,946,659</td>\n",
       "      <td>±9,521</td>\n",
       "      <td>93.3%</td>\n",
       "      <td>±0.4</td>\n",
       "      <td>12,321,108</td>\n",
       "      <td>±29,233</td>\n",
       "      <td>89.5%</td>\n",
       "      <td>±0.1</td>\n",
       "    </tr>\n",
       "    <tr>\n",
       "      <th>28</th>\n",
       "      <td>Bachelor's degree or higher</td>\n",
       "      <td>144,301</td>\n",
       "      <td>±5,756</td>\n",
       "      <td>27.1%</td>\n",
       "      <td>±1.1</td>\n",
       "      <td>315,005</td>\n",
       "      <td>±7,234</td>\n",
       "      <td>29.4%</td>\n",
       "      <td>±0.7</td>\n",
       "      <td>2,266,260</td>\n",
       "      <td>...</td>\n",
       "      <td>56.2%</td>\n",
       "      <td>±0.8</td>\n",
       "      <td>646,197</td>\n",
       "      <td>±11,510</td>\n",
       "      <td>31.0%</td>\n",
       "      <td>±0.5</td>\n",
       "      <td>4,933,914</td>\n",
       "      <td>±34,030</td>\n",
       "      <td>35.8%</td>\n",
       "      <td>±0.2</td>\n",
       "    </tr>\n",
       "    <tr>\n",
       "      <th>29</th>\n",
       "      <td>POVERTY STATUS</td>\n",
       "      <td>NaN</td>\n",
       "      <td>NaN</td>\n",
       "      <td>NaN</td>\n",
       "      <td>NaN</td>\n",
       "      <td>NaN</td>\n",
       "      <td>NaN</td>\n",
       "      <td>NaN</td>\n",
       "      <td>NaN</td>\n",
       "      <td>NaN</td>\n",
       "      <td>...</td>\n",
       "      <td>NaN</td>\n",
       "      <td>NaN</td>\n",
       "      <td>NaN</td>\n",
       "      <td>NaN</td>\n",
       "      <td>NaN</td>\n",
       "      <td>NaN</td>\n",
       "      <td>NaN</td>\n",
       "      <td>NaN</td>\n",
       "      <td>NaN</td>\n",
       "      <td>NaN</td>\n",
       "    </tr>\n",
       "    <tr>\n",
       "      <th>30</th>\n",
       "      <td>Total Citizens, 18 years and older, fo...</td>\n",
       "      <td>519,019</td>\n",
       "      <td>±2,513</td>\n",
       "      <td>(X)</td>\n",
       "      <td>(X)</td>\n",
       "      <td>1,043,005</td>\n",
       "      <td>±2,857</td>\n",
       "      <td>(X)</td>\n",
       "      <td>(X)</td>\n",
       "      <td>7,392,393</td>\n",
       "      <td>...</td>\n",
       "      <td>(X)</td>\n",
       "      <td>(X)</td>\n",
       "      <td>2,052,201</td>\n",
       "      <td>±7,006</td>\n",
       "      <td>(X)</td>\n",
       "      <td>(X)</td>\n",
       "      <td>13,371,194</td>\n",
       "      <td>±26,432</td>\n",
       "      <td>(X)</td>\n",
       "      <td>(X)</td>\n",
       "    </tr>\n",
       "    <tr>\n",
       "      <th>31</th>\n",
       "      <td>Income in the past 12 months below pov...</td>\n",
       "      <td>51,051</td>\n",
       "      <td>±4,246</td>\n",
       "      <td>9.8%</td>\n",
       "      <td>±0.8</td>\n",
       "      <td>114,438</td>\n",
       "      <td>±5,297</td>\n",
       "      <td>11.0%</td>\n",
       "      <td>±0.5</td>\n",
       "      <td>866,201</td>\n",
       "      <td>...</td>\n",
       "      <td>14.6%</td>\n",
       "      <td>±1.0</td>\n",
       "      <td>171,099</td>\n",
       "      <td>±9,330</td>\n",
       "      <td>8.3%</td>\n",
       "      <td>±0.4</td>\n",
       "      <td>1,541,839</td>\n",
       "      <td>±27,715</td>\n",
       "      <td>11.5%</td>\n",
       "      <td>±0.2</td>\n",
       "    </tr>\n",
       "    <tr>\n",
       "      <th>32</th>\n",
       "      <td>Income in the past 12 months at or abo...</td>\n",
       "      <td>467,968</td>\n",
       "      <td>±4,584</td>\n",
       "      <td>90.2%</td>\n",
       "      <td>±0.8</td>\n",
       "      <td>928,567</td>\n",
       "      <td>±5,834</td>\n",
       "      <td>89.0%</td>\n",
       "      <td>±0.5</td>\n",
       "      <td>6,526,192</td>\n",
       "      <td>...</td>\n",
       "      <td>85.4%</td>\n",
       "      <td>±1.0</td>\n",
       "      <td>1,881,102</td>\n",
       "      <td>±9,971</td>\n",
       "      <td>91.7%</td>\n",
       "      <td>±0.4</td>\n",
       "      <td>11,829,355</td>\n",
       "      <td>±35,046</td>\n",
       "      <td>88.5%</td>\n",
       "      <td>±0.2</td>\n",
       "    </tr>\n",
       "    <tr>\n",
       "      <th>33</th>\n",
       "      <td>HOUSEHOLD INCOME (IN 2018 INFLATION-ADJUST...</td>\n",
       "      <td>NaN</td>\n",
       "      <td>NaN</td>\n",
       "      <td>NaN</td>\n",
       "      <td>NaN</td>\n",
       "      <td>NaN</td>\n",
       "      <td>NaN</td>\n",
       "      <td>NaN</td>\n",
       "      <td>NaN</td>\n",
       "      <td>NaN</td>\n",
       "      <td>...</td>\n",
       "      <td>NaN</td>\n",
       "      <td>NaN</td>\n",
       "      <td>NaN</td>\n",
       "      <td>NaN</td>\n",
       "      <td>NaN</td>\n",
       "      <td>NaN</td>\n",
       "      <td>NaN</td>\n",
       "      <td>NaN</td>\n",
       "      <td>NaN</td>\n",
       "      <td>NaN</td>\n",
       "    </tr>\n",
       "    <tr>\n",
       "      <th>34</th>\n",
       "      <td>Median Household Income for Households...</td>\n",
       "      <td>74,192</td>\n",
       "      <td>±2,305</td>\n",
       "      <td>(X)</td>\n",
       "      <td>(X)</td>\n",
       "      <td>55,663</td>\n",
       "      <td>±1,300</td>\n",
       "      <td>(X)</td>\n",
       "      <td>(X)</td>\n",
       "      <td>54,729</td>\n",
       "      <td>...</td>\n",
       "      <td>(X)</td>\n",
       "      <td>(X)</td>\n",
       "      <td>72,685</td>\n",
       "      <td>±1,043</td>\n",
       "      <td>(X)</td>\n",
       "      <td>(X)</td>\n",
       "      <td>69,956</td>\n",
       "      <td>±557</td>\n",
       "      <td>(X)</td>\n",
       "      <td>(X)</td>\n",
       "    </tr>\n",
       "  </tbody>\n",
       "</table>\n",
       "<p>35 rows × 209 columns</p>\n",
       "</div>"
      ],
      "text/plain": [
       "                                                Label Alaska!!Total!!Estimate  \\\n",
       "0                          Citizens 18 years and over                 532,244   \n",
       "1                                                 AGE                     NaN   \n",
       "2                                      18 to 29 years                 127,476   \n",
       "3                                      30 to 44 years                 144,647   \n",
       "4                                      45 to 64 years                 174,789   \n",
       "5                                   65 years and over                  85,332   \n",
       "6                                                 SEX                     NaN   \n",
       "7                                                Male                 279,792   \n",
       "8                                              Female                 252,452   \n",
       "9                            RACE AND HISPANIC ORIGIN                     NaN   \n",
       "10                                        White alone                 368,438   \n",
       "11                    Black or African American alone                  17,519   \n",
       "12                                        Asian alone                  26,468   \n",
       "13            American Indian and Alaska Native alone                       N   \n",
       "14          Native Hawaiian and Other Pacific Isla...                   4,320   \n",
       "15                              Some Other Race alone                   6,980   \n",
       "16                                  Two or More Races                  33,181   \n",
       "17                                 Hispanic or Latino                  31,790   \n",
       "18                White alone, Not Hispanic or Latino                 349,058   \n",
       "19                             EDUCATIONAL ATTAINMENT                     NaN   \n",
       "20                                Less than 9th grade                  10,640   \n",
       "21                      9th to 12th grade, no diploma                  26,444   \n",
       "22          High school graduate (includes equival...                 160,451   \n",
       "23                            Some college, no degree                 148,709   \n",
       "24                                 Associate's degree                  41,699   \n",
       "25                                  Bachelor's degree                  89,107   \n",
       "26                    Graduate or professional degree                  55,194   \n",
       "27                       High school degree or higher                 495,160   \n",
       "28                        Bachelor's degree or higher                 144,301   \n",
       "29                                     POVERTY STATUS                     NaN   \n",
       "30          Total Citizens, 18 years and older, fo...                 519,019   \n",
       "31          Income in the past 12 months below pov...                  51,051   \n",
       "32          Income in the past 12 months at or abo...                 467,968   \n",
       "33      HOUSEHOLD INCOME (IN 2018 INFLATION-ADJUST...                     NaN   \n",
       "34          Median Household Income for Households...                  74,192   \n",
       "\n",
       "   Alaska!!Total!!Margin of Error Alaska!!Percent!!Estimate  \\\n",
       "0                          ±2,539                       (X)   \n",
       "1                             NaN                       NaN   \n",
       "2                          ±1,829                     24.0%   \n",
       "3                          ±2,629                     27.2%   \n",
       "4                          ±3,032                     32.8%   \n",
       "5                          ±1,468                     16.0%   \n",
       "6                             NaN                       NaN   \n",
       "7                          ±1,890                     52.6%   \n",
       "8                          ±2,008                     47.4%   \n",
       "9                             NaN                       NaN   \n",
       "10                         ±2,822                     69.2%   \n",
       "11                         ±1,558                      3.3%   \n",
       "12                         ±2,068                      5.0%   \n",
       "13                              N                         N   \n",
       "14                         ±1,128                      0.8%   \n",
       "15                         ±1,974                      1.3%   \n",
       "16                         ±3,446                      6.2%   \n",
       "17                         ±1,004                      6.0%   \n",
       "18                         ±1,415                     65.6%   \n",
       "19                            NaN                       NaN   \n",
       "20                         ±1,693                      2.0%   \n",
       "21                         ±2,293                      5.0%   \n",
       "22                         ±4,824                     30.1%   \n",
       "23                         ±5,567                     27.9%   \n",
       "24                         ±2,807                      7.8%   \n",
       "25                         ±4,177                     16.7%   \n",
       "26                         ±3,489                     10.4%   \n",
       "27                         ±3,690                     93.0%   \n",
       "28                         ±5,756                     27.1%   \n",
       "29                            NaN                       NaN   \n",
       "30                         ±2,513                       (X)   \n",
       "31                         ±4,246                      9.8%   \n",
       "32                         ±4,584                     90.2%   \n",
       "33                            NaN                       NaN   \n",
       "34                         ±2,305                       (X)   \n",
       "\n",
       "   Alaska!!Percent!!Margin of Error Maine!!Total!!Estimate  \\\n",
       "0                               (X)              1,070,661   \n",
       "1                               NaN                    NaN   \n",
       "2                              ±0.3                181,628   \n",
       "3                              ±0.5                227,304   \n",
       "4                              ±0.5                388,346   \n",
       "5                              ±0.3                273,383   \n",
       "6                               NaN                    NaN   \n",
       "7                              ±0.3                518,367   \n",
       "8                              ±0.3                552,294   \n",
       "9                               NaN                    NaN   \n",
       "10                             ±0.5              1,027,268   \n",
       "11                             ±0.3                  8,276   \n",
       "12                             ±0.4                  8,429   \n",
       "13                                N                      N   \n",
       "14                             ±0.2                      N   \n",
       "15                             ±0.4                  2,024   \n",
       "16                             ±0.6                      N   \n",
       "17                             ±0.2                 15,070   \n",
       "18                             ±0.3              1,016,354   \n",
       "19                              NaN                    NaN   \n",
       "20                             ±0.3                 24,600   \n",
       "21                             ±0.4                 52,524   \n",
       "22                             ±0.9                342,506   \n",
       "23                             ±1.0                236,725   \n",
       "24                             ±0.5                 99,301   \n",
       "25                             ±0.8                205,198   \n",
       "26                             ±0.6                109,807   \n",
       "27                             ±0.5                993,537   \n",
       "28                             ±1.1                315,005   \n",
       "29                              NaN                    NaN   \n",
       "30                              (X)              1,043,005   \n",
       "31                             ±0.8                114,438   \n",
       "32                             ±0.8                928,567   \n",
       "33                              NaN                    NaN   \n",
       "34                              (X)                 55,663   \n",
       "\n",
       "   Maine!!Total!!Margin of Error Maine!!Percent!!Estimate  \\\n",
       "0                         ±2,844                      (X)   \n",
       "1                            NaN                      NaN   \n",
       "2                         ±1,434                    17.0%   \n",
       "3                         ±2,280                    21.2%   \n",
       "4                         ±2,124                    36.3%   \n",
       "5                         ±1,126                    25.5%   \n",
       "6                            NaN                      NaN   \n",
       "7                         ±1,899                    48.4%   \n",
       "8                         ±2,632                    51.6%   \n",
       "9                            NaN                      NaN   \n",
       "10                        ±1,780                    95.9%   \n",
       "11                        ±1,369                     0.8%   \n",
       "12                          ±998                     0.8%   \n",
       "13                             N                        N   \n",
       "14                             N                        N   \n",
       "15                          ±682                     0.2%   \n",
       "16                             N                        N   \n",
       "17                          ±911                     1.4%   \n",
       "18                        ±1,589                    94.9%   \n",
       "19                           NaN                      NaN   \n",
       "20                        ±2,742                     2.3%   \n",
       "21                        ±3,608                     4.9%   \n",
       "22                        ±7,878                    32.0%   \n",
       "23                        ±6,601                    22.1%   \n",
       "24                        ±4,584                     9.3%   \n",
       "25                        ±5,909                    19.2%   \n",
       "26                        ±4,842                    10.3%   \n",
       "27                        ±5,405                    92.8%   \n",
       "28                        ±7,234                    29.4%   \n",
       "29                           NaN                      NaN   \n",
       "30                        ±2,857                      (X)   \n",
       "31                        ±5,297                    11.0%   \n",
       "32                        ±5,834                    89.0%   \n",
       "33                           NaN                      NaN   \n",
       "34                        ±1,300                      (X)   \n",
       "\n",
       "   Maine!!Percent!!Margin of Error North Carolina!!Total!!Estimate  ...  \\\n",
       "0                              (X)                       7,629,700  ...   \n",
       "1                              NaN                             NaN  ...   \n",
       "2                             ±0.1                       1,605,709  ...   \n",
       "3                             ±0.2                       1,755,720  ...   \n",
       "4                             ±0.2                       2,604,091  ...   \n",
       "5                             ±0.1                       1,664,180  ...   \n",
       "6                              NaN                             NaN  ...   \n",
       "7                             ±0.2                       3,634,888  ...   \n",
       "8                             ±0.2                       3,994,812  ...   \n",
       "9                              NaN                             NaN  ...   \n",
       "10                            ±0.2                       5,476,286  ...   \n",
       "11                            ±0.1                       1,673,716  ...   \n",
       "12                            ±0.1                         142,490  ...   \n",
       "13                               N                          89,491  ...   \n",
       "14                               N                           5,707  ...   \n",
       "15                            ±0.1                          95,928  ...   \n",
       "16                               N                         146,082  ...   \n",
       "17                            ±0.1                         337,941  ...   \n",
       "18                            ±0.2                       5,266,352  ...   \n",
       "19                             NaN                             NaN  ...   \n",
       "20                            ±0.3                         200,778  ...   \n",
       "21                            ±0.3                         584,883  ...   \n",
       "22                            ±0.7                       2,006,153  ...   \n",
       "23                            ±0.6                       1,837,548  ...   \n",
       "24                            ±0.4                         734,078  ...   \n",
       "25                            ±0.5                       1,496,734  ...   \n",
       "26                            ±0.5                         769,526  ...   \n",
       "27                            ±0.4                       6,844,039  ...   \n",
       "28                            ±0.7                       2,266,260  ...   \n",
       "29                             NaN                             NaN  ...   \n",
       "30                             (X)                       7,392,393  ...   \n",
       "31                            ±0.5                         866,201  ...   \n",
       "32                            ±0.5                       6,526,192  ...   \n",
       "33                             NaN                             NaN  ...   \n",
       "34                             (X)                          54,729  ...   \n",
       "\n",
       "   District of Columbia!!Percent!!Estimate  \\\n",
       "0                                      (X)   \n",
       "1                                      NaN   \n",
       "2                                    27.6%   \n",
       "3                                    31.5%   \n",
       "4                                    25.0%   \n",
       "5                                    15.8%   \n",
       "6                                      NaN   \n",
       "7                                    46.7%   \n",
       "8                                    53.3%   \n",
       "9                                      NaN   \n",
       "10                                   45.6%   \n",
       "11                                   45.8%   \n",
       "12                                    3.6%   \n",
       "13                                       N   \n",
       "14                                       N   \n",
       "15                                    1.7%   \n",
       "16                                    2.8%   \n",
       "17                                    7.0%   \n",
       "18                                   41.6%   \n",
       "19                                     NaN   \n",
       "20                                    2.2%   \n",
       "21                                    4.7%   \n",
       "22                                   18.9%   \n",
       "23                                   15.4%   \n",
       "24                                    2.6%   \n",
       "25                                   26.0%   \n",
       "26                                   30.2%   \n",
       "27                                   93.1%   \n",
       "28                                   56.2%   \n",
       "29                                     NaN   \n",
       "30                                     (X)   \n",
       "31                                   14.6%   \n",
       "32                                   85.4%   \n",
       "33                                     NaN   \n",
       "34                                     (X)   \n",
       "\n",
       "   District of Columbia!!Percent!!Margin of Error Utah!!Total!!Estimate  \\\n",
       "0                                             (X)             2,087,341   \n",
       "1                                             NaN                   NaN   \n",
       "2                                            ±0.3               567,726   \n",
       "3                                            ±0.5               596,259   \n",
       "4                                            ±0.3               578,946   \n",
       "5                                            ±0.2               344,410   \n",
       "6                                             NaN                   NaN   \n",
       "7                                            ±0.3             1,041,497   \n",
       "8                                            ±0.3             1,045,844   \n",
       "9                                             NaN                   NaN   \n",
       "10                                           ±0.5             1,878,243   \n",
       "11                                           ±0.6                22,236   \n",
       "12                                           ±0.4                41,022   \n",
       "13                                              N                     N   \n",
       "14                                              N                17,875   \n",
       "15                                           ±0.4                59,280   \n",
       "16                                           ±0.4                46,359   \n",
       "17                                           ±0.5               190,248   \n",
       "18                                           ±0.4             1,760,735   \n",
       "19                                            NaN                   NaN   \n",
       "20                                           ±0.4                28,144   \n",
       "21                                           ±0.6               112,538   \n",
       "22                                           ±1.0               495,871   \n",
       "23                                           ±1.1               589,770   \n",
       "24                                           ±0.5               214,821   \n",
       "25                                           ±1.1               432,248   \n",
       "26                                           ±0.9               213,949   \n",
       "27                                           ±0.6             1,946,659   \n",
       "28                                           ±0.8               646,197   \n",
       "29                                            NaN                   NaN   \n",
       "30                                            (X)             2,052,201   \n",
       "31                                           ±1.0               171,099   \n",
       "32                                           ±1.0             1,881,102   \n",
       "33                                            NaN                   NaN   \n",
       "34                                            (X)                72,685   \n",
       "\n",
       "   Utah!!Total!!Margin of Error Utah!!Percent!!Estimate  \\\n",
       "0                        ±6,918                     (X)   \n",
       "1                           NaN                     NaN   \n",
       "2                        ±3,742                   27.2%   \n",
       "3                        ±5,266                   28.6%   \n",
       "4                        ±3,748                   27.7%   \n",
       "5                        ±2,279                   16.5%   \n",
       "6                           NaN                     NaN   \n",
       "7                        ±4,863                   49.9%   \n",
       "8                        ±4,348                   50.1%   \n",
       "9                           NaN                     NaN   \n",
       "10                       ±6,805                   90.0%   \n",
       "11                       ±1,528                    1.1%   \n",
       "12                       ±3,133                    2.0%   \n",
       "13                            N                       N   \n",
       "14                       ±1,551                    0.9%   \n",
       "15                       ±5,373                    2.8%   \n",
       "16                       ±3,436                    2.2%   \n",
       "17                       ±5,817                    9.1%   \n",
       "18                       ±3,045                   84.4%   \n",
       "19                          NaN                     NaN   \n",
       "20                       ±2,870                    1.3%   \n",
       "21                       ±6,979                    5.4%   \n",
       "22                      ±11,071                   23.8%   \n",
       "23                      ±10,736                   28.3%   \n",
       "24                       ±7,523                   10.3%   \n",
       "25                       ±9,138                   20.7%   \n",
       "26                       ±6,588                   10.2%   \n",
       "27                       ±9,521                   93.3%   \n",
       "28                      ±11,510                   31.0%   \n",
       "29                          NaN                     NaN   \n",
       "30                       ±7,006                     (X)   \n",
       "31                       ±9,330                    8.3%   \n",
       "32                       ±9,971                   91.7%   \n",
       "33                          NaN                     NaN   \n",
       "34                       ±1,043                     (X)   \n",
       "\n",
       "   Utah!!Percent!!Margin of Error New York!!Total!!Estimate  \\\n",
       "0                             (X)                13,770,029   \n",
       "1                             NaN                       NaN   \n",
       "2                            ±0.2                 2,924,030   \n",
       "3                            ±0.2                 3,189,035   \n",
       "4                            ±0.2                 4,615,032   \n",
       "5                            ±0.1                 3,041,932   \n",
       "6                             NaN                       NaN   \n",
       "7                            ±0.1                 6,565,089   \n",
       "8                            ±0.1                 7,204,940   \n",
       "9                             NaN                       NaN   \n",
       "10                           ±0.3                 9,479,819   \n",
       "11                           ±0.1                 2,139,909   \n",
       "12                           ±0.1                   922,184   \n",
       "13                              N                    56,168   \n",
       "14                           ±0.1                     7,021   \n",
       "15                           ±0.3                   834,466   \n",
       "16                           ±0.2                   330,462   \n",
       "17                           ±0.3                 2,033,344   \n",
       "18                           ±0.3                 8,553,329   \n",
       "19                            NaN                       NaN   \n",
       "20                           ±0.1                   541,093   \n",
       "21                           ±0.3                   907,828   \n",
       "22                           ±0.5                 3,584,694   \n",
       "23                           ±0.5                 2,578,936   \n",
       "24                           ±0.4                 1,223,564   \n",
       "25                           ±0.4                 2,851,606   \n",
       "26                           ±0.3                 2,082,308   \n",
       "27                           ±0.4                12,321,108   \n",
       "28                           ±0.5                 4,933,914   \n",
       "29                            NaN                       NaN   \n",
       "30                            (X)                13,371,194   \n",
       "31                           ±0.4                 1,541,839   \n",
       "32                           ±0.4                11,829,355   \n",
       "33                            NaN                       NaN   \n",
       "34                            (X)                    69,956   \n",
       "\n",
       "   New York!!Total!!Margin of Error New York!!Percent!!Estimate  \\\n",
       "0                           ±25,984                         (X)   \n",
       "1                               NaN                         NaN   \n",
       "2                           ±11,192                       21.2%   \n",
       "3                           ±14,820                       23.2%   \n",
       "4                           ±13,503                       33.5%   \n",
       "5                            ±7,702                       22.1%   \n",
       "6                               NaN                         NaN   \n",
       "7                           ±16,713                       47.7%   \n",
       "8                           ±15,539                       52.3%   \n",
       "9                               NaN                         NaN   \n",
       "10                          ±24,931                       68.8%   \n",
       "11                          ±15,967                       15.5%   \n",
       "12                          ±12,412                        6.7%   \n",
       "13                           ±4,696                        0.4%   \n",
       "14                           ±2,370                        0.1%   \n",
       "15                          ±23,524                        6.1%   \n",
       "16                          ±12,716                        2.4%   \n",
       "17                          ±20,241                       14.8%   \n",
       "18                          ±11,764                       62.1%   \n",
       "19                              NaN                         NaN   \n",
       "20                          ±12,970                        3.9%   \n",
       "21                          ±16,535                        6.6%   \n",
       "22                          ±31,965                       26.0%   \n",
       "23                          ±25,114                       18.7%   \n",
       "24                          ±18,026                        8.9%   \n",
       "25                          ±28,761                       20.7%   \n",
       "26                          ±22,011                       15.1%   \n",
       "27                          ±29,233                       89.5%   \n",
       "28                          ±34,030                       35.8%   \n",
       "29                              NaN                         NaN   \n",
       "30                          ±26,432                         (X)   \n",
       "31                          ±27,715                       11.5%   \n",
       "32                          ±35,046                       88.5%   \n",
       "33                              NaN                         NaN   \n",
       "34                             ±557                         (X)   \n",
       "\n",
       "   New York!!Percent!!Margin of Error  \n",
       "0                                 (X)  \n",
       "1                                 NaN  \n",
       "2                                ±0.1  \n",
       "3                                ±0.1  \n",
       "4                                ±0.1  \n",
       "5                                ±0.1  \n",
       "6                                 NaN  \n",
       "7                                ±0.1  \n",
       "8                                ±0.1  \n",
       "9                                 NaN  \n",
       "10                               ±0.2  \n",
       "11                               ±0.1  \n",
       "12                               ±0.1  \n",
       "13                               ±0.1  \n",
       "14                               ±0.1  \n",
       "15                               ±0.2  \n",
       "16                               ±0.1  \n",
       "17                               ±0.1  \n",
       "18                               ±0.1  \n",
       "19                                NaN  \n",
       "20                               ±0.1  \n",
       "21                               ±0.1  \n",
       "22                               ±0.2  \n",
       "23                               ±0.2  \n",
       "24                               ±0.1  \n",
       "25                               ±0.2  \n",
       "26                               ±0.2  \n",
       "27                               ±0.1  \n",
       "28                               ±0.2  \n",
       "29                                NaN  \n",
       "30                                (X)  \n",
       "31                               ±0.2  \n",
       "32                               ±0.2  \n",
       "33                                NaN  \n",
       "34                                (X)  \n",
       "\n",
       "[35 rows x 209 columns]"
      ]
     },
     "execution_count": 1,
     "metadata": {},
     "output_type": "execute_result"
    }
   ],
   "source": [
    "import pandas as pd\n",
    "import numpy as np\n",
    "import matplotlib\n",
    "import seaborn as sns\n",
    "\n",
    "data = pd.read_csv(\"Data/2018_full.csv\")\n",
    "data"
   ]
  },
  {
   "cell_type": "code",
   "execution_count": 268,
   "metadata": {
    "cell_id": "00001-f07b9c43-67cc-43a0-a685-e02e4858314a",
    "execution_millis": 1,
    "execution_start": 1605404691741,
    "output_cleared": false,
    "source_hash": "4b981cd7",
    "tags": []
   },
   "outputs": [],
   "source": [
    "def p2f(s):\n",
    "    if s == '':\n",
    "        return 0\n",
    "    return float(s)"
   ]
  },
  {
   "cell_type": "code",
   "execution_count": 269,
   "metadata": {
    "cell_id": "00002-8fb9668a-9bbc-4078-84c9-51f21357d2f1",
    "execution_millis": 1,
    "execution_start": 1605404691749,
    "output_cleared": false,
    "source_hash": "45791926",
    "tags": []
   },
   "outputs": [],
   "source": [
    "def normify(s):\n",
    "    return s.split(\"!!\")[0]"
   ]
  },
  {
   "cell_type": "code",
   "execution_count": 270,
   "metadata": {
    "cell_id": "00003-4586a0c4-cd8b-437e-8fb5-0b4a948edf47",
    "execution_millis": 11,
    "execution_start": 1605404691965,
    "output_cleared": false,
    "source_hash": "fd4e332e",
    "tags": []
   },
   "outputs": [
    {
     "data": {
      "application/vnd.deepnote.dataframe.v2+json": {
       "column_count": 53,
       "columns": [
        {
         "dtype": "object",
         "name": "Label",
         "stats": {
          "categories": [
           {
            "count": 1,
            "name": "Citizens 18 years and over"
           },
           {
            "count": 1,
            "name": "        18 to 29 years"
           },
           {
            "count": 26,
            "name": "26 others"
           }
          ],
          "nan_count": 0,
          "unique_count": 28
         }
        },
        {
         "dtype": "float64",
         "name": "Alaska",
         "stats": {
          "histogram": [
           {
            "bin_end": 57112.4,
            "bin_start": 4320,
            "count": 11
           },
           {
            "bin_end": 109904.8,
            "bin_start": 57112.4,
            "count": 3
           },
           {
            "bin_end": 162697.2,
            "bin_start": 109904.8,
            "count": 5
           },
           {
            "bin_end": 215489.6,
            "bin_start": 162697.2,
            "count": 1
           },
           {
            "bin_end": 268282,
            "bin_start": 215489.6,
            "count": 1
           },
           {
            "bin_end": 321074.4,
            "bin_start": 268282,
            "count": 1
           },
           {
            "bin_end": 373866.8,
            "bin_start": 321074.4,
            "count": 2
           },
           {
            "bin_end": 426659.2,
            "bin_start": 373866.8,
            "count": 0
           },
           {
            "bin_end": 479451.60000000003,
            "bin_start": 426659.2,
            "count": 1
           },
           {
            "bin_end": 532244,
            "bin_start": 479451.60000000003,
            "count": 3
           }
          ],
          "max": 532244,
          "min": 4320,
          "nan_count": 0,
          "unique_count": 28
         }
        },
        {
         "dtype": "float64",
         "name": "Maine",
         "stats": {
          "histogram": [
           {
            "bin_end": 107066.1,
            "bin_start": 0,
            "count": 10
           },
           {
            "bin_end": 214132.2,
            "bin_start": 107066.1,
            "count": 4
           },
           {
            "bin_end": 321198.30000000005,
            "bin_start": 214132.2,
            "count": 4
           },
           {
            "bin_end": 428264.4,
            "bin_start": 321198.30000000005,
            "count": 2
           },
           {
            "bin_end": 535330.5,
            "bin_start": 428264.4,
            "count": 1
           },
           {
            "bin_end": 642396.6000000001,
            "bin_start": 535330.5,
            "count": 1
           },
           {
            "bin_end": 749462.7000000001,
            "bin_start": 642396.6000000001,
            "count": 0
           },
           {
            "bin_end": 856528.8,
            "bin_start": 749462.7000000001,
            "count": 0
           },
           {
            "bin_end": 963594.9,
            "bin_start": 856528.8,
            "count": 1
           },
           {
            "bin_end": 1070661,
            "bin_start": 963594.9,
            "count": 5
           }
          ],
          "max": 1070661,
          "min": 0,
          "nan_count": 0,
          "unique_count": 27
         }
        },
        {
         "dtype": "float64",
         "name": "North Carolina",
         "stats": {
          "histogram": [
           {
            "bin_end": 768106.3,
            "bin_start": 5707,
            "count": 9
           },
           {
            "bin_end": 1530505.6,
            "bin_start": 768106.3,
            "count": 3
           },
           {
            "bin_end": 2292904.9000000004,
            "bin_start": 1530505.6,
            "count": 7
           },
           {
            "bin_end": 3055304.2,
            "bin_start": 2292904.9000000004,
            "count": 1
           },
           {
            "bin_end": 3817703.5,
            "bin_start": 3055304.2,
            "count": 1
           },
           {
            "bin_end": 4580102.800000001,
            "bin_start": 3817703.5,
            "count": 1
           },
           {
            "bin_end": 5342502.100000001,
            "bin_start": 4580102.800000001,
            "count": 1
           },
           {
            "bin_end": 6104901.4,
            "bin_start": 5342502.100000001,
            "count": 1
           },
           {
            "bin_end": 6867300.7,
            "bin_start": 6104901.4,
            "count": 2
           },
           {
            "bin_end": 7629700,
            "bin_start": 6867300.7,
            "count": 2
           }
          ],
          "max": 7629700,
          "min": 5707,
          "nan_count": 0,
          "unique_count": 28
         }
        },
        {
         "dtype": "float64",
         "name": "Missouri",
         "stats": {
          "histogram": [
           {
            "bin_end": 466892.9,
            "bin_start": 3951,
            "count": 10
           },
           {
            "bin_end": 929834.8,
            "bin_start": 466892.9,
            "count": 3
           },
           {
            "bin_end": 1392776.7000000002,
            "bin_start": 929834.8,
            "count": 5
           },
           {
            "bin_end": 1855718.6,
            "bin_start": 1392776.7000000002,
            "count": 2
           },
           {
            "bin_end": 2318660.5,
            "bin_start": 1855718.6,
            "count": 1
           },
           {
            "bin_end": 2781602.4000000004,
            "bin_start": 2318660.5,
            "count": 1
           },
           {
            "bin_end": 3244544.3000000003,
            "bin_start": 2781602.4000000004,
            "count": 0
           },
           {
            "bin_end": 3707486.2,
            "bin_start": 3244544.3000000003,
            "count": 0
           },
           {
            "bin_end": 4170428.1,
            "bin_start": 3707486.2,
            "count": 3
           },
           {
            "bin_end": 4633370,
            "bin_start": 4170428.1,
            "count": 3
           }
          ],
          "max": 4633370,
          "min": 3951,
          "nan_count": 0,
          "unique_count": 28
         }
        },
        {
         "dtype": "float64",
         "name": "Pennsylvania",
         "stats": {
          "histogram": [
           {
            "bin_end": 978121.2,
            "bin_start": 0,
            "count": 9
           },
           {
            "bin_end": 1956242.4,
            "bin_start": 978121.2,
            "count": 6
           },
           {
            "bin_end": 2934363.5999999996,
            "bin_start": 1956242.4,
            "count": 3
           },
           {
            "bin_end": 3912484.8,
            "bin_start": 2934363.5999999996,
            "count": 2
           },
           {
            "bin_end": 4890606,
            "bin_start": 3912484.8,
            "count": 1
           },
           {
            "bin_end": 5868727.199999999,
            "bin_start": 4890606,
            "count": 1
           },
           {
            "bin_end": 6846848.399999999,
            "bin_start": 5868727.199999999,
            "count": 0
           },
           {
            "bin_end": 7824969.6,
            "bin_start": 6846848.399999999,
            "count": 0
           },
           {
            "bin_end": 8803090.799999999,
            "bin_start": 7824969.6,
            "count": 3
           },
           {
            "bin_end": 9781212,
            "bin_start": 8803090.799999999,
            "count": 3
           }
          ],
          "max": 9781212,
          "min": 0,
          "nan_count": 0,
          "unique_count": 28
         }
        },
        {
         "dtype": "float64",
         "name": "Michigan",
         "stats": {
          "histogram": [
           {
            "bin_end": 756899.6,
            "bin_start": 2902,
            "count": 10
           },
           {
            "bin_end": 1510897.2,
            "bin_start": 756899.6,
            "count": 3
           },
           {
            "bin_end": 2264894.8,
            "bin_start": 1510897.2,
            "count": 6
           },
           {
            "bin_end": 3018892.4,
            "bin_start": 2264894.8,
            "count": 1
           },
           {
            "bin_end": 3772890,
            "bin_start": 3018892.4,
            "count": 1
           },
           {
            "bin_end": 4526887.6,
            "bin_start": 3772890,
            "count": 1
           },
           {
            "bin_end": 5280885.2,
            "bin_start": 4526887.6,
            "count": 0
           },
           {
            "bin_end": 6034882.8,
            "bin_start": 5280885.2,
            "count": 1
           },
           {
            "bin_end": 6788880.399999999,
            "bin_start": 6034882.8,
            "count": 2
           },
           {
            "bin_end": 7542878,
            "bin_start": 6788880.399999999,
            "count": 3
           }
          ],
          "max": 7542878,
          "min": 2902,
          "nan_count": 0,
          "unique_count": 28
         }
        },
        {
         "dtype": "float64",
         "name": "Nebraska",
         "stats": {
          "histogram": [
           {
            "bin_end": 138026,
            "bin_start": 0,
            "count": 11
           },
           {
            "bin_end": 276052,
            "bin_start": 138026,
            "count": 1
           },
           {
            "bin_end": 414078,
            "bin_start": 276052,
            "count": 6
           },
           {
            "bin_end": 552104,
            "bin_start": 414078,
            "count": 2
           },
           {
            "bin_end": 690130,
            "bin_start": 552104,
            "count": 1
           },
           {
            "bin_end": 828156,
            "bin_start": 690130,
            "count": 1
           },
           {
            "bin_end": 966182,
            "bin_start": 828156,
            "count": 0
           },
           {
            "bin_end": 1104208,
            "bin_start": 966182,
            "count": 0
           },
           {
            "bin_end": 1242234,
            "bin_start": 1104208,
            "count": 2
           },
           {
            "bin_end": 1380260,
            "bin_start": 1242234,
            "count": 4
           }
          ],
          "max": 1380260,
          "min": 0,
          "nan_count": 0,
          "unique_count": 28
         }
        },
        {
         "dtype": "float64",
         "name": "Oregon",
         "stats": {
          "histogram": [
           {
            "bin_end": 318075.5,
            "bin_start": 9176,
            "count": 10
           },
           {
            "bin_end": 626975,
            "bin_start": 318075.5,
            "count": 3
           },
           {
            "bin_end": 935874.5,
            "bin_start": 626975,
            "count": 5
           },
           {
            "bin_end": 1244774,
            "bin_start": 935874.5,
            "count": 2
           },
           {
            "bin_end": 1553673.5,
            "bin_start": 1244774,
            "count": 1
           },
           {
            "bin_end": 1862573,
            "bin_start": 1553673.5,
            "count": 1
           },
           {
            "bin_end": 2171472.5,
            "bin_start": 1862573,
            "count": 0
           },
           {
            "bin_end": 2480372,
            "bin_start": 2171472.5,
            "count": 0
           },
           {
            "bin_end": 2789271.5,
            "bin_start": 2480372,
            "count": 3
           },
           {
            "bin_end": 3098171,
            "bin_start": 2789271.5,
            "count": 3
           }
          ],
          "max": 3098171,
          "min": 9176,
          "nan_count": 0,
          "unique_count": 28
         }
        },
        {
         "dtype": "float64",
         "name": "Wyoming",
         "stats": {
          "histogram": [
           {
            "bin_end": 43364.4,
            "bin_start": 0,
            "count": 10
           },
           {
            "bin_end": 86728.8,
            "bin_start": 43364.4,
            "count": 3
           },
           {
            "bin_end": 130093.20000000001,
            "bin_start": 86728.8,
            "count": 6
           },
           {
            "bin_end": 173457.6,
            "bin_start": 130093.20000000001,
            "count": 1
           },
           {
            "bin_end": 216822,
            "bin_start": 173457.6,
            "count": 1
           },
           {
            "bin_end": 260186.40000000002,
            "bin_start": 216822,
            "count": 1
           },
           {
            "bin_end": 303550.8,
            "bin_start": 260186.40000000002,
            "count": 0
           },
           {
            "bin_end": 346915.2,
            "bin_start": 303550.8,
            "count": 0
           },
           {
            "bin_end": 390279.60000000003,
            "bin_start": 346915.2,
            "count": 2
           },
           {
            "bin_end": 433644,
            "bin_start": 390279.60000000003,
            "count": 4
           }
          ],
          "max": 433644,
          "min": 0,
          "nan_count": 0,
          "unique_count": 25
         }
        },
        {
         "dtype": "float64",
         "name": "California",
         "stats": {
          "histogram": [
           {
            "bin_end": 2655249.4,
            "bin_start": 79296,
            "count": 8
           },
           {
            "bin_end": 5231202.8,
            "bin_start": 2655249.4,
            "count": 4
           },
           {
            "bin_end": 7807156.199999999,
            "bin_start": 5231202.8,
            "count": 5
           },
           {
            "bin_end": 10383109.6,
            "bin_start": 7807156.199999999,
            "count": 3
           },
           {
            "bin_end": 12959063,
            "bin_start": 10383109.6,
            "count": 2
           },
           {
            "bin_end": 15535016.399999999,
            "bin_start": 12959063,
            "count": 1
           },
           {
            "bin_end": 18110969.8,
            "bin_start": 15535016.399999999,
            "count": 1
           },
           {
            "bin_end": 20686923.2,
            "bin_start": 18110969.8,
            "count": 0
           },
           {
            "bin_end": 23262876.599999998,
            "bin_start": 20686923.2,
            "count": 2
           },
           {
            "bin_end": 25838830,
            "bin_start": 23262876.599999998,
            "count": 2
           }
          ],
          "max": 25838830,
          "min": 79296,
          "nan_count": 0,
          "unique_count": 28
         }
        },
        {
         "dtype": "float64",
         "name": "Mississippi",
         "stats": {
          "histogram": [
           {
            "bin_end": 224065.8,
            "bin_start": 0,
            "count": 9
           },
           {
            "bin_end": 448131.6,
            "bin_start": 224065.8,
            "count": 3
           },
           {
            "bin_end": 672197.3999999999,
            "bin_start": 448131.6,
            "count": 6
           },
           {
            "bin_end": 896263.2,
            "bin_start": 672197.3999999999,
            "count": 2
           },
           {
            "bin_end": 1120329,
            "bin_start": 896263.2,
            "count": 1
           },
           {
            "bin_end": 1344394.7999999998,
            "bin_start": 1120329,
            "count": 2
           },
           {
            "bin_end": 1568460.5999999999,
            "bin_start": 1344394.7999999998,
            "count": 1
           },
           {
            "bin_end": 1792526.4,
            "bin_start": 1568460.5999999999,
            "count": 1
           },
           {
            "bin_end": 2016592.2,
            "bin_start": 1792526.4,
            "count": 1
           },
           {
            "bin_end": 2240658,
            "bin_start": 2016592.2,
            "count": 2
           }
          ],
          "max": 2240658,
          "min": 0,
          "nan_count": 0,
          "unique_count": 28
         }
        },
        {
         "dtype": "float64",
         "name": "Connecticut",
         "stats": {
          "histogram": [
           {
            "bin_end": 261436.5,
            "bin_start": 0,
            "count": 9
           },
           {
            "bin_end": 522873,
            "bin_start": 261436.5,
            "count": 4
           },
           {
            "bin_end": 784309.5,
            "bin_start": 522873,
            "count": 5
           },
           {
            "bin_end": 1045746,
            "bin_start": 784309.5,
            "count": 2
           },
           {
            "bin_end": 1307182.5,
            "bin_start": 1045746,
            "count": 1
           },
           {
            "bin_end": 1568619,
            "bin_start": 1307182.5,
            "count": 1
           },
           {
            "bin_end": 1830055.5,
            "bin_start": 1568619,
            "count": 0
           },
           {
            "bin_end": 2091492,
            "bin_start": 1830055.5,
            "count": 1
           },
           {
            "bin_end": 2352928.5,
            "bin_start": 2091492,
            "count": 2
           },
           {
            "bin_end": 2614365,
            "bin_start": 2352928.5,
            "count": 3
           }
          ],
          "max": 2614365,
          "min": 0,
          "nan_count": 0,
          "unique_count": 28
         }
        },
        {
         "dtype": "float64",
         "name": "Texas",
         "stats": {
          "histogram": [
           {
            "bin_end": 1864040.3,
            "bin_start": 15341,
            "count": 9
           },
           {
            "bin_end": 3712739.6,
            "bin_start": 1864040.3,
            "count": 4
           },
           {
            "bin_end": 5561438.9,
            "bin_start": 3712739.6,
            "count": 5
           },
           {
            "bin_end": 7410138.2,
            "bin_start": 5561438.9,
            "count": 2
           },
           {
            "bin_end": 9258837.5,
            "bin_start": 7410138.2,
            "count": 1
           },
           {
            "bin_end": 11107536.8,
            "bin_start": 9258837.5,
            "count": 2
           },
           {
            "bin_end": 12956236.1,
            "bin_start": 11107536.8,
            "count": 0
           },
           {
            "bin_end": 14804935.4,
            "bin_start": 12956236.1,
            "count": 1
           },
           {
            "bin_end": 16653634.700000001,
            "bin_start": 14804935.4,
            "count": 2
           },
           {
            "bin_end": 18502334,
            "bin_start": 16653634.700000001,
            "count": 2
           }
          ],
          "max": 18502334,
          "min": 15341,
          "nan_count": 0,
          "unique_count": 28
         }
        },
        {
         "dtype": "float64",
         "name": "Idaho",
         "stats": {
          "histogram": [
           {
            "bin_end": 125241.4,
            "bin_start": 0,
            "count": 11
           },
           {
            "bin_end": 250482.8,
            "bin_start": 125241.4,
            "count": 2
           },
           {
            "bin_end": 375724.19999999995,
            "bin_start": 250482.8,
            "count": 6
           },
           {
            "bin_end": 500965.6,
            "bin_start": 375724.19999999995,
            "count": 1
           },
           {
            "bin_end": 626207,
            "bin_start": 500965.6,
            "count": 1
           },
           {
            "bin_end": 751448.3999999999,
            "bin_start": 626207,
            "count": 1
           },
           {
            "bin_end": 876689.7999999999,
            "bin_start": 751448.3999999999,
            "count": 0
           },
           {
            "bin_end": 1001931.2,
            "bin_start": 876689.7999999999,
            "count": 0
           },
           {
            "bin_end": 1127172.5999999999,
            "bin_start": 1001931.2,
            "count": 2
           },
           {
            "bin_end": 1252414,
            "bin_start": 1127172.5999999999,
            "count": 4
           }
          ],
          "max": 1252414,
          "min": 0,
          "nan_count": 0,
          "unique_count": 28
         }
        },
        {
         "dtype": "float64",
         "name": "Maryland",
         "stats": {
          "histogram": [
           {
            "bin_end": 432015,
            "bin_start": 0,
            "count": 10
           },
           {
            "bin_end": 864030,
            "bin_start": 432015,
            "count": 1
           },
           {
            "bin_end": 1296045,
            "bin_start": 864030,
            "count": 6
           },
           {
            "bin_end": 1728060,
            "bin_start": 1296045,
            "count": 3
           },
           {
            "bin_end": 2160075,
            "bin_start": 1728060,
            "count": 1
           },
           {
            "bin_end": 2592090,
            "bin_start": 2160075,
            "count": 3
           },
           {
            "bin_end": 3024105,
            "bin_start": 2592090,
            "count": 0
           },
           {
            "bin_end": 3456120,
            "bin_start": 3024105,
            "count": 0
           },
           {
            "bin_end": 3888135,
            "bin_start": 3456120,
            "count": 1
           },
           {
            "bin_end": 4320150,
            "bin_start": 3888135,
            "count": 3
           }
          ],
          "max": 4320150,
          "min": 0,
          "nan_count": 0,
          "unique_count": 28
         }
        },
        {
         "dtype": "float64",
         "name": "New Mexico",
         "stats": {
          "histogram": [
           {
            "bin_end": 150738.4,
            "bin_start": 0,
            "count": 9
           },
           {
            "bin_end": 301476.8,
            "bin_start": 150738.4,
            "count": 3
           },
           {
            "bin_end": 452215.19999999995,
            "bin_start": 301476.8,
            "count": 6
           },
           {
            "bin_end": 602953.6,
            "bin_start": 452215.19999999995,
            "count": 1
           },
           {
            "bin_end": 753692,
            "bin_start": 602953.6,
            "count": 3
           },
           {
            "bin_end": 904430.3999999999,
            "bin_start": 753692,
            "count": 1
           },
           {
            "bin_end": 1055168.8,
            "bin_start": 904430.3999999999,
            "count": 0
           },
           {
            "bin_end": 1205907.2,
            "bin_start": 1055168.8,
            "count": 1
           },
           {
            "bin_end": 1356645.5999999999,
            "bin_start": 1205907.2,
            "count": 2
           },
           {
            "bin_end": 1507384,
            "bin_start": 1356645.5999999999,
            "count": 2
           }
          ],
          "max": 1507384,
          "min": 0,
          "nan_count": 0,
          "unique_count": 28
         }
        },
        {
         "dtype": "float64",
         "name": "Alabama",
         "stats": {
          "histogram": [
           {
            "bin_end": 371221.2,
            "bin_start": 0,
            "count": 10
           },
           {
            "bin_end": 742442.4,
            "bin_start": 371221.2,
            "count": 2
           },
           {
            "bin_end": 1113663.6,
            "bin_start": 742442.4,
            "count": 6
           },
           {
            "bin_end": 1484884.8,
            "bin_start": 1113663.6,
            "count": 2
           },
           {
            "bin_end": 1856106,
            "bin_start": 1484884.8,
            "count": 1
           },
           {
            "bin_end": 2227327.2,
            "bin_start": 1856106,
            "count": 1
           },
           {
            "bin_end": 2598548.4,
            "bin_start": 2227327.2,
            "count": 1
           },
           {
            "bin_end": 2969769.6,
            "bin_start": 2598548.4,
            "count": 1
           },
           {
            "bin_end": 3340990.8000000003,
            "bin_start": 2969769.6,
            "count": 2
           },
           {
            "bin_end": 3712212,
            "bin_start": 3340990.8000000003,
            "count": 2
           }
          ],
          "max": 3712212,
          "min": 0,
          "nan_count": 0,
          "unique_count": 28
         }
        },
        {
         "dtype": "float64",
         "name": "Tennessee",
         "stats": {
          "histogram": [
           {
            "bin_end": 507516.6,
            "bin_start": 0,
            "count": 10
           },
           {
            "bin_end": 1015033.2,
            "bin_start": 507516.6,
            "count": 3
           },
           {
            "bin_end": 1522549.7999999998,
            "bin_start": 1015033.2,
            "count": 5
           },
           {
            "bin_end": 2030066.4,
            "bin_start": 1522549.7999999998,
            "count": 2
           },
           {
            "bin_end": 2537583,
            "bin_start": 2030066.4,
            "count": 1
           },
           {
            "bin_end": 3045099.5999999996,
            "bin_start": 2537583,
            "count": 1
           },
           {
            "bin_end": 3552616.1999999997,
            "bin_start": 3045099.5999999996,
            "count": 0
           },
           {
            "bin_end": 4060132.8,
            "bin_start": 3552616.1999999997,
            "count": 1
           },
           {
            "bin_end": 4567649.399999999,
            "bin_start": 4060132.8,
            "count": 3
           },
           {
            "bin_end": 5075166,
            "bin_start": 4567649.399999999,
            "count": 2
           }
          ],
          "max": 5075166,
          "min": 0,
          "nan_count": 0,
          "unique_count": 28
         }
        },
        {
         "dtype": "float64",
         "name": "Vermont",
         "stats": {
          "histogram": [
           {
            "bin_end": 50027.4,
            "bin_start": 0,
            "count": 9
           },
           {
            "bin_end": 100054.8,
            "bin_start": 50027.4,
            "count": 3
           },
           {
            "bin_end": 150082.2,
            "bin_start": 100054.8,
            "count": 6
           },
           {
            "bin_end": 200109.6,
            "bin_start": 150082.2,
            "count": 2
           },
           {
            "bin_end": 250137,
            "bin_start": 200109.6,
            "count": 1
           },
           {
            "bin_end": 300164.4,
            "bin_start": 250137,
            "count": 1
           },
           {
            "bin_end": 350191.8,
            "bin_start": 300164.4,
            "count": 0
           },
           {
            "bin_end": 400219.2,
            "bin_start": 350191.8,
            "count": 0
           },
           {
            "bin_end": 450246.60000000003,
            "bin_start": 400219.2,
            "count": 1
           },
           {
            "bin_end": 500274,
            "bin_start": 450246.60000000003,
            "count": 5
           }
          ],
          "max": 500274,
          "min": 0,
          "nan_count": 0,
          "unique_count": 27
         }
        },
        {
         "dtype": "float64",
         "name": "Nevada",
         "stats": {
          "histogram": [
           {
            "bin_end": 219847.5,
            "bin_start": 13701,
            "count": 10
           },
           {
            "bin_end": 425994,
            "bin_start": 219847.5,
            "count": 3
           },
           {
            "bin_end": 632140.5,
            "bin_start": 425994,
            "count": 6
           },
           {
            "bin_end": 838287,
            "bin_start": 632140.5,
            "count": 1
           },
           {
            "bin_end": 1044433.5,
            "bin_start": 838287,
            "count": 2
           },
           {
            "bin_end": 1250580,
            "bin_start": 1044433.5,
            "count": 1
           },
           {
            "bin_end": 1456726.5,
            "bin_start": 1250580,
            "count": 1
           },
           {
            "bin_end": 1662873,
            "bin_start": 1456726.5,
            "count": 0
           },
           {
            "bin_end": 1869019.5,
            "bin_start": 1662873,
            "count": 2
           },
           {
            "bin_end": 2075166,
            "bin_start": 1869019.5,
            "count": 2
           }
          ],
          "max": 2075166,
          "min": 13701,
          "nan_count": 0,
          "unique_count": 28
         }
        },
        {
         "dtype": "float64",
         "name": "West Virginia",
         "stats": {
          "histogram": [
           {
            "bin_end": 143115.8,
            "bin_start": 0,
            "count": 11
           },
           {
            "bin_end": 286231.6,
            "bin_start": 143115.8,
            "count": 4
           },
           {
            "bin_end": 429347.39999999997,
            "bin_start": 286231.6,
            "count": 3
           },
           {
            "bin_end": 572463.2,
            "bin_start": 429347.39999999997,
            "count": 2
           },
           {
            "bin_end": 715579,
            "bin_start": 572463.2,
            "count": 1
           },
           {
            "bin_end": 858694.7999999999,
            "bin_start": 715579,
            "count": 1
           },
           {
            "bin_end": 1001810.5999999999,
            "bin_start": 858694.7999999999,
            "count": 0
           },
           {
            "bin_end": 1144926.4,
            "bin_start": 1001810.5999999999,
            "count": 0
           },
           {
            "bin_end": 1288042.2,
            "bin_start": 1144926.4,
            "count": 2
           },
           {
            "bin_end": 1431158,
            "bin_start": 1288042.2,
            "count": 4
           }
          ],
          "max": 1431158,
          "min": 0,
          "nan_count": 0,
          "unique_count": 28
         }
        },
        {
         "dtype": "float64",
         "name": "Oklahoma",
         "stats": {
          "histogram": [
           {
            "bin_end": 287475.1,
            "bin_start": 2454,
            "count": 11
           },
           {
            "bin_end": 572496.2,
            "bin_start": 287475.1,
            "count": 2
           },
           {
            "bin_end": 857517.2999999999,
            "bin_start": 572496.2,
            "count": 5
           },
           {
            "bin_end": 1142538.4,
            "bin_start": 857517.2999999999,
            "count": 2
           },
           {
            "bin_end": 1427559.5,
            "bin_start": 1142538.4,
            "count": 1
           },
           {
            "bin_end": 1712580.5999999999,
            "bin_start": 1427559.5,
            "count": 1
           },
           {
            "bin_end": 1997601.6999999997,
            "bin_start": 1712580.5999999999,
            "count": 0
           },
           {
            "bin_end": 2282622.8,
            "bin_start": 1997601.6999999997,
            "count": 2
           },
           {
            "bin_end": 2567643.9,
            "bin_start": 2282622.8,
            "count": 2
           },
           {
            "bin_end": 2852665,
            "bin_start": 2567643.9,
            "count": 2
           }
          ],
          "max": 2852665,
          "min": 2454,
          "nan_count": 0,
          "unique_count": 28
         }
        },
        {
         "dtype": "float64",
         "name": "Wisconsin",
         "stats": {
          "histogram": [
           {
            "bin_end": 440175.4,
            "bin_start": 0,
            "count": 11
           },
           {
            "bin_end": 880350.8,
            "bin_start": 440175.4,
            "count": 2
           },
           {
            "bin_end": 1320526.2000000002,
            "bin_start": 880350.8,
            "count": 5
           },
           {
            "bin_end": 1760701.6,
            "bin_start": 1320526.2000000002,
            "count": 2
           },
           {
            "bin_end": 2200877,
            "bin_start": 1760701.6,
            "count": 1
           },
           {
            "bin_end": 2641052.4000000004,
            "bin_start": 2200877,
            "count": 1
           },
           {
            "bin_end": 3081227.8000000003,
            "bin_start": 2641052.4000000004,
            "count": 0
           },
           {
            "bin_end": 3521403.2,
            "bin_start": 3081227.8000000003,
            "count": 0
           },
           {
            "bin_end": 3961578.6,
            "bin_start": 3521403.2,
            "count": 3
           },
           {
            "bin_end": 4401754,
            "bin_start": 3961578.6,
            "count": 3
           }
          ],
          "max": 4401754,
          "min": 0,
          "nan_count": 0,
          "unique_count": 28
         }
        },
        {
         "dtype": "float64",
         "name": "Puerto Rico",
         "stats": {
          "histogram": [
           {
            "bin_end": 256129.2,
            "bin_start": 0,
            "count": 7
           },
           {
            "bin_end": 512258.4,
            "bin_start": 256129.2,
            "count": 6
           },
           {
            "bin_end": 768387.6000000001,
            "bin_start": 512258.4,
            "count": 5
           },
           {
            "bin_end": 1024516.8,
            "bin_start": 768387.6000000001,
            "count": 2
           },
           {
            "bin_end": 1280646,
            "bin_start": 1024516.8,
            "count": 1
           },
           {
            "bin_end": 1536775.2000000002,
            "bin_start": 1280646,
            "count": 2
           },
           {
            "bin_end": 1792904.4000000001,
            "bin_start": 1536775.2000000002,
            "count": 1
           },
           {
            "bin_end": 2049033.6,
            "bin_start": 1792904.4000000001,
            "count": 1
           },
           {
            "bin_end": 2305162.8000000003,
            "bin_start": 2049033.6,
            "count": 0
           },
           {
            "bin_end": 2561292,
            "bin_start": 2305162.8000000003,
            "count": 3
           }
          ],
          "max": 2561292,
          "min": 0,
          "nan_count": 0,
          "unique_count": 28
         }
        },
        {
         "dtype": "float64",
         "name": "Kansas",
         "stats": {
          "histogram": [
           {
            "bin_end": 209151.4,
            "bin_start": 0,
            "count": 10
           },
           {
            "bin_end": 418302.8,
            "bin_start": 209151.4,
            "count": 2
           },
           {
            "bin_end": 627454.2,
            "bin_start": 418302.8,
            "count": 6
           },
           {
            "bin_end": 836605.6,
            "bin_start": 627454.2,
            "count": 2
           },
           {
            "bin_end": 1045757,
            "bin_start": 836605.6,
            "count": 1
           },
           {
            "bin_end": 1254908.4,
            "bin_start": 1045757,
            "count": 1
           },
           {
            "bin_end": 1464059.8,
            "bin_start": 1254908.4,
            "count": 0
           },
           {
            "bin_end": 1673211.2,
            "bin_start": 1464059.8,
            "count": 0
           },
           {
            "bin_end": 1882362.5999999999,
            "bin_start": 1673211.2,
            "count": 3
           },
           {
            "bin_end": 2091514,
            "bin_start": 1882362.5999999999,
            "count": 3
           }
          ],
          "max": 2091514,
          "min": 0,
          "nan_count": 0,
          "unique_count": 28
         }
        },
        {
         "dtype": "float64",
         "name": "Virginia",
         "stats": {
          "histogram": [
           {
            "bin_end": 621368.6,
            "bin_start": 0,
            "count": 10
           },
           {
            "bin_end": 1242737.2,
            "bin_start": 621368.6,
            "count": 2
           },
           {
            "bin_end": 1864105.7999999998,
            "bin_start": 1242737.2,
            "count": 6
           },
           {
            "bin_end": 2485474.4,
            "bin_start": 1864105.7999999998,
            "count": 2
           },
           {
            "bin_end": 3106843,
            "bin_start": 2485474.4,
            "count": 1
           },
           {
            "bin_end": 3728211.5999999996,
            "bin_start": 3106843,
            "count": 1
           },
           {
            "bin_end": 4349580.2,
            "bin_start": 3728211.5999999996,
            "count": 1
           },
           {
            "bin_end": 4970948.8,
            "bin_start": 4349580.2,
            "count": 1
           },
           {
            "bin_end": 5592317.399999999,
            "bin_start": 4970948.8,
            "count": 1
           },
           {
            "bin_end": 6213686,
            "bin_start": 5592317.399999999,
            "count": 3
           }
          ],
          "max": 6213686,
          "min": 0,
          "nan_count": 0,
          "unique_count": 28
         }
        },
        {
         "dtype": "float64",
         "name": "North Dakota",
         "stats": {
          "histogram": [
           {
            "bin_end": 56735.1,
            "bin_start": 0,
            "count": 9
           },
           {
            "bin_end": 113470.2,
            "bin_start": 56735.1,
            "count": 3
           },
           {
            "bin_end": 170205.3,
            "bin_start": 113470.2,
            "count": 7
           },
           {
            "bin_end": 226940.4,
            "bin_start": 170205.3,
            "count": 1
           },
           {
            "bin_end": 283675.5,
            "bin_start": 226940.4,
            "count": 1
           },
           {
            "bin_end": 340410.6,
            "bin_start": 283675.5,
            "count": 1
           },
           {
            "bin_end": 397145.7,
            "bin_start": 340410.6,
            "count": 0
           },
           {
            "bin_end": 453880.8,
            "bin_start": 397145.7,
            "count": 0
           },
           {
            "bin_end": 510615.89999999997,
            "bin_start": 453880.8,
            "count": 3
           },
           {
            "bin_end": 567351,
            "bin_start": 510615.89999999997,
            "count": 3
           }
          ],
          "max": 567351,
          "min": 0,
          "nan_count": 0,
          "unique_count": 26
         }
        },
        {
         "dtype": "float64",
         "name": "New Jersey",
         "stats": {
          "histogram": [
           {
            "bin_end": 619833.4,
            "bin_start": 0,
            "count": 9
           },
           {
            "bin_end": 1239666.8,
            "bin_start": 619833.4,
            "count": 5
           },
           {
            "bin_end": 1859500.2000000002,
            "bin_start": 1239666.8,
            "count": 4
           },
           {
            "bin_end": 2479333.6,
            "bin_start": 1859500.2000000002,
            "count": 2
           },
           {
            "bin_end": 3099167,
            "bin_start": 2479333.6,
            "count": 1
           },
           {
            "bin_end": 3719000.4000000004,
            "bin_start": 3099167,
            "count": 1
           },
           {
            "bin_end": 4338833.8,
            "bin_start": 3719000.4000000004,
            "count": 1
           },
           {
            "bin_end": 4958667.2,
            "bin_start": 4338833.8,
            "count": 1
           },
           {
            "bin_end": 5578500.600000001,
            "bin_start": 4958667.2,
            "count": 0
           },
           {
            "bin_end": 6198334,
            "bin_start": 5578500.600000001,
            "count": 4
           }
          ],
          "max": 6198334,
          "min": 0,
          "nan_count": 0,
          "unique_count": 28
         }
        },
        {
         "dtype": "float64",
         "name": "Ohio",
         "stats": {
          "histogram": [
           {
            "bin_end": 888863.4,
            "bin_start": 2746,
            "count": 10
           },
           {
            "bin_end": 1774980.8,
            "bin_start": 888863.4,
            "count": 3
           },
           {
            "bin_end": 2661098.2,
            "bin_start": 1774980.8,
            "count": 5
           },
           {
            "bin_end": 3547215.6,
            "bin_start": 2661098.2,
            "count": 2
           },
           {
            "bin_end": 4433333,
            "bin_start": 3547215.6,
            "count": 1
           },
           {
            "bin_end": 5319450.4,
            "bin_start": 4433333,
            "count": 1
           },
           {
            "bin_end": 6205567.8,
            "bin_start": 5319450.4,
            "count": 0
           },
           {
            "bin_end": 7091685.2,
            "bin_start": 6205567.8,
            "count": 0
           },
           {
            "bin_end": 7977802.600000001,
            "bin_start": 7091685.2,
            "count": 3
           },
           {
            "bin_end": 8863920,
            "bin_start": 7977802.600000001,
            "count": 3
           }
          ],
          "max": 8863920,
          "min": 2746,
          "nan_count": 0,
          "unique_count": 28
         }
        },
        {
         "dtype": "float64",
         "name": "South Carolina",
         "stats": {
          "histogram": [
           {
            "bin_end": 385007.7,
            "bin_start": 0,
            "count": 10
           },
           {
            "bin_end": 770015.4,
            "bin_start": 385007.7,
            "count": 2
           },
           {
            "bin_end": 1155023.1,
            "bin_start": 770015.4,
            "count": 6
           },
           {
            "bin_end": 1540030.8,
            "bin_start": 1155023.1,
            "count": 2
           },
           {
            "bin_end": 1925038.5,
            "bin_start": 1540030.8,
            "count": 1
           },
           {
            "bin_end": 2310046.2,
            "bin_start": 1925038.5,
            "count": 1
           },
           {
            "bin_end": 2695053.9,
            "bin_start": 2310046.2,
            "count": 2
           },
           {
            "bin_end": 3080061.6,
            "bin_start": 2695053.9,
            "count": 0
           },
           {
            "bin_end": 3465069.3000000003,
            "bin_start": 3080061.6,
            "count": 2
           },
           {
            "bin_end": 3850077,
            "bin_start": 3465069.3000000003,
            "count": 2
           }
          ],
          "max": 3850077,
          "min": 0,
          "nan_count": 0,
          "unique_count": 28
         }
        },
        {
         "dtype": "float64",
         "name": "Georgia",
         "stats": {
          "histogram": [
           {
            "bin_end": 753949.4,
            "bin_start": 5855,
            "count": 9
           },
           {
            "bin_end": 1502043.8,
            "bin_start": 753949.4,
            "count": 4
           },
           {
            "bin_end": 2250138.2,
            "bin_start": 1502043.8,
            "count": 5
           },
           {
            "bin_end": 2998232.6,
            "bin_start": 2250138.2,
            "count": 2
           },
           {
            "bin_end": 3746327,
            "bin_start": 2998232.6,
            "count": 1
           },
           {
            "bin_end": 4494421.4,
            "bin_start": 3746327,
            "count": 2
           },
           {
            "bin_end": 5242515.8,
            "bin_start": 4494421.4,
            "count": 1
           },
           {
            "bin_end": 5990610.2,
            "bin_start": 5242515.8,
            "count": 0
           },
           {
            "bin_end": 6738704.600000001,
            "bin_start": 5990610.2,
            "count": 2
           },
           {
            "bin_end": 7486799,
            "bin_start": 6738704.600000001,
            "count": 2
           }
          ],
          "max": 7486799,
          "min": 5855,
          "nan_count": 0,
          "unique_count": 28
         }
        },
        {
         "dtype": "float64",
         "name": "Colorado",
         "stats": {
          "histogram": [
           {
            "bin_end": 415104,
            "bin_start": 0,
            "count": 10
           },
           {
            "bin_end": 830208,
            "bin_start": 415104,
            "count": 3
           },
           {
            "bin_end": 1245312,
            "bin_start": 830208,
            "count": 5
           },
           {
            "bin_end": 1660416,
            "bin_start": 1245312,
            "count": 2
           },
           {
            "bin_end": 2075520,
            "bin_start": 1660416,
            "count": 1
           },
           {
            "bin_end": 2490624,
            "bin_start": 2075520,
            "count": 1
           },
           {
            "bin_end": 2905728,
            "bin_start": 2490624,
            "count": 0
           },
           {
            "bin_end": 3320832,
            "bin_start": 2905728,
            "count": 1
           },
           {
            "bin_end": 3735936,
            "bin_start": 3320832,
            "count": 2
           },
           {
            "bin_end": 4151040,
            "bin_start": 3735936,
            "count": 3
           }
          ],
          "max": 4151040,
          "min": 0,
          "nan_count": 0,
          "unique_count": 28
         }
        },
        {
         "dtype": "float64",
         "name": "Hawaii",
         "stats": {
          "histogram": [
           {
            "bin_end": 111660.4,
            "bin_start": 11122,
            "count": 9
           },
           {
            "bin_end": 212198.8,
            "bin_start": 111660.4,
            "count": 3
           },
           {
            "bin_end": 312737.19999999995,
            "bin_start": 212198.8,
            "count": 7
           },
           {
            "bin_end": 413275.6,
            "bin_start": 312737.19999999995,
            "count": 3
           },
           {
            "bin_end": 513814,
            "bin_start": 413275.6,
            "count": 2
           },
           {
            "bin_end": 614352.3999999999,
            "bin_start": 513814,
            "count": 0
           },
           {
            "bin_end": 714890.7999999999,
            "bin_start": 614352.3999999999,
            "count": 0
           },
           {
            "bin_end": 815429.2,
            "bin_start": 714890.7999999999,
            "count": 0
           },
           {
            "bin_end": 915967.6,
            "bin_start": 815429.2,
            "count": 1
           },
           {
            "bin_end": 1016506,
            "bin_start": 915967.6,
            "count": 3
           }
          ],
          "max": 1016506,
          "min": 11122,
          "nan_count": 0,
          "unique_count": 28
         }
        },
        {
         "dtype": "float64",
         "name": "South Dakota",
         "stats": {
          "histogram": [
           {
            "bin_end": 64708.9,
            "bin_start": 0,
            "count": 10
           },
           {
            "bin_end": 129417.8,
            "bin_start": 64708.9,
            "count": 3
           },
           {
            "bin_end": 194126.7,
            "bin_start": 129417.8,
            "count": 5
           },
           {
            "bin_end": 258835.6,
            "bin_start": 194126.7,
            "count": 2
           },
           {
            "bin_end": 323544.5,
            "bin_start": 258835.6,
            "count": 1
           },
           {
            "bin_end": 388253.4,
            "bin_start": 323544.5,
            "count": 1
           },
           {
            "bin_end": 452962.3,
            "bin_start": 388253.4,
            "count": 0
           },
           {
            "bin_end": 517671.2,
            "bin_start": 452962.3,
            "count": 0
           },
           {
            "bin_end": 582380.1,
            "bin_start": 517671.2,
            "count": 3
           },
           {
            "bin_end": 647089,
            "bin_start": 582380.1,
            "count": 3
           }
          ],
          "max": 647089,
          "min": 0,
          "nan_count": 0,
          "unique_count": 27
         }
        },
        {
         "dtype": "float64",
         "name": "Indiana",
         "stats": {
          "histogram": [
           {
            "bin_end": 493518,
            "bin_start": 0,
            "count": 11
           },
           {
            "bin_end": 987036,
            "bin_start": 493518,
            "count": 2
           },
           {
            "bin_end": 1480554,
            "bin_start": 987036,
            "count": 5
           },
           {
            "bin_end": 1974072,
            "bin_start": 1480554,
            "count": 2
           },
           {
            "bin_end": 2467590,
            "bin_start": 1974072,
            "count": 1
           },
           {
            "bin_end": 2961108,
            "bin_start": 2467590,
            "count": 1
           },
           {
            "bin_end": 3454626,
            "bin_start": 2961108,
            "count": 0
           },
           {
            "bin_end": 3948144,
            "bin_start": 3454626,
            "count": 0
           },
           {
            "bin_end": 4441662,
            "bin_start": 3948144,
            "count": 4
           },
           {
            "bin_end": 4935180,
            "bin_start": 4441662,
            "count": 2
           }
          ],
          "max": 4935180,
          "min": 0,
          "nan_count": 0,
          "unique_count": 28
         }
        },
        {
         "dtype": "float64",
         "name": "Kentucky",
         "stats": {
          "histogram": [
           {
            "bin_end": 336891.9,
            "bin_start": 0,
            "count": 11
           },
           {
            "bin_end": 673783.8,
            "bin_start": 336891.9,
            "count": 2
           },
           {
            "bin_end": 1010675.7000000001,
            "bin_start": 673783.8,
            "count": 5
           },
           {
            "bin_end": 1347567.6,
            "bin_start": 1010675.7000000001,
            "count": 2
           },
           {
            "bin_end": 1684459.5,
            "bin_start": 1347567.6,
            "count": 1
           },
           {
            "bin_end": 2021351.4000000001,
            "bin_start": 1684459.5,
            "count": 1
           },
           {
            "bin_end": 2358243.3000000003,
            "bin_start": 2021351.4000000001,
            "count": 0
           },
           {
            "bin_end": 2695135.2,
            "bin_start": 2358243.3000000003,
            "count": 0
           },
           {
            "bin_end": 3032027.1,
            "bin_start": 2695135.2,
            "count": 4
           },
           {
            "bin_end": 3368919,
            "bin_start": 3032027.1,
            "count": 2
           }
          ],
          "max": 3368919,
          "min": 0,
          "nan_count": 0,
          "unique_count": 28
         }
        },
        {
         "dtype": "float64",
         "name": "Louisiana",
         "stats": {
          "histogram": [
           {
            "bin_end": 345907.9,
            "bin_start": 0,
            "count": 9
           },
           {
            "bin_end": 691815.8,
            "bin_start": 345907.9,
            "count": 3
           },
           {
            "bin_end": 1037723.7000000001,
            "bin_start": 691815.8,
            "count": 5
           },
           {
            "bin_end": 1383631.6,
            "bin_start": 1037723.7000000001,
            "count": 3
           },
           {
            "bin_end": 1729539.5,
            "bin_start": 1383631.6,
            "count": 1
           },
           {
            "bin_end": 2075447.4000000001,
            "bin_start": 1729539.5,
            "count": 1
           },
           {
            "bin_end": 2421355.3000000003,
            "bin_start": 2075447.4000000001,
            "count": 2
           },
           {
            "bin_end": 2767263.2,
            "bin_start": 2421355.3000000003,
            "count": 0
           },
           {
            "bin_end": 3113171.1,
            "bin_start": 2767263.2,
            "count": 2
           },
           {
            "bin_end": 3459079,
            "bin_start": 3113171.1,
            "count": 2
           }
          ],
          "max": 3459079,
          "min": 0,
          "nan_count": 0,
          "unique_count": 28
         }
        },
        {
         "dtype": "float64",
         "name": "Washington",
         "stats": {
          "histogram": [
           {
            "bin_end": 565319.6,
            "bin_start": 33073,
            "count": 11
           },
           {
            "bin_end": 1097566.2,
            "bin_start": 565319.6,
            "count": 1
           },
           {
            "bin_end": 1629812.7999999998,
            "bin_start": 1097566.2,
            "count": 6
           },
           {
            "bin_end": 2162059.4,
            "bin_start": 1629812.7999999998,
            "count": 2
           },
           {
            "bin_end": 2694306,
            "bin_start": 2162059.4,
            "count": 1
           },
           {
            "bin_end": 3226552.5999999996,
            "bin_start": 2694306,
            "count": 1
           },
           {
            "bin_end": 3758799.1999999997,
            "bin_start": 3226552.5999999996,
            "count": 0
           },
           {
            "bin_end": 4291045.8,
            "bin_start": 3758799.1999999997,
            "count": 1
           },
           {
            "bin_end": 4823292.399999999,
            "bin_start": 4291045.8,
            "count": 2
           },
           {
            "bin_end": 5355539,
            "bin_start": 4823292.399999999,
            "count": 3
           }
          ],
          "max": 5355539,
          "min": 33073,
          "nan_count": 0,
          "unique_count": 28
         }
        },
        {
         "dtype": "float64",
         "name": "Illinois",
         "stats": {
          "histogram": [
           {
            "bin_end": 907476.6,
            "bin_start": 0,
            "count": 8
           },
           {
            "bin_end": 1814953.2,
            "bin_start": 907476.6,
            "count": 4
           },
           {
            "bin_end": 2722429.8,
            "bin_start": 1814953.2,
            "count": 6
           },
           {
            "bin_end": 3629906.4,
            "bin_start": 2722429.8,
            "count": 2
           },
           {
            "bin_end": 4537383,
            "bin_start": 3629906.4,
            "count": 1
           },
           {
            "bin_end": 5444859.6,
            "bin_start": 4537383,
            "count": 1
           },
           {
            "bin_end": 6352336.2,
            "bin_start": 5444859.6,
            "count": 1
           },
           {
            "bin_end": 7259812.8,
            "bin_start": 6352336.2,
            "count": 1
           },
           {
            "bin_end": 8167289.399999999,
            "bin_start": 7259812.8,
            "count": 1
           },
           {
            "bin_end": 9074766,
            "bin_start": 8167289.399999999,
            "count": 3
           }
          ],
          "max": 9074766,
          "min": 0,
          "nan_count": 0,
          "unique_count": 28
         }
        },
        {
         "dtype": "float64",
         "name": "Iowa",
         "stats": {
          "histogram": [
           {
            "bin_end": 234343.7,
            "bin_start": 1802,
            "count": 11
           },
           {
            "bin_end": 466885.4,
            "bin_start": 234343.7,
            "count": 2
           },
           {
            "bin_end": 699427.1000000001,
            "bin_start": 466885.4,
            "count": 5
           },
           {
            "bin_end": 931968.8,
            "bin_start": 699427.1000000001,
            "count": 2
           },
           {
            "bin_end": 1164510.5,
            "bin_start": 931968.8,
            "count": 1
           },
           {
            "bin_end": 1397052.2000000002,
            "bin_start": 1164510.5,
            "count": 1
           },
           {
            "bin_end": 1629593.9000000001,
            "bin_start": 1397052.2000000002,
            "count": 0
           },
           {
            "bin_end": 1862135.6,
            "bin_start": 1629593.9000000001,
            "count": 0
           },
           {
            "bin_end": 2094677.3,
            "bin_start": 1862135.6,
            "count": 1
           },
           {
            "bin_end": 2327219,
            "bin_start": 2094677.3,
            "count": 5
           }
          ],
          "max": 2327219,
          "min": 1802,
          "nan_count": 0,
          "unique_count": 28
         }
        },
        {
         "dtype": "float64",
         "name": "New Hampshire",
         "stats": {
          "histogram": [
           {
            "bin_end": 106981.2,
            "bin_start": 0,
            "count": 11
           },
           {
            "bin_end": 213962.4,
            "bin_start": 106981.2,
            "count": 2
           },
           {
            "bin_end": 320943.6,
            "bin_start": 213962.4,
            "count": 5
           },
           {
            "bin_end": 427924.8,
            "bin_start": 320943.6,
            "count": 2
           },
           {
            "bin_end": 534906,
            "bin_start": 427924.8,
            "count": 1
           },
           {
            "bin_end": 641887.2,
            "bin_start": 534906,
            "count": 1
           },
           {
            "bin_end": 748868.4,
            "bin_start": 641887.2,
            "count": 0
           },
           {
            "bin_end": 855849.6,
            "bin_start": 748868.4,
            "count": 0
           },
           {
            "bin_end": 962830.7999999999,
            "bin_start": 855849.6,
            "count": 0
           },
           {
            "bin_end": 1069812,
            "bin_start": 962830.7999999999,
            "count": 6
           }
          ],
          "max": 1069812,
          "min": 0,
          "nan_count": 0,
          "unique_count": 28
         }
        },
        {
         "dtype": "float64",
         "name": "Rhode Island",
         "stats": {
          "histogram": [
           {
            "bin_end": 80307.7,
            "bin_start": 0,
            "count": 9
           },
           {
            "bin_end": 160615.4,
            "bin_start": 80307.7,
            "count": 4
           },
           {
            "bin_end": 240923.09999999998,
            "bin_start": 160615.4,
            "count": 5
           },
           {
            "bin_end": 321230.8,
            "bin_start": 240923.09999999998,
            "count": 2
           },
           {
            "bin_end": 401538.5,
            "bin_start": 321230.8,
            "count": 1
           },
           {
            "bin_end": 481846.19999999995,
            "bin_start": 401538.5,
            "count": 1
           },
           {
            "bin_end": 562153.9,
            "bin_start": 481846.19999999995,
            "count": 0
           },
           {
            "bin_end": 642461.6,
            "bin_start": 562153.9,
            "count": 1
           },
           {
            "bin_end": 722769.2999999999,
            "bin_start": 642461.6,
            "count": 2
           },
           {
            "bin_end": 803077,
            "bin_start": 722769.2999999999,
            "count": 3
           }
          ],
          "max": 803077,
          "min": 0,
          "nan_count": 0,
          "unique_count": 28
         }
        },
        {
         "dtype": "float64",
         "name": "Arkansas",
         "stats": {
          "histogram": [
           {
            "bin_end": 224812.4,
            "bin_start": 2668,
            "count": 10
           },
           {
            "bin_end": 446956.8,
            "bin_start": 224812.4,
            "count": 3
           },
           {
            "bin_end": 669101.2,
            "bin_start": 446956.8,
            "count": 5
           },
           {
            "bin_end": 891245.6,
            "bin_start": 669101.2,
            "count": 2
           },
           {
            "bin_end": 1113390,
            "bin_start": 891245.6,
            "count": 1
           },
           {
            "bin_end": 1335534.4,
            "bin_start": 1113390,
            "count": 1
           },
           {
            "bin_end": 1557678.8,
            "bin_start": 1335534.4,
            "count": 0
           },
           {
            "bin_end": 1779823.2,
            "bin_start": 1557678.8,
            "count": 2
           },
           {
            "bin_end": 2001967.5999999999,
            "bin_start": 1779823.2,
            "count": 2
           },
           {
            "bin_end": 2224112,
            "bin_start": 2001967.5999999999,
            "count": 2
           }
          ],
          "max": 2224112,
          "min": 2668,
          "nan_count": 0,
          "unique_count": 28
         }
        },
        {
         "dtype": "float64",
         "name": "Delaware",
         "stats": {
          "histogram": [
           {
            "bin_end": 72086.7,
            "bin_start": 0,
            "count": 9
           },
           {
            "bin_end": 144173.4,
            "bin_start": 72086.7,
            "count": 4
           },
           {
            "bin_end": 216260.09999999998,
            "bin_start": 144173.4,
            "count": 5
           },
           {
            "bin_end": 288346.8,
            "bin_start": 216260.09999999998,
            "count": 2
           },
           {
            "bin_end": 360433.5,
            "bin_start": 288346.8,
            "count": 1
           },
           {
            "bin_end": 432520.19999999995,
            "bin_start": 360433.5,
            "count": 1
           },
           {
            "bin_end": 504606.89999999997,
            "bin_start": 432520.19999999995,
            "count": 1
           },
           {
            "bin_end": 576693.6,
            "bin_start": 504606.89999999997,
            "count": 1
           },
           {
            "bin_end": 648780.2999999999,
            "bin_start": 576693.6,
            "count": 1
           },
           {
            "bin_end": 720867,
            "bin_start": 648780.2999999999,
            "count": 3
           }
          ],
          "max": 720867,
          "min": 0,
          "nan_count": 0,
          "unique_count": 28
         }
        },
        {
         "dtype": "float64",
         "name": "Minnesota",
         "stats": {
          "histogram": [
           {
            "bin_end": 410691.4,
            "bin_start": 0,
            "count": 10
           },
           {
            "bin_end": 821382.8,
            "bin_start": 410691.4,
            "count": 3
           },
           {
            "bin_end": 1232074.2000000002,
            "bin_start": 821382.8,
            "count": 5
           },
           {
            "bin_end": 1642765.6,
            "bin_start": 1232074.2000000002,
            "count": 2
           },
           {
            "bin_end": 2053457,
            "bin_start": 1642765.6,
            "count": 1
           },
           {
            "bin_end": 2464148.4000000004,
            "bin_start": 2053457,
            "count": 1
           },
           {
            "bin_end": 2874839.8000000003,
            "bin_start": 2464148.4000000004,
            "count": 0
           },
           {
            "bin_end": 3285531.2,
            "bin_start": 2874839.8000000003,
            "count": 0
           },
           {
            "bin_end": 3696222.6,
            "bin_start": 3285531.2,
            "count": 3
           },
           {
            "bin_end": 4106914,
            "bin_start": 3696222.6,
            "count": 3
           }
          ],
          "max": 4106914,
          "min": 0,
          "nan_count": 0,
          "unique_count": 28
         }
        },
        {
         "dtype": "float64",
         "name": "Montana",
         "stats": {
          "histogram": [
           {
            "bin_end": 82366.8,
            "bin_start": 0,
            "count": 11
           },
           {
            "bin_end": 164733.6,
            "bin_start": 82366.8,
            "count": 3
           },
           {
            "bin_end": 247100.40000000002,
            "bin_start": 164733.6,
            "count": 5
           },
           {
            "bin_end": 329467.2,
            "bin_start": 247100.40000000002,
            "count": 1
           },
           {
            "bin_end": 411834,
            "bin_start": 329467.2,
            "count": 1
           },
           {
            "bin_end": 494200.80000000005,
            "bin_start": 411834,
            "count": 1
           },
           {
            "bin_end": 576567.6,
            "bin_start": 494200.80000000005,
            "count": 0
           },
           {
            "bin_end": 658934.4,
            "bin_start": 576567.6,
            "count": 0
           },
           {
            "bin_end": 741301.2000000001,
            "bin_start": 658934.4,
            "count": 2
           },
           {
            "bin_end": 823668,
            "bin_start": 741301.2000000001,
            "count": 4
           }
          ],
          "max": 823668,
          "min": 0,
          "nan_count": 0,
          "unique_count": 26
         }
        },
        {
         "dtype": "float64",
         "name": "Arizona",
         "stats": {
          "histogram": [
           {
            "bin_end": 513507.7,
            "bin_start": 11034,
            "count": 10
           },
           {
            "bin_end": 1015981.4,
            "bin_start": 513507.7,
            "count": 2
           },
           {
            "bin_end": 1518455.1,
            "bin_start": 1015981.4,
            "count": 7
           },
           {
            "bin_end": 2020928.8,
            "bin_start": 1518455.1,
            "count": 1
           },
           {
            "bin_end": 2523402.5,
            "bin_start": 2020928.8,
            "count": 1
           },
           {
            "bin_end": 3025876.2,
            "bin_start": 2523402.5,
            "count": 1
           },
           {
            "bin_end": 3528349.9,
            "bin_start": 3025876.2,
            "count": 1
           },
           {
            "bin_end": 4030823.6,
            "bin_start": 3528349.9,
            "count": 0
           },
           {
            "bin_end": 4533297.3,
            "bin_start": 4030823.6,
            "count": 3
           },
           {
            "bin_end": 5035771,
            "bin_start": 4533297.3,
            "count": 2
           }
          ],
          "max": 5035771,
          "min": 11034,
          "nan_count": 0,
          "unique_count": 28
         }
        },
        {
         "dtype": "float64",
         "name": "Florida",
         "stats": {
          "histogram": [
           {
            "bin_end": 1541274.8,
            "bin_start": 9437,
            "count": 8
           },
           {
            "bin_end": 3073112.6,
            "bin_start": 1541274.8,
            "count": 5
           },
           {
            "bin_end": 4604950.4,
            "bin_start": 3073112.6,
            "count": 6
           },
           {
            "bin_end": 6136788.2,
            "bin_start": 4604950.4,
            "count": 1
           },
           {
            "bin_end": 7668626,
            "bin_start": 6136788.2,
            "count": 1
           },
           {
            "bin_end": 9200463.8,
            "bin_start": 7668626,
            "count": 1
           },
           {
            "bin_end": 10732301.6,
            "bin_start": 9200463.8,
            "count": 1
           },
           {
            "bin_end": 12264139.4,
            "bin_start": 10732301.6,
            "count": 1
           },
           {
            "bin_end": 13795977.200000001,
            "bin_start": 12264139.4,
            "count": 2
           },
           {
            "bin_end": 15327815,
            "bin_start": 13795977.200000001,
            "count": 2
           }
          ],
          "max": 15327815,
          "min": 9437,
          "nan_count": 0,
          "unique_count": 28
         }
        },
        {
         "dtype": "float64",
         "name": "Massachusetts",
         "stats": {
          "histogram": [
           {
            "bin_end": 503580.4,
            "bin_start": 0,
            "count": 11
           },
           {
            "bin_end": 1007160.8,
            "bin_start": 503580.4,
            "count": 2
           },
           {
            "bin_end": 1510741.2000000002,
            "bin_start": 1007160.8,
            "count": 5
           },
           {
            "bin_end": 2014321.6,
            "bin_start": 1510741.2000000002,
            "count": 1
           },
           {
            "bin_end": 2517902,
            "bin_start": 2014321.6,
            "count": 2
           },
           {
            "bin_end": 3021482.4000000004,
            "bin_start": 2517902,
            "count": 1
           },
           {
            "bin_end": 3525062.8000000003,
            "bin_start": 3021482.4000000004,
            "count": 0
           },
           {
            "bin_end": 4028643.2,
            "bin_start": 3525062.8000000003,
            "count": 1
           },
           {
            "bin_end": 4532223.600000001,
            "bin_start": 4028643.2,
            "count": 2
           },
           {
            "bin_end": 5035804,
            "bin_start": 4532223.600000001,
            "count": 3
           }
          ],
          "max": 5035804,
          "min": 0,
          "nan_count": 0,
          "unique_count": 28
         }
        },
        {
         "dtype": "float64",
         "name": "District of Columbia",
         "stats": {
          "histogram": [
           {
            "bin_end": 52639.3,
            "bin_start": 0,
            "count": 8
           },
           {
            "bin_end": 105278.6,
            "bin_start": 52639.3,
            "count": 5
           },
           {
            "bin_end": 157917.90000000002,
            "bin_start": 105278.6,
            "count": 3
           },
           {
            "bin_end": 210557.2,
            "bin_start": 157917.90000000002,
            "count": 2
           },
           {
            "bin_end": 263196.5,
            "bin_start": 210557.2,
            "count": 4
           },
           {
            "bin_end": 315835.80000000005,
            "bin_start": 263196.5,
            "count": 2
           },
           {
            "bin_end": 368475.10000000003,
            "bin_start": 315835.80000000005,
            "count": 0
           },
           {
            "bin_end": 421114.4,
            "bin_start": 368475.10000000003,
            "count": 0
           },
           {
            "bin_end": 473753.7,
            "bin_start": 421114.4,
            "count": 1
           },
           {
            "bin_end": 526393,
            "bin_start": 473753.7,
            "count": 3
           }
          ],
          "max": 526393,
          "min": 0,
          "nan_count": 0,
          "unique_count": 28
         }
        },
        {
         "dtype": "float64",
         "name": "Utah",
         "stats": {
          "histogram": [
           {
            "bin_end": 224821.6,
            "bin_start": 17875,
            "count": 12
           },
           {
            "bin_end": 431768.2,
            "bin_start": 224821.6,
            "count": 1
           },
           {
            "bin_end": 638714.8,
            "bin_start": 431768.2,
            "count": 6
           },
           {
            "bin_end": 845661.4,
            "bin_start": 638714.8,
            "count": 1
           },
           {
            "bin_end": 1052608,
            "bin_start": 845661.4,
            "count": 2
           },
           {
            "bin_end": 1259554.6,
            "bin_start": 1052608,
            "count": 0
           },
           {
            "bin_end": 1466501.2,
            "bin_start": 1259554.6,
            "count": 0
           },
           {
            "bin_end": 1673447.8,
            "bin_start": 1466501.2,
            "count": 0
           },
           {
            "bin_end": 1880394.4000000001,
            "bin_start": 1673447.8,
            "count": 2
           },
           {
            "bin_end": 2087341,
            "bin_start": 1880394.4000000001,
            "count": 4
           }
          ],
          "max": 2087341,
          "min": 17875,
          "nan_count": 0,
          "unique_count": 28
         }
        },
        {
         "dtype": "float64",
         "name": "New York",
         "stats": {
          "histogram": [
           {
            "bin_end": 1383321.8,
            "bin_start": 7021,
            "count": 8
           },
           {
            "bin_end": 2759622.6,
            "bin_start": 1383321.8,
            "count": 5
           },
           {
            "bin_end": 4135923.4000000004,
            "bin_start": 2759622.6,
            "count": 5
           },
           {
            "bin_end": 5512224.2,
            "bin_start": 4135923.4000000004,
            "count": 2
           },
           {
            "bin_end": 6888525,
            "bin_start": 5512224.2,
            "count": 1
           },
           {
            "bin_end": 8264825.800000001,
            "bin_start": 6888525,
            "count": 1
           },
           {
            "bin_end": 9641126.6,
            "bin_start": 8264825.800000001,
            "count": 2
           },
           {
            "bin_end": 11017427.4,
            "bin_start": 9641126.6,
            "count": 0
           },
           {
            "bin_end": 12393728.200000001,
            "bin_start": 11017427.4,
            "count": 2
           },
           {
            "bin_end": 13770029,
            "bin_start": 12393728.200000001,
            "count": 2
           }
          ],
          "max": 13770029,
          "min": 7021,
          "nan_count": 0,
          "unique_count": 28
         }
        },
        {
         "dtype": "int64",
         "name": "_deepnote_index_column"
        }
       ],
       "row_count": 28,
       "rows_bottom": [
        {
         "Alabama": 310804,
         "Alaska": 41699,
         "Arizona": 446509,
         "Arkansas": 167399,
         "California": 2158366,
         "Colorado": 340812,
         "Connecticut": 199028,
         "Delaware": 54332,
         "District of Columbia": 13643,
         "Florida": 1538610,
         "Georgia": 585471,
         "Hawaii": 111751,
         "Idaho": 118893,
         "Illinois": 742204,
         "Indiana": 415367,
         "Iowa": 267241,
         "Kansas": 188669,
         "Kentucky": 278441,
         "Label": "        Associate's degree",
         "Louisiana": 211913,
         "Maine": 99301,
         "Maryland": 294136,
         "Massachusetts": 370597,
         "Michigan": 689604,
         "Minnesota": 469157,
         "Mississippi": 225059,
         "Missouri": 368097,
         "Montana": 75647,
         "Nebraska": 144797,
         "Nevada": 178135,
         "New Hampshire": 102724,
         "New Jersey": 421832,
         "New Mexico": 119558,
         "New York": 1223564,
         "North Carolina": 734078,
         "North Dakota": 82195,
         "Ohio": 723304,
         "Oklahoma": 220224,
         "Oregon": 281441,
         "Pennsylvania": 805992,
         "Puerto Rico": 262649,
         "Rhode Island": 66975,
         "South Carolina": 370622,
         "South Dakota": 76351,
         "Tennessee": 373922,
         "Texas": 1373120,
         "Utah": 214821,
         "Vermont": 39333,
         "Virginia": 472086,
         "Washington": 558284,
         "West Virginia": 102113,
         "Wisconsin": 463579,
         "Wyoming": 46062,
         "_deepnote_index_column": 19
        },
        {
         "Alabama": 558690,
         "Alaska": 89107,
         "Arizona": 904959,
         "Arkansas": 309602,
         "California": 5507471,
         "Colorado": 1047679,
         "Connecticut": 554968,
         "Delaware": 125319,
         "District of Columbia": 137112,
         "Florida": 2804292,
         "Georgia": 1375082,
         "Hawaii": 210611,
         "Idaho": 220005,
         "Illinois": 1873612,
         "Indiana": 807551,
         "Iowa": 439944,
         "Kansas": 423096,
         "Kentucky": 463854,
         "Label": "        Bachelor's degree",
         "Louisiana": 513359,
         "Maine": 205198,
         "Maryland": 926603,
         "Massachusetts": 1209374,
         "Michigan": 1279897,
         "Minnesota": 955496,
         "Mississippi": 298001,
         "Missouri": 787128,
         "Montana": 161452,
         "Nebraska": 283910,
         "Nevada": 324834,
         "New Hampshire": 227482,
         "New Jersey": 1514311,
         "New Mexico": 226308,
         "New York": 2851606,
         "North Carolina": 1496734,
         "North Dakota": 115082,
         "Ohio": 1497600,
         "Oklahoma": 446609,
         "Oregon": 633177,
         "Pennsylvania": 1798361,
         "Puerto Rico": 453927,
         "Rhode Island": 156319,
         "South Carolina": 649088,
         "South Dakota": 125006,
         "Tennessee": 831536,
         "Texas": 3534680,
         "Utah": 432248,
         "Vermont": 109047,
         "Virginia": 1322125,
         "Washington": 1165008,
         "West Virginia": 175667,
         "Wisconsin": 822580,
         "Wyoming": 67939,
         "_deepnote_index_column": 20
        },
        {
         "Alabama": 308519,
         "Alaska": 55194,
         "Arizona": 506085,
         "Arkansas": 168901,
         "California": 3057972,
         "Colorado": 590227,
         "Connecticut": 412908,
         "Delaware": 83088,
         "District of Columbia": 158836,
         "Florida": 1584338,
         "Georgia": 815775,
         "Hawaii": 108951,
         "Idaho": 100313,
         "Illinois": 1133216,
         "Indiana": 415398,
         "Iowa": 186763,
         "Kansas": 232524,
         "Kentucky": 304027,
         "Label": "        Graduate or professional degree",
         "Louisiana": 254485,
         "Maine": 109807,
         "Maryland": 735783,
         "Massachusetts": 887040,
         "Michigan": 743772,
         "Minnesota": 450968,
         "Mississippi": 170740,
         "Missouri": 460958,
         "Montana": 80292,
         "Nebraska": 136365,
         "Nevada": 172003,
         "New Hampshire": 136693,
         "New Jersey": 879475,
         "New Mexico": 165008,
         "New York": 2082308,
         "North Carolina": 769526,
         "North Dakota": 35456,
         "Ohio": 853968,
         "Oklahoma": 225116,
         "Oregon": 358430,
         "Pennsylvania": 1080545,
         "Puerto Rico": 177183,
         "Rhode Island": 102403,
         "South Carolina": 350169,
         "South Dakota": 51324,
         "Tennessee": 457369,
         "Texas": 1772675,
         "Utah": 213949,
         "Vermont": 67341,
         "Virginia": 936019,
         "Washington": 644899,
         "West Virginia": 107848,
         "Wisconsin": 406543,
         "Wyoming": 38120,
         "_deepnote_index_column": 21
        },
        {
         "Alabama": 3232655,
         "Alaska": 495160,
         "Arizona": 4516174,
         "Arkansas": 1965678,
         "California": 23036651,
         "Colorado": 3865394,
         "Connecticut": 2407834,
         "Delaware": 656444,
         "District of Columbia": 490049,
         "Florida": 13739273,
         "Georgia": 6645232,
         "Hawaii": 947991,
         "Idaho": 1149310,
         "Illinois": 8271209,
         "Indiana": 4401422,
         "Iowa": 2159473,
         "Kansas": 1938634,
         "Kentucky": 2946825,
         "Label": "        High school degree or higher",
         "Louisiana": 2975584,
         "Maine": 993537,
         "Maryland": 3976637,
         "Massachusetts": 4626860,
         "Michigan": 6882158,
         "Minnesota": 3850175,
         "Mississippi": 1923781,
         "Missouri": 4188309,
         "Montana": 766667,
         "Nebraska": 1279505,
         "Nevada": 1866499,
         "New Hampshire": 997332,
         "New Jersey": 5688623,
         "New Mexico": 1316543,
         "New York": 12321108,
         "North Carolina": 6844039,
         "North Dakota": 526518,
         "Ohio": 8029044,
         "Oklahoma": 2545470,
         "Oregon": 2854497,
         "Pennsylvania": 8915682,
         "Puerto Rico": 2030899,
         "Rhode Island": 728193,
         "South Carolina": 3420601,
         "South Dakota": 595843,
         "Tennessee": 4497151,
         "Texas": 16357935,
         "Utah": 1946659,
         "Vermont": 467562,
         "Virginia": 5663853,
         "Washington": 4977378,
         "West Virginia": 1254695,
         "Wisconsin": 4076149,
         "Wyoming": 400933,
         "_deepnote_index_column": 22
        },
        {
         "Alabama": 867209,
         "Alaska": 144301,
         "Arizona": 1411044,
         "Arkansas": 478503,
         "California": 8565443,
         "Colorado": 1637906,
         "Connecticut": 967876,
         "Delaware": 208407,
         "District of Columbia": 295948,
         "Florida": 4388630,
         "Georgia": 2190857,
         "Hawaii": 319562,
         "Idaho": 320318,
         "Illinois": 3006828,
         "Indiana": 1222949,
         "Iowa": 626707,
         "Kansas": 655620,
         "Kentucky": 767881,
         "Label": "        Bachelor's degree or higher",
         "Louisiana": 767844,
         "Maine": 315005,
         "Maryland": 1662386,
         "Massachusetts": 2096414,
         "Michigan": 2023669,
         "Minnesota": 1406464,
         "Mississippi": 468741,
         "Missouri": 1248086,
         "Montana": 241744,
         "Nebraska": 420275,
         "Nevada": 496837,
         "New Hampshire": 364175,
         "New Jersey": 2393786,
         "New Mexico": 391316,
         "New York": 4933914,
         "North Carolina": 2266260,
         "North Dakota": 150538,
         "Ohio": 2351568,
         "Oklahoma": 671725,
         "Oregon": 991607,
         "Pennsylvania": 2878906,
         "Puerto Rico": 631110,
         "Rhode Island": 258722,
         "South Carolina": 999257,
         "South Dakota": 176330,
         "Tennessee": 1288905,
         "Texas": 5307355,
         "Utah": 646197,
         "Vermont": 176388,
         "Virginia": 2258144,
         "Washington": 1809907,
         "West Virginia": 283515,
         "Wisconsin": 1229123,
         "Wyoming": 106059,
         "_deepnote_index_column": 23
        },
        {
         "Alabama": 3610653,
         "Alaska": 519019,
         "Arizona": 4910593,
         "Arkansas": 2150536,
         "California": 25279607,
         "Colorado": 4049465,
         "Connecticut": 2521646,
         "Delaware": 698953,
         "District of Columbia": 497589,
         "Florida": 14993461,
         "Georgia": 7257956,
         "Hawaii": 986739,
         "Idaho": 1228304,
         "Illinois": 8830210,
         "Indiana": 4774453,
         "Iowa": 2242807,
         "Kansas": 2021709,
         "Kentucky": 3256528,
         "Label": "        Total Citizens, 18 years and older, for whom poverty status is determined",
         "Louisiana": 3346701,
         "Maine": 1043005,
         "Maryland": 4201007,
         "Massachusetts": 4838216,
         "Michigan": 7368915,
         "Minnesota": 4011388,
         "Mississippi": 2155572,
         "Missouri": 4485414,
         "Montana": 804355,
         "Nebraska": 1338264,
         "Nevada": 2046084,
         "New Hampshire": 1033150,
         "New Jersey": 6057739,
         "New Mexico": 1475778,
         "New York": 13371194,
         "North Carolina": 7392393,
         "North Dakota": 546513,
         "Ohio": 8594425,
         "Oklahoma": 2759421,
         "Oregon": 3041834,
         "Pennsylvania": 9433711,
         "Puerto Rico": 2537780,
         "Rhode Island": 767630,
         "South Carolina": 3730160,
         "South Dakota": 623323,
         "Tennessee": 4939053,
         "Texas": 18008534,
         "Utah": 2052201,
         "Vermont": 478729,
         "Virginia": 5997036,
         "Washington": 5254428,
         "West Virginia": 1389017,
         "Wisconsin": 4280523,
         "Wyoming": 422610,
         "_deepnote_index_column": 24
        },
        {
         "Alabama": 524972,
         "Alaska": 51051,
         "Arizona": 542438,
         "Arkansas": 318945,
         "California": 2587283,
         "Colorado": 347857,
         "Connecticut": 224748,
         "Delaware": 72431,
         "District of Columbia": 72562,
         "Florida": 1699386,
         "Georgia": 879107,
         "Hawaii": 74629,
         "Idaho": 131309,
         "Illinois": 931050,
         "Indiana": 538289,
         "Iowa": 225223,
         "Kansas": 213532,
         "Kentucky": 483797,
         "Label": "        Income in the past 12 months below poverty level",
         "Louisiana": 535282,
         "Maine": 114438,
         "Maryland": 331338,
         "Massachusetts": 421007,
         "Michigan": 905406,
         "Minnesota": 342929,
         "Mississippi": 366921,
         "Missouri": 517093,
         "Montana": 97803,
         "Nebraska": 130638,
         "Nevada": 220139,
         "New Hampshire": 68915,
         "New Jersey": 464164,
         "New Mexico": 247148,
         "New York": 1541839,
         "North Carolina": 866201,
         "North Dakota": 57163,
         "Ohio": 1034182,
         "Oklahoma": 365488,
         "Oregon": 343849,
         "Pennsylvania": 1010716,
         "Puerto Rico": 1010531,
         "Rhode Island": 83428,
         "South Carolina": 482888,
         "South Dakota": 73236,
         "Tennessee": 638676,
         "Texas": 2057713,
         "Utah": 171099,
         "Vermont": 51013,
         "Virginia": 574018,
         "Washington": 477144,
         "West Virginia": 222590,
         "Wisconsin": 425134,
         "Wyoming": 42105,
         "_deepnote_index_column": 25
        },
        {
         "Alabama": 3085681,
         "Alaska": 467968,
         "Arizona": 4368155,
         "Arkansas": 1831591,
         "California": 22692324,
         "Colorado": 3701608,
         "Connecticut": 2296898,
         "Delaware": 626522,
         "District of Columbia": 425027,
         "Florida": 13294075,
         "Georgia": 6378849,
         "Hawaii": 912110,
         "Idaho": 1096995,
         "Illinois": 7899160,
         "Indiana": 4236164,
         "Iowa": 2017584,
         "Kansas": 1808177,
         "Kentucky": 2772731,
         "Label": "        Income in the past 12 months at or above the poverty level",
         "Louisiana": 2811419,
         "Maine": 928567,
         "Maryland": 3869669,
         "Massachusetts": 4417209,
         "Michigan": 6463509,
         "Minnesota": 3668459,
         "Mississippi": 1788651,
         "Missouri": 3968321,
         "Montana": 706552,
         "Nebraska": 1207626,
         "Nevada": 1825945,
         "New Hampshire": 964235,
         "New Jersey": 5593575,
         "New Mexico": 1228630,
         "New York": 11829355,
         "North Carolina": 6526192,
         "North Dakota": 489350,
         "Ohio": 7560243,
         "Oklahoma": 2393933,
         "Oregon": 2697985,
         "Pennsylvania": 8422995,
         "Puerto Rico": 1527249,
         "Rhode Island": 684202,
         "South Carolina": 3247272,
         "South Dakota": 550087,
         "Tennessee": 4300377,
         "Texas": 15950821,
         "Utah": 1881102,
         "Vermont": 427716,
         "Virginia": 5423018,
         "Washington": 4777284,
         "West Virginia": 1166427,
         "Wisconsin": 3855389,
         "Wyoming": 380505,
         "_deepnote_index_column": 26
        },
        {
         "Alabama": 50145,
         "Alaska": 74192,
         "Arizona": 60836,
         "Arkansas": 47210,
         "California": 79296,
         "Colorado": 73409,
         "Connecticut": 77772,
         "Delaware": 64723,
         "District of Columbia": 86510,
         "Florida": 56794,
         "Georgia": 59320,
         "Hawaii": 81260,
         "Idaho": 56026,
         "Illinois": 66037,
         "Indiana": 56249,
         "Iowa": 60485,
         "Kansas": 59440,
         "Kentucky": 50578,
         "Label": "        Median Household Income for Households with a Citizen, Voting-Age Householder",
         "Louisiana": 48314,
         "Maine": 55663,
         "Maryland": 85033,
         "Massachusetts": 80919,
         "Michigan": 56669,
         "Minnesota": 71056,
         "Mississippi": 44700,
         "Missouri": 54647,
         "Montana": 55335,
         "Nebraska": 60399,
         "Nevada": 60967,
         "New Hampshire": 75240,
         "New Jersey": 83573,
         "New Mexico": 48422,
         "New York": 69956,
         "North Carolina": 54729,
         "North Dakota": 64372,
         "Ohio": 56277,
         "Oklahoma": 52522,
         "Oregon": 64276,
         "Pennsylvania": 61150,
         "Puerto Rico": 20371,
         "Rhode Island": 65833,
         "South Carolina": 52563,
         "South Dakota": 56576,
         "Tennessee": 52798,
         "Texas": 62781,
         "Utah": 72685,
         "Vermont": 60813,
         "Virginia": 73304,
         "Washington": 74810,
         "West Virginia": 44179,
         "Wisconsin": 61023,
         "Wyoming": 62108,
         "_deepnote_index_column": 27
        }
       ],
       "rows_top": [
        {
         "Alabama": 3712212,
         "Alaska": 532244,
         "Arizona": 5035771,
         "Arkansas": 2224112,
         "California": 25838830,
         "Colorado": 4151040,
         "Connecticut": 2614365,
         "Delaware": 720867,
         "District of Columbia": 526393,
         "Florida": 15327815,
         "Georgia": 7486799,
         "Hawaii": 1016506,
         "Idaho": 1252414,
         "Illinois": 9074766,
         "Indiana": 4935180,
         "Iowa": 2327219,
         "Kansas": 2091514,
         "Kentucky": 3368919,
         "Label": "Citizens 18 years and over",
         "Louisiana": 3459079,
         "Maine": 1070661,
         "Maryland": 4320150,
         "Massachusetts": 5035804,
         "Michigan": 7542878,
         "Minnesota": 4106914,
         "Mississippi": 2240658,
         "Missouri": 4633370,
         "Montana": 823668,
         "Nebraska": 1380260,
         "Nevada": 2075166,
         "New Hampshire": 1069812,
         "New Jersey": 6198334,
         "New Mexico": 1507384,
         "New York": 13770029,
         "North Carolina": 7629700,
         "North Dakota": 567351,
         "Ohio": 8863920,
         "Oklahoma": 2852665,
         "Oregon": 3098171,
         "Pennsylvania": 9781212,
         "Puerto Rico": 2561292,
         "Rhode Island": 803077,
         "South Carolina": 3850077,
         "South Dakota": 647089,
         "Tennessee": 5075166,
         "Texas": 18502334,
         "Utah": 2087341,
         "Vermont": 500274,
         "Virginia": 6213686,
         "Washington": 5355539,
         "West Virginia": 1431158,
         "Wisconsin": 4401754,
         "Wyoming": 433644,
         "_deepnote_index_column": 0
        },
        {
         "Alabama": 768804,
         "Alaska": 127476,
         "Arizona": 1107241,
         "Arkansas": 469906,
         "California": 6028864,
         "Colorado": 915609,
         "Connecticut": 520431,
         "Delaware": 140123,
         "District of Columbia": 145434,
         "Florida": 2867965,
         "Georgia": 1670201,
         "Hawaii": 205905,
         "Idaho": 272356,
         "Illinois": 1917749,
         "Indiana": 1059480,
         "Iowa": 491467,
         "Kansas": 457419,
         "Kentucky": 703006,
         "Label": "        18 to 29 years",
         "Louisiana": 737438,
         "Maine": 181628,
         "Maryland": 867843,
         "Massachusetts": 1080377,
         "Michigan": 1573334,
         "Minnesota": 817820,
         "Mississippi": 490199,
         "Missouri": 950969,
         "Montana": 162487,
         "Nebraska": 296186,
         "Nevada": 432922,
         "New Hampshire": 205040,
         "New Jersey": 1200963,
         "New Mexico": 316132,
         "New York": 2924030,
         "North Carolina": 1605709,
         "North Dakota": 139148,
         "Ohio": 1806426,
         "Oklahoma": 627873,
         "Oregon": 617912,
         "Pennsylvania": 1928161,
         "Puerto Rico": 514347,
         "Rhode Island": 177021,
         "South Carolina": 797648,
         "South Dakota": 135924,
         "Tennessee": 1056534,
         "Texas": 4394424,
         "Utah": 567726,
         "Vermont": 100387,
         "Virginia": 1314205,
         "Washington": 1116310,
         "West Virginia": 267223,
         "Wisconsin": 888479,
         "Wyoming": 86967,
         "_deepnote_index_column": 1
        },
        {
         "Alabama": 858792,
         "Alaska": 144647,
         "Arizona": 1159231,
         "Arkansas": 521951,
         "California": 6358182,
         "Colorado": 1102183,
         "Connecticut": 552963,
         "Delaware": 153037,
         "District of Columbia": 165893,
         "Florida": 3306343,
         "Georgia": 1863100,
         "Hawaii": 248723,
         "Idaho": 308894,
         "Illinois": 2174843,
         "Indiana": 1159800,
         "Iowa": 533708,
         "Kansas": 492293,
         "Kentucky": 783692,
         "Label": "        30 to 44 years",
         "Louisiana": 864711,
         "Maine": 227304,
         "Maryland": 1020777,
         "Massachusetts": 1120870,
         "Michigan": 1653542,
         "Minnesota": 1007885,
         "Mississippi": 543754,
         "Missouri": 1091978,
         "Montana": 190761,
         "Nebraska": 337825,
         "Nevada": 514761,
         "New Hampshire": 227296,
         "New Jersey": 1382360,
         "New Mexico": 356947,
         "New York": 3189035,
         "North Carolina": 1755720,
         "North Dakota": 139250,
         "Ohio": 2029894,
         "Oklahoma": 696956,
         "Oregon": 754771,
         "Pennsylvania": 2170864,
         "Puerto Rico": 559457,
         "Rhode Island": 174615,
         "South Carolina": 878426,
         "South Dakota": 154204,
         "Tennessee": 1191965,
         "Texas": 4834880,
         "Utah": 596259,
         "Vermont": 103384,
         "Virginia": 1503106,
         "Washington": 1346421,
         "West Virginia": 314761,
         "Wisconsin": 1006927,
         "Wyoming": 106361,
         "_deepnote_index_column": 2
        },
        {
         "Alabama": 1259953,
         "Alaska": 174789,
         "Arizona": 1561631,
         "Arkansas": 729350,
         "California": 8244326,
         "Colorado": 1342591,
         "Connecticut": 947195,
         "Delaware": 249503,
         "District of Columbia": 131762,
         "Florida": 5020822,
         "Georgia": 2529832,
         "Hawaii": 317184,
         "Idaho": 395527,
         "Illinois": 3061135,
         "Indiana": 1672981,
         "Iowa": 766797,
         "Kansas": 684980,
         "Kentucky": 1154682,
         "Label": "        45 to 64 years",
         "Louisiana": 1142767,
         "Maine": 388346,
         "Maryland": 1527050,
         "Massachusetts": 1736866,
         "Michigan": 2621192,
         "Minnesota": 1403438,
         "Mississippi": 734187,
         "Missouri": 1561209,
         "Montana": 270899,
         "Nebraska": 445198,
         "Nevada": 678146,
         "New Hampshire": 396364,
         "New Jersey": 2238756,
         "New Mexico": 474231,
         "New York": 4615032,
         "North Carolina": 2604091,
         "North Dakota": 172914,
         "Ohio": 3050243,
         "Oklahoma": 915311,
         "Oregon": 1002016,
         "Pennsylvania": 3380076,
         "Puerto Rico": 833168,
         "Rhode Island": 274536,
         "South Carolina": 1282518,
         "South Dakota": 211141,
         "Tennessee": 1730652,
         "Texas": 5912721,
         "Utah": 578946,
         "Vermont": 173821,
         "Virginia": 2112109,
         "Washington": 1760980,
         "West Virginia": 489218,
         "Wisconsin": 1528396,
         "Wyoming": 144337,
         "_deepnote_index_column": 3
        },
        {
         "Alabama": 824663,
         "Alaska": 85332,
         "Arizona": 1207668,
         "Arkansas": 502905,
         "California": 5207458,
         "Colorado": 790657,
         "Connecticut": 593776,
         "Delaware": 178204,
         "District of Columbia": 83304,
         "Florida": 4132685,
         "Georgia": 1423666,
         "Hawaii": 244694,
         "Idaho": 275637,
         "Illinois": 1921039,
         "Indiana": 1042919,
         "Iowa": 535247,
         "Kansas": 456822,
         "Kentucky": 727539,
         "Label": "        65 years and over",
         "Louisiana": 714163,
         "Maine": 273383,
         "Maryland": 904480,
         "Massachusetts": 1097691,
         "Michigan": 1694810,
         "Minnesota": 877771,
         "Mississippi": 472518,
         "Missouri": 1029214,
         "Montana": 199521,
         "Nebraska": 301051,
         "Nevada": 449337,
         "New Hampshire": 241112,
         "New Jersey": 1376255,
         "New Mexico": 360074,
         "New York": 3041932,
         "North Carolina": 1664180,
         "North Dakota": 116039,
         "Ohio": 1977357,
         "Oklahoma": 612525,
         "Oregon": 723472,
         "Pennsylvania": 2302111,
         "Puerto Rico": 654320,
         "Rhode Island": 176905,
         "South Carolina": 891485,
         "South Dakota": 145820,
         "Tennessee": 1096015,
         "Texas": 3360309,
         "Utah": 344410,
         "Vermont": 122682,
         "Virginia": 1284266,
         "Washington": 1131828,
         "West Virginia": 359956,
         "Wisconsin": 977952,
         "Wyoming": 95979,
         "_deepnote_index_column": 4
        },
        {
         "Alabama": 1763395,
         "Alaska": 279792,
         "Arizona": 2478560,
         "Arkansas": 1074651,
         "California": 12693335,
         "Colorado": 2073626,
         "Connecticut": 1252484,
         "Delaware": 343826,
         "District of Columbia": 245922,
         "Florida": 7371100,
         "Georgia": 3558929,
         "Hawaii": 513093,
         "Idaho": 622965,
         "Illinois": 4385340,
         "Indiana": 2392487,
         "Iowa": 1139250,
         "Kansas": 1032265,
         "Kentucky": 1632285,
         "Label": "        Male",
         "Louisiana": 1655923,
         "Maine": 518367,
         "Maryland": 2055984,
         "Massachusetts": 2400775,
         "Michigan": 3667806,
         "Minnesota": 2023293,
         "Mississippi": 1062978,
         "Missouri": 2240784,
         "Montana": 413026,
         "Nebraska": 679331,
         "Nevada": 1036350,
         "New Hampshire": 525826,
         "New Jersey": 2977776,
         "New Mexico": 735509,
         "New York": 6565089,
         "North Carolina": 3634888,
         "North Dakota": 291026,
         "Ohio": 4282540,
         "Oklahoma": 1390267,
         "Oregon": 1518467,
         "Pennsylvania": 4726343,
         "Puerto Rico": 1198296,
         "Rhode Island": 384768,
         "South Carolina": 1830316,
         "South Dakota": 323519,
         "Tennessee": 2427806,
         "Texas": 9038806,
         "Utah": 1041497,
         "Vermont": 244517,
         "Virginia": 3015598,
         "Washington": 2655643,
         "West Virginia": 701390,
         "Wisconsin": 2162711,
         "Wyoming": 219788,
         "_deepnote_index_column": 5
        },
        {
         "Alabama": 1948817,
         "Alaska": 252452,
         "Arizona": 2557211,
         "Arkansas": 1149461,
         "California": 13145495,
         "Colorado": 2077414,
         "Connecticut": 1361881,
         "Delaware": 377041,
         "District of Columbia": 280471,
         "Florida": 7956715,
         "Georgia": 3927870,
         "Hawaii": 503413,
         "Idaho": 629449,
         "Illinois": 4689426,
         "Indiana": 2542693,
         "Iowa": 1187969,
         "Kansas": 1059249,
         "Kentucky": 1736634,
         "Label": "        Female",
         "Louisiana": 1803156,
         "Maine": 552294,
         "Maryland": 2264166,
         "Massachusetts": 2635029,
         "Michigan": 3875072,
         "Minnesota": 2083621,
         "Mississippi": 1177680,
         "Missouri": 2392586,
         "Montana": 410642,
         "Nebraska": 700929,
         "Nevada": 1038816,
         "New Hampshire": 543986,
         "New Jersey": 3220558,
         "New Mexico": 771875,
         "New York": 7204940,
         "North Carolina": 3994812,
         "North Dakota": 276325,
         "Ohio": 4581380,
         "Oklahoma": 1462398,
         "Oregon": 1579704,
         "Pennsylvania": 5054869,
         "Puerto Rico": 1362996,
         "Rhode Island": 418309,
         "South Carolina": 2019761,
         "South Dakota": 323570,
         "Tennessee": 2647360,
         "Texas": 9463528,
         "Utah": 1045844,
         "Vermont": 255757,
         "Virginia": 3198088,
         "Washington": 2699896,
         "West Virginia": 729768,
         "Wisconsin": 2239043,
         "Wyoming": 213856,
         "_deepnote_index_column": 6
        },
        {
         "Alabama": 2607033,
         "Alaska": 368438,
         "Arizona": 4067382,
         "Arkansas": 1772891,
         "California": 16427059,
         "Colorado": 3612937,
         "Connecticut": 2109655,
         "Delaware": 521934,
         "District of Columbia": 240198,
         "Florida": 11927653,
         "Georgia": 4590158,
         "Hawaii": 284151,
         "Idaho": 1157724,
         "Illinois": 6842371,
         "Indiana": 4262963,
         "Iowa": 2184022,
         "Kansas": 1830276,
         "Kentucky": 3009873,
         "Label": "        White alone",
         "Louisiana": 2226970,
         "Maine": 1027268,
         "Maryland": 2568307,
         "Massachusetts": 4176989,
         "Michigan": 6129604,
         "Minnesota": 3612605,
         "Mississippi": 1351907,
         "Missouri": 3921613,
         "Montana": 747646,
         "Nebraska": 1246241,
         "Nevada": 1432244,
         "New Hampshire": 1013045,
         "New Jersey": 4474880,
         "New Mexico": 1175689,
         "New York": 9479819,
         "North Carolina": 5476286,
         "North Dakota": 507582,
         "Ohio": 7454489,
         "Oklahoma": 2163596,
         "Oregon": 2714328,
         "Pennsylvania": 8181887,
         "Puerto Rico": 1684618,
         "Rhode Island": 684999,
         "South Carolina": 2679056,
         "South Dakota": 573199,
         "Tennessee": 4067694,
         "Texas": 14047850,
         "Utah": 1878243,
         "Vermont": 477697,
         "Virginia": 4399355,
         "Washington": 4328981,
         "West Virginia": 1346378,
         "Wisconsin": 3909624,
         "Wyoming": 404463,
         "_deepnote_index_column": 7
        },
        {
         "Alabama": 979390,
         "Alaska": 17519,
         "Arizona": 235473,
         "Arkansas": 332151,
         "California": 1733938,
         "Colorado": 165359,
         "Connecticut": 265142,
         "Delaware": 158901,
         "District of Columbia": 240843,
         "Florida": 2302492,
         "Georgia": 2419526,
         "Hawaii": 23051,
         "Idaho": 7911,
         "Illinois": 1332512,
         "Indiana": 442109,
         "Iowa": 60889,
         "Kansas": 121077,
         "Kentucky": 259615,
         "Label": "        Black or African American alone",
         "Louisiana": 1103078,
         "Maine": 8276,
         "Maryland": 1314381,
         "Massachusetts": 337379,
         "Michigan": 1007850,
         "Minnesota": 194296,
         "Mississippi": 834824,
         "Missouri": 514289,
         "Montana": 0,
         "Nebraska": 58693,
         "Nevada": 202018,
         "New Hampshire": 14908,
         "New Jersey": 854268,
         "New Mexico": 35671,
         "New York": 2139909,
         "North Carolina": 1673716,
         "North Dakota": 13529,
         "Ohio": 1040599,
         "Oklahoma": 205093,
         "Oregon": 53328,
         "Pennsylvania": 1013276,
         "Puerto Rico": 324374,
         "Rhode Island": 44576,
         "South Carolina": 1021072,
         "South Dakota": 7602,
         "Tennessee": 830612,
         "Texas": 2483006,
         "Utah": 22236,
         "Vermont": 4621,
         "Virginia": 1222486,
         "Washington": 191840,
         "West Virginia": 54308,
         "Wisconsin": 252844,
         "Wyoming": 0,
         "_deepnote_index_column": 8
        }
       ]
      },
      "text/html": [
       "<div>\n",
       "<style scoped>\n",
       "    .dataframe tbody tr th:only-of-type {\n",
       "        vertical-align: middle;\n",
       "    }\n",
       "\n",
       "    .dataframe tbody tr th {\n",
       "        vertical-align: top;\n",
       "    }\n",
       "\n",
       "    .dataframe thead th {\n",
       "        text-align: right;\n",
       "    }\n",
       "</style>\n",
       "<table border=\"1\" class=\"dataframe\">\n",
       "  <thead>\n",
       "    <tr style=\"text-align: right;\">\n",
       "      <th></th>\n",
       "      <th>Label</th>\n",
       "      <th>Alaska</th>\n",
       "      <th>Maine</th>\n",
       "      <th>North Carolina</th>\n",
       "      <th>Missouri</th>\n",
       "      <th>Pennsylvania</th>\n",
       "      <th>Michigan</th>\n",
       "      <th>Nebraska</th>\n",
       "      <th>Oregon</th>\n",
       "      <th>Wyoming</th>\n",
       "      <th>...</th>\n",
       "      <th>Arkansas</th>\n",
       "      <th>Delaware</th>\n",
       "      <th>Minnesota</th>\n",
       "      <th>Montana</th>\n",
       "      <th>Arizona</th>\n",
       "      <th>Florida</th>\n",
       "      <th>Massachusetts</th>\n",
       "      <th>District of Columbia</th>\n",
       "      <th>Utah</th>\n",
       "      <th>New York</th>\n",
       "    </tr>\n",
       "  </thead>\n",
       "  <tbody>\n",
       "    <tr>\n",
       "      <th>0</th>\n",
       "      <td>Citizens 18 years and over</td>\n",
       "      <td>532244.0</td>\n",
       "      <td>1070661.0</td>\n",
       "      <td>7629700.0</td>\n",
       "      <td>4633370.0</td>\n",
       "      <td>9781212.0</td>\n",
       "      <td>7542878.0</td>\n",
       "      <td>1380260.0</td>\n",
       "      <td>3098171.0</td>\n",
       "      <td>433644.0</td>\n",
       "      <td>...</td>\n",
       "      <td>2224112.0</td>\n",
       "      <td>720867.0</td>\n",
       "      <td>4106914.0</td>\n",
       "      <td>823668.0</td>\n",
       "      <td>5035771.0</td>\n",
       "      <td>15327815.0</td>\n",
       "      <td>5035804.0</td>\n",
       "      <td>526393.0</td>\n",
       "      <td>2087341.0</td>\n",
       "      <td>13770029.0</td>\n",
       "    </tr>\n",
       "    <tr>\n",
       "      <th>1</th>\n",
       "      <td>18 to 29 years</td>\n",
       "      <td>127476.0</td>\n",
       "      <td>181628.0</td>\n",
       "      <td>1605709.0</td>\n",
       "      <td>950969.0</td>\n",
       "      <td>1928161.0</td>\n",
       "      <td>1573334.0</td>\n",
       "      <td>296186.0</td>\n",
       "      <td>617912.0</td>\n",
       "      <td>86967.0</td>\n",
       "      <td>...</td>\n",
       "      <td>469906.0</td>\n",
       "      <td>140123.0</td>\n",
       "      <td>817820.0</td>\n",
       "      <td>162487.0</td>\n",
       "      <td>1107241.0</td>\n",
       "      <td>2867965.0</td>\n",
       "      <td>1080377.0</td>\n",
       "      <td>145434.0</td>\n",
       "      <td>567726.0</td>\n",
       "      <td>2924030.0</td>\n",
       "    </tr>\n",
       "    <tr>\n",
       "      <th>2</th>\n",
       "      <td>30 to 44 years</td>\n",
       "      <td>144647.0</td>\n",
       "      <td>227304.0</td>\n",
       "      <td>1755720.0</td>\n",
       "      <td>1091978.0</td>\n",
       "      <td>2170864.0</td>\n",
       "      <td>1653542.0</td>\n",
       "      <td>337825.0</td>\n",
       "      <td>754771.0</td>\n",
       "      <td>106361.0</td>\n",
       "      <td>...</td>\n",
       "      <td>521951.0</td>\n",
       "      <td>153037.0</td>\n",
       "      <td>1007885.0</td>\n",
       "      <td>190761.0</td>\n",
       "      <td>1159231.0</td>\n",
       "      <td>3306343.0</td>\n",
       "      <td>1120870.0</td>\n",
       "      <td>165893.0</td>\n",
       "      <td>596259.0</td>\n",
       "      <td>3189035.0</td>\n",
       "    </tr>\n",
       "    <tr>\n",
       "      <th>3</th>\n",
       "      <td>45 to 64 years</td>\n",
       "      <td>174789.0</td>\n",
       "      <td>388346.0</td>\n",
       "      <td>2604091.0</td>\n",
       "      <td>1561209.0</td>\n",
       "      <td>3380076.0</td>\n",
       "      <td>2621192.0</td>\n",
       "      <td>445198.0</td>\n",
       "      <td>1002016.0</td>\n",
       "      <td>144337.0</td>\n",
       "      <td>...</td>\n",
       "      <td>729350.0</td>\n",
       "      <td>249503.0</td>\n",
       "      <td>1403438.0</td>\n",
       "      <td>270899.0</td>\n",
       "      <td>1561631.0</td>\n",
       "      <td>5020822.0</td>\n",
       "      <td>1736866.0</td>\n",
       "      <td>131762.0</td>\n",
       "      <td>578946.0</td>\n",
       "      <td>4615032.0</td>\n",
       "    </tr>\n",
       "    <tr>\n",
       "      <th>4</th>\n",
       "      <td>65 years and over</td>\n",
       "      <td>85332.0</td>\n",
       "      <td>273383.0</td>\n",
       "      <td>1664180.0</td>\n",
       "      <td>1029214.0</td>\n",
       "      <td>2302111.0</td>\n",
       "      <td>1694810.0</td>\n",
       "      <td>301051.0</td>\n",
       "      <td>723472.0</td>\n",
       "      <td>95979.0</td>\n",
       "      <td>...</td>\n",
       "      <td>502905.0</td>\n",
       "      <td>178204.0</td>\n",
       "      <td>877771.0</td>\n",
       "      <td>199521.0</td>\n",
       "      <td>1207668.0</td>\n",
       "      <td>4132685.0</td>\n",
       "      <td>1097691.0</td>\n",
       "      <td>83304.0</td>\n",
       "      <td>344410.0</td>\n",
       "      <td>3041932.0</td>\n",
       "    </tr>\n",
       "    <tr>\n",
       "      <th>5</th>\n",
       "      <td>Male</td>\n",
       "      <td>279792.0</td>\n",
       "      <td>518367.0</td>\n",
       "      <td>3634888.0</td>\n",
       "      <td>2240784.0</td>\n",
       "      <td>4726343.0</td>\n",
       "      <td>3667806.0</td>\n",
       "      <td>679331.0</td>\n",
       "      <td>1518467.0</td>\n",
       "      <td>219788.0</td>\n",
       "      <td>...</td>\n",
       "      <td>1074651.0</td>\n",
       "      <td>343826.0</td>\n",
       "      <td>2023293.0</td>\n",
       "      <td>413026.0</td>\n",
       "      <td>2478560.0</td>\n",
       "      <td>7371100.0</td>\n",
       "      <td>2400775.0</td>\n",
       "      <td>245922.0</td>\n",
       "      <td>1041497.0</td>\n",
       "      <td>6565089.0</td>\n",
       "    </tr>\n",
       "    <tr>\n",
       "      <th>6</th>\n",
       "      <td>Female</td>\n",
       "      <td>252452.0</td>\n",
       "      <td>552294.0</td>\n",
       "      <td>3994812.0</td>\n",
       "      <td>2392586.0</td>\n",
       "      <td>5054869.0</td>\n",
       "      <td>3875072.0</td>\n",
       "      <td>700929.0</td>\n",
       "      <td>1579704.0</td>\n",
       "      <td>213856.0</td>\n",
       "      <td>...</td>\n",
       "      <td>1149461.0</td>\n",
       "      <td>377041.0</td>\n",
       "      <td>2083621.0</td>\n",
       "      <td>410642.0</td>\n",
       "      <td>2557211.0</td>\n",
       "      <td>7956715.0</td>\n",
       "      <td>2635029.0</td>\n",
       "      <td>280471.0</td>\n",
       "      <td>1045844.0</td>\n",
       "      <td>7204940.0</td>\n",
       "    </tr>\n",
       "    <tr>\n",
       "      <th>7</th>\n",
       "      <td>White alone</td>\n",
       "      <td>368438.0</td>\n",
       "      <td>1027268.0</td>\n",
       "      <td>5476286.0</td>\n",
       "      <td>3921613.0</td>\n",
       "      <td>8181887.0</td>\n",
       "      <td>6129604.0</td>\n",
       "      <td>1246241.0</td>\n",
       "      <td>2714328.0</td>\n",
       "      <td>404463.0</td>\n",
       "      <td>...</td>\n",
       "      <td>1772891.0</td>\n",
       "      <td>521934.0</td>\n",
       "      <td>3612605.0</td>\n",
       "      <td>747646.0</td>\n",
       "      <td>4067382.0</td>\n",
       "      <td>11927653.0</td>\n",
       "      <td>4176989.0</td>\n",
       "      <td>240198.0</td>\n",
       "      <td>1878243.0</td>\n",
       "      <td>9479819.0</td>\n",
       "    </tr>\n",
       "    <tr>\n",
       "      <th>8</th>\n",
       "      <td>Black or African American alone</td>\n",
       "      <td>17519.0</td>\n",
       "      <td>8276.0</td>\n",
       "      <td>1673716.0</td>\n",
       "      <td>514289.0</td>\n",
       "      <td>1013276.0</td>\n",
       "      <td>1007850.0</td>\n",
       "      <td>58693.0</td>\n",
       "      <td>53328.0</td>\n",
       "      <td>0.0</td>\n",
       "      <td>...</td>\n",
       "      <td>332151.0</td>\n",
       "      <td>158901.0</td>\n",
       "      <td>194296.0</td>\n",
       "      <td>0.0</td>\n",
       "      <td>235473.0</td>\n",
       "      <td>2302492.0</td>\n",
       "      <td>337379.0</td>\n",
       "      <td>240843.0</td>\n",
       "      <td>22236.0</td>\n",
       "      <td>2139909.0</td>\n",
       "    </tr>\n",
       "    <tr>\n",
       "      <th>9</th>\n",
       "      <td>Asian alone</td>\n",
       "      <td>26468.0</td>\n",
       "      <td>8429.0</td>\n",
       "      <td>142490.0</td>\n",
       "      <td>59828.0</td>\n",
       "      <td>232421.0</td>\n",
       "      <td>154309.0</td>\n",
       "      <td>18750.0</td>\n",
       "      <td>109489.0</td>\n",
       "      <td>2909.0</td>\n",
       "      <td>...</td>\n",
       "      <td>23033.0</td>\n",
       "      <td>15714.0</td>\n",
       "      <td>141920.0</td>\n",
       "      <td>4509.0</td>\n",
       "      <td>131296.0</td>\n",
       "      <td>350164.0</td>\n",
       "      <td>244395.0</td>\n",
       "      <td>19162.0</td>\n",
       "      <td>41022.0</td>\n",
       "      <td>922184.0</td>\n",
       "    </tr>\n",
       "    <tr>\n",
       "      <th>10</th>\n",
       "      <td>Native Hawaiian and Other Pacific Isla...</td>\n",
       "      <td>4320.0</td>\n",
       "      <td>0.0</td>\n",
       "      <td>5707.0</td>\n",
       "      <td>3951.0</td>\n",
       "      <td>0.0</td>\n",
       "      <td>2902.0</td>\n",
       "      <td>0.0</td>\n",
       "      <td>9176.0</td>\n",
       "      <td>0.0</td>\n",
       "      <td>...</td>\n",
       "      <td>2668.0</td>\n",
       "      <td>0.0</td>\n",
       "      <td>0.0</td>\n",
       "      <td>0.0</td>\n",
       "      <td>11034.0</td>\n",
       "      <td>9437.0</td>\n",
       "      <td>0.0</td>\n",
       "      <td>0.0</td>\n",
       "      <td>17875.0</td>\n",
       "      <td>7021.0</td>\n",
       "    </tr>\n",
       "    <tr>\n",
       "      <th>11</th>\n",
       "      <td>Some Other Race alone</td>\n",
       "      <td>6980.0</td>\n",
       "      <td>2024.0</td>\n",
       "      <td>95928.0</td>\n",
       "      <td>27155.0</td>\n",
       "      <td>172982.0</td>\n",
       "      <td>57772.0</td>\n",
       "      <td>16792.0</td>\n",
       "      <td>60962.0</td>\n",
       "      <td>0.0</td>\n",
       "      <td>...</td>\n",
       "      <td>34576.0</td>\n",
       "      <td>6555.0</td>\n",
       "      <td>36479.0</td>\n",
       "      <td>3505.0</td>\n",
       "      <td>211608.0</td>\n",
       "      <td>379968.0</td>\n",
       "      <td>156986.0</td>\n",
       "      <td>9019.0</td>\n",
       "      <td>59280.0</td>\n",
       "      <td>834466.0</td>\n",
       "    </tr>\n",
       "    <tr>\n",
       "      <th>12</th>\n",
       "      <td>Two or More Races</td>\n",
       "      <td>33181.0</td>\n",
       "      <td>0.0</td>\n",
       "      <td>146082.0</td>\n",
       "      <td>84168.0</td>\n",
       "      <td>162606.0</td>\n",
       "      <td>151217.0</td>\n",
       "      <td>27502.0</td>\n",
       "      <td>114770.0</td>\n",
       "      <td>0.0</td>\n",
       "      <td>...</td>\n",
       "      <td>43012.0</td>\n",
       "      <td>13093.0</td>\n",
       "      <td>79970.0</td>\n",
       "      <td>0.0</td>\n",
       "      <td>153342.0</td>\n",
       "      <td>313929.0</td>\n",
       "      <td>106038.0</td>\n",
       "      <td>14842.0</td>\n",
       "      <td>46359.0</td>\n",
       "      <td>330462.0</td>\n",
       "    </tr>\n",
       "    <tr>\n",
       "      <th>13</th>\n",
       "      <td>Hispanic or Latino</td>\n",
       "      <td>31790.0</td>\n",
       "      <td>15070.0</td>\n",
       "      <td>337941.0</td>\n",
       "      <td>123751.0</td>\n",
       "      <td>527340.0</td>\n",
       "      <td>264843.0</td>\n",
       "      <td>87039.0</td>\n",
       "      <td>236661.0</td>\n",
       "      <td>32683.0</td>\n",
       "      <td>...</td>\n",
       "      <td>86138.0</td>\n",
       "      <td>38834.0</td>\n",
       "      <td>124741.0</td>\n",
       "      <td>24492.0</td>\n",
       "      <td>1188723.0</td>\n",
       "      <td>3141934.0</td>\n",
       "      <td>448318.0</td>\n",
       "      <td>36738.0</td>\n",
       "      <td>190248.0</td>\n",
       "      <td>2033344.0</td>\n",
       "    </tr>\n",
       "    <tr>\n",
       "      <th>14</th>\n",
       "      <td>White alone, Not Hispanic or Latino</td>\n",
       "      <td>349058.0</td>\n",
       "      <td>1016354.0</td>\n",
       "      <td>5266352.0</td>\n",
       "      <td>3833132.0</td>\n",
       "      <td>7890171.0</td>\n",
       "      <td>5943602.0</td>\n",
       "      <td>1182496.0</td>\n",
       "      <td>2563656.0</td>\n",
       "      <td>378267.0</td>\n",
       "      <td>...</td>\n",
       "      <td>1725137.0</td>\n",
       "      <td>495504.0</td>\n",
       "      <td>3537015.0</td>\n",
       "      <td>729822.0</td>\n",
       "      <td>3191082.0</td>\n",
       "      <td>9325209.0</td>\n",
       "      <td>3920473.0</td>\n",
       "      <td>219188.0</td>\n",
       "      <td>1760735.0</td>\n",
       "      <td>8553329.0</td>\n",
       "    </tr>\n",
       "    <tr>\n",
       "      <th>15</th>\n",
       "      <td>Less than 9th grade</td>\n",
       "      <td>10640.0</td>\n",
       "      <td>24600.0</td>\n",
       "      <td>200778.0</td>\n",
       "      <td>114124.0</td>\n",
       "      <td>249112.0</td>\n",
       "      <td>161150.0</td>\n",
       "      <td>32572.0</td>\n",
       "      <td>58143.0</td>\n",
       "      <td>6797.0</td>\n",
       "      <td>...</td>\n",
       "      <td>74892.0</td>\n",
       "      <td>16821.0</td>\n",
       "      <td>74789.0</td>\n",
       "      <td>13693.0</td>\n",
       "      <td>158255.0</td>\n",
       "      <td>480480.0</td>\n",
       "      <td>148210.0</td>\n",
       "      <td>11472.0</td>\n",
       "      <td>28144.0</td>\n",
       "      <td>541093.0</td>\n",
       "    </tr>\n",
       "    <tr>\n",
       "      <th>16</th>\n",
       "      <td>9th to 12th grade, no diploma</td>\n",
       "      <td>26444.0</td>\n",
       "      <td>52524.0</td>\n",
       "      <td>584883.0</td>\n",
       "      <td>330937.0</td>\n",
       "      <td>616418.0</td>\n",
       "      <td>499570.0</td>\n",
       "      <td>68183.0</td>\n",
       "      <td>185531.0</td>\n",
       "      <td>25914.0</td>\n",
       "      <td>...</td>\n",
       "      <td>183542.0</td>\n",
       "      <td>47602.0</td>\n",
       "      <td>181950.0</td>\n",
       "      <td>43308.0</td>\n",
       "      <td>361342.0</td>\n",
       "      <td>1108062.0</td>\n",
       "      <td>260734.0</td>\n",
       "      <td>24872.0</td>\n",
       "      <td>112538.0</td>\n",
       "      <td>907828.0</td>\n",
       "    </tr>\n",
       "    <tr>\n",
       "      <th>17</th>\n",
       "      <td>High school graduate (includes equival...</td>\n",
       "      <td>160451.0</td>\n",
       "      <td>342506.0</td>\n",
       "      <td>2006153.0</td>\n",
       "      <td>1425877.0</td>\n",
       "      <td>3438340.0</td>\n",
       "      <td>2217910.0</td>\n",
       "      <td>364914.0</td>\n",
       "      <td>727912.0</td>\n",
       "      <td>128479.0</td>\n",
       "      <td>...</td>\n",
       "      <td>770535.0</td>\n",
       "      <td>244349.0</td>\n",
       "      <td>1023146.0</td>\n",
       "      <td>235406.0</td>\n",
       "      <td>1268920.0</td>\n",
       "      <td>4428650.0</td>\n",
       "      <td>1198355.0</td>\n",
       "      <td>99438.0</td>\n",
       "      <td>495871.0</td>\n",
       "      <td>3584694.0</td>\n",
       "    </tr>\n",
       "    <tr>\n",
       "      <th>18</th>\n",
       "      <td>Some college, no degree</td>\n",
       "      <td>148709.0</td>\n",
       "      <td>236725.0</td>\n",
       "      <td>1837548.0</td>\n",
       "      <td>1146249.0</td>\n",
       "      <td>1792444.0</td>\n",
       "      <td>1950975.0</td>\n",
       "      <td>349519.0</td>\n",
       "      <td>853537.0</td>\n",
       "      <td>120333.0</td>\n",
       "      <td>...</td>\n",
       "      <td>549241.0</td>\n",
       "      <td>149356.0</td>\n",
       "      <td>951408.0</td>\n",
       "      <td>213870.0</td>\n",
       "      <td>1389701.0</td>\n",
       "      <td>3383383.0</td>\n",
       "      <td>961494.0</td>\n",
       "      <td>81020.0</td>\n",
       "      <td>589770.0</td>\n",
       "      <td>2578936.0</td>\n",
       "    </tr>\n",
       "    <tr>\n",
       "      <th>19</th>\n",
       "      <td>Associate's degree</td>\n",
       "      <td>41699.0</td>\n",
       "      <td>99301.0</td>\n",
       "      <td>734078.0</td>\n",
       "      <td>368097.0</td>\n",
       "      <td>805992.0</td>\n",
       "      <td>689604.0</td>\n",
       "      <td>144797.0</td>\n",
       "      <td>281441.0</td>\n",
       "      <td>46062.0</td>\n",
       "      <td>...</td>\n",
       "      <td>167399.0</td>\n",
       "      <td>54332.0</td>\n",
       "      <td>469157.0</td>\n",
       "      <td>75647.0</td>\n",
       "      <td>446509.0</td>\n",
       "      <td>1538610.0</td>\n",
       "      <td>370597.0</td>\n",
       "      <td>13643.0</td>\n",
       "      <td>214821.0</td>\n",
       "      <td>1223564.0</td>\n",
       "    </tr>\n",
       "    <tr>\n",
       "      <th>20</th>\n",
       "      <td>Bachelor's degree</td>\n",
       "      <td>89107.0</td>\n",
       "      <td>205198.0</td>\n",
       "      <td>1496734.0</td>\n",
       "      <td>787128.0</td>\n",
       "      <td>1798361.0</td>\n",
       "      <td>1279897.0</td>\n",
       "      <td>283910.0</td>\n",
       "      <td>633177.0</td>\n",
       "      <td>67939.0</td>\n",
       "      <td>...</td>\n",
       "      <td>309602.0</td>\n",
       "      <td>125319.0</td>\n",
       "      <td>955496.0</td>\n",
       "      <td>161452.0</td>\n",
       "      <td>904959.0</td>\n",
       "      <td>2804292.0</td>\n",
       "      <td>1209374.0</td>\n",
       "      <td>137112.0</td>\n",
       "      <td>432248.0</td>\n",
       "      <td>2851606.0</td>\n",
       "    </tr>\n",
       "    <tr>\n",
       "      <th>21</th>\n",
       "      <td>Graduate or professional degree</td>\n",
       "      <td>55194.0</td>\n",
       "      <td>109807.0</td>\n",
       "      <td>769526.0</td>\n",
       "      <td>460958.0</td>\n",
       "      <td>1080545.0</td>\n",
       "      <td>743772.0</td>\n",
       "      <td>136365.0</td>\n",
       "      <td>358430.0</td>\n",
       "      <td>38120.0</td>\n",
       "      <td>...</td>\n",
       "      <td>168901.0</td>\n",
       "      <td>83088.0</td>\n",
       "      <td>450968.0</td>\n",
       "      <td>80292.0</td>\n",
       "      <td>506085.0</td>\n",
       "      <td>1584338.0</td>\n",
       "      <td>887040.0</td>\n",
       "      <td>158836.0</td>\n",
       "      <td>213949.0</td>\n",
       "      <td>2082308.0</td>\n",
       "    </tr>\n",
       "    <tr>\n",
       "      <th>22</th>\n",
       "      <td>High school degree or higher</td>\n",
       "      <td>495160.0</td>\n",
       "      <td>993537.0</td>\n",
       "      <td>6844039.0</td>\n",
       "      <td>4188309.0</td>\n",
       "      <td>8915682.0</td>\n",
       "      <td>6882158.0</td>\n",
       "      <td>1279505.0</td>\n",
       "      <td>2854497.0</td>\n",
       "      <td>400933.0</td>\n",
       "      <td>...</td>\n",
       "      <td>1965678.0</td>\n",
       "      <td>656444.0</td>\n",
       "      <td>3850175.0</td>\n",
       "      <td>766667.0</td>\n",
       "      <td>4516174.0</td>\n",
       "      <td>13739273.0</td>\n",
       "      <td>4626860.0</td>\n",
       "      <td>490049.0</td>\n",
       "      <td>1946659.0</td>\n",
       "      <td>12321108.0</td>\n",
       "    </tr>\n",
       "    <tr>\n",
       "      <th>23</th>\n",
       "      <td>Bachelor's degree or higher</td>\n",
       "      <td>144301.0</td>\n",
       "      <td>315005.0</td>\n",
       "      <td>2266260.0</td>\n",
       "      <td>1248086.0</td>\n",
       "      <td>2878906.0</td>\n",
       "      <td>2023669.0</td>\n",
       "      <td>420275.0</td>\n",
       "      <td>991607.0</td>\n",
       "      <td>106059.0</td>\n",
       "      <td>...</td>\n",
       "      <td>478503.0</td>\n",
       "      <td>208407.0</td>\n",
       "      <td>1406464.0</td>\n",
       "      <td>241744.0</td>\n",
       "      <td>1411044.0</td>\n",
       "      <td>4388630.0</td>\n",
       "      <td>2096414.0</td>\n",
       "      <td>295948.0</td>\n",
       "      <td>646197.0</td>\n",
       "      <td>4933914.0</td>\n",
       "    </tr>\n",
       "    <tr>\n",
       "      <th>24</th>\n",
       "      <td>Total Citizens, 18 years and older, fo...</td>\n",
       "      <td>519019.0</td>\n",
       "      <td>1043005.0</td>\n",
       "      <td>7392393.0</td>\n",
       "      <td>4485414.0</td>\n",
       "      <td>9433711.0</td>\n",
       "      <td>7368915.0</td>\n",
       "      <td>1338264.0</td>\n",
       "      <td>3041834.0</td>\n",
       "      <td>422610.0</td>\n",
       "      <td>...</td>\n",
       "      <td>2150536.0</td>\n",
       "      <td>698953.0</td>\n",
       "      <td>4011388.0</td>\n",
       "      <td>804355.0</td>\n",
       "      <td>4910593.0</td>\n",
       "      <td>14993461.0</td>\n",
       "      <td>4838216.0</td>\n",
       "      <td>497589.0</td>\n",
       "      <td>2052201.0</td>\n",
       "      <td>13371194.0</td>\n",
       "    </tr>\n",
       "    <tr>\n",
       "      <th>25</th>\n",
       "      <td>Income in the past 12 months below pov...</td>\n",
       "      <td>51051.0</td>\n",
       "      <td>114438.0</td>\n",
       "      <td>866201.0</td>\n",
       "      <td>517093.0</td>\n",
       "      <td>1010716.0</td>\n",
       "      <td>905406.0</td>\n",
       "      <td>130638.0</td>\n",
       "      <td>343849.0</td>\n",
       "      <td>42105.0</td>\n",
       "      <td>...</td>\n",
       "      <td>318945.0</td>\n",
       "      <td>72431.0</td>\n",
       "      <td>342929.0</td>\n",
       "      <td>97803.0</td>\n",
       "      <td>542438.0</td>\n",
       "      <td>1699386.0</td>\n",
       "      <td>421007.0</td>\n",
       "      <td>72562.0</td>\n",
       "      <td>171099.0</td>\n",
       "      <td>1541839.0</td>\n",
       "    </tr>\n",
       "    <tr>\n",
       "      <th>26</th>\n",
       "      <td>Income in the past 12 months at or abo...</td>\n",
       "      <td>467968.0</td>\n",
       "      <td>928567.0</td>\n",
       "      <td>6526192.0</td>\n",
       "      <td>3968321.0</td>\n",
       "      <td>8422995.0</td>\n",
       "      <td>6463509.0</td>\n",
       "      <td>1207626.0</td>\n",
       "      <td>2697985.0</td>\n",
       "      <td>380505.0</td>\n",
       "      <td>...</td>\n",
       "      <td>1831591.0</td>\n",
       "      <td>626522.0</td>\n",
       "      <td>3668459.0</td>\n",
       "      <td>706552.0</td>\n",
       "      <td>4368155.0</td>\n",
       "      <td>13294075.0</td>\n",
       "      <td>4417209.0</td>\n",
       "      <td>425027.0</td>\n",
       "      <td>1881102.0</td>\n",
       "      <td>11829355.0</td>\n",
       "    </tr>\n",
       "    <tr>\n",
       "      <th>27</th>\n",
       "      <td>Median Household Income for Households...</td>\n",
       "      <td>74192.0</td>\n",
       "      <td>55663.0</td>\n",
       "      <td>54729.0</td>\n",
       "      <td>54647.0</td>\n",
       "      <td>61150.0</td>\n",
       "      <td>56669.0</td>\n",
       "      <td>60399.0</td>\n",
       "      <td>64276.0</td>\n",
       "      <td>62108.0</td>\n",
       "      <td>...</td>\n",
       "      <td>47210.0</td>\n",
       "      <td>64723.0</td>\n",
       "      <td>71056.0</td>\n",
       "      <td>55335.0</td>\n",
       "      <td>60836.0</td>\n",
       "      <td>56794.0</td>\n",
       "      <td>80919.0</td>\n",
       "      <td>86510.0</td>\n",
       "      <td>72685.0</td>\n",
       "      <td>69956.0</td>\n",
       "    </tr>\n",
       "  </tbody>\n",
       "</table>\n",
       "<p>28 rows × 53 columns</p>\n",
       "</div>"
      ],
      "text/plain": [
       "                                                Label    Alaska      Maine  \\\n",
       "0                          Citizens 18 years and over  532244.0  1070661.0   \n",
       "1                                      18 to 29 years  127476.0   181628.0   \n",
       "2                                      30 to 44 years  144647.0   227304.0   \n",
       "3                                      45 to 64 years  174789.0   388346.0   \n",
       "4                                   65 years and over   85332.0   273383.0   \n",
       "5                                                Male  279792.0   518367.0   \n",
       "6                                              Female  252452.0   552294.0   \n",
       "7                                         White alone  368438.0  1027268.0   \n",
       "8                     Black or African American alone   17519.0     8276.0   \n",
       "9                                         Asian alone   26468.0     8429.0   \n",
       "10          Native Hawaiian and Other Pacific Isla...    4320.0        0.0   \n",
       "11                              Some Other Race alone    6980.0     2024.0   \n",
       "12                                  Two or More Races   33181.0        0.0   \n",
       "13                                 Hispanic or Latino   31790.0    15070.0   \n",
       "14                White alone, Not Hispanic or Latino  349058.0  1016354.0   \n",
       "15                                Less than 9th grade   10640.0    24600.0   \n",
       "16                      9th to 12th grade, no diploma   26444.0    52524.0   \n",
       "17          High school graduate (includes equival...  160451.0   342506.0   \n",
       "18                            Some college, no degree  148709.0   236725.0   \n",
       "19                                 Associate's degree   41699.0    99301.0   \n",
       "20                                  Bachelor's degree   89107.0   205198.0   \n",
       "21                    Graduate or professional degree   55194.0   109807.0   \n",
       "22                       High school degree or higher  495160.0   993537.0   \n",
       "23                        Bachelor's degree or higher  144301.0   315005.0   \n",
       "24          Total Citizens, 18 years and older, fo...  519019.0  1043005.0   \n",
       "25          Income in the past 12 months below pov...   51051.0   114438.0   \n",
       "26          Income in the past 12 months at or abo...  467968.0   928567.0   \n",
       "27          Median Household Income for Households...   74192.0    55663.0   \n",
       "\n",
       "    North Carolina   Missouri  Pennsylvania   Michigan   Nebraska     Oregon  \\\n",
       "0        7629700.0  4633370.0     9781212.0  7542878.0  1380260.0  3098171.0   \n",
       "1        1605709.0   950969.0     1928161.0  1573334.0   296186.0   617912.0   \n",
       "2        1755720.0  1091978.0     2170864.0  1653542.0   337825.0   754771.0   \n",
       "3        2604091.0  1561209.0     3380076.0  2621192.0   445198.0  1002016.0   \n",
       "4        1664180.0  1029214.0     2302111.0  1694810.0   301051.0   723472.0   \n",
       "5        3634888.0  2240784.0     4726343.0  3667806.0   679331.0  1518467.0   \n",
       "6        3994812.0  2392586.0     5054869.0  3875072.0   700929.0  1579704.0   \n",
       "7        5476286.0  3921613.0     8181887.0  6129604.0  1246241.0  2714328.0   \n",
       "8        1673716.0   514289.0     1013276.0  1007850.0    58693.0    53328.0   \n",
       "9         142490.0    59828.0      232421.0   154309.0    18750.0   109489.0   \n",
       "10          5707.0     3951.0           0.0     2902.0        0.0     9176.0   \n",
       "11         95928.0    27155.0      172982.0    57772.0    16792.0    60962.0   \n",
       "12        146082.0    84168.0      162606.0   151217.0    27502.0   114770.0   \n",
       "13        337941.0   123751.0      527340.0   264843.0    87039.0   236661.0   \n",
       "14       5266352.0  3833132.0     7890171.0  5943602.0  1182496.0  2563656.0   \n",
       "15        200778.0   114124.0      249112.0   161150.0    32572.0    58143.0   \n",
       "16        584883.0   330937.0      616418.0   499570.0    68183.0   185531.0   \n",
       "17       2006153.0  1425877.0     3438340.0  2217910.0   364914.0   727912.0   \n",
       "18       1837548.0  1146249.0     1792444.0  1950975.0   349519.0   853537.0   \n",
       "19        734078.0   368097.0      805992.0   689604.0   144797.0   281441.0   \n",
       "20       1496734.0   787128.0     1798361.0  1279897.0   283910.0   633177.0   \n",
       "21        769526.0   460958.0     1080545.0   743772.0   136365.0   358430.0   \n",
       "22       6844039.0  4188309.0     8915682.0  6882158.0  1279505.0  2854497.0   \n",
       "23       2266260.0  1248086.0     2878906.0  2023669.0   420275.0   991607.0   \n",
       "24       7392393.0  4485414.0     9433711.0  7368915.0  1338264.0  3041834.0   \n",
       "25        866201.0   517093.0     1010716.0   905406.0   130638.0   343849.0   \n",
       "26       6526192.0  3968321.0     8422995.0  6463509.0  1207626.0  2697985.0   \n",
       "27         54729.0    54647.0       61150.0    56669.0    60399.0    64276.0   \n",
       "\n",
       "     Wyoming  ...   Arkansas  Delaware  Minnesota   Montana    Arizona  \\\n",
       "0   433644.0  ...  2224112.0  720867.0  4106914.0  823668.0  5035771.0   \n",
       "1    86967.0  ...   469906.0  140123.0   817820.0  162487.0  1107241.0   \n",
       "2   106361.0  ...   521951.0  153037.0  1007885.0  190761.0  1159231.0   \n",
       "3   144337.0  ...   729350.0  249503.0  1403438.0  270899.0  1561631.0   \n",
       "4    95979.0  ...   502905.0  178204.0   877771.0  199521.0  1207668.0   \n",
       "5   219788.0  ...  1074651.0  343826.0  2023293.0  413026.0  2478560.0   \n",
       "6   213856.0  ...  1149461.0  377041.0  2083621.0  410642.0  2557211.0   \n",
       "7   404463.0  ...  1772891.0  521934.0  3612605.0  747646.0  4067382.0   \n",
       "8        0.0  ...   332151.0  158901.0   194296.0       0.0   235473.0   \n",
       "9     2909.0  ...    23033.0   15714.0   141920.0    4509.0   131296.0   \n",
       "10       0.0  ...     2668.0       0.0        0.0       0.0    11034.0   \n",
       "11       0.0  ...    34576.0    6555.0    36479.0    3505.0   211608.0   \n",
       "12       0.0  ...    43012.0   13093.0    79970.0       0.0   153342.0   \n",
       "13   32683.0  ...    86138.0   38834.0   124741.0   24492.0  1188723.0   \n",
       "14  378267.0  ...  1725137.0  495504.0  3537015.0  729822.0  3191082.0   \n",
       "15    6797.0  ...    74892.0   16821.0    74789.0   13693.0   158255.0   \n",
       "16   25914.0  ...   183542.0   47602.0   181950.0   43308.0   361342.0   \n",
       "17  128479.0  ...   770535.0  244349.0  1023146.0  235406.0  1268920.0   \n",
       "18  120333.0  ...   549241.0  149356.0   951408.0  213870.0  1389701.0   \n",
       "19   46062.0  ...   167399.0   54332.0   469157.0   75647.0   446509.0   \n",
       "20   67939.0  ...   309602.0  125319.0   955496.0  161452.0   904959.0   \n",
       "21   38120.0  ...   168901.0   83088.0   450968.0   80292.0   506085.0   \n",
       "22  400933.0  ...  1965678.0  656444.0  3850175.0  766667.0  4516174.0   \n",
       "23  106059.0  ...   478503.0  208407.0  1406464.0  241744.0  1411044.0   \n",
       "24  422610.0  ...  2150536.0  698953.0  4011388.0  804355.0  4910593.0   \n",
       "25   42105.0  ...   318945.0   72431.0   342929.0   97803.0   542438.0   \n",
       "26  380505.0  ...  1831591.0  626522.0  3668459.0  706552.0  4368155.0   \n",
       "27   62108.0  ...    47210.0   64723.0    71056.0   55335.0    60836.0   \n",
       "\n",
       "       Florida  Massachusetts  District of Columbia       Utah    New York  \n",
       "0   15327815.0      5035804.0              526393.0  2087341.0  13770029.0  \n",
       "1    2867965.0      1080377.0              145434.0   567726.0   2924030.0  \n",
       "2    3306343.0      1120870.0              165893.0   596259.0   3189035.0  \n",
       "3    5020822.0      1736866.0              131762.0   578946.0   4615032.0  \n",
       "4    4132685.0      1097691.0               83304.0   344410.0   3041932.0  \n",
       "5    7371100.0      2400775.0              245922.0  1041497.0   6565089.0  \n",
       "6    7956715.0      2635029.0              280471.0  1045844.0   7204940.0  \n",
       "7   11927653.0      4176989.0              240198.0  1878243.0   9479819.0  \n",
       "8    2302492.0       337379.0              240843.0    22236.0   2139909.0  \n",
       "9     350164.0       244395.0               19162.0    41022.0    922184.0  \n",
       "10      9437.0            0.0                   0.0    17875.0      7021.0  \n",
       "11    379968.0       156986.0                9019.0    59280.0    834466.0  \n",
       "12    313929.0       106038.0               14842.0    46359.0    330462.0  \n",
       "13   3141934.0       448318.0               36738.0   190248.0   2033344.0  \n",
       "14   9325209.0      3920473.0              219188.0  1760735.0   8553329.0  \n",
       "15    480480.0       148210.0               11472.0    28144.0    541093.0  \n",
       "16   1108062.0       260734.0               24872.0   112538.0    907828.0  \n",
       "17   4428650.0      1198355.0               99438.0   495871.0   3584694.0  \n",
       "18   3383383.0       961494.0               81020.0   589770.0   2578936.0  \n",
       "19   1538610.0       370597.0               13643.0   214821.0   1223564.0  \n",
       "20   2804292.0      1209374.0              137112.0   432248.0   2851606.0  \n",
       "21   1584338.0       887040.0              158836.0   213949.0   2082308.0  \n",
       "22  13739273.0      4626860.0              490049.0  1946659.0  12321108.0  \n",
       "23   4388630.0      2096414.0              295948.0   646197.0   4933914.0  \n",
       "24  14993461.0      4838216.0              497589.0  2052201.0  13371194.0  \n",
       "25   1699386.0       421007.0               72562.0   171099.0   1541839.0  \n",
       "26  13294075.0      4417209.0              425027.0  1881102.0  11829355.0  \n",
       "27     56794.0        80919.0               86510.0    72685.0     69956.0  \n",
       "\n",
       "[28 rows x 53 columns]"
      ]
     },
     "execution_count": 270,
     "metadata": {},
     "output_type": "execute_result"
    }
   ],
   "source": [
    "condensed = pd.DataFrame()\n",
    "condensed[data.columns[0]] = data.iloc[:, 0]\n",
    "for i in np.arange(1, len(data.axes[1]), 4):\n",
    "    col = data.iloc[:, i].astype(str).str.replace('\\D+', '').apply(p2f)\n",
    "    condensed[data.columns[i]] = col\n",
    "condensed = condensed[condensed[\"Alaska!!Total!!Estimate\"] > 0]\n",
    "new_col = condensed.columns.to_list()\n",
    "normal_names = [normify(item) for item in new_col]\n",
    "condensed.columns = normal_names\n",
    "condensed.index = np.arange(28)\n",
    "condensed"
   ]
  },
  {
   "cell_type": "code",
   "execution_count": 271,
   "metadata": {
    "cell_id": "00004-bd937f66-6449-4219-aa60-e3cacfe96d3a",
    "execution_millis": 2,
    "execution_start": 1605404692006,
    "output_cleared": false,
    "source_hash": "a1cadd3c",
    "tags": []
   },
   "outputs": [
    {
     "data": {
      "application/vnd.deepnote.dataframe.v2+json": {
       "column_count": 2,
       "columns": [
        {
         "dtype": "object",
         "name": "Label",
         "stats": {
          "categories": [
           {
            "count": 1,
            "name": "Alaska"
           },
           {
            "count": 1,
            "name": "Maine"
           },
           {
            "count": 50,
            "name": "50 others"
           }
          ],
          "nan_count": 0,
          "unique_count": 52
         }
        },
        {
         "dtype": "float64",
         "name": "Voting Population",
         "stats": {
          "histogram": [
           {
            "bin_end": 2974162.6,
            "bin_start": 433644,
            "count": 25
           },
           {
            "bin_end": 5514681.2,
            "bin_start": 2974162.6,
            "count": 15
           },
           {
            "bin_end": 8055199.800000001,
            "bin_start": 5514681.2,
            "count": 5
           },
           {
            "bin_end": 10595718.4,
            "bin_start": 8055199.800000001,
            "count": 3
           },
           {
            "bin_end": 13136237,
            "bin_start": 10595718.4,
            "count": 0
           },
           {
            "bin_end": 15676755.600000001,
            "bin_start": 13136237,
            "count": 2
           },
           {
            "bin_end": 18217274.2,
            "bin_start": 15676755.600000001,
            "count": 0
           },
           {
            "bin_end": 20757792.8,
            "bin_start": 18217274.2,
            "count": 1
           },
           {
            "bin_end": 23298311.400000002,
            "bin_start": 20757792.8,
            "count": 0
           },
           {
            "bin_end": 25838830,
            "bin_start": 23298311.400000002,
            "count": 1
           }
          ],
          "max": 25838830,
          "min": 433644,
          "nan_count": 0,
          "unique_count": 52
         }
        },
        {
         "dtype": "int64",
         "name": "_deepnote_index_column"
        }
       ],
       "row_count": 52,
       "rows_bottom": null,
       "rows_top": [
        {
         "Label": "Alaska",
         "Voting Population": 532244,
         "_deepnote_index_column": 0
        },
        {
         "Label": "Maine",
         "Voting Population": 1070661,
         "_deepnote_index_column": 1
        },
        {
         "Label": "North Carolina",
         "Voting Population": 7629700,
         "_deepnote_index_column": 2
        },
        {
         "Label": "Missouri",
         "Voting Population": 4633370,
         "_deepnote_index_column": 3
        },
        {
         "Label": "Pennsylvania",
         "Voting Population": 9781212,
         "_deepnote_index_column": 4
        },
        {
         "Label": "Michigan",
         "Voting Population": 7542878,
         "_deepnote_index_column": 5
        },
        {
         "Label": "Nebraska",
         "Voting Population": 1380260,
         "_deepnote_index_column": 6
        },
        {
         "Label": "Oregon",
         "Voting Population": 3098171,
         "_deepnote_index_column": 7
        },
        {
         "Label": "Wyoming",
         "Voting Population": 433644,
         "_deepnote_index_column": 8
        },
        {
         "Label": "California",
         "Voting Population": 25838830,
         "_deepnote_index_column": 9
        },
        {
         "Label": "Mississippi",
         "Voting Population": 2240658,
         "_deepnote_index_column": 10
        },
        {
         "Label": "Connecticut",
         "Voting Population": 2614365,
         "_deepnote_index_column": 11
        },
        {
         "Label": "Texas",
         "Voting Population": 18502334,
         "_deepnote_index_column": 12
        },
        {
         "Label": "Idaho",
         "Voting Population": 1252414,
         "_deepnote_index_column": 13
        },
        {
         "Label": "Maryland",
         "Voting Population": 4320150,
         "_deepnote_index_column": 14
        },
        {
         "Label": "New Mexico",
         "Voting Population": 1507384,
         "_deepnote_index_column": 15
        },
        {
         "Label": "Alabama",
         "Voting Population": 3712212,
         "_deepnote_index_column": 16
        },
        {
         "Label": "Tennessee",
         "Voting Population": 5075166,
         "_deepnote_index_column": 17
        },
        {
         "Label": "Vermont",
         "Voting Population": 500274,
         "_deepnote_index_column": 18
        },
        {
         "Label": "Nevada",
         "Voting Population": 2075166,
         "_deepnote_index_column": 19
        },
        {
         "Label": "West Virginia",
         "Voting Population": 1431158,
         "_deepnote_index_column": 20
        },
        {
         "Label": "Oklahoma",
         "Voting Population": 2852665,
         "_deepnote_index_column": 21
        },
        {
         "Label": "Wisconsin",
         "Voting Population": 4401754,
         "_deepnote_index_column": 22
        },
        {
         "Label": "Puerto Rico",
         "Voting Population": 2561292,
         "_deepnote_index_column": 23
        },
        {
         "Label": "Kansas",
         "Voting Population": 2091514,
         "_deepnote_index_column": 24
        },
        {
         "Label": "Virginia",
         "Voting Population": 6213686,
         "_deepnote_index_column": 25
        },
        {
         "Label": "North Dakota",
         "Voting Population": 567351,
         "_deepnote_index_column": 26
        },
        {
         "Label": "New Jersey",
         "Voting Population": 6198334,
         "_deepnote_index_column": 27
        },
        {
         "Label": "Ohio",
         "Voting Population": 8863920,
         "_deepnote_index_column": 28
        },
        {
         "Label": "South Carolina",
         "Voting Population": 3850077,
         "_deepnote_index_column": 29
        },
        {
         "Label": "Georgia",
         "Voting Population": 7486799,
         "_deepnote_index_column": 30
        },
        {
         "Label": "Colorado",
         "Voting Population": 4151040,
         "_deepnote_index_column": 31
        },
        {
         "Label": "Hawaii",
         "Voting Population": 1016506,
         "_deepnote_index_column": 32
        },
        {
         "Label": "South Dakota",
         "Voting Population": 647089,
         "_deepnote_index_column": 33
        },
        {
         "Label": "Indiana",
         "Voting Population": 4935180,
         "_deepnote_index_column": 34
        },
        {
         "Label": "Kentucky",
         "Voting Population": 3368919,
         "_deepnote_index_column": 35
        },
        {
         "Label": "Louisiana",
         "Voting Population": 3459079,
         "_deepnote_index_column": 36
        },
        {
         "Label": "Washington",
         "Voting Population": 5355539,
         "_deepnote_index_column": 37
        },
        {
         "Label": "Illinois",
         "Voting Population": 9074766,
         "_deepnote_index_column": 38
        },
        {
         "Label": "Iowa",
         "Voting Population": 2327219,
         "_deepnote_index_column": 39
        },
        {
         "Label": "New Hampshire",
         "Voting Population": 1069812,
         "_deepnote_index_column": 40
        },
        {
         "Label": "Rhode Island",
         "Voting Population": 803077,
         "_deepnote_index_column": 41
        },
        {
         "Label": "Arkansas",
         "Voting Population": 2224112,
         "_deepnote_index_column": 42
        },
        {
         "Label": "Delaware",
         "Voting Population": 720867,
         "_deepnote_index_column": 43
        },
        {
         "Label": "Minnesota",
         "Voting Population": 4106914,
         "_deepnote_index_column": 44
        },
        {
         "Label": "Montana",
         "Voting Population": 823668,
         "_deepnote_index_column": 45
        },
        {
         "Label": "Arizona",
         "Voting Population": 5035771,
         "_deepnote_index_column": 46
        },
        {
         "Label": "Florida",
         "Voting Population": 15327815,
         "_deepnote_index_column": 47
        },
        {
         "Label": "Massachusetts",
         "Voting Population": 5035804,
         "_deepnote_index_column": 48
        },
        {
         "Label": "District of Columbia",
         "Voting Population": 526393,
         "_deepnote_index_column": 49
        },
        {
         "Label": "Utah",
         "Voting Population": 2087341,
         "_deepnote_index_column": 50
        },
        {
         "Label": "New York",
         "Voting Population": 13770029,
         "_deepnote_index_column": 51
        }
       ]
      },
      "text/html": [
       "<div>\n",
       "<style scoped>\n",
       "    .dataframe tbody tr th:only-of-type {\n",
       "        vertical-align: middle;\n",
       "    }\n",
       "\n",
       "    .dataframe tbody tr th {\n",
       "        vertical-align: top;\n",
       "    }\n",
       "\n",
       "    .dataframe thead th {\n",
       "        text-align: right;\n",
       "    }\n",
       "</style>\n",
       "<table border=\"1\" class=\"dataframe\">\n",
       "  <thead>\n",
       "    <tr style=\"text-align: right;\">\n",
       "      <th></th>\n",
       "      <th>Label</th>\n",
       "      <th>Voting Population</th>\n",
       "    </tr>\n",
       "  </thead>\n",
       "  <tbody>\n",
       "    <tr>\n",
       "      <th>0</th>\n",
       "      <td>Alaska</td>\n",
       "      <td>532244.0</td>\n",
       "    </tr>\n",
       "    <tr>\n",
       "      <th>1</th>\n",
       "      <td>Maine</td>\n",
       "      <td>1070661.0</td>\n",
       "    </tr>\n",
       "    <tr>\n",
       "      <th>2</th>\n",
       "      <td>North Carolina</td>\n",
       "      <td>7629700.0</td>\n",
       "    </tr>\n",
       "    <tr>\n",
       "      <th>3</th>\n",
       "      <td>Missouri</td>\n",
       "      <td>4633370.0</td>\n",
       "    </tr>\n",
       "    <tr>\n",
       "      <th>4</th>\n",
       "      <td>Pennsylvania</td>\n",
       "      <td>9781212.0</td>\n",
       "    </tr>\n",
       "    <tr>\n",
       "      <th>5</th>\n",
       "      <td>Michigan</td>\n",
       "      <td>7542878.0</td>\n",
       "    </tr>\n",
       "    <tr>\n",
       "      <th>6</th>\n",
       "      <td>Nebraska</td>\n",
       "      <td>1380260.0</td>\n",
       "    </tr>\n",
       "    <tr>\n",
       "      <th>7</th>\n",
       "      <td>Oregon</td>\n",
       "      <td>3098171.0</td>\n",
       "    </tr>\n",
       "    <tr>\n",
       "      <th>8</th>\n",
       "      <td>Wyoming</td>\n",
       "      <td>433644.0</td>\n",
       "    </tr>\n",
       "    <tr>\n",
       "      <th>9</th>\n",
       "      <td>California</td>\n",
       "      <td>25838830.0</td>\n",
       "    </tr>\n",
       "    <tr>\n",
       "      <th>10</th>\n",
       "      <td>Mississippi</td>\n",
       "      <td>2240658.0</td>\n",
       "    </tr>\n",
       "    <tr>\n",
       "      <th>11</th>\n",
       "      <td>Connecticut</td>\n",
       "      <td>2614365.0</td>\n",
       "    </tr>\n",
       "    <tr>\n",
       "      <th>12</th>\n",
       "      <td>Texas</td>\n",
       "      <td>18502334.0</td>\n",
       "    </tr>\n",
       "    <tr>\n",
       "      <th>13</th>\n",
       "      <td>Idaho</td>\n",
       "      <td>1252414.0</td>\n",
       "    </tr>\n",
       "    <tr>\n",
       "      <th>14</th>\n",
       "      <td>Maryland</td>\n",
       "      <td>4320150.0</td>\n",
       "    </tr>\n",
       "    <tr>\n",
       "      <th>15</th>\n",
       "      <td>New Mexico</td>\n",
       "      <td>1507384.0</td>\n",
       "    </tr>\n",
       "    <tr>\n",
       "      <th>16</th>\n",
       "      <td>Alabama</td>\n",
       "      <td>3712212.0</td>\n",
       "    </tr>\n",
       "    <tr>\n",
       "      <th>17</th>\n",
       "      <td>Tennessee</td>\n",
       "      <td>5075166.0</td>\n",
       "    </tr>\n",
       "    <tr>\n",
       "      <th>18</th>\n",
       "      <td>Vermont</td>\n",
       "      <td>500274.0</td>\n",
       "    </tr>\n",
       "    <tr>\n",
       "      <th>19</th>\n",
       "      <td>Nevada</td>\n",
       "      <td>2075166.0</td>\n",
       "    </tr>\n",
       "    <tr>\n",
       "      <th>20</th>\n",
       "      <td>West Virginia</td>\n",
       "      <td>1431158.0</td>\n",
       "    </tr>\n",
       "    <tr>\n",
       "      <th>21</th>\n",
       "      <td>Oklahoma</td>\n",
       "      <td>2852665.0</td>\n",
       "    </tr>\n",
       "    <tr>\n",
       "      <th>22</th>\n",
       "      <td>Wisconsin</td>\n",
       "      <td>4401754.0</td>\n",
       "    </tr>\n",
       "    <tr>\n",
       "      <th>23</th>\n",
       "      <td>Puerto Rico</td>\n",
       "      <td>2561292.0</td>\n",
       "    </tr>\n",
       "    <tr>\n",
       "      <th>24</th>\n",
       "      <td>Kansas</td>\n",
       "      <td>2091514.0</td>\n",
       "    </tr>\n",
       "    <tr>\n",
       "      <th>25</th>\n",
       "      <td>Virginia</td>\n",
       "      <td>6213686.0</td>\n",
       "    </tr>\n",
       "    <tr>\n",
       "      <th>26</th>\n",
       "      <td>North Dakota</td>\n",
       "      <td>567351.0</td>\n",
       "    </tr>\n",
       "    <tr>\n",
       "      <th>27</th>\n",
       "      <td>New Jersey</td>\n",
       "      <td>6198334.0</td>\n",
       "    </tr>\n",
       "    <tr>\n",
       "      <th>28</th>\n",
       "      <td>Ohio</td>\n",
       "      <td>8863920.0</td>\n",
       "    </tr>\n",
       "    <tr>\n",
       "      <th>29</th>\n",
       "      <td>South Carolina</td>\n",
       "      <td>3850077.0</td>\n",
       "    </tr>\n",
       "    <tr>\n",
       "      <th>30</th>\n",
       "      <td>Georgia</td>\n",
       "      <td>7486799.0</td>\n",
       "    </tr>\n",
       "    <tr>\n",
       "      <th>31</th>\n",
       "      <td>Colorado</td>\n",
       "      <td>4151040.0</td>\n",
       "    </tr>\n",
       "    <tr>\n",
       "      <th>32</th>\n",
       "      <td>Hawaii</td>\n",
       "      <td>1016506.0</td>\n",
       "    </tr>\n",
       "    <tr>\n",
       "      <th>33</th>\n",
       "      <td>South Dakota</td>\n",
       "      <td>647089.0</td>\n",
       "    </tr>\n",
       "    <tr>\n",
       "      <th>34</th>\n",
       "      <td>Indiana</td>\n",
       "      <td>4935180.0</td>\n",
       "    </tr>\n",
       "    <tr>\n",
       "      <th>35</th>\n",
       "      <td>Kentucky</td>\n",
       "      <td>3368919.0</td>\n",
       "    </tr>\n",
       "    <tr>\n",
       "      <th>36</th>\n",
       "      <td>Louisiana</td>\n",
       "      <td>3459079.0</td>\n",
       "    </tr>\n",
       "    <tr>\n",
       "      <th>37</th>\n",
       "      <td>Washington</td>\n",
       "      <td>5355539.0</td>\n",
       "    </tr>\n",
       "    <tr>\n",
       "      <th>38</th>\n",
       "      <td>Illinois</td>\n",
       "      <td>9074766.0</td>\n",
       "    </tr>\n",
       "    <tr>\n",
       "      <th>39</th>\n",
       "      <td>Iowa</td>\n",
       "      <td>2327219.0</td>\n",
       "    </tr>\n",
       "    <tr>\n",
       "      <th>40</th>\n",
       "      <td>New Hampshire</td>\n",
       "      <td>1069812.0</td>\n",
       "    </tr>\n",
       "    <tr>\n",
       "      <th>41</th>\n",
       "      <td>Rhode Island</td>\n",
       "      <td>803077.0</td>\n",
       "    </tr>\n",
       "    <tr>\n",
       "      <th>42</th>\n",
       "      <td>Arkansas</td>\n",
       "      <td>2224112.0</td>\n",
       "    </tr>\n",
       "    <tr>\n",
       "      <th>43</th>\n",
       "      <td>Delaware</td>\n",
       "      <td>720867.0</td>\n",
       "    </tr>\n",
       "    <tr>\n",
       "      <th>44</th>\n",
       "      <td>Minnesota</td>\n",
       "      <td>4106914.0</td>\n",
       "    </tr>\n",
       "    <tr>\n",
       "      <th>45</th>\n",
       "      <td>Montana</td>\n",
       "      <td>823668.0</td>\n",
       "    </tr>\n",
       "    <tr>\n",
       "      <th>46</th>\n",
       "      <td>Arizona</td>\n",
       "      <td>5035771.0</td>\n",
       "    </tr>\n",
       "    <tr>\n",
       "      <th>47</th>\n",
       "      <td>Florida</td>\n",
       "      <td>15327815.0</td>\n",
       "    </tr>\n",
       "    <tr>\n",
       "      <th>48</th>\n",
       "      <td>Massachusetts</td>\n",
       "      <td>5035804.0</td>\n",
       "    </tr>\n",
       "    <tr>\n",
       "      <th>49</th>\n",
       "      <td>District of Columbia</td>\n",
       "      <td>526393.0</td>\n",
       "    </tr>\n",
       "    <tr>\n",
       "      <th>50</th>\n",
       "      <td>Utah</td>\n",
       "      <td>2087341.0</td>\n",
       "    </tr>\n",
       "    <tr>\n",
       "      <th>51</th>\n",
       "      <td>New York</td>\n",
       "      <td>13770029.0</td>\n",
       "    </tr>\n",
       "  </tbody>\n",
       "</table>\n",
       "</div>"
      ],
      "text/plain": [
       "                   Label  Voting Population\n",
       "0                 Alaska           532244.0\n",
       "1                  Maine          1070661.0\n",
       "2         North Carolina          7629700.0\n",
       "3               Missouri          4633370.0\n",
       "4           Pennsylvania          9781212.0\n",
       "5               Michigan          7542878.0\n",
       "6               Nebraska          1380260.0\n",
       "7                 Oregon          3098171.0\n",
       "8                Wyoming           433644.0\n",
       "9             California         25838830.0\n",
       "10           Mississippi          2240658.0\n",
       "11           Connecticut          2614365.0\n",
       "12                 Texas         18502334.0\n",
       "13                 Idaho          1252414.0\n",
       "14              Maryland          4320150.0\n",
       "15            New Mexico          1507384.0\n",
       "16               Alabama          3712212.0\n",
       "17             Tennessee          5075166.0\n",
       "18               Vermont           500274.0\n",
       "19                Nevada          2075166.0\n",
       "20         West Virginia          1431158.0\n",
       "21              Oklahoma          2852665.0\n",
       "22             Wisconsin          4401754.0\n",
       "23           Puerto Rico          2561292.0\n",
       "24                Kansas          2091514.0\n",
       "25              Virginia          6213686.0\n",
       "26          North Dakota           567351.0\n",
       "27            New Jersey          6198334.0\n",
       "28                  Ohio          8863920.0\n",
       "29        South Carolina          3850077.0\n",
       "30               Georgia          7486799.0\n",
       "31              Colorado          4151040.0\n",
       "32                Hawaii          1016506.0\n",
       "33          South Dakota           647089.0\n",
       "34               Indiana          4935180.0\n",
       "35              Kentucky          3368919.0\n",
       "36             Louisiana          3459079.0\n",
       "37            Washington          5355539.0\n",
       "38              Illinois          9074766.0\n",
       "39                  Iowa          2327219.0\n",
       "40         New Hampshire          1069812.0\n",
       "41          Rhode Island           803077.0\n",
       "42              Arkansas          2224112.0\n",
       "43              Delaware           720867.0\n",
       "44             Minnesota          4106914.0\n",
       "45               Montana           823668.0\n",
       "46               Arizona          5035771.0\n",
       "47               Florida         15327815.0\n",
       "48         Massachusetts          5035804.0\n",
       "49  District of Columbia           526393.0\n",
       "50                  Utah          2087341.0\n",
       "51              New York         13770029.0"
      ]
     },
     "execution_count": 271,
     "metadata": {},
     "output_type": "execute_result"
    }
   ],
   "source": [
    "total_pop = pd.read_csv(\"/home/jovyan/work/Electoral_census/Sanjay/Data/2018_pop.csv\").iloc[0].astype(str).str.replace('\\D+', '').apply(p2f)\n",
    "total_pop = pd.DataFrame({\"Label\":total_pop.index, \"Voting Population\": total_pop.values})\n",
    "total_pop = total_pop.iloc[1:]\n",
    "total_pop[\"Label\"] = normal_names[1:]\n",
    "total_pop.index -= 1\n",
    "total_pop"
   ]
  },
  {
   "cell_type": "code",
   "execution_count": 272,
   "metadata": {
    "cell_id": "00005-2ddd7b79-1014-491a-b85c-736d0cb5f31f",
    "execution_millis": 2,
    "execution_start": 1605404692027,
    "output_cleared": false,
    "source_hash": "4461aed6",
    "tags": []
   },
   "outputs": [
    {
     "data": {
      "application/vnd.deepnote.dataframe.v2+json": {
       "column_count": 2,
       "columns": [
        {
         "dtype": "object",
         "name": "State",
         "stats": {
          "categories": [
           {
            "count": 1,
            "name": "Alaska"
           },
           {
            "count": 1,
            "name": "Maine"
           },
           {
            "count": 50,
            "name": "50 others"
           }
          ],
          "nan_count": 0,
          "unique_count": 52
         }
        },
        {
         "dtype": "int64",
         "name": "Votes",
         "stats": {
          "histogram": [
           {
            "bin_end": 5.5,
            "bin_start": 0,
            "count": 17
           },
           {
            "bin_end": 11,
            "bin_start": 5.5,
            "count": 18
           },
           {
            "bin_end": 16.5,
            "bin_start": 11,
            "count": 10
           },
           {
            "bin_end": 22,
            "bin_start": 16.5,
            "count": 3
           },
           {
            "bin_end": 27.5,
            "bin_start": 22,
            "count": 0
           },
           {
            "bin_end": 33,
            "bin_start": 27.5,
            "count": 2
           },
           {
            "bin_end": 38.5,
            "bin_start": 33,
            "count": 1
           },
           {
            "bin_end": 44,
            "bin_start": 38.5,
            "count": 0
           },
           {
            "bin_end": 49.5,
            "bin_start": 44,
            "count": 0
           },
           {
            "bin_end": 55,
            "bin_start": 49.5,
            "count": 1
           }
          ],
          "max": 55,
          "min": 0,
          "nan_count": 0,
          "unique_count": 20
         }
        },
        {
         "dtype": "int64",
         "name": "_deepnote_index_column"
        }
       ],
       "row_count": 52,
       "rows_bottom": null,
       "rows_top": [
        {
         "State": "Alaska",
         "Votes": 9,
         "_deepnote_index_column": 0
        },
        {
         "State": "Maine",
         "Votes": 3,
         "_deepnote_index_column": 1
        },
        {
         "State": "North Carolina",
         "Votes": 11,
         "_deepnote_index_column": 2
        },
        {
         "State": "Missouri",
         "Votes": 6,
         "_deepnote_index_column": 3
        },
        {
         "State": "Pennsylvania",
         "Votes": 55,
         "_deepnote_index_column": 4
        },
        {
         "State": "Michigan",
         "Votes": 9,
         "_deepnote_index_column": 5
        },
        {
         "State": "Nebraska",
         "Votes": 7,
         "_deepnote_index_column": 6
        },
        {
         "State": "Oregon",
         "Votes": 3,
         "_deepnote_index_column": 7
        },
        {
         "State": "Wyoming",
         "Votes": 3,
         "_deepnote_index_column": 8
        },
        {
         "State": "California",
         "Votes": 29,
         "_deepnote_index_column": 9
        },
        {
         "State": "Mississippi",
         "Votes": 16,
         "_deepnote_index_column": 10
        },
        {
         "State": "Connecticut",
         "Votes": 4,
         "_deepnote_index_column": 11
        },
        {
         "State": "Texas",
         "Votes": 4,
         "_deepnote_index_column": 12
        },
        {
         "State": "Idaho",
         "Votes": 20,
         "_deepnote_index_column": 13
        },
        {
         "State": "Maryland",
         "Votes": 11,
         "_deepnote_index_column": 14
        },
        {
         "State": "New Mexico",
         "Votes": 6,
         "_deepnote_index_column": 15
        },
        {
         "State": "Alabama",
         "Votes": 6,
         "_deepnote_index_column": 16
        },
        {
         "State": "Tennessee",
         "Votes": 8,
         "_deepnote_index_column": 17
        },
        {
         "State": "Vermont",
         "Votes": 8,
         "_deepnote_index_column": 18
        },
        {
         "State": "Nevada",
         "Votes": 4,
         "_deepnote_index_column": 19
        },
        {
         "State": "West Virginia",
         "Votes": 10,
         "_deepnote_index_column": 20
        },
        {
         "State": "Oklahoma",
         "Votes": 11,
         "_deepnote_index_column": 21
        },
        {
         "State": "Wisconsin",
         "Votes": 16,
         "_deepnote_index_column": 22
        },
        {
         "State": "Puerto Rico",
         "Votes": 10,
         "_deepnote_index_column": 23
        },
        {
         "State": "Kansas",
         "Votes": 6,
         "_deepnote_index_column": 24
        },
        {
         "State": "Virginia",
         "Votes": 10,
         "_deepnote_index_column": 25
        },
        {
         "State": "North Dakota",
         "Votes": 3,
         "_deepnote_index_column": 26
        },
        {
         "State": "New Jersey",
         "Votes": 5,
         "_deepnote_index_column": 27
        },
        {
         "State": "Ohio",
         "Votes": 6,
         "_deepnote_index_column": 28
        },
        {
         "State": "South Carolina",
         "Votes": 4,
         "_deepnote_index_column": 29
        },
        {
         "State": "Georgia",
         "Votes": 14,
         "_deepnote_index_column": 30
        },
        {
         "State": "Colorado",
         "Votes": 5,
         "_deepnote_index_column": 31
        },
        {
         "State": "Hawaii",
         "Votes": 29,
         "_deepnote_index_column": 32
        },
        {
         "State": "South Dakota",
         "Votes": 15,
         "_deepnote_index_column": 33
        },
        {
         "State": "Indiana",
         "Votes": 3,
         "_deepnote_index_column": 34
        },
        {
         "State": "Kentucky",
         "Votes": 18,
         "_deepnote_index_column": 35
        },
        {
         "State": "Louisiana",
         "Votes": 7,
         "_deepnote_index_column": 36
        },
        {
         "State": "Washington",
         "Votes": 7,
         "_deepnote_index_column": 37
        },
        {
         "State": "Illinois",
         "Votes": 20,
         "_deepnote_index_column": 38
        },
        {
         "State": "Iowa",
         "Votes": 4,
         "_deepnote_index_column": 39
        },
        {
         "State": "New Hampshire",
         "Votes": 9,
         "_deepnote_index_column": 40
        },
        {
         "State": "Rhode Island",
         "Votes": 3,
         "_deepnote_index_column": 41
        },
        {
         "State": "Arkansas",
         "Votes": 11,
         "_deepnote_index_column": 42
        },
        {
         "State": "Delaware",
         "Votes": 38,
         "_deepnote_index_column": 43
        },
        {
         "State": "Minnesota",
         "Votes": 6,
         "_deepnote_index_column": 44
        },
        {
         "State": "Montana",
         "Votes": 3,
         "_deepnote_index_column": 45
        },
        {
         "State": "Arizona",
         "Votes": 13,
         "_deepnote_index_column": 46
        },
        {
         "State": "Florida",
         "Votes": 12,
         "_deepnote_index_column": 47
        },
        {
         "State": "Massachusetts",
         "Votes": 5,
         "_deepnote_index_column": 48
        },
        {
         "State": "District of Columbia",
         "Votes": 10,
         "_deepnote_index_column": 49
        },
        {
         "State": "Utah",
         "Votes": 3,
         "_deepnote_index_column": 50
        },
        {
         "State": "New York",
         "Votes": 0,
         "_deepnote_index_column": 51
        }
       ]
      },
      "text/html": [
       "<div>\n",
       "<style scoped>\n",
       "    .dataframe tbody tr th:only-of-type {\n",
       "        vertical-align: middle;\n",
       "    }\n",
       "\n",
       "    .dataframe tbody tr th {\n",
       "        vertical-align: top;\n",
       "    }\n",
       "\n",
       "    .dataframe thead th {\n",
       "        text-align: right;\n",
       "    }\n",
       "</style>\n",
       "<table border=\"1\" class=\"dataframe\">\n",
       "  <thead>\n",
       "    <tr style=\"text-align: right;\">\n",
       "      <th></th>\n",
       "      <th>State</th>\n",
       "      <th>Votes</th>\n",
       "    </tr>\n",
       "  </thead>\n",
       "  <tbody>\n",
       "    <tr>\n",
       "      <th>0</th>\n",
       "      <td>Alaska</td>\n",
       "      <td>9</td>\n",
       "    </tr>\n",
       "    <tr>\n",
       "      <th>1</th>\n",
       "      <td>Maine</td>\n",
       "      <td>3</td>\n",
       "    </tr>\n",
       "    <tr>\n",
       "      <th>2</th>\n",
       "      <td>North Carolina</td>\n",
       "      <td>11</td>\n",
       "    </tr>\n",
       "    <tr>\n",
       "      <th>3</th>\n",
       "      <td>Missouri</td>\n",
       "      <td>6</td>\n",
       "    </tr>\n",
       "    <tr>\n",
       "      <th>4</th>\n",
       "      <td>Pennsylvania</td>\n",
       "      <td>55</td>\n",
       "    </tr>\n",
       "    <tr>\n",
       "      <th>5</th>\n",
       "      <td>Michigan</td>\n",
       "      <td>9</td>\n",
       "    </tr>\n",
       "    <tr>\n",
       "      <th>6</th>\n",
       "      <td>Nebraska</td>\n",
       "      <td>7</td>\n",
       "    </tr>\n",
       "    <tr>\n",
       "      <th>7</th>\n",
       "      <td>Oregon</td>\n",
       "      <td>3</td>\n",
       "    </tr>\n",
       "    <tr>\n",
       "      <th>8</th>\n",
       "      <td>Wyoming</td>\n",
       "      <td>3</td>\n",
       "    </tr>\n",
       "    <tr>\n",
       "      <th>9</th>\n",
       "      <td>California</td>\n",
       "      <td>29</td>\n",
       "    </tr>\n",
       "    <tr>\n",
       "      <th>10</th>\n",
       "      <td>Mississippi</td>\n",
       "      <td>16</td>\n",
       "    </tr>\n",
       "    <tr>\n",
       "      <th>11</th>\n",
       "      <td>Connecticut</td>\n",
       "      <td>4</td>\n",
       "    </tr>\n",
       "    <tr>\n",
       "      <th>12</th>\n",
       "      <td>Texas</td>\n",
       "      <td>4</td>\n",
       "    </tr>\n",
       "    <tr>\n",
       "      <th>13</th>\n",
       "      <td>Idaho</td>\n",
       "      <td>20</td>\n",
       "    </tr>\n",
       "    <tr>\n",
       "      <th>14</th>\n",
       "      <td>Maryland</td>\n",
       "      <td>11</td>\n",
       "    </tr>\n",
       "    <tr>\n",
       "      <th>15</th>\n",
       "      <td>New Mexico</td>\n",
       "      <td>6</td>\n",
       "    </tr>\n",
       "    <tr>\n",
       "      <th>16</th>\n",
       "      <td>Alabama</td>\n",
       "      <td>6</td>\n",
       "    </tr>\n",
       "    <tr>\n",
       "      <th>17</th>\n",
       "      <td>Tennessee</td>\n",
       "      <td>8</td>\n",
       "    </tr>\n",
       "    <tr>\n",
       "      <th>18</th>\n",
       "      <td>Vermont</td>\n",
       "      <td>8</td>\n",
       "    </tr>\n",
       "    <tr>\n",
       "      <th>19</th>\n",
       "      <td>Nevada</td>\n",
       "      <td>4</td>\n",
       "    </tr>\n",
       "    <tr>\n",
       "      <th>20</th>\n",
       "      <td>West Virginia</td>\n",
       "      <td>10</td>\n",
       "    </tr>\n",
       "    <tr>\n",
       "      <th>21</th>\n",
       "      <td>Oklahoma</td>\n",
       "      <td>11</td>\n",
       "    </tr>\n",
       "    <tr>\n",
       "      <th>22</th>\n",
       "      <td>Wisconsin</td>\n",
       "      <td>16</td>\n",
       "    </tr>\n",
       "    <tr>\n",
       "      <th>23</th>\n",
       "      <td>Puerto Rico</td>\n",
       "      <td>10</td>\n",
       "    </tr>\n",
       "    <tr>\n",
       "      <th>24</th>\n",
       "      <td>Kansas</td>\n",
       "      <td>6</td>\n",
       "    </tr>\n",
       "    <tr>\n",
       "      <th>25</th>\n",
       "      <td>Virginia</td>\n",
       "      <td>10</td>\n",
       "    </tr>\n",
       "    <tr>\n",
       "      <th>26</th>\n",
       "      <td>North Dakota</td>\n",
       "      <td>3</td>\n",
       "    </tr>\n",
       "    <tr>\n",
       "      <th>27</th>\n",
       "      <td>New Jersey</td>\n",
       "      <td>5</td>\n",
       "    </tr>\n",
       "    <tr>\n",
       "      <th>28</th>\n",
       "      <td>Ohio</td>\n",
       "      <td>6</td>\n",
       "    </tr>\n",
       "    <tr>\n",
       "      <th>29</th>\n",
       "      <td>South Carolina</td>\n",
       "      <td>4</td>\n",
       "    </tr>\n",
       "    <tr>\n",
       "      <th>30</th>\n",
       "      <td>Georgia</td>\n",
       "      <td>14</td>\n",
       "    </tr>\n",
       "    <tr>\n",
       "      <th>31</th>\n",
       "      <td>Colorado</td>\n",
       "      <td>5</td>\n",
       "    </tr>\n",
       "    <tr>\n",
       "      <th>32</th>\n",
       "      <td>Hawaii</td>\n",
       "      <td>29</td>\n",
       "    </tr>\n",
       "    <tr>\n",
       "      <th>33</th>\n",
       "      <td>South Dakota</td>\n",
       "      <td>15</td>\n",
       "    </tr>\n",
       "    <tr>\n",
       "      <th>34</th>\n",
       "      <td>Indiana</td>\n",
       "      <td>3</td>\n",
       "    </tr>\n",
       "    <tr>\n",
       "      <th>35</th>\n",
       "      <td>Kentucky</td>\n",
       "      <td>18</td>\n",
       "    </tr>\n",
       "    <tr>\n",
       "      <th>36</th>\n",
       "      <td>Louisiana</td>\n",
       "      <td>7</td>\n",
       "    </tr>\n",
       "    <tr>\n",
       "      <th>37</th>\n",
       "      <td>Washington</td>\n",
       "      <td>7</td>\n",
       "    </tr>\n",
       "    <tr>\n",
       "      <th>38</th>\n",
       "      <td>Illinois</td>\n",
       "      <td>20</td>\n",
       "    </tr>\n",
       "    <tr>\n",
       "      <th>39</th>\n",
       "      <td>Iowa</td>\n",
       "      <td>4</td>\n",
       "    </tr>\n",
       "    <tr>\n",
       "      <th>40</th>\n",
       "      <td>New Hampshire</td>\n",
       "      <td>9</td>\n",
       "    </tr>\n",
       "    <tr>\n",
       "      <th>41</th>\n",
       "      <td>Rhode Island</td>\n",
       "      <td>3</td>\n",
       "    </tr>\n",
       "    <tr>\n",
       "      <th>42</th>\n",
       "      <td>Arkansas</td>\n",
       "      <td>11</td>\n",
       "    </tr>\n",
       "    <tr>\n",
       "      <th>43</th>\n",
       "      <td>Delaware</td>\n",
       "      <td>38</td>\n",
       "    </tr>\n",
       "    <tr>\n",
       "      <th>44</th>\n",
       "      <td>Minnesota</td>\n",
       "      <td>6</td>\n",
       "    </tr>\n",
       "    <tr>\n",
       "      <th>45</th>\n",
       "      <td>Montana</td>\n",
       "      <td>3</td>\n",
       "    </tr>\n",
       "    <tr>\n",
       "      <th>46</th>\n",
       "      <td>Arizona</td>\n",
       "      <td>13</td>\n",
       "    </tr>\n",
       "    <tr>\n",
       "      <th>47</th>\n",
       "      <td>Florida</td>\n",
       "      <td>12</td>\n",
       "    </tr>\n",
       "    <tr>\n",
       "      <th>48</th>\n",
       "      <td>Massachusetts</td>\n",
       "      <td>5</td>\n",
       "    </tr>\n",
       "    <tr>\n",
       "      <th>49</th>\n",
       "      <td>District of Columbia</td>\n",
       "      <td>10</td>\n",
       "    </tr>\n",
       "    <tr>\n",
       "      <th>50</th>\n",
       "      <td>Utah</td>\n",
       "      <td>3</td>\n",
       "    </tr>\n",
       "    <tr>\n",
       "      <th>51</th>\n",
       "      <td>New York</td>\n",
       "      <td>0</td>\n",
       "    </tr>\n",
       "  </tbody>\n",
       "</table>\n",
       "</div>"
      ],
      "text/plain": [
       "                   State  Votes\n",
       "0                 Alaska      9\n",
       "1                  Maine      3\n",
       "2         North Carolina     11\n",
       "3               Missouri      6\n",
       "4           Pennsylvania     55\n",
       "5               Michigan      9\n",
       "6               Nebraska      7\n",
       "7                 Oregon      3\n",
       "8                Wyoming      3\n",
       "9             California     29\n",
       "10           Mississippi     16\n",
       "11           Connecticut      4\n",
       "12                 Texas      4\n",
       "13                 Idaho     20\n",
       "14              Maryland     11\n",
       "15            New Mexico      6\n",
       "16               Alabama      6\n",
       "17             Tennessee      8\n",
       "18               Vermont      8\n",
       "19                Nevada      4\n",
       "20         West Virginia     10\n",
       "21              Oklahoma     11\n",
       "22             Wisconsin     16\n",
       "23           Puerto Rico     10\n",
       "24                Kansas      6\n",
       "25              Virginia     10\n",
       "26          North Dakota      3\n",
       "27            New Jersey      5\n",
       "28                  Ohio      6\n",
       "29        South Carolina      4\n",
       "30               Georgia     14\n",
       "31              Colorado      5\n",
       "32                Hawaii     29\n",
       "33          South Dakota     15\n",
       "34               Indiana      3\n",
       "35              Kentucky     18\n",
       "36             Louisiana      7\n",
       "37            Washington      7\n",
       "38              Illinois     20\n",
       "39                  Iowa      4\n",
       "40         New Hampshire      9\n",
       "41          Rhode Island      3\n",
       "42              Arkansas     11\n",
       "43              Delaware     38\n",
       "44             Minnesota      6\n",
       "45               Montana      3\n",
       "46               Arizona     13\n",
       "47               Florida     12\n",
       "48         Massachusetts      5\n",
       "49  District of Columbia     10\n",
       "50                  Utah      3\n",
       "51              New York      0"
      ]
     },
     "execution_count": 272,
     "metadata": {},
     "output_type": "execute_result"
    }
   ],
   "source": [
    "vote_per_state = pd.read_csv(\"/home/jovyan/work/Electoral_census/Sanjay/Data/electoral-college-votes-by-state.csv\")\n",
    "vote_per_state[\"State\"] = normal_names[1:]\n",
    "vote_per_state"
   ]
  },
  {
   "cell_type": "code",
   "execution_count": 273,
   "metadata": {
    "cell_id": "00006-8d5ddc40-7481-47e7-b0fc-a25fae83e6bc",
    "execution_millis": 1,
    "execution_start": 1605404692054,
    "output_cleared": false,
    "source_hash": "d6cbf369",
    "tags": []
   },
   "outputs": [
    {
     "data": {
      "application/vnd.deepnote.dataframe.v2+json": {
       "column_count": 2,
       "columns": [
        {
         "dtype": "object",
         "name": "State",
         "stats": {
          "categories": [
           {
            "count": 1,
            "name": "Alaska"
           },
           {
            "count": 1,
            "name": "Maine"
           },
           {
            "count": 50,
            "name": "50 others"
           }
          ],
          "nan_count": 0,
          "unique_count": 52
         }
        },
        {
         "dtype": "float64",
         "name": "Vote",
         "stats": {
          "histogram": [
           {
            "bin_end": 5.271430097368863e-06,
            "bin_start": 0,
            "count": 38
           },
           {
            "bin_end": 1.0542860194737726e-05,
            "bin_start": 5.271430097368863e-06,
            "count": 7
           },
           {
            "bin_end": 1.5814290292106588e-05,
            "bin_start": 1.0542860194737726e-05,
            "count": 0
           },
           {
            "bin_end": 2.108572038947545e-05,
            "bin_start": 1.5814290292106588e-05,
            "count": 4
           },
           {
            "bin_end": 2.6357150486844315e-05,
            "bin_start": 2.108572038947545e-05,
            "count": 1
           },
           {
            "bin_end": 3.1628580584213175e-05,
            "bin_start": 2.6357150486844315e-05,
            "count": 1
           },
           {
            "bin_end": 3.690001068158204e-05,
            "bin_start": 3.1628580584213175e-05,
            "count": 0
           },
           {
            "bin_end": 4.21714407789509e-05,
            "bin_start": 3.690001068158204e-05,
            "count": 0
           },
           {
            "bin_end": 4.7442870876319766e-05,
            "bin_start": 4.21714407789509e-05,
            "count": 0
           },
           {
            "bin_end": 5.271430097368863e-05,
            "bin_start": 4.7442870876319766e-05,
            "count": 1
           }
          ],
          "max": 5.271430097368863e-05,
          "min": 0,
          "nan_count": 0,
          "unique_count": 52
         }
        },
        {
         "dtype": "int64",
         "name": "_deepnote_index_column"
        }
       ],
       "row_count": 52,
       "rows_bottom": null,
       "rows_top": [
        {
         "State": "Alaska",
         "Vote": 1.690953773081519e-05,
         "_deepnote_index_column": 0
        },
        {
         "State": "Maine",
         "Vote": 2.802007358071322e-06,
         "_deepnote_index_column": 1
        },
        {
         "State": "North Carolina",
         "Vote": 1.4417342752663932e-06,
         "_deepnote_index_column": 2
        },
        {
         "State": "Missouri",
         "Vote": 1.294953780941302e-06,
         "_deepnote_index_column": 3
        },
        {
         "State": "Pennsylvania",
         "Vote": 5.623025040250636e-06,
         "_deepnote_index_column": 4
        },
        {
         "State": "Michigan",
         "Vote": 1.193178518862429e-06,
         "_deepnote_index_column": 5
        },
        {
         "State": "Nebraska",
         "Vote": 5.071508266558475e-06,
         "_deepnote_index_column": 6
        },
        {
         "State": "Oregon",
         "Vote": 9.683132402956455e-07,
         "_deepnote_index_column": 7
        },
        {
         "State": "Wyoming",
         "Vote": 6.91811716523231e-06,
         "_deepnote_index_column": 8
        },
        {
         "State": "California",
         "Vote": 1.1223418397814452e-06,
         "_deepnote_index_column": 9
        },
        {
         "State": "Mississippi",
         "Vote": 7.140759544740875e-06,
         "_deepnote_index_column": 10
        },
        {
         "State": "Connecticut",
         "Vote": 1.5300082429194087e-06,
         "_deepnote_index_column": 11
        },
        {
         "State": "Texas",
         "Vote": 2.161889413519397e-07,
         "_deepnote_index_column": 12
        },
        {
         "State": "Idaho",
         "Vote": 1.596916035751756e-05,
         "_deepnote_index_column": 13
        },
        {
         "State": "Maryland",
         "Vote": 2.5462078863002443e-06,
         "_deepnote_index_column": 14
        },
        {
         "State": "New Mexico",
         "Vote": 3.98040578910218e-06,
         "_deepnote_index_column": 15
        },
        {
         "State": "Alabama",
         "Vote": 1.616287000850167e-06,
         "_deepnote_index_column": 16
        },
        {
         "State": "Tennessee",
         "Vote": 1.5763031199373576e-06,
         "_deepnote_index_column": 17
        },
        {
         "State": "Vermont",
         "Vote": 1.5991236802232377e-05,
         "_deepnote_index_column": 18
        },
        {
         "State": "Nevada",
         "Vote": 1.9275566388423866e-06,
         "_deepnote_index_column": 19
        },
        {
         "State": "West Virginia",
         "Vote": 6.987348706432134e-06,
         "_deepnote_index_column": 20
        },
        {
         "State": "Oklahoma",
         "Vote": 3.856043383993564e-06,
         "_deepnote_index_column": 21
        },
        {
         "State": "Wisconsin",
         "Vote": 3.634914627214515e-06,
         "_deepnote_index_column": 22
        },
        {
         "State": "Puerto Rico",
         "Vote": 3.904279558910113e-06,
         "_deepnote_index_column": 23
        },
        {
         "State": "Kansas",
         "Vote": 2.8687352798020957e-06,
         "_deepnote_index_column": 24
        },
        {
         "State": "Virginia",
         "Vote": 1.6093507138918832e-06,
         "_deepnote_index_column": 25
        },
        {
         "State": "North Dakota",
         "Vote": 5.287731933141918e-06,
         "_deepnote_index_column": 26
        },
        {
         "State": "New Jersey",
         "Vote": 8.06668372501385e-07,
         "_deepnote_index_column": 27
        },
        {
         "State": "Ohio",
         "Vote": 6.769014160777625e-07,
         "_deepnote_index_column": 28
        },
        {
         "State": "South Carolina",
         "Vote": 1.038940260155836e-06,
         "_deepnote_index_column": 29
        },
        {
         "State": "Georgia",
         "Vote": 1.869958042148587e-06,
         "_deepnote_index_column": 30
        },
        {
         "State": "Colorado",
         "Vote": 1.2045174221399937e-06,
         "_deepnote_index_column": 31
        },
        {
         "State": "Hawaii",
         "Vote": 2.8529098696908825e-05,
         "_deepnote_index_column": 32
        },
        {
         "State": "South Dakota",
         "Vote": 2.3180737116532656e-05,
         "_deepnote_index_column": 33
        },
        {
         "State": "Indiana",
         "Vote": 6.078805636268586e-07,
         "_deepnote_index_column": 34
        },
        {
         "State": "Kentucky",
         "Vote": 5.342960160217565e-06,
         "_deepnote_index_column": 35
        },
        {
         "State": "Louisiana",
         "Vote": 2.0236600551765367e-06,
         "_deepnote_index_column": 36
        },
        {
         "State": "Washington",
         "Vote": 1.3070579823991573e-06,
         "_deepnote_index_column": 37
        },
        {
         "State": "Illinois",
         "Vote": 2.2039135774961027e-06,
         "_deepnote_index_column": 38
        },
        {
         "State": "Iowa",
         "Vote": 1.7187896798711252e-06,
         "_deepnote_index_column": 39
        },
        {
         "State": "New Hampshire",
         "Vote": 8.412693071305987e-06,
         "_deepnote_index_column": 40
        },
        {
         "State": "Rhode Island",
         "Vote": 3.7356318260889057e-06,
         "_deepnote_index_column": 41
        },
        {
         "State": "Arkansas",
         "Vote": 4.945794096700166e-06,
         "_deepnote_index_column": 42
        },
        {
         "State": "Delaware",
         "Vote": 5.271430097368863e-05,
         "_deepnote_index_column": 43
        },
        {
         "State": "Minnesota",
         "Vote": 1.4609509719463325e-06,
         "_deepnote_index_column": 44
        },
        {
         "State": "Montana",
         "Vote": 3.6422442051894696e-06,
         "_deepnote_index_column": 45
        },
        {
         "State": "Arizona",
         "Vote": 2.5815312094215562e-06,
         "_deepnote_index_column": 46
        },
        {
         "State": "Florida",
         "Vote": 7.828904511177881e-07,
         "_deepnote_index_column": 47
        },
        {
         "State": "Massachusetts",
         "Vote": 9.928901124825352e-07,
         "_deepnote_index_column": 48
        },
        {
         "State": "District of Columbia",
         "Vote": 1.8997213108836934e-05,
         "_deepnote_index_column": 49
        },
        {
         "State": "Utah",
         "Vote": 1.4372352193532345e-06,
         "_deepnote_index_column": 50
        },
        {
         "State": "New York",
         "Vote": 0,
         "_deepnote_index_column": 51
        }
       ]
      },
      "text/html": [
       "<div>\n",
       "<style scoped>\n",
       "    .dataframe tbody tr th:only-of-type {\n",
       "        vertical-align: middle;\n",
       "    }\n",
       "\n",
       "    .dataframe tbody tr th {\n",
       "        vertical-align: top;\n",
       "    }\n",
       "\n",
       "    .dataframe thead th {\n",
       "        text-align: right;\n",
       "    }\n",
       "</style>\n",
       "<table border=\"1\" class=\"dataframe\">\n",
       "  <thead>\n",
       "    <tr style=\"text-align: right;\">\n",
       "      <th></th>\n",
       "      <th>State</th>\n",
       "      <th>Vote</th>\n",
       "    </tr>\n",
       "  </thead>\n",
       "  <tbody>\n",
       "    <tr>\n",
       "      <th>0</th>\n",
       "      <td>Alaska</td>\n",
       "      <td>1.690954e-05</td>\n",
       "    </tr>\n",
       "    <tr>\n",
       "      <th>1</th>\n",
       "      <td>Maine</td>\n",
       "      <td>2.802007e-06</td>\n",
       "    </tr>\n",
       "    <tr>\n",
       "      <th>2</th>\n",
       "      <td>North Carolina</td>\n",
       "      <td>1.441734e-06</td>\n",
       "    </tr>\n",
       "    <tr>\n",
       "      <th>3</th>\n",
       "      <td>Missouri</td>\n",
       "      <td>1.294954e-06</td>\n",
       "    </tr>\n",
       "    <tr>\n",
       "      <th>4</th>\n",
       "      <td>Pennsylvania</td>\n",
       "      <td>5.623025e-06</td>\n",
       "    </tr>\n",
       "    <tr>\n",
       "      <th>5</th>\n",
       "      <td>Michigan</td>\n",
       "      <td>1.193179e-06</td>\n",
       "    </tr>\n",
       "    <tr>\n",
       "      <th>6</th>\n",
       "      <td>Nebraska</td>\n",
       "      <td>5.071508e-06</td>\n",
       "    </tr>\n",
       "    <tr>\n",
       "      <th>7</th>\n",
       "      <td>Oregon</td>\n",
       "      <td>9.683132e-07</td>\n",
       "    </tr>\n",
       "    <tr>\n",
       "      <th>8</th>\n",
       "      <td>Wyoming</td>\n",
       "      <td>6.918117e-06</td>\n",
       "    </tr>\n",
       "    <tr>\n",
       "      <th>9</th>\n",
       "      <td>California</td>\n",
       "      <td>1.122342e-06</td>\n",
       "    </tr>\n",
       "    <tr>\n",
       "      <th>10</th>\n",
       "      <td>Mississippi</td>\n",
       "      <td>7.140760e-06</td>\n",
       "    </tr>\n",
       "    <tr>\n",
       "      <th>11</th>\n",
       "      <td>Connecticut</td>\n",
       "      <td>1.530008e-06</td>\n",
       "    </tr>\n",
       "    <tr>\n",
       "      <th>12</th>\n",
       "      <td>Texas</td>\n",
       "      <td>2.161889e-07</td>\n",
       "    </tr>\n",
       "    <tr>\n",
       "      <th>13</th>\n",
       "      <td>Idaho</td>\n",
       "      <td>1.596916e-05</td>\n",
       "    </tr>\n",
       "    <tr>\n",
       "      <th>14</th>\n",
       "      <td>Maryland</td>\n",
       "      <td>2.546208e-06</td>\n",
       "    </tr>\n",
       "    <tr>\n",
       "      <th>15</th>\n",
       "      <td>New Mexico</td>\n",
       "      <td>3.980406e-06</td>\n",
       "    </tr>\n",
       "    <tr>\n",
       "      <th>16</th>\n",
       "      <td>Alabama</td>\n",
       "      <td>1.616287e-06</td>\n",
       "    </tr>\n",
       "    <tr>\n",
       "      <th>17</th>\n",
       "      <td>Tennessee</td>\n",
       "      <td>1.576303e-06</td>\n",
       "    </tr>\n",
       "    <tr>\n",
       "      <th>18</th>\n",
       "      <td>Vermont</td>\n",
       "      <td>1.599124e-05</td>\n",
       "    </tr>\n",
       "    <tr>\n",
       "      <th>19</th>\n",
       "      <td>Nevada</td>\n",
       "      <td>1.927557e-06</td>\n",
       "    </tr>\n",
       "    <tr>\n",
       "      <th>20</th>\n",
       "      <td>West Virginia</td>\n",
       "      <td>6.987349e-06</td>\n",
       "    </tr>\n",
       "    <tr>\n",
       "      <th>21</th>\n",
       "      <td>Oklahoma</td>\n",
       "      <td>3.856043e-06</td>\n",
       "    </tr>\n",
       "    <tr>\n",
       "      <th>22</th>\n",
       "      <td>Wisconsin</td>\n",
       "      <td>3.634915e-06</td>\n",
       "    </tr>\n",
       "    <tr>\n",
       "      <th>23</th>\n",
       "      <td>Puerto Rico</td>\n",
       "      <td>3.904280e-06</td>\n",
       "    </tr>\n",
       "    <tr>\n",
       "      <th>24</th>\n",
       "      <td>Kansas</td>\n",
       "      <td>2.868735e-06</td>\n",
       "    </tr>\n",
       "    <tr>\n",
       "      <th>25</th>\n",
       "      <td>Virginia</td>\n",
       "      <td>1.609351e-06</td>\n",
       "    </tr>\n",
       "    <tr>\n",
       "      <th>26</th>\n",
       "      <td>North Dakota</td>\n",
       "      <td>5.287732e-06</td>\n",
       "    </tr>\n",
       "    <tr>\n",
       "      <th>27</th>\n",
       "      <td>New Jersey</td>\n",
       "      <td>8.066684e-07</td>\n",
       "    </tr>\n",
       "    <tr>\n",
       "      <th>28</th>\n",
       "      <td>Ohio</td>\n",
       "      <td>6.769014e-07</td>\n",
       "    </tr>\n",
       "    <tr>\n",
       "      <th>29</th>\n",
       "      <td>South Carolina</td>\n",
       "      <td>1.038940e-06</td>\n",
       "    </tr>\n",
       "    <tr>\n",
       "      <th>30</th>\n",
       "      <td>Georgia</td>\n",
       "      <td>1.869958e-06</td>\n",
       "    </tr>\n",
       "    <tr>\n",
       "      <th>31</th>\n",
       "      <td>Colorado</td>\n",
       "      <td>1.204517e-06</td>\n",
       "    </tr>\n",
       "    <tr>\n",
       "      <th>32</th>\n",
       "      <td>Hawaii</td>\n",
       "      <td>2.852910e-05</td>\n",
       "    </tr>\n",
       "    <tr>\n",
       "      <th>33</th>\n",
       "      <td>South Dakota</td>\n",
       "      <td>2.318074e-05</td>\n",
       "    </tr>\n",
       "    <tr>\n",
       "      <th>34</th>\n",
       "      <td>Indiana</td>\n",
       "      <td>6.078806e-07</td>\n",
       "    </tr>\n",
       "    <tr>\n",
       "      <th>35</th>\n",
       "      <td>Kentucky</td>\n",
       "      <td>5.342960e-06</td>\n",
       "    </tr>\n",
       "    <tr>\n",
       "      <th>36</th>\n",
       "      <td>Louisiana</td>\n",
       "      <td>2.023660e-06</td>\n",
       "    </tr>\n",
       "    <tr>\n",
       "      <th>37</th>\n",
       "      <td>Washington</td>\n",
       "      <td>1.307058e-06</td>\n",
       "    </tr>\n",
       "    <tr>\n",
       "      <th>38</th>\n",
       "      <td>Illinois</td>\n",
       "      <td>2.203914e-06</td>\n",
       "    </tr>\n",
       "    <tr>\n",
       "      <th>39</th>\n",
       "      <td>Iowa</td>\n",
       "      <td>1.718790e-06</td>\n",
       "    </tr>\n",
       "    <tr>\n",
       "      <th>40</th>\n",
       "      <td>New Hampshire</td>\n",
       "      <td>8.412693e-06</td>\n",
       "    </tr>\n",
       "    <tr>\n",
       "      <th>41</th>\n",
       "      <td>Rhode Island</td>\n",
       "      <td>3.735632e-06</td>\n",
       "    </tr>\n",
       "    <tr>\n",
       "      <th>42</th>\n",
       "      <td>Arkansas</td>\n",
       "      <td>4.945794e-06</td>\n",
       "    </tr>\n",
       "    <tr>\n",
       "      <th>43</th>\n",
       "      <td>Delaware</td>\n",
       "      <td>5.271430e-05</td>\n",
       "    </tr>\n",
       "    <tr>\n",
       "      <th>44</th>\n",
       "      <td>Minnesota</td>\n",
       "      <td>1.460951e-06</td>\n",
       "    </tr>\n",
       "    <tr>\n",
       "      <th>45</th>\n",
       "      <td>Montana</td>\n",
       "      <td>3.642244e-06</td>\n",
       "    </tr>\n",
       "    <tr>\n",
       "      <th>46</th>\n",
       "      <td>Arizona</td>\n",
       "      <td>2.581531e-06</td>\n",
       "    </tr>\n",
       "    <tr>\n",
       "      <th>47</th>\n",
       "      <td>Florida</td>\n",
       "      <td>7.828905e-07</td>\n",
       "    </tr>\n",
       "    <tr>\n",
       "      <th>48</th>\n",
       "      <td>Massachusetts</td>\n",
       "      <td>9.928901e-07</td>\n",
       "    </tr>\n",
       "    <tr>\n",
       "      <th>49</th>\n",
       "      <td>District of Columbia</td>\n",
       "      <td>1.899721e-05</td>\n",
       "    </tr>\n",
       "    <tr>\n",
       "      <th>50</th>\n",
       "      <td>Utah</td>\n",
       "      <td>1.437235e-06</td>\n",
       "    </tr>\n",
       "    <tr>\n",
       "      <th>51</th>\n",
       "      <td>New York</td>\n",
       "      <td>0.000000e+00</td>\n",
       "    </tr>\n",
       "  </tbody>\n",
       "</table>\n",
       "</div>"
      ],
      "text/plain": [
       "                   State          Vote\n",
       "0                 Alaska  1.690954e-05\n",
       "1                  Maine  2.802007e-06\n",
       "2         North Carolina  1.441734e-06\n",
       "3               Missouri  1.294954e-06\n",
       "4           Pennsylvania  5.623025e-06\n",
       "5               Michigan  1.193179e-06\n",
       "6               Nebraska  5.071508e-06\n",
       "7                 Oregon  9.683132e-07\n",
       "8                Wyoming  6.918117e-06\n",
       "9             California  1.122342e-06\n",
       "10           Mississippi  7.140760e-06\n",
       "11           Connecticut  1.530008e-06\n",
       "12                 Texas  2.161889e-07\n",
       "13                 Idaho  1.596916e-05\n",
       "14              Maryland  2.546208e-06\n",
       "15            New Mexico  3.980406e-06\n",
       "16               Alabama  1.616287e-06\n",
       "17             Tennessee  1.576303e-06\n",
       "18               Vermont  1.599124e-05\n",
       "19                Nevada  1.927557e-06\n",
       "20         West Virginia  6.987349e-06\n",
       "21              Oklahoma  3.856043e-06\n",
       "22             Wisconsin  3.634915e-06\n",
       "23           Puerto Rico  3.904280e-06\n",
       "24                Kansas  2.868735e-06\n",
       "25              Virginia  1.609351e-06\n",
       "26          North Dakota  5.287732e-06\n",
       "27            New Jersey  8.066684e-07\n",
       "28                  Ohio  6.769014e-07\n",
       "29        South Carolina  1.038940e-06\n",
       "30               Georgia  1.869958e-06\n",
       "31              Colorado  1.204517e-06\n",
       "32                Hawaii  2.852910e-05\n",
       "33          South Dakota  2.318074e-05\n",
       "34               Indiana  6.078806e-07\n",
       "35              Kentucky  5.342960e-06\n",
       "36             Louisiana  2.023660e-06\n",
       "37            Washington  1.307058e-06\n",
       "38              Illinois  2.203914e-06\n",
       "39                  Iowa  1.718790e-06\n",
       "40         New Hampshire  8.412693e-06\n",
       "41          Rhode Island  3.735632e-06\n",
       "42              Arkansas  4.945794e-06\n",
       "43              Delaware  5.271430e-05\n",
       "44             Minnesota  1.460951e-06\n",
       "45               Montana  3.642244e-06\n",
       "46               Arizona  2.581531e-06\n",
       "47               Florida  7.828905e-07\n",
       "48         Massachusetts  9.928901e-07\n",
       "49  District of Columbia  1.899721e-05\n",
       "50                  Utah  1.437235e-06\n",
       "51              New York  0.000000e+00"
      ]
     },
     "execution_count": 273,
     "metadata": {},
     "output_type": "execute_result"
    }
   ],
   "source": [
    "pop_per_vote = (vote_per_state[\"Votes\"] / total_pop[\"Voting Population\"])\n",
    "pop_per_vote = pd.DataFrame({\"State\": normal_names[1:], \"Vote\": pop_per_vote.values})\n",
    "pop_per_vote"
   ]
  },
  {
   "cell_type": "code",
   "execution_count": 274,
   "metadata": {
    "cell_id": "00007-69d00a06-c39d-4d46-80dd-6ac78898414a",
    "execution_millis": 17,
    "execution_start": 1605404692210,
    "output_cleared": false,
    "source_hash": "1eb45364",
    "tags": []
   },
   "outputs": [
    {
     "data": {
      "application/vnd.deepnote.dataframe.v2+json": {
       "column_count": 53,
       "columns": [
        {
         "dtype": "object",
         "name": "Label",
         "stats": {
          "categories": [
           {
            "count": 1,
            "name": "Citizens 18 years and over"
           },
           {
            "count": 1,
            "name": "        18 to 29 years"
           },
           {
            "count": 26,
            "name": "26 others"
           }
          ],
          "nan_count": 0,
          "unique_count": 28
         }
        },
        {
         "dtype": "float64",
         "name": "Alaska",
         "stats": {
          "histogram": [
           {
            "bin_end": 0.9657442826974093,
            "bin_start": 0.07304920299712163,
            "count": 11
           },
           {
            "bin_end": 1.8584393623976971,
            "bin_start": 0.9657442826974093,
            "count": 3
           },
           {
            "bin_end": 2.7511344420979844,
            "bin_start": 1.8584393623976971,
            "count": 5
           },
           {
            "bin_end": 3.6438295217982724,
            "bin_start": 2.7511344420979844,
            "count": 1
           },
           {
            "bin_end": 4.53652460149856,
            "bin_start": 3.6438295217982724,
            "count": 1
           },
           {
            "bin_end": 5.429219681198847,
            "bin_start": 4.53652460149856,
            "count": 1
           },
           {
            "bin_end": 6.321914760899135,
            "bin_start": 5.429219681198847,
            "count": 2
           },
           {
            "bin_end": 7.214609840599423,
            "bin_start": 6.321914760899135,
            "count": 0
           },
           {
            "bin_end": 8.107304920299711,
            "bin_start": 7.214609840599423,
            "count": 1
           },
           {
            "bin_end": 9,
            "bin_start": 8.107304920299711,
            "count": 3
           }
          ],
          "max": 9,
          "min": 0.07304920299712163,
          "nan_count": 0,
          "unique_count": 28
         }
        },
        {
         "dtype": "float64",
         "name": "Maine",
         "stats": {
          "histogram": [
           {
            "bin_end": 0.3,
            "bin_start": 0,
            "count": 10
           },
           {
            "bin_end": 0.6,
            "bin_start": 0.3,
            "count": 4
           },
           {
            "bin_end": 0.8999999999999999,
            "bin_start": 0.6,
            "count": 4
           },
           {
            "bin_end": 1.2,
            "bin_start": 0.8999999999999999,
            "count": 2
           },
           {
            "bin_end": 1.5,
            "bin_start": 1.2,
            "count": 1
           },
           {
            "bin_end": 1.7999999999999998,
            "bin_start": 1.5,
            "count": 1
           },
           {
            "bin_end": 2.1,
            "bin_start": 1.7999999999999998,
            "count": 0
           },
           {
            "bin_end": 2.4,
            "bin_start": 2.1,
            "count": 0
           },
           {
            "bin_end": 2.6999999999999997,
            "bin_start": 2.4,
            "count": 1
           },
           {
            "bin_end": 3,
            "bin_start": 2.6999999999999997,
            "count": 5
           }
          ],
          "max": 3,
          "min": 0,
          "nan_count": 0,
          "unique_count": 27
         }
        },
        {
         "dtype": "float64",
         "name": "North Carolina",
         "stats": {
          "histogram": [
           {
            "bin_end": 1.1074051797580509,
            "bin_start": 0.008227977508945305,
            "count": 9
           },
           {
            "bin_end": 2.206582382007156,
            "bin_start": 1.1074051797580509,
            "count": 3
           },
           {
            "bin_end": 3.3057595842562617,
            "bin_start": 2.206582382007156,
            "count": 7
           },
           {
            "bin_end": 4.404936786505368,
            "bin_start": 3.3057595842562617,
            "count": 1
           },
           {
            "bin_end": 5.504113988754473,
            "bin_start": 4.404936786505368,
            "count": 1
           },
           {
            "bin_end": 6.603291191003579,
            "bin_start": 5.504113988754473,
            "count": 1
           },
           {
            "bin_end": 7.702468393252684,
            "bin_start": 6.603291191003579,
            "count": 1
           },
           {
            "bin_end": 8.801645595501789,
            "bin_start": 7.702468393252684,
            "count": 1
           },
           {
            "bin_end": 9.900822797750894,
            "bin_start": 8.801645595501789,
            "count": 2
           },
           {
            "bin_end": 11,
            "bin_start": 9.900822797750894,
            "count": 2
           }
          ],
          "max": 11,
          "min": 0.008227977508945305,
          "nan_count": 0,
          "unique_count": 28
         }
        },
        {
         "dtype": "float64",
         "name": "Missouri",
         "stats": {
          "histogram": [
           {
            "bin_end": 0.6046047261496492,
            "bin_start": 0.005116362388499084,
            "count": 10
           },
           {
            "bin_end": 1.2040930899107993,
            "bin_start": 0.6046047261496492,
            "count": 3
           },
           {
            "bin_end": 1.8035814536719494,
            "bin_start": 1.2040930899107993,
            "count": 5
           },
           {
            "bin_end": 2.4030698174330993,
            "bin_start": 1.8035814536719494,
            "count": 2
           },
           {
            "bin_end": 3.0025581811942494,
            "bin_start": 2.4030698174330993,
            "count": 1
           },
           {
            "bin_end": 3.6020465449553996,
            "bin_start": 3.0025581811942494,
            "count": 1
           },
           {
            "bin_end": 4.20153490871655,
            "bin_start": 3.6020465449553996,
            "count": 0
           },
           {
            "bin_end": 4.8010232724777,
            "bin_start": 4.20153490871655,
            "count": 0
           },
           {
            "bin_end": 5.40051163623885,
            "bin_start": 4.8010232724777,
            "count": 3
           },
           {
            "bin_end": 6,
            "bin_start": 5.40051163623885,
            "count": 3
           }
          ],
          "max": 6,
          "min": 0.005116362388499084,
          "nan_count": 0,
          "unique_count": 28
         }
        },
        {
         "dtype": "float64",
         "name": "Pennsylvania",
         "stats": {
          "histogram": [
           {
            "bin_end": 5.5,
            "bin_start": 0,
            "count": 9
           },
           {
            "bin_end": 11,
            "bin_start": 5.5,
            "count": 6
           },
           {
            "bin_end": 16.5,
            "bin_start": 11,
            "count": 3
           },
           {
            "bin_end": 22,
            "bin_start": 16.5,
            "count": 2
           },
           {
            "bin_end": 27.5,
            "bin_start": 22,
            "count": 1
           },
           {
            "bin_end": 33,
            "bin_start": 27.5,
            "count": 1
           },
           {
            "bin_end": 38.5,
            "bin_start": 33,
            "count": 0
           },
           {
            "bin_end": 44,
            "bin_start": 38.5,
            "count": 0
           },
           {
            "bin_end": 49.5,
            "bin_start": 44,
            "count": 3
           },
           {
            "bin_end": 55,
            "bin_start": 49.5,
            "count": 3
           }
          ],
          "max": 55,
          "min": 0,
          "nan_count": 0,
          "unique_count": 28
         }
        },
        {
         "dtype": "float64",
         "name": "Michigan",
         "stats": {
          "histogram": [
           {
            "bin_end": 0.903116343655565,
            "bin_start": 0.003462604061738769,
            "count": 10
           },
           {
            "bin_end": 1.8027700832493911,
            "bin_start": 0.903116343655565,
            "count": 3
           },
           {
            "bin_end": 2.7024238228432176,
            "bin_start": 1.8027700832493911,
            "count": 6
           },
           {
            "bin_end": 3.6020775624370436,
            "bin_start": 2.7024238228432176,
            "count": 1
           },
           {
            "bin_end": 4.50173130203087,
            "bin_start": 3.6020775624370436,
            "count": 1
           },
           {
            "bin_end": 5.401385041624697,
            "bin_start": 4.50173130203087,
            "count": 1
           },
           {
            "bin_end": 6.301038781218523,
            "bin_start": 5.401385041624697,
            "count": 0
           },
           {
            "bin_end": 7.200692520812349,
            "bin_start": 6.301038781218523,
            "count": 1
           },
           {
            "bin_end": 8.100346260406175,
            "bin_start": 7.200692520812349,
            "count": 2
           },
           {
            "bin_end": 9,
            "bin_start": 8.100346260406175,
            "count": 3
           }
          ],
          "max": 9,
          "min": 0.003462604061738769,
          "nan_count": 0,
          "unique_count": 28
         }
        },
        {
         "dtype": "float64",
         "name": "Nebraska",
         "stats": {
          "histogram": [
           {
            "bin_end": 0.7000000000000001,
            "bin_start": 0,
            "count": 11
           },
           {
            "bin_end": 1.4000000000000001,
            "bin_start": 0.7000000000000001,
            "count": 1
           },
           {
            "bin_end": 2.1,
            "bin_start": 1.4000000000000001,
            "count": 6
           },
           {
            "bin_end": 2.8000000000000003,
            "bin_start": 2.1,
            "count": 2
           },
           {
            "bin_end": 3.5000000000000004,
            "bin_start": 2.8000000000000003,
            "count": 1
           },
           {
            "bin_end": 4.2,
            "bin_start": 3.5000000000000004,
            "count": 1
           },
           {
            "bin_end": 4.9,
            "bin_start": 4.2,
            "count": 0
           },
           {
            "bin_end": 5.6000000000000005,
            "bin_start": 4.9,
            "count": 0
           },
           {
            "bin_end": 6.300000000000001,
            "bin_start": 5.6000000000000005,
            "count": 2
           },
           {
            "bin_end": 7.000000000000001,
            "bin_start": 6.300000000000001,
            "count": 4
           }
          ],
          "max": 7.000000000000001,
          "min": 0,
          "nan_count": 0,
          "unique_count": 28
         }
        },
        {
         "dtype": "float64",
         "name": "Oregon",
         "stats": {
          "histogram": [
           {
            "bin_end": 0.30799671806365764,
            "bin_start": 0.008885242292952842,
            "count": 10
           },
           {
            "bin_end": 0.6071081938343624,
            "bin_start": 0.30799671806365764,
            "count": 3
           },
           {
            "bin_end": 0.9062196696050673,
            "bin_start": 0.6071081938343624,
            "count": 5
           },
           {
            "bin_end": 1.205331145375772,
            "bin_start": 0.9062196696050673,
            "count": 2
           },
           {
            "bin_end": 1.5044426211464768,
            "bin_start": 1.205331145375772,
            "count": 1
           },
           {
            "bin_end": 1.8035540969171817,
            "bin_start": 1.5044426211464768,
            "count": 1
           },
           {
            "bin_end": 2.102665572687886,
            "bin_start": 1.8035540969171817,
            "count": 0
           },
           {
            "bin_end": 2.401777048458591,
            "bin_start": 2.102665572687886,
            "count": 0
           },
           {
            "bin_end": 2.700888524229296,
            "bin_start": 2.401777048458591,
            "count": 3
           },
           {
            "bin_end": 3.0000000000000004,
            "bin_start": 2.700888524229296,
            "count": 3
           }
          ],
          "max": 3.0000000000000004,
          "min": 0.008885242292952842,
          "nan_count": 0,
          "unique_count": 28
         }
        },
        {
         "dtype": "float64",
         "name": "Wyoming",
         "stats": {
          "histogram": [
           {
            "bin_end": 0.3,
            "bin_start": 0,
            "count": 10
           },
           {
            "bin_end": 0.6,
            "bin_start": 0.3,
            "count": 3
           },
           {
            "bin_end": 0.8999999999999999,
            "bin_start": 0.6,
            "count": 6
           },
           {
            "bin_end": 1.2,
            "bin_start": 0.8999999999999999,
            "count": 1
           },
           {
            "bin_end": 1.5,
            "bin_start": 1.2,
            "count": 1
           },
           {
            "bin_end": 1.7999999999999998,
            "bin_start": 1.5,
            "count": 1
           },
           {
            "bin_end": 2.1,
            "bin_start": 1.7999999999999998,
            "count": 0
           },
           {
            "bin_end": 2.4,
            "bin_start": 2.1,
            "count": 0
           },
           {
            "bin_end": 2.6999999999999997,
            "bin_start": 2.4,
            "count": 2
           },
           {
            "bin_end": 3,
            "bin_start": 2.6999999999999997,
            "count": 4
           }
          ],
          "max": 3,
          "min": 0,
          "nan_count": 0,
          "unique_count": 25
         }
        },
        {
         "dtype": "float64",
         "name": "California",
         "stats": {
          "histogram": [
           {
            "bin_end": 2.9800974966745786,
            "bin_start": 0.08899721852730948,
            "count": 8
           },
           {
            "bin_end": 5.871197774821847,
            "bin_start": 2.9800974966745786,
            "count": 4
           },
           {
            "bin_end": 8.762298052969117,
            "bin_start": 5.871197774821847,
            "count": 5
           },
           {
            "bin_end": 11.653398331116385,
            "bin_start": 8.762298052969117,
            "count": 3
           },
           {
            "bin_end": 14.544498609263654,
            "bin_start": 11.653398331116385,
            "count": 2
           },
           {
            "bin_end": 17.435598887410926,
            "bin_start": 14.544498609263654,
            "count": 1
           },
           {
            "bin_end": 20.326699165558193,
            "bin_start": 17.435598887410926,
            "count": 1
           },
           {
            "bin_end": 23.217799443705463,
            "bin_start": 20.326699165558193,
            "count": 0
           },
           {
            "bin_end": 26.108899721852733,
            "bin_start": 23.217799443705463,
            "count": 2
           },
           {
            "bin_end": 29,
            "bin_start": 26.108899721852733,
            "count": 2
           }
          ],
          "max": 29,
          "min": 0.08899721852730948,
          "nan_count": 0,
          "unique_count": 28
         }
        },
        {
         "dtype": "float64",
         "name": "Mississippi",
         "stats": {
          "histogram": [
           {
            "bin_end": 1.6,
            "bin_start": 0,
            "count": 9
           },
           {
            "bin_end": 3.2,
            "bin_start": 1.6,
            "count": 3
           },
           {
            "bin_end": 4.800000000000001,
            "bin_start": 3.2,
            "count": 6
           },
           {
            "bin_end": 6.4,
            "bin_start": 4.800000000000001,
            "count": 2
           },
           {
            "bin_end": 8,
            "bin_start": 6.4,
            "count": 1
           },
           {
            "bin_end": 9.600000000000001,
            "bin_start": 8,
            "count": 2
           },
           {
            "bin_end": 11.200000000000001,
            "bin_start": 9.600000000000001,
            "count": 1
           },
           {
            "bin_end": 12.8,
            "bin_start": 11.200000000000001,
            "count": 1
           },
           {
            "bin_end": 14.4,
            "bin_start": 12.8,
            "count": 1
           },
           {
            "bin_end": 16,
            "bin_start": 14.4,
            "count": 2
           }
          ],
          "max": 16,
          "min": 0,
          "nan_count": 0,
          "unique_count": 28
         }
        },
        {
         "dtype": "float64",
         "name": "Connecticut",
         "stats": {
          "histogram": [
           {
            "bin_end": 0.4,
            "bin_start": 0,
            "count": 9
           },
           {
            "bin_end": 0.8,
            "bin_start": 0.4,
            "count": 4
           },
           {
            "bin_end": 1.2000000000000002,
            "bin_start": 0.8,
            "count": 5
           },
           {
            "bin_end": 1.6,
            "bin_start": 1.2000000000000002,
            "count": 2
           },
           {
            "bin_end": 2,
            "bin_start": 1.6,
            "count": 1
           },
           {
            "bin_end": 2.4000000000000004,
            "bin_start": 2,
            "count": 1
           },
           {
            "bin_end": 2.8000000000000003,
            "bin_start": 2.4000000000000004,
            "count": 0
           },
           {
            "bin_end": 3.2,
            "bin_start": 2.8000000000000003,
            "count": 1
           },
           {
            "bin_end": 3.6,
            "bin_start": 3.2,
            "count": 2
           },
           {
            "bin_end": 4,
            "bin_start": 3.6,
            "count": 3
           }
          ],
          "max": 4,
          "min": 0,
          "nan_count": 0,
          "unique_count": 28
         }
        },
        {
         "dtype": "float64",
         "name": "Texas",
         "stats": {
          "histogram": [
           {
            "bin_end": 0.4029848990943521,
            "bin_start": 0.003316554549280107,
            "count": 9
           },
           {
            "bin_end": 0.8026532436394241,
            "bin_start": 0.4029848990943521,
            "count": 4
           },
           {
            "bin_end": 1.2023215881844962,
            "bin_start": 0.8026532436394241,
            "count": 5
           },
           {
            "bin_end": 1.6019899327295681,
            "bin_start": 1.2023215881844962,
            "count": 2
           },
           {
            "bin_end": 2.00165827727464,
            "bin_start": 1.6019899327295681,
            "count": 1
           },
           {
            "bin_end": 2.4013266218197122,
            "bin_start": 2.00165827727464,
            "count": 2
           },
           {
            "bin_end": 2.800994966364784,
            "bin_start": 2.4013266218197122,
            "count": 0
           },
           {
            "bin_end": 3.200663310909856,
            "bin_start": 2.800994966364784,
            "count": 1
           },
           {
            "bin_end": 3.6003316554549283,
            "bin_start": 3.200663310909856,
            "count": 2
           },
           {
            "bin_end": 4,
            "bin_start": 3.6003316554549283,
            "count": 2
           }
          ],
          "max": 4,
          "min": 0.003316554549280107,
          "nan_count": 0,
          "unique_count": 28
         }
        },
        {
         "dtype": "float64",
         "name": "Idaho",
         "stats": {
          "histogram": [
           {
            "bin_end": 1.9999999999999996,
            "bin_start": 0,
            "count": 11
           },
           {
            "bin_end": 3.999999999999999,
            "bin_start": 1.9999999999999996,
            "count": 2
           },
           {
            "bin_end": 5.999999999999998,
            "bin_start": 3.999999999999999,
            "count": 6
           },
           {
            "bin_end": 7.999999999999998,
            "bin_start": 5.999999999999998,
            "count": 1
           },
           {
            "bin_end": 9.999999999999998,
            "bin_start": 7.999999999999998,
            "count": 1
           },
           {
            "bin_end": 11.999999999999996,
            "bin_start": 9.999999999999998,
            "count": 1
           },
           {
            "bin_end": 13.999999999999996,
            "bin_start": 11.999999999999996,
            "count": 0
           },
           {
            "bin_end": 15.999999999999996,
            "bin_start": 13.999999999999996,
            "count": 0
           },
           {
            "bin_end": 17.999999999999996,
            "bin_start": 15.999999999999996,
            "count": 2
           },
           {
            "bin_end": 19.999999999999996,
            "bin_start": 17.999999999999996,
            "count": 4
           }
          ],
          "max": 19.999999999999996,
          "min": 0,
          "nan_count": 0,
          "unique_count": 28
         }
        },
        {
         "dtype": "float64",
         "name": "Maryland",
         "stats": {
          "histogram": [
           {
            "bin_end": 1.1,
            "bin_start": 0,
            "count": 10
           },
           {
            "bin_end": 2.2,
            "bin_start": 1.1,
            "count": 1
           },
           {
            "bin_end": 3.3000000000000003,
            "bin_start": 2.2,
            "count": 6
           },
           {
            "bin_end": 4.4,
            "bin_start": 3.3000000000000003,
            "count": 3
           },
           {
            "bin_end": 5.5,
            "bin_start": 4.4,
            "count": 1
           },
           {
            "bin_end": 6.6000000000000005,
            "bin_start": 5.5,
            "count": 3
           },
           {
            "bin_end": 7.700000000000001,
            "bin_start": 6.6000000000000005,
            "count": 0
           },
           {
            "bin_end": 8.8,
            "bin_start": 7.700000000000001,
            "count": 0
           },
           {
            "bin_end": 9.9,
            "bin_start": 8.8,
            "count": 1
           },
           {
            "bin_end": 11,
            "bin_start": 9.9,
            "count": 3
           }
          ],
          "max": 11,
          "min": 0,
          "nan_count": 0,
          "unique_count": 28
         }
        },
        {
         "dtype": "float64",
         "name": "New Mexico",
         "stats": {
          "histogram": [
           {
            "bin_end": 0.6,
            "bin_start": 0,
            "count": 9
           },
           {
            "bin_end": 1.2,
            "bin_start": 0.6,
            "count": 3
           },
           {
            "bin_end": 1.7999999999999998,
            "bin_start": 1.2,
            "count": 6
           },
           {
            "bin_end": 2.4,
            "bin_start": 1.7999999999999998,
            "count": 1
           },
           {
            "bin_end": 3,
            "bin_start": 2.4,
            "count": 3
           },
           {
            "bin_end": 3.5999999999999996,
            "bin_start": 3,
            "count": 1
           },
           {
            "bin_end": 4.2,
            "bin_start": 3.5999999999999996,
            "count": 0
           },
           {
            "bin_end": 4.8,
            "bin_start": 4.2,
            "count": 1
           },
           {
            "bin_end": 5.3999999999999995,
            "bin_start": 4.8,
            "count": 2
           },
           {
            "bin_end": 6,
            "bin_start": 5.3999999999999995,
            "count": 2
           }
          ],
          "max": 6,
          "min": 0,
          "nan_count": 0,
          "unique_count": 28
         }
        },
        {
         "dtype": "float64",
         "name": "Alabama",
         "stats": {
          "histogram": [
           {
            "bin_end": 0.6,
            "bin_start": 0,
            "count": 10
           },
           {
            "bin_end": 1.2,
            "bin_start": 0.6,
            "count": 2
           },
           {
            "bin_end": 1.7999999999999998,
            "bin_start": 1.2,
            "count": 6
           },
           {
            "bin_end": 2.4,
            "bin_start": 1.7999999999999998,
            "count": 2
           },
           {
            "bin_end": 3,
            "bin_start": 2.4,
            "count": 1
           },
           {
            "bin_end": 3.5999999999999996,
            "bin_start": 3,
            "count": 1
           },
           {
            "bin_end": 4.2,
            "bin_start": 3.5999999999999996,
            "count": 1
           },
           {
            "bin_end": 4.8,
            "bin_start": 4.2,
            "count": 1
           },
           {
            "bin_end": 5.3999999999999995,
            "bin_start": 4.8,
            "count": 2
           },
           {
            "bin_end": 6,
            "bin_start": 5.3999999999999995,
            "count": 2
           }
          ],
          "max": 6,
          "min": 0,
          "nan_count": 0,
          "unique_count": 28
         }
        },
        {
         "dtype": "float64",
         "name": "Tennessee",
         "stats": {
          "histogram": [
           {
            "bin_end": 0.7999999999999999,
            "bin_start": 0,
            "count": 10
           },
           {
            "bin_end": 1.5999999999999999,
            "bin_start": 0.7999999999999999,
            "count": 3
           },
           {
            "bin_end": 2.4,
            "bin_start": 1.5999999999999999,
            "count": 5
           },
           {
            "bin_end": 3.1999999999999997,
            "bin_start": 2.4,
            "count": 2
           },
           {
            "bin_end": 3.9999999999999996,
            "bin_start": 3.1999999999999997,
            "count": 1
           },
           {
            "bin_end": 4.8,
            "bin_start": 3.9999999999999996,
            "count": 1
           },
           {
            "bin_end": 5.6,
            "bin_start": 4.8,
            "count": 0
           },
           {
            "bin_end": 6.3999999999999995,
            "bin_start": 5.6,
            "count": 1
           },
           {
            "bin_end": 7.199999999999999,
            "bin_start": 6.3999999999999995,
            "count": 3
           },
           {
            "bin_end": 7.999999999999999,
            "bin_start": 7.199999999999999,
            "count": 2
           }
          ],
          "max": 7.999999999999999,
          "min": 0,
          "nan_count": 0,
          "unique_count": 28
         }
        },
        {
         "dtype": "float64",
         "name": "Vermont",
         "stats": {
          "histogram": [
           {
            "bin_end": 0.8,
            "bin_start": 0,
            "count": 9
           },
           {
            "bin_end": 1.6,
            "bin_start": 0.8,
            "count": 3
           },
           {
            "bin_end": 2.4000000000000004,
            "bin_start": 1.6,
            "count": 6
           },
           {
            "bin_end": 3.2,
            "bin_start": 2.4000000000000004,
            "count": 2
           },
           {
            "bin_end": 4,
            "bin_start": 3.2,
            "count": 1
           },
           {
            "bin_end": 4.800000000000001,
            "bin_start": 4,
            "count": 1
           },
           {
            "bin_end": 5.6000000000000005,
            "bin_start": 4.800000000000001,
            "count": 0
           },
           {
            "bin_end": 6.4,
            "bin_start": 5.6000000000000005,
            "count": 0
           },
           {
            "bin_end": 7.2,
            "bin_start": 6.4,
            "count": 1
           },
           {
            "bin_end": 8,
            "bin_start": 7.2,
            "count": 5
           }
          ],
          "max": 8,
          "min": 0,
          "nan_count": 0,
          "unique_count": 27
         }
        },
        {
         "dtype": "float64",
         "name": "Nevada",
         "stats": {
          "histogram": [
           {
            "bin_end": 0.42376850815790157,
            "bin_start": 0.02640945350877954,
            "count": 10
           },
           {
            "bin_end": 0.8211275628070236,
            "bin_start": 0.42376850815790157,
            "count": 3
           },
           {
            "bin_end": 1.2184866174561457,
            "bin_start": 0.8211275628070236,
            "count": 6
           },
           {
            "bin_end": 1.6158456721052676,
            "bin_start": 1.2184866174561457,
            "count": 1
           },
           {
            "bin_end": 2.0132047267543896,
            "bin_start": 1.6158456721052676,
            "count": 2
           },
           {
            "bin_end": 2.410563781403512,
            "bin_start": 2.0132047267543896,
            "count": 1
           },
           {
            "bin_end": 2.807922836052634,
            "bin_start": 2.410563781403512,
            "count": 1
           },
           {
            "bin_end": 3.2052818907017557,
            "bin_start": 2.807922836052634,
            "count": 0
           },
           {
            "bin_end": 3.6026409453508776,
            "bin_start": 3.2052818907017557,
            "count": 2
           },
           {
            "bin_end": 4,
            "bin_start": 3.6026409453508776,
            "count": 2
           }
          ],
          "max": 4,
          "min": 0.02640945350877954,
          "nan_count": 0,
          "unique_count": 28
         }
        },
        {
         "dtype": "float64",
         "name": "West Virginia",
         "stats": {
          "histogram": [
           {
            "bin_end": 1,
            "bin_start": 0,
            "count": 11
           },
           {
            "bin_end": 2,
            "bin_start": 1,
            "count": 4
           },
           {
            "bin_end": 3,
            "bin_start": 2,
            "count": 3
           },
           {
            "bin_end": 4,
            "bin_start": 3,
            "count": 2
           },
           {
            "bin_end": 5,
            "bin_start": 4,
            "count": 1
           },
           {
            "bin_end": 6,
            "bin_start": 5,
            "count": 1
           },
           {
            "bin_end": 7,
            "bin_start": 6,
            "count": 0
           },
           {
            "bin_end": 8,
            "bin_start": 7,
            "count": 0
           },
           {
            "bin_end": 9,
            "bin_start": 8,
            "count": 2
           },
           {
            "bin_end": 10,
            "bin_start": 9,
            "count": 4
           }
          ],
          "max": 10,
          "min": 0,
          "nan_count": 0,
          "unique_count": 28
         }
        },
        {
         "dtype": "float64",
         "name": "Oklahoma",
         "stats": {
          "histogram": [
           {
            "bin_end": 1.1085164574178883,
            "bin_start": 0.009462730464320206,
            "count": 11
           },
           {
            "bin_end": 2.2075701843714564,
            "bin_start": 1.1085164574178883,
            "count": 2
           },
           {
            "bin_end": 3.3066239113250244,
            "bin_start": 2.2075701843714564,
            "count": 5
           },
           {
            "bin_end": 4.4056776382785925,
            "bin_start": 3.3066239113250244,
            "count": 2
           },
           {
            "bin_end": 5.504731365232161,
            "bin_start": 4.4056776382785925,
            "count": 1
           },
           {
            "bin_end": 6.603785092185729,
            "bin_start": 5.504731365232161,
            "count": 1
           },
           {
            "bin_end": 7.702838819139297,
            "bin_start": 6.603785092185729,
            "count": 0
           },
           {
            "bin_end": 8.801892546092864,
            "bin_start": 7.702838819139297,
            "count": 2
           },
           {
            "bin_end": 9.900946273046431,
            "bin_start": 8.801892546092864,
            "count": 2
           },
           {
            "bin_end": 11,
            "bin_start": 9.900946273046431,
            "count": 2
           }
          ],
          "max": 11,
          "min": 0.009462730464320206,
          "nan_count": 0,
          "unique_count": 28
         }
        },
        {
         "dtype": "float64",
         "name": "Wisconsin",
         "stats": {
          "histogram": [
           {
            "bin_end": 1.6,
            "bin_start": 0,
            "count": 11
           },
           {
            "bin_end": 3.2,
            "bin_start": 1.6,
            "count": 2
           },
           {
            "bin_end": 4.800000000000001,
            "bin_start": 3.2,
            "count": 5
           },
           {
            "bin_end": 6.4,
            "bin_start": 4.800000000000001,
            "count": 2
           },
           {
            "bin_end": 8,
            "bin_start": 6.4,
            "count": 1
           },
           {
            "bin_end": 9.600000000000001,
            "bin_start": 8,
            "count": 1
           },
           {
            "bin_end": 11.200000000000001,
            "bin_start": 9.600000000000001,
            "count": 0
           },
           {
            "bin_end": 12.8,
            "bin_start": 11.200000000000001,
            "count": 0
           },
           {
            "bin_end": 14.4,
            "bin_start": 12.8,
            "count": 3
           },
           {
            "bin_end": 16,
            "bin_start": 14.4,
            "count": 3
           }
          ],
          "max": 16,
          "min": 0,
          "nan_count": 0,
          "unique_count": 28
         }
        },
        {
         "dtype": "float64",
         "name": "Puerto Rico",
         "stats": {
          "histogram": [
           {
            "bin_end": 1.0000000000000002,
            "bin_start": 0,
            "count": 7
           },
           {
            "bin_end": 2.0000000000000004,
            "bin_start": 1.0000000000000002,
            "count": 6
           },
           {
            "bin_end": 3.000000000000001,
            "bin_start": 2.0000000000000004,
            "count": 5
           },
           {
            "bin_end": 4.000000000000001,
            "bin_start": 3.000000000000001,
            "count": 2
           },
           {
            "bin_end": 5.000000000000001,
            "bin_start": 4.000000000000001,
            "count": 1
           },
           {
            "bin_end": 6.000000000000002,
            "bin_start": 5.000000000000001,
            "count": 2
           },
           {
            "bin_end": 7.000000000000002,
            "bin_start": 6.000000000000002,
            "count": 1
           },
           {
            "bin_end": 8.000000000000002,
            "bin_start": 7.000000000000002,
            "count": 1
           },
           {
            "bin_end": 9.000000000000002,
            "bin_start": 8.000000000000002,
            "count": 0
           },
           {
            "bin_end": 10.000000000000002,
            "bin_start": 9.000000000000002,
            "count": 3
           }
          ],
          "max": 10.000000000000002,
          "min": 0,
          "nan_count": 0,
          "unique_count": 28
         }
        },
        {
         "dtype": "float64",
         "name": "Kansas",
         "stats": {
          "histogram": [
           {
            "bin_end": 0.6,
            "bin_start": 0,
            "count": 10
           },
           {
            "bin_end": 1.2,
            "bin_start": 0.6,
            "count": 2
           },
           {
            "bin_end": 1.7999999999999998,
            "bin_start": 1.2,
            "count": 6
           },
           {
            "bin_end": 2.4,
            "bin_start": 1.7999999999999998,
            "count": 2
           },
           {
            "bin_end": 3,
            "bin_start": 2.4,
            "count": 1
           },
           {
            "bin_end": 3.5999999999999996,
            "bin_start": 3,
            "count": 1
           },
           {
            "bin_end": 4.2,
            "bin_start": 3.5999999999999996,
            "count": 0
           },
           {
            "bin_end": 4.8,
            "bin_start": 4.2,
            "count": 0
           },
           {
            "bin_end": 5.3999999999999995,
            "bin_start": 4.8,
            "count": 3
           },
           {
            "bin_end": 6,
            "bin_start": 5.3999999999999995,
            "count": 3
           }
          ],
          "max": 6,
          "min": 0,
          "nan_count": 0,
          "unique_count": 28
         }
        },
        {
         "dtype": "float64",
         "name": "Virginia",
         "stats": {
          "histogram": [
           {
            "bin_end": 1,
            "bin_start": 0,
            "count": 10
           },
           {
            "bin_end": 2,
            "bin_start": 1,
            "count": 2
           },
           {
            "bin_end": 3,
            "bin_start": 2,
            "count": 6
           },
           {
            "bin_end": 4,
            "bin_start": 3,
            "count": 2
           },
           {
            "bin_end": 5,
            "bin_start": 4,
            "count": 1
           },
           {
            "bin_end": 6,
            "bin_start": 5,
            "count": 1
           },
           {
            "bin_end": 7,
            "bin_start": 6,
            "count": 1
           },
           {
            "bin_end": 8,
            "bin_start": 7,
            "count": 1
           },
           {
            "bin_end": 9,
            "bin_start": 8,
            "count": 1
           },
           {
            "bin_end": 10,
            "bin_start": 9,
            "count": 3
           }
          ],
          "max": 10,
          "min": 0,
          "nan_count": 0,
          "unique_count": 28
         }
        },
        {
         "dtype": "float64",
         "name": "North Dakota",
         "stats": {
          "histogram": [
           {
            "bin_end": 0.3,
            "bin_start": 0,
            "count": 9
           },
           {
            "bin_end": 0.6,
            "bin_start": 0.3,
            "count": 3
           },
           {
            "bin_end": 0.8999999999999999,
            "bin_start": 0.6,
            "count": 7
           },
           {
            "bin_end": 1.2,
            "bin_start": 0.8999999999999999,
            "count": 1
           },
           {
            "bin_end": 1.5,
            "bin_start": 1.2,
            "count": 1
           },
           {
            "bin_end": 1.7999999999999998,
            "bin_start": 1.5,
            "count": 1
           },
           {
            "bin_end": 2.1,
            "bin_start": 1.7999999999999998,
            "count": 0
           },
           {
            "bin_end": 2.4,
            "bin_start": 2.1,
            "count": 0
           },
           {
            "bin_end": 2.6999999999999997,
            "bin_start": 2.4,
            "count": 3
           },
           {
            "bin_end": 3,
            "bin_start": 2.6999999999999997,
            "count": 3
           }
          ],
          "max": 3,
          "min": 0,
          "nan_count": 0,
          "unique_count": 26
         }
        },
        {
         "dtype": "float64",
         "name": "New Jersey",
         "stats": {
          "histogram": [
           {
            "bin_end": 0.5,
            "bin_start": 0,
            "count": 9
           },
           {
            "bin_end": 1,
            "bin_start": 0.5,
            "count": 5
           },
           {
            "bin_end": 1.5,
            "bin_start": 1,
            "count": 4
           },
           {
            "bin_end": 2,
            "bin_start": 1.5,
            "count": 2
           },
           {
            "bin_end": 2.5,
            "bin_start": 2,
            "count": 1
           },
           {
            "bin_end": 3,
            "bin_start": 2.5,
            "count": 1
           },
           {
            "bin_end": 3.5,
            "bin_start": 3,
            "count": 1
           },
           {
            "bin_end": 4,
            "bin_start": 3.5,
            "count": 1
           },
           {
            "bin_end": 4.5,
            "bin_start": 4,
            "count": 0
           },
           {
            "bin_end": 5,
            "bin_start": 4.5,
            "count": 4
           }
          ],
          "max": 5,
          "min": 0,
          "nan_count": 0,
          "unique_count": 28
         }
        },
        {
         "dtype": "float64",
         "name": "Ohio",
         "stats": {
          "histogram": [
           {
            "bin_end": 0.6016728941596945,
            "bin_start": 0.0018587712885495358,
            "count": 10
           },
           {
            "bin_end": 1.2014870170308396,
            "bin_start": 0.6016728941596945,
            "count": 3
           },
           {
            "bin_end": 1.8013011399019845,
            "bin_start": 1.2014870170308396,
            "count": 5
           },
           {
            "bin_end": 2.4011152627731294,
            "bin_start": 1.8013011399019845,
            "count": 2
           },
           {
            "bin_end": 3.0009293856442745,
            "bin_start": 2.4011152627731294,
            "count": 1
           },
           {
            "bin_end": 3.600743508515419,
            "bin_start": 3.0009293856442745,
            "count": 1
           },
           {
            "bin_end": 4.200557631386565,
            "bin_start": 3.600743508515419,
            "count": 0
           },
           {
            "bin_end": 4.80037175425771,
            "bin_start": 4.200557631386565,
            "count": 0
           },
           {
            "bin_end": 5.4001858771288545,
            "bin_start": 4.80037175425771,
            "count": 3
           },
           {
            "bin_end": 6,
            "bin_start": 5.4001858771288545,
            "count": 3
           }
          ],
          "max": 6,
          "min": 0.0018587712885495358,
          "nan_count": 0,
          "unique_count": 28
         }
        },
        {
         "dtype": "float64",
         "name": "South Carolina",
         "stats": {
          "histogram": [
           {
            "bin_end": 0.4,
            "bin_start": 0,
            "count": 10
           },
           {
            "bin_end": 0.8,
            "bin_start": 0.4,
            "count": 2
           },
           {
            "bin_end": 1.2000000000000002,
            "bin_start": 0.8,
            "count": 6
           },
           {
            "bin_end": 1.6,
            "bin_start": 1.2000000000000002,
            "count": 2
           },
           {
            "bin_end": 2,
            "bin_start": 1.6,
            "count": 1
           },
           {
            "bin_end": 2.4000000000000004,
            "bin_start": 2,
            "count": 1
           },
           {
            "bin_end": 2.8000000000000003,
            "bin_start": 2.4000000000000004,
            "count": 2
           },
           {
            "bin_end": 3.2,
            "bin_start": 2.8000000000000003,
            "count": 0
           },
           {
            "bin_end": 3.6,
            "bin_start": 3.2,
            "count": 2
           },
           {
            "bin_end": 4,
            "bin_start": 3.6,
            "count": 2
           }
          ],
          "max": 4,
          "min": 0,
          "nan_count": 0,
          "unique_count": 28
         }
        },
        {
         "dtype": "float64",
         "name": "Georgia",
         "stats": {
          "histogram": [
           {
            "bin_end": 1.4098537439031018,
            "bin_start": 0.010948604336779978,
            "count": 9
           },
           {
            "bin_end": 2.808758883469424,
            "bin_start": 1.4098537439031018,
            "count": 4
           },
           {
            "bin_end": 4.207664023035745,
            "bin_start": 2.808758883469424,
            "count": 5
           },
           {
            "bin_end": 5.606569162602067,
            "bin_start": 4.207664023035745,
            "count": 2
           },
           {
            "bin_end": 7.005474302168389,
            "bin_start": 5.606569162602067,
            "count": 1
           },
           {
            "bin_end": 8.404379441734712,
            "bin_start": 7.005474302168389,
            "count": 2
           },
           {
            "bin_end": 9.803284581301034,
            "bin_start": 8.404379441734712,
            "count": 1
           },
           {
            "bin_end": 11.202189720867356,
            "bin_start": 9.803284581301034,
            "count": 0
           },
           {
            "bin_end": 12.601094860433678,
            "bin_start": 11.202189720867356,
            "count": 2
           },
           {
            "bin_end": 14,
            "bin_start": 12.601094860433678,
            "count": 2
           }
          ],
          "max": 14,
          "min": 0.010948604336779978,
          "nan_count": 0,
          "unique_count": 28
         }
        },
        {
         "dtype": "float64",
         "name": "Colorado",
         "stats": {
          "histogram": [
           {
            "bin_end": 0.5,
            "bin_start": 0,
            "count": 10
           },
           {
            "bin_end": 1,
            "bin_start": 0.5,
            "count": 3
           },
           {
            "bin_end": 1.5,
            "bin_start": 1,
            "count": 5
           },
           {
            "bin_end": 2,
            "bin_start": 1.5,
            "count": 2
           },
           {
            "bin_end": 2.5,
            "bin_start": 2,
            "count": 1
           },
           {
            "bin_end": 3,
            "bin_start": 2.5,
            "count": 1
           },
           {
            "bin_end": 3.5,
            "bin_start": 3,
            "count": 0
           },
           {
            "bin_end": 4,
            "bin_start": 3.5,
            "count": 1
           },
           {
            "bin_end": 4.5,
            "bin_start": 4,
            "count": 2
           },
           {
            "bin_end": 5,
            "bin_start": 4.5,
            "count": 3
           }
          ],
          "max": 5,
          "min": 0,
          "nan_count": 0,
          "unique_count": 28
         }
        },
        {
         "dtype": "float64",
         "name": "Hawaii",
         "stats": {
          "histogram": [
           {
            "bin_end": 3.1855705721363177,
            "bin_start": 0.31730063570701994,
            "count": 9
           },
           {
            "bin_end": 6.0538405085656155,
            "bin_start": 3.1855705721363177,
            "count": 3
           },
           {
            "bin_end": 8.922110444994914,
            "bin_start": 6.0538405085656155,
            "count": 7
           },
           {
            "bin_end": 11.790380381424212,
            "bin_start": 8.922110444994914,
            "count": 3
           },
           {
            "bin_end": 14.65865031785351,
            "bin_start": 11.790380381424212,
            "count": 2
           },
           {
            "bin_end": 17.526920254282807,
            "bin_start": 14.65865031785351,
            "count": 0
           },
           {
            "bin_end": 20.395190190712107,
            "bin_start": 17.526920254282807,
            "count": 0
           },
           {
            "bin_end": 23.263460127141403,
            "bin_start": 20.395190190712107,
            "count": 0
           },
           {
            "bin_end": 26.1317300635707,
            "bin_start": 23.263460127141403,
            "count": 1
           },
           {
            "bin_end": 29,
            "bin_start": 26.1317300635707,
            "count": 3
           }
          ],
          "max": 29,
          "min": 0.31730063570701994,
          "nan_count": 0,
          "unique_count": 28
         }
        },
        {
         "dtype": "float64",
         "name": "South Dakota",
         "stats": {
          "histogram": [
           {
            "bin_end": 1.5,
            "bin_start": 0,
            "count": 10
           },
           {
            "bin_end": 3,
            "bin_start": 1.5,
            "count": 3
           },
           {
            "bin_end": 4.5,
            "bin_start": 3,
            "count": 5
           },
           {
            "bin_end": 6,
            "bin_start": 4.5,
            "count": 2
           },
           {
            "bin_end": 7.5,
            "bin_start": 6,
            "count": 1
           },
           {
            "bin_end": 9,
            "bin_start": 7.5,
            "count": 1
           },
           {
            "bin_end": 10.5,
            "bin_start": 9,
            "count": 0
           },
           {
            "bin_end": 12,
            "bin_start": 10.5,
            "count": 0
           },
           {
            "bin_end": 13.5,
            "bin_start": 12,
            "count": 3
           },
           {
            "bin_end": 15,
            "bin_start": 13.5,
            "count": 3
           }
          ],
          "max": 15,
          "min": 0,
          "nan_count": 0,
          "unique_count": 27
         }
        },
        {
         "dtype": "float64",
         "name": "Indiana",
         "stats": {
          "histogram": [
           {
            "bin_end": 0.3,
            "bin_start": 0,
            "count": 11
           },
           {
            "bin_end": 0.6,
            "bin_start": 0.3,
            "count": 2
           },
           {
            "bin_end": 0.8999999999999999,
            "bin_start": 0.6,
            "count": 5
           },
           {
            "bin_end": 1.2,
            "bin_start": 0.8999999999999999,
            "count": 2
           },
           {
            "bin_end": 1.5,
            "bin_start": 1.2,
            "count": 1
           },
           {
            "bin_end": 1.7999999999999998,
            "bin_start": 1.5,
            "count": 1
           },
           {
            "bin_end": 2.1,
            "bin_start": 1.7999999999999998,
            "count": 0
           },
           {
            "bin_end": 2.4,
            "bin_start": 2.1,
            "count": 0
           },
           {
            "bin_end": 2.6999999999999997,
            "bin_start": 2.4,
            "count": 4
           },
           {
            "bin_end": 3,
            "bin_start": 2.6999999999999997,
            "count": 2
           }
          ],
          "max": 3,
          "min": 0,
          "nan_count": 0,
          "unique_count": 28
         }
        },
        {
         "dtype": "float64",
         "name": "Kentucky",
         "stats": {
          "histogram": [
           {
            "bin_end": 1.8,
            "bin_start": 0,
            "count": 11
           },
           {
            "bin_end": 3.6,
            "bin_start": 1.8,
            "count": 2
           },
           {
            "bin_end": 5.4,
            "bin_start": 3.6,
            "count": 5
           },
           {
            "bin_end": 7.2,
            "bin_start": 5.4,
            "count": 2
           },
           {
            "bin_end": 9,
            "bin_start": 7.2,
            "count": 1
           },
           {
            "bin_end": 10.8,
            "bin_start": 9,
            "count": 1
           },
           {
            "bin_end": 12.6,
            "bin_start": 10.8,
            "count": 0
           },
           {
            "bin_end": 14.4,
            "bin_start": 12.6,
            "count": 0
           },
           {
            "bin_end": 16.2,
            "bin_start": 14.4,
            "count": 4
           },
           {
            "bin_end": 18,
            "bin_start": 16.2,
            "count": 2
           }
          ],
          "max": 18,
          "min": 0,
          "nan_count": 0,
          "unique_count": 28
         }
        },
        {
         "dtype": "float64",
         "name": "Louisiana",
         "stats": {
          "histogram": [
           {
            "bin_end": 0.7,
            "bin_start": 0,
            "count": 9
           },
           {
            "bin_end": 1.4,
            "bin_start": 0.7,
            "count": 3
           },
           {
            "bin_end": 2.0999999999999996,
            "bin_start": 1.4,
            "count": 5
           },
           {
            "bin_end": 2.8,
            "bin_start": 2.0999999999999996,
            "count": 3
           },
           {
            "bin_end": 3.5,
            "bin_start": 2.8,
            "count": 1
           },
           {
            "bin_end": 4.199999999999999,
            "bin_start": 3.5,
            "count": 1
           },
           {
            "bin_end": 4.8999999999999995,
            "bin_start": 4.199999999999999,
            "count": 2
           },
           {
            "bin_end": 5.6,
            "bin_start": 4.8999999999999995,
            "count": 0
           },
           {
            "bin_end": 6.3,
            "bin_start": 5.6,
            "count": 2
           },
           {
            "bin_end": 6.999999999999999,
            "bin_start": 6.3,
            "count": 2
           }
          ],
          "max": 6.999999999999999,
          "min": 0,
          "nan_count": 0,
          "unique_count": 28
         }
        },
        {
         "dtype": "float64",
         "name": "Washington",
         "stats": {
          "histogram": [
           {
            "bin_end": 0.7389054957866986,
            "bin_start": 0.043228328651887325,
            "count": 11
           },
           {
            "bin_end": 1.43458266292151,
            "bin_start": 0.7389054957866986,
            "count": 1
           },
           {
            "bin_end": 2.1302598300563216,
            "bin_start": 1.43458266292151,
            "count": 6
           },
           {
            "bin_end": 2.825936997191133,
            "bin_start": 2.1302598300563216,
            "count": 2
           },
           {
            "bin_end": 3.521614164325944,
            "bin_start": 2.825936997191133,
            "count": 1
           },
           {
            "bin_end": 4.217291331460755,
            "bin_start": 3.521614164325944,
            "count": 1
           },
           {
            "bin_end": 4.912968498595566,
            "bin_start": 4.217291331460755,
            "count": 0
           },
           {
            "bin_end": 5.608645665730378,
            "bin_start": 4.912968498595566,
            "count": 1
           },
           {
            "bin_end": 6.304322832865189,
            "bin_start": 5.608645665730378,
            "count": 2
           },
           {
            "bin_end": 7,
            "bin_start": 6.304322832865189,
            "count": 3
           }
          ],
          "max": 7,
          "min": 0.043228328651887325,
          "nan_count": 0,
          "unique_count": 28
         }
        },
        {
         "dtype": "float64",
         "name": "Illinois",
         "stats": {
          "histogram": [
           {
            "bin_end": 2,
            "bin_start": 0,
            "count": 8
           },
           {
            "bin_end": 4,
            "bin_start": 2,
            "count": 4
           },
           {
            "bin_end": 6,
            "bin_start": 4,
            "count": 6
           },
           {
            "bin_end": 8,
            "bin_start": 6,
            "count": 2
           },
           {
            "bin_end": 10,
            "bin_start": 8,
            "count": 1
           },
           {
            "bin_end": 12,
            "bin_start": 10,
            "count": 1
           },
           {
            "bin_end": 14,
            "bin_start": 12,
            "count": 1
           },
           {
            "bin_end": 16,
            "bin_start": 14,
            "count": 1
           },
           {
            "bin_end": 18,
            "bin_start": 16,
            "count": 1
           },
           {
            "bin_end": 20,
            "bin_start": 18,
            "count": 3
           }
          ],
          "max": 20,
          "min": 0,
          "nan_count": 0,
          "unique_count": 28
         }
        },
        {
         "dtype": "float64",
         "name": "Iowa",
         "stats": {
          "histogram": [
           {
            "bin_end": 0.402787533102815,
            "bin_start": 0.003097259003127768,
            "count": 11
           },
           {
            "bin_end": 0.8024778072025022,
            "bin_start": 0.402787533102815,
            "count": 2
           },
           {
            "bin_end": 1.2021680813021893,
            "bin_start": 0.8024778072025022,
            "count": 5
           },
           {
            "bin_end": 1.6018583554018766,
            "bin_start": 1.2021680813021893,
            "count": 2
           },
           {
            "bin_end": 2.001548629501564,
            "bin_start": 1.6018583554018766,
            "count": 1
           },
           {
            "bin_end": 2.401238903601251,
            "bin_start": 2.001548629501564,
            "count": 1
           },
           {
            "bin_end": 2.8009291777009384,
            "bin_start": 2.401238903601251,
            "count": 0
           },
           {
            "bin_end": 3.2006194518006255,
            "bin_start": 2.8009291777009384,
            "count": 0
           },
           {
            "bin_end": 3.6003097259003125,
            "bin_start": 3.2006194518006255,
            "count": 1
           },
           {
            "bin_end": 4,
            "bin_start": 3.6003097259003125,
            "count": 5
           }
          ],
          "max": 4,
          "min": 0.003097259003127768,
          "nan_count": 0,
          "unique_count": 28
         }
        },
        {
         "dtype": "float64",
         "name": "New Hampshire",
         "stats": {
          "histogram": [
           {
            "bin_end": 0.9,
            "bin_start": 0,
            "count": 11
           },
           {
            "bin_end": 1.8,
            "bin_start": 0.9,
            "count": 2
           },
           {
            "bin_end": 2.7,
            "bin_start": 1.8,
            "count": 5
           },
           {
            "bin_end": 3.6,
            "bin_start": 2.7,
            "count": 2
           },
           {
            "bin_end": 4.5,
            "bin_start": 3.6,
            "count": 1
           },
           {
            "bin_end": 5.4,
            "bin_start": 4.5,
            "count": 1
           },
           {
            "bin_end": 6.3,
            "bin_start": 5.4,
            "count": 0
           },
           {
            "bin_end": 7.2,
            "bin_start": 6.3,
            "count": 0
           },
           {
            "bin_end": 8.1,
            "bin_start": 7.2,
            "count": 0
           },
           {
            "bin_end": 9,
            "bin_start": 8.1,
            "count": 6
           }
          ],
          "max": 9,
          "min": 0,
          "nan_count": 0,
          "unique_count": 28
         }
        },
        {
         "dtype": "float64",
         "name": "Rhode Island",
         "stats": {
          "histogram": [
           {
            "bin_end": 0.3,
            "bin_start": 0,
            "count": 9
           },
           {
            "bin_end": 0.6,
            "bin_start": 0.3,
            "count": 4
           },
           {
            "bin_end": 0.8999999999999999,
            "bin_start": 0.6,
            "count": 5
           },
           {
            "bin_end": 1.2,
            "bin_start": 0.8999999999999999,
            "count": 2
           },
           {
            "bin_end": 1.5,
            "bin_start": 1.2,
            "count": 1
           },
           {
            "bin_end": 1.7999999999999998,
            "bin_start": 1.5,
            "count": 1
           },
           {
            "bin_end": 2.1,
            "bin_start": 1.7999999999999998,
            "count": 0
           },
           {
            "bin_end": 2.4,
            "bin_start": 2.1,
            "count": 1
           },
           {
            "bin_end": 2.6999999999999997,
            "bin_start": 2.4,
            "count": 2
           },
           {
            "bin_end": 3,
            "bin_start": 2.6999999999999997,
            "count": 3
           }
          ],
          "max": 3,
          "min": 0,
          "nan_count": 0,
          "unique_count": 28
         }
        },
        {
         "dtype": "float64",
         "name": "Arkansas",
         "stats": {
          "histogram": [
           {
            "bin_end": 1.1118758407849965,
            "bin_start": 0.013195378649996042,
            "count": 10
           },
           {
            "bin_end": 2.2105563029199966,
            "bin_start": 1.1118758407849965,
            "count": 3
           },
           {
            "bin_end": 3.309236765054997,
            "bin_start": 2.2105563029199966,
            "count": 5
           },
           {
            "bin_end": 4.407917227189998,
            "bin_start": 3.309236765054997,
            "count": 2
           },
           {
            "bin_end": 5.506597689324998,
            "bin_start": 4.407917227189998,
            "count": 1
           },
           {
            "bin_end": 6.6052781514599985,
            "bin_start": 5.506597689324998,
            "count": 1
           },
           {
            "bin_end": 7.703958613594999,
            "bin_start": 6.6052781514599985,
            "count": 0
           },
           {
            "bin_end": 8.80263907573,
            "bin_start": 7.703958613594999,
            "count": 2
           },
           {
            "bin_end": 9.901319537865,
            "bin_start": 8.80263907573,
            "count": 2
           },
           {
            "bin_end": 11,
            "bin_start": 9.901319537865,
            "count": 2
           }
          ],
          "max": 11,
          "min": 0.013195378649996042,
          "nan_count": 0,
          "unique_count": 28
         }
        },
        {
         "dtype": "float64",
         "name": "Delaware",
         "stats": {
          "histogram": [
           {
            "bin_end": 3.8,
            "bin_start": 0,
            "count": 9
           },
           {
            "bin_end": 7.6,
            "bin_start": 3.8,
            "count": 4
           },
           {
            "bin_end": 11.399999999999999,
            "bin_start": 7.6,
            "count": 5
           },
           {
            "bin_end": 15.2,
            "bin_start": 11.399999999999999,
            "count": 2
           },
           {
            "bin_end": 19,
            "bin_start": 15.2,
            "count": 1
           },
           {
            "bin_end": 22.799999999999997,
            "bin_start": 19,
            "count": 1
           },
           {
            "bin_end": 26.599999999999998,
            "bin_start": 22.799999999999997,
            "count": 1
           },
           {
            "bin_end": 30.4,
            "bin_start": 26.599999999999998,
            "count": 1
           },
           {
            "bin_end": 34.199999999999996,
            "bin_start": 30.4,
            "count": 1
           },
           {
            "bin_end": 38,
            "bin_start": 34.199999999999996,
            "count": 3
           }
          ],
          "max": 38,
          "min": 0,
          "nan_count": 0,
          "unique_count": 28
         }
        },
        {
         "dtype": "float64",
         "name": "Minnesota",
         "stats": {
          "histogram": [
           {
            "bin_end": 0.6,
            "bin_start": 0,
            "count": 10
           },
           {
            "bin_end": 1.2,
            "bin_start": 0.6,
            "count": 3
           },
           {
            "bin_end": 1.7999999999999998,
            "bin_start": 1.2,
            "count": 5
           },
           {
            "bin_end": 2.4,
            "bin_start": 1.7999999999999998,
            "count": 2
           },
           {
            "bin_end": 3,
            "bin_start": 2.4,
            "count": 1
           },
           {
            "bin_end": 3.5999999999999996,
            "bin_start": 3,
            "count": 1
           },
           {
            "bin_end": 4.2,
            "bin_start": 3.5999999999999996,
            "count": 0
           },
           {
            "bin_end": 4.8,
            "bin_start": 4.2,
            "count": 0
           },
           {
            "bin_end": 5.3999999999999995,
            "bin_start": 4.8,
            "count": 3
           },
           {
            "bin_end": 6,
            "bin_start": 5.3999999999999995,
            "count": 3
           }
          ],
          "max": 6,
          "min": 0,
          "nan_count": 0,
          "unique_count": 28
         }
        },
        {
         "dtype": "float64",
         "name": "Montana",
         "stats": {
          "histogram": [
           {
            "bin_end": 0.3,
            "bin_start": 0,
            "count": 11
           },
           {
            "bin_end": 0.6,
            "bin_start": 0.3,
            "count": 3
           },
           {
            "bin_end": 0.8999999999999999,
            "bin_start": 0.6,
            "count": 5
           },
           {
            "bin_end": 1.2,
            "bin_start": 0.8999999999999999,
            "count": 1
           },
           {
            "bin_end": 1.5,
            "bin_start": 1.2,
            "count": 1
           },
           {
            "bin_end": 1.7999999999999998,
            "bin_start": 1.5,
            "count": 1
           },
           {
            "bin_end": 2.1,
            "bin_start": 1.7999999999999998,
            "count": 0
           },
           {
            "bin_end": 2.4,
            "bin_start": 2.1,
            "count": 0
           },
           {
            "bin_end": 2.6999999999999997,
            "bin_start": 2.4,
            "count": 2
           },
           {
            "bin_end": 3,
            "bin_start": 2.6999999999999997,
            "count": 4
           }
          ],
          "max": 3,
          "min": 0,
          "nan_count": 0,
          "unique_count": 26
         }
        },
        {
         "dtype": "float64",
         "name": "Arizona",
         "stats": {
          "histogram": [
           {
            "bin_end": 1.325636153828282,
            "bin_start": 0.02848461536475745,
            "count": 10
           },
           {
            "bin_end": 2.6227876922918063,
            "bin_start": 1.325636153828282,
            "count": 2
           },
           {
            "bin_end": 3.9199392307553307,
            "bin_start": 2.6227876922918063,
            "count": 7
           },
           {
            "bin_end": 5.217090769218855,
            "bin_start": 3.9199392307553307,
            "count": 1
           },
           {
            "bin_end": 6.5142423076823786,
            "bin_start": 5.217090769218855,
            "count": 1
           },
           {
            "bin_end": 7.811393846145903,
            "bin_start": 6.5142423076823786,
            "count": 1
           },
           {
            "bin_end": 9.108545384609428,
            "bin_start": 7.811393846145903,
            "count": 1
           },
           {
            "bin_end": 10.405696923072952,
            "bin_start": 9.108545384609428,
            "count": 0
           },
           {
            "bin_end": 11.702848461536476,
            "bin_start": 10.405696923072952,
            "count": 3
           },
           {
            "bin_end": 13,
            "bin_start": 11.702848461536476,
            "count": 2
           }
          ],
          "max": 13,
          "min": 0.02848461536475745,
          "nan_count": 0,
          "unique_count": 28
         }
        },
        {
         "dtype": "float64",
         "name": "Florida",
         "stats": {
          "histogram": [
           {
            "bin_end": 1.2066493234684788,
            "bin_start": 0.007388137187198567,
            "count": 8
           },
           {
            "bin_end": 2.405910509749759,
            "bin_start": 1.2066493234684788,
            "count": 5
           },
           {
            "bin_end": 3.605171696031039,
            "bin_start": 2.405910509749759,
            "count": 6
           },
           {
            "bin_end": 4.804432882312319,
            "bin_start": 3.605171696031039,
            "count": 1
           },
           {
            "bin_end": 6.003694068593599,
            "bin_start": 4.804432882312319,
            "count": 1
           },
           {
            "bin_end": 7.202955254874879,
            "bin_start": 6.003694068593599,
            "count": 1
           },
           {
            "bin_end": 8.40221644115616,
            "bin_start": 7.202955254874879,
            "count": 1
           },
           {
            "bin_end": 9.60147762743744,
            "bin_start": 8.40221644115616,
            "count": 1
           },
           {
            "bin_end": 10.80073881371872,
            "bin_start": 9.60147762743744,
            "count": 2
           },
           {
            "bin_end": 12,
            "bin_start": 10.80073881371872,
            "count": 2
           }
          ],
          "max": 12,
          "min": 0.007388137187198567,
          "nan_count": 0,
          "unique_count": 28
         }
        },
        {
         "dtype": "float64",
         "name": "Massachusetts",
         "stats": {
          "histogram": [
           {
            "bin_end": 0.5000000000000001,
            "bin_start": 0,
            "count": 11
           },
           {
            "bin_end": 1.0000000000000002,
            "bin_start": 0.5000000000000001,
            "count": 2
           },
           {
            "bin_end": 1.5000000000000004,
            "bin_start": 1.0000000000000002,
            "count": 5
           },
           {
            "bin_end": 2.0000000000000004,
            "bin_start": 1.5000000000000004,
            "count": 1
           },
           {
            "bin_end": 2.5000000000000004,
            "bin_start": 2.0000000000000004,
            "count": 2
           },
           {
            "bin_end": 3.000000000000001,
            "bin_start": 2.5000000000000004,
            "count": 1
           },
           {
            "bin_end": 3.500000000000001,
            "bin_start": 3.000000000000001,
            "count": 0
           },
           {
            "bin_end": 4.000000000000001,
            "bin_start": 3.500000000000001,
            "count": 1
           },
           {
            "bin_end": 4.500000000000001,
            "bin_start": 4.000000000000001,
            "count": 2
           },
           {
            "bin_end": 5.000000000000001,
            "bin_start": 4.500000000000001,
            "count": 3
           }
          ],
          "max": 5.000000000000001,
          "min": 0,
          "nan_count": 0,
          "unique_count": 28
         }
        },
        {
         "dtype": "float64",
         "name": "District of Columbia",
         "stats": {
          "histogram": [
           {
            "bin_end": 1,
            "bin_start": 0,
            "count": 8
           },
           {
            "bin_end": 2,
            "bin_start": 1,
            "count": 5
           },
           {
            "bin_end": 3,
            "bin_start": 2,
            "count": 3
           },
           {
            "bin_end": 4,
            "bin_start": 3,
            "count": 2
           },
           {
            "bin_end": 5,
            "bin_start": 4,
            "count": 4
           },
           {
            "bin_end": 6,
            "bin_start": 5,
            "count": 2
           },
           {
            "bin_end": 7,
            "bin_start": 6,
            "count": 0
           },
           {
            "bin_end": 8,
            "bin_start": 7,
            "count": 0
           },
           {
            "bin_end": 9,
            "bin_start": 8,
            "count": 1
           },
           {
            "bin_end": 10,
            "bin_start": 9,
            "count": 3
           }
          ],
          "max": 10,
          "min": 0,
          "nan_count": 0,
          "unique_count": 28
         }
        },
        {
         "dtype": "float64",
         "name": "Utah",
         "stats": {
          "histogram": [
           {
            "bin_end": 0.32312152159134516,
            "bin_start": 0.025690579545939066,
            "count": 12
           },
           {
            "bin_end": 0.6205524636367513,
            "bin_start": 0.32312152159134516,
            "count": 1
           },
           {
            "bin_end": 0.9179834056821574,
            "bin_start": 0.6205524636367513,
            "count": 6
           },
           {
            "bin_end": 1.2154143477275634,
            "bin_start": 0.9179834056821574,
            "count": 1
           },
           {
            "bin_end": 1.5128452897729694,
            "bin_start": 1.2154143477275634,
            "count": 2
           },
           {
            "bin_end": 1.8102762318183756,
            "bin_start": 1.5128452897729694,
            "count": 0
           },
           {
            "bin_end": 2.107707173863782,
            "bin_start": 1.8102762318183756,
            "count": 0
           },
           {
            "bin_end": 2.405138115909188,
            "bin_start": 2.107707173863782,
            "count": 0
           },
           {
            "bin_end": 2.702569057954594,
            "bin_start": 2.405138115909188,
            "count": 2
           },
           {
            "bin_end": 3,
            "bin_start": 2.702569057954594,
            "count": 4
           }
          ],
          "max": 3,
          "min": 0.025690579545939066,
          "nan_count": 0,
          "unique_count": 28
         }
        },
        {
         "dtype": "float64",
         "name": "New York",
         "stats": {
          "histogram": [
           {
            "bin_end": -0.4,
            "bin_start": -0.5,
            "count": 0
           },
           {
            "bin_end": -0.3,
            "bin_start": -0.4,
            "count": 0
           },
           {
            "bin_end": -0.19999999999999996,
            "bin_start": -0.3,
            "count": 0
           },
           {
            "bin_end": -0.09999999999999998,
            "bin_start": -0.19999999999999996,
            "count": 0
           },
           {
            "bin_end": 0,
            "bin_start": -0.09999999999999998,
            "count": 0
           },
           {
            "bin_end": 0.10000000000000009,
            "bin_start": 0,
            "count": 28
           },
           {
            "bin_end": 0.20000000000000007,
            "bin_start": 0.10000000000000009,
            "count": 0
           },
           {
            "bin_end": 0.30000000000000004,
            "bin_start": 0.20000000000000007,
            "count": 0
           },
           {
            "bin_end": 0.4,
            "bin_start": 0.30000000000000004,
            "count": 0
           },
           {
            "bin_end": 0.5,
            "bin_start": 0.4,
            "count": 0
           }
          ],
          "max": 0,
          "min": 0,
          "nan_count": 0,
          "unique_count": 1
         }
        },
        {
         "dtype": "int64",
         "name": "_deepnote_index_column"
        }
       ],
       "row_count": 28,
       "rows_bottom": [
        {
         "Alabama": 0.5023484650122353,
         "Alaska": 0.7051108138372627,
         "Arizona": 1.1526769187876096,
         "Arkansas": 0.827920985993511,
         "California": 2.4224244673617186,
         "Colorado": 0.4105139916743755,
         "Connecticut": 0.30451448057176406,
         "Delaware": 2.8640734005024506,
         "District of Columbia": 0.2591789784438623,
         "Florida": 1.20456307699434,
         "Georgia": 1.0948062048947755,
         "Hawaii": 3.188155308478258,
         "Idaho": 1.8986213823863354,
         "Illinois": 1.6357534728719174,
         "Indiana": 0.2524935260719974,
         "Iowa": 0.4593310728384394,
         "Kansas": 0.5412414165049816,
         "Kentucky": 1.487699169971139,
         "Label": "        Associate's degree",
         "Louisiana": 0.4288398732726254,
         "Maine": 0.27824213266384035,
         "Maryland": 0.7489314028448086,
         "Massachusetts": 0.3679620970156901,
         "Michigan": 0.8228206793216064,
         "Minnesota": 0.6854153751454255,
         "Mississippi": 1.6070922023798366,
         "Missouri": 0.4766686019031504,
         "Montana": 0.2755248473899678,
         "Nebraska": 0.7343391824728674,
         "Nevada": 0.34336530186018854,
         "New Hampshire": 0.8641854830568362,
         "New Jersey": 0.3402785329090042,
         "New Mexico": 0.4758893553334784,
         "New York": 0,
         "North Carolina": 1.0583454133190033,
         "North Dakota": 0.4346251262445999,
         "Ohio": 0.4896055018547099,
         "Oklahoma": 0.8491932981965986,
         "Oregon": 0.27252304666204674,
         "Pennsylvania": 4.5321131982416905,
         "Puerto Rico": 1.0254551218681822,
         "Rhode Island": 0.25019394155230446,
         "South Carolina": 0.38505411709947623,
         "South Dakota": 1.7698724595843849,
         "Tennessee": 0.5894144152132166,
         "Texas": 0.29685335914917543,
         "Utah": 0.30874830705668116,
         "Vermont": 0.6289833171422061,
         "Virginia": 0.7597519411183635,
         "Washington": 0.7297095586457312,
         "West Virginia": 0.7134991384599044,
         "Wisconsin": 1.6850700879694775,
         "Wyoming": 0.3186623128649307,
         "_deepnote_index_column": 19
        },
        {
         "Alabama": 0.9030033845049797,
         "Alaska": 1.5067581785797493,
         "Arizona": 2.336179901746922,
         "Arkansas": 1.5312277439265647,
         "California": 6.181265134682955,
         "Colorado": 1.2619476083102066,
         "Connecticut": 0.8491056145564985,
         "Delaware": 6.606103483721685,
         "District of Columbia": 2.6047458837788495,
         "Florida": 2.195453428946004,
         "Georgia": 2.5713456445137632,
         "Hawaii": 6.008542005654665,
         "Idaho": 3.513295124455651,
         "Illinois": 4.129278925759628,
         "Indiana": 0.49089455703743334,
         "Iowa": 0.7561712069212223,
         "Kansas": 1.2137504219431474,
         "Kentucky": 2.4783534421575584,
         "Label": "        Bachelor's degree",
         "Louisiana": 1.0388641022653717,
         "Maine": 0.5749663058615192,
         "Maryland": 2.3593238660694653,
         "Massachusetts": 1.2007754868934535,
         "Michigan": 1.5271456067564662,
         "Minnesota": 1.395932809890833,
         "Mississippi": 2.1279534850923256,
         "Missouri": 1.019294379684765,
         "Montana": 0.5880476114162503,
         "Nebraska": 1.4398519119586166,
         "Nevada": 0.6261359332217278,
         "New Hampshire": 1.9137362452468285,
         "New Jersey": 1.221546789830945,
         "New Mexico": 0.9007976733201362,
         "New York": 0,
         "North Carolina": 2.15789270875657,
         "North Dakota": 0.6085227663298381,
         "Ohio": 1.0137275607180571,
         "Oklahoma": 1.7221436796819816,
         "Oregon": 0.613113672550676,
         "Pennsylvania": 10.112228934410174,
         "Puerto Rico": 1.7722579073373907,
         "Rhode Island": 0.5839502314223917,
         "South Carolina": 0.6743636555840312,
         "South Dakota": 2.897731223989281,
         "Tennessee": 1.3107527911402306,
         "Texas": 0.7641587272178743,
         "Utah": 0.6212420490949969,
         "Vermont": 1.7437963995730341,
         "Virginia": 2.127762812604306,
         "Washington": 1.5227330059588775,
         "West Virginia": 1.2274465852128136,
         "Wisconsin": 2.9900080740541157,
         "Wyoming": 0.4700099620887179,
         "_deepnote_index_column": 20
        },
        {
         "Alabama": 0.49865524921529264,
         "Alaska": 0.9333050255146137,
         "Arizona": 1.3064742221201082,
         "Arkansas": 0.8353495687267547,
         "California": 3.4320899204801454,
         "Colorado": 0.7109387045174221,
         "Connecticut": 0.6317526435673673,
         "Delaware": 4.3799258393018405,
         "District of Columbia": 3.0174413413552235,
         "Florida": 1.2403630915430541,
         "Georgia": 1.5254650218337635,
         "Hawaii": 3.108273832126913,
         "Idaho": 1.601914382943659,
         "Illinois": 2.4975101286358234,
         "Indiana": 0.25251237036946983,
         "Iowa": 0.32100631698177096,
         "Kansas": 0.6670498022007025,
         "Kentucky": 1.6244041486304657,
         "Label": "        Graduate or professional degree",
         "Louisiana": 0.514991129141601,
         "Maine": 0.3076800219677377,
         "Maryland": 1.8734564772056526,
         "Massachusetts": 0.880733245376508,
         "Michigan": 0.8874527733313464,
         "Minnesota": 0.6588421379166937,
         "Mississippi": 1.219213284669057,
         "Missouri": 0.5969193049551407,
         "Montana": 0.2924430717230729,
         "Nebraska": 0.6915762247692464,
         "Nevada": 0.331545524550807,
         "New Hampshire": 1.1499562539960293,
         "New Jersey": 0.7094446669056557,
         "New Mexico": 0.6567987984481725,
         "New York": 0,
         "North Carolina": 1.1094520099086465,
         "North Dakota": 0.18748182342147984,
         "Ohio": 0.5780521484850947,
         "Oklahoma": 0.8680570624310951,
         "Oregon": 0.3470725147191682,
         "Pennsylvania": 6.075931592117623,
         "Puerto Rico": 0.6917719650863705,
         "Rhode Island": 0.3825399058869822,
         "South Carolina": 0.3638046719585089,
         "South Dakota": 1.189728151768922,
         "Tennessee": 0.7209521816626293,
         "Texas": 0.3832327316110497,
         "Utah": 0.30749503794540517,
         "Vermont": 1.0768658774991304,
         "Virginia": 1.5063828458663666,
         "Washington": 0.8429203857912342,
         "West Virginia": 0.7535715832912927,
         "Wisconsin": 1.4777490972916705,
         "Wyoming": 0.26371862633865567,
         "_deepnote_index_column": 21
        },
        {
         "Alabama": 5.224898254733296,
         "Alaska": 8.37292670279045,
         "Arizona": 11.658644128178187,
         "Arkansas": 9.721838648413389,
         "California": 25.85499726574307,
         "Colorado": 4.655934416435399,
         "Connecticut": 3.6840058675816114,
         "Delaware": 34.60398658837206,
         "District of Columbia": 9.30956528677243,
         "Florida": 10.756345637000447,
         "Georgia": 12.42630502034314,
         "Hawaii": 27.04532880278129,
         "Idaho": 18.353515690498508,
         "Illinois": 18.229029817407962,
         "Indiana": 2.6755388861196554,
         "Iowa": 3.7116799063603385,
         "Kansas": 5.561427750423856,
         "Kentucky": 15.744768574133127,
         "Label": "        High school degree or higher",
         "Louisiana": 6.02157048162242,
         "Maine": 2.7838979845161074,
         "Maryland": 10.125344490353344,
         "Massachusetts": 4.593963545840943,
         "Michigan": 8.211643089017215,
         "Minnesota": 5.6249169084134705,
         "Mississippi": 13.737257537741145,
         "Missouri": 5.423666575300484,
         "Montana": 2.7923884380599953,
         "Nebraska": 6.489020184602901,
         "Nevada": 3.597782538842676,
         "New Hampshire": 8.390248006191742,
         "New Jersey": 4.588832257183946,
         "New Mexico": 5.240375378801951,
         "New York": 0,
         "North Carolina": 9.86728560755993,
         "North Dakota": 2.784086041974016,
         "Ohio": 5.4348712533506625,
         "Oklahoma": 9.815442752654098,
         "Oregon": 2.7640472394841993,
         "Pennsylvania": 50.13310313691187,
         "Puerto Rico": 7.92919745191099,
         "Rhode Island": 2.7202609463351584,
         "South Carolina": 3.5538000928293125,
         "South Dakota": 13.812079945726166,
         "Tennessee": 7.088873152129408,
         "Texas": 3.536404650353842,
         "Utah": 2.797806874870948,
         "Vermont": 7.476894661725375,
         "Virginia": 9.115125868928684,
         "Washington": 6.505721646317952,
         "West Virginia": 8.766991485216867,
         "Wisconsin": 14.816453622805817,
         "Wyoming": 2.7737014694080857,
         "_deepnote_index_column": 22
        },
        {
         "Alabama": 1.4016586337202723,
         "Alaska": 2.440063204094363,
         "Arizona": 3.6426541238670302,
         "Arkansas": 2.3665773126533196,
         "California": 9.613355055163101,
         "Colorado": 1.9728863128276286,
         "Connecticut": 1.4808582581238656,
         "Delaware": 10.986029323023526,
         "District of Columbia": 5.622187225134073,
         "Florida": 3.4358165204890585,
         "Georgia": 4.096810666347527,
         "Hawaii": 9.116815837781578,
         "Idaho": 5.11520950739931,
         "Illinois": 6.626789054395451,
         "Indiana": 0.7434069274069032,
         "Iowa": 1.0771775239029933,
         "Kansas": 1.88080022414385,
         "Kentucky": 4.102757590788024,
         "Label": "        Bachelor's degree or higher",
         "Louisiana": 1.5538552314069727,
         "Maine": 0.8826463278292568,
         "Maryland": 4.232780343275118,
         "Massachusetts": 2.0815087322699615,
         "Michigan": 2.4145983800878126,
         "Minnesota": 2.054774947807527,
         "Mississippi": 3.3471667697613827,
         "Missouri": 1.6162136846399058,
         "Montana": 0.8804906831393231,
         "Nebraska": 2.131428136727863,
         "Nevada": 0.9576814577725348,
         "New Hampshire": 3.063692499242858,
         "New Jersey": 1.9309914567366004,
         "New Mexico": 1.5575964717683086,
         "New York": 0,
         "North Carolina": 3.2673447186652163,
         "North Dakota": 0.796004589751318,
         "Ohio": 1.5917797092031518,
         "Oklahoma": 2.590200742113077,
         "Oregon": 0.9601861872698442,
         "Pennsylvania": 16.188160526527795,
         "Puerto Rico": 2.4640298724237613,
         "Rhode Island": 0.9664901373093738,
         "South Carolina": 1.0381683275425402,
         "South Dakota": 4.087459375758203,
         "Tennessee": 2.03170497280286,
         "Texas": 1.147391458828924,
         "Utah": 0.928737087040402,
         "Vermont": 2.8206622770721648,
         "Virginia": 3.634145658470673,
         "Washington": 2.3656533917501115,
         "West Virginia": 1.9810181685041064,
         "Wisconsin": 4.467757171345786,
         "Wyoming": 0.7337285884273735,
         "_deepnote_index_column": 23
        },
        {
         "Alabama": 5.8358515084806575,
         "Alaska": 8.77637136350997,
         "Arizona": 12.676849086267028,
         "Arkansas": 10.636108253541188,
         "California": 28.3723606293319,
         "Colorado": 4.87765114284613,
         "Connecticut": 3.8581391657247552,
         "Delaware": 36.84481880846259,
         "District of Columbia": 9.452804273613062,
         "Florida": 11.738237446106963,
         "Georgia": 13.572073191760591,
         "Hawaii": 28.150774319089116,
         "Idaho": 19.614983543780248,
         "Illinois": 19.461019711141862,
         "Indiana": 2.902297180649946,
         "Iowa": 3.854913525542719,
         "Kansas": 5.799747933793415,
         "Kentucky": 17.399499364632987,
         "Label": "        Total Citizens, 18 years and older, for whom poverty status is determined",
         "Louisiana": 6.772585130319371,
         "Maine": 2.922507684505179,
         "Maryland": 10.69663715380253,
         "Massachusetts": 4.803816828454801,
         "Michigan": 8.792431085323136,
         "Minnesota": 5.860441197453855,
         "Mississippi": 15.392421333376179,
         "Missouri": 5.808403818387049,
         "Montana": 2.929657337665176,
         "Nebraska": 6.787016938837611,
         "Nevada": 3.9439427978291857,
         "New Hampshire": 8.69157384661978,
         "New Jersey": 4.886586460168168,
         "New Mexico": 5.8741952946296365,
         "New York": 0,
         "North Carolina": 10.657866364339357,
         "North Dakota": 2.889814241977189,
         "Ohio": 5.817578452874124,
         "Oklahoma": 10.640447090702905,
         "Oregon": 2.9454481369814647,
         "Pennsylvania": 53.045993175487865,
         "Puerto Rico": 9.908202579010906,
         "Rhode Island": 2.867583058660627,
         "South Carolina": 3.8754134008228927,
         "South Dakota": 14.449086601688485,
         "Tennessee": 7.785444653435966,
         "Texas": 3.8932459007604123,
         "Utah": 2.9494955543919272,
         "Vermont": 7.6554688030959035,
         "Virginia": 9.651334167835323,
         "Washington": 6.867842060341639,
         "West Virginia": 9.705546138162243,
         "Wisconsin": 15.559335664828156,
         "Wyoming": 2.9236654951988266,
         "_deepnote_index_column": 24
        },
        {
         "Alabama": 0.8485054194103139,
         "Alaska": 0.8632488106958464,
         "Arizona": 1.4003206261762102,
         "Arkansas": 1.5774362981720345,
         "California": 2.9038159622552566,
         "Colorado": 0.4189998169133518,
         "Connecticut": 0.3438662925796513,
         "Delaware": 3.818149533825241,
         "District of Columbia": 1.3784757776034255,
         "Florida": 1.3304330721632536,
         "Georgia": 1.643893204559118,
         "Hawaii": 2.129098106651609,
         "Idaho": 2.0968944773852733,
         "Illinois": 2.0519537363277465,
         "Indiana": 0.3272154207141381,
         "Iowa": 0.3871109680696144,
         "Kansas": 0.6125667817667011,
         "Kentucky": 2.5849080966327773,
         "Label": "        Income in the past 12 months below poverty level",
         "Louisiana": 1.083228801655007,
         "Maine": 0.32065611804296595,
         "Maryland": 0.8436554286309503,
         "Massachusetts": 0.41801368758593466,
         "Michigan": 1.0803109900491563,
         "Minnesota": 0.5010024558585838,
         "Mississippi": 2.6200946329158668,
         "Missouri": 0.6696115354482807,
         "Montana": 0.3562224100001457,
         "Nebraska": 0.662531696926666,
         "Nevada": 0.42433039091812413,
         "New Hampshire": 0.5797607430090521,
         "New Jersey": 0.37442641845373287,
         "New Mexico": 0.9837493299650255,
         "New York": 0,
         "North Carolina": 1.2488316709700251,
         "North Dakota": 0.30226262049419145,
         "Ohio": 0.7000392602821326,
         "Oklahoma": 1.4093375843290397,
         "Oregon": 0.3329535393624174,
         "Pennsylvania": 5.683281376581961,
         "Puerto Rico": 3.945395526944995,
         "Rhode Island": 0.3116562919869452,
         "South Carolina": 0.5016917843461313,
         "South Dakota": 1.6976644634663856,
         "Tennessee": 1.0067469714291117,
         "Texas": 0.4448547950761239,
         "Utah": 0.24590950879611906,
         "Vermont": 0.8157609629922803,
         "Virginia": 0.923796278086791,
         "Washington": 0.6236548739538635,
         "West Virginia": 1.5553139485647287,
         "Wisconsin": 1.5453257951262156,
         "Wyoming": 0.29128732324210643,
         "_deepnote_index_column": 25
        },
        {
         "Alabama": 4.987346089070344,
         "Alaska": 7.913122552814124,
         "Arizona": 11.276528460090818,
         "Arkansas": 9.058671955369153,
         "California": 25.468544667076642,
         "Colorado": 4.458651325932778,
         "Connecticut": 3.5142728731451043,
         "Delaware": 33.02666927463735,
         "District of Columbia": 8.074328496009636,
         "Florida": 10.407804373943708,
         "Georgia": 11.928179987201473,
         "Hawaii": 26.02167621243751,
         "Idaho": 17.518089066394975,
         "Illinois": 17.409065974814116,
         "Indiana": 2.575081759935808,
         "Iowa": 3.4678025574731044,
         "Kansas": 5.187181152026714,
         "Kentucky": 14.81459126800021,
         "Label": "        Income in the past 12 months at or above the poverty level",
         "Louisiana": 5.689356328664363,
         "Maine": 2.6018515664622135,
         "Maryland": 9.85298172517158,
         "Massachusetts": 4.385803140868867,
         "Michigan": 7.712120095273979,
         "Minnesota": 5.359438741595271,
         "Mississippi": 12.772326700460312,
         "Missouri": 5.138792282938768,
         "Montana": 2.5734349276650303,
         "Nebraska": 6.124485241910945,
         "Nevada": 3.5196124069110617,
         "New Hampshire": 8.111813103610729,
         "New Jersey": 4.512160041714435,
         "New Mexico": 4.890445964664611,
         "New York": 0,
         "North Carolina": 9.409034693369334,
         "North Dakota": 2.5875516214829974,
         "Ohio": 5.117539192591991,
         "Oklahoma": 9.231109506373866,
         "Oregon": 2.612494597619047,
         "Pennsylvania": 47.362711798905906,
         "Puerto Rico": 5.962807052065911,
         "Rhode Island": 2.5559267666736813,
         "South Carolina": 3.3737216164767614,
         "South Dakota": 12.751422138222098,
         "Tennessee": 6.778697682006854,
         "Texas": 3.4483911056842884,
         "Utah": 2.703586045595808,
         "Vermont": 6.839707840103624,
         "Virginia": 8.727537889748533,
         "Washington": 6.244187186387776,
         "West Virginia": 8.150232189597514,
         "Wisconsin": 14.01400986970194,
         "Wyoming": 2.63237817195672,
         "_deepnote_index_column": 26
        },
        {
         "Alabama": 0.08104871165763163,
         "Alaska": 1.2545524233246406,
         "Arizona": 0.1570500326563698,
         "Arkansas": 0.23349093930521483,
         "California": 0.08899721852730948,
         "Colorado": 0.0884224194418748,
         "Connecticut": 0.11899180106832825,
         "Delaware": 3.4118277019200494,
         "District of Columbia": 1.643448906045483,
         "Florida": 0.04446348028078366,
         "Georgia": 0.11092591106025419,
         "Hawaii": 2.3182745601108112,
         "Idaho": 0.8946881781902788,
         "Illinois": 0.14553984091711014,
         "Indiana": 0.03419267382344717,
         "Iowa": 0.103960993787005,
         "Kansas": 0.17051762503143655,
         "Kentucky": 0.27023623898348403,
         "Label": "        Median Household Income for Households with a Citizen, Voting-Age Householder",
         "Louisiana": 0.0977711119057992,
         "Maine": 0.155968135572324,
         "Maryland": 0.21651169519576868,
         "Massachusetts": 0.08034367501197426,
         "Michigan": 0.06761623348541498,
         "Minnesota": 0.1038093322626186,
         "Mississippi": 0.31919195164991715,
         "Missouri": 0.07076533926709933,
         "Montana": 0.2015435830941593,
         "Nebraska": 0.30631402779186534,
         "Nevada": 0.11751734560030379,
         "New Hampshire": 0.6329710266850624,
         "New Jersey": 0.06741569589505825,
         "New Mexico": 0.19273920911990575,
         "New York": 0,
         "North Carolina": 0.07890467515105443,
         "North Dakota": 0.3403818800002115,
         "Ohio": 0.03809398099260824,
         "Oklahoma": 0.20252711061410997,
         "Oregon": 0.06223930183324291,
         "Pennsylvania": 0.34384798121132637,
         "Puerto Rico": 0.07953407889455791,
         "Rhode Island": 0.24592785000691092,
         "South Carolina": 0.0546098168945712,
         "South Dakota": 1.3114733831049517,
         "Tennessee": 0.08322565212645261,
         "Texas": 0.013572557927016126,
         "Utah": 0.10446544191868985,
         "Vermont": 0.9724750836541576,
         "Virginia": 0.1179718447311306,
         "Washington": 0.09778100766328096,
         "West Virginia": 0.30869407850146524,
         "Wisconsin": 0.22181339529651134,
         "Wyoming": 0.4296704208982483,
         "_deepnote_index_column": 27
        }
       ],
       "rows_top": [
        {
         "Alabama": 6,
         "Alaska": 9,
         "Arizona": 13,
         "Arkansas": 11,
         "California": 29,
         "Colorado": 5,
         "Connecticut": 4,
         "Delaware": 38,
         "District of Columbia": 10,
         "Florida": 12,
         "Georgia": 14,
         "Hawaii": 29,
         "Idaho": 19.999999999999996,
         "Illinois": 20,
         "Indiana": 3,
         "Iowa": 4,
         "Kansas": 6,
         "Kentucky": 18,
         "Label": "Citizens 18 years and over",
         "Louisiana": 6.999999999999999,
         "Maine": 3,
         "Maryland": 11,
         "Massachusetts": 5.000000000000001,
         "Michigan": 9,
         "Minnesota": 6,
         "Mississippi": 16,
         "Missouri": 6,
         "Montana": 3,
         "Nebraska": 7.000000000000001,
         "Nevada": 4,
         "New Hampshire": 9,
         "New Jersey": 5,
         "New Mexico": 6,
         "New York": 0,
         "North Carolina": 11,
         "North Dakota": 3,
         "Ohio": 6,
         "Oklahoma": 11,
         "Oregon": 3.0000000000000004,
         "Pennsylvania": 55,
         "Puerto Rico": 10.000000000000002,
         "Rhode Island": 3,
         "South Carolina": 4,
         "South Dakota": 15,
         "Tennessee": 7.999999999999999,
         "Texas": 4,
         "Utah": 3,
         "Vermont": 8,
         "Virginia": 10,
         "Washington": 7,
         "West Virginia": 10,
         "Wisconsin": 16,
         "Wyoming": 3,
         "_deepnote_index_column": 0
        },
        {
         "Alabama": 1.2426079114016118,
         "Alaska": 2.1555602317733973,
         "Arizona": 2.858377197851133,
         "Arkansas": 2.324058320803988,
         "California": 6.766446313552122,
         "Colorado": 1.1028669923681775,
         "Connecticut": 0.7962637198707908,
         "Delaware": 7.386485995336172,
         "District of Columbia": 2.7628406912705907,
         "Florida": 2.245302412640027,
         "Georgia": 3.123205791954612,
         "Hawaii": 5.874284067187012,
         "Idaho": 4.349296638332053,
         "Illinois": 4.226553059329573,
         "Indiana": 0.6440372995513842,
         "Iowa": 0.8447284075972223,
         "Kansas": 1.312214022951795,
         "Kentucky": 3.7561330503939097,
         "Label": "        18 to 29 years",
         "Louisiana": 1.4923238237692749,
         "Maine": 0.5089229924317781,
         "Maryland": 2.209708690670463,
         "Massachusetts": 1.072695641053544,
         "Michigan": 1.8772683317959007,
         "Minnesota": 1.1947949238771496,
         "Mississippi": 3.500393188072432,
         "Missouri": 1.231460902107969,
         "Montana": 0.5918173341686214,
         "Nebraska": 1.5021097474388885,
         "Nevada": 0.8344816752009236,
         "New Hampshire": 1.7249385873405796,
         "New Jersey": 0.9687788686443809,
         "New Mexico": 1.2583336429204504,
         "New York": 0,
         "North Carolina": 2.315005701403725,
         "North Dakota": 0.7357773230328316,
         "Ohio": 1.222772317439688,
         "Oklahoma": 2.421105527638191,
         "Oregon": 0.5983323709375629,
         "Pennsylvania": 10.842097584634706,
         "Puerto Rico": 2.0081544782867398,
         "Rhode Island": 0.6612852814860842,
         "South Carolina": 0.8287086206327822,
         "South Dakota": 3.150818511827585,
         "Tennessee": 1.6654178405198963,
         "Texas": 0.9500258724115562,
         "Utah": 0.8159558021425344,
         "Vermont": 1.6053122888657017,
         "Virginia": 2.1150167549502825,
         "Washington": 1.4590818963320034,
         "West Virginia": 1.867180283378914,
         "Wisconsin": 3.229545313072925,
         "Wyoming": 0.6016478955087583,
         "_deepnote_index_column": 1
        },
        {
         "Alabama": 1.3880543460341166,
         "Alaska": 2.445913904149225,
         "Arizona": 2.99259100542896,
         "Arkansas": 2.5814621745667483,
         "California": 7.136053683545269,
         "Colorado": 1.3275986258865247,
         "Connecticut": 0.846037948029445,
         "Delaware": 8.067238478110387,
         "District of Columbia": 3.1515046742642854,
         "Florida": 2.588504362820141,
         "Georgia": 3.483918828327033,
         "Hawaii": 7.095843015191254,
         "Idaho": 4.932777819475029,
         "Illinois": 4.793166016622356,
         "Indiana": 0.7050198776944306,
         "Iowa": 0.9173318024646585,
         "Kansas": 1.4122582970996131,
         "Kentucky": 4.187235133881225,
         "Label": "        30 to 44 years",
         "Louisiana": 1.7498811099717582,
         "Maine": 0.6369074805190438,
         "Maryland": 2.5991104475539046,
         "Massachusetts": 1.1129007403782991,
         "Michigan": 1.9729707944368184,
         "Minnesota": 1.4724705703601293,
         "Mississippi": 3.88281656549103,
         "Missouri": 1.414061039804721,
         "Montana": 0.6947981468261484,
         "Nebraska": 1.7132822801501169,
         "Nevada": 0.9922309829671457,
         "New Hampshire": 1.9121714843355657,
         "New Jersey": 1.1151060914110147,
         "New Mexico": 1.4207939052026557,
         "New York": 0,
         "North Carolina": 2.5312817017707117,
         "North Dakota": 0.736316671690012,
         "Ohio": 1.3740381230877536,
         "Oklahoma": 2.6874925727346186,
         "Oregon": 0.7308547526911846,
         "Pennsylvania": 12.206822630978657,
         "Puerto Rico": 2.1842765291891753,
         "Rhode Island": 0.6522973513125143,
         "South Carolina": 0.9126321369676503,
         "South Dakota": 3.5745623863178015,
         "Tennessee": 1.8788981483561324,
         "Texas": 1.0452475887636663,
         "Utah": 0.8569644346563402,
         "Vermont": 1.653238025561992,
         "Virginia": 2.419024714155173,
         "Washington": 1.7598503157198557,
         "West Virginia": 2.199344866185285,
         "Wisconsin": 3.66009368083723,
         "Wyoming": 0.7358178598112737,
         "_deepnote_index_column": 2
        },
        {
         "Alabama": 2.0364456555821704,
         "Alaska": 2.9556011904314565,
         "Arizona": 4.031399164100194,
         "Arkansas": 3.607214924428266,
         "California": 9.252952010598003,
         "Colorado": 1.6171742503083564,
         "Connecticut": 1.4492161576520493,
         "Delaware": 13.152376235838235,
         "District of Columbia": 2.503110793646572,
         "Florida": 3.9307536005621153,
         "Georgia": 4.730679693684844,
         "Hawaii": 9.048973641080329,
         "Idaho": 6.316234088727848,
         "Illinois": 6.746476989048532,
         "Indiana": 1.0169726332170257,
         "Iowa": 1.3179627701561392,
         "Kansas": 1.9650262919588395,
         "Kentucky": 6.169419923720339,
         "Label": "        45 to 64 years",
         "Louisiana": 2.312571930273925,
         "Maine": 1.0881483494775657,
         "Maryland": 3.888186752774788,
         "Massachusetts": 1.7245170781070909,
         "Michigan": 3.1275499882140476,
         "Minnesota": 2.050354110166417,
         "Mississippi": 5.242652827874669,
         "Missouri": 2.021693497389589,
         "Montana": 0.9866803129416222,
         "Nebraska": 2.2578253372553,
         "Nevada": 1.3071648244044092,
         "New Hampshire": 3.3344886765151265,
         "New Jersey": 1.8059336589477109,
         "New Mexico": 1.887631817771716,
         "New York": 0,
         "North Carolina": 3.754407250612737,
         "North Dakota": 0.9143228794873015,
         "Ohio": 2.0647138060812824,
         "Oklahoma": 3.5294789258465333,
         "Oregon": 0.9702653597880815,
         "Pennsylvania": 19.006251985950207,
         "Puerto Rico": 3.252920791538021,
         "Rhode Island": 1.025565419007144,
         "South Carolina": 1.3324595845745424,
         "South Dakota": 4.894404015521822,
         "Tennessee": 2.7280321471258278,
         "Texas": 1.2782648934993823,
         "Utah": 0.8320815813036777,
         "Vermont": 2.779612772200834,
         "Virginia": 3.3991241269674717,
         "Washington": 2.301702965845268,
         "West Virginia": 3.4183367594633154,
         "Wisconsin": 5.555588976576155,
         "Wyoming": 0.9985402772781359,
         "_deepnote_index_column": 3
        },
        {
         "Alabama": 1.3328920869821013,
         "Alaska": 1.4429246736459218,
         "Arizona": 3.117632632619712,
         "Arkansas": 2.4872645802009967,
         "California": 5.844547992304605,
         "Colorado": 0.952360131436941,
         "Connecticut": 0.9084821744477148,
         "Delaware": 9.393899290715208,
         "District of Columbia": 1.582543840818552,
         "Florida": 3.235439623977716,
         "Georgia": 2.6621956860335105,
         "Hawaii": 6.9808992765414075,
         "Idaho": 4.401691453465068,
         "Illinois": 4.233803934999536,
         "Indiana": 0.6339701895371598,
         "Iowa": 0.9199770197819802,
         "Kansas": 1.310501387989753,
         "Kentucky": 3.8872118920045273,
         "Label": "        65 years and over",
         "Louisiana": 1.445223135985041,
         "Maine": 0.7660211775716123,
         "Maryland": 2.302994109000845,
         "Massachusetts": 1.0898865404610665,
         "Michigan": 2.0222108855532333,
         "Minnesota": 1.2823803955963042,
         "Mississippi": 3.374137418561869,
         "Missouri": 1.332784560697721,
         "Montana": 0.7267042060636082,
         "Nebraska": 1.5267826351556955,
         "Nevada": 0.8661225174275214,
         "New Hampshire": 2.028401251808729,
         "New Jersey": 1.1101813809968937,
         "New Mexico": 1.4332406341051782,
         "New York": 0,
         "North Carolina": 2.399305346212826,
         "North Dakota": 0.613583125789855,
         "Ohio": 1.3384757533912761,
         "Oklahoma": 2.3619229737806577,
         "Oregon": 0.7005475165831713,
         "Pennsylvania": 12.944827798436432,
         "Puerto Rico": 2.554648200986065,
         "Rhode Island": 0.6608519481942579,
         "South Carolina": 0.9261996578250253,
         "South Dakota": 3.3802150863327918,
         "Tennessee": 1.727651863998143,
         "Texas": 0.7264616453253951,
         "Utah": 0.4949981818974475,
         "Vermont": 1.9618369133714726,
         "Virginia": 2.066834403927073,
         "Washington": 1.4793648221028735,
         "West Virginia": 2.515138090972485,
         "Wisconsin": 3.554772029513689,
         "Wyoming": 0.6639939674018319,
         "_deepnote_index_column": 4
        },
        {
         "Alabama": 2.85015241586418,
         "Alaska": 4.731153380780244,
         "Arizona": 6.398479994423893,
         "Arkansas": 5.31500257181293,
         "California": 14.24626095686221,
         "Colorado": 2.497718644002467,
         "Connecticut": 1.9163108441246728,
         "Delaware": 18.124547246579468,
         "District of Columbia": 4.671832642151396,
         "Florida": 5.770763804234328,
         "Georgia": 6.655047904985829,
         "Hawaii": 14.638080837693039,
         "Idaho": 9.948227982120928,
         "Illinois": 9.66491036793676,
         "Indiana": 1.4543463460299322,
         "Iowa": 1.9581311427931793,
         "Kansas": 2.9612950236049103,
         "Kentucky": 8.72123372512073,
         "Label": "        Male",
         "Louisiana": 3.3510252295480965,
         "Maine": 1.452468148181357,
         "Maryland": 5.234962674907122,
         "Massachusetts": 2.3837057597952582,
         "Michigan": 4.37634733055473,
         "Minnesota": 2.9559318748822108,
         "Mississippi": 7.590470299349566,
         "Missouri": 2.9017117130727743,
         "Montana": 1.5043415550925858,
         "Nebraska": 3.4452327822294353,
         "Nevada": 1.9976233226643074,
         "New Hampshire": 4.423612746912542,
         "New Jersey": 2.4020777195936844,
         "New Mexico": 2.927624281536755,
         "New York": 0,
         "North Carolina": 5.240542616354509,
         "North Dakota": 1.5388674735745598,
         "Ohio": 2.898857390409661,
         "Oklahoma": 5.360929867334581,
         "Oregon": 1.470351701052008,
         "Pennsylvania": 26.57634503781331,
         "Puerto Rico": 4.678482578323753,
         "Rhode Island": 1.4373515864605761,
         "South Carolina": 1.901588981207389,
         "South Dakota": 7.499408891203529,
         "Tennessee": 3.8269581724026365,
         "Texas": 1.9540899002255607,
         "Utah": 1.4968761692507357,
         "Vermont": 3.910129249171454,
         "Virginia": 4.853154794110935,
         "Washington": 3.471079381552445,
         "West Virginia": 4.900856509204434,
         "Wisconsin": 7.861269848337731,
         "Wyoming": 1.5205191355120788,
         "_deepnote_index_column": 5
        },
        {
         "Alabama": 3.1498475841358196,
         "Alaska": 4.268846619219756,
         "Arizona": 6.601520005576107,
         "Arkansas": 5.684997428187069,
         "California": 14.753739043137788,
         "Colorado": 2.5022813559975328,
         "Connecticut": 2.0836891558753274,
         "Delaware": 19.875452753420536,
         "District of Columbia": 5.328167357848604,
         "Florida": 6.2292361957656714,
         "Georgia": 7.344952095014171,
         "Hawaii": 14.361919162306963,
         "Idaho": 10.05177201787907,
         "Illinois": 10.335089632063239,
         "Indiana": 1.545653653970068,
         "Iowa": 2.0418688572068207,
         "Kansas": 3.03870497639509,
         "Kentucky": 9.27876627487927,
         "Label": "        Female",
         "Louisiana": 3.648974770451903,
         "Maine": 1.5475318518186427,
         "Maryland": 5.765037325092879,
         "Massachusetts": 2.616294240204742,
         "Michigan": 4.62365266944527,
         "Minnesota": 3.0440681251177892,
         "Mississippi": 8.409529700650435,
         "Missouri": 3.0982882869272257,
         "Montana": 1.4956584449074142,
         "Nebraska": 3.554767217770565,
         "Nevada": 2.002376677335693,
         "New Hampshire": 4.576387253087459,
         "New Jersey": 2.5979222804063156,
         "New Mexico": 3.072375718463245,
         "New York": 0,
         "North Carolina": 5.759457383645491,
         "North Dakota": 1.4611325264254404,
         "Ohio": 3.1011426095903394,
         "Oklahoma": 5.63907013266542,
         "Oregon": 1.5296482989479923,
         "Pennsylvania": 28.423654962186692,
         "Puerto Rico": 5.321517421676249,
         "Rhode Island": 1.562648413539424,
         "South Carolina": 2.0984110187926115,
         "South Dakota": 7.500591108796471,
         "Tennessee": 4.173041827597363,
         "Texas": 2.045910099774439,
         "Utah": 1.5031238307492643,
         "Vermont": 4.089870750828546,
         "Virginia": 5.146845205889065,
         "Washington": 3.5289206184475552,
         "West Virginia": 5.099143490795566,
         "Wisconsin": 8.13873015166227,
         "Wyoming": 1.479480864487921,
         "_deepnote_index_column": 6
        },
        {
         "Alabama": 4.213713548687413,
         "Alaska": 6.230116262466088,
         "Arizona": 10.500073573639469,
         "Arkansas": 8.768353841892853,
         "California": 18.436775620258345,
         "Colorado": 4.351845561594202,
         "Connecticut": 3.227789539716145,
         "Delaware": 27.513385964401202,
         "District of Columbia": 4.563092594316414,
         "Florida": 9.338045637946438,
         "Georgia": 8.583402866832675,
         "Hawaii": 8.106571923825339,
         "Idaho": 18.48788020574666,
         "Illinois": 15.079994349165586,
         "Indiana": 2.591372351160444,
         "Iowa": 3.7538744742114947,
         "Kansas": 5.250577332975061,
         "Kentucky": 16.081631526314524,
         "Label": "        White alone",
         "Louisiana": 4.506630233076492,
         "Maine": 2.878412494711211,
         "Maryland": 6.539443537840121,
         "Massachusetts": 4.147291078048312,
         "Michigan": 7.31371182193322,
         "Minnesota": 5.27783878600818,
         "Mississippi": 9.653642813852002,
         "Missouri": 5.078307581738562,
         "Montana": 2.7231093110330864,
         "Nebraska": 6.3203215336241,
         "Nevada": 2.760731430642175,
         "New Hampshire": 8.522436652421174,
         "New Jersey": 3.609744166738998,
         "New Mexico": 4.679719301783753,
         "New York": 0,
         "North Carolina": 7.895349227361495,
         "North Dakota": 2.683957550088041,
         "Ohio": 5.0459541602361035,
         "Oklahoma": 8.342920041434938,
         "Oregon": 2.628319740905199,
         "Pennsylvania": 46.00695547750115,
         "Puerto Rico": 6.577219621972037,
         "Rhode Island": 2.558904065239074,
         "South Carolina": 2.783379137612053,
         "South Dakota": 13.287175334459402,
         "Tennessee": 6.41191874315047,
         "Texas": 3.036989819770846,
         "Utah": 2.699476990103677,
         "Vermont": 7.638965846716,
         "Virginia": 7.080105109913825,
         "Washington": 5.658229171704286,
         "West Virginia": 9.407612576668683,
         "Wisconsin": 14.211149464508921,
         "Wyoming": 2.798122423001356,
         "_deepnote_index_column": 7
        },
        {
         "Alabama": 1.5829753257626449,
         "Alaska": 0.2962381915061513,
         "Arizona": 0.6078808984761221,
         "Arkansas": 1.6427504550130567,
         "California": 1.9460711649869595,
         "Colorado": 0.19917779640764724,
         "Connecticut": 0.40566944554413786,
         "Delaware": 8.376355139020097,
         "District of Columbia": 4.575345796771614,
         "Florida": 1.8025990005750983,
         "Georgia": 4.524412101887602,
         "Hawaii": 0.6576242540624453,
         "Idaho": 0.12633202758832143,
         "Illinois": 2.936741288976487,
         "Indiana": 0.26874946810450684,
         "Iowa": 0.10465538481767295,
         "Kansas": 0.3473378614725983,
         "Kentucky": 1.3871126019948832,
         "Label": "        Black or African American alone",
         "Louisiana": 2.2322548863440237,
         "Maine": 0.023189412895398262,
         "Maryland": 3.346687267803201,
         "Massachusetts": 0.33498027325924523,
         "Michigan": 1.202544970235499,
         "Minnesota": 0.2838569300452846,
         "Mississippi": 5.961277446178756,
         "Missouri": 0.6659804850465212,
         "Montana": 0,
         "Nebraska": 0.29766203468911656,
         "Nevada": 0.38940113706566126,
         "New Hampshire": 0.12541642830702965,
         "New Jersey": 0.6891109772400132,
         "New Mexico": 0.14198505490306385,
         "New York": 0,
         "North Carolina": 2.4130537242617667,
         "North Dakota": 0.071537725323477,
         "Ohio": 0.7043829366691036,
         "Oklahoma": 0.790847505753392,
         "Oregon": 0.05163820847848618,
         "Pennsylvania": 5.697676320685003,
         "Puerto Rico": 1.266446777641909,
         "Rhode Island": 0.16651952427973907,
         "South Carolina": 1.0608328093178396,
         "South Dakota": 0.17621996355988126,
         "Tennessee": 1.3092962870574085,
         "Texas": 0.5367984385105143,
         "Utah": 0.03195836233753852,
         "Vermont": 0.07389550526311582,
         "Virginia": 1.9674087168228327,
         "Washington": 0.2507460033434543,
         "West Virginia": 0.3794689335489163,
         "Wisconsin": 0.9190663540034268,
         "Wyoming": 0,
         "_deepnote_index_column": 8
        }
       ]
      },
      "text/html": [
       "<div>\n",
       "<style scoped>\n",
       "    .dataframe tbody tr th:only-of-type {\n",
       "        vertical-align: middle;\n",
       "    }\n",
       "\n",
       "    .dataframe tbody tr th {\n",
       "        vertical-align: top;\n",
       "    }\n",
       "\n",
       "    .dataframe thead th {\n",
       "        text-align: right;\n",
       "    }\n",
       "</style>\n",
       "<table border=\"1\" class=\"dataframe\">\n",
       "  <thead>\n",
       "    <tr style=\"text-align: right;\">\n",
       "      <th></th>\n",
       "      <th>Label</th>\n",
       "      <th>Alaska</th>\n",
       "      <th>Maine</th>\n",
       "      <th>North Carolina</th>\n",
       "      <th>Missouri</th>\n",
       "      <th>Pennsylvania</th>\n",
       "      <th>Michigan</th>\n",
       "      <th>Nebraska</th>\n",
       "      <th>Oregon</th>\n",
       "      <th>Wyoming</th>\n",
       "      <th>...</th>\n",
       "      <th>Arkansas</th>\n",
       "      <th>Delaware</th>\n",
       "      <th>Minnesota</th>\n",
       "      <th>Montana</th>\n",
       "      <th>Arizona</th>\n",
       "      <th>Florida</th>\n",
       "      <th>Massachusetts</th>\n",
       "      <th>District of Columbia</th>\n",
       "      <th>Utah</th>\n",
       "      <th>New York</th>\n",
       "    </tr>\n",
       "  </thead>\n",
       "  <tbody>\n",
       "    <tr>\n",
       "      <th>0</th>\n",
       "      <td>Citizens 18 years and over</td>\n",
       "      <td>9.000000</td>\n",
       "      <td>3.000000</td>\n",
       "      <td>11.000000</td>\n",
       "      <td>6.000000</td>\n",
       "      <td>55.000000</td>\n",
       "      <td>9.000000</td>\n",
       "      <td>7.000000</td>\n",
       "      <td>3.000000</td>\n",
       "      <td>3.000000</td>\n",
       "      <td>...</td>\n",
       "      <td>11.000000</td>\n",
       "      <td>38.000000</td>\n",
       "      <td>6.000000</td>\n",
       "      <td>3.000000</td>\n",
       "      <td>13.000000</td>\n",
       "      <td>12.000000</td>\n",
       "      <td>5.000000</td>\n",
       "      <td>10.000000</td>\n",
       "      <td>3.000000</td>\n",
       "      <td>0.0</td>\n",
       "    </tr>\n",
       "    <tr>\n",
       "      <th>1</th>\n",
       "      <td>18 to 29 years</td>\n",
       "      <td>2.155560</td>\n",
       "      <td>0.508923</td>\n",
       "      <td>2.315006</td>\n",
       "      <td>1.231461</td>\n",
       "      <td>10.842098</td>\n",
       "      <td>1.877268</td>\n",
       "      <td>1.502110</td>\n",
       "      <td>0.598332</td>\n",
       "      <td>0.601648</td>\n",
       "      <td>...</td>\n",
       "      <td>2.324058</td>\n",
       "      <td>7.386486</td>\n",
       "      <td>1.194795</td>\n",
       "      <td>0.591817</td>\n",
       "      <td>2.858377</td>\n",
       "      <td>2.245302</td>\n",
       "      <td>1.072696</td>\n",
       "      <td>2.762841</td>\n",
       "      <td>0.815956</td>\n",
       "      <td>0.0</td>\n",
       "    </tr>\n",
       "    <tr>\n",
       "      <th>2</th>\n",
       "      <td>30 to 44 years</td>\n",
       "      <td>2.445914</td>\n",
       "      <td>0.636907</td>\n",
       "      <td>2.531282</td>\n",
       "      <td>1.414061</td>\n",
       "      <td>12.206823</td>\n",
       "      <td>1.972971</td>\n",
       "      <td>1.713282</td>\n",
       "      <td>0.730855</td>\n",
       "      <td>0.735818</td>\n",
       "      <td>...</td>\n",
       "      <td>2.581462</td>\n",
       "      <td>8.067238</td>\n",
       "      <td>1.472471</td>\n",
       "      <td>0.694798</td>\n",
       "      <td>2.992591</td>\n",
       "      <td>2.588504</td>\n",
       "      <td>1.112901</td>\n",
       "      <td>3.151505</td>\n",
       "      <td>0.856964</td>\n",
       "      <td>0.0</td>\n",
       "    </tr>\n",
       "    <tr>\n",
       "      <th>3</th>\n",
       "      <td>45 to 64 years</td>\n",
       "      <td>2.955601</td>\n",
       "      <td>1.088148</td>\n",
       "      <td>3.754407</td>\n",
       "      <td>2.021693</td>\n",
       "      <td>19.006252</td>\n",
       "      <td>3.127550</td>\n",
       "      <td>2.257825</td>\n",
       "      <td>0.970265</td>\n",
       "      <td>0.998540</td>\n",
       "      <td>...</td>\n",
       "      <td>3.607215</td>\n",
       "      <td>13.152376</td>\n",
       "      <td>2.050354</td>\n",
       "      <td>0.986680</td>\n",
       "      <td>4.031399</td>\n",
       "      <td>3.930754</td>\n",
       "      <td>1.724517</td>\n",
       "      <td>2.503111</td>\n",
       "      <td>0.832082</td>\n",
       "      <td>0.0</td>\n",
       "    </tr>\n",
       "    <tr>\n",
       "      <th>4</th>\n",
       "      <td>65 years and over</td>\n",
       "      <td>1.442925</td>\n",
       "      <td>0.766021</td>\n",
       "      <td>2.399305</td>\n",
       "      <td>1.332785</td>\n",
       "      <td>12.944828</td>\n",
       "      <td>2.022211</td>\n",
       "      <td>1.526783</td>\n",
       "      <td>0.700548</td>\n",
       "      <td>0.663994</td>\n",
       "      <td>...</td>\n",
       "      <td>2.487265</td>\n",
       "      <td>9.393899</td>\n",
       "      <td>1.282380</td>\n",
       "      <td>0.726704</td>\n",
       "      <td>3.117633</td>\n",
       "      <td>3.235440</td>\n",
       "      <td>1.089887</td>\n",
       "      <td>1.582544</td>\n",
       "      <td>0.494998</td>\n",
       "      <td>0.0</td>\n",
       "    </tr>\n",
       "    <tr>\n",
       "      <th>5</th>\n",
       "      <td>Male</td>\n",
       "      <td>4.731153</td>\n",
       "      <td>1.452468</td>\n",
       "      <td>5.240543</td>\n",
       "      <td>2.901712</td>\n",
       "      <td>26.576345</td>\n",
       "      <td>4.376347</td>\n",
       "      <td>3.445233</td>\n",
       "      <td>1.470352</td>\n",
       "      <td>1.520519</td>\n",
       "      <td>...</td>\n",
       "      <td>5.315003</td>\n",
       "      <td>18.124547</td>\n",
       "      <td>2.955932</td>\n",
       "      <td>1.504342</td>\n",
       "      <td>6.398480</td>\n",
       "      <td>5.770764</td>\n",
       "      <td>2.383706</td>\n",
       "      <td>4.671833</td>\n",
       "      <td>1.496876</td>\n",
       "      <td>0.0</td>\n",
       "    </tr>\n",
       "    <tr>\n",
       "      <th>6</th>\n",
       "      <td>Female</td>\n",
       "      <td>4.268847</td>\n",
       "      <td>1.547532</td>\n",
       "      <td>5.759457</td>\n",
       "      <td>3.098288</td>\n",
       "      <td>28.423655</td>\n",
       "      <td>4.623653</td>\n",
       "      <td>3.554767</td>\n",
       "      <td>1.529648</td>\n",
       "      <td>1.479481</td>\n",
       "      <td>...</td>\n",
       "      <td>5.684997</td>\n",
       "      <td>19.875453</td>\n",
       "      <td>3.044068</td>\n",
       "      <td>1.495658</td>\n",
       "      <td>6.601520</td>\n",
       "      <td>6.229236</td>\n",
       "      <td>2.616294</td>\n",
       "      <td>5.328167</td>\n",
       "      <td>1.503124</td>\n",
       "      <td>0.0</td>\n",
       "    </tr>\n",
       "    <tr>\n",
       "      <th>7</th>\n",
       "      <td>White alone</td>\n",
       "      <td>6.230116</td>\n",
       "      <td>2.878412</td>\n",
       "      <td>7.895349</td>\n",
       "      <td>5.078308</td>\n",
       "      <td>46.006955</td>\n",
       "      <td>7.313712</td>\n",
       "      <td>6.320322</td>\n",
       "      <td>2.628320</td>\n",
       "      <td>2.798122</td>\n",
       "      <td>...</td>\n",
       "      <td>8.768354</td>\n",
       "      <td>27.513386</td>\n",
       "      <td>5.277839</td>\n",
       "      <td>2.723109</td>\n",
       "      <td>10.500074</td>\n",
       "      <td>9.338046</td>\n",
       "      <td>4.147291</td>\n",
       "      <td>4.563093</td>\n",
       "      <td>2.699477</td>\n",
       "      <td>0.0</td>\n",
       "    </tr>\n",
       "    <tr>\n",
       "      <th>8</th>\n",
       "      <td>Black or African American alone</td>\n",
       "      <td>0.296238</td>\n",
       "      <td>0.023189</td>\n",
       "      <td>2.413054</td>\n",
       "      <td>0.665980</td>\n",
       "      <td>5.697676</td>\n",
       "      <td>1.202545</td>\n",
       "      <td>0.297662</td>\n",
       "      <td>0.051638</td>\n",
       "      <td>0.000000</td>\n",
       "      <td>...</td>\n",
       "      <td>1.642750</td>\n",
       "      <td>8.376355</td>\n",
       "      <td>0.283857</td>\n",
       "      <td>0.000000</td>\n",
       "      <td>0.607881</td>\n",
       "      <td>1.802599</td>\n",
       "      <td>0.334980</td>\n",
       "      <td>4.575346</td>\n",
       "      <td>0.031958</td>\n",
       "      <td>0.0</td>\n",
       "    </tr>\n",
       "    <tr>\n",
       "      <th>9</th>\n",
       "      <td>Asian alone</td>\n",
       "      <td>0.447562</td>\n",
       "      <td>0.023618</td>\n",
       "      <td>0.205433</td>\n",
       "      <td>0.077474</td>\n",
       "      <td>1.306909</td>\n",
       "      <td>0.184118</td>\n",
       "      <td>0.095091</td>\n",
       "      <td>0.106020</td>\n",
       "      <td>0.020125</td>\n",
       "      <td>...</td>\n",
       "      <td>0.113916</td>\n",
       "      <td>0.828353</td>\n",
       "      <td>0.207338</td>\n",
       "      <td>0.016423</td>\n",
       "      <td>0.338945</td>\n",
       "      <td>0.274140</td>\n",
       "      <td>0.242657</td>\n",
       "      <td>0.364025</td>\n",
       "      <td>0.058958</td>\n",
       "      <td>0.0</td>\n",
       "    </tr>\n",
       "    <tr>\n",
       "      <th>10</th>\n",
       "      <td>Native Hawaiian and Other Pacific Isla...</td>\n",
       "      <td>0.073049</td>\n",
       "      <td>0.000000</td>\n",
       "      <td>0.008228</td>\n",
       "      <td>0.005116</td>\n",
       "      <td>0.000000</td>\n",
       "      <td>0.003463</td>\n",
       "      <td>0.000000</td>\n",
       "      <td>0.008885</td>\n",
       "      <td>0.000000</td>\n",
       "      <td>...</td>\n",
       "      <td>0.013195</td>\n",
       "      <td>0.000000</td>\n",
       "      <td>0.000000</td>\n",
       "      <td>0.000000</td>\n",
       "      <td>0.028485</td>\n",
       "      <td>0.007388</td>\n",
       "      <td>0.000000</td>\n",
       "      <td>0.000000</td>\n",
       "      <td>0.025691</td>\n",
       "      <td>0.0</td>\n",
       "    </tr>\n",
       "    <tr>\n",
       "      <th>11</th>\n",
       "      <td>Some Other Race alone</td>\n",
       "      <td>0.118029</td>\n",
       "      <td>0.005671</td>\n",
       "      <td>0.138303</td>\n",
       "      <td>0.035164</td>\n",
       "      <td>0.972682</td>\n",
       "      <td>0.068932</td>\n",
       "      <td>0.085161</td>\n",
       "      <td>0.059030</td>\n",
       "      <td>0.000000</td>\n",
       "      <td>...</td>\n",
       "      <td>0.171006</td>\n",
       "      <td>0.345542</td>\n",
       "      <td>0.053294</td>\n",
       "      <td>0.012766</td>\n",
       "      <td>0.546273</td>\n",
       "      <td>0.297473</td>\n",
       "      <td>0.155870</td>\n",
       "      <td>0.171336</td>\n",
       "      <td>0.085199</td>\n",
       "      <td>0.0</td>\n",
       "    </tr>\n",
       "    <tr>\n",
       "      <th>12</th>\n",
       "      <td>Two or More Races</td>\n",
       "      <td>0.561075</td>\n",
       "      <td>0.000000</td>\n",
       "      <td>0.210611</td>\n",
       "      <td>0.108994</td>\n",
       "      <td>0.914338</td>\n",
       "      <td>0.180429</td>\n",
       "      <td>0.139477</td>\n",
       "      <td>0.111133</td>\n",
       "      <td>0.000000</td>\n",
       "      <td>...</td>\n",
       "      <td>0.212728</td>\n",
       "      <td>0.690188</td>\n",
       "      <td>0.116832</td>\n",
       "      <td>0.000000</td>\n",
       "      <td>0.395857</td>\n",
       "      <td>0.245772</td>\n",
       "      <td>0.105284</td>\n",
       "      <td>0.281957</td>\n",
       "      <td>0.066629</td>\n",
       "      <td>0.0</td>\n",
       "    </tr>\n",
       "    <tr>\n",
       "      <th>13</th>\n",
       "      <td>Hispanic or Latino</td>\n",
       "      <td>0.537554</td>\n",
       "      <td>0.042226</td>\n",
       "      <td>0.487221</td>\n",
       "      <td>0.160252</td>\n",
       "      <td>2.965246</td>\n",
       "      <td>0.316005</td>\n",
       "      <td>0.441419</td>\n",
       "      <td>0.229162</td>\n",
       "      <td>0.226105</td>\n",
       "      <td>...</td>\n",
       "      <td>0.426021</td>\n",
       "      <td>2.047107</td>\n",
       "      <td>0.182240</td>\n",
       "      <td>0.089206</td>\n",
       "      <td>3.068726</td>\n",
       "      <td>2.459790</td>\n",
       "      <td>0.445131</td>\n",
       "      <td>0.697920</td>\n",
       "      <td>0.273431</td>\n",
       "      <td>0.0</td>\n",
       "    </tr>\n",
       "    <tr>\n",
       "      <th>14</th>\n",
       "      <td>White alone, Not Hispanic or Latino</td>\n",
       "      <td>5.902409</td>\n",
       "      <td>2.847831</td>\n",
       "      <td>7.592680</td>\n",
       "      <td>4.963729</td>\n",
       "      <td>44.366629</td>\n",
       "      <td>7.091778</td>\n",
       "      <td>5.997038</td>\n",
       "      <td>2.482422</td>\n",
       "      <td>2.616895</td>\n",
       "      <td>...</td>\n",
       "      <td>8.532172</td>\n",
       "      <td>26.120147</td>\n",
       "      <td>5.167406</td>\n",
       "      <td>2.658190</td>\n",
       "      <td>8.237878</td>\n",
       "      <td>7.300617</td>\n",
       "      <td>3.892599</td>\n",
       "      <td>4.163961</td>\n",
       "      <td>2.530590</td>\n",
       "      <td>0.0</td>\n",
       "    </tr>\n",
       "    <tr>\n",
       "      <th>15</th>\n",
       "      <td>Less than 9th grade</td>\n",
       "      <td>0.179917</td>\n",
       "      <td>0.068929</td>\n",
       "      <td>0.289469</td>\n",
       "      <td>0.147785</td>\n",
       "      <td>1.400763</td>\n",
       "      <td>0.192281</td>\n",
       "      <td>0.165189</td>\n",
       "      <td>0.056301</td>\n",
       "      <td>0.047022</td>\n",
       "      <td>...</td>\n",
       "      <td>0.370400</td>\n",
       "      <td>0.886707</td>\n",
       "      <td>0.109263</td>\n",
       "      <td>0.049873</td>\n",
       "      <td>0.408540</td>\n",
       "      <td>0.376163</td>\n",
       "      <td>0.147156</td>\n",
       "      <td>0.217936</td>\n",
       "      <td>0.040450</td>\n",
       "      <td>0.0</td>\n",
       "    </tr>\n",
       "    <tr>\n",
       "      <th>16</th>\n",
       "      <td>9th to 12th grade, no diploma</td>\n",
       "      <td>0.447156</td>\n",
       "      <td>0.147173</td>\n",
       "      <td>0.843246</td>\n",
       "      <td>0.428548</td>\n",
       "      <td>3.466134</td>\n",
       "      <td>0.596076</td>\n",
       "      <td>0.345791</td>\n",
       "      <td>0.179652</td>\n",
       "      <td>0.179276</td>\n",
       "      <td>...</td>\n",
       "      <td>0.907761</td>\n",
       "      <td>2.509306</td>\n",
       "      <td>0.265820</td>\n",
       "      <td>0.157738</td>\n",
       "      <td>0.932816</td>\n",
       "      <td>0.867491</td>\n",
       "      <td>0.258880</td>\n",
       "      <td>0.472499</td>\n",
       "      <td>0.161744</td>\n",
       "      <td>0.0</td>\n",
       "    </tr>\n",
       "    <tr>\n",
       "      <th>17</th>\n",
       "      <td>High school graduate (includes equival...</td>\n",
       "      <td>2.713152</td>\n",
       "      <td>0.959704</td>\n",
       "      <td>2.892340</td>\n",
       "      <td>1.846445</td>\n",
       "      <td>19.333872</td>\n",
       "      <td>2.646363</td>\n",
       "      <td>1.850664</td>\n",
       "      <td>0.704847</td>\n",
       "      <td>0.888833</td>\n",
       "      <td>...</td>\n",
       "      <td>3.810907</td>\n",
       "      <td>12.880687</td>\n",
       "      <td>1.494766</td>\n",
       "      <td>0.857406</td>\n",
       "      <td>3.275757</td>\n",
       "      <td>3.467148</td>\n",
       "      <td>1.189835</td>\n",
       "      <td>1.889045</td>\n",
       "      <td>0.712683</td>\n",
       "      <td>0.0</td>\n",
       "    </tr>\n",
       "    <tr>\n",
       "      <th>18</th>\n",
       "      <td>Some college, no degree</td>\n",
       "      <td>2.514600</td>\n",
       "      <td>0.663305</td>\n",
       "      <td>2.649256</td>\n",
       "      <td>1.484339</td>\n",
       "      <td>10.078957</td>\n",
       "      <td>2.327861</td>\n",
       "      <td>1.772588</td>\n",
       "      <td>0.826491</td>\n",
       "      <td>0.832478</td>\n",
       "      <td>...</td>\n",
       "      <td>2.716433</td>\n",
       "      <td>7.873197</td>\n",
       "      <td>1.389960</td>\n",
       "      <td>0.778967</td>\n",
       "      <td>3.587557</td>\n",
       "      <td>2.648818</td>\n",
       "      <td>0.954658</td>\n",
       "      <td>1.539154</td>\n",
       "      <td>0.847638</td>\n",
       "      <td>0.0</td>\n",
       "    </tr>\n",
       "    <tr>\n",
       "      <th>19</th>\n",
       "      <td>Associate's degree</td>\n",
       "      <td>0.705111</td>\n",
       "      <td>0.278242</td>\n",
       "      <td>1.058345</td>\n",
       "      <td>0.476669</td>\n",
       "      <td>4.532113</td>\n",
       "      <td>0.822821</td>\n",
       "      <td>0.734339</td>\n",
       "      <td>0.272523</td>\n",
       "      <td>0.318662</td>\n",
       "      <td>...</td>\n",
       "      <td>0.827921</td>\n",
       "      <td>2.864073</td>\n",
       "      <td>0.685415</td>\n",
       "      <td>0.275525</td>\n",
       "      <td>1.152677</td>\n",
       "      <td>1.204563</td>\n",
       "      <td>0.367962</td>\n",
       "      <td>0.259179</td>\n",
       "      <td>0.308748</td>\n",
       "      <td>0.0</td>\n",
       "    </tr>\n",
       "    <tr>\n",
       "      <th>20</th>\n",
       "      <td>Bachelor's degree</td>\n",
       "      <td>1.506758</td>\n",
       "      <td>0.574966</td>\n",
       "      <td>2.157893</td>\n",
       "      <td>1.019294</td>\n",
       "      <td>10.112229</td>\n",
       "      <td>1.527146</td>\n",
       "      <td>1.439852</td>\n",
       "      <td>0.613114</td>\n",
       "      <td>0.470010</td>\n",
       "      <td>...</td>\n",
       "      <td>1.531228</td>\n",
       "      <td>6.606103</td>\n",
       "      <td>1.395933</td>\n",
       "      <td>0.588048</td>\n",
       "      <td>2.336180</td>\n",
       "      <td>2.195453</td>\n",
       "      <td>1.200775</td>\n",
       "      <td>2.604746</td>\n",
       "      <td>0.621242</td>\n",
       "      <td>0.0</td>\n",
       "    </tr>\n",
       "    <tr>\n",
       "      <th>21</th>\n",
       "      <td>Graduate or professional degree</td>\n",
       "      <td>0.933305</td>\n",
       "      <td>0.307680</td>\n",
       "      <td>1.109452</td>\n",
       "      <td>0.596919</td>\n",
       "      <td>6.075932</td>\n",
       "      <td>0.887453</td>\n",
       "      <td>0.691576</td>\n",
       "      <td>0.347073</td>\n",
       "      <td>0.263719</td>\n",
       "      <td>...</td>\n",
       "      <td>0.835350</td>\n",
       "      <td>4.379926</td>\n",
       "      <td>0.658842</td>\n",
       "      <td>0.292443</td>\n",
       "      <td>1.306474</td>\n",
       "      <td>1.240363</td>\n",
       "      <td>0.880733</td>\n",
       "      <td>3.017441</td>\n",
       "      <td>0.307495</td>\n",
       "      <td>0.0</td>\n",
       "    </tr>\n",
       "    <tr>\n",
       "      <th>22</th>\n",
       "      <td>High school degree or higher</td>\n",
       "      <td>8.372927</td>\n",
       "      <td>2.783898</td>\n",
       "      <td>9.867286</td>\n",
       "      <td>5.423667</td>\n",
       "      <td>50.133103</td>\n",
       "      <td>8.211643</td>\n",
       "      <td>6.489020</td>\n",
       "      <td>2.764047</td>\n",
       "      <td>2.773701</td>\n",
       "      <td>...</td>\n",
       "      <td>9.721839</td>\n",
       "      <td>34.603987</td>\n",
       "      <td>5.624917</td>\n",
       "      <td>2.792388</td>\n",
       "      <td>11.658644</td>\n",
       "      <td>10.756346</td>\n",
       "      <td>4.593964</td>\n",
       "      <td>9.309565</td>\n",
       "      <td>2.797807</td>\n",
       "      <td>0.0</td>\n",
       "    </tr>\n",
       "    <tr>\n",
       "      <th>23</th>\n",
       "      <td>Bachelor's degree or higher</td>\n",
       "      <td>2.440063</td>\n",
       "      <td>0.882646</td>\n",
       "      <td>3.267345</td>\n",
       "      <td>1.616214</td>\n",
       "      <td>16.188161</td>\n",
       "      <td>2.414598</td>\n",
       "      <td>2.131428</td>\n",
       "      <td>0.960186</td>\n",
       "      <td>0.733729</td>\n",
       "      <td>...</td>\n",
       "      <td>2.366577</td>\n",
       "      <td>10.986029</td>\n",
       "      <td>2.054775</td>\n",
       "      <td>0.880491</td>\n",
       "      <td>3.642654</td>\n",
       "      <td>3.435817</td>\n",
       "      <td>2.081509</td>\n",
       "      <td>5.622187</td>\n",
       "      <td>0.928737</td>\n",
       "      <td>0.0</td>\n",
       "    </tr>\n",
       "    <tr>\n",
       "      <th>24</th>\n",
       "      <td>Total Citizens, 18 years and older, fo...</td>\n",
       "      <td>8.776371</td>\n",
       "      <td>2.922508</td>\n",
       "      <td>10.657866</td>\n",
       "      <td>5.808404</td>\n",
       "      <td>53.045993</td>\n",
       "      <td>8.792431</td>\n",
       "      <td>6.787017</td>\n",
       "      <td>2.945448</td>\n",
       "      <td>2.923665</td>\n",
       "      <td>...</td>\n",
       "      <td>10.636108</td>\n",
       "      <td>36.844819</td>\n",
       "      <td>5.860441</td>\n",
       "      <td>2.929657</td>\n",
       "      <td>12.676849</td>\n",
       "      <td>11.738237</td>\n",
       "      <td>4.803817</td>\n",
       "      <td>9.452804</td>\n",
       "      <td>2.949496</td>\n",
       "      <td>0.0</td>\n",
       "    </tr>\n",
       "    <tr>\n",
       "      <th>25</th>\n",
       "      <td>Income in the past 12 months below pov...</td>\n",
       "      <td>0.863249</td>\n",
       "      <td>0.320656</td>\n",
       "      <td>1.248832</td>\n",
       "      <td>0.669612</td>\n",
       "      <td>5.683281</td>\n",
       "      <td>1.080311</td>\n",
       "      <td>0.662532</td>\n",
       "      <td>0.332954</td>\n",
       "      <td>0.291287</td>\n",
       "      <td>...</td>\n",
       "      <td>1.577436</td>\n",
       "      <td>3.818150</td>\n",
       "      <td>0.501002</td>\n",
       "      <td>0.356222</td>\n",
       "      <td>1.400321</td>\n",
       "      <td>1.330433</td>\n",
       "      <td>0.418014</td>\n",
       "      <td>1.378476</td>\n",
       "      <td>0.245910</td>\n",
       "      <td>0.0</td>\n",
       "    </tr>\n",
       "    <tr>\n",
       "      <th>26</th>\n",
       "      <td>Income in the past 12 months at or abo...</td>\n",
       "      <td>7.913123</td>\n",
       "      <td>2.601852</td>\n",
       "      <td>9.409035</td>\n",
       "      <td>5.138792</td>\n",
       "      <td>47.362712</td>\n",
       "      <td>7.712120</td>\n",
       "      <td>6.124485</td>\n",
       "      <td>2.612495</td>\n",
       "      <td>2.632378</td>\n",
       "      <td>...</td>\n",
       "      <td>9.058672</td>\n",
       "      <td>33.026669</td>\n",
       "      <td>5.359439</td>\n",
       "      <td>2.573435</td>\n",
       "      <td>11.276528</td>\n",
       "      <td>10.407804</td>\n",
       "      <td>4.385803</td>\n",
       "      <td>8.074328</td>\n",
       "      <td>2.703586</td>\n",
       "      <td>0.0</td>\n",
       "    </tr>\n",
       "    <tr>\n",
       "      <th>27</th>\n",
       "      <td>Median Household Income for Households...</td>\n",
       "      <td>1.254552</td>\n",
       "      <td>0.155968</td>\n",
       "      <td>0.078905</td>\n",
       "      <td>0.070765</td>\n",
       "      <td>0.343848</td>\n",
       "      <td>0.067616</td>\n",
       "      <td>0.306314</td>\n",
       "      <td>0.062239</td>\n",
       "      <td>0.429670</td>\n",
       "      <td>...</td>\n",
       "      <td>0.233491</td>\n",
       "      <td>3.411828</td>\n",
       "      <td>0.103809</td>\n",
       "      <td>0.201544</td>\n",
       "      <td>0.157050</td>\n",
       "      <td>0.044463</td>\n",
       "      <td>0.080344</td>\n",
       "      <td>1.643449</td>\n",
       "      <td>0.104465</td>\n",
       "      <td>0.0</td>\n",
       "    </tr>\n",
       "  </tbody>\n",
       "</table>\n",
       "<p>28 rows × 53 columns</p>\n",
       "</div>"
      ],
      "text/plain": [
       "                                                Label    Alaska     Maine  \\\n",
       "0                          Citizens 18 years and over  9.000000  3.000000   \n",
       "1                                      18 to 29 years  2.155560  0.508923   \n",
       "2                                      30 to 44 years  2.445914  0.636907   \n",
       "3                                      45 to 64 years  2.955601  1.088148   \n",
       "4                                   65 years and over  1.442925  0.766021   \n",
       "5                                                Male  4.731153  1.452468   \n",
       "6                                              Female  4.268847  1.547532   \n",
       "7                                         White alone  6.230116  2.878412   \n",
       "8                     Black or African American alone  0.296238  0.023189   \n",
       "9                                         Asian alone  0.447562  0.023618   \n",
       "10          Native Hawaiian and Other Pacific Isla...  0.073049  0.000000   \n",
       "11                              Some Other Race alone  0.118029  0.005671   \n",
       "12                                  Two or More Races  0.561075  0.000000   \n",
       "13                                 Hispanic or Latino  0.537554  0.042226   \n",
       "14                White alone, Not Hispanic or Latino  5.902409  2.847831   \n",
       "15                                Less than 9th grade  0.179917  0.068929   \n",
       "16                      9th to 12th grade, no diploma  0.447156  0.147173   \n",
       "17          High school graduate (includes equival...  2.713152  0.959704   \n",
       "18                            Some college, no degree  2.514600  0.663305   \n",
       "19                                 Associate's degree  0.705111  0.278242   \n",
       "20                                  Bachelor's degree  1.506758  0.574966   \n",
       "21                    Graduate or professional degree  0.933305  0.307680   \n",
       "22                       High school degree or higher  8.372927  2.783898   \n",
       "23                        Bachelor's degree or higher  2.440063  0.882646   \n",
       "24          Total Citizens, 18 years and older, fo...  8.776371  2.922508   \n",
       "25          Income in the past 12 months below pov...  0.863249  0.320656   \n",
       "26          Income in the past 12 months at or abo...  7.913123  2.601852   \n",
       "27          Median Household Income for Households...  1.254552  0.155968   \n",
       "\n",
       "    North Carolina  Missouri  Pennsylvania  Michigan  Nebraska    Oregon  \\\n",
       "0        11.000000  6.000000     55.000000  9.000000  7.000000  3.000000   \n",
       "1         2.315006  1.231461     10.842098  1.877268  1.502110  0.598332   \n",
       "2         2.531282  1.414061     12.206823  1.972971  1.713282  0.730855   \n",
       "3         3.754407  2.021693     19.006252  3.127550  2.257825  0.970265   \n",
       "4         2.399305  1.332785     12.944828  2.022211  1.526783  0.700548   \n",
       "5         5.240543  2.901712     26.576345  4.376347  3.445233  1.470352   \n",
       "6         5.759457  3.098288     28.423655  4.623653  3.554767  1.529648   \n",
       "7         7.895349  5.078308     46.006955  7.313712  6.320322  2.628320   \n",
       "8         2.413054  0.665980      5.697676  1.202545  0.297662  0.051638   \n",
       "9         0.205433  0.077474      1.306909  0.184118  0.095091  0.106020   \n",
       "10        0.008228  0.005116      0.000000  0.003463  0.000000  0.008885   \n",
       "11        0.138303  0.035164      0.972682  0.068932  0.085161  0.059030   \n",
       "12        0.210611  0.108994      0.914338  0.180429  0.139477  0.111133   \n",
       "13        0.487221  0.160252      2.965246  0.316005  0.441419  0.229162   \n",
       "14        7.592680  4.963729     44.366629  7.091778  5.997038  2.482422   \n",
       "15        0.289469  0.147785      1.400763  0.192281  0.165189  0.056301   \n",
       "16        0.843246  0.428548      3.466134  0.596076  0.345791  0.179652   \n",
       "17        2.892340  1.846445     19.333872  2.646363  1.850664  0.704847   \n",
       "18        2.649256  1.484339     10.078957  2.327861  1.772588  0.826491   \n",
       "19        1.058345  0.476669      4.532113  0.822821  0.734339  0.272523   \n",
       "20        2.157893  1.019294     10.112229  1.527146  1.439852  0.613114   \n",
       "21        1.109452  0.596919      6.075932  0.887453  0.691576  0.347073   \n",
       "22        9.867286  5.423667     50.133103  8.211643  6.489020  2.764047   \n",
       "23        3.267345  1.616214     16.188161  2.414598  2.131428  0.960186   \n",
       "24       10.657866  5.808404     53.045993  8.792431  6.787017  2.945448   \n",
       "25        1.248832  0.669612      5.683281  1.080311  0.662532  0.332954   \n",
       "26        9.409035  5.138792     47.362712  7.712120  6.124485  2.612495   \n",
       "27        0.078905  0.070765      0.343848  0.067616  0.306314  0.062239   \n",
       "\n",
       "     Wyoming  ...   Arkansas   Delaware  Minnesota   Montana    Arizona  \\\n",
       "0   3.000000  ...  11.000000  38.000000   6.000000  3.000000  13.000000   \n",
       "1   0.601648  ...   2.324058   7.386486   1.194795  0.591817   2.858377   \n",
       "2   0.735818  ...   2.581462   8.067238   1.472471  0.694798   2.992591   \n",
       "3   0.998540  ...   3.607215  13.152376   2.050354  0.986680   4.031399   \n",
       "4   0.663994  ...   2.487265   9.393899   1.282380  0.726704   3.117633   \n",
       "5   1.520519  ...   5.315003  18.124547   2.955932  1.504342   6.398480   \n",
       "6   1.479481  ...   5.684997  19.875453   3.044068  1.495658   6.601520   \n",
       "7   2.798122  ...   8.768354  27.513386   5.277839  2.723109  10.500074   \n",
       "8   0.000000  ...   1.642750   8.376355   0.283857  0.000000   0.607881   \n",
       "9   0.020125  ...   0.113916   0.828353   0.207338  0.016423   0.338945   \n",
       "10  0.000000  ...   0.013195   0.000000   0.000000  0.000000   0.028485   \n",
       "11  0.000000  ...   0.171006   0.345542   0.053294  0.012766   0.546273   \n",
       "12  0.000000  ...   0.212728   0.690188   0.116832  0.000000   0.395857   \n",
       "13  0.226105  ...   0.426021   2.047107   0.182240  0.089206   3.068726   \n",
       "14  2.616895  ...   8.532172  26.120147   5.167406  2.658190   8.237878   \n",
       "15  0.047022  ...   0.370400   0.886707   0.109263  0.049873   0.408540   \n",
       "16  0.179276  ...   0.907761   2.509306   0.265820  0.157738   0.932816   \n",
       "17  0.888833  ...   3.810907  12.880687   1.494766  0.857406   3.275757   \n",
       "18  0.832478  ...   2.716433   7.873197   1.389960  0.778967   3.587557   \n",
       "19  0.318662  ...   0.827921   2.864073   0.685415  0.275525   1.152677   \n",
       "20  0.470010  ...   1.531228   6.606103   1.395933  0.588048   2.336180   \n",
       "21  0.263719  ...   0.835350   4.379926   0.658842  0.292443   1.306474   \n",
       "22  2.773701  ...   9.721839  34.603987   5.624917  2.792388  11.658644   \n",
       "23  0.733729  ...   2.366577  10.986029   2.054775  0.880491   3.642654   \n",
       "24  2.923665  ...  10.636108  36.844819   5.860441  2.929657  12.676849   \n",
       "25  0.291287  ...   1.577436   3.818150   0.501002  0.356222   1.400321   \n",
       "26  2.632378  ...   9.058672  33.026669   5.359439  2.573435  11.276528   \n",
       "27  0.429670  ...   0.233491   3.411828   0.103809  0.201544   0.157050   \n",
       "\n",
       "      Florida  Massachusetts  District of Columbia      Utah  New York  \n",
       "0   12.000000       5.000000             10.000000  3.000000       0.0  \n",
       "1    2.245302       1.072696              2.762841  0.815956       0.0  \n",
       "2    2.588504       1.112901              3.151505  0.856964       0.0  \n",
       "3    3.930754       1.724517              2.503111  0.832082       0.0  \n",
       "4    3.235440       1.089887              1.582544  0.494998       0.0  \n",
       "5    5.770764       2.383706              4.671833  1.496876       0.0  \n",
       "6    6.229236       2.616294              5.328167  1.503124       0.0  \n",
       "7    9.338046       4.147291              4.563093  2.699477       0.0  \n",
       "8    1.802599       0.334980              4.575346  0.031958       0.0  \n",
       "9    0.274140       0.242657              0.364025  0.058958       0.0  \n",
       "10   0.007388       0.000000              0.000000  0.025691       0.0  \n",
       "11   0.297473       0.155870              0.171336  0.085199       0.0  \n",
       "12   0.245772       0.105284              0.281957  0.066629       0.0  \n",
       "13   2.459790       0.445131              0.697920  0.273431       0.0  \n",
       "14   7.300617       3.892599              4.163961  2.530590       0.0  \n",
       "15   0.376163       0.147156              0.217936  0.040450       0.0  \n",
       "16   0.867491       0.258880              0.472499  0.161744       0.0  \n",
       "17   3.467148       1.189835              1.889045  0.712683       0.0  \n",
       "18   2.648818       0.954658              1.539154  0.847638       0.0  \n",
       "19   1.204563       0.367962              0.259179  0.308748       0.0  \n",
       "20   2.195453       1.200775              2.604746  0.621242       0.0  \n",
       "21   1.240363       0.880733              3.017441  0.307495       0.0  \n",
       "22  10.756346       4.593964              9.309565  2.797807       0.0  \n",
       "23   3.435817       2.081509              5.622187  0.928737       0.0  \n",
       "24  11.738237       4.803817              9.452804  2.949496       0.0  \n",
       "25   1.330433       0.418014              1.378476  0.245910       0.0  \n",
       "26  10.407804       4.385803              8.074328  2.703586       0.0  \n",
       "27   0.044463       0.080344              1.643449  0.104465       0.0  \n",
       "\n",
       "[28 rows x 53 columns]"
      ]
     },
     "execution_count": 274,
     "metadata": {},
     "output_type": "execute_result"
    }
   ],
   "source": [
    "votes_demographically = condensed.copy()\n",
    "for i in np.arange(1,len(normal_names)):\n",
    "    elector_concentration = pop_per_vote.iat[i-1, 1]\n",
    "    state = normal_names[i]\n",
    "    votes_demographically[state] = votes_demographically.iloc[:,i].values * elector_concentration\n",
    "votes_demographically"
   ]
  },
  {
   "cell_type": "code",
   "execution_count": 275,
   "metadata": {
    "cell_id": "00008-e478c8ed-d04e-4079-b371-924adf13bb66",
    "execution_millis": 3,
    "execution_start": 1605404692231,
    "output_cleared": false,
    "source_hash": "a7182a27",
    "tags": []
   },
   "outputs": [
    {
     "data": {
      "text/plain": [
       "Label\n",
       "Citizens 18 years and over                                                               538.000000\n",
       "        18 to 29 years                                                                   112.832532\n",
       "        30 to 44 years                                                                   126.541066\n",
       "        45 to 64 years                                                                   178.919464\n",
       "        65 years and over                                                                119.706938\n",
       "        Male                                                                             261.868291\n",
       "        Female                                                                           276.131709\n",
       "        White alone                                                                      405.842542\n",
       "        Black or African American alone                                                   65.350170\n",
       "        Asian alone                                                                       26.148229\n",
       "        Native Hawaiian and Other Pacific Islander alone                                   2.997332\n",
       "        Some Other Race alone                                                             12.547174\n",
       "        Two or More Races                                                                 17.105041\n",
       "        Hispanic or Latino                                                                54.082259\n",
       "        White alone, Not Hispanic or Latino                                              371.025437\n",
       "        Less than 9th grade                                                               15.902472\n",
       "        9th to 12th grade, no diploma                                                     35.193735\n",
       "        High school graduate (includes equivalency)                                      158.611146\n",
       "        Some college, no degree                                                          123.046089\n",
       "        Associate's degree                                                                46.758656\n",
       "        Bachelor's degree                                                                100.005637\n",
       "        Graduate or professional degree                                                   58.482265\n",
       "        High school degree or higher                                                     486.903793\n",
       "        Bachelor's degree or higher                                                      158.487901\n",
       "        Total Citizens, 18 years and older, for whom poverty status is determined        522.075529\n",
       "        Income in the past 12 months below poverty level                                  61.220252\n",
       "        Income in the past 12 months at or above the poverty level                       460.855277\n",
       "        Median Household Income for Households with a Citizen, Voting-Age Householder     18.908318\n",
       "dtype: float64"
      ]
     },
     "execution_count": 275,
     "metadata": {},
     "output_type": "execute_result"
    }
   ],
   "source": [
    "sum_vote = votes_demographically.sum(axis = 1)\n",
    "sum_vote.index = votes_demographically[\"Label\"]\n",
    "sum_vote"
   ]
  },
  {
   "cell_type": "code",
   "execution_count": 276,
   "metadata": {
    "cell_id": "00009-48d0515d-90d9-46b2-8e62-d64b5555d065",
    "execution_millis": 0,
    "execution_start": 1605404692269,
    "output_cleared": false,
    "source_hash": "da2be96a",
    "tags": []
   },
   "outputs": [
    {
     "data": {
      "text/plain": [
       "Label\n",
       "Citizens 18 years and over                                                               538.000000\n",
       "        18 to 29 years                                                                   114.489797\n",
       "        30 to 44 years                                                                   127.447448\n",
       "        45 to 64 years                                                                   179.167130\n",
       "        65 years and over                                                                116.895624\n",
       "        Male                                                                             260.881960\n",
       "        Female                                                                           277.118040\n",
       "        White alone                                                                      408.710637\n",
       "        Black or African American alone                                                   68.756124\n",
       "        Asian alone                                                                       23.650996\n",
       "        Native Hawaiian and Other Pacific Islander alone                                   0.791056\n",
       "        Some Other Race alone                                                             18.093489\n",
       "        Two or More Races                                                                 13.206021\n",
       "        Hispanic or Latino                                                                73.720858\n",
       "        White alone, Not Hispanic or Latino                                              358.999041\n",
       "        Less than 9th grade                                                               16.997398\n",
       "        9th to 12th grade, no diploma                                                     36.488400\n",
       "        High school graduate (includes equivalency)                                      149.669145\n",
       "        Some college, no degree                                                          125.163120\n",
       "        Associate's degree                                                                46.116768\n",
       "        Bachelor's degree                                                                103.556521\n",
       "        Graduate or professional degree                                                   60.008647\n",
       "        High school degree or higher                                                     484.514202\n",
       "        Bachelor's degree or higher                                                      163.565169\n",
       "        Total Citizens, 18 years and older, for whom poverty status is determined        523.257926\n",
       "        Income in the past 12 months below poverty level                                  59.719805\n",
       "        Income in the past 12 months at or above the poverty level                       463.538121\n",
       "        Median Household Income for Households with a Citizen, Voting-Age Householder      7.346473\n",
       "dtype: float64"
      ]
     },
     "execution_count": 276,
     "metadata": {},
     "output_type": "execute_result"
    }
   ],
   "source": [
    "sum_pop = condensed.sum(axis = 1)\n",
    "sum_pop.index = votes_demographically[\"Label\"]\n",
    "us_voting_pop = sum_pop.values[0]\n",
    "sum_pop = sum_pop.divide(us_voting_pop / 538)\n",
    "sum_pop"
   ]
  },
  {
   "cell_type": "code",
   "execution_count": 285,
   "metadata": {
    "cell_id": "00010-cee3eac1-5af0-4aad-9845-3d99068d05f3",
    "execution_millis": 1,
    "execution_start": 1605405348051,
    "output_cleared": false,
    "source_hash": "67c83278",
    "tags": []
   },
   "outputs": [
    {
     "data": {
      "application/vnd.deepnote.dataframe.v2+json": {
       "column_count": 3,
       "columns": [
        {
         "dtype": "object",
         "name": "Demographic",
         "stats": {
          "categories": [
           {
            "count": 1,
            "name": "Citizens 18 years and over"
           },
           {
            "count": 1,
            "name": "        18 to 29 years"
           },
           {
            "count": 26,
            "name": "26 others"
           }
          ],
          "nan_count": 0,
          "unique_count": 28
         }
        },
        {
         "dtype": "float64",
         "name": "Expected",
         "stats": {
          "histogram": [
           {
            "bin_end": 54.51195019325715,
            "bin_start": 0.79105577028572,
            "count": 8
           },
           {
            "bin_end": 108.23284461622858,
            "bin_start": 54.51195019325715,
            "count": 5
           },
           {
            "bin_end": 161.9537390392,
            "bin_start": 108.23284461622858,
            "count": 5
           },
           {
            "bin_end": 215.6746334621714,
            "bin_start": 161.9537390392,
            "count": 2
           },
           {
            "bin_end": 269.3955278851428,
            "bin_start": 215.6746334621714,
            "count": 1
           },
           {
            "bin_end": 323.1164223081143,
            "bin_start": 269.3955278851428,
            "count": 1
           },
           {
            "bin_end": 376.8373167310857,
            "bin_start": 323.1164223081143,
            "count": 1
           },
           {
            "bin_end": 430.5582111540571,
            "bin_start": 376.8373167310857,
            "count": 1
           },
           {
            "bin_end": 484.27910557702853,
            "bin_start": 430.5582111540571,
            "count": 1
           },
           {
            "bin_end": 538,
            "bin_start": 484.27910557702853,
            "count": 3
           }
          ],
          "max": 538,
          "min": 0.79105577028572,
          "nan_count": 0,
          "unique_count": 28
         }
        },
        {
         "dtype": "float64",
         "name": "Actual",
         "stats": {
          "histogram": [
           {
            "bin_end": 56.497598432985356,
            "bin_start": 2.9973315922059465,
            "count": 9
           },
           {
            "bin_end": 109.99786527376477,
            "bin_start": 56.497598432985356,
            "count": 4
           },
           {
            "bin_end": 163.49813211454418,
            "bin_start": 109.99786527376477,
            "count": 6
           },
           {
            "bin_end": 216.99839895532358,
            "bin_start": 163.49813211454418,
            "count": 1
           },
           {
            "bin_end": 270.498665796103,
            "bin_start": 216.99839895532358,
            "count": 1
           },
           {
            "bin_end": 323.99893263688244,
            "bin_start": 270.498665796103,
            "count": 1
           },
           {
            "bin_end": 377.4991994776618,
            "bin_start": 323.99893263688244,
            "count": 1
           },
           {
            "bin_end": 430.99946631844125,
            "bin_start": 377.4991994776618,
            "count": 1
           },
           {
            "bin_end": 484.4997331592207,
            "bin_start": 430.99946631844125,
            "count": 1
           },
           {
            "bin_end": 538,
            "bin_start": 484.4997331592207,
            "count": 3
           }
          ],
          "max": 538,
          "min": 2.9973315922059465,
          "nan_count": 0,
          "unique_count": 28
         }
        },
        {
         "dtype": "int64",
         "name": "_deepnote_index_column"
        }
       ],
       "row_count": 28,
       "rows_bottom": null,
       "rows_top": [
        {
         "Actual": 538,
         "Demographic": "Citizens 18 years and over",
         "Expected": 538,
         "_deepnote_index_column": 0
        },
        {
         "Actual": 112.8325321381604,
         "Demographic": "        18 to 29 years",
         "Expected": 114.48979746596342,
         "_deepnote_index_column": 1
        },
        {
         "Actual": 126.54106612378608,
         "Demographic": "        30 to 44 years",
         "Expected": 127.4474482866675,
         "_deepnote_index_column": 2
        },
        {
         "Actual": 178.919463695523,
         "Demographic": "        45 to 64 years",
         "Expected": 179.16713032687218,
         "_deepnote_index_column": 3
        },
        {
         "Actual": 119.70693804253051,
         "Demographic": "        65 years and over",
         "Expected": 116.89562392049692,
         "_deepnote_index_column": 4
        },
        {
         "Actual": 261.8682905529434,
         "Demographic": "        Male",
         "Expected": 260.8819596732995,
         "_deepnote_index_column": 5
        },
        {
         "Actual": 276.1317094470566,
         "Demographic": "        Female",
         "Expected": 277.1180403267005,
         "_deepnote_index_column": 6
        },
        {
         "Actual": 405.8425424209492,
         "Demographic": "        White alone",
         "Expected": 408.71063661646264,
         "_deepnote_index_column": 7
        },
        {
         "Actual": 65.35016960383867,
         "Demographic": "        Black or African American alone",
         "Expected": 68.75612360849689,
         "_deepnote_index_column": 8
        },
        {
         "Actual": 26.14822937028193,
         "Demographic": "        Asian alone",
         "Expected": 23.65099586436653,
         "_deepnote_index_column": 9
        },
        {
         "Actual": 2.9973315922059465,
         "Demographic": "        Native Hawaiian and Other Pacific Islander alone",
         "Expected": 0.79105577028572,
         "_deepnote_index_column": 10
        },
        {
         "Actual": 12.547173884741294,
         "Demographic": "        Some Other Race alone",
         "Expected": 18.09348913502043,
         "_deepnote_index_column": 11
        },
        {
         "Actual": 17.105040530822226,
         "Demographic": "        Two or More Races",
         "Expected": 13.20602117043298,
         "_deepnote_index_column": 12
        },
        {
         "Actual": 54.0822592750802,
         "Demographic": "        Hispanic or Latino",
         "Expected": 73.72085799420559,
         "_deepnote_index_column": 13
        },
        {
         "Actual": 371.0254371479451,
         "Demographic": "        White alone, Not Hispanic or Latino",
         "Expected": 358.9990407814439,
         "_deepnote_index_column": 14
        },
        {
         "Actual": 15.902472144155634,
         "Demographic": "        Less than 9th grade",
         "Expected": 16.997398238723505,
         "_deepnote_index_column": 15
        },
        {
         "Actual": 35.19373529477443,
         "Demographic": "        9th to 12th grade, no diploma",
         "Expected": 36.48839979190314,
         "_deepnote_index_column": 16
        },
        {
         "Actual": 158.6111464068993,
         "Demographic": "        High school graduate (includes equivalency)",
         "Expected": 149.6691452313101,
         "_deepnote_index_column": 17
        },
        {
         "Actual": 123.0460889066277,
         "Demographic": "        Some college, no degree",
         "Expected": 125.16311958827609,
         "_deepnote_index_column": 18
        },
        {
         "Actual": 46.75865586300898,
         "Demographic": "        Associate's degree",
         "Expected": 46.116768301347925,
         "_deepnote_index_column": 19
        },
        {
         "Actual": 100.00563664643155,
         "Demographic": "        Bachelor's degree",
         "Expected": 103.55652141038267,
         "_deepnote_index_column": 20
        },
        {
         "Actual": 58.482264738102444,
         "Demographic": "        Graduate or professional degree",
         "Expected": 60.00864743805656,
         "_deepnote_index_column": 21
        },
        {
         "Actual": 486.90379256107,
         "Demographic": "        High school degree or higher",
         "Expected": 484.51420196937335,
         "_deepnote_index_column": 22
        },
        {
         "Actual": 158.48790138453396,
         "Demographic": "        Bachelor's degree or higher",
         "Expected": 163.5651688484392,
         "_deepnote_index_column": 23
        },
        {
         "Actual": 522.075528896243,
         "Demographic": "        Total Citizens, 18 years and older, for whom poverty status is determined",
         "Expected": 523.2579259320413,
         "_deepnote_index_column": 24
        },
        {
         "Actual": 61.22025161739262,
         "Demographic": "        Income in the past 12 months below poverty level",
         "Expected": 59.7198051775475,
         "_deepnote_index_column": 25
        },
        {
         "Actual": 460.85527727885034,
         "Demographic": "        Income in the past 12 months at or above the poverty level",
         "Expected": 463.5381207544938,
         "_deepnote_index_column": 26
        },
        {
         "Actual": 18.908317560089284,
         "Demographic": "        Median Household Income for Households with a Citizen, Voting-Age Householder",
         "Expected": 7.346473183834622,
         "_deepnote_index_column": 27
        }
       ]
      },
      "text/html": [
       "<div>\n",
       "<style scoped>\n",
       "    .dataframe tbody tr th:only-of-type {\n",
       "        vertical-align: middle;\n",
       "    }\n",
       "\n",
       "    .dataframe tbody tr th {\n",
       "        vertical-align: top;\n",
       "    }\n",
       "\n",
       "    .dataframe thead th {\n",
       "        text-align: right;\n",
       "    }\n",
       "</style>\n",
       "<table border=\"1\" class=\"dataframe\">\n",
       "  <thead>\n",
       "    <tr style=\"text-align: right;\">\n",
       "      <th></th>\n",
       "      <th>Demographic</th>\n",
       "      <th>Expected</th>\n",
       "      <th>Actual</th>\n",
       "    </tr>\n",
       "  </thead>\n",
       "  <tbody>\n",
       "    <tr>\n",
       "      <th>0</th>\n",
       "      <td>Citizens 18 years and over</td>\n",
       "      <td>538.000000</td>\n",
       "      <td>538.000000</td>\n",
       "    </tr>\n",
       "    <tr>\n",
       "      <th>1</th>\n",
       "      <td>18 to 29 years</td>\n",
       "      <td>114.489797</td>\n",
       "      <td>112.832532</td>\n",
       "    </tr>\n",
       "    <tr>\n",
       "      <th>2</th>\n",
       "      <td>30 to 44 years</td>\n",
       "      <td>127.447448</td>\n",
       "      <td>126.541066</td>\n",
       "    </tr>\n",
       "    <tr>\n",
       "      <th>3</th>\n",
       "      <td>45 to 64 years</td>\n",
       "      <td>179.167130</td>\n",
       "      <td>178.919464</td>\n",
       "    </tr>\n",
       "    <tr>\n",
       "      <th>4</th>\n",
       "      <td>65 years and over</td>\n",
       "      <td>116.895624</td>\n",
       "      <td>119.706938</td>\n",
       "    </tr>\n",
       "    <tr>\n",
       "      <th>5</th>\n",
       "      <td>Male</td>\n",
       "      <td>260.881960</td>\n",
       "      <td>261.868291</td>\n",
       "    </tr>\n",
       "    <tr>\n",
       "      <th>6</th>\n",
       "      <td>Female</td>\n",
       "      <td>277.118040</td>\n",
       "      <td>276.131709</td>\n",
       "    </tr>\n",
       "    <tr>\n",
       "      <th>7</th>\n",
       "      <td>White alone</td>\n",
       "      <td>408.710637</td>\n",
       "      <td>405.842542</td>\n",
       "    </tr>\n",
       "    <tr>\n",
       "      <th>8</th>\n",
       "      <td>Black or African American alone</td>\n",
       "      <td>68.756124</td>\n",
       "      <td>65.350170</td>\n",
       "    </tr>\n",
       "    <tr>\n",
       "      <th>9</th>\n",
       "      <td>Asian alone</td>\n",
       "      <td>23.650996</td>\n",
       "      <td>26.148229</td>\n",
       "    </tr>\n",
       "    <tr>\n",
       "      <th>10</th>\n",
       "      <td>Native Hawaiian and Other Pacific Isla...</td>\n",
       "      <td>0.791056</td>\n",
       "      <td>2.997332</td>\n",
       "    </tr>\n",
       "    <tr>\n",
       "      <th>11</th>\n",
       "      <td>Some Other Race alone</td>\n",
       "      <td>18.093489</td>\n",
       "      <td>12.547174</td>\n",
       "    </tr>\n",
       "    <tr>\n",
       "      <th>12</th>\n",
       "      <td>Two or More Races</td>\n",
       "      <td>13.206021</td>\n",
       "      <td>17.105041</td>\n",
       "    </tr>\n",
       "    <tr>\n",
       "      <th>13</th>\n",
       "      <td>Hispanic or Latino</td>\n",
       "      <td>73.720858</td>\n",
       "      <td>54.082259</td>\n",
       "    </tr>\n",
       "    <tr>\n",
       "      <th>14</th>\n",
       "      <td>White alone, Not Hispanic or Latino</td>\n",
       "      <td>358.999041</td>\n",
       "      <td>371.025437</td>\n",
       "    </tr>\n",
       "    <tr>\n",
       "      <th>15</th>\n",
       "      <td>Less than 9th grade</td>\n",
       "      <td>16.997398</td>\n",
       "      <td>15.902472</td>\n",
       "    </tr>\n",
       "    <tr>\n",
       "      <th>16</th>\n",
       "      <td>9th to 12th grade, no diploma</td>\n",
       "      <td>36.488400</td>\n",
       "      <td>35.193735</td>\n",
       "    </tr>\n",
       "    <tr>\n",
       "      <th>17</th>\n",
       "      <td>High school graduate (includes equival...</td>\n",
       "      <td>149.669145</td>\n",
       "      <td>158.611146</td>\n",
       "    </tr>\n",
       "    <tr>\n",
       "      <th>18</th>\n",
       "      <td>Some college, no degree</td>\n",
       "      <td>125.163120</td>\n",
       "      <td>123.046089</td>\n",
       "    </tr>\n",
       "    <tr>\n",
       "      <th>19</th>\n",
       "      <td>Associate's degree</td>\n",
       "      <td>46.116768</td>\n",
       "      <td>46.758656</td>\n",
       "    </tr>\n",
       "    <tr>\n",
       "      <th>20</th>\n",
       "      <td>Bachelor's degree</td>\n",
       "      <td>103.556521</td>\n",
       "      <td>100.005637</td>\n",
       "    </tr>\n",
       "    <tr>\n",
       "      <th>21</th>\n",
       "      <td>Graduate or professional degree</td>\n",
       "      <td>60.008647</td>\n",
       "      <td>58.482265</td>\n",
       "    </tr>\n",
       "    <tr>\n",
       "      <th>22</th>\n",
       "      <td>High school degree or higher</td>\n",
       "      <td>484.514202</td>\n",
       "      <td>486.903793</td>\n",
       "    </tr>\n",
       "    <tr>\n",
       "      <th>23</th>\n",
       "      <td>Bachelor's degree or higher</td>\n",
       "      <td>163.565169</td>\n",
       "      <td>158.487901</td>\n",
       "    </tr>\n",
       "    <tr>\n",
       "      <th>24</th>\n",
       "      <td>Total Citizens, 18 years and older, fo...</td>\n",
       "      <td>523.257926</td>\n",
       "      <td>522.075529</td>\n",
       "    </tr>\n",
       "    <tr>\n",
       "      <th>25</th>\n",
       "      <td>Income in the past 12 months below pov...</td>\n",
       "      <td>59.719805</td>\n",
       "      <td>61.220252</td>\n",
       "    </tr>\n",
       "    <tr>\n",
       "      <th>26</th>\n",
       "      <td>Income in the past 12 months at or abo...</td>\n",
       "      <td>463.538121</td>\n",
       "      <td>460.855277</td>\n",
       "    </tr>\n",
       "    <tr>\n",
       "      <th>27</th>\n",
       "      <td>Median Household Income for Households...</td>\n",
       "      <td>7.346473</td>\n",
       "      <td>18.908318</td>\n",
       "    </tr>\n",
       "  </tbody>\n",
       "</table>\n",
       "</div>"
      ],
      "text/plain": [
       "                                          Demographic    Expected      Actual\n",
       "0                          Citizens 18 years and over  538.000000  538.000000\n",
       "1                                      18 to 29 years  114.489797  112.832532\n",
       "2                                      30 to 44 years  127.447448  126.541066\n",
       "3                                      45 to 64 years  179.167130  178.919464\n",
       "4                                   65 years and over  116.895624  119.706938\n",
       "5                                                Male  260.881960  261.868291\n",
       "6                                              Female  277.118040  276.131709\n",
       "7                                         White alone  408.710637  405.842542\n",
       "8                     Black or African American alone   68.756124   65.350170\n",
       "9                                         Asian alone   23.650996   26.148229\n",
       "10          Native Hawaiian and Other Pacific Isla...    0.791056    2.997332\n",
       "11                              Some Other Race alone   18.093489   12.547174\n",
       "12                                  Two or More Races   13.206021   17.105041\n",
       "13                                 Hispanic or Latino   73.720858   54.082259\n",
       "14                White alone, Not Hispanic or Latino  358.999041  371.025437\n",
       "15                                Less than 9th grade   16.997398   15.902472\n",
       "16                      9th to 12th grade, no diploma   36.488400   35.193735\n",
       "17          High school graduate (includes equival...  149.669145  158.611146\n",
       "18                            Some college, no degree  125.163120  123.046089\n",
       "19                                 Associate's degree   46.116768   46.758656\n",
       "20                                  Bachelor's degree  103.556521  100.005637\n",
       "21                    Graduate or professional degree   60.008647   58.482265\n",
       "22                       High school degree or higher  484.514202  486.903793\n",
       "23                        Bachelor's degree or higher  163.565169  158.487901\n",
       "24          Total Citizens, 18 years and older, fo...  523.257926  522.075529\n",
       "25          Income in the past 12 months below pov...   59.719805   61.220252\n",
       "26          Income in the past 12 months at or abo...  463.538121  460.855277\n",
       "27          Median Household Income for Households...    7.346473   18.908318"
      ]
     },
     "execution_count": 285,
     "metadata": {},
     "output_type": "execute_result"
    }
   ],
   "source": [
    "expected_v_actual = pd.DataFrame({\"Demographic\":sum_pop.index, \"Expected\": sum_pop.values, \"Actual\":sum_vote.values})\n",
    "expected_v_actual"
   ]
  },
  {
   "cell_type": "code",
   "execution_count": 286,
   "metadata": {
    "cell_id": "00011-b272d2f3-6075-4cf6-8e1a-d1beeec0570d",
    "execution_millis": 5,
    "execution_start": 1605405354952,
    "output_cleared": false,
    "source_hash": "513b4dd6",
    "tags": []
   },
   "outputs": [
    {
     "data": {
      "application/vnd.deepnote.dataframe.v2+json": {
       "column_count": 3,
       "columns": [
        {
         "dtype": "object",
         "name": "Demographic",
         "stats": {
          "categories": [
           {
            "count": 1,
            "name": "Citizens 18 years and over"
           },
           {
            "count": 1,
            "name": "        18 to 29 years"
           },
           {
            "count": 25,
            "name": "25 others"
           }
          ],
          "nan_count": 0,
          "unique_count": 27
         }
        },
        {
         "dtype": "float64",
         "name": "Expected",
         "stats": {
          "histogram": [
           {
            "bin_end": 77.4829179330478,
            "bin_start": 0.79105577028572,
            "count": 12
           },
           {
            "bin_end": 154.17478009580987,
            "bin_start": 77.4829179330478,
            "count": 6
           },
           {
            "bin_end": 230.86664225857194,
            "bin_start": 154.17478009580987,
            "count": 2
           },
           {
            "bin_end": 307.558504421334,
            "bin_start": 230.86664225857194,
            "count": 2
           },
           {
            "bin_end": 384.25036658409607,
            "bin_start": 307.558504421334,
            "count": 0
           },
           {
            "bin_end": 460.9422287468582,
            "bin_start": 384.25036658409607,
            "count": 0
           },
           {
            "bin_end": 537.6340909096203,
            "bin_start": 460.9422287468582,
            "count": 3
           },
           {
            "bin_end": 614.3259530723824,
            "bin_start": 537.6340909096203,
            "count": 1
           },
           {
            "bin_end": 691.0178152351444,
            "bin_start": 614.3259530723824,
            "count": 0
           },
           {
            "bin_end": 767.7096773979065,
            "bin_start": 691.0178152351444,
            "count": 1
           }
          ],
          "max": 767.7096773979065,
          "min": 0.79105577028572,
          "nan_count": 0,
          "unique_count": 27
         }
        },
        {
         "dtype": "float64",
         "name": "Actual",
         "stats": {
          "histogram": [
           {
            "bin_end": 80.3843963898748,
            "bin_start": 2.9973315922059465,
            "count": 12
           },
           {
            "bin_end": 157.77146118754362,
            "bin_start": 80.3843963898748,
            "count": 5
           },
           {
            "bin_end": 235.15852598521246,
            "bin_start": 157.77146118754362,
            "count": 3
           },
           {
            "bin_end": 312.54559078288133,
            "bin_start": 235.15852598521246,
            "count": 2
           },
           {
            "bin_end": 389.93265558055015,
            "bin_start": 312.54559078288133,
            "count": 0
           },
           {
            "bin_end": 467.319720378219,
            "bin_start": 389.93265558055015,
            "count": 1
           },
           {
            "bin_end": 544.7067851758878,
            "bin_start": 467.319720378219,
            "count": 3
           },
           {
            "bin_end": 622.0938499735566,
            "bin_start": 544.7067851758878,
            "count": 0
           },
           {
            "bin_end": 699.4809147712255,
            "bin_start": 622.0938499735566,
            "count": 0
           },
           {
            "bin_end": 776.8679795688943,
            "bin_start": 699.4809147712255,
            "count": 1
           }
          ],
          "max": 776.8679795688943,
          "min": 2.9973315922059465,
          "nan_count": 0,
          "unique_count": 27
         }
        },
        {
         "dtype": "int64",
         "name": "_deepnote_index_column"
        }
       ],
       "row_count": 27,
       "rows_bottom": null,
       "rows_top": [
        {
         "Actual": 538,
         "Demographic": "Citizens 18 years and over",
         "Expected": 538,
         "_deepnote_index_column": 0
        },
        {
         "Actual": 112.8325321381604,
         "Demographic": "        18 to 29 years",
         "Expected": 114.48979746596342,
         "_deepnote_index_column": 1
        },
        {
         "Actual": 126.54106612378608,
         "Demographic": "        30 to 44 years",
         "Expected": 127.4474482866675,
         "_deepnote_index_column": 2
        },
        {
         "Actual": 178.919463695523,
         "Demographic": "        45 to 64 years",
         "Expected": 179.16713032687218,
         "_deepnote_index_column": 3
        },
        {
         "Actual": 119.70693804253051,
         "Demographic": "        65 years and over",
         "Expected": 116.89562392049692,
         "_deepnote_index_column": 4
        },
        {
         "Actual": 261.8682905529434,
         "Demographic": "        Male",
         "Expected": 260.8819596732995,
         "_deepnote_index_column": 5
        },
        {
         "Actual": 276.1317094470566,
         "Demographic": "        Female",
         "Expected": 277.1180403267005,
         "_deepnote_index_column": 6
        },
        {
         "Actual": 776.8679795688943,
         "Demographic": "White",
         "Expected": 767.7096773979065,
         "_deepnote_index_column": 7
        },
        {
         "Actual": 65.35016960383867,
         "Demographic": "        Black or African American alone",
         "Expected": 68.75612360849689,
         "_deepnote_index_column": 8
        },
        {
         "Actual": 26.14822937028193,
         "Demographic": "        Asian alone",
         "Expected": 23.65099586436653,
         "_deepnote_index_column": 9
        },
        {
         "Actual": 2.9973315922059465,
         "Demographic": "        Native Hawaiian and Other Pacific Islander alone",
         "Expected": 0.79105577028572,
         "_deepnote_index_column": 10
        },
        {
         "Actual": 12.547173884741294,
         "Demographic": "        Some Other Race alone",
         "Expected": 18.09348913502043,
         "_deepnote_index_column": 11
        },
        {
         "Actual": 17.105040530822226,
         "Demographic": "        Two or More Races",
         "Expected": 13.20602117043298,
         "_deepnote_index_column": 12
        },
        {
         "Actual": 54.0822592750802,
         "Demographic": "        Hispanic or Latino",
         "Expected": 73.72085799420559,
         "_deepnote_index_column": 13
        },
        {
         "Actual": 15.902472144155634,
         "Demographic": "        Less than 9th grade",
         "Expected": 16.997398238723505,
         "_deepnote_index_column": 14
        },
        {
         "Actual": 35.19373529477443,
         "Demographic": "        9th to 12th grade, no diploma",
         "Expected": 36.48839979190314,
         "_deepnote_index_column": 15
        },
        {
         "Actual": 158.6111464068993,
         "Demographic": "        High school graduate (includes equivalency)",
         "Expected": 149.6691452313101,
         "_deepnote_index_column": 16
        },
        {
         "Actual": 123.0460889066277,
         "Demographic": "        Some college, no degree",
         "Expected": 125.16311958827609,
         "_deepnote_index_column": 17
        },
        {
         "Actual": 46.75865586300898,
         "Demographic": "        Associate's degree",
         "Expected": 46.116768301347925,
         "_deepnote_index_column": 18
        },
        {
         "Actual": 100.00563664643155,
         "Demographic": "        Bachelor's degree",
         "Expected": 103.55652141038267,
         "_deepnote_index_column": 19
        },
        {
         "Actual": 58.482264738102444,
         "Demographic": "        Graduate or professional degree",
         "Expected": 60.00864743805656,
         "_deepnote_index_column": 20
        },
        {
         "Actual": 486.90379256107,
         "Demographic": "        High school degree or higher",
         "Expected": 484.51420196937335,
         "_deepnote_index_column": 21
        },
        {
         "Actual": 158.48790138453396,
         "Demographic": "        Bachelor's degree or higher",
         "Expected": 163.5651688484392,
         "_deepnote_index_column": 22
        },
        {
         "Actual": 522.075528896243,
         "Demographic": "        Total Citizens, 18 years and older, for whom poverty status is determined",
         "Expected": 523.2579259320413,
         "_deepnote_index_column": 23
        },
        {
         "Actual": 61.22025161739262,
         "Demographic": "        Income in the past 12 months below poverty level",
         "Expected": 59.7198051775475,
         "_deepnote_index_column": 24
        },
        {
         "Actual": 460.85527727885034,
         "Demographic": "        Income in the past 12 months at or above the poverty level",
         "Expected": 463.5381207544938,
         "_deepnote_index_column": 25
        },
        {
         "Actual": 18.908317560089284,
         "Demographic": "        Median Household Income for Households with a Citizen, Voting-Age Householder",
         "Expected": 7.346473183834622,
         "_deepnote_index_column": 26
        }
       ]
      },
      "text/html": [
       "<div>\n",
       "<style scoped>\n",
       "    .dataframe tbody tr th:only-of-type {\n",
       "        vertical-align: middle;\n",
       "    }\n",
       "\n",
       "    .dataframe tbody tr th {\n",
       "        vertical-align: top;\n",
       "    }\n",
       "\n",
       "    .dataframe thead th {\n",
       "        text-align: right;\n",
       "    }\n",
       "</style>\n",
       "<table border=\"1\" class=\"dataframe\">\n",
       "  <thead>\n",
       "    <tr style=\"text-align: right;\">\n",
       "      <th></th>\n",
       "      <th>Demographic</th>\n",
       "      <th>Expected</th>\n",
       "      <th>Actual</th>\n",
       "    </tr>\n",
       "  </thead>\n",
       "  <tbody>\n",
       "    <tr>\n",
       "      <th>0</th>\n",
       "      <td>Citizens 18 years and over</td>\n",
       "      <td>538.000000</td>\n",
       "      <td>538.000000</td>\n",
       "    </tr>\n",
       "    <tr>\n",
       "      <th>1</th>\n",
       "      <td>18 to 29 years</td>\n",
       "      <td>114.489797</td>\n",
       "      <td>112.832532</td>\n",
       "    </tr>\n",
       "    <tr>\n",
       "      <th>2</th>\n",
       "      <td>30 to 44 years</td>\n",
       "      <td>127.447448</td>\n",
       "      <td>126.541066</td>\n",
       "    </tr>\n",
       "    <tr>\n",
       "      <th>3</th>\n",
       "      <td>45 to 64 years</td>\n",
       "      <td>179.167130</td>\n",
       "      <td>178.919464</td>\n",
       "    </tr>\n",
       "    <tr>\n",
       "      <th>4</th>\n",
       "      <td>65 years and over</td>\n",
       "      <td>116.895624</td>\n",
       "      <td>119.706938</td>\n",
       "    </tr>\n",
       "    <tr>\n",
       "      <th>5</th>\n",
       "      <td>Male</td>\n",
       "      <td>260.881960</td>\n",
       "      <td>261.868291</td>\n",
       "    </tr>\n",
       "    <tr>\n",
       "      <th>6</th>\n",
       "      <td>Female</td>\n",
       "      <td>277.118040</td>\n",
       "      <td>276.131709</td>\n",
       "    </tr>\n",
       "    <tr>\n",
       "      <th>7</th>\n",
       "      <td>White</td>\n",
       "      <td>767.709677</td>\n",
       "      <td>776.867980</td>\n",
       "    </tr>\n",
       "    <tr>\n",
       "      <th>8</th>\n",
       "      <td>Black or African American alone</td>\n",
       "      <td>68.756124</td>\n",
       "      <td>65.350170</td>\n",
       "    </tr>\n",
       "    <tr>\n",
       "      <th>9</th>\n",
       "      <td>Asian alone</td>\n",
       "      <td>23.650996</td>\n",
       "      <td>26.148229</td>\n",
       "    </tr>\n",
       "    <tr>\n",
       "      <th>10</th>\n",
       "      <td>Native Hawaiian and Other Pacific Isla...</td>\n",
       "      <td>0.791056</td>\n",
       "      <td>2.997332</td>\n",
       "    </tr>\n",
       "    <tr>\n",
       "      <th>11</th>\n",
       "      <td>Some Other Race alone</td>\n",
       "      <td>18.093489</td>\n",
       "      <td>12.547174</td>\n",
       "    </tr>\n",
       "    <tr>\n",
       "      <th>12</th>\n",
       "      <td>Two or More Races</td>\n",
       "      <td>13.206021</td>\n",
       "      <td>17.105041</td>\n",
       "    </tr>\n",
       "    <tr>\n",
       "      <th>13</th>\n",
       "      <td>Hispanic or Latino</td>\n",
       "      <td>73.720858</td>\n",
       "      <td>54.082259</td>\n",
       "    </tr>\n",
       "    <tr>\n",
       "      <th>14</th>\n",
       "      <td>Less than 9th grade</td>\n",
       "      <td>16.997398</td>\n",
       "      <td>15.902472</td>\n",
       "    </tr>\n",
       "    <tr>\n",
       "      <th>15</th>\n",
       "      <td>9th to 12th grade, no diploma</td>\n",
       "      <td>36.488400</td>\n",
       "      <td>35.193735</td>\n",
       "    </tr>\n",
       "    <tr>\n",
       "      <th>16</th>\n",
       "      <td>High school graduate (includes equival...</td>\n",
       "      <td>149.669145</td>\n",
       "      <td>158.611146</td>\n",
       "    </tr>\n",
       "    <tr>\n",
       "      <th>17</th>\n",
       "      <td>Some college, no degree</td>\n",
       "      <td>125.163120</td>\n",
       "      <td>123.046089</td>\n",
       "    </tr>\n",
       "    <tr>\n",
       "      <th>18</th>\n",
       "      <td>Associate's degree</td>\n",
       "      <td>46.116768</td>\n",
       "      <td>46.758656</td>\n",
       "    </tr>\n",
       "    <tr>\n",
       "      <th>19</th>\n",
       "      <td>Bachelor's degree</td>\n",
       "      <td>103.556521</td>\n",
       "      <td>100.005637</td>\n",
       "    </tr>\n",
       "    <tr>\n",
       "      <th>20</th>\n",
       "      <td>Graduate or professional degree</td>\n",
       "      <td>60.008647</td>\n",
       "      <td>58.482265</td>\n",
       "    </tr>\n",
       "    <tr>\n",
       "      <th>21</th>\n",
       "      <td>High school degree or higher</td>\n",
       "      <td>484.514202</td>\n",
       "      <td>486.903793</td>\n",
       "    </tr>\n",
       "    <tr>\n",
       "      <th>22</th>\n",
       "      <td>Bachelor's degree or higher</td>\n",
       "      <td>163.565169</td>\n",
       "      <td>158.487901</td>\n",
       "    </tr>\n",
       "    <tr>\n",
       "      <th>23</th>\n",
       "      <td>Total Citizens, 18 years and older, fo...</td>\n",
       "      <td>523.257926</td>\n",
       "      <td>522.075529</td>\n",
       "    </tr>\n",
       "    <tr>\n",
       "      <th>24</th>\n",
       "      <td>Income in the past 12 months below pov...</td>\n",
       "      <td>59.719805</td>\n",
       "      <td>61.220252</td>\n",
       "    </tr>\n",
       "    <tr>\n",
       "      <th>25</th>\n",
       "      <td>Income in the past 12 months at or abo...</td>\n",
       "      <td>463.538121</td>\n",
       "      <td>460.855277</td>\n",
       "    </tr>\n",
       "    <tr>\n",
       "      <th>26</th>\n",
       "      <td>Median Household Income for Households...</td>\n",
       "      <td>7.346473</td>\n",
       "      <td>18.908318</td>\n",
       "    </tr>\n",
       "  </tbody>\n",
       "</table>\n",
       "</div>"
      ],
      "text/plain": [
       "                                          Demographic    Expected      Actual\n",
       "0                          Citizens 18 years and over  538.000000  538.000000\n",
       "1                                      18 to 29 years  114.489797  112.832532\n",
       "2                                      30 to 44 years  127.447448  126.541066\n",
       "3                                      45 to 64 years  179.167130  178.919464\n",
       "4                                   65 years and over  116.895624  119.706938\n",
       "5                                                Male  260.881960  261.868291\n",
       "6                                              Female  277.118040  276.131709\n",
       "7                                               White  767.709677  776.867980\n",
       "8                     Black or African American alone   68.756124   65.350170\n",
       "9                                         Asian alone   23.650996   26.148229\n",
       "10          Native Hawaiian and Other Pacific Isla...    0.791056    2.997332\n",
       "11                              Some Other Race alone   18.093489   12.547174\n",
       "12                                  Two or More Races   13.206021   17.105041\n",
       "13                                 Hispanic or Latino   73.720858   54.082259\n",
       "14                                Less than 9th grade   16.997398   15.902472\n",
       "15                      9th to 12th grade, no diploma   36.488400   35.193735\n",
       "16          High school graduate (includes equival...  149.669145  158.611146\n",
       "17                            Some college, no degree  125.163120  123.046089\n",
       "18                                 Associate's degree   46.116768   46.758656\n",
       "19                                  Bachelor's degree  103.556521  100.005637\n",
       "20                    Graduate or professional degree   60.008647   58.482265\n",
       "21                       High school degree or higher  484.514202  486.903793\n",
       "22                        Bachelor's degree or higher  163.565169  158.487901\n",
       "23          Total Citizens, 18 years and older, fo...  523.257926  522.075529\n",
       "24          Income in the past 12 months below pov...   59.719805   61.220252\n",
       "25          Income in the past 12 months at or abo...  463.538121  460.855277\n",
       "26          Median Household Income for Households...    7.346473   18.908318"
      ]
     },
     "execution_count": 286,
     "metadata": {},
     "output_type": "execute_result"
    }
   ],
   "source": [
    "white_addition = expected_v_actual.iloc[14]\n",
    "expected_v_actual.iloc[7,:] += white_addition.values\n",
    "expected_v_actual.iat[7,0] = \"White\"\n",
    "expected_v_actual = expected_v_actual.drop([14])\n",
    "expected_v_actual.index = np.arange(27)\n",
    "expected_v_actual"
   ]
  },
  {
   "cell_type": "code",
   "execution_count": 287,
   "metadata": {
    "cell_id": "00012-4bef1fb2-f1a4-4c33-94fb-e70f009df590",
    "execution_millis": 3,
    "execution_start": 1605405356738,
    "output_cleared": false,
    "source_hash": "bb088d0d",
    "tags": []
   },
   "outputs": [
    {
     "data": {
      "application/vnd.deepnote.dataframe.v2+json": {
       "column_count": 3,
       "columns": [
        {
         "dtype": "object",
         "name": "Demographic",
         "stats": {
          "categories": [
           {
            "count": 1,
            "name": "Citizens 18 years and over"
           },
           {
            "count": 1,
            "name": "        18 to 29 years"
           },
           {
            "count": 24,
            "name": "24 others"
           }
          ],
          "nan_count": 0,
          "unique_count": 26
         }
        },
        {
         "dtype": "float64",
         "name": "Expected",
         "stats": {
          "histogram": [
           {
            "bin_end": 83.3827936052418,
            "bin_start": 7.346473183834622,
            "count": 11
           },
           {
            "bin_end": 159.419114026649,
            "bin_start": 83.3827936052418,
            "count": 6
           },
           {
            "bin_end": 235.45543444805617,
            "bin_start": 159.419114026649,
            "count": 2
           },
           {
            "bin_end": 311.49175486946336,
            "bin_start": 235.45543444805617,
            "count": 2
           },
           {
            "bin_end": 387.52807529087056,
            "bin_start": 311.49175486946336,
            "count": 0
           },
           {
            "bin_end": 463.5643957122777,
            "bin_start": 387.52807529087056,
            "count": 1
           },
           {
            "bin_end": 539.600716133685,
            "bin_start": 463.5643957122777,
            "count": 3
           },
           {
            "bin_end": 615.6370365550921,
            "bin_start": 539.600716133685,
            "count": 0
           },
           {
            "bin_end": 691.6733569764992,
            "bin_start": 615.6370365550921,
            "count": 0
           },
           {
            "bin_end": 767.7096773979065,
            "bin_start": 691.6733569764992,
            "count": 1
           }
          ],
          "max": 767.7096773979065,
          "min": 7.346473183834622,
          "nan_count": 0,
          "unique_count": 26
         }
        },
        {
         "dtype": "float64",
         "name": "Actual",
         "stats": {
          "histogram": [
           {
            "bin_end": 91.67685288614193,
            "bin_start": 15.54450547694724,
            "count": 11
           },
           {
            "bin_end": 167.80920029533664,
            "bin_start": 91.67685288614193,
            "count": 7
           },
           {
            "bin_end": 243.94154770453133,
            "bin_start": 167.80920029533664,
            "count": 1
           },
           {
            "bin_end": 320.073895113726,
            "bin_start": 243.94154770453133,
            "count": 2
           },
           {
            "bin_end": 396.2062425229207,
            "bin_start": 320.073895113726,
            "count": 0
           },
           {
            "bin_end": 472.3385899321154,
            "bin_start": 396.2062425229207,
            "count": 1
           },
           {
            "bin_end": 548.4709373413101,
            "bin_start": 472.3385899321154,
            "count": 3
           },
           {
            "bin_end": 624.6032847505048,
            "bin_start": 548.4709373413101,
            "count": 0
           },
           {
            "bin_end": 700.7356321596995,
            "bin_start": 624.6032847505048,
            "count": 0
           },
           {
            "bin_end": 776.8679795688943,
            "bin_start": 700.7356321596995,
            "count": 1
           }
          ],
          "max": 776.8679795688943,
          "min": 15.54450547694724,
          "nan_count": 0,
          "unique_count": 26
         }
        },
        {
         "dtype": "int64",
         "name": "_deepnote_index_column"
        }
       ],
       "row_count": 26,
       "rows_bottom": null,
       "rows_top": [
        {
         "Actual": 538,
         "Demographic": "Citizens 18 years and over",
         "Expected": 538,
         "_deepnote_index_column": 0
        },
        {
         "Actual": 112.8325321381604,
         "Demographic": "        18 to 29 years",
         "Expected": 114.48979746596342,
         "_deepnote_index_column": 1
        },
        {
         "Actual": 126.54106612378608,
         "Demographic": "        30 to 44 years",
         "Expected": 127.4474482866675,
         "_deepnote_index_column": 2
        },
        {
         "Actual": 178.919463695523,
         "Demographic": "        45 to 64 years",
         "Expected": 179.16713032687218,
         "_deepnote_index_column": 3
        },
        {
         "Actual": 119.70693804253051,
         "Demographic": "        65 years and over",
         "Expected": 116.89562392049692,
         "_deepnote_index_column": 4
        },
        {
         "Actual": 261.8682905529434,
         "Demographic": "        Male",
         "Expected": 260.8819596732995,
         "_deepnote_index_column": 5
        },
        {
         "Actual": 276.1317094470566,
         "Demographic": "        Female",
         "Expected": 277.1180403267005,
         "_deepnote_index_column": 6
        },
        {
         "Actual": 776.8679795688943,
         "Demographic": "White",
         "Expected": 767.7096773979065,
         "_deepnote_index_column": 7
        },
        {
         "Actual": 65.35016960383867,
         "Demographic": "        Black or African American alone",
         "Expected": 68.75612360849689,
         "_deepnote_index_column": 8
        },
        {
         "Actual": 26.14822937028193,
         "Demographic": "        Asian alone",
         "Expected": 23.65099586436653,
         "_deepnote_index_column": 9
        },
        {
         "Actual": 15.54450547694724,
         "Demographic": "Some Other Race alone",
         "Expected": 18.88454490530615,
         "_deepnote_index_column": 10
        },
        {
         "Actual": 17.105040530822226,
         "Demographic": "        Two or More Races",
         "Expected": 13.20602117043298,
         "_deepnote_index_column": 11
        },
        {
         "Actual": 54.0822592750802,
         "Demographic": "        Hispanic or Latino",
         "Expected": 73.72085799420559,
         "_deepnote_index_column": 12
        },
        {
         "Actual": 15.902472144155634,
         "Demographic": "        Less than 9th grade",
         "Expected": 16.997398238723505,
         "_deepnote_index_column": 13
        },
        {
         "Actual": 35.19373529477443,
         "Demographic": "        9th to 12th grade, no diploma",
         "Expected": 36.48839979190314,
         "_deepnote_index_column": 14
        },
        {
         "Actual": 158.6111464068993,
         "Demographic": "        High school graduate (includes equivalency)",
         "Expected": 149.6691452313101,
         "_deepnote_index_column": 15
        },
        {
         "Actual": 123.0460889066277,
         "Demographic": "        Some college, no degree",
         "Expected": 125.16311958827609,
         "_deepnote_index_column": 16
        },
        {
         "Actual": 46.75865586300898,
         "Demographic": "        Associate's degree",
         "Expected": 46.116768301347925,
         "_deepnote_index_column": 17
        },
        {
         "Actual": 100.00563664643155,
         "Demographic": "        Bachelor's degree",
         "Expected": 103.55652141038267,
         "_deepnote_index_column": 18
        },
        {
         "Actual": 58.482264738102444,
         "Demographic": "        Graduate or professional degree",
         "Expected": 60.00864743805656,
         "_deepnote_index_column": 19
        },
        {
         "Actual": 486.90379256107,
         "Demographic": "        High school degree or higher",
         "Expected": 484.51420196937335,
         "_deepnote_index_column": 20
        },
        {
         "Actual": 158.48790138453396,
         "Demographic": "        Bachelor's degree or higher",
         "Expected": 163.5651688484392,
         "_deepnote_index_column": 21
        },
        {
         "Actual": 522.075528896243,
         "Demographic": "        Total Citizens, 18 years and older, for whom poverty status is determined",
         "Expected": 523.2579259320413,
         "_deepnote_index_column": 22
        },
        {
         "Actual": 61.22025161739262,
         "Demographic": "        Income in the past 12 months below poverty level",
         "Expected": 59.7198051775475,
         "_deepnote_index_column": 23
        },
        {
         "Actual": 460.85527727885034,
         "Demographic": "        Income in the past 12 months at or above the poverty level",
         "Expected": 463.5381207544938,
         "_deepnote_index_column": 24
        },
        {
         "Actual": 18.908317560089284,
         "Demographic": "        Median Household Income for Households with a Citizen, Voting-Age Householder",
         "Expected": 7.346473183834622,
         "_deepnote_index_column": 25
        }
       ]
      },
      "text/html": [
       "<div>\n",
       "<style scoped>\n",
       "    .dataframe tbody tr th:only-of-type {\n",
       "        vertical-align: middle;\n",
       "    }\n",
       "\n",
       "    .dataframe tbody tr th {\n",
       "        vertical-align: top;\n",
       "    }\n",
       "\n",
       "    .dataframe thead th {\n",
       "        text-align: right;\n",
       "    }\n",
       "</style>\n",
       "<table border=\"1\" class=\"dataframe\">\n",
       "  <thead>\n",
       "    <tr style=\"text-align: right;\">\n",
       "      <th></th>\n",
       "      <th>Demographic</th>\n",
       "      <th>Expected</th>\n",
       "      <th>Actual</th>\n",
       "    </tr>\n",
       "  </thead>\n",
       "  <tbody>\n",
       "    <tr>\n",
       "      <th>0</th>\n",
       "      <td>Citizens 18 years and over</td>\n",
       "      <td>538.000000</td>\n",
       "      <td>538.000000</td>\n",
       "    </tr>\n",
       "    <tr>\n",
       "      <th>1</th>\n",
       "      <td>18 to 29 years</td>\n",
       "      <td>114.489797</td>\n",
       "      <td>112.832532</td>\n",
       "    </tr>\n",
       "    <tr>\n",
       "      <th>2</th>\n",
       "      <td>30 to 44 years</td>\n",
       "      <td>127.447448</td>\n",
       "      <td>126.541066</td>\n",
       "    </tr>\n",
       "    <tr>\n",
       "      <th>3</th>\n",
       "      <td>45 to 64 years</td>\n",
       "      <td>179.167130</td>\n",
       "      <td>178.919464</td>\n",
       "    </tr>\n",
       "    <tr>\n",
       "      <th>4</th>\n",
       "      <td>65 years and over</td>\n",
       "      <td>116.895624</td>\n",
       "      <td>119.706938</td>\n",
       "    </tr>\n",
       "    <tr>\n",
       "      <th>5</th>\n",
       "      <td>Male</td>\n",
       "      <td>260.881960</td>\n",
       "      <td>261.868291</td>\n",
       "    </tr>\n",
       "    <tr>\n",
       "      <th>6</th>\n",
       "      <td>Female</td>\n",
       "      <td>277.118040</td>\n",
       "      <td>276.131709</td>\n",
       "    </tr>\n",
       "    <tr>\n",
       "      <th>7</th>\n",
       "      <td>White</td>\n",
       "      <td>767.709677</td>\n",
       "      <td>776.867980</td>\n",
       "    </tr>\n",
       "    <tr>\n",
       "      <th>8</th>\n",
       "      <td>Black or African American alone</td>\n",
       "      <td>68.756124</td>\n",
       "      <td>65.350170</td>\n",
       "    </tr>\n",
       "    <tr>\n",
       "      <th>9</th>\n",
       "      <td>Asian alone</td>\n",
       "      <td>23.650996</td>\n",
       "      <td>26.148229</td>\n",
       "    </tr>\n",
       "    <tr>\n",
       "      <th>10</th>\n",
       "      <td>Some Other Race alone</td>\n",
       "      <td>18.884545</td>\n",
       "      <td>15.544505</td>\n",
       "    </tr>\n",
       "    <tr>\n",
       "      <th>11</th>\n",
       "      <td>Two or More Races</td>\n",
       "      <td>13.206021</td>\n",
       "      <td>17.105041</td>\n",
       "    </tr>\n",
       "    <tr>\n",
       "      <th>12</th>\n",
       "      <td>Hispanic or Latino</td>\n",
       "      <td>73.720858</td>\n",
       "      <td>54.082259</td>\n",
       "    </tr>\n",
       "    <tr>\n",
       "      <th>13</th>\n",
       "      <td>Less than 9th grade</td>\n",
       "      <td>16.997398</td>\n",
       "      <td>15.902472</td>\n",
       "    </tr>\n",
       "    <tr>\n",
       "      <th>14</th>\n",
       "      <td>9th to 12th grade, no diploma</td>\n",
       "      <td>36.488400</td>\n",
       "      <td>35.193735</td>\n",
       "    </tr>\n",
       "    <tr>\n",
       "      <th>15</th>\n",
       "      <td>High school graduate (includes equival...</td>\n",
       "      <td>149.669145</td>\n",
       "      <td>158.611146</td>\n",
       "    </tr>\n",
       "    <tr>\n",
       "      <th>16</th>\n",
       "      <td>Some college, no degree</td>\n",
       "      <td>125.163120</td>\n",
       "      <td>123.046089</td>\n",
       "    </tr>\n",
       "    <tr>\n",
       "      <th>17</th>\n",
       "      <td>Associate's degree</td>\n",
       "      <td>46.116768</td>\n",
       "      <td>46.758656</td>\n",
       "    </tr>\n",
       "    <tr>\n",
       "      <th>18</th>\n",
       "      <td>Bachelor's degree</td>\n",
       "      <td>103.556521</td>\n",
       "      <td>100.005637</td>\n",
       "    </tr>\n",
       "    <tr>\n",
       "      <th>19</th>\n",
       "      <td>Graduate or professional degree</td>\n",
       "      <td>60.008647</td>\n",
       "      <td>58.482265</td>\n",
       "    </tr>\n",
       "    <tr>\n",
       "      <th>20</th>\n",
       "      <td>High school degree or higher</td>\n",
       "      <td>484.514202</td>\n",
       "      <td>486.903793</td>\n",
       "    </tr>\n",
       "    <tr>\n",
       "      <th>21</th>\n",
       "      <td>Bachelor's degree or higher</td>\n",
       "      <td>163.565169</td>\n",
       "      <td>158.487901</td>\n",
       "    </tr>\n",
       "    <tr>\n",
       "      <th>22</th>\n",
       "      <td>Total Citizens, 18 years and older, fo...</td>\n",
       "      <td>523.257926</td>\n",
       "      <td>522.075529</td>\n",
       "    </tr>\n",
       "    <tr>\n",
       "      <th>23</th>\n",
       "      <td>Income in the past 12 months below pov...</td>\n",
       "      <td>59.719805</td>\n",
       "      <td>61.220252</td>\n",
       "    </tr>\n",
       "    <tr>\n",
       "      <th>24</th>\n",
       "      <td>Income in the past 12 months at or abo...</td>\n",
       "      <td>463.538121</td>\n",
       "      <td>460.855277</td>\n",
       "    </tr>\n",
       "    <tr>\n",
       "      <th>25</th>\n",
       "      <td>Median Household Income for Households...</td>\n",
       "      <td>7.346473</td>\n",
       "      <td>18.908318</td>\n",
       "    </tr>\n",
       "  </tbody>\n",
       "</table>\n",
       "</div>"
      ],
      "text/plain": [
       "                                          Demographic    Expected      Actual\n",
       "0                          Citizens 18 years and over  538.000000  538.000000\n",
       "1                                      18 to 29 years  114.489797  112.832532\n",
       "2                                      30 to 44 years  127.447448  126.541066\n",
       "3                                      45 to 64 years  179.167130  178.919464\n",
       "4                                   65 years and over  116.895624  119.706938\n",
       "5                                                Male  260.881960  261.868291\n",
       "6                                              Female  277.118040  276.131709\n",
       "7                                               White  767.709677  776.867980\n",
       "8                     Black or African American alone   68.756124   65.350170\n",
       "9                                         Asian alone   23.650996   26.148229\n",
       "10                              Some Other Race alone   18.884545   15.544505\n",
       "11                                  Two or More Races   13.206021   17.105041\n",
       "12                                 Hispanic or Latino   73.720858   54.082259\n",
       "13                                Less than 9th grade   16.997398   15.902472\n",
       "14                      9th to 12th grade, no diploma   36.488400   35.193735\n",
       "15          High school graduate (includes equival...  149.669145  158.611146\n",
       "16                            Some college, no degree  125.163120  123.046089\n",
       "17                                 Associate's degree   46.116768   46.758656\n",
       "18                                  Bachelor's degree  103.556521  100.005637\n",
       "19                    Graduate or professional degree   60.008647   58.482265\n",
       "20                       High school degree or higher  484.514202  486.903793\n",
       "21                        Bachelor's degree or higher  163.565169  158.487901\n",
       "22          Total Citizens, 18 years and older, fo...  523.257926  522.075529\n",
       "23          Income in the past 12 months below pov...   59.719805   61.220252\n",
       "24          Income in the past 12 months at or abo...  463.538121  460.855277\n",
       "25          Median Household Income for Households...    7.346473   18.908318"
      ]
     },
     "execution_count": 287,
     "metadata": {},
     "output_type": "execute_result"
    }
   ],
   "source": [
    "native_addition = expected_v_actual.iloc[10]\n",
    "expected_v_actual.iloc[11,:] += native_addition.values\n",
    "expected_v_actual.iat[11,0] = \"Some Other Race alone\"\n",
    "expected_v_actual = expected_v_actual.drop([10])\n",
    "expected_v_actual.index = np.arange(26)\n",
    "expected_v_actual"
   ]
  },
  {
   "cell_type": "code",
   "execution_count": 288,
   "metadata": {
    "cell_id": "00012-3e5212f3-f850-4170-a8e6-96b42e8827c6",
    "execution_millis": 3,
    "execution_start": 1605405358729,
    "output_cleared": false,
    "source_hash": "e226d995",
    "tags": []
   },
   "outputs": [],
   "source": [
    "expected_v_actual.to_csv('/home/jovyan/work/Electoral_census/Sanjay/Data/2018EvA.csv', index=False) "
   ]
  },
  {
   "cell_type": "code",
   "execution_count": 281,
   "metadata": {
    "cell_id": "00011-2fa453ed-3168-414e-98b5-040881d6ac18",
    "execution_millis": 0,
    "execution_start": 1605404692485,
    "output_cleared": false,
    "source_hash": "f5be5506",
    "tags": []
   },
   "outputs": [],
   "source": [
    "def exp_v_act(start_i, end_i):\n",
    "    table = expected_v_actual.iloc[start_i:end_i]\n",
    "    table['Actual'] = table['Actual'] - table['Expected']\n",
    "    g = sns.barplot(data=table, x='Demographic', y='Actual')\n",
    "    g.set_xticklabels(g.get_xticklabels(), rotation=90)\n",
    "    return g"
   ]
  },
  {
   "cell_type": "code",
   "execution_count": 282,
   "metadata": {
    "cell_id": "00012-42f35d99-7750-4d31-9ec0-6e013ddbc3e2",
    "execution_millis": 142,
    "execution_start": 1605404692486,
    "output_cleared": false,
    "source_hash": "65a0eb4f",
    "tags": []
   },
   "outputs": [
    {
     "name": "stderr",
     "output_type": "stream",
     "text": [
      "/opt/venv/lib/python3.7/site-packages/ipykernel_launcher.py:3: SettingWithCopyWarning: \n",
      "A value is trying to be set on a copy of a slice from a DataFrame.\n",
      "Try using .loc[row_indexer,col_indexer] = value instead\n",
      "\n",
      "See the caveats in the documentation: https://pandas.pydata.org/pandas-docs/stable/user_guide/indexing.html#returning-a-view-versus-a-copy\n",
      "  This is separate from the ipykernel package so we can avoid doing imports until\n"
     ]
    },
    {
     "data": {
      "text/plain": [
       "<AxesSubplot:xlabel='Demographic', ylabel='Actual'>"
      ]
     },
     "execution_count": 282,
     "metadata": {},
     "output_type": "execute_result"
    },
    {
     "data": {
      "image/png": "[encoded data removed]",
      "text/plain": [
       "<Figure size 432x288 with 1 Axes>"
      ]
     },
     "metadata": {
      "needs_background": "light"
     },
     "output_type": "display_data"
    }
   ],
   "source": [
    "male_female = exp_v_act(5,7)\n",
    "male_female"
   ]
  },
  {
   "cell_type": "code",
   "execution_count": 283,
   "metadata": {
    "cell_id": "00013-fae5b16b-98c0-4825-8a8c-7804e293bc02",
    "execution_millis": 126,
    "execution_start": 1605404692676,
    "output_cleared": false,
    "source_hash": "d45a979a",
    "tags": []
   },
   "outputs": [
    {
     "name": "stderr",
     "output_type": "stream",
     "text": [
      "/opt/venv/lib/python3.7/site-packages/ipykernel_launcher.py:3: SettingWithCopyWarning: \n",
      "A value is trying to be set on a copy of a slice from a DataFrame.\n",
      "Try using .loc[row_indexer,col_indexer] = value instead\n",
      "\n",
      "See the caveats in the documentation: https://pandas.pydata.org/pandas-docs/stable/user_guide/indexing.html#returning-a-view-versus-a-copy\n",
      "  This is separate from the ipykernel package so we can avoid doing imports until\n"
     ]
    },
    {
     "data": {
      "text/plain": [
       "<AxesSubplot:xlabel='Demographic', ylabel='Actual'>"
      ]
     },
     "execution_count": 283,
     "metadata": {},
     "output_type": "execute_result"
    },
    {
     "data": {
      "image/png": "[encoded data removed]",
      "text/plain": [
       "<Figure size 432x288 with 1 Axes>"
      ]
     },
     "metadata": {
      "needs_background": "light"
     },
     "output_type": "display_data"
    }
   ],
   "source": [
    "race_diff = exp_v_act(7,13)\n",
    "race_diff"
   ]
  },
  {
   "cell_type": "code",
   "execution_count": 283,
   "metadata": {
    "cell_id": "00014-867bc498-194a-424f-9e49-0dffafcccbba",
    "execution_millis": 0,
    "execution_start": 1605404692845,
    "output_cleared": false,
    "source_hash": "b623e53d",
    "tags": []
   },
   "outputs": [],
   "source": []
  }
 ],
 "metadata": {
  "deepnote_execution_queue": [],
  "deepnote_notebook_id": "85f362ea-f8ee-41dc-85c6-7faccb18cb76",
  "kernelspec": {
   "display_name": "Python 3",
   "language": "python",
   "name": "python3"
  },
  "language_info": {
   "codemirror_mode": {
    "name": "ipython",
    "version": 3
   },
   "file_extension": ".py",
   "mimetype": "text/x-python",
   "name": "python",
   "nbconvert_exporter": "python",
   "pygments_lexer": "ipython3",
   "version": "3.7.6"
  }
 },
 "nbformat": 4,
 "nbformat_minor": 2
}
