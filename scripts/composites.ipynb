{
 "cells": [
  {
   "cell_type": "code",
   "execution_count": 1,
   "metadata": {},
   "outputs": [],
   "source": [
    "import pandas as pd\n",
    "import numpy as np\n",
    "from matplotlib import pyplot as plt\n",
    "import seaborn as sns\n",
    "from individual_file import processor"
   ]
  },
  {
   "cell_type": "code",
   "execution_count": 2,
   "metadata": {},
   "outputs": [
    {
     "data": {
      "text/html": [
       "<div>\n",
       "<style scoped>\n",
       "    .dataframe tbody tr th:only-of-type {\n",
       "        vertical-align: middle;\n",
       "    }\n",
       "\n",
       "    .dataframe tbody tr th {\n",
       "        vertical-align: top;\n",
       "    }\n",
       "\n",
       "    .dataframe thead th {\n",
       "        text-align: right;\n",
       "    }\n",
       "</style>\n",
       "<table border=\"1\" class=\"dataframe\">\n",
       "  <thead>\n",
       "    <tr style=\"text-align: right;\">\n",
       "      <th></th>\n",
       "      <th>Label</th>\n",
       "      <th>2010</th>\n",
       "      <th>2011</th>\n",
       "      <th>2012</th>\n",
       "      <th>2013</th>\n",
       "      <th>2014</th>\n",
       "      <th>2015</th>\n",
       "      <th>2016</th>\n",
       "      <th>2017</th>\n",
       "      <th>2018</th>\n",
       "      <th>2019</th>\n",
       "    </tr>\n",
       "  </thead>\n",
       "  <tbody>\n",
       "    <tr>\n",
       "      <th>0</th>\n",
       "      <td>Total population</td>\n",
       "      <td>0.000000</td>\n",
       "      <td>0.000000</td>\n",
       "      <td>0.000000</td>\n",
       "      <td>0.000000</td>\n",
       "      <td>0.000000</td>\n",
       "      <td>0.000000</td>\n",
       "      <td>0.000000</td>\n",
       "      <td>0.000000</td>\n",
       "      <td>0.000000</td>\n",
       "      <td>0.000000</td>\n",
       "    </tr>\n",
       "    <tr>\n",
       "      <th>1</th>\n",
       "      <td>Male</td>\n",
       "      <td>0.156466</td>\n",
       "      <td>0.122810</td>\n",
       "      <td>0.138071</td>\n",
       "      <td>0.153884</td>\n",
       "      <td>0.149419</td>\n",
       "      <td>0.149592</td>\n",
       "      <td>0.152752</td>\n",
       "      <td>0.145460</td>\n",
       "      <td>0.123519</td>\n",
       "      <td>0.123209</td>\n",
       "    </tr>\n",
       "    <tr>\n",
       "      <th>2</th>\n",
       "      <td>Female</td>\n",
       "      <td>-0.156466</td>\n",
       "      <td>-0.122810</td>\n",
       "      <td>-0.138071</td>\n",
       "      <td>-0.153884</td>\n",
       "      <td>-0.149419</td>\n",
       "      <td>-0.149592</td>\n",
       "      <td>-0.152752</td>\n",
       "      <td>-0.145460</td>\n",
       "      <td>-0.123519</td>\n",
       "      <td>-0.123209</td>\n",
       "    </tr>\n",
       "    <tr>\n",
       "      <th>3</th>\n",
       "      <td>Sex ratio (males per 100 females)</td>\n",
       "      <td>-0.018866</td>\n",
       "      <td>-0.036165</td>\n",
       "      <td>-0.036866</td>\n",
       "      <td>-0.040606</td>\n",
       "      <td>-0.043992</td>\n",
       "      <td>-0.048359</td>\n",
       "      <td>-0.044623</td>\n",
       "      <td>0.028927</td>\n",
       "      <td>0.028717</td>\n",
       "      <td>0.028752</td>\n",
       "    </tr>\n",
       "    <tr>\n",
       "      <th>4</th>\n",
       "      <td>Under 5 years</td>\n",
       "      <td>-0.094031</td>\n",
       "      <td>-0.087530</td>\n",
       "      <td>-0.048968</td>\n",
       "      <td>-0.051093</td>\n",
       "      <td>-0.045823</td>\n",
       "      <td>-0.058620</td>\n",
       "      <td>-0.023609</td>\n",
       "      <td>-0.042236</td>\n",
       "      <td>-0.068529</td>\n",
       "      <td>-0.069713</td>\n",
       "    </tr>\n",
       "    <tr>\n",
       "      <th>...</th>\n",
       "      <td>...</td>\n",
       "      <td>...</td>\n",
       "      <td>...</td>\n",
       "      <td>...</td>\n",
       "      <td>...</td>\n",
       "      <td>...</td>\n",
       "      <td>...</td>\n",
       "      <td>...</td>\n",
       "      <td>...</td>\n",
       "      <td>...</td>\n",
       "      <td>...</td>\n",
       "    </tr>\n",
       "    <tr>\n",
       "      <th>68</th>\n",
       "      <td>Puerto Rican</td>\n",
       "      <td>-0.032882</td>\n",
       "      <td>-1.511352</td>\n",
       "      <td>-0.027184</td>\n",
       "      <td>-0.033534</td>\n",
       "      <td>0.761133</td>\n",
       "      <td>0.725298</td>\n",
       "      <td>-0.990907</td>\n",
       "      <td>-0.403978</td>\n",
       "      <td>-0.471374</td>\n",
       "      <td>-0.485394</td>\n",
       "    </tr>\n",
       "    <tr>\n",
       "      <th>69</th>\n",
       "      <td>Cuban</td>\n",
       "      <td>0.368466</td>\n",
       "      <td>0.751089</td>\n",
       "      <td>0.366594</td>\n",
       "      <td>0.379870</td>\n",
       "      <td>-1.245835</td>\n",
       "      <td>-1.310496</td>\n",
       "      <td>6.895091</td>\n",
       "      <td>-0.448287</td>\n",
       "      <td>-1.078123</td>\n",
       "      <td>-1.111224</td>\n",
       "    </tr>\n",
       "    <tr>\n",
       "      <th>70</th>\n",
       "      <td>Other Hispanic or Latino</td>\n",
       "      <td>-0.009381</td>\n",
       "      <td>-1.075642</td>\n",
       "      <td>-0.016817</td>\n",
       "      <td>-0.015325</td>\n",
       "      <td>0.153163</td>\n",
       "      <td>0.136950</td>\n",
       "      <td>8.372992</td>\n",
       "      <td>-1.109619</td>\n",
       "      <td>7.242535</td>\n",
       "      <td>7.313978</td>\n",
       "    </tr>\n",
       "    <tr>\n",
       "      <th>71</th>\n",
       "      <td>Not Hispanic or Latino</td>\n",
       "      <td>0.377846</td>\n",
       "      <td>0.146739</td>\n",
       "      <td>0.383411</td>\n",
       "      <td>0.395195</td>\n",
       "      <td>-0.040987</td>\n",
       "      <td>-0.031258</td>\n",
       "      <td>-1.414725</td>\n",
       "      <td>7.139223</td>\n",
       "      <td>8.637067</td>\n",
       "      <td>8.682231</td>\n",
       "    </tr>\n",
       "    <tr>\n",
       "      <th>72</th>\n",
       "      <td>White alone</td>\n",
       "      <td>1.536740</td>\n",
       "      <td>-0.034950</td>\n",
       "      <td>1.647846</td>\n",
       "      <td>1.645201</td>\n",
       "      <td>0.347088</td>\n",
       "      <td>0.411386</td>\n",
       "      <td>0.755228</td>\n",
       "      <td>8.623459</td>\n",
       "      <td>-1.375303</td>\n",
       "      <td>-1.377853</td>\n",
       "    </tr>\n",
       "  </tbody>\n",
       "</table>\n",
       "<p>73 rows × 11 columns</p>\n",
       "</div>"
      ],
      "text/plain": [
       "                                        Label      2010      2011      2012  \\\n",
       "0                            Total population  0.000000  0.000000  0.000000   \n",
       "1                                        Male  0.156466  0.122810  0.138071   \n",
       "2                                      Female -0.156466 -0.122810 -0.138071   \n",
       "3           Sex ratio (males per 100 females) -0.018866 -0.036165 -0.036866   \n",
       "4                               Under 5 years -0.094031 -0.087530 -0.048968   \n",
       "..                                        ...       ...       ...       ...   \n",
       "68                               Puerto Rican -0.032882 -1.511352 -0.027184   \n",
       "69                                      Cuban  0.368466  0.751089  0.366594   \n",
       "70                   Other Hispanic or Latino -0.009381 -1.075642 -0.016817   \n",
       "71                     Not Hispanic or Latino  0.377846  0.146739  0.383411   \n",
       "72                                White alone  1.536740 -0.034950  1.647846   \n",
       "\n",
       "        2013      2014      2015      2016      2017      2018      2019  \n",
       "0   0.000000  0.000000  0.000000  0.000000  0.000000  0.000000  0.000000  \n",
       "1   0.153884  0.149419  0.149592  0.152752  0.145460  0.123519  0.123209  \n",
       "2  -0.153884 -0.149419 -0.149592 -0.152752 -0.145460 -0.123519 -0.123209  \n",
       "3  -0.040606 -0.043992 -0.048359 -0.044623  0.028927  0.028717  0.028752  \n",
       "4  -0.051093 -0.045823 -0.058620 -0.023609 -0.042236 -0.068529 -0.069713  \n",
       "..       ...       ...       ...       ...       ...       ...       ...  \n",
       "68 -0.033534  0.761133  0.725298 -0.990907 -0.403978 -0.471374 -0.485394  \n",
       "69  0.379870 -1.245835 -1.310496  6.895091 -0.448287 -1.078123 -1.111224  \n",
       "70 -0.015325  0.153163  0.136950  8.372992 -1.109619  7.242535  7.313978  \n",
       "71  0.395195 -0.040987 -0.031258 -1.414725  7.139223  8.637067  8.682231  \n",
       "72  1.645201  0.347088  0.411386  0.755228  8.623459 -1.375303 -1.377853  \n",
       "\n",
       "[73 rows x 11 columns]"
      ]
     },
     "execution_count": 2,
     "metadata": {},
     "output_type": "execute_result"
    }
   ],
   "source": [
    "comp = pd.DataFrame()\n",
    "for number in range(2010,2020):\n",
    "    comp[str(number)] = processor(\"acs\\\\{}_full.csv\".format(number)).Delta\n",
    "comp.insert(0, \"Label\", processor(\"acs/2017_full.csv\").Label)\n",
    "comp"
   ]
  },
  {
   "cell_type": "code",
   "execution_count": 3,
   "metadata": {},
   "outputs": [
    {
     "data": {
      "text/plain": [
       "<matplotlib.axes._subplots.AxesSubplot at 0x12f4f1740c8>"
      ]
     },
     "execution_count": 3,
     "metadata": {},
     "output_type": "execute_result"
    },
    {
     "data": {
      "image/png": "[encoded data removed]",
      "text/plain": [
       "<Figure size 864x576 with 1 Axes>"
      ]
     },
     "metadata": {},
     "output_type": "display_data"
    }
   ],
   "source": [
    "def plotter(temp, plot_topic):\n",
    "    temp = temp.set_index(\"Label\")\n",
    "    temp = temp.transpose()\n",
    "\n",
    "    sns.set(rc={'figure.figsize':(12,8)})\n",
    "\n",
    "    # sns.set(style=\"whitegrid\") #White background \n",
    "    sns.set_style(\"darkgrid\", {\"axes.facecolor\": \".9\"}) #grey background\n",
    "\n",
    "    g = sns.lineplot(data = temp,linestyle = '-', linewidth = 3)\n",
    "    plt.legend(bbox_to_anchor=(1.05, 1), loc=2, borderaxespad=0.)\n",
    "\n",
    "    #axis line at y=0\n",
    "    g.axhline(0, color = 'black', linewidth = 3)\n",
    "\n",
    "    #labels + title\n",
    "    g.set_title(\"Electoral College Votes Disparity by \" + plot_topic, size=24)\n",
    "    g.set(xlabel='Year', ylabel= \"Electoral Votes Difference\")\n",
    "    return g\n",
    "\n",
    "def gender(data):\n",
    "    return plotter(data[1:3], \"Sex\")\n",
    "\n",
    "def age(data):\n",
    "    return plotter(data[8:14], \"Age\")\n",
    "\n",
    "\n",
    "gender(comp)"
   ]
  },
  {
   "cell_type": "code",
   "execution_count": 4,
   "metadata": {},
   "outputs": [
    {
     "data": {
      "text/html": [
       "<div>\n",
       "<style scoped>\n",
       "    .dataframe tbody tr th:only-of-type {\n",
       "        vertical-align: middle;\n",
       "    }\n",
       "\n",
       "    .dataframe tbody tr th {\n",
       "        vertical-align: top;\n",
       "    }\n",
       "\n",
       "    .dataframe thead th {\n",
       "        text-align: right;\n",
       "    }\n",
       "</style>\n",
       "<table border=\"1\" class=\"dataframe\">\n",
       "  <thead>\n",
       "    <tr style=\"text-align: right;\">\n",
       "      <th></th>\n",
       "      <th>Label</th>\n",
       "      <th>2010</th>\n",
       "      <th>2011</th>\n",
       "      <th>2012</th>\n",
       "      <th>2013</th>\n",
       "      <th>2014</th>\n",
       "      <th>2015</th>\n",
       "      <th>2016</th>\n",
       "      <th>2017</th>\n",
       "      <th>2018</th>\n",
       "      <th>2019</th>\n",
       "    </tr>\n",
       "  </thead>\n",
       "  <tbody>\n",
       "    <tr>\n",
       "      <th>1</th>\n",
       "      <td>Male</td>\n",
       "      <td>0.156466</td>\n",
       "      <td>0.12281</td>\n",
       "      <td>0.138071</td>\n",
       "      <td>0.153884</td>\n",
       "      <td>0.149419</td>\n",
       "      <td>0.149592</td>\n",
       "      <td>0.152752</td>\n",
       "      <td>0.14546</td>\n",
       "      <td>0.123519</td>\n",
       "      <td>0.123209</td>\n",
       "    </tr>\n",
       "    <tr>\n",
       "      <th>2</th>\n",
       "      <td>Female</td>\n",
       "      <td>-0.156466</td>\n",
       "      <td>-0.12281</td>\n",
       "      <td>-0.138071</td>\n",
       "      <td>-0.153884</td>\n",
       "      <td>-0.149419</td>\n",
       "      <td>-0.149592</td>\n",
       "      <td>-0.152752</td>\n",
       "      <td>-0.14546</td>\n",
       "      <td>-0.123519</td>\n",
       "      <td>-0.123209</td>\n",
       "    </tr>\n",
       "  </tbody>\n",
       "</table>\n",
       "</div>"
      ],
      "text/plain": [
       "            Label      2010     2011      2012      2013      2014      2015  \\\n",
       "1            Male  0.156466  0.12281  0.138071  0.153884  0.149419  0.149592   \n",
       "2          Female -0.156466 -0.12281 -0.138071 -0.153884 -0.149419 -0.149592   \n",
       "\n",
       "       2016     2017      2018      2019  \n",
       "1  0.152752  0.14546  0.123519  0.123209  \n",
       "2 -0.152752 -0.14546 -0.123519 -0.123209  "
      ]
     },
     "execution_count": 4,
     "metadata": {},
     "output_type": "execute_result"
    }
   ],
   "source": [
    "sex = comp[1: 3]\n",
    "sex"
   ]
  },
  {
   "cell_type": "code",
   "execution_count": 5,
   "metadata": {},
   "outputs": [
    {
     "data": {
      "text/html": [
       "<div>\n",
       "<style scoped>\n",
       "    .dataframe tbody tr th:only-of-type {\n",
       "        vertical-align: middle;\n",
       "    }\n",
       "\n",
       "    .dataframe tbody tr th {\n",
       "        vertical-align: top;\n",
       "    }\n",
       "\n",
       "    .dataframe thead th {\n",
       "        text-align: right;\n",
       "    }\n",
       "</style>\n",
       "<table border=\"1\" class=\"dataframe\">\n",
       "  <thead>\n",
       "    <tr style=\"text-align: right;\">\n",
       "      <th>Label</th>\n",
       "      <th>Male</th>\n",
       "      <th>Female</th>\n",
       "    </tr>\n",
       "  </thead>\n",
       "  <tbody>\n",
       "    <tr>\n",
       "      <th>Label</th>\n",
       "      <td>Male</td>\n",
       "      <td>Female</td>\n",
       "    </tr>\n",
       "    <tr>\n",
       "      <th>2010</th>\n",
       "      <td>0.156466</td>\n",
       "      <td>-0.156466</td>\n",
       "    </tr>\n",
       "    <tr>\n",
       "      <th>2011</th>\n",
       "      <td>0.12281</td>\n",
       "      <td>-0.12281</td>\n",
       "    </tr>\n",
       "    <tr>\n",
       "      <th>2012</th>\n",
       "      <td>0.138071</td>\n",
       "      <td>-0.138071</td>\n",
       "    </tr>\n",
       "    <tr>\n",
       "      <th>2013</th>\n",
       "      <td>0.153884</td>\n",
       "      <td>-0.153884</td>\n",
       "    </tr>\n",
       "    <tr>\n",
       "      <th>2014</th>\n",
       "      <td>0.149419</td>\n",
       "      <td>-0.149419</td>\n",
       "    </tr>\n",
       "    <tr>\n",
       "      <th>2015</th>\n",
       "      <td>0.149592</td>\n",
       "      <td>-0.149592</td>\n",
       "    </tr>\n",
       "    <tr>\n",
       "      <th>2016</th>\n",
       "      <td>0.152752</td>\n",
       "      <td>-0.152752</td>\n",
       "    </tr>\n",
       "    <tr>\n",
       "      <th>2017</th>\n",
       "      <td>0.14546</td>\n",
       "      <td>-0.14546</td>\n",
       "    </tr>\n",
       "    <tr>\n",
       "      <th>2018</th>\n",
       "      <td>0.123519</td>\n",
       "      <td>-0.123519</td>\n",
       "    </tr>\n",
       "    <tr>\n",
       "      <th>2019</th>\n",
       "      <td>0.123209</td>\n",
       "      <td>-0.123209</td>\n",
       "    </tr>\n",
       "  </tbody>\n",
       "</table>\n",
       "</div>"
      ],
      "text/plain": [
       "Label          Male          Female\n",
       "Label          Male          Female\n",
       "2010       0.156466       -0.156466\n",
       "2011        0.12281        -0.12281\n",
       "2012       0.138071       -0.138071\n",
       "2013       0.153884       -0.153884\n",
       "2014       0.149419       -0.149419\n",
       "2015       0.149592       -0.149592\n",
       "2016       0.152752       -0.152752\n",
       "2017        0.14546        -0.14546\n",
       "2018       0.123519       -0.123519\n",
       "2019       0.123209       -0.123209"
      ]
     },
     "execution_count": 5,
     "metadata": {},
     "output_type": "execute_result"
    }
   ],
   "source": [
    "sex = sex.T\n",
    "sex.columns = sex.iloc[0]\n",
    "sex"
   ]
  },
  {
   "cell_type": "code",
   "execution_count": 6,
   "metadata": {},
   "outputs": [
    {
     "data": {
      "text/html": [
       "<div>\n",
       "<style scoped>\n",
       "    .dataframe tbody tr th:only-of-type {\n",
       "        vertical-align: middle;\n",
       "    }\n",
       "\n",
       "    .dataframe tbody tr th {\n",
       "        vertical-align: top;\n",
       "    }\n",
       "\n",
       "    .dataframe thead th {\n",
       "        text-align: right;\n",
       "    }\n",
       "</style>\n",
       "<table border=\"1\" class=\"dataframe\">\n",
       "  <thead>\n",
       "    <tr style=\"text-align: right;\">\n",
       "      <th>Label</th>\n",
       "      <th>Male</th>\n",
       "      <th>Female</th>\n",
       "    </tr>\n",
       "  </thead>\n",
       "  <tbody>\n",
       "    <tr>\n",
       "      <th>2010</th>\n",
       "      <td>0.156466</td>\n",
       "      <td>-0.156466</td>\n",
       "    </tr>\n",
       "    <tr>\n",
       "      <th>2011</th>\n",
       "      <td>0.12281</td>\n",
       "      <td>-0.12281</td>\n",
       "    </tr>\n",
       "    <tr>\n",
       "      <th>2012</th>\n",
       "      <td>0.138071</td>\n",
       "      <td>-0.138071</td>\n",
       "    </tr>\n",
       "    <tr>\n",
       "      <th>2013</th>\n",
       "      <td>0.153884</td>\n",
       "      <td>-0.153884</td>\n",
       "    </tr>\n",
       "    <tr>\n",
       "      <th>2014</th>\n",
       "      <td>0.149419</td>\n",
       "      <td>-0.149419</td>\n",
       "    </tr>\n",
       "    <tr>\n",
       "      <th>2015</th>\n",
       "      <td>0.149592</td>\n",
       "      <td>-0.149592</td>\n",
       "    </tr>\n",
       "    <tr>\n",
       "      <th>2016</th>\n",
       "      <td>0.152752</td>\n",
       "      <td>-0.152752</td>\n",
       "    </tr>\n",
       "    <tr>\n",
       "      <th>2017</th>\n",
       "      <td>0.14546</td>\n",
       "      <td>-0.14546</td>\n",
       "    </tr>\n",
       "    <tr>\n",
       "      <th>2018</th>\n",
       "      <td>0.123519</td>\n",
       "      <td>-0.123519</td>\n",
       "    </tr>\n",
       "    <tr>\n",
       "      <th>2019</th>\n",
       "      <td>0.123209</td>\n",
       "      <td>-0.123209</td>\n",
       "    </tr>\n",
       "  </tbody>\n",
       "</table>\n",
       "</div>"
      ],
      "text/plain": [
       "Label         Male         Female\n",
       "2010      0.156466      -0.156466\n",
       "2011       0.12281       -0.12281\n",
       "2012      0.138071      -0.138071\n",
       "2013      0.153884      -0.153884\n",
       "2014      0.149419      -0.149419\n",
       "2015      0.149592      -0.149592\n",
       "2016      0.152752      -0.152752\n",
       "2017       0.14546       -0.14546\n",
       "2018      0.123519      -0.123519\n",
       "2019      0.123209      -0.123209"
      ]
     },
     "execution_count": 6,
     "metadata": {},
     "output_type": "execute_result"
    }
   ],
   "source": [
    "temp = sex.drop(index=\"Label\")\n",
    "temp"
   ]
  },
  {
   "cell_type": "code",
   "execution_count": 7,
   "metadata": {},
   "outputs": [],
   "source": [
    "males = list(temp.iloc[:, 0])\n",
    "females = list(temp.iloc[:, 1])"
   ]
  },
  {
   "cell_type": "code",
   "execution_count": 8,
   "metadata": {},
   "outputs": [],
   "source": [
    "females.extend(males)\n",
    "gender = [int(i/10) for i in range(20)]"
   ]
  },
  {
   "cell_type": "code",
   "execution_count": 9,
   "metadata": {},
   "outputs": [],
   "source": [
    "pog = pd.DataFrame(\n",
    "{\n",
    "    \"Delta\": females,\n",
    "    \"Gender\": gender\n",
    "})"
   ]
  },
  {
   "cell_type": "code",
   "execution_count": 10,
   "metadata": {},
   "outputs": [
    {
     "name": "stderr",
     "output_type": "stream",
     "text": [
      "*c* argument looks like a single numeric RGB or RGBA sequence, which should be avoided as value-mapping will have precedence in case its length matches with *x* & *y*.  Please use the *color* keyword-argument or provide a 2-D array with a single row if you intend to specify the same RGB or RGBA value for all points.\n"
     ]
    },
    {
     "data": {
      "text/plain": [
       "<matplotlib.axes._subplots.AxesSubplot at 0x12f519f0088>"
      ]
     },
     "execution_count": 10,
     "metadata": {},
     "output_type": "execute_result"
    },
    {
     "data": {
      "image/png": "[encoded data removed]",
      "text/plain": [
       "<Figure size 864x576 with 1 Axes>"
      ]
     },
     "metadata": {},
     "output_type": "display_data"
    }
   ],
   "source": [
    "pog.plot(kind = \"scatter\", x=\"Delta\", y=\"Gender\")"
   ]
  },
  {
   "cell_type": "code",
   "execution_count": 11,
   "metadata": {},
   "outputs": [],
   "source": [
    "from sklearn.utils import shuffle"
   ]
  },
  {
   "cell_type": "code",
   "execution_count": 12,
   "metadata": {},
   "outputs": [
    {
     "data": {
      "text/html": [
       "<div>\n",
       "<style scoped>\n",
       "    .dataframe tbody tr th:only-of-type {\n",
       "        vertical-align: middle;\n",
       "    }\n",
       "\n",
       "    .dataframe tbody tr th {\n",
       "        vertical-align: top;\n",
       "    }\n",
       "\n",
       "    .dataframe thead th {\n",
       "        text-align: right;\n",
       "    }\n",
       "</style>\n",
       "<table border=\"1\" class=\"dataframe\">\n",
       "  <thead>\n",
       "    <tr style=\"text-align: right;\">\n",
       "      <th></th>\n",
       "      <th>Delta</th>\n",
       "      <th>Gender</th>\n",
       "    </tr>\n",
       "  </thead>\n",
       "  <tbody>\n",
       "    <tr>\n",
       "      <th>9</th>\n",
       "      <td>-0.123209</td>\n",
       "      <td>0</td>\n",
       "    </tr>\n",
       "    <tr>\n",
       "      <th>15</th>\n",
       "      <td>0.149592</td>\n",
       "      <td>1</td>\n",
       "    </tr>\n",
       "    <tr>\n",
       "      <th>11</th>\n",
       "      <td>0.122810</td>\n",
       "      <td>1</td>\n",
       "    </tr>\n",
       "    <tr>\n",
       "      <th>14</th>\n",
       "      <td>0.149419</td>\n",
       "      <td>1</td>\n",
       "    </tr>\n",
       "    <tr>\n",
       "      <th>0</th>\n",
       "      <td>-0.156466</td>\n",
       "      <td>0</td>\n",
       "    </tr>\n",
       "    <tr>\n",
       "      <th>5</th>\n",
       "      <td>-0.149592</td>\n",
       "      <td>0</td>\n",
       "    </tr>\n",
       "    <tr>\n",
       "      <th>1</th>\n",
       "      <td>-0.122810</td>\n",
       "      <td>0</td>\n",
       "    </tr>\n",
       "    <tr>\n",
       "      <th>16</th>\n",
       "      <td>0.152752</td>\n",
       "      <td>1</td>\n",
       "    </tr>\n",
       "    <tr>\n",
       "      <th>17</th>\n",
       "      <td>0.145460</td>\n",
       "      <td>1</td>\n",
       "    </tr>\n",
       "    <tr>\n",
       "      <th>8</th>\n",
       "      <td>-0.123519</td>\n",
       "      <td>0</td>\n",
       "    </tr>\n",
       "    <tr>\n",
       "      <th>13</th>\n",
       "      <td>0.153884</td>\n",
       "      <td>1</td>\n",
       "    </tr>\n",
       "    <tr>\n",
       "      <th>4</th>\n",
       "      <td>-0.149419</td>\n",
       "      <td>0</td>\n",
       "    </tr>\n",
       "    <tr>\n",
       "      <th>7</th>\n",
       "      <td>-0.145460</td>\n",
       "      <td>0</td>\n",
       "    </tr>\n",
       "    <tr>\n",
       "      <th>3</th>\n",
       "      <td>-0.153884</td>\n",
       "      <td>0</td>\n",
       "    </tr>\n",
       "    <tr>\n",
       "      <th>12</th>\n",
       "      <td>0.138071</td>\n",
       "      <td>1</td>\n",
       "    </tr>\n",
       "    <tr>\n",
       "      <th>18</th>\n",
       "      <td>0.123519</td>\n",
       "      <td>1</td>\n",
       "    </tr>\n",
       "    <tr>\n",
       "      <th>2</th>\n",
       "      <td>-0.138071</td>\n",
       "      <td>0</td>\n",
       "    </tr>\n",
       "    <tr>\n",
       "      <th>19</th>\n",
       "      <td>0.123209</td>\n",
       "      <td>1</td>\n",
       "    </tr>\n",
       "    <tr>\n",
       "      <th>6</th>\n",
       "      <td>-0.152752</td>\n",
       "      <td>0</td>\n",
       "    </tr>\n",
       "    <tr>\n",
       "      <th>10</th>\n",
       "      <td>0.156466</td>\n",
       "      <td>1</td>\n",
       "    </tr>\n",
       "  </tbody>\n",
       "</table>\n",
       "</div>"
      ],
      "text/plain": [
       "       Delta  Gender\n",
       "9  -0.123209       0\n",
       "15  0.149592       1\n",
       "11  0.122810       1\n",
       "14  0.149419       1\n",
       "0  -0.156466       0\n",
       "5  -0.149592       0\n",
       "1  -0.122810       0\n",
       "16  0.152752       1\n",
       "17  0.145460       1\n",
       "8  -0.123519       0\n",
       "13  0.153884       1\n",
       "4  -0.149419       0\n",
       "7  -0.145460       0\n",
       "3  -0.153884       0\n",
       "12  0.138071       1\n",
       "18  0.123519       1\n",
       "2  -0.138071       0\n",
       "19  0.123209       1\n",
       "6  -0.152752       0\n",
       "10  0.156466       1"
      ]
     },
     "execution_count": 12,
     "metadata": {},
     "output_type": "execute_result"
    }
   ],
   "source": [
    "pog = shuffle(pog)\n",
    "pog"
   ]
  },
  {
   "cell_type": "code",
   "execution_count": 13,
   "metadata": {},
   "outputs": [],
   "source": [
    "from sklearn.model_selection import train_test_split"
   ]
  },
  {
   "cell_type": "code",
   "execution_count": 14,
   "metadata": {},
   "outputs": [
    {
     "data": {
      "text/html": [
       "<div>\n",
       "<style scoped>\n",
       "    .dataframe tbody tr th:only-of-type {\n",
       "        vertical-align: middle;\n",
       "    }\n",
       "\n",
       "    .dataframe tbody tr th {\n",
       "        vertical-align: top;\n",
       "    }\n",
       "\n",
       "    .dataframe thead th {\n",
       "        text-align: right;\n",
       "    }\n",
       "</style>\n",
       "<table border=\"1\" class=\"dataframe\">\n",
       "  <thead>\n",
       "    <tr style=\"text-align: right;\">\n",
       "      <th></th>\n",
       "      <th>Delta</th>\n",
       "      <th>Gender</th>\n",
       "    </tr>\n",
       "  </thead>\n",
       "  <tbody>\n",
       "    <tr>\n",
       "      <th>0</th>\n",
       "      <td>-0.123209</td>\n",
       "      <td>0</td>\n",
       "    </tr>\n",
       "    <tr>\n",
       "      <th>1</th>\n",
       "      <td>0.149592</td>\n",
       "      <td>1</td>\n",
       "    </tr>\n",
       "    <tr>\n",
       "      <th>2</th>\n",
       "      <td>0.122810</td>\n",
       "      <td>1</td>\n",
       "    </tr>\n",
       "    <tr>\n",
       "      <th>3</th>\n",
       "      <td>0.149419</td>\n",
       "      <td>1</td>\n",
       "    </tr>\n",
       "    <tr>\n",
       "      <th>4</th>\n",
       "      <td>-0.156466</td>\n",
       "      <td>0</td>\n",
       "    </tr>\n",
       "    <tr>\n",
       "      <th>5</th>\n",
       "      <td>-0.149592</td>\n",
       "      <td>0</td>\n",
       "    </tr>\n",
       "    <tr>\n",
       "      <th>6</th>\n",
       "      <td>-0.122810</td>\n",
       "      <td>0</td>\n",
       "    </tr>\n",
       "    <tr>\n",
       "      <th>7</th>\n",
       "      <td>0.152752</td>\n",
       "      <td>1</td>\n",
       "    </tr>\n",
       "    <tr>\n",
       "      <th>8</th>\n",
       "      <td>0.145460</td>\n",
       "      <td>1</td>\n",
       "    </tr>\n",
       "    <tr>\n",
       "      <th>9</th>\n",
       "      <td>-0.123519</td>\n",
       "      <td>0</td>\n",
       "    </tr>\n",
       "    <tr>\n",
       "      <th>10</th>\n",
       "      <td>0.153884</td>\n",
       "      <td>1</td>\n",
       "    </tr>\n",
       "    <tr>\n",
       "      <th>11</th>\n",
       "      <td>-0.149419</td>\n",
       "      <td>0</td>\n",
       "    </tr>\n",
       "    <tr>\n",
       "      <th>12</th>\n",
       "      <td>-0.145460</td>\n",
       "      <td>0</td>\n",
       "    </tr>\n",
       "    <tr>\n",
       "      <th>13</th>\n",
       "      <td>-0.153884</td>\n",
       "      <td>0</td>\n",
       "    </tr>\n",
       "    <tr>\n",
       "      <th>14</th>\n",
       "      <td>0.138071</td>\n",
       "      <td>1</td>\n",
       "    </tr>\n",
       "    <tr>\n",
       "      <th>15</th>\n",
       "      <td>0.123519</td>\n",
       "      <td>1</td>\n",
       "    </tr>\n",
       "    <tr>\n",
       "      <th>16</th>\n",
       "      <td>-0.138071</td>\n",
       "      <td>0</td>\n",
       "    </tr>\n",
       "    <tr>\n",
       "      <th>17</th>\n",
       "      <td>0.123209</td>\n",
       "      <td>1</td>\n",
       "    </tr>\n",
       "    <tr>\n",
       "      <th>18</th>\n",
       "      <td>-0.152752</td>\n",
       "      <td>0</td>\n",
       "    </tr>\n",
       "    <tr>\n",
       "      <th>19</th>\n",
       "      <td>0.156466</td>\n",
       "      <td>1</td>\n",
       "    </tr>\n",
       "  </tbody>\n",
       "</table>\n",
       "</div>"
      ],
      "text/plain": [
       "       Delta  Gender\n",
       "0  -0.123209       0\n",
       "1   0.149592       1\n",
       "2   0.122810       1\n",
       "3   0.149419       1\n",
       "4  -0.156466       0\n",
       "5  -0.149592       0\n",
       "6  -0.122810       0\n",
       "7   0.152752       1\n",
       "8   0.145460       1\n",
       "9  -0.123519       0\n",
       "10  0.153884       1\n",
       "11 -0.149419       0\n",
       "12 -0.145460       0\n",
       "13 -0.153884       0\n",
       "14  0.138071       1\n",
       "15  0.123519       1\n",
       "16 -0.138071       0\n",
       "17  0.123209       1\n",
       "18 -0.152752       0\n",
       "19  0.156466       1"
      ]
     },
     "execution_count": 14,
     "metadata": {},
     "output_type": "execute_result"
    }
   ],
   "source": [
    "pog.index = [*range(20)]\n",
    "pog"
   ]
  },
  {
   "cell_type": "code",
   "execution_count": 15,
   "metadata": {},
   "outputs": [],
   "source": [
    "X_train, X_test, y_train, y_test = train_test_split(pog.Delta, pog.Gender, test_size = 0.3)"
   ]
  },
  {
   "cell_type": "code",
   "execution_count": 16,
   "metadata": {},
   "outputs": [],
   "source": [
    "from sklearn.linear_model import LogisticRegression"
   ]
  },
  {
   "cell_type": "code",
   "execution_count": 17,
   "metadata": {},
   "outputs": [],
   "source": [
    "model = LogisticRegression()"
   ]
  },
  {
   "cell_type": "code",
   "execution_count": 18,
   "metadata": {},
   "outputs": [
    {
     "name": "stderr",
     "output_type": "stream",
     "text": [
      "C:\\Users\\Aref\\anaconda3\\lib\\site-packages\\sklearn\\utils\\validation.py:73: DataConversionWarning: A column-vector y was passed when a 1d array was expected. Please change the shape of y to (n_samples, ), for example using ravel().\n",
      "  return f(**kwargs)\n"
     ]
    },
    {
     "data": {
      "text/plain": [
       "LogisticRegression()"
      ]
     },
     "execution_count": 18,
     "metadata": {},
     "output_type": "execute_result"
    }
   ],
   "source": [
    "model.fit(X_train.values.reshape(-1,1), y_train.values.reshape(-1,1))"
   ]
  },
  {
   "cell_type": "code",
   "execution_count": 19,
   "metadata": {},
   "outputs": [],
   "source": [
    "X_train = X_train.values.reshape(-1,1)"
   ]
  },
  {
   "cell_type": "code",
   "execution_count": 20,
   "metadata": {},
   "outputs": [
    {
     "data": {
      "text/plain": [
       "0.3333333333333333"
      ]
     },
     "execution_count": 20,
     "metadata": {},
     "output_type": "execute_result"
    }
   ],
   "source": [
    "model.score(X_test.values.reshape(-1,1), y_test.values.reshape(-1,1))"
   ]
  },
  {
   "cell_type": "code",
   "execution_count": 26,
   "metadata": {},
   "outputs": [
    {
     "data": {
      "text/plain": [
       "array([[ 0.15275193],\n",
       "       [-0.12320949],\n",
       "       [-0.15388399],\n",
       "       [ 0.1564656 ],\n",
       "       [-0.14959203],\n",
       "       [-0.1380708 ]])"
      ]
     },
     "execution_count": 26,
     "metadata": {},
     "output_type": "execute_result"
    }
   ],
   "source": [
    "X_test.values.reshape(-1,1)"
   ]
  },
  {
   "cell_type": "code",
   "execution_count": 23,
   "metadata": {},
   "outputs": [
    {
     "data": {
      "text/plain": [
       "array([[0.39895341, 0.60104659],\n",
       "       [0.4597296 , 0.5402704 ],\n",
       "       [0.46659465, 0.53340535],\n",
       "       [0.39815213, 0.60184787],\n",
       "       [0.46563327, 0.53436673],\n",
       "       [0.46305386, 0.53694614]])"
      ]
     },
     "execution_count": 23,
     "metadata": {},
     "output_type": "execute_result"
    }
   ],
   "source": [
    "model.predict_proba(X_test.values.reshape(-1,1))"
   ]
  },
  {
   "cell_type": "code",
   "execution_count": 32,
   "metadata": {},
   "outputs": [
    {
     "data": {
      "text/plain": [
       "[<matplotlib.lines.Line2D at 0x12f5421df48>]"
      ]
     },
     "execution_count": 32,
     "metadata": {},
     "output_type": "execute_result"
    },
    {
     "data": {
      "image/png": "[encoded data removed]",
      "text/plain": [
       "<Figure size 864x576 with 1 Axes>"
      ]
     },
     "metadata": {},
     "output_type": "display_data"
    }
   ],
   "source": [
    "plt.plot(\n",
    "    pog.Delta.values.reshape(-1,1) ,\n",
    "    model.predict_proba(pog.Delta.values.reshape(-1,1))[:,1]\n",
    "           )"
   ]
  },
  {
   "cell_type": "code",
   "execution_count": 33,
   "metadata": {},
   "outputs": [
    {
     "name": "stderr",
     "output_type": "stream",
     "text": [
      "C:\\Users\\Aref\\anaconda3\\lib\\site-packages\\statsmodels\\genmod\\families\\links.py:188: RuntimeWarning: overflow encountered in exp\n",
      "  t = np.exp(-z)\n",
      "C:\\Users\\Aref\\anaconda3\\lib\\site-packages\\statsmodels\\genmod\\families\\family.py:893: RuntimeWarning: divide by zero encountered in true_divide\n",
      "  endog_mu = self._clean(endog / mu)\n",
      "C:\\Users\\Aref\\anaconda3\\lib\\site-packages\\statsmodels\\genmod\\families\\family.py:894: RuntimeWarning: divide by zero encountered in true_divide\n",
      "  n_endog_mu = self._clean((1. - endog) / (1. - mu))\n"
     ]
    },
    {
     "data": {
      "text/plain": [
       "<matplotlib.axes._subplots.AxesSubplot at 0x12f54448388>"
      ]
     },
     "execution_count": 33,
     "metadata": {},
     "output_type": "execute_result"
    },
    {
     "data": {
      "image/png": "[encoded data removed]",
      "text/plain": [
       "<Figure size 864x576 with 1 Axes>"
      ]
     },
     "metadata": {},
     "output_type": "display_data"
    }
   ],
   "source": [
    "sns.regplot(x=\"Gender\", y=\"Delta\", \n",
    "            data=pog, logistic=True, ci = None)"
   ]
  },
  {
   "cell_type": "code",
   "execution_count": null,
   "metadata": {},
   "outputs": [],
   "source": []
  }
 ],
 "metadata": {
  "kernelspec": {
   "display_name": "Python 3",
   "language": "python",
   "name": "python3"
  },
  "language_info": {
   "codemirror_mode": {
    "name": "ipython",
    "version": 3
   },
   "file_extension": ".py",
   "mimetype": "text/x-python",
   "name": "python",
   "nbconvert_exporter": "python",
   "pygments_lexer": "ipython3",
   "version": "3.7.6"
  }
 },
 "nbformat": 4,
 "nbformat_minor": 4
}
